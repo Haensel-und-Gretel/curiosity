{
 "cells": [
  {
   "cell_type": "code",
   "execution_count": 215,
   "metadata": {},
   "outputs": [
    {
     "data": {
      "text/plain": [
       "\"../TMazeDrifterDistractor\""
      ]
     },
     "execution_count": 215,
     "metadata": {},
     "output_type": "execute_result"
    }
   ],
   "source": [
    "using Plots; gr()\n",
    "using Reproduce\n",
    "using FileIO\n",
    "using Statistics\n",
    "using ProgressMeter\n",
    "using JLD2\n",
    "data_home = \"../TMazeDrifterDistractor\""
   ]
  },
  {
   "cell_type": "code",
   "execution_count": 216,
   "metadata": {},
   "outputs": [
    {
     "data": {
      "text/plain": [
       "\"/home/matthewmcleod/Documents/Masters/curiosity/plotting\""
      ]
     },
     "execution_count": 216,
     "metadata": {},
     "output_type": "execute_result"
    }
   ],
   "source": [
    "pwd()"
   ]
  },
  {
   "cell_type": "markdown",
   "metadata": {},
   "source": [
    "# Plotting"
   ]
  },
  {
   "cell_type": "code",
   "execution_count": 217,
   "metadata": {},
   "outputs": [],
   "source": [
    "ic = ItemCollection(joinpath(data_home, \"data\"));"
   ]
  },
  {
   "cell_type": "code",
   "execution_count": 218,
   "metadata": {},
   "outputs": [
    {
     "data": {
      "text/plain": [
       "Dict{String,Array} with 4 entries:\n",
       "  \"demon_learner\" => [\"Q\", \"SR\"]\n",
       "  \"demon_eta\"     => [0.25, 0.5, 1.0]\n",
       "  \"demon_opt\"     => [\"Auto\", \"Descent\"]\n",
       "  \"seed\"          => [1, 2, 3, 4, 5, 6, 7, 8, 9, 10, 11, 12, 13, 14, 15]"
      ]
     },
     "execution_count": 218,
     "metadata": {},
     "output_type": "execute_result"
    }
   ],
   "source": [
    "swept_params = diff(ic)\n"
   ]
  },
  {
   "cell_type": "code",
   "execution_count": 219,
   "metadata": {},
   "outputs": [
    {
     "data": {
      "text/plain": [
       "load_results (generic function with 1 method)"
      ]
     },
     "execution_count": 219,
     "metadata": {},
     "output_type": "execute_result"
    }
   ],
   "source": [
    "function load_results(ic, logger_key; return_type = \"tensor\")\n",
    "    num_results = length(ic)\n",
    "    results = []\n",
    "    for itm in ic.items\n",
    "        data = FileIO.load(joinpath(itm.folder_str, \"results.jld2\"))[\"results\"]\n",
    "        push!(results,data[logger_key])\n",
    "    end\n",
    "    \n",
    "    if return_type == \"tensor\"\n",
    "        return cat(results..., dims = 3)\n",
    "    elseif return_type == \"array\"\n",
    "        return results\n",
    "    end\n",
    "end"
   ]
  },
  {
   "cell_type": "code",
   "execution_count": 220,
   "metadata": {},
   "outputs": [
    {
     "data": {
      "text/plain": [
       "split_algo (generic function with 1 method)"
      ]
     },
     "execution_count": 220,
     "metadata": {},
     "output_type": "execute_result"
    }
   ],
   "source": [
    "# After implementing, I think I saw there is a Iterators.product that does this?\n",
    "function combine(dict_arr, key, vals)\n",
    "    new_dict_arr = []\n",
    "    for dict in dict_arr\n",
    "        for val in vals\n",
    "            new_dict = deepcopy(Dict(dict))\n",
    "            new_dict[key] = val\n",
    "            push!(new_dict_arr, new_dict)\n",
    "        end\n",
    "    end\n",
    "    return new_dict_arr\n",
    "end\n",
    "\n",
    "function split_algo(algo_ic, swept_params)\n",
    "    println(swept_params)\n",
    "    dicts = [Dict()]\n",
    "    for k in swept_params\n",
    "        list_of_params = diff(algo_ic)[k]\n",
    "        dicts = combine(dicts, k, list_of_params)\n",
    "    end\n",
    "    return dicts\n",
    "end"
   ]
  },
  {
   "cell_type": "code",
   "execution_count": 221,
   "metadata": {},
   "outputs": [
    {
     "name": "stdout",
     "output_type": "stream",
     "text": [
      "[\"demon_opt\", \"demon_learner\"]\n"
     ]
    },
    {
     "data": {
      "text/plain": [
       "4-element Array{Any,1}:\n",
       " Dict{Any,Any}(\"demon_learner\" => \"Q\",\"demon_opt\" => \"Auto\")\n",
       " Dict{Any,Any}(\"demon_learner\" => \"SR\",\"demon_opt\" => \"Auto\")\n",
       " Dict{Any,Any}(\"demon_learner\" => \"Q\",\"demon_opt\" => \"Descent\")\n",
       " Dict{Any,Any}(\"demon_learner\" => \"SR\",\"demon_opt\" => \"Descent\")"
      ]
     },
     "execution_count": 221,
     "metadata": {},
     "output_type": "execute_result"
    }
   ],
   "source": [
    "algo_divisor_keys = [\"demon_opt\", \"demon_learner\"]\n",
    "# algo_divisor_keys = [\"use_external_reward\",\"demon_learner\"]\n",
    "algo_divisors = split_algo(ic, algo_divisor_keys)"
   ]
  },
  {
   "cell_type": "code",
   "execution_count": 222,
   "metadata": {},
   "outputs": [
    {
     "name": "stdout",
     "output_type": "stream",
     "text": [
      "[\"demon_eta\"]\n"
     ]
    },
    {
     "data": {
      "text/plain": [
       "3-element Array{Any,1}:\n",
       " Dict{Any,Any}(\"demon_eta\" => 0.25)\n",
       " Dict{Any,Any}(\"demon_eta\" => 0.5)\n",
       " Dict{Any,Any}(\"demon_eta\" => 1.0)"
      ]
     },
     "execution_count": 222,
     "metadata": {},
     "output_type": "execute_result"
    }
   ],
   "source": [
    "# sweep_keys = [\"behaviour_alpha\",\"demon_alpha\"]\n",
    "sweep_keys = [\"demon_eta\"]\n",
    "sweep_divisors = split_algo(ic,sweep_keys)"
   ]
  },
  {
   "cell_type": "code",
   "execution_count": 223,
   "metadata": {},
   "outputs": [
    {
     "data": {
      "text/plain": [
       "get_best (generic function with 1 method)"
      ]
     },
     "execution_count": 223,
     "metadata": {},
     "output_type": "execute_result"
    }
   ],
   "source": [
    "function get_best(ic, sweep_params, metric)\n",
    "    splits = split_algo(ic,sweep_params)\n",
    "    errors = ones(length(splits)) * Inf\n",
    "    for (ind, split) in enumerate(splits)\n",
    "        res = load_results(search(ic, split), metric)\n",
    "        error = mean(res)\n",
    "        errors[ind] = error\n",
    "    end\n",
    "    low_err, low_err_ind = findmin(errors)\n",
    "    println(errors)\n",
    "    \n",
    "    return search(ic, splits[low_err_ind])\n",
    "end"
   ]
  },
  {
   "cell_type": "code",
   "execution_count": 224,
   "metadata": {},
   "outputs": [
    {
     "data": {
      "text/plain": [
       "get_stats (generic function with 1 method)"
      ]
     },
     "execution_count": 224,
     "metadata": {},
     "output_type": "execute_result"
    }
   ],
   "source": [
    "function get_stats(data;per_gvf=false)\n",
    "    mean_per_gvf, std_per_gvf = mean(data,dims=3)[:,:,1], std(data,dims=3)[:,:,1]\n",
    "    return a,b = if per_gvf == true\n",
    "        mean_per_gvf, std_per_gvf\n",
    "    else\n",
    "        mean(mean_per_gvf,dims=1)[1,:], mean(std_per_gvf,dims=1)[1,:]\n",
    "    end\n",
    "end"
   ]
  },
  {
   "cell_type": "code",
   "execution_count": 225,
   "metadata": {},
   "outputs": [
    {
     "name": "stdout",
     "output_type": "stream",
     "text": [
      "[\"demon_eta\"]\n"
     ]
    },
    {
     "ename": "LoadError",
     "evalue": "\u001b[91mArgumentError: No file exists at given path: ../TMazeDrifterDistractor/data/RP_0_0x1464c7f85fd1fa1e/results.jld2\u001b[39m",
     "output_type": "error",
     "traceback": [
      "\u001b[91mArgumentError: No file exists at given path: ../TMazeDrifterDistractor/data/RP_0_0x1464c7f85fd1fa1e/results.jld2\u001b[39m",
      "",
      "Stacktrace:",
      " [1] checkpath_load at /home/matthewmcleod/.julia/packages/FileIO/AmppF/src/loadsave.jl:167 [inlined]",
      " [2] load(::String; options::Base.Iterators.Pairs{Union{},Union{},Tuple{},NamedTuple{(),Tuple{}}}) at /home/matthewmcleod/.julia/packages/FileIO/AmppF/src/loadsave.jl:110",
      " [3] load at /home/matthewmcleod/.julia/packages/FileIO/AmppF/src/loadsave.jl:110 [inlined]",
      " [4] load_results(::ItemCollection, ::Symbol; return_type::String) at ./In[219]:5",
      " [5] load_results at ./In[219]:2 [inlined]",
      " [6] get_best(::ItemCollection, ::Array{String,1}, ::Symbol) at ./In[223]:5",
      " [7] top-level scope at In[225]:1",
      " [8] include_string(::Function, ::Module, ::String, ::String) at ./loading.jl:1091"
     ]
    }
   ],
   "source": [
    "get_best(algos_ics[1], sweep_params, :ttmaze_error)\n",
    "# algo_divisors"
   ]
  },
  {
   "cell_type": "code",
   "execution_count": 226,
   "metadata": {
    "scrolled": true
   },
   "outputs": [
    {
     "name": "stdout",
     "output_type": "stream",
     "text": [
      "[\"demon_eta\"]\n",
      "[49107.80902146963, 71378.94567253608, 90085.59741264065]\n",
      "[\"demon_eta\"]\n",
      "[42453.51271696298, 42754.440261735865, 95768.23607609882]\n",
      "[\"demon_eta\"]\n",
      "[44128.325429657605, 33166.01415343019, 26353.348744118095]\n",
      "[\"demon_eta\"]\n",
      "[34421.652654129735, 20896.121718526974, 12992.707349261704]\n"
     ]
    },
    {
     "data": {
      "text/plain": [
       "4-element Array{ItemCollection,1}:\n",
       " ItemCollection(Reproduce.Item[Reproduce.Item(\"../TMazeDrifterDistractor/data/RP_0_0x326eb54c5f36ae2d\", Dict{String,Any}(\"logger_keys\" => [\"TTMAZE_ERROR\"],\"steps\" => 2000,\"behaviour_learner\" => \"Q\",\"exploration_param\" => 0.0,\"exploration_strategy\" => \"epsilon_greedy\",\"use_external_reward\" => true,\"demon_eta\" => 0.25,\"horde_type\" => \"regular\",\"drifter\" => \"(1.0, sqrt(0.01))\",\"_GIT_INFO\" => \"0\"…), [\"steps\", \"exploration_strategy\", \"use_external_reward\", \"demon_lambda\", \"save_keys\", \"demon_update\", \"demon_learner\", \"behaviour_update\", \"behaviour_opt\", \"behaviour_lambda\"  …  \"demon_trace\", \"behaviour_gamma\", \"behaviour_trace\", \"distractor\", \"save_dir\", \"demon_alpha_init\", \"demon_opt\", \"seed\", \"demon_discounts\", \"demon_policy_type\"]), Reproduce.Item(\"../TMazeDrifterDistractor/data/RP_0_0x32cf2447e11672b7\", Dict{String,Any}(\"logger_keys\" => [\"TTMAZE_ERROR\"],\"steps\" => 2000,\"behaviour_learner\" => \"Q\",\"exploration_param\" => 0.0,\"exploration_strategy\" => \"epsilon_greedy\",\"use_external_reward\" => true,\"demon_eta\" => 0.25,\"horde_type\" => \"regular\",\"drifter\" => \"(1.0, sqrt(0.01))\",\"_GIT_INFO\" => \"0\"…), [\"steps\", \"exploration_strategy\", \"use_external_reward\", \"demon_lambda\", \"save_keys\", \"demon_update\", \"demon_learner\", \"behaviour_update\", \"behaviour_opt\", \"behaviour_lambda\"  …  \"demon_trace\", \"behaviour_gamma\", \"behaviour_trace\", \"distractor\", \"save_dir\", \"demon_alpha_init\", \"demon_opt\", \"seed\", \"demon_discounts\", \"demon_policy_type\"]), Reproduce.Item(\"../TMazeDrifterDistractor/data/RP_0_0x3537cfdd7338f57d\", Dict{String,Any}(\"logger_keys\" => [\"TTMAZE_ERROR\"],\"steps\" => 2000,\"behaviour_learner\" => \"Q\",\"exploration_param\" => 0.0,\"exploration_strategy\" => \"epsilon_greedy\",\"use_external_reward\" => true,\"demon_eta\" => 0.25,\"horde_type\" => \"regular\",\"drifter\" => \"(1.0, sqrt(0.01))\",\"_GIT_INFO\" => \"0\"…), [\"steps\", \"exploration_strategy\", \"use_external_reward\", \"demon_lambda\", \"save_keys\", \"demon_update\", \"demon_learner\", \"behaviour_update\", \"behaviour_opt\", \"behaviour_lambda\"  …  \"demon_trace\", \"behaviour_gamma\", \"behaviour_trace\", \"distractor\", \"save_dir\", \"demon_alpha_init\", \"demon_opt\", \"seed\", \"demon_discounts\", \"demon_policy_type\"]), Reproduce.Item(\"../TMazeDrifterDistractor/data/RP_0_0x399099b63073ef90\", Dict{String,Any}(\"logger_keys\" => [\"TTMAZE_ERROR\"],\"steps\" => 2000,\"behaviour_learner\" => \"Q\",\"exploration_param\" => 0.0,\"exploration_strategy\" => \"epsilon_greedy\",\"use_external_reward\" => true,\"demon_eta\" => 0.25,\"horde_type\" => \"regular\",\"drifter\" => \"(1.0, sqrt(0.01))\",\"_GIT_INFO\" => \"0\"…), [\"steps\", \"exploration_strategy\", \"use_external_reward\", \"demon_lambda\", \"save_keys\", \"demon_update\", \"demon_learner\", \"behaviour_update\", \"behaviour_opt\", \"behaviour_lambda\"  …  \"demon_trace\", \"behaviour_gamma\", \"behaviour_trace\", \"distractor\", \"save_dir\", \"demon_alpha_init\", \"demon_opt\", \"seed\", \"demon_discounts\", \"demon_policy_type\"]), Reproduce.Item(\"../TMazeDrifterDistractor/data/RP_0_0x42877b66b0443ec1\", Dict{String,Any}(\"logger_keys\" => [\"TTMAZE_ERROR\"],\"steps\" => 2000,\"behaviour_learner\" => \"Q\",\"exploration_param\" => 0.0,\"exploration_strategy\" => \"epsilon_greedy\",\"use_external_reward\" => true,\"demon_eta\" => 0.25,\"horde_type\" => \"regular\",\"drifter\" => \"(1.0, sqrt(0.01))\",\"_GIT_INFO\" => \"0\"…), [\"steps\", \"exploration_strategy\", \"use_external_reward\", \"demon_lambda\", \"save_keys\", \"demon_update\", \"demon_learner\", \"behaviour_update\", \"behaviour_opt\", \"behaviour_lambda\"  …  \"demon_trace\", \"behaviour_gamma\", \"behaviour_trace\", \"distractor\", \"save_dir\", \"demon_alpha_init\", \"demon_opt\", \"seed\", \"demon_discounts\", \"demon_policy_type\"]), Reproduce.Item(\"../TMazeDrifterDistractor/data/RP_0_0x51caeb4901a9464a\", Dict{String,Any}(\"logger_keys\" => [\"TTMAZE_ERROR\"],\"steps\" => 2000,\"behaviour_learner\" => \"Q\",\"exploration_param\" => 0.0,\"exploration_strategy\" => \"epsilon_greedy\",\"use_external_reward\" => true,\"demon_eta\" => 0.25,\"horde_type\" => \"regular\",\"drifter\" => \"(1.0, sqrt(0.01))\",\"_GIT_INFO\" => \"0\"…), [\"steps\", \"exploration_strategy\", \"use_external_reward\", \"demon_lambda\", \"save_keys\", \"demon_update\", \"demon_learner\", \"behaviour_update\", \"behaviour_opt\", \"behaviour_lambda\"  …  \"demon_trace\", \"behaviour_gamma\", \"behaviour_trace\", \"distractor\", \"save_dir\", \"demon_alpha_init\", \"demon_opt\", \"seed\", \"demon_discounts\", \"demon_policy_type\"]), Reproduce.Item(\"../TMazeDrifterDistractor/data/RP_0_0x5431970957a8b02a\", Dict{String,Any}(\"logger_keys\" => [\"TTMAZE_ERROR\"],\"steps\" => 2000,\"behaviour_learner\" => \"Q\",\"exploration_param\" => 0.0,\"exploration_strategy\" => \"epsilon_greedy\",\"use_external_reward\" => true,\"demon_eta\" => 0.25,\"horde_type\" => \"regular\",\"drifter\" => \"(1.0, sqrt(0.01))\",\"_GIT_INFO\" => \"0\"…), [\"steps\", \"exploration_strategy\", \"use_external_reward\", \"demon_lambda\", \"save_keys\", \"demon_update\", \"demon_learner\", \"behaviour_update\", \"behaviour_opt\", \"behaviour_lambda\"  …  \"demon_trace\", \"behaviour_gamma\", \"behaviour_trace\", \"distractor\", \"save_dir\", \"demon_alpha_init\", \"demon_opt\", \"seed\", \"demon_discounts\", \"demon_policy_type\"]), Reproduce.Item(\"../TMazeDrifterDistractor/data/RP_0_0x60f163cc0017e370\", Dict{String,Any}(\"logger_keys\" => [\"TTMAZE_ERROR\"],\"steps\" => 2000,\"behaviour_learner\" => \"Q\",\"exploration_param\" => 0.0,\"exploration_strategy\" => \"epsilon_greedy\",\"use_external_reward\" => true,\"demon_eta\" => 0.25,\"horde_type\" => \"regular\",\"drifter\" => \"(1.0, sqrt(0.01))\",\"_GIT_INFO\" => \"0\"…), [\"steps\", \"exploration_strategy\", \"use_external_reward\", \"demon_lambda\", \"save_keys\", \"demon_update\", \"demon_learner\", \"behaviour_update\", \"behaviour_opt\", \"behaviour_lambda\"  …  \"demon_trace\", \"behaviour_gamma\", \"behaviour_trace\", \"distractor\", \"save_dir\", \"demon_alpha_init\", \"demon_opt\", \"seed\", \"demon_discounts\", \"demon_policy_type\"]), Reproduce.Item(\"../TMazeDrifterDistractor/data/RP_0_0x6b4ea2a1dd7ab4d4\", Dict{String,Any}(\"logger_keys\" => [\"TTMAZE_ERROR\"],\"steps\" => 2000,\"behaviour_learner\" => \"Q\",\"exploration_param\" => 0.0,\"exploration_strategy\" => \"epsilon_greedy\",\"use_external_reward\" => true,\"demon_eta\" => 0.25,\"horde_type\" => \"regular\",\"drifter\" => \"(1.0, sqrt(0.01))\",\"_GIT_INFO\" => \"0\"…), [\"steps\", \"exploration_strategy\", \"use_external_reward\", \"demon_lambda\", \"save_keys\", \"demon_update\", \"demon_learner\", \"behaviour_update\", \"behaviour_opt\", \"behaviour_lambda\"  …  \"demon_trace\", \"behaviour_gamma\", \"behaviour_trace\", \"distractor\", \"save_dir\", \"demon_alpha_init\", \"demon_opt\", \"seed\", \"demon_discounts\", \"demon_policy_type\"]), Reproduce.Item(\"../TMazeDrifterDistractor/data/RP_0_0x7f2a8244066f63f2\", Dict{String,Any}(\"logger_keys\" => [\"TTMAZE_ERROR\"],\"steps\" => 2000,\"behaviour_learner\" => \"Q\",\"exploration_param\" => 0.0,\"exploration_strategy\" => \"epsilon_greedy\",\"use_external_reward\" => true,\"demon_eta\" => 0.25,\"horde_type\" => \"regular\",\"drifter\" => \"(1.0, sqrt(0.01))\",\"_GIT_INFO\" => \"0\"…), [\"steps\", \"exploration_strategy\", \"use_external_reward\", \"demon_lambda\", \"save_keys\", \"demon_update\", \"demon_learner\", \"behaviour_update\", \"behaviour_opt\", \"behaviour_lambda\"  …  \"demon_trace\", \"behaviour_gamma\", \"behaviour_trace\", \"distractor\", \"save_dir\", \"demon_alpha_init\", \"demon_opt\", \"seed\", \"demon_discounts\", \"demon_policy_type\"]), Reproduce.Item(\"../TMazeDrifterDistractor/data/RP_0_0xb7194999ced45fce\", Dict{String,Any}(\"logger_keys\" => [\"TTMAZE_ERROR\"],\"steps\" => 2000,\"behaviour_learner\" => \"Q\",\"exploration_param\" => 0.0,\"exploration_strategy\" => \"epsilon_greedy\",\"use_external_reward\" => true,\"demon_eta\" => 0.25,\"horde_type\" => \"regular\",\"drifter\" => \"(1.0, sqrt(0.01))\",\"_GIT_INFO\" => \"0\"…), [\"steps\", \"exploration_strategy\", \"use_external_reward\", \"demon_lambda\", \"save_keys\", \"demon_update\", \"demon_learner\", \"behaviour_update\", \"behaviour_opt\", \"behaviour_lambda\"  …  \"demon_trace\", \"behaviour_gamma\", \"behaviour_trace\", \"distractor\", \"save_dir\", \"demon_alpha_init\", \"demon_opt\", \"seed\", \"demon_discounts\", \"demon_policy_type\"]), Reproduce.Item(\"../TMazeDrifterDistractor/data/RP_0_0xd2e3cbde1e460ef8\", Dict{String,Any}(\"logger_keys\" => [\"TTMAZE_ERROR\"],\"steps\" => 2000,\"behaviour_learner\" => \"Q\",\"exploration_param\" => 0.0,\"exploration_strategy\" => \"epsilon_greedy\",\"use_external_reward\" => true,\"demon_eta\" => 0.25,\"horde_type\" => \"regular\",\"drifter\" => \"(1.0, sqrt(0.01))\",\"_GIT_INFO\" => \"0\"…), [\"steps\", \"exploration_strategy\", \"use_external_reward\", \"demon_lambda\", \"save_keys\", \"demon_update\", \"demon_learner\", \"behaviour_update\", \"behaviour_opt\", \"behaviour_lambda\"  …  \"demon_trace\", \"behaviour_gamma\", \"behaviour_trace\", \"distractor\", \"save_dir\", \"demon_alpha_init\", \"demon_opt\", \"seed\", \"demon_discounts\", \"demon_policy_type\"]), Reproduce.Item(\"../TMazeDrifterDistractor/data/RP_0_0xd785f26268429e7b\", Dict{String,Any}(\"logger_keys\" => [\"TTMAZE_ERROR\"],\"steps\" => 2000,\"behaviour_learner\" => \"Q\",\"exploration_param\" => 0.0,\"exploration_strategy\" => \"epsilon_greedy\",\"use_external_reward\" => true,\"demon_eta\" => 0.25,\"horde_type\" => \"regular\",\"drifter\" => \"(1.0, sqrt(0.01))\",\"_GIT_INFO\" => \"0\"…), [\"steps\", \"exploration_strategy\", \"use_external_reward\", \"demon_lambda\", \"save_keys\", \"demon_update\", \"demon_learner\", \"behaviour_update\", \"behaviour_opt\", \"behaviour_lambda\"  …  \"demon_trace\", \"behaviour_gamma\", \"behaviour_trace\", \"distractor\", \"save_dir\", \"demon_alpha_init\", \"demon_opt\", \"seed\", \"demon_discounts\", \"demon_policy_type\"]), Reproduce.Item(\"../TMazeDrifterDistractor/data/RP_0_0xd9e0d42fa8d20ab5\", Dict{String,Any}(\"logger_keys\" => [\"TTMAZE_ERROR\"],\"steps\" => 2000,\"behaviour_learner\" => \"Q\",\"exploration_param\" => 0.0,\"exploration_strategy\" => \"epsilon_greedy\",\"use_external_reward\" => true,\"demon_eta\" => 0.25,\"horde_type\" => \"regular\",\"drifter\" => \"(1.0, sqrt(0.01))\",\"_GIT_INFO\" => \"0\"…), [\"steps\", \"exploration_strategy\", \"use_external_reward\", \"demon_lambda\", \"save_keys\", \"demon_update\", \"demon_learner\", \"behaviour_update\", \"behaviour_opt\", \"behaviour_lambda\"  …  \"demon_trace\", \"behaviour_gamma\", \"behaviour_trace\", \"distractor\", \"save_dir\", \"demon_alpha_init\", \"demon_opt\", \"seed\", \"demon_discounts\", \"demon_policy_type\"]), Reproduce.Item(\"../TMazeDrifterDistractor/data/RP_0_0xda87054b7e8a915b\", Dict{String,Any}(\"logger_keys\" => [\"TTMAZE_ERROR\"],\"steps\" => 2000,\"behaviour_learner\" => \"Q\",\"exploration_param\" => 0.0,\"exploration_strategy\" => \"epsilon_greedy\",\"use_external_reward\" => true,\"demon_eta\" => 0.25,\"horde_type\" => \"regular\",\"drifter\" => \"(1.0, sqrt(0.01))\",\"_GIT_INFO\" => \"0\"…), [\"steps\", \"exploration_strategy\", \"use_external_reward\", \"demon_lambda\", \"save_keys\", \"demon_update\", \"demon_learner\", \"behaviour_update\", \"behaviour_opt\", \"behaviour_lambda\"  …  \"demon_trace\", \"behaviour_gamma\", \"behaviour_trace\", \"distractor\", \"save_dir\", \"demon_alpha_init\", \"demon_opt\", \"seed\", \"demon_discounts\", \"demon_policy_type\"])], 0x0000000000000000)\n",
       " ItemCollection(Reproduce.Item[Reproduce.Item(\"../TMazeDrifterDistractor/data/RP_0_0x1009a4b01fc47e12\", Dict{String,Any}(\"logger_keys\" => [\"TTMAZE_ERROR\"],\"steps\" => 2000,\"behaviour_learner\" => \"Q\",\"exploration_param\" => 0.0,\"exploration_strategy\" => \"epsilon_greedy\",\"use_external_reward\" => true,\"demon_eta\" => 0.25,\"horde_type\" => \"regular\",\"drifter\" => \"(1.0, sqrt(0.01))\",\"_GIT_INFO\" => \"0\"…), [\"steps\", \"exploration_strategy\", \"use_external_reward\", \"demon_lambda\", \"save_keys\", \"demon_update\", \"demon_learner\", \"behaviour_update\", \"behaviour_opt\", \"behaviour_lambda\"  …  \"demon_trace\", \"behaviour_gamma\", \"behaviour_trace\", \"distractor\", \"save_dir\", \"demon_alpha_init\", \"demon_opt\", \"seed\", \"demon_discounts\", \"demon_policy_type\"]), Reproduce.Item(\"../TMazeDrifterDistractor/data/RP_0_0x2d9bd5f970304208\", Dict{String,Any}(\"logger_keys\" => [\"TTMAZE_ERROR\"],\"steps\" => 2000,\"behaviour_learner\" => \"Q\",\"exploration_param\" => 0.0,\"exploration_strategy\" => \"epsilon_greedy\",\"use_external_reward\" => true,\"demon_eta\" => 0.25,\"horde_type\" => \"regular\",\"drifter\" => \"(1.0, sqrt(0.01))\",\"_GIT_INFO\" => \"0\"…), [\"steps\", \"exploration_strategy\", \"use_external_reward\", \"demon_lambda\", \"save_keys\", \"demon_update\", \"demon_learner\", \"behaviour_update\", \"behaviour_opt\", \"behaviour_lambda\"  …  \"demon_trace\", \"behaviour_gamma\", \"behaviour_trace\", \"distractor\", \"save_dir\", \"demon_alpha_init\", \"demon_opt\", \"seed\", \"demon_discounts\", \"demon_policy_type\"]), Reproduce.Item(\"../TMazeDrifterDistractor/data/RP_0_0x4583bb444783f84f\", Dict{String,Any}(\"logger_keys\" => [\"TTMAZE_ERROR\"],\"steps\" => 2000,\"behaviour_learner\" => \"Q\",\"exploration_param\" => 0.0,\"exploration_strategy\" => \"epsilon_greedy\",\"use_external_reward\" => true,\"demon_eta\" => 0.25,\"horde_type\" => \"regular\",\"drifter\" => \"(1.0, sqrt(0.01))\",\"_GIT_INFO\" => \"0\"…), [\"steps\", \"exploration_strategy\", \"use_external_reward\", \"demon_lambda\", \"save_keys\", \"demon_update\", \"demon_learner\", \"behaviour_update\", \"behaviour_opt\", \"behaviour_lambda\"  …  \"demon_trace\", \"behaviour_gamma\", \"behaviour_trace\", \"distractor\", \"save_dir\", \"demon_alpha_init\", \"demon_opt\", \"seed\", \"demon_discounts\", \"demon_policy_type\"]), Reproduce.Item(\"../TMazeDrifterDistractor/data/RP_0_0x4750af70a5f842b4\", Dict{String,Any}(\"logger_keys\" => [\"TTMAZE_ERROR\"],\"steps\" => 2000,\"behaviour_learner\" => \"Q\",\"exploration_param\" => 0.0,\"exploration_strategy\" => \"epsilon_greedy\",\"use_external_reward\" => true,\"demon_eta\" => 0.25,\"horde_type\" => \"regular\",\"drifter\" => \"(1.0, sqrt(0.01))\",\"_GIT_INFO\" => \"0\"…), [\"steps\", \"exploration_strategy\", \"use_external_reward\", \"demon_lambda\", \"save_keys\", \"demon_update\", \"demon_learner\", \"behaviour_update\", \"behaviour_opt\", \"behaviour_lambda\"  …  \"demon_trace\", \"behaviour_gamma\", \"behaviour_trace\", \"distractor\", \"save_dir\", \"demon_alpha_init\", \"demon_opt\", \"seed\", \"demon_discounts\", \"demon_policy_type\"]), Reproduce.Item(\"../TMazeDrifterDistractor/data/RP_0_0x528e8abc1950161d\", Dict{String,Any}(\"logger_keys\" => [\"TTMAZE_ERROR\"],\"steps\" => 2000,\"behaviour_learner\" => \"Q\",\"exploration_param\" => 0.0,\"exploration_strategy\" => \"epsilon_greedy\",\"use_external_reward\" => true,\"demon_eta\" => 0.25,\"horde_type\" => \"regular\",\"drifter\" => \"(1.0, sqrt(0.01))\",\"_GIT_INFO\" => \"0\"…), [\"steps\", \"exploration_strategy\", \"use_external_reward\", \"demon_lambda\", \"save_keys\", \"demon_update\", \"demon_learner\", \"behaviour_update\", \"behaviour_opt\", \"behaviour_lambda\"  …  \"demon_trace\", \"behaviour_gamma\", \"behaviour_trace\", \"distractor\", \"save_dir\", \"demon_alpha_init\", \"demon_opt\", \"seed\", \"demon_discounts\", \"demon_policy_type\"]), Reproduce.Item(\"../TMazeDrifterDistractor/data/RP_0_0x631fb6f93178cf7f\", Dict{String,Any}(\"logger_keys\" => [\"TTMAZE_ERROR\"],\"steps\" => 2000,\"behaviour_learner\" => \"Q\",\"exploration_param\" => 0.0,\"exploration_strategy\" => \"epsilon_greedy\",\"use_external_reward\" => true,\"demon_eta\" => 0.25,\"horde_type\" => \"regular\",\"drifter\" => \"(1.0, sqrt(0.01))\",\"_GIT_INFO\" => \"0\"…), [\"steps\", \"exploration_strategy\", \"use_external_reward\", \"demon_lambda\", \"save_keys\", \"demon_update\", \"demon_learner\", \"behaviour_update\", \"behaviour_opt\", \"behaviour_lambda\"  …  \"demon_trace\", \"behaviour_gamma\", \"behaviour_trace\", \"distractor\", \"save_dir\", \"demon_alpha_init\", \"demon_opt\", \"seed\", \"demon_discounts\", \"demon_policy_type\"]), Reproduce.Item(\"../TMazeDrifterDistractor/data/RP_0_0x6e422429a8ce2a4a\", Dict{String,Any}(\"logger_keys\" => [\"TTMAZE_ERROR\"],\"steps\" => 2000,\"behaviour_learner\" => \"Q\",\"exploration_param\" => 0.0,\"exploration_strategy\" => \"epsilon_greedy\",\"use_external_reward\" => true,\"demon_eta\" => 0.25,\"horde_type\" => \"regular\",\"drifter\" => \"(1.0, sqrt(0.01))\",\"_GIT_INFO\" => \"0\"…), [\"steps\", \"exploration_strategy\", \"use_external_reward\", \"demon_lambda\", \"save_keys\", \"demon_update\", \"demon_learner\", \"behaviour_update\", \"behaviour_opt\", \"behaviour_lambda\"  …  \"demon_trace\", \"behaviour_gamma\", \"behaviour_trace\", \"distractor\", \"save_dir\", \"demon_alpha_init\", \"demon_opt\", \"seed\", \"demon_discounts\", \"demon_policy_type\"]), Reproduce.Item(\"../TMazeDrifterDistractor/data/RP_0_0x89d1f3ca9158f786\", Dict{String,Any}(\"logger_keys\" => [\"TTMAZE_ERROR\"],\"steps\" => 2000,\"behaviour_learner\" => \"Q\",\"exploration_param\" => 0.0,\"exploration_strategy\" => \"epsilon_greedy\",\"use_external_reward\" => true,\"demon_eta\" => 0.25,\"horde_type\" => \"regular\",\"drifter\" => \"(1.0, sqrt(0.01))\",\"_GIT_INFO\" => \"0\"…), [\"steps\", \"exploration_strategy\", \"use_external_reward\", \"demon_lambda\", \"save_keys\", \"demon_update\", \"demon_learner\", \"behaviour_update\", \"behaviour_opt\", \"behaviour_lambda\"  …  \"demon_trace\", \"behaviour_gamma\", \"behaviour_trace\", \"distractor\", \"save_dir\", \"demon_alpha_init\", \"demon_opt\", \"seed\", \"demon_discounts\", \"demon_policy_type\"]), Reproduce.Item(\"../TMazeDrifterDistractor/data/RP_0_0x91b4e5d888fbec8f\", Dict{String,Any}(\"logger_keys\" => [\"TTMAZE_ERROR\"],\"steps\" => 2000,\"behaviour_learner\" => \"Q\",\"exploration_param\" => 0.0,\"exploration_strategy\" => \"epsilon_greedy\",\"use_external_reward\" => true,\"demon_eta\" => 0.25,\"horde_type\" => \"regular\",\"drifter\" => \"(1.0, sqrt(0.01))\",\"_GIT_INFO\" => \"0\"…), [\"steps\", \"exploration_strategy\", \"use_external_reward\", \"demon_lambda\", \"save_keys\", \"demon_update\", \"demon_learner\", \"behaviour_update\", \"behaviour_opt\", \"behaviour_lambda\"  …  \"demon_trace\", \"behaviour_gamma\", \"behaviour_trace\", \"distractor\", \"save_dir\", \"demon_alpha_init\", \"demon_opt\", \"seed\", \"demon_discounts\", \"demon_policy_type\"]), Reproduce.Item(\"../TMazeDrifterDistractor/data/RP_0_0x96a37185e4c74c3a\", Dict{String,Any}(\"logger_keys\" => [\"TTMAZE_ERROR\"],\"steps\" => 2000,\"behaviour_learner\" => \"Q\",\"exploration_param\" => 0.0,\"exploration_strategy\" => \"epsilon_greedy\",\"use_external_reward\" => true,\"demon_eta\" => 0.25,\"horde_type\" => \"regular\",\"drifter\" => \"(1.0, sqrt(0.01))\",\"_GIT_INFO\" => \"0\"…), [\"steps\", \"exploration_strategy\", \"use_external_reward\", \"demon_lambda\", \"save_keys\", \"demon_update\", \"demon_learner\", \"behaviour_update\", \"behaviour_opt\", \"behaviour_lambda\"  …  \"demon_trace\", \"behaviour_gamma\", \"behaviour_trace\", \"distractor\", \"save_dir\", \"demon_alpha_init\", \"demon_opt\", \"seed\", \"demon_discounts\", \"demon_policy_type\"]), Reproduce.Item(\"../TMazeDrifterDistractor/data/RP_0_0xa03b9c910b7c1876\", Dict{String,Any}(\"logger_keys\" => [\"TTMAZE_ERROR\"],\"steps\" => 2000,\"behaviour_learner\" => \"Q\",\"exploration_param\" => 0.0,\"exploration_strategy\" => \"epsilon_greedy\",\"use_external_reward\" => true,\"demon_eta\" => 0.25,\"horde_type\" => \"regular\",\"drifter\" => \"(1.0, sqrt(0.01))\",\"_GIT_INFO\" => \"0\"…), [\"steps\", \"exploration_strategy\", \"use_external_reward\", \"demon_lambda\", \"save_keys\", \"demon_update\", \"demon_learner\", \"behaviour_update\", \"behaviour_opt\", \"behaviour_lambda\"  …  \"demon_trace\", \"behaviour_gamma\", \"behaviour_trace\", \"distractor\", \"save_dir\", \"demon_alpha_init\", \"demon_opt\", \"seed\", \"demon_discounts\", \"demon_policy_type\"]), Reproduce.Item(\"../TMazeDrifterDistractor/data/RP_0_0xa1992b3107752dab\", Dict{String,Any}(\"logger_keys\" => [\"TTMAZE_ERROR\"],\"steps\" => 2000,\"behaviour_learner\" => \"Q\",\"exploration_param\" => 0.0,\"exploration_strategy\" => \"epsilon_greedy\",\"use_external_reward\" => true,\"demon_eta\" => 0.25,\"horde_type\" => \"regular\",\"drifter\" => \"(1.0, sqrt(0.01))\",\"_GIT_INFO\" => \"0\"…), [\"steps\", \"exploration_strategy\", \"use_external_reward\", \"demon_lambda\", \"save_keys\", \"demon_update\", \"demon_learner\", \"behaviour_update\", \"behaviour_opt\", \"behaviour_lambda\"  …  \"demon_trace\", \"behaviour_gamma\", \"behaviour_trace\", \"distractor\", \"save_dir\", \"demon_alpha_init\", \"demon_opt\", \"seed\", \"demon_discounts\", \"demon_policy_type\"]), Reproduce.Item(\"../TMazeDrifterDistractor/data/RP_0_0xb4a2de8703bc018f\", Dict{String,Any}(\"logger_keys\" => [\"TTMAZE_ERROR\"],\"steps\" => 2000,\"behaviour_learner\" => \"Q\",\"exploration_param\" => 0.0,\"exploration_strategy\" => \"epsilon_greedy\",\"use_external_reward\" => true,\"demon_eta\" => 0.25,\"horde_type\" => \"regular\",\"drifter\" => \"(1.0, sqrt(0.01))\",\"_GIT_INFO\" => \"0\"…), [\"steps\", \"exploration_strategy\", \"use_external_reward\", \"demon_lambda\", \"save_keys\", \"demon_update\", \"demon_learner\", \"behaviour_update\", \"behaviour_opt\", \"behaviour_lambda\"  …  \"demon_trace\", \"behaviour_gamma\", \"behaviour_trace\", \"distractor\", \"save_dir\", \"demon_alpha_init\", \"demon_opt\", \"seed\", \"demon_discounts\", \"demon_policy_type\"]), Reproduce.Item(\"../TMazeDrifterDistractor/data/RP_0_0xc705db2229c5e106\", Dict{String,Any}(\"logger_keys\" => [\"TTMAZE_ERROR\"],\"steps\" => 2000,\"behaviour_learner\" => \"Q\",\"exploration_param\" => 0.0,\"exploration_strategy\" => \"epsilon_greedy\",\"use_external_reward\" => true,\"demon_eta\" => 0.25,\"horde_type\" => \"regular\",\"drifter\" => \"(1.0, sqrt(0.01))\",\"_GIT_INFO\" => \"0\"…), [\"steps\", \"exploration_strategy\", \"use_external_reward\", \"demon_lambda\", \"save_keys\", \"demon_update\", \"demon_learner\", \"behaviour_update\", \"behaviour_opt\", \"behaviour_lambda\"  …  \"demon_trace\", \"behaviour_gamma\", \"behaviour_trace\", \"distractor\", \"save_dir\", \"demon_alpha_init\", \"demon_opt\", \"seed\", \"demon_discounts\", \"demon_policy_type\"]), Reproduce.Item(\"../TMazeDrifterDistractor/data/RP_0_0xd28cc7d648fe2115\", Dict{String,Any}(\"logger_keys\" => [\"TTMAZE_ERROR\"],\"steps\" => 2000,\"behaviour_learner\" => \"Q\",\"exploration_param\" => 0.0,\"exploration_strategy\" => \"epsilon_greedy\",\"use_external_reward\" => true,\"demon_eta\" => 0.25,\"horde_type\" => \"regular\",\"drifter\" => \"(1.0, sqrt(0.01))\",\"_GIT_INFO\" => \"0\"…), [\"steps\", \"exploration_strategy\", \"use_external_reward\", \"demon_lambda\", \"save_keys\", \"demon_update\", \"demon_learner\", \"behaviour_update\", \"behaviour_opt\", \"behaviour_lambda\"  …  \"demon_trace\", \"behaviour_gamma\", \"behaviour_trace\", \"distractor\", \"save_dir\", \"demon_alpha_init\", \"demon_opt\", \"seed\", \"demon_discounts\", \"demon_policy_type\"])], 0x0000000000000000)\n",
       " ItemCollection(Reproduce.Item[Reproduce.Item(\"../TMazeDrifterDistractor/data/RP_0_0x1190101db8529bc6\", Dict{String,Any}(\"logger_keys\" => [\"TTMAZE_ERROR\"],\"steps\" => 2000,\"behaviour_learner\" => \"Q\",\"exploration_param\" => 0.0,\"exploration_strategy\" => \"epsilon_greedy\",\"use_external_reward\" => true,\"demon_eta\" => 1.0,\"horde_type\" => \"regular\",\"drifter\" => \"(1.0, sqrt(0.01))\",\"_GIT_INFO\" => \"0\"…), [\"steps\", \"exploration_strategy\", \"use_external_reward\", \"demon_lambda\", \"save_keys\", \"demon_update\", \"demon_learner\", \"behaviour_update\", \"behaviour_opt\", \"behaviour_lambda\"  …  \"demon_trace\", \"behaviour_gamma\", \"behaviour_trace\", \"distractor\", \"save_dir\", \"demon_alpha_init\", \"demon_opt\", \"seed\", \"demon_discounts\", \"demon_policy_type\"]), Reproduce.Item(\"../TMazeDrifterDistractor/data/RP_0_0x130831903ffad8f2\", Dict{String,Any}(\"logger_keys\" => [\"TTMAZE_ERROR\"],\"steps\" => 2000,\"behaviour_learner\" => \"Q\",\"exploration_param\" => 0.0,\"exploration_strategy\" => \"epsilon_greedy\",\"use_external_reward\" => true,\"demon_eta\" => 1.0,\"horde_type\" => \"regular\",\"drifter\" => \"(1.0, sqrt(0.01))\",\"_GIT_INFO\" => \"0\"…), [\"steps\", \"exploration_strategy\", \"use_external_reward\", \"demon_lambda\", \"save_keys\", \"demon_update\", \"demon_learner\", \"behaviour_update\", \"behaviour_opt\", \"behaviour_lambda\"  …  \"demon_trace\", \"behaviour_gamma\", \"behaviour_trace\", \"distractor\", \"save_dir\", \"demon_alpha_init\", \"demon_opt\", \"seed\", \"demon_discounts\", \"demon_policy_type\"]), Reproduce.Item(\"../TMazeDrifterDistractor/data/RP_0_0x6d01d799b033f268\", Dict{String,Any}(\"logger_keys\" => [\"TTMAZE_ERROR\"],\"steps\" => 2000,\"behaviour_learner\" => \"Q\",\"exploration_param\" => 0.0,\"exploration_strategy\" => \"epsilon_greedy\",\"use_external_reward\" => true,\"demon_eta\" => 1.0,\"horde_type\" => \"regular\",\"drifter\" => \"(1.0, sqrt(0.01))\",\"_GIT_INFO\" => \"0\"…), [\"steps\", \"exploration_strategy\", \"use_external_reward\", \"demon_lambda\", \"save_keys\", \"demon_update\", \"demon_learner\", \"behaviour_update\", \"behaviour_opt\", \"behaviour_lambda\"  …  \"demon_trace\", \"behaviour_gamma\", \"behaviour_trace\", \"distractor\", \"save_dir\", \"demon_alpha_init\", \"demon_opt\", \"seed\", \"demon_discounts\", \"demon_policy_type\"]), Reproduce.Item(\"../TMazeDrifterDistractor/data/RP_0_0x7f67ceadda4e74d9\", Dict{String,Any}(\"logger_keys\" => [\"TTMAZE_ERROR\"],\"steps\" => 2000,\"behaviour_learner\" => \"Q\",\"exploration_param\" => 0.0,\"exploration_strategy\" => \"epsilon_greedy\",\"use_external_reward\" => true,\"demon_eta\" => 1.0,\"horde_type\" => \"regular\",\"drifter\" => \"(1.0, sqrt(0.01))\",\"_GIT_INFO\" => \"0\"…), [\"steps\", \"exploration_strategy\", \"use_external_reward\", \"demon_lambda\", \"save_keys\", \"demon_update\", \"demon_learner\", \"behaviour_update\", \"behaviour_opt\", \"behaviour_lambda\"  …  \"demon_trace\", \"behaviour_gamma\", \"behaviour_trace\", \"distractor\", \"save_dir\", \"demon_alpha_init\", \"demon_opt\", \"seed\", \"demon_discounts\", \"demon_policy_type\"]), Reproduce.Item(\"../TMazeDrifterDistractor/data/RP_0_0xa06525268ba44c56\", Dict{String,Any}(\"logger_keys\" => [\"TTMAZE_ERROR\"],\"steps\" => 2000,\"behaviour_learner\" => \"Q\",\"exploration_param\" => 0.0,\"exploration_strategy\" => \"epsilon_greedy\",\"use_external_reward\" => true,\"demon_eta\" => 1.0,\"horde_type\" => \"regular\",\"drifter\" => \"(1.0, sqrt(0.01))\",\"_GIT_INFO\" => \"0\"…), [\"steps\", \"exploration_strategy\", \"use_external_reward\", \"demon_lambda\", \"save_keys\", \"demon_update\", \"demon_learner\", \"behaviour_update\", \"behaviour_opt\", \"behaviour_lambda\"  …  \"demon_trace\", \"behaviour_gamma\", \"behaviour_trace\", \"distractor\", \"save_dir\", \"demon_alpha_init\", \"demon_opt\", \"seed\", \"demon_discounts\", \"demon_policy_type\"]), Reproduce.Item(\"../TMazeDrifterDistractor/data/RP_0_0xbe18b2d25745381e\", Dict{String,Any}(\"logger_keys\" => [\"TTMAZE_ERROR\"],\"steps\" => 2000,\"behaviour_learner\" => \"Q\",\"exploration_param\" => 0.0,\"exploration_strategy\" => \"epsilon_greedy\",\"use_external_reward\" => true,\"demon_eta\" => 1.0,\"horde_type\" => \"regular\",\"drifter\" => \"(1.0, sqrt(0.01))\",\"_GIT_INFO\" => \"0\"…), [\"steps\", \"exploration_strategy\", \"use_external_reward\", \"demon_lambda\", \"save_keys\", \"demon_update\", \"demon_learner\", \"behaviour_update\", \"behaviour_opt\", \"behaviour_lambda\"  …  \"demon_trace\", \"behaviour_gamma\", \"behaviour_trace\", \"distractor\", \"save_dir\", \"demon_alpha_init\", \"demon_opt\", \"seed\", \"demon_discounts\", \"demon_policy_type\"]), Reproduce.Item(\"../TMazeDrifterDistractor/data/RP_0_0xc0dc2b1e04eb71a0\", Dict{String,Any}(\"logger_keys\" => [\"TTMAZE_ERROR\"],\"steps\" => 2000,\"behaviour_learner\" => \"Q\",\"exploration_param\" => 0.0,\"exploration_strategy\" => \"epsilon_greedy\",\"use_external_reward\" => true,\"demon_eta\" => 1.0,\"horde_type\" => \"regular\",\"drifter\" => \"(1.0, sqrt(0.01))\",\"_GIT_INFO\" => \"0\"…), [\"steps\", \"exploration_strategy\", \"use_external_reward\", \"demon_lambda\", \"save_keys\", \"demon_update\", \"demon_learner\", \"behaviour_update\", \"behaviour_opt\", \"behaviour_lambda\"  …  \"demon_trace\", \"behaviour_gamma\", \"behaviour_trace\", \"distractor\", \"save_dir\", \"demon_alpha_init\", \"demon_opt\", \"seed\", \"demon_discounts\", \"demon_policy_type\"]), Reproduce.Item(\"../TMazeDrifterDistractor/data/RP_0_0xc40500057f2a1a1a\", Dict{String,Any}(\"logger_keys\" => [\"TTMAZE_ERROR\"],\"steps\" => 2000,\"behaviour_learner\" => \"Q\",\"exploration_param\" => 0.0,\"exploration_strategy\" => \"epsilon_greedy\",\"use_external_reward\" => true,\"demon_eta\" => 1.0,\"horde_type\" => \"regular\",\"drifter\" => \"(1.0, sqrt(0.01))\",\"_GIT_INFO\" => \"0\"…), [\"steps\", \"exploration_strategy\", \"use_external_reward\", \"demon_lambda\", \"save_keys\", \"demon_update\", \"demon_learner\", \"behaviour_update\", \"behaviour_opt\", \"behaviour_lambda\"  …  \"demon_trace\", \"behaviour_gamma\", \"behaviour_trace\", \"distractor\", \"save_dir\", \"demon_alpha_init\", \"demon_opt\", \"seed\", \"demon_discounts\", \"demon_policy_type\"]), Reproduce.Item(\"../TMazeDrifterDistractor/data/RP_0_0xcd03d7030383301\", Dict{String,Any}(\"logger_keys\" => [\"TTMAZE_ERROR\"],\"steps\" => 2000,\"behaviour_learner\" => \"Q\",\"exploration_param\" => 0.0,\"exploration_strategy\" => \"epsilon_greedy\",\"use_external_reward\" => true,\"demon_eta\" => 1.0,\"horde_type\" => \"regular\",\"drifter\" => \"(1.0, sqrt(0.01))\",\"_GIT_INFO\" => \"0\"…), [\"steps\", \"exploration_strategy\", \"use_external_reward\", \"demon_lambda\", \"save_keys\", \"demon_update\", \"demon_learner\", \"behaviour_update\", \"behaviour_opt\", \"behaviour_lambda\"  …  \"demon_trace\", \"behaviour_gamma\", \"behaviour_trace\", \"distractor\", \"save_dir\", \"demon_alpha_init\", \"demon_opt\", \"seed\", \"demon_discounts\", \"demon_policy_type\"]), Reproduce.Item(\"../TMazeDrifterDistractor/data/RP_0_0xd31902d9d212dfca\", Dict{String,Any}(\"logger_keys\" => [\"TTMAZE_ERROR\"],\"steps\" => 2000,\"behaviour_learner\" => \"Q\",\"exploration_param\" => 0.0,\"exploration_strategy\" => \"epsilon_greedy\",\"use_external_reward\" => true,\"demon_eta\" => 1.0,\"horde_type\" => \"regular\",\"drifter\" => \"(1.0, sqrt(0.01))\",\"_GIT_INFO\" => \"0\"…), [\"steps\", \"exploration_strategy\", \"use_external_reward\", \"demon_lambda\", \"save_keys\", \"demon_update\", \"demon_learner\", \"behaviour_update\", \"behaviour_opt\", \"behaviour_lambda\"  …  \"demon_trace\", \"behaviour_gamma\", \"behaviour_trace\", \"distractor\", \"save_dir\", \"demon_alpha_init\", \"demon_opt\", \"seed\", \"demon_discounts\", \"demon_policy_type\"]), Reproduce.Item(\"../TMazeDrifterDistractor/data/RP_0_0xd459c69120b33b3a\", Dict{String,Any}(\"logger_keys\" => [\"TTMAZE_ERROR\"],\"steps\" => 2000,\"behaviour_learner\" => \"Q\",\"exploration_param\" => 0.0,\"exploration_strategy\" => \"epsilon_greedy\",\"use_external_reward\" => true,\"demon_eta\" => 1.0,\"horde_type\" => \"regular\",\"drifter\" => \"(1.0, sqrt(0.01))\",\"_GIT_INFO\" => \"0\"…), [\"steps\", \"exploration_strategy\", \"use_external_reward\", \"demon_lambda\", \"save_keys\", \"demon_update\", \"demon_learner\", \"behaviour_update\", \"behaviour_opt\", \"behaviour_lambda\"  …  \"demon_trace\", \"behaviour_gamma\", \"behaviour_trace\", \"distractor\", \"save_dir\", \"demon_alpha_init\", \"demon_opt\", \"seed\", \"demon_discounts\", \"demon_policy_type\"]), Reproduce.Item(\"../TMazeDrifterDistractor/data/RP_0_0xef3b19f217204754\", Dict{String,Any}(\"logger_keys\" => [\"TTMAZE_ERROR\"],\"steps\" => 2000,\"behaviour_learner\" => \"Q\",\"exploration_param\" => 0.0,\"exploration_strategy\" => \"epsilon_greedy\",\"use_external_reward\" => true,\"demon_eta\" => 1.0,\"horde_type\" => \"regular\",\"drifter\" => \"(1.0, sqrt(0.01))\",\"_GIT_INFO\" => \"0\"…), [\"steps\", \"exploration_strategy\", \"use_external_reward\", \"demon_lambda\", \"save_keys\", \"demon_update\", \"demon_learner\", \"behaviour_update\", \"behaviour_opt\", \"behaviour_lambda\"  …  \"demon_trace\", \"behaviour_gamma\", \"behaviour_trace\", \"distractor\", \"save_dir\", \"demon_alpha_init\", \"demon_opt\", \"seed\", \"demon_discounts\", \"demon_policy_type\"]), Reproduce.Item(\"../TMazeDrifterDistractor/data/RP_0_0xfda2fe7b9d08efe8\", Dict{String,Any}(\"logger_keys\" => [\"TTMAZE_ERROR\"],\"steps\" => 2000,\"behaviour_learner\" => \"Q\",\"exploration_param\" => 0.0,\"exploration_strategy\" => \"epsilon_greedy\",\"use_external_reward\" => true,\"demon_eta\" => 1.0,\"horde_type\" => \"regular\",\"drifter\" => \"(1.0, sqrt(0.01))\",\"_GIT_INFO\" => \"0\"…), [\"steps\", \"exploration_strategy\", \"use_external_reward\", \"demon_lambda\", \"save_keys\", \"demon_update\", \"demon_learner\", \"behaviour_update\", \"behaviour_opt\", \"behaviour_lambda\"  …  \"demon_trace\", \"behaviour_gamma\", \"behaviour_trace\", \"distractor\", \"save_dir\", \"demon_alpha_init\", \"demon_opt\", \"seed\", \"demon_discounts\", \"demon_policy_type\"]), Reproduce.Item(\"../TMazeDrifterDistractor/data/RP_0_0xfe6440c85bf48a27\", Dict{String,Any}(\"logger_keys\" => [\"TTMAZE_ERROR\"],\"steps\" => 2000,\"behaviour_learner\" => \"Q\",\"exploration_param\" => 0.0,\"exploration_strategy\" => \"epsilon_greedy\",\"use_external_reward\" => true,\"demon_eta\" => 1.0,\"horde_type\" => \"regular\",\"drifter\" => \"(1.0, sqrt(0.01))\",\"_GIT_INFO\" => \"0\"…), [\"steps\", \"exploration_strategy\", \"use_external_reward\", \"demon_lambda\", \"save_keys\", \"demon_update\", \"demon_learner\", \"behaviour_update\", \"behaviour_opt\", \"behaviour_lambda\"  …  \"demon_trace\", \"behaviour_gamma\", \"behaviour_trace\", \"distractor\", \"save_dir\", \"demon_alpha_init\", \"demon_opt\", \"seed\", \"demon_discounts\", \"demon_policy_type\"]), Reproduce.Item(\"../TMazeDrifterDistractor/data/RP_0_0xff4606117c51663b\", Dict{String,Any}(\"logger_keys\" => [\"TTMAZE_ERROR\"],\"steps\" => 2000,\"behaviour_learner\" => \"Q\",\"exploration_param\" => 0.0,\"exploration_strategy\" => \"epsilon_greedy\",\"use_external_reward\" => true,\"demon_eta\" => 1.0,\"horde_type\" => \"regular\",\"drifter\" => \"(1.0, sqrt(0.01))\",\"_GIT_INFO\" => \"0\"…), [\"steps\", \"exploration_strategy\", \"use_external_reward\", \"demon_lambda\", \"save_keys\", \"demon_update\", \"demon_learner\", \"behaviour_update\", \"behaviour_opt\", \"behaviour_lambda\"  …  \"demon_trace\", \"behaviour_gamma\", \"behaviour_trace\", \"distractor\", \"save_dir\", \"demon_alpha_init\", \"demon_opt\", \"seed\", \"demon_discounts\", \"demon_policy_type\"])], 0x0000000000000000)\n",
       " ItemCollection(Reproduce.Item[Reproduce.Item(\"../TMazeDrifterDistractor/data/RP_0_0x21f12191b5f099a4\", Dict{String,Any}(\"logger_keys\" => [\"TTMAZE_ERROR\"],\"steps\" => 2000,\"behaviour_learner\" => \"Q\",\"exploration_param\" => 0.0,\"exploration_strategy\" => \"epsilon_greedy\",\"use_external_reward\" => true,\"demon_eta\" => 1.0,\"horde_type\" => \"regular\",\"drifter\" => \"(1.0, sqrt(0.01))\",\"_GIT_INFO\" => \"0\"…), [\"steps\", \"exploration_strategy\", \"use_external_reward\", \"demon_lambda\", \"save_keys\", \"demon_update\", \"demon_learner\", \"behaviour_update\", \"behaviour_opt\", \"behaviour_lambda\"  …  \"demon_trace\", \"behaviour_gamma\", \"behaviour_trace\", \"distractor\", \"save_dir\", \"demon_alpha_init\", \"demon_opt\", \"seed\", \"demon_discounts\", \"demon_policy_type\"]), Reproduce.Item(\"../TMazeDrifterDistractor/data/RP_0_0x274c3c83e7e99dc3\", Dict{String,Any}(\"logger_keys\" => [\"TTMAZE_ERROR\"],\"steps\" => 2000,\"behaviour_learner\" => \"Q\",\"exploration_param\" => 0.0,\"exploration_strategy\" => \"epsilon_greedy\",\"use_external_reward\" => true,\"demon_eta\" => 1.0,\"horde_type\" => \"regular\",\"drifter\" => \"(1.0, sqrt(0.01))\",\"_GIT_INFO\" => \"0\"…), [\"steps\", \"exploration_strategy\", \"use_external_reward\", \"demon_lambda\", \"save_keys\", \"demon_update\", \"demon_learner\", \"behaviour_update\", \"behaviour_opt\", \"behaviour_lambda\"  …  \"demon_trace\", \"behaviour_gamma\", \"behaviour_trace\", \"distractor\", \"save_dir\", \"demon_alpha_init\", \"demon_opt\", \"seed\", \"demon_discounts\", \"demon_policy_type\"]), Reproduce.Item(\"../TMazeDrifterDistractor/data/RP_0_0x323ea661062e3530\", Dict{String,Any}(\"logger_keys\" => [\"TTMAZE_ERROR\"],\"steps\" => 2000,\"behaviour_learner\" => \"Q\",\"exploration_param\" => 0.0,\"exploration_strategy\" => \"epsilon_greedy\",\"use_external_reward\" => true,\"demon_eta\" => 1.0,\"horde_type\" => \"regular\",\"drifter\" => \"(1.0, sqrt(0.01))\",\"_GIT_INFO\" => \"0\"…), [\"steps\", \"exploration_strategy\", \"use_external_reward\", \"demon_lambda\", \"save_keys\", \"demon_update\", \"demon_learner\", \"behaviour_update\", \"behaviour_opt\", \"behaviour_lambda\"  …  \"demon_trace\", \"behaviour_gamma\", \"behaviour_trace\", \"distractor\", \"save_dir\", \"demon_alpha_init\", \"demon_opt\", \"seed\", \"demon_discounts\", \"demon_policy_type\"]), Reproduce.Item(\"../TMazeDrifterDistractor/data/RP_0_0x3b86d596e060b7e1\", Dict{String,Any}(\"logger_keys\" => [\"TTMAZE_ERROR\"],\"steps\" => 2000,\"behaviour_learner\" => \"Q\",\"exploration_param\" => 0.0,\"exploration_strategy\" => \"epsilon_greedy\",\"use_external_reward\" => true,\"demon_eta\" => 1.0,\"horde_type\" => \"regular\",\"drifter\" => \"(1.0, sqrt(0.01))\",\"_GIT_INFO\" => \"0\"…), [\"steps\", \"exploration_strategy\", \"use_external_reward\", \"demon_lambda\", \"save_keys\", \"demon_update\", \"demon_learner\", \"behaviour_update\", \"behaviour_opt\", \"behaviour_lambda\"  …  \"demon_trace\", \"behaviour_gamma\", \"behaviour_trace\", \"distractor\", \"save_dir\", \"demon_alpha_init\", \"demon_opt\", \"seed\", \"demon_discounts\", \"demon_policy_type\"]), Reproduce.Item(\"../TMazeDrifterDistractor/data/RP_0_0x52c128535d6c171c\", Dict{String,Any}(\"logger_keys\" => [\"TTMAZE_ERROR\"],\"steps\" => 2000,\"behaviour_learner\" => \"Q\",\"exploration_param\" => 0.0,\"exploration_strategy\" => \"epsilon_greedy\",\"use_external_reward\" => true,\"demon_eta\" => 1.0,\"horde_type\" => \"regular\",\"drifter\" => \"(1.0, sqrt(0.01))\",\"_GIT_INFO\" => \"0\"…), [\"steps\", \"exploration_strategy\", \"use_external_reward\", \"demon_lambda\", \"save_keys\", \"demon_update\", \"demon_learner\", \"behaviour_update\", \"behaviour_opt\", \"behaviour_lambda\"  …  \"demon_trace\", \"behaviour_gamma\", \"behaviour_trace\", \"distractor\", \"save_dir\", \"demon_alpha_init\", \"demon_opt\", \"seed\", \"demon_discounts\", \"demon_policy_type\"]), Reproduce.Item(\"../TMazeDrifterDistractor/data/RP_0_0x6a3209b854ac6fef\", Dict{String,Any}(\"logger_keys\" => [\"TTMAZE_ERROR\"],\"steps\" => 2000,\"behaviour_learner\" => \"Q\",\"exploration_param\" => 0.0,\"exploration_strategy\" => \"epsilon_greedy\",\"use_external_reward\" => true,\"demon_eta\" => 1.0,\"horde_type\" => \"regular\",\"drifter\" => \"(1.0, sqrt(0.01))\",\"_GIT_INFO\" => \"0\"…), [\"steps\", \"exploration_strategy\", \"use_external_reward\", \"demon_lambda\", \"save_keys\", \"demon_update\", \"demon_learner\", \"behaviour_update\", \"behaviour_opt\", \"behaviour_lambda\"  …  \"demon_trace\", \"behaviour_gamma\", \"behaviour_trace\", \"distractor\", \"save_dir\", \"demon_alpha_init\", \"demon_opt\", \"seed\", \"demon_discounts\", \"demon_policy_type\"]), Reproduce.Item(\"../TMazeDrifterDistractor/data/RP_0_0x7335d9309f997807\", Dict{String,Any}(\"logger_keys\" => [\"TTMAZE_ERROR\"],\"steps\" => 2000,\"behaviour_learner\" => \"Q\",\"exploration_param\" => 0.0,\"exploration_strategy\" => \"epsilon_greedy\",\"use_external_reward\" => true,\"demon_eta\" => 1.0,\"horde_type\" => \"regular\",\"drifter\" => \"(1.0, sqrt(0.01))\",\"_GIT_INFO\" => \"0\"…), [\"steps\", \"exploration_strategy\", \"use_external_reward\", \"demon_lambda\", \"save_keys\", \"demon_update\", \"demon_learner\", \"behaviour_update\", \"behaviour_opt\", \"behaviour_lambda\"  …  \"demon_trace\", \"behaviour_gamma\", \"behaviour_trace\", \"distractor\", \"save_dir\", \"demon_alpha_init\", \"demon_opt\", \"seed\", \"demon_discounts\", \"demon_policy_type\"]), Reproduce.Item(\"../TMazeDrifterDistractor/data/RP_0_0x83b5a429efff5b6f\", Dict{String,Any}(\"logger_keys\" => [\"TTMAZE_ERROR\"],\"steps\" => 2000,\"behaviour_learner\" => \"Q\",\"exploration_param\" => 0.0,\"exploration_strategy\" => \"epsilon_greedy\",\"use_external_reward\" => true,\"demon_eta\" => 1.0,\"horde_type\" => \"regular\",\"drifter\" => \"(1.0, sqrt(0.01))\",\"_GIT_INFO\" => \"0\"…), [\"steps\", \"exploration_strategy\", \"use_external_reward\", \"demon_lambda\", \"save_keys\", \"demon_update\", \"demon_learner\", \"behaviour_update\", \"behaviour_opt\", \"behaviour_lambda\"  …  \"demon_trace\", \"behaviour_gamma\", \"behaviour_trace\", \"distractor\", \"save_dir\", \"demon_alpha_init\", \"demon_opt\", \"seed\", \"demon_discounts\", \"demon_policy_type\"]), Reproduce.Item(\"../TMazeDrifterDistractor/data/RP_0_0x8d2ecc3634c188ed\", Dict{String,Any}(\"logger_keys\" => [\"TTMAZE_ERROR\"],\"steps\" => 2000,\"behaviour_learner\" => \"Q\",\"exploration_param\" => 0.0,\"exploration_strategy\" => \"epsilon_greedy\",\"use_external_reward\" => true,\"demon_eta\" => 1.0,\"horde_type\" => \"regular\",\"drifter\" => \"(1.0, sqrt(0.01))\",\"_GIT_INFO\" => \"0\"…), [\"steps\", \"exploration_strategy\", \"use_external_reward\", \"demon_lambda\", \"save_keys\", \"demon_update\", \"demon_learner\", \"behaviour_update\", \"behaviour_opt\", \"behaviour_lambda\"  …  \"demon_trace\", \"behaviour_gamma\", \"behaviour_trace\", \"distractor\", \"save_dir\", \"demon_alpha_init\", \"demon_opt\", \"seed\", \"demon_discounts\", \"demon_policy_type\"]), Reproduce.Item(\"../TMazeDrifterDistractor/data/RP_0_0x9431d36c05681e2c\", Dict{String,Any}(\"logger_keys\" => [\"TTMAZE_ERROR\"],\"steps\" => 2000,\"behaviour_learner\" => \"Q\",\"exploration_param\" => 0.0,\"exploration_strategy\" => \"epsilon_greedy\",\"use_external_reward\" => true,\"demon_eta\" => 1.0,\"horde_type\" => \"regular\",\"drifter\" => \"(1.0, sqrt(0.01))\",\"_GIT_INFO\" => \"0\"…), [\"steps\", \"exploration_strategy\", \"use_external_reward\", \"demon_lambda\", \"save_keys\", \"demon_update\", \"demon_learner\", \"behaviour_update\", \"behaviour_opt\", \"behaviour_lambda\"  …  \"demon_trace\", \"behaviour_gamma\", \"behaviour_trace\", \"distractor\", \"save_dir\", \"demon_alpha_init\", \"demon_opt\", \"seed\", \"demon_discounts\", \"demon_policy_type\"]), Reproduce.Item(\"../TMazeDrifterDistractor/data/RP_0_0x9e2d8c425b63466f\", Dict{String,Any}(\"logger_keys\" => [\"TTMAZE_ERROR\"],\"steps\" => 2000,\"behaviour_learner\" => \"Q\",\"exploration_param\" => 0.0,\"exploration_strategy\" => \"epsilon_greedy\",\"use_external_reward\" => true,\"demon_eta\" => 1.0,\"horde_type\" => \"regular\",\"drifter\" => \"(1.0, sqrt(0.01))\",\"_GIT_INFO\" => \"0\"…), [\"steps\", \"exploration_strategy\", \"use_external_reward\", \"demon_lambda\", \"save_keys\", \"demon_update\", \"demon_learner\", \"behaviour_update\", \"behaviour_opt\", \"behaviour_lambda\"  …  \"demon_trace\", \"behaviour_gamma\", \"behaviour_trace\", \"distractor\", \"save_dir\", \"demon_alpha_init\", \"demon_opt\", \"seed\", \"demon_discounts\", \"demon_policy_type\"]), Reproduce.Item(\"../TMazeDrifterDistractor/data/RP_0_0xaa9420cfdc259d1\", Dict{String,Any}(\"logger_keys\" => [\"TTMAZE_ERROR\"],\"steps\" => 2000,\"behaviour_learner\" => \"Q\",\"exploration_param\" => 0.0,\"exploration_strategy\" => \"epsilon_greedy\",\"use_external_reward\" => true,\"demon_eta\" => 1.0,\"horde_type\" => \"regular\",\"drifter\" => \"(1.0, sqrt(0.01))\",\"_GIT_INFO\" => \"0\"…), [\"steps\", \"exploration_strategy\", \"use_external_reward\", \"demon_lambda\", \"save_keys\", \"demon_update\", \"demon_learner\", \"behaviour_update\", \"behaviour_opt\", \"behaviour_lambda\"  …  \"demon_trace\", \"behaviour_gamma\", \"behaviour_trace\", \"distractor\", \"save_dir\", \"demon_alpha_init\", \"demon_opt\", \"seed\", \"demon_discounts\", \"demon_policy_type\"]), Reproduce.Item(\"../TMazeDrifterDistractor/data/RP_0_0xb8a787602a024d58\", Dict{String,Any}(\"logger_keys\" => [\"TTMAZE_ERROR\"],\"steps\" => 2000,\"behaviour_learner\" => \"Q\",\"exploration_param\" => 0.0,\"exploration_strategy\" => \"epsilon_greedy\",\"use_external_reward\" => true,\"demon_eta\" => 1.0,\"horde_type\" => \"regular\",\"drifter\" => \"(1.0, sqrt(0.01))\",\"_GIT_INFO\" => \"0\"…), [\"steps\", \"exploration_strategy\", \"use_external_reward\", \"demon_lambda\", \"save_keys\", \"demon_update\", \"demon_learner\", \"behaviour_update\", \"behaviour_opt\", \"behaviour_lambda\"  …  \"demon_trace\", \"behaviour_gamma\", \"behaviour_trace\", \"distractor\", \"save_dir\", \"demon_alpha_init\", \"demon_opt\", \"seed\", \"demon_discounts\", \"demon_policy_type\"]), Reproduce.Item(\"../TMazeDrifterDistractor/data/RP_0_0xe6bafeee60850b27\", Dict{String,Any}(\"logger_keys\" => [\"TTMAZE_ERROR\"],\"steps\" => 2000,\"behaviour_learner\" => \"Q\",\"exploration_param\" => 0.0,\"exploration_strategy\" => \"epsilon_greedy\",\"use_external_reward\" => true,\"demon_eta\" => 1.0,\"horde_type\" => \"regular\",\"drifter\" => \"(1.0, sqrt(0.01))\",\"_GIT_INFO\" => \"0\"…), [\"steps\", \"exploration_strategy\", \"use_external_reward\", \"demon_lambda\", \"save_keys\", \"demon_update\", \"demon_learner\", \"behaviour_update\", \"behaviour_opt\", \"behaviour_lambda\"  …  \"demon_trace\", \"behaviour_gamma\", \"behaviour_trace\", \"distractor\", \"save_dir\", \"demon_alpha_init\", \"demon_opt\", \"seed\", \"demon_discounts\", \"demon_policy_type\"]), Reproduce.Item(\"../TMazeDrifterDistractor/data/RP_0_0xf2a76d7a3f0d3c92\", Dict{String,Any}(\"logger_keys\" => [\"TTMAZE_ERROR\"],\"steps\" => 2000,\"behaviour_learner\" => \"Q\",\"exploration_param\" => 0.0,\"exploration_strategy\" => \"epsilon_greedy\",\"use_external_reward\" => true,\"demon_eta\" => 1.0,\"horde_type\" => \"regular\",\"drifter\" => \"(1.0, sqrt(0.01))\",\"_GIT_INFO\" => \"0\"…), [\"steps\", \"exploration_strategy\", \"use_external_reward\", \"demon_lambda\", \"save_keys\", \"demon_update\", \"demon_learner\", \"behaviour_update\", \"behaviour_opt\", \"behaviour_lambda\"  …  \"demon_trace\", \"behaviour_gamma\", \"behaviour_trace\", \"distractor\", \"save_dir\", \"demon_alpha_init\", \"demon_opt\", \"seed\", \"demon_discounts\", \"demon_policy_type\"])], 0x0000000000000000)"
      ]
     },
     "execution_count": 226,
     "metadata": {},
     "output_type": "execute_result"
    }
   ],
   "source": [
    "algos_ics = [search(ic,algo_divisor) for algo_divisor in algo_divisors]\n",
    "# sweep_params = [\"behaviour_alpha\",\"demon_alpha\", \"demon_alpha_init\"]\n",
    "sweep_params = [\"demon_eta\"]\n",
    "best_per_algo_ics = [get_best(algo_ic,sweep_params, :ttmaze_error) for algo_ic in algos_ics]"
   ]
  },
  {
   "cell_type": "code",
   "execution_count": 227,
   "metadata": {},
   "outputs": [
    {
     "name": "stdout",
     "output_type": "stream",
     "text": [
      "For IC: \n",
      "demon_eta  0.25\n",
      "demon_opt  Auto\n",
      "demon_learner  Q\n",
      "\n",
      "For IC: \n",
      "demon_eta  0.25\n",
      "demon_opt  Auto\n",
      "demon_learner  SR\n",
      "\n",
      "For IC: \n",
      "demon_eta  1.0\n",
      "demon_opt  Descent\n",
      "demon_learner  Q\n",
      "\n",
      "For IC: \n",
      "demon_eta  1.0\n",
      "demon_opt  Descent\n",
      "demon_learner  SR\n",
      "\n"
     ]
    },
    {
     "data": {
      "text/plain": [
       "4-element Array{Nothing,1}:\n",
       " nothing\n",
       " nothing\n",
       " nothing\n",
       " nothing"
      ]
     },
     "execution_count": 227,
     "metadata": {},
     "output_type": "execute_result"
    }
   ],
   "source": [
    "function print_params(ic, algo_params, sweep_params)\n",
    "    println(\"For IC: \")\n",
    "    for p in algo_params\n",
    "        println(p,\"  \", ic[1].parsed_args[p])\n",
    "    end\n",
    "    for p in sweep_params\n",
    "        println(p,\"  \", ic[1].parsed_args[p])\n",
    "    end\n",
    "    println()\n",
    "end\n",
    "\n",
    "\n",
    "[print_params(best_per_algo_ics[i], sweep_params, algo_divisor_keys) for i in 1:length(best_per_algo_ics)]"
   ]
  },
  {
   "cell_type": "code",
   "execution_count": 231,
   "metadata": {},
   "outputs": [
    {
     "name": "stdout",
     "output_type": "stream",
     "text": [
      "[\" demon_eta:0.25\", \" demon_eta:0.25\", \" demon_eta:1.0\", \" demon_eta:1.0\"]\n"
     ]
    }
   ],
   "source": [
    "data = [smooth(get_stats(load_results(ic,:ttmaze_error))[1],5) for ic in best_per_algo_ics]\n",
    "data_std = [smooth(get_stats(load_results(ic,:ttmaze_error))[2],5) for ic in best_per_algo_ics]\n",
    "function get_label(ic, label_keys)\n",
    "    label_str = \"\"\n",
    "    for k in label_keys\n",
    "        label_str = string(label_str, \" \",k,\":\", ic.items[1].parsed_args[k])\n",
    "    end\n",
    "    return label_str\n",
    "end\n",
    "labels = [get_label(ic, algo_divisor_keys) for ic in best_per_algo_ics]\n",
    "\n",
    "println([get_label(ic, sweep_params) for ic in best_per_algo_ics])\n"
   ]
  },
  {
   "cell_type": "code",
   "execution_count": 232,
   "metadata": {},
   "outputs": [
    {
     "data": {
      "text/plain": [
       "plot_mc_errors (generic function with 1 method)"
      ]
     },
     "execution_count": 232,
     "metadata": {},
     "output_type": "execute_result"
    }
   ],
   "source": [
    "function plot_mc_errors(errors,labels; step_increment = 50, data_std = nothing, title = \"\")\n",
    "    num_samples = length(errors[1])\n",
    "    xticks=collect(step_increment:step_increment:num_samples*step_increment)\n",
    "    p = plot(xlabel=\"Steps\", ylabel=\"MSE\", title=title)\n",
    "    for (ind,err) in enumerate(errors)\n",
    "        if isnothing(data_std)\n",
    "            plot!(p,xticks,err,label=labels[ind])\n",
    "        else\n",
    "            plot!(p,xticks,err,label=labels[ind],ribbon=data_std)\n",
    "        end\n",
    "    end\n",
    "    display(p)\n",
    "end\n"
   ]
  },
  {
   "cell_type": "code",
   "execution_count": 233,
   "metadata": {},
   "outputs": [
    {
     "data": {
      "text/plain": [
       "smooth (generic function with 1 method)"
      ]
     },
     "execution_count": 233,
     "metadata": {},
     "output_type": "execute_result"
    }
   ],
   "source": [
    "function smooth(data, k)\n",
    "    smoothed_data = zeros(size(data))\n",
    "    for i = 1:size(data, 1)\n",
    "        if i < k\n",
    "            smoothed_data[i] = mean(data[1:i])\n",
    "        else\n",
    "            smoothed_data[i] = mean(data[i - k + 1:i])\n",
    "        end\n",
    "    end\n",
    "    return smoothed_data\n",
    "end"
   ]
  },
  {
   "cell_type": "code",
   "execution_count": 248,
   "metadata": {},
   "outputs": [
    {
     "data": {
      "text/plain": [
       "15-element Array{Float64,1}:\n",
       "   56.04605301994469\n",
       "  536.2361888678552\n",
       "   68.90443318848493\n",
       "   50.40066097808415\n",
       " 2632.0256817811737\n",
       "  403.51718605640485\n",
       " 1074.4663593541786\n",
       " 1064.4563849833082\n",
       " 1487.6718403921943\n",
       " 1403.2067596504216\n",
       "  719.1268007268227\n",
       "  728.905336742958\n",
       "   11.844576116953451\n",
       "  161.75233671875512\n",
       " 1278.9758053432001"
      ]
     },
     "execution_count": 248,
     "metadata": {},
     "output_type": "execute_result"
    }
   ],
   "source": [
    "raw_data = [(load_results(ic,:ttmaze_error)) for ic in best_per_algo_ics]\n",
    "\n",
    "raw_data[4][1,40,:]"
   ]
  },
  {
   "cell_type": "code",
   "execution_count": 235,
   "metadata": {},
   "outputs": [
    {
     "data": {
      "image/svg+xml": [
       "<?xml version=\"1.0\" encoding=\"utf-8\"?>\n",
       "<svg xmlns=\"http://www.w3.org/2000/svg\" xmlns:xlink=\"http://www.w3.org/1999/xlink\" width=\"600\" height=\"400\" viewBox=\"0 0 2400 1600\">\n",
       "<defs>\n",
       "  <clipPath id=\"clip610\">\n",
       "    <rect x=\"0\" y=\"0\" width=\"2400\" height=\"1600\"/>\n",
       "  </clipPath>\n",
       "</defs>\n",
       "<path clip-path=\"url(#clip610)\" d=\"\n",
       "M0 1600 L2400 1600 L2400 0 L0 0  Z\n",
       "  \" fill=\"#ffffff\" fill-rule=\"evenodd\" fill-opacity=\"1\"/>\n",
       "<defs>\n",
       "  <clipPath id=\"clip611\">\n",
       "    <rect x=\"480\" y=\"0\" width=\"1681\" height=\"1600\"/>\n",
       "  </clipPath>\n",
       "</defs>\n",
       "<path clip-path=\"url(#clip610)\" d=\"\n",
       "M281.949 1423.18 L2352.76 1423.18 L2352.76 123.472 L281.949 123.472  Z\n",
       "  \" fill=\"#ffffff\" fill-rule=\"evenodd\" fill-opacity=\"1\"/>\n",
       "<defs>\n",
       "  <clipPath id=\"clip612\">\n",
       "    <rect x=\"281\" y=\"123\" width=\"2072\" height=\"1301\"/>\n",
       "  </clipPath>\n",
       "</defs>\n",
       "<polyline clip-path=\"url(#clip612)\" style=\"stroke:#000000; stroke-width:2; stroke-opacity:0.1; fill:none\" points=\"\n",
       "  290.465,1423.18 290.465,123.472 \n",
       "  \"/>\n",
       "<polyline clip-path=\"url(#clip612)\" style=\"stroke:#000000; stroke-width:2; stroke-opacity:0.1; fill:none\" points=\"\n",
       "  791.386,1423.18 791.386,123.472 \n",
       "  \"/>\n",
       "<polyline clip-path=\"url(#clip612)\" style=\"stroke:#000000; stroke-width:2; stroke-opacity:0.1; fill:none\" points=\"\n",
       "  1292.31,1423.18 1292.31,123.472 \n",
       "  \"/>\n",
       "<polyline clip-path=\"url(#clip612)\" style=\"stroke:#000000; stroke-width:2; stroke-opacity:0.1; fill:none\" points=\"\n",
       "  1793.23,1423.18 1793.23,123.472 \n",
       "  \"/>\n",
       "<polyline clip-path=\"url(#clip612)\" style=\"stroke:#000000; stroke-width:2; stroke-opacity:0.1; fill:none\" points=\"\n",
       "  2294.15,1423.18 2294.15,123.472 \n",
       "  \"/>\n",
       "<polyline clip-path=\"url(#clip610)\" style=\"stroke:#000000; stroke-width:4; stroke-opacity:1; fill:none\" points=\"\n",
       "  281.949,1423.18 2352.76,1423.18 \n",
       "  \"/>\n",
       "<polyline clip-path=\"url(#clip610)\" style=\"stroke:#000000; stroke-width:4; stroke-opacity:1; fill:none\" points=\"\n",
       "  290.465,1423.18 290.465,1407.58 \n",
       "  \"/>\n",
       "<polyline clip-path=\"url(#clip610)\" style=\"stroke:#000000; stroke-width:4; stroke-opacity:1; fill:none\" points=\"\n",
       "  791.386,1423.18 791.386,1407.58 \n",
       "  \"/>\n",
       "<polyline clip-path=\"url(#clip610)\" style=\"stroke:#000000; stroke-width:4; stroke-opacity:1; fill:none\" points=\"\n",
       "  1292.31,1423.18 1292.31,1407.58 \n",
       "  \"/>\n",
       "<polyline clip-path=\"url(#clip610)\" style=\"stroke:#000000; stroke-width:4; stroke-opacity:1; fill:none\" points=\"\n",
       "  1793.23,1423.18 1793.23,1407.58 \n",
       "  \"/>\n",
       "<polyline clip-path=\"url(#clip610)\" style=\"stroke:#000000; stroke-width:4; stroke-opacity:1; fill:none\" points=\"\n",
       "  2294.15,1423.18 2294.15,1407.58 \n",
       "  \"/>\n",
       "<path clip-path=\"url(#clip610)\" d=\"M 0 0 M290.465 1452.37 Q286.854 1452.37 285.025 1455.94 Q283.22 1459.48 283.22 1466.61 Q283.22 1473.71 285.025 1477.28 Q286.854 1480.82 290.465 1480.82 Q294.099 1480.82 295.905 1477.28 Q297.733 1473.71 297.733 1466.61 Q297.733 1459.48 295.905 1455.94 Q294.099 1452.37 290.465 1452.37 M290.465 1448.67 Q296.275 1448.67 299.331 1453.27 Q302.409 1457.86 302.409 1466.61 Q302.409 1475.33 299.331 1479.94 Q296.275 1484.52 290.465 1484.52 Q284.655 1484.52 281.576 1479.94 Q278.521 1475.33 278.521 1466.61 Q278.521 1457.86 281.576 1453.27 Q284.655 1448.67 290.465 1448.67 Z\" fill=\"#000000\" fill-rule=\"evenodd\" fill-opacity=\"1\" /><path clip-path=\"url(#clip610)\" d=\"M 0 0 M754.65 1449.29 L773.006 1449.29 L773.006 1453.23 L758.932 1453.23 L758.932 1461.7 Q759.951 1461.35 760.969 1461.19 Q761.988 1461 763.006 1461 Q768.793 1461 772.173 1464.18 Q775.552 1467.35 775.552 1472.76 Q775.552 1478.34 772.08 1481.44 Q768.608 1484.52 762.289 1484.52 Q760.113 1484.52 757.844 1484.15 Q755.599 1483.78 753.191 1483.04 L753.191 1478.34 Q755.275 1479.48 757.497 1480.03 Q759.719 1480.59 762.196 1480.59 Q766.201 1480.59 768.539 1478.48 Q770.877 1476.38 770.877 1472.76 Q770.877 1469.15 768.539 1467.05 Q766.201 1464.94 762.196 1464.94 Q760.321 1464.94 758.446 1465.36 Q756.594 1465.77 754.65 1466.65 L754.65 1449.29 Z\" fill=\"#000000\" fill-rule=\"evenodd\" fill-opacity=\"1\" /><path clip-path=\"url(#clip610)\" d=\"M 0 0 M790.622 1452.37 Q787.011 1452.37 785.182 1455.94 Q783.377 1459.48 783.377 1466.61 Q783.377 1473.71 785.182 1477.28 Q787.011 1480.82 790.622 1480.82 Q794.256 1480.82 796.062 1477.28 Q797.89 1473.71 797.89 1466.61 Q797.89 1459.48 796.062 1455.94 Q794.256 1452.37 790.622 1452.37 M790.622 1448.67 Q796.432 1448.67 799.488 1453.27 Q802.566 1457.86 802.566 1466.61 Q802.566 1475.33 799.488 1479.94 Q796.432 1484.52 790.622 1484.52 Q784.812 1484.52 781.733 1479.94 Q778.677 1475.33 778.677 1466.61 Q778.677 1457.86 781.733 1453.27 Q784.812 1448.67 790.622 1448.67 Z\" fill=\"#000000\" fill-rule=\"evenodd\" fill-opacity=\"1\" /><path clip-path=\"url(#clip610)\" d=\"M 0 0 M817.636 1452.37 Q814.025 1452.37 812.196 1455.94 Q810.39 1459.48 810.39 1466.61 Q810.39 1473.71 812.196 1477.28 Q814.025 1480.82 817.636 1480.82 Q821.27 1480.82 823.075 1477.28 Q824.904 1473.71 824.904 1466.61 Q824.904 1459.48 823.075 1455.94 Q821.27 1452.37 817.636 1452.37 M817.636 1448.67 Q823.446 1448.67 826.501 1453.27 Q829.58 1457.86 829.58 1466.61 Q829.58 1475.33 826.501 1479.94 Q823.446 1484.52 817.636 1484.52 Q811.825 1484.52 808.747 1479.94 Q805.691 1475.33 805.691 1466.61 Q805.691 1457.86 808.747 1453.27 Q811.825 1448.67 817.636 1448.67 Z\" fill=\"#000000\" fill-rule=\"evenodd\" fill-opacity=\"1\" /><path clip-path=\"url(#clip610)\" d=\"M 0 0 M1242.17 1479.92 L1249.81 1479.92 L1249.81 1453.55 L1241.5 1455.22 L1241.5 1450.96 L1249.76 1449.29 L1254.44 1449.29 L1254.44 1479.92 L1262.08 1479.92 L1262.08 1483.85 L1242.17 1483.85 L1242.17 1479.92 Z\" fill=\"#000000\" fill-rule=\"evenodd\" fill-opacity=\"1\" /><path clip-path=\"url(#clip610)\" d=\"M 0 0 M1277.14 1452.37 Q1273.53 1452.37 1271.7 1455.94 Q1269.9 1459.48 1269.9 1466.61 Q1269.9 1473.71 1271.7 1477.28 Q1273.53 1480.82 1277.14 1480.82 Q1280.78 1480.82 1282.58 1477.28 Q1284.41 1473.71 1284.41 1466.61 Q1284.41 1459.48 1282.58 1455.94 Q1280.78 1452.37 1277.14 1452.37 M1277.14 1448.67 Q1282.95 1448.67 1286.01 1453.27 Q1289.09 1457.86 1289.09 1466.61 Q1289.09 1475.33 1286.01 1479.94 Q1282.95 1484.52 1277.14 1484.52 Q1271.33 1484.52 1268.26 1479.94 Q1265.2 1475.33 1265.2 1466.61 Q1265.2 1457.86 1268.26 1453.27 Q1271.33 1448.67 1277.14 1448.67 Z\" fill=\"#000000\" fill-rule=\"evenodd\" fill-opacity=\"1\" /><path clip-path=\"url(#clip610)\" d=\"M 0 0 M1304.16 1452.37 Q1300.55 1452.37 1298.72 1455.94 Q1296.91 1459.48 1296.91 1466.61 Q1296.91 1473.71 1298.72 1477.28 Q1300.55 1480.82 1304.16 1480.82 Q1307.79 1480.82 1309.6 1477.28 Q1311.43 1473.71 1311.43 1466.61 Q1311.43 1459.48 1309.6 1455.94 Q1307.79 1452.37 1304.16 1452.37 M1304.16 1448.67 Q1309.97 1448.67 1313.02 1453.27 Q1316.1 1457.86 1316.1 1466.61 Q1316.1 1475.33 1313.02 1479.94 Q1309.97 1484.52 1304.16 1484.52 Q1298.35 1484.52 1295.27 1479.94 Q1292.21 1475.33 1292.21 1466.61 Q1292.21 1457.86 1295.27 1453.27 Q1298.35 1448.67 1304.16 1448.67 Z\" fill=\"#000000\" fill-rule=\"evenodd\" fill-opacity=\"1\" /><path clip-path=\"url(#clip610)\" d=\"M 0 0 M1331.17 1452.37 Q1327.56 1452.37 1325.73 1455.94 Q1323.93 1459.48 1323.93 1466.61 Q1323.93 1473.71 1325.73 1477.28 Q1327.56 1480.82 1331.17 1480.82 Q1334.81 1480.82 1336.61 1477.28 Q1338.44 1473.71 1338.44 1466.61 Q1338.44 1459.48 1336.61 1455.94 Q1334.81 1452.37 1331.17 1452.37 M1331.17 1448.67 Q1336.98 1448.67 1340.04 1453.27 Q1343.12 1457.86 1343.12 1466.61 Q1343.12 1475.33 1340.04 1479.94 Q1336.98 1484.52 1331.17 1484.52 Q1325.36 1484.52 1322.28 1479.94 Q1319.23 1475.33 1319.23 1466.61 Q1319.23 1457.86 1322.28 1453.27 Q1325.36 1448.67 1331.17 1448.67 Z\" fill=\"#000000\" fill-rule=\"evenodd\" fill-opacity=\"1\" /><path clip-path=\"url(#clip610)\" d=\"M 0 0 M1743.59 1479.92 L1751.23 1479.92 L1751.23 1453.55 L1742.92 1455.22 L1742.92 1450.96 L1751.18 1449.29 L1755.85 1449.29 L1755.85 1479.92 L1763.49 1479.92 L1763.49 1483.85 L1743.59 1483.85 L1743.59 1479.92 Z\" fill=\"#000000\" fill-rule=\"evenodd\" fill-opacity=\"1\" /><path clip-path=\"url(#clip610)\" d=\"M 0 0 M1768.61 1449.29 L1786.97 1449.29 L1786.97 1453.23 L1772.89 1453.23 L1772.89 1461.7 Q1773.91 1461.35 1774.93 1461.19 Q1775.95 1461 1776.97 1461 Q1782.75 1461 1786.13 1464.18 Q1789.51 1467.35 1789.51 1472.76 Q1789.51 1478.34 1786.04 1481.44 Q1782.57 1484.52 1776.25 1484.52 Q1774.07 1484.52 1771.8 1484.15 Q1769.56 1483.78 1767.15 1483.04 L1767.15 1478.34 Q1769.23 1479.48 1771.46 1480.03 Q1773.68 1480.59 1776.16 1480.59 Q1780.16 1480.59 1782.5 1478.48 Q1784.84 1476.38 1784.84 1472.76 Q1784.84 1469.15 1782.5 1467.05 Q1780.16 1464.94 1776.16 1464.94 Q1774.28 1464.94 1772.41 1465.36 Q1770.55 1465.77 1768.61 1466.65 L1768.61 1449.29 Z\" fill=\"#000000\" fill-rule=\"evenodd\" fill-opacity=\"1\" /><path clip-path=\"url(#clip610)\" d=\"M 0 0 M1804.58 1452.37 Q1800.97 1452.37 1799.14 1455.94 Q1797.34 1459.48 1797.34 1466.61 Q1797.34 1473.71 1799.14 1477.28 Q1800.97 1480.82 1804.58 1480.82 Q1808.22 1480.82 1810.02 1477.28 Q1811.85 1473.71 1811.85 1466.61 Q1811.85 1459.48 1810.02 1455.94 Q1808.22 1452.37 1804.58 1452.37 M1804.58 1448.67 Q1810.39 1448.67 1813.45 1453.27 Q1816.53 1457.86 1816.53 1466.61 Q1816.53 1475.33 1813.45 1479.94 Q1810.39 1484.52 1804.58 1484.52 Q1798.77 1484.52 1795.69 1479.94 Q1792.64 1475.33 1792.64 1466.61 Q1792.64 1457.86 1795.69 1453.27 Q1798.77 1448.67 1804.58 1448.67 Z\" fill=\"#000000\" fill-rule=\"evenodd\" fill-opacity=\"1\" /><path clip-path=\"url(#clip610)\" d=\"M 0 0 M1831.6 1452.37 Q1827.98 1452.37 1826.16 1455.94 Q1824.35 1459.48 1824.35 1466.61 Q1824.35 1473.71 1826.16 1477.28 Q1827.98 1480.82 1831.6 1480.82 Q1835.23 1480.82 1837.03 1477.28 Q1838.86 1473.71 1838.86 1466.61 Q1838.86 1459.48 1837.03 1455.94 Q1835.23 1452.37 1831.6 1452.37 M1831.6 1448.67 Q1837.41 1448.67 1840.46 1453.27 Q1843.54 1457.86 1843.54 1466.61 Q1843.54 1475.33 1840.46 1479.94 Q1837.41 1484.52 1831.6 1484.52 Q1825.79 1484.52 1822.71 1479.94 Q1819.65 1475.33 1819.65 1466.61 Q1819.65 1457.86 1822.71 1453.27 Q1825.79 1448.67 1831.6 1448.67 Z\" fill=\"#000000\" fill-rule=\"evenodd\" fill-opacity=\"1\" /><path clip-path=\"url(#clip610)\" d=\"M 0 0 M2248.28 1479.92 L2264.6 1479.92 L2264.6 1483.85 L2242.66 1483.85 L2242.66 1479.92 Q2245.32 1477.16 2249.9 1472.53 Q2254.51 1467.88 2255.69 1466.54 Q2257.93 1464.01 2258.81 1462.28 Q2259.72 1460.52 2259.72 1458.83 Q2259.72 1456.07 2257.77 1454.34 Q2255.85 1452.6 2252.75 1452.6 Q2250.55 1452.6 2248.1 1453.37 Q2245.66 1454.13 2242.89 1455.68 L2242.89 1450.96 Q2245.71 1449.82 2248.16 1449.25 Q2250.62 1448.67 2252.66 1448.67 Q2258.03 1448.67 2261.22 1451.35 Q2264.41 1454.04 2264.41 1458.53 Q2264.41 1460.66 2263.6 1462.58 Q2262.82 1464.48 2260.71 1467.07 Q2260.13 1467.74 2257.03 1470.96 Q2253.93 1474.15 2248.28 1479.92 Z\" fill=\"#000000\" fill-rule=\"evenodd\" fill-opacity=\"1\" /><path clip-path=\"url(#clip610)\" d=\"M 0 0 M2279.67 1452.37 Q2276.06 1452.37 2274.23 1455.94 Q2272.42 1459.48 2272.42 1466.61 Q2272.42 1473.71 2274.23 1477.28 Q2276.06 1480.82 2279.67 1480.82 Q2283.3 1480.82 2285.11 1477.28 Q2286.94 1473.71 2286.94 1466.61 Q2286.94 1459.48 2285.11 1455.94 Q2283.3 1452.37 2279.67 1452.37 M2279.67 1448.67 Q2285.48 1448.67 2288.53 1453.27 Q2291.61 1457.86 2291.61 1466.61 Q2291.61 1475.33 2288.53 1479.94 Q2285.48 1484.52 2279.67 1484.52 Q2273.86 1484.52 2270.78 1479.94 Q2267.72 1475.33 2267.72 1466.61 Q2267.72 1457.86 2270.78 1453.27 Q2273.86 1448.67 2279.67 1448.67 Z\" fill=\"#000000\" fill-rule=\"evenodd\" fill-opacity=\"1\" /><path clip-path=\"url(#clip610)\" d=\"M 0 0 M2306.68 1452.37 Q2303.07 1452.37 2301.24 1455.94 Q2299.44 1459.48 2299.44 1466.61 Q2299.44 1473.71 2301.24 1477.28 Q2303.07 1480.82 2306.68 1480.82 Q2310.32 1480.82 2312.12 1477.28 Q2313.95 1473.71 2313.95 1466.61 Q2313.95 1459.48 2312.12 1455.94 Q2310.32 1452.37 2306.68 1452.37 M2306.68 1448.67 Q2312.49 1448.67 2315.55 1453.27 Q2318.63 1457.86 2318.63 1466.61 Q2318.63 1475.33 2315.55 1479.94 Q2312.49 1484.52 2306.68 1484.52 Q2300.87 1484.52 2297.79 1479.94 Q2294.74 1475.33 2294.74 1466.61 Q2294.74 1457.86 2297.79 1453.27 Q2300.87 1448.67 2306.68 1448.67 Z\" fill=\"#000000\" fill-rule=\"evenodd\" fill-opacity=\"1\" /><path clip-path=\"url(#clip610)\" d=\"M 0 0 M2333.7 1452.37 Q2330.09 1452.37 2328.26 1455.94 Q2326.45 1459.48 2326.45 1466.61 Q2326.45 1473.71 2328.26 1477.28 Q2330.09 1480.82 2333.7 1480.82 Q2337.33 1480.82 2339.14 1477.28 Q2340.97 1473.71 2340.97 1466.61 Q2340.97 1459.48 2339.14 1455.94 Q2337.33 1452.37 2333.7 1452.37 M2333.7 1448.67 Q2339.51 1448.67 2342.56 1453.27 Q2345.64 1457.86 2345.64 1466.61 Q2345.64 1475.33 2342.56 1479.94 Q2339.51 1484.52 2333.7 1484.52 Q2327.89 1484.52 2324.81 1479.94 Q2321.75 1475.33 2321.75 1466.61 Q2321.75 1457.86 2324.81 1453.27 Q2327.89 1448.67 2333.7 1448.67 Z\" fill=\"#000000\" fill-rule=\"evenodd\" fill-opacity=\"1\" /><path clip-path=\"url(#clip610)\" d=\"M 0 0 M1266.6 1522.08 L1266.6 1528.35 Q1262.94 1526.6 1259.7 1525.74 Q1256.45 1524.88 1253.42 1524.88 Q1248.17 1524.88 1245.31 1526.92 Q1242.48 1528.96 1242.48 1532.71 Q1242.48 1535.87 1244.35 1537.49 Q1246.26 1539.08 1251.55 1540.07 L1255.43 1540.86 Q1262.62 1542.23 1266.03 1545.7 Q1269.47 1549.14 1269.47 1554.93 Q1269.47 1561.84 1264.82 1565.4 Q1260.2 1568.97 1251.26 1568.97 Q1247.89 1568.97 1244.07 1568.2 Q1240.28 1567.44 1236.21 1565.94 L1236.21 1559.32 Q1240.12 1561.52 1243.88 1562.63 Q1247.63 1563.75 1251.26 1563.75 Q1256.77 1563.75 1259.76 1561.58 Q1262.75 1559.42 1262.75 1555.41 Q1262.75 1551.91 1260.59 1549.93 Q1258.45 1547.96 1253.55 1546.97 L1249.64 1546.21 Q1242.44 1544.78 1239.23 1541.72 Q1236.01 1538.67 1236.01 1533.22 Q1236.01 1526.92 1240.44 1523.29 Q1244.89 1519.66 1252.69 1519.66 Q1256.03 1519.66 1259.5 1520.27 Q1262.97 1520.87 1266.6 1522.08 Z\" fill=\"#000000\" fill-rule=\"evenodd\" fill-opacity=\"1\" /><path clip-path=\"url(#clip610)\" d=\"M 0 0 M1281.4 1522.27 L1281.4 1532.4 L1293.47 1532.4 L1293.47 1536.95 L1281.4 1536.95 L1281.4 1556.3 Q1281.4 1560.66 1282.58 1561.9 Q1283.79 1563.14 1287.45 1563.14 L1293.47 1563.14 L1293.47 1568.04 L1287.45 1568.04 Q1280.67 1568.04 1278.09 1565.53 Q1275.51 1562.98 1275.51 1556.3 L1275.51 1536.95 L1271.22 1536.95 L1271.22 1532.4 L1275.51 1532.4 L1275.51 1522.27 L1281.4 1522.27 Z\" fill=\"#000000\" fill-rule=\"evenodd\" fill-opacity=\"1\" /><path clip-path=\"url(#clip610)\" d=\"M 0 0 M1330.1 1548.76 L1330.1 1551.62 L1303.17 1551.62 Q1303.55 1557.67 1306.8 1560.85 Q1310.08 1564 1315.9 1564 Q1319.28 1564 1322.43 1563.17 Q1325.61 1562.35 1328.73 1560.69 L1328.73 1566.23 Q1325.58 1567.57 1322.27 1568.27 Q1318.96 1568.97 1315.55 1568.97 Q1307.02 1568.97 1302.03 1564 Q1297.06 1559.04 1297.06 1550.57 Q1297.06 1541.82 1301.77 1536.69 Q1306.51 1531.54 1314.54 1531.54 Q1321.73 1531.54 1325.9 1536.18 Q1330.1 1540.8 1330.1 1548.76 M1324.24 1547.04 Q1324.18 1542.23 1321.54 1539.37 Q1318.93 1536.5 1314.6 1536.5 Q1309.7 1536.5 1306.74 1539.27 Q1303.81 1542.04 1303.36 1547.07 L1324.24 1547.04 Z\" fill=\"#000000\" fill-rule=\"evenodd\" fill-opacity=\"1\" /><path clip-path=\"url(#clip610)\" d=\"M 0 0 M1341.91 1562.7 L1341.91 1581.6 L1336.02 1581.6 L1336.02 1532.4 L1341.91 1532.4 L1341.91 1537.81 Q1343.75 1534.62 1346.56 1533.1 Q1349.39 1531.54 1353.3 1531.54 Q1359.8 1531.54 1363.84 1536.69 Q1367.91 1541.85 1367.91 1550.25 Q1367.91 1558.65 1363.84 1563.81 Q1359.8 1568.97 1353.3 1568.97 Q1349.39 1568.97 1346.56 1567.44 Q1343.75 1565.88 1341.91 1562.7 M1361.83 1550.25 Q1361.83 1543.79 1359.16 1540.13 Q1356.52 1536.44 1351.87 1536.44 Q1347.22 1536.44 1344.55 1540.13 Q1341.91 1543.79 1341.91 1550.25 Q1341.91 1556.71 1344.55 1560.4 Q1347.22 1564.07 1351.87 1564.07 Q1356.52 1564.07 1359.16 1560.4 Q1361.83 1556.71 1361.83 1550.25 Z\" fill=\"#000000\" fill-rule=\"evenodd\" fill-opacity=\"1\" /><path clip-path=\"url(#clip610)\" d=\"M 0 0 M1396.78 1533.45 L1396.78 1538.98 Q1394.3 1537.71 1391.62 1537.07 Q1388.95 1536.44 1386.09 1536.44 Q1381.73 1536.44 1379.53 1537.77 Q1377.37 1539.11 1377.37 1541.79 Q1377.37 1543.82 1378.92 1545 Q1380.48 1546.15 1385.2 1547.2 L1387.2 1547.64 Q1393.44 1548.98 1396.05 1551.43 Q1398.69 1553.85 1398.69 1558.21 Q1398.69 1563.17 1394.74 1566.07 Q1390.83 1568.97 1383.95 1568.97 Q1381.09 1568.97 1377.97 1568.39 Q1374.88 1567.85 1371.45 1566.74 L1371.45 1560.69 Q1374.69 1562.38 1377.84 1563.24 Q1380.99 1564.07 1384.08 1564.07 Q1388.22 1564.07 1390.45 1562.66 Q1392.67 1561.23 1392.67 1558.65 Q1392.67 1556.27 1391.05 1554.99 Q1389.46 1553.72 1384.02 1552.54 L1381.98 1552.07 Q1376.54 1550.92 1374.12 1548.56 Q1371.7 1546.18 1371.7 1542.04 Q1371.7 1537.01 1375.26 1534.27 Q1378.83 1531.54 1385.39 1531.54 Q1388.63 1531.54 1391.5 1532.01 Q1394.36 1532.49 1396.78 1533.45 Z\" fill=\"#000000\" fill-rule=\"evenodd\" fill-opacity=\"1\" /><polyline clip-path=\"url(#clip612)\" style=\"stroke:#000000; stroke-width:2; stroke-opacity:0.1; fill:none\" points=\"\n",
       "  281.949,1202.85 2352.76,1202.85 \n",
       "  \"/>\n",
       "<polyline clip-path=\"url(#clip612)\" style=\"stroke:#000000; stroke-width:2; stroke-opacity:0.1; fill:none\" points=\"\n",
       "  281.949,912.56 2352.76,912.56 \n",
       "  \"/>\n",
       "<polyline clip-path=\"url(#clip612)\" style=\"stroke:#000000; stroke-width:2; stroke-opacity:0.1; fill:none\" points=\"\n",
       "  281.949,622.27 2352.76,622.27 \n",
       "  \"/>\n",
       "<polyline clip-path=\"url(#clip612)\" style=\"stroke:#000000; stroke-width:2; stroke-opacity:0.1; fill:none\" points=\"\n",
       "  281.949,331.98 2352.76,331.98 \n",
       "  \"/>\n",
       "<polyline clip-path=\"url(#clip610)\" style=\"stroke:#000000; stroke-width:4; stroke-opacity:1; fill:none\" points=\"\n",
       "  281.949,1423.18 281.949,123.472 \n",
       "  \"/>\n",
       "<polyline clip-path=\"url(#clip610)\" style=\"stroke:#000000; stroke-width:4; stroke-opacity:1; fill:none\" points=\"\n",
       "  281.949,1202.85 306.799,1202.85 \n",
       "  \"/>\n",
       "<polyline clip-path=\"url(#clip610)\" style=\"stroke:#000000; stroke-width:4; stroke-opacity:1; fill:none\" points=\"\n",
       "  281.949,912.56 306.799,912.56 \n",
       "  \"/>\n",
       "<polyline clip-path=\"url(#clip610)\" style=\"stroke:#000000; stroke-width:4; stroke-opacity:1; fill:none\" points=\"\n",
       "  281.949,622.27 306.799,622.27 \n",
       "  \"/>\n",
       "<polyline clip-path=\"url(#clip610)\" style=\"stroke:#000000; stroke-width:4; stroke-opacity:1; fill:none\" points=\"\n",
       "  281.949,331.98 306.799,331.98 \n",
       "  \"/>\n",
       "<path clip-path=\"url(#clip610)\" d=\"M 0 0 M123.126 1222.64 L139.445 1222.64 L139.445 1226.58 L117.501 1226.58 L117.501 1222.64 Q120.163 1219.89 124.746 1215.26 Q129.353 1210.61 130.533 1209.26 Q132.779 1206.74 133.658 1205 Q134.561 1203.24 134.561 1201.55 Q134.561 1198.8 132.617 1197.06 Q130.695 1195.33 127.593 1195.33 Q125.394 1195.33 122.941 1196.09 Q120.51 1196.86 117.732 1198.41 L117.732 1193.68 Q120.556 1192.55 123.01 1191.97 Q125.464 1191.39 127.501 1191.39 Q132.871 1191.39 136.066 1194.08 Q139.26 1196.76 139.26 1201.25 Q139.26 1203.38 138.45 1205.3 Q137.663 1207.2 135.556 1209.8 Q134.978 1210.47 131.876 1213.68 Q128.774 1216.88 123.126 1222.64 Z\" fill=\"#000000\" fill-rule=\"evenodd\" fill-opacity=\"1\" /><path clip-path=\"url(#clip610)\" d=\"M 0 0 M172.686 1201.11 L162.107 1211.74 L172.686 1222.32 L169.931 1225.12 L159.306 1214.49 L148.681 1225.12 L145.95 1222.32 L156.505 1211.74 L145.95 1201.11 L148.681 1198.31 L159.306 1208.94 L169.931 1198.31 L172.686 1201.11 Z\" fill=\"#000000\" fill-rule=\"evenodd\" fill-opacity=\"1\" /><path clip-path=\"url(#clip610)\" d=\"M 0 0 M178.565 1222.64 L186.204 1222.64 L186.204 1196.28 L177.894 1197.94 L177.894 1193.68 L186.158 1192.02 L190.834 1192.02 L190.834 1222.64 L198.473 1222.64 L198.473 1226.58 L178.565 1226.58 L178.565 1222.64 Z\" fill=\"#000000\" fill-rule=\"evenodd\" fill-opacity=\"1\" /><path clip-path=\"url(#clip610)\" d=\"M 0 0 M213.542 1195.1 Q209.931 1195.1 208.102 1198.66 Q206.297 1202.2 206.297 1209.33 Q206.297 1216.44 208.102 1220 Q209.931 1223.55 213.542 1223.55 Q217.176 1223.55 218.982 1220 Q220.811 1216.44 220.811 1209.33 Q220.811 1202.2 218.982 1198.66 Q217.176 1195.1 213.542 1195.1 M213.542 1191.39 Q219.352 1191.39 222.408 1196 Q225.486 1200.58 225.486 1209.33 Q225.486 1218.06 222.408 1222.67 Q219.352 1227.25 213.542 1227.25 Q207.732 1227.25 204.653 1222.67 Q201.598 1218.06 201.598 1209.33 Q201.598 1200.58 204.653 1196 Q207.732 1191.39 213.542 1191.39 Z\" fill=\"#000000\" fill-rule=\"evenodd\" fill-opacity=\"1\" /><path clip-path=\"url(#clip610)\" d=\"M 0 0 M238.163 1174.4 L228.571 1189.39 L238.163 1189.39 L238.163 1174.4 M237.166 1171.09 L241.943 1171.09 L241.943 1189.39 L245.949 1189.39 L245.949 1192.55 L241.943 1192.55 L241.943 1199.17 L238.163 1199.17 L238.163 1192.55 L225.486 1192.55 L225.486 1188.88 L237.166 1171.09 Z\" fill=\"#000000\" fill-rule=\"evenodd\" fill-opacity=\"1\" /><path clip-path=\"url(#clip610)\" d=\"M 0 0 M129.862 905.802 L118.056 924.251 L129.862 924.251 L129.862 905.802 M128.635 901.727 L134.515 901.727 L134.515 924.251 L139.445 924.251 L139.445 928.139 L134.515 928.139 L134.515 936.287 L129.862 936.287 L129.862 928.139 L114.26 928.139 L114.26 923.626 L128.635 901.727 Z\" fill=\"#000000\" fill-rule=\"evenodd\" fill-opacity=\"1\" /><path clip-path=\"url(#clip610)\" d=\"M 0 0 M172.686 910.825 L162.107 921.45 L172.686 932.028 L169.931 934.829 L159.306 924.204 L148.681 934.829 L145.95 932.028 L156.505 921.45 L145.95 910.825 L148.681 908.024 L159.306 918.649 L169.931 908.024 L172.686 910.825 Z\" fill=\"#000000\" fill-rule=\"evenodd\" fill-opacity=\"1\" /><path clip-path=\"url(#clip610)\" d=\"M 0 0 M178.565 932.352 L186.204 932.352 L186.204 905.987 L177.894 907.653 L177.894 903.394 L186.158 901.727 L190.834 901.727 L190.834 932.352 L198.473 932.352 L198.473 936.287 L178.565 936.287 L178.565 932.352 Z\" fill=\"#000000\" fill-rule=\"evenodd\" fill-opacity=\"1\" /><path clip-path=\"url(#clip610)\" d=\"M 0 0 M213.542 904.806 Q209.931 904.806 208.102 908.371 Q206.297 911.913 206.297 919.042 Q206.297 926.149 208.102 929.713 Q209.931 933.255 213.542 933.255 Q217.176 933.255 218.982 929.713 Q220.811 926.149 220.811 919.042 Q220.811 911.913 218.982 908.371 Q217.176 904.806 213.542 904.806 M213.542 901.102 Q219.352 901.102 222.408 905.709 Q225.486 910.292 225.486 919.042 Q225.486 927.769 222.408 932.375 Q219.352 936.959 213.542 936.959 Q207.732 936.959 204.653 932.375 Q201.598 927.769 201.598 919.042 Q201.598 910.292 204.653 905.709 Q207.732 901.102 213.542 901.102 Z\" fill=\"#000000\" fill-rule=\"evenodd\" fill-opacity=\"1\" /><path clip-path=\"url(#clip610)\" d=\"M 0 0 M238.163 884.107 L228.571 899.097 L238.163 899.097 L238.163 884.107 M237.166 880.797 L241.943 880.797 L241.943 899.097 L245.949 899.097 L245.949 902.257 L241.943 902.257 L241.943 908.877 L238.163 908.877 L238.163 902.257 L225.486 902.257 L225.486 898.589 L237.166 880.797 Z\" fill=\"#000000\" fill-rule=\"evenodd\" fill-opacity=\"1\" /><path clip-path=\"url(#clip610)\" d=\"M 0 0 M127.917 626.854 Q124.769 626.854 122.918 629.007 Q121.089 631.16 121.089 634.91 Q121.089 638.636 122.918 640.812 Q124.769 642.965 127.917 642.965 Q131.066 642.965 132.894 640.812 Q134.746 638.636 134.746 634.91 Q134.746 631.16 132.894 629.007 Q131.066 626.854 127.917 626.854 M137.2 612.201 L137.2 616.461 Q135.441 615.627 133.635 615.187 Q131.853 614.748 130.093 614.748 Q125.464 614.748 123.01 617.873 Q120.58 620.998 120.232 627.317 Q121.598 625.303 123.658 624.238 Q125.718 623.15 128.195 623.15 Q133.404 623.15 136.413 626.322 Q139.445 629.47 139.445 634.91 Q139.445 640.234 136.297 643.451 Q133.149 646.669 127.917 646.669 Q121.922 646.669 118.751 642.085 Q115.58 637.479 115.58 628.752 Q115.58 620.558 119.468 615.697 Q123.357 610.812 129.908 610.812 Q131.667 610.812 133.45 611.16 Q135.255 611.507 137.2 612.201 Z\" fill=\"#000000\" fill-rule=\"evenodd\" fill-opacity=\"1\" /><path clip-path=\"url(#clip610)\" d=\"M 0 0 M172.686 620.535 L162.107 631.16 L172.686 641.738 L169.931 644.539 L159.306 633.914 L148.681 644.539 L145.95 641.738 L156.505 631.16 L145.95 620.535 L148.681 617.734 L159.306 628.359 L169.931 617.734 L172.686 620.535 Z\" fill=\"#000000\" fill-rule=\"evenodd\" fill-opacity=\"1\" /><path clip-path=\"url(#clip610)\" d=\"M 0 0 M178.565 642.062 L186.204 642.062 L186.204 615.697 L177.894 617.363 L177.894 613.104 L186.158 611.437 L190.834 611.437 L190.834 642.062 L198.473 642.062 L198.473 645.997 L178.565 645.997 L178.565 642.062 Z\" fill=\"#000000\" fill-rule=\"evenodd\" fill-opacity=\"1\" /><path clip-path=\"url(#clip610)\" d=\"M 0 0 M213.542 614.516 Q209.931 614.516 208.102 618.081 Q206.297 621.623 206.297 628.752 Q206.297 635.859 208.102 639.423 Q209.931 642.965 213.542 642.965 Q217.176 642.965 218.982 639.423 Q220.811 635.859 220.811 628.752 Q220.811 621.623 218.982 618.081 Q217.176 614.516 213.542 614.516 M213.542 610.812 Q219.352 610.812 222.408 615.419 Q225.486 620.002 225.486 628.752 Q225.486 637.479 222.408 642.085 Q219.352 646.669 213.542 646.669 Q207.732 646.669 204.653 642.085 Q201.598 637.479 201.598 628.752 Q201.598 620.002 204.653 615.419 Q207.732 610.812 213.542 610.812 Z\" fill=\"#000000\" fill-rule=\"evenodd\" fill-opacity=\"1\" /><path clip-path=\"url(#clip610)\" d=\"M 0 0 M238.163 593.817 L228.571 608.807 L238.163 608.807 L238.163 593.817 M237.166 590.507 L241.943 590.507 L241.943 608.807 L245.949 608.807 L245.949 611.967 L241.943 611.967 L241.943 618.587 L238.163 618.587 L238.163 611.967 L225.486 611.967 L225.486 608.299 L237.166 590.507 Z\" fill=\"#000000\" fill-rule=\"evenodd\" fill-opacity=\"1\" /><path clip-path=\"url(#clip610)\" d=\"M 0 0 M127.593 339.295 Q124.26 339.295 122.339 341.078 Q120.441 342.86 120.441 345.985 Q120.441 349.11 122.339 350.893 Q124.26 352.675 127.593 352.675 Q130.927 352.675 132.848 350.893 Q134.769 349.087 134.769 345.985 Q134.769 342.86 132.848 341.078 Q130.95 339.295 127.593 339.295 M122.918 337.305 Q119.908 336.564 118.218 334.504 Q116.552 332.444 116.552 329.481 Q116.552 325.337 119.492 322.93 Q122.455 320.522 127.593 320.522 Q132.755 320.522 135.695 322.93 Q138.635 325.337 138.635 329.481 Q138.635 332.444 136.945 334.504 Q135.279 336.564 132.292 337.305 Q135.672 338.092 137.547 340.383 Q139.445 342.675 139.445 345.985 Q139.445 351.008 136.367 353.693 Q133.311 356.379 127.593 356.379 Q121.876 356.379 118.797 353.693 Q115.742 351.008 115.742 345.985 Q115.742 342.675 117.64 340.383 Q119.538 338.092 122.918 337.305 M121.205 329.92 Q121.205 332.606 122.871 334.11 Q124.561 335.615 127.593 335.615 Q130.603 335.615 132.292 334.11 Q134.005 332.606 134.005 329.92 Q134.005 327.235 132.292 325.731 Q130.603 324.226 127.593 324.226 Q124.561 324.226 122.871 325.731 Q121.205 327.235 121.205 329.92 Z\" fill=\"#000000\" fill-rule=\"evenodd\" fill-opacity=\"1\" /><path clip-path=\"url(#clip610)\" d=\"M 0 0 M172.686 330.245 L162.107 340.869 L172.686 351.448 L169.931 354.249 L159.306 343.624 L148.681 354.249 L145.95 351.448 L156.505 340.869 L145.95 330.245 L148.681 327.444 L159.306 338.069 L169.931 327.444 L172.686 330.245 Z\" fill=\"#000000\" fill-rule=\"evenodd\" fill-opacity=\"1\" /><path clip-path=\"url(#clip610)\" d=\"M 0 0 M178.565 351.772 L186.204 351.772 L186.204 325.407 L177.894 327.073 L177.894 322.814 L186.158 321.147 L190.834 321.147 L190.834 351.772 L198.473 351.772 L198.473 355.707 L178.565 355.707 L178.565 351.772 Z\" fill=\"#000000\" fill-rule=\"evenodd\" fill-opacity=\"1\" /><path clip-path=\"url(#clip610)\" d=\"M 0 0 M213.542 324.226 Q209.931 324.226 208.102 327.791 Q206.297 331.332 206.297 338.462 Q206.297 345.569 208.102 349.133 Q209.931 352.675 213.542 352.675 Q217.176 352.675 218.982 349.133 Q220.811 345.569 220.811 338.462 Q220.811 331.332 218.982 327.791 Q217.176 324.226 213.542 324.226 M213.542 320.522 Q219.352 320.522 222.408 325.129 Q225.486 329.712 225.486 338.462 Q225.486 347.189 222.408 351.795 Q219.352 356.379 213.542 356.379 Q207.732 356.379 204.653 351.795 Q201.598 347.189 201.598 338.462 Q201.598 329.712 204.653 325.129 Q207.732 320.522 213.542 320.522 Z\" fill=\"#000000\" fill-rule=\"evenodd\" fill-opacity=\"1\" /><path clip-path=\"url(#clip610)\" d=\"M 0 0 M238.163 303.527 L228.571 318.517 L238.163 318.517 L238.163 303.527 M237.166 300.217 L241.943 300.217 L241.943 318.517 L245.949 318.517 L245.949 321.677 L241.943 321.677 L241.943 328.297 L238.163 328.297 L238.163 321.677 L225.486 321.677 L225.486 318.009 L237.166 300.217 Z\" fill=\"#000000\" fill-rule=\"evenodd\" fill-opacity=\"1\" /><path clip-path=\"url(#clip610)\" d=\"M 0 0 M16.4842 832.447 L16.4842 822.867 L48.8219 810.74 L16.4842 798.55 L16.4842 788.97 L64.0042 788.97 L64.0042 795.24 L22.277 795.24 L54.8694 807.494 L54.8694 813.955 L22.277 826.209 L64.0042 826.209 L64.0042 832.447 L16.4842 832.447 Z\" fill=\"#000000\" fill-rule=\"evenodd\" fill-opacity=\"1\" /><path clip-path=\"url(#clip610)\" d=\"M 0 0 M18.0438 754.086 L24.314 754.086 Q22.5634 757.746 21.704 760.992 Q20.8447 764.239 20.8447 767.263 Q20.8447 772.514 22.8817 775.379 Q24.9187 778.212 28.6745 778.212 Q31.8255 778.212 33.4488 776.334 Q35.0402 774.424 36.0269 769.141 L36.8226 765.257 Q38.1912 758.064 41.6605 754.659 Q45.098 751.221 50.8908 751.221 Q57.7976 751.221 61.3624 755.868 Q64.9272 760.483 64.9272 769.427 Q64.9272 772.801 64.1633 776.62 Q63.3994 780.408 61.9035 784.482 L55.2831 784.482 Q57.4793 780.567 58.5933 776.811 Q59.7073 773.055 59.7073 769.427 Q59.7073 763.921 57.543 760.929 Q55.3786 757.937 51.3682 757.937 Q47.8671 757.937 45.8937 760.101 Q43.9204 762.234 42.9337 767.135 L42.1698 771.05 Q40.7375 778.243 37.682 781.458 Q34.6264 784.673 29.1837 784.673 Q22.8817 784.673 19.2532 780.249 Q15.6248 775.793 15.6248 767.995 Q15.6248 764.653 16.2295 761.183 Q16.8343 757.714 18.0438 754.086 Z\" fill=\"#000000\" fill-rule=\"evenodd\" fill-opacity=\"1\" /><path clip-path=\"url(#clip610)\" d=\"M 0 0 M16.4842 744.824 L16.4842 714.777 L21.895 714.777 L21.895 738.394 L35.9632 738.394 L35.9632 715.764 L41.3741 715.764 L41.3741 738.394 L58.5933 738.394 L58.5933 714.204 L64.0042 714.204 L64.0042 744.824 L16.4842 744.824 Z\" fill=\"#000000\" fill-rule=\"evenodd\" fill-opacity=\"1\" /><path clip-path=\"url(#clip610)\" d=\"M 0 0 M443.654 12.096 L478.41 12.096 L478.41 18.9825 L451.836 18.9825 L451.836 36.8065 L475.818 36.8065 L475.818 43.6931 L451.836 43.6931 L451.836 72.576 L443.654 72.576 L443.654 12.096 Z\" fill=\"#000000\" fill-rule=\"evenodd\" fill-opacity=\"1\" /><path clip-path=\"url(#clip610)\" d=\"M 0 0 M500.852 32.4315 Q494.857 32.4315 491.373 37.1306 Q487.889 41.7891 487.889 49.9314 Q487.889 58.0738 491.333 62.7728 Q494.816 67.4314 500.852 67.4314 Q506.807 67.4314 510.291 62.7323 Q513.775 58.0333 513.775 49.9314 Q513.775 41.8701 510.291 37.1711 Q506.807 32.4315 500.852 32.4315 M500.852 26.1121 Q510.575 26.1121 516.124 32.4315 Q521.674 38.7509 521.674 49.9314 Q521.674 61.0714 516.124 67.4314 Q510.575 73.7508 500.852 73.7508 Q491.09 73.7508 485.54 67.4314 Q480.031 61.0714 480.031 49.9314 Q480.031 38.7509 485.54 32.4315 Q491.09 26.1121 500.852 26.1121 Z\" fill=\"#000000\" fill-rule=\"evenodd\" fill-opacity=\"1\" /><path clip-path=\"url(#clip610)\" d=\"M 0 0 M555.783 34.1734 Q554.527 33.4443 553.028 33.1202 Q551.57 32.7556 549.787 32.7556 Q543.468 32.7556 540.065 36.8875 Q536.703 40.9789 536.703 48.6757 L536.703 72.576 L529.209 72.576 L529.209 27.2059 L536.703 27.2059 L536.703 34.2544 Q539.052 30.1225 542.82 28.1376 Q546.587 26.1121 551.975 26.1121 Q552.744 26.1121 553.676 26.2337 Q554.608 26.3147 555.742 26.5172 L555.783 34.1734 Z\" fill=\"#000000\" fill-rule=\"evenodd\" fill-opacity=\"1\" /><path clip-path=\"url(#clip610)\" d=\"M 0 0 M581.911 12.096 L633.074 12.096 L633.074 18.9825 L611.604 18.9825 L611.604 72.576 L603.381 72.576 L603.381 18.9825 L581.911 18.9825 L581.911 12.096 Z\" fill=\"#000000\" fill-rule=\"evenodd\" fill-opacity=\"1\" /><path clip-path=\"url(#clip610)\" d=\"M 0 0 M649.399 43.6931 L649.399 65.8515 L662.524 65.8515 Q669.127 65.8515 672.287 63.1374 Q675.487 60.3828 675.487 54.752 Q675.487 49.0808 672.287 46.4072 Q669.127 43.6931 662.524 43.6931 L649.399 43.6931 M649.399 18.8205 L649.399 37.0496 L661.511 37.0496 Q667.507 37.0496 670.423 34.8216 Q673.38 32.5531 673.38 27.935 Q673.38 23.3575 670.423 21.089 Q667.507 18.8205 661.511 18.8205 L649.399 18.8205 M641.216 12.096 L662.119 12.096 Q671.476 12.096 676.54 15.9849 Q681.604 19.8737 681.604 27.0438 Q681.604 32.5936 679.011 35.8748 Q676.419 39.156 671.395 39.9662 Q677.431 41.2625 680.753 45.3944 Q684.115 49.4858 684.115 55.6432 Q684.115 63.745 678.606 68.1605 Q673.097 72.576 662.929 72.576 L641.216 72.576 L641.216 12.096 Z\" fill=\"#000000\" fill-rule=\"evenodd\" fill-opacity=\"1\" /><path clip-path=\"url(#clip610)\" d=\"M 0 0 M726.812 18.8205 L726.812 65.8515 L736.696 65.8515 Q749.213 65.8515 755.006 60.1802 Q760.839 54.509 760.839 42.2752 Q760.839 30.1225 755.006 24.4918 Q749.213 18.8205 736.696 18.8205 L726.812 18.8205 M718.629 12.096 L735.44 12.096 Q753.021 12.096 761.244 19.4281 Q769.468 26.7198 769.468 42.2752 Q769.468 57.9117 761.204 65.2439 Q752.94 72.576 735.44 72.576 L718.629 72.576 L718.629 12.096 Z\" fill=\"#000000\" fill-rule=\"evenodd\" fill-opacity=\"1\" /><path clip-path=\"url(#clip610)\" d=\"M 0 0 M816.094 48.0275 L816.094 51.6733 L781.823 51.6733 Q782.309 59.3701 786.441 63.421 Q790.614 67.4314 798.027 67.4314 Q802.321 67.4314 806.331 66.3781 Q810.382 65.3249 814.352 63.2184 L814.352 70.267 Q810.341 71.9684 806.128 72.8596 Q801.916 73.7508 797.581 73.7508 Q786.725 73.7508 780.365 67.4314 Q774.045 61.1119 774.045 50.3365 Q774.045 39.1965 780.041 32.6746 Q786.076 26.1121 796.285 26.1121 Q805.44 26.1121 810.747 32.0264 Q816.094 37.9003 816.094 48.0275 M808.64 45.84 Q808.559 39.7232 805.197 36.0774 Q801.875 32.4315 796.366 32.4315 Q790.127 32.4315 786.36 35.9558 Q782.633 39.4801 782.066 45.8805 L808.64 45.84 Z\" fill=\"#000000\" fill-rule=\"evenodd\" fill-opacity=\"1\" /><path clip-path=\"url(#clip610)\" d=\"M 0 0 M859.236 35.9153 Q862.031 30.8922 865.92 28.5022 Q869.809 26.1121 875.075 26.1121 Q882.164 26.1121 886.012 31.0947 Q889.861 36.0368 889.861 45.1919 L889.861 72.576 L882.366 72.576 L882.366 45.4349 Q882.366 38.913 880.057 35.7533 Q877.748 32.5936 873.009 32.5936 Q867.216 32.5936 863.854 36.4419 Q860.492 40.2903 860.492 46.9338 L860.492 72.576 L852.997 72.576 L852.997 45.4349 Q852.997 38.8725 850.688 35.7533 Q848.379 32.5936 843.559 32.5936 Q837.847 32.5936 834.485 36.4824 Q831.123 40.3308 831.123 46.9338 L831.123 72.576 L823.628 72.576 L823.628 27.2059 L831.123 27.2059 L831.123 34.2544 Q833.675 30.082 837.239 28.0971 Q840.804 26.1121 845.706 26.1121 Q850.648 26.1121 854.091 28.6237 Q857.575 31.1352 859.236 35.9153 Z\" fill=\"#000000\" fill-rule=\"evenodd\" fill-opacity=\"1\" /><path clip-path=\"url(#clip610)\" d=\"M 0 0 M915.26 32.4315 Q909.264 32.4315 905.781 37.1306 Q902.297 41.7891 902.297 49.9314 Q902.297 58.0738 905.74 62.7728 Q909.224 67.4314 915.26 67.4314 Q921.215 67.4314 924.698 62.7323 Q928.182 58.0333 928.182 49.9314 Q928.182 41.8701 924.698 37.1711 Q921.215 32.4315 915.26 32.4315 M915.26 26.1121 Q924.982 26.1121 930.532 32.4315 Q936.081 38.7509 936.081 49.9314 Q936.081 61.0714 930.532 67.4314 Q924.982 73.7508 915.26 73.7508 Q905.497 73.7508 899.947 67.4314 Q894.438 61.0714 894.438 49.9314 Q894.438 38.7509 899.947 32.4315 Q905.497 26.1121 915.26 26.1121 Z\" fill=\"#000000\" fill-rule=\"evenodd\" fill-opacity=\"1\" /><path clip-path=\"url(#clip610)\" d=\"M 0 0 M981.614 45.1919 L981.614 72.576 L974.16 72.576 L974.16 45.4349 Q974.16 38.994 971.648 35.7938 Q969.137 32.5936 964.114 32.5936 Q958.078 32.5936 954.594 36.4419 Q951.11 40.2903 951.11 46.9338 L951.11 72.576 L943.616 72.576 L943.616 27.2059 L951.11 27.2059 L951.11 34.2544 Q953.784 30.163 957.389 28.1376 Q961.035 26.1121 965.775 26.1121 Q973.593 26.1121 977.603 30.9732 Q981.614 35.7938 981.614 45.1919 Z\" fill=\"#000000\" fill-rule=\"evenodd\" fill-opacity=\"1\" /><path clip-path=\"url(#clip610)\" d=\"M 0 0 M1016.13 12.096 L1024.31 12.096 L1024.31 65.6895 L1053.76 65.6895 L1053.76 72.576 L1016.13 72.576 L1016.13 12.096 Z\" fill=\"#000000\" fill-rule=\"evenodd\" fill-opacity=\"1\" /><path clip-path=\"url(#clip610)\" d=\"M 0 0 M1098.93 48.0275 L1098.93 51.6733 L1064.66 51.6733 Q1065.14 59.3701 1069.28 63.421 Q1073.45 67.4314 1080.86 67.4314 Q1085.15 67.4314 1089.17 66.3781 Q1093.22 65.3249 1097.19 63.2184 L1097.19 70.267 Q1093.18 71.9684 1088.96 72.8596 Q1084.75 73.7508 1080.42 73.7508 Q1069.56 73.7508 1063.2 67.4314 Q1056.88 61.1119 1056.88 50.3365 Q1056.88 39.1965 1062.87 32.6746 Q1068.91 26.1121 1079.12 26.1121 Q1088.27 26.1121 1093.58 32.0264 Q1098.93 37.9003 1098.93 48.0275 M1091.47 45.84 Q1091.39 39.7232 1088.03 36.0774 Q1084.71 32.4315 1079.2 32.4315 Q1072.96 32.4315 1069.19 35.9558 Q1065.47 39.4801 1064.9 45.8805 L1091.47 45.84 Z\" fill=\"#000000\" fill-rule=\"evenodd\" fill-opacity=\"1\" /><path clip-path=\"url(#clip610)\" d=\"M 0 0 M1127.37 49.7694 Q1118.33 49.7694 1114.85 51.8354 Q1111.36 53.9013 1111.36 58.8839 Q1111.36 62.8538 1113.96 65.2034 Q1116.59 67.5124 1121.09 67.5124 Q1127.28 67.5124 1131.01 63.1374 Q1134.78 58.7219 1134.78 51.4303 L1134.78 49.7694 L1127.37 49.7694 M1142.23 46.6907 L1142.23 72.576 L1134.78 72.576 L1134.78 65.6895 Q1132.23 69.8214 1128.42 71.8063 Q1124.61 73.7508 1119.1 73.7508 Q1112.13 73.7508 1108 69.8619 Q1103.91 65.9325 1103.91 59.3701 Q1103.91 51.7138 1109.01 47.825 Q1114.16 43.9361 1124.33 43.9361 L1134.78 43.9361 L1134.78 43.2069 Q1134.78 38.0623 1131.38 35.2672 Q1128.01 32.4315 1121.9 32.4315 Q1118.01 32.4315 1114.32 33.3632 Q1110.63 34.295 1107.23 36.1584 L1107.23 29.2718 Q1111.32 27.692 1115.17 26.9223 Q1119.02 26.1121 1122.67 26.1121 Q1132.51 26.1121 1137.37 31.2163 Q1142.23 36.3204 1142.23 46.6907 Z\" fill=\"#000000\" fill-rule=\"evenodd\" fill-opacity=\"1\" /><path clip-path=\"url(#clip610)\" d=\"M 0 0 M1176.34 34.1734 Q1175.08 33.4443 1173.59 33.1202 Q1172.13 32.7556 1170.35 32.7556 Q1164.03 32.7556 1160.62 36.8875 Q1157.26 40.9789 1157.26 48.6757 L1157.26 72.576 L1149.77 72.576 L1149.77 27.2059 L1157.26 27.2059 L1157.26 34.2544 Q1159.61 30.1225 1163.38 28.1376 Q1167.15 26.1121 1172.53 26.1121 Q1173.3 26.1121 1174.23 26.2337 Q1175.17 26.3147 1176.3 26.5172 L1176.34 34.1734 Z\" fill=\"#000000\" fill-rule=\"evenodd\" fill-opacity=\"1\" /><path clip-path=\"url(#clip610)\" d=\"M 0 0 M1220.41 45.1919 L1220.41 72.576 L1212.96 72.576 L1212.96 45.4349 Q1212.96 38.994 1210.45 35.7938 Q1207.94 32.5936 1202.91 32.5936 Q1196.88 32.5936 1193.39 36.4419 Q1189.91 40.2903 1189.91 46.9338 L1189.91 72.576 L1182.42 72.576 L1182.42 27.2059 L1189.91 27.2059 L1189.91 34.2544 Q1192.58 30.163 1196.19 28.1376 Q1199.84 26.1121 1204.58 26.1121 Q1212.39 26.1121 1216.4 30.9732 Q1220.41 35.7938 1220.41 45.1919 Z\" fill=\"#000000\" fill-rule=\"evenodd\" fill-opacity=\"1\" /><path clip-path=\"url(#clip610)\" d=\"M 0 0 M1267.04 48.0275 L1267.04 51.6733 L1232.77 51.6733 Q1233.26 59.3701 1237.39 63.421 Q1241.56 67.4314 1248.97 67.4314 Q1253.27 67.4314 1257.28 66.3781 Q1261.33 65.3249 1265.3 63.2184 L1265.3 70.267 Q1261.29 71.9684 1257.08 72.8596 Q1252.86 73.7508 1248.53 73.7508 Q1237.67 73.7508 1231.31 67.4314 Q1224.99 61.1119 1224.99 50.3365 Q1224.99 39.1965 1230.99 32.6746 Q1237.02 26.1121 1247.23 26.1121 Q1256.39 26.1121 1261.69 32.0264 Q1267.04 37.9003 1267.04 48.0275 M1259.59 45.84 Q1259.51 39.7232 1256.14 36.0774 Q1252.82 32.4315 1247.31 32.4315 Q1241.07 32.4315 1237.31 35.9558 Q1233.58 39.4801 1233.01 45.8805 L1259.59 45.84 Z\" fill=\"#000000\" fill-rule=\"evenodd\" fill-opacity=\"1\" /><path clip-path=\"url(#clip610)\" d=\"M 0 0 M1301.15 34.1734 Q1299.89 33.4443 1298.39 33.1202 Q1296.94 32.7556 1295.15 32.7556 Q1288.83 32.7556 1285.43 36.8875 Q1282.07 40.9789 1282.07 48.6757 L1282.07 72.576 L1274.58 72.576 L1274.58 27.2059 L1282.07 27.2059 L1282.07 34.2544 Q1284.42 30.1225 1288.19 28.1376 Q1291.95 26.1121 1297.34 26.1121 Q1298.11 26.1121 1299.04 26.2337 Q1299.97 26.3147 1301.11 26.5172 L1301.15 34.1734 Z\" fill=\"#000000\" fill-rule=\"evenodd\" fill-opacity=\"1\" /><path clip-path=\"url(#clip610)\" d=\"M 0 0 M1337.89 28.5427 L1337.89 35.5912 Q1334.73 33.9709 1331.33 33.1607 Q1327.93 32.3505 1324.28 32.3505 Q1318.73 32.3505 1315.93 34.0519 Q1313.18 35.7533 1313.18 39.156 Q1313.18 41.7486 1315.17 43.2475 Q1317.15 44.7058 1323.15 46.0426 L1325.7 46.6097 Q1333.64 48.3111 1336.96 51.4303 Q1340.32 54.509 1340.32 60.0587 Q1340.32 66.3781 1335.3 70.0644 Q1330.32 73.7508 1321.57 73.7508 Q1317.92 73.7508 1313.95 73.0216 Q1310.02 72.3329 1305.65 70.9151 L1305.65 63.2184 Q1309.78 65.3654 1313.79 66.4591 Q1317.8 67.5124 1321.73 67.5124 Q1326.99 67.5124 1329.83 65.73 Q1332.67 63.9071 1332.67 60.6258 Q1332.67 57.5877 1330.6 55.9673 Q1328.57 54.3469 1321.65 52.8481 L1319.05 52.2405 Q1312.13 50.7821 1309.05 47.7845 Q1305.97 44.7463 1305.97 39.4801 Q1305.97 33.0797 1310.51 29.5959 Q1315.04 26.1121 1323.39 26.1121 Q1327.52 26.1121 1331.17 26.7198 Q1334.81 27.3274 1337.89 28.5427 Z\" fill=\"#000000\" fill-rule=\"evenodd\" fill-opacity=\"1\" /><path clip-path=\"url(#clip610)\" d=\"M 0 0 M1374.51 27.2059 L1381.96 27.2059 L1381.96 72.576 L1374.51 72.576 L1374.51 27.2059 M1374.51 9.54393 L1381.96 9.54393 L1381.96 18.9825 L1374.51 18.9825 L1374.51 9.54393 Z\" fill=\"#000000\" fill-rule=\"evenodd\" fill-opacity=\"1\" /><path clip-path=\"url(#clip610)\" d=\"M 0 0 M1427.5 45.1919 L1427.5 72.576 L1420.04 72.576 L1420.04 45.4349 Q1420.04 38.994 1417.53 35.7938 Q1415.02 32.5936 1410 32.5936 Q1403.96 32.5936 1400.48 36.4419 Q1396.99 40.2903 1396.99 46.9338 L1396.99 72.576 L1389.5 72.576 L1389.5 27.2059 L1396.99 27.2059 L1396.99 34.2544 Q1399.67 30.163 1403.27 28.1376 Q1406.92 26.1121 1411.66 26.1121 Q1419.48 26.1121 1423.49 30.9732 Q1427.5 35.7938 1427.5 45.1919 Z\" fill=\"#000000\" fill-rule=\"evenodd\" fill-opacity=\"1\" /><path clip-path=\"url(#clip610)\" d=\"M 0 0 M1453.63 12.096 L1504.79 12.096 L1504.79 18.9825 L1483.32 18.9825 L1483.32 72.576 L1475.09 72.576 L1475.09 18.9825 L1453.63 18.9825 L1453.63 12.096 Z\" fill=\"#000000\" fill-rule=\"evenodd\" fill-opacity=\"1\" /><path clip-path=\"url(#clip610)\" d=\"M 0 0 M1512.93 12.096 L1525.12 12.096 L1540.56 53.2532 L1556.07 12.096 L1568.27 12.096 L1568.27 72.576 L1560.29 72.576 L1560.29 19.4686 L1544.69 60.9499 L1536.47 60.9499 L1520.87 19.4686 L1520.87 72.576 L1512.93 72.576 L1512.93 12.096 Z\" fill=\"#000000\" fill-rule=\"evenodd\" fill-opacity=\"1\" /><path clip-path=\"url(#clip610)\" d=\"M 0 0 M1596.7 49.7694 Q1587.67 49.7694 1584.19 51.8354 Q1580.7 53.9013 1580.7 58.8839 Q1580.7 62.8538 1583.29 65.2034 Q1585.93 67.5124 1590.42 67.5124 Q1596.62 67.5124 1600.35 63.1374 Q1604.12 58.7219 1604.12 51.4303 L1604.12 49.7694 L1596.7 49.7694 M1611.57 46.6907 L1611.57 72.576 L1604.12 72.576 L1604.12 65.6895 Q1601.56 69.8214 1597.76 71.8063 Q1593.95 73.7508 1588.44 73.7508 Q1581.47 73.7508 1577.34 69.8619 Q1573.25 65.9325 1573.25 59.3701 Q1573.25 51.7138 1578.35 47.825 Q1583.5 43.9361 1593.66 43.9361 L1604.12 43.9361 L1604.12 43.2069 Q1604.12 38.0623 1600.71 35.2672 Q1597.35 32.4315 1591.23 32.4315 Q1587.35 32.4315 1583.66 33.3632 Q1579.97 34.295 1576.57 36.1584 L1576.57 29.2718 Q1580.66 27.692 1584.51 26.9223 Q1588.36 26.1121 1592 26.1121 Q1601.85 26.1121 1606.71 31.2163 Q1611.57 36.3204 1611.57 46.6907 Z\" fill=\"#000000\" fill-rule=\"evenodd\" fill-opacity=\"1\" /><path clip-path=\"url(#clip610)\" d=\"M 0 0 M1616.15 27.2059 L1651.55 27.2059 L1651.55 34.0114 L1623.52 66.6212 L1651.55 66.6212 L1651.55 72.576 L1615.13 72.576 L1615.13 65.7705 L1643.17 33.1607 L1616.15 33.1607 L1616.15 27.2059 Z\" fill=\"#000000\" fill-rule=\"evenodd\" fill-opacity=\"1\" /><path clip-path=\"url(#clip610)\" d=\"M 0 0 M1698.18 48.0275 L1698.18 51.6733 L1663.91 51.6733 Q1664.39 59.3701 1668.53 63.421 Q1672.7 67.4314 1680.11 67.4314 Q1684.41 67.4314 1688.42 66.3781 Q1692.47 65.3249 1696.44 63.2184 L1696.44 70.267 Q1692.43 71.9684 1688.21 72.8596 Q1684 73.7508 1679.67 73.7508 Q1668.81 73.7508 1662.45 67.4314 Q1656.13 61.1119 1656.13 50.3365 Q1656.13 39.1965 1662.13 32.6746 Q1668.16 26.1121 1678.37 26.1121 Q1687.52 26.1121 1692.83 32.0264 Q1698.18 37.9003 1698.18 48.0275 M1690.72 45.84 Q1690.64 39.7232 1687.28 36.0774 Q1683.96 32.4315 1678.45 32.4315 Q1672.21 32.4315 1668.44 35.9558 Q1664.72 39.4801 1664.15 45.8805 L1690.72 45.84 Z\" fill=\"#000000\" fill-rule=\"evenodd\" fill-opacity=\"1\" /><path clip-path=\"url(#clip610)\" d=\"M 0 0 M1761.37 44.2197 Q1764.01 45.1109 1766.48 48.0275 Q1768.99 50.9442 1771.5 56.0483 L1779.8 72.576 L1771.01 72.576 L1763.28 57.061 Q1760.28 50.9847 1757.44 48.9997 Q1754.65 47.0148 1749.79 47.0148 L1740.87 47.0148 L1740.87 72.576 L1732.69 72.576 L1732.69 12.096 L1751.16 12.096 Q1761.53 12.096 1766.64 16.4305 Q1771.74 20.7649 1771.74 29.5149 Q1771.74 35.2267 1769.07 38.994 Q1766.44 42.7613 1761.37 44.2197 M1740.87 18.8205 L1740.87 40.2903 L1751.16 40.2903 Q1757.08 40.2903 1760.08 37.5762 Q1763.11 34.8216 1763.11 29.5149 Q1763.11 24.2082 1760.08 21.5346 Q1757.08 18.8205 1751.16 18.8205 L1740.87 18.8205 Z\" fill=\"#000000\" fill-rule=\"evenodd\" fill-opacity=\"1\" /><path clip-path=\"url(#clip610)\" d=\"M 0 0 M1801.48 32.4315 Q1795.48 32.4315 1792 37.1306 Q1788.51 41.7891 1788.51 49.9314 Q1788.51 58.0738 1791.96 62.7728 Q1795.44 67.4314 1801.48 67.4314 Q1807.43 67.4314 1810.91 62.7323 Q1814.4 58.0333 1814.4 49.9314 Q1814.4 41.8701 1810.91 37.1711 Q1807.43 32.4315 1801.48 32.4315 M1801.48 26.1121 Q1811.2 26.1121 1816.75 32.4315 Q1822.3 38.7509 1822.3 49.9314 Q1822.3 61.0714 1816.75 67.4314 Q1811.2 73.7508 1801.48 73.7508 Q1791.71 73.7508 1786.16 67.4314 Q1780.65 61.0714 1780.65 49.9314 Q1780.65 38.7509 1786.16 32.4315 Q1791.71 26.1121 1801.48 26.1121 Z\" fill=\"#000000\" fill-rule=\"evenodd\" fill-opacity=\"1\" /><path clip-path=\"url(#clip610)\" d=\"M 0 0 M1829.35 54.671 L1829.35 27.2059 L1836.8 27.2059 L1836.8 54.3874 Q1836.8 60.8284 1839.31 64.0691 Q1841.82 67.2693 1846.85 67.2693 Q1852.88 67.2693 1856.37 63.421 Q1859.89 59.5726 1859.89 52.9291 L1859.89 27.2059 L1867.34 27.2059 L1867.34 72.576 L1859.89 72.576 L1859.89 65.6084 Q1857.18 69.7404 1853.57 71.7658 Q1850.01 73.7508 1845.27 73.7508 Q1837.45 73.7508 1833.4 68.8897 Q1829.35 64.0286 1829.35 54.671 M1848.1 26.1121 L1848.1 26.1121 Z\" fill=\"#000000\" fill-rule=\"evenodd\" fill-opacity=\"1\" /><path clip-path=\"url(#clip610)\" d=\"M 0 0 M1912.88 45.1919 L1912.88 72.576 L1905.42 72.576 L1905.42 45.4349 Q1905.42 38.994 1902.91 35.7938 Q1900.4 32.5936 1895.38 32.5936 Q1889.34 32.5936 1885.86 36.4419 Q1882.37 40.2903 1882.37 46.9338 L1882.37 72.576 L1874.88 72.576 L1874.88 27.2059 L1882.37 27.2059 L1882.37 34.2544 Q1885.05 30.163 1888.65 28.1376 Q1892.3 26.1121 1897.04 26.1121 Q1904.86 26.1121 1908.87 30.9732 Q1912.88 35.7938 1912.88 45.1919 Z\" fill=\"#000000\" fill-rule=\"evenodd\" fill-opacity=\"1\" /><path clip-path=\"url(#clip610)\" d=\"M 0 0 M1950.55 34.0924 L1950.55 9.54393 L1958 9.54393 L1958 72.576 L1950.55 72.576 L1950.55 65.7705 Q1948.2 69.8214 1944.59 71.8063 Q1941.03 73.7508 1936.01 73.7508 Q1927.78 73.7508 1922.6 67.1883 Q1917.45 60.6258 1917.45 49.9314 Q1917.45 39.2371 1922.6 32.6746 Q1927.78 26.1121 1936.01 26.1121 Q1941.03 26.1121 1944.59 28.0971 Q1948.2 30.0415 1950.55 34.0924 M1925.15 49.9314 Q1925.15 58.1548 1928.51 62.8538 Q1931.92 67.5124 1937.83 67.5124 Q1943.74 67.5124 1947.15 62.8538 Q1950.55 58.1548 1950.55 49.9314 Q1950.55 41.7081 1947.15 37.0496 Q1943.74 32.3505 1937.83 32.3505 Q1931.92 32.3505 1928.51 37.0496 Q1925.15 41.7081 1925.15 49.9314 Z\" fill=\"#000000\" fill-rule=\"evenodd\" fill-opacity=\"1\" /><path clip-path=\"url(#clip610)\" d=\"M 0 0 M2021.2 44.2197 Q2023.83 45.1109 2026.3 48.0275 Q2028.81 50.9442 2031.32 56.0483 L2039.63 72.576 L2030.84 72.576 L2023.1 57.061 Q2020.1 50.9847 2017.27 48.9997 Q2014.47 47.0148 2009.61 47.0148 L2000.7 47.0148 L2000.7 72.576 L1992.52 72.576 L1992.52 12.096 L2010.99 12.096 Q2021.36 12.096 2026.46 16.4305 Q2031.57 20.7649 2031.57 29.5149 Q2031.57 35.2267 2028.89 38.994 Q2026.26 42.7613 2021.2 44.2197 M2000.7 18.8205 L2000.7 40.2903 L2010.99 40.2903 Q2016.9 40.2903 2019.9 37.5762 Q2022.94 34.8216 2022.94 29.5149 Q2022.94 24.2082 2019.9 21.5346 Q2016.9 18.8205 2010.99 18.8205 L2000.7 18.8205 Z\" fill=\"#000000\" fill-rule=\"evenodd\" fill-opacity=\"1\" /><path clip-path=\"url(#clip610)\" d=\"M 0 0 M2061.3 32.4315 Q2055.31 32.4315 2051.82 37.1306 Q2048.34 41.7891 2048.34 49.9314 Q2048.34 58.0738 2051.78 62.7728 Q2055.27 67.4314 2061.3 67.4314 Q2067.26 67.4314 2070.74 62.7323 Q2074.22 58.0333 2074.22 49.9314 Q2074.22 41.8701 2070.74 37.1711 Q2067.26 32.4315 2061.3 32.4315 M2061.3 26.1121 Q2071.02 26.1121 2076.57 32.4315 Q2082.12 38.7509 2082.12 49.9314 Q2082.12 61.0714 2076.57 67.4314 Q2071.02 73.7508 2061.3 73.7508 Q2051.54 73.7508 2045.99 67.4314 Q2040.48 61.0714 2040.48 49.9314 Q2040.48 38.7509 2045.99 32.4315 Q2051.54 26.1121 2061.3 26.1121 Z\" fill=\"#000000\" fill-rule=\"evenodd\" fill-opacity=\"1\" /><path clip-path=\"url(#clip610)\" d=\"M 0 0 M2122.51 49.9314 Q2122.51 41.7081 2119.11 37.0496 Q2115.75 32.3505 2109.83 32.3505 Q2103.92 32.3505 2100.51 37.0496 Q2097.15 41.7081 2097.15 49.9314 Q2097.15 58.1548 2100.51 62.8538 Q2103.92 67.5124 2109.83 67.5124 Q2115.75 67.5124 2119.11 62.8538 Q2122.51 58.1548 2122.51 49.9314 M2097.15 34.0924 Q2099.5 30.0415 2103.07 28.0971 Q2106.67 26.1121 2111.65 26.1121 Q2119.92 26.1121 2125.06 32.6746 Q2130.25 39.2371 2130.25 49.9314 Q2130.25 60.6258 2125.06 67.1883 Q2119.92 73.7508 2111.65 73.7508 Q2106.67 73.7508 2103.07 71.8063 Q2099.5 69.8214 2097.15 65.7705 L2097.15 72.576 L2089.66 72.576 L2089.66 9.54393 L2097.15 9.54393 L2097.15 34.0924 Z\" fill=\"#000000\" fill-rule=\"evenodd\" fill-opacity=\"1\" /><path clip-path=\"url(#clip610)\" d=\"M 0 0 M2138.07 27.2059 L2145.52 27.2059 L2145.52 72.576 L2138.07 72.576 L2138.07 27.2059 M2138.07 9.54393 L2145.52 9.54393 L2145.52 18.9825 L2138.07 18.9825 L2138.07 9.54393 Z\" fill=\"#000000\" fill-rule=\"evenodd\" fill-opacity=\"1\" /><path clip-path=\"url(#clip610)\" d=\"M 0 0 M2191.05 45.1919 L2191.05 72.576 L2183.6 72.576 L2183.6 45.4349 Q2183.6 38.994 2181.09 35.7938 Q2178.57 32.5936 2173.55 32.5936 Q2167.52 32.5936 2164.03 36.4419 Q2160.55 40.2903 2160.55 46.9338 L2160.55 72.576 L2153.05 72.576 L2153.05 27.2059 L2160.55 27.2059 L2160.55 34.2544 Q2163.22 30.163 2166.83 28.1376 Q2170.47 26.1121 2175.21 26.1121 Q2183.03 26.1121 2187.04 30.9732 Q2191.05 35.7938 2191.05 45.1919 Z\" fill=\"#000000\" fill-rule=\"evenodd\" fill-opacity=\"1\" /><polyline clip-path=\"url(#clip612)\" style=\"stroke:#009af9; stroke-width:4; stroke-opacity:1; fill:none\" points=\"\n",
       "  340.557,1345.61 390.649,1225.31 440.741,1151.44 490.833,1131.93 540.925,1115.61 591.017,1088.13 641.109,1088.09 691.202,1089.42 741.294,1053.82 791.386,1027.17 \n",
       "  841.478,987.974 891.57,987.928 941.662,966.481 991.754,987.317 1041.85,1015.23 1091.94,1011.46 1142.03,983.38 1192.12,1033.06 1242.21,1053.45 1292.31,1074.94 \n",
       "  1342.4,1101.8 1392.49,1121.42 1442.58,1070.73 1492.67,1006.7 1542.77,904.319 1592.86,838.288 1642.95,793.644 1693.04,745.77 1743.14,653.987 1793.23,585.696 \n",
       "  1843.32,466.344 1893.41,364.799 1943.5,321.66 1993.6,339.191 2043.69,359.692 2093.78,364.208 2143.87,314.123 2193.96,235.668 2244.06,181.427 2294.15,160.256 \n",
       "  \n",
       "  \"/>\n",
       "<polyline clip-path=\"url(#clip612)\" style=\"stroke:#e26f46; stroke-width:4; stroke-opacity:1; fill:none\" points=\"\n",
       "  340.557,1338.79 390.649,1200.03 440.741,1112.93 490.833,1089.72 540.925,1066.18 591.017,1032.61 641.109,1040.43 691.202,1055.63 741.294,1031.83 791.386,1019.67 \n",
       "  841.478,990.901 891.57,990.903 941.662,962.463 991.754,988.787 1041.85,1020.58 1091.94,1021.48 1142.03,1009.13 1192.12,1071.58 1242.21,1093.12 1292.31,1121.2 \n",
       "  1342.4,1149.22 1392.49,1163.15 1442.58,1124.28 1492.67,1074.6 1542.77,989.518 1592.86,931.488 1642.95,894.387 1693.04,855.574 1743.14,791.505 1793.23,741.307 \n",
       "  1843.32,657.805 1893.41,590.349 1943.5,565.558 1993.6,587.171 2043.69,618.769 2093.78,638.494 2143.87,599.644 2193.96,531.335 2244.06,475.669 2294.15,438.358 \n",
       "  \n",
       "  \"/>\n",
       "<polyline clip-path=\"url(#clip612)\" style=\"stroke:#3da44d; stroke-width:4; stroke-opacity:1; fill:none\" points=\"\n",
       "  340.557,1377.32 390.649,1299.09 440.741,1247.89 490.833,1229.68 540.925,1226.08 591.017,1209.86 641.109,1209.09 691.202,1216.24 741.294,1196.29 791.386,1176.8 \n",
       "  841.478,1151.69 891.57,1152.87 941.662,1139.64 991.754,1167.2 1041.85,1193.01 1091.94,1193.39 1142.03,1183.78 1192.12,1211.82 1242.21,1215.22 1292.31,1220.22 \n",
       "  1342.4,1236.18 1392.49,1242.92 1442.58,1209.69 1492.67,1179.61 1542.77,1123.64 1592.86,1096.75 1642.95,1087.51 1693.04,1074.01 1743.14,1032.36 1793.23,1016.08 \n",
       "  1843.32,955.417 1893.41,908.912 1943.5,913.013 1993.6,946.318 2043.69,978.126 2093.78,1006.93 2143.87,1001.46 2193.96,974.119 2244.06,955.537 2294.15,951.108 \n",
       "  \n",
       "  \"/>\n",
       "<polyline clip-path=\"url(#clip612)\" style=\"stroke:#c271d2; stroke-width:4; stroke-opacity:1; fill:none\" points=\"\n",
       "  340.557,1358.89 390.649,1268.3 440.741,1220.93 490.833,1209.57 540.925,1211.88 591.017,1201.61 641.109,1223.14 691.202,1245.96 741.294,1247.55 791.386,1242.59 \n",
       "  841.478,1234.63 891.57,1238.03 941.662,1231.81 991.754,1258.22 1041.85,1284.22 1091.94,1290.62 1142.03,1297.24 1192.12,1328.56 1242.21,1339.58 1292.31,1355.25 \n",
       "  1342.4,1376.74 1392.49,1386.4 1442.58,1375.33 1492.67,1370.35 1542.77,1350.9 1592.86,1342.27 1642.95,1336.23 1693.04,1335.41 1743.14,1329.19 1793.23,1326.95 \n",
       "  1843.32,1308.19 1893.41,1304.88 1943.5,1314.69 1993.6,1322.9 2043.69,1334.23 2093.78,1345.66 2143.87,1335.96 2193.96,1321.12 2244.06,1323.35 2294.15,1330.45 \n",
       "  \n",
       "  \"/>\n",
       "<path clip-path=\"url(#clip610)\" d=\"\n",
       "M1203.81 469.196 L2283.73 469.196 L2283.73 166.796 L1203.81 166.796  Z\n",
       "  \" fill=\"#ffffff\" fill-rule=\"evenodd\" fill-opacity=\"1\"/>\n",
       "<polyline clip-path=\"url(#clip610)\" style=\"stroke:#000000; stroke-width:4; stroke-opacity:1; fill:none\" points=\"\n",
       "  1203.81,469.196 2283.73,469.196 2283.73,166.796 1203.81,166.796 1203.81,469.196 \n",
       "  \"/>\n",
       "<polyline clip-path=\"url(#clip610)\" style=\"stroke:#009af9; stroke-width:4; stroke-opacity:1; fill:none\" points=\"\n",
       "  1226.81,227.276 1364.87,227.276 \n",
       "  \"/>\n",
       "<path clip-path=\"url(#clip610)\" d=\"M 0 0 M1424.47 222.565 L1424.47 208.537 L1428.73 208.537 L1428.73 244.556 L1424.47 244.556 L1424.47 240.667 Q1423.13 242.982 1421.07 244.116 Q1419.03 245.227 1416.16 245.227 Q1411.47 245.227 1408.5 241.477 Q1405.56 237.727 1405.56 231.616 Q1405.56 225.505 1408.5 221.755 Q1411.47 218.005 1416.16 218.005 Q1419.03 218.005 1421.07 219.139 Q1423.13 220.25 1424.47 222.565 M1409.96 231.616 Q1409.96 236.315 1411.88 239 Q1413.83 241.662 1417.21 241.662 Q1420.59 241.662 1422.53 239 Q1424.47 236.315 1424.47 231.616 Q1424.47 226.917 1422.53 224.255 Q1420.59 221.57 1417.21 221.57 Q1413.83 221.57 1411.88 224.255 Q1409.96 226.917 1409.96 231.616 Z\" fill=\"#000000\" fill-rule=\"evenodd\" fill-opacity=\"1\" /><path clip-path=\"url(#clip610)\" d=\"M 0 0 M1455.38 230.528 L1455.38 232.611 L1435.79 232.611 Q1436.07 237.009 1438.43 239.324 Q1440.82 241.616 1445.05 241.616 Q1447.51 241.616 1449.8 241.014 Q1452.11 240.412 1454.38 239.209 L1454.38 243.236 Q1452.09 244.208 1449.68 244.718 Q1447.28 245.227 1444.8 245.227 Q1438.6 245.227 1434.96 241.616 Q1431.35 238.005 1431.35 231.847 Q1431.35 225.482 1434.78 221.755 Q1438.22 218.005 1444.06 218.005 Q1449.29 218.005 1452.32 221.385 Q1455.38 224.741 1455.38 230.528 M1451.12 229.278 Q1451.07 225.783 1449.15 223.699 Q1447.25 221.616 1444.1 221.616 Q1440.54 221.616 1438.39 223.63 Q1436.26 225.644 1435.93 229.301 L1451.12 229.278 Z\" fill=\"#000000\" fill-rule=\"evenodd\" fill-opacity=\"1\" /><path clip-path=\"url(#clip610)\" d=\"M 0 0 M1480.03 223.607 Q1481.63 220.736 1483.85 219.371 Q1486.07 218.005 1489.08 218.005 Q1493.13 218.005 1495.33 220.852 Q1497.53 223.676 1497.53 228.908 L1497.53 244.556 L1493.25 244.556 L1493.25 229.047 Q1493.25 225.32 1491.93 223.514 Q1490.61 221.709 1487.9 221.709 Q1484.59 221.709 1482.67 223.908 Q1480.75 226.107 1480.75 229.903 L1480.75 244.556 L1476.47 244.556 L1476.47 229.047 Q1476.47 225.297 1475.15 223.514 Q1473.83 221.709 1471.07 221.709 Q1467.81 221.709 1465.89 223.931 Q1463.97 226.13 1463.97 229.903 L1463.97 244.556 L1459.68 244.556 L1459.68 218.63 L1463.97 218.63 L1463.97 222.658 Q1465.42 220.273 1467.46 219.139 Q1469.5 218.005 1472.3 218.005 Q1475.12 218.005 1477.09 219.44 Q1479.08 220.875 1480.03 223.607 Z\" fill=\"#000000\" fill-rule=\"evenodd\" fill-opacity=\"1\" /><path clip-path=\"url(#clip610)\" d=\"M 0 0 M1512.04 221.616 Q1508.62 221.616 1506.63 224.301 Q1504.64 226.963 1504.64 231.616 Q1504.64 236.269 1506.6 238.954 Q1508.59 241.616 1512.04 241.616 Q1515.45 241.616 1517.44 238.931 Q1519.43 236.246 1519.43 231.616 Q1519.43 227.01 1517.44 224.324 Q1515.45 221.616 1512.04 221.616 M1512.04 218.005 Q1517.6 218.005 1520.77 221.616 Q1523.94 225.227 1523.94 231.616 Q1523.94 237.982 1520.77 241.616 Q1517.6 245.227 1512.04 245.227 Q1506.47 245.227 1503.29 241.616 Q1500.15 237.982 1500.15 231.616 Q1500.15 225.227 1503.29 221.616 Q1506.47 218.005 1512.04 218.005 Z\" fill=\"#000000\" fill-rule=\"evenodd\" fill-opacity=\"1\" /><path clip-path=\"url(#clip610)\" d=\"M 0 0 M1549.96 228.908 L1549.96 244.556 L1545.7 244.556 L1545.7 229.047 Q1545.7 225.366 1544.27 223.537 Q1542.83 221.709 1539.96 221.709 Q1536.51 221.709 1534.52 223.908 Q1532.53 226.107 1532.53 229.903 L1532.53 244.556 L1528.25 244.556 L1528.25 218.63 L1532.53 218.63 L1532.53 222.658 Q1534.06 220.32 1536.12 219.162 Q1538.2 218.005 1540.91 218.005 Q1545.38 218.005 1547.67 220.783 Q1549.96 223.537 1549.96 228.908 Z\" fill=\"#000000\" fill-rule=\"evenodd\" fill-opacity=\"1\" /><path clip-path=\"url(#clip610)\" d=\"M 0 0 M1574.13 252.426 L1574.13 255.736 L1549.5 255.736 L1549.5 252.426 L1574.13 252.426 Z\" fill=\"#000000\" fill-rule=\"evenodd\" fill-opacity=\"1\" /><path clip-path=\"url(#clip610)\" d=\"M 0 0 M1588.64 221.616 Q1585.21 221.616 1583.22 224.301 Q1581.23 226.963 1581.23 231.616 Q1581.23 236.269 1583.2 238.954 Q1585.19 241.616 1588.64 241.616 Q1592.04 241.616 1594.03 238.931 Q1596.02 236.246 1596.02 231.616 Q1596.02 227.01 1594.03 224.324 Q1592.04 221.616 1588.64 221.616 M1588.64 218.005 Q1594.2 218.005 1597.37 221.616 Q1600.54 225.227 1600.54 231.616 Q1600.54 237.982 1597.37 241.616 Q1594.2 245.227 1588.64 245.227 Q1583.06 245.227 1579.89 241.616 Q1576.74 237.982 1576.74 231.616 Q1576.74 225.227 1579.89 221.616 Q1583.06 218.005 1588.64 218.005 Z\" fill=\"#000000\" fill-rule=\"evenodd\" fill-opacity=\"1\" /><path clip-path=\"url(#clip610)\" d=\"M 0 0 M1609.13 240.667 L1609.13 254.417 L1604.84 254.417 L1604.84 218.63 L1609.13 218.63 L1609.13 222.565 Q1610.47 220.25 1612.51 219.139 Q1614.57 218.005 1617.41 218.005 Q1622.14 218.005 1625.08 221.755 Q1628.04 225.505 1628.04 231.616 Q1628.04 237.727 1625.08 241.477 Q1622.14 245.227 1617.41 245.227 Q1614.57 245.227 1612.51 244.116 Q1610.47 242.982 1609.13 240.667 M1623.62 231.616 Q1623.62 226.917 1621.67 224.255 Q1619.75 221.57 1616.37 221.57 Q1612.99 221.57 1611.05 224.255 Q1609.13 226.917 1609.13 231.616 Q1609.13 236.315 1611.05 239 Q1612.99 241.662 1616.37 241.662 Q1619.75 241.662 1621.67 239 Q1623.62 236.315 1623.62 231.616 Z\" fill=\"#000000\" fill-rule=\"evenodd\" fill-opacity=\"1\" /><path clip-path=\"url(#clip610)\" d=\"M 0 0 M1636.72 211.269 L1636.72 218.63 L1645.49 218.63 L1645.49 221.94 L1636.72 221.94 L1636.72 236.014 Q1636.72 239.185 1637.58 240.088 Q1638.46 240.991 1641.12 240.991 L1645.49 240.991 L1645.49 244.556 L1641.12 244.556 Q1636.19 244.556 1634.31 242.727 Q1632.44 240.875 1632.44 236.014 L1632.44 221.94 L1629.31 221.94 L1629.31 218.63 L1632.44 218.63 L1632.44 211.269 L1636.72 211.269 Z\" fill=\"#000000\" fill-rule=\"evenodd\" fill-opacity=\"1\" /><path clip-path=\"url(#clip610)\" d=\"M 0 0 M1651.05 238.676 L1655.93 238.676 L1655.93 244.556 L1651.05 244.556 L1651.05 238.676 M1651.05 220.042 L1655.93 220.042 L1655.93 225.922 L1651.05 225.922 L1651.05 220.042 Z\" fill=\"#000000\" fill-rule=\"evenodd\" fill-opacity=\"1\" /><path clip-path=\"url(#clip610)\" d=\"M 0 0 M1672.14 214.602 L1665.79 231.801 L1678.5 231.801 L1672.14 214.602 M1669.5 209.996 L1674.8 209.996 L1687.97 244.556 L1683.11 244.556 L1679.96 235.69 L1664.38 235.69 L1661.23 244.556 L1656.3 244.556 L1669.5 209.996 Z\" fill=\"#000000\" fill-rule=\"evenodd\" fill-opacity=\"1\" /><path clip-path=\"url(#clip610)\" d=\"M 0 0 M1692 234.324 L1692 218.63 L1696.26 218.63 L1696.26 234.162 Q1696.26 237.843 1697.69 239.695 Q1699.13 241.523 1702 241.523 Q1705.45 241.523 1707.44 239.324 Q1709.45 237.125 1709.45 233.329 L1709.45 218.63 L1713.71 218.63 L1713.71 244.556 L1709.45 244.556 L1709.45 240.574 Q1707.9 242.935 1705.84 244.093 Q1703.8 245.227 1701.09 245.227 Q1696.63 245.227 1694.31 242.449 Q1692 239.671 1692 234.324 M1702.71 218.005 L1702.71 218.005 Z\" fill=\"#000000\" fill-rule=\"evenodd\" fill-opacity=\"1\" /><path clip-path=\"url(#clip610)\" d=\"M 0 0 M1722.39 211.269 L1722.39 218.63 L1731.16 218.63 L1731.16 221.94 L1722.39 221.94 L1722.39 236.014 Q1722.39 239.185 1723.25 240.088 Q1724.13 240.991 1726.79 240.991 L1731.16 240.991 L1731.16 244.556 L1726.79 244.556 Q1721.86 244.556 1719.98 242.727 Q1718.11 240.875 1718.11 236.014 L1718.11 221.94 L1714.98 221.94 L1714.98 218.63 L1718.11 218.63 L1718.11 211.269 L1722.39 211.269 Z\" fill=\"#000000\" fill-rule=\"evenodd\" fill-opacity=\"1\" /><path clip-path=\"url(#clip610)\" d=\"M 0 0 M1745.68 221.616 Q1742.25 221.616 1740.26 224.301 Q1738.27 226.963 1738.27 231.616 Q1738.27 236.269 1740.24 238.954 Q1742.23 241.616 1745.68 241.616 Q1749.08 241.616 1751.07 238.931 Q1753.06 236.246 1753.06 231.616 Q1753.06 227.01 1751.07 224.324 Q1749.08 221.616 1745.68 221.616 M1745.68 218.005 Q1751.23 218.005 1754.4 221.616 Q1757.57 225.227 1757.57 231.616 Q1757.57 237.982 1754.4 241.616 Q1751.23 245.227 1745.68 245.227 Q1740.1 245.227 1736.93 241.616 Q1733.78 237.982 1733.78 231.616 Q1733.78 225.227 1736.93 221.616 Q1740.1 218.005 1745.68 218.005 Z\" fill=\"#000000\" fill-rule=\"evenodd\" fill-opacity=\"1\" /><path clip-path=\"url(#clip610)\" d=\"M 0 0 M1794.17 222.565 L1794.17 208.537 L1798.43 208.537 L1798.43 244.556 L1794.17 244.556 L1794.17 240.667 Q1792.83 242.982 1790.77 244.116 Q1788.73 245.227 1785.86 245.227 Q1781.16 245.227 1778.2 241.477 Q1775.26 237.727 1775.26 231.616 Q1775.26 225.505 1778.2 221.755 Q1781.16 218.005 1785.86 218.005 Q1788.73 218.005 1790.77 219.139 Q1792.83 220.25 1794.17 222.565 M1779.66 231.616 Q1779.66 236.315 1781.58 239 Q1783.52 241.662 1786.9 241.662 Q1790.28 241.662 1792.23 239 Q1794.17 236.315 1794.17 231.616 Q1794.17 226.917 1792.23 224.255 Q1790.28 221.57 1786.9 221.57 Q1783.52 221.57 1781.58 224.255 Q1779.66 226.917 1779.66 231.616 Z\" fill=\"#000000\" fill-rule=\"evenodd\" fill-opacity=\"1\" /><path clip-path=\"url(#clip610)\" d=\"M 0 0 M1825.07 230.528 L1825.07 232.611 L1805.49 232.611 Q1805.77 237.009 1808.13 239.324 Q1810.51 241.616 1814.75 241.616 Q1817.2 241.616 1819.5 241.014 Q1821.81 240.412 1824.08 239.209 L1824.08 243.236 Q1821.79 244.208 1819.38 244.718 Q1816.97 245.227 1814.5 245.227 Q1808.29 245.227 1804.66 241.616 Q1801.05 238.005 1801.05 231.847 Q1801.05 225.482 1804.47 221.755 Q1807.92 218.005 1813.76 218.005 Q1818.99 218.005 1822.02 221.385 Q1825.07 224.741 1825.07 230.528 M1820.82 229.278 Q1820.77 225.783 1818.85 223.699 Q1816.95 221.616 1813.8 221.616 Q1810.24 221.616 1808.08 223.63 Q1805.95 225.644 1805.63 229.301 L1820.82 229.278 Z\" fill=\"#000000\" fill-rule=\"evenodd\" fill-opacity=\"1\" /><path clip-path=\"url(#clip610)\" d=\"M 0 0 M1849.73 223.607 Q1851.32 220.736 1853.55 219.371 Q1855.77 218.005 1858.78 218.005 Q1862.83 218.005 1865.03 220.852 Q1867.23 223.676 1867.23 228.908 L1867.23 244.556 L1862.94 244.556 L1862.94 229.047 Q1862.94 225.32 1861.63 223.514 Q1860.31 221.709 1857.6 221.709 Q1854.29 221.709 1852.37 223.908 Q1850.44 226.107 1850.44 229.903 L1850.44 244.556 L1846.16 244.556 L1846.16 229.047 Q1846.16 225.297 1844.84 223.514 Q1843.52 221.709 1840.77 221.709 Q1837.5 221.709 1835.58 223.931 Q1833.66 226.13 1833.66 229.903 L1833.66 244.556 L1829.38 244.556 L1829.38 218.63 L1833.66 218.63 L1833.66 222.658 Q1835.12 220.273 1837.16 219.139 Q1839.19 218.005 1842 218.005 Q1844.82 218.005 1846.79 219.44 Q1848.78 220.875 1849.73 223.607 Z\" fill=\"#000000\" fill-rule=\"evenodd\" fill-opacity=\"1\" /><path clip-path=\"url(#clip610)\" d=\"M 0 0 M1881.74 221.616 Q1878.31 221.616 1876.32 224.301 Q1874.33 226.963 1874.33 231.616 Q1874.33 236.269 1876.3 238.954 Q1878.29 241.616 1881.74 241.616 Q1885.14 241.616 1887.13 238.931 Q1889.12 236.246 1889.12 231.616 Q1889.12 227.01 1887.13 224.324 Q1885.14 221.616 1881.74 221.616 M1881.74 218.005 Q1887.3 218.005 1890.47 221.616 Q1893.64 225.227 1893.64 231.616 Q1893.64 237.982 1890.47 241.616 Q1887.3 245.227 1881.74 245.227 Q1876.16 245.227 1872.99 241.616 Q1869.84 237.982 1869.84 231.616 Q1869.84 225.227 1872.99 221.616 Q1876.16 218.005 1881.74 218.005 Z\" fill=\"#000000\" fill-rule=\"evenodd\" fill-opacity=\"1\" /><path clip-path=\"url(#clip610)\" d=\"M 0 0 M1919.66 228.908 L1919.66 244.556 L1915.4 244.556 L1915.4 229.047 Q1915.4 225.366 1913.96 223.537 Q1912.53 221.709 1909.66 221.709 Q1906.21 221.709 1904.22 223.908 Q1902.23 226.107 1902.23 229.903 L1902.23 244.556 L1897.94 244.556 L1897.94 218.63 L1902.23 218.63 L1902.23 222.658 Q1903.75 220.32 1905.81 219.162 Q1907.9 218.005 1910.61 218.005 Q1915.07 218.005 1917.37 220.783 Q1919.66 223.537 1919.66 228.908 Z\" fill=\"#000000\" fill-rule=\"evenodd\" fill-opacity=\"1\" /><path clip-path=\"url(#clip610)\" d=\"M 0 0 M1943.82 252.426 L1943.82 255.736 L1919.19 255.736 L1919.19 252.426 L1943.82 252.426 Z\" fill=\"#000000\" fill-rule=\"evenodd\" fill-opacity=\"1\" /><path clip-path=\"url(#clip610)\" d=\"M 0 0 M1948.29 208.537 L1952.55 208.537 L1952.55 244.556 L1948.29 244.556 L1948.29 208.537 Z\" fill=\"#000000\" fill-rule=\"evenodd\" fill-opacity=\"1\" /><path clip-path=\"url(#clip610)\" d=\"M 0 0 M1979.19 230.528 L1979.19 232.611 L1959.61 232.611 Q1959.89 237.009 1962.25 239.324 Q1964.63 241.616 1968.87 241.616 Q1971.32 241.616 1973.62 241.014 Q1975.93 240.412 1978.2 239.209 L1978.2 243.236 Q1975.91 244.208 1973.5 244.718 Q1971.09 245.227 1968.62 245.227 Q1962.41 245.227 1958.78 241.616 Q1955.17 238.005 1955.17 231.847 Q1955.17 225.482 1958.59 221.755 Q1962.04 218.005 1967.87 218.005 Q1973.11 218.005 1976.14 221.385 Q1979.19 224.741 1979.19 230.528 M1974.93 229.278 Q1974.89 225.783 1972.97 223.699 Q1971.07 221.616 1967.92 221.616 Q1964.36 221.616 1962.2 223.63 Q1960.07 225.644 1959.75 229.301 L1974.93 229.278 Z\" fill=\"#000000\" fill-rule=\"evenodd\" fill-opacity=\"1\" /><path clip-path=\"url(#clip610)\" d=\"M 0 0 M1995.44 231.523 Q1990.28 231.523 1988.29 232.704 Q1986.3 233.884 1986.3 236.732 Q1986.3 239 1987.78 240.343 Q1989.29 241.662 1991.86 241.662 Q1995.4 241.662 1997.53 239.162 Q1999.68 236.639 1999.68 232.472 L1999.68 231.523 L1995.44 231.523 M2003.94 229.764 L2003.94 244.556 L1999.68 244.556 L1999.68 240.621 Q1998.22 242.982 1996.05 244.116 Q1993.87 245.227 1990.72 245.227 Q1986.74 245.227 1984.38 243.005 Q1982.04 240.759 1982.04 237.009 Q1982.04 232.634 1984.96 230.412 Q1987.9 228.19 1993.71 228.19 L1999.68 228.19 L1999.68 227.773 Q1999.68 224.834 1997.74 223.236 Q1995.81 221.616 1992.32 221.616 Q1990.1 221.616 1987.99 222.148 Q1985.88 222.681 1983.94 223.746 L1983.94 219.81 Q1986.28 218.908 1988.48 218.468 Q1990.68 218.005 1992.76 218.005 Q1998.38 218.005 2001.16 220.922 Q2003.94 223.838 2003.94 229.764 Z\" fill=\"#000000\" fill-rule=\"evenodd\" fill-opacity=\"1\" /><path clip-path=\"url(#clip610)\" d=\"M 0 0 M2023.43 222.611 Q2022.71 222.195 2021.86 222.01 Q2021.02 221.801 2020 221.801 Q2016.39 221.801 2014.45 224.162 Q2012.53 226.5 2012.53 230.898 L2012.53 244.556 L2008.24 244.556 L2008.24 218.63 L2012.53 218.63 L2012.53 222.658 Q2013.87 220.297 2016.02 219.162 Q2018.18 218.005 2021.25 218.005 Q2021.69 218.005 2022.23 218.074 Q2022.76 218.121 2023.41 218.236 L2023.43 222.611 Z\" fill=\"#000000\" fill-rule=\"evenodd\" fill-opacity=\"1\" /><path clip-path=\"url(#clip610)\" d=\"M 0 0 M2048.61 228.908 L2048.61 244.556 L2044.36 244.556 L2044.36 229.047 Q2044.36 225.366 2042.92 223.537 Q2041.49 221.709 2038.61 221.709 Q2035.17 221.709 2033.18 223.908 Q2031.18 226.107 2031.18 229.903 L2031.18 244.556 L2026.9 244.556 L2026.9 218.63 L2031.18 218.63 L2031.18 222.658 Q2032.71 220.32 2034.77 219.162 Q2036.86 218.005 2039.56 218.005 Q2044.03 218.005 2046.32 220.783 Q2048.61 223.537 2048.61 228.908 Z\" fill=\"#000000\" fill-rule=\"evenodd\" fill-opacity=\"1\" /><path clip-path=\"url(#clip610)\" d=\"M 0 0 M2075.26 230.528 L2075.26 232.611 L2055.68 232.611 Q2055.95 237.009 2058.31 239.324 Q2060.7 241.616 2064.93 241.616 Q2067.39 241.616 2069.68 241.014 Q2071.99 240.412 2074.26 239.209 L2074.26 243.236 Q2071.97 244.208 2069.56 244.718 Q2067.16 245.227 2064.68 245.227 Q2058.48 245.227 2054.84 241.616 Q2051.23 238.005 2051.23 231.847 Q2051.23 225.482 2054.66 221.755 Q2058.11 218.005 2063.94 218.005 Q2069.17 218.005 2072.2 221.385 Q2075.26 224.741 2075.26 230.528 M2071 229.278 Q2070.95 225.783 2069.03 223.699 Q2067.13 221.616 2063.99 221.616 Q2060.42 221.616 2058.27 223.63 Q2056.14 225.644 2055.81 229.301 L2071 229.278 Z\" fill=\"#000000\" fill-rule=\"evenodd\" fill-opacity=\"1\" /><path clip-path=\"url(#clip610)\" d=\"M 0 0 M2094.75 222.611 Q2094.03 222.195 2093.17 222.01 Q2092.34 221.801 2091.32 221.801 Q2087.71 221.801 2085.77 224.162 Q2083.85 226.5 2083.85 230.898 L2083.85 244.556 L2079.56 244.556 L2079.56 218.63 L2083.85 218.63 L2083.85 222.658 Q2085.19 220.297 2087.34 219.162 Q2089.49 218.005 2092.57 218.005 Q2093.01 218.005 2093.55 218.074 Q2094.08 218.121 2094.73 218.236 L2094.75 222.611 Z\" fill=\"#000000\" fill-rule=\"evenodd\" fill-opacity=\"1\" /><path clip-path=\"url(#clip610)\" d=\"M 0 0 M2099.47 238.676 L2104.36 238.676 L2104.36 244.556 L2099.47 244.556 L2099.47 238.676 M2099.47 220.042 L2104.36 220.042 L2104.36 225.922 L2099.47 225.922 L2099.47 220.042 Z\" fill=\"#000000\" fill-rule=\"evenodd\" fill-opacity=\"1\" /><path clip-path=\"url(#clip610)\" d=\"M 0 0 M2123.04 213.167 Q2117.94 213.167 2114.93 216.963 Q2111.95 220.76 2111.95 227.31 Q2111.95 233.838 2114.93 237.634 Q2117.94 241.431 2123.04 241.431 Q2128.13 241.431 2131.09 237.634 Q2134.08 233.838 2134.08 227.31 Q2134.08 220.76 2131.09 216.963 Q2128.13 213.167 2123.04 213.167 M2129.59 243.931 L2135.74 250.667 L2130.1 250.667 L2124.98 245.134 Q2124.22 245.181 2123.8 245.204 Q2123.41 245.227 2123.04 245.227 Q2115.74 245.227 2111.37 240.366 Q2107.02 235.482 2107.02 227.31 Q2107.02 219.116 2111.37 214.255 Q2115.74 209.371 2123.04 209.371 Q2130.3 209.371 2134.66 214.255 Q2139.01 219.116 2139.01 227.31 Q2139.01 233.329 2136.58 237.611 Q2134.17 241.894 2129.59 243.931 Z\" fill=\"#000000\" fill-rule=\"evenodd\" fill-opacity=\"1\" /><polyline clip-path=\"url(#clip610)\" style=\"stroke:#e26f46; stroke-width:4; stroke-opacity:1; fill:none\" points=\"\n",
       "  1226.81,287.756 1364.87,287.756 \n",
       "  \"/>\n",
       "<path clip-path=\"url(#clip610)\" d=\"M 0 0 M1424.47 283.045 L1424.47 269.017 L1428.73 269.017 L1428.73 305.036 L1424.47 305.036 L1424.47 301.147 Q1423.13 303.462 1421.07 304.596 Q1419.03 305.707 1416.16 305.707 Q1411.47 305.707 1408.5 301.957 Q1405.56 298.207 1405.56 292.096 Q1405.56 285.985 1408.5 282.235 Q1411.47 278.485 1416.16 278.485 Q1419.03 278.485 1421.07 279.619 Q1423.13 280.73 1424.47 283.045 M1409.96 292.096 Q1409.96 296.795 1411.88 299.48 Q1413.83 302.142 1417.21 302.142 Q1420.59 302.142 1422.53 299.48 Q1424.47 296.795 1424.47 292.096 Q1424.47 287.397 1422.53 284.735 Q1420.59 282.05 1417.21 282.05 Q1413.83 282.05 1411.88 284.735 Q1409.96 287.397 1409.96 292.096 Z\" fill=\"#000000\" fill-rule=\"evenodd\" fill-opacity=\"1\" /><path clip-path=\"url(#clip610)\" d=\"M 0 0 M1455.38 291.008 L1455.38 293.091 L1435.79 293.091 Q1436.07 297.489 1438.43 299.804 Q1440.82 302.096 1445.05 302.096 Q1447.51 302.096 1449.8 301.494 Q1452.11 300.892 1454.38 299.689 L1454.38 303.716 Q1452.09 304.688 1449.68 305.198 Q1447.28 305.707 1444.8 305.707 Q1438.6 305.707 1434.96 302.096 Q1431.35 298.485 1431.35 292.327 Q1431.35 285.962 1434.78 282.235 Q1438.22 278.485 1444.06 278.485 Q1449.29 278.485 1452.32 281.865 Q1455.38 285.221 1455.38 291.008 M1451.12 289.758 Q1451.07 286.263 1449.15 284.179 Q1447.25 282.096 1444.1 282.096 Q1440.54 282.096 1438.39 284.11 Q1436.26 286.124 1435.93 289.781 L1451.12 289.758 Z\" fill=\"#000000\" fill-rule=\"evenodd\" fill-opacity=\"1\" /><path clip-path=\"url(#clip610)\" d=\"M 0 0 M1480.03 284.087 Q1481.63 281.216 1483.85 279.851 Q1486.07 278.485 1489.08 278.485 Q1493.13 278.485 1495.33 281.332 Q1497.53 284.156 1497.53 289.388 L1497.53 305.036 L1493.25 305.036 L1493.25 289.527 Q1493.25 285.8 1491.93 283.994 Q1490.61 282.189 1487.9 282.189 Q1484.59 282.189 1482.67 284.388 Q1480.75 286.587 1480.75 290.383 L1480.75 305.036 L1476.47 305.036 L1476.47 289.527 Q1476.47 285.777 1475.15 283.994 Q1473.83 282.189 1471.07 282.189 Q1467.81 282.189 1465.89 284.411 Q1463.97 286.61 1463.97 290.383 L1463.97 305.036 L1459.68 305.036 L1459.68 279.11 L1463.97 279.11 L1463.97 283.138 Q1465.42 280.753 1467.46 279.619 Q1469.5 278.485 1472.3 278.485 Q1475.12 278.485 1477.09 279.92 Q1479.08 281.355 1480.03 284.087 Z\" fill=\"#000000\" fill-rule=\"evenodd\" fill-opacity=\"1\" /><path clip-path=\"url(#clip610)\" d=\"M 0 0 M1512.04 282.096 Q1508.62 282.096 1506.63 284.781 Q1504.64 287.443 1504.64 292.096 Q1504.64 296.749 1506.6 299.434 Q1508.59 302.096 1512.04 302.096 Q1515.45 302.096 1517.44 299.411 Q1519.43 296.726 1519.43 292.096 Q1519.43 287.49 1517.44 284.804 Q1515.45 282.096 1512.04 282.096 M1512.04 278.485 Q1517.6 278.485 1520.77 282.096 Q1523.94 285.707 1523.94 292.096 Q1523.94 298.462 1520.77 302.096 Q1517.6 305.707 1512.04 305.707 Q1506.47 305.707 1503.29 302.096 Q1500.15 298.462 1500.15 292.096 Q1500.15 285.707 1503.29 282.096 Q1506.47 278.485 1512.04 278.485 Z\" fill=\"#000000\" fill-rule=\"evenodd\" fill-opacity=\"1\" /><path clip-path=\"url(#clip610)\" d=\"M 0 0 M1549.96 289.388 L1549.96 305.036 L1545.7 305.036 L1545.7 289.527 Q1545.7 285.846 1544.27 284.017 Q1542.83 282.189 1539.96 282.189 Q1536.51 282.189 1534.52 284.388 Q1532.53 286.587 1532.53 290.383 L1532.53 305.036 L1528.25 305.036 L1528.25 279.11 L1532.53 279.11 L1532.53 283.138 Q1534.06 280.8 1536.12 279.642 Q1538.2 278.485 1540.91 278.485 Q1545.38 278.485 1547.67 281.263 Q1549.96 284.017 1549.96 289.388 Z\" fill=\"#000000\" fill-rule=\"evenodd\" fill-opacity=\"1\" /><path clip-path=\"url(#clip610)\" d=\"M 0 0 M1574.13 312.906 L1574.13 316.216 L1549.5 316.216 L1549.5 312.906 L1574.13 312.906 Z\" fill=\"#000000\" fill-rule=\"evenodd\" fill-opacity=\"1\" /><path clip-path=\"url(#clip610)\" d=\"M 0 0 M1588.64 282.096 Q1585.21 282.096 1583.22 284.781 Q1581.23 287.443 1581.23 292.096 Q1581.23 296.749 1583.2 299.434 Q1585.19 302.096 1588.64 302.096 Q1592.04 302.096 1594.03 299.411 Q1596.02 296.726 1596.02 292.096 Q1596.02 287.49 1594.03 284.804 Q1592.04 282.096 1588.64 282.096 M1588.64 278.485 Q1594.2 278.485 1597.37 282.096 Q1600.54 285.707 1600.54 292.096 Q1600.54 298.462 1597.37 302.096 Q1594.2 305.707 1588.64 305.707 Q1583.06 305.707 1579.89 302.096 Q1576.74 298.462 1576.74 292.096 Q1576.74 285.707 1579.89 282.096 Q1583.06 278.485 1588.64 278.485 Z\" fill=\"#000000\" fill-rule=\"evenodd\" fill-opacity=\"1\" /><path clip-path=\"url(#clip610)\" d=\"M 0 0 M1609.13 301.147 L1609.13 314.897 L1604.84 314.897 L1604.84 279.11 L1609.13 279.11 L1609.13 283.045 Q1610.47 280.73 1612.51 279.619 Q1614.57 278.485 1617.41 278.485 Q1622.14 278.485 1625.08 282.235 Q1628.04 285.985 1628.04 292.096 Q1628.04 298.207 1625.08 301.957 Q1622.14 305.707 1617.41 305.707 Q1614.57 305.707 1612.51 304.596 Q1610.47 303.462 1609.13 301.147 M1623.62 292.096 Q1623.62 287.397 1621.67 284.735 Q1619.75 282.05 1616.37 282.05 Q1612.99 282.05 1611.05 284.735 Q1609.13 287.397 1609.13 292.096 Q1609.13 296.795 1611.05 299.48 Q1612.99 302.142 1616.37 302.142 Q1619.75 302.142 1621.67 299.48 Q1623.62 296.795 1623.62 292.096 Z\" fill=\"#000000\" fill-rule=\"evenodd\" fill-opacity=\"1\" /><path clip-path=\"url(#clip610)\" d=\"M 0 0 M1636.72 271.749 L1636.72 279.11 L1645.49 279.11 L1645.49 282.42 L1636.72 282.42 L1636.72 296.494 Q1636.72 299.665 1637.58 300.568 Q1638.46 301.471 1641.12 301.471 L1645.49 301.471 L1645.49 305.036 L1641.12 305.036 Q1636.19 305.036 1634.31 303.207 Q1632.44 301.355 1632.44 296.494 L1632.44 282.42 L1629.31 282.42 L1629.31 279.11 L1632.44 279.11 L1632.44 271.749 L1636.72 271.749 Z\" fill=\"#000000\" fill-rule=\"evenodd\" fill-opacity=\"1\" /><path clip-path=\"url(#clip610)\" d=\"M 0 0 M1651.05 299.156 L1655.93 299.156 L1655.93 305.036 L1651.05 305.036 L1651.05 299.156 M1651.05 280.522 L1655.93 280.522 L1655.93 286.402 L1651.05 286.402 L1651.05 280.522 Z\" fill=\"#000000\" fill-rule=\"evenodd\" fill-opacity=\"1\" /><path clip-path=\"url(#clip610)\" d=\"M 0 0 M1672.14 275.082 L1665.79 292.281 L1678.5 292.281 L1672.14 275.082 M1669.5 270.476 L1674.8 270.476 L1687.97 305.036 L1683.11 305.036 L1679.96 296.17 L1664.38 296.17 L1661.23 305.036 L1656.3 305.036 L1669.5 270.476 Z\" fill=\"#000000\" fill-rule=\"evenodd\" fill-opacity=\"1\" /><path clip-path=\"url(#clip610)\" d=\"M 0 0 M1692 294.804 L1692 279.11 L1696.26 279.11 L1696.26 294.642 Q1696.26 298.323 1697.69 300.175 Q1699.13 302.003 1702 302.003 Q1705.45 302.003 1707.44 299.804 Q1709.45 297.605 1709.45 293.809 L1709.45 279.11 L1713.71 279.11 L1713.71 305.036 L1709.45 305.036 L1709.45 301.054 Q1707.9 303.415 1705.84 304.573 Q1703.8 305.707 1701.09 305.707 Q1696.63 305.707 1694.31 302.929 Q1692 300.151 1692 294.804 M1702.71 278.485 L1702.71 278.485 Z\" fill=\"#000000\" fill-rule=\"evenodd\" fill-opacity=\"1\" /><path clip-path=\"url(#clip610)\" d=\"M 0 0 M1722.39 271.749 L1722.39 279.11 L1731.16 279.11 L1731.16 282.42 L1722.39 282.42 L1722.39 296.494 Q1722.39 299.665 1723.25 300.568 Q1724.13 301.471 1726.79 301.471 L1731.16 301.471 L1731.16 305.036 L1726.79 305.036 Q1721.86 305.036 1719.98 303.207 Q1718.11 301.355 1718.11 296.494 L1718.11 282.42 L1714.98 282.42 L1714.98 279.11 L1718.11 279.11 L1718.11 271.749 L1722.39 271.749 Z\" fill=\"#000000\" fill-rule=\"evenodd\" fill-opacity=\"1\" /><path clip-path=\"url(#clip610)\" d=\"M 0 0 M1745.68 282.096 Q1742.25 282.096 1740.26 284.781 Q1738.27 287.443 1738.27 292.096 Q1738.27 296.749 1740.24 299.434 Q1742.23 302.096 1745.68 302.096 Q1749.08 302.096 1751.07 299.411 Q1753.06 296.726 1753.06 292.096 Q1753.06 287.49 1751.07 284.804 Q1749.08 282.096 1745.68 282.096 M1745.68 278.485 Q1751.23 278.485 1754.4 282.096 Q1757.57 285.707 1757.57 292.096 Q1757.57 298.462 1754.4 302.096 Q1751.23 305.707 1745.68 305.707 Q1740.1 305.707 1736.93 302.096 Q1733.78 298.462 1733.78 292.096 Q1733.78 285.707 1736.93 282.096 Q1740.1 278.485 1745.68 278.485 Z\" fill=\"#000000\" fill-rule=\"evenodd\" fill-opacity=\"1\" /><path clip-path=\"url(#clip610)\" d=\"M 0 0 M1794.17 283.045 L1794.17 269.017 L1798.43 269.017 L1798.43 305.036 L1794.17 305.036 L1794.17 301.147 Q1792.83 303.462 1790.77 304.596 Q1788.73 305.707 1785.86 305.707 Q1781.16 305.707 1778.2 301.957 Q1775.26 298.207 1775.26 292.096 Q1775.26 285.985 1778.2 282.235 Q1781.16 278.485 1785.86 278.485 Q1788.73 278.485 1790.77 279.619 Q1792.83 280.73 1794.17 283.045 M1779.66 292.096 Q1779.66 296.795 1781.58 299.48 Q1783.52 302.142 1786.9 302.142 Q1790.28 302.142 1792.23 299.48 Q1794.17 296.795 1794.17 292.096 Q1794.17 287.397 1792.23 284.735 Q1790.28 282.05 1786.9 282.05 Q1783.52 282.05 1781.58 284.735 Q1779.66 287.397 1779.66 292.096 Z\" fill=\"#000000\" fill-rule=\"evenodd\" fill-opacity=\"1\" /><path clip-path=\"url(#clip610)\" d=\"M 0 0 M1825.07 291.008 L1825.07 293.091 L1805.49 293.091 Q1805.77 297.489 1808.13 299.804 Q1810.51 302.096 1814.75 302.096 Q1817.2 302.096 1819.5 301.494 Q1821.81 300.892 1824.08 299.689 L1824.08 303.716 Q1821.79 304.688 1819.38 305.198 Q1816.97 305.707 1814.5 305.707 Q1808.29 305.707 1804.66 302.096 Q1801.05 298.485 1801.05 292.327 Q1801.05 285.962 1804.47 282.235 Q1807.92 278.485 1813.76 278.485 Q1818.99 278.485 1822.02 281.865 Q1825.07 285.221 1825.07 291.008 M1820.82 289.758 Q1820.77 286.263 1818.85 284.179 Q1816.95 282.096 1813.8 282.096 Q1810.24 282.096 1808.08 284.11 Q1805.95 286.124 1805.63 289.781 L1820.82 289.758 Z\" fill=\"#000000\" fill-rule=\"evenodd\" fill-opacity=\"1\" /><path clip-path=\"url(#clip610)\" d=\"M 0 0 M1849.73 284.087 Q1851.32 281.216 1853.55 279.851 Q1855.77 278.485 1858.78 278.485 Q1862.83 278.485 1865.03 281.332 Q1867.23 284.156 1867.23 289.388 L1867.23 305.036 L1862.94 305.036 L1862.94 289.527 Q1862.94 285.8 1861.63 283.994 Q1860.31 282.189 1857.6 282.189 Q1854.29 282.189 1852.37 284.388 Q1850.44 286.587 1850.44 290.383 L1850.44 305.036 L1846.16 305.036 L1846.16 289.527 Q1846.16 285.777 1844.84 283.994 Q1843.52 282.189 1840.77 282.189 Q1837.5 282.189 1835.58 284.411 Q1833.66 286.61 1833.66 290.383 L1833.66 305.036 L1829.38 305.036 L1829.38 279.11 L1833.66 279.11 L1833.66 283.138 Q1835.12 280.753 1837.16 279.619 Q1839.19 278.485 1842 278.485 Q1844.82 278.485 1846.79 279.92 Q1848.78 281.355 1849.73 284.087 Z\" fill=\"#000000\" fill-rule=\"evenodd\" fill-opacity=\"1\" /><path clip-path=\"url(#clip610)\" d=\"M 0 0 M1881.74 282.096 Q1878.31 282.096 1876.32 284.781 Q1874.33 287.443 1874.33 292.096 Q1874.33 296.749 1876.3 299.434 Q1878.29 302.096 1881.74 302.096 Q1885.14 302.096 1887.13 299.411 Q1889.12 296.726 1889.12 292.096 Q1889.12 287.49 1887.13 284.804 Q1885.14 282.096 1881.74 282.096 M1881.74 278.485 Q1887.3 278.485 1890.47 282.096 Q1893.64 285.707 1893.64 292.096 Q1893.64 298.462 1890.47 302.096 Q1887.3 305.707 1881.74 305.707 Q1876.16 305.707 1872.99 302.096 Q1869.84 298.462 1869.84 292.096 Q1869.84 285.707 1872.99 282.096 Q1876.16 278.485 1881.74 278.485 Z\" fill=\"#000000\" fill-rule=\"evenodd\" fill-opacity=\"1\" /><path clip-path=\"url(#clip610)\" d=\"M 0 0 M1919.66 289.388 L1919.66 305.036 L1915.4 305.036 L1915.4 289.527 Q1915.4 285.846 1913.96 284.017 Q1912.53 282.189 1909.66 282.189 Q1906.21 282.189 1904.22 284.388 Q1902.23 286.587 1902.23 290.383 L1902.23 305.036 L1897.94 305.036 L1897.94 279.11 L1902.23 279.11 L1902.23 283.138 Q1903.75 280.8 1905.81 279.642 Q1907.9 278.485 1910.61 278.485 Q1915.07 278.485 1917.37 281.263 Q1919.66 284.017 1919.66 289.388 Z\" fill=\"#000000\" fill-rule=\"evenodd\" fill-opacity=\"1\" /><path clip-path=\"url(#clip610)\" d=\"M 0 0 M1943.82 312.906 L1943.82 316.216 L1919.19 316.216 L1919.19 312.906 L1943.82 312.906 Z\" fill=\"#000000\" fill-rule=\"evenodd\" fill-opacity=\"1\" /><path clip-path=\"url(#clip610)\" d=\"M 0 0 M1948.29 269.017 L1952.55 269.017 L1952.55 305.036 L1948.29 305.036 L1948.29 269.017 Z\" fill=\"#000000\" fill-rule=\"evenodd\" fill-opacity=\"1\" /><path clip-path=\"url(#clip610)\" d=\"M 0 0 M1979.19 291.008 L1979.19 293.091 L1959.61 293.091 Q1959.89 297.489 1962.25 299.804 Q1964.63 302.096 1968.87 302.096 Q1971.32 302.096 1973.62 301.494 Q1975.93 300.892 1978.2 299.689 L1978.2 303.716 Q1975.91 304.688 1973.5 305.198 Q1971.09 305.707 1968.62 305.707 Q1962.41 305.707 1958.78 302.096 Q1955.17 298.485 1955.17 292.327 Q1955.17 285.962 1958.59 282.235 Q1962.04 278.485 1967.87 278.485 Q1973.11 278.485 1976.14 281.865 Q1979.19 285.221 1979.19 291.008 M1974.93 289.758 Q1974.89 286.263 1972.97 284.179 Q1971.07 282.096 1967.92 282.096 Q1964.36 282.096 1962.2 284.11 Q1960.07 286.124 1959.75 289.781 L1974.93 289.758 Z\" fill=\"#000000\" fill-rule=\"evenodd\" fill-opacity=\"1\" /><path clip-path=\"url(#clip610)\" d=\"M 0 0 M1995.44 292.003 Q1990.28 292.003 1988.29 293.184 Q1986.3 294.364 1986.3 297.212 Q1986.3 299.48 1987.78 300.823 Q1989.29 302.142 1991.86 302.142 Q1995.4 302.142 1997.53 299.642 Q1999.68 297.119 1999.68 292.952 L1999.68 292.003 L1995.44 292.003 M2003.94 290.244 L2003.94 305.036 L1999.68 305.036 L1999.68 301.101 Q1998.22 303.462 1996.05 304.596 Q1993.87 305.707 1990.72 305.707 Q1986.74 305.707 1984.38 303.485 Q1982.04 301.239 1982.04 297.489 Q1982.04 293.114 1984.96 290.892 Q1987.9 288.67 1993.71 288.67 L1999.68 288.67 L1999.68 288.253 Q1999.68 285.314 1997.74 283.716 Q1995.81 282.096 1992.32 282.096 Q1990.1 282.096 1987.99 282.628 Q1985.88 283.161 1983.94 284.226 L1983.94 280.29 Q1986.28 279.388 1988.48 278.948 Q1990.68 278.485 1992.76 278.485 Q1998.38 278.485 2001.16 281.402 Q2003.94 284.318 2003.94 290.244 Z\" fill=\"#000000\" fill-rule=\"evenodd\" fill-opacity=\"1\" /><path clip-path=\"url(#clip610)\" d=\"M 0 0 M2023.43 283.091 Q2022.71 282.675 2021.86 282.49 Q2021.02 282.281 2020 282.281 Q2016.39 282.281 2014.45 284.642 Q2012.53 286.98 2012.53 291.378 L2012.53 305.036 L2008.24 305.036 L2008.24 279.11 L2012.53 279.11 L2012.53 283.138 Q2013.87 280.777 2016.02 279.642 Q2018.18 278.485 2021.25 278.485 Q2021.69 278.485 2022.23 278.554 Q2022.76 278.601 2023.41 278.716 L2023.43 283.091 Z\" fill=\"#000000\" fill-rule=\"evenodd\" fill-opacity=\"1\" /><path clip-path=\"url(#clip610)\" d=\"M 0 0 M2048.61 289.388 L2048.61 305.036 L2044.36 305.036 L2044.36 289.527 Q2044.36 285.846 2042.92 284.017 Q2041.49 282.189 2038.61 282.189 Q2035.17 282.189 2033.18 284.388 Q2031.18 286.587 2031.18 290.383 L2031.18 305.036 L2026.9 305.036 L2026.9 279.11 L2031.18 279.11 L2031.18 283.138 Q2032.71 280.8 2034.77 279.642 Q2036.86 278.485 2039.56 278.485 Q2044.03 278.485 2046.32 281.263 Q2048.61 284.017 2048.61 289.388 Z\" fill=\"#000000\" fill-rule=\"evenodd\" fill-opacity=\"1\" /><path clip-path=\"url(#clip610)\" d=\"M 0 0 M2075.26 291.008 L2075.26 293.091 L2055.68 293.091 Q2055.95 297.489 2058.31 299.804 Q2060.7 302.096 2064.93 302.096 Q2067.39 302.096 2069.68 301.494 Q2071.99 300.892 2074.26 299.689 L2074.26 303.716 Q2071.97 304.688 2069.56 305.198 Q2067.16 305.707 2064.68 305.707 Q2058.48 305.707 2054.84 302.096 Q2051.23 298.485 2051.23 292.327 Q2051.23 285.962 2054.66 282.235 Q2058.11 278.485 2063.94 278.485 Q2069.17 278.485 2072.2 281.865 Q2075.26 285.221 2075.26 291.008 M2071 289.758 Q2070.95 286.263 2069.03 284.179 Q2067.13 282.096 2063.99 282.096 Q2060.42 282.096 2058.27 284.11 Q2056.14 286.124 2055.81 289.781 L2071 289.758 Z\" fill=\"#000000\" fill-rule=\"evenodd\" fill-opacity=\"1\" /><path clip-path=\"url(#clip610)\" d=\"M 0 0 M2094.75 283.091 Q2094.03 282.675 2093.17 282.49 Q2092.34 282.281 2091.32 282.281 Q2087.71 282.281 2085.77 284.642 Q2083.85 286.98 2083.85 291.378 L2083.85 305.036 L2079.56 305.036 L2079.56 279.11 L2083.85 279.11 L2083.85 283.138 Q2085.19 280.777 2087.34 279.642 Q2089.49 278.485 2092.57 278.485 Q2093.01 278.485 2093.55 278.554 Q2094.08 278.601 2094.73 278.716 L2094.75 283.091 Z\" fill=\"#000000\" fill-rule=\"evenodd\" fill-opacity=\"1\" /><path clip-path=\"url(#clip610)\" d=\"M 0 0 M2099.47 299.156 L2104.36 299.156 L2104.36 305.036 L2099.47 305.036 L2099.47 299.156 M2099.47 280.522 L2104.36 280.522 L2104.36 286.402 L2099.47 286.402 L2099.47 280.522 Z\" fill=\"#000000\" fill-rule=\"evenodd\" fill-opacity=\"1\" /><path clip-path=\"url(#clip610)\" d=\"M 0 0 M2129.73 271.61 L2129.73 276.17 Q2127.06 274.897 2124.7 274.272 Q2122.34 273.647 2120.14 273.647 Q2116.32 273.647 2114.24 275.128 Q2112.18 276.61 2112.18 279.341 Q2112.18 281.633 2113.55 282.814 Q2114.93 283.971 2118.78 284.689 L2121.6 285.267 Q2126.83 286.263 2129.31 288.786 Q2131.81 291.286 2131.81 295.499 Q2131.81 300.522 2128.43 303.114 Q2125.07 305.707 2118.57 305.707 Q2116.11 305.707 2113.34 305.151 Q2110.58 304.596 2107.62 303.508 L2107.62 298.693 Q2110.47 300.29 2113.2 301.101 Q2115.93 301.911 2118.57 301.911 Q2122.57 301.911 2124.75 300.337 Q2126.92 298.763 2126.92 295.846 Q2126.92 293.3 2125.35 291.864 Q2123.8 290.429 2120.23 289.712 L2117.39 289.156 Q2112.16 288.115 2109.82 285.892 Q2107.48 283.67 2107.48 279.712 Q2107.48 275.128 2110.7 272.49 Q2113.94 269.851 2119.61 269.851 Q2122.04 269.851 2124.56 270.291 Q2127.09 270.73 2129.73 271.61 Z\" fill=\"#000000\" fill-rule=\"evenodd\" fill-opacity=\"1\" /><path clip-path=\"url(#clip610)\" d=\"M 0 0 M2152.85 288.832 Q2154.36 289.341 2155.77 291.008 Q2157.2 292.675 2158.64 295.591 L2163.38 305.036 L2158.36 305.036 L2153.94 296.17 Q2152.23 292.698 2150.61 291.564 Q2149.01 290.429 2146.23 290.429 L2141.14 290.429 L2141.14 305.036 L2136.46 305.036 L2136.46 270.476 L2147.02 270.476 Q2152.94 270.476 2155.86 272.953 Q2158.78 275.429 2158.78 280.429 Q2158.78 283.693 2157.25 285.846 Q2155.74 287.999 2152.85 288.832 M2141.14 274.318 L2141.14 286.587 L2147.02 286.587 Q2150.4 286.587 2152.11 285.036 Q2153.85 283.462 2153.85 280.429 Q2153.85 277.397 2152.11 275.869 Q2150.4 274.318 2147.02 274.318 L2141.14 274.318 Z\" fill=\"#000000\" fill-rule=\"evenodd\" fill-opacity=\"1\" /><polyline clip-path=\"url(#clip610)\" style=\"stroke:#3da44d; stroke-width:4; stroke-opacity:1; fill:none\" points=\"\n",
       "  1226.81,348.236 1364.87,348.236 \n",
       "  \"/>\n",
       "<path clip-path=\"url(#clip610)\" d=\"M 0 0 M1424.47 343.525 L1424.47 329.497 L1428.73 329.497 L1428.73 365.516 L1424.47 365.516 L1424.47 361.627 Q1423.13 363.942 1421.07 365.076 Q1419.03 366.187 1416.16 366.187 Q1411.47 366.187 1408.5 362.437 Q1405.56 358.687 1405.56 352.576 Q1405.56 346.465 1408.5 342.715 Q1411.47 338.965 1416.16 338.965 Q1419.03 338.965 1421.07 340.099 Q1423.13 341.21 1424.47 343.525 M1409.96 352.576 Q1409.96 357.275 1411.88 359.96 Q1413.83 362.622 1417.21 362.622 Q1420.59 362.622 1422.53 359.96 Q1424.47 357.275 1424.47 352.576 Q1424.47 347.877 1422.53 345.215 Q1420.59 342.53 1417.21 342.53 Q1413.83 342.53 1411.88 345.215 Q1409.96 347.877 1409.96 352.576 Z\" fill=\"#000000\" fill-rule=\"evenodd\" fill-opacity=\"1\" /><path clip-path=\"url(#clip610)\" d=\"M 0 0 M1455.38 351.488 L1455.38 353.571 L1435.79 353.571 Q1436.07 357.969 1438.43 360.284 Q1440.82 362.576 1445.05 362.576 Q1447.51 362.576 1449.8 361.974 Q1452.11 361.372 1454.38 360.169 L1454.38 364.196 Q1452.09 365.168 1449.68 365.678 Q1447.28 366.187 1444.8 366.187 Q1438.6 366.187 1434.96 362.576 Q1431.35 358.965 1431.35 352.807 Q1431.35 346.442 1434.78 342.715 Q1438.22 338.965 1444.06 338.965 Q1449.29 338.965 1452.32 342.345 Q1455.38 345.701 1455.38 351.488 M1451.12 350.238 Q1451.07 346.743 1449.15 344.659 Q1447.25 342.576 1444.1 342.576 Q1440.54 342.576 1438.39 344.59 Q1436.26 346.604 1435.93 350.261 L1451.12 350.238 Z\" fill=\"#000000\" fill-rule=\"evenodd\" fill-opacity=\"1\" /><path clip-path=\"url(#clip610)\" d=\"M 0 0 M1480.03 344.567 Q1481.63 341.696 1483.85 340.331 Q1486.07 338.965 1489.08 338.965 Q1493.13 338.965 1495.33 341.812 Q1497.53 344.636 1497.53 349.868 L1497.53 365.516 L1493.25 365.516 L1493.25 350.007 Q1493.25 346.28 1491.93 344.474 Q1490.61 342.669 1487.9 342.669 Q1484.59 342.669 1482.67 344.868 Q1480.75 347.067 1480.75 350.863 L1480.75 365.516 L1476.47 365.516 L1476.47 350.007 Q1476.47 346.257 1475.15 344.474 Q1473.83 342.669 1471.07 342.669 Q1467.81 342.669 1465.89 344.891 Q1463.97 347.09 1463.97 350.863 L1463.97 365.516 L1459.68 365.516 L1459.68 339.59 L1463.97 339.59 L1463.97 343.618 Q1465.42 341.233 1467.46 340.099 Q1469.5 338.965 1472.3 338.965 Q1475.12 338.965 1477.09 340.4 Q1479.08 341.835 1480.03 344.567 Z\" fill=\"#000000\" fill-rule=\"evenodd\" fill-opacity=\"1\" /><path clip-path=\"url(#clip610)\" d=\"M 0 0 M1512.04 342.576 Q1508.62 342.576 1506.63 345.261 Q1504.64 347.923 1504.64 352.576 Q1504.64 357.229 1506.6 359.914 Q1508.59 362.576 1512.04 362.576 Q1515.45 362.576 1517.44 359.891 Q1519.43 357.206 1519.43 352.576 Q1519.43 347.97 1517.44 345.284 Q1515.45 342.576 1512.04 342.576 M1512.04 338.965 Q1517.6 338.965 1520.77 342.576 Q1523.94 346.187 1523.94 352.576 Q1523.94 358.942 1520.77 362.576 Q1517.6 366.187 1512.04 366.187 Q1506.47 366.187 1503.29 362.576 Q1500.15 358.942 1500.15 352.576 Q1500.15 346.187 1503.29 342.576 Q1506.47 338.965 1512.04 338.965 Z\" fill=\"#000000\" fill-rule=\"evenodd\" fill-opacity=\"1\" /><path clip-path=\"url(#clip610)\" d=\"M 0 0 M1549.96 349.868 L1549.96 365.516 L1545.7 365.516 L1545.7 350.007 Q1545.7 346.326 1544.27 344.497 Q1542.83 342.669 1539.96 342.669 Q1536.51 342.669 1534.52 344.868 Q1532.53 347.067 1532.53 350.863 L1532.53 365.516 L1528.25 365.516 L1528.25 339.59 L1532.53 339.59 L1532.53 343.618 Q1534.06 341.28 1536.12 340.122 Q1538.2 338.965 1540.91 338.965 Q1545.38 338.965 1547.67 341.743 Q1549.96 344.497 1549.96 349.868 Z\" fill=\"#000000\" fill-rule=\"evenodd\" fill-opacity=\"1\" /><path clip-path=\"url(#clip610)\" d=\"M 0 0 M1574.13 373.386 L1574.13 376.696 L1549.5 376.696 L1549.5 373.386 L1574.13 373.386 Z\" fill=\"#000000\" fill-rule=\"evenodd\" fill-opacity=\"1\" /><path clip-path=\"url(#clip610)\" d=\"M 0 0 M1588.64 342.576 Q1585.21 342.576 1583.22 345.261 Q1581.23 347.923 1581.23 352.576 Q1581.23 357.229 1583.2 359.914 Q1585.19 362.576 1588.64 362.576 Q1592.04 362.576 1594.03 359.891 Q1596.02 357.206 1596.02 352.576 Q1596.02 347.97 1594.03 345.284 Q1592.04 342.576 1588.64 342.576 M1588.64 338.965 Q1594.2 338.965 1597.37 342.576 Q1600.54 346.187 1600.54 352.576 Q1600.54 358.942 1597.37 362.576 Q1594.2 366.187 1588.64 366.187 Q1583.06 366.187 1579.89 362.576 Q1576.74 358.942 1576.74 352.576 Q1576.74 346.187 1579.89 342.576 Q1583.06 338.965 1588.64 338.965 Z\" fill=\"#000000\" fill-rule=\"evenodd\" fill-opacity=\"1\" /><path clip-path=\"url(#clip610)\" d=\"M 0 0 M1609.13 361.627 L1609.13 375.377 L1604.84 375.377 L1604.84 339.59 L1609.13 339.59 L1609.13 343.525 Q1610.47 341.21 1612.51 340.099 Q1614.57 338.965 1617.41 338.965 Q1622.14 338.965 1625.08 342.715 Q1628.04 346.465 1628.04 352.576 Q1628.04 358.687 1625.08 362.437 Q1622.14 366.187 1617.41 366.187 Q1614.57 366.187 1612.51 365.076 Q1610.47 363.942 1609.13 361.627 M1623.62 352.576 Q1623.62 347.877 1621.67 345.215 Q1619.75 342.53 1616.37 342.53 Q1612.99 342.53 1611.05 345.215 Q1609.13 347.877 1609.13 352.576 Q1609.13 357.275 1611.05 359.96 Q1612.99 362.622 1616.37 362.622 Q1619.75 362.622 1621.67 359.96 Q1623.62 357.275 1623.62 352.576 Z\" fill=\"#000000\" fill-rule=\"evenodd\" fill-opacity=\"1\" /><path clip-path=\"url(#clip610)\" d=\"M 0 0 M1636.72 332.229 L1636.72 339.59 L1645.49 339.59 L1645.49 342.9 L1636.72 342.9 L1636.72 356.974 Q1636.72 360.145 1637.58 361.048 Q1638.46 361.951 1641.12 361.951 L1645.49 361.951 L1645.49 365.516 L1641.12 365.516 Q1636.19 365.516 1634.31 363.687 Q1632.44 361.835 1632.44 356.974 L1632.44 342.9 L1629.31 342.9 L1629.31 339.59 L1632.44 339.59 L1632.44 332.229 L1636.72 332.229 Z\" fill=\"#000000\" fill-rule=\"evenodd\" fill-opacity=\"1\" /><path clip-path=\"url(#clip610)\" d=\"M 0 0 M1651.05 359.636 L1655.93 359.636 L1655.93 365.516 L1651.05 365.516 L1651.05 359.636 M1651.05 341.002 L1655.93 341.002 L1655.93 346.882 L1651.05 346.882 L1651.05 341.002 Z\" fill=\"#000000\" fill-rule=\"evenodd\" fill-opacity=\"1\" /><path clip-path=\"url(#clip610)\" d=\"M 0 0 M1665.26 334.798 L1665.26 361.673 L1670.91 361.673 Q1678.06 361.673 1681.37 358.432 Q1684.7 355.192 1684.7 348.201 Q1684.7 341.257 1681.37 338.039 Q1678.06 334.798 1670.91 334.798 L1665.26 334.798 M1660.58 330.956 L1670.19 330.956 Q1680.24 330.956 1684.94 335.146 Q1689.64 339.312 1689.64 348.201 Q1689.64 357.136 1684.91 361.326 Q1680.19 365.516 1670.19 365.516 L1660.58 365.516 L1660.58 330.956 Z\" fill=\"#000000\" fill-rule=\"evenodd\" fill-opacity=\"1\" /><path clip-path=\"url(#clip610)\" d=\"M 0 0 M1716.28 351.488 L1716.28 353.571 L1696.7 353.571 Q1696.97 357.969 1699.33 360.284 Q1701.72 362.576 1705.95 362.576 Q1708.41 362.576 1710.7 361.974 Q1713.01 361.372 1715.28 360.169 L1715.28 364.196 Q1712.99 365.168 1710.58 365.678 Q1708.18 366.187 1705.7 366.187 Q1699.5 366.187 1695.86 362.576 Q1692.25 358.965 1692.25 352.807 Q1692.25 346.442 1695.68 342.715 Q1699.13 338.965 1704.96 338.965 Q1710.19 338.965 1713.22 342.345 Q1716.28 345.701 1716.28 351.488 M1712.02 350.238 Q1711.97 346.743 1710.05 344.659 Q1708.15 342.576 1705.01 342.576 Q1701.44 342.576 1699.29 344.59 Q1697.16 346.604 1696.83 350.261 L1712.02 350.238 Z\" fill=\"#000000\" fill-rule=\"evenodd\" fill-opacity=\"1\" /><path clip-path=\"url(#clip610)\" d=\"M 0 0 M1737.27 340.354 L1737.27 344.382 Q1735.47 343.456 1733.52 342.993 Q1731.58 342.53 1729.5 342.53 Q1726.32 342.53 1724.73 343.502 Q1723.15 344.474 1723.15 346.419 Q1723.15 347.9 1724.29 348.757 Q1725.42 349.59 1728.85 350.354 L1730.31 350.678 Q1734.84 351.65 1736.74 353.432 Q1738.66 355.192 1738.66 358.363 Q1738.66 361.974 1735.79 364.081 Q1732.95 366.187 1727.95 366.187 Q1725.86 366.187 1723.59 365.77 Q1721.35 365.377 1718.85 364.567 L1718.85 360.169 Q1721.21 361.395 1723.5 362.02 Q1725.79 362.622 1728.04 362.622 Q1731.05 362.622 1732.67 361.604 Q1734.29 360.562 1734.29 358.687 Q1734.29 356.951 1733.11 356.025 Q1731.95 355.099 1727.99 354.243 L1726.51 353.895 Q1722.55 353.062 1720.79 351.349 Q1719.03 349.613 1719.03 346.604 Q1719.03 342.946 1721.63 340.956 Q1724.22 338.965 1728.99 338.965 Q1731.35 338.965 1733.43 339.312 Q1735.51 339.659 1737.27 340.354 Z\" fill=\"#000000\" fill-rule=\"evenodd\" fill-opacity=\"1\" /><path clip-path=\"url(#clip610)\" d=\"M 0 0 M1761.79 340.585 L1761.79 344.567 Q1759.98 343.571 1758.15 343.085 Q1756.35 342.576 1754.5 342.576 Q1750.35 342.576 1748.06 345.215 Q1745.77 347.831 1745.77 352.576 Q1745.77 357.321 1748.06 359.96 Q1750.35 362.576 1754.5 362.576 Q1756.35 362.576 1758.15 362.09 Q1759.98 361.581 1761.79 360.585 L1761.79 364.52 Q1760.01 365.354 1758.08 365.77 Q1756.19 366.187 1754.03 366.187 Q1748.18 366.187 1744.73 362.506 Q1741.28 358.826 1741.28 352.576 Q1741.28 346.233 1744.75 342.599 Q1748.25 338.965 1754.31 338.965 Q1756.28 338.965 1758.15 339.382 Q1760.03 339.775 1761.79 340.585 Z\" fill=\"#000000\" fill-rule=\"evenodd\" fill-opacity=\"1\" /><path clip-path=\"url(#clip610)\" d=\"M 0 0 M1788.43 351.488 L1788.43 353.571 L1768.85 353.571 Q1769.13 357.969 1771.49 360.284 Q1773.87 362.576 1778.11 362.576 Q1780.56 362.576 1782.85 361.974 Q1785.17 361.372 1787.44 360.169 L1787.44 364.196 Q1785.14 365.168 1782.74 365.678 Q1780.33 366.187 1777.85 366.187 Q1771.65 366.187 1768.01 362.576 Q1764.4 358.965 1764.4 352.807 Q1764.4 346.442 1767.83 342.715 Q1771.28 338.965 1777.11 338.965 Q1782.34 338.965 1785.38 342.345 Q1788.43 345.701 1788.43 351.488 M1784.17 350.238 Q1784.13 346.743 1782.2 344.659 Q1780.31 342.576 1777.16 342.576 Q1773.59 342.576 1771.44 344.59 Q1769.31 346.604 1768.99 350.261 L1784.17 350.238 Z\" fill=\"#000000\" fill-rule=\"evenodd\" fill-opacity=\"1\" /><path clip-path=\"url(#clip610)\" d=\"M 0 0 M1814.45 349.868 L1814.45 365.516 L1810.19 365.516 L1810.19 350.007 Q1810.19 346.326 1808.76 344.497 Q1807.32 342.669 1804.45 342.669 Q1801 342.669 1799.01 344.868 Q1797.02 347.067 1797.02 350.863 L1797.02 365.516 L1792.74 365.516 L1792.74 339.59 L1797.02 339.59 L1797.02 343.618 Q1798.55 341.28 1800.61 340.122 Q1802.69 338.965 1805.4 338.965 Q1809.87 338.965 1812.16 341.743 Q1814.45 344.497 1814.45 349.868 Z\" fill=\"#000000\" fill-rule=\"evenodd\" fill-opacity=\"1\" /><path clip-path=\"url(#clip610)\" d=\"M 0 0 M1823.13 332.229 L1823.13 339.59 L1831.9 339.59 L1831.9 342.9 L1823.13 342.9 L1823.13 356.974 Q1823.13 360.145 1823.99 361.048 Q1824.87 361.951 1827.53 361.951 L1831.9 361.951 L1831.9 365.516 L1827.53 365.516 Q1822.6 365.516 1820.72 363.687 Q1818.85 361.835 1818.85 356.974 L1818.85 342.9 L1815.72 342.9 L1815.72 339.59 L1818.85 339.59 L1818.85 332.229 L1823.13 332.229 Z\" fill=\"#000000\" fill-rule=\"evenodd\" fill-opacity=\"1\" /><path clip-path=\"url(#clip610)\" d=\"M 0 0 M1868.5 343.525 L1868.5 329.497 L1872.76 329.497 L1872.76 365.516 L1868.5 365.516 L1868.5 361.627 Q1867.16 363.942 1865.1 365.076 Q1863.06 366.187 1860.19 366.187 Q1855.49 366.187 1852.53 362.437 Q1849.59 358.687 1849.59 352.576 Q1849.59 346.465 1852.53 342.715 Q1855.49 338.965 1860.19 338.965 Q1863.06 338.965 1865.1 340.099 Q1867.16 341.21 1868.5 343.525 M1853.99 352.576 Q1853.99 357.275 1855.91 359.96 Q1857.85 362.622 1861.23 362.622 Q1864.61 362.622 1866.56 359.96 Q1868.5 357.275 1868.5 352.576 Q1868.5 347.877 1866.56 345.215 Q1864.61 342.53 1861.23 342.53 Q1857.85 342.53 1855.91 345.215 Q1853.99 347.877 1853.99 352.576 Z\" fill=\"#000000\" fill-rule=\"evenodd\" fill-opacity=\"1\" /><path clip-path=\"url(#clip610)\" d=\"M 0 0 M1899.4 351.488 L1899.4 353.571 L1879.82 353.571 Q1880.1 357.969 1882.46 360.284 Q1884.84 362.576 1889.08 362.576 Q1891.53 362.576 1893.82 361.974 Q1896.14 361.372 1898.41 360.169 L1898.41 364.196 Q1896.12 365.168 1893.71 365.678 Q1891.3 366.187 1888.82 366.187 Q1882.62 366.187 1878.99 362.576 Q1875.38 358.965 1875.38 352.807 Q1875.38 346.442 1878.8 342.715 Q1882.25 338.965 1888.08 338.965 Q1893.31 338.965 1896.35 342.345 Q1899.4 345.701 1899.4 351.488 M1895.14 350.238 Q1895.1 346.743 1893.18 344.659 Q1891.28 342.576 1888.13 342.576 Q1884.56 342.576 1882.41 344.59 Q1880.28 346.604 1879.96 350.261 L1895.14 350.238 Z\" fill=\"#000000\" fill-rule=\"evenodd\" fill-opacity=\"1\" /><path clip-path=\"url(#clip610)\" d=\"M 0 0 M1924.06 344.567 Q1925.65 341.696 1927.87 340.331 Q1930.1 338.965 1933.11 338.965 Q1937.16 338.965 1939.36 341.812 Q1941.56 344.636 1941.56 349.868 L1941.56 365.516 L1937.27 365.516 L1937.27 350.007 Q1937.27 346.28 1935.95 344.474 Q1934.63 342.669 1931.93 342.669 Q1928.62 342.669 1926.69 344.868 Q1924.77 347.067 1924.77 350.863 L1924.77 365.516 L1920.49 365.516 L1920.49 350.007 Q1920.49 346.257 1919.17 344.474 Q1917.85 342.669 1915.1 342.669 Q1911.83 342.669 1909.91 344.891 Q1907.99 347.09 1907.99 350.863 L1907.99 365.516 L1903.71 365.516 L1903.71 339.59 L1907.99 339.59 L1907.99 343.618 Q1909.45 341.233 1911.49 340.099 Q1913.52 338.965 1916.32 338.965 Q1919.15 338.965 1921.12 340.4 Q1923.11 341.835 1924.06 344.567 Z\" fill=\"#000000\" fill-rule=\"evenodd\" fill-opacity=\"1\" /><path clip-path=\"url(#clip610)\" d=\"M 0 0 M1956.07 342.576 Q1952.64 342.576 1950.65 345.261 Q1948.66 347.923 1948.66 352.576 Q1948.66 357.229 1950.63 359.914 Q1952.62 362.576 1956.07 362.576 Q1959.47 362.576 1961.46 359.891 Q1963.45 357.206 1963.45 352.576 Q1963.45 347.97 1961.46 345.284 Q1959.47 342.576 1956.07 342.576 M1956.07 338.965 Q1961.62 338.965 1964.8 342.576 Q1967.97 346.187 1967.97 352.576 Q1967.97 358.942 1964.8 362.576 Q1961.62 366.187 1956.07 366.187 Q1950.49 366.187 1947.32 362.576 Q1944.17 358.942 1944.17 352.576 Q1944.17 346.187 1947.32 342.576 Q1950.49 338.965 1956.07 338.965 Z\" fill=\"#000000\" fill-rule=\"evenodd\" fill-opacity=\"1\" /><path clip-path=\"url(#clip610)\" d=\"M 0 0 M1993.99 349.868 L1993.99 365.516 L1989.73 365.516 L1989.73 350.007 Q1989.73 346.326 1988.29 344.497 Q1986.86 342.669 1983.99 342.669 Q1980.54 342.669 1978.55 344.868 Q1976.56 347.067 1976.56 350.863 L1976.56 365.516 L1972.27 365.516 L1972.27 339.59 L1976.56 339.59 L1976.56 343.618 Q1978.08 341.28 1980.14 340.122 Q1982.23 338.965 1984.93 338.965 Q1989.4 338.965 1991.69 341.743 Q1993.99 344.497 1993.99 349.868 Z\" fill=\"#000000\" fill-rule=\"evenodd\" fill-opacity=\"1\" /><path clip-path=\"url(#clip610)\" d=\"M 0 0 M2018.15 373.386 L2018.15 376.696 L1993.52 376.696 L1993.52 373.386 L2018.15 373.386 Z\" fill=\"#000000\" fill-rule=\"evenodd\" fill-opacity=\"1\" /><path clip-path=\"url(#clip610)\" d=\"M 0 0 M2022.62 329.497 L2026.88 329.497 L2026.88 365.516 L2022.62 365.516 L2022.62 329.497 Z\" fill=\"#000000\" fill-rule=\"evenodd\" fill-opacity=\"1\" /><path clip-path=\"url(#clip610)\" d=\"M 0 0 M2053.52 351.488 L2053.52 353.571 L2033.94 353.571 Q2034.22 357.969 2036.58 360.284 Q2038.96 362.576 2043.2 362.576 Q2045.65 362.576 2047.94 361.974 Q2050.26 361.372 2052.53 360.169 L2052.53 364.196 Q2050.24 365.168 2047.83 365.678 Q2045.42 366.187 2042.94 366.187 Q2036.74 366.187 2033.11 362.576 Q2029.49 358.965 2029.49 352.807 Q2029.49 346.442 2032.92 342.715 Q2036.37 338.965 2042.2 338.965 Q2047.43 338.965 2050.47 342.345 Q2053.52 345.701 2053.52 351.488 M2049.26 350.238 Q2049.22 346.743 2047.3 344.659 Q2045.4 342.576 2042.25 342.576 Q2038.68 342.576 2036.53 344.59 Q2034.4 346.604 2034.08 350.261 L2049.26 350.238 Z\" fill=\"#000000\" fill-rule=\"evenodd\" fill-opacity=\"1\" /><path clip-path=\"url(#clip610)\" d=\"M 0 0 M2069.77 352.483 Q2064.61 352.483 2062.62 353.664 Q2060.63 354.844 2060.63 357.692 Q2060.63 359.96 2062.11 361.303 Q2063.61 362.622 2066.18 362.622 Q2069.73 362.622 2071.86 360.122 Q2074.01 357.599 2074.01 353.432 L2074.01 352.483 L2069.77 352.483 M2078.27 350.724 L2078.27 365.516 L2074.01 365.516 L2074.01 361.581 Q2072.55 363.942 2070.37 365.076 Q2068.2 366.187 2065.05 366.187 Q2061.07 366.187 2058.71 363.965 Q2056.37 361.719 2056.37 357.969 Q2056.37 353.594 2059.29 351.372 Q2062.23 349.15 2068.04 349.15 L2074.01 349.15 L2074.01 348.733 Q2074.01 345.794 2072.06 344.196 Q2070.14 342.576 2066.65 342.576 Q2064.42 342.576 2062.32 343.108 Q2060.21 343.641 2058.27 344.706 L2058.27 340.77 Q2060.61 339.868 2062.8 339.428 Q2065 338.965 2067.09 338.965 Q2072.71 338.965 2075.49 341.882 Q2078.27 344.798 2078.27 350.724 Z\" fill=\"#000000\" fill-rule=\"evenodd\" fill-opacity=\"1\" /><path clip-path=\"url(#clip610)\" d=\"M 0 0 M2097.76 343.571 Q2097.04 343.155 2096.18 342.97 Q2095.35 342.761 2094.33 342.761 Q2090.72 342.761 2088.78 345.122 Q2086.86 347.46 2086.86 351.858 L2086.86 365.516 L2082.57 365.516 L2082.57 339.59 L2086.86 339.59 L2086.86 343.618 Q2088.2 341.257 2090.35 340.122 Q2092.5 338.965 2095.58 338.965 Q2096.02 338.965 2096.55 339.034 Q2097.09 339.081 2097.73 339.196 L2097.76 343.571 Z\" fill=\"#000000\" fill-rule=\"evenodd\" fill-opacity=\"1\" /><path clip-path=\"url(#clip610)\" d=\"M 0 0 M2122.94 349.868 L2122.94 365.516 L2118.68 365.516 L2118.68 350.007 Q2118.68 346.326 2117.25 344.497 Q2115.81 342.669 2112.94 342.669 Q2109.49 342.669 2107.5 344.868 Q2105.51 347.067 2105.51 350.863 L2105.51 365.516 L2101.23 365.516 L2101.23 339.59 L2105.51 339.59 L2105.51 343.618 Q2107.04 341.28 2109.1 340.122 Q2111.18 338.965 2113.89 338.965 Q2118.36 338.965 2120.65 341.743 Q2122.94 344.497 2122.94 349.868 Z\" fill=\"#000000\" fill-rule=\"evenodd\" fill-opacity=\"1\" /><path clip-path=\"url(#clip610)\" d=\"M 0 0 M2149.59 351.488 L2149.59 353.571 L2130 353.571 Q2130.28 357.969 2132.64 360.284 Q2135.03 362.576 2139.26 362.576 Q2141.72 362.576 2144.01 361.974 Q2146.32 361.372 2148.59 360.169 L2148.59 364.196 Q2146.3 365.168 2143.89 365.678 Q2141.48 366.187 2139.01 366.187 Q2132.8 366.187 2129.17 362.576 Q2125.56 358.965 2125.56 352.807 Q2125.56 346.442 2128.98 342.715 Q2132.43 338.965 2138.27 338.965 Q2143.5 338.965 2146.53 342.345 Q2149.59 345.701 2149.59 351.488 M2145.33 350.238 Q2145.28 346.743 2143.36 344.659 Q2141.46 342.576 2138.31 342.576 Q2134.75 342.576 2132.6 344.59 Q2130.47 346.604 2130.14 350.261 L2145.33 350.238 Z\" fill=\"#000000\" fill-rule=\"evenodd\" fill-opacity=\"1\" /><path clip-path=\"url(#clip610)\" d=\"M 0 0 M2169.08 343.571 Q2168.36 343.155 2167.5 342.97 Q2166.67 342.761 2165.65 342.761 Q2162.04 342.761 2160.1 345.122 Q2158.17 347.46 2158.17 351.858 L2158.17 365.516 L2153.89 365.516 L2153.89 339.59 L2158.17 339.59 L2158.17 343.618 Q2159.52 341.257 2161.67 340.122 Q2163.82 338.965 2166.9 338.965 Q2167.34 338.965 2167.87 339.034 Q2168.41 339.081 2169.05 339.196 L2169.08 343.571 Z\" fill=\"#000000\" fill-rule=\"evenodd\" fill-opacity=\"1\" /><path clip-path=\"url(#clip610)\" d=\"M 0 0 M2173.8 359.636 L2178.68 359.636 L2178.68 365.516 L2173.8 365.516 L2173.8 359.636 M2173.8 341.002 L2178.68 341.002 L2178.68 346.882 L2173.8 346.882 L2173.8 341.002 Z\" fill=\"#000000\" fill-rule=\"evenodd\" fill-opacity=\"1\" /><path clip-path=\"url(#clip610)\" d=\"M 0 0 M2197.36 334.127 Q2192.27 334.127 2189.26 337.923 Q2186.28 341.72 2186.28 348.27 Q2186.28 354.798 2189.26 358.594 Q2192.27 362.391 2197.36 362.391 Q2202.46 362.391 2205.42 358.594 Q2208.41 354.798 2208.41 348.27 Q2208.41 341.72 2205.42 337.923 Q2202.46 334.127 2197.36 334.127 M2203.91 364.891 L2210.07 371.627 L2204.42 371.627 L2199.31 366.094 Q2198.54 366.141 2198.13 366.164 Q2197.73 366.187 2197.36 366.187 Q2190.07 366.187 2185.7 361.326 Q2181.35 356.442 2181.35 348.27 Q2181.35 340.076 2185.7 335.215 Q2190.07 330.331 2197.36 330.331 Q2204.63 330.331 2208.98 335.215 Q2213.34 340.076 2213.34 348.27 Q2213.34 354.289 2210.91 358.571 Q2208.5 362.854 2203.91 364.891 Z\" fill=\"#000000\" fill-rule=\"evenodd\" fill-opacity=\"1\" /><polyline clip-path=\"url(#clip610)\" style=\"stroke:#c271d2; stroke-width:4; stroke-opacity:1; fill:none\" points=\"\n",
       "  1226.81,408.716 1364.87,408.716 \n",
       "  \"/>\n",
       "<path clip-path=\"url(#clip610)\" d=\"M 0 0 M1424.47 404.005 L1424.47 389.977 L1428.73 389.977 L1428.73 425.996 L1424.47 425.996 L1424.47 422.107 Q1423.13 424.422 1421.07 425.556 Q1419.03 426.667 1416.16 426.667 Q1411.47 426.667 1408.5 422.917 Q1405.56 419.167 1405.56 413.056 Q1405.56 406.945 1408.5 403.195 Q1411.47 399.445 1416.16 399.445 Q1419.03 399.445 1421.07 400.579 Q1423.13 401.69 1424.47 404.005 M1409.96 413.056 Q1409.96 417.755 1411.88 420.44 Q1413.83 423.102 1417.21 423.102 Q1420.59 423.102 1422.53 420.44 Q1424.47 417.755 1424.47 413.056 Q1424.47 408.357 1422.53 405.695 Q1420.59 403.01 1417.21 403.01 Q1413.83 403.01 1411.88 405.695 Q1409.96 408.357 1409.96 413.056 Z\" fill=\"#000000\" fill-rule=\"evenodd\" fill-opacity=\"1\" /><path clip-path=\"url(#clip610)\" d=\"M 0 0 M1455.38 411.968 L1455.38 414.051 L1435.79 414.051 Q1436.07 418.449 1438.43 420.764 Q1440.82 423.056 1445.05 423.056 Q1447.51 423.056 1449.8 422.454 Q1452.11 421.852 1454.38 420.649 L1454.38 424.676 Q1452.09 425.648 1449.68 426.158 Q1447.28 426.667 1444.8 426.667 Q1438.6 426.667 1434.96 423.056 Q1431.35 419.445 1431.35 413.287 Q1431.35 406.922 1434.78 403.195 Q1438.22 399.445 1444.06 399.445 Q1449.29 399.445 1452.32 402.825 Q1455.38 406.181 1455.38 411.968 M1451.12 410.718 Q1451.07 407.223 1449.15 405.139 Q1447.25 403.056 1444.1 403.056 Q1440.54 403.056 1438.39 405.07 Q1436.26 407.084 1435.93 410.741 L1451.12 410.718 Z\" fill=\"#000000\" fill-rule=\"evenodd\" fill-opacity=\"1\" /><path clip-path=\"url(#clip610)\" d=\"M 0 0 M1480.03 405.047 Q1481.63 402.176 1483.85 400.811 Q1486.07 399.445 1489.08 399.445 Q1493.13 399.445 1495.33 402.292 Q1497.53 405.116 1497.53 410.348 L1497.53 425.996 L1493.25 425.996 L1493.25 410.487 Q1493.25 406.76 1491.93 404.954 Q1490.61 403.149 1487.9 403.149 Q1484.59 403.149 1482.67 405.348 Q1480.75 407.547 1480.75 411.343 L1480.75 425.996 L1476.47 425.996 L1476.47 410.487 Q1476.47 406.737 1475.15 404.954 Q1473.83 403.149 1471.07 403.149 Q1467.81 403.149 1465.89 405.371 Q1463.97 407.57 1463.97 411.343 L1463.97 425.996 L1459.68 425.996 L1459.68 400.07 L1463.97 400.07 L1463.97 404.098 Q1465.42 401.713 1467.46 400.579 Q1469.5 399.445 1472.3 399.445 Q1475.12 399.445 1477.09 400.88 Q1479.08 402.315 1480.03 405.047 Z\" fill=\"#000000\" fill-rule=\"evenodd\" fill-opacity=\"1\" /><path clip-path=\"url(#clip610)\" d=\"M 0 0 M1512.04 403.056 Q1508.62 403.056 1506.63 405.741 Q1504.64 408.403 1504.64 413.056 Q1504.64 417.709 1506.6 420.394 Q1508.59 423.056 1512.04 423.056 Q1515.45 423.056 1517.44 420.371 Q1519.43 417.686 1519.43 413.056 Q1519.43 408.45 1517.44 405.764 Q1515.45 403.056 1512.04 403.056 M1512.04 399.445 Q1517.6 399.445 1520.77 403.056 Q1523.94 406.667 1523.94 413.056 Q1523.94 419.422 1520.77 423.056 Q1517.6 426.667 1512.04 426.667 Q1506.47 426.667 1503.29 423.056 Q1500.15 419.422 1500.15 413.056 Q1500.15 406.667 1503.29 403.056 Q1506.47 399.445 1512.04 399.445 Z\" fill=\"#000000\" fill-rule=\"evenodd\" fill-opacity=\"1\" /><path clip-path=\"url(#clip610)\" d=\"M 0 0 M1549.96 410.348 L1549.96 425.996 L1545.7 425.996 L1545.7 410.487 Q1545.7 406.806 1544.27 404.977 Q1542.83 403.149 1539.96 403.149 Q1536.51 403.149 1534.52 405.348 Q1532.53 407.547 1532.53 411.343 L1532.53 425.996 L1528.25 425.996 L1528.25 400.07 L1532.53 400.07 L1532.53 404.098 Q1534.06 401.76 1536.12 400.602 Q1538.2 399.445 1540.91 399.445 Q1545.38 399.445 1547.67 402.223 Q1549.96 404.977 1549.96 410.348 Z\" fill=\"#000000\" fill-rule=\"evenodd\" fill-opacity=\"1\" /><path clip-path=\"url(#clip610)\" d=\"M 0 0 M1574.13 433.866 L1574.13 437.176 L1549.5 437.176 L1549.5 433.866 L1574.13 433.866 Z\" fill=\"#000000\" fill-rule=\"evenodd\" fill-opacity=\"1\" /><path clip-path=\"url(#clip610)\" d=\"M 0 0 M1588.64 403.056 Q1585.21 403.056 1583.22 405.741 Q1581.23 408.403 1581.23 413.056 Q1581.23 417.709 1583.2 420.394 Q1585.19 423.056 1588.64 423.056 Q1592.04 423.056 1594.03 420.371 Q1596.02 417.686 1596.02 413.056 Q1596.02 408.45 1594.03 405.764 Q1592.04 403.056 1588.64 403.056 M1588.64 399.445 Q1594.2 399.445 1597.37 403.056 Q1600.54 406.667 1600.54 413.056 Q1600.54 419.422 1597.37 423.056 Q1594.2 426.667 1588.64 426.667 Q1583.06 426.667 1579.89 423.056 Q1576.74 419.422 1576.74 413.056 Q1576.74 406.667 1579.89 403.056 Q1583.06 399.445 1588.64 399.445 Z\" fill=\"#000000\" fill-rule=\"evenodd\" fill-opacity=\"1\" /><path clip-path=\"url(#clip610)\" d=\"M 0 0 M1609.13 422.107 L1609.13 435.857 L1604.84 435.857 L1604.84 400.07 L1609.13 400.07 L1609.13 404.005 Q1610.47 401.69 1612.51 400.579 Q1614.57 399.445 1617.41 399.445 Q1622.14 399.445 1625.08 403.195 Q1628.04 406.945 1628.04 413.056 Q1628.04 419.167 1625.08 422.917 Q1622.14 426.667 1617.41 426.667 Q1614.57 426.667 1612.51 425.556 Q1610.47 424.422 1609.13 422.107 M1623.62 413.056 Q1623.62 408.357 1621.67 405.695 Q1619.75 403.01 1616.37 403.01 Q1612.99 403.01 1611.05 405.695 Q1609.13 408.357 1609.13 413.056 Q1609.13 417.755 1611.05 420.44 Q1612.99 423.102 1616.37 423.102 Q1619.75 423.102 1621.67 420.44 Q1623.62 417.755 1623.62 413.056 Z\" fill=\"#000000\" fill-rule=\"evenodd\" fill-opacity=\"1\" /><path clip-path=\"url(#clip610)\" d=\"M 0 0 M1636.72 392.709 L1636.72 400.07 L1645.49 400.07 L1645.49 403.38 L1636.72 403.38 L1636.72 417.454 Q1636.72 420.625 1637.58 421.528 Q1638.46 422.431 1641.12 422.431 L1645.49 422.431 L1645.49 425.996 L1641.12 425.996 Q1636.19 425.996 1634.31 424.167 Q1632.44 422.315 1632.44 417.454 L1632.44 403.38 L1629.31 403.38 L1629.31 400.07 L1632.44 400.07 L1632.44 392.709 L1636.72 392.709 Z\" fill=\"#000000\" fill-rule=\"evenodd\" fill-opacity=\"1\" /><path clip-path=\"url(#clip610)\" d=\"M 0 0 M1651.05 420.116 L1655.93 420.116 L1655.93 425.996 L1651.05 425.996 L1651.05 420.116 M1651.05 401.482 L1655.93 401.482 L1655.93 407.362 L1651.05 407.362 L1651.05 401.482 Z\" fill=\"#000000\" fill-rule=\"evenodd\" fill-opacity=\"1\" /><path clip-path=\"url(#clip610)\" d=\"M 0 0 M1665.26 395.278 L1665.26 422.153 L1670.91 422.153 Q1678.06 422.153 1681.37 418.912 Q1684.7 415.672 1684.7 408.681 Q1684.7 401.737 1681.37 398.519 Q1678.06 395.278 1670.91 395.278 L1665.26 395.278 M1660.58 391.436 L1670.19 391.436 Q1680.24 391.436 1684.94 395.626 Q1689.64 399.792 1689.64 408.681 Q1689.64 417.616 1684.91 421.806 Q1680.19 425.996 1670.19 425.996 L1660.58 425.996 L1660.58 391.436 Z\" fill=\"#000000\" fill-rule=\"evenodd\" fill-opacity=\"1\" /><path clip-path=\"url(#clip610)\" d=\"M 0 0 M1716.28 411.968 L1716.28 414.051 L1696.7 414.051 Q1696.97 418.449 1699.33 420.764 Q1701.72 423.056 1705.95 423.056 Q1708.41 423.056 1710.7 422.454 Q1713.01 421.852 1715.28 420.649 L1715.28 424.676 Q1712.99 425.648 1710.58 426.158 Q1708.18 426.667 1705.7 426.667 Q1699.5 426.667 1695.86 423.056 Q1692.25 419.445 1692.25 413.287 Q1692.25 406.922 1695.68 403.195 Q1699.13 399.445 1704.96 399.445 Q1710.19 399.445 1713.22 402.825 Q1716.28 406.181 1716.28 411.968 M1712.02 410.718 Q1711.97 407.223 1710.05 405.139 Q1708.15 403.056 1705.01 403.056 Q1701.44 403.056 1699.29 405.07 Q1697.16 407.084 1696.83 410.741 L1712.02 410.718 Z\" fill=\"#000000\" fill-rule=\"evenodd\" fill-opacity=\"1\" /><path clip-path=\"url(#clip610)\" d=\"M 0 0 M1737.27 400.834 L1737.27 404.862 Q1735.47 403.936 1733.52 403.473 Q1731.58 403.01 1729.5 403.01 Q1726.32 403.01 1724.73 403.982 Q1723.15 404.954 1723.15 406.899 Q1723.15 408.38 1724.29 409.237 Q1725.42 410.07 1728.85 410.834 L1730.31 411.158 Q1734.84 412.13 1736.74 413.912 Q1738.66 415.672 1738.66 418.843 Q1738.66 422.454 1735.79 424.561 Q1732.95 426.667 1727.95 426.667 Q1725.86 426.667 1723.59 426.25 Q1721.35 425.857 1718.85 425.047 L1718.85 420.649 Q1721.21 421.875 1723.5 422.5 Q1725.79 423.102 1728.04 423.102 Q1731.05 423.102 1732.67 422.084 Q1734.29 421.042 1734.29 419.167 Q1734.29 417.431 1733.11 416.505 Q1731.95 415.579 1727.99 414.723 L1726.51 414.375 Q1722.55 413.542 1720.79 411.829 Q1719.03 410.093 1719.03 407.084 Q1719.03 403.426 1721.63 401.436 Q1724.22 399.445 1728.99 399.445 Q1731.35 399.445 1733.43 399.792 Q1735.51 400.139 1737.27 400.834 Z\" fill=\"#000000\" fill-rule=\"evenodd\" fill-opacity=\"1\" /><path clip-path=\"url(#clip610)\" d=\"M 0 0 M1761.79 401.065 L1761.79 405.047 Q1759.98 404.051 1758.15 403.565 Q1756.35 403.056 1754.5 403.056 Q1750.35 403.056 1748.06 405.695 Q1745.77 408.311 1745.77 413.056 Q1745.77 417.801 1748.06 420.44 Q1750.35 423.056 1754.5 423.056 Q1756.35 423.056 1758.15 422.57 Q1759.98 422.061 1761.79 421.065 L1761.79 425 Q1760.01 425.834 1758.08 426.25 Q1756.19 426.667 1754.03 426.667 Q1748.18 426.667 1744.73 422.986 Q1741.28 419.306 1741.28 413.056 Q1741.28 406.713 1744.75 403.079 Q1748.25 399.445 1754.31 399.445 Q1756.28 399.445 1758.15 399.862 Q1760.03 400.255 1761.79 401.065 Z\" fill=\"#000000\" fill-rule=\"evenodd\" fill-opacity=\"1\" /><path clip-path=\"url(#clip610)\" d=\"M 0 0 M1788.43 411.968 L1788.43 414.051 L1768.85 414.051 Q1769.13 418.449 1771.49 420.764 Q1773.87 423.056 1778.11 423.056 Q1780.56 423.056 1782.85 422.454 Q1785.17 421.852 1787.44 420.649 L1787.44 424.676 Q1785.14 425.648 1782.74 426.158 Q1780.33 426.667 1777.85 426.667 Q1771.65 426.667 1768.01 423.056 Q1764.4 419.445 1764.4 413.287 Q1764.4 406.922 1767.83 403.195 Q1771.28 399.445 1777.11 399.445 Q1782.34 399.445 1785.38 402.825 Q1788.43 406.181 1788.43 411.968 M1784.17 410.718 Q1784.13 407.223 1782.2 405.139 Q1780.31 403.056 1777.16 403.056 Q1773.59 403.056 1771.44 405.07 Q1769.31 407.084 1768.99 410.741 L1784.17 410.718 Z\" fill=\"#000000\" fill-rule=\"evenodd\" fill-opacity=\"1\" /><path clip-path=\"url(#clip610)\" d=\"M 0 0 M1814.45 410.348 L1814.45 425.996 L1810.19 425.996 L1810.19 410.487 Q1810.19 406.806 1808.76 404.977 Q1807.32 403.149 1804.45 403.149 Q1801 403.149 1799.01 405.348 Q1797.02 407.547 1797.02 411.343 L1797.02 425.996 L1792.74 425.996 L1792.74 400.07 L1797.02 400.07 L1797.02 404.098 Q1798.55 401.76 1800.61 400.602 Q1802.69 399.445 1805.4 399.445 Q1809.87 399.445 1812.16 402.223 Q1814.45 404.977 1814.45 410.348 Z\" fill=\"#000000\" fill-rule=\"evenodd\" fill-opacity=\"1\" /><path clip-path=\"url(#clip610)\" d=\"M 0 0 M1823.13 392.709 L1823.13 400.07 L1831.9 400.07 L1831.9 403.38 L1823.13 403.38 L1823.13 417.454 Q1823.13 420.625 1823.99 421.528 Q1824.87 422.431 1827.53 422.431 L1831.9 422.431 L1831.9 425.996 L1827.53 425.996 Q1822.6 425.996 1820.72 424.167 Q1818.85 422.315 1818.85 417.454 L1818.85 403.38 L1815.72 403.38 L1815.72 400.07 L1818.85 400.07 L1818.85 392.709 L1823.13 392.709 Z\" fill=\"#000000\" fill-rule=\"evenodd\" fill-opacity=\"1\" /><path clip-path=\"url(#clip610)\" d=\"M 0 0 M1868.5 404.005 L1868.5 389.977 L1872.76 389.977 L1872.76 425.996 L1868.5 425.996 L1868.5 422.107 Q1867.16 424.422 1865.1 425.556 Q1863.06 426.667 1860.19 426.667 Q1855.49 426.667 1852.53 422.917 Q1849.59 419.167 1849.59 413.056 Q1849.59 406.945 1852.53 403.195 Q1855.49 399.445 1860.19 399.445 Q1863.06 399.445 1865.1 400.579 Q1867.16 401.69 1868.5 404.005 M1853.99 413.056 Q1853.99 417.755 1855.91 420.44 Q1857.85 423.102 1861.23 423.102 Q1864.61 423.102 1866.56 420.44 Q1868.5 417.755 1868.5 413.056 Q1868.5 408.357 1866.56 405.695 Q1864.61 403.01 1861.23 403.01 Q1857.85 403.01 1855.91 405.695 Q1853.99 408.357 1853.99 413.056 Z\" fill=\"#000000\" fill-rule=\"evenodd\" fill-opacity=\"1\" /><path clip-path=\"url(#clip610)\" d=\"M 0 0 M1899.4 411.968 L1899.4 414.051 L1879.82 414.051 Q1880.1 418.449 1882.46 420.764 Q1884.84 423.056 1889.08 423.056 Q1891.53 423.056 1893.82 422.454 Q1896.14 421.852 1898.41 420.649 L1898.41 424.676 Q1896.12 425.648 1893.71 426.158 Q1891.3 426.667 1888.82 426.667 Q1882.62 426.667 1878.99 423.056 Q1875.38 419.445 1875.38 413.287 Q1875.38 406.922 1878.8 403.195 Q1882.25 399.445 1888.08 399.445 Q1893.31 399.445 1896.35 402.825 Q1899.4 406.181 1899.4 411.968 M1895.14 410.718 Q1895.1 407.223 1893.18 405.139 Q1891.28 403.056 1888.13 403.056 Q1884.56 403.056 1882.41 405.07 Q1880.28 407.084 1879.96 410.741 L1895.14 410.718 Z\" fill=\"#000000\" fill-rule=\"evenodd\" fill-opacity=\"1\" /><path clip-path=\"url(#clip610)\" d=\"M 0 0 M1924.06 405.047 Q1925.65 402.176 1927.87 400.811 Q1930.1 399.445 1933.11 399.445 Q1937.16 399.445 1939.36 402.292 Q1941.56 405.116 1941.56 410.348 L1941.56 425.996 L1937.27 425.996 L1937.27 410.487 Q1937.27 406.76 1935.95 404.954 Q1934.63 403.149 1931.93 403.149 Q1928.62 403.149 1926.69 405.348 Q1924.77 407.547 1924.77 411.343 L1924.77 425.996 L1920.49 425.996 L1920.49 410.487 Q1920.49 406.737 1919.17 404.954 Q1917.85 403.149 1915.1 403.149 Q1911.83 403.149 1909.91 405.371 Q1907.99 407.57 1907.99 411.343 L1907.99 425.996 L1903.71 425.996 L1903.71 400.07 L1907.99 400.07 L1907.99 404.098 Q1909.45 401.713 1911.49 400.579 Q1913.52 399.445 1916.32 399.445 Q1919.15 399.445 1921.12 400.88 Q1923.11 402.315 1924.06 405.047 Z\" fill=\"#000000\" fill-rule=\"evenodd\" fill-opacity=\"1\" /><path clip-path=\"url(#clip610)\" d=\"M 0 0 M1956.07 403.056 Q1952.64 403.056 1950.65 405.741 Q1948.66 408.403 1948.66 413.056 Q1948.66 417.709 1950.63 420.394 Q1952.62 423.056 1956.07 423.056 Q1959.47 423.056 1961.46 420.371 Q1963.45 417.686 1963.45 413.056 Q1963.45 408.45 1961.46 405.764 Q1959.47 403.056 1956.07 403.056 M1956.07 399.445 Q1961.62 399.445 1964.8 403.056 Q1967.97 406.667 1967.97 413.056 Q1967.97 419.422 1964.8 423.056 Q1961.62 426.667 1956.07 426.667 Q1950.49 426.667 1947.32 423.056 Q1944.17 419.422 1944.17 413.056 Q1944.17 406.667 1947.32 403.056 Q1950.49 399.445 1956.07 399.445 Z\" fill=\"#000000\" fill-rule=\"evenodd\" fill-opacity=\"1\" /><path clip-path=\"url(#clip610)\" d=\"M 0 0 M1993.99 410.348 L1993.99 425.996 L1989.73 425.996 L1989.73 410.487 Q1989.73 406.806 1988.29 404.977 Q1986.86 403.149 1983.99 403.149 Q1980.54 403.149 1978.55 405.348 Q1976.56 407.547 1976.56 411.343 L1976.56 425.996 L1972.27 425.996 L1972.27 400.07 L1976.56 400.07 L1976.56 404.098 Q1978.08 401.76 1980.14 400.602 Q1982.23 399.445 1984.93 399.445 Q1989.4 399.445 1991.69 402.223 Q1993.99 404.977 1993.99 410.348 Z\" fill=\"#000000\" fill-rule=\"evenodd\" fill-opacity=\"1\" /><path clip-path=\"url(#clip610)\" d=\"M 0 0 M2018.15 433.866 L2018.15 437.176 L1993.52 437.176 L1993.52 433.866 L2018.15 433.866 Z\" fill=\"#000000\" fill-rule=\"evenodd\" fill-opacity=\"1\" /><path clip-path=\"url(#clip610)\" d=\"M 0 0 M2022.62 389.977 L2026.88 389.977 L2026.88 425.996 L2022.62 425.996 L2022.62 389.977 Z\" fill=\"#000000\" fill-rule=\"evenodd\" fill-opacity=\"1\" /><path clip-path=\"url(#clip610)\" d=\"M 0 0 M2053.52 411.968 L2053.52 414.051 L2033.94 414.051 Q2034.22 418.449 2036.58 420.764 Q2038.96 423.056 2043.2 423.056 Q2045.65 423.056 2047.94 422.454 Q2050.26 421.852 2052.53 420.649 L2052.53 424.676 Q2050.24 425.648 2047.83 426.158 Q2045.42 426.667 2042.94 426.667 Q2036.74 426.667 2033.11 423.056 Q2029.49 419.445 2029.49 413.287 Q2029.49 406.922 2032.92 403.195 Q2036.37 399.445 2042.2 399.445 Q2047.43 399.445 2050.47 402.825 Q2053.52 406.181 2053.52 411.968 M2049.26 410.718 Q2049.22 407.223 2047.3 405.139 Q2045.4 403.056 2042.25 403.056 Q2038.68 403.056 2036.53 405.07 Q2034.4 407.084 2034.08 410.741 L2049.26 410.718 Z\" fill=\"#000000\" fill-rule=\"evenodd\" fill-opacity=\"1\" /><path clip-path=\"url(#clip610)\" d=\"M 0 0 M2069.77 412.963 Q2064.61 412.963 2062.62 414.144 Q2060.63 415.324 2060.63 418.172 Q2060.63 420.44 2062.11 421.783 Q2063.61 423.102 2066.18 423.102 Q2069.73 423.102 2071.86 420.602 Q2074.01 418.079 2074.01 413.912 L2074.01 412.963 L2069.77 412.963 M2078.27 411.204 L2078.27 425.996 L2074.01 425.996 L2074.01 422.061 Q2072.55 424.422 2070.37 425.556 Q2068.2 426.667 2065.05 426.667 Q2061.07 426.667 2058.71 424.445 Q2056.37 422.199 2056.37 418.449 Q2056.37 414.074 2059.29 411.852 Q2062.23 409.63 2068.04 409.63 L2074.01 409.63 L2074.01 409.213 Q2074.01 406.274 2072.06 404.676 Q2070.14 403.056 2066.65 403.056 Q2064.42 403.056 2062.32 403.588 Q2060.21 404.121 2058.27 405.186 L2058.27 401.25 Q2060.61 400.348 2062.8 399.908 Q2065 399.445 2067.09 399.445 Q2072.71 399.445 2075.49 402.362 Q2078.27 405.278 2078.27 411.204 Z\" fill=\"#000000\" fill-rule=\"evenodd\" fill-opacity=\"1\" /><path clip-path=\"url(#clip610)\" d=\"M 0 0 M2097.76 404.051 Q2097.04 403.635 2096.18 403.45 Q2095.35 403.241 2094.33 403.241 Q2090.72 403.241 2088.78 405.602 Q2086.86 407.94 2086.86 412.338 L2086.86 425.996 L2082.57 425.996 L2082.57 400.07 L2086.86 400.07 L2086.86 404.098 Q2088.2 401.737 2090.35 400.602 Q2092.5 399.445 2095.58 399.445 Q2096.02 399.445 2096.55 399.514 Q2097.09 399.561 2097.73 399.676 L2097.76 404.051 Z\" fill=\"#000000\" fill-rule=\"evenodd\" fill-opacity=\"1\" /><path clip-path=\"url(#clip610)\" d=\"M 0 0 M2122.94 410.348 L2122.94 425.996 L2118.68 425.996 L2118.68 410.487 Q2118.68 406.806 2117.25 404.977 Q2115.81 403.149 2112.94 403.149 Q2109.49 403.149 2107.5 405.348 Q2105.51 407.547 2105.51 411.343 L2105.51 425.996 L2101.23 425.996 L2101.23 400.07 L2105.51 400.07 L2105.51 404.098 Q2107.04 401.76 2109.1 400.602 Q2111.18 399.445 2113.89 399.445 Q2118.36 399.445 2120.65 402.223 Q2122.94 404.977 2122.94 410.348 Z\" fill=\"#000000\" fill-rule=\"evenodd\" fill-opacity=\"1\" /><path clip-path=\"url(#clip610)\" d=\"M 0 0 M2149.59 411.968 L2149.59 414.051 L2130 414.051 Q2130.28 418.449 2132.64 420.764 Q2135.03 423.056 2139.26 423.056 Q2141.72 423.056 2144.01 422.454 Q2146.32 421.852 2148.59 420.649 L2148.59 424.676 Q2146.3 425.648 2143.89 426.158 Q2141.48 426.667 2139.01 426.667 Q2132.8 426.667 2129.17 423.056 Q2125.56 419.445 2125.56 413.287 Q2125.56 406.922 2128.98 403.195 Q2132.43 399.445 2138.27 399.445 Q2143.5 399.445 2146.53 402.825 Q2149.59 406.181 2149.59 411.968 M2145.33 410.718 Q2145.28 407.223 2143.36 405.139 Q2141.46 403.056 2138.31 403.056 Q2134.75 403.056 2132.6 405.07 Q2130.47 407.084 2130.14 410.741 L2145.33 410.718 Z\" fill=\"#000000\" fill-rule=\"evenodd\" fill-opacity=\"1\" /><path clip-path=\"url(#clip610)\" d=\"M 0 0 M2169.08 404.051 Q2168.36 403.635 2167.5 403.45 Q2166.67 403.241 2165.65 403.241 Q2162.04 403.241 2160.1 405.602 Q2158.17 407.94 2158.17 412.338 L2158.17 425.996 L2153.89 425.996 L2153.89 400.07 L2158.17 400.07 L2158.17 404.098 Q2159.52 401.737 2161.67 400.602 Q2163.82 399.445 2166.9 399.445 Q2167.34 399.445 2167.87 399.514 Q2168.41 399.561 2169.05 399.676 L2169.08 404.051 Z\" fill=\"#000000\" fill-rule=\"evenodd\" fill-opacity=\"1\" /><path clip-path=\"url(#clip610)\" d=\"M 0 0 M2173.8 420.116 L2178.68 420.116 L2178.68 425.996 L2173.8 425.996 L2173.8 420.116 M2173.8 401.482 L2178.68 401.482 L2178.68 407.362 L2173.8 407.362 L2173.8 401.482 Z\" fill=\"#000000\" fill-rule=\"evenodd\" fill-opacity=\"1\" /><path clip-path=\"url(#clip610)\" d=\"M 0 0 M2204.05 392.57 L2204.05 397.13 Q2201.39 395.857 2199.03 395.232 Q2196.67 394.607 2194.47 394.607 Q2190.65 394.607 2188.57 396.088 Q2186.51 397.57 2186.51 400.301 Q2186.51 402.593 2187.87 403.774 Q2189.26 404.931 2193.1 405.649 L2195.93 406.227 Q2201.16 407.223 2203.64 409.746 Q2206.14 412.246 2206.14 416.459 Q2206.14 421.482 2202.76 424.074 Q2199.4 426.667 2192.9 426.667 Q2190.44 426.667 2187.67 426.111 Q2184.91 425.556 2181.95 424.468 L2181.95 419.653 Q2184.79 421.25 2187.53 422.061 Q2190.26 422.871 2192.9 422.871 Q2196.9 422.871 2199.08 421.297 Q2201.25 419.723 2201.25 416.806 Q2201.25 414.26 2199.68 412.824 Q2198.13 411.389 2194.56 410.672 L2191.72 410.116 Q2186.48 409.075 2184.15 406.852 Q2181.81 404.63 2181.81 400.672 Q2181.81 396.088 2185.03 393.45 Q2188.27 390.811 2193.94 390.811 Q2196.37 390.811 2198.89 391.251 Q2201.41 391.69 2204.05 392.57 Z\" fill=\"#000000\" fill-rule=\"evenodd\" fill-opacity=\"1\" /><path clip-path=\"url(#clip610)\" d=\"M 0 0 M2227.18 409.792 Q2228.68 410.301 2230.1 411.968 Q2231.53 413.635 2232.97 416.551 L2237.71 425.996 L2232.69 425.996 L2228.27 417.13 Q2226.55 413.658 2224.93 412.524 Q2223.34 411.389 2220.56 411.389 L2215.47 411.389 L2215.47 425.996 L2210.79 425.996 L2210.79 391.436 L2221.35 391.436 Q2227.27 391.436 2230.19 393.913 Q2233.1 396.389 2233.1 401.389 Q2233.1 404.653 2231.58 406.806 Q2230.07 408.959 2227.18 409.792 M2215.47 395.278 L2215.47 407.547 L2221.35 407.547 Q2224.73 407.547 2226.44 405.996 Q2228.17 404.422 2228.17 401.389 Q2228.17 398.357 2226.44 396.829 Q2224.73 395.278 2221.35 395.278 L2215.47 395.278 Z\" fill=\"#000000\" fill-rule=\"evenodd\" fill-opacity=\"1\" /></svg>\n"
      ]
     },
     "metadata": {},
     "output_type": "display_data"
    }
   ],
   "source": [
    "# plot_mc_errors(data, labels,step_increment = 50,data_std=data_std, title=\"For TB Demon Learners in TMaze Round Robin\")\n",
    "plot_mc_errors(data, labels,step_increment = 50, title=\"For TB Demon Learners in TMaze Round Robin\")\n"
   ]
  },
  {
   "cell_type": "code",
   "execution_count": 249,
   "metadata": {},
   "outputs": [],
   "source": [
    "savefig(\"./plots/TTMazeTab.png\")"
   ]
  },
  {
   "cell_type": "code",
   "execution_count": 385,
   "metadata": {},
   "outputs": [
    {
     "ename": "LoadError",
     "evalue": "\u001b[91mBoundsError: attempt to access 2-element Array{Array{Float64,2},1} at index [4]\u001b[39m",
     "output_type": "error",
     "traceback": [
      "\u001b[91mBoundsError: attempt to access 2-element Array{Array{Float64,2},1} at index [4]\u001b[39m",
      "",
      "Stacktrace:",
      " [1] getindex(::Array{Array{Float64,2},1}, ::Int64) at ./array.jl:809",
      " [2] top-level scope at In[385]:3",
      " [3] include_string(::Function, ::Module, ::String, ::String) at ./loading.jl:1091"
     ]
    }
   ],
   "source": [
    "data_per_gvf = [smooth(get_stats(load_results(ic,:mc_error), per_gvf=true)[1],5) for ic in best_per_algo_ics]\n",
    "\n",
    "data_per_gvf[4]\n",
    "# plot_mc_errors(data_per_gvf[3], [\"D1\", \"D2\"])"
   ]
  },
  {
   "cell_type": "code",
   "execution_count": 386,
   "metadata": {},
   "outputs": [
    {
     "data": {
      "text/plain": [
       "2-element Array{Array{Any,1},1}:\n",
       " [[1362, 98, 96, 224, 111, 173, 473, 294, 854, 88  …  2000, 2000, 2000, 2000, 2000, 2000, 2000, 2000, 2000, 948], [2000, 2000, 2000, 2000, 2000, 2000, 2000, 2000, 2000, 2000  …  2000, 2000, 2000, 2000, 2000, 2000, 2000, 2000, 2000, 1986], [2000, 2000, 8, 2000, 2000, 2000, 2000, 2000, 2000, 2000  …  2000, 2000, 5, 2000, 2000, 2000, 2000, 2000, 2000, 1980], [2000, 2000, 1468, 2000, 2000, 2000, 2000, 2000, 2000, 2000  …  2000, 2000, 2000, 13, 2000, 2000, 2000, 2000, 2000, 496], [2000, 2000, 2000, 2000, 2000, 2000, 2000, 2000, 15, 2000  …  2000, 2000, 2000, 2000, 2000, 2000, 2000, 2000, 2000, 1970], [2000, 2000, 2000, 2000, 2000, 2000, 2000, 2000, 2000, 2000  …  2000, 2000, 2000, 2000, 2000, 2000, 2000, 2000, 2000, 1996], [2000, 2000, 2000, 2000, 2000, 2000, 2000, 2000, 2000, 2000  …  2000, 5, 2000, 2000, 2000, 2000, 2000, 2000, 2000, 1987], [1378, 119, 105, 111, 83, 101, 201, 112, 196, 95  …  2000, 2000, 2000, 2000, 2000, 2000, 2000, 2000, 2000, 1774], [2000, 2000, 2000, 2000, 2000, 2000, 2000, 2000, 2000, 2000  …  6, 2000, 2000, 2000, 2000, 2000, 2000, 24, 2000, 1959], [2000, 2000, 5, 2000, 2000, 2000, 2000, 12, 2000, 2000  …  2000, 2000, 2000, 2000, 2000, 2000, 2000, 2000, 2000, 1968]  …  [2000, 922, 109, 310, 104, 189, 190, 933, 2000, 2000  …  2000, 2000, 2000, 30, 2000, 4, 2000, 2000, 2000, 1136], [2000, 2000, 2000, 2000, 2000, 2000, 2000, 2000, 2000, 2000  …  2000, 2000, 2000, 2000, 2000, 2000, 2000, 2000, 2000, 1991], [2000, 2000, 2000, 2000, 2000, 2000, 2000, 2000, 2000, 2000  …  2000, 6, 2000, 11, 2000, 2000, 2000, 2000, 2000, 1983], [2000, 2000, 2000, 2000, 2000, 2000, 2000, 2000, 2000, 2000  …  2000, 2000, 2000, 14, 2000, 2000, 2000, 2000, 2000, 1986], [2000, 2000, 1234, 595, 519, 2000, 2000, 2000, 2000, 2000  …  2000, 2000, 2000, 2000, 2000, 2000, 2000, 2000, 2000, 1626], [2000, 2000, 2000, 2000, 2000, 2000, 2000, 2000, 4, 2000  …  2000, 2000, 2000, 2000, 2000, 2000, 2000, 2000, 2000, 1996], [2000, 2000, 2000, 2000, 2000, 2000, 2000, 2000, 2000, 11  …  2000, 6, 2000, 2000, 2000, 2000, 2000, 2000, 2000, 1978], [2000, 2000, 2000, 2000, 2000, 2000, 2000, 2000, 2000, 2000  …  2000, 2000, 2000, 2000, 2000, 2000, 2000, 2000, 2000, 1983], [2000, 2000, 2000, 2000, 2000, 2000, 2000, 2000, 2000, 2000  …  2000, 2000, 2000, 2000, 2000, 2000, 2000, 2000, 2000, 1963], [2000, 2000, 2000, 2000, 2000, 2000, 2000, 4, 2000, 2000  …  2000, 2000, 2000, 2000, 11, 2000, 2000, 2000, 2000, 1978]]\n",
       " [[1814, 1780, 326, 97, 16, 668, 467, 87, 16, 200  …  105, 86, 77, 101, 92, 89, 352, 94, 85, 85], [1202, 919, 1645, 94, 194, 8, 84, 13, 115, 84  …  108, 98, 111, 253, 26, 116, 22, 27, 223, 94], [2000, 105, 820, 106, 40, 18, 189, 419, 272, 197  …  106, 93, 19, 16, 89, 91, 84, 74, 122, 147], [1211, 5, 501, 320, 545, 279, 320, 16, 402, 99  …  130, 87, 88, 92, 105, 95, 87, 105, 88, 30], [1608, 683, 1213, 80, 175, 248, 475, 632, 80, 158  …  176, 213, 106, 86, 87, 86, 21, 101, 97, 8], [2000, 868, 109, 119, 675, 674, 344, 127, 94, 85  …  95, 14, 102, 118, 108, 108, 89, 79, 92, 21], [2000, 1646, 103, 7, 84, 84, 191, 88, 79, 118  …  154, 76, 107, 19, 84, 100, 109, 74, 5, 105], [1530, 886, 662, 280, 704, 287, 254, 139, 124, 336  …  166, 73, 79, 91, 18, 84, 99, 77, 87, 82], [1686, 1134, 761, 85, 82, 902, 98, 90, 103, 98  …  223, 105, 129, 89, 102, 27, 107, 105, 108, 101], [1320, 92, 1056, 384, 295, 285, 86, 211, 98, 741  …  116, 94, 90, 97, 102, 92, 86, 80, 81, 88]  …  [1637, 857, 928, 94, 123, 6, 103, 499, 288, 246  …  97, 86, 99, 87, 7, 216, 183, 180, 199, 49], [738, 1928, 113, 88, 94, 1134, 226, 96, 88, 113  …  12, 189, 94, 170, 124, 183, 89, 99, 19, 58], [683, 28, 1554, 110, 37, 479, 105, 664, 101, 102  …  91, 108, 95, 95, 91, 87, 103, 86, 88, 67], [1200, 1246, 409, 695, 165, 98, 277, 93, 15, 207  …  122, 88, 80, 153, 106, 113, 89, 170, 77, 109], [2000, 231, 17, 440, 112, 121, 123, 126, 115, 832  …  94, 166, 16, 90, 74, 85, 83, 145, 84, 59], [2000, 109, 392, 425, 81, 19, 299, 356, 85, 26  …  87, 213, 23, 89, 96, 98, 84, 89, 6, 59], [1990, 2000, 544, 111, 93, 95, 110, 8, 29, 43  …  104, 108, 113, 97, 100, 104, 10, 104, 98, 16], [1832, 649, 138, 935, 111, 89, 151, 103, 571, 106  …  106, 173, 119, 132, 98, 170, 97, 80, 121, 78], [2000, 112, 398, 824, 352, 97, 111, 348, 196, 327  …  107, 88, 80, 96, 93, 183, 110, 126, 94, 83], [785, 826, 938, 93, 88, 109, 98, 12, 338, 429  …  76, 77, 107, 92, 71, 97, 91, 33, 76, 23]]"
      ]
     },
     "execution_count": 386,
     "metadata": {},
     "output_type": "execute_result"
    }
   ],
   "source": [
    "episode_lengths = [load_results(ic,:episode_length, return_type=\"array\") for ic in best_per_algo_ics]\n"
   ]
  },
  {
   "cell_type": "code",
   "execution_count": 387,
   "metadata": {},
   "outputs": [
    {
     "data": {
      "text/plain": [
       "average_first_n (generic function with 1 method)"
      ]
     },
     "execution_count": 387,
     "metadata": {},
     "output_type": "execute_result"
    }
   ],
   "source": [
    "function average_first_n(arr_of_arr,n)\n",
    "    ave = zeros(n)\n",
    "    for arr in arr_of_arr\n",
    "        ave += arr[1:n]\n",
    "    end\n",
    "    ave /= length(arr_of_arr)\n",
    "end"
   ]
  },
  {
   "cell_type": "code",
   "execution_count": 388,
   "metadata": {},
   "outputs": [
    {
     "data": {
      "text/plain": [
       "2-element Array{Array{Float64,1},1}:\n",
       " [1876.1666666666667, 1647.8, 1508.3333333333333, 1729.2666666666667, 1627.5333333333333, 1686.7, 1744.8333333333333, 1589.8333333333333, 1731.4333333333334, 1743.4666666666667  …  1760.1333333333334, 1804.0, 2000.0, 1800.5333333333333, 1800.8666666666666, 1867.2, 1933.6333333333334, 1867.3333333333333, 1933.7666666666667, 2000.0]\n",
       " [1540.9666666666667, 840.1, 497.03333333333336, 286.76666666666665, 296.6333333333333, 247.46666666666667, 200.16666666666666, 216.46666666666667, 172.8, 220.76666666666668  …  104.8, 97.86666666666666, 110.63333333333334, 92.63333333333334, 122.36666666666666, 97.63333333333334, 102.6, 100.96666666666667, 96.5, 101.96666666666667]"
      ]
     },
     "execution_count": 388,
     "metadata": {},
     "output_type": "execute_result"
    }
   ],
   "source": [
    "init_episode_lengths = [average_first_n(episode_lengths[i],50) for i in 1:length(episode_lengths)]"
   ]
  },
  {
   "cell_type": "code",
   "execution_count": 389,
   "metadata": {},
   "outputs": [
    {
     "data": {
      "image/svg+xml": [
       "<?xml version=\"1.0\" encoding=\"utf-8\"?>\n",
       "<svg xmlns=\"http://www.w3.org/2000/svg\" xmlns:xlink=\"http://www.w3.org/1999/xlink\" width=\"600\" height=\"400\" viewBox=\"0 0 2400 1600\">\n",
       "<defs>\n",
       "  <clipPath id=\"clip720\">\n",
       "    <rect x=\"0\" y=\"0\" width=\"2400\" height=\"1600\"/>\n",
       "  </clipPath>\n",
       "</defs>\n",
       "<path clip-path=\"url(#clip720)\" d=\"\n",
       "M0 1600 L2400 1600 L2400 0 L0 0  Z\n",
       "  \" fill=\"#ffffff\" fill-rule=\"evenodd\" fill-opacity=\"1\"/>\n",
       "<defs>\n",
       "  <clipPath id=\"clip721\">\n",
       "    <rect x=\"480\" y=\"0\" width=\"1681\" height=\"1600\"/>\n",
       "  </clipPath>\n",
       "</defs>\n",
       "<path clip-path=\"url(#clip720)\" d=\"\n",
       "M253.246 1423.18 L2352.76 1423.18 L2352.76 123.472 L253.246 123.472  Z\n",
       "  \" fill=\"#ffffff\" fill-rule=\"evenodd\" fill-opacity=\"1\"/>\n",
       "<defs>\n",
       "  <clipPath id=\"clip722\">\n",
       "    <rect x=\"253\" y=\"123\" width=\"2101\" height=\"1301\"/>\n",
       "  </clipPath>\n",
       "</defs>\n",
       "<polyline clip-path=\"url(#clip722)\" style=\"stroke:#000000; stroke-width:2; stroke-opacity:0.1; fill:none\" points=\"\n",
       "  272.244,1423.18 272.244,123.472 \n",
       "  \"/>\n",
       "<polyline clip-path=\"url(#clip722)\" style=\"stroke:#000000; stroke-width:2; stroke-opacity:0.1; fill:none\" points=\"\n",
       "  676.462,1423.18 676.462,123.472 \n",
       "  \"/>\n",
       "<polyline clip-path=\"url(#clip722)\" style=\"stroke:#000000; stroke-width:2; stroke-opacity:0.1; fill:none\" points=\"\n",
       "  1080.68,1423.18 1080.68,123.472 \n",
       "  \"/>\n",
       "<polyline clip-path=\"url(#clip722)\" style=\"stroke:#000000; stroke-width:2; stroke-opacity:0.1; fill:none\" points=\"\n",
       "  1484.9,1423.18 1484.9,123.472 \n",
       "  \"/>\n",
       "<polyline clip-path=\"url(#clip722)\" style=\"stroke:#000000; stroke-width:2; stroke-opacity:0.1; fill:none\" points=\"\n",
       "  1889.12,1423.18 1889.12,123.472 \n",
       "  \"/>\n",
       "<polyline clip-path=\"url(#clip722)\" style=\"stroke:#000000; stroke-width:2; stroke-opacity:0.1; fill:none\" points=\"\n",
       "  2293.34,1423.18 2293.34,123.472 \n",
       "  \"/>\n",
       "<polyline clip-path=\"url(#clip720)\" style=\"stroke:#000000; stroke-width:4; stroke-opacity:1; fill:none\" points=\"\n",
       "  253.246,1423.18 2352.76,1423.18 \n",
       "  \"/>\n",
       "<polyline clip-path=\"url(#clip720)\" style=\"stroke:#000000; stroke-width:4; stroke-opacity:1; fill:none\" points=\"\n",
       "  272.244,1423.18 272.244,1407.58 \n",
       "  \"/>\n",
       "<polyline clip-path=\"url(#clip720)\" style=\"stroke:#000000; stroke-width:4; stroke-opacity:1; fill:none\" points=\"\n",
       "  676.462,1423.18 676.462,1407.58 \n",
       "  \"/>\n",
       "<polyline clip-path=\"url(#clip720)\" style=\"stroke:#000000; stroke-width:4; stroke-opacity:1; fill:none\" points=\"\n",
       "  1080.68,1423.18 1080.68,1407.58 \n",
       "  \"/>\n",
       "<polyline clip-path=\"url(#clip720)\" style=\"stroke:#000000; stroke-width:4; stroke-opacity:1; fill:none\" points=\"\n",
       "  1484.9,1423.18 1484.9,1407.58 \n",
       "  \"/>\n",
       "<polyline clip-path=\"url(#clip720)\" style=\"stroke:#000000; stroke-width:4; stroke-opacity:1; fill:none\" points=\"\n",
       "  1889.12,1423.18 1889.12,1407.58 \n",
       "  \"/>\n",
       "<polyline clip-path=\"url(#clip720)\" style=\"stroke:#000000; stroke-width:4; stroke-opacity:1; fill:none\" points=\"\n",
       "  2293.34,1423.18 2293.34,1407.58 \n",
       "  \"/>\n",
       "<path clip-path=\"url(#clip720)\" d=\"M 0 0 M272.244 1452.37 Q268.633 1452.37 266.804 1455.94 Q264.999 1459.48 264.999 1466.61 Q264.999 1473.71 266.804 1477.28 Q268.633 1480.82 272.244 1480.82 Q275.878 1480.82 277.684 1477.28 Q279.512 1473.71 279.512 1466.61 Q279.512 1459.48 277.684 1455.94 Q275.878 1452.37 272.244 1452.37 M272.244 1448.67 Q278.054 1448.67 281.11 1453.27 Q284.188 1457.86 284.188 1466.61 Q284.188 1475.33 281.11 1479.94 Q278.054 1484.52 272.244 1484.52 Q266.434 1484.52 263.355 1479.94 Q260.3 1475.33 260.3 1466.61 Q260.3 1457.86 263.355 1453.27 Q266.434 1448.67 272.244 1448.67 Z\" fill=\"#000000\" fill-rule=\"evenodd\" fill-opacity=\"1\" /><path clip-path=\"url(#clip720)\" d=\"M 0 0 M653.337 1479.92 L660.976 1479.92 L660.976 1453.55 L652.666 1455.22 L652.666 1450.96 L660.93 1449.29 L665.606 1449.29 L665.606 1479.92 L673.245 1479.92 L673.245 1483.85 L653.337 1483.85 L653.337 1479.92 Z\" fill=\"#000000\" fill-rule=\"evenodd\" fill-opacity=\"1\" /><path clip-path=\"url(#clip720)\" d=\"M 0 0 M688.314 1452.37 Q684.703 1452.37 682.874 1455.94 Q681.069 1459.48 681.069 1466.61 Q681.069 1473.71 682.874 1477.28 Q684.703 1480.82 688.314 1480.82 Q691.948 1480.82 693.754 1477.28 Q695.583 1473.71 695.583 1466.61 Q695.583 1459.48 693.754 1455.94 Q691.948 1452.37 688.314 1452.37 M688.314 1448.67 Q694.124 1448.67 697.18 1453.27 Q700.259 1457.86 700.259 1466.61 Q700.259 1475.33 697.18 1479.94 Q694.124 1484.52 688.314 1484.52 Q682.504 1484.52 679.425 1479.94 Q676.37 1475.33 676.37 1466.61 Q676.37 1457.86 679.425 1453.27 Q682.504 1448.67 688.314 1448.67 Z\" fill=\"#000000\" fill-rule=\"evenodd\" fill-opacity=\"1\" /><path clip-path=\"url(#clip720)\" d=\"M 0 0 M1061.83 1479.92 L1078.15 1479.92 L1078.15 1483.85 L1056.2 1483.85 L1056.2 1479.92 Q1058.86 1477.16 1063.45 1472.53 Q1068.05 1467.88 1069.23 1466.54 Q1071.48 1464.01 1072.36 1462.28 Q1073.26 1460.52 1073.26 1458.83 Q1073.26 1456.07 1071.32 1454.34 Q1069.4 1452.6 1066.29 1452.6 Q1064.1 1452.6 1061.64 1453.37 Q1059.21 1454.13 1056.43 1455.68 L1056.43 1450.96 Q1059.26 1449.82 1061.71 1449.25 Q1064.16 1448.67 1066.2 1448.67 Q1071.57 1448.67 1074.77 1451.35 Q1077.96 1454.04 1077.96 1458.53 Q1077.96 1460.66 1077.15 1462.58 Q1076.36 1464.48 1074.26 1467.07 Q1073.68 1467.74 1070.58 1470.96 Q1067.47 1474.15 1061.83 1479.92 Z\" fill=\"#000000\" fill-rule=\"evenodd\" fill-opacity=\"1\" /><path clip-path=\"url(#clip720)\" d=\"M 0 0 M1093.22 1452.37 Q1089.6 1452.37 1087.78 1455.94 Q1085.97 1459.48 1085.97 1466.61 Q1085.97 1473.71 1087.78 1477.28 Q1089.6 1480.82 1093.22 1480.82 Q1096.85 1480.82 1098.66 1477.28 Q1100.48 1473.71 1100.48 1466.61 Q1100.48 1459.48 1098.66 1455.94 Q1096.85 1452.37 1093.22 1452.37 M1093.22 1448.67 Q1099.03 1448.67 1102.08 1453.27 Q1105.16 1457.86 1105.16 1466.61 Q1105.16 1475.33 1102.08 1479.94 Q1099.03 1484.52 1093.22 1484.52 Q1087.41 1484.52 1084.33 1479.94 Q1081.27 1475.33 1081.27 1466.61 Q1081.27 1457.86 1084.33 1453.27 Q1087.41 1448.67 1093.22 1448.67 Z\" fill=\"#000000\" fill-rule=\"evenodd\" fill-opacity=\"1\" /><path clip-path=\"url(#clip720)\" d=\"M 0 0 M1475.64 1465.22 Q1479 1465.94 1480.87 1468.2 Q1482.77 1470.47 1482.77 1473.81 Q1482.77 1478.92 1479.25 1481.72 Q1475.73 1484.52 1469.25 1484.52 Q1467.08 1484.52 1464.76 1484.08 Q1462.47 1483.67 1460.01 1482.81 L1460.01 1478.3 Q1461.96 1479.43 1464.27 1480.01 Q1466.59 1480.59 1469.11 1480.59 Q1473.51 1480.59 1475.8 1478.85 Q1478.12 1477.12 1478.12 1473.81 Q1478.12 1470.75 1475.96 1469.04 Q1473.83 1467.3 1470.01 1467.3 L1465.99 1467.3 L1465.99 1463.46 L1470.2 1463.46 Q1473.65 1463.46 1475.48 1462.09 Q1477.31 1460.7 1477.31 1458.11 Q1477.31 1455.45 1475.41 1454.04 Q1473.53 1452.6 1470.01 1452.6 Q1468.09 1452.6 1465.89 1453.02 Q1463.7 1453.44 1461.06 1454.31 L1461.06 1450.15 Q1463.72 1449.41 1466.03 1449.04 Q1468.37 1448.67 1470.43 1448.67 Q1475.76 1448.67 1478.86 1451.1 Q1481.96 1453.5 1481.96 1457.63 Q1481.96 1460.5 1480.32 1462.49 Q1478.67 1464.45 1475.64 1465.22 Z\" fill=\"#000000\" fill-rule=\"evenodd\" fill-opacity=\"1\" /><path clip-path=\"url(#clip720)\" d=\"M 0 0 M1497.84 1452.37 Q1494.23 1452.37 1492.4 1455.94 Q1490.59 1459.48 1490.59 1466.61 Q1490.59 1473.71 1492.4 1477.28 Q1494.23 1480.82 1497.84 1480.82 Q1501.47 1480.82 1503.28 1477.28 Q1505.11 1473.71 1505.11 1466.61 Q1505.11 1459.48 1503.28 1455.94 Q1501.47 1452.37 1497.84 1452.37 M1497.84 1448.67 Q1503.65 1448.67 1506.7 1453.27 Q1509.78 1457.86 1509.78 1466.61 Q1509.78 1475.33 1506.7 1479.94 Q1503.65 1484.52 1497.84 1484.52 Q1492.03 1484.52 1488.95 1479.94 Q1485.89 1475.33 1485.89 1466.61 Q1485.89 1457.86 1488.95 1453.27 Q1492.03 1448.67 1497.84 1448.67 Z\" fill=\"#000000\" fill-rule=\"evenodd\" fill-opacity=\"1\" /><path clip-path=\"url(#clip720)\" d=\"M 0 0 M1878.62 1453.37 L1866.81 1471.81 L1878.62 1471.81 L1878.62 1453.37 M1877.39 1449.29 L1883.27 1449.29 L1883.27 1471.81 L1888.2 1471.81 L1888.2 1475.7 L1883.27 1475.7 L1883.27 1483.85 L1878.62 1483.85 L1878.62 1475.7 L1863.02 1475.7 L1863.02 1471.19 L1877.39 1449.29 Z\" fill=\"#000000\" fill-rule=\"evenodd\" fill-opacity=\"1\" /><path clip-path=\"url(#clip720)\" d=\"M 0 0 M1903.27 1452.37 Q1899.66 1452.37 1897.83 1455.94 Q1896.03 1459.48 1896.03 1466.61 Q1896.03 1473.71 1897.83 1477.28 Q1899.66 1480.82 1903.27 1480.82 Q1906.91 1480.82 1908.71 1477.28 Q1910.54 1473.71 1910.54 1466.61 Q1910.54 1459.48 1908.71 1455.94 Q1906.91 1452.37 1903.27 1452.37 M1903.27 1448.67 Q1909.08 1448.67 1912.14 1453.27 Q1915.22 1457.86 1915.22 1466.61 Q1915.22 1475.33 1912.14 1479.94 Q1909.08 1484.52 1903.27 1484.52 Q1897.46 1484.52 1894.38 1479.94 Q1891.33 1475.33 1891.33 1466.61 Q1891.33 1457.86 1894.38 1453.27 Q1897.46 1448.67 1903.27 1448.67 Z\" fill=\"#000000\" fill-rule=\"evenodd\" fill-opacity=\"1\" /><path clip-path=\"url(#clip720)\" d=\"M 0 0 M2270.11 1449.29 L2288.46 1449.29 L2288.46 1453.23 L2274.39 1453.23 L2274.39 1461.7 Q2275.41 1461.35 2276.43 1461.19 Q2277.44 1461 2278.46 1461 Q2284.25 1461 2287.63 1464.18 Q2291.01 1467.35 2291.01 1472.76 Q2291.01 1478.34 2287.54 1481.44 Q2284.07 1484.52 2277.75 1484.52 Q2275.57 1484.52 2273.3 1484.15 Q2271.06 1483.78 2268.65 1483.04 L2268.65 1478.34 Q2270.73 1479.48 2272.95 1480.03 Q2275.18 1480.59 2277.65 1480.59 Q2281.66 1480.59 2284 1478.48 Q2286.33 1476.38 2286.33 1472.76 Q2286.33 1469.15 2284 1467.05 Q2281.66 1464.94 2277.65 1464.94 Q2275.78 1464.94 2273.9 1465.36 Q2272.05 1465.77 2270.11 1466.65 L2270.11 1449.29 Z\" fill=\"#000000\" fill-rule=\"evenodd\" fill-opacity=\"1\" /><path clip-path=\"url(#clip720)\" d=\"M 0 0 M2306.08 1452.37 Q2302.47 1452.37 2300.64 1455.94 Q2298.83 1459.48 2298.83 1466.61 Q2298.83 1473.71 2300.64 1477.28 Q2302.47 1480.82 2306.08 1480.82 Q2309.71 1480.82 2311.52 1477.28 Q2313.35 1473.71 2313.35 1466.61 Q2313.35 1459.48 2311.52 1455.94 Q2309.71 1452.37 2306.08 1452.37 M2306.08 1448.67 Q2311.89 1448.67 2314.94 1453.27 Q2318.02 1457.86 2318.02 1466.61 Q2318.02 1475.33 2314.94 1479.94 Q2311.89 1484.52 2306.08 1484.52 Q2300.27 1484.52 2297.19 1479.94 Q2294.13 1475.33 2294.13 1466.61 Q2294.13 1457.86 2297.19 1453.27 Q2300.27 1448.67 2306.08 1448.67 Z\" fill=\"#000000\" fill-rule=\"evenodd\" fill-opacity=\"1\" /><path clip-path=\"url(#clip720)\" d=\"M 0 0 M1044.74 1520.52 L1072.05 1520.52 L1072.05 1525.93 L1051.17 1525.93 L1051.17 1539.94 L1070.02 1539.94 L1070.02 1545.35 L1051.17 1545.35 L1051.17 1568.04 L1044.74 1568.04 L1044.74 1520.52 Z\" fill=\"#000000\" fill-rule=\"evenodd\" fill-opacity=\"1\" /><path clip-path=\"url(#clip720)\" d=\"M 0 0 M1073.45 1532.4 L1079.31 1532.4 L1079.31 1568.04 L1073.45 1568.04 L1073.45 1532.4 M1073.45 1518.52 L1079.31 1518.52 L1079.31 1525.93 L1073.45 1525.93 L1073.45 1518.52 Z\" fill=\"#000000\" fill-rule=\"evenodd\" fill-opacity=\"1\" /><path clip-path=\"url(#clip720)\" d=\"M 0 0 M1106.11 1537.87 Q1105.12 1537.3 1103.95 1537.04 Q1102.8 1536.76 1101.4 1536.76 Q1096.43 1536.76 1093.76 1540 Q1091.12 1543.22 1091.12 1549.27 L1091.12 1568.04 L1085.23 1568.04 L1085.23 1532.4 L1091.12 1532.4 L1091.12 1537.93 Q1092.96 1534.69 1095.92 1533.13 Q1098.88 1531.54 1103.12 1531.54 Q1103.72 1531.54 1104.45 1531.63 Q1105.19 1531.7 1106.08 1531.85 L1106.11 1537.87 Z\" fill=\"#000000\" fill-rule=\"evenodd\" fill-opacity=\"1\" /><path clip-path=\"url(#clip720)\" d=\"M 0 0 M1134.98 1533.45 L1134.98 1538.98 Q1132.5 1537.71 1129.82 1537.07 Q1127.15 1536.44 1124.28 1536.44 Q1119.92 1536.44 1117.73 1537.77 Q1115.56 1539.11 1115.56 1541.79 Q1115.56 1543.82 1117.12 1545 Q1118.68 1546.15 1123.39 1547.2 L1125.4 1547.64 Q1131.64 1548.98 1134.25 1551.43 Q1136.89 1553.85 1136.89 1558.21 Q1136.89 1563.17 1132.94 1566.07 Q1129.03 1568.97 1122.15 1568.97 Q1119.29 1568.97 1116.17 1568.39 Q1113.08 1567.85 1109.64 1566.74 L1109.64 1560.69 Q1112.89 1562.38 1116.04 1563.24 Q1119.19 1564.07 1122.28 1564.07 Q1126.42 1564.07 1128.64 1562.66 Q1130.87 1561.23 1130.87 1558.65 Q1130.87 1556.27 1129.25 1554.99 Q1127.66 1553.72 1122.21 1552.54 L1120.18 1552.07 Q1114.74 1550.92 1112.32 1548.56 Q1109.9 1546.18 1109.9 1542.04 Q1109.9 1537.01 1113.46 1534.27 Q1117.03 1531.54 1123.58 1531.54 Q1126.83 1531.54 1129.69 1532.01 Q1132.56 1532.49 1134.98 1533.45 Z\" fill=\"#000000\" fill-rule=\"evenodd\" fill-opacity=\"1\" /><path clip-path=\"url(#clip720)\" d=\"M 0 0 M1148.82 1522.27 L1148.82 1532.4 L1160.89 1532.4 L1160.89 1536.95 L1148.82 1536.95 L1148.82 1556.3 Q1148.82 1560.66 1150 1561.9 Q1151.21 1563.14 1154.87 1563.14 L1160.89 1563.14 L1160.89 1568.04 L1154.87 1568.04 Q1148.09 1568.04 1145.51 1565.53 Q1142.94 1562.98 1142.94 1556.3 L1142.94 1536.95 L1138.64 1536.95 L1138.64 1532.4 L1142.94 1532.4 L1142.94 1522.27 L1148.82 1522.27 Z\" fill=\"#000000\" fill-rule=\"evenodd\" fill-opacity=\"1\" /><path clip-path=\"url(#clip720)\" d=\"M 0 0 M1188 1520.52 L1196.66 1520.52 L1217.73 1560.28 L1217.73 1520.52 L1223.97 1520.52 L1223.97 1568.04 L1215.31 1568.04 L1194.24 1528.29 L1194.24 1568.04 L1188 1568.04 L1188 1520.52 Z\" fill=\"#000000\" fill-rule=\"evenodd\" fill-opacity=\"1\" /><path clip-path=\"url(#clip720)\" d=\"M 0 0 M1235.91 1522.27 L1235.91 1532.4 L1247.97 1532.4 L1247.97 1536.95 L1235.91 1536.95 L1235.91 1556.3 Q1235.91 1560.66 1237.08 1561.9 Q1238.29 1563.14 1241.95 1563.14 L1247.97 1563.14 L1247.97 1568.04 L1241.95 1568.04 Q1235.17 1568.04 1232.6 1565.53 Q1230.02 1562.98 1230.02 1556.3 L1230.02 1536.95 L1225.72 1536.95 L1225.72 1532.4 L1230.02 1532.4 L1230.02 1522.27 L1235.91 1522.27 Z\" fill=\"#000000\" fill-rule=\"evenodd\" fill-opacity=\"1\" /><path clip-path=\"url(#clip720)\" d=\"M 0 0 M1283.74 1546.53 L1283.74 1568.04 L1277.89 1568.04 L1277.89 1546.72 Q1277.89 1541.66 1275.91 1539.14 Q1273.94 1536.63 1269.99 1536.63 Q1265.25 1536.63 1262.51 1539.65 Q1259.78 1542.68 1259.78 1547.9 L1259.78 1568.04 L1253.89 1568.04 L1253.89 1518.52 L1259.78 1518.52 L1259.78 1537.93 Q1261.88 1534.72 1264.71 1533.13 Q1267.58 1531.54 1271.3 1531.54 Q1277.44 1531.54 1280.59 1535.36 Q1283.74 1539.14 1283.74 1546.53 Z\" fill=\"#000000\" fill-rule=\"evenodd\" fill-opacity=\"1\" /><path clip-path=\"url(#clip720)\" d=\"M 0 0 M1310.86 1520.52 L1340.91 1520.52 L1340.91 1525.93 L1317.29 1525.93 L1317.29 1540 L1339.92 1540 L1339.92 1545.41 L1317.29 1545.41 L1317.29 1562.63 L1341.48 1562.63 L1341.48 1568.04 L1310.86 1568.04 L1310.86 1520.52 Z\" fill=\"#000000\" fill-rule=\"evenodd\" fill-opacity=\"1\" /><path clip-path=\"url(#clip720)\" d=\"M 0 0 M1353.29 1562.7 L1353.29 1581.6 L1347.4 1581.6 L1347.4 1532.4 L1353.29 1532.4 L1353.29 1537.81 Q1355.14 1534.62 1357.94 1533.1 Q1360.77 1531.54 1364.68 1531.54 Q1371.18 1531.54 1375.22 1536.69 Q1379.29 1541.85 1379.29 1550.25 Q1379.29 1558.65 1375.22 1563.81 Q1371.18 1568.97 1364.68 1568.97 Q1360.77 1568.97 1357.94 1567.44 Q1355.14 1565.88 1353.29 1562.7 M1373.21 1550.25 Q1373.21 1543.79 1370.54 1540.13 Q1367.9 1536.44 1363.25 1536.44 Q1358.61 1536.44 1355.93 1540.13 Q1353.29 1543.79 1353.29 1550.25 Q1353.29 1556.71 1355.93 1560.4 Q1358.61 1564.07 1363.25 1564.07 Q1367.9 1564.07 1370.54 1560.4 Q1373.21 1556.71 1373.21 1550.25 Z\" fill=\"#000000\" fill-rule=\"evenodd\" fill-opacity=\"1\" /><path clip-path=\"url(#clip720)\" d=\"M 0 0 M1385.44 1532.4 L1391.29 1532.4 L1391.29 1568.04 L1385.44 1568.04 L1385.44 1532.4 M1385.44 1518.52 L1391.29 1518.52 L1391.29 1525.93 L1385.44 1525.93 L1385.44 1518.52 Z\" fill=\"#000000\" fill-rule=\"evenodd\" fill-opacity=\"1\" /><path clip-path=\"url(#clip720)\" d=\"M 0 0 M1420.16 1533.45 L1420.16 1538.98 Q1417.68 1537.71 1415.01 1537.07 Q1412.33 1536.44 1409.47 1536.44 Q1405.11 1536.44 1402.91 1537.77 Q1400.75 1539.11 1400.75 1541.79 Q1400.75 1543.82 1402.31 1545 Q1403.87 1546.15 1408.58 1547.2 L1410.58 1547.64 Q1416.82 1548.98 1419.43 1551.43 Q1422.07 1553.85 1422.07 1558.21 Q1422.07 1563.17 1418.12 1566.07 Q1414.21 1568.97 1407.33 1568.97 Q1404.47 1568.97 1401.35 1568.39 Q1398.26 1567.85 1394.83 1566.74 L1394.83 1560.69 Q1398.07 1562.38 1401.22 1563.24 Q1404.37 1564.07 1407.46 1564.07 Q1411.6 1564.07 1413.83 1562.66 Q1416.06 1561.23 1416.06 1558.65 Q1416.06 1556.27 1414.43 1554.99 Q1412.84 1553.72 1407.4 1552.54 L1405.36 1552.07 Q1399.92 1550.92 1397.5 1548.56 Q1395.08 1546.18 1395.08 1542.04 Q1395.08 1537.01 1398.65 1534.27 Q1402.21 1531.54 1408.77 1531.54 Q1412.01 1531.54 1414.88 1532.01 Q1417.74 1532.49 1420.16 1533.45 Z\" fill=\"#000000\" fill-rule=\"evenodd\" fill-opacity=\"1\" /><path clip-path=\"url(#clip720)\" d=\"M 0 0 M1442.03 1536.5 Q1437.32 1536.5 1434.58 1540.19 Q1431.84 1543.85 1431.84 1550.25 Q1431.84 1556.65 1434.55 1560.34 Q1437.29 1564 1442.03 1564 Q1446.71 1564 1449.44 1560.31 Q1452.18 1556.62 1452.18 1550.25 Q1452.18 1543.92 1449.44 1540.23 Q1446.71 1536.5 1442.03 1536.5 M1442.03 1531.54 Q1449.67 1531.54 1454.03 1536.5 Q1458.39 1541.47 1458.39 1550.25 Q1458.39 1559 1454.03 1564 Q1449.67 1568.97 1442.03 1568.97 Q1434.36 1568.97 1430 1564 Q1425.67 1559 1425.67 1550.25 Q1425.67 1541.47 1430 1536.5 Q1434.36 1531.54 1442.03 1531.54 Z\" fill=\"#000000\" fill-rule=\"evenodd\" fill-opacity=\"1\" /><path clip-path=\"url(#clip720)\" d=\"M 0 0 M1487.99 1537.81 L1487.99 1518.52 L1493.84 1518.52 L1493.84 1568.04 L1487.99 1568.04 L1487.99 1562.7 Q1486.14 1565.88 1483.31 1567.44 Q1480.51 1568.97 1476.56 1568.97 Q1470.1 1568.97 1466.03 1563.81 Q1461.98 1558.65 1461.98 1550.25 Q1461.98 1541.85 1466.03 1536.69 Q1470.1 1531.54 1476.56 1531.54 Q1480.51 1531.54 1483.31 1533.1 Q1486.14 1534.62 1487.99 1537.81 M1468.03 1550.25 Q1468.03 1556.71 1470.67 1560.4 Q1473.35 1564.07 1477.99 1564.07 Q1482.64 1564.07 1485.31 1560.4 Q1487.99 1556.71 1487.99 1550.25 Q1487.99 1543.79 1485.31 1540.13 Q1482.64 1536.44 1477.99 1536.44 Q1473.35 1536.44 1470.67 1540.13 Q1468.03 1543.79 1468.03 1550.25 Z\" fill=\"#000000\" fill-rule=\"evenodd\" fill-opacity=\"1\" /><path clip-path=\"url(#clip720)\" d=\"M 0 0 M1530.48 1548.76 L1530.48 1551.62 L1503.55 1551.62 Q1503.93 1557.67 1507.18 1560.85 Q1510.46 1564 1516.28 1564 Q1519.66 1564 1522.81 1563.17 Q1525.99 1562.35 1529.11 1560.69 L1529.11 1566.23 Q1525.96 1567.57 1522.65 1568.27 Q1519.34 1568.97 1515.93 1568.97 Q1507.4 1568.97 1502.41 1564 Q1497.44 1559.04 1497.44 1550.57 Q1497.44 1541.82 1502.15 1536.69 Q1506.89 1531.54 1514.92 1531.54 Q1522.11 1531.54 1526.28 1536.18 Q1530.48 1540.8 1530.48 1548.76 M1524.62 1547.04 Q1524.56 1542.23 1521.92 1539.37 Q1519.31 1536.5 1514.98 1536.5 Q1510.08 1536.5 1507.12 1539.27 Q1504.19 1542.04 1503.74 1547.07 L1524.62 1547.04 Z\" fill=\"#000000\" fill-rule=\"evenodd\" fill-opacity=\"1\" /><path clip-path=\"url(#clip720)\" d=\"M 0 0 M1559.35 1533.45 L1559.35 1538.98 Q1556.87 1537.71 1554.19 1537.07 Q1551.52 1536.44 1548.65 1536.44 Q1544.29 1536.44 1542.1 1537.77 Q1539.93 1539.11 1539.93 1541.79 Q1539.93 1543.82 1541.49 1545 Q1543.05 1546.15 1547.76 1547.2 L1549.77 1547.64 Q1556.01 1548.98 1558.62 1551.43 Q1561.26 1553.85 1561.26 1558.21 Q1561.26 1563.17 1557.31 1566.07 Q1553.4 1568.97 1546.52 1568.97 Q1543.66 1568.97 1540.54 1568.39 Q1537.45 1567.85 1534.01 1566.74 L1534.01 1560.69 Q1537.26 1562.38 1540.41 1563.24 Q1543.56 1564.07 1546.65 1564.07 Q1550.79 1564.07 1553.01 1562.66 Q1555.24 1561.23 1555.24 1558.65 Q1555.24 1556.27 1553.62 1554.99 Q1552.03 1553.72 1546.58 1552.54 L1544.55 1552.07 Q1539.1 1550.92 1536.69 1548.56 Q1534.27 1546.18 1534.27 1542.04 Q1534.27 1537.01 1537.83 1534.27 Q1541.4 1531.54 1547.95 1531.54 Q1551.2 1531.54 1554.06 1532.01 Q1556.93 1532.49 1559.35 1533.45 Z\" fill=\"#000000\" fill-rule=\"evenodd\" fill-opacity=\"1\" /><polyline clip-path=\"url(#clip722)\" style=\"stroke:#000000; stroke-width:2; stroke-opacity:0.1; fill:none\" points=\"\n",
       "  253.246,1122.42 2352.76,1122.42 \n",
       "  \"/>\n",
       "<polyline clip-path=\"url(#clip722)\" style=\"stroke:#000000; stroke-width:2; stroke-opacity:0.1; fill:none\" points=\"\n",
       "  253.246,801.699 2352.76,801.699 \n",
       "  \"/>\n",
       "<polyline clip-path=\"url(#clip722)\" style=\"stroke:#000000; stroke-width:2; stroke-opacity:0.1; fill:none\" points=\"\n",
       "  253.246,480.978 2352.76,480.978 \n",
       "  \"/>\n",
       "<polyline clip-path=\"url(#clip722)\" style=\"stroke:#000000; stroke-width:2; stroke-opacity:0.1; fill:none\" points=\"\n",
       "  253.246,160.256 2352.76,160.256 \n",
       "  \"/>\n",
       "<polyline clip-path=\"url(#clip720)\" style=\"stroke:#000000; stroke-width:4; stroke-opacity:1; fill:none\" points=\"\n",
       "  253.246,1423.18 253.246,123.472 \n",
       "  \"/>\n",
       "<polyline clip-path=\"url(#clip720)\" style=\"stroke:#000000; stroke-width:4; stroke-opacity:1; fill:none\" points=\"\n",
       "  253.246,1122.42 278.44,1122.42 \n",
       "  \"/>\n",
       "<polyline clip-path=\"url(#clip720)\" style=\"stroke:#000000; stroke-width:4; stroke-opacity:1; fill:none\" points=\"\n",
       "  253.246,801.699 278.44,801.699 \n",
       "  \"/>\n",
       "<polyline clip-path=\"url(#clip720)\" style=\"stroke:#000000; stroke-width:4; stroke-opacity:1; fill:none\" points=\"\n",
       "  253.246,480.978 278.44,480.978 \n",
       "  \"/>\n",
       "<polyline clip-path=\"url(#clip720)\" style=\"stroke:#000000; stroke-width:4; stroke-opacity:1; fill:none\" points=\"\n",
       "  253.246,160.256 278.44,160.256 \n",
       "  \"/>\n",
       "<path clip-path=\"url(#clip720)\" d=\"M 0 0 M142.316 1105.14 L160.672 1105.14 L160.672 1109.08 L146.598 1109.08 L146.598 1117.55 Q147.616 1117.2 148.635 1117.04 Q149.653 1116.85 150.672 1116.85 Q156.459 1116.85 159.839 1120.02 Q163.218 1123.2 163.218 1128.61 Q163.218 1134.19 159.746 1137.29 Q156.274 1140.37 149.954 1140.37 Q147.778 1140.37 145.51 1140 Q143.265 1139.63 140.857 1138.89 L140.857 1134.19 Q142.941 1135.33 145.163 1135.88 Q147.385 1136.44 149.862 1136.44 Q153.866 1136.44 156.204 1134.33 Q158.542 1132.22 158.542 1128.61 Q158.542 1125 156.204 1122.9 Q153.866 1120.79 149.862 1120.79 Q147.987 1120.79 146.112 1121.21 Q144.26 1121.62 142.316 1122.5 L142.316 1105.14 Z\" fill=\"#000000\" fill-rule=\"evenodd\" fill-opacity=\"1\" /><path clip-path=\"url(#clip720)\" d=\"M 0 0 M178.288 1108.22 Q174.677 1108.22 172.848 1111.78 Q171.042 1115.33 171.042 1122.46 Q171.042 1129.56 172.848 1133.13 Q174.677 1136.67 178.288 1136.67 Q181.922 1136.67 183.727 1133.13 Q185.556 1129.56 185.556 1122.46 Q185.556 1115.33 183.727 1111.78 Q181.922 1108.22 178.288 1108.22 M178.288 1104.52 Q184.098 1104.52 187.153 1109.12 Q190.232 1113.71 190.232 1122.46 Q190.232 1131.18 187.153 1135.79 Q184.098 1140.37 178.288 1140.37 Q172.477 1140.37 169.399 1135.79 Q166.343 1131.18 166.343 1122.46 Q166.343 1113.71 169.399 1109.12 Q172.477 1104.52 178.288 1104.52 Z\" fill=\"#000000\" fill-rule=\"evenodd\" fill-opacity=\"1\" /><path clip-path=\"url(#clip720)\" d=\"M 0 0 M205.301 1108.22 Q201.69 1108.22 199.862 1111.78 Q198.056 1115.33 198.056 1122.46 Q198.056 1129.56 199.862 1133.13 Q201.69 1136.67 205.301 1136.67 Q208.936 1136.67 210.741 1133.13 Q212.57 1129.56 212.57 1122.46 Q212.57 1115.33 210.741 1111.78 Q208.936 1108.22 205.301 1108.22 M205.301 1104.52 Q211.111 1104.52 214.167 1109.12 Q217.246 1113.71 217.246 1122.46 Q217.246 1131.18 214.167 1135.79 Q211.111 1140.37 205.301 1140.37 Q199.491 1140.37 196.412 1135.79 Q193.357 1131.18 193.357 1122.46 Q193.357 1113.71 196.412 1109.12 Q199.491 1104.52 205.301 1104.52 Z\" fill=\"#000000\" fill-rule=\"evenodd\" fill-opacity=\"1\" /><path clip-path=\"url(#clip720)\" d=\"M 0 0 M116.297 815.044 L123.936 815.044 L123.936 788.678 L115.626 790.345 L115.626 786.086 L123.89 784.419 L128.566 784.419 L128.566 815.044 L136.204 815.044 L136.204 818.979 L116.297 818.979 L116.297 815.044 Z\" fill=\"#000000\" fill-rule=\"evenodd\" fill-opacity=\"1\" /><path clip-path=\"url(#clip720)\" d=\"M 0 0 M151.274 787.498 Q147.663 787.498 145.834 791.063 Q144.029 794.604 144.029 801.734 Q144.029 808.84 145.834 812.405 Q147.663 815.947 151.274 815.947 Q154.908 815.947 156.714 812.405 Q158.542 808.84 158.542 801.734 Q158.542 794.604 156.714 791.063 Q154.908 787.498 151.274 787.498 M151.274 783.794 Q157.084 783.794 160.14 788.401 Q163.218 792.984 163.218 801.734 Q163.218 810.461 160.14 815.067 Q157.084 819.65 151.274 819.65 Q145.464 819.65 142.385 815.067 Q139.329 810.461 139.329 801.734 Q139.329 792.984 142.385 788.401 Q145.464 783.794 151.274 783.794 Z\" fill=\"#000000\" fill-rule=\"evenodd\" fill-opacity=\"1\" /><path clip-path=\"url(#clip720)\" d=\"M 0 0 M178.288 787.498 Q174.677 787.498 172.848 791.063 Q171.042 794.604 171.042 801.734 Q171.042 808.84 172.848 812.405 Q174.677 815.947 178.288 815.947 Q181.922 815.947 183.727 812.405 Q185.556 808.84 185.556 801.734 Q185.556 794.604 183.727 791.063 Q181.922 787.498 178.288 787.498 M178.288 783.794 Q184.098 783.794 187.153 788.401 Q190.232 792.984 190.232 801.734 Q190.232 810.461 187.153 815.067 Q184.098 819.65 178.288 819.65 Q172.477 819.65 169.399 815.067 Q166.343 810.461 166.343 801.734 Q166.343 792.984 169.399 788.401 Q172.477 783.794 178.288 783.794 Z\" fill=\"#000000\" fill-rule=\"evenodd\" fill-opacity=\"1\" /><path clip-path=\"url(#clip720)\" d=\"M 0 0 M205.301 787.498 Q201.69 787.498 199.862 791.063 Q198.056 794.604 198.056 801.734 Q198.056 808.84 199.862 812.405 Q201.69 815.947 205.301 815.947 Q208.936 815.947 210.741 812.405 Q212.57 808.84 212.57 801.734 Q212.57 794.604 210.741 791.063 Q208.936 787.498 205.301 787.498 M205.301 783.794 Q211.111 783.794 214.167 788.401 Q217.246 792.984 217.246 801.734 Q217.246 810.461 214.167 815.067 Q211.111 819.65 205.301 819.65 Q199.491 819.65 196.412 815.067 Q193.357 810.461 193.357 801.734 Q193.357 792.984 196.412 788.401 Q199.491 783.794 205.301 783.794 Z\" fill=\"#000000\" fill-rule=\"evenodd\" fill-opacity=\"1\" /><path clip-path=\"url(#clip720)\" d=\"M 0 0 M117.293 494.323 L124.931 494.323 L124.931 467.957 L116.621 469.624 L116.621 465.364 L124.885 463.698 L129.561 463.698 L129.561 494.323 L137.2 494.323 L137.2 498.258 L117.293 498.258 L117.293 494.323 Z\" fill=\"#000000\" fill-rule=\"evenodd\" fill-opacity=\"1\" /><path clip-path=\"url(#clip720)\" d=\"M 0 0 M142.316 463.698 L160.672 463.698 L160.672 467.633 L146.598 467.633 L146.598 476.105 Q147.616 475.758 148.635 475.596 Q149.653 475.411 150.672 475.411 Q156.459 475.411 159.839 478.582 Q163.218 481.753 163.218 487.17 Q163.218 492.748 159.746 495.85 Q156.274 498.929 149.954 498.929 Q147.778 498.929 145.51 498.559 Q143.265 498.188 140.857 497.448 L140.857 492.748 Q142.941 493.883 145.163 494.438 Q147.385 494.994 149.862 494.994 Q153.866 494.994 156.204 492.887 Q158.542 490.781 158.542 487.17 Q158.542 483.559 156.204 481.452 Q153.866 479.346 149.862 479.346 Q147.987 479.346 146.112 479.762 Q144.26 480.179 142.316 481.059 L142.316 463.698 Z\" fill=\"#000000\" fill-rule=\"evenodd\" fill-opacity=\"1\" /><path clip-path=\"url(#clip720)\" d=\"M 0 0 M178.288 466.776 Q174.677 466.776 172.848 470.341 Q171.042 473.883 171.042 481.012 Q171.042 488.119 172.848 491.684 Q174.677 495.225 178.288 495.225 Q181.922 495.225 183.727 491.684 Q185.556 488.119 185.556 481.012 Q185.556 473.883 183.727 470.341 Q181.922 466.776 178.288 466.776 M178.288 463.073 Q184.098 463.073 187.153 467.679 Q190.232 472.262 190.232 481.012 Q190.232 489.739 187.153 494.346 Q184.098 498.929 178.288 498.929 Q172.477 498.929 169.399 494.346 Q166.343 489.739 166.343 481.012 Q166.343 472.262 169.399 467.679 Q172.477 463.073 178.288 463.073 Z\" fill=\"#000000\" fill-rule=\"evenodd\" fill-opacity=\"1\" /><path clip-path=\"url(#clip720)\" d=\"M 0 0 M205.301 466.776 Q201.69 466.776 199.862 470.341 Q198.056 473.883 198.056 481.012 Q198.056 488.119 199.862 491.684 Q201.69 495.225 205.301 495.225 Q208.936 495.225 210.741 491.684 Q212.57 488.119 212.57 481.012 Q212.57 473.883 210.741 470.341 Q208.936 466.776 205.301 466.776 M205.301 463.073 Q211.111 463.073 214.167 467.679 Q217.246 472.262 217.246 481.012 Q217.246 489.739 214.167 494.346 Q211.111 498.929 205.301 498.929 Q199.491 498.929 196.412 494.346 Q193.357 489.739 193.357 481.012 Q193.357 472.262 196.412 467.679 Q199.491 463.073 205.301 463.073 Z\" fill=\"#000000\" fill-rule=\"evenodd\" fill-opacity=\"1\" /><path clip-path=\"url(#clip720)\" d=\"M 0 0 M119.885 173.601 L136.204 173.601 L136.204 177.536 L114.26 177.536 L114.26 173.601 Q116.922 170.847 121.505 166.217 Q126.112 161.564 127.292 160.222 Q129.538 157.698 130.417 155.962 Q131.32 154.203 131.32 152.513 Q131.32 149.759 129.376 148.023 Q127.455 146.286 124.353 146.286 Q122.154 146.286 119.7 147.05 Q117.269 147.814 114.492 149.365 L114.492 144.643 Q117.316 143.509 119.769 142.93 Q122.223 142.351 124.26 142.351 Q129.63 142.351 132.825 145.036 Q136.019 147.722 136.019 152.212 Q136.019 154.342 135.209 156.263 Q134.422 158.161 132.316 160.754 Q131.737 161.425 128.635 164.643 Q125.533 167.837 119.885 173.601 Z\" fill=\"#000000\" fill-rule=\"evenodd\" fill-opacity=\"1\" /><path clip-path=\"url(#clip720)\" d=\"M 0 0 M151.274 146.055 Q147.663 146.055 145.834 149.62 Q144.029 153.161 144.029 160.291 Q144.029 167.397 145.834 170.962 Q147.663 174.504 151.274 174.504 Q154.908 174.504 156.714 170.962 Q158.542 167.397 158.542 160.291 Q158.542 153.161 156.714 149.62 Q154.908 146.055 151.274 146.055 M151.274 142.351 Q157.084 142.351 160.14 146.958 Q163.218 151.541 163.218 160.291 Q163.218 169.018 160.14 173.624 Q157.084 178.208 151.274 178.208 Q145.464 178.208 142.385 173.624 Q139.329 169.018 139.329 160.291 Q139.329 151.541 142.385 146.958 Q145.464 142.351 151.274 142.351 Z\" fill=\"#000000\" fill-rule=\"evenodd\" fill-opacity=\"1\" /><path clip-path=\"url(#clip720)\" d=\"M 0 0 M178.288 146.055 Q174.677 146.055 172.848 149.62 Q171.042 153.161 171.042 160.291 Q171.042 167.397 172.848 170.962 Q174.677 174.504 178.288 174.504 Q181.922 174.504 183.727 170.962 Q185.556 167.397 185.556 160.291 Q185.556 153.161 183.727 149.62 Q181.922 146.055 178.288 146.055 M178.288 142.351 Q184.098 142.351 187.153 146.958 Q190.232 151.541 190.232 160.291 Q190.232 169.018 187.153 173.624 Q184.098 178.208 178.288 178.208 Q172.477 178.208 169.399 173.624 Q166.343 169.018 166.343 160.291 Q166.343 151.541 169.399 146.958 Q172.477 142.351 178.288 142.351 Z\" fill=\"#000000\" fill-rule=\"evenodd\" fill-opacity=\"1\" /><path clip-path=\"url(#clip720)\" d=\"M 0 0 M205.301 146.055 Q201.69 146.055 199.862 149.62 Q198.056 153.161 198.056 160.291 Q198.056 167.397 199.862 170.962 Q201.69 174.504 205.301 174.504 Q208.936 174.504 210.741 170.962 Q212.57 167.397 212.57 160.291 Q212.57 153.161 210.741 149.62 Q208.936 146.055 205.301 146.055 M205.301 142.351 Q211.111 142.351 214.167 146.958 Q217.246 151.541 217.246 160.291 Q217.246 169.018 214.167 173.624 Q211.111 178.208 205.301 178.208 Q199.491 178.208 196.412 173.624 Q193.357 169.018 193.357 160.291 Q193.357 151.541 196.412 146.958 Q199.491 142.351 205.301 142.351 Z\" fill=\"#000000\" fill-rule=\"evenodd\" fill-opacity=\"1\" /><path clip-path=\"url(#clip720)\" d=\"M 0 0 M16.4842 994.725 L16.4842 964.679 L21.895 964.679 L21.895 988.296 L35.9632 988.296 L35.9632 965.666 L41.3741 965.666 L41.3741 988.296 L58.5933 988.296 L58.5933 964.106 L64.0042 964.106 L64.0042 994.725 L16.4842 994.725 Z\" fill=\"#000000\" fill-rule=\"evenodd\" fill-opacity=\"1\" /><path clip-path=\"url(#clip720)\" d=\"M 0 0 M58.657 952.298 L77.5631 952.298 L77.5631 958.186 L28.3562 958.186 L28.3562 952.298 L33.7671 952.298 Q30.5842 950.452 29.0564 947.651 Q27.4968 944.818 27.4968 940.903 Q27.4968 934.41 32.6531 930.368 Q37.8093 926.294 46.212 926.294 Q54.6147 926.294 59.771 930.368 Q64.9272 934.41 64.9272 940.903 Q64.9272 944.818 63.3994 947.651 Q61.8398 950.452 58.657 952.298 M46.212 932.373 Q39.7508 932.373 36.0905 935.047 Q32.3984 937.689 32.3984 942.335 Q32.3984 946.982 36.0905 949.656 Q39.7508 952.298 46.212 952.298 Q52.6732 952.298 56.3653 949.656 Q60.0256 946.982 60.0256 942.335 Q60.0256 937.689 56.3653 935.047 Q52.6732 932.373 46.212 932.373 Z\" fill=\"#000000\" fill-rule=\"evenodd\" fill-opacity=\"1\" /><path clip-path=\"url(#clip720)\" d=\"M 0 0 M28.3562 920.151 L28.3562 914.295 L64.0042 914.295 L64.0042 920.151 L28.3562 920.151 M14.479 920.151 L14.479 914.295 L21.895 914.295 L21.895 920.151 L14.479 920.151 Z\" fill=\"#000000\" fill-rule=\"evenodd\" fill-opacity=\"1\" /><path clip-path=\"url(#clip720)\" d=\"M 0 0 M29.4065 885.426 L34.9447 885.426 Q33.6716 887.909 33.035 890.582 Q32.3984 893.256 32.3984 896.12 Q32.3984 900.481 33.7352 902.677 Q35.072 904.841 37.7456 904.841 Q39.7826 904.841 40.9603 903.282 Q42.1061 901.722 43.1565 897.012 L43.6021 895.006 Q44.9389 888.768 47.3897 886.158 Q49.8086 883.516 54.1691 883.516 Q59.1344 883.516 62.0308 887.463 Q64.9272 891.378 64.9272 898.253 Q64.9272 901.118 64.3543 904.237 Q63.8132 907.324 62.6992 910.762 L56.6518 910.762 Q58.3387 907.515 59.198 904.364 Q60.0256 901.213 60.0256 898.126 Q60.0256 893.988 58.6251 891.76 Q57.1929 889.532 54.6147 889.532 Q52.2276 889.532 50.9545 891.155 Q49.6813 892.747 48.5037 898.189 L48.0262 900.226 Q46.8804 905.669 44.5251 908.088 Q42.138 910.507 38.0002 910.507 Q32.9713 910.507 30.2341 906.942 Q27.4968 903.377 27.4968 896.821 Q27.4968 893.574 27.9743 890.71 Q28.4517 887.845 29.4065 885.426 Z\" fill=\"#000000\" fill-rule=\"evenodd\" fill-opacity=\"1\" /><path clip-path=\"url(#clip720)\" d=\"M 0 0 M32.4621 863.56 Q32.4621 868.27 36.1542 871.008 Q39.8145 873.745 46.212 873.745 Q52.6095 873.745 56.3017 871.04 Q59.9619 868.302 59.9619 863.56 Q59.9619 858.881 56.2698 856.144 Q52.5777 853.407 46.212 853.407 Q39.8781 853.407 36.186 856.144 Q32.4621 858.881 32.4621 863.56 M27.4968 863.56 Q27.4968 855.921 32.4621 851.561 Q37.4273 847.2 46.212 847.2 Q54.9649 847.2 59.9619 851.561 Q64.9272 855.921 64.9272 863.56 Q64.9272 871.231 59.9619 875.591 Q54.9649 879.92 46.212 879.92 Q37.4273 879.92 32.4621 875.591 Q27.4968 871.231 27.4968 863.56 Z\" fill=\"#000000\" fill-rule=\"evenodd\" fill-opacity=\"1\" /><path clip-path=\"url(#clip720)\" d=\"M 0 0 M33.7671 817.599 L14.479 817.599 L14.479 811.743 L64.0042 811.743 L64.0042 817.599 L58.657 817.599 Q61.8398 819.446 63.3994 822.278 Q64.9272 825.079 64.9272 829.026 Q64.9272 835.487 59.771 839.561 Q54.6147 843.603 46.212 843.603 Q37.8093 843.603 32.6531 839.561 Q27.4968 835.487 27.4968 829.026 Q27.4968 825.079 29.0564 822.278 Q30.5842 819.446 33.7671 817.599 M46.212 837.556 Q52.6732 837.556 56.3653 834.914 Q60.0256 832.241 60.0256 827.594 Q60.0256 822.947 56.3653 820.273 Q52.6732 817.599 46.212 817.599 Q39.7508 817.599 36.0905 820.273 Q32.3984 822.947 32.3984 827.594 Q32.3984 832.241 36.0905 834.914 Q39.7508 837.556 46.212 837.556 Z\" fill=\"#000000\" fill-rule=\"evenodd\" fill-opacity=\"1\" /><path clip-path=\"url(#clip720)\" d=\"M 0 0 M44.7161 775.108 L47.5806 775.108 L47.5806 802.035 Q53.6281 801.653 56.8109 798.407 Q59.9619 795.129 59.9619 789.304 Q59.9619 785.93 59.1344 782.779 Q58.3069 779.596 56.6518 776.477 L62.1899 776.477 Q63.5267 779.628 64.227 782.938 Q64.9272 786.248 64.9272 789.654 Q64.9272 798.184 59.9619 803.181 Q54.9967 808.146 46.5303 808.146 Q37.7774 808.146 32.6531 803.436 Q27.4968 798.693 27.4968 790.673 Q27.4968 783.479 32.1438 779.31 Q36.7589 775.108 44.7161 775.108 M42.9973 780.965 Q38.1912 781.028 35.3266 783.67 Q32.4621 786.28 32.4621 790.609 Q32.4621 795.51 35.2312 798.471 Q38.0002 801.399 43.0292 801.844 L42.9973 780.965 Z\" fill=\"#000000\" fill-rule=\"evenodd\" fill-opacity=\"1\" /><path clip-path=\"url(#clip720)\" d=\"M 0 0 M16.4842 747.99 L16.4842 741.561 L58.5933 741.561 L58.5933 718.422 L64.0042 718.422 L64.0042 747.99 L16.4842 747.99 Z\" fill=\"#000000\" fill-rule=\"evenodd\" fill-opacity=\"1\" /><path clip-path=\"url(#clip720)\" d=\"M 0 0 M44.7161 682.933 L47.5806 682.933 L47.5806 709.86 Q53.6281 709.478 56.8109 706.231 Q59.9619 702.953 59.9619 697.128 Q59.9619 693.755 59.1344 690.604 Q58.3069 687.421 56.6518 684.302 L62.1899 684.302 Q63.5267 687.453 64.227 690.763 Q64.9272 694.073 64.9272 697.479 Q64.9272 706.009 59.9619 711.006 Q54.9967 715.971 46.5303 715.971 Q37.7774 715.971 32.6531 711.26 Q27.4968 706.518 27.4968 698.497 Q27.4968 691.304 32.1438 687.134 Q36.7589 682.933 44.7161 682.933 M42.9973 688.789 Q38.1912 688.853 35.3266 691.495 Q32.4621 694.105 32.4621 698.433 Q32.4621 703.335 35.2312 706.295 Q38.0002 709.223 43.0292 709.669 L42.9973 688.789 Z\" fill=\"#000000\" fill-rule=\"evenodd\" fill-opacity=\"1\" /><path clip-path=\"url(#clip720)\" d=\"M 0 0 M42.4881 647.158 L64.0042 647.158 L64.0042 653.014 L42.679 653.014 Q37.6183 653.014 35.1038 654.987 Q32.5894 656.961 32.5894 660.908 Q32.5894 665.65 35.6131 668.387 Q38.6368 671.125 43.8567 671.125 L64.0042 671.125 L64.0042 677.013 L28.3562 677.013 L28.3562 671.125 L33.8944 671.125 Q30.6797 669.024 29.0883 666.191 Q27.4968 663.327 27.4968 659.603 Q27.4968 653.46 31.3163 650.309 Q35.1038 647.158 42.4881 647.158 Z\" fill=\"#000000\" fill-rule=\"evenodd\" fill-opacity=\"1\" /><path clip-path=\"url(#clip720)\" d=\"M 0 0 M45.7664 617.557 Q39.4007 617.557 35.8996 620.199 Q32.3984 622.809 32.3984 627.551 Q32.3984 632.262 35.8996 634.904 Q39.4007 637.514 45.7664 637.514 Q52.1003 637.514 55.6014 634.904 Q59.1026 632.262 59.1026 627.551 Q59.1026 622.809 55.6014 620.199 Q52.1003 617.557 45.7664 617.557 M59.58 611.701 Q68.683 611.701 73.1071 615.743 Q77.5631 619.785 77.5631 628.124 Q77.5631 631.212 77.0857 633.949 Q76.6401 636.686 75.6852 639.264 L69.9879 639.264 Q71.3884 636.686 72.0568 634.172 Q72.7252 631.657 72.7252 629.047 Q72.7252 623.286 69.7015 620.422 Q66.7096 617.557 60.6303 617.557 L57.7339 617.557 Q60.885 619.371 62.4446 622.204 Q64.0042 625.037 64.0042 628.984 Q64.0042 635.54 59.0071 639.551 Q54.01 643.561 45.7664 643.561 Q37.491 643.561 32.4939 639.551 Q27.4968 635.54 27.4968 628.984 Q27.4968 625.037 29.0564 622.204 Q30.616 619.371 33.7671 617.557 L28.3562 617.557 L28.3562 611.701 L59.58 611.701 Z\" fill=\"#000000\" fill-rule=\"evenodd\" fill-opacity=\"1\" /><path clip-path=\"url(#clip720)\" d=\"M 0 0 M18.2347 599.765 L28.3562 599.765 L28.3562 587.702 L32.9077 587.702 L32.9077 599.765 L52.2594 599.765 Q56.6199 599.765 57.8613 598.587 Q59.1026 597.378 59.1026 593.718 L59.1026 587.702 L64.0042 587.702 L64.0042 593.718 Q64.0042 600.497 61.4897 603.075 Q58.9434 605.653 52.2594 605.653 L32.9077 605.653 L32.9077 609.95 L28.3562 609.95 L28.3562 605.653 L18.2347 605.653 L18.2347 599.765 Z\" fill=\"#000000\" fill-rule=\"evenodd\" fill-opacity=\"1\" /><path clip-path=\"url(#clip720)\" d=\"M 0 0 M42.4881 551.927 L64.0042 551.927 L64.0042 557.783 L42.679 557.783 Q37.6183 557.783 35.1038 559.757 Q32.5894 561.73 32.5894 565.677 Q32.5894 570.419 35.6131 573.156 Q38.6368 575.894 43.8567 575.894 L64.0042 575.894 L64.0042 581.782 L14.479 581.782 L14.479 575.894 L33.8944 575.894 Q30.6797 573.793 29.0883 570.96 Q27.4968 568.096 27.4968 564.372 Q27.4968 558.229 31.3163 555.078 Q35.1038 551.927 42.4881 551.927 Z\" fill=\"#000000\" fill-rule=\"evenodd\" fill-opacity=\"1\" /><path clip-path=\"url(#clip720)\" d=\"M 0 0 M867.873 12.096 L906.113 12.096 L906.113 18.9825 L876.056 18.9825 L876.056 36.8875 L904.858 36.8875 L904.858 43.7741 L876.056 43.7741 L876.056 65.6895 L906.843 65.6895 L906.843 72.576 L867.873 72.576 L867.873 12.096 Z\" fill=\"#000000\" fill-rule=\"evenodd\" fill-opacity=\"1\" /><path clip-path=\"url(#clip720)\" d=\"M 0 0 M952.375 27.2059 L935.969 49.2833 L953.225 72.576 L944.435 72.576 L931.229 54.752 L918.023 72.576 L909.233 72.576 L926.854 48.8377 L910.732 27.2059 L919.522 27.2059 L931.553 43.369 L943.584 27.2059 L952.375 27.2059 Z\" fill=\"#000000\" fill-rule=\"evenodd\" fill-opacity=\"1\" /><path clip-path=\"url(#clip720)\" d=\"M 0 0 M968.254 65.7705 L968.254 89.8329 L960.76 89.8329 L960.76 27.2059 L968.254 27.2059 L968.254 34.0924 Q970.604 30.0415 974.169 28.0971 Q977.774 26.1121 982.757 26.1121 Q991.02 26.1121 996.165 32.6746 Q1001.35 39.2371 1001.35 49.9314 Q1001.35 60.6258 996.165 67.1883 Q991.02 73.7508 982.757 73.7508 Q977.774 73.7508 974.169 71.8063 Q970.604 69.8214 968.254 65.7705 M993.613 49.9314 Q993.613 41.7081 990.21 37.0496 Q986.848 32.3505 980.934 32.3505 Q975.019 32.3505 971.617 37.0496 Q968.254 41.7081 968.254 49.9314 Q968.254 58.1548 971.617 62.8538 Q975.019 67.5124 980.934 67.5124 Q986.848 67.5124 990.21 62.8538 Q993.613 58.1548 993.613 49.9314 Z\" fill=\"#000000\" fill-rule=\"evenodd\" fill-opacity=\"1\" /><path clip-path=\"url(#clip720)\" d=\"M 0 0 M1009.17 9.54393 L1016.62 9.54393 L1016.62 72.576 L1009.17 72.576 L1009.17 9.54393 Z\" fill=\"#000000\" fill-rule=\"evenodd\" fill-opacity=\"1\" /><path clip-path=\"url(#clip720)\" d=\"M 0 0 M1042.02 32.4315 Q1036.03 32.4315 1032.54 37.1306 Q1029.06 41.7891 1029.06 49.9314 Q1029.06 58.0738 1032.5 62.7728 Q1035.99 67.4314 1042.02 67.4314 Q1047.98 67.4314 1051.46 62.7323 Q1054.94 58.0333 1054.94 49.9314 Q1054.94 41.8701 1051.46 37.1711 Q1047.98 32.4315 1042.02 32.4315 M1042.02 26.1121 Q1051.74 26.1121 1057.29 32.4315 Q1062.84 38.7509 1062.84 49.9314 Q1062.84 61.0714 1057.29 67.4314 Q1051.74 73.7508 1042.02 73.7508 Q1032.26 73.7508 1026.71 67.4314 Q1021.2 61.0714 1021.2 49.9314 Q1021.2 38.7509 1026.71 32.4315 Q1032.26 26.1121 1042.02 26.1121 Z\" fill=\"#000000\" fill-rule=\"evenodd\" fill-opacity=\"1\" /><path clip-path=\"url(#clip720)\" d=\"M 0 0 M1096.95 34.1734 Q1095.7 33.4443 1094.2 33.1202 Q1092.74 32.7556 1090.96 32.7556 Q1084.64 32.7556 1081.23 36.8875 Q1077.87 40.9789 1077.87 48.6757 L1077.87 72.576 L1070.38 72.576 L1070.38 27.2059 L1077.87 27.2059 L1077.87 34.2544 Q1080.22 30.1225 1083.99 28.1376 Q1087.76 26.1121 1093.14 26.1121 Q1093.91 26.1121 1094.85 26.2337 Q1095.78 26.3147 1096.91 26.5172 L1096.95 34.1734 Z\" fill=\"#000000\" fill-rule=\"evenodd\" fill-opacity=\"1\" /><path clip-path=\"url(#clip720)\" d=\"M 0 0 M1104.77 27.2059 L1112.22 27.2059 L1112.22 72.576 L1104.77 72.576 L1104.77 27.2059 M1104.77 9.54393 L1112.22 9.54393 L1112.22 18.9825 L1104.77 18.9825 L1104.77 9.54393 Z\" fill=\"#000000\" fill-rule=\"evenodd\" fill-opacity=\"1\" /><path clip-path=\"url(#clip720)\" d=\"M 0 0 M1157.76 45.1919 L1157.76 72.576 L1150.3 72.576 L1150.3 45.4349 Q1150.3 38.994 1147.79 35.7938 Q1145.28 32.5936 1140.26 32.5936 Q1134.22 32.5936 1130.74 36.4419 Q1127.25 40.2903 1127.25 46.9338 L1127.25 72.576 L1119.76 72.576 L1119.76 27.2059 L1127.25 27.2059 L1127.25 34.2544 Q1129.93 30.163 1133.53 28.1376 Q1137.18 26.1121 1141.92 26.1121 Q1149.73 26.1121 1153.75 30.9732 Q1157.76 35.7938 1157.76 45.1919 Z\" fill=\"#000000\" fill-rule=\"evenodd\" fill-opacity=\"1\" /><path clip-path=\"url(#clip720)\" d=\"M 0 0 M1195.43 49.3643 Q1195.43 41.2625 1192.07 36.8065 Q1188.75 32.3505 1182.71 32.3505 Q1176.71 32.3505 1173.35 36.8065 Q1170.03 41.2625 1170.03 49.3643 Q1170.03 57.4256 1173.35 61.8816 Q1176.71 66.3376 1182.71 66.3376 Q1188.75 66.3376 1192.07 61.8816 Q1195.43 57.4256 1195.43 49.3643 M1202.88 66.9452 Q1202.88 78.5308 1197.74 84.1616 Q1192.59 89.8329 1181.98 89.8329 Q1178.05 89.8329 1174.57 89.2252 Q1171.08 88.6581 1167.8 87.4428 L1167.8 80.1917 Q1171.08 81.9741 1174.28 82.8248 Q1177.48 83.6755 1180.81 83.6755 Q1188.14 83.6755 1191.78 79.8271 Q1195.43 76.0193 1195.43 68.282 L1195.43 64.5957 Q1193.12 68.6061 1189.51 70.5911 Q1185.91 72.576 1180.89 72.576 Q1172.54 72.576 1167.44 66.2161 Q1162.33 59.8562 1162.33 49.3643 Q1162.33 38.832 1167.44 32.472 Q1172.54 26.1121 1180.89 26.1121 Q1185.91 26.1121 1189.51 28.0971 Q1193.12 30.082 1195.43 34.0924 L1195.43 27.2059 L1202.88 27.2059 L1202.88 66.9452 Z\" fill=\"#000000\" fill-rule=\"evenodd\" fill-opacity=\"1\" /><path clip-path=\"url(#clip720)\" d=\"M 0 0 M1245.58 18.8205 L1245.58 41.5461 L1255.87 41.5461 Q1261.58 41.5461 1264.7 38.5889 Q1267.82 35.6318 1267.82 30.163 Q1267.82 24.7348 1264.7 21.7777 Q1261.58 18.8205 1255.87 18.8205 L1245.58 18.8205 M1237.4 12.096 L1255.87 12.096 Q1266.04 12.096 1271.22 16.714 Q1276.45 21.2916 1276.45 30.163 Q1276.45 39.1155 1271.22 43.6931 Q1266.04 48.2706 1255.87 48.2706 L1245.58 48.2706 L1245.58 72.576 L1237.4 72.576 L1237.4 12.096 Z\" fill=\"#000000\" fill-rule=\"evenodd\" fill-opacity=\"1\" /><path clip-path=\"url(#clip720)\" d=\"M 0 0 M1298.89 32.4315 Q1292.89 32.4315 1289.41 37.1306 Q1285.93 41.7891 1285.93 49.9314 Q1285.93 58.0738 1289.37 62.7728 Q1292.85 67.4314 1298.89 67.4314 Q1304.84 67.4314 1308.33 62.7323 Q1311.81 58.0333 1311.81 49.9314 Q1311.81 41.8701 1308.33 37.1711 Q1304.84 32.4315 1298.89 32.4315 M1298.89 26.1121 Q1308.61 26.1121 1314.16 32.4315 Q1319.71 38.7509 1319.71 49.9314 Q1319.71 61.0714 1314.16 67.4314 Q1308.61 73.7508 1298.89 73.7508 Q1289.13 73.7508 1283.58 67.4314 Q1278.07 61.0714 1278.07 49.9314 Q1278.07 38.7509 1283.58 32.4315 Q1289.13 26.1121 1298.89 26.1121 Z\" fill=\"#000000\" fill-rule=\"evenodd\" fill-opacity=\"1\" /><path clip-path=\"url(#clip720)\" d=\"M 0 0 M1356.45 28.5427 L1356.45 35.5912 Q1353.29 33.9709 1349.89 33.1607 Q1346.49 32.3505 1342.84 32.3505 Q1337.29 32.3505 1334.5 34.0519 Q1331.74 35.7533 1331.74 39.156 Q1331.74 41.7486 1333.73 43.2475 Q1335.71 44.7058 1341.71 46.0426 L1344.26 46.6097 Q1352.2 48.3111 1355.52 51.4303 Q1358.88 54.509 1358.88 60.0587 Q1358.88 66.3781 1353.86 70.0644 Q1348.88 73.7508 1340.13 73.7508 Q1336.48 73.7508 1332.51 73.0216 Q1328.58 72.3329 1324.21 70.9151 L1324.21 63.2184 Q1328.34 65.3654 1332.35 66.4591 Q1336.36 67.5124 1340.29 67.5124 Q1345.56 67.5124 1348.39 65.73 Q1351.23 63.9071 1351.23 60.6258 Q1351.23 57.5877 1349.16 55.9673 Q1347.14 54.3469 1340.21 52.8481 L1337.62 52.2405 Q1330.69 50.7821 1327.61 47.7845 Q1324.53 44.7463 1324.53 39.4801 Q1324.53 33.0797 1329.07 29.5959 Q1333.61 26.1121 1341.95 26.1121 Q1346.08 26.1121 1349.73 26.7198 Q1353.37 27.3274 1356.45 28.5427 Z\" fill=\"#000000\" fill-rule=\"evenodd\" fill-opacity=\"1\" /><path clip-path=\"url(#clip720)\" d=\"M 0 0 M1366.7 27.2059 L1374.15 27.2059 L1374.15 72.576 L1366.7 72.576 L1366.7 27.2059 M1366.7 9.54393 L1374.15 9.54393 L1374.15 18.9825 L1366.7 18.9825 L1366.7 9.54393 Z\" fill=\"#000000\" fill-rule=\"evenodd\" fill-opacity=\"1\" /><path clip-path=\"url(#clip720)\" d=\"M 0 0 M1389.35 14.324 L1389.35 27.2059 L1404.7 27.2059 L1404.7 32.9987 L1389.35 32.9987 L1389.35 57.6282 Q1389.35 63.1779 1390.84 64.7578 Q1392.38 66.3376 1397.04 66.3376 L1404.7 66.3376 L1404.7 72.576 L1397.04 72.576 Q1388.41 72.576 1385.13 69.3758 Q1381.85 66.1351 1381.85 57.6282 L1381.85 32.9987 L1376.38 32.9987 L1376.38 27.2059 L1381.85 27.2059 L1381.85 14.324 L1389.35 14.324 Z\" fill=\"#000000\" fill-rule=\"evenodd\" fill-opacity=\"1\" /><path clip-path=\"url(#clip720)\" d=\"M 0 0 M1412.52 27.2059 L1419.97 27.2059 L1419.97 72.576 L1412.52 72.576 L1412.52 27.2059 M1412.52 9.54393 L1419.97 9.54393 L1419.97 18.9825 L1412.52 18.9825 L1412.52 9.54393 Z\" fill=\"#000000\" fill-rule=\"evenodd\" fill-opacity=\"1\" /><path clip-path=\"url(#clip720)\" d=\"M 0 0 M1445.37 32.4315 Q1439.37 32.4315 1435.89 37.1306 Q1432.41 41.7891 1432.41 49.9314 Q1432.41 58.0738 1435.85 62.7728 Q1439.33 67.4314 1445.37 67.4314 Q1451.32 67.4314 1454.81 62.7323 Q1458.29 58.0333 1458.29 49.9314 Q1458.29 41.8701 1454.81 37.1711 Q1451.32 32.4315 1445.37 32.4315 M1445.37 26.1121 Q1455.09 26.1121 1460.64 32.4315 Q1466.19 38.7509 1466.19 49.9314 Q1466.19 61.0714 1460.64 67.4314 Q1455.09 73.7508 1445.37 73.7508 Q1435.61 73.7508 1430.06 67.4314 Q1424.55 61.0714 1424.55 49.9314 Q1424.55 38.7509 1430.06 32.4315 Q1435.61 26.1121 1445.37 26.1121 Z\" fill=\"#000000\" fill-rule=\"evenodd\" fill-opacity=\"1\" /><path clip-path=\"url(#clip720)\" d=\"M 0 0 M1511.72 45.1919 L1511.72 72.576 L1504.27 72.576 L1504.27 45.4349 Q1504.27 38.994 1501.76 35.7938 Q1499.25 32.5936 1494.22 32.5936 Q1488.19 32.5936 1484.7 36.4419 Q1481.22 40.2903 1481.22 46.9338 L1481.22 72.576 L1473.73 72.576 L1473.73 27.2059 L1481.22 27.2059 L1481.22 34.2544 Q1483.89 30.163 1487.5 28.1376 Q1491.15 26.1121 1495.88 26.1121 Q1503.7 26.1121 1507.71 30.9732 Q1511.72 35.7938 1511.72 45.1919 Z\" fill=\"#000000\" fill-rule=\"evenodd\" fill-opacity=\"1\" /><path clip-path=\"url(#clip720)\" d=\"M 0 0 M1558.27 40.0472 Q1554.58 43.3285 1552.84 46.6097 Q1551.14 49.8504 1551.14 53.4152 Q1551.14 59.3295 1555.43 63.2589 Q1559.73 67.1883 1566.21 67.1883 Q1570.06 67.1883 1573.42 65.9325 Q1576.78 64.6362 1579.74 62.0436 L1558.27 40.0472 M1563.98 35.5102 L1584.56 56.5749 Q1586.95 52.9696 1588.29 48.8782 Q1589.62 44.7463 1589.87 40.1283 L1597.4 40.1283 Q1596.91 45.4755 1594.81 50.7011 Q1592.7 55.9268 1588.93 61.0309 L1600.24 72.576 L1590.03 72.576 L1584.23 66.6212 Q1580.02 70.2265 1575.4 72.0089 Q1570.79 73.7508 1565.48 73.7508 Q1555.72 73.7508 1549.52 68.201 Q1543.32 62.6108 1543.32 53.9013 Q1543.32 48.7162 1546.03 44.1792 Q1548.75 39.6016 1554.18 35.5912 Q1552.23 33.0392 1551.22 30.5276 Q1550.21 27.9755 1550.21 25.545 Q1550.21 18.9825 1554.7 15.0127 Q1559.2 11.0023 1566.65 11.0023 Q1570.02 11.0023 1573.34 11.7314 Q1576.7 12.4606 1580.14 13.9189 L1580.14 21.2916 Q1576.62 19.3876 1573.42 18.4154 Q1570.22 17.4027 1567.46 17.4027 Q1563.21 17.4027 1560.54 19.6712 Q1557.9 21.8992 1557.9 25.464 Q1557.9 27.5299 1559.08 29.6364 Q1560.29 31.7024 1563.98 35.5102 Z\" fill=\"#000000\" fill-rule=\"evenodd\" fill-opacity=\"1\" /><path clip-path=\"url(#clip720)\" d=\"M 0 0 M1650.35 72.576 L1627.26 12.096 L1635.8 12.096 L1654.96 63.0159 L1674.16 12.096 L1682.67 12.096 L1659.62 72.576 L1650.35 72.576 Z\" fill=\"#000000\" fill-rule=\"evenodd\" fill-opacity=\"1\" /><path clip-path=\"url(#clip720)\" d=\"M 0 0 M1722.86 48.0275 L1722.86 51.6733 L1688.59 51.6733 Q1689.07 59.3701 1693.2 63.421 Q1697.38 67.4314 1704.79 67.4314 Q1709.08 67.4314 1713.09 66.3781 Q1717.15 65.3249 1721.11 63.2184 L1721.11 70.267 Q1717.1 71.9684 1712.89 72.8596 Q1708.68 73.7508 1704.34 73.7508 Q1693.49 73.7508 1687.13 67.4314 Q1680.81 61.1119 1680.81 50.3365 Q1680.81 39.1965 1686.8 32.6746 Q1692.84 26.1121 1703.05 26.1121 Q1712.2 26.1121 1717.51 32.0264 Q1722.86 37.9003 1722.86 48.0275 M1715.4 45.84 Q1715.32 39.7232 1711.96 36.0774 Q1708.64 32.4315 1703.13 32.4315 Q1696.89 32.4315 1693.12 35.9558 Q1689.4 39.4801 1688.83 45.8805 L1715.4 45.84 Z\" fill=\"#000000\" fill-rule=\"evenodd\" fill-opacity=\"1\" /><path clip-path=\"url(#clip720)\" d=\"M 0 0 M1730.68 9.54393 L1738.13 9.54393 L1738.13 72.576 L1730.68 72.576 L1730.68 9.54393 Z\" fill=\"#000000\" fill-rule=\"evenodd\" fill-opacity=\"1\" /><polyline clip-path=\"url(#clip722)\" style=\"stroke:#009af9; stroke-width:4; stroke-opacity:1; fill:none\" points=\"\n",
       "  312.666,239.688 353.088,386.172 393.509,475.632 433.931,333.916 474.353,399.172 514.775,361.22 555.197,323.931 595.619,423.355 636.041,332.526 676.462,324.808 \n",
       "  716.884,402.615 757.306,278.431 797.728,236.331 838.15,283.349 878.572,324.273 918.993,321.579 959.415,352.646 999.837,284.098 1040.26,325.813 1080.68,242.062 \n",
       "  1121.1,327.138 1161.52,243.195 1201.95,364.962 1242.37,328.464 1282.79,286.407 1323.21,325.107 1363.63,284.204 1404.06,241.655 1444.48,283.649 1484.9,283.52 \n",
       "  1525.32,326.561 1565.74,326.39 1606.16,320.852 1646.59,326.198 1687.01,236.738 1727.43,370.949 1767.85,284.333 1808.27,327.823 1848.7,194.167 1889.12,234.343 \n",
       "  1929.54,314.117 1969.96,285.979 2010.38,160.256 2050.8,288.203 2091.23,287.989 2131.65,245.44 2172.07,202.827 2212.49,245.354 2252.91,202.741 2293.34,160.256 \n",
       "  \n",
       "  \"/>\n",
       "<polyline clip-path=\"url(#clip722)\" style=\"stroke:#e26f46; stroke-width:4; stroke-opacity:1; fill:none\" points=\"\n",
       "  312.666,454.7 353.088,904.266 393.509,1124.32 433.931,1259.2 474.353,1252.87 514.775,1284.41 555.197,1314.75 595.619,1304.29 636.041,1332.3 676.462,1301.53 \n",
       "  716.884,1303.86 757.306,1336.41 797.728,1356.53 838.15,1329.56 878.572,1329.67 918.993,1351.69 959.415,1366.9 999.837,1376.84 1040.26,1362.13 1080.68,1365.89 \n",
       "  1121.1,1364.91 1161.52,1358 1201.95,1377.5 1242.37,1372.93 1282.79,1356.53 1323.21,1379.47 1363.63,1386.4 1404.06,1382.16 1444.48,1383.38 1484.9,1376.41 \n",
       "  1525.32,1381.63 1565.74,1373.31 1606.16,1371.71 1646.59,1366.34 1687.01,1369.12 1727.43,1367.82 1767.85,1364.69 1808.27,1369.93 1848.7,1371 1889.12,1385.48 \n",
       "  1929.54,1375.92 1969.96,1380.37 2010.38,1372.18 2050.8,1383.72 2091.23,1364.65 2131.65,1380.52 2172.07,1377.33 2212.49,1378.38 2252.91,1381.24 2293.34,1377.74 \n",
       "  \n",
       "  \"/>\n",
       "<path clip-path=\"url(#clip720)\" d=\"\n",
       "M323.229 833.806 L1130.83 833.806 L1130.83 652.366 L323.229 652.366  Z\n",
       "  \" fill=\"#ffffff\" fill-rule=\"evenodd\" fill-opacity=\"1\"/>\n",
       "<polyline clip-path=\"url(#clip720)\" style=\"stroke:#000000; stroke-width:4; stroke-opacity:1; fill:none\" points=\"\n",
       "  323.229,833.806 1130.83,833.806 1130.83,652.366 323.229,652.366 323.229,833.806 \n",
       "  \"/>\n",
       "<polyline clip-path=\"url(#clip720)\" style=\"stroke:#009af9; stroke-width:4; stroke-opacity:1; fill:none\" points=\"\n",
       "  346.557,712.846 486.525,712.846 \n",
       "  \"/>\n",
       "<path clip-path=\"url(#clip720)\" d=\"M 0 0 M528.95 719.895 L528.95 704.2 L533.209 704.2 L533.209 719.733 Q533.209 723.413 534.644 725.265 Q536.079 727.094 538.95 727.094 Q542.399 727.094 544.389 724.895 Q546.403 722.695 546.403 718.899 L546.403 704.2 L550.662 704.2 L550.662 730.126 L546.403 730.126 L546.403 726.145 Q544.852 728.506 542.792 729.663 Q540.755 730.797 538.047 730.797 Q533.579 730.797 531.264 728.02 Q528.95 725.242 528.95 719.895 M539.667 703.575 L539.667 703.575 Z\" fill=\"#000000\" fill-rule=\"evenodd\" fill-opacity=\"1\" /><path clip-path=\"url(#clip720)\" d=\"M 0 0 M571.658 704.964 L571.658 708.992 Q569.852 708.066 567.908 707.603 Q565.963 707.14 563.88 707.14 Q560.709 707.14 559.112 708.112 Q557.537 709.084 557.537 711.029 Q557.537 712.51 558.672 713.367 Q559.806 714.2 563.232 714.964 L564.69 715.288 Q569.227 716.26 571.125 718.043 Q573.047 719.802 573.047 722.973 Q573.047 726.584 570.176 728.691 Q567.329 730.797 562.329 730.797 Q560.246 730.797 557.977 730.381 Q555.732 729.987 553.232 729.177 L553.232 724.779 Q555.593 726.006 557.885 726.631 Q560.176 727.232 562.422 727.232 Q565.431 727.232 567.051 726.214 Q568.672 725.172 568.672 723.297 Q568.672 721.561 567.491 720.635 Q566.334 719.709 562.375 718.853 L560.894 718.506 Q556.936 717.672 555.176 715.959 Q553.417 714.223 553.417 711.214 Q553.417 707.557 556.01 705.566 Q558.602 703.575 563.371 703.575 Q565.732 703.575 567.815 703.922 Q569.898 704.27 571.658 704.964 Z\" fill=\"#000000\" fill-rule=\"evenodd\" fill-opacity=\"1\" /><path clip-path=\"url(#clip720)\" d=\"M 0 0 M599.69 716.098 L599.69 718.182 L580.107 718.182 Q580.385 722.58 582.746 724.895 Q585.13 727.186 589.366 727.186 Q591.82 727.186 594.111 726.584 Q596.426 725.982 598.695 724.779 L598.695 728.807 Q596.403 729.779 593.996 730.288 Q591.588 730.797 589.111 730.797 Q582.908 730.797 579.273 727.186 Q575.662 723.575 575.662 717.418 Q575.662 711.052 579.088 707.325 Q582.537 703.575 588.371 703.575 Q593.602 703.575 596.634 706.955 Q599.69 710.311 599.69 716.098 M595.431 714.848 Q595.384 711.353 593.463 709.27 Q591.565 707.186 588.417 707.186 Q584.852 707.186 582.699 709.2 Q580.57 711.214 580.246 714.871 L595.431 714.848 Z\" fill=\"#000000\" fill-rule=\"evenodd\" fill-opacity=\"1\" /><path clip-path=\"url(#clip720)\" d=\"M 0 0 M623.857 737.996 L623.857 741.306 L599.227 741.306 L599.227 737.996 L623.857 737.996 Z\" fill=\"#000000\" fill-rule=\"evenodd\" fill-opacity=\"1\" /><path clip-path=\"url(#clip720)\" d=\"M 0 0 M650.5 716.098 L650.5 718.182 L630.917 718.182 Q631.194 722.58 633.556 724.895 Q635.94 727.186 640.176 727.186 Q642.63 727.186 644.921 726.584 Q647.236 725.982 649.505 724.779 L649.505 728.807 Q647.213 729.779 644.805 730.288 Q642.398 730.797 639.921 730.797 Q633.718 730.797 630.083 727.186 Q626.472 723.575 626.472 717.418 Q626.472 711.052 629.898 707.325 Q633.347 703.575 639.181 703.575 Q644.412 703.575 647.444 706.955 Q650.5 710.311 650.5 716.098 M646.241 714.848 Q646.194 711.353 644.273 709.27 Q642.375 707.186 639.227 707.186 Q635.662 707.186 633.509 709.2 Q631.38 711.214 631.056 714.871 L646.241 714.848 Z\" fill=\"#000000\" fill-rule=\"evenodd\" fill-opacity=\"1\" /><path clip-path=\"url(#clip720)\" d=\"M 0 0 M675.685 704.2 L666.31 716.816 L676.171 730.126 L671.148 730.126 L663.602 719.941 L656.055 730.126 L651.032 730.126 L661.102 716.561 L651.889 704.2 L656.912 704.2 L663.787 713.436 L670.662 704.2 L675.685 704.2 Z\" fill=\"#000000\" fill-rule=\"evenodd\" fill-opacity=\"1\" /><path clip-path=\"url(#clip720)\" d=\"M 0 0 M684.852 696.839 L684.852 704.2 L693.625 704.2 L693.625 707.51 L684.852 707.51 L684.852 721.584 Q684.852 724.756 685.708 725.658 Q686.588 726.561 689.25 726.561 L693.625 726.561 L693.625 730.126 L689.25 730.126 Q684.319 730.126 682.444 728.297 Q680.569 726.445 680.569 721.584 L680.569 707.51 L677.444 707.51 L677.444 704.2 L680.569 704.2 L680.569 696.839 L684.852 696.839 Z\" fill=\"#000000\" fill-rule=\"evenodd\" fill-opacity=\"1\" /><path clip-path=\"url(#clip720)\" d=\"M 0 0 M720.268 716.098 L720.268 718.182 L700.685 718.182 Q700.963 722.58 703.324 724.895 Q705.708 727.186 709.944 727.186 Q712.398 727.186 714.689 726.584 Q717.004 725.982 719.273 724.779 L719.273 728.807 Q716.981 729.779 714.574 730.288 Q712.166 730.797 709.689 730.797 Q703.486 730.797 699.851 727.186 Q696.24 723.575 696.24 717.418 Q696.24 711.052 699.666 707.325 Q703.115 703.575 708.949 703.575 Q714.18 703.575 717.213 706.955 Q720.268 710.311 720.268 716.098 M716.009 714.848 Q715.963 711.353 714.041 709.27 Q712.143 707.186 708.995 707.186 Q705.43 707.186 703.277 709.2 Q701.148 711.214 700.824 714.871 L716.009 714.848 Z\" fill=\"#000000\" fill-rule=\"evenodd\" fill-opacity=\"1\" /><path clip-path=\"url(#clip720)\" d=\"M 0 0 M739.759 708.182 Q739.041 707.765 738.185 707.58 Q737.351 707.371 736.333 707.371 Q732.722 707.371 730.777 709.733 Q728.856 712.071 728.856 716.469 L728.856 730.126 L724.574 730.126 L724.574 704.2 L728.856 704.2 L728.856 708.228 Q730.199 705.867 732.351 704.733 Q734.504 703.575 737.583 703.575 Q738.023 703.575 738.555 703.645 Q739.087 703.691 739.736 703.807 L739.759 708.182 Z\" fill=\"#000000\" fill-rule=\"evenodd\" fill-opacity=\"1\" /><path clip-path=\"url(#clip720)\" d=\"M 0 0 M764.944 714.478 L764.944 730.126 L760.685 730.126 L760.685 714.617 Q760.685 710.936 759.249 709.108 Q757.814 707.279 754.944 707.279 Q751.495 707.279 749.504 709.478 Q747.513 711.677 747.513 715.473 L747.513 730.126 L743.231 730.126 L743.231 704.2 L747.513 704.2 L747.513 708.228 Q749.041 705.89 751.101 704.733 Q753.185 703.575 755.893 703.575 Q760.36 703.575 762.652 706.353 Q764.944 709.108 764.944 714.478 Z\" fill=\"#000000\" fill-rule=\"evenodd\" fill-opacity=\"1\" /><path clip-path=\"url(#clip720)\" d=\"M 0 0 M781.194 717.094 Q776.032 717.094 774.041 718.274 Q772.05 719.455 772.05 722.302 Q772.05 724.57 773.532 725.913 Q775.036 727.232 777.606 727.232 Q781.147 727.232 783.277 724.732 Q785.43 722.209 785.43 718.043 L785.43 717.094 L781.194 717.094 M789.689 715.334 L789.689 730.126 L785.43 730.126 L785.43 726.191 Q783.971 728.552 781.796 729.686 Q779.62 730.797 776.471 730.797 Q772.49 730.797 770.129 728.575 Q767.791 726.33 767.791 722.58 Q767.791 718.205 770.708 715.983 Q773.647 713.76 779.458 713.76 L785.43 713.76 L785.43 713.344 Q785.43 710.404 783.485 708.807 Q781.564 707.186 778.069 707.186 Q775.846 707.186 773.74 707.719 Q771.634 708.251 769.689 709.316 L769.689 705.381 Q772.027 704.478 774.226 704.038 Q776.425 703.575 778.508 703.575 Q784.133 703.575 786.911 706.492 Q789.689 709.409 789.689 715.334 Z\" fill=\"#000000\" fill-rule=\"evenodd\" fill-opacity=\"1\" /><path clip-path=\"url(#clip720)\" d=\"M 0 0 M794.157 694.108 L798.416 694.108 L798.416 730.126 L794.157 730.126 L794.157 694.108 Z\" fill=\"#000000\" fill-rule=\"evenodd\" fill-opacity=\"1\" /><path clip-path=\"url(#clip720)\" d=\"M 0 0 M822.582 737.996 L822.582 741.306 L797.953 741.306 L797.953 737.996 L822.582 737.996 Z\" fill=\"#000000\" fill-rule=\"evenodd\" fill-opacity=\"1\" /><path clip-path=\"url(#clip720)\" d=\"M 0 0 M842.073 708.182 Q841.355 707.765 840.499 707.58 Q839.666 707.371 838.647 707.371 Q835.036 707.371 833.092 709.733 Q831.17 712.071 831.17 716.469 L831.17 730.126 L826.888 730.126 L826.888 704.2 L831.17 704.2 L831.17 708.228 Q832.513 705.867 834.666 704.733 Q836.818 703.575 839.897 703.575 Q840.337 703.575 840.869 703.645 Q841.402 703.691 842.05 703.807 L842.073 708.182 Z\" fill=\"#000000\" fill-rule=\"evenodd\" fill-opacity=\"1\" /><path clip-path=\"url(#clip720)\" d=\"M 0 0 M867.675 716.098 L867.675 718.182 L848.091 718.182 Q848.369 722.58 850.73 724.895 Q853.115 727.186 857.351 727.186 Q859.804 727.186 862.096 726.584 Q864.411 725.982 866.679 724.779 L866.679 728.807 Q864.388 729.779 861.98 730.288 Q859.573 730.797 857.096 730.797 Q850.892 730.797 847.258 727.186 Q843.647 723.575 843.647 717.418 Q843.647 711.052 847.073 707.325 Q850.522 703.575 856.355 703.575 Q861.587 703.575 864.619 706.955 Q867.675 710.311 867.675 716.098 M863.415 714.848 Q863.369 711.353 861.448 709.27 Q859.55 707.186 856.402 707.186 Q852.837 707.186 850.684 709.2 Q848.554 711.214 848.23 714.871 L863.415 714.848 Z\" fill=\"#000000\" fill-rule=\"evenodd\" fill-opacity=\"1\" /><path clip-path=\"url(#clip720)\" d=\"M 0 0 M869.665 704.2 L873.925 704.2 L879.249 724.432 L884.55 704.2 L889.573 704.2 L894.897 724.432 L900.198 704.2 L904.457 704.2 L897.675 730.126 L892.651 730.126 L887.073 708.876 L881.471 730.126 L876.448 730.126 L869.665 704.2 Z\" fill=\"#000000\" fill-rule=\"evenodd\" fill-opacity=\"1\" /><path clip-path=\"url(#clip720)\" d=\"M 0 0 M920.707 717.094 Q915.545 717.094 913.554 718.274 Q911.563 719.455 911.563 722.302 Q911.563 724.57 913.045 725.913 Q914.549 727.232 917.119 727.232 Q920.661 727.232 922.79 724.732 Q924.943 722.209 924.943 718.043 L924.943 717.094 L920.707 717.094 M929.202 715.334 L929.202 730.126 L924.943 730.126 L924.943 726.191 Q923.485 728.552 921.309 729.686 Q919.133 730.797 915.985 730.797 Q912.003 730.797 909.642 728.575 Q907.304 726.33 907.304 722.58 Q907.304 718.205 910.221 715.983 Q913.161 713.76 918.971 713.76 L924.943 713.76 L924.943 713.344 Q924.943 710.404 922.998 708.807 Q921.077 707.186 917.582 707.186 Q915.36 707.186 913.253 707.719 Q911.147 708.251 909.202 709.316 L909.202 705.381 Q911.54 704.478 913.739 704.038 Q915.938 703.575 918.022 703.575 Q923.647 703.575 926.424 706.492 Q929.202 709.409 929.202 715.334 Z\" fill=\"#000000\" fill-rule=\"evenodd\" fill-opacity=\"1\" /><path clip-path=\"url(#clip720)\" d=\"M 0 0 M948.693 708.182 Q947.975 707.765 947.119 707.58 Q946.285 707.371 945.267 707.371 Q941.656 707.371 939.711 709.733 Q937.79 712.071 937.79 716.469 L937.79 730.126 L933.508 730.126 L933.508 704.2 L937.79 704.2 L937.79 708.228 Q939.133 705.867 941.285 704.733 Q943.438 703.575 946.517 703.575 Q946.957 703.575 947.489 703.645 Q948.021 703.691 948.67 703.807 L948.693 708.182 Z\" fill=\"#000000\" fill-rule=\"evenodd\" fill-opacity=\"1\" /><path clip-path=\"url(#clip720)\" d=\"M 0 0 M969.387 708.135 L969.387 694.108 L973.646 694.108 L973.646 730.126 L969.387 730.126 L969.387 726.237 Q968.045 728.552 965.984 729.686 Q963.947 730.797 961.077 730.797 Q956.378 730.797 953.415 727.047 Q950.475 723.297 950.475 717.186 Q950.475 711.075 953.415 707.325 Q956.378 703.575 961.077 703.575 Q963.947 703.575 965.984 704.709 Q968.045 705.821 969.387 708.135 M954.873 717.186 Q954.873 721.885 956.795 724.57 Q958.739 727.232 962.119 727.232 Q965.498 727.232 967.443 724.57 Q969.387 721.885 969.387 717.186 Q969.387 712.487 967.443 709.825 Q965.498 707.14 962.119 707.14 Q958.739 707.14 956.795 709.825 Q954.873 712.487 954.873 717.186 Z\" fill=\"#000000\" fill-rule=\"evenodd\" fill-opacity=\"1\" /><path clip-path=\"url(#clip720)\" d=\"M 0 0 M979.202 724.246 L984.086 724.246 L984.086 730.126 L979.202 730.126 L979.202 724.246 M979.202 705.612 L984.086 705.612 L984.086 711.492 L979.202 711.492 L979.202 705.612 Z\" fill=\"#000000\" fill-rule=\"evenodd\" fill-opacity=\"1\" /><path clip-path=\"url(#clip720)\" d=\"M 0 0 M1001.68 694.108 L1001.68 697.649 L997.605 697.649 Q995.313 697.649 994.41 698.575 Q993.53 699.501 993.53 701.909 L993.53 704.2 L1000.54 704.2 L1000.54 707.51 L993.53 707.51 L993.53 730.126 L989.248 730.126 L989.248 707.51 L985.174 707.51 L985.174 704.2 L989.248 704.2 L989.248 702.395 Q989.248 698.066 991.262 696.098 Q993.276 694.108 997.651 694.108 L1001.68 694.108 Z\" fill=\"#000000\" fill-rule=\"evenodd\" fill-opacity=\"1\" /><path clip-path=\"url(#clip720)\" d=\"M 0 0 M1017.93 717.094 Q1012.77 717.094 1010.78 718.274 Q1008.79 719.455 1008.79 722.302 Q1008.79 724.57 1010.27 725.913 Q1011.77 727.232 1014.34 727.232 Q1017.88 727.232 1020.01 724.732 Q1022.16 722.209 1022.16 718.043 L1022.16 717.094 L1017.93 717.094 M1026.42 715.334 L1026.42 730.126 L1022.16 730.126 L1022.16 726.191 Q1020.71 728.552 1018.53 729.686 Q1016.35 730.797 1013.21 730.797 Q1009.22 730.797 1006.86 728.575 Q1004.53 726.33 1004.53 722.58 Q1004.53 718.205 1007.44 715.983 Q1010.38 713.76 1016.19 713.76 L1022.16 713.76 L1022.16 713.344 Q1022.16 710.404 1020.22 708.807 Q1018.3 707.186 1014.8 707.186 Q1012.58 707.186 1010.47 707.719 Q1008.37 708.251 1006.42 709.316 L1006.42 705.381 Q1008.76 704.478 1010.96 704.038 Q1013.16 703.575 1015.24 703.575 Q1020.87 703.575 1023.65 706.492 Q1026.42 709.409 1026.42 715.334 Z\" fill=\"#000000\" fill-rule=\"evenodd\" fill-opacity=\"1\" /><path clip-path=\"url(#clip720)\" d=\"M 0 0 M1030.89 694.108 L1035.15 694.108 L1035.15 730.126 L1030.89 730.126 L1030.89 694.108 Z\" fill=\"#000000\" fill-rule=\"evenodd\" fill-opacity=\"1\" /><path clip-path=\"url(#clip720)\" d=\"M 0 0 M1056.15 704.964 L1056.15 708.992 Q1054.34 708.066 1052.4 707.603 Q1050.45 707.14 1048.37 707.14 Q1045.2 707.14 1043.6 708.112 Q1042.03 709.084 1042.03 711.029 Q1042.03 712.51 1043.16 713.367 Q1044.29 714.2 1047.72 714.964 L1049.18 715.288 Q1053.72 716.26 1055.61 718.043 Q1057.53 719.802 1057.53 722.973 Q1057.53 726.584 1054.66 728.691 Q1051.82 730.797 1046.82 730.797 Q1044.73 730.797 1042.47 730.381 Q1040.22 729.987 1037.72 729.177 L1037.72 724.779 Q1040.08 726.006 1042.37 726.631 Q1044.66 727.232 1046.91 727.232 Q1049.92 727.232 1051.54 726.214 Q1053.16 725.172 1053.16 723.297 Q1053.16 721.561 1051.98 720.635 Q1050.82 719.709 1046.86 718.853 L1045.38 718.506 Q1041.42 717.672 1039.66 715.959 Q1037.91 714.223 1037.91 711.214 Q1037.91 707.557 1040.5 705.566 Q1043.09 703.575 1047.86 703.575 Q1050.22 703.575 1052.3 703.922 Q1054.39 704.27 1056.15 704.964 Z\" fill=\"#000000\" fill-rule=\"evenodd\" fill-opacity=\"1\" /><path clip-path=\"url(#clip720)\" d=\"M 0 0 M1084.18 716.098 L1084.18 718.182 L1064.59 718.182 Q1064.87 722.58 1067.23 724.895 Q1069.62 727.186 1073.85 727.186 Q1076.31 727.186 1078.6 726.584 Q1080.91 725.982 1083.18 724.779 L1083.18 728.807 Q1080.89 729.779 1078.48 730.288 Q1076.08 730.797 1073.6 730.797 Q1067.4 730.797 1063.76 727.186 Q1060.15 723.575 1060.15 717.418 Q1060.15 711.052 1063.58 707.325 Q1067.03 703.575 1072.86 703.575 Q1078.09 703.575 1081.12 706.955 Q1084.18 710.311 1084.18 716.098 M1079.92 714.848 Q1079.87 711.353 1077.95 709.27 Q1076.05 707.186 1072.91 707.186 Q1069.34 707.186 1067.19 709.2 Q1065.06 711.214 1064.73 714.871 L1079.92 714.848 Z\" fill=\"#000000\" fill-rule=\"evenodd\" fill-opacity=\"1\" /><polyline clip-path=\"url(#clip720)\" style=\"stroke:#e26f46; stroke-width:4; stroke-opacity:1; fill:none\" points=\"\n",
       "  346.557,773.326 486.525,773.326 \n",
       "  \"/>\n",
       "<path clip-path=\"url(#clip720)\" d=\"M 0 0 M528.95 780.375 L528.95 764.68 L533.209 764.68 L533.209 780.213 Q533.209 783.893 534.644 785.745 Q536.079 787.574 538.95 787.574 Q542.399 787.574 544.389 785.375 Q546.403 783.175 546.403 779.379 L546.403 764.68 L550.662 764.68 L550.662 790.606 L546.403 790.606 L546.403 786.625 Q544.852 788.986 542.792 790.143 Q540.755 791.277 538.047 791.277 Q533.579 791.277 531.264 788.5 Q528.95 785.722 528.95 780.375 M539.667 764.055 L539.667 764.055 Z\" fill=\"#000000\" fill-rule=\"evenodd\" fill-opacity=\"1\" /><path clip-path=\"url(#clip720)\" d=\"M 0 0 M571.658 765.444 L571.658 769.472 Q569.852 768.546 567.908 768.083 Q565.963 767.62 563.88 767.62 Q560.709 767.62 559.112 768.592 Q557.537 769.564 557.537 771.509 Q557.537 772.99 558.672 773.847 Q559.806 774.68 563.232 775.444 L564.69 775.768 Q569.227 776.74 571.125 778.523 Q573.047 780.282 573.047 783.453 Q573.047 787.064 570.176 789.171 Q567.329 791.277 562.329 791.277 Q560.246 791.277 557.977 790.861 Q555.732 790.467 553.232 789.657 L553.232 785.259 Q555.593 786.486 557.885 787.111 Q560.176 787.712 562.422 787.712 Q565.431 787.712 567.051 786.694 Q568.672 785.652 568.672 783.777 Q568.672 782.041 567.491 781.115 Q566.334 780.189 562.375 779.333 L560.894 778.986 Q556.936 778.152 555.176 776.439 Q553.417 774.703 553.417 771.694 Q553.417 768.037 556.01 766.046 Q558.602 764.055 563.371 764.055 Q565.732 764.055 567.815 764.402 Q569.898 764.75 571.658 765.444 Z\" fill=\"#000000\" fill-rule=\"evenodd\" fill-opacity=\"1\" /><path clip-path=\"url(#clip720)\" d=\"M 0 0 M599.69 776.578 L599.69 778.662 L580.107 778.662 Q580.385 783.06 582.746 785.375 Q585.13 787.666 589.366 787.666 Q591.82 787.666 594.111 787.064 Q596.426 786.462 598.695 785.259 L598.695 789.287 Q596.403 790.259 593.996 790.768 Q591.588 791.277 589.111 791.277 Q582.908 791.277 579.273 787.666 Q575.662 784.055 575.662 777.898 Q575.662 771.532 579.088 767.805 Q582.537 764.055 588.371 764.055 Q593.602 764.055 596.634 767.435 Q599.69 770.791 599.69 776.578 M595.431 775.328 Q595.384 771.833 593.463 769.75 Q591.565 767.666 588.417 767.666 Q584.852 767.666 582.699 769.68 Q580.57 771.694 580.246 775.351 L595.431 775.328 Z\" fill=\"#000000\" fill-rule=\"evenodd\" fill-opacity=\"1\" /><path clip-path=\"url(#clip720)\" d=\"M 0 0 M623.857 798.476 L623.857 801.786 L599.227 801.786 L599.227 798.476 L623.857 798.476 Z\" fill=\"#000000\" fill-rule=\"evenodd\" fill-opacity=\"1\" /><path clip-path=\"url(#clip720)\" d=\"M 0 0 M650.5 776.578 L650.5 778.662 L630.917 778.662 Q631.194 783.06 633.556 785.375 Q635.94 787.666 640.176 787.666 Q642.63 787.666 644.921 787.064 Q647.236 786.462 649.505 785.259 L649.505 789.287 Q647.213 790.259 644.805 790.768 Q642.398 791.277 639.921 791.277 Q633.718 791.277 630.083 787.666 Q626.472 784.055 626.472 777.898 Q626.472 771.532 629.898 767.805 Q633.347 764.055 639.181 764.055 Q644.412 764.055 647.444 767.435 Q650.5 770.791 650.5 776.578 M646.241 775.328 Q646.194 771.833 644.273 769.75 Q642.375 767.666 639.227 767.666 Q635.662 767.666 633.509 769.68 Q631.38 771.694 631.056 775.351 L646.241 775.328 Z\" fill=\"#000000\" fill-rule=\"evenodd\" fill-opacity=\"1\" /><path clip-path=\"url(#clip720)\" d=\"M 0 0 M675.685 764.68 L666.31 777.296 L676.171 790.606 L671.148 790.606 L663.602 780.421 L656.055 790.606 L651.032 790.606 L661.102 777.041 L651.889 764.68 L656.912 764.68 L663.787 773.916 L670.662 764.68 L675.685 764.68 Z\" fill=\"#000000\" fill-rule=\"evenodd\" fill-opacity=\"1\" /><path clip-path=\"url(#clip720)\" d=\"M 0 0 M684.852 757.319 L684.852 764.68 L693.625 764.68 L693.625 767.99 L684.852 767.99 L684.852 782.064 Q684.852 785.236 685.708 786.138 Q686.588 787.041 689.25 787.041 L693.625 787.041 L693.625 790.606 L689.25 790.606 Q684.319 790.606 682.444 788.777 Q680.569 786.925 680.569 782.064 L680.569 767.99 L677.444 767.99 L677.444 764.68 L680.569 764.68 L680.569 757.319 L684.852 757.319 Z\" fill=\"#000000\" fill-rule=\"evenodd\" fill-opacity=\"1\" /><path clip-path=\"url(#clip720)\" d=\"M 0 0 M720.268 776.578 L720.268 778.662 L700.685 778.662 Q700.963 783.06 703.324 785.375 Q705.708 787.666 709.944 787.666 Q712.398 787.666 714.689 787.064 Q717.004 786.462 719.273 785.259 L719.273 789.287 Q716.981 790.259 714.574 790.768 Q712.166 791.277 709.689 791.277 Q703.486 791.277 699.851 787.666 Q696.24 784.055 696.24 777.898 Q696.24 771.532 699.666 767.805 Q703.115 764.055 708.949 764.055 Q714.18 764.055 717.213 767.435 Q720.268 770.791 720.268 776.578 M716.009 775.328 Q715.963 771.833 714.041 769.75 Q712.143 767.666 708.995 767.666 Q705.43 767.666 703.277 769.68 Q701.148 771.694 700.824 775.351 L716.009 775.328 Z\" fill=\"#000000\" fill-rule=\"evenodd\" fill-opacity=\"1\" /><path clip-path=\"url(#clip720)\" d=\"M 0 0 M739.759 768.662 Q739.041 768.245 738.185 768.06 Q737.351 767.851 736.333 767.851 Q732.722 767.851 730.777 770.213 Q728.856 772.551 728.856 776.949 L728.856 790.606 L724.574 790.606 L724.574 764.68 L728.856 764.68 L728.856 768.708 Q730.199 766.347 732.351 765.213 Q734.504 764.055 737.583 764.055 Q738.023 764.055 738.555 764.125 Q739.087 764.171 739.736 764.287 L739.759 768.662 Z\" fill=\"#000000\" fill-rule=\"evenodd\" fill-opacity=\"1\" /><path clip-path=\"url(#clip720)\" d=\"M 0 0 M764.944 774.958 L764.944 790.606 L760.685 790.606 L760.685 775.097 Q760.685 771.416 759.249 769.588 Q757.814 767.759 754.944 767.759 Q751.495 767.759 749.504 769.958 Q747.513 772.157 747.513 775.953 L747.513 790.606 L743.231 790.606 L743.231 764.68 L747.513 764.68 L747.513 768.708 Q749.041 766.37 751.101 765.213 Q753.185 764.055 755.893 764.055 Q760.36 764.055 762.652 766.833 Q764.944 769.588 764.944 774.958 Z\" fill=\"#000000\" fill-rule=\"evenodd\" fill-opacity=\"1\" /><path clip-path=\"url(#clip720)\" d=\"M 0 0 M781.194 777.574 Q776.032 777.574 774.041 778.754 Q772.05 779.935 772.05 782.782 Q772.05 785.05 773.532 786.393 Q775.036 787.712 777.606 787.712 Q781.147 787.712 783.277 785.212 Q785.43 782.689 785.43 778.523 L785.43 777.574 L781.194 777.574 M789.689 775.814 L789.689 790.606 L785.43 790.606 L785.43 786.671 Q783.971 789.032 781.796 790.166 Q779.62 791.277 776.471 791.277 Q772.49 791.277 770.129 789.055 Q767.791 786.81 767.791 783.06 Q767.791 778.685 770.708 776.463 Q773.647 774.24 779.458 774.24 L785.43 774.24 L785.43 773.824 Q785.43 770.884 783.485 769.287 Q781.564 767.666 778.069 767.666 Q775.846 767.666 773.74 768.199 Q771.634 768.731 769.689 769.796 L769.689 765.861 Q772.027 764.958 774.226 764.518 Q776.425 764.055 778.508 764.055 Q784.133 764.055 786.911 766.972 Q789.689 769.889 789.689 775.814 Z\" fill=\"#000000\" fill-rule=\"evenodd\" fill-opacity=\"1\" /><path clip-path=\"url(#clip720)\" d=\"M 0 0 M794.157 754.588 L798.416 754.588 L798.416 790.606 L794.157 790.606 L794.157 754.588 Z\" fill=\"#000000\" fill-rule=\"evenodd\" fill-opacity=\"1\" /><path clip-path=\"url(#clip720)\" d=\"M 0 0 M822.582 798.476 L822.582 801.786 L797.953 801.786 L797.953 798.476 L822.582 798.476 Z\" fill=\"#000000\" fill-rule=\"evenodd\" fill-opacity=\"1\" /><path clip-path=\"url(#clip720)\" d=\"M 0 0 M842.073 768.662 Q841.355 768.245 840.499 768.06 Q839.666 767.851 838.647 767.851 Q835.036 767.851 833.092 770.213 Q831.17 772.551 831.17 776.949 L831.17 790.606 L826.888 790.606 L826.888 764.68 L831.17 764.68 L831.17 768.708 Q832.513 766.347 834.666 765.213 Q836.818 764.055 839.897 764.055 Q840.337 764.055 840.869 764.125 Q841.402 764.171 842.05 764.287 L842.073 768.662 Z\" fill=\"#000000\" fill-rule=\"evenodd\" fill-opacity=\"1\" /><path clip-path=\"url(#clip720)\" d=\"M 0 0 M867.675 776.578 L867.675 778.662 L848.091 778.662 Q848.369 783.06 850.73 785.375 Q853.115 787.666 857.351 787.666 Q859.804 787.666 862.096 787.064 Q864.411 786.462 866.679 785.259 L866.679 789.287 Q864.388 790.259 861.98 790.768 Q859.573 791.277 857.096 791.277 Q850.892 791.277 847.258 787.666 Q843.647 784.055 843.647 777.898 Q843.647 771.532 847.073 767.805 Q850.522 764.055 856.355 764.055 Q861.587 764.055 864.619 767.435 Q867.675 770.791 867.675 776.578 M863.415 775.328 Q863.369 771.833 861.448 769.75 Q859.55 767.666 856.402 767.666 Q852.837 767.666 850.684 769.68 Q848.554 771.694 848.23 775.351 L863.415 775.328 Z\" fill=\"#000000\" fill-rule=\"evenodd\" fill-opacity=\"1\" /><path clip-path=\"url(#clip720)\" d=\"M 0 0 M869.665 764.68 L873.925 764.68 L879.249 784.912 L884.55 764.68 L889.573 764.68 L894.897 784.912 L900.198 764.68 L904.457 764.68 L897.675 790.606 L892.651 790.606 L887.073 769.356 L881.471 790.606 L876.448 790.606 L869.665 764.68 Z\" fill=\"#000000\" fill-rule=\"evenodd\" fill-opacity=\"1\" /><path clip-path=\"url(#clip720)\" d=\"M 0 0 M920.707 777.574 Q915.545 777.574 913.554 778.754 Q911.563 779.935 911.563 782.782 Q911.563 785.05 913.045 786.393 Q914.549 787.712 917.119 787.712 Q920.661 787.712 922.79 785.212 Q924.943 782.689 924.943 778.523 L924.943 777.574 L920.707 777.574 M929.202 775.814 L929.202 790.606 L924.943 790.606 L924.943 786.671 Q923.485 789.032 921.309 790.166 Q919.133 791.277 915.985 791.277 Q912.003 791.277 909.642 789.055 Q907.304 786.81 907.304 783.06 Q907.304 778.685 910.221 776.463 Q913.161 774.24 918.971 774.24 L924.943 774.24 L924.943 773.824 Q924.943 770.884 922.998 769.287 Q921.077 767.666 917.582 767.666 Q915.36 767.666 913.253 768.199 Q911.147 768.731 909.202 769.796 L909.202 765.861 Q911.54 764.958 913.739 764.518 Q915.938 764.055 918.022 764.055 Q923.647 764.055 926.424 766.972 Q929.202 769.889 929.202 775.814 Z\" fill=\"#000000\" fill-rule=\"evenodd\" fill-opacity=\"1\" /><path clip-path=\"url(#clip720)\" d=\"M 0 0 M948.693 768.662 Q947.975 768.245 947.119 768.06 Q946.285 767.851 945.267 767.851 Q941.656 767.851 939.711 770.213 Q937.79 772.551 937.79 776.949 L937.79 790.606 L933.508 790.606 L933.508 764.68 L937.79 764.68 L937.79 768.708 Q939.133 766.347 941.285 765.213 Q943.438 764.055 946.517 764.055 Q946.957 764.055 947.489 764.125 Q948.021 764.171 948.67 764.287 L948.693 768.662 Z\" fill=\"#000000\" fill-rule=\"evenodd\" fill-opacity=\"1\" /><path clip-path=\"url(#clip720)\" d=\"M 0 0 M969.387 768.615 L969.387 754.588 L973.646 754.588 L973.646 790.606 L969.387 790.606 L969.387 786.717 Q968.045 789.032 965.984 790.166 Q963.947 791.277 961.077 791.277 Q956.378 791.277 953.415 787.527 Q950.475 783.777 950.475 777.666 Q950.475 771.555 953.415 767.805 Q956.378 764.055 961.077 764.055 Q963.947 764.055 965.984 765.189 Q968.045 766.301 969.387 768.615 M954.873 777.666 Q954.873 782.365 956.795 785.05 Q958.739 787.712 962.119 787.712 Q965.498 787.712 967.443 785.05 Q969.387 782.365 969.387 777.666 Q969.387 772.967 967.443 770.305 Q965.498 767.62 962.119 767.62 Q958.739 767.62 956.795 770.305 Q954.873 772.967 954.873 777.666 Z\" fill=\"#000000\" fill-rule=\"evenodd\" fill-opacity=\"1\" /><path clip-path=\"url(#clip720)\" d=\"M 0 0 M979.202 784.726 L984.086 784.726 L984.086 790.606 L979.202 790.606 L979.202 784.726 M979.202 766.092 L984.086 766.092 L984.086 771.972 L979.202 771.972 L979.202 766.092 Z\" fill=\"#000000\" fill-rule=\"evenodd\" fill-opacity=\"1\" /><path clip-path=\"url(#clip720)\" d=\"M 0 0 M992.767 757.319 L992.767 764.68 L1001.54 764.68 L1001.54 767.99 L992.767 767.99 L992.767 782.064 Q992.767 785.236 993.623 786.138 Q994.503 787.041 997.165 787.041 L1001.54 787.041 L1001.54 790.606 L997.165 790.606 Q992.234 790.606 990.359 788.777 Q988.484 786.925 988.484 782.064 L988.484 767.99 L985.359 767.99 L985.359 764.68 L988.484 764.68 L988.484 757.319 L992.767 757.319 Z\" fill=\"#000000\" fill-rule=\"evenodd\" fill-opacity=\"1\" /><path clip-path=\"url(#clip720)\" d=\"M 0 0 M1021.03 768.662 Q1020.31 768.245 1019.46 768.06 Q1018.62 767.851 1017.6 767.851 Q1013.99 767.851 1012.05 770.213 Q1010.13 772.551 1010.13 776.949 L1010.13 790.606 L1005.85 790.606 L1005.85 764.68 L1010.13 764.68 L1010.13 768.708 Q1011.47 766.347 1013.62 765.213 Q1015.78 764.055 1018.85 764.055 Q1019.29 764.055 1019.83 764.125 Q1020.36 764.171 1021.01 764.287 L1021.03 768.662 Z\" fill=\"#000000\" fill-rule=\"evenodd\" fill-opacity=\"1\" /><path clip-path=\"url(#clip720)\" d=\"M 0 0 M1025.06 780.375 L1025.06 764.68 L1029.32 764.68 L1029.32 780.213 Q1029.32 783.893 1030.75 785.745 Q1032.19 787.574 1035.06 787.574 Q1038.51 787.574 1040.5 785.375 Q1042.51 783.175 1042.51 779.379 L1042.51 764.68 L1046.77 764.68 L1046.77 790.606 L1042.51 790.606 L1042.51 786.625 Q1040.96 788.986 1038.9 790.143 Q1036.86 791.277 1034.16 791.277 Q1029.69 791.277 1027.37 788.5 Q1025.06 785.722 1025.06 780.375 M1035.78 764.055 L1035.78 764.055 Z\" fill=\"#000000\" fill-rule=\"evenodd\" fill-opacity=\"1\" /><path clip-path=\"url(#clip720)\" d=\"M 0 0 M1073.41 776.578 L1073.41 778.662 L1053.83 778.662 Q1054.11 783.06 1056.47 785.375 Q1058.85 787.666 1063.09 787.666 Q1065.54 787.666 1067.84 787.064 Q1070.15 786.462 1072.42 785.259 L1072.42 789.287 Q1070.13 790.259 1067.72 790.768 Q1065.31 791.277 1062.84 791.277 Q1056.63 791.277 1053 787.666 Q1049.39 784.055 1049.39 777.898 Q1049.39 771.532 1052.81 767.805 Q1056.26 764.055 1062.09 764.055 Q1067.33 764.055 1070.36 767.435 Q1073.41 770.791 1073.41 776.578 M1069.16 775.328 Q1069.11 771.833 1067.19 769.75 Q1065.29 767.666 1062.14 767.666 Q1058.58 767.666 1056.42 769.68 Q1054.29 771.694 1053.97 775.351 L1069.16 775.328 Z\" fill=\"#000000\" fill-rule=\"evenodd\" fill-opacity=\"1\" /></svg>\n"
      ]
     },
     "metadata": {},
     "output_type": "display_data"
    }
   ],
   "source": [
    "p = plot(ylabel=\"Episode Length\",xlabel=\"First Nth Episodes\", title = \"Exploring Position & Vel\")\n",
    "# plot!(p,init_episode_lengths,ylabel=\"Episode Length\",xlabel=\"First Nth Episodes\", title = \"Exploring Position\")\n",
    "for (ind,ep_length) in enumerate(init_episode_lengths)\n",
    "    plot!(p, ep_length, label = labels[ind], legend=:left)\n",
    "end\n",
    "display(p)\n"
   ]
  },
  {
   "cell_type": "code",
   "execution_count": 390,
   "metadata": {},
   "outputs": [],
   "source": [
    "savefig(\"./plots/MCEpisodeLengthVel.png\")"
   ]
  },
  {
   "cell_type": "code",
   "execution_count": 391,
   "metadata": {},
   "outputs": [
    {
     "data": {
      "text/plain": [
       "Dict{String,Array} with 5 entries:\n",
       "  \"demon_alpha_init\"    => [0.015625, 0.03125, 0.0625, 0.125]\n",
       "  \"behaviour_alpha\"     => [0.03125, 0.0625]\n",
       "  \"runs\"                => [1, 2, 3, 4, 5, 6, 7, 8, 9, 10  …  21, 22, 23, 24, 2…\n",
       "  \"demon_alpha\"         => [0.03125, 0.0625, 0.125]\n",
       "  \"use_external_reward\" => Bool[0, 1]"
      ]
     },
     "execution_count": 391,
     "metadata": {},
     "output_type": "execute_result"
    }
   ],
   "source": [
    "diff(ic)\n"
   ]
  },
  {
   "cell_type": "code",
   "execution_count": 392,
   "metadata": {},
   "outputs": [
    {
     "data": {
      "text/plain": [
       "sensitivity (generic function with 1 method)"
      ]
     },
     "execution_count": 392,
     "metadata": {},
     "output_type": "execute_result"
    }
   ],
   "source": [
    "function sensitivity(ic,sensitive_param; metric_key=:mc_error)\n",
    "    param_vals = diff(ic)[sensitive_param]\n",
    "    vals = zeros(length(param_vals))\n",
    "    for (i,param_val) in enumerate(param_vals)\n",
    "        p_ic = search(ic, Dict(sensitive_param => param_val))\n",
    "#         tmp = load_results(ic, metric_key; return_type = \"tensor\")\n",
    "        vals[i] = mean(load_results(p_ic, metric_key; return_type = \"tensor\"))\n",
    "    end\n",
    "    return vals\n",
    "end\n"
   ]
  },
  {
   "cell_type": "code",
   "execution_count": 397,
   "metadata": {},
   "outputs": [
    {
     "name": "stdout",
     "output_type": "stream",
     "text": [
      "[\"use_external_reward\", \"behaviour_alpha\", \"demon_alpha\"]\n"
     ]
    },
    {
     "data": {
      "text/plain": [
       "12-element Array{Any,1}:\n",
       " Dict{Any,Any}(\"behaviour_alpha\" => 0.03125,\"use_external_reward\" => false,\"demon_alpha\" => 0.03125)\n",
       " Dict{Any,Any}(\"behaviour_alpha\" => 0.03125,\"use_external_reward\" => false,\"demon_alpha\" => 0.0625)\n",
       " Dict{Any,Any}(\"behaviour_alpha\" => 0.03125,\"use_external_reward\" => false,\"demon_alpha\" => 0.125)\n",
       " Dict{Any,Any}(\"behaviour_alpha\" => 0.0625,\"use_external_reward\" => false,\"demon_alpha\" => 0.03125)\n",
       " Dict{Any,Any}(\"behaviour_alpha\" => 0.0625,\"use_external_reward\" => false,\"demon_alpha\" => 0.0625)\n",
       " Dict{Any,Any}(\"behaviour_alpha\" => 0.0625,\"use_external_reward\" => false,\"demon_alpha\" => 0.125)\n",
       " Dict{Any,Any}(\"behaviour_alpha\" => 0.03125,\"use_external_reward\" => true,\"demon_alpha\" => 0.03125)\n",
       " Dict{Any,Any}(\"behaviour_alpha\" => 0.03125,\"use_external_reward\" => true,\"demon_alpha\" => 0.0625)\n",
       " Dict{Any,Any}(\"behaviour_alpha\" => 0.03125,\"use_external_reward\" => true,\"demon_alpha\" => 0.125)\n",
       " Dict{Any,Any}(\"behaviour_alpha\" => 0.0625,\"use_external_reward\" => true,\"demon_alpha\" => 0.03125)\n",
       " Dict{Any,Any}(\"behaviour_alpha\" => 0.0625,\"use_external_reward\" => true,\"demon_alpha\" => 0.0625)\n",
       " Dict{Any,Any}(\"behaviour_alpha\" => 0.0625,\"use_external_reward\" => true,\"demon_alpha\" => 0.125)"
      ]
     },
     "execution_count": 397,
     "metadata": {},
     "output_type": "execute_result"
    }
   ],
   "source": [
    "# search(ic,Dict(\"demon_alpha_init\" => 0.125))\n",
    "sweep_params = [\"use_external_reward\", \"behaviour_alpha\",\"demon_alpha\"]\n",
    "divisors = split_algo(ic, sweep_params)\n",
    "sensitivity(ic,\"demon_alpha_init\")\n",
    "divisors"
   ]
  },
  {
   "cell_type": "code",
   "execution_count": 419,
   "metadata": {},
   "outputs": [],
   "source": [
    "ps = []\n",
    "for i in 7:12\n",
    "    y = sensitivity(search(ic,divisors[i]), \"demon_alpha_init\")\n",
    "    x = diff(ic)[\"demon_alpha_init\"]\n",
    "    p = scatter(x,y, ylims=(0.15,0.225), legend=false)\n",
    "    push!(ps,p)\n",
    "end\n",
    "# println(ps)\n",
    "plot(ps...,layout=(2,3), size = (1000,600))\n",
    "savefig(\"./plots/MCSensitivtyExtrinsic\")\n"
   ]
  },
  {
   "cell_type": "code",
   "execution_count": null,
   "metadata": {},
   "outputs": [],
   "source": []
  },
  {
   "cell_type": "code",
   "execution_count": 175,
   "metadata": {},
   "outputs": [
    {
     "ename": "LoadError",
     "evalue": "\u001b[91mUndefVarError: plot_gvfn_stepsize_sense not defined\u001b[39m",
     "output_type": "error",
     "traceback": [
      "\u001b[91mUndefVarError: plot_gvfn_stepsize_sense not defined\u001b[39m",
      "",
      "Stacktrace:",
      " [1] top-level scope at In[175]:1",
      " [2] include_string(::Function, ::Module, ::String, ::String) at ./loading.jl:1091"
     ]
    }
   ],
   "source": [
    "plot_gvfn_stepsize_sense(ic_gvfn_adam, \"end\", ylim=(0.0, 0.4))"
   ]
  },
  {
   "cell_type": "code",
   "execution_count": 176,
   "metadata": {},
   "outputs": [
    {
     "ename": "LoadError",
     "evalue": "\u001b[91mSystemError: unable to read directory ../MountainCar/compassworld_rnn/data: No such file or directory\u001b[39m",
     "output_type": "error",
     "traceback": [
      "\u001b[91mSystemError: unable to read directory ../MountainCar/compassworld_rnn/data: No such file or directory\u001b[39m",
      "",
      "Stacktrace:",
      " [1] readdir(::String; join::Bool, sort::Bool) at ./file.jl:810",
      " [2] readdir at ./file.jl:805 [inlined]",
      " [3] ItemCollection(::String; settings_file::String, data_folder::String) at /home/matthewmcleod/.julia/packages/Reproduce/TxAhT/src/search.jl:75",
      " [4] ItemCollection(::String) at /home/matthewmcleod/.julia/packages/Reproduce/TxAhT/src/search.jl:74",
      " [5] top-level scope at In[176]:1",
      " [6] include_string(::Function, ::Module, ::String, ::String) at ./loading.jl:1091"
     ]
    }
   ],
   "source": [
    "ic_rnn = ItemCollection(joinpath(data_home, \"compassworld_rnn/data\"));"
   ]
  },
  {
   "cell_type": "code",
   "execution_count": 177,
   "metadata": {},
   "outputs": [
    {
     "data": {
      "text/plain": [
       "10-element Array{Float64,1}:\n",
       " 6.766394845988643e-6\n",
       " 1.5224388403474448e-5\n",
       " 3.425487390781751e-5\n",
       " 7.707346629258939e-5\n",
       " 0.00017341529915832613\n",
       " 0.0003901844231062338\n",
       " 0.0008779149519890261\n",
       " 0.0019753086419753087\n",
       " 0.0044444444444444444\n",
       " 0.01"
      ]
     },
     "execution_count": 177,
     "metadata": {},
     "output_type": "execute_result"
    }
   ],
   "source": [
    "0.01*1.5.^(-18:2:1)"
   ]
  },
  {
   "cell_type": "code",
   "execution_count": 178,
   "metadata": {},
   "outputs": [
    {
     "ename": "LoadError",
     "evalue": "\u001b[91mUndefVarError: ic_rnn_adam not defined\u001b[39m",
     "output_type": "error",
     "traceback": [
      "\u001b[91mUndefVarError: ic_rnn_adam not defined\u001b[39m",
      "",
      "Stacktrace:",
      " [1] top-level scope at In[178]:1",
      " [2] include_string(::Function, ::Module, ::String, ::String) at ./loading.jl:1091"
     ]
    }
   ],
   "source": [
    "diff(ic_rnn_adam)[\"alpha\"]"
   ]
  },
  {
   "cell_type": "code",
   "execution_count": 179,
   "metadata": {},
   "outputs": [
    {
     "ename": "LoadError",
     "evalue": "\u001b[91mUndefVarError: plot_rnn_stepsize_sens not defined\u001b[39m",
     "output_type": "error",
     "traceback": [
      "\u001b[91mUndefVarError: plot_rnn_stepsize_sens not defined\u001b[39m",
      "",
      "Stacktrace:",
      " [1] top-level scope at In[179]:1",
      " [2] include_string(::Function, ::Module, ::String, ::String) at ./loading.jl:1091"
     ]
    }
   ],
   "source": [
    "plot_rnn_stepsize_sens(ic_rnn, 35, \"end\"; ylims=(0.0,0.3))"
   ]
  },
  {
   "cell_type": "code",
   "execution_count": 180,
   "metadata": {},
   "outputs": [
    {
     "ename": "LoadError",
     "evalue": "\u001b[91mUndefVarError: plot_rnn_stepsize_sens not defined\u001b[39m",
     "output_type": "error",
     "traceback": [
      "\u001b[91mUndefVarError: plot_rnn_stepsize_sens not defined\u001b[39m",
      "",
      "Stacktrace:",
      " [1] top-level scope at In[180]:1",
      " [2] include_string(::Function, ::Module, ::String, ::String) at ./loading.jl:1091"
     ]
    }
   ],
   "source": [
    "plot_rnn_stepsize_sens(ic_rnn, 40, \"end\"; ylims=(0.0,0.3), legend=false)"
   ]
  },
  {
   "cell_type": "code",
   "execution_count": 181,
   "metadata": {},
   "outputs": [
    {
     "ename": "LoadError",
     "evalue": "\u001b[91mUndefVarError: plot_rnn_stepsize_sens not defined\u001b[39m",
     "output_type": "error",
     "traceback": [
      "\u001b[91mUndefVarError: plot_rnn_stepsize_sens not defined\u001b[39m",
      "",
      "Stacktrace:",
      " [1] top-level scope at In[181]:1",
      " [2] include_string(::Function, ::Module, ::String, ::String) at ./loading.jl:1091"
     ]
    }
   ],
   "source": [
    "plot_rnn_stepsize_sens(ic_rnn, 110, \"end\"; ylims=(0.0,0.3))"
   ]
  },
  {
   "cell_type": "code",
   "execution_count": 182,
   "metadata": {},
   "outputs": [
    {
     "ename": "LoadError",
     "evalue": "\u001b[91mSystemError: unable to read directory ../MountainCar/compassworld_rnn_adam/data: No such file or directory\u001b[39m",
     "output_type": "error",
     "traceback": [
      "\u001b[91mSystemError: unable to read directory ../MountainCar/compassworld_rnn_adam/data: No such file or directory\u001b[39m",
      "",
      "Stacktrace:",
      " [1] readdir(::String; join::Bool, sort::Bool) at ./file.jl:810",
      " [2] readdir at ./file.jl:805 [inlined]",
      " [3] ItemCollection(::String; settings_file::String, data_folder::String) at /home/matthewmcleod/.julia/packages/Reproduce/TxAhT/src/search.jl:75",
      " [4] ItemCollection(::String) at /home/matthewmcleod/.julia/packages/Reproduce/TxAhT/src/search.jl:74",
      " [5] top-level scope at In[182]:1",
      " [6] include_string(::Function, ::Module, ::String, ::String) at ./loading.jl:1091"
     ]
    }
   ],
   "source": [
    "ic_rnn_adam = ItemCollection(joinpath(data_home, \"compassworld_rnn_adam/data\"));"
   ]
  },
  {
   "cell_type": "code",
   "execution_count": 183,
   "metadata": {},
   "outputs": [
    {
     "ename": "LoadError",
     "evalue": "\u001b[91mUndefVarError: plot_rnn_stepsize_sens not defined\u001b[39m",
     "output_type": "error",
     "traceback": [
      "\u001b[91mUndefVarError: plot_rnn_stepsize_sens not defined\u001b[39m",
      "",
      "Stacktrace:",
      " [1] top-level scope at In[183]:1",
      " [2] include_string(::Function, ::Module, ::String, ::String) at ./loading.jl:1091"
     ]
    }
   ],
   "source": [
    "plot_rnn_stepsize_sens(ic_rnn_adam, 35, \"end\")"
   ]
  },
  {
   "cell_type": "code",
   "execution_count": 184,
   "metadata": {},
   "outputs": [
    {
     "ename": "LoadError",
     "evalue": "\u001b[91mUndefVarError: plot_rnn_stepsize_sens not defined\u001b[39m",
     "output_type": "error",
     "traceback": [
      "\u001b[91mUndefVarError: plot_rnn_stepsize_sens not defined\u001b[39m",
      "",
      "Stacktrace:",
      " [1] top-level scope at In[184]:1",
      " [2] include_string(::Function, ::Module, ::String, ::String) at ./loading.jl:1091"
     ]
    }
   ],
   "source": [
    "plot_rnn_stepsize_sens(ic_rnn_adam, 40, \"end\")"
   ]
  },
  {
   "cell_type": "code",
   "execution_count": 185,
   "metadata": {},
   "outputs": [
    {
     "ename": "LoadError",
     "evalue": "\u001b[91mUndefVarError: plot_rnn_stepsize_sens not defined\u001b[39m",
     "output_type": "error",
     "traceback": [
      "\u001b[91mUndefVarError: plot_rnn_stepsize_sens not defined\u001b[39m",
      "",
      "Stacktrace:",
      " [1] top-level scope at In[185]:1",
      " [2] include_string(::Function, ::Module, ::String, ::String) at ./loading.jl:1091"
     ]
    }
   ],
   "source": [
    "plot_rnn_stepsize_sens(ic_rnn_adam, 110, \"end\")"
   ]
  },
  {
   "cell_type": "code",
   "execution_count": 186,
   "metadata": {},
   "outputs": [
    {
     "ename": "LoadError",
     "evalue": "\u001b[91mUndefVarError: plot_rnn_stepsize_sens not defined\u001b[39m",
     "output_type": "error",
     "traceback": [
      "\u001b[91mUndefVarError: plot_rnn_stepsize_sens not defined\u001b[39m",
      "",
      "Stacktrace:",
      " [1] top-level scope at In[186]:1",
      " [2] include_string(::Function, ::Module, ::String, ::String) at ./loading.jl:1091"
     ]
    }
   ],
   "source": [
    "plot_rnn_stepsize_sens(ic_rnn_adam, 5, \"end\")"
   ]
  },
  {
   "cell_type": "markdown",
   "metadata": {},
   "source": [
    "## RNN Aux Tasks"
   ]
  },
  {
   "cell_type": "code",
   "execution_count": 187,
   "metadata": {},
   "outputs": [
    {
     "ename": "LoadError",
     "evalue": "\u001b[91mSystemError: unable to read directory ../MountainCar/compassworld_rnn_aux_task/data: No such file or directory\u001b[39m",
     "output_type": "error",
     "traceback": [
      "\u001b[91mSystemError: unable to read directory ../MountainCar/compassworld_rnn_aux_task/data: No such file or directory\u001b[39m",
      "",
      "Stacktrace:",
      " [1] readdir(::String; join::Bool, sort::Bool) at ./file.jl:810",
      " [2] readdir at ./file.jl:805 [inlined]",
      " [3] ItemCollection(::String; settings_file::String, data_folder::String) at /home/matthewmcleod/.julia/packages/Reproduce/TxAhT/src/search.jl:75",
      " [4] ItemCollection(::String) at /home/matthewmcleod/.julia/packages/Reproduce/TxAhT/src/search.jl:74",
      " [5] top-level scope at In[187]:1",
      " [6] include_string(::Function, ::Module, ::String, ::String) at ./loading.jl:1091"
     ]
    }
   ],
   "source": [
    "ic_rnn_at = ItemCollection(joinpath(data_home, \"compassworld_rnn_aux_task/data\"));\n",
    "diff(ic_rnn_at)"
   ]
  },
  {
   "cell_type": "code",
   "execution_count": 188,
   "metadata": {},
   "outputs": [
    {
     "ename": "LoadError",
     "evalue": "\u001b[91mUndefVarError: plot_rnn_at_stepsize_sens not defined\u001b[39m",
     "output_type": "error",
     "traceback": [
      "\u001b[91mUndefVarError: plot_rnn_at_stepsize_sens not defined\u001b[39m",
      "",
      "Stacktrace:",
      " [1] top-level scope at In[188]:1",
      " [2] include_string(::Function, ::Module, ::String, ::String) at ./loading.jl:1091"
     ]
    }
   ],
   "source": [
    "plot_rnn_at_stepsize_sens(ic_rnn_at, \"end\"; ylims=(0.0, 0.5))"
   ]
  },
  {
   "cell_type": "code",
   "execution_count": 189,
   "metadata": {},
   "outputs": [
    {
     "ename": "LoadError",
     "evalue": "\u001b[91mUndefVarError: plot_rnn_at_stepsize_sens not defined\u001b[39m",
     "output_type": "error",
     "traceback": [
      "\u001b[91mUndefVarError: plot_rnn_at_stepsize_sens not defined\u001b[39m",
      "",
      "Stacktrace:",
      " [1] top-level scope at In[189]:1",
      " [2] include_string(::Function, ::Module, ::String, ::String) at ./loading.jl:1091"
     ]
    }
   ],
   "source": [
    "plot_rnn_at_stepsize_sens(ic_rnn_at, \"all\"; ylims=(0.0, 0.5))"
   ]
  },
  {
   "cell_type": "code",
   "execution_count": 190,
   "metadata": {},
   "outputs": [
    {
     "ename": "LoadError",
     "evalue": "\u001b[91mSystemError: unable to read directory ../MountainCar/compassworld_rnn_aux_task_adam/data: No such file or directory\u001b[39m",
     "output_type": "error",
     "traceback": [
      "\u001b[91mSystemError: unable to read directory ../MountainCar/compassworld_rnn_aux_task_adam/data: No such file or directory\u001b[39m",
      "",
      "Stacktrace:",
      " [1] readdir(::String; join::Bool, sort::Bool) at ./file.jl:810",
      " [2] readdir at ./file.jl:805 [inlined]",
      " [3] ItemCollection(::String; settings_file::String, data_folder::String) at /home/matthewmcleod/.julia/packages/Reproduce/TxAhT/src/search.jl:75",
      " [4] ItemCollection(::String) at /home/matthewmcleod/.julia/packages/Reproduce/TxAhT/src/search.jl:74",
      " [5] top-level scope at In[190]:1",
      " [6] include_string(::Function, ::Module, ::String, ::String) at ./loading.jl:1091"
     ]
    }
   ],
   "source": [
    "ic_rnn_at_adam = ItemCollection(joinpath(data_home, \"compassworld_rnn_aux_task_adam/data\"));\n",
    "diff(ic_rnn_at_adam)"
   ]
  },
  {
   "cell_type": "code",
   "execution_count": 191,
   "metadata": {},
   "outputs": [
    {
     "ename": "LoadError",
     "evalue": "\u001b[91mUndefVarError: plot_rnn_at_stepsize_sens not defined\u001b[39m",
     "output_type": "error",
     "traceback": [
      "\u001b[91mUndefVarError: plot_rnn_at_stepsize_sens not defined\u001b[39m",
      "",
      "Stacktrace:",
      " [1] top-level scope at In[191]:1",
      " [2] include_string(::Function, ::Module, ::String, ::String) at ./loading.jl:1091"
     ]
    }
   ],
   "source": [
    "plot_rnn_at_stepsize_sens(ic_rnn_at_adam, \"end\"; ylims=(0.0, 0.5))"
   ]
  },
  {
   "cell_type": "code",
   "execution_count": 192,
   "metadata": {},
   "outputs": [
    {
     "ename": "LoadError",
     "evalue": "\u001b[91mUndefVarError: plot_rnn_at_stepsize_sens not defined\u001b[39m",
     "output_type": "error",
     "traceback": [
      "\u001b[91mUndefVarError: plot_rnn_at_stepsize_sens not defined\u001b[39m",
      "",
      "Stacktrace:",
      " [1] top-level scope at In[192]:1",
      " [2] include_string(::Function, ::Module, ::String, ::String) at ./loading.jl:1091"
     ]
    }
   ],
   "source": [
    "plot_rnn_at_stepsize_sens(ic_rnn_at_adam, \"all\"; ylims=(0.0, 0.5))"
   ]
  },
  {
   "cell_type": "markdown",
   "metadata": {},
   "source": [
    "# Final Params"
   ]
  },
  {
   "cell_type": "code",
   "execution_count": 193,
   "metadata": {},
   "outputs": [
    {
     "data": {
      "text/plain": [
       "get_final_rnn_at_params (generic function with 1 method)"
      ]
     },
     "execution_count": 193,
     "metadata": {},
     "output_type": "execute_result"
    }
   ],
   "source": [
    "function get_final_gvfn_params(ic, res_key)\n",
    "\n",
    "    get_best_func = (i2c)->get_best_setting(i2c, \"alpha\", (d)->d[\"results\"][res_key])\n",
    "    sub_ic = ic\n",
    "    arg_list = Dict{String, Any}[]\n",
    "    @showprogress for horde ∈ diff(sub_ic)[\"gvfn-horde\"]\n",
    "        sub_sub_ic = search(sub_ic, Dict(\"gvfn-horde\"=>horde))\n",
    "        for τ ∈ diff(sub_sub_ic)[\"truncation\"]\n",
    "            sub_sub_sub_ic = search(sub_sub_ic, Dict(\"truncation\"=>τ))\n",
    "            prm, _ = get_best_func(sub_sub_sub_ic)\n",
    "            push!(arg_list, Dict(\"gvfn-horde\"=>horde, \"truncation\"=>τ, \"alpha\"=>prm))\n",
    "        end\n",
    "\n",
    "    end\n",
    "    arg_list\n",
    "end\n",
    "\n",
    "function get_final_rnn_params(ic, res_key)\n",
    "\n",
    "    get_best_func = (i2c)->get_best_setting(i2c, \"alpha\", (d)->d[\"results\"][res_key])\n",
    "    sub_ic = ic\n",
    "    arg_list = Dict{String, Any}[]\n",
    "    for cell ∈ diff(sub_ic)[\"cell\"]\n",
    "        sub_sub_ic = search(sub_ic, Dict(\"cell\"=>cell))\n",
    "        for τ ∈ diff(sub_sub_ic)[\"truncation\"]\n",
    "            sub_sub_sub_ic = search(sub_sub_ic, Dict(\"truncation\"=>τ))\n",
    "            prm, (μ, σ) = get_best_func(sub_sub_sub_ic)\n",
    "#             println(μ)\n",
    "            push!(arg_list, Dict(\"cell\"=>cell, \"truncation\"=>τ, \"alpha\"=>prm)) #itm.parsed_args\n",
    "        end\n",
    "    end\n",
    "    arg_list\n",
    "end\n",
    "\n",
    "function get_final_rnn_at_params(ic, res_key)\n",
    "\n",
    "    get_best_func = (i2c)->get_best_setting(i2c, \"alpha\", (d)->d[\"results\"][res_key])\n",
    "    sub_ic = ic\n",
    "    arg_list = Dict{String, Any}[]\n",
    "    for (horde, cell) ∈ Iterators.product(diff(sub_ic)[\"at-horde\"], diff(sub_ic)[\"cell\"])\n",
    "        sub_sub_ic = search(sub_ic, Dict(\"cell\"=>cell, \"at-horde\"=>horde))\n",
    "        for τ ∈ diff(sub_sub_ic)[\"truncation\"]\n",
    "            sub_sub_sub_ic = search(sub_sub_ic, Dict(\"truncation\"=>τ))\n",
    "            prm, (μ, σ) = get_best_func(sub_sub_sub_ic)\n",
    "#             println(μ)\n",
    "            push!(arg_list, Dict(\"cell\"=>cell, \"at-horde\"=>horde, \"truncation\"=>τ, \"alpha\"=>prm)) #itm.parsed_args\n",
    "        end\n",
    "    end\n",
    "    arg_list\n",
    "end\n"
   ]
  },
  {
   "cell_type": "markdown",
   "metadata": {},
   "source": [
    "## GVFN"
   ]
  },
  {
   "cell_type": "code",
   "execution_count": 194,
   "metadata": {},
   "outputs": [
    {
     "ename": "LoadError",
     "evalue": "\u001b[91mSystemError: unable to read directory ../MountainCar/compassworld_gvfn/data: No such file or directory\u001b[39m",
     "output_type": "error",
     "traceback": [
      "\u001b[91mSystemError: unable to read directory ../MountainCar/compassworld_gvfn/data: No such file or directory\u001b[39m",
      "",
      "Stacktrace:",
      " [1] readdir(::String; join::Bool, sort::Bool) at ./file.jl:810",
      " [2] readdir at ./file.jl:805 [inlined]",
      " [3] ItemCollection(::String; settings_file::String, data_folder::String) at /home/matthewmcleod/.julia/packages/Reproduce/TxAhT/src/search.jl:75",
      " [4] ItemCollection(::String) at /home/matthewmcleod/.julia/packages/Reproduce/TxAhT/src/search.jl:74",
      " [5] top-level scope at In[194]:1",
      " [6] include_string(::Function, ::Module, ::String, ::String) at ./loading.jl:1091"
     ]
    }
   ],
   "source": [
    "ic_gvfn = ItemCollection(joinpath(data_home, \"compassworld_gvfn/data\"));\n",
    "ic_gvfn_rmsprop = ItemCollection(joinpath(data_home, \"compassworld_gvfn_rmsprop/data\"));\n",
    "ic_gvfn_adam = ItemCollection(joinpath(data_home, \"compassworld_gvfn_adam/data\"));"
   ]
  },
  {
   "cell_type": "code",
   "execution_count": 195,
   "metadata": {},
   "outputs": [
    {
     "ename": "LoadError",
     "evalue": "\u001b[91mUndefVarError: ic_gvfn not defined\u001b[39m",
     "output_type": "error",
     "traceback": [
      "\u001b[91mUndefVarError: ic_gvfn not defined\u001b[39m",
      "",
      "Stacktrace:",
      " [1] top-level scope at In[195]:1",
      " [2] include_string(::Function, ::Module, ::String, ::String) at ./loading.jl:1091"
     ]
    }
   ],
   "source": [
    "diff(ic_gvfn)\n",
    "ic_gvfn.items[1].parsed_args"
   ]
  },
  {
   "cell_type": "code",
   "execution_count": 196,
   "metadata": {},
   "outputs": [
    {
     "ename": "LoadError",
     "evalue": "\u001b[91mUndefVarError: ic_gvfn not defined\u001b[39m",
     "output_type": "error",
     "traceback": [
      "\u001b[91mUndefVarError: ic_gvfn not defined\u001b[39m",
      "",
      "Stacktrace:",
      " [1] top-level scope at In[196]:1",
      " [2] include_string(::Function, ::Module, ::String, ::String) at ./loading.jl:1091"
     ]
    }
   ],
   "source": [
    "args_list = get_final_gvfn_params(ic_gvfn, \"end\")\n",
    "@save \"../final_run_params/compassworld/compassworld_gvfn_descent.jld2\" args_list"
   ]
  },
  {
   "cell_type": "code",
   "execution_count": 197,
   "metadata": {},
   "outputs": [
    {
     "ename": "LoadError",
     "evalue": "\u001b[91mUndefVarError: ic_gvfn_rmsprop not defined\u001b[39m",
     "output_type": "error",
     "traceback": [
      "\u001b[91mUndefVarError: ic_gvfn_rmsprop not defined\u001b[39m",
      "",
      "Stacktrace:",
      " [1] top-level scope at In[197]:1",
      " [2] include_string(::Function, ::Module, ::String, ::String) at ./loading.jl:1091"
     ]
    }
   ],
   "source": [
    "args_list = get_final_gvfn_params(ic_gvfn_rmsprop, \"end\")\n",
    "@save \"../final_run_params/compassworld/compassworld_gvfn_rmsprop.jld2\" args_list"
   ]
  },
  {
   "cell_type": "code",
   "execution_count": 198,
   "metadata": {},
   "outputs": [
    {
     "ename": "LoadError",
     "evalue": "\u001b[91mUndefVarError: ic_gvfn_adam not defined\u001b[39m",
     "output_type": "error",
     "traceback": [
      "\u001b[91mUndefVarError: ic_gvfn_adam not defined\u001b[39m",
      "",
      "Stacktrace:",
      " [1] top-level scope at In[198]:1",
      " [2] include_string(::Function, ::Module, ::String, ::String) at ./loading.jl:1091"
     ]
    }
   ],
   "source": [
    "args_list = get_final_gvfn_params(ic_gvfn_adam, \"end\")\n",
    "@save \"../final_run_params/compassworld/compassworld_gvfn_adam.jld2\" args_list"
   ]
  },
  {
   "cell_type": "code",
   "execution_count": 199,
   "metadata": {},
   "outputs": [
    {
     "ename": "LoadError",
     "evalue": "\u001b[91mUndefVarError: ic_gvfn not defined\u001b[39m",
     "output_type": "error",
     "traceback": [
      "\u001b[91mUndefVarError: ic_gvfn not defined\u001b[39m",
      "",
      "Stacktrace:",
      " [1] top-level scope at In[199]:1",
      " [2] include_string(::Function, ::Module, ::String, ::String) at ./loading.jl:1091"
     ]
    }
   ],
   "source": [
    "args_list = get_final_gvfn_params(ic_gvfn, \"all\")\n",
    "@save \"../final_run_params/compassworld/compassworld_gvfn_descent_all.jld2\" args_list"
   ]
  },
  {
   "cell_type": "code",
   "execution_count": 200,
   "metadata": {},
   "outputs": [
    {
     "ename": "LoadError",
     "evalue": "\u001b[91mUndefVarError: ic_gvfn_rmsprop not defined\u001b[39m",
     "output_type": "error",
     "traceback": [
      "\u001b[91mUndefVarError: ic_gvfn_rmsprop not defined\u001b[39m",
      "",
      "Stacktrace:",
      " [1] top-level scope at In[200]:1",
      " [2] include_string(::Function, ::Module, ::String, ::String) at ./loading.jl:1091"
     ]
    }
   ],
   "source": [
    "args_list = get_final_gvfn_params(ic_gvfn_rmsprop, \"all\")\n",
    "@save \"../final_run_params/compassworld/compassworld_gvfn_rmsprop_all.jld2\" args_list"
   ]
  },
  {
   "cell_type": "code",
   "execution_count": 201,
   "metadata": {},
   "outputs": [
    {
     "ename": "LoadError",
     "evalue": "\u001b[91mUndefVarError: ic_gvfn_adam not defined\u001b[39m",
     "output_type": "error",
     "traceback": [
      "\u001b[91mUndefVarError: ic_gvfn_adam not defined\u001b[39m",
      "",
      "Stacktrace:",
      " [1] top-level scope at In[201]:1",
      " [2] include_string(::Function, ::Module, ::String, ::String) at ./loading.jl:1091"
     ]
    }
   ],
   "source": [
    "args_list = get_final_gvfn_params(ic_gvfn_adam, \"all\")\n",
    "@save \"../final_run_params/compassworld/compassworld_gvfn_adam_all.jld2\" args_list"
   ]
  },
  {
   "cell_type": "markdown",
   "metadata": {},
   "source": [
    "## RNN"
   ]
  },
  {
   "cell_type": "code",
   "execution_count": 202,
   "metadata": {},
   "outputs": [
    {
     "ename": "LoadError",
     "evalue": "\u001b[91mSystemError: unable to read directory ../MountainCar/compassworld_rnn/data: No such file or directory\u001b[39m",
     "output_type": "error",
     "traceback": [
      "\u001b[91mSystemError: unable to read directory ../MountainCar/compassworld_rnn/data: No such file or directory\u001b[39m",
      "",
      "Stacktrace:",
      " [1] readdir(::String; join::Bool, sort::Bool) at ./file.jl:810",
      " [2] readdir at ./file.jl:805 [inlined]",
      " [3] ItemCollection(::String; settings_file::String, data_folder::String) at /home/matthewmcleod/.julia/packages/Reproduce/TxAhT/src/search.jl:75",
      " [4] ItemCollection(::String) at /home/matthewmcleod/.julia/packages/Reproduce/TxAhT/src/search.jl:74",
      " [5] top-level scope at In[202]:1",
      " [6] include_string(::Function, ::Module, ::String, ::String) at ./loading.jl:1091"
     ]
    }
   ],
   "source": [
    "ic_rnn = ItemCollection(joinpath(data_home, \"compassworld_rnn/data\"));\n",
    "ic_rnn_rmsprop = ItemCollection(joinpath(data_home, \"compassworld_rnn_rmsprop/data\"));\n",
    "ic_rnn_adam = ItemCollection(joinpath(data_home, \"compassworld_rnn_adam/data\"));"
   ]
  },
  {
   "cell_type": "code",
   "execution_count": 203,
   "metadata": {},
   "outputs": [
    {
     "ename": "LoadError",
     "evalue": "\u001b[91mUndefVarError: ic_rnn not defined\u001b[39m",
     "output_type": "error",
     "traceback": [
      "\u001b[91mUndefVarError: ic_rnn not defined\u001b[39m",
      "",
      "Stacktrace:",
      " [1] top-level scope at In[203]:1",
      " [2] include_string(::Function, ::Module, ::String, ::String) at ./loading.jl:1091"
     ]
    }
   ],
   "source": [
    "diff(ic_rnn)"
   ]
  },
  {
   "cell_type": "code",
   "execution_count": 204,
   "metadata": {},
   "outputs": [
    {
     "ename": "LoadError",
     "evalue": "\u001b[91mUndefVarError: ic_rnn not defined\u001b[39m",
     "output_type": "error",
     "traceback": [
      "\u001b[91mUndefVarError: ic_rnn not defined\u001b[39m",
      "",
      "Stacktrace:",
      " [1] top-level scope at In[204]:1",
      " [2] include_string(::Function, ::Module, ::String, ::String) at ./loading.jl:1091"
     ]
    }
   ],
   "source": [
    "ic_rnn_40 = search(ic_rnn, Dict(\"hidden\"=>40))\n",
    "args_list = get_final_rnn_params(ic_rnn_40, \"end\")\n",
    "@save \"../final_run_params/compassworld/compassworld_rnn_40.jld2\" args_list\n"
   ]
  },
  {
   "cell_type": "code",
   "execution_count": 205,
   "metadata": {},
   "outputs": [
    {
     "ename": "LoadError",
     "evalue": "\u001b[91mUndefVarError: ic_rnn_adam not defined\u001b[39m",
     "output_type": "error",
     "traceback": [
      "\u001b[91mUndefVarError: ic_rnn_adam not defined\u001b[39m",
      "",
      "Stacktrace:",
      " [1] top-level scope at In[205]:1",
      " [2] include_string(::Function, ::Module, ::String, ::String) at ./loading.jl:1091"
     ]
    }
   ],
   "source": [
    "ic_rnn_adam_40 = search(ic_rnn_adam, Dict(\"hidden\"=>40))\n",
    "args_list = get_final_rnn_params(ic_rnn_adam_40, \"end\")\n",
    "@save \"../final_run_params/compassworld/compassworld_rnn_adam_40.jld2\" args_list\n"
   ]
  },
  {
   "cell_type": "code",
   "execution_count": 206,
   "metadata": {},
   "outputs": [
    {
     "ename": "LoadError",
     "evalue": "\u001b[91mUndefVarError: ic_rnn not defined\u001b[39m",
     "output_type": "error",
     "traceback": [
      "\u001b[91mUndefVarError: ic_rnn not defined\u001b[39m",
      "",
      "Stacktrace:",
      " [1] top-level scope at In[206]:1",
      " [2] include_string(::Function, ::Module, ::String, ::String) at ./loading.jl:1091"
     ]
    }
   ],
   "source": [
    "ic_rnn_5 = search(ic_rnn, Dict(\"hidden\"=>5))\n",
    "args_list = get_final_rnn_params(ic_rnn_5, \"end\")\n",
    "@save \"../final_run_params/compassworld/compassworld_rnn_5.jld2\" args_list\n"
   ]
  },
  {
   "cell_type": "code",
   "execution_count": 207,
   "metadata": {},
   "outputs": [
    {
     "ename": "LoadError",
     "evalue": "\u001b[91mUndefVarError: ic_rnn_adam not defined\u001b[39m",
     "output_type": "error",
     "traceback": [
      "\u001b[91mUndefVarError: ic_rnn_adam not defined\u001b[39m",
      "",
      "Stacktrace:",
      " [1] top-level scope at In[207]:1",
      " [2] include_string(::Function, ::Module, ::String, ::String) at ./loading.jl:1091"
     ]
    }
   ],
   "source": [
    "ic_rnn_adam_5 = search(ic_rnn_adam, Dict(\"hidden\"=>5))\n",
    "args_list = get_final_rnn_params(ic_rnn_adam_5, \"end\")\n",
    "@save \"../final_run_params/compassworld/compassworld_rnn_adam_5.jld2\" args_list\n"
   ]
  },
  {
   "cell_type": "code",
   "execution_count": 208,
   "metadata": {},
   "outputs": [
    {
     "ename": "LoadError",
     "evalue": "\u001b[91mUndefVarError: ic_rnn not defined\u001b[39m",
     "output_type": "error",
     "traceback": [
      "\u001b[91mUndefVarError: ic_rnn not defined\u001b[39m",
      "",
      "Stacktrace:",
      " [1] top-level scope at In[208]:1",
      " [2] include_string(::Function, ::Module, ::String, ::String) at ./loading.jl:1091"
     ]
    }
   ],
   "source": [
    "ic_rnn_40 = search(ic_rnn, Dict(\"hidden\"=>40))\n",
    "args_list = get_final_rnn_params(ic_rnn_40, \"all\")\n",
    "@save \"../final_run_params/compassworld/compassworld_rnn_40_all.jld2\" args_list\n"
   ]
  },
  {
   "cell_type": "code",
   "execution_count": 209,
   "metadata": {},
   "outputs": [
    {
     "ename": "LoadError",
     "evalue": "\u001b[91mUndefVarError: ic_rnn_adam not defined\u001b[39m",
     "output_type": "error",
     "traceback": [
      "\u001b[91mUndefVarError: ic_rnn_adam not defined\u001b[39m",
      "",
      "Stacktrace:",
      " [1] top-level scope at In[209]:1",
      " [2] include_string(::Function, ::Module, ::String, ::String) at ./loading.jl:1091"
     ]
    }
   ],
   "source": [
    "ic_rnn_adam_40 = search(ic_rnn_adam, Dict(\"hidden\"=>40))\n",
    "args_list = get_final_rnn_params(ic_rnn_adam_40, \"all\")\n",
    "@save \"../final_run_params/compassworld/compassworld_rnn_adam_40_all.jld2\" args_list\n"
   ]
  },
  {
   "cell_type": "code",
   "execution_count": 210,
   "metadata": {},
   "outputs": [
    {
     "ename": "LoadError",
     "evalue": "\u001b[91mUndefVarError: ic_rnn not defined\u001b[39m",
     "output_type": "error",
     "traceback": [
      "\u001b[91mUndefVarError: ic_rnn not defined\u001b[39m",
      "",
      "Stacktrace:",
      " [1] top-level scope at In[210]:1",
      " [2] include_string(::Function, ::Module, ::String, ::String) at ./loading.jl:1091"
     ]
    }
   ],
   "source": [
    "ic_rnn_5 = search(ic_rnn, Dict(\"hidden\"=>5))\n",
    "args_list = get_final_rnn_params(ic_rnn_5, \"all\")\n",
    "@save \"../final_run_params/compassworld/compassworld_rnn_5_all.jld2\" args_list\n"
   ]
  },
  {
   "cell_type": "code",
   "execution_count": 211,
   "metadata": {},
   "outputs": [
    {
     "ename": "LoadError",
     "evalue": "\u001b[91mUndefVarError: ic_rnn_adam not defined\u001b[39m",
     "output_type": "error",
     "traceback": [
      "\u001b[91mUndefVarError: ic_rnn_adam not defined\u001b[39m",
      "",
      "Stacktrace:",
      " [1] top-level scope at In[211]:1",
      " [2] include_string(::Function, ::Module, ::String, ::String) at ./loading.jl:1091"
     ]
    }
   ],
   "source": [
    "ic_rnn_adam_5 = search(ic_rnn_adam, Dict(\"hidden\"=>5))\n",
    "args_list = get_final_rnn_params(ic_rnn_adam_5, \"all\")\n",
    "@save \"../final_run_params/compassworld/compassworld_rnn_adam_5_all.jld2\" args_list\n"
   ]
  },
  {
   "cell_type": "markdown",
   "metadata": {},
   "source": [
    "### AT RNNs"
   ]
  },
  {
   "cell_type": "code",
   "execution_count": 212,
   "metadata": {},
   "outputs": [
    {
     "ename": "LoadError",
     "evalue": "\u001b[91mSystemError: unable to read directory ../MountainCar/compassworld_rnn_aux_task/data: No such file or directory\u001b[39m",
     "output_type": "error",
     "traceback": [
      "\u001b[91mSystemError: unable to read directory ../MountainCar/compassworld_rnn_aux_task/data: No such file or directory\u001b[39m",
      "",
      "Stacktrace:",
      " [1] readdir(::String; join::Bool, sort::Bool) at ./file.jl:810",
      " [2] readdir at ./file.jl:805 [inlined]",
      " [3] ItemCollection(::String; settings_file::String, data_folder::String) at /home/matthewmcleod/.julia/packages/Reproduce/TxAhT/src/search.jl:75",
      " [4] ItemCollection(::String) at /home/matthewmcleod/.julia/packages/Reproduce/TxAhT/src/search.jl:74",
      " [5] top-level scope at In[212]:1",
      " [6] include_string(::Function, ::Module, ::String, ::String) at ./loading.jl:1091"
     ]
    }
   ],
   "source": [
    "ic_rnn_at = ItemCollection(joinpath(data_home, \"compassworld_rnn_aux_task/data\"));\n",
    "# ic_rnn_rmsprop = ItemCollection(joinpath(data_home, \"compassworld_rnn_rmsprop/data\"));\n",
    "ic_rnn_at_adam = ItemCollection(joinpath(data_home, \"compassworld_rnn_aux_task_adam/data\"));"
   ]
  },
  {
   "cell_type": "code",
   "execution_count": 213,
   "metadata": {},
   "outputs": [
    {
     "ename": "LoadError",
     "evalue": "\u001b[91mUndefVarError: ic_rnn_at not defined\u001b[39m",
     "output_type": "error",
     "traceback": [
      "\u001b[91mUndefVarError: ic_rnn_at not defined\u001b[39m",
      "",
      "Stacktrace:",
      " [1] top-level scope at In[213]:1",
      " [2] include_string(::Function, ::Module, ::String, ::String) at ./loading.jl:1091"
     ]
    }
   ],
   "source": [
    "args_list = get_final_rnn_at_params(ic_rnn_at, \"end\")\n",
    "@save \"../final_run_params/compassworld/compassworld_rnn_aux_task.jld2\" args_list"
   ]
  },
  {
   "cell_type": "code",
   "execution_count": 214,
   "metadata": {},
   "outputs": [
    {
     "ename": "LoadError",
     "evalue": "\u001b[91mUndefVarError: ic_rnn_at_adam not defined\u001b[39m",
     "output_type": "error",
     "traceback": [
      "\u001b[91mUndefVarError: ic_rnn_at_adam not defined\u001b[39m",
      "",
      "Stacktrace:",
      " [1] top-level scope at In[214]:1",
      " [2] include_string(::Function, ::Module, ::String, ::String) at ./loading.jl:1091"
     ]
    }
   ],
   "source": [
    "args_list = get_final_rnn_at_params(ic_rnn_at_adam, \"end\")\n",
    "@save \"../final_run_params/compassworld/compassworld_rnn_aux_task_adam.jld2\" args_list"
   ]
  },
  {
   "cell_type": "markdown",
   "metadata": {},
   "source": [
    "# Forecast Networks"
   ]
  },
  {
   "cell_type": "code",
   "execution_count": 215,
   "metadata": {},
   "outputs": [
    {
     "ename": "LoadError",
     "evalue": "\u001b[91mSystemError: unable to read directory ../MountainCar/compassworld_forecast/data: No such file or directory\u001b[39m",
     "output_type": "error",
     "traceback": [
      "\u001b[91mSystemError: unable to read directory ../MountainCar/compassworld_forecast/data: No such file or directory\u001b[39m",
      "",
      "Stacktrace:",
      " [1] readdir(::String; join::Bool, sort::Bool) at ./file.jl:810",
      " [2] readdir at ./file.jl:805 [inlined]",
      " [3] ItemCollection(::String; settings_file::String, data_folder::String) at /home/matthewmcleod/.julia/packages/Reproduce/TxAhT/src/search.jl:75",
      " [4] ItemCollection(::String) at /home/matthewmcleod/.julia/packages/Reproduce/TxAhT/src/search.jl:74",
      " [5] top-level scope at In[215]:1",
      " [6] include_string(::Function, ::Module, ::String, ::String) at ./loading.jl:1091"
     ]
    }
   ],
   "source": [
    "ic_forecast = ItemCollection(joinpath(data_home, \"compassworld_forecast/data\"));\n",
    "ic_forecast_rmsprop = ItemCollection(joinpath(data_home, \"compassworld_forecast_rmsprop/data\"));\n",
    "ic_forecast_adam = ItemCollection(joinpath(data_home, \"compassworld_forecast_adam/data\"));"
   ]
  },
  {
   "cell_type": "code",
   "execution_count": 216,
   "metadata": {},
   "outputs": [
    {
     "ename": "LoadError",
     "evalue": "\u001b[91mUndefVarError: ic_forecast_adam not defined\u001b[39m",
     "output_type": "error",
     "traceback": [
      "\u001b[91mUndefVarError: ic_forecast_adam not defined\u001b[39m",
      "",
      "Stacktrace:",
      " [1] top-level scope at In[216]:1",
      " [2] include_string(::Function, ::Module, ::String, ::String) at ./loading.jl:1091"
     ]
    }
   ],
   "source": [
    "diff(ic_forecast_adam)"
   ]
  },
  {
   "cell_type": "code",
   "execution_count": 217,
   "metadata": {},
   "outputs": [
    {
     "ename": "LoadError",
     "evalue": "\u001b[91mUndefVarError: ic_forecast not defined\u001b[39m",
     "output_type": "error",
     "traceback": [
      "\u001b[91mUndefVarError: ic_forecast not defined\u001b[39m",
      "",
      "Stacktrace:",
      " [1] top-level scope at In[217]:1",
      " [2] include_string(::Function, ::Module, ::String, ::String) at ./loading.jl:1091"
     ]
    }
   ],
   "source": [
    "ic_forecast_8 = search(ic_forecast, Dict(\"klength\"=>8))\n",
    "args_list = get_final_rnn_params(ic_forecast_8, \"end\")\n",
    "@save \"../final_run_params/compassworld/compassworld_forecast_8.jld2\" args_list"
   ]
  },
  {
   "cell_type": "code",
   "execution_count": 218,
   "metadata": {},
   "outputs": [
    {
     "ename": "LoadError",
     "evalue": "\u001b[91mUndefVarError: ic_forecast_rmsprop not defined\u001b[39m",
     "output_type": "error",
     "traceback": [
      "\u001b[91mUndefVarError: ic_forecast_rmsprop not defined\u001b[39m",
      "",
      "Stacktrace:",
      " [1] top-level scope at In[218]:1",
      " [2] include_string(::Function, ::Module, ::String, ::String) at ./loading.jl:1091"
     ]
    }
   ],
   "source": [
    "ic_forecast_rmsprop_8 = search(ic_forecast_rmsprop, Dict(\"klength\"=>8))\n",
    "args_list = get_final_rnn_params(ic_forecast_rmsprop_8, \"end\")\n",
    "@save \"../final_run_params/compassworld/compassworld_forecast_rmsprop_8.jld2\" args_list"
   ]
  },
  {
   "cell_type": "code",
   "execution_count": 219,
   "metadata": {},
   "outputs": [
    {
     "ename": "LoadError",
     "evalue": "\u001b[91mUndefVarError: ic_forecast_adam not defined\u001b[39m",
     "output_type": "error",
     "traceback": [
      "\u001b[91mUndefVarError: ic_forecast_adam not defined\u001b[39m",
      "",
      "Stacktrace:",
      " [1] top-level scope at In[219]:1",
      " [2] include_string(::Function, ::Module, ::String, ::String) at ./loading.jl:1091"
     ]
    }
   ],
   "source": [
    "ic_forecast_adam_8 = search(ic_forecast_adam, Dict(\"klength\"=>8))\n",
    "args_list = get_final_rnn_params(ic_forecast_adam_8, \"end\")\n",
    "@save \"../final_run_params/compassworld/compassworld_forecast_adam_8.jld2\" args_list"
   ]
  },
  {
   "cell_type": "code",
   "execution_count": 220,
   "metadata": {},
   "outputs": [
    {
     "ename": "LoadError",
     "evalue": "\u001b[91mUndefVarError: ic_forecast not defined\u001b[39m",
     "output_type": "error",
     "traceback": [
      "\u001b[91mUndefVarError: ic_forecast not defined\u001b[39m",
      "",
      "Stacktrace:",
      " [1] top-level scope at In[220]:1",
      " [2] include_string(::Function, ::Module, ::String, ::String) at ./loading.jl:1091"
     ]
    }
   ],
   "source": [
    "ic_forecast_8 = search(ic_forecast, Dict(\"klength\"=>8))\n",
    "args_list = get_final_rnn_params(ic_forecast_8, \"all\")\n",
    "@save \"../final_run_params/compassworld/compassworld_forecast_8_all.jld2\" args_list"
   ]
  },
  {
   "cell_type": "code",
   "execution_count": 221,
   "metadata": {},
   "outputs": [
    {
     "ename": "LoadError",
     "evalue": "\u001b[91mUndefVarError: ic_forecast_rmsprop not defined\u001b[39m",
     "output_type": "error",
     "traceback": [
      "\u001b[91mUndefVarError: ic_forecast_rmsprop not defined\u001b[39m",
      "",
      "Stacktrace:",
      " [1] top-level scope at In[221]:1",
      " [2] include_string(::Function, ::Module, ::String, ::String) at ./loading.jl:1091"
     ]
    }
   ],
   "source": [
    "ic_forecast_rmsprop_8 = search(ic_forecast_rmsprop, Dict(\"klength\"=>8))\n",
    "args_list = get_final_rnn_params(ic_forecast_rmsprop_8, \"all\")\n",
    "@save \"../final_run_params/compassworld/compassworld_forecast_rmsprop_8_all.jld2\" args_list"
   ]
  },
  {
   "cell_type": "code",
   "execution_count": 222,
   "metadata": {},
   "outputs": [
    {
     "ename": "LoadError",
     "evalue": "\u001b[91mUndefVarError: ic_forecast_adam not defined\u001b[39m",
     "output_type": "error",
     "traceback": [
      "\u001b[91mUndefVarError: ic_forecast_adam not defined\u001b[39m",
      "",
      "Stacktrace:",
      " [1] top-level scope at In[222]:1",
      " [2] include_string(::Function, ::Module, ::String, ::String) at ./loading.jl:1091"
     ]
    }
   ],
   "source": [
    "ic_forecast_adam_8 = search(ic_forecast_adam, Dict(\"klength\"=>8))\n",
    "args_list = get_final_rnn_params(ic_forecast_adam_8, \"all\")\n",
    "@save \"../final_run_params/compassworld/compassworld_forecast_adam_8_all.jld2\" args_list"
   ]
  },
  {
   "cell_type": "code",
   "execution_count": null,
   "metadata": {},
   "outputs": [],
   "source": []
  }
 ],
 "metadata": {
  "kernelspec": {
   "display_name": "Julia 1.5.3",
   "language": "julia",
   "name": "julia-1.5"
  },
  "language_info": {
   "file_extension": ".jl",
   "mimetype": "application/julia",
   "name": "julia",
   "version": "1.5.3"
  }
 },
 "nbformat": 4,
 "nbformat_minor": 4
}
