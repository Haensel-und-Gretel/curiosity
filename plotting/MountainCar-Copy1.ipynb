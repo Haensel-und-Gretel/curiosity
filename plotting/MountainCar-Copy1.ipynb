{
 "cells": [
  {
   "cell_type": "code",
   "execution_count": 431,
   "metadata": {},
   "outputs": [
    {
     "data": {
      "text/plain": [
       "\"../TMazeDrifterDistractorESARSAControl\""
      ]
     },
     "execution_count": 431,
     "metadata": {},
     "output_type": "execute_result"
    }
   ],
   "source": [
    "using Plots; gr()\n",
    "using Reproduce\n",
    "using FileIO\n",
    "using Statistics\n",
    "using ProgressMeter\n",
    "using JLD2\n",
    "data_home = \"../TMazeDrifterDistractorESARSAControl\""
   ]
  },
  {
   "cell_type": "code",
   "execution_count": 432,
   "metadata": {},
   "outputs": [
    {
     "data": {
      "text/plain": [
       "\"/home/matthewmcleod/Documents/Masters/curiosity/plotting\""
      ]
     },
     "execution_count": 432,
     "metadata": {},
     "output_type": "execute_result"
    }
   ],
   "source": [
    "pwd()"
   ]
  },
  {
   "cell_type": "markdown",
   "metadata": {},
   "source": [
    "# Plotting"
   ]
  },
  {
   "cell_type": "code",
   "execution_count": 433,
   "metadata": {},
   "outputs": [],
   "source": [
    "ic = ItemCollection(joinpath(data_home, \"data\"));"
   ]
  },
  {
   "cell_type": "code",
   "execution_count": 434,
   "metadata": {},
   "outputs": [
    {
     "data": {
      "text/plain": [
       "Dict{String,Array} with 6 entries:\n",
       "  \"demon_learner\"     => [\"Q\", \"SR\"]\n",
       "  \"demon_eta\"         => [0.25, 0.5, 1.0]\n",
       "  \"exploration_param\" => [0.15, 0.3]\n",
       "  \"demon_opt\"         => [\"Auto\", \"Descent\"]\n",
       "  \"seed\"              => [1, 2, 3, 4, 5, 6, 7, 8, 9, 10, 11, 12, 13, 14, 15, 16…\n",
       "  \"behaviour_eta\"     => [0.25, 0.5]"
      ]
     },
     "execution_count": 434,
     "metadata": {},
     "output_type": "execute_result"
    }
   ],
   "source": [
    "swept_params = diff(ic)\n"
   ]
  },
  {
   "cell_type": "code",
   "execution_count": 435,
   "metadata": {},
   "outputs": [
    {
     "data": {
      "text/plain": [
       "load_results (generic function with 1 method)"
      ]
     },
     "execution_count": 435,
     "metadata": {},
     "output_type": "execute_result"
    }
   ],
   "source": [
    "function load_results(ic, logger_key; return_type = \"tensor\")\n",
    "    num_results = length(ic)\n",
    "    results = []\n",
    "    for itm in ic.items\n",
    "        data = FileIO.load(joinpath(itm.folder_str, \"results.jld2\"))[\"results\"]\n",
    "        push!(results,data[logger_key])\n",
    "    end\n",
    "    \n",
    "    if return_type == \"tensor\"\n",
    "        return cat(results..., dims = 3)\n",
    "    elseif return_type == \"array\"\n",
    "        return results\n",
    "    end\n",
    "end"
   ]
  },
  {
   "cell_type": "code",
   "execution_count": 436,
   "metadata": {},
   "outputs": [
    {
     "data": {
      "text/plain": [
       "split_algo (generic function with 1 method)"
      ]
     },
     "execution_count": 436,
     "metadata": {},
     "output_type": "execute_result"
    }
   ],
   "source": [
    "# After implementing, I think I saw there is a Iterators.product that does this?\n",
    "function combine(dict_arr, key, vals)\n",
    "    new_dict_arr = []\n",
    "    for dict in dict_arr\n",
    "        for val in vals\n",
    "            new_dict = deepcopy(Dict(dict))\n",
    "            new_dict[key] = val\n",
    "            push!(new_dict_arr, new_dict)\n",
    "        end\n",
    "    end\n",
    "    return new_dict_arr\n",
    "end\n",
    "\n",
    "function split_algo(algo_ic, swept_params)\n",
    "    println(swept_params)\n",
    "    dicts = [Dict()]\n",
    "    for k in swept_params\n",
    "        list_of_params = diff(algo_ic)[k]\n",
    "        dicts = combine(dicts, k, list_of_params)\n",
    "    end\n",
    "    return dicts\n",
    "end"
   ]
  },
  {
   "cell_type": "code",
   "execution_count": 437,
   "metadata": {},
   "outputs": [
    {
     "name": "stdout",
     "output_type": "stream",
     "text": [
      "[\"demon_opt\", \"demon_learner\"]\n"
     ]
    },
    {
     "data": {
      "text/plain": [
       "4-element Array{Any,1}:\n",
       " Dict{Any,Any}(\"demon_learner\" => \"Q\",\"demon_opt\" => \"Auto\")\n",
       " Dict{Any,Any}(\"demon_learner\" => \"SR\",\"demon_opt\" => \"Auto\")\n",
       " Dict{Any,Any}(\"demon_learner\" => \"Q\",\"demon_opt\" => \"Descent\")\n",
       " Dict{Any,Any}(\"demon_learner\" => \"SR\",\"demon_opt\" => \"Descent\")"
      ]
     },
     "execution_count": 437,
     "metadata": {},
     "output_type": "execute_result"
    }
   ],
   "source": [
    "algo_divisor_keys = [\"demon_opt\", \"demon_learner\"]\n",
    "# algo_divisor_keys = [\"use_external_reward\",\"demon_learner\"]\n",
    "algo_divisors = split_algo(ic, algo_divisor_keys)"
   ]
  },
  {
   "cell_type": "code",
   "execution_count": 439,
   "metadata": {},
   "outputs": [
    {
     "name": "stdout",
     "output_type": "stream",
     "text": [
      "[\"demon_eta\", \"behaviour_eta\", \"exploration_param\"]\n"
     ]
    },
    {
     "data": {
      "text/plain": [
       "12-element Array{Any,1}:\n",
       " Dict{Any,Any}(\"demon_eta\" => 0.25,\"exploration_param\" => 0.15,\"behaviour_eta\" => 0.25)\n",
       " Dict{Any,Any}(\"demon_eta\" => 0.25,\"exploration_param\" => 0.3,\"behaviour_eta\" => 0.25)\n",
       " Dict{Any,Any}(\"demon_eta\" => 0.25,\"exploration_param\" => 0.15,\"behaviour_eta\" => 0.5)\n",
       " Dict{Any,Any}(\"demon_eta\" => 0.25,\"exploration_param\" => 0.3,\"behaviour_eta\" => 0.5)\n",
       " Dict{Any,Any}(\"demon_eta\" => 0.5,\"exploration_param\" => 0.15,\"behaviour_eta\" => 0.25)\n",
       " Dict{Any,Any}(\"demon_eta\" => 0.5,\"exploration_param\" => 0.3,\"behaviour_eta\" => 0.25)\n",
       " Dict{Any,Any}(\"demon_eta\" => 0.5,\"exploration_param\" => 0.15,\"behaviour_eta\" => 0.5)\n",
       " Dict{Any,Any}(\"demon_eta\" => 0.5,\"exploration_param\" => 0.3,\"behaviour_eta\" => 0.5)\n",
       " Dict{Any,Any}(\"demon_eta\" => 1.0,\"exploration_param\" => 0.15,\"behaviour_eta\" => 0.25)\n",
       " Dict{Any,Any}(\"demon_eta\" => 1.0,\"exploration_param\" => 0.3,\"behaviour_eta\" => 0.25)\n",
       " Dict{Any,Any}(\"demon_eta\" => 1.0,\"exploration_param\" => 0.15,\"behaviour_eta\" => 0.5)\n",
       " Dict{Any,Any}(\"demon_eta\" => 1.0,\"exploration_param\" => 0.3,\"behaviour_eta\" => 0.5)"
      ]
     },
     "execution_count": 439,
     "metadata": {},
     "output_type": "execute_result"
    }
   ],
   "source": [
    "# sweep_keys = [\"behaviour_alpha\",\"demon_alpha\"]\n",
    "sweep_keys = [\"demon_eta\", \"behaviour_eta\", \"exploration_param\"]\n",
    "sweep_divisors = split_algo(ic,sweep_keys)"
   ]
  },
  {
   "cell_type": "code",
   "execution_count": 440,
   "metadata": {},
   "outputs": [
    {
     "data": {
      "text/plain": [
       "get_best (generic function with 1 method)"
      ]
     },
     "execution_count": 440,
     "metadata": {},
     "output_type": "execute_result"
    }
   ],
   "source": [
    "function get_best(ic, sweep_params, metric)\n",
    "    splits = split_algo(ic,sweep_params)\n",
    "    errors = ones(length(splits)) * Inf\n",
    "    for (ind, split) in enumerate(splits)\n",
    "        res = load_results(search(ic, split), metric)\n",
    "        error = mean(res)\n",
    "        errors[ind] = error\n",
    "    end\n",
    "    low_err, low_err_ind = findmin(errors)\n",
    "    println(errors)\n",
    "    \n",
    "    return search(ic, splits[low_err_ind])\n",
    "end"
   ]
  },
  {
   "cell_type": "code",
   "execution_count": 441,
   "metadata": {},
   "outputs": [
    {
     "data": {
      "text/plain": [
       "get_stats (generic function with 1 method)"
      ]
     },
     "execution_count": 441,
     "metadata": {},
     "output_type": "execute_result"
    }
   ],
   "source": [
    "function get_stats(data;per_gvf=false)\n",
    "    mean_per_gvf, std_per_gvf = mean(data,dims=3)[:,:,1], std(data,dims=3)[:,:,1]\n",
    "    return a,b = if per_gvf == true\n",
    "        mean_per_gvf, std_per_gvf\n",
    "    else\n",
    "        mean(mean_per_gvf,dims=1)[1,:], mean(std_per_gvf,dims=1)[1,:]\n",
    "    end\n",
    "end"
   ]
  },
  {
   "cell_type": "code",
   "execution_count": 462,
   "metadata": {
    "scrolled": true
   },
   "outputs": [
    {
     "name": "stdout",
     "output_type": "stream",
     "text": [
      "[\"demon_eta\", \"behaviour_eta\", \"exploration_param\"]\n",
      "[1.3354809315393104, 1.3354809315393104, 1.3354809315393101, 1.3354809315393104, 1.4071785055951422, 1.4071785055951422, 1.4071785055951425, 1.4071785055951422, 1.7404705800808087, 1.7404705800808087, 1.7404705800808087, 1.7404705800808087]\n",
      "[\"demon_eta\", \"behaviour_eta\", \"exploration_param\"]\n",
      "[0.7079764699772779, 0.5175602715312368, 0.6862104695614376, 0.5327378932081152, 0.6856649325022895, 0.5335471359930778, 0.8564700760250586, 0.5063814259847524, 1.2828446849237507, 1.4052259882131208, 1.7524378568126504, 1.296988766711164]\n",
      "[\"demon_eta\", \"behaviour_eta\", \"exploration_param\"]\n",
      "[1.6132755734099455, 1.6132755734099455, 1.6132755734099458, 1.6132755734099455, 1.303704866995417, 1.303704866995417, 1.303704866995417, 1.303704866995417, 1.159902949901148, 1.1599029499011482, 1.1599029499011482, 1.1599029499011482]\n",
      "[\"demon_eta\", \"behaviour_eta\", \"exploration_param\"]\n",
      "[1.0497892817140209, 0.9175523013534834, 0.9909656661252456, 0.8601778076032452, 0.7641656535852664, 0.6315265813509515, 0.7216715951287049, 0.6483676279572619, 0.6770413901213214, 0.5344713918109348, 0.7856758011740089, 0.52359048597203]\n"
     ]
    },
    {
     "data": {
      "text/plain": [
       "4-element Array{ItemCollection,1}:\n",
       " ItemCollection(Reproduce.Item[Reproduce.Item(\"../TMazeDrifterDistractorESARSAControl/data/RP_0_0x14c5d2503c9cefbb\", Dict{String,Any}(\"logger_keys\" => [\"TTMAZE_ERROR\", \"TTMAZE_UNIFORM_ERROR\"],\"steps\" => 10000,\"behaviour_learner\" => \"Q\",\"exploration_param\" => 0.15,\"exploration_strategy\" => \"epsilon_greedy\",\"use_external_reward\" => true,\"demon_eta\" => 0.25,\"horde_type\" => \"regular\",\"drifter\" => [0.3162, 1.0],\"_GIT_INFO\" => \"0\"…), [\"steps\", \"exploration_strategy\", \"use_external_reward\", \"demon_lambda\", \"save_keys\", \"demon_update\", \"demon_learner\", \"behaviour_update\", \"behaviour_opt\", \"behaviour_lambda\"  …  \"demon_trace\", \"behaviour_gamma\", \"behaviour_trace\", \"distractor\", \"save_dir\", \"demon_alpha_init\", \"demon_opt\", \"seed\", \"demon_discounts\", \"demon_policy_type\"]), Reproduce.Item(\"../TMazeDrifterDistractorESARSAControl/data/RP_0_0x15969593fb7c8339\", Dict{String,Any}(\"logger_keys\" => [\"TTMAZE_ERROR\", \"TTMAZE_UNIFORM_ERROR\"],\"steps\" => 10000,\"behaviour_learner\" => \"Q\",\"exploration_param\" => 0.15,\"exploration_strategy\" => \"epsilon_greedy\",\"use_external_reward\" => true,\"demon_eta\" => 0.25,\"horde_type\" => \"regular\",\"drifter\" => [0.3162, 1.0],\"_GIT_INFO\" => \"0\"…), [\"steps\", \"exploration_strategy\", \"use_external_reward\", \"demon_lambda\", \"save_keys\", \"demon_update\", \"demon_learner\", \"behaviour_update\", \"behaviour_opt\", \"behaviour_lambda\"  …  \"demon_trace\", \"behaviour_gamma\", \"behaviour_trace\", \"distractor\", \"save_dir\", \"demon_alpha_init\", \"demon_opt\", \"seed\", \"demon_discounts\", \"demon_policy_type\"]), Reproduce.Item(\"../TMazeDrifterDistractorESARSAControl/data/RP_0_0x36db3f741e467632\", Dict{String,Any}(\"logger_keys\" => [\"TTMAZE_ERROR\", \"TTMAZE_UNIFORM_ERROR\"],\"steps\" => 10000,\"behaviour_learner\" => \"Q\",\"exploration_param\" => 0.15,\"exploration_strategy\" => \"epsilon_greedy\",\"use_external_reward\" => true,\"demon_eta\" => 0.25,\"horde_type\" => \"regular\",\"drifter\" => [0.3162, 1.0],\"_GIT_INFO\" => \"0\"…), [\"steps\", \"exploration_strategy\", \"use_external_reward\", \"demon_lambda\", \"save_keys\", \"demon_update\", \"demon_learner\", \"behaviour_update\", \"behaviour_opt\", \"behaviour_lambda\"  …  \"demon_trace\", \"behaviour_gamma\", \"behaviour_trace\", \"distractor\", \"save_dir\", \"demon_alpha_init\", \"demon_opt\", \"seed\", \"demon_discounts\", \"demon_policy_type\"]), Reproduce.Item(\"../TMazeDrifterDistractorESARSAControl/data/RP_0_0x3c0ae8dd45882376\", Dict{String,Any}(\"logger_keys\" => [\"TTMAZE_ERROR\", \"TTMAZE_UNIFORM_ERROR\"],\"steps\" => 10000,\"behaviour_learner\" => \"Q\",\"exploration_param\" => 0.15,\"exploration_strategy\" => \"epsilon_greedy\",\"use_external_reward\" => true,\"demon_eta\" => 0.25,\"horde_type\" => \"regular\",\"drifter\" => [0.3162, 1.0],\"_GIT_INFO\" => \"0\"…), [\"steps\", \"exploration_strategy\", \"use_external_reward\", \"demon_lambda\", \"save_keys\", \"demon_update\", \"demon_learner\", \"behaviour_update\", \"behaviour_opt\", \"behaviour_lambda\"  …  \"demon_trace\", \"behaviour_gamma\", \"behaviour_trace\", \"distractor\", \"save_dir\", \"demon_alpha_init\", \"demon_opt\", \"seed\", \"demon_discounts\", \"demon_policy_type\"]), Reproduce.Item(\"../TMazeDrifterDistractorESARSAControl/data/RP_0_0x3e518c8afb5fbfdb\", Dict{String,Any}(\"logger_keys\" => [\"TTMAZE_ERROR\", \"TTMAZE_UNIFORM_ERROR\"],\"steps\" => 10000,\"behaviour_learner\" => \"Q\",\"exploration_param\" => 0.15,\"exploration_strategy\" => \"epsilon_greedy\",\"use_external_reward\" => true,\"demon_eta\" => 0.25,\"horde_type\" => \"regular\",\"drifter\" => [0.3162, 1.0],\"_GIT_INFO\" => \"0\"…), [\"steps\", \"exploration_strategy\", \"use_external_reward\", \"demon_lambda\", \"save_keys\", \"demon_update\", \"demon_learner\", \"behaviour_update\", \"behaviour_opt\", \"behaviour_lambda\"  …  \"demon_trace\", \"behaviour_gamma\", \"behaviour_trace\", \"distractor\", \"save_dir\", \"demon_alpha_init\", \"demon_opt\", \"seed\", \"demon_discounts\", \"demon_policy_type\"]), Reproduce.Item(\"../TMazeDrifterDistractorESARSAControl/data/RP_0_0x43e234d4b6db10fd\", Dict{String,Any}(\"logger_keys\" => [\"TTMAZE_ERROR\", \"TTMAZE_UNIFORM_ERROR\"],\"steps\" => 10000,\"behaviour_learner\" => \"Q\",\"exploration_param\" => 0.15,\"exploration_strategy\" => \"epsilon_greedy\",\"use_external_reward\" => true,\"demon_eta\" => 0.25,\"horde_type\" => \"regular\",\"drifter\" => [0.3162, 1.0],\"_GIT_INFO\" => \"0\"…), [\"steps\", \"exploration_strategy\", \"use_external_reward\", \"demon_lambda\", \"save_keys\", \"demon_update\", \"demon_learner\", \"behaviour_update\", \"behaviour_opt\", \"behaviour_lambda\"  …  \"demon_trace\", \"behaviour_gamma\", \"behaviour_trace\", \"distractor\", \"save_dir\", \"demon_alpha_init\", \"demon_opt\", \"seed\", \"demon_discounts\", \"demon_policy_type\"]), Reproduce.Item(\"../TMazeDrifterDistractorESARSAControl/data/RP_0_0x51a7588f2b45cc72\", Dict{String,Any}(\"logger_keys\" => [\"TTMAZE_ERROR\", \"TTMAZE_UNIFORM_ERROR\"],\"steps\" => 10000,\"behaviour_learner\" => \"Q\",\"exploration_param\" => 0.15,\"exploration_strategy\" => \"epsilon_greedy\",\"use_external_reward\" => true,\"demon_eta\" => 0.25,\"horde_type\" => \"regular\",\"drifter\" => [0.3162, 1.0],\"_GIT_INFO\" => \"0\"…), [\"steps\", \"exploration_strategy\", \"use_external_reward\", \"demon_lambda\", \"save_keys\", \"demon_update\", \"demon_learner\", \"behaviour_update\", \"behaviour_opt\", \"behaviour_lambda\"  …  \"demon_trace\", \"behaviour_gamma\", \"behaviour_trace\", \"distractor\", \"save_dir\", \"demon_alpha_init\", \"demon_opt\", \"seed\", \"demon_discounts\", \"demon_policy_type\"]), Reproduce.Item(\"../TMazeDrifterDistractorESARSAControl/data/RP_0_0x526da74131979539\", Dict{String,Any}(\"logger_keys\" => [\"TTMAZE_ERROR\", \"TTMAZE_UNIFORM_ERROR\"],\"steps\" => 10000,\"behaviour_learner\" => \"Q\",\"exploration_param\" => 0.15,\"exploration_strategy\" => \"epsilon_greedy\",\"use_external_reward\" => true,\"demon_eta\" => 0.25,\"horde_type\" => \"regular\",\"drifter\" => [0.3162, 1.0],\"_GIT_INFO\" => \"0\"…), [\"steps\", \"exploration_strategy\", \"use_external_reward\", \"demon_lambda\", \"save_keys\", \"demon_update\", \"demon_learner\", \"behaviour_update\", \"behaviour_opt\", \"behaviour_lambda\"  …  \"demon_trace\", \"behaviour_gamma\", \"behaviour_trace\", \"distractor\", \"save_dir\", \"demon_alpha_init\", \"demon_opt\", \"seed\", \"demon_discounts\", \"demon_policy_type\"]), Reproduce.Item(\"../TMazeDrifterDistractorESARSAControl/data/RP_0_0x572237ea0f0e5280\", Dict{String,Any}(\"logger_keys\" => [\"TTMAZE_ERROR\", \"TTMAZE_UNIFORM_ERROR\"],\"steps\" => 10000,\"behaviour_learner\" => \"Q\",\"exploration_param\" => 0.15,\"exploration_strategy\" => \"epsilon_greedy\",\"use_external_reward\" => true,\"demon_eta\" => 0.25,\"horde_type\" => \"regular\",\"drifter\" => [0.3162, 1.0],\"_GIT_INFO\" => \"0\"…), [\"steps\", \"exploration_strategy\", \"use_external_reward\", \"demon_lambda\", \"save_keys\", \"demon_update\", \"demon_learner\", \"behaviour_update\", \"behaviour_opt\", \"behaviour_lambda\"  …  \"demon_trace\", \"behaviour_gamma\", \"behaviour_trace\", \"distractor\", \"save_dir\", \"demon_alpha_init\", \"demon_opt\", \"seed\", \"demon_discounts\", \"demon_policy_type\"]), Reproduce.Item(\"../TMazeDrifterDistractorESARSAControl/data/RP_0_0x6ace4fca1beb4212\", Dict{String,Any}(\"logger_keys\" => [\"TTMAZE_ERROR\", \"TTMAZE_UNIFORM_ERROR\"],\"steps\" => 10000,\"behaviour_learner\" => \"Q\",\"exploration_param\" => 0.15,\"exploration_strategy\" => \"epsilon_greedy\",\"use_external_reward\" => true,\"demon_eta\" => 0.25,\"horde_type\" => \"regular\",\"drifter\" => [0.3162, 1.0],\"_GIT_INFO\" => \"0\"…), [\"steps\", \"exploration_strategy\", \"use_external_reward\", \"demon_lambda\", \"save_keys\", \"demon_update\", \"demon_learner\", \"behaviour_update\", \"behaviour_opt\", \"behaviour_lambda\"  …  \"demon_trace\", \"behaviour_gamma\", \"behaviour_trace\", \"distractor\", \"save_dir\", \"demon_alpha_init\", \"demon_opt\", \"seed\", \"demon_discounts\", \"demon_policy_type\"]), Reproduce.Item(\"../TMazeDrifterDistractorESARSAControl/data/RP_0_0x738dabaac78138bd\", Dict{String,Any}(\"logger_keys\" => [\"TTMAZE_ERROR\", \"TTMAZE_UNIFORM_ERROR\"],\"steps\" => 10000,\"behaviour_learner\" => \"Q\",\"exploration_param\" => 0.15,\"exploration_strategy\" => \"epsilon_greedy\",\"use_external_reward\" => true,\"demon_eta\" => 0.25,\"horde_type\" => \"regular\",\"drifter\" => [0.3162, 1.0],\"_GIT_INFO\" => \"0\"…), [\"steps\", \"exploration_strategy\", \"use_external_reward\", \"demon_lambda\", \"save_keys\", \"demon_update\", \"demon_learner\", \"behaviour_update\", \"behaviour_opt\", \"behaviour_lambda\"  …  \"demon_trace\", \"behaviour_gamma\", \"behaviour_trace\", \"distractor\", \"save_dir\", \"demon_alpha_init\", \"demon_opt\", \"seed\", \"demon_discounts\", \"demon_policy_type\"]), Reproduce.Item(\"../TMazeDrifterDistractorESARSAControl/data/RP_0_0x74648164eb38d44a\", Dict{String,Any}(\"logger_keys\" => [\"TTMAZE_ERROR\", \"TTMAZE_UNIFORM_ERROR\"],\"steps\" => 10000,\"behaviour_learner\" => \"Q\",\"exploration_param\" => 0.15,\"exploration_strategy\" => \"epsilon_greedy\",\"use_external_reward\" => true,\"demon_eta\" => 0.25,\"horde_type\" => \"regular\",\"drifter\" => [0.3162, 1.0],\"_GIT_INFO\" => \"0\"…), [\"steps\", \"exploration_strategy\", \"use_external_reward\", \"demon_lambda\", \"save_keys\", \"demon_update\", \"demon_learner\", \"behaviour_update\", \"behaviour_opt\", \"behaviour_lambda\"  …  \"demon_trace\", \"behaviour_gamma\", \"behaviour_trace\", \"distractor\", \"save_dir\", \"demon_alpha_init\", \"demon_opt\", \"seed\", \"demon_discounts\", \"demon_policy_type\"]), Reproduce.Item(\"../TMazeDrifterDistractorESARSAControl/data/RP_0_0x931dce9917af3a2e\", Dict{String,Any}(\"logger_keys\" => [\"TTMAZE_ERROR\", \"TTMAZE_UNIFORM_ERROR\"],\"steps\" => 10000,\"behaviour_learner\" => \"Q\",\"exploration_param\" => 0.15,\"exploration_strategy\" => \"epsilon_greedy\",\"use_external_reward\" => true,\"demon_eta\" => 0.25,\"horde_type\" => \"regular\",\"drifter\" => [0.3162, 1.0],\"_GIT_INFO\" => \"0\"…), [\"steps\", \"exploration_strategy\", \"use_external_reward\", \"demon_lambda\", \"save_keys\", \"demon_update\", \"demon_learner\", \"behaviour_update\", \"behaviour_opt\", \"behaviour_lambda\"  …  \"demon_trace\", \"behaviour_gamma\", \"behaviour_trace\", \"distractor\", \"save_dir\", \"demon_alpha_init\", \"demon_opt\", \"seed\", \"demon_discounts\", \"demon_policy_type\"]), Reproduce.Item(\"../TMazeDrifterDistractorESARSAControl/data/RP_0_0xb4bc2b9ad57ff907\", Dict{String,Any}(\"logger_keys\" => [\"TTMAZE_ERROR\", \"TTMAZE_UNIFORM_ERROR\"],\"steps\" => 10000,\"behaviour_learner\" => \"Q\",\"exploration_param\" => 0.15,\"exploration_strategy\" => \"epsilon_greedy\",\"use_external_reward\" => true,\"demon_eta\" => 0.25,\"horde_type\" => \"regular\",\"drifter\" => [0.3162, 1.0],\"_GIT_INFO\" => \"0\"…), [\"steps\", \"exploration_strategy\", \"use_external_reward\", \"demon_lambda\", \"save_keys\", \"demon_update\", \"demon_learner\", \"behaviour_update\", \"behaviour_opt\", \"behaviour_lambda\"  …  \"demon_trace\", \"behaviour_gamma\", \"behaviour_trace\", \"distractor\", \"save_dir\", \"demon_alpha_init\", \"demon_opt\", \"seed\", \"demon_discounts\", \"demon_policy_type\"]), Reproduce.Item(\"../TMazeDrifterDistractorESARSAControl/data/RP_0_0xbbabeddee4adac7f\", Dict{String,Any}(\"logger_keys\" => [\"TTMAZE_ERROR\", \"TTMAZE_UNIFORM_ERROR\"],\"steps\" => 10000,\"behaviour_learner\" => \"Q\",\"exploration_param\" => 0.15,\"exploration_strategy\" => \"epsilon_greedy\",\"use_external_reward\" => true,\"demon_eta\" => 0.25,\"horde_type\" => \"regular\",\"drifter\" => [0.3162, 1.0],\"_GIT_INFO\" => \"0\"…), [\"steps\", \"exploration_strategy\", \"use_external_reward\", \"demon_lambda\", \"save_keys\", \"demon_update\", \"demon_learner\", \"behaviour_update\", \"behaviour_opt\", \"behaviour_lambda\"  …  \"demon_trace\", \"behaviour_gamma\", \"behaviour_trace\", \"distractor\", \"save_dir\", \"demon_alpha_init\", \"demon_opt\", \"seed\", \"demon_discounts\", \"demon_policy_type\"]), Reproduce.Item(\"../TMazeDrifterDistractorESARSAControl/data/RP_0_0xd518df0f4c2c6591\", Dict{String,Any}(\"logger_keys\" => [\"TTMAZE_ERROR\", \"TTMAZE_UNIFORM_ERROR\"],\"steps\" => 10000,\"behaviour_learner\" => \"Q\",\"exploration_param\" => 0.15,\"exploration_strategy\" => \"epsilon_greedy\",\"use_external_reward\" => true,\"demon_eta\" => 0.25,\"horde_type\" => \"regular\",\"drifter\" => [0.3162, 1.0],\"_GIT_INFO\" => \"0\"…), [\"steps\", \"exploration_strategy\", \"use_external_reward\", \"demon_lambda\", \"save_keys\", \"demon_update\", \"demon_learner\", \"behaviour_update\", \"behaviour_opt\", \"behaviour_lambda\"  …  \"demon_trace\", \"behaviour_gamma\", \"behaviour_trace\", \"distractor\", \"save_dir\", \"demon_alpha_init\", \"demon_opt\", \"seed\", \"demon_discounts\", \"demon_policy_type\"]), Reproduce.Item(\"../TMazeDrifterDistractorESARSAControl/data/RP_0_0xdec9b1d2fc7df41d\", Dict{String,Any}(\"logger_keys\" => [\"TTMAZE_ERROR\", \"TTMAZE_UNIFORM_ERROR\"],\"steps\" => 10000,\"behaviour_learner\" => \"Q\",\"exploration_param\" => 0.15,\"exploration_strategy\" => \"epsilon_greedy\",\"use_external_reward\" => true,\"demon_eta\" => 0.25,\"horde_type\" => \"regular\",\"drifter\" => [0.3162, 1.0],\"_GIT_INFO\" => \"0\"…), [\"steps\", \"exploration_strategy\", \"use_external_reward\", \"demon_lambda\", \"save_keys\", \"demon_update\", \"demon_learner\", \"behaviour_update\", \"behaviour_opt\", \"behaviour_lambda\"  …  \"demon_trace\", \"behaviour_gamma\", \"behaviour_trace\", \"distractor\", \"save_dir\", \"demon_alpha_init\", \"demon_opt\", \"seed\", \"demon_discounts\", \"demon_policy_type\"]), Reproduce.Item(\"../TMazeDrifterDistractorESARSAControl/data/RP_0_0xf2cc983d65fa1dc\", Dict{String,Any}(\"logger_keys\" => [\"TTMAZE_ERROR\", \"TTMAZE_UNIFORM_ERROR\"],\"steps\" => 10000,\"behaviour_learner\" => \"Q\",\"exploration_param\" => 0.15,\"exploration_strategy\" => \"epsilon_greedy\",\"use_external_reward\" => true,\"demon_eta\" => 0.25,\"horde_type\" => \"regular\",\"drifter\" => [0.3162, 1.0],\"_GIT_INFO\" => \"0\"…), [\"steps\", \"exploration_strategy\", \"use_external_reward\", \"demon_lambda\", \"save_keys\", \"demon_update\", \"demon_learner\", \"behaviour_update\", \"behaviour_opt\", \"behaviour_lambda\"  …  \"demon_trace\", \"behaviour_gamma\", \"behaviour_trace\", \"distractor\", \"save_dir\", \"demon_alpha_init\", \"demon_opt\", \"seed\", \"demon_discounts\", \"demon_policy_type\"]), Reproduce.Item(\"../TMazeDrifterDistractorESARSAControl/data/RP_0_0xf4eb7e4886c09dff\", Dict{String,Any}(\"logger_keys\" => [\"TTMAZE_ERROR\", \"TTMAZE_UNIFORM_ERROR\"],\"steps\" => 10000,\"behaviour_learner\" => \"Q\",\"exploration_param\" => 0.15,\"exploration_strategy\" => \"epsilon_greedy\",\"use_external_reward\" => true,\"demon_eta\" => 0.25,\"horde_type\" => \"regular\",\"drifter\" => [0.3162, 1.0],\"_GIT_INFO\" => \"0\"…), [\"steps\", \"exploration_strategy\", \"use_external_reward\", \"demon_lambda\", \"save_keys\", \"demon_update\", \"demon_learner\", \"behaviour_update\", \"behaviour_opt\", \"behaviour_lambda\"  …  \"demon_trace\", \"behaviour_gamma\", \"behaviour_trace\", \"distractor\", \"save_dir\", \"demon_alpha_init\", \"demon_opt\", \"seed\", \"demon_discounts\", \"demon_policy_type\"]), Reproduce.Item(\"../TMazeDrifterDistractorESARSAControl/data/RP_0_0xf8d760f805adb20c\", Dict{String,Any}(\"logger_keys\" => [\"TTMAZE_ERROR\", \"TTMAZE_UNIFORM_ERROR\"],\"steps\" => 10000,\"behaviour_learner\" => \"Q\",\"exploration_param\" => 0.15,\"exploration_strategy\" => \"epsilon_greedy\",\"use_external_reward\" => true,\"demon_eta\" => 0.25,\"horde_type\" => \"regular\",\"drifter\" => [0.3162, 1.0],\"_GIT_INFO\" => \"0\"…), [\"steps\", \"exploration_strategy\", \"use_external_reward\", \"demon_lambda\", \"save_keys\", \"demon_update\", \"demon_learner\", \"behaviour_update\", \"behaviour_opt\", \"behaviour_lambda\"  …  \"demon_trace\", \"behaviour_gamma\", \"behaviour_trace\", \"distractor\", \"save_dir\", \"demon_alpha_init\", \"demon_opt\", \"seed\", \"demon_discounts\", \"demon_policy_type\"])], 0x0000000000000000)\n",
       " ItemCollection(Reproduce.Item[Reproduce.Item(\"../TMazeDrifterDistractorESARSAControl/data/RP_0_0x12ab82953e82b693\", Dict{String,Any}(\"logger_keys\" => [\"TTMAZE_ERROR\", \"TTMAZE_UNIFORM_ERROR\"],\"steps\" => 10000,\"behaviour_learner\" => \"Q\",\"exploration_param\" => 0.3,\"exploration_strategy\" => \"epsilon_greedy\",\"use_external_reward\" => true,\"demon_eta\" => 0.5,\"horde_type\" => \"regular\",\"drifter\" => [0.3162, 1.0],\"_GIT_INFO\" => \"0\"…), [\"steps\", \"exploration_strategy\", \"use_external_reward\", \"demon_lambda\", \"save_keys\", \"demon_update\", \"demon_learner\", \"behaviour_update\", \"behaviour_opt\", \"behaviour_lambda\"  …  \"demon_trace\", \"behaviour_gamma\", \"behaviour_trace\", \"distractor\", \"save_dir\", \"demon_alpha_init\", \"demon_opt\", \"seed\", \"demon_discounts\", \"demon_policy_type\"]), Reproduce.Item(\"../TMazeDrifterDistractorESARSAControl/data/RP_0_0x15f51e6c7d4e01a7\", Dict{String,Any}(\"logger_keys\" => [\"TTMAZE_ERROR\", \"TTMAZE_UNIFORM_ERROR\"],\"steps\" => 10000,\"behaviour_learner\" => \"Q\",\"exploration_param\" => 0.3,\"exploration_strategy\" => \"epsilon_greedy\",\"use_external_reward\" => true,\"demon_eta\" => 0.5,\"horde_type\" => \"regular\",\"drifter\" => [0.3162, 1.0],\"_GIT_INFO\" => \"0\"…), [\"steps\", \"exploration_strategy\", \"use_external_reward\", \"demon_lambda\", \"save_keys\", \"demon_update\", \"demon_learner\", \"behaviour_update\", \"behaviour_opt\", \"behaviour_lambda\"  …  \"demon_trace\", \"behaviour_gamma\", \"behaviour_trace\", \"distractor\", \"save_dir\", \"demon_alpha_init\", \"demon_opt\", \"seed\", \"demon_discounts\", \"demon_policy_type\"]), Reproduce.Item(\"../TMazeDrifterDistractorESARSAControl/data/RP_0_0x1b59e1e6c6b4d4e7\", Dict{String,Any}(\"logger_keys\" => [\"TTMAZE_ERROR\", \"TTMAZE_UNIFORM_ERROR\"],\"steps\" => 10000,\"behaviour_learner\" => \"Q\",\"exploration_param\" => 0.3,\"exploration_strategy\" => \"epsilon_greedy\",\"use_external_reward\" => true,\"demon_eta\" => 0.5,\"horde_type\" => \"regular\",\"drifter\" => [0.3162, 1.0],\"_GIT_INFO\" => \"0\"…), [\"steps\", \"exploration_strategy\", \"use_external_reward\", \"demon_lambda\", \"save_keys\", \"demon_update\", \"demon_learner\", \"behaviour_update\", \"behaviour_opt\", \"behaviour_lambda\"  …  \"demon_trace\", \"behaviour_gamma\", \"behaviour_trace\", \"distractor\", \"save_dir\", \"demon_alpha_init\", \"demon_opt\", \"seed\", \"demon_discounts\", \"demon_policy_type\"]), Reproduce.Item(\"../TMazeDrifterDistractorESARSAControl/data/RP_0_0x2933a2e0ae3c1953\", Dict{String,Any}(\"logger_keys\" => [\"TTMAZE_ERROR\", \"TTMAZE_UNIFORM_ERROR\"],\"steps\" => 10000,\"behaviour_learner\" => \"Q\",\"exploration_param\" => 0.3,\"exploration_strategy\" => \"epsilon_greedy\",\"use_external_reward\" => true,\"demon_eta\" => 0.5,\"horde_type\" => \"regular\",\"drifter\" => [0.3162, 1.0],\"_GIT_INFO\" => \"0\"…), [\"steps\", \"exploration_strategy\", \"use_external_reward\", \"demon_lambda\", \"save_keys\", \"demon_update\", \"demon_learner\", \"behaviour_update\", \"behaviour_opt\", \"behaviour_lambda\"  …  \"demon_trace\", \"behaviour_gamma\", \"behaviour_trace\", \"distractor\", \"save_dir\", \"demon_alpha_init\", \"demon_opt\", \"seed\", \"demon_discounts\", \"demon_policy_type\"]), Reproduce.Item(\"../TMazeDrifterDistractorESARSAControl/data/RP_0_0x2c54c91e5cf09f7\", Dict{String,Any}(\"logger_keys\" => [\"TTMAZE_ERROR\", \"TTMAZE_UNIFORM_ERROR\"],\"steps\" => 10000,\"behaviour_learner\" => \"Q\",\"exploration_param\" => 0.3,\"exploration_strategy\" => \"epsilon_greedy\",\"use_external_reward\" => true,\"demon_eta\" => 0.5,\"horde_type\" => \"regular\",\"drifter\" => [0.3162, 1.0],\"_GIT_INFO\" => \"0\"…), [\"steps\", \"exploration_strategy\", \"use_external_reward\", \"demon_lambda\", \"save_keys\", \"demon_update\", \"demon_learner\", \"behaviour_update\", \"behaviour_opt\", \"behaviour_lambda\"  …  \"demon_trace\", \"behaviour_gamma\", \"behaviour_trace\", \"distractor\", \"save_dir\", \"demon_alpha_init\", \"demon_opt\", \"seed\", \"demon_discounts\", \"demon_policy_type\"]), Reproduce.Item(\"../TMazeDrifterDistractorESARSAControl/data/RP_0_0x3cb52bff06bea68a\", Dict{String,Any}(\"logger_keys\" => [\"TTMAZE_ERROR\", \"TTMAZE_UNIFORM_ERROR\"],\"steps\" => 10000,\"behaviour_learner\" => \"Q\",\"exploration_param\" => 0.3,\"exploration_strategy\" => \"epsilon_greedy\",\"use_external_reward\" => true,\"demon_eta\" => 0.5,\"horde_type\" => \"regular\",\"drifter\" => [0.3162, 1.0],\"_GIT_INFO\" => \"0\"…), [\"steps\", \"exploration_strategy\", \"use_external_reward\", \"demon_lambda\", \"save_keys\", \"demon_update\", \"demon_learner\", \"behaviour_update\", \"behaviour_opt\", \"behaviour_lambda\"  …  \"demon_trace\", \"behaviour_gamma\", \"behaviour_trace\", \"distractor\", \"save_dir\", \"demon_alpha_init\", \"demon_opt\", \"seed\", \"demon_discounts\", \"demon_policy_type\"]), Reproduce.Item(\"../TMazeDrifterDistractorESARSAControl/data/RP_0_0x48c8724335984085\", Dict{String,Any}(\"logger_keys\" => [\"TTMAZE_ERROR\", \"TTMAZE_UNIFORM_ERROR\"],\"steps\" => 10000,\"behaviour_learner\" => \"Q\",\"exploration_param\" => 0.3,\"exploration_strategy\" => \"epsilon_greedy\",\"use_external_reward\" => true,\"demon_eta\" => 0.5,\"horde_type\" => \"regular\",\"drifter\" => [0.3162, 1.0],\"_GIT_INFO\" => \"0\"…), [\"steps\", \"exploration_strategy\", \"use_external_reward\", \"demon_lambda\", \"save_keys\", \"demon_update\", \"demon_learner\", \"behaviour_update\", \"behaviour_opt\", \"behaviour_lambda\"  …  \"demon_trace\", \"behaviour_gamma\", \"behaviour_trace\", \"distractor\", \"save_dir\", \"demon_alpha_init\", \"demon_opt\", \"seed\", \"demon_discounts\", \"demon_policy_type\"]), Reproduce.Item(\"../TMazeDrifterDistractorESARSAControl/data/RP_0_0x64a895018f6a0d8\", Dict{String,Any}(\"logger_keys\" => [\"TTMAZE_ERROR\", \"TTMAZE_UNIFORM_ERROR\"],\"steps\" => 10000,\"behaviour_learner\" => \"Q\",\"exploration_param\" => 0.3,\"exploration_strategy\" => \"epsilon_greedy\",\"use_external_reward\" => true,\"demon_eta\" => 0.5,\"horde_type\" => \"regular\",\"drifter\" => [0.3162, 1.0],\"_GIT_INFO\" => \"0\"…), [\"steps\", \"exploration_strategy\", \"use_external_reward\", \"demon_lambda\", \"save_keys\", \"demon_update\", \"demon_learner\", \"behaviour_update\", \"behaviour_opt\", \"behaviour_lambda\"  …  \"demon_trace\", \"behaviour_gamma\", \"behaviour_trace\", \"distractor\", \"save_dir\", \"demon_alpha_init\", \"demon_opt\", \"seed\", \"demon_discounts\", \"demon_policy_type\"]), Reproduce.Item(\"../TMazeDrifterDistractorESARSAControl/data/RP_0_0x6d9efe11f8255327\", Dict{String,Any}(\"logger_keys\" => [\"TTMAZE_ERROR\", \"TTMAZE_UNIFORM_ERROR\"],\"steps\" => 10000,\"behaviour_learner\" => \"Q\",\"exploration_param\" => 0.3,\"exploration_strategy\" => \"epsilon_greedy\",\"use_external_reward\" => true,\"demon_eta\" => 0.5,\"horde_type\" => \"regular\",\"drifter\" => [0.3162, 1.0],\"_GIT_INFO\" => \"0\"…), [\"steps\", \"exploration_strategy\", \"use_external_reward\", \"demon_lambda\", \"save_keys\", \"demon_update\", \"demon_learner\", \"behaviour_update\", \"behaviour_opt\", \"behaviour_lambda\"  …  \"demon_trace\", \"behaviour_gamma\", \"behaviour_trace\", \"distractor\", \"save_dir\", \"demon_alpha_init\", \"demon_opt\", \"seed\", \"demon_discounts\", \"demon_policy_type\"]), Reproduce.Item(\"../TMazeDrifterDistractorESARSAControl/data/RP_0_0x6fdc5e586c373750\", Dict{String,Any}(\"logger_keys\" => [\"TTMAZE_ERROR\", \"TTMAZE_UNIFORM_ERROR\"],\"steps\" => 10000,\"behaviour_learner\" => \"Q\",\"exploration_param\" => 0.3,\"exploration_strategy\" => \"epsilon_greedy\",\"use_external_reward\" => true,\"demon_eta\" => 0.5,\"horde_type\" => \"regular\",\"drifter\" => [0.3162, 1.0],\"_GIT_INFO\" => \"0\"…), [\"steps\", \"exploration_strategy\", \"use_external_reward\", \"demon_lambda\", \"save_keys\", \"demon_update\", \"demon_learner\", \"behaviour_update\", \"behaviour_opt\", \"behaviour_lambda\"  …  \"demon_trace\", \"behaviour_gamma\", \"behaviour_trace\", \"distractor\", \"save_dir\", \"demon_alpha_init\", \"demon_opt\", \"seed\", \"demon_discounts\", \"demon_policy_type\"]), Reproduce.Item(\"../TMazeDrifterDistractorESARSAControl/data/RP_0_0x76a092f97935c5bf\", Dict{String,Any}(\"logger_keys\" => [\"TTMAZE_ERROR\", \"TTMAZE_UNIFORM_ERROR\"],\"steps\" => 10000,\"behaviour_learner\" => \"Q\",\"exploration_param\" => 0.3,\"exploration_strategy\" => \"epsilon_greedy\",\"use_external_reward\" => true,\"demon_eta\" => 0.5,\"horde_type\" => \"regular\",\"drifter\" => [0.3162, 1.0],\"_GIT_INFO\" => \"0\"…), [\"steps\", \"exploration_strategy\", \"use_external_reward\", \"demon_lambda\", \"save_keys\", \"demon_update\", \"demon_learner\", \"behaviour_update\", \"behaviour_opt\", \"behaviour_lambda\"  …  \"demon_trace\", \"behaviour_gamma\", \"behaviour_trace\", \"distractor\", \"save_dir\", \"demon_alpha_init\", \"demon_opt\", \"seed\", \"demon_discounts\", \"demon_policy_type\"]), Reproduce.Item(\"../TMazeDrifterDistractorESARSAControl/data/RP_0_0x808a17166fd205f0\", Dict{String,Any}(\"logger_keys\" => [\"TTMAZE_ERROR\", \"TTMAZE_UNIFORM_ERROR\"],\"steps\" => 10000,\"behaviour_learner\" => \"Q\",\"exploration_param\" => 0.3,\"exploration_strategy\" => \"epsilon_greedy\",\"use_external_reward\" => true,\"demon_eta\" => 0.5,\"horde_type\" => \"regular\",\"drifter\" => [0.3162, 1.0],\"_GIT_INFO\" => \"0\"…), [\"steps\", \"exploration_strategy\", \"use_external_reward\", \"demon_lambda\", \"save_keys\", \"demon_update\", \"demon_learner\", \"behaviour_update\", \"behaviour_opt\", \"behaviour_lambda\"  …  \"demon_trace\", \"behaviour_gamma\", \"behaviour_trace\", \"distractor\", \"save_dir\", \"demon_alpha_init\", \"demon_opt\", \"seed\", \"demon_discounts\", \"demon_policy_type\"]), Reproduce.Item(\"../TMazeDrifterDistractorESARSAControl/data/RP_0_0x913d35e385ec14a6\", Dict{String,Any}(\"logger_keys\" => [\"TTMAZE_ERROR\", \"TTMAZE_UNIFORM_ERROR\"],\"steps\" => 10000,\"behaviour_learner\" => \"Q\",\"exploration_param\" => 0.3,\"exploration_strategy\" => \"epsilon_greedy\",\"use_external_reward\" => true,\"demon_eta\" => 0.5,\"horde_type\" => \"regular\",\"drifter\" => [0.3162, 1.0],\"_GIT_INFO\" => \"0\"…), [\"steps\", \"exploration_strategy\", \"use_external_reward\", \"demon_lambda\", \"save_keys\", \"demon_update\", \"demon_learner\", \"behaviour_update\", \"behaviour_opt\", \"behaviour_lambda\"  …  \"demon_trace\", \"behaviour_gamma\", \"behaviour_trace\", \"distractor\", \"save_dir\", \"demon_alpha_init\", \"demon_opt\", \"seed\", \"demon_discounts\", \"demon_policy_type\"]), Reproduce.Item(\"../TMazeDrifterDistractorESARSAControl/data/RP_0_0xa8be7032b4fb4a8d\", Dict{String,Any}(\"logger_keys\" => [\"TTMAZE_ERROR\", \"TTMAZE_UNIFORM_ERROR\"],\"steps\" => 10000,\"behaviour_learner\" => \"Q\",\"exploration_param\" => 0.3,\"exploration_strategy\" => \"epsilon_greedy\",\"use_external_reward\" => true,\"demon_eta\" => 0.5,\"horde_type\" => \"regular\",\"drifter\" => [0.3162, 1.0],\"_GIT_INFO\" => \"0\"…), [\"steps\", \"exploration_strategy\", \"use_external_reward\", \"demon_lambda\", \"save_keys\", \"demon_update\", \"demon_learner\", \"behaviour_update\", \"behaviour_opt\", \"behaviour_lambda\"  …  \"demon_trace\", \"behaviour_gamma\", \"behaviour_trace\", \"distractor\", \"save_dir\", \"demon_alpha_init\", \"demon_opt\", \"seed\", \"demon_discounts\", \"demon_policy_type\"]), Reproduce.Item(\"../TMazeDrifterDistractorESARSAControl/data/RP_0_0xcf333304f4f28de7\", Dict{String,Any}(\"logger_keys\" => [\"TTMAZE_ERROR\", \"TTMAZE_UNIFORM_ERROR\"],\"steps\" => 10000,\"behaviour_learner\" => \"Q\",\"exploration_param\" => 0.3,\"exploration_strategy\" => \"epsilon_greedy\",\"use_external_reward\" => true,\"demon_eta\" => 0.5,\"horde_type\" => \"regular\",\"drifter\" => [0.3162, 1.0],\"_GIT_INFO\" => \"0\"…), [\"steps\", \"exploration_strategy\", \"use_external_reward\", \"demon_lambda\", \"save_keys\", \"demon_update\", \"demon_learner\", \"behaviour_update\", \"behaviour_opt\", \"behaviour_lambda\"  …  \"demon_trace\", \"behaviour_gamma\", \"behaviour_trace\", \"distractor\", \"save_dir\", \"demon_alpha_init\", \"demon_opt\", \"seed\", \"demon_discounts\", \"demon_policy_type\"]), Reproduce.Item(\"../TMazeDrifterDistractorESARSAControl/data/RP_0_0xcfcd30b3fd295e30\", Dict{String,Any}(\"logger_keys\" => [\"TTMAZE_ERROR\", \"TTMAZE_UNIFORM_ERROR\"],\"steps\" => 10000,\"behaviour_learner\" => \"Q\",\"exploration_param\" => 0.3,\"exploration_strategy\" => \"epsilon_greedy\",\"use_external_reward\" => true,\"demon_eta\" => 0.5,\"horde_type\" => \"regular\",\"drifter\" => [0.3162, 1.0],\"_GIT_INFO\" => \"0\"…), [\"steps\", \"exploration_strategy\", \"use_external_reward\", \"demon_lambda\", \"save_keys\", \"demon_update\", \"demon_learner\", \"behaviour_update\", \"behaviour_opt\", \"behaviour_lambda\"  …  \"demon_trace\", \"behaviour_gamma\", \"behaviour_trace\", \"distractor\", \"save_dir\", \"demon_alpha_init\", \"demon_opt\", \"seed\", \"demon_discounts\", \"demon_policy_type\"]), Reproduce.Item(\"../TMazeDrifterDistractorESARSAControl/data/RP_0_0xe07dbf098f648931\", Dict{String,Any}(\"logger_keys\" => [\"TTMAZE_ERROR\", \"TTMAZE_UNIFORM_ERROR\"],\"steps\" => 10000,\"behaviour_learner\" => \"Q\",\"exploration_param\" => 0.3,\"exploration_strategy\" => \"epsilon_greedy\",\"use_external_reward\" => true,\"demon_eta\" => 0.5,\"horde_type\" => \"regular\",\"drifter\" => [0.3162, 1.0],\"_GIT_INFO\" => \"0\"…), [\"steps\", \"exploration_strategy\", \"use_external_reward\", \"demon_lambda\", \"save_keys\", \"demon_update\", \"demon_learner\", \"behaviour_update\", \"behaviour_opt\", \"behaviour_lambda\"  …  \"demon_trace\", \"behaviour_gamma\", \"behaviour_trace\", \"distractor\", \"save_dir\", \"demon_alpha_init\", \"demon_opt\", \"seed\", \"demon_discounts\", \"demon_policy_type\"]), Reproduce.Item(\"../TMazeDrifterDistractorESARSAControl/data/RP_0_0xe291947f5b3c98af\", Dict{String,Any}(\"logger_keys\" => [\"TTMAZE_ERROR\", \"TTMAZE_UNIFORM_ERROR\"],\"steps\" => 10000,\"behaviour_learner\" => \"Q\",\"exploration_param\" => 0.3,\"exploration_strategy\" => \"epsilon_greedy\",\"use_external_reward\" => true,\"demon_eta\" => 0.5,\"horde_type\" => \"regular\",\"drifter\" => [0.3162, 1.0],\"_GIT_INFO\" => \"0\"…), [\"steps\", \"exploration_strategy\", \"use_external_reward\", \"demon_lambda\", \"save_keys\", \"demon_update\", \"demon_learner\", \"behaviour_update\", \"behaviour_opt\", \"behaviour_lambda\"  …  \"demon_trace\", \"behaviour_gamma\", \"behaviour_trace\", \"distractor\", \"save_dir\", \"demon_alpha_init\", \"demon_opt\", \"seed\", \"demon_discounts\", \"demon_policy_type\"]), Reproduce.Item(\"../TMazeDrifterDistractorESARSAControl/data/RP_0_0xf7a0b7f929f2956a\", Dict{String,Any}(\"logger_keys\" => [\"TTMAZE_ERROR\", \"TTMAZE_UNIFORM_ERROR\"],\"steps\" => 10000,\"behaviour_learner\" => \"Q\",\"exploration_param\" => 0.3,\"exploration_strategy\" => \"epsilon_greedy\",\"use_external_reward\" => true,\"demon_eta\" => 0.5,\"horde_type\" => \"regular\",\"drifter\" => [0.3162, 1.0],\"_GIT_INFO\" => \"0\"…), [\"steps\", \"exploration_strategy\", \"use_external_reward\", \"demon_lambda\", \"save_keys\", \"demon_update\", \"demon_learner\", \"behaviour_update\", \"behaviour_opt\", \"behaviour_lambda\"  …  \"demon_trace\", \"behaviour_gamma\", \"behaviour_trace\", \"distractor\", \"save_dir\", \"demon_alpha_init\", \"demon_opt\", \"seed\", \"demon_discounts\", \"demon_policy_type\"]), Reproduce.Item(\"../TMazeDrifterDistractorESARSAControl/data/RP_0_0xfb625fdb041b8419\", Dict{String,Any}(\"logger_keys\" => [\"TTMAZE_ERROR\", \"TTMAZE_UNIFORM_ERROR\"],\"steps\" => 10000,\"behaviour_learner\" => \"Q\",\"exploration_param\" => 0.3,\"exploration_strategy\" => \"epsilon_greedy\",\"use_external_reward\" => true,\"demon_eta\" => 0.5,\"horde_type\" => \"regular\",\"drifter\" => [0.3162, 1.0],\"_GIT_INFO\" => \"0\"…), [\"steps\", \"exploration_strategy\", \"use_external_reward\", \"demon_lambda\", \"save_keys\", \"demon_update\", \"demon_learner\", \"behaviour_update\", \"behaviour_opt\", \"behaviour_lambda\"  …  \"demon_trace\", \"behaviour_gamma\", \"behaviour_trace\", \"distractor\", \"save_dir\", \"demon_alpha_init\", \"demon_opt\", \"seed\", \"demon_discounts\", \"demon_policy_type\"])], 0x0000000000000000)\n",
       " ItemCollection(Reproduce.Item[Reproduce.Item(\"../TMazeDrifterDistractorESARSAControl/data/RP_0_0x26a3c9d67787a058\", Dict{String,Any}(\"logger_keys\" => [\"TTMAZE_ERROR\", \"TTMAZE_UNIFORM_ERROR\"],\"steps\" => 10000,\"behaviour_learner\" => \"Q\",\"exploration_param\" => 0.15,\"exploration_strategy\" => \"epsilon_greedy\",\"use_external_reward\" => true,\"demon_eta\" => 1.0,\"horde_type\" => \"regular\",\"drifter\" => [0.3162, 1.0],\"_GIT_INFO\" => \"0\"…), [\"steps\", \"exploration_strategy\", \"use_external_reward\", \"demon_lambda\", \"save_keys\", \"demon_update\", \"demon_learner\", \"behaviour_update\", \"behaviour_opt\", \"behaviour_lambda\"  …  \"demon_trace\", \"behaviour_gamma\", \"behaviour_trace\", \"distractor\", \"save_dir\", \"demon_alpha_init\", \"demon_opt\", \"seed\", \"demon_discounts\", \"demon_policy_type\"]), Reproduce.Item(\"../TMazeDrifterDistractorESARSAControl/data/RP_0_0x28efc7e03e6c5d4d\", Dict{String,Any}(\"logger_keys\" => [\"TTMAZE_ERROR\", \"TTMAZE_UNIFORM_ERROR\"],\"steps\" => 10000,\"behaviour_learner\" => \"Q\",\"exploration_param\" => 0.15,\"exploration_strategy\" => \"epsilon_greedy\",\"use_external_reward\" => true,\"demon_eta\" => 1.0,\"horde_type\" => \"regular\",\"drifter\" => [0.3162, 1.0],\"_GIT_INFO\" => \"0\"…), [\"steps\", \"exploration_strategy\", \"use_external_reward\", \"demon_lambda\", \"save_keys\", \"demon_update\", \"demon_learner\", \"behaviour_update\", \"behaviour_opt\", \"behaviour_lambda\"  …  \"demon_trace\", \"behaviour_gamma\", \"behaviour_trace\", \"distractor\", \"save_dir\", \"demon_alpha_init\", \"demon_opt\", \"seed\", \"demon_discounts\", \"demon_policy_type\"]), Reproduce.Item(\"../TMazeDrifterDistractorESARSAControl/data/RP_0_0x2a0cf72bf74c93a8\", Dict{String,Any}(\"logger_keys\" => [\"TTMAZE_ERROR\", \"TTMAZE_UNIFORM_ERROR\"],\"steps\" => 10000,\"behaviour_learner\" => \"Q\",\"exploration_param\" => 0.15,\"exploration_strategy\" => \"epsilon_greedy\",\"use_external_reward\" => true,\"demon_eta\" => 1.0,\"horde_type\" => \"regular\",\"drifter\" => [0.3162, 1.0],\"_GIT_INFO\" => \"0\"…), [\"steps\", \"exploration_strategy\", \"use_external_reward\", \"demon_lambda\", \"save_keys\", \"demon_update\", \"demon_learner\", \"behaviour_update\", \"behaviour_opt\", \"behaviour_lambda\"  …  \"demon_trace\", \"behaviour_gamma\", \"behaviour_trace\", \"distractor\", \"save_dir\", \"demon_alpha_init\", \"demon_opt\", \"seed\", \"demon_discounts\", \"demon_policy_type\"]), Reproduce.Item(\"../TMazeDrifterDistractorESARSAControl/data/RP_0_0x47240aa5c4df14cf\", Dict{String,Any}(\"logger_keys\" => [\"TTMAZE_ERROR\", \"TTMAZE_UNIFORM_ERROR\"],\"steps\" => 10000,\"behaviour_learner\" => \"Q\",\"exploration_param\" => 0.15,\"exploration_strategy\" => \"epsilon_greedy\",\"use_external_reward\" => true,\"demon_eta\" => 1.0,\"horde_type\" => \"regular\",\"drifter\" => [0.3162, 1.0],\"_GIT_INFO\" => \"0\"…), [\"steps\", \"exploration_strategy\", \"use_external_reward\", \"demon_lambda\", \"save_keys\", \"demon_update\", \"demon_learner\", \"behaviour_update\", \"behaviour_opt\", \"behaviour_lambda\"  …  \"demon_trace\", \"behaviour_gamma\", \"behaviour_trace\", \"distractor\", \"save_dir\", \"demon_alpha_init\", \"demon_opt\", \"seed\", \"demon_discounts\", \"demon_policy_type\"]), Reproduce.Item(\"../TMazeDrifterDistractorESARSAControl/data/RP_0_0x496d1af8cd0dad31\", Dict{String,Any}(\"logger_keys\" => [\"TTMAZE_ERROR\", \"TTMAZE_UNIFORM_ERROR\"],\"steps\" => 10000,\"behaviour_learner\" => \"Q\",\"exploration_param\" => 0.15,\"exploration_strategy\" => \"epsilon_greedy\",\"use_external_reward\" => true,\"demon_eta\" => 1.0,\"horde_type\" => \"regular\",\"drifter\" => [0.3162, 1.0],\"_GIT_INFO\" => \"0\"…), [\"steps\", \"exploration_strategy\", \"use_external_reward\", \"demon_lambda\", \"save_keys\", \"demon_update\", \"demon_learner\", \"behaviour_update\", \"behaviour_opt\", \"behaviour_lambda\"  …  \"demon_trace\", \"behaviour_gamma\", \"behaviour_trace\", \"distractor\", \"save_dir\", \"demon_alpha_init\", \"demon_opt\", \"seed\", \"demon_discounts\", \"demon_policy_type\"]), Reproduce.Item(\"../TMazeDrifterDistractorESARSAControl/data/RP_0_0x4dd70686b85290b8\", Dict{String,Any}(\"logger_keys\" => [\"TTMAZE_ERROR\", \"TTMAZE_UNIFORM_ERROR\"],\"steps\" => 10000,\"behaviour_learner\" => \"Q\",\"exploration_param\" => 0.15,\"exploration_strategy\" => \"epsilon_greedy\",\"use_external_reward\" => true,\"demon_eta\" => 1.0,\"horde_type\" => \"regular\",\"drifter\" => [0.3162, 1.0],\"_GIT_INFO\" => \"0\"…), [\"steps\", \"exploration_strategy\", \"use_external_reward\", \"demon_lambda\", \"save_keys\", \"demon_update\", \"demon_learner\", \"behaviour_update\", \"behaviour_opt\", \"behaviour_lambda\"  …  \"demon_trace\", \"behaviour_gamma\", \"behaviour_trace\", \"distractor\", \"save_dir\", \"demon_alpha_init\", \"demon_opt\", \"seed\", \"demon_discounts\", \"demon_policy_type\"]), Reproduce.Item(\"../TMazeDrifterDistractorESARSAControl/data/RP_0_0x51f24012bd880476\", Dict{String,Any}(\"logger_keys\" => [\"TTMAZE_ERROR\", \"TTMAZE_UNIFORM_ERROR\"],\"steps\" => 10000,\"behaviour_learner\" => \"Q\",\"exploration_param\" => 0.15,\"exploration_strategy\" => \"epsilon_greedy\",\"use_external_reward\" => true,\"demon_eta\" => 1.0,\"horde_type\" => \"regular\",\"drifter\" => [0.3162, 1.0],\"_GIT_INFO\" => \"0\"…), [\"steps\", \"exploration_strategy\", \"use_external_reward\", \"demon_lambda\", \"save_keys\", \"demon_update\", \"demon_learner\", \"behaviour_update\", \"behaviour_opt\", \"behaviour_lambda\"  …  \"demon_trace\", \"behaviour_gamma\", \"behaviour_trace\", \"distractor\", \"save_dir\", \"demon_alpha_init\", \"demon_opt\", \"seed\", \"demon_discounts\", \"demon_policy_type\"]), Reproduce.Item(\"../TMazeDrifterDistractorESARSAControl/data/RP_0_0x83bec3b6c55bdd80\", Dict{String,Any}(\"logger_keys\" => [\"TTMAZE_ERROR\", \"TTMAZE_UNIFORM_ERROR\"],\"steps\" => 10000,\"behaviour_learner\" => \"Q\",\"exploration_param\" => 0.15,\"exploration_strategy\" => \"epsilon_greedy\",\"use_external_reward\" => true,\"demon_eta\" => 1.0,\"horde_type\" => \"regular\",\"drifter\" => [0.3162, 1.0],\"_GIT_INFO\" => \"0\"…), [\"steps\", \"exploration_strategy\", \"use_external_reward\", \"demon_lambda\", \"save_keys\", \"demon_update\", \"demon_learner\", \"behaviour_update\", \"behaviour_opt\", \"behaviour_lambda\"  …  \"demon_trace\", \"behaviour_gamma\", \"behaviour_trace\", \"distractor\", \"save_dir\", \"demon_alpha_init\", \"demon_opt\", \"seed\", \"demon_discounts\", \"demon_policy_type\"]), Reproduce.Item(\"../TMazeDrifterDistractorESARSAControl/data/RP_0_0x8db58a790b80297c\", Dict{String,Any}(\"logger_keys\" => [\"TTMAZE_ERROR\", \"TTMAZE_UNIFORM_ERROR\"],\"steps\" => 10000,\"behaviour_learner\" => \"Q\",\"exploration_param\" => 0.15,\"exploration_strategy\" => \"epsilon_greedy\",\"use_external_reward\" => true,\"demon_eta\" => 1.0,\"horde_type\" => \"regular\",\"drifter\" => [0.3162, 1.0],\"_GIT_INFO\" => \"0\"…), [\"steps\", \"exploration_strategy\", \"use_external_reward\", \"demon_lambda\", \"save_keys\", \"demon_update\", \"demon_learner\", \"behaviour_update\", \"behaviour_opt\", \"behaviour_lambda\"  …  \"demon_trace\", \"behaviour_gamma\", \"behaviour_trace\", \"distractor\", \"save_dir\", \"demon_alpha_init\", \"demon_opt\", \"seed\", \"demon_discounts\", \"demon_policy_type\"]), Reproduce.Item(\"../TMazeDrifterDistractorESARSAControl/data/RP_0_0x963b106bff01d1bd\", Dict{String,Any}(\"logger_keys\" => [\"TTMAZE_ERROR\", \"TTMAZE_UNIFORM_ERROR\"],\"steps\" => 10000,\"behaviour_learner\" => \"Q\",\"exploration_param\" => 0.15,\"exploration_strategy\" => \"epsilon_greedy\",\"use_external_reward\" => true,\"demon_eta\" => 1.0,\"horde_type\" => \"regular\",\"drifter\" => [0.3162, 1.0],\"_GIT_INFO\" => \"0\"…), [\"steps\", \"exploration_strategy\", \"use_external_reward\", \"demon_lambda\", \"save_keys\", \"demon_update\", \"demon_learner\", \"behaviour_update\", \"behaviour_opt\", \"behaviour_lambda\"  …  \"demon_trace\", \"behaviour_gamma\", \"behaviour_trace\", \"distractor\", \"save_dir\", \"demon_alpha_init\", \"demon_opt\", \"seed\", \"demon_discounts\", \"demon_policy_type\"]), Reproduce.Item(\"../TMazeDrifterDistractorESARSAControl/data/RP_0_0x98740dad4a52c520\", Dict{String,Any}(\"logger_keys\" => [\"TTMAZE_ERROR\", \"TTMAZE_UNIFORM_ERROR\"],\"steps\" => 10000,\"behaviour_learner\" => \"Q\",\"exploration_param\" => 0.15,\"exploration_strategy\" => \"epsilon_greedy\",\"use_external_reward\" => true,\"demon_eta\" => 1.0,\"horde_type\" => \"regular\",\"drifter\" => [0.3162, 1.0],\"_GIT_INFO\" => \"0\"…), [\"steps\", \"exploration_strategy\", \"use_external_reward\", \"demon_lambda\", \"save_keys\", \"demon_update\", \"demon_learner\", \"behaviour_update\", \"behaviour_opt\", \"behaviour_lambda\"  …  \"demon_trace\", \"behaviour_gamma\", \"behaviour_trace\", \"distractor\", \"save_dir\", \"demon_alpha_init\", \"demon_opt\", \"seed\", \"demon_discounts\", \"demon_policy_type\"]), Reproduce.Item(\"../TMazeDrifterDistractorESARSAControl/data/RP_0_0x9bd11b3748eea06a\", Dict{String,Any}(\"logger_keys\" => [\"TTMAZE_ERROR\", \"TTMAZE_UNIFORM_ERROR\"],\"steps\" => 10000,\"behaviour_learner\" => \"Q\",\"exploration_param\" => 0.15,\"exploration_strategy\" => \"epsilon_greedy\",\"use_external_reward\" => true,\"demon_eta\" => 1.0,\"horde_type\" => \"regular\",\"drifter\" => [0.3162, 1.0],\"_GIT_INFO\" => \"0\"…), [\"steps\", \"exploration_strategy\", \"use_external_reward\", \"demon_lambda\", \"save_keys\", \"demon_update\", \"demon_learner\", \"behaviour_update\", \"behaviour_opt\", \"behaviour_lambda\"  …  \"demon_trace\", \"behaviour_gamma\", \"behaviour_trace\", \"distractor\", \"save_dir\", \"demon_alpha_init\", \"demon_opt\", \"seed\", \"demon_discounts\", \"demon_policy_type\"]), Reproduce.Item(\"../TMazeDrifterDistractorESARSAControl/data/RP_0_0x9ce129a4a8d2696a\", Dict{String,Any}(\"logger_keys\" => [\"TTMAZE_ERROR\", \"TTMAZE_UNIFORM_ERROR\"],\"steps\" => 10000,\"behaviour_learner\" => \"Q\",\"exploration_param\" => 0.15,\"exploration_strategy\" => \"epsilon_greedy\",\"use_external_reward\" => true,\"demon_eta\" => 1.0,\"horde_type\" => \"regular\",\"drifter\" => [0.3162, 1.0],\"_GIT_INFO\" => \"0\"…), [\"steps\", \"exploration_strategy\", \"use_external_reward\", \"demon_lambda\", \"save_keys\", \"demon_update\", \"demon_learner\", \"behaviour_update\", \"behaviour_opt\", \"behaviour_lambda\"  …  \"demon_trace\", \"behaviour_gamma\", \"behaviour_trace\", \"distractor\", \"save_dir\", \"demon_alpha_init\", \"demon_opt\", \"seed\", \"demon_discounts\", \"demon_policy_type\"]), Reproduce.Item(\"../TMazeDrifterDistractorESARSAControl/data/RP_0_0xbc45cf7fb1271d16\", Dict{String,Any}(\"logger_keys\" => [\"TTMAZE_ERROR\", \"TTMAZE_UNIFORM_ERROR\"],\"steps\" => 10000,\"behaviour_learner\" => \"Q\",\"exploration_param\" => 0.15,\"exploration_strategy\" => \"epsilon_greedy\",\"use_external_reward\" => true,\"demon_eta\" => 1.0,\"horde_type\" => \"regular\",\"drifter\" => [0.3162, 1.0],\"_GIT_INFO\" => \"0\"…), [\"steps\", \"exploration_strategy\", \"use_external_reward\", \"demon_lambda\", \"save_keys\", \"demon_update\", \"demon_learner\", \"behaviour_update\", \"behaviour_opt\", \"behaviour_lambda\"  …  \"demon_trace\", \"behaviour_gamma\", \"behaviour_trace\", \"distractor\", \"save_dir\", \"demon_alpha_init\", \"demon_opt\", \"seed\", \"demon_discounts\", \"demon_policy_type\"]), Reproduce.Item(\"../TMazeDrifterDistractorESARSAControl/data/RP_0_0xbd4a82c480992d16\", Dict{String,Any}(\"logger_keys\" => [\"TTMAZE_ERROR\", \"TTMAZE_UNIFORM_ERROR\"],\"steps\" => 10000,\"behaviour_learner\" => \"Q\",\"exploration_param\" => 0.15,\"exploration_strategy\" => \"epsilon_greedy\",\"use_external_reward\" => true,\"demon_eta\" => 1.0,\"horde_type\" => \"regular\",\"drifter\" => [0.3162, 1.0],\"_GIT_INFO\" => \"0\"…), [\"steps\", \"exploration_strategy\", \"use_external_reward\", \"demon_lambda\", \"save_keys\", \"demon_update\", \"demon_learner\", \"behaviour_update\", \"behaviour_opt\", \"behaviour_lambda\"  …  \"demon_trace\", \"behaviour_gamma\", \"behaviour_trace\", \"distractor\", \"save_dir\", \"demon_alpha_init\", \"demon_opt\", \"seed\", \"demon_discounts\", \"demon_policy_type\"]), Reproduce.Item(\"../TMazeDrifterDistractorESARSAControl/data/RP_0_0xd8d367fb304774e\", Dict{String,Any}(\"logger_keys\" => [\"TTMAZE_ERROR\", \"TTMAZE_UNIFORM_ERROR\"],\"steps\" => 10000,\"behaviour_learner\" => \"Q\",\"exploration_param\" => 0.15,\"exploration_strategy\" => \"epsilon_greedy\",\"use_external_reward\" => true,\"demon_eta\" => 1.0,\"horde_type\" => \"regular\",\"drifter\" => [0.3162, 1.0],\"_GIT_INFO\" => \"0\"…), [\"steps\", \"exploration_strategy\", \"use_external_reward\", \"demon_lambda\", \"save_keys\", \"demon_update\", \"demon_learner\", \"behaviour_update\", \"behaviour_opt\", \"behaviour_lambda\"  …  \"demon_trace\", \"behaviour_gamma\", \"behaviour_trace\", \"distractor\", \"save_dir\", \"demon_alpha_init\", \"demon_opt\", \"seed\", \"demon_discounts\", \"demon_policy_type\"]), Reproduce.Item(\"../TMazeDrifterDistractorESARSAControl/data/RP_0_0xdd584e3cf1f9a677\", Dict{String,Any}(\"logger_keys\" => [\"TTMAZE_ERROR\", \"TTMAZE_UNIFORM_ERROR\"],\"steps\" => 10000,\"behaviour_learner\" => \"Q\",\"exploration_param\" => 0.15,\"exploration_strategy\" => \"epsilon_greedy\",\"use_external_reward\" => true,\"demon_eta\" => 1.0,\"horde_type\" => \"regular\",\"drifter\" => [0.3162, 1.0],\"_GIT_INFO\" => \"0\"…), [\"steps\", \"exploration_strategy\", \"use_external_reward\", \"demon_lambda\", \"save_keys\", \"demon_update\", \"demon_learner\", \"behaviour_update\", \"behaviour_opt\", \"behaviour_lambda\"  …  \"demon_trace\", \"behaviour_gamma\", \"behaviour_trace\", \"distractor\", \"save_dir\", \"demon_alpha_init\", \"demon_opt\", \"seed\", \"demon_discounts\", \"demon_policy_type\"]), Reproduce.Item(\"../TMazeDrifterDistractorESARSAControl/data/RP_0_0xe8124ed245796ed2\", Dict{String,Any}(\"logger_keys\" => [\"TTMAZE_ERROR\", \"TTMAZE_UNIFORM_ERROR\"],\"steps\" => 10000,\"behaviour_learner\" => \"Q\",\"exploration_param\" => 0.15,\"exploration_strategy\" => \"epsilon_greedy\",\"use_external_reward\" => true,\"demon_eta\" => 1.0,\"horde_type\" => \"regular\",\"drifter\" => [0.3162, 1.0],\"_GIT_INFO\" => \"0\"…), [\"steps\", \"exploration_strategy\", \"use_external_reward\", \"demon_lambda\", \"save_keys\", \"demon_update\", \"demon_learner\", \"behaviour_update\", \"behaviour_opt\", \"behaviour_lambda\"  …  \"demon_trace\", \"behaviour_gamma\", \"behaviour_trace\", \"distractor\", \"save_dir\", \"demon_alpha_init\", \"demon_opt\", \"seed\", \"demon_discounts\", \"demon_policy_type\"]), Reproduce.Item(\"../TMazeDrifterDistractorESARSAControl/data/RP_0_0xf1de9a6ec4ef0c6d\", Dict{String,Any}(\"logger_keys\" => [\"TTMAZE_ERROR\", \"TTMAZE_UNIFORM_ERROR\"],\"steps\" => 10000,\"behaviour_learner\" => \"Q\",\"exploration_param\" => 0.15,\"exploration_strategy\" => \"epsilon_greedy\",\"use_external_reward\" => true,\"demon_eta\" => 1.0,\"horde_type\" => \"regular\",\"drifter\" => [0.3162, 1.0],\"_GIT_INFO\" => \"0\"…), [\"steps\", \"exploration_strategy\", \"use_external_reward\", \"demon_lambda\", \"save_keys\", \"demon_update\", \"demon_learner\", \"behaviour_update\", \"behaviour_opt\", \"behaviour_lambda\"  …  \"demon_trace\", \"behaviour_gamma\", \"behaviour_trace\", \"distractor\", \"save_dir\", \"demon_alpha_init\", \"demon_opt\", \"seed\", \"demon_discounts\", \"demon_policy_type\"]), Reproduce.Item(\"../TMazeDrifterDistractorESARSAControl/data/RP_0_0xf649b1355686f8bb\", Dict{String,Any}(\"logger_keys\" => [\"TTMAZE_ERROR\", \"TTMAZE_UNIFORM_ERROR\"],\"steps\" => 10000,\"behaviour_learner\" => \"Q\",\"exploration_param\" => 0.15,\"exploration_strategy\" => \"epsilon_greedy\",\"use_external_reward\" => true,\"demon_eta\" => 1.0,\"horde_type\" => \"regular\",\"drifter\" => [0.3162, 1.0],\"_GIT_INFO\" => \"0\"…), [\"steps\", \"exploration_strategy\", \"use_external_reward\", \"demon_lambda\", \"save_keys\", \"demon_update\", \"demon_learner\", \"behaviour_update\", \"behaviour_opt\", \"behaviour_lambda\"  …  \"demon_trace\", \"behaviour_gamma\", \"behaviour_trace\", \"distractor\", \"save_dir\", \"demon_alpha_init\", \"demon_opt\", \"seed\", \"demon_discounts\", \"demon_policy_type\"])], 0x0000000000000000)\n",
       " ItemCollection(Reproduce.Item[Reproduce.Item(\"../TMazeDrifterDistractorESARSAControl/data/RP_0_0x11bc82dd3aeab514\", Dict{String,Any}(\"logger_keys\" => [\"TTMAZE_ERROR\", \"TTMAZE_UNIFORM_ERROR\"],\"steps\" => 10000,\"behaviour_learner\" => \"Q\",\"exploration_param\" => 0.3,\"exploration_strategy\" => \"epsilon_greedy\",\"use_external_reward\" => true,\"demon_eta\" => 1.0,\"horde_type\" => \"regular\",\"drifter\" => [0.3162, 1.0],\"_GIT_INFO\" => \"0\"…), [\"steps\", \"exploration_strategy\", \"use_external_reward\", \"demon_lambda\", \"save_keys\", \"demon_update\", \"demon_learner\", \"behaviour_update\", \"behaviour_opt\", \"behaviour_lambda\"  …  \"demon_trace\", \"behaviour_gamma\", \"behaviour_trace\", \"distractor\", \"save_dir\", \"demon_alpha_init\", \"demon_opt\", \"seed\", \"demon_discounts\", \"demon_policy_type\"]), Reproduce.Item(\"../TMazeDrifterDistractorESARSAControl/data/RP_0_0x17a2d85696046d48\", Dict{String,Any}(\"logger_keys\" => [\"TTMAZE_ERROR\", \"TTMAZE_UNIFORM_ERROR\"],\"steps\" => 10000,\"behaviour_learner\" => \"Q\",\"exploration_param\" => 0.3,\"exploration_strategy\" => \"epsilon_greedy\",\"use_external_reward\" => true,\"demon_eta\" => 1.0,\"horde_type\" => \"regular\",\"drifter\" => [0.3162, 1.0],\"_GIT_INFO\" => \"0\"…), [\"steps\", \"exploration_strategy\", \"use_external_reward\", \"demon_lambda\", \"save_keys\", \"demon_update\", \"demon_learner\", \"behaviour_update\", \"behaviour_opt\", \"behaviour_lambda\"  …  \"demon_trace\", \"behaviour_gamma\", \"behaviour_trace\", \"distractor\", \"save_dir\", \"demon_alpha_init\", \"demon_opt\", \"seed\", \"demon_discounts\", \"demon_policy_type\"]), Reproduce.Item(\"../TMazeDrifterDistractorESARSAControl/data/RP_0_0x1e11a9ec8f1e9b56\", Dict{String,Any}(\"logger_keys\" => [\"TTMAZE_ERROR\", \"TTMAZE_UNIFORM_ERROR\"],\"steps\" => 10000,\"behaviour_learner\" => \"Q\",\"exploration_param\" => 0.3,\"exploration_strategy\" => \"epsilon_greedy\",\"use_external_reward\" => true,\"demon_eta\" => 1.0,\"horde_type\" => \"regular\",\"drifter\" => [0.3162, 1.0],\"_GIT_INFO\" => \"0\"…), [\"steps\", \"exploration_strategy\", \"use_external_reward\", \"demon_lambda\", \"save_keys\", \"demon_update\", \"demon_learner\", \"behaviour_update\", \"behaviour_opt\", \"behaviour_lambda\"  …  \"demon_trace\", \"behaviour_gamma\", \"behaviour_trace\", \"distractor\", \"save_dir\", \"demon_alpha_init\", \"demon_opt\", \"seed\", \"demon_discounts\", \"demon_policy_type\"]), Reproduce.Item(\"../TMazeDrifterDistractorESARSAControl/data/RP_0_0x1f2955fd68eed8fe\", Dict{String,Any}(\"logger_keys\" => [\"TTMAZE_ERROR\", \"TTMAZE_UNIFORM_ERROR\"],\"steps\" => 10000,\"behaviour_learner\" => \"Q\",\"exploration_param\" => 0.3,\"exploration_strategy\" => \"epsilon_greedy\",\"use_external_reward\" => true,\"demon_eta\" => 1.0,\"horde_type\" => \"regular\",\"drifter\" => [0.3162, 1.0],\"_GIT_INFO\" => \"0\"…), [\"steps\", \"exploration_strategy\", \"use_external_reward\", \"demon_lambda\", \"save_keys\", \"demon_update\", \"demon_learner\", \"behaviour_update\", \"behaviour_opt\", \"behaviour_lambda\"  …  \"demon_trace\", \"behaviour_gamma\", \"behaviour_trace\", \"distractor\", \"save_dir\", \"demon_alpha_init\", \"demon_opt\", \"seed\", \"demon_discounts\", \"demon_policy_type\"]), Reproduce.Item(\"../TMazeDrifterDistractorESARSAControl/data/RP_0_0x3125cf5f526451f8\", Dict{String,Any}(\"logger_keys\" => [\"TTMAZE_ERROR\", \"TTMAZE_UNIFORM_ERROR\"],\"steps\" => 10000,\"behaviour_learner\" => \"Q\",\"exploration_param\" => 0.3,\"exploration_strategy\" => \"epsilon_greedy\",\"use_external_reward\" => true,\"demon_eta\" => 1.0,\"horde_type\" => \"regular\",\"drifter\" => [0.3162, 1.0],\"_GIT_INFO\" => \"0\"…), [\"steps\", \"exploration_strategy\", \"use_external_reward\", \"demon_lambda\", \"save_keys\", \"demon_update\", \"demon_learner\", \"behaviour_update\", \"behaviour_opt\", \"behaviour_lambda\"  …  \"demon_trace\", \"behaviour_gamma\", \"behaviour_trace\", \"distractor\", \"save_dir\", \"demon_alpha_init\", \"demon_opt\", \"seed\", \"demon_discounts\", \"demon_policy_type\"]), Reproduce.Item(\"../TMazeDrifterDistractorESARSAControl/data/RP_0_0x33eca8df2eebcdb1\", Dict{String,Any}(\"logger_keys\" => [\"TTMAZE_ERROR\", \"TTMAZE_UNIFORM_ERROR\"],\"steps\" => 10000,\"behaviour_learner\" => \"Q\",\"exploration_param\" => 0.3,\"exploration_strategy\" => \"epsilon_greedy\",\"use_external_reward\" => true,\"demon_eta\" => 1.0,\"horde_type\" => \"regular\",\"drifter\" => [0.3162, 1.0],\"_GIT_INFO\" => \"0\"…), [\"steps\", \"exploration_strategy\", \"use_external_reward\", \"demon_lambda\", \"save_keys\", \"demon_update\", \"demon_learner\", \"behaviour_update\", \"behaviour_opt\", \"behaviour_lambda\"  …  \"demon_trace\", \"behaviour_gamma\", \"behaviour_trace\", \"distractor\", \"save_dir\", \"demon_alpha_init\", \"demon_opt\", \"seed\", \"demon_discounts\", \"demon_policy_type\"]), Reproduce.Item(\"../TMazeDrifterDistractorESARSAControl/data/RP_0_0x35c2913b84097a78\", Dict{String,Any}(\"logger_keys\" => [\"TTMAZE_ERROR\", \"TTMAZE_UNIFORM_ERROR\"],\"steps\" => 10000,\"behaviour_learner\" => \"Q\",\"exploration_param\" => 0.3,\"exploration_strategy\" => \"epsilon_greedy\",\"use_external_reward\" => true,\"demon_eta\" => 1.0,\"horde_type\" => \"regular\",\"drifter\" => [0.3162, 1.0],\"_GIT_INFO\" => \"0\"…), [\"steps\", \"exploration_strategy\", \"use_external_reward\", \"demon_lambda\", \"save_keys\", \"demon_update\", \"demon_learner\", \"behaviour_update\", \"behaviour_opt\", \"behaviour_lambda\"  …  \"demon_trace\", \"behaviour_gamma\", \"behaviour_trace\", \"distractor\", \"save_dir\", \"demon_alpha_init\", \"demon_opt\", \"seed\", \"demon_discounts\", \"demon_policy_type\"]), Reproduce.Item(\"../TMazeDrifterDistractorESARSAControl/data/RP_0_0x3a0d040ee1478ab7\", Dict{String,Any}(\"logger_keys\" => [\"TTMAZE_ERROR\", \"TTMAZE_UNIFORM_ERROR\"],\"steps\" => 10000,\"behaviour_learner\" => \"Q\",\"exploration_param\" => 0.3,\"exploration_strategy\" => \"epsilon_greedy\",\"use_external_reward\" => true,\"demon_eta\" => 1.0,\"horde_type\" => \"regular\",\"drifter\" => [0.3162, 1.0],\"_GIT_INFO\" => \"0\"…), [\"steps\", \"exploration_strategy\", \"use_external_reward\", \"demon_lambda\", \"save_keys\", \"demon_update\", \"demon_learner\", \"behaviour_update\", \"behaviour_opt\", \"behaviour_lambda\"  …  \"demon_trace\", \"behaviour_gamma\", \"behaviour_trace\", \"distractor\", \"save_dir\", \"demon_alpha_init\", \"demon_opt\", \"seed\", \"demon_discounts\", \"demon_policy_type\"]), Reproduce.Item(\"../TMazeDrifterDistractorESARSAControl/data/RP_0_0x62029308967df91b\", Dict{String,Any}(\"logger_keys\" => [\"TTMAZE_ERROR\", \"TTMAZE_UNIFORM_ERROR\"],\"steps\" => 10000,\"behaviour_learner\" => \"Q\",\"exploration_param\" => 0.3,\"exploration_strategy\" => \"epsilon_greedy\",\"use_external_reward\" => true,\"demon_eta\" => 1.0,\"horde_type\" => \"regular\",\"drifter\" => [0.3162, 1.0],\"_GIT_INFO\" => \"0\"…), [\"steps\", \"exploration_strategy\", \"use_external_reward\", \"demon_lambda\", \"save_keys\", \"demon_update\", \"demon_learner\", \"behaviour_update\", \"behaviour_opt\", \"behaviour_lambda\"  …  \"demon_trace\", \"behaviour_gamma\", \"behaviour_trace\", \"distractor\", \"save_dir\", \"demon_alpha_init\", \"demon_opt\", \"seed\", \"demon_discounts\", \"demon_policy_type\"]), Reproduce.Item(\"../TMazeDrifterDistractorESARSAControl/data/RP_0_0x73bf596316319766\", Dict{String,Any}(\"logger_keys\" => [\"TTMAZE_ERROR\", \"TTMAZE_UNIFORM_ERROR\"],\"steps\" => 10000,\"behaviour_learner\" => \"Q\",\"exploration_param\" => 0.3,\"exploration_strategy\" => \"epsilon_greedy\",\"use_external_reward\" => true,\"demon_eta\" => 1.0,\"horde_type\" => \"regular\",\"drifter\" => [0.3162, 1.0],\"_GIT_INFO\" => \"0\"…), [\"steps\", \"exploration_strategy\", \"use_external_reward\", \"demon_lambda\", \"save_keys\", \"demon_update\", \"demon_learner\", \"behaviour_update\", \"behaviour_opt\", \"behaviour_lambda\"  …  \"demon_trace\", \"behaviour_gamma\", \"behaviour_trace\", \"distractor\", \"save_dir\", \"demon_alpha_init\", \"demon_opt\", \"seed\", \"demon_discounts\", \"demon_policy_type\"]), Reproduce.Item(\"../TMazeDrifterDistractorESARSAControl/data/RP_0_0x74bc8e97a0bd9ad5\", Dict{String,Any}(\"logger_keys\" => [\"TTMAZE_ERROR\", \"TTMAZE_UNIFORM_ERROR\"],\"steps\" => 10000,\"behaviour_learner\" => \"Q\",\"exploration_param\" => 0.3,\"exploration_strategy\" => \"epsilon_greedy\",\"use_external_reward\" => true,\"demon_eta\" => 1.0,\"horde_type\" => \"regular\",\"drifter\" => [0.3162, 1.0],\"_GIT_INFO\" => \"0\"…), [\"steps\", \"exploration_strategy\", \"use_external_reward\", \"demon_lambda\", \"save_keys\", \"demon_update\", \"demon_learner\", \"behaviour_update\", \"behaviour_opt\", \"behaviour_lambda\"  …  \"demon_trace\", \"behaviour_gamma\", \"behaviour_trace\", \"distractor\", \"save_dir\", \"demon_alpha_init\", \"demon_opt\", \"seed\", \"demon_discounts\", \"demon_policy_type\"]), Reproduce.Item(\"../TMazeDrifterDistractorESARSAControl/data/RP_0_0x7b8fad90a0b08802\", Dict{String,Any}(\"logger_keys\" => [\"TTMAZE_ERROR\", \"TTMAZE_UNIFORM_ERROR\"],\"steps\" => 10000,\"behaviour_learner\" => \"Q\",\"exploration_param\" => 0.3,\"exploration_strategy\" => \"epsilon_greedy\",\"use_external_reward\" => true,\"demon_eta\" => 1.0,\"horde_type\" => \"regular\",\"drifter\" => [0.3162, 1.0],\"_GIT_INFO\" => \"0\"…), [\"steps\", \"exploration_strategy\", \"use_external_reward\", \"demon_lambda\", \"save_keys\", \"demon_update\", \"demon_learner\", \"behaviour_update\", \"behaviour_opt\", \"behaviour_lambda\"  …  \"demon_trace\", \"behaviour_gamma\", \"behaviour_trace\", \"distractor\", \"save_dir\", \"demon_alpha_init\", \"demon_opt\", \"seed\", \"demon_discounts\", \"demon_policy_type\"]), Reproduce.Item(\"../TMazeDrifterDistractorESARSAControl/data/RP_0_0x809d97c00e7a9898\", Dict{String,Any}(\"logger_keys\" => [\"TTMAZE_ERROR\", \"TTMAZE_UNIFORM_ERROR\"],\"steps\" => 10000,\"behaviour_learner\" => \"Q\",\"exploration_param\" => 0.3,\"exploration_strategy\" => \"epsilon_greedy\",\"use_external_reward\" => true,\"demon_eta\" => 1.0,\"horde_type\" => \"regular\",\"drifter\" => [0.3162, 1.0],\"_GIT_INFO\" => \"0\"…), [\"steps\", \"exploration_strategy\", \"use_external_reward\", \"demon_lambda\", \"save_keys\", \"demon_update\", \"demon_learner\", \"behaviour_update\", \"behaviour_opt\", \"behaviour_lambda\"  …  \"demon_trace\", \"behaviour_gamma\", \"behaviour_trace\", \"distractor\", \"save_dir\", \"demon_alpha_init\", \"demon_opt\", \"seed\", \"demon_discounts\", \"demon_policy_type\"]), Reproduce.Item(\"../TMazeDrifterDistractorESARSAControl/data/RP_0_0x80d3c16048886b79\", Dict{String,Any}(\"logger_keys\" => [\"TTMAZE_ERROR\", \"TTMAZE_UNIFORM_ERROR\"],\"steps\" => 10000,\"behaviour_learner\" => \"Q\",\"exploration_param\" => 0.3,\"exploration_strategy\" => \"epsilon_greedy\",\"use_external_reward\" => true,\"demon_eta\" => 1.0,\"horde_type\" => \"regular\",\"drifter\" => [0.3162, 1.0],\"_GIT_INFO\" => \"0\"…), [\"steps\", \"exploration_strategy\", \"use_external_reward\", \"demon_lambda\", \"save_keys\", \"demon_update\", \"demon_learner\", \"behaviour_update\", \"behaviour_opt\", \"behaviour_lambda\"  …  \"demon_trace\", \"behaviour_gamma\", \"behaviour_trace\", \"distractor\", \"save_dir\", \"demon_alpha_init\", \"demon_opt\", \"seed\", \"demon_discounts\", \"demon_policy_type\"]), Reproduce.Item(\"../TMazeDrifterDistractorESARSAControl/data/RP_0_0x8a39f91bf16011ed\", Dict{String,Any}(\"logger_keys\" => [\"TTMAZE_ERROR\", \"TTMAZE_UNIFORM_ERROR\"],\"steps\" => 10000,\"behaviour_learner\" => \"Q\",\"exploration_param\" => 0.3,\"exploration_strategy\" => \"epsilon_greedy\",\"use_external_reward\" => true,\"demon_eta\" => 1.0,\"horde_type\" => \"regular\",\"drifter\" => [0.3162, 1.0],\"_GIT_INFO\" => \"0\"…), [\"steps\", \"exploration_strategy\", \"use_external_reward\", \"demon_lambda\", \"save_keys\", \"demon_update\", \"demon_learner\", \"behaviour_update\", \"behaviour_opt\", \"behaviour_lambda\"  …  \"demon_trace\", \"behaviour_gamma\", \"behaviour_trace\", \"distractor\", \"save_dir\", \"demon_alpha_init\", \"demon_opt\", \"seed\", \"demon_discounts\", \"demon_policy_type\"]), Reproduce.Item(\"../TMazeDrifterDistractorESARSAControl/data/RP_0_0x9321583356a15b31\", Dict{String,Any}(\"logger_keys\" => [\"TTMAZE_ERROR\", \"TTMAZE_UNIFORM_ERROR\"],\"steps\" => 10000,\"behaviour_learner\" => \"Q\",\"exploration_param\" => 0.3,\"exploration_strategy\" => \"epsilon_greedy\",\"use_external_reward\" => true,\"demon_eta\" => 1.0,\"horde_type\" => \"regular\",\"drifter\" => [0.3162, 1.0],\"_GIT_INFO\" => \"0\"…), [\"steps\", \"exploration_strategy\", \"use_external_reward\", \"demon_lambda\", \"save_keys\", \"demon_update\", \"demon_learner\", \"behaviour_update\", \"behaviour_opt\", \"behaviour_lambda\"  …  \"demon_trace\", \"behaviour_gamma\", \"behaviour_trace\", \"distractor\", \"save_dir\", \"demon_alpha_init\", \"demon_opt\", \"seed\", \"demon_discounts\", \"demon_policy_type\"]), Reproduce.Item(\"../TMazeDrifterDistractorESARSAControl/data/RP_0_0xa49f39346db96388\", Dict{String,Any}(\"logger_keys\" => [\"TTMAZE_ERROR\", \"TTMAZE_UNIFORM_ERROR\"],\"steps\" => 10000,\"behaviour_learner\" => \"Q\",\"exploration_param\" => 0.3,\"exploration_strategy\" => \"epsilon_greedy\",\"use_external_reward\" => true,\"demon_eta\" => 1.0,\"horde_type\" => \"regular\",\"drifter\" => [0.3162, 1.0],\"_GIT_INFO\" => \"0\"…), [\"steps\", \"exploration_strategy\", \"use_external_reward\", \"demon_lambda\", \"save_keys\", \"demon_update\", \"demon_learner\", \"behaviour_update\", \"behaviour_opt\", \"behaviour_lambda\"  …  \"demon_trace\", \"behaviour_gamma\", \"behaviour_trace\", \"distractor\", \"save_dir\", \"demon_alpha_init\", \"demon_opt\", \"seed\", \"demon_discounts\", \"demon_policy_type\"]), Reproduce.Item(\"../TMazeDrifterDistractorESARSAControl/data/RP_0_0xbddbfaf9691220f6\", Dict{String,Any}(\"logger_keys\" => [\"TTMAZE_ERROR\", \"TTMAZE_UNIFORM_ERROR\"],\"steps\" => 10000,\"behaviour_learner\" => \"Q\",\"exploration_param\" => 0.3,\"exploration_strategy\" => \"epsilon_greedy\",\"use_external_reward\" => true,\"demon_eta\" => 1.0,\"horde_type\" => \"regular\",\"drifter\" => [0.3162, 1.0],\"_GIT_INFO\" => \"0\"…), [\"steps\", \"exploration_strategy\", \"use_external_reward\", \"demon_lambda\", \"save_keys\", \"demon_update\", \"demon_learner\", \"behaviour_update\", \"behaviour_opt\", \"behaviour_lambda\"  …  \"demon_trace\", \"behaviour_gamma\", \"behaviour_trace\", \"distractor\", \"save_dir\", \"demon_alpha_init\", \"demon_opt\", \"seed\", \"demon_discounts\", \"demon_policy_type\"]), Reproduce.Item(\"../TMazeDrifterDistractorESARSAControl/data/RP_0_0xeefe3a6b9b57dc7a\", Dict{String,Any}(\"logger_keys\" => [\"TTMAZE_ERROR\", \"TTMAZE_UNIFORM_ERROR\"],\"steps\" => 10000,\"behaviour_learner\" => \"Q\",\"exploration_param\" => 0.3,\"exploration_strategy\" => \"epsilon_greedy\",\"use_external_reward\" => true,\"demon_eta\" => 1.0,\"horde_type\" => \"regular\",\"drifter\" => [0.3162, 1.0],\"_GIT_INFO\" => \"0\"…), [\"steps\", \"exploration_strategy\", \"use_external_reward\", \"demon_lambda\", \"save_keys\", \"demon_update\", \"demon_learner\", \"behaviour_update\", \"behaviour_opt\", \"behaviour_lambda\"  …  \"demon_trace\", \"behaviour_gamma\", \"behaviour_trace\", \"distractor\", \"save_dir\", \"demon_alpha_init\", \"demon_opt\", \"seed\", \"demon_discounts\", \"demon_policy_type\"]), Reproduce.Item(\"../TMazeDrifterDistractorESARSAControl/data/RP_0_0xfa1fc6d7e4bebca1\", Dict{String,Any}(\"logger_keys\" => [\"TTMAZE_ERROR\", \"TTMAZE_UNIFORM_ERROR\"],\"steps\" => 10000,\"behaviour_learner\" => \"Q\",\"exploration_param\" => 0.3,\"exploration_strategy\" => \"epsilon_greedy\",\"use_external_reward\" => true,\"demon_eta\" => 1.0,\"horde_type\" => \"regular\",\"drifter\" => [0.3162, 1.0],\"_GIT_INFO\" => \"0\"…), [\"steps\", \"exploration_strategy\", \"use_external_reward\", \"demon_lambda\", \"save_keys\", \"demon_update\", \"demon_learner\", \"behaviour_update\", \"behaviour_opt\", \"behaviour_lambda\"  …  \"demon_trace\", \"behaviour_gamma\", \"behaviour_trace\", \"distractor\", \"save_dir\", \"demon_alpha_init\", \"demon_opt\", \"seed\", \"demon_discounts\", \"demon_policy_type\"])], 0x0000000000000000)"
      ]
     },
     "execution_count": 462,
     "metadata": {},
     "output_type": "execute_result"
    }
   ],
   "source": [
    "algos_ics = [search(ic,algo_divisor) for algo_divisor in algo_divisors]\n",
    "# sweep_params = [\"behaviour_alpha\",\"demon_alpha\", \"demon_alpha_init\"]\n",
    "sweep_params = [\"demon_eta\", \"behaviour_eta\", \"exploration_param\"]\n",
    "error_key = :ttmaze_uniform_error\n",
    "best_per_algo_ics = [get_best(algo_ic,sweep_params, error_key) for algo_ic in algos_ics]"
   ]
  },
  {
   "cell_type": "code",
   "execution_count": 463,
   "metadata": {},
   "outputs": [
    {
     "name": "stdout",
     "output_type": "stream",
     "text": [
      "For IC: \n",
      "demon_eta  0.25\n",
      "behaviour_eta  0.5\n",
      "exploration_param  0.15\n",
      "demon_opt  Auto\n",
      "demon_learner  Q\n",
      "\n",
      "For IC: \n",
      "demon_eta  0.5\n",
      "behaviour_eta  0.5\n",
      "exploration_param  0.3\n",
      "demon_opt  Auto\n",
      "demon_learner  SR\n",
      "\n",
      "For IC: \n",
      "demon_eta  1.0\n",
      "behaviour_eta  0.25\n",
      "exploration_param  0.15\n",
      "demon_opt  Descent\n",
      "demon_learner  Q\n",
      "\n",
      "For IC: \n",
      "demon_eta  1.0\n",
      "behaviour_eta  0.5\n",
      "exploration_param  0.3\n",
      "demon_opt  Descent\n",
      "demon_learner  SR\n",
      "\n"
     ]
    },
    {
     "data": {
      "text/plain": [
       "4-element Array{Nothing,1}:\n",
       " nothing\n",
       " nothing\n",
       " nothing\n",
       " nothing"
      ]
     },
     "execution_count": 463,
     "metadata": {},
     "output_type": "execute_result"
    }
   ],
   "source": [
    "function print_params(ic, algo_params, sweep_params)\n",
    "    println(\"For IC: \")\n",
    "    for p in algo_params\n",
    "        println(p,\"  \", ic[1].parsed_args[p])\n",
    "    end\n",
    "    for p in sweep_params\n",
    "        println(p,\"  \", ic[1].parsed_args[p])\n",
    "    end\n",
    "    println()\n",
    "end\n",
    "\n",
    "\n",
    "[print_params(best_per_algo_ics[i], sweep_params, algo_divisor_keys) for i in 1:length(best_per_algo_ics)]"
   ]
  },
  {
   "cell_type": "code",
   "execution_count": null,
   "metadata": {},
   "outputs": [],
   "source": []
  },
  {
   "cell_type": "code",
   "execution_count": 464,
   "metadata": {},
   "outputs": [
    {
     "name": "stdout",
     "output_type": "stream",
     "text": [
      "[\" demon_eta:0.25 behaviour_eta:0.5 exploration_param:0.15\", \" demon_eta:0.5 behaviour_eta:0.5 exploration_param:0.3\", \" demon_eta:1.0 behaviour_eta:0.25 exploration_param:0.15\", \" demon_eta:1.0 behaviour_eta:0.5 exploration_param:0.3\"]\n"
     ]
    }
   ],
   "source": [
    "data = [smooth(get_stats(load_results(ic,error_key))[1],5) for ic in best_per_algo_ics]\n",
    "data_std = [smooth(get_stats(load_results(ic,error_key))[2],5) for ic in best_per_algo_ics]\n",
    "function get_label(ic, label_keys)\n",
    "    label_str = \"\"\n",
    "    for k in label_keys\n",
    "        label_str = string(label_str, \" \",k,\":\", ic.items[1].parsed_args[k])\n",
    "    end\n",
    "    return label_str\n",
    "end\n",
    "labels = [get_label(ic, algo_divisor_keys) for ic in best_per_algo_ics]\n",
    "\n",
    "println([get_label(ic, sweep_params) for ic in best_per_algo_ics])\n"
   ]
  },
  {
   "cell_type": "code",
   "execution_count": 465,
   "metadata": {},
   "outputs": [
    {
     "data": {
      "text/plain": [
       "plot_mc_errors (generic function with 1 method)"
      ]
     },
     "execution_count": 465,
     "metadata": {},
     "output_type": "execute_result"
    }
   ],
   "source": [
    "function plot_mc_errors(errors,labels; step_increment = 50, data_std = nothing, title = \"\")\n",
    "    num_samples = length(errors[1])\n",
    "    xticks=collect(step_increment:step_increment:num_samples*step_increment)\n",
    "    p = plot(xlabel=\"Steps\", ylabel=\"MSE\", title=title, legend=:bottomleft)\n",
    "    for (ind,err) in enumerate(errors)\n",
    "        if isnothing(data_std)\n",
    "            plot!(p,xticks,err,label=labels[ind])\n",
    "        else\n",
    "            plot!(p,xticks,err,label=labels[ind],ribbon=data_std)\n",
    "        end\n",
    "    end\n",
    "    display(p)\n",
    "end\n"
   ]
  },
  {
   "cell_type": "code",
   "execution_count": 466,
   "metadata": {},
   "outputs": [
    {
     "data": {
      "text/plain": [
       "smooth (generic function with 1 method)"
      ]
     },
     "execution_count": 466,
     "metadata": {},
     "output_type": "execute_result"
    }
   ],
   "source": [
    "function smooth(data, k)\n",
    "    smoothed_data = zeros(size(data))\n",
    "    for i = 1:size(data, 1)\n",
    "        if i < k\n",
    "            smoothed_data[i] = mean(data[1:i])\n",
    "        else\n",
    "            smoothed_data[i] = mean(data[i - k + 1:i])\n",
    "        end\n",
    "    end\n",
    "    return smoothed_data\n",
    "end"
   ]
  },
  {
   "cell_type": "code",
   "execution_count": 467,
   "metadata": {},
   "outputs": [
    {
     "data": {
      "text/plain": [
       "4"
      ]
     },
     "execution_count": 467,
     "metadata": {},
     "output_type": "execute_result"
    }
   ],
   "source": [
    "raw_data = [(load_results(ic,error_key)) for ic in best_per_algo_ics]\n",
    "\n",
    "length(best_per_algo_ics)"
   ]
  },
  {
   "cell_type": "code",
   "execution_count": 468,
   "metadata": {},
   "outputs": [
    {
     "data": {
      "image/svg+xml": [
       "<?xml version=\"1.0\" encoding=\"utf-8\"?>\n",
       "<svg xmlns=\"http://www.w3.org/2000/svg\" xmlns:xlink=\"http://www.w3.org/1999/xlink\" width=\"600\" height=\"400\" viewBox=\"0 0 2400 1600\">\n",
       "<defs>\n",
       "  <clipPath id=\"clip430\">\n",
       "    <rect x=\"0\" y=\"0\" width=\"2400\" height=\"1600\"/>\n",
       "  </clipPath>\n",
       "</defs>\n",
       "<path clip-path=\"url(#clip430)\" d=\"\n",
       "M0 1600 L2400 1600 L2400 0 L0 0  Z\n",
       "  \" fill=\"#ffffff\" fill-rule=\"evenodd\" fill-opacity=\"1\"/>\n",
       "<defs>\n",
       "  <clipPath id=\"clip431\">\n",
       "    <rect x=\"480\" y=\"0\" width=\"1681\" height=\"1600\"/>\n",
       "  </clipPath>\n",
       "</defs>\n",
       "<path clip-path=\"url(#clip430)\" d=\"\n",
       "M211.278 1423.18 L2352.76 1423.18 L2352.76 123.472 L211.278 123.472  Z\n",
       "  \" fill=\"#ffffff\" fill-rule=\"evenodd\" fill-opacity=\"1\"/>\n",
       "<defs>\n",
       "  <clipPath id=\"clip432\">\n",
       "    <rect x=\"211\" y=\"123\" width=\"2142\" height=\"1301\"/>\n",
       "  </clipPath>\n",
       "</defs>\n",
       "<polyline clip-path=\"url(#clip432)\" style=\"stroke:#000000; stroke-width:2; stroke-opacity:0.1; fill:none\" points=\"\n",
       "  261.734,1423.18 261.734,123.472 \n",
       "  \"/>\n",
       "<polyline clip-path=\"url(#clip432)\" style=\"stroke:#000000; stroke-width:2; stroke-opacity:0.1; fill:none\" points=\"\n",
       "  769.338,1423.18 769.338,123.472 \n",
       "  \"/>\n",
       "<polyline clip-path=\"url(#clip432)\" style=\"stroke:#000000; stroke-width:2; stroke-opacity:0.1; fill:none\" points=\"\n",
       "  1276.94,1423.18 1276.94,123.472 \n",
       "  \"/>\n",
       "<polyline clip-path=\"url(#clip432)\" style=\"stroke:#000000; stroke-width:2; stroke-opacity:0.1; fill:none\" points=\"\n",
       "  1784.54,1423.18 1784.54,123.472 \n",
       "  \"/>\n",
       "<polyline clip-path=\"url(#clip432)\" style=\"stroke:#000000; stroke-width:2; stroke-opacity:0.1; fill:none\" points=\"\n",
       "  2292.15,1423.18 2292.15,123.472 \n",
       "  \"/>\n",
       "<polyline clip-path=\"url(#clip430)\" style=\"stroke:#000000; stroke-width:4; stroke-opacity:1; fill:none\" points=\"\n",
       "  211.278,1423.18 2352.76,1423.18 \n",
       "  \"/>\n",
       "<polyline clip-path=\"url(#clip430)\" style=\"stroke:#000000; stroke-width:4; stroke-opacity:1; fill:none\" points=\"\n",
       "  261.734,1423.18 261.734,1407.58 \n",
       "  \"/>\n",
       "<polyline clip-path=\"url(#clip430)\" style=\"stroke:#000000; stroke-width:4; stroke-opacity:1; fill:none\" points=\"\n",
       "  769.338,1423.18 769.338,1407.58 \n",
       "  \"/>\n",
       "<polyline clip-path=\"url(#clip430)\" style=\"stroke:#000000; stroke-width:4; stroke-opacity:1; fill:none\" points=\"\n",
       "  1276.94,1423.18 1276.94,1407.58 \n",
       "  \"/>\n",
       "<polyline clip-path=\"url(#clip430)\" style=\"stroke:#000000; stroke-width:4; stroke-opacity:1; fill:none\" points=\"\n",
       "  1784.54,1423.18 1784.54,1407.58 \n",
       "  \"/>\n",
       "<polyline clip-path=\"url(#clip430)\" style=\"stroke:#000000; stroke-width:4; stroke-opacity:1; fill:none\" points=\"\n",
       "  2292.15,1423.18 2292.15,1407.58 \n",
       "  \"/>\n",
       "<path clip-path=\"url(#clip430)\" d=\"M 0 0 M261.734 1452.37 Q258.123 1452.37 256.294 1455.94 Q254.489 1459.48 254.489 1466.61 Q254.489 1473.71 256.294 1477.28 Q258.123 1480.82 261.734 1480.82 Q265.368 1480.82 267.174 1477.28 Q269.003 1473.71 269.003 1466.61 Q269.003 1459.48 267.174 1455.94 Q265.368 1452.37 261.734 1452.37 M261.734 1448.67 Q267.544 1448.67 270.6 1453.27 Q273.679 1457.86 273.679 1466.61 Q273.679 1475.33 270.6 1479.94 Q267.544 1484.52 261.734 1484.52 Q255.924 1484.52 252.845 1479.94 Q249.79 1475.33 249.79 1466.61 Q249.79 1457.86 252.845 1453.27 Q255.924 1448.67 261.734 1448.67 Z\" fill=\"#000000\" fill-rule=\"evenodd\" fill-opacity=\"1\" /><path clip-path=\"url(#clip430)\" d=\"M 0 0 M723.967 1479.92 L740.287 1479.92 L740.287 1483.85 L718.343 1483.85 L718.343 1479.92 Q721.005 1477.16 725.588 1472.53 Q730.194 1467.88 731.375 1466.54 Q733.62 1464.01 734.5 1462.28 Q735.403 1460.52 735.403 1458.83 Q735.403 1456.07 733.458 1454.34 Q731.537 1452.6 728.435 1452.6 Q726.236 1452.6 723.782 1453.37 Q721.352 1454.13 718.574 1455.68 L718.574 1450.96 Q721.398 1449.82 723.852 1449.25 Q726.305 1448.67 728.342 1448.67 Q733.713 1448.67 736.907 1451.35 Q740.102 1454.04 740.102 1458.53 Q740.102 1460.66 739.291 1462.58 Q738.504 1464.48 736.398 1467.07 Q735.819 1467.74 732.717 1470.96 Q729.616 1474.15 723.967 1479.92 Z\" fill=\"#000000\" fill-rule=\"evenodd\" fill-opacity=\"1\" /><path clip-path=\"url(#clip430)\" d=\"M 0 0 M745.403 1449.29 L763.759 1449.29 L763.759 1453.23 L749.685 1453.23 L749.685 1461.7 Q750.703 1461.35 751.722 1461.19 Q752.74 1461 753.759 1461 Q759.546 1461 762.926 1464.18 Q766.305 1467.35 766.305 1472.76 Q766.305 1478.34 762.833 1481.44 Q759.361 1484.52 753.041 1484.52 Q750.865 1484.52 748.597 1484.15 Q746.352 1483.78 743.944 1483.04 L743.944 1478.34 Q746.028 1479.48 748.25 1480.03 Q750.472 1480.59 752.949 1480.59 Q756.953 1480.59 759.291 1478.48 Q761.629 1476.38 761.629 1472.76 Q761.629 1469.15 759.291 1467.05 Q756.953 1464.94 752.949 1464.94 Q751.074 1464.94 749.199 1465.36 Q747.347 1465.77 745.403 1466.65 L745.403 1449.29 Z\" fill=\"#000000\" fill-rule=\"evenodd\" fill-opacity=\"1\" /><path clip-path=\"url(#clip430)\" d=\"M 0 0 M781.375 1452.37 Q777.763 1452.37 775.935 1455.94 Q774.129 1459.48 774.129 1466.61 Q774.129 1473.71 775.935 1477.28 Q777.763 1480.82 781.375 1480.82 Q785.009 1480.82 786.814 1477.28 Q788.643 1473.71 788.643 1466.61 Q788.643 1459.48 786.814 1455.94 Q785.009 1452.37 781.375 1452.37 M781.375 1448.67 Q787.185 1448.67 790.24 1453.27 Q793.319 1457.86 793.319 1466.61 Q793.319 1475.33 790.24 1479.94 Q787.185 1484.52 781.375 1484.52 Q775.564 1484.52 772.486 1479.94 Q769.43 1475.33 769.43 1466.61 Q769.43 1457.86 772.486 1453.27 Q775.564 1448.67 781.375 1448.67 Z\" fill=\"#000000\" fill-rule=\"evenodd\" fill-opacity=\"1\" /><path clip-path=\"url(#clip430)\" d=\"M 0 0 M808.388 1452.37 Q804.777 1452.37 802.949 1455.94 Q801.143 1459.48 801.143 1466.61 Q801.143 1473.71 802.949 1477.28 Q804.777 1480.82 808.388 1480.82 Q812.023 1480.82 813.828 1477.28 Q815.657 1473.71 815.657 1466.61 Q815.657 1459.48 813.828 1455.94 Q812.023 1452.37 808.388 1452.37 M808.388 1448.67 Q814.198 1448.67 817.254 1453.27 Q820.333 1457.86 820.333 1466.61 Q820.333 1475.33 817.254 1479.94 Q814.198 1484.52 808.388 1484.52 Q802.578 1484.52 799.499 1479.94 Q796.444 1475.33 796.444 1466.61 Q796.444 1457.86 799.499 1453.27 Q802.578 1448.67 808.388 1448.67 Z\" fill=\"#000000\" fill-rule=\"evenodd\" fill-opacity=\"1\" /><path clip-path=\"url(#clip430)\" d=\"M 0 0 M1226.7 1449.29 L1245.05 1449.29 L1245.05 1453.23 L1230.98 1453.23 L1230.98 1461.7 Q1232 1461.35 1233.02 1461.19 Q1234.04 1461 1235.05 1461 Q1240.84 1461 1244.22 1464.18 Q1247.6 1467.35 1247.6 1472.76 Q1247.6 1478.34 1244.13 1481.44 Q1240.66 1484.52 1234.34 1484.52 Q1232.16 1484.52 1229.89 1484.15 Q1227.65 1483.78 1225.24 1483.04 L1225.24 1478.34 Q1227.32 1479.48 1229.55 1480.03 Q1231.77 1480.59 1234.24 1480.59 Q1238.25 1480.59 1240.59 1478.48 Q1242.93 1476.38 1242.93 1472.76 Q1242.93 1469.15 1240.59 1467.05 Q1238.25 1464.94 1234.24 1464.94 Q1232.37 1464.94 1230.49 1465.36 Q1228.64 1465.77 1226.7 1466.65 L1226.7 1449.29 Z\" fill=\"#000000\" fill-rule=\"evenodd\" fill-opacity=\"1\" /><path clip-path=\"url(#clip430)\" d=\"M 0 0 M1262.67 1452.37 Q1259.06 1452.37 1257.23 1455.94 Q1255.43 1459.48 1255.43 1466.61 Q1255.43 1473.71 1257.23 1477.28 Q1259.06 1480.82 1262.67 1480.82 Q1266.3 1480.82 1268.11 1477.28 Q1269.94 1473.71 1269.94 1466.61 Q1269.94 1459.48 1268.11 1455.94 Q1266.3 1452.37 1262.67 1452.37 M1262.67 1448.67 Q1268.48 1448.67 1271.54 1453.27 Q1274.61 1457.86 1274.61 1466.61 Q1274.61 1475.33 1271.54 1479.94 Q1268.48 1484.52 1262.67 1484.52 Q1256.86 1484.52 1253.78 1479.94 Q1250.73 1475.33 1250.73 1466.61 Q1250.73 1457.86 1253.78 1453.27 Q1256.86 1448.67 1262.67 1448.67 Z\" fill=\"#000000\" fill-rule=\"evenodd\" fill-opacity=\"1\" /><path clip-path=\"url(#clip430)\" d=\"M 0 0 M1289.68 1452.37 Q1286.07 1452.37 1284.24 1455.94 Q1282.44 1459.48 1282.44 1466.61 Q1282.44 1473.71 1284.24 1477.28 Q1286.07 1480.82 1289.68 1480.82 Q1293.32 1480.82 1295.12 1477.28 Q1296.95 1473.71 1296.95 1466.61 Q1296.95 1459.48 1295.12 1455.94 Q1293.32 1452.37 1289.68 1452.37 M1289.68 1448.67 Q1295.49 1448.67 1298.55 1453.27 Q1301.63 1457.86 1301.63 1466.61 Q1301.63 1475.33 1298.55 1479.94 Q1295.49 1484.52 1289.68 1484.52 Q1283.87 1484.52 1280.8 1479.94 Q1277.74 1475.33 1277.74 1466.61 Q1277.74 1457.86 1280.8 1453.27 Q1283.87 1448.67 1289.68 1448.67 Z\" fill=\"#000000\" fill-rule=\"evenodd\" fill-opacity=\"1\" /><path clip-path=\"url(#clip430)\" d=\"M 0 0 M1316.7 1452.37 Q1313.09 1452.37 1311.26 1455.94 Q1309.45 1459.48 1309.45 1466.61 Q1309.45 1473.71 1311.26 1477.28 Q1313.09 1480.82 1316.7 1480.82 Q1320.33 1480.82 1322.14 1477.28 Q1323.97 1473.71 1323.97 1466.61 Q1323.97 1459.48 1322.14 1455.94 Q1320.33 1452.37 1316.7 1452.37 M1316.7 1448.67 Q1322.51 1448.67 1325.56 1453.27 Q1328.64 1457.86 1328.64 1466.61 Q1328.64 1475.33 1325.56 1479.94 Q1322.51 1484.52 1316.7 1484.52 Q1310.89 1484.52 1307.81 1479.94 Q1304.75 1475.33 1304.75 1466.61 Q1304.75 1457.86 1307.81 1453.27 Q1310.89 1448.67 1316.7 1448.67 Z\" fill=\"#000000\" fill-rule=\"evenodd\" fill-opacity=\"1\" /><path clip-path=\"url(#clip430)\" d=\"M 0 0 M1733.41 1449.29 L1755.63 1449.29 L1755.63 1451.28 L1743.09 1483.85 L1738.2 1483.85 L1750.01 1453.23 L1733.41 1453.23 L1733.41 1449.29 Z\" fill=\"#000000\" fill-rule=\"evenodd\" fill-opacity=\"1\" /><path clip-path=\"url(#clip430)\" d=\"M 0 0 M1760.75 1449.29 L1779.1 1449.29 L1779.1 1453.23 L1765.03 1453.23 L1765.03 1461.7 Q1766.05 1461.35 1767.07 1461.19 Q1768.09 1461 1769.1 1461 Q1774.89 1461 1778.27 1464.18 Q1781.65 1467.35 1781.65 1472.76 Q1781.65 1478.34 1778.18 1481.44 Q1774.71 1484.52 1768.39 1484.52 Q1766.21 1484.52 1763.94 1484.15 Q1761.7 1483.78 1759.29 1483.04 L1759.29 1478.34 Q1761.37 1479.48 1763.6 1480.03 Q1765.82 1480.59 1768.29 1480.59 Q1772.3 1480.59 1774.64 1478.48 Q1776.98 1476.38 1776.98 1472.76 Q1776.98 1469.15 1774.64 1467.05 Q1772.3 1464.94 1768.29 1464.94 Q1766.42 1464.94 1764.54 1465.36 Q1762.69 1465.77 1760.75 1466.65 L1760.75 1449.29 Z\" fill=\"#000000\" fill-rule=\"evenodd\" fill-opacity=\"1\" /><path clip-path=\"url(#clip430)\" d=\"M 0 0 M1796.72 1452.37 Q1793.11 1452.37 1791.28 1455.94 Q1789.48 1459.48 1789.48 1466.61 Q1789.48 1473.71 1791.28 1477.28 Q1793.11 1480.82 1796.72 1480.82 Q1800.35 1480.82 1802.16 1477.28 Q1803.99 1473.71 1803.99 1466.61 Q1803.99 1459.48 1802.16 1455.94 Q1800.35 1452.37 1796.72 1452.37 M1796.72 1448.67 Q1802.53 1448.67 1805.59 1453.27 Q1808.66 1457.86 1808.66 1466.61 Q1808.66 1475.33 1805.59 1479.94 Q1802.53 1484.52 1796.72 1484.52 Q1790.91 1484.52 1787.83 1479.94 Q1784.78 1475.33 1784.78 1466.61 Q1784.78 1457.86 1787.83 1453.27 Q1790.91 1448.67 1796.72 1448.67 Z\" fill=\"#000000\" fill-rule=\"evenodd\" fill-opacity=\"1\" /><path clip-path=\"url(#clip430)\" d=\"M 0 0 M1823.73 1452.37 Q1820.12 1452.37 1818.29 1455.94 Q1816.49 1459.48 1816.49 1466.61 Q1816.49 1473.71 1818.29 1477.28 Q1820.12 1480.82 1823.73 1480.82 Q1827.37 1480.82 1829.17 1477.28 Q1831 1473.71 1831 1466.61 Q1831 1459.48 1829.17 1455.94 Q1827.37 1452.37 1823.73 1452.37 M1823.73 1448.67 Q1829.54 1448.67 1832.6 1453.27 Q1835.68 1457.86 1835.68 1466.61 Q1835.68 1475.33 1832.6 1479.94 Q1829.54 1484.52 1823.73 1484.52 Q1817.92 1484.52 1814.85 1479.94 Q1811.79 1475.33 1811.79 1466.61 Q1811.79 1457.86 1814.85 1453.27 Q1817.92 1448.67 1823.73 1448.67 Z\" fill=\"#000000\" fill-rule=\"evenodd\" fill-opacity=\"1\" /><path clip-path=\"url(#clip430)\" d=\"M 0 0 M2228.5 1479.92 L2236.14 1479.92 L2236.14 1453.55 L2227.83 1455.22 L2227.83 1450.96 L2236.1 1449.29 L2240.77 1449.29 L2240.77 1479.92 L2248.41 1479.92 L2248.41 1483.85 L2228.5 1483.85 L2228.5 1479.92 Z\" fill=\"#000000\" fill-rule=\"evenodd\" fill-opacity=\"1\" /><path clip-path=\"url(#clip430)\" d=\"M 0 0 M2263.48 1452.37 Q2259.87 1452.37 2258.04 1455.94 Q2256.23 1459.48 2256.23 1466.61 Q2256.23 1473.71 2258.04 1477.28 Q2259.87 1480.82 2263.48 1480.82 Q2267.11 1480.82 2268.92 1477.28 Q2270.75 1473.71 2270.75 1466.61 Q2270.75 1459.48 2268.92 1455.94 Q2267.11 1452.37 2263.48 1452.37 M2263.48 1448.67 Q2269.29 1448.67 2272.34 1453.27 Q2275.42 1457.86 2275.42 1466.61 Q2275.42 1475.33 2272.34 1479.94 Q2269.29 1484.52 2263.48 1484.52 Q2257.67 1484.52 2254.59 1479.94 Q2251.53 1475.33 2251.53 1466.61 Q2251.53 1457.86 2254.59 1453.27 Q2257.67 1448.67 2263.48 1448.67 Z\" fill=\"#000000\" fill-rule=\"evenodd\" fill-opacity=\"1\" /><path clip-path=\"url(#clip430)\" d=\"M 0 0 M2290.49 1452.37 Q2286.88 1452.37 2285.05 1455.94 Q2283.25 1459.48 2283.25 1466.61 Q2283.25 1473.71 2285.05 1477.28 Q2286.88 1480.82 2290.49 1480.82 Q2294.13 1480.82 2295.93 1477.28 Q2297.76 1473.71 2297.76 1466.61 Q2297.76 1459.48 2295.93 1455.94 Q2294.13 1452.37 2290.49 1452.37 M2290.49 1448.67 Q2296.3 1448.67 2299.36 1453.27 Q2302.44 1457.86 2302.44 1466.61 Q2302.44 1475.33 2299.36 1479.94 Q2296.3 1484.52 2290.49 1484.52 Q2284.68 1484.52 2281.6 1479.94 Q2278.55 1475.33 2278.55 1466.61 Q2278.55 1457.86 2281.6 1453.27 Q2284.68 1448.67 2290.49 1448.67 Z\" fill=\"#000000\" fill-rule=\"evenodd\" fill-opacity=\"1\" /><path clip-path=\"url(#clip430)\" d=\"M 0 0 M2317.51 1452.37 Q2313.9 1452.37 2312.07 1455.94 Q2310.26 1459.48 2310.26 1466.61 Q2310.26 1473.71 2312.07 1477.28 Q2313.9 1480.82 2317.51 1480.82 Q2321.14 1480.82 2322.95 1477.28 Q2324.78 1473.71 2324.78 1466.61 Q2324.78 1459.48 2322.95 1455.94 Q2321.14 1452.37 2317.51 1452.37 M2317.51 1448.67 Q2323.32 1448.67 2326.37 1453.27 Q2329.45 1457.86 2329.45 1466.61 Q2329.45 1475.33 2326.37 1479.94 Q2323.32 1484.52 2317.51 1484.52 Q2311.7 1484.52 2308.62 1479.94 Q2305.56 1475.33 2305.56 1466.61 Q2305.56 1457.86 2308.62 1453.27 Q2311.7 1448.67 2317.51 1448.67 Z\" fill=\"#000000\" fill-rule=\"evenodd\" fill-opacity=\"1\" /><path clip-path=\"url(#clip430)\" d=\"M 0 0 M2344.52 1452.37 Q2340.91 1452.37 2339.08 1455.94 Q2337.28 1459.48 2337.28 1466.61 Q2337.28 1473.71 2339.08 1477.28 Q2340.91 1480.82 2344.52 1480.82 Q2348.15 1480.82 2349.96 1477.28 Q2351.79 1473.71 2351.79 1466.61 Q2351.79 1459.48 2349.96 1455.94 Q2348.15 1452.37 2344.52 1452.37 M2344.52 1448.67 Q2350.33 1448.67 2353.39 1453.27 Q2356.46 1457.86 2356.46 1466.61 Q2356.46 1475.33 2353.39 1479.94 Q2350.33 1484.52 2344.52 1484.52 Q2338.71 1484.52 2335.63 1479.94 Q2332.58 1475.33 2332.58 1466.61 Q2332.58 1457.86 2335.63 1453.27 Q2338.71 1448.67 2344.52 1448.67 Z\" fill=\"#000000\" fill-rule=\"evenodd\" fill-opacity=\"1\" /><path clip-path=\"url(#clip430)\" d=\"M 0 0 M1231.27 1522.08 L1231.27 1528.35 Q1227.61 1526.6 1224.36 1525.74 Q1221.11 1524.88 1218.09 1524.88 Q1212.84 1524.88 1209.97 1526.92 Q1207.14 1528.96 1207.14 1532.71 Q1207.14 1535.87 1209.02 1537.49 Q1210.93 1539.08 1216.21 1540.07 L1220.09 1540.86 Q1227.29 1542.23 1230.69 1545.7 Q1234.13 1549.14 1234.13 1554.93 Q1234.13 1561.84 1229.48 1565.4 Q1224.87 1568.97 1215.93 1568.97 Q1212.55 1568.97 1208.73 1568.2 Q1204.94 1567.44 1200.87 1565.94 L1200.87 1559.32 Q1204.79 1561.52 1208.54 1562.63 Q1212.3 1563.75 1215.93 1563.75 Q1221.43 1563.75 1224.42 1561.58 Q1227.42 1559.42 1227.42 1555.41 Q1227.42 1551.91 1225.25 1549.93 Q1223.12 1547.96 1218.22 1546.97 L1214.3 1546.21 Q1207.11 1544.78 1203.89 1541.72 Q1200.68 1538.67 1200.68 1533.22 Q1200.68 1526.92 1205.1 1523.29 Q1209.56 1519.66 1217.36 1519.66 Q1220.7 1519.66 1224.17 1520.27 Q1227.64 1520.87 1231.27 1522.08 Z\" fill=\"#000000\" fill-rule=\"evenodd\" fill-opacity=\"1\" /><path clip-path=\"url(#clip430)\" d=\"M 0 0 M1246.07 1522.27 L1246.07 1532.4 L1258.13 1532.4 L1258.13 1536.95 L1246.07 1536.95 L1246.07 1556.3 Q1246.07 1560.66 1247.24 1561.9 Q1248.45 1563.14 1252.11 1563.14 L1258.13 1563.14 L1258.13 1568.04 L1252.11 1568.04 Q1245.33 1568.04 1242.76 1565.53 Q1240.18 1562.98 1240.18 1556.3 L1240.18 1536.95 L1235.88 1536.95 L1235.88 1532.4 L1240.18 1532.4 L1240.18 1522.27 L1246.07 1522.27 Z\" fill=\"#000000\" fill-rule=\"evenodd\" fill-opacity=\"1\" /><path clip-path=\"url(#clip430)\" d=\"M 0 0 M1294.76 1548.76 L1294.76 1551.62 L1267.84 1551.62 Q1268.22 1557.67 1271.47 1560.85 Q1274.74 1564 1280.57 1564 Q1283.94 1564 1287.09 1563.17 Q1290.28 1562.35 1293.4 1560.69 L1293.4 1566.23 Q1290.24 1567.57 1286.93 1568.27 Q1283.62 1568.97 1280.22 1568.97 Q1271.69 1568.97 1266.69 1564 Q1261.73 1559.04 1261.73 1550.57 Q1261.73 1541.82 1266.44 1536.69 Q1271.18 1531.54 1279.2 1531.54 Q1286.39 1531.54 1290.56 1536.18 Q1294.76 1540.8 1294.76 1548.76 M1288.91 1547.04 Q1288.84 1542.23 1286.2 1539.37 Q1283.59 1536.5 1279.26 1536.5 Q1274.36 1536.5 1271.4 1539.27 Q1268.47 1542.04 1268.03 1547.07 L1288.91 1547.04 Z\" fill=\"#000000\" fill-rule=\"evenodd\" fill-opacity=\"1\" /><path clip-path=\"url(#clip430)\" d=\"M 0 0 M1306.57 1562.7 L1306.57 1581.6 L1300.68 1581.6 L1300.68 1532.4 L1306.57 1532.4 L1306.57 1537.81 Q1308.42 1534.62 1311.22 1533.1 Q1314.05 1531.54 1317.97 1531.54 Q1324.46 1531.54 1328.5 1536.69 Q1332.58 1541.85 1332.58 1550.25 Q1332.58 1558.65 1328.5 1563.81 Q1324.46 1568.97 1317.97 1568.97 Q1314.05 1568.97 1311.22 1567.44 Q1308.42 1565.88 1306.57 1562.7 M1326.5 1550.25 Q1326.5 1543.79 1323.82 1540.13 Q1321.18 1536.44 1316.54 1536.44 Q1311.89 1536.44 1309.21 1540.13 Q1306.57 1543.79 1306.57 1550.25 Q1306.57 1556.71 1309.21 1560.4 Q1311.89 1564.07 1316.54 1564.07 Q1321.18 1564.07 1323.82 1560.4 Q1326.5 1556.71 1326.5 1550.25 Z\" fill=\"#000000\" fill-rule=\"evenodd\" fill-opacity=\"1\" /><path clip-path=\"url(#clip430)\" d=\"M 0 0 M1361.45 1533.45 L1361.45 1538.98 Q1358.96 1537.71 1356.29 1537.07 Q1353.62 1536.44 1350.75 1536.44 Q1346.39 1536.44 1344.19 1537.77 Q1342.03 1539.11 1342.03 1541.79 Q1342.03 1543.82 1343.59 1545 Q1345.15 1546.15 1349.86 1547.2 L1351.86 1547.64 Q1358.1 1548.98 1360.71 1551.43 Q1363.35 1553.85 1363.35 1558.21 Q1363.35 1563.17 1359.41 1566.07 Q1355.49 1568.97 1348.62 1568.97 Q1345.75 1568.97 1342.63 1568.39 Q1339.55 1567.85 1336.11 1566.74 L1336.11 1560.69 Q1339.36 1562.38 1342.51 1563.24 Q1345.66 1564.07 1348.75 1564.07 Q1352.88 1564.07 1355.11 1562.66 Q1357.34 1561.23 1357.34 1558.65 Q1357.34 1556.27 1355.72 1554.99 Q1354.12 1553.72 1348.68 1552.54 L1346.64 1552.07 Q1341.2 1550.92 1338.78 1548.56 Q1336.36 1546.18 1336.36 1542.04 Q1336.36 1537.01 1339.93 1534.27 Q1343.49 1531.54 1350.05 1531.54 Q1353.3 1531.54 1356.16 1532.01 Q1359.03 1532.49 1361.45 1533.45 Z\" fill=\"#000000\" fill-rule=\"evenodd\" fill-opacity=\"1\" /><polyline clip-path=\"url(#clip432)\" style=\"stroke:#000000; stroke-width:2; stroke-opacity:0.1; fill:none\" points=\"\n",
       "  211.278,1291.92 2352.76,1291.92 \n",
       "  \"/>\n",
       "<polyline clip-path=\"url(#clip432)\" style=\"stroke:#000000; stroke-width:2; stroke-opacity:0.1; fill:none\" points=\"\n",
       "  211.278,1043.13 2352.76,1043.13 \n",
       "  \"/>\n",
       "<polyline clip-path=\"url(#clip432)\" style=\"stroke:#000000; stroke-width:2; stroke-opacity:0.1; fill:none\" points=\"\n",
       "  211.278,794.346 2352.76,794.346 \n",
       "  \"/>\n",
       "<polyline clip-path=\"url(#clip432)\" style=\"stroke:#000000; stroke-width:2; stroke-opacity:0.1; fill:none\" points=\"\n",
       "  211.278,545.559 2352.76,545.559 \n",
       "  \"/>\n",
       "<polyline clip-path=\"url(#clip432)\" style=\"stroke:#000000; stroke-width:2; stroke-opacity:0.1; fill:none\" points=\"\n",
       "  211.278,296.772 2352.76,296.772 \n",
       "  \"/>\n",
       "<polyline clip-path=\"url(#clip430)\" style=\"stroke:#000000; stroke-width:4; stroke-opacity:1; fill:none\" points=\"\n",
       "  211.278,1423.18 211.278,123.472 \n",
       "  \"/>\n",
       "<polyline clip-path=\"url(#clip430)\" style=\"stroke:#000000; stroke-width:4; stroke-opacity:1; fill:none\" points=\"\n",
       "  211.278,1291.92 236.976,1291.92 \n",
       "  \"/>\n",
       "<polyline clip-path=\"url(#clip430)\" style=\"stroke:#000000; stroke-width:4; stroke-opacity:1; fill:none\" points=\"\n",
       "  211.278,1043.13 236.976,1043.13 \n",
       "  \"/>\n",
       "<polyline clip-path=\"url(#clip430)\" style=\"stroke:#000000; stroke-width:4; stroke-opacity:1; fill:none\" points=\"\n",
       "  211.278,794.346 236.976,794.346 \n",
       "  \"/>\n",
       "<polyline clip-path=\"url(#clip430)\" style=\"stroke:#000000; stroke-width:4; stroke-opacity:1; fill:none\" points=\"\n",
       "  211.278,545.559 236.976,545.559 \n",
       "  \"/>\n",
       "<polyline clip-path=\"url(#clip430)\" style=\"stroke:#000000; stroke-width:4; stroke-opacity:1; fill:none\" points=\"\n",
       "  211.278,296.772 236.976,296.772 \n",
       "  \"/>\n",
       "<path clip-path=\"url(#clip430)\" d=\"M 0 0 M127.015 1277.72 Q123.404 1277.72 121.575 1281.28 Q119.769 1284.82 119.769 1291.95 Q119.769 1299.06 121.575 1302.63 Q123.404 1306.17 127.015 1306.17 Q130.649 1306.17 132.455 1302.63 Q134.283 1299.06 134.283 1291.95 Q134.283 1284.82 132.455 1281.28 Q130.649 1277.72 127.015 1277.72 M127.015 1274.01 Q132.825 1274.01 135.88 1278.62 Q138.959 1283.2 138.959 1291.95 Q138.959 1300.68 135.88 1305.29 Q132.825 1309.87 127.015 1309.87 Q121.205 1309.87 118.126 1305.29 Q115.07 1300.68 115.07 1291.95 Q115.07 1283.2 118.126 1278.62 Q121.205 1274.01 127.015 1274.01 Z\" fill=\"#000000\" fill-rule=\"evenodd\" fill-opacity=\"1\" /><path clip-path=\"url(#clip430)\" d=\"M 0 0 M144.029 1303.32 L148.913 1303.32 L148.913 1309.2 L144.029 1309.2 L144.029 1303.32 Z\" fill=\"#000000\" fill-rule=\"evenodd\" fill-opacity=\"1\" /><path clip-path=\"url(#clip430)\" d=\"M 0 0 M168.149 1290.57 Q171.505 1291.28 173.38 1293.55 Q175.278 1295.82 175.278 1299.15 Q175.278 1304.27 171.76 1307.07 Q168.241 1309.87 161.76 1309.87 Q159.584 1309.87 157.269 1309.43 Q154.978 1309.01 152.524 1308.16 L152.524 1303.64 Q154.468 1304.78 156.783 1305.36 Q159.098 1305.94 161.621 1305.94 Q166.019 1305.94 168.311 1304.2 Q170.626 1302.46 170.626 1299.15 Q170.626 1296.1 168.473 1294.39 Q166.343 1292.65 162.524 1292.65 L158.496 1292.65 L158.496 1288.81 L162.709 1288.81 Q166.158 1288.81 167.987 1287.44 Q169.815 1286.05 169.815 1283.46 Q169.815 1280.8 167.917 1279.39 Q166.042 1277.95 162.524 1277.95 Q160.603 1277.95 158.403 1278.37 Q156.204 1278.78 153.566 1279.66 L153.566 1275.5 Q156.228 1274.76 158.542 1274.39 Q160.88 1274.01 162.94 1274.01 Q168.264 1274.01 171.366 1276.45 Q174.468 1278.85 174.468 1282.97 Q174.468 1285.84 172.825 1287.83 Q171.181 1289.8 168.149 1290.57 Z\" fill=\"#000000\" fill-rule=\"evenodd\" fill-opacity=\"1\" /><path clip-path=\"url(#clip430)\" d=\"M 0 0 M126.205 1028.93 Q122.593 1028.93 120.765 1032.5 Q118.959 1036.04 118.959 1043.17 Q118.959 1050.27 120.765 1053.84 Q122.593 1057.38 126.205 1057.38 Q129.839 1057.38 131.644 1053.84 Q133.473 1050.27 133.473 1043.17 Q133.473 1036.04 131.644 1032.5 Q129.839 1028.93 126.205 1028.93 M126.205 1025.23 Q132.015 1025.23 135.07 1029.83 Q138.149 1034.42 138.149 1043.17 Q138.149 1051.89 135.07 1056.5 Q132.015 1061.08 126.205 1061.08 Q120.394 1061.08 117.316 1056.5 Q114.26 1051.89 114.26 1043.17 Q114.26 1034.42 117.316 1029.83 Q120.394 1025.23 126.205 1025.23 Z\" fill=\"#000000\" fill-rule=\"evenodd\" fill-opacity=\"1\" /><path clip-path=\"url(#clip430)\" d=\"M 0 0 M143.218 1054.53 L148.103 1054.53 L148.103 1060.41 L143.218 1060.41 L143.218 1054.53 Z\" fill=\"#000000\" fill-rule=\"evenodd\" fill-opacity=\"1\" /><path clip-path=\"url(#clip430)\" d=\"M 0 0 M163.751 1041.27 Q160.603 1041.27 158.751 1043.42 Q156.922 1045.57 156.922 1049.32 Q156.922 1053.05 158.751 1055.23 Q160.603 1057.38 163.751 1057.38 Q166.899 1057.38 168.727 1055.23 Q170.579 1053.05 170.579 1049.32 Q170.579 1045.57 168.727 1043.42 Q166.899 1041.27 163.751 1041.27 M173.033 1026.62 L173.033 1030.88 Q171.274 1030.04 169.468 1029.6 Q167.686 1029.16 165.927 1029.16 Q161.297 1029.16 158.843 1032.29 Q156.413 1035.41 156.065 1041.73 Q157.431 1039.72 159.491 1038.65 Q161.552 1037.57 164.028 1037.57 Q169.237 1037.57 172.246 1040.74 Q175.278 1043.89 175.278 1049.32 Q175.278 1054.65 172.13 1057.87 Q168.982 1061.08 163.751 1061.08 Q157.755 1061.08 154.584 1056.5 Q151.413 1051.89 151.413 1043.17 Q151.413 1034.97 155.302 1030.11 Q159.19 1025.23 165.741 1025.23 Q167.501 1025.23 169.283 1025.58 Q171.089 1025.92 173.033 1026.62 Z\" fill=\"#000000\" fill-rule=\"evenodd\" fill-opacity=\"1\" /><path clip-path=\"url(#clip430)\" d=\"M 0 0 M126.552 780.145 Q122.941 780.145 121.112 783.709 Q119.306 787.251 119.306 794.381 Q119.306 801.487 121.112 805.052 Q122.941 808.594 126.552 808.594 Q130.186 808.594 131.992 805.052 Q133.82 801.487 133.82 794.381 Q133.82 787.251 131.992 783.709 Q130.186 780.145 126.552 780.145 M126.552 776.441 Q132.362 776.441 135.417 781.047 Q138.496 785.631 138.496 794.381 Q138.496 803.107 135.417 807.714 Q132.362 812.297 126.552 812.297 Q120.742 812.297 117.663 807.714 Q114.607 803.107 114.607 794.381 Q114.607 785.631 117.663 781.047 Q120.742 776.441 126.552 776.441 Z\" fill=\"#000000\" fill-rule=\"evenodd\" fill-opacity=\"1\" /><path clip-path=\"url(#clip430)\" d=\"M 0 0 M143.566 805.746 L148.45 805.746 L148.45 811.626 L143.566 811.626 L143.566 805.746 Z\" fill=\"#000000\" fill-rule=\"evenodd\" fill-opacity=\"1\" /><path clip-path=\"url(#clip430)\" d=\"M 0 0 M153.658 810.908 L153.658 806.649 Q155.417 807.482 157.223 807.922 Q159.028 808.362 160.765 808.362 Q165.394 808.362 167.825 805.26 Q170.278 802.135 170.626 795.793 Q169.283 797.783 167.223 798.848 Q165.163 799.913 162.663 799.913 Q157.478 799.913 154.445 796.788 Q151.436 793.64 151.436 788.2 Q151.436 782.876 154.584 779.659 Q157.732 776.441 162.964 776.441 Q168.959 776.441 172.107 781.047 Q175.278 785.631 175.278 794.381 Q175.278 802.552 171.389 807.436 Q167.524 812.297 160.973 812.297 Q159.214 812.297 157.408 811.95 Q155.603 811.603 153.658 810.908 M162.964 796.256 Q166.112 796.256 167.94 794.103 Q169.792 791.95 169.792 788.2 Q169.792 784.473 167.94 782.321 Q166.112 780.145 162.964 780.145 Q159.815 780.145 157.964 782.321 Q156.135 784.473 156.135 788.2 Q156.135 791.95 157.964 794.103 Q159.815 796.256 162.964 796.256 Z\" fill=\"#000000\" fill-rule=\"evenodd\" fill-opacity=\"1\" /><path clip-path=\"url(#clip430)\" d=\"M 0 0 M120.001 558.904 L127.64 558.904 L127.64 532.538 L119.33 534.205 L119.33 529.946 L127.593 528.279 L132.269 528.279 L132.269 558.904 L139.908 558.904 L139.908 562.839 L120.001 562.839 L120.001 558.904 Z\" fill=\"#000000\" fill-rule=\"evenodd\" fill-opacity=\"1\" /><path clip-path=\"url(#clip430)\" d=\"M 0 0 M144.978 556.959 L149.862 556.959 L149.862 562.839 L144.978 562.839 L144.978 556.959 Z\" fill=\"#000000\" fill-rule=\"evenodd\" fill-opacity=\"1\" /><path clip-path=\"url(#clip430)\" d=\"M 0 0 M158.959 558.904 L175.278 558.904 L175.278 562.839 L153.334 562.839 L153.334 558.904 Q155.996 556.149 160.579 551.52 Q165.186 546.867 166.366 545.524 Q168.612 543.001 169.491 541.265 Q170.394 539.506 170.394 537.816 Q170.394 535.061 168.45 533.325 Q166.528 531.589 163.427 531.589 Q161.227 531.589 158.774 532.353 Q156.343 533.117 153.566 534.668 L153.566 529.946 Q156.39 528.811 158.843 528.233 Q161.297 527.654 163.334 527.654 Q168.704 527.654 171.899 530.339 Q175.093 533.024 175.093 537.515 Q175.093 539.645 174.283 541.566 Q173.496 543.464 171.389 546.057 Q170.811 546.728 167.709 549.946 Q164.607 553.14 158.959 558.904 Z\" fill=\"#000000\" fill-rule=\"evenodd\" fill-opacity=\"1\" /><path clip-path=\"url(#clip430)\" d=\"M 0 0 M119.399 310.117 L127.038 310.117 L127.038 283.751 L118.728 285.418 L118.728 281.159 L126.992 279.492 L131.667 279.492 L131.667 310.117 L139.306 310.117 L139.306 314.052 L119.399 314.052 L119.399 310.117 Z\" fill=\"#000000\" fill-rule=\"evenodd\" fill-opacity=\"1\" /><path clip-path=\"url(#clip430)\" d=\"M 0 0 M144.376 308.172 L149.26 308.172 L149.26 314.052 L144.376 314.052 L144.376 308.172 Z\" fill=\"#000000\" fill-rule=\"evenodd\" fill-opacity=\"1\" /><path clip-path=\"url(#clip430)\" d=\"M 0 0 M154.376 279.492 L172.732 279.492 L172.732 283.427 L158.658 283.427 L158.658 291.899 Q159.677 291.552 160.695 291.39 Q161.714 291.205 162.732 291.205 Q168.519 291.205 171.899 294.376 Q175.278 297.548 175.278 302.964 Q175.278 308.543 171.806 311.645 Q168.334 314.723 162.015 314.723 Q159.839 314.723 157.57 314.353 Q155.325 313.983 152.917 313.242 L152.917 308.543 Q155.001 309.677 157.223 310.233 Q159.445 310.788 161.922 310.788 Q165.927 310.788 168.264 308.682 Q170.602 306.575 170.602 302.964 Q170.602 299.353 168.264 297.247 Q165.927 295.14 161.922 295.14 Q160.047 295.14 158.172 295.557 Q156.32 295.973 154.376 296.853 L154.376 279.492 Z\" fill=\"#000000\" fill-rule=\"evenodd\" fill-opacity=\"1\" /><path clip-path=\"url(#clip430)\" d=\"M 0 0 M16.4842 832.447 L16.4842 822.867 L48.8219 810.74 L16.4842 798.55 L16.4842 788.97 L64.0042 788.97 L64.0042 795.24 L22.277 795.24 L54.8694 807.494 L54.8694 813.955 L22.277 826.209 L64.0042 826.209 L64.0042 832.447 L16.4842 832.447 Z\" fill=\"#000000\" fill-rule=\"evenodd\" fill-opacity=\"1\" /><path clip-path=\"url(#clip430)\" d=\"M 0 0 M18.0438 754.086 L24.314 754.086 Q22.5634 757.746 21.704 760.992 Q20.8447 764.239 20.8447 767.263 Q20.8447 772.514 22.8817 775.379 Q24.9187 778.212 28.6745 778.212 Q31.8255 778.212 33.4488 776.334 Q35.0402 774.424 36.0269 769.141 L36.8226 765.257 Q38.1912 758.064 41.6605 754.659 Q45.098 751.221 50.8908 751.221 Q57.7976 751.221 61.3624 755.868 Q64.9272 760.483 64.9272 769.427 Q64.9272 772.801 64.1633 776.62 Q63.3994 780.408 61.9035 784.482 L55.2831 784.482 Q57.4793 780.567 58.5933 776.811 Q59.7073 773.055 59.7073 769.427 Q59.7073 763.921 57.543 760.929 Q55.3786 757.937 51.3682 757.937 Q47.8671 757.937 45.8937 760.101 Q43.9204 762.234 42.9337 767.135 L42.1698 771.05 Q40.7375 778.243 37.682 781.458 Q34.6264 784.673 29.1837 784.673 Q22.8817 784.673 19.2532 780.249 Q15.6248 775.793 15.6248 767.995 Q15.6248 764.653 16.2295 761.183 Q16.8343 757.714 18.0438 754.086 Z\" fill=\"#000000\" fill-rule=\"evenodd\" fill-opacity=\"1\" /><path clip-path=\"url(#clip430)\" d=\"M 0 0 M16.4842 744.824 L16.4842 714.777 L21.895 714.777 L21.895 738.394 L35.9632 738.394 L35.9632 715.764 L41.3741 715.764 L41.3741 738.394 L58.5933 738.394 L58.5933 714.204 L64.0042 714.204 L64.0042 744.824 L16.4842 744.824 Z\" fill=\"#000000\" fill-rule=\"evenodd\" fill-opacity=\"1\" /><path clip-path=\"url(#clip430)\" d=\"M 0 0 M788.495 12.096 L826.736 12.096 L826.736 18.9825 L796.678 18.9825 L796.678 36.8875 L825.48 36.8875 L825.48 43.7741 L796.678 43.7741 L796.678 65.6895 L827.465 65.6895 L827.465 72.576 L788.495 72.576 L788.495 12.096 Z\" fill=\"#000000\" fill-rule=\"evenodd\" fill-opacity=\"1\" /><path clip-path=\"url(#clip430)\" d=\"M 0 0 M871.863 14.0809 L871.863 22.0612 Q867.205 19.8332 863.073 18.7395 Q858.941 17.6457 855.092 17.6457 Q848.408 17.6457 844.763 20.2383 Q841.157 22.8309 841.157 27.611 Q841.157 31.6214 843.547 33.6873 Q845.978 35.7128 852.702 36.9686 L857.644 37.9813 Q866.799 39.7232 871.134 44.1387 Q875.509 48.5136 875.509 55.8863 Q875.509 64.6767 869.595 69.2137 Q863.721 73.7508 852.338 73.7508 Q848.044 73.7508 843.183 72.7785 Q838.362 71.8063 833.177 69.9024 L833.177 61.4765 Q838.16 64.2716 842.94 65.6895 Q847.72 67.1073 852.338 67.1073 Q859.346 67.1073 863.154 64.3527 Q866.961 61.598 866.961 56.4939 Q866.961 52.0379 864.207 49.5264 Q861.493 47.0148 855.254 45.759 L850.272 44.7868 Q841.117 42.9639 837.025 39.075 Q832.934 35.1862 832.934 28.2591 Q832.934 20.2383 838.565 15.6203 Q844.236 11.0023 854.161 11.0023 Q858.414 11.0023 862.83 11.7719 Q867.245 12.5416 871.863 14.0809 Z\" fill=\"#000000\" fill-rule=\"evenodd\" fill-opacity=\"1\" /><path clip-path=\"url(#clip430)\" d=\"M 0 0 M905.405 20.1573 L894.305 50.2555 L916.545 50.2555 L905.405 20.1573 M900.787 12.096 L910.063 12.096 L933.113 72.576 L924.606 72.576 L919.097 57.061 L891.834 57.061 L886.325 72.576 L877.696 72.576 L900.787 12.096 Z\" fill=\"#000000\" fill-rule=\"evenodd\" fill-opacity=\"1\" /><path clip-path=\"url(#clip430)\" d=\"M 0 0 M969.935 44.2197 Q972.569 45.1109 975.04 48.0275 Q977.551 50.9442 980.063 56.0483 L988.367 72.576 L979.577 72.576 L971.839 57.061 Q968.842 50.9847 966.006 48.9997 Q963.211 47.0148 958.35 47.0148 L949.438 47.0148 L949.438 72.576 L941.255 72.576 L941.255 12.096 L959.727 12.096 Q970.098 12.096 975.202 16.4305 Q980.306 20.7649 980.306 29.5149 Q980.306 35.2267 977.632 38.994 Q974.999 42.7613 969.935 44.2197 M949.438 18.8205 L949.438 40.2903 L959.727 40.2903 Q965.642 40.2903 968.639 37.5762 Q971.677 34.8216 971.677 29.5149 Q971.677 24.2082 968.639 21.5346 Q965.642 18.8205 959.727 18.8205 L949.438 18.8205 Z\" fill=\"#000000\" fill-rule=\"evenodd\" fill-opacity=\"1\" /><path clip-path=\"url(#clip430)\" d=\"M 0 0 M1032.76 14.0809 L1032.76 22.0612 Q1028.11 19.8332 1023.97 18.7395 Q1019.84 17.6457 1015.99 17.6457 Q1009.31 17.6457 1005.66 20.2383 Q1002.06 22.8309 1002.06 27.611 Q1002.06 31.6214 1004.45 33.6873 Q1006.88 35.7128 1013.6 36.9686 L1018.55 37.9813 Q1027.7 39.7232 1032.04 44.1387 Q1036.41 48.5136 1036.41 55.8863 Q1036.41 64.6767 1030.5 69.2137 Q1024.62 73.7508 1013.24 73.7508 Q1008.95 73.7508 1004.08 72.7785 Q999.264 71.8063 994.079 69.9024 L994.079 61.4765 Q999.061 64.2716 1003.84 65.6895 Q1008.62 67.1073 1013.24 67.1073 Q1020.25 67.1073 1024.06 64.3527 Q1027.86 61.598 1027.86 56.4939 Q1027.86 52.0379 1025.11 49.5264 Q1022.39 47.0148 1016.16 45.759 L1011.17 44.7868 Q1002.02 42.9639 997.927 39.075 Q993.836 35.1862 993.836 28.2591 Q993.836 20.2383 999.467 15.6203 Q1005.14 11.0023 1015.06 11.0023 Q1019.32 11.0023 1023.73 11.7719 Q1028.15 12.5416 1032.76 14.0809 Z\" fill=\"#000000\" fill-rule=\"evenodd\" fill-opacity=\"1\" /><path clip-path=\"url(#clip430)\" d=\"M 0 0 M1066.31 20.1573 L1055.21 50.2555 L1077.45 50.2555 L1066.31 20.1573 M1061.69 12.096 L1070.97 12.096 L1094.01 72.576 L1085.51 72.576 L1080 57.061 L1052.74 57.061 L1047.23 72.576 L1038.6 72.576 L1061.69 12.096 Z\" fill=\"#000000\" fill-rule=\"evenodd\" fill-opacity=\"1\" /><path clip-path=\"url(#clip430)\" d=\"M 0 0 M1145.79 32.4315 Q1139.79 32.4315 1136.31 37.1306 Q1132.82 41.7891 1132.82 49.9314 Q1132.82 58.0738 1136.27 62.7728 Q1139.75 67.4314 1145.79 67.4314 Q1151.74 67.4314 1155.22 62.7323 Q1158.71 58.0333 1158.71 49.9314 Q1158.71 41.8701 1155.22 37.1711 Q1151.74 32.4315 1145.79 32.4315 M1145.79 26.1121 Q1155.51 26.1121 1161.06 32.4315 Q1166.61 38.7509 1166.61 49.9314 Q1166.61 61.0714 1161.06 67.4314 Q1155.51 73.7508 1145.79 73.7508 Q1136.02 73.7508 1130.47 67.4314 Q1124.96 61.0714 1124.96 49.9314 Q1124.96 38.7509 1130.47 32.4315 Q1136.02 26.1121 1145.79 26.1121 Z\" fill=\"#000000\" fill-rule=\"evenodd\" fill-opacity=\"1\" /><path clip-path=\"url(#clip430)\" d=\"M 0 0 M1212.14 45.1919 L1212.14 72.576 L1204.69 72.576 L1204.69 45.4349 Q1204.69 38.994 1202.17 35.7938 Q1199.66 32.5936 1194.64 32.5936 Q1188.6 32.5936 1185.12 36.4419 Q1181.64 40.2903 1181.64 46.9338 L1181.64 72.576 L1174.14 72.576 L1174.14 27.2059 L1181.64 27.2059 L1181.64 34.2544 Q1184.31 30.163 1187.91 28.1376 Q1191.56 26.1121 1196.3 26.1121 Q1204.12 26.1121 1208.13 30.9732 Q1212.14 35.7938 1212.14 45.1919 Z\" fill=\"#000000\" fill-rule=\"evenodd\" fill-opacity=\"1\" /><path clip-path=\"url(#clip430)\" d=\"M 0 0 M1238.27 12.096 L1289.43 12.096 L1289.43 18.9825 L1267.96 18.9825 L1267.96 72.576 L1259.74 72.576 L1259.74 18.9825 L1238.27 18.9825 L1238.27 12.096 Z\" fill=\"#000000\" fill-rule=\"evenodd\" fill-opacity=\"1\" /><path clip-path=\"url(#clip430)\" d=\"M 0 0 M1304.14 49.7694 Q1295.1 49.7694 1291.62 51.8354 Q1288.13 53.9013 1288.13 58.8839 Q1288.13 62.8538 1290.73 65.2034 Q1293.36 67.5124 1297.86 67.5124 Q1304.05 67.5124 1307.78 63.1374 Q1311.55 58.7219 1311.55 51.4303 L1311.55 49.7694 L1304.14 49.7694 M1319 46.6907 L1319 72.576 L1311.55 72.576 L1311.55 65.6895 Q1309 69.8214 1305.19 71.8063 Q1301.38 73.7508 1295.87 73.7508 Q1288.9 73.7508 1284.77 69.8619 Q1280.68 65.9325 1280.68 59.3701 Q1280.68 51.7138 1285.78 47.825 Q1290.93 43.9361 1301.1 43.9361 L1311.55 43.9361 L1311.55 43.2069 Q1311.55 38.0623 1308.15 35.2672 Q1304.78 32.4315 1298.67 32.4315 Q1294.78 32.4315 1291.09 33.3632 Q1287.4 34.295 1284 36.1584 L1284 29.2718 Q1288.09 27.692 1291.94 26.9223 Q1295.79 26.1121 1299.44 26.1121 Q1309.28 26.1121 1314.14 31.2163 Q1319 36.3204 1319 46.6907 Z\" fill=\"#000000\" fill-rule=\"evenodd\" fill-opacity=\"1\" /><path clip-path=\"url(#clip430)\" d=\"M 0 0 M1359.39 49.9314 Q1359.39 41.7081 1355.99 37.0496 Q1352.62 32.3505 1346.71 32.3505 Q1340.8 32.3505 1337.39 37.0496 Q1334.03 41.7081 1334.03 49.9314 Q1334.03 58.1548 1337.39 62.8538 Q1340.8 67.5124 1346.71 67.5124 Q1352.62 67.5124 1355.99 62.8538 Q1359.39 58.1548 1359.39 49.9314 M1334.03 34.0924 Q1336.38 30.0415 1339.95 28.0971 Q1343.55 26.1121 1348.53 26.1121 Q1356.8 26.1121 1361.94 32.6746 Q1367.13 39.2371 1367.13 49.9314 Q1367.13 60.6258 1361.94 67.1883 Q1356.8 73.7508 1348.53 73.7508 Q1343.55 73.7508 1339.95 71.8063 Q1336.38 69.8214 1334.03 65.7705 L1334.03 72.576 L1326.54 72.576 L1326.54 9.54393 L1334.03 9.54393 L1334.03 34.0924 Z\" fill=\"#000000\" fill-rule=\"evenodd\" fill-opacity=\"1\" /><path clip-path=\"url(#clip430)\" d=\"M 0 0 M1374.18 54.671 L1374.18 27.2059 L1381.63 27.2059 L1381.63 54.3874 Q1381.63 60.8284 1384.14 64.0691 Q1386.65 67.2693 1391.68 67.2693 Q1397.71 67.2693 1401.19 63.421 Q1404.72 59.5726 1404.72 52.9291 L1404.72 27.2059 L1412.17 27.2059 L1412.17 72.576 L1404.72 72.576 L1404.72 65.6084 Q1402 69.7404 1398.4 71.7658 Q1394.83 73.7508 1390.1 73.7508 Q1382.28 73.7508 1378.23 68.8897 Q1374.18 64.0286 1374.18 54.671 M1392.93 26.1121 L1392.93 26.1121 Z\" fill=\"#000000\" fill-rule=\"evenodd\" fill-opacity=\"1\" /><path clip-path=\"url(#clip430)\" d=\"M 0 0 M1419.99 9.54393 L1427.44 9.54393 L1427.44 72.576 L1419.99 72.576 L1419.99 9.54393 Z\" fill=\"#000000\" fill-rule=\"evenodd\" fill-opacity=\"1\" /><path clip-path=\"url(#clip430)\" d=\"M 0 0 M1455.88 49.7694 Q1446.85 49.7694 1443.36 51.8354 Q1439.88 53.9013 1439.88 58.8839 Q1439.88 62.8538 1442.47 65.2034 Q1445.11 67.5124 1449.6 67.5124 Q1455.8 67.5124 1459.53 63.1374 Q1463.3 58.7219 1463.3 51.4303 L1463.3 49.7694 L1455.88 49.7694 M1470.75 46.6907 L1470.75 72.576 L1463.3 72.576 L1463.3 65.6895 Q1460.74 69.8214 1456.94 71.8063 Q1453.13 73.7508 1447.62 73.7508 Q1440.65 73.7508 1436.52 69.8619 Q1432.43 65.9325 1432.43 59.3701 Q1432.43 51.7138 1437.53 47.825 Q1442.68 43.9361 1452.84 43.9361 L1463.3 43.9361 L1463.3 43.2069 Q1463.3 38.0623 1459.89 35.2672 Q1456.53 32.4315 1450.41 32.4315 Q1446.52 32.4315 1442.84 33.3632 Q1439.15 34.295 1435.75 36.1584 L1435.75 29.2718 Q1439.84 27.692 1443.69 26.9223 Q1447.54 26.1121 1451.18 26.1121 Q1461.03 26.1121 1465.89 31.2163 Q1470.75 36.3204 1470.75 46.6907 Z\" fill=\"#000000\" fill-rule=\"evenodd\" fill-opacity=\"1\" /><path clip-path=\"url(#clip430)\" d=\"M 0 0 M1504.86 34.1734 Q1503.6 33.4443 1502.1 33.1202 Q1500.64 32.7556 1498.86 32.7556 Q1492.54 32.7556 1489.14 36.8875 Q1485.78 40.9789 1485.78 48.6757 L1485.78 72.576 L1478.28 72.576 L1478.28 27.2059 L1485.78 27.2059 L1485.78 34.2544 Q1488.13 30.1225 1491.89 28.1376 Q1495.66 26.1121 1501.05 26.1121 Q1501.82 26.1121 1502.75 26.2337 Q1503.68 26.3147 1504.82 26.5172 L1504.86 34.1734 Z\" fill=\"#000000\" fill-rule=\"evenodd\" fill-opacity=\"1\" /><path clip-path=\"url(#clip430)\" d=\"M 0 0 M1530.99 12.096 L1582.15 12.096 L1582.15 18.9825 L1560.68 18.9825 L1560.68 72.576 L1552.46 72.576 L1552.46 18.9825 L1530.99 18.9825 L1530.99 12.096 Z\" fill=\"#000000\" fill-rule=\"evenodd\" fill-opacity=\"1\" /><path clip-path=\"url(#clip430)\" d=\"M 0 0 M1590.29 12.096 L1602.48 12.096 L1617.92 53.2532 L1633.43 12.096 L1645.63 12.096 L1645.63 72.576 L1637.65 72.576 L1637.65 19.4686 L1622.05 60.9499 L1613.83 60.9499 L1598.23 19.4686 L1598.23 72.576 L1590.29 72.576 L1590.29 12.096 Z\" fill=\"#000000\" fill-rule=\"evenodd\" fill-opacity=\"1\" /><path clip-path=\"url(#clip430)\" d=\"M 0 0 M1674.06 49.7694 Q1665.03 49.7694 1661.55 51.8354 Q1658.06 53.9013 1658.06 58.8839 Q1658.06 62.8538 1660.66 65.2034 Q1663.29 67.5124 1667.78 67.5124 Q1673.98 67.5124 1677.71 63.1374 Q1681.48 58.7219 1681.48 51.4303 L1681.48 49.7694 L1674.06 49.7694 M1688.93 46.6907 L1688.93 72.576 L1681.48 72.576 L1681.48 65.6895 Q1678.92 69.8214 1675.12 71.8063 Q1671.31 73.7508 1665.8 73.7508 Q1658.83 73.7508 1654.7 69.8619 Q1650.61 65.9325 1650.61 59.3701 Q1650.61 51.7138 1655.71 47.825 Q1660.86 43.9361 1671.03 43.9361 L1681.48 43.9361 L1681.48 43.2069 Q1681.48 38.0623 1678.07 35.2672 Q1674.71 32.4315 1668.59 32.4315 Q1664.71 32.4315 1661.02 33.3632 Q1657.33 34.295 1653.93 36.1584 L1653.93 29.2718 Q1658.02 27.692 1661.87 26.9223 Q1665.72 26.1121 1669.36 26.1121 Q1679.21 26.1121 1684.07 31.2163 Q1688.93 36.3204 1688.93 46.6907 Z\" fill=\"#000000\" fill-rule=\"evenodd\" fill-opacity=\"1\" /><path clip-path=\"url(#clip430)\" d=\"M 0 0 M1693.51 27.2059 L1728.91 27.2059 L1728.91 34.0114 L1700.88 66.6212 L1728.91 66.6212 L1728.91 72.576 L1692.5 72.576 L1692.5 65.7705 L1720.53 33.1607 L1693.51 33.1607 L1693.51 27.2059 Z\" fill=\"#000000\" fill-rule=\"evenodd\" fill-opacity=\"1\" /><path clip-path=\"url(#clip430)\" d=\"M 0 0 M1775.54 48.0275 L1775.54 51.6733 L1741.27 51.6733 Q1741.75 59.3701 1745.89 63.421 Q1750.06 67.4314 1757.47 67.4314 Q1761.77 67.4314 1765.78 66.3781 Q1769.83 65.3249 1773.8 63.2184 L1773.8 70.267 Q1769.79 71.9684 1765.57 72.8596 Q1761.36 73.7508 1757.03 73.7508 Q1746.17 73.7508 1739.81 67.4314 Q1733.49 61.1119 1733.49 50.3365 Q1733.49 39.1965 1739.49 32.6746 Q1745.52 26.1121 1755.73 26.1121 Q1764.88 26.1121 1770.19 32.0264 Q1775.54 37.9003 1775.54 48.0275 M1768.09 45.84 Q1768 39.7232 1764.64 36.0774 Q1761.32 32.4315 1755.81 32.4315 Q1749.57 32.4315 1745.81 35.9558 Q1742.08 39.4801 1741.51 45.8805 L1768.09 45.84 Z\" fill=\"#000000\" fill-rule=\"evenodd\" fill-opacity=\"1\" /><polyline clip-path=\"url(#clip432)\" style=\"stroke:#009af9; stroke-width:4; stroke-opacity:1; fill:none\" points=\"\n",
       "  271.886,1006.76 282.038,975.552 292.19,943.184 302.342,900.143 312.494,873.755 322.647,811.829 332.799,757.185 342.951,708.619 353.103,665.359 363.255,616.952 \n",
       "  373.407,567.14 383.559,503.121 393.711,454.735 403.863,419.278 414.015,402.725 424.167,407.486 434.319,419.55 444.471,414.813 454.623,414.147 464.776,396.761 \n",
       "  474.928,362.07 485.08,325.054 495.232,293.608 505.384,275.365 515.536,261.878 525.688,264.194 535.84,273.36 545.992,281.207 556.144,278.137 566.296,280.62 \n",
       "  576.448,284.418 586.6,287.914 596.752,297.413 606.905,294.62 617.057,282.15 627.209,256.233 637.361,226.711 647.513,191.474 657.665,186.333 667.817,170.822 \n",
       "  677.969,182.899 688.121,214.31 698.273,248.149 708.425,263.5 718.577,297.798 728.729,308.189 738.881,295.312 749.033,266.107 759.186,233.206 769.338,206.906 \n",
       "  779.49,169.339 789.642,160.256 799.794,179.303 809.946,192.406 820.098,205.055 830.25,234.168 840.402,261.662 850.554,270.869 860.706,281.882 870.858,296.781 \n",
       "  881.01,322.766 891.162,357.197 901.315,404.298 911.467,461.311 921.619,484.582 931.771,492.657 941.923,500.077 952.075,503.724 962.227,490.948 972.379,502.937 \n",
       "  982.531,512.117 992.683,497.292 1002.84,491.557 1012.99,499.441 1023.14,489.815 1033.29,486.61 1043.44,504.908 1053.6,511.393 1063.75,531.959 1073.9,552.618 \n",
       "  1084.05,555.271 1094.2,554.602 1104.36,574.336 1114.51,571.613 1124.66,581.933 1134.81,599.498 1144.96,594.519 1155.12,581.313 1165.27,591.275 1175.42,590.424 \n",
       "  1185.57,606.423 1195.72,622.128 1205.88,610.258 1216.03,595.759 1226.18,611.743 1236.33,624.71 1246.48,656.088 1256.64,711.358 1266.79,756.523 1276.94,789.557 \n",
       "  1287.09,825.608 1297.25,852.207 1307.4,855.779 1317.55,841.545 1327.7,818.76 1337.85,801.026 1348.01,771.952 1358.16,759.788 1368.31,751.508 1378.46,740.364 \n",
       "  1388.61,733.173 1398.77,733.111 1408.92,729.597 1419.07,740.683 1429.22,747.463 1439.37,724.198 1449.53,708.728 1459.68,687.39 1469.83,644.122 1479.98,604.032 \n",
       "  1490.13,568.527 1500.29,522.707 1510.44,492.205 1520.59,470.789 1530.74,442.925 1540.89,432.342 1551.05,419.424 1561.2,390.498 1571.35,377.686 1581.5,357.69 \n",
       "  1591.66,319.983 1601.81,288.318 1611.96,286.249 1622.11,272.896 1632.26,274.14 1642.42,272.19 1652.57,275.439 1662.72,255.518 1672.87,226.97 1683.02,204.012 \n",
       "  1693.18,200.201 1703.33,193.403 1713.48,185.097 1723.63,198.729 1733.78,212.27 1743.94,228.504 1754.09,239.716 1764.24,254.674 1774.39,267.09 1784.54,286.353 \n",
       "  1794.7,296.687 1804.85,320.314 1815,339.121 1825.15,349.906 1835.3,342.333 1845.46,317.677 1855.61,296.77 1865.76,291.824 1875.91,286.618 1886.07,305.609 \n",
       "  1896.22,351.335 1906.37,387.109 1916.52,421.225 1926.67,449.147 1936.83,480.52 1946.98,509.121 1957.13,527.73 1967.28,555.567 1977.43,574.536 1987.59,573.398 \n",
       "  1997.74,558.994 2007.89,523.45 2018.04,481.988 2028.19,455.644 2038.35,434.031 2048.5,417.905 2058.65,439.483 2068.8,453.851 2078.95,462.554 2089.11,464.307 \n",
       "  2099.26,455.831 2109.41,436.441 2119.56,410.071 2129.71,378.414 2139.87,346.071 2150.02,326.799 2160.17,306.186 2170.32,284.834 2180.48,268.972 2190.63,269.809 \n",
       "  2200.78,270.182 2210.93,277.526 2221.08,283.409 2231.24,312.854 2241.39,325.877 2251.54,335.373 2261.69,317.328 2271.84,290.711 2282,242.665 2292.15,202.465 \n",
       "  \n",
       "  \"/>\n",
       "<polyline clip-path=\"url(#clip432)\" style=\"stroke:#e26f46; stroke-width:4; stroke-opacity:1; fill:none\" points=\"\n",
       "  271.886,997.043 282.038,995.232 292.19,952.882 302.342,916.585 312.494,883.848 322.647,810.212 332.799,733.155 342.951,676.848 353.103,626.169 363.255,586.637 \n",
       "  373.407,581.916 383.559,580.316 393.711,587.649 403.863,609.354 414.015,636.954 424.167,671.712 434.319,711.165 444.471,748.928 454.623,772.99 464.776,780.984 \n",
       "  474.928,761.184 485.08,730.454 495.232,673.485 505.384,608.927 515.536,560.289 525.688,535.093 535.84,499.918 545.992,479.227 556.144,477.449 566.296,467.957 \n",
       "  576.448,466.741 586.6,481.388 596.752,510.412 606.905,539.193 617.057,563.699 627.209,579.723 637.361,605.469 647.513,625.909 657.665,650.459 667.817,698.521 \n",
       "  677.969,720.769 688.121,732.817 698.273,740.626 708.425,735.544 718.577,710.152 728.729,679.673 738.881,663.679 749.033,671.574 759.186,713.039 769.338,752.81 \n",
       "  779.49,809.164 789.642,885.691 799.794,951.866 809.946,968.328 820.098,1000.27 830.25,1058.27 840.402,1071.42 850.554,1062.96 860.706,1072.98 870.858,1100.67 \n",
       "  881.01,1107.05 891.162,1133.6 901.315,1166.13 911.467,1201.83 921.619,1218.76 931.771,1209.35 941.923,1177.9 952.075,1166.74 962.227,1164.25 972.379,1154.32 \n",
       "  982.531,1158.1 992.683,1180.34 1002.84,1203.26 1012.99,1206.92 1023.14,1204.11 1033.29,1210.82 1043.44,1222.3 1053.6,1216.96 1063.75,1226.78 1073.9,1238.27 \n",
       "  1084.05,1261.02 1094.2,1287.41 1104.36,1312.31 1114.51,1317.72 1124.66,1317.79 1134.81,1306.91 1144.96,1268.73 1155.12,1235.2 1165.27,1216.32 1175.42,1239.29 \n",
       "  1185.57,1237.46 1195.72,1262.19 1205.88,1292.69 1216.03,1309.54 1226.18,1297.68 1236.33,1303.13 1246.48,1289.38 1256.64,1262.56 1266.79,1256.02 1276.94,1234.23 \n",
       "  1287.09,1226.55 1297.25,1226.78 1307.4,1240.06 1317.55,1233.68 1327.7,1225.61 1337.85,1229.52 1348.01,1232.83 1358.16,1225.43 1368.31,1232.76 1378.46,1236.75 \n",
       "  1388.61,1228.33 1398.77,1216.45 1408.92,1199.35 1419.07,1177.14 1429.22,1181.07 1439.37,1178.91 1449.53,1185.52 1459.68,1196.51 1469.83,1210.06 1479.98,1211.13 \n",
       "  1490.13,1215.22 1500.29,1229.09 1510.44,1257.49 1520.59,1286.2 1530.74,1313.86 1540.89,1326.45 1551.05,1329.93 1561.2,1345.79 1571.35,1347.28 1581.5,1353.7 \n",
       "  1591.66,1362.27 1601.81,1361.6 1611.96,1344.48 1622.11,1347.01 1632.26,1338.54 1642.42,1352.83 1652.57,1355.5 1662.72,1346.18 1672.87,1333.87 1683.02,1332.92 \n",
       "  1693.18,1300.28 1703.33,1285.12 1713.48,1298.77 1723.63,1288.49 1733.78,1271.06 1743.94,1288.83 1754.09,1297.25 1764.24,1295.09 1774.39,1305.42 1784.54,1331.86 \n",
       "  1794.7,1334.28 1804.85,1337.47 1815,1335.8 1825.15,1343.52 1835.3,1329.17 1845.46,1311.81 1855.61,1314.59 1865.76,1304.83 1875.91,1295.93 1886.07,1290.61 \n",
       "  1896.22,1296.81 1906.37,1300.31 1916.52,1305.16 1926.67,1307.21 1936.83,1319.98 1946.98,1326.54 1957.13,1325.76 1967.28,1330.68 1977.43,1337.45 1987.59,1355.56 \n",
       "  1997.74,1360.86 2007.89,1367.54 2018.04,1372.4 2028.19,1386.4 2038.35,1372.94 2048.5,1383.43 2058.65,1366.78 2068.8,1352.34 2078.95,1323.75 2089.11,1317.36 \n",
       "  2099.26,1302.83 2109.41,1321.47 2119.56,1343.65 2129.71,1368.64 2139.87,1376.37 2150.02,1385.82 2160.17,1385.89 2170.32,1376.52 2180.48,1368.7 2190.63,1375.07 \n",
       "  2200.78,1372.38 2210.93,1368.81 2221.08,1357.85 2231.24,1348.76 2241.39,1324.46 2251.54,1326.11 2261.69,1322.98 2271.84,1320.14 2282,1311.8 2292.15,1325.53 \n",
       "  \n",
       "  \"/>\n",
       "<polyline clip-path=\"url(#clip432)\" style=\"stroke:#3da44d; stroke-width:4; stroke-opacity:1; fill:none\" points=\"\n",
       "  271.886,1008.01 282.038,975.606 292.19,943.732 302.342,902.62 312.494,876.97 322.647,815.577 332.799,763.699 342.951,717.259 353.103,677.865 363.255,636.003 \n",
       "  373.407,597.633 383.559,547.196 393.711,514.935 403.863,497.752 414.015,498.51 424.167,514.237 434.319,537.698 444.471,539.935 454.623,543.571 464.776,524.085 \n",
       "  474.928,491.624 485.08,458.398 495.232,434.732 505.384,416.961 515.536,406.13 525.688,417.534 535.84,424.184 545.992,429.149 556.144,422.464 566.296,430.693 \n",
       "  576.448,434.304 586.6,444.863 596.752,454.874 606.905,460.58 617.057,449.553 627.209,419.733 637.361,386.849 647.513,349.112 657.665,332.901 667.817,302.11 \n",
       "  677.969,302.208 688.121,317.974 698.273,348.362 708.425,369.667 718.577,407.24 728.729,422.068 738.881,421.664 749.033,405.271 759.186,384.667 769.338,381.765 \n",
       "  779.49,365.574 789.642,373.027 799.794,397.609 809.946,415.523 820.098,423.09 830.25,446.243 840.402,461.58 850.554,467.46 860.706,474.661 870.858,491.633 \n",
       "  881.01,520.29 891.162,559.007 901.315,600.255 911.467,647.838 921.619,670.476 931.771,676.633 941.923,682.08 952.075,684.016 962.227,680.544 972.379,691.081 \n",
       "  982.531,693.921 992.683,675.723 1002.84,674.221 1012.99,671.978 1023.14,655.583 1033.29,655.48 1043.44,673.842 1053.6,671.937 1063.75,684.667 1073.9,693.492 \n",
       "  1084.05,683.712 1094.2,668.204 1104.36,677.444 1114.51,672.104 1124.66,680.593 1134.81,703.458 1144.96,709.026 1155.12,703.956 1165.27,719.157 1175.42,719.988 \n",
       "  1185.57,722.899 1195.72,728.307 1205.88,710.037 1216.03,689.215 1226.18,703.159 1236.33,721.605 1246.48,748.078 1256.64,791.47 1266.79,821.786 1276.94,833.353 \n",
       "  1287.09,837.427 1297.25,835.854 1307.4,818.117 1317.55,790.558 1327.7,768.146 1337.85,756.868 1348.01,741.733 1358.16,739.214 1368.31,731.589 1378.46,718.902 \n",
       "  1388.61,704.795 1398.77,695.112 1408.92,685.657 1419.07,689.711 1429.22,688.808 1439.37,664.746 1449.53,655.544 1459.68,644.999 1469.83,616.078 1479.98,585.61 \n",
       "  1490.13,563.596 1500.29,519.219 1510.44,480.907 1520.59,462.037 1530.74,446.571 1540.89,448.677 1551.05,461.289 1561.2,472.955 1571.35,492.15 1581.5,498.449 \n",
       "  1591.66,486.636 1601.81,476.166 1611.96,477.783 1622.11,465.444 1632.26,473.637 1642.42,474.177 1652.57,478.181 1662.72,466.71 1672.87,455.742 1683.02,441.989 \n",
       "  1693.18,450.144 1703.33,456.774 1713.48,464.276 1723.63,486.079 1733.78,507.868 1743.94,520.444 1754.09,530.163 1764.24,539.294 1774.39,553.406 1784.54,570.038 \n",
       "  1794.7,581.583 1804.85,597.806 1815,602.463 1825.15,604.666 1835.3,602.28 1845.46,589.03 1855.61,587.258 1865.76,600.065 1875.91,597.008 1886.07,603.742 \n",
       "  1896.22,631.791 1906.37,648.49 1916.52,669.578 1926.67,692.297 1936.83,716.914 1946.98,746.906 1957.13,767.908 1967.28,792.182 1977.43,805.937 1987.59,798.48 \n",
       "  1997.74,762.708 2007.89,711.21 2018.04,670.606 2028.19,641.201 2038.35,631.564 2048.5,645.42 2058.65,681.239 2068.8,697.157 2078.95,701.547 2089.11,687.871 \n",
       "  2099.26,666.089 2109.41,636.98 2119.56,602.05 2129.71,568.378 2139.87,541.865 2150.02,517.058 2160.17,489.231 2170.32,458.519 2180.48,443.309 2190.63,438.216 \n",
       "  2200.78,431.69 2210.93,446.382 2221.08,471.102 2231.24,507.214 2241.39,526.497 2251.54,540.517 2261.69,527.809 2271.84,502.27 2282,460.034 2292.15,429.491 \n",
       "  \n",
       "  \"/>\n",
       "<polyline clip-path=\"url(#clip432)\" style=\"stroke:#c271d2; stroke-width:4; stroke-opacity:1; fill:none\" points=\"\n",
       "  271.886,1004.24 282.038,983.939 292.19,929.607 302.342,886.633 312.494,860.615 322.647,816.22 332.799,783.162 342.951,756.283 353.103,725.773 363.255,698.324 \n",
       "  373.407,663.054 383.559,614.984 393.711,598.251 403.863,598.647 414.015,602.099 424.167,604.774 434.319,615.621 444.471,621.975 454.623,608.462 464.776,595.335 \n",
       "  474.928,594.7 485.08,584.336 495.232,566.13 505.384,565.477 515.536,565.529 525.688,567.292 535.84,569.17 545.992,588.711 556.144,604.78 566.296,621.505 \n",
       "  576.448,626.232 586.6,640.646 596.752,625.99 606.905,631.046 617.057,624.775 627.209,630.022 637.361,645.033 647.513,676.666 657.665,694.062 667.817,716.636 \n",
       "  677.969,740.517 688.121,764.541 698.273,787.172 708.425,833.623 718.577,876.01 728.729,914.964 738.881,957.649 749.033,987.452 759.186,987.427 769.338,999.667 \n",
       "  779.49,1006.1 789.642,1002.17 799.794,1012.99 809.946,1021.33 820.098,1029.59 830.25,1028.24 840.402,1042.62 850.554,1053.49 860.706,1080.42 870.858,1094.8 \n",
       "  881.01,1113.76 891.162,1101.98 901.315,1099.75 911.467,1083.22 921.619,1070.16 931.771,1062.29 941.923,1058.97 952.075,1055.8 962.227,1076.78 972.379,1101.91 \n",
       "  982.531,1108.88 992.683,1129.43 1002.84,1144.25 1012.99,1145.9 1023.14,1138.87 1033.29,1148.72 1043.44,1149.71 1053.6,1152.53 1063.75,1150.61 1073.9,1176.41 \n",
       "  1084.05,1196.27 1094.2,1220.74 1104.36,1240.69 1114.51,1253.68 1124.66,1251.27 1134.81,1244.72 1144.96,1253.23 1155.12,1266.42 1165.27,1267.61 1175.42,1263.91 \n",
       "  1185.57,1260.19 1195.72,1242.5 1205.88,1236.54 1216.03,1251.96 1226.18,1264.72 1236.33,1283.03 1246.48,1308.95 1256.64,1309.78 1266.79,1293.85 1276.94,1288.14 \n",
       "  1287.09,1291.8 1297.25,1284.6 1307.4,1259.48 1317.55,1274.34 1327.7,1266.27 1337.85,1256.58 1348.01,1245.62 1358.16,1261.7 1368.31,1245.71 1378.46,1262.37 \n",
       "  1388.61,1276.26 1398.77,1284.51 1408.92,1292.78 1419.07,1306.78 1429.22,1279.15 1439.37,1261.77 1449.53,1266.63 1459.68,1269.54 1469.83,1262.83 1479.98,1270.21 \n",
       "  1490.13,1289.79 1500.29,1287.73 1510.44,1290.69 1520.59,1299.54 1530.74,1312.12 1540.89,1301.45 1551.05,1296.82 1561.2,1298.22 1571.35,1303.49 1581.5,1312.82 \n",
       "  1591.66,1313.69 1601.81,1314.67 1611.96,1313.02 1622.11,1304.05 1632.26,1286.26 1642.42,1296.51 1652.57,1307.76 1662.72,1309.01 1672.87,1319.19 1683.02,1323.59 \n",
       "  1693.18,1318.5 1703.33,1289.07 1713.48,1272.63 1723.63,1260.23 1733.78,1273.36 1743.94,1267.79 1754.09,1289.06 1764.24,1291.29 1774.39,1294.72 1784.54,1267.08 \n",
       "  1794.7,1251.81 1804.85,1249.87 1815,1251.18 1825.15,1244.21 1835.3,1254.69 1845.46,1245.64 1855.61,1206.38 1865.76,1165.64 1875.91,1136.49 1886.07,1113.52 \n",
       "  1896.22,1121.15 1906.37,1139.42 1916.52,1156.28 1926.67,1166.59 1936.83,1205.57 1946.98,1226.33 1957.13,1237.01 1967.28,1255.83 1977.43,1268.98 1987.59,1267.8 \n",
       "  1997.74,1268.1 2007.89,1276.81 2018.04,1275.55 2028.19,1263.42 2038.35,1251.25 2048.5,1235.27 2058.65,1230.81 2068.8,1229.67 2078.95,1255.71 2089.11,1269.57 \n",
       "  2099.26,1285.01 2109.41,1288.64 2119.56,1302.73 2129.71,1300.67 2139.87,1290.17 2150.02,1287.38 2160.17,1288.76 2170.32,1304.41 2180.48,1311.16 2190.63,1314.88 \n",
       "  2200.78,1319.21 2210.93,1330.55 2221.08,1325.2 2231.24,1331.14 2241.39,1329.5 2251.54,1328.14 2261.69,1300.69 2271.84,1276.53 2282,1265.03 2292.15,1269.51 \n",
       "  \n",
       "  \"/>\n",
       "<path clip-path=\"url(#clip430)\" d=\"\n",
       "M282.661 1379.86 L1370.44 1379.86 L1370.44 1077.46 L282.661 1077.46  Z\n",
       "  \" fill=\"#ffffff\" fill-rule=\"evenodd\" fill-opacity=\"1\"/>\n",
       "<polyline clip-path=\"url(#clip430)\" style=\"stroke:#000000; stroke-width:4; stroke-opacity:1; fill:none\" points=\"\n",
       "  282.661,1379.86 1370.44,1379.86 1370.44,1077.46 282.661,1077.46 282.661,1379.86 \n",
       "  \"/>\n",
       "<polyline clip-path=\"url(#clip430)\" style=\"stroke:#009af9; stroke-width:4; stroke-opacity:1; fill:none\" points=\"\n",
       "  306.455,1137.94 449.22,1137.94 \n",
       "  \"/>\n",
       "<path clip-path=\"url(#clip430)\" d=\"M 0 0 M509.612 1133.23 L509.612 1119.2 L513.871 1119.2 L513.871 1155.22 L509.612 1155.22 L509.612 1151.33 Q508.269 1153.64 506.209 1154.78 Q504.172 1155.89 501.301 1155.89 Q496.602 1155.89 493.639 1152.14 Q490.7 1148.39 490.7 1142.28 Q490.7 1136.17 493.639 1132.42 Q496.602 1128.67 501.301 1128.67 Q504.172 1128.67 506.209 1129.8 Q508.269 1130.91 509.612 1133.23 M495.098 1142.28 Q495.098 1146.98 497.019 1149.66 Q498.963 1152.32 502.343 1152.32 Q505.723 1152.32 507.667 1149.66 Q509.612 1146.98 509.612 1142.28 Q509.612 1137.58 507.667 1134.92 Q505.723 1132.23 502.343 1132.23 Q498.963 1132.23 497.019 1134.92 Q495.098 1137.58 495.098 1142.28 Z\" fill=\"#000000\" fill-rule=\"evenodd\" fill-opacity=\"1\" /><path clip-path=\"url(#clip430)\" d=\"M 0 0 M540.514 1141.19 L540.514 1143.27 L520.931 1143.27 Q521.209 1147.67 523.57 1149.98 Q525.954 1152.28 530.19 1152.28 Q532.644 1152.28 534.935 1151.67 Q537.25 1151.07 539.519 1149.87 L539.519 1153.9 Q537.227 1154.87 534.82 1155.38 Q532.412 1155.89 529.935 1155.89 Q523.732 1155.89 520.098 1152.28 Q516.486 1148.67 516.486 1142.51 Q516.486 1136.14 519.912 1132.42 Q523.361 1128.67 529.195 1128.67 Q534.426 1128.67 537.459 1132.05 Q540.514 1135.4 540.514 1141.19 M536.255 1139.94 Q536.209 1136.44 534.287 1134.36 Q532.389 1132.28 529.241 1132.28 Q525.676 1132.28 523.523 1134.29 Q521.394 1136.3 521.07 1139.96 L536.255 1139.94 Z\" fill=\"#000000\" fill-rule=\"evenodd\" fill-opacity=\"1\" /><path clip-path=\"url(#clip430)\" d=\"M 0 0 M565.167 1134.27 Q566.764 1131.4 568.986 1130.03 Q571.208 1128.67 574.218 1128.67 Q578.269 1128.67 580.468 1131.51 Q582.667 1134.34 582.667 1139.57 L582.667 1155.22 L578.384 1155.22 L578.384 1139.71 Q578.384 1135.98 577.065 1134.17 Q575.745 1132.37 573.037 1132.37 Q569.727 1132.37 567.806 1134.57 Q565.884 1136.77 565.884 1140.56 L565.884 1155.22 L561.602 1155.22 L561.602 1139.71 Q561.602 1135.96 560.283 1134.17 Q558.963 1132.37 556.208 1132.37 Q552.945 1132.37 551.023 1134.59 Q549.102 1136.79 549.102 1140.56 L549.102 1155.22 L544.82 1155.22 L544.82 1129.29 L549.102 1129.29 L549.102 1133.32 Q550.56 1130.93 552.597 1129.8 Q554.634 1128.67 557.435 1128.67 Q560.259 1128.67 562.227 1130.1 Q564.218 1131.54 565.167 1134.27 Z\" fill=\"#000000\" fill-rule=\"evenodd\" fill-opacity=\"1\" /><path clip-path=\"url(#clip430)\" d=\"M 0 0 M597.18 1132.28 Q593.755 1132.28 591.764 1134.96 Q589.773 1137.62 589.773 1142.28 Q589.773 1146.93 591.741 1149.61 Q593.731 1152.28 597.18 1152.28 Q600.583 1152.28 602.574 1149.59 Q604.565 1146.91 604.565 1142.28 Q604.565 1137.67 602.574 1134.98 Q600.583 1132.28 597.18 1132.28 M597.18 1128.67 Q602.736 1128.67 605.907 1132.28 Q609.079 1135.89 609.079 1142.28 Q609.079 1148.64 605.907 1152.28 Q602.736 1155.89 597.18 1155.89 Q591.602 1155.89 588.431 1152.28 Q585.282 1148.64 585.282 1142.28 Q585.282 1135.89 588.431 1132.28 Q591.602 1128.67 597.18 1128.67 Z\" fill=\"#000000\" fill-rule=\"evenodd\" fill-opacity=\"1\" /><path clip-path=\"url(#clip430)\" d=\"M 0 0 M635.097 1139.57 L635.097 1155.22 L630.838 1155.22 L630.838 1139.71 Q630.838 1136.03 629.403 1134.2 Q627.967 1132.37 625.097 1132.37 Q621.648 1132.37 619.657 1134.57 Q617.666 1136.77 617.666 1140.56 L617.666 1155.22 L613.384 1155.22 L613.384 1129.29 L617.666 1129.29 L617.666 1133.32 Q619.194 1130.98 621.254 1129.82 Q623.338 1128.67 626.046 1128.67 Q630.514 1128.67 632.805 1131.44 Q635.097 1134.2 635.097 1139.57 Z\" fill=\"#000000\" fill-rule=\"evenodd\" fill-opacity=\"1\" /><path clip-path=\"url(#clip430)\" d=\"M 0 0 M659.263 1163.09 L659.263 1166.4 L634.634 1166.4 L634.634 1163.09 L659.263 1163.09 Z\" fill=\"#000000\" fill-rule=\"evenodd\" fill-opacity=\"1\" /><path clip-path=\"url(#clip430)\" d=\"M 0 0 M673.777 1132.28 Q670.351 1132.28 668.361 1134.96 Q666.37 1137.62 666.37 1142.28 Q666.37 1146.93 668.338 1149.61 Q670.328 1152.28 673.777 1152.28 Q677.18 1152.28 679.171 1149.59 Q681.162 1146.91 681.162 1142.28 Q681.162 1137.67 679.171 1134.98 Q677.18 1132.28 673.777 1132.28 M673.777 1128.67 Q679.333 1128.67 682.504 1132.28 Q685.675 1135.89 685.675 1142.28 Q685.675 1148.64 682.504 1152.28 Q679.333 1155.89 673.777 1155.89 Q668.199 1155.89 665.027 1152.28 Q661.879 1148.64 661.879 1142.28 Q661.879 1135.89 665.027 1132.28 Q668.199 1128.67 673.777 1128.67 Z\" fill=\"#000000\" fill-rule=\"evenodd\" fill-opacity=\"1\" /><path clip-path=\"url(#clip430)\" d=\"M 0 0 M694.263 1151.33 L694.263 1165.08 L689.981 1165.08 L689.981 1129.29 L694.263 1129.29 L694.263 1133.23 Q695.606 1130.91 697.643 1129.8 Q699.703 1128.67 702.55 1128.67 Q707.272 1128.67 710.212 1132.42 Q713.175 1136.17 713.175 1142.28 Q713.175 1148.39 710.212 1152.14 Q707.272 1155.89 702.55 1155.89 Q699.703 1155.89 697.643 1154.78 Q695.606 1153.64 694.263 1151.33 M708.754 1142.28 Q708.754 1137.58 706.81 1134.92 Q704.888 1132.23 701.509 1132.23 Q698.129 1132.23 696.185 1134.92 Q694.263 1137.58 694.263 1142.28 Q694.263 1146.98 696.185 1149.66 Q698.129 1152.32 701.509 1152.32 Q704.888 1152.32 706.81 1149.66 Q708.754 1146.98 708.754 1142.28 Z\" fill=\"#000000\" fill-rule=\"evenodd\" fill-opacity=\"1\" /><path clip-path=\"url(#clip430)\" d=\"M 0 0 M721.856 1121.93 L721.856 1129.29 L730.629 1129.29 L730.629 1132.6 L721.856 1132.6 L721.856 1146.67 Q721.856 1149.85 722.712 1150.75 Q723.592 1151.65 726.254 1151.65 L730.629 1151.65 L730.629 1155.22 L726.254 1155.22 Q721.323 1155.22 719.448 1153.39 Q717.573 1151.54 717.573 1146.67 L717.573 1132.6 L714.448 1132.6 L714.448 1129.29 L717.573 1129.29 L717.573 1121.93 L721.856 1121.93 Z\" fill=\"#000000\" fill-rule=\"evenodd\" fill-opacity=\"1\" /><path clip-path=\"url(#clip430)\" d=\"M 0 0 M736.184 1149.34 L741.069 1149.34 L741.069 1155.22 L736.184 1155.22 L736.184 1149.34 M736.184 1130.7 L741.069 1130.7 L741.069 1136.58 L736.184 1136.58 L736.184 1130.7 Z\" fill=\"#000000\" fill-rule=\"evenodd\" fill-opacity=\"1\" /><path clip-path=\"url(#clip430)\" d=\"M 0 0 M757.272 1125.26 L750.93 1142.46 L763.638 1142.46 L757.272 1125.26 M754.633 1120.66 L759.934 1120.66 L773.105 1155.22 L768.244 1155.22 L765.096 1146.35 L749.518 1146.35 L746.37 1155.22 L741.439 1155.22 L754.633 1120.66 Z\" fill=\"#000000\" fill-rule=\"evenodd\" fill-opacity=\"1\" /><path clip-path=\"url(#clip430)\" d=\"M 0 0 M777.133 1144.98 L777.133 1129.29 L781.392 1129.29 L781.392 1144.82 Q781.392 1148.5 782.828 1150.36 Q784.263 1152.18 787.133 1152.18 Q790.582 1152.18 792.573 1149.98 Q794.587 1147.79 794.587 1143.99 L794.587 1129.29 L798.846 1129.29 L798.846 1155.22 L794.587 1155.22 L794.587 1151.23 Q793.036 1153.6 790.976 1154.75 Q788.939 1155.89 786.23 1155.89 Q781.763 1155.89 779.448 1153.11 Q777.133 1150.33 777.133 1144.98 M787.851 1128.67 L787.851 1128.67 Z\" fill=\"#000000\" fill-rule=\"evenodd\" fill-opacity=\"1\" /><path clip-path=\"url(#clip430)\" d=\"M 0 0 M807.527 1121.93 L807.527 1129.29 L816.3 1129.29 L816.3 1132.6 L807.527 1132.6 L807.527 1146.67 Q807.527 1149.85 808.383 1150.75 Q809.263 1151.65 811.925 1151.65 L816.3 1151.65 L816.3 1155.22 L811.925 1155.22 Q806.994 1155.22 805.119 1153.39 Q803.244 1151.54 803.244 1146.67 L803.244 1132.6 L800.119 1132.6 L800.119 1129.29 L803.244 1129.29 L803.244 1121.93 L807.527 1121.93 Z\" fill=\"#000000\" fill-rule=\"evenodd\" fill-opacity=\"1\" /><path clip-path=\"url(#clip430)\" d=\"M 0 0 M830.814 1132.28 Q827.388 1132.28 825.397 1134.96 Q823.406 1137.62 823.406 1142.28 Q823.406 1146.93 825.374 1149.61 Q827.364 1152.28 830.814 1152.28 Q834.216 1152.28 836.207 1149.59 Q838.198 1146.91 838.198 1142.28 Q838.198 1137.67 836.207 1134.98 Q834.216 1132.28 830.814 1132.28 M830.814 1128.67 Q836.369 1128.67 839.54 1132.28 Q842.712 1135.89 842.712 1142.28 Q842.712 1148.64 839.54 1152.28 Q836.369 1155.89 830.814 1155.89 Q825.235 1155.89 822.064 1152.28 Q818.915 1148.64 818.915 1142.28 Q818.915 1135.89 822.064 1132.28 Q825.235 1128.67 830.814 1128.67 Z\" fill=\"#000000\" fill-rule=\"evenodd\" fill-opacity=\"1\" /><path clip-path=\"url(#clip430)\" d=\"M 0 0 M879.309 1133.23 L879.309 1119.2 L883.568 1119.2 L883.568 1155.22 L879.309 1155.22 L879.309 1151.33 Q877.966 1153.64 875.906 1154.78 Q873.869 1155.89 870.998 1155.89 Q866.299 1155.89 863.336 1152.14 Q860.397 1148.39 860.397 1142.28 Q860.397 1136.17 863.336 1132.42 Q866.299 1128.67 870.998 1128.67 Q873.869 1128.67 875.906 1129.8 Q877.966 1130.91 879.309 1133.23 M864.795 1142.28 Q864.795 1146.98 866.716 1149.66 Q868.661 1152.32 872.04 1152.32 Q875.42 1152.32 877.364 1149.66 Q879.309 1146.98 879.309 1142.28 Q879.309 1137.58 877.364 1134.92 Q875.42 1132.23 872.04 1132.23 Q868.661 1132.23 866.716 1134.92 Q864.795 1137.58 864.795 1142.28 Z\" fill=\"#000000\" fill-rule=\"evenodd\" fill-opacity=\"1\" /><path clip-path=\"url(#clip430)\" d=\"M 0 0 M910.211 1141.19 L910.211 1143.27 L890.628 1143.27 Q890.906 1147.67 893.267 1149.98 Q895.651 1152.28 899.887 1152.28 Q902.341 1152.28 904.633 1151.67 Q906.947 1151.07 909.216 1149.87 L909.216 1153.9 Q906.924 1154.87 904.517 1155.38 Q902.109 1155.89 899.633 1155.89 Q893.429 1155.89 889.795 1152.28 Q886.184 1148.67 886.184 1142.51 Q886.184 1136.14 889.609 1132.42 Q893.059 1128.67 898.892 1128.67 Q904.123 1128.67 907.156 1132.05 Q910.211 1135.4 910.211 1141.19 M905.952 1139.94 Q905.906 1136.44 903.984 1134.36 Q902.086 1132.28 898.938 1132.28 Q895.373 1132.28 893.221 1134.29 Q891.091 1136.3 890.767 1139.96 L905.952 1139.94 Z\" fill=\"#000000\" fill-rule=\"evenodd\" fill-opacity=\"1\" /><path clip-path=\"url(#clip430)\" d=\"M 0 0 M934.864 1134.27 Q936.461 1131.4 938.683 1130.03 Q940.906 1128.67 943.915 1128.67 Q947.966 1128.67 950.165 1131.51 Q952.364 1134.34 952.364 1139.57 L952.364 1155.22 L948.081 1155.22 L948.081 1139.71 Q948.081 1135.98 946.762 1134.17 Q945.443 1132.37 942.734 1132.37 Q939.424 1132.37 937.503 1134.57 Q935.581 1136.77 935.581 1140.56 L935.581 1155.22 L931.299 1155.22 L931.299 1139.71 Q931.299 1135.96 929.98 1134.17 Q928.66 1132.37 925.906 1132.37 Q922.642 1132.37 920.72 1134.59 Q918.799 1136.79 918.799 1140.56 L918.799 1155.22 L914.517 1155.22 L914.517 1129.29 L918.799 1129.29 L918.799 1133.32 Q920.257 1130.93 922.294 1129.8 Q924.332 1128.67 927.132 1128.67 Q929.956 1128.67 931.924 1130.1 Q933.915 1131.54 934.864 1134.27 Z\" fill=\"#000000\" fill-rule=\"evenodd\" fill-opacity=\"1\" /><path clip-path=\"url(#clip430)\" d=\"M 0 0 M966.878 1132.28 Q963.452 1132.28 961.461 1134.96 Q959.47 1137.62 959.47 1142.28 Q959.47 1146.93 961.438 1149.61 Q963.429 1152.28 966.878 1152.28 Q970.28 1152.28 972.271 1149.59 Q974.262 1146.91 974.262 1142.28 Q974.262 1137.67 972.271 1134.98 Q970.28 1132.28 966.878 1132.28 M966.878 1128.67 Q972.433 1128.67 975.604 1132.28 Q978.776 1135.89 978.776 1142.28 Q978.776 1148.64 975.604 1152.28 Q972.433 1155.89 966.878 1155.89 Q961.299 1155.89 958.128 1152.28 Q954.98 1148.64 954.98 1142.28 Q954.98 1135.89 958.128 1132.28 Q961.299 1128.67 966.878 1128.67 Z\" fill=\"#000000\" fill-rule=\"evenodd\" fill-opacity=\"1\" /><path clip-path=\"url(#clip430)\" d=\"M 0 0 M1004.79 1139.57 L1004.79 1155.22 L1000.53 1155.22 L1000.53 1139.71 Q1000.53 1136.03 999.1 1134.2 Q997.664 1132.37 994.794 1132.37 Q991.345 1132.37 989.354 1134.57 Q987.364 1136.77 987.364 1140.56 L987.364 1155.22 L983.081 1155.22 L983.081 1129.29 L987.364 1129.29 L987.364 1133.32 Q988.891 1130.98 990.952 1129.82 Q993.035 1128.67 995.743 1128.67 Q1000.21 1128.67 1002.5 1131.44 Q1004.79 1134.2 1004.79 1139.57 Z\" fill=\"#000000\" fill-rule=\"evenodd\" fill-opacity=\"1\" /><path clip-path=\"url(#clip430)\" d=\"M 0 0 M1028.96 1163.09 L1028.96 1166.4 L1004.33 1166.4 L1004.33 1163.09 L1028.96 1163.09 Z\" fill=\"#000000\" fill-rule=\"evenodd\" fill-opacity=\"1\" /><path clip-path=\"url(#clip430)\" d=\"M 0 0 M1033.43 1119.2 L1037.69 1119.2 L1037.69 1155.22 L1033.43 1155.22 L1033.43 1119.2 Z\" fill=\"#000000\" fill-rule=\"evenodd\" fill-opacity=\"1\" /><path clip-path=\"url(#clip430)\" d=\"M 0 0 M1064.33 1141.19 L1064.33 1143.27 L1044.75 1143.27 Q1045.03 1147.67 1047.39 1149.98 Q1049.77 1152.28 1054.01 1152.28 Q1056.46 1152.28 1058.75 1151.67 Q1061.07 1151.07 1063.34 1149.87 L1063.34 1153.9 Q1061.04 1154.87 1058.64 1155.38 Q1056.23 1155.89 1053.75 1155.89 Q1047.55 1155.89 1043.91 1152.28 Q1040.3 1148.67 1040.3 1142.51 Q1040.3 1136.14 1043.73 1132.42 Q1047.18 1128.67 1053.01 1128.67 Q1058.24 1128.67 1061.28 1132.05 Q1064.33 1135.4 1064.33 1141.19 M1060.07 1139.94 Q1060.03 1136.44 1058.1 1134.36 Q1056.21 1132.28 1053.06 1132.28 Q1049.49 1132.28 1047.34 1134.29 Q1045.21 1136.3 1044.89 1139.96 L1060.07 1139.94 Z\" fill=\"#000000\" fill-rule=\"evenodd\" fill-opacity=\"1\" /><path clip-path=\"url(#clip430)\" d=\"M 0 0 M1080.58 1142.18 Q1075.42 1142.18 1073.43 1143.36 Q1071.44 1144.55 1071.44 1147.39 Q1071.44 1149.66 1072.92 1151 Q1074.42 1152.32 1076.99 1152.32 Q1080.53 1152.32 1082.66 1149.82 Q1084.82 1147.3 1084.82 1143.13 L1084.82 1142.18 L1080.58 1142.18 M1089.08 1140.42 L1089.08 1155.22 L1084.82 1155.22 L1084.82 1151.28 Q1083.36 1153.64 1081.18 1154.78 Q1079.01 1155.89 1075.86 1155.89 Q1071.88 1155.89 1069.52 1153.67 Q1067.18 1151.42 1067.18 1147.67 Q1067.18 1143.3 1070.09 1141.07 Q1073.03 1138.85 1078.84 1138.85 L1084.82 1138.85 L1084.82 1138.43 Q1084.82 1135.49 1082.87 1133.9 Q1080.95 1132.28 1077.46 1132.28 Q1075.23 1132.28 1073.13 1132.81 Q1071.02 1133.34 1069.08 1134.41 L1069.08 1130.47 Q1071.41 1129.57 1073.61 1129.13 Q1075.81 1128.67 1077.9 1128.67 Q1083.52 1128.67 1086.3 1131.58 Q1089.08 1134.5 1089.08 1140.42 Z\" fill=\"#000000\" fill-rule=\"evenodd\" fill-opacity=\"1\" /><path clip-path=\"url(#clip430)\" d=\"M 0 0 M1108.57 1133.27 Q1107.85 1132.86 1106.99 1132.67 Q1106.16 1132.46 1105.14 1132.46 Q1101.53 1132.46 1099.59 1134.82 Q1097.66 1137.16 1097.66 1141.56 L1097.66 1155.22 L1093.38 1155.22 L1093.38 1129.29 L1097.66 1129.29 L1097.66 1133.32 Q1099.01 1130.96 1101.16 1129.82 Q1103.31 1128.67 1106.39 1128.67 Q1106.83 1128.67 1107.36 1128.73 Q1107.9 1128.78 1108.54 1128.9 L1108.57 1133.27 Z\" fill=\"#000000\" fill-rule=\"evenodd\" fill-opacity=\"1\" /><path clip-path=\"url(#clip430)\" d=\"M 0 0 M1133.75 1139.57 L1133.75 1155.22 L1129.49 1155.22 L1129.49 1139.71 Q1129.49 1136.03 1128.06 1134.2 Q1126.62 1132.37 1123.75 1132.37 Q1120.3 1132.37 1118.31 1134.57 Q1116.32 1136.77 1116.32 1140.56 L1116.32 1155.22 L1112.04 1155.22 L1112.04 1129.29 L1116.32 1129.29 L1116.32 1133.32 Q1117.85 1130.98 1119.91 1129.82 Q1121.99 1128.67 1124.7 1128.67 Q1129.17 1128.67 1131.46 1131.44 Q1133.75 1134.2 1133.75 1139.57 Z\" fill=\"#000000\" fill-rule=\"evenodd\" fill-opacity=\"1\" /><path clip-path=\"url(#clip430)\" d=\"M 0 0 M1160.4 1141.19 L1160.4 1143.27 L1140.81 1143.27 Q1141.09 1147.67 1143.45 1149.98 Q1145.83 1152.28 1150.07 1152.28 Q1152.52 1152.28 1154.82 1151.67 Q1157.13 1151.07 1159.4 1149.87 L1159.4 1153.9 Q1157.11 1154.87 1154.7 1155.38 Q1152.29 1155.89 1149.82 1155.89 Q1143.61 1155.89 1139.98 1152.28 Q1136.37 1148.67 1136.37 1142.51 Q1136.37 1136.14 1139.79 1132.42 Q1143.24 1128.67 1149.08 1128.67 Q1154.31 1128.67 1157.34 1132.05 Q1160.4 1135.4 1160.4 1141.19 M1156.14 1139.94 Q1156.09 1136.44 1154.17 1134.36 Q1152.27 1132.28 1149.12 1132.28 Q1145.56 1132.28 1143.4 1134.29 Q1141.27 1136.3 1140.95 1139.96 L1156.14 1139.94 Z\" fill=\"#000000\" fill-rule=\"evenodd\" fill-opacity=\"1\" /><path clip-path=\"url(#clip430)\" d=\"M 0 0 M1179.89 1133.27 Q1179.17 1132.86 1178.31 1132.67 Q1177.48 1132.46 1176.46 1132.46 Q1172.85 1132.46 1170.9 1134.82 Q1168.98 1137.16 1168.98 1141.56 L1168.98 1155.22 L1164.7 1155.22 L1164.7 1129.29 L1168.98 1129.29 L1168.98 1133.32 Q1170.33 1130.96 1172.48 1129.82 Q1174.63 1128.67 1177.71 1128.67 Q1178.15 1128.67 1178.68 1128.73 Q1179.21 1128.78 1179.86 1128.9 L1179.89 1133.27 Z\" fill=\"#000000\" fill-rule=\"evenodd\" fill-opacity=\"1\" /><path clip-path=\"url(#clip430)\" d=\"M 0 0 M1184.61 1149.34 L1189.49 1149.34 L1189.49 1155.22 L1184.61 1155.22 L1184.61 1149.34 M1184.61 1130.7 L1189.49 1130.7 L1189.49 1136.58 L1184.61 1136.58 L1184.61 1130.7 Z\" fill=\"#000000\" fill-rule=\"evenodd\" fill-opacity=\"1\" /><path clip-path=\"url(#clip430)\" d=\"M 0 0 M1208.17 1123.83 Q1203.08 1123.83 1200.07 1127.62 Q1197.08 1131.42 1197.08 1137.97 Q1197.08 1144.5 1200.07 1148.29 Q1203.08 1152.09 1208.17 1152.09 Q1213.27 1152.09 1216.23 1148.29 Q1219.21 1144.5 1219.21 1137.97 Q1219.21 1131.42 1216.23 1127.62 Q1213.27 1123.83 1208.17 1123.83 M1214.72 1154.59 L1220.88 1161.33 L1215.23 1161.33 L1210.12 1155.79 Q1209.35 1155.84 1208.94 1155.86 Q1208.54 1155.89 1208.17 1155.89 Q1200.88 1155.89 1196.51 1151.03 Q1192.15 1146.14 1192.15 1137.97 Q1192.15 1129.78 1196.51 1124.92 Q1200.88 1120.03 1208.17 1120.03 Q1215.44 1120.03 1219.79 1124.92 Q1224.14 1129.78 1224.14 1137.97 Q1224.14 1143.99 1221.71 1148.27 Q1219.31 1152.55 1214.72 1154.59 Z\" fill=\"#000000\" fill-rule=\"evenodd\" fill-opacity=\"1\" /><polyline clip-path=\"url(#clip430)\" style=\"stroke:#e26f46; stroke-width:4; stroke-opacity:1; fill:none\" points=\"\n",
       "  306.455,1198.42 449.22,1198.42 \n",
       "  \"/>\n",
       "<path clip-path=\"url(#clip430)\" d=\"M 0 0 M509.612 1193.71 L509.612 1179.68 L513.871 1179.68 L513.871 1215.7 L509.612 1215.7 L509.612 1211.81 Q508.269 1214.12 506.209 1215.26 Q504.172 1216.37 501.301 1216.37 Q496.602 1216.37 493.639 1212.62 Q490.7 1208.87 490.7 1202.76 Q490.7 1196.65 493.639 1192.9 Q496.602 1189.15 501.301 1189.15 Q504.172 1189.15 506.209 1190.28 Q508.269 1191.39 509.612 1193.71 M495.098 1202.76 Q495.098 1207.46 497.019 1210.14 Q498.963 1212.8 502.343 1212.8 Q505.723 1212.8 507.667 1210.14 Q509.612 1207.46 509.612 1202.76 Q509.612 1198.06 507.667 1195.4 Q505.723 1192.71 502.343 1192.71 Q498.963 1192.71 497.019 1195.4 Q495.098 1198.06 495.098 1202.76 Z\" fill=\"#000000\" fill-rule=\"evenodd\" fill-opacity=\"1\" /><path clip-path=\"url(#clip430)\" d=\"M 0 0 M540.514 1201.67 L540.514 1203.75 L520.931 1203.75 Q521.209 1208.15 523.57 1210.46 Q525.954 1212.76 530.19 1212.76 Q532.644 1212.76 534.935 1212.15 Q537.25 1211.55 539.519 1210.35 L539.519 1214.38 Q537.227 1215.35 534.82 1215.86 Q532.412 1216.37 529.935 1216.37 Q523.732 1216.37 520.098 1212.76 Q516.486 1209.15 516.486 1202.99 Q516.486 1196.62 519.912 1192.9 Q523.361 1189.15 529.195 1189.15 Q534.426 1189.15 537.459 1192.53 Q540.514 1195.88 540.514 1201.67 M536.255 1200.42 Q536.209 1196.92 534.287 1194.84 Q532.389 1192.76 529.241 1192.76 Q525.676 1192.76 523.523 1194.77 Q521.394 1196.78 521.07 1200.44 L536.255 1200.42 Z\" fill=\"#000000\" fill-rule=\"evenodd\" fill-opacity=\"1\" /><path clip-path=\"url(#clip430)\" d=\"M 0 0 M565.167 1194.75 Q566.764 1191.88 568.986 1190.51 Q571.208 1189.15 574.218 1189.15 Q578.269 1189.15 580.468 1191.99 Q582.667 1194.82 582.667 1200.05 L582.667 1215.7 L578.384 1215.7 L578.384 1200.19 Q578.384 1196.46 577.065 1194.65 Q575.745 1192.85 573.037 1192.85 Q569.727 1192.85 567.806 1195.05 Q565.884 1197.25 565.884 1201.04 L565.884 1215.7 L561.602 1215.7 L561.602 1200.19 Q561.602 1196.44 560.283 1194.65 Q558.963 1192.85 556.208 1192.85 Q552.945 1192.85 551.023 1195.07 Q549.102 1197.27 549.102 1201.04 L549.102 1215.7 L544.82 1215.7 L544.82 1189.77 L549.102 1189.77 L549.102 1193.8 Q550.56 1191.41 552.597 1190.28 Q554.634 1189.15 557.435 1189.15 Q560.259 1189.15 562.227 1190.58 Q564.218 1192.02 565.167 1194.75 Z\" fill=\"#000000\" fill-rule=\"evenodd\" fill-opacity=\"1\" /><path clip-path=\"url(#clip430)\" d=\"M 0 0 M597.18 1192.76 Q593.755 1192.76 591.764 1195.44 Q589.773 1198.1 589.773 1202.76 Q589.773 1207.41 591.741 1210.09 Q593.731 1212.76 597.18 1212.76 Q600.583 1212.76 602.574 1210.07 Q604.565 1207.39 604.565 1202.76 Q604.565 1198.15 602.574 1195.46 Q600.583 1192.76 597.18 1192.76 M597.18 1189.15 Q602.736 1189.15 605.907 1192.76 Q609.079 1196.37 609.079 1202.76 Q609.079 1209.12 605.907 1212.76 Q602.736 1216.37 597.18 1216.37 Q591.602 1216.37 588.431 1212.76 Q585.282 1209.12 585.282 1202.76 Q585.282 1196.37 588.431 1192.76 Q591.602 1189.15 597.18 1189.15 Z\" fill=\"#000000\" fill-rule=\"evenodd\" fill-opacity=\"1\" /><path clip-path=\"url(#clip430)\" d=\"M 0 0 M635.097 1200.05 L635.097 1215.7 L630.838 1215.7 L630.838 1200.19 Q630.838 1196.51 629.403 1194.68 Q627.967 1192.85 625.097 1192.85 Q621.648 1192.85 619.657 1195.05 Q617.666 1197.25 617.666 1201.04 L617.666 1215.7 L613.384 1215.7 L613.384 1189.77 L617.666 1189.77 L617.666 1193.8 Q619.194 1191.46 621.254 1190.3 Q623.338 1189.15 626.046 1189.15 Q630.514 1189.15 632.805 1191.92 Q635.097 1194.68 635.097 1200.05 Z\" fill=\"#000000\" fill-rule=\"evenodd\" fill-opacity=\"1\" /><path clip-path=\"url(#clip430)\" d=\"M 0 0 M659.263 1223.57 L659.263 1226.88 L634.634 1226.88 L634.634 1223.57 L659.263 1223.57 Z\" fill=\"#000000\" fill-rule=\"evenodd\" fill-opacity=\"1\" /><path clip-path=\"url(#clip430)\" d=\"M 0 0 M673.777 1192.76 Q670.351 1192.76 668.361 1195.44 Q666.37 1198.1 666.37 1202.76 Q666.37 1207.41 668.338 1210.09 Q670.328 1212.76 673.777 1212.76 Q677.18 1212.76 679.171 1210.07 Q681.162 1207.39 681.162 1202.76 Q681.162 1198.15 679.171 1195.46 Q677.18 1192.76 673.777 1192.76 M673.777 1189.15 Q679.333 1189.15 682.504 1192.76 Q685.675 1196.37 685.675 1202.76 Q685.675 1209.12 682.504 1212.76 Q679.333 1216.37 673.777 1216.37 Q668.199 1216.37 665.027 1212.76 Q661.879 1209.12 661.879 1202.76 Q661.879 1196.37 665.027 1192.76 Q668.199 1189.15 673.777 1189.15 Z\" fill=\"#000000\" fill-rule=\"evenodd\" fill-opacity=\"1\" /><path clip-path=\"url(#clip430)\" d=\"M 0 0 M694.263 1211.81 L694.263 1225.56 L689.981 1225.56 L689.981 1189.77 L694.263 1189.77 L694.263 1193.71 Q695.606 1191.39 697.643 1190.28 Q699.703 1189.15 702.55 1189.15 Q707.272 1189.15 710.212 1192.9 Q713.175 1196.65 713.175 1202.76 Q713.175 1208.87 710.212 1212.62 Q707.272 1216.37 702.55 1216.37 Q699.703 1216.37 697.643 1215.26 Q695.606 1214.12 694.263 1211.81 M708.754 1202.76 Q708.754 1198.06 706.81 1195.4 Q704.888 1192.71 701.509 1192.71 Q698.129 1192.71 696.185 1195.4 Q694.263 1198.06 694.263 1202.76 Q694.263 1207.46 696.185 1210.14 Q698.129 1212.8 701.509 1212.8 Q704.888 1212.8 706.81 1210.14 Q708.754 1207.46 708.754 1202.76 Z\" fill=\"#000000\" fill-rule=\"evenodd\" fill-opacity=\"1\" /><path clip-path=\"url(#clip430)\" d=\"M 0 0 M721.856 1182.41 L721.856 1189.77 L730.629 1189.77 L730.629 1193.08 L721.856 1193.08 L721.856 1207.15 Q721.856 1210.33 722.712 1211.23 Q723.592 1212.13 726.254 1212.13 L730.629 1212.13 L730.629 1215.7 L726.254 1215.7 Q721.323 1215.7 719.448 1213.87 Q717.573 1212.02 717.573 1207.15 L717.573 1193.08 L714.448 1193.08 L714.448 1189.77 L717.573 1189.77 L717.573 1182.41 L721.856 1182.41 Z\" fill=\"#000000\" fill-rule=\"evenodd\" fill-opacity=\"1\" /><path clip-path=\"url(#clip430)\" d=\"M 0 0 M736.184 1209.82 L741.069 1209.82 L741.069 1215.7 L736.184 1215.7 L736.184 1209.82 M736.184 1191.18 L741.069 1191.18 L741.069 1197.06 L736.184 1197.06 L736.184 1191.18 Z\" fill=\"#000000\" fill-rule=\"evenodd\" fill-opacity=\"1\" /><path clip-path=\"url(#clip430)\" d=\"M 0 0 M757.272 1185.74 L750.93 1202.94 L763.638 1202.94 L757.272 1185.74 M754.633 1181.14 L759.934 1181.14 L773.105 1215.7 L768.244 1215.7 L765.096 1206.83 L749.518 1206.83 L746.37 1215.7 L741.439 1215.7 L754.633 1181.14 Z\" fill=\"#000000\" fill-rule=\"evenodd\" fill-opacity=\"1\" /><path clip-path=\"url(#clip430)\" d=\"M 0 0 M777.133 1205.46 L777.133 1189.77 L781.392 1189.77 L781.392 1205.3 Q781.392 1208.98 782.828 1210.84 Q784.263 1212.66 787.133 1212.66 Q790.582 1212.66 792.573 1210.46 Q794.587 1208.27 794.587 1204.47 L794.587 1189.77 L798.846 1189.77 L798.846 1215.7 L794.587 1215.7 L794.587 1211.71 Q793.036 1214.08 790.976 1215.23 Q788.939 1216.37 786.23 1216.37 Q781.763 1216.37 779.448 1213.59 Q777.133 1210.81 777.133 1205.46 M787.851 1189.15 L787.851 1189.15 Z\" fill=\"#000000\" fill-rule=\"evenodd\" fill-opacity=\"1\" /><path clip-path=\"url(#clip430)\" d=\"M 0 0 M807.527 1182.41 L807.527 1189.77 L816.3 1189.77 L816.3 1193.08 L807.527 1193.08 L807.527 1207.15 Q807.527 1210.33 808.383 1211.23 Q809.263 1212.13 811.925 1212.13 L816.3 1212.13 L816.3 1215.7 L811.925 1215.7 Q806.994 1215.7 805.119 1213.87 Q803.244 1212.02 803.244 1207.15 L803.244 1193.08 L800.119 1193.08 L800.119 1189.77 L803.244 1189.77 L803.244 1182.41 L807.527 1182.41 Z\" fill=\"#000000\" fill-rule=\"evenodd\" fill-opacity=\"1\" /><path clip-path=\"url(#clip430)\" d=\"M 0 0 M830.814 1192.76 Q827.388 1192.76 825.397 1195.44 Q823.406 1198.1 823.406 1202.76 Q823.406 1207.41 825.374 1210.09 Q827.364 1212.76 830.814 1212.76 Q834.216 1212.76 836.207 1210.07 Q838.198 1207.39 838.198 1202.76 Q838.198 1198.15 836.207 1195.46 Q834.216 1192.76 830.814 1192.76 M830.814 1189.15 Q836.369 1189.15 839.54 1192.76 Q842.712 1196.37 842.712 1202.76 Q842.712 1209.12 839.54 1212.76 Q836.369 1216.37 830.814 1216.37 Q825.235 1216.37 822.064 1212.76 Q818.915 1209.12 818.915 1202.76 Q818.915 1196.37 822.064 1192.76 Q825.235 1189.15 830.814 1189.15 Z\" fill=\"#000000\" fill-rule=\"evenodd\" fill-opacity=\"1\" /><path clip-path=\"url(#clip430)\" d=\"M 0 0 M879.309 1193.71 L879.309 1179.68 L883.568 1179.68 L883.568 1215.7 L879.309 1215.7 L879.309 1211.81 Q877.966 1214.12 875.906 1215.26 Q873.869 1216.37 870.998 1216.37 Q866.299 1216.37 863.336 1212.62 Q860.397 1208.87 860.397 1202.76 Q860.397 1196.65 863.336 1192.9 Q866.299 1189.15 870.998 1189.15 Q873.869 1189.15 875.906 1190.28 Q877.966 1191.39 879.309 1193.71 M864.795 1202.76 Q864.795 1207.46 866.716 1210.14 Q868.661 1212.8 872.04 1212.8 Q875.42 1212.8 877.364 1210.14 Q879.309 1207.46 879.309 1202.76 Q879.309 1198.06 877.364 1195.4 Q875.42 1192.71 872.04 1192.71 Q868.661 1192.71 866.716 1195.4 Q864.795 1198.06 864.795 1202.76 Z\" fill=\"#000000\" fill-rule=\"evenodd\" fill-opacity=\"1\" /><path clip-path=\"url(#clip430)\" d=\"M 0 0 M910.211 1201.67 L910.211 1203.75 L890.628 1203.75 Q890.906 1208.15 893.267 1210.46 Q895.651 1212.76 899.887 1212.76 Q902.341 1212.76 904.633 1212.15 Q906.947 1211.55 909.216 1210.35 L909.216 1214.38 Q906.924 1215.35 904.517 1215.86 Q902.109 1216.37 899.633 1216.37 Q893.429 1216.37 889.795 1212.76 Q886.184 1209.15 886.184 1202.99 Q886.184 1196.62 889.609 1192.9 Q893.059 1189.15 898.892 1189.15 Q904.123 1189.15 907.156 1192.53 Q910.211 1195.88 910.211 1201.67 M905.952 1200.42 Q905.906 1196.92 903.984 1194.84 Q902.086 1192.76 898.938 1192.76 Q895.373 1192.76 893.221 1194.77 Q891.091 1196.78 890.767 1200.44 L905.952 1200.42 Z\" fill=\"#000000\" fill-rule=\"evenodd\" fill-opacity=\"1\" /><path clip-path=\"url(#clip430)\" d=\"M 0 0 M934.864 1194.75 Q936.461 1191.88 938.683 1190.51 Q940.906 1189.15 943.915 1189.15 Q947.966 1189.15 950.165 1191.99 Q952.364 1194.82 952.364 1200.05 L952.364 1215.7 L948.081 1215.7 L948.081 1200.19 Q948.081 1196.46 946.762 1194.65 Q945.443 1192.85 942.734 1192.85 Q939.424 1192.85 937.503 1195.05 Q935.581 1197.25 935.581 1201.04 L935.581 1215.7 L931.299 1215.7 L931.299 1200.19 Q931.299 1196.44 929.98 1194.65 Q928.66 1192.85 925.906 1192.85 Q922.642 1192.85 920.72 1195.07 Q918.799 1197.27 918.799 1201.04 L918.799 1215.7 L914.517 1215.7 L914.517 1189.77 L918.799 1189.77 L918.799 1193.8 Q920.257 1191.41 922.294 1190.28 Q924.332 1189.15 927.132 1189.15 Q929.956 1189.15 931.924 1190.58 Q933.915 1192.02 934.864 1194.75 Z\" fill=\"#000000\" fill-rule=\"evenodd\" fill-opacity=\"1\" /><path clip-path=\"url(#clip430)\" d=\"M 0 0 M966.878 1192.76 Q963.452 1192.76 961.461 1195.44 Q959.47 1198.1 959.47 1202.76 Q959.47 1207.41 961.438 1210.09 Q963.429 1212.76 966.878 1212.76 Q970.28 1212.76 972.271 1210.07 Q974.262 1207.39 974.262 1202.76 Q974.262 1198.15 972.271 1195.46 Q970.28 1192.76 966.878 1192.76 M966.878 1189.15 Q972.433 1189.15 975.604 1192.76 Q978.776 1196.37 978.776 1202.76 Q978.776 1209.12 975.604 1212.76 Q972.433 1216.37 966.878 1216.37 Q961.299 1216.37 958.128 1212.76 Q954.98 1209.12 954.98 1202.76 Q954.98 1196.37 958.128 1192.76 Q961.299 1189.15 966.878 1189.15 Z\" fill=\"#000000\" fill-rule=\"evenodd\" fill-opacity=\"1\" /><path clip-path=\"url(#clip430)\" d=\"M 0 0 M1004.79 1200.05 L1004.79 1215.7 L1000.53 1215.7 L1000.53 1200.19 Q1000.53 1196.51 999.1 1194.68 Q997.664 1192.85 994.794 1192.85 Q991.345 1192.85 989.354 1195.05 Q987.364 1197.25 987.364 1201.04 L987.364 1215.7 L983.081 1215.7 L983.081 1189.77 L987.364 1189.77 L987.364 1193.8 Q988.891 1191.46 990.952 1190.3 Q993.035 1189.15 995.743 1189.15 Q1000.21 1189.15 1002.5 1191.92 Q1004.79 1194.68 1004.79 1200.05 Z\" fill=\"#000000\" fill-rule=\"evenodd\" fill-opacity=\"1\" /><path clip-path=\"url(#clip430)\" d=\"M 0 0 M1028.96 1223.57 L1028.96 1226.88 L1004.33 1226.88 L1004.33 1223.57 L1028.96 1223.57 Z\" fill=\"#000000\" fill-rule=\"evenodd\" fill-opacity=\"1\" /><path clip-path=\"url(#clip430)\" d=\"M 0 0 M1033.43 1179.68 L1037.69 1179.68 L1037.69 1215.7 L1033.43 1215.7 L1033.43 1179.68 Z\" fill=\"#000000\" fill-rule=\"evenodd\" fill-opacity=\"1\" /><path clip-path=\"url(#clip430)\" d=\"M 0 0 M1064.33 1201.67 L1064.33 1203.75 L1044.75 1203.75 Q1045.03 1208.15 1047.39 1210.46 Q1049.77 1212.76 1054.01 1212.76 Q1056.46 1212.76 1058.75 1212.15 Q1061.07 1211.55 1063.34 1210.35 L1063.34 1214.38 Q1061.04 1215.35 1058.64 1215.86 Q1056.23 1216.37 1053.75 1216.37 Q1047.55 1216.37 1043.91 1212.76 Q1040.3 1209.15 1040.3 1202.99 Q1040.3 1196.62 1043.73 1192.9 Q1047.18 1189.15 1053.01 1189.15 Q1058.24 1189.15 1061.28 1192.53 Q1064.33 1195.88 1064.33 1201.67 M1060.07 1200.42 Q1060.03 1196.92 1058.1 1194.84 Q1056.21 1192.76 1053.06 1192.76 Q1049.49 1192.76 1047.34 1194.77 Q1045.21 1196.78 1044.89 1200.44 L1060.07 1200.42 Z\" fill=\"#000000\" fill-rule=\"evenodd\" fill-opacity=\"1\" /><path clip-path=\"url(#clip430)\" d=\"M 0 0 M1080.58 1202.66 Q1075.42 1202.66 1073.43 1203.84 Q1071.44 1205.03 1071.44 1207.87 Q1071.44 1210.14 1072.92 1211.48 Q1074.42 1212.8 1076.99 1212.8 Q1080.53 1212.8 1082.66 1210.3 Q1084.82 1207.78 1084.82 1203.61 L1084.82 1202.66 L1080.58 1202.66 M1089.08 1200.9 L1089.08 1215.7 L1084.82 1215.7 L1084.82 1211.76 Q1083.36 1214.12 1081.18 1215.26 Q1079.01 1216.37 1075.86 1216.37 Q1071.88 1216.37 1069.52 1214.15 Q1067.18 1211.9 1067.18 1208.15 Q1067.18 1203.78 1070.09 1201.55 Q1073.03 1199.33 1078.84 1199.33 L1084.82 1199.33 L1084.82 1198.91 Q1084.82 1195.97 1082.87 1194.38 Q1080.95 1192.76 1077.46 1192.76 Q1075.23 1192.76 1073.13 1193.29 Q1071.02 1193.82 1069.08 1194.89 L1069.08 1190.95 Q1071.41 1190.05 1073.61 1189.61 Q1075.81 1189.15 1077.9 1189.15 Q1083.52 1189.15 1086.3 1192.06 Q1089.08 1194.98 1089.08 1200.9 Z\" fill=\"#000000\" fill-rule=\"evenodd\" fill-opacity=\"1\" /><path clip-path=\"url(#clip430)\" d=\"M 0 0 M1108.57 1193.75 Q1107.85 1193.34 1106.99 1193.15 Q1106.16 1192.94 1105.14 1192.94 Q1101.53 1192.94 1099.59 1195.3 Q1097.66 1197.64 1097.66 1202.04 L1097.66 1215.7 L1093.38 1215.7 L1093.38 1189.77 L1097.66 1189.77 L1097.66 1193.8 Q1099.01 1191.44 1101.16 1190.3 Q1103.31 1189.15 1106.39 1189.15 Q1106.83 1189.15 1107.36 1189.21 Q1107.9 1189.26 1108.54 1189.38 L1108.57 1193.75 Z\" fill=\"#000000\" fill-rule=\"evenodd\" fill-opacity=\"1\" /><path clip-path=\"url(#clip430)\" d=\"M 0 0 M1133.75 1200.05 L1133.75 1215.7 L1129.49 1215.7 L1129.49 1200.19 Q1129.49 1196.51 1128.06 1194.68 Q1126.62 1192.85 1123.75 1192.85 Q1120.3 1192.85 1118.31 1195.05 Q1116.32 1197.25 1116.32 1201.04 L1116.32 1215.7 L1112.04 1215.7 L1112.04 1189.77 L1116.32 1189.77 L1116.32 1193.8 Q1117.85 1191.46 1119.91 1190.3 Q1121.99 1189.15 1124.7 1189.15 Q1129.17 1189.15 1131.46 1191.92 Q1133.75 1194.68 1133.75 1200.05 Z\" fill=\"#000000\" fill-rule=\"evenodd\" fill-opacity=\"1\" /><path clip-path=\"url(#clip430)\" d=\"M 0 0 M1160.4 1201.67 L1160.4 1203.75 L1140.81 1203.75 Q1141.09 1208.15 1143.45 1210.46 Q1145.83 1212.76 1150.07 1212.76 Q1152.52 1212.76 1154.82 1212.15 Q1157.13 1211.55 1159.4 1210.35 L1159.4 1214.38 Q1157.11 1215.35 1154.7 1215.86 Q1152.29 1216.37 1149.82 1216.37 Q1143.61 1216.37 1139.98 1212.76 Q1136.37 1209.15 1136.37 1202.99 Q1136.37 1196.62 1139.79 1192.9 Q1143.24 1189.15 1149.08 1189.15 Q1154.31 1189.15 1157.34 1192.53 Q1160.4 1195.88 1160.4 1201.67 M1156.14 1200.42 Q1156.09 1196.92 1154.17 1194.84 Q1152.27 1192.76 1149.12 1192.76 Q1145.56 1192.76 1143.4 1194.77 Q1141.27 1196.78 1140.95 1200.44 L1156.14 1200.42 Z\" fill=\"#000000\" fill-rule=\"evenodd\" fill-opacity=\"1\" /><path clip-path=\"url(#clip430)\" d=\"M 0 0 M1179.89 1193.75 Q1179.17 1193.34 1178.31 1193.15 Q1177.48 1192.94 1176.46 1192.94 Q1172.85 1192.94 1170.9 1195.3 Q1168.98 1197.64 1168.98 1202.04 L1168.98 1215.7 L1164.7 1215.7 L1164.7 1189.77 L1168.98 1189.77 L1168.98 1193.8 Q1170.33 1191.44 1172.48 1190.3 Q1174.63 1189.15 1177.71 1189.15 Q1178.15 1189.15 1178.68 1189.21 Q1179.21 1189.26 1179.86 1189.38 L1179.89 1193.75 Z\" fill=\"#000000\" fill-rule=\"evenodd\" fill-opacity=\"1\" /><path clip-path=\"url(#clip430)\" d=\"M 0 0 M1184.61 1209.82 L1189.49 1209.82 L1189.49 1215.7 L1184.61 1215.7 L1184.61 1209.82 M1184.61 1191.18 L1189.49 1191.18 L1189.49 1197.06 L1184.61 1197.06 L1184.61 1191.18 Z\" fill=\"#000000\" fill-rule=\"evenodd\" fill-opacity=\"1\" /><path clip-path=\"url(#clip430)\" d=\"M 0 0 M1214.86 1182.27 L1214.86 1186.83 Q1212.2 1185.56 1209.84 1184.93 Q1207.48 1184.31 1205.28 1184.31 Q1201.46 1184.31 1199.38 1185.79 Q1197.32 1187.27 1197.32 1190 Q1197.32 1192.29 1198.68 1193.47 Q1200.07 1194.63 1203.91 1195.35 L1206.74 1195.93 Q1211.97 1196.92 1214.45 1199.45 Q1216.95 1201.95 1216.95 1206.16 Q1216.95 1211.18 1213.57 1213.77 Q1210.21 1216.37 1203.71 1216.37 Q1201.25 1216.37 1198.47 1215.81 Q1195.72 1215.26 1192.76 1214.17 L1192.76 1209.35 Q1195.6 1210.95 1198.33 1211.76 Q1201.07 1212.57 1203.71 1212.57 Q1207.71 1212.57 1209.89 1211 Q1212.06 1209.42 1212.06 1206.51 Q1212.06 1203.96 1210.49 1202.53 Q1208.94 1201.09 1205.37 1200.37 L1202.52 1199.82 Q1197.29 1198.78 1194.96 1196.55 Q1192.62 1194.33 1192.62 1190.37 Q1192.62 1185.79 1195.83 1183.15 Q1199.08 1180.51 1204.75 1180.51 Q1207.18 1180.51 1209.7 1180.95 Q1212.22 1181.39 1214.86 1182.27 Z\" fill=\"#000000\" fill-rule=\"evenodd\" fill-opacity=\"1\" /><path clip-path=\"url(#clip430)\" d=\"M 0 0 M1237.99 1199.49 Q1239.49 1200 1240.9 1201.67 Q1242.34 1203.34 1243.77 1206.25 L1248.52 1215.7 L1243.5 1215.7 L1239.08 1206.83 Q1237.36 1203.36 1235.74 1202.22 Q1234.14 1201.09 1231.37 1201.09 L1226.27 1201.09 L1226.27 1215.7 L1221.6 1215.7 L1221.6 1181.14 L1232.15 1181.14 Q1238.08 1181.14 1241 1183.61 Q1243.91 1186.09 1243.91 1191.09 Q1243.91 1194.35 1242.39 1196.51 Q1240.88 1198.66 1237.99 1199.49 M1226.27 1184.98 L1226.27 1197.25 L1232.15 1197.25 Q1235.53 1197.25 1237.25 1195.7 Q1238.98 1194.12 1238.98 1191.09 Q1238.98 1188.06 1237.25 1186.53 Q1235.53 1184.98 1232.15 1184.98 L1226.27 1184.98 Z\" fill=\"#000000\" fill-rule=\"evenodd\" fill-opacity=\"1\" /><polyline clip-path=\"url(#clip430)\" style=\"stroke:#3da44d; stroke-width:4; stroke-opacity:1; fill:none\" points=\"\n",
       "  306.455,1258.9 449.22,1258.9 \n",
       "  \"/>\n",
       "<path clip-path=\"url(#clip430)\" d=\"M 0 0 M509.612 1254.19 L509.612 1240.16 L513.871 1240.16 L513.871 1276.18 L509.612 1276.18 L509.612 1272.29 Q508.269 1274.6 506.209 1275.74 Q504.172 1276.85 501.301 1276.85 Q496.602 1276.85 493.639 1273.1 Q490.7 1269.35 490.7 1263.24 Q490.7 1257.13 493.639 1253.38 Q496.602 1249.63 501.301 1249.63 Q504.172 1249.63 506.209 1250.76 Q508.269 1251.87 509.612 1254.19 M495.098 1263.24 Q495.098 1267.94 497.019 1270.62 Q498.963 1273.28 502.343 1273.28 Q505.723 1273.28 507.667 1270.62 Q509.612 1267.94 509.612 1263.24 Q509.612 1258.54 507.667 1255.88 Q505.723 1253.19 502.343 1253.19 Q498.963 1253.19 497.019 1255.88 Q495.098 1258.54 495.098 1263.24 Z\" fill=\"#000000\" fill-rule=\"evenodd\" fill-opacity=\"1\" /><path clip-path=\"url(#clip430)\" d=\"M 0 0 M540.514 1262.15 L540.514 1264.23 L520.931 1264.23 Q521.209 1268.63 523.57 1270.94 Q525.954 1273.24 530.19 1273.24 Q532.644 1273.24 534.935 1272.63 Q537.25 1272.03 539.519 1270.83 L539.519 1274.86 Q537.227 1275.83 534.82 1276.34 Q532.412 1276.85 529.935 1276.85 Q523.732 1276.85 520.098 1273.24 Q516.486 1269.63 516.486 1263.47 Q516.486 1257.1 519.912 1253.38 Q523.361 1249.63 529.195 1249.63 Q534.426 1249.63 537.459 1253.01 Q540.514 1256.36 540.514 1262.15 M536.255 1260.9 Q536.209 1257.4 534.287 1255.32 Q532.389 1253.24 529.241 1253.24 Q525.676 1253.24 523.523 1255.25 Q521.394 1257.26 521.07 1260.92 L536.255 1260.9 Z\" fill=\"#000000\" fill-rule=\"evenodd\" fill-opacity=\"1\" /><path clip-path=\"url(#clip430)\" d=\"M 0 0 M565.167 1255.23 Q566.764 1252.36 568.986 1250.99 Q571.208 1249.63 574.218 1249.63 Q578.269 1249.63 580.468 1252.47 Q582.667 1255.3 582.667 1260.53 L582.667 1276.18 L578.384 1276.18 L578.384 1260.67 Q578.384 1256.94 577.065 1255.13 Q575.745 1253.33 573.037 1253.33 Q569.727 1253.33 567.806 1255.53 Q565.884 1257.73 565.884 1261.52 L565.884 1276.18 L561.602 1276.18 L561.602 1260.67 Q561.602 1256.92 560.283 1255.13 Q558.963 1253.33 556.208 1253.33 Q552.945 1253.33 551.023 1255.55 Q549.102 1257.75 549.102 1261.52 L549.102 1276.18 L544.82 1276.18 L544.82 1250.25 L549.102 1250.25 L549.102 1254.28 Q550.56 1251.89 552.597 1250.76 Q554.634 1249.63 557.435 1249.63 Q560.259 1249.63 562.227 1251.06 Q564.218 1252.5 565.167 1255.23 Z\" fill=\"#000000\" fill-rule=\"evenodd\" fill-opacity=\"1\" /><path clip-path=\"url(#clip430)\" d=\"M 0 0 M597.18 1253.24 Q593.755 1253.24 591.764 1255.92 Q589.773 1258.58 589.773 1263.24 Q589.773 1267.89 591.741 1270.57 Q593.731 1273.24 597.18 1273.24 Q600.583 1273.24 602.574 1270.55 Q604.565 1267.87 604.565 1263.24 Q604.565 1258.63 602.574 1255.94 Q600.583 1253.24 597.18 1253.24 M597.18 1249.63 Q602.736 1249.63 605.907 1253.24 Q609.079 1256.85 609.079 1263.24 Q609.079 1269.6 605.907 1273.24 Q602.736 1276.85 597.18 1276.85 Q591.602 1276.85 588.431 1273.24 Q585.282 1269.6 585.282 1263.24 Q585.282 1256.85 588.431 1253.24 Q591.602 1249.63 597.18 1249.63 Z\" fill=\"#000000\" fill-rule=\"evenodd\" fill-opacity=\"1\" /><path clip-path=\"url(#clip430)\" d=\"M 0 0 M635.097 1260.53 L635.097 1276.18 L630.838 1276.18 L630.838 1260.67 Q630.838 1256.99 629.403 1255.16 Q627.967 1253.33 625.097 1253.33 Q621.648 1253.33 619.657 1255.53 Q617.666 1257.73 617.666 1261.52 L617.666 1276.18 L613.384 1276.18 L613.384 1250.25 L617.666 1250.25 L617.666 1254.28 Q619.194 1251.94 621.254 1250.78 Q623.338 1249.63 626.046 1249.63 Q630.514 1249.63 632.805 1252.4 Q635.097 1255.16 635.097 1260.53 Z\" fill=\"#000000\" fill-rule=\"evenodd\" fill-opacity=\"1\" /><path clip-path=\"url(#clip430)\" d=\"M 0 0 M659.263 1284.05 L659.263 1287.36 L634.634 1287.36 L634.634 1284.05 L659.263 1284.05 Z\" fill=\"#000000\" fill-rule=\"evenodd\" fill-opacity=\"1\" /><path clip-path=\"url(#clip430)\" d=\"M 0 0 M673.777 1253.24 Q670.351 1253.24 668.361 1255.92 Q666.37 1258.58 666.37 1263.24 Q666.37 1267.89 668.338 1270.57 Q670.328 1273.24 673.777 1273.24 Q677.18 1273.24 679.171 1270.55 Q681.162 1267.87 681.162 1263.24 Q681.162 1258.63 679.171 1255.94 Q677.18 1253.24 673.777 1253.24 M673.777 1249.63 Q679.333 1249.63 682.504 1253.24 Q685.675 1256.85 685.675 1263.24 Q685.675 1269.6 682.504 1273.24 Q679.333 1276.85 673.777 1276.85 Q668.199 1276.85 665.027 1273.24 Q661.879 1269.6 661.879 1263.24 Q661.879 1256.85 665.027 1253.24 Q668.199 1249.63 673.777 1249.63 Z\" fill=\"#000000\" fill-rule=\"evenodd\" fill-opacity=\"1\" /><path clip-path=\"url(#clip430)\" d=\"M 0 0 M694.263 1272.29 L694.263 1286.04 L689.981 1286.04 L689.981 1250.25 L694.263 1250.25 L694.263 1254.19 Q695.606 1251.87 697.643 1250.76 Q699.703 1249.63 702.55 1249.63 Q707.272 1249.63 710.212 1253.38 Q713.175 1257.13 713.175 1263.24 Q713.175 1269.35 710.212 1273.1 Q707.272 1276.85 702.55 1276.85 Q699.703 1276.85 697.643 1275.74 Q695.606 1274.6 694.263 1272.29 M708.754 1263.24 Q708.754 1258.54 706.81 1255.88 Q704.888 1253.19 701.509 1253.19 Q698.129 1253.19 696.185 1255.88 Q694.263 1258.54 694.263 1263.24 Q694.263 1267.94 696.185 1270.62 Q698.129 1273.28 701.509 1273.28 Q704.888 1273.28 706.81 1270.62 Q708.754 1267.94 708.754 1263.24 Z\" fill=\"#000000\" fill-rule=\"evenodd\" fill-opacity=\"1\" /><path clip-path=\"url(#clip430)\" d=\"M 0 0 M721.856 1242.89 L721.856 1250.25 L730.629 1250.25 L730.629 1253.56 L721.856 1253.56 L721.856 1267.63 Q721.856 1270.81 722.712 1271.71 Q723.592 1272.61 726.254 1272.61 L730.629 1272.61 L730.629 1276.18 L726.254 1276.18 Q721.323 1276.18 719.448 1274.35 Q717.573 1272.5 717.573 1267.63 L717.573 1253.56 L714.448 1253.56 L714.448 1250.25 L717.573 1250.25 L717.573 1242.89 L721.856 1242.89 Z\" fill=\"#000000\" fill-rule=\"evenodd\" fill-opacity=\"1\" /><path clip-path=\"url(#clip430)\" d=\"M 0 0 M736.184 1270.3 L741.069 1270.3 L741.069 1276.18 L736.184 1276.18 L736.184 1270.3 M736.184 1251.66 L741.069 1251.66 L741.069 1257.54 L736.184 1257.54 L736.184 1251.66 Z\" fill=\"#000000\" fill-rule=\"evenodd\" fill-opacity=\"1\" /><path clip-path=\"url(#clip430)\" d=\"M 0 0 M750.397 1245.46 L750.397 1272.33 L756.045 1272.33 Q763.198 1272.33 766.508 1269.09 Q769.842 1265.85 769.842 1258.86 Q769.842 1251.92 766.508 1248.7 Q763.198 1245.46 756.045 1245.46 L750.397 1245.46 M745.721 1241.62 L755.328 1241.62 Q765.374 1241.62 770.073 1245.81 Q774.772 1249.97 774.772 1258.86 Q774.772 1267.8 770.05 1271.99 Q765.328 1276.18 755.328 1276.18 L745.721 1276.18 L745.721 1241.62 Z\" fill=\"#000000\" fill-rule=\"evenodd\" fill-opacity=\"1\" /><path clip-path=\"url(#clip430)\" d=\"M 0 0 M801.416 1262.15 L801.416 1264.23 L781.832 1264.23 Q782.11 1268.63 784.471 1270.94 Q786.855 1273.24 791.091 1273.24 Q793.545 1273.24 795.837 1272.63 Q798.152 1272.03 800.42 1270.83 L800.42 1274.86 Q798.128 1275.83 795.721 1276.34 Q793.314 1276.85 790.837 1276.85 Q784.633 1276.85 780.999 1273.24 Q777.388 1269.63 777.388 1263.47 Q777.388 1257.1 780.814 1253.38 Q784.263 1249.63 790.096 1249.63 Q795.328 1249.63 798.36 1253.01 Q801.416 1256.36 801.416 1262.15 M797.156 1260.9 Q797.11 1257.4 795.189 1255.32 Q793.291 1253.24 790.142 1253.24 Q786.578 1253.24 784.425 1255.25 Q782.295 1257.26 781.971 1260.92 L797.156 1260.9 Z\" fill=\"#000000\" fill-rule=\"evenodd\" fill-opacity=\"1\" /><path clip-path=\"url(#clip430)\" d=\"M 0 0 M822.411 1251.01 L822.411 1255.04 Q820.605 1254.12 818.661 1253.65 Q816.716 1253.19 814.633 1253.19 Q811.462 1253.19 809.865 1254.16 Q808.29 1255.13 808.29 1257.08 Q808.29 1258.56 809.425 1259.42 Q810.559 1260.25 813.985 1261.01 L815.443 1261.34 Q819.98 1262.31 821.878 1264.09 Q823.8 1265.85 823.8 1269.02 Q823.8 1272.63 820.929 1274.74 Q818.082 1276.85 813.082 1276.85 Q810.999 1276.85 808.73 1276.43 Q806.485 1276.04 803.985 1275.23 L803.985 1270.83 Q806.346 1272.06 808.638 1272.68 Q810.929 1273.28 813.175 1273.28 Q816.184 1273.28 817.804 1272.26 Q819.425 1271.22 819.425 1269.35 Q819.425 1267.61 818.244 1266.69 Q817.087 1265.76 813.128 1264.9 L811.647 1264.56 Q807.689 1263.72 805.929 1262.01 Q804.17 1260.27 804.17 1257.26 Q804.17 1253.61 806.763 1251.62 Q809.355 1249.63 814.124 1249.63 Q816.485 1249.63 818.568 1249.97 Q820.652 1250.32 822.411 1251.01 Z\" fill=\"#000000\" fill-rule=\"evenodd\" fill-opacity=\"1\" /><path clip-path=\"url(#clip430)\" d=\"M 0 0 M846.925 1251.25 L846.925 1255.23 Q845.119 1254.23 843.29 1253.75 Q841.485 1253.24 839.633 1253.24 Q835.489 1253.24 833.198 1255.88 Q830.906 1258.49 830.906 1263.24 Q830.906 1267.98 833.198 1270.62 Q835.489 1273.24 839.633 1273.24 Q841.485 1273.24 843.29 1272.75 Q845.119 1272.24 846.925 1271.25 L846.925 1275.18 Q845.142 1276.01 843.221 1276.43 Q841.323 1276.85 839.17 1276.85 Q833.313 1276.85 829.864 1273.17 Q826.415 1269.49 826.415 1263.24 Q826.415 1256.89 829.888 1253.26 Q833.383 1249.63 839.448 1249.63 Q841.415 1249.63 843.29 1250.04 Q845.165 1250.44 846.925 1251.25 Z\" fill=\"#000000\" fill-rule=\"evenodd\" fill-opacity=\"1\" /><path clip-path=\"url(#clip430)\" d=\"M 0 0 M873.568 1262.15 L873.568 1264.23 L853.985 1264.23 Q854.262 1268.63 856.624 1270.94 Q859.008 1273.24 863.244 1273.24 Q865.698 1273.24 867.989 1272.63 Q870.304 1272.03 872.573 1270.83 L872.573 1274.86 Q870.281 1275.83 867.873 1276.34 Q865.466 1276.85 862.989 1276.85 Q856.786 1276.85 853.151 1273.24 Q849.54 1269.63 849.54 1263.47 Q849.54 1257.1 852.966 1253.38 Q856.415 1249.63 862.249 1249.63 Q867.48 1249.63 870.512 1253.01 Q873.568 1256.36 873.568 1262.15 M869.309 1260.9 Q869.262 1257.4 867.341 1255.32 Q865.443 1253.24 862.295 1253.24 Q858.73 1253.24 856.577 1255.25 Q854.448 1257.26 854.124 1260.92 L869.309 1260.9 Z\" fill=\"#000000\" fill-rule=\"evenodd\" fill-opacity=\"1\" /><path clip-path=\"url(#clip430)\" d=\"M 0 0 M899.586 1260.53 L899.586 1276.18 L895.327 1276.18 L895.327 1260.67 Q895.327 1256.99 893.892 1255.16 Q892.457 1253.33 889.586 1253.33 Q886.137 1253.33 884.147 1255.53 Q882.156 1257.73 882.156 1261.52 L882.156 1276.18 L877.873 1276.18 L877.873 1250.25 L882.156 1250.25 L882.156 1254.28 Q883.684 1251.94 885.744 1250.78 Q887.827 1249.63 890.535 1249.63 Q895.003 1249.63 897.295 1252.4 Q899.586 1255.16 899.586 1260.53 Z\" fill=\"#000000\" fill-rule=\"evenodd\" fill-opacity=\"1\" /><path clip-path=\"url(#clip430)\" d=\"M 0 0 M908.267 1242.89 L908.267 1250.25 L917.04 1250.25 L917.04 1253.56 L908.267 1253.56 L908.267 1267.63 Q908.267 1270.81 909.123 1271.71 Q910.003 1272.61 912.665 1272.61 L917.04 1272.61 L917.04 1276.18 L912.665 1276.18 Q907.734 1276.18 905.859 1274.35 Q903.984 1272.5 903.984 1267.63 L903.984 1253.56 L900.859 1253.56 L900.859 1250.25 L903.984 1250.25 L903.984 1242.89 L908.267 1242.89 Z\" fill=\"#000000\" fill-rule=\"evenodd\" fill-opacity=\"1\" /><path clip-path=\"url(#clip430)\" d=\"M 0 0 M953.637 1254.19 L953.637 1240.16 L957.896 1240.16 L957.896 1276.18 L953.637 1276.18 L953.637 1272.29 Q952.294 1274.6 950.234 1275.74 Q948.197 1276.85 945.327 1276.85 Q940.628 1276.85 937.665 1273.1 Q934.725 1269.35 934.725 1263.24 Q934.725 1257.13 937.665 1253.38 Q940.628 1249.63 945.327 1249.63 Q948.197 1249.63 950.234 1250.76 Q952.294 1251.87 953.637 1254.19 M939.123 1263.24 Q939.123 1267.94 941.044 1270.62 Q942.989 1273.28 946.368 1273.28 Q949.748 1273.28 951.692 1270.62 Q953.637 1267.94 953.637 1263.24 Q953.637 1258.54 951.692 1255.88 Q949.748 1253.19 946.368 1253.19 Q942.989 1253.19 941.044 1255.88 Q939.123 1258.54 939.123 1263.24 Z\" fill=\"#000000\" fill-rule=\"evenodd\" fill-opacity=\"1\" /><path clip-path=\"url(#clip430)\" d=\"M 0 0 M984.54 1262.15 L984.54 1264.23 L964.956 1264.23 Q965.234 1268.63 967.595 1270.94 Q969.979 1273.24 974.216 1273.24 Q976.669 1273.24 978.961 1272.63 Q981.276 1272.03 983.544 1270.83 L983.544 1274.86 Q981.253 1275.83 978.845 1276.34 Q976.438 1276.85 973.961 1276.85 Q967.757 1276.85 964.123 1273.24 Q960.512 1269.63 960.512 1263.47 Q960.512 1257.1 963.938 1253.38 Q967.387 1249.63 973.22 1249.63 Q978.452 1249.63 981.484 1253.01 Q984.54 1256.36 984.54 1262.15 M980.28 1260.9 Q980.234 1257.4 978.313 1255.32 Q976.415 1253.24 973.266 1253.24 Q969.702 1253.24 967.549 1255.25 Q965.419 1257.26 965.095 1260.92 L980.28 1260.9 Z\" fill=\"#000000\" fill-rule=\"evenodd\" fill-opacity=\"1\" /><path clip-path=\"url(#clip430)\" d=\"M 0 0 M1009.19 1255.23 Q1010.79 1252.36 1013.01 1250.99 Q1015.23 1249.63 1018.24 1249.63 Q1022.29 1249.63 1024.49 1252.47 Q1026.69 1255.3 1026.69 1260.53 L1026.69 1276.18 L1022.41 1276.18 L1022.41 1260.67 Q1022.41 1256.94 1021.09 1255.13 Q1019.77 1253.33 1017.06 1253.33 Q1013.75 1253.33 1011.83 1255.53 Q1009.91 1257.73 1009.91 1261.52 L1009.91 1276.18 L1005.63 1276.18 L1005.63 1260.67 Q1005.63 1256.92 1004.31 1255.13 Q1002.99 1253.33 1000.23 1253.33 Q996.97 1253.33 995.049 1255.55 Q993.127 1257.75 993.127 1261.52 L993.127 1276.18 L988.845 1276.18 L988.845 1250.25 L993.127 1250.25 L993.127 1254.28 Q994.586 1251.89 996.623 1250.76 Q998.66 1249.63 1001.46 1249.63 Q1004.28 1249.63 1006.25 1251.06 Q1008.24 1252.5 1009.19 1255.23 Z\" fill=\"#000000\" fill-rule=\"evenodd\" fill-opacity=\"1\" /><path clip-path=\"url(#clip430)\" d=\"M 0 0 M1041.21 1253.24 Q1037.78 1253.24 1035.79 1255.92 Q1033.8 1258.58 1033.8 1263.24 Q1033.8 1267.89 1035.77 1270.57 Q1037.76 1273.24 1041.21 1273.24 Q1044.61 1273.24 1046.6 1270.55 Q1048.59 1267.87 1048.59 1263.24 Q1048.59 1258.63 1046.6 1255.94 Q1044.61 1253.24 1041.21 1253.24 M1041.21 1249.63 Q1046.76 1249.63 1049.93 1253.24 Q1053.1 1256.85 1053.1 1263.24 Q1053.1 1269.6 1049.93 1273.24 Q1046.76 1276.85 1041.21 1276.85 Q1035.63 1276.85 1032.46 1273.24 Q1029.31 1269.6 1029.31 1263.24 Q1029.31 1256.85 1032.46 1253.24 Q1035.63 1249.63 1041.21 1249.63 Z\" fill=\"#000000\" fill-rule=\"evenodd\" fill-opacity=\"1\" /><path clip-path=\"url(#clip430)\" d=\"M 0 0 M1079.12 1260.53 L1079.12 1276.18 L1074.86 1276.18 L1074.86 1260.67 Q1074.86 1256.99 1073.43 1255.16 Q1071.99 1253.33 1069.12 1253.33 Q1065.67 1253.33 1063.68 1255.53 Q1061.69 1257.73 1061.69 1261.52 L1061.69 1276.18 L1057.41 1276.18 L1057.41 1250.25 L1061.69 1250.25 L1061.69 1254.28 Q1063.22 1251.94 1065.28 1250.78 Q1067.36 1249.63 1070.07 1249.63 Q1074.54 1249.63 1076.83 1252.4 Q1079.12 1255.16 1079.12 1260.53 Z\" fill=\"#000000\" fill-rule=\"evenodd\" fill-opacity=\"1\" /><path clip-path=\"url(#clip430)\" d=\"M 0 0 M1103.29 1284.05 L1103.29 1287.36 L1078.66 1287.36 L1078.66 1284.05 L1103.29 1284.05 Z\" fill=\"#000000\" fill-rule=\"evenodd\" fill-opacity=\"1\" /><path clip-path=\"url(#clip430)\" d=\"M 0 0 M1107.76 1240.16 L1112.02 1240.16 L1112.02 1276.18 L1107.76 1276.18 L1107.76 1240.16 Z\" fill=\"#000000\" fill-rule=\"evenodd\" fill-opacity=\"1\" /><path clip-path=\"url(#clip430)\" d=\"M 0 0 M1138.66 1262.15 L1138.66 1264.23 L1119.08 1264.23 Q1119.35 1268.63 1121.71 1270.94 Q1124.1 1273.24 1128.34 1273.24 Q1130.79 1273.24 1133.08 1272.63 Q1135.4 1272.03 1137.66 1270.83 L1137.66 1274.86 Q1135.37 1275.83 1132.96 1276.34 Q1130.56 1276.85 1128.08 1276.85 Q1121.88 1276.85 1118.24 1273.24 Q1114.63 1269.63 1114.63 1263.47 Q1114.63 1257.1 1118.06 1253.38 Q1121.51 1249.63 1127.34 1249.63 Q1132.57 1249.63 1135.6 1253.01 Q1138.66 1256.36 1138.66 1262.15 M1134.4 1260.9 Q1134.35 1257.4 1132.43 1255.32 Q1130.53 1253.24 1127.39 1253.24 Q1123.82 1253.24 1121.67 1255.25 Q1119.54 1257.26 1119.21 1260.92 L1134.4 1260.9 Z\" fill=\"#000000\" fill-rule=\"evenodd\" fill-opacity=\"1\" /><path clip-path=\"url(#clip430)\" d=\"M 0 0 M1154.91 1263.14 Q1149.75 1263.14 1147.76 1264.32 Q1145.77 1265.51 1145.77 1268.35 Q1145.77 1270.62 1147.25 1271.96 Q1148.75 1273.28 1151.32 1273.28 Q1154.86 1273.28 1156.99 1270.78 Q1159.15 1268.26 1159.15 1264.09 L1159.15 1263.14 L1154.91 1263.14 M1163.4 1261.38 L1163.4 1276.18 L1159.15 1276.18 L1159.15 1272.24 Q1157.69 1274.6 1155.51 1275.74 Q1153.33 1276.85 1150.19 1276.85 Q1146.21 1276.85 1143.84 1274.63 Q1141.51 1272.38 1141.51 1268.63 Q1141.51 1264.26 1144.42 1262.03 Q1147.36 1259.81 1153.17 1259.81 L1159.15 1259.81 L1159.15 1259.39 Q1159.15 1256.45 1157.2 1254.86 Q1155.28 1253.24 1151.78 1253.24 Q1149.56 1253.24 1147.46 1253.77 Q1145.35 1254.3 1143.4 1255.37 L1143.4 1251.43 Q1145.74 1250.53 1147.94 1250.09 Q1150.14 1249.63 1152.22 1249.63 Q1157.85 1249.63 1160.63 1252.54 Q1163.4 1255.46 1163.4 1261.38 Z\" fill=\"#000000\" fill-rule=\"evenodd\" fill-opacity=\"1\" /><path clip-path=\"url(#clip430)\" d=\"M 0 0 M1182.89 1254.23 Q1182.18 1253.82 1181.32 1253.63 Q1180.49 1253.42 1179.47 1253.42 Q1175.86 1253.42 1173.91 1255.78 Q1171.99 1258.12 1171.99 1262.52 L1171.99 1276.18 L1167.71 1276.18 L1167.71 1250.25 L1171.99 1250.25 L1171.99 1254.28 Q1173.33 1251.92 1175.49 1250.78 Q1177.64 1249.63 1180.72 1249.63 Q1181.16 1249.63 1181.69 1249.69 Q1182.22 1249.74 1182.87 1249.86 L1182.89 1254.23 Z\" fill=\"#000000\" fill-rule=\"evenodd\" fill-opacity=\"1\" /><path clip-path=\"url(#clip430)\" d=\"M 0 0 M1208.08 1260.53 L1208.08 1276.18 L1203.82 1276.18 L1203.82 1260.67 Q1203.82 1256.99 1202.39 1255.16 Q1200.95 1253.33 1198.08 1253.33 Q1194.63 1253.33 1192.64 1255.53 Q1190.65 1257.73 1190.65 1261.52 L1190.65 1276.18 L1186.37 1276.18 L1186.37 1250.25 L1190.65 1250.25 L1190.65 1254.28 Q1192.18 1251.94 1194.24 1250.78 Q1196.32 1249.63 1199.03 1249.63 Q1203.5 1249.63 1205.79 1252.4 Q1208.08 1255.16 1208.08 1260.53 Z\" fill=\"#000000\" fill-rule=\"evenodd\" fill-opacity=\"1\" /><path clip-path=\"url(#clip430)\" d=\"M 0 0 M1234.72 1262.15 L1234.72 1264.23 L1215.14 1264.23 Q1215.42 1268.63 1217.78 1270.94 Q1220.16 1273.24 1224.4 1273.24 Q1226.85 1273.24 1229.14 1272.63 Q1231.46 1272.03 1233.73 1270.83 L1233.73 1274.86 Q1231.44 1275.83 1229.03 1276.34 Q1226.62 1276.85 1224.14 1276.85 Q1217.94 1276.85 1214.31 1273.24 Q1210.7 1269.63 1210.7 1263.47 Q1210.7 1257.1 1214.12 1253.38 Q1217.57 1249.63 1223.4 1249.63 Q1228.64 1249.63 1231.67 1253.01 Q1234.72 1256.36 1234.72 1262.15 M1230.46 1260.9 Q1230.42 1257.4 1228.5 1255.32 Q1226.6 1253.24 1223.45 1253.24 Q1219.89 1253.24 1217.73 1255.25 Q1215.6 1257.26 1215.28 1260.92 L1230.46 1260.9 Z\" fill=\"#000000\" fill-rule=\"evenodd\" fill-opacity=\"1\" /><path clip-path=\"url(#clip430)\" d=\"M 0 0 M1254.21 1254.23 Q1253.5 1253.82 1252.64 1253.63 Q1251.81 1253.42 1250.79 1253.42 Q1247.18 1253.42 1245.23 1255.78 Q1243.31 1258.12 1243.31 1262.52 L1243.31 1276.18 L1239.03 1276.18 L1239.03 1250.25 L1243.31 1250.25 L1243.31 1254.28 Q1244.65 1251.92 1246.81 1250.78 Q1248.96 1249.63 1252.04 1249.63 Q1252.48 1249.63 1253.01 1249.69 Q1253.54 1249.74 1254.19 1249.86 L1254.21 1254.23 Z\" fill=\"#000000\" fill-rule=\"evenodd\" fill-opacity=\"1\" /><path clip-path=\"url(#clip430)\" d=\"M 0 0 M1258.94 1270.3 L1263.82 1270.3 L1263.82 1276.18 L1258.94 1276.18 L1258.94 1270.3 M1258.94 1251.66 L1263.82 1251.66 L1263.82 1257.54 L1258.94 1257.54 L1258.94 1251.66 Z\" fill=\"#000000\" fill-rule=\"evenodd\" fill-opacity=\"1\" /><path clip-path=\"url(#clip430)\" d=\"M 0 0 M1282.5 1244.79 Q1277.41 1244.79 1274.4 1248.58 Q1271.41 1252.38 1271.41 1258.93 Q1271.41 1265.46 1274.4 1269.25 Q1277.41 1273.05 1282.5 1273.05 Q1287.59 1273.05 1290.56 1269.25 Q1293.54 1265.46 1293.54 1258.93 Q1293.54 1252.38 1290.56 1248.58 Q1287.59 1244.79 1282.5 1244.79 M1289.05 1275.55 L1295.21 1282.29 L1289.56 1282.29 L1284.45 1276.75 Q1283.68 1276.8 1283.26 1276.82 Q1282.87 1276.85 1282.5 1276.85 Q1275.21 1276.85 1270.83 1271.99 Q1266.48 1267.1 1266.48 1258.93 Q1266.48 1250.74 1270.83 1245.88 Q1275.21 1240.99 1282.5 1240.99 Q1289.77 1240.99 1294.12 1245.88 Q1298.47 1250.74 1298.47 1258.93 Q1298.47 1264.95 1296.04 1269.23 Q1293.64 1273.51 1289.05 1275.55 Z\" fill=\"#000000\" fill-rule=\"evenodd\" fill-opacity=\"1\" /><polyline clip-path=\"url(#clip430)\" style=\"stroke:#c271d2; stroke-width:4; stroke-opacity:1; fill:none\" points=\"\n",
       "  306.455,1319.38 449.22,1319.38 \n",
       "  \"/>\n",
       "<path clip-path=\"url(#clip430)\" d=\"M 0 0 M509.612 1314.67 L509.612 1300.64 L513.871 1300.64 L513.871 1336.66 L509.612 1336.66 L509.612 1332.77 Q508.269 1335.08 506.209 1336.22 Q504.172 1337.33 501.301 1337.33 Q496.602 1337.33 493.639 1333.58 Q490.7 1329.83 490.7 1323.72 Q490.7 1317.61 493.639 1313.86 Q496.602 1310.11 501.301 1310.11 Q504.172 1310.11 506.209 1311.24 Q508.269 1312.35 509.612 1314.67 M495.098 1323.72 Q495.098 1328.42 497.019 1331.1 Q498.963 1333.76 502.343 1333.76 Q505.723 1333.76 507.667 1331.1 Q509.612 1328.42 509.612 1323.72 Q509.612 1319.02 507.667 1316.36 Q505.723 1313.67 502.343 1313.67 Q498.963 1313.67 497.019 1316.36 Q495.098 1319.02 495.098 1323.72 Z\" fill=\"#000000\" fill-rule=\"evenodd\" fill-opacity=\"1\" /><path clip-path=\"url(#clip430)\" d=\"M 0 0 M540.514 1322.63 L540.514 1324.71 L520.931 1324.71 Q521.209 1329.11 523.57 1331.42 Q525.954 1333.72 530.19 1333.72 Q532.644 1333.72 534.935 1333.11 Q537.25 1332.51 539.519 1331.31 L539.519 1335.34 Q537.227 1336.31 534.82 1336.82 Q532.412 1337.33 529.935 1337.33 Q523.732 1337.33 520.098 1333.72 Q516.486 1330.11 516.486 1323.95 Q516.486 1317.58 519.912 1313.86 Q523.361 1310.11 529.195 1310.11 Q534.426 1310.11 537.459 1313.49 Q540.514 1316.84 540.514 1322.63 M536.255 1321.38 Q536.209 1317.88 534.287 1315.8 Q532.389 1313.72 529.241 1313.72 Q525.676 1313.72 523.523 1315.73 Q521.394 1317.74 521.07 1321.4 L536.255 1321.38 Z\" fill=\"#000000\" fill-rule=\"evenodd\" fill-opacity=\"1\" /><path clip-path=\"url(#clip430)\" d=\"M 0 0 M565.167 1315.71 Q566.764 1312.84 568.986 1311.47 Q571.208 1310.11 574.218 1310.11 Q578.269 1310.11 580.468 1312.95 Q582.667 1315.78 582.667 1321.01 L582.667 1336.66 L578.384 1336.66 L578.384 1321.15 Q578.384 1317.42 577.065 1315.61 Q575.745 1313.81 573.037 1313.81 Q569.727 1313.81 567.806 1316.01 Q565.884 1318.21 565.884 1322 L565.884 1336.66 L561.602 1336.66 L561.602 1321.15 Q561.602 1317.4 560.283 1315.61 Q558.963 1313.81 556.208 1313.81 Q552.945 1313.81 551.023 1316.03 Q549.102 1318.23 549.102 1322 L549.102 1336.66 L544.82 1336.66 L544.82 1310.73 L549.102 1310.73 L549.102 1314.76 Q550.56 1312.37 552.597 1311.24 Q554.634 1310.11 557.435 1310.11 Q560.259 1310.11 562.227 1311.54 Q564.218 1312.98 565.167 1315.71 Z\" fill=\"#000000\" fill-rule=\"evenodd\" fill-opacity=\"1\" /><path clip-path=\"url(#clip430)\" d=\"M 0 0 M597.18 1313.72 Q593.755 1313.72 591.764 1316.4 Q589.773 1319.06 589.773 1323.72 Q589.773 1328.37 591.741 1331.05 Q593.731 1333.72 597.18 1333.72 Q600.583 1333.72 602.574 1331.03 Q604.565 1328.35 604.565 1323.72 Q604.565 1319.11 602.574 1316.42 Q600.583 1313.72 597.18 1313.72 M597.18 1310.11 Q602.736 1310.11 605.907 1313.72 Q609.079 1317.33 609.079 1323.72 Q609.079 1330.08 605.907 1333.72 Q602.736 1337.33 597.18 1337.33 Q591.602 1337.33 588.431 1333.72 Q585.282 1330.08 585.282 1323.72 Q585.282 1317.33 588.431 1313.72 Q591.602 1310.11 597.18 1310.11 Z\" fill=\"#000000\" fill-rule=\"evenodd\" fill-opacity=\"1\" /><path clip-path=\"url(#clip430)\" d=\"M 0 0 M635.097 1321.01 L635.097 1336.66 L630.838 1336.66 L630.838 1321.15 Q630.838 1317.47 629.403 1315.64 Q627.967 1313.81 625.097 1313.81 Q621.648 1313.81 619.657 1316.01 Q617.666 1318.21 617.666 1322 L617.666 1336.66 L613.384 1336.66 L613.384 1310.73 L617.666 1310.73 L617.666 1314.76 Q619.194 1312.42 621.254 1311.26 Q623.338 1310.11 626.046 1310.11 Q630.514 1310.11 632.805 1312.88 Q635.097 1315.64 635.097 1321.01 Z\" fill=\"#000000\" fill-rule=\"evenodd\" fill-opacity=\"1\" /><path clip-path=\"url(#clip430)\" d=\"M 0 0 M659.263 1344.53 L659.263 1347.84 L634.634 1347.84 L634.634 1344.53 L659.263 1344.53 Z\" fill=\"#000000\" fill-rule=\"evenodd\" fill-opacity=\"1\" /><path clip-path=\"url(#clip430)\" d=\"M 0 0 M673.777 1313.72 Q670.351 1313.72 668.361 1316.4 Q666.37 1319.06 666.37 1323.72 Q666.37 1328.37 668.338 1331.05 Q670.328 1333.72 673.777 1333.72 Q677.18 1333.72 679.171 1331.03 Q681.162 1328.35 681.162 1323.72 Q681.162 1319.11 679.171 1316.42 Q677.18 1313.72 673.777 1313.72 M673.777 1310.11 Q679.333 1310.11 682.504 1313.72 Q685.675 1317.33 685.675 1323.72 Q685.675 1330.08 682.504 1333.72 Q679.333 1337.33 673.777 1337.33 Q668.199 1337.33 665.027 1333.72 Q661.879 1330.08 661.879 1323.72 Q661.879 1317.33 665.027 1313.72 Q668.199 1310.11 673.777 1310.11 Z\" fill=\"#000000\" fill-rule=\"evenodd\" fill-opacity=\"1\" /><path clip-path=\"url(#clip430)\" d=\"M 0 0 M694.263 1332.77 L694.263 1346.52 L689.981 1346.52 L689.981 1310.73 L694.263 1310.73 L694.263 1314.67 Q695.606 1312.35 697.643 1311.24 Q699.703 1310.11 702.55 1310.11 Q707.272 1310.11 710.212 1313.86 Q713.175 1317.61 713.175 1323.72 Q713.175 1329.83 710.212 1333.58 Q707.272 1337.33 702.55 1337.33 Q699.703 1337.33 697.643 1336.22 Q695.606 1335.08 694.263 1332.77 M708.754 1323.72 Q708.754 1319.02 706.81 1316.36 Q704.888 1313.67 701.509 1313.67 Q698.129 1313.67 696.185 1316.36 Q694.263 1319.02 694.263 1323.72 Q694.263 1328.42 696.185 1331.1 Q698.129 1333.76 701.509 1333.76 Q704.888 1333.76 706.81 1331.1 Q708.754 1328.42 708.754 1323.72 Z\" fill=\"#000000\" fill-rule=\"evenodd\" fill-opacity=\"1\" /><path clip-path=\"url(#clip430)\" d=\"M 0 0 M721.856 1303.37 L721.856 1310.73 L730.629 1310.73 L730.629 1314.04 L721.856 1314.04 L721.856 1328.11 Q721.856 1331.29 722.712 1332.19 Q723.592 1333.09 726.254 1333.09 L730.629 1333.09 L730.629 1336.66 L726.254 1336.66 Q721.323 1336.66 719.448 1334.83 Q717.573 1332.98 717.573 1328.11 L717.573 1314.04 L714.448 1314.04 L714.448 1310.73 L717.573 1310.73 L717.573 1303.37 L721.856 1303.37 Z\" fill=\"#000000\" fill-rule=\"evenodd\" fill-opacity=\"1\" /><path clip-path=\"url(#clip430)\" d=\"M 0 0 M736.184 1330.78 L741.069 1330.78 L741.069 1336.66 L736.184 1336.66 L736.184 1330.78 M736.184 1312.14 L741.069 1312.14 L741.069 1318.02 L736.184 1318.02 L736.184 1312.14 Z\" fill=\"#000000\" fill-rule=\"evenodd\" fill-opacity=\"1\" /><path clip-path=\"url(#clip430)\" d=\"M 0 0 M750.397 1305.94 L750.397 1332.81 L756.045 1332.81 Q763.198 1332.81 766.508 1329.57 Q769.842 1326.33 769.842 1319.34 Q769.842 1312.4 766.508 1309.18 Q763.198 1305.94 756.045 1305.94 L750.397 1305.94 M745.721 1302.1 L755.328 1302.1 Q765.374 1302.1 770.073 1306.29 Q774.772 1310.45 774.772 1319.34 Q774.772 1328.28 770.05 1332.47 Q765.328 1336.66 755.328 1336.66 L745.721 1336.66 L745.721 1302.1 Z\" fill=\"#000000\" fill-rule=\"evenodd\" fill-opacity=\"1\" /><path clip-path=\"url(#clip430)\" d=\"M 0 0 M801.416 1322.63 L801.416 1324.71 L781.832 1324.71 Q782.11 1329.11 784.471 1331.42 Q786.855 1333.72 791.091 1333.72 Q793.545 1333.72 795.837 1333.11 Q798.152 1332.51 800.42 1331.31 L800.42 1335.34 Q798.128 1336.31 795.721 1336.82 Q793.314 1337.33 790.837 1337.33 Q784.633 1337.33 780.999 1333.72 Q777.388 1330.11 777.388 1323.95 Q777.388 1317.58 780.814 1313.86 Q784.263 1310.11 790.096 1310.11 Q795.328 1310.11 798.36 1313.49 Q801.416 1316.84 801.416 1322.63 M797.156 1321.38 Q797.11 1317.88 795.189 1315.8 Q793.291 1313.72 790.142 1313.72 Q786.578 1313.72 784.425 1315.73 Q782.295 1317.74 781.971 1321.4 L797.156 1321.38 Z\" fill=\"#000000\" fill-rule=\"evenodd\" fill-opacity=\"1\" /><path clip-path=\"url(#clip430)\" d=\"M 0 0 M822.411 1311.49 L822.411 1315.52 Q820.605 1314.6 818.661 1314.13 Q816.716 1313.67 814.633 1313.67 Q811.462 1313.67 809.865 1314.64 Q808.29 1315.61 808.29 1317.56 Q808.29 1319.04 809.425 1319.9 Q810.559 1320.73 813.985 1321.49 L815.443 1321.82 Q819.98 1322.79 821.878 1324.57 Q823.8 1326.33 823.8 1329.5 Q823.8 1333.11 820.929 1335.22 Q818.082 1337.33 813.082 1337.33 Q810.999 1337.33 808.73 1336.91 Q806.485 1336.52 803.985 1335.71 L803.985 1331.31 Q806.346 1332.54 808.638 1333.16 Q810.929 1333.76 813.175 1333.76 Q816.184 1333.76 817.804 1332.74 Q819.425 1331.7 819.425 1329.83 Q819.425 1328.09 818.244 1327.17 Q817.087 1326.24 813.128 1325.38 L811.647 1325.04 Q807.689 1324.2 805.929 1322.49 Q804.17 1320.75 804.17 1317.74 Q804.17 1314.09 806.763 1312.1 Q809.355 1310.11 814.124 1310.11 Q816.485 1310.11 818.568 1310.45 Q820.652 1310.8 822.411 1311.49 Z\" fill=\"#000000\" fill-rule=\"evenodd\" fill-opacity=\"1\" /><path clip-path=\"url(#clip430)\" d=\"M 0 0 M846.925 1311.73 L846.925 1315.71 Q845.119 1314.71 843.29 1314.23 Q841.485 1313.72 839.633 1313.72 Q835.489 1313.72 833.198 1316.36 Q830.906 1318.97 830.906 1323.72 Q830.906 1328.46 833.198 1331.1 Q835.489 1333.72 839.633 1333.72 Q841.485 1333.72 843.29 1333.23 Q845.119 1332.72 846.925 1331.73 L846.925 1335.66 Q845.142 1336.49 843.221 1336.91 Q841.323 1337.33 839.17 1337.33 Q833.313 1337.33 829.864 1333.65 Q826.415 1329.97 826.415 1323.72 Q826.415 1317.37 829.888 1313.74 Q833.383 1310.11 839.448 1310.11 Q841.415 1310.11 843.29 1310.52 Q845.165 1310.92 846.925 1311.73 Z\" fill=\"#000000\" fill-rule=\"evenodd\" fill-opacity=\"1\" /><path clip-path=\"url(#clip430)\" d=\"M 0 0 M873.568 1322.63 L873.568 1324.71 L853.985 1324.71 Q854.262 1329.11 856.624 1331.42 Q859.008 1333.72 863.244 1333.72 Q865.698 1333.72 867.989 1333.11 Q870.304 1332.51 872.573 1331.31 L872.573 1335.34 Q870.281 1336.31 867.873 1336.82 Q865.466 1337.33 862.989 1337.33 Q856.786 1337.33 853.151 1333.72 Q849.54 1330.11 849.54 1323.95 Q849.54 1317.58 852.966 1313.86 Q856.415 1310.11 862.249 1310.11 Q867.48 1310.11 870.512 1313.49 Q873.568 1316.84 873.568 1322.63 M869.309 1321.38 Q869.262 1317.88 867.341 1315.8 Q865.443 1313.72 862.295 1313.72 Q858.73 1313.72 856.577 1315.73 Q854.448 1317.74 854.124 1321.4 L869.309 1321.38 Z\" fill=\"#000000\" fill-rule=\"evenodd\" fill-opacity=\"1\" /><path clip-path=\"url(#clip430)\" d=\"M 0 0 M899.586 1321.01 L899.586 1336.66 L895.327 1336.66 L895.327 1321.15 Q895.327 1317.47 893.892 1315.64 Q892.457 1313.81 889.586 1313.81 Q886.137 1313.81 884.147 1316.01 Q882.156 1318.21 882.156 1322 L882.156 1336.66 L877.873 1336.66 L877.873 1310.73 L882.156 1310.73 L882.156 1314.76 Q883.684 1312.42 885.744 1311.26 Q887.827 1310.11 890.535 1310.11 Q895.003 1310.11 897.295 1312.88 Q899.586 1315.64 899.586 1321.01 Z\" fill=\"#000000\" fill-rule=\"evenodd\" fill-opacity=\"1\" /><path clip-path=\"url(#clip430)\" d=\"M 0 0 M908.267 1303.37 L908.267 1310.73 L917.04 1310.73 L917.04 1314.04 L908.267 1314.04 L908.267 1328.11 Q908.267 1331.29 909.123 1332.19 Q910.003 1333.09 912.665 1333.09 L917.04 1333.09 L917.04 1336.66 L912.665 1336.66 Q907.734 1336.66 905.859 1334.83 Q903.984 1332.98 903.984 1328.11 L903.984 1314.04 L900.859 1314.04 L900.859 1310.73 L903.984 1310.73 L903.984 1303.37 L908.267 1303.37 Z\" fill=\"#000000\" fill-rule=\"evenodd\" fill-opacity=\"1\" /><path clip-path=\"url(#clip430)\" d=\"M 0 0 M953.637 1314.67 L953.637 1300.64 L957.896 1300.64 L957.896 1336.66 L953.637 1336.66 L953.637 1332.77 Q952.294 1335.08 950.234 1336.22 Q948.197 1337.33 945.327 1337.33 Q940.628 1337.33 937.665 1333.58 Q934.725 1329.83 934.725 1323.72 Q934.725 1317.61 937.665 1313.86 Q940.628 1310.11 945.327 1310.11 Q948.197 1310.11 950.234 1311.24 Q952.294 1312.35 953.637 1314.67 M939.123 1323.72 Q939.123 1328.42 941.044 1331.1 Q942.989 1333.76 946.368 1333.76 Q949.748 1333.76 951.692 1331.1 Q953.637 1328.42 953.637 1323.72 Q953.637 1319.02 951.692 1316.36 Q949.748 1313.67 946.368 1313.67 Q942.989 1313.67 941.044 1316.36 Q939.123 1319.02 939.123 1323.72 Z\" fill=\"#000000\" fill-rule=\"evenodd\" fill-opacity=\"1\" /><path clip-path=\"url(#clip430)\" d=\"M 0 0 M984.54 1322.63 L984.54 1324.71 L964.956 1324.71 Q965.234 1329.11 967.595 1331.42 Q969.979 1333.72 974.216 1333.72 Q976.669 1333.72 978.961 1333.11 Q981.276 1332.51 983.544 1331.31 L983.544 1335.34 Q981.253 1336.31 978.845 1336.82 Q976.438 1337.33 973.961 1337.33 Q967.757 1337.33 964.123 1333.72 Q960.512 1330.11 960.512 1323.95 Q960.512 1317.58 963.938 1313.86 Q967.387 1310.11 973.22 1310.11 Q978.452 1310.11 981.484 1313.49 Q984.54 1316.84 984.54 1322.63 M980.28 1321.38 Q980.234 1317.88 978.313 1315.8 Q976.415 1313.72 973.266 1313.72 Q969.702 1313.72 967.549 1315.73 Q965.419 1317.74 965.095 1321.4 L980.28 1321.38 Z\" fill=\"#000000\" fill-rule=\"evenodd\" fill-opacity=\"1\" /><path clip-path=\"url(#clip430)\" d=\"M 0 0 M1009.19 1315.71 Q1010.79 1312.84 1013.01 1311.47 Q1015.23 1310.11 1018.24 1310.11 Q1022.29 1310.11 1024.49 1312.95 Q1026.69 1315.78 1026.69 1321.01 L1026.69 1336.66 L1022.41 1336.66 L1022.41 1321.15 Q1022.41 1317.42 1021.09 1315.61 Q1019.77 1313.81 1017.06 1313.81 Q1013.75 1313.81 1011.83 1316.01 Q1009.91 1318.21 1009.91 1322 L1009.91 1336.66 L1005.63 1336.66 L1005.63 1321.15 Q1005.63 1317.4 1004.31 1315.61 Q1002.99 1313.81 1000.23 1313.81 Q996.97 1313.81 995.049 1316.03 Q993.127 1318.23 993.127 1322 L993.127 1336.66 L988.845 1336.66 L988.845 1310.73 L993.127 1310.73 L993.127 1314.76 Q994.586 1312.37 996.623 1311.24 Q998.66 1310.11 1001.46 1310.11 Q1004.28 1310.11 1006.25 1311.54 Q1008.24 1312.98 1009.19 1315.71 Z\" fill=\"#000000\" fill-rule=\"evenodd\" fill-opacity=\"1\" /><path clip-path=\"url(#clip430)\" d=\"M 0 0 M1041.21 1313.72 Q1037.78 1313.72 1035.79 1316.4 Q1033.8 1319.06 1033.8 1323.72 Q1033.8 1328.37 1035.77 1331.05 Q1037.76 1333.72 1041.21 1333.72 Q1044.61 1333.72 1046.6 1331.03 Q1048.59 1328.35 1048.59 1323.72 Q1048.59 1319.11 1046.6 1316.42 Q1044.61 1313.72 1041.21 1313.72 M1041.21 1310.11 Q1046.76 1310.11 1049.93 1313.72 Q1053.1 1317.33 1053.1 1323.72 Q1053.1 1330.08 1049.93 1333.72 Q1046.76 1337.33 1041.21 1337.33 Q1035.63 1337.33 1032.46 1333.72 Q1029.31 1330.08 1029.31 1323.72 Q1029.31 1317.33 1032.46 1313.72 Q1035.63 1310.11 1041.21 1310.11 Z\" fill=\"#000000\" fill-rule=\"evenodd\" fill-opacity=\"1\" /><path clip-path=\"url(#clip430)\" d=\"M 0 0 M1079.12 1321.01 L1079.12 1336.66 L1074.86 1336.66 L1074.86 1321.15 Q1074.86 1317.47 1073.43 1315.64 Q1071.99 1313.81 1069.12 1313.81 Q1065.67 1313.81 1063.68 1316.01 Q1061.69 1318.21 1061.69 1322 L1061.69 1336.66 L1057.41 1336.66 L1057.41 1310.73 L1061.69 1310.73 L1061.69 1314.76 Q1063.22 1312.42 1065.28 1311.26 Q1067.36 1310.11 1070.07 1310.11 Q1074.54 1310.11 1076.83 1312.88 Q1079.12 1315.64 1079.12 1321.01 Z\" fill=\"#000000\" fill-rule=\"evenodd\" fill-opacity=\"1\" /><path clip-path=\"url(#clip430)\" d=\"M 0 0 M1103.29 1344.53 L1103.29 1347.84 L1078.66 1347.84 L1078.66 1344.53 L1103.29 1344.53 Z\" fill=\"#000000\" fill-rule=\"evenodd\" fill-opacity=\"1\" /><path clip-path=\"url(#clip430)\" d=\"M 0 0 M1107.76 1300.64 L1112.02 1300.64 L1112.02 1336.66 L1107.76 1336.66 L1107.76 1300.64 Z\" fill=\"#000000\" fill-rule=\"evenodd\" fill-opacity=\"1\" /><path clip-path=\"url(#clip430)\" d=\"M 0 0 M1138.66 1322.63 L1138.66 1324.71 L1119.08 1324.71 Q1119.35 1329.11 1121.71 1331.42 Q1124.1 1333.72 1128.34 1333.72 Q1130.79 1333.72 1133.08 1333.11 Q1135.4 1332.51 1137.66 1331.31 L1137.66 1335.34 Q1135.37 1336.31 1132.96 1336.82 Q1130.56 1337.33 1128.08 1337.33 Q1121.88 1337.33 1118.24 1333.72 Q1114.63 1330.11 1114.63 1323.95 Q1114.63 1317.58 1118.06 1313.86 Q1121.51 1310.11 1127.34 1310.11 Q1132.57 1310.11 1135.6 1313.49 Q1138.66 1316.84 1138.66 1322.63 M1134.4 1321.38 Q1134.35 1317.88 1132.43 1315.8 Q1130.53 1313.72 1127.39 1313.72 Q1123.82 1313.72 1121.67 1315.73 Q1119.54 1317.74 1119.21 1321.4 L1134.4 1321.38 Z\" fill=\"#000000\" fill-rule=\"evenodd\" fill-opacity=\"1\" /><path clip-path=\"url(#clip430)\" d=\"M 0 0 M1154.91 1323.62 Q1149.75 1323.62 1147.76 1324.8 Q1145.77 1325.99 1145.77 1328.83 Q1145.77 1331.1 1147.25 1332.44 Q1148.75 1333.76 1151.32 1333.76 Q1154.86 1333.76 1156.99 1331.26 Q1159.15 1328.74 1159.15 1324.57 L1159.15 1323.62 L1154.91 1323.62 M1163.4 1321.86 L1163.4 1336.66 L1159.15 1336.66 L1159.15 1332.72 Q1157.69 1335.08 1155.51 1336.22 Q1153.33 1337.33 1150.19 1337.33 Q1146.21 1337.33 1143.84 1335.11 Q1141.51 1332.86 1141.51 1329.11 Q1141.51 1324.74 1144.42 1322.51 Q1147.36 1320.29 1153.17 1320.29 L1159.15 1320.29 L1159.15 1319.87 Q1159.15 1316.93 1157.2 1315.34 Q1155.28 1313.72 1151.78 1313.72 Q1149.56 1313.72 1147.46 1314.25 Q1145.35 1314.78 1143.4 1315.85 L1143.4 1311.91 Q1145.74 1311.01 1147.94 1310.57 Q1150.14 1310.11 1152.22 1310.11 Q1157.85 1310.11 1160.63 1313.02 Q1163.4 1315.94 1163.4 1321.86 Z\" fill=\"#000000\" fill-rule=\"evenodd\" fill-opacity=\"1\" /><path clip-path=\"url(#clip430)\" d=\"M 0 0 M1182.89 1314.71 Q1182.18 1314.3 1181.32 1314.11 Q1180.49 1313.9 1179.47 1313.9 Q1175.86 1313.9 1173.91 1316.26 Q1171.99 1318.6 1171.99 1323 L1171.99 1336.66 L1167.71 1336.66 L1167.71 1310.73 L1171.99 1310.73 L1171.99 1314.76 Q1173.33 1312.4 1175.49 1311.26 Q1177.64 1310.11 1180.72 1310.11 Q1181.16 1310.11 1181.69 1310.17 Q1182.22 1310.22 1182.87 1310.34 L1182.89 1314.71 Z\" fill=\"#000000\" fill-rule=\"evenodd\" fill-opacity=\"1\" /><path clip-path=\"url(#clip430)\" d=\"M 0 0 M1208.08 1321.01 L1208.08 1336.66 L1203.82 1336.66 L1203.82 1321.15 Q1203.82 1317.47 1202.39 1315.64 Q1200.95 1313.81 1198.08 1313.81 Q1194.63 1313.81 1192.64 1316.01 Q1190.65 1318.21 1190.65 1322 L1190.65 1336.66 L1186.37 1336.66 L1186.37 1310.73 L1190.65 1310.73 L1190.65 1314.76 Q1192.18 1312.42 1194.24 1311.26 Q1196.32 1310.11 1199.03 1310.11 Q1203.5 1310.11 1205.79 1312.88 Q1208.08 1315.64 1208.08 1321.01 Z\" fill=\"#000000\" fill-rule=\"evenodd\" fill-opacity=\"1\" /><path clip-path=\"url(#clip430)\" d=\"M 0 0 M1234.72 1322.63 L1234.72 1324.71 L1215.14 1324.71 Q1215.42 1329.11 1217.78 1331.42 Q1220.16 1333.72 1224.4 1333.72 Q1226.85 1333.72 1229.14 1333.11 Q1231.46 1332.51 1233.73 1331.31 L1233.73 1335.34 Q1231.44 1336.31 1229.03 1336.82 Q1226.62 1337.33 1224.14 1337.33 Q1217.94 1337.33 1214.31 1333.72 Q1210.7 1330.11 1210.7 1323.95 Q1210.7 1317.58 1214.12 1313.86 Q1217.57 1310.11 1223.4 1310.11 Q1228.64 1310.11 1231.67 1313.49 Q1234.72 1316.84 1234.72 1322.63 M1230.46 1321.38 Q1230.42 1317.88 1228.5 1315.8 Q1226.6 1313.72 1223.45 1313.72 Q1219.89 1313.72 1217.73 1315.73 Q1215.6 1317.74 1215.28 1321.4 L1230.46 1321.38 Z\" fill=\"#000000\" fill-rule=\"evenodd\" fill-opacity=\"1\" /><path clip-path=\"url(#clip430)\" d=\"M 0 0 M1254.21 1314.71 Q1253.5 1314.3 1252.64 1314.11 Q1251.81 1313.9 1250.79 1313.9 Q1247.18 1313.9 1245.23 1316.26 Q1243.31 1318.6 1243.31 1323 L1243.31 1336.66 L1239.03 1336.66 L1239.03 1310.73 L1243.31 1310.73 L1243.31 1314.76 Q1244.65 1312.4 1246.81 1311.26 Q1248.96 1310.11 1252.04 1310.11 Q1252.48 1310.11 1253.01 1310.17 Q1253.54 1310.22 1254.19 1310.34 L1254.21 1314.71 Z\" fill=\"#000000\" fill-rule=\"evenodd\" fill-opacity=\"1\" /><path clip-path=\"url(#clip430)\" d=\"M 0 0 M1258.94 1330.78 L1263.82 1330.78 L1263.82 1336.66 L1258.94 1336.66 L1258.94 1330.78 M1258.94 1312.14 L1263.82 1312.14 L1263.82 1318.02 L1258.94 1318.02 L1258.94 1312.14 Z\" fill=\"#000000\" fill-rule=\"evenodd\" fill-opacity=\"1\" /><path clip-path=\"url(#clip430)\" d=\"M 0 0 M1289.19 1303.23 L1289.19 1307.79 Q1286.53 1306.52 1284.17 1305.89 Q1281.81 1305.27 1279.61 1305.27 Q1275.79 1305.27 1273.7 1306.75 Q1271.64 1308.23 1271.64 1310.96 Q1271.64 1313.25 1273.01 1314.43 Q1274.4 1315.59 1278.24 1316.31 L1281.07 1316.89 Q1286.3 1317.88 1288.77 1320.41 Q1291.27 1322.91 1291.27 1327.12 Q1291.27 1332.14 1287.89 1334.73 Q1284.54 1337.33 1278.03 1337.33 Q1275.58 1337.33 1272.8 1336.77 Q1270.05 1336.22 1267.08 1335.13 L1267.08 1330.31 Q1269.93 1331.91 1272.66 1332.72 Q1275.39 1333.53 1278.03 1333.53 Q1282.04 1333.53 1284.21 1331.96 Q1286.39 1330.38 1286.39 1327.47 Q1286.39 1324.92 1284.82 1323.49 Q1283.26 1322.05 1279.7 1321.33 L1276.85 1320.78 Q1271.62 1319.74 1269.28 1317.51 Q1266.95 1315.29 1266.95 1311.33 Q1266.95 1306.75 1270.16 1304.11 Q1273.4 1301.47 1279.07 1301.47 Q1281.51 1301.47 1284.03 1301.91 Q1286.55 1302.35 1289.19 1303.23 Z\" fill=\"#000000\" fill-rule=\"evenodd\" fill-opacity=\"1\" /><path clip-path=\"url(#clip430)\" d=\"M 0 0 M1312.32 1320.45 Q1313.82 1320.96 1315.23 1322.63 Q1316.67 1324.3 1318.1 1327.21 L1322.85 1336.66 L1317.82 1336.66 L1313.4 1327.79 Q1311.69 1324.32 1310.07 1323.18 Q1308.47 1322.05 1305.7 1322.05 L1300.6 1322.05 L1300.6 1336.66 L1295.93 1336.66 L1295.93 1302.1 L1306.48 1302.1 Q1312.41 1302.1 1315.32 1304.57 Q1318.24 1307.05 1318.24 1312.05 Q1318.24 1315.31 1316.71 1317.47 Q1315.21 1319.62 1312.32 1320.45 M1300.6 1305.94 L1300.6 1318.21 L1306.48 1318.21 Q1309.86 1318.21 1311.57 1316.66 Q1313.31 1315.08 1313.31 1312.05 Q1313.31 1309.02 1311.57 1307.49 Q1309.86 1305.94 1306.48 1305.94 L1300.6 1305.94 Z\" fill=\"#000000\" fill-rule=\"evenodd\" fill-opacity=\"1\" /></svg>\n"
      ]
     },
     "metadata": {},
     "output_type": "display_data"
    }
   ],
   "source": [
    "# plot_mc_errors(data, labels,step_increment = 50,data_std=data_std, title=\"For TB Demon Learners in TMaze Round Robin\")\n",
    "plot_mc_errors(data, labels, step_increment = 50, title=\"ESARSA on Tabular TMaze\")\n"
   ]
  },
  {
   "cell_type": "code",
   "execution_count": 453,
   "metadata": {},
   "outputs": [],
   "source": [
    "savefig(\"./plots/TTMazeUniformESARSA_RMSE.png\")"
   ]
  },
  {
   "cell_type": "code",
   "execution_count": 450,
   "metadata": {},
   "outputs": [
    {
     "data": {
      "text/plain": [
       "4-element Array{Array{Float64,2},1}:\n",
       " [0.5520822204001656 0.5497814444982234 … 0.17484386866692048 0.17749730815245984; 0.5491595551069601 0.5424885178455242 … 0.00017926098881897287 0.00016590007170576453; 0.926323625956116 1.2416974345698044 … 6.613020107494417 6.488003466242558; 0.547875895522213 0.5425308537263549 … 0.0003322136735181437 0.0003214421009501081]\n",
       " [0.5536539954213822 0.5505933931763676 … 0.08873338896811223 0.08281738148009561; 0.5495497057485071 0.5470705267647933 … 0.0006751403588986714 0.000671108959866211; 0.9677518680117402 0.996191123255372 … 1.1784674606088497 0.8448578610491886; 0.5513526469299727 0.5459279548006574 … 7.68827457557799e-5 7.647563480804847e-5]\n",
       " [0.5503000910170782 0.5458120524248313 … 0.503996569398357 0.5147644288091395; 0.5471273950644627 0.5365717508148056 … 0.0 0.0; 0.9281133908054204 1.2656688563643639 … 5.0896230675755465 4.937582296220635; 0.543861628624682 0.5339593553637961 … 0.0 0.0]\n",
       " [0.5536539954213822 0.5523349766050532 … 0.5286370117272139 0.42301405937189085; 0.5497666439951989 0.5479684634818519 … 0.0 0.0; 0.9328003574400228 1.135027491224908 … 0.6749989439222951 0.6974200217924363; 0.5513856029136238 0.548091448126849 … 0.0 0.0]"
      ]
     },
     "execution_count": 450,
     "metadata": {},
     "output_type": "execute_result"
    }
   ],
   "source": [
    "data_per_gvf = [get_stats(load_results(ic,:ttmaze_uniform_error), per_gvf=true)[1] for ic in best_per_algo_ics]\n",
    "\n",
    "# get_stats(load_results(best_per_algo_ics[2], error_key), per_gvf = true)[1]\n",
    "\n",
    "# plot_mc_errors(data_per_gvf[3], [\"D1\", \"D2\"])"
   ]
  },
  {
   "cell_type": "code",
   "execution_count": 452,
   "metadata": {},
   "outputs": [
    {
     "data": {
      "image/svg+xml": [
       "<?xml version=\"1.0\" encoding=\"utf-8\"?>\n",
       "<svg xmlns=\"http://www.w3.org/2000/svg\" xmlns:xlink=\"http://www.w3.org/1999/xlink\" width=\"600\" height=\"400\" viewBox=\"0 0 2400 1600\">\n",
       "<defs>\n",
       "  <clipPath id=\"clip290\">\n",
       "    <rect x=\"0\" y=\"0\" width=\"2400\" height=\"1600\"/>\n",
       "  </clipPath>\n",
       "</defs>\n",
       "<path clip-path=\"url(#clip290)\" d=\"\n",
       "M0 1600 L2400 1600 L2400 0 L0 0  Z\n",
       "  \" fill=\"#ffffff\" fill-rule=\"evenodd\" fill-opacity=\"1\"/>\n",
       "<defs>\n",
       "  <clipPath id=\"clip291\">\n",
       "    <rect x=\"480\" y=\"0\" width=\"1681\" height=\"1600\"/>\n",
       "  </clipPath>\n",
       "</defs>\n",
       "<path clip-path=\"url(#clip290)\" d=\"\n",
       "M112.177 1486.45 L2352.76 1486.45 L2352.76 123.472 L112.177 123.472  Z\n",
       "  \" fill=\"#ffffff\" fill-rule=\"evenodd\" fill-opacity=\"1\"/>\n",
       "<defs>\n",
       "  <clipPath id=\"clip292\">\n",
       "    <rect x=\"112\" y=\"123\" width=\"2242\" height=\"1364\"/>\n",
       "  </clipPath>\n",
       "</defs>\n",
       "<polyline clip-path=\"url(#clip292)\" style=\"stroke:#000000; stroke-width:2; stroke-opacity:0.1; fill:none\" points=\"\n",
       "  164.968,1486.45 164.968,123.472 \n",
       "  \"/>\n",
       "<polyline clip-path=\"url(#clip292)\" style=\"stroke:#000000; stroke-width:2; stroke-opacity:0.1; fill:none\" points=\"\n",
       "  696.062,1486.45 696.062,123.472 \n",
       "  \"/>\n",
       "<polyline clip-path=\"url(#clip292)\" style=\"stroke:#000000; stroke-width:2; stroke-opacity:0.1; fill:none\" points=\"\n",
       "  1227.16,1486.45 1227.16,123.472 \n",
       "  \"/>\n",
       "<polyline clip-path=\"url(#clip292)\" style=\"stroke:#000000; stroke-width:2; stroke-opacity:0.1; fill:none\" points=\"\n",
       "  1758.25,1486.45 1758.25,123.472 \n",
       "  \"/>\n",
       "<polyline clip-path=\"url(#clip292)\" style=\"stroke:#000000; stroke-width:2; stroke-opacity:0.1; fill:none\" points=\"\n",
       "  2289.34,1486.45 2289.34,123.472 \n",
       "  \"/>\n",
       "<polyline clip-path=\"url(#clip290)\" style=\"stroke:#000000; stroke-width:4; stroke-opacity:1; fill:none\" points=\"\n",
       "  112.177,1486.45 2352.76,1486.45 \n",
       "  \"/>\n",
       "<polyline clip-path=\"url(#clip290)\" style=\"stroke:#000000; stroke-width:4; stroke-opacity:1; fill:none\" points=\"\n",
       "  164.968,1486.45 164.968,1470.09 \n",
       "  \"/>\n",
       "<polyline clip-path=\"url(#clip290)\" style=\"stroke:#000000; stroke-width:4; stroke-opacity:1; fill:none\" points=\"\n",
       "  696.062,1486.45 696.062,1470.09 \n",
       "  \"/>\n",
       "<polyline clip-path=\"url(#clip290)\" style=\"stroke:#000000; stroke-width:4; stroke-opacity:1; fill:none\" points=\"\n",
       "  1227.16,1486.45 1227.16,1470.09 \n",
       "  \"/>\n",
       "<polyline clip-path=\"url(#clip290)\" style=\"stroke:#000000; stroke-width:4; stroke-opacity:1; fill:none\" points=\"\n",
       "  1758.25,1486.45 1758.25,1470.09 \n",
       "  \"/>\n",
       "<polyline clip-path=\"url(#clip290)\" style=\"stroke:#000000; stroke-width:4; stroke-opacity:1; fill:none\" points=\"\n",
       "  2289.34,1486.45 2289.34,1470.09 \n",
       "  \"/>\n",
       "<path clip-path=\"url(#clip290)\" d=\"M 0 0 M164.968 1515.64 Q161.357 1515.64 159.528 1519.2 Q157.723 1522.75 157.723 1529.87 Q157.723 1536.98 159.528 1540.55 Q161.357 1544.09 164.968 1544.09 Q168.602 1544.09 170.408 1540.55 Q172.236 1536.98 172.236 1529.87 Q172.236 1522.75 170.408 1519.2 Q168.602 1515.64 164.968 1515.64 M164.968 1511.93 Q170.778 1511.93 173.834 1516.54 Q176.912 1521.12 176.912 1529.87 Q176.912 1538.6 173.834 1543.21 Q170.778 1547.79 164.968 1547.79 Q159.158 1547.79 156.079 1543.21 Q153.024 1538.6 153.024 1529.87 Q153.024 1521.12 156.079 1516.54 Q159.158 1511.93 164.968 1511.93 Z\" fill=\"#000000\" fill-rule=\"evenodd\" fill-opacity=\"1\" /><path clip-path=\"url(#clip290)\" d=\"M 0 0 M672.833 1512.56 L691.189 1512.56 L691.189 1516.5 L677.115 1516.5 L677.115 1524.97 Q678.134 1524.62 679.152 1524.46 Q680.171 1524.27 681.189 1524.27 Q686.976 1524.27 690.356 1527.44 Q693.735 1530.62 693.735 1536.03 Q693.735 1541.61 690.263 1544.71 Q686.791 1547.79 680.472 1547.79 Q678.296 1547.79 676.027 1547.42 Q673.782 1547.05 671.374 1546.31 L671.374 1541.61 Q673.458 1542.74 675.68 1543.3 Q677.902 1543.86 680.379 1543.86 Q684.384 1543.86 686.722 1541.75 Q689.059 1539.64 689.059 1536.03 Q689.059 1532.42 686.722 1530.31 Q684.384 1528.21 680.379 1528.21 Q678.504 1528.21 676.629 1528.62 Q674.777 1529.04 672.833 1529.92 L672.833 1512.56 Z\" fill=\"#000000\" fill-rule=\"evenodd\" fill-opacity=\"1\" /><path clip-path=\"url(#clip290)\" d=\"M 0 0 M708.805 1515.64 Q705.194 1515.64 703.365 1519.2 Q701.559 1522.75 701.559 1529.87 Q701.559 1536.98 703.365 1540.55 Q705.194 1544.09 708.805 1544.09 Q712.439 1544.09 714.245 1540.55 Q716.073 1536.98 716.073 1529.87 Q716.073 1522.75 714.245 1519.2 Q712.439 1515.64 708.805 1515.64 M708.805 1511.93 Q714.615 1511.93 717.67 1516.54 Q720.749 1521.12 720.749 1529.87 Q720.749 1538.6 717.67 1543.21 Q714.615 1547.79 708.805 1547.79 Q702.995 1547.79 699.916 1543.21 Q696.86 1538.6 696.86 1529.87 Q696.86 1521.12 699.916 1516.54 Q702.995 1511.93 708.805 1511.93 Z\" fill=\"#000000\" fill-rule=\"evenodd\" fill-opacity=\"1\" /><path clip-path=\"url(#clip290)\" d=\"M 0 0 M1190.52 1543.18 L1198.16 1543.18 L1198.16 1516.82 L1189.85 1518.49 L1189.85 1514.23 L1198.12 1512.56 L1202.79 1512.56 L1202.79 1543.18 L1210.43 1543.18 L1210.43 1547.12 L1190.52 1547.12 L1190.52 1543.18 Z\" fill=\"#000000\" fill-rule=\"evenodd\" fill-opacity=\"1\" /><path clip-path=\"url(#clip290)\" d=\"M 0 0 M1225.5 1515.64 Q1221.89 1515.64 1220.06 1519.2 Q1218.26 1522.75 1218.26 1529.87 Q1218.26 1536.98 1220.06 1540.55 Q1221.89 1544.09 1225.5 1544.09 Q1229.13 1544.09 1230.94 1540.55 Q1232.77 1536.98 1232.77 1529.87 Q1232.77 1522.75 1230.94 1519.2 Q1229.13 1515.64 1225.5 1515.64 M1225.5 1511.93 Q1231.31 1511.93 1234.37 1516.54 Q1237.44 1521.12 1237.44 1529.87 Q1237.44 1538.6 1234.37 1543.21 Q1231.31 1547.79 1225.5 1547.79 Q1219.69 1547.79 1216.61 1543.21 Q1213.56 1538.6 1213.56 1529.87 Q1213.56 1521.12 1216.61 1516.54 Q1219.69 1511.93 1225.5 1511.93 Z\" fill=\"#000000\" fill-rule=\"evenodd\" fill-opacity=\"1\" /><path clip-path=\"url(#clip290)\" d=\"M 0 0 M1252.51 1515.64 Q1248.9 1515.64 1247.07 1519.2 Q1245.27 1522.75 1245.27 1529.87 Q1245.27 1536.98 1247.07 1540.55 Q1248.9 1544.09 1252.51 1544.09 Q1256.15 1544.09 1257.95 1540.55 Q1259.78 1536.98 1259.78 1529.87 Q1259.78 1522.75 1257.95 1519.2 Q1256.15 1515.64 1252.51 1515.64 M1252.51 1511.93 Q1258.32 1511.93 1261.38 1516.54 Q1264.46 1521.12 1264.46 1529.87 Q1264.46 1538.6 1261.38 1543.21 Q1258.32 1547.79 1252.51 1547.79 Q1246.7 1547.79 1243.63 1543.21 Q1240.57 1538.6 1240.57 1529.87 Q1240.57 1521.12 1243.63 1516.54 Q1246.7 1511.93 1252.51 1511.93 Z\" fill=\"#000000\" fill-rule=\"evenodd\" fill-opacity=\"1\" /><path clip-path=\"url(#clip290)\" d=\"M 0 0 M1722.12 1543.18 L1729.75 1543.18 L1729.75 1516.82 L1721.44 1518.49 L1721.44 1514.23 L1729.71 1512.56 L1734.38 1512.56 L1734.38 1543.18 L1742.02 1543.18 L1742.02 1547.12 L1722.12 1547.12 L1722.12 1543.18 Z\" fill=\"#000000\" fill-rule=\"evenodd\" fill-opacity=\"1\" /><path clip-path=\"url(#clip290)\" d=\"M 0 0 M1747.14 1512.56 L1765.49 1512.56 L1765.49 1516.5 L1751.42 1516.5 L1751.42 1524.97 Q1752.44 1524.62 1753.46 1524.46 Q1754.48 1524.27 1755.49 1524.27 Q1761.28 1524.27 1764.66 1527.44 Q1768.04 1530.62 1768.04 1536.03 Q1768.04 1541.61 1764.57 1544.71 Q1761.1 1547.79 1754.78 1547.79 Q1752.6 1547.79 1750.33 1547.42 Q1748.09 1547.05 1745.68 1546.31 L1745.68 1541.61 Q1747.76 1542.74 1749.99 1543.3 Q1752.21 1543.86 1754.68 1543.86 Q1758.69 1543.86 1761.03 1541.75 Q1763.37 1539.64 1763.37 1536.03 Q1763.37 1532.42 1761.03 1530.31 Q1758.69 1528.21 1754.68 1528.21 Q1752.81 1528.21 1750.93 1528.62 Q1749.08 1529.04 1747.14 1529.92 L1747.14 1512.56 Z\" fill=\"#000000\" fill-rule=\"evenodd\" fill-opacity=\"1\" /><path clip-path=\"url(#clip290)\" d=\"M 0 0 M1783.11 1515.64 Q1779.5 1515.64 1777.67 1519.2 Q1775.87 1522.75 1775.87 1529.87 Q1775.87 1536.98 1777.67 1540.55 Q1779.5 1544.09 1783.11 1544.09 Q1786.74 1544.09 1788.55 1540.55 Q1790.38 1536.98 1790.38 1529.87 Q1790.38 1522.75 1788.55 1519.2 Q1786.74 1515.64 1783.11 1515.64 M1783.11 1511.93 Q1788.92 1511.93 1791.98 1516.54 Q1795.05 1521.12 1795.05 1529.87 Q1795.05 1538.6 1791.98 1543.21 Q1788.92 1547.79 1783.11 1547.79 Q1777.3 1547.79 1774.22 1543.21 Q1771.17 1538.6 1771.17 1529.87 Q1771.17 1521.12 1774.22 1516.54 Q1777.3 1511.93 1783.11 1511.93 Z\" fill=\"#000000\" fill-rule=\"evenodd\" fill-opacity=\"1\" /><path clip-path=\"url(#clip290)\" d=\"M 0 0 M2256.98 1543.18 L2273.3 1543.18 L2273.3 1547.12 L2251.36 1547.12 L2251.36 1543.18 Q2254.02 1540.43 2258.6 1535.8 Q2263.21 1531.15 2264.39 1529.81 Q2266.64 1527.28 2267.51 1525.55 Q2268.42 1523.79 2268.42 1522.1 Q2268.42 1519.34 2266.47 1517.61 Q2264.55 1515.87 2261.45 1515.87 Q2259.25 1515.87 2256.8 1516.63 Q2254.37 1517.4 2251.59 1518.95 L2251.59 1514.23 Q2254.41 1513.09 2256.87 1512.51 Q2259.32 1511.93 2261.36 1511.93 Q2266.73 1511.93 2269.92 1514.62 Q2273.12 1517.31 2273.12 1521.8 Q2273.12 1523.93 2272.31 1525.85 Q2271.52 1527.74 2269.41 1530.34 Q2268.83 1531.01 2265.73 1534.23 Q2262.63 1537.42 2256.98 1543.18 Z\" fill=\"#000000\" fill-rule=\"evenodd\" fill-opacity=\"1\" /><path clip-path=\"url(#clip290)\" d=\"M 0 0 M2288.37 1515.64 Q2284.76 1515.64 2282.93 1519.2 Q2281.13 1522.75 2281.13 1529.87 Q2281.13 1536.98 2282.93 1540.55 Q2284.76 1544.09 2288.37 1544.09 Q2292.01 1544.09 2293.81 1540.55 Q2295.64 1536.98 2295.64 1529.87 Q2295.64 1522.75 2293.81 1519.2 Q2292.01 1515.64 2288.37 1515.64 M2288.37 1511.93 Q2294.18 1511.93 2297.24 1516.54 Q2300.32 1521.12 2300.32 1529.87 Q2300.32 1538.6 2297.24 1543.21 Q2294.18 1547.79 2288.37 1547.79 Q2282.56 1547.79 2279.48 1543.21 Q2276.43 1538.6 2276.43 1529.87 Q2276.43 1521.12 2279.48 1516.54 Q2282.56 1511.93 2288.37 1511.93 Z\" fill=\"#000000\" fill-rule=\"evenodd\" fill-opacity=\"1\" /><path clip-path=\"url(#clip290)\" d=\"M 0 0 M2315.38 1515.64 Q2311.77 1515.64 2309.95 1519.2 Q2308.14 1522.75 2308.14 1529.87 Q2308.14 1536.98 2309.95 1540.55 Q2311.77 1544.09 2315.38 1544.09 Q2319.02 1544.09 2320.82 1540.55 Q2322.65 1536.98 2322.65 1529.87 Q2322.65 1522.75 2320.82 1519.2 Q2319.02 1515.64 2315.38 1515.64 M2315.38 1511.93 Q2321.19 1511.93 2324.25 1516.54 Q2327.33 1521.12 2327.33 1529.87 Q2327.33 1538.6 2324.25 1543.21 Q2321.19 1547.79 2315.38 1547.79 Q2309.57 1547.79 2306.5 1543.21 Q2303.44 1538.6 2303.44 1529.87 Q2303.44 1521.12 2306.5 1516.54 Q2309.57 1511.93 2315.38 1511.93 Z\" fill=\"#000000\" fill-rule=\"evenodd\" fill-opacity=\"1\" /><polyline clip-path=\"url(#clip292)\" style=\"stroke:#000000; stroke-width:2; stroke-opacity:0.1; fill:none\" points=\"\n",
       "  112.177,1319.18 2352.76,1319.18 \n",
       "  \"/>\n",
       "<polyline clip-path=\"url(#clip292)\" style=\"stroke:#000000; stroke-width:2; stroke-opacity:0.1; fill:none\" points=\"\n",
       "  112.177,1113.03 2352.76,1113.03 \n",
       "  \"/>\n",
       "<polyline clip-path=\"url(#clip292)\" style=\"stroke:#000000; stroke-width:2; stroke-opacity:0.1; fill:none\" points=\"\n",
       "  112.177,906.875 2352.76,906.875 \n",
       "  \"/>\n",
       "<polyline clip-path=\"url(#clip292)\" style=\"stroke:#000000; stroke-width:2; stroke-opacity:0.1; fill:none\" points=\"\n",
       "  112.177,700.724 2352.76,700.724 \n",
       "  \"/>\n",
       "<polyline clip-path=\"url(#clip292)\" style=\"stroke:#000000; stroke-width:2; stroke-opacity:0.1; fill:none\" points=\"\n",
       "  112.177,494.573 2352.76,494.573 \n",
       "  \"/>\n",
       "<polyline clip-path=\"url(#clip292)\" style=\"stroke:#000000; stroke-width:2; stroke-opacity:0.1; fill:none\" points=\"\n",
       "  112.177,288.422 2352.76,288.422 \n",
       "  \"/>\n",
       "<polyline clip-path=\"url(#clip290)\" style=\"stroke:#000000; stroke-width:4; stroke-opacity:1; fill:none\" points=\"\n",
       "  112.177,1486.45 112.177,123.472 \n",
       "  \"/>\n",
       "<polyline clip-path=\"url(#clip290)\" style=\"stroke:#000000; stroke-width:4; stroke-opacity:1; fill:none\" points=\"\n",
       "  112.177,1319.18 139.064,1319.18 \n",
       "  \"/>\n",
       "<polyline clip-path=\"url(#clip290)\" style=\"stroke:#000000; stroke-width:4; stroke-opacity:1; fill:none\" points=\"\n",
       "  112.177,1113.03 139.064,1113.03 \n",
       "  \"/>\n",
       "<polyline clip-path=\"url(#clip290)\" style=\"stroke:#000000; stroke-width:4; stroke-opacity:1; fill:none\" points=\"\n",
       "  112.177,906.875 139.064,906.875 \n",
       "  \"/>\n",
       "<polyline clip-path=\"url(#clip290)\" style=\"stroke:#000000; stroke-width:4; stroke-opacity:1; fill:none\" points=\"\n",
       "  112.177,700.724 139.064,700.724 \n",
       "  \"/>\n",
       "<polyline clip-path=\"url(#clip290)\" style=\"stroke:#000000; stroke-width:4; stroke-opacity:1; fill:none\" points=\"\n",
       "  112.177,494.573 139.064,494.573 \n",
       "  \"/>\n",
       "<polyline clip-path=\"url(#clip290)\" style=\"stroke:#000000; stroke-width:4; stroke-opacity:1; fill:none\" points=\"\n",
       "  112.177,288.422 139.064,288.422 \n",
       "  \"/>\n",
       "<path clip-path=\"url(#clip290)\" d=\"M 0 0 M56.2699 1332.52 L63.9087 1332.52 L63.9087 1306.16 L55.5986 1307.82 L55.5986 1303.56 L63.8624 1301.9 L68.5383 1301.9 L68.5383 1332.52 L76.1772 1332.52 L76.1772 1336.46 L56.2699 1336.46 L56.2699 1332.52 Z\" fill=\"#000000\" fill-rule=\"evenodd\" fill-opacity=\"1\" /><path clip-path=\"url(#clip290)\" d=\"M 0 0 M59.8578 1126.37 L76.1772 1126.37 L76.1772 1130.31 L54.2328 1130.31 L54.2328 1126.37 Q56.8949 1123.62 61.4782 1118.99 Q66.0846 1114.33 67.2652 1112.99 Q69.5105 1110.47 70.3902 1108.73 Q71.2929 1106.97 71.2929 1105.28 Q71.2929 1102.53 69.3485 1100.79 Q67.4272 1099.06 64.3254 1099.06 Q62.1263 1099.06 59.6726 1099.82 Q57.2421 1100.58 54.4643 1102.14 L54.4643 1097.41 Q57.2884 1096.28 59.7421 1095.7 Q62.1958 1095.12 64.2328 1095.12 Q69.6031 1095.12 72.7976 1097.81 Q75.992 1100.49 75.992 1104.98 Q75.992 1107.11 75.1818 1109.03 Q74.3948 1110.93 72.2883 1113.52 Q71.7096 1114.2 68.6078 1117.41 Q65.5059 1120.61 59.8578 1126.37 Z\" fill=\"#000000\" fill-rule=\"evenodd\" fill-opacity=\"1\" /><path clip-path=\"url(#clip290)\" d=\"M 0 0 M69.0476 905.521 Q72.404 906.239 74.279 908.507 Q76.1772 910.776 76.1772 914.109 Q76.1772 919.225 72.6587 922.026 Q69.1402 924.827 62.6587 924.827 Q60.4828 924.827 58.168 924.387 Q55.8764 923.97 53.4227 923.114 L53.4227 918.6 Q55.3671 919.734 57.6819 920.313 Q59.9967 920.892 62.5198 920.892 Q66.918 920.892 69.2096 919.155 Q71.5244 917.419 71.5244 914.109 Q71.5244 911.054 69.3717 909.341 Q67.242 907.605 63.4226 907.605 L59.3949 907.605 L59.3949 903.762 L63.6078 903.762 Q67.0569 903.762 68.8855 902.396 Q70.7142 901.007 70.7142 898.415 Q70.7142 895.753 68.8161 894.341 Q66.9411 892.906 63.4226 892.906 Q61.5013 892.906 59.3023 893.322 Q57.1032 893.739 54.4643 894.619 L54.4643 890.452 Q57.1264 889.711 59.4412 889.341 Q61.7791 888.97 63.8393 888.97 Q69.1633 888.97 72.2652 891.401 Q75.367 893.808 75.367 897.929 Q75.367 900.799 73.7235 902.79 Q72.08 904.757 69.0476 905.521 Z\" fill=\"#000000\" fill-rule=\"evenodd\" fill-opacity=\"1\" /><path clip-path=\"url(#clip290)\" d=\"M 0 0 M66.5939 687.518 L54.7884 705.967 L66.5939 705.967 L66.5939 687.518 M65.367 683.444 L71.2466 683.444 L71.2466 705.967 L76.1772 705.967 L76.1772 709.856 L71.2466 709.856 L71.2466 718.004 L66.5939 718.004 L66.5939 709.856 L50.9921 709.856 L50.9921 705.342 L65.367 683.444 Z\" fill=\"#000000\" fill-rule=\"evenodd\" fill-opacity=\"1\" /><path clip-path=\"url(#clip290)\" d=\"M 0 0 M55.2745 477.293 L73.6309 477.293 L73.6309 481.228 L59.5569 481.228 L59.5569 489.7 Q60.5754 489.353 61.5939 489.191 Q62.6124 489.006 63.6309 489.006 Q69.418 489.006 72.7976 492.177 Q76.1772 495.348 76.1772 500.765 Q76.1772 506.344 72.705 509.446 Q69.2328 512.524 62.9134 512.524 Q60.7374 512.524 58.4689 512.154 Q56.2236 511.784 53.8162 511.043 L53.8162 506.344 Q55.8995 507.478 58.1217 508.034 Q60.3439 508.589 62.8208 508.589 Q66.8254 508.589 69.1633 506.483 Q71.5013 504.376 71.5013 500.765 Q71.5013 497.154 69.1633 495.048 Q66.8254 492.941 62.8208 492.941 Q60.9458 492.941 59.0708 493.358 Q57.2189 493.774 55.2745 494.654 L55.2745 477.293 Z\" fill=\"#000000\" fill-rule=\"evenodd\" fill-opacity=\"1\" /><path clip-path=\"url(#clip290)\" d=\"M 0 0 M64.6495 286.558 Q61.5013 286.558 59.6495 288.711 Q57.8208 290.864 57.8208 294.614 Q57.8208 298.341 59.6495 300.517 Q61.5013 302.669 64.6495 302.669 Q67.7976 302.669 69.6263 300.517 Q71.4781 298.341 71.4781 294.614 Q71.4781 290.864 69.6263 288.711 Q67.7976 286.558 64.6495 286.558 M73.9318 271.906 L73.9318 276.165 Q72.1726 275.332 70.367 274.892 Q68.5846 274.452 66.8254 274.452 Q62.1958 274.452 59.7421 277.577 Q57.3115 280.702 56.9643 287.021 Q58.33 285.007 60.3902 283.943 Q62.4504 282.855 64.9272 282.855 Q70.1355 282.855 73.1448 286.026 Q76.1772 289.174 76.1772 294.614 Q76.1772 299.938 73.029 303.155 Q69.8809 306.373 64.6495 306.373 Q58.6541 306.373 55.4828 301.79 Q52.3116 297.183 52.3116 288.456 Q52.3116 280.262 56.2004 275.401 Q60.0893 270.517 66.6402 270.517 Q68.3994 270.517 70.1818 270.864 Q71.9874 271.211 73.9318 271.906 Z\" fill=\"#000000\" fill-rule=\"evenodd\" fill-opacity=\"1\" /><path clip-path=\"url(#clip290)\" d=\"M 0 0 M611.544 12.096 L649.784 12.096 L649.784 18.9825 L619.727 18.9825 L619.727 36.8875 L648.529 36.8875 L648.529 43.7741 L619.727 43.7741 L619.727 65.6895 L650.514 65.6895 L650.514 72.576 L611.544 72.576 L611.544 12.096 Z\" fill=\"#000000\" fill-rule=\"evenodd\" fill-opacity=\"1\" /><path clip-path=\"url(#clip290)\" d=\"M 0 0 M694.912 14.0809 L694.912 22.0612 Q690.253 19.8332 686.121 18.7395 Q681.989 17.6457 678.141 17.6457 Q671.457 17.6457 667.811 20.2383 Q664.206 22.8309 664.206 27.611 Q664.206 31.6214 666.596 33.6873 Q669.026 35.7128 675.751 36.9686 L680.693 37.9813 Q689.848 39.7232 694.182 44.1387 Q698.557 48.5136 698.557 55.8863 Q698.557 64.6767 692.643 69.2137 Q686.769 73.7508 675.386 73.7508 Q671.092 73.7508 666.231 72.7785 Q661.411 71.8063 656.225 69.9024 L656.225 61.4765 Q661.208 64.2716 665.988 65.6895 Q670.768 67.1073 675.386 67.1073 Q682.394 67.1073 686.202 64.3527 Q690.01 61.598 690.01 56.4939 Q690.01 52.0379 687.255 49.5264 Q684.541 47.0148 678.303 45.759 L673.32 44.7868 Q664.165 42.9639 660.074 39.075 Q655.982 35.1862 655.982 28.2591 Q655.982 20.2383 661.613 15.6203 Q667.284 11.0023 677.209 11.0023 Q681.463 11.0023 685.878 11.7719 Q690.294 12.5416 694.912 14.0809 Z\" fill=\"#000000\" fill-rule=\"evenodd\" fill-opacity=\"1\" /><path clip-path=\"url(#clip290)\" d=\"M 0 0 M728.453 20.1573 L717.354 50.2555 L739.593 50.2555 L728.453 20.1573 M723.835 12.096 L733.112 12.096 L756.161 72.576 L747.654 72.576 L742.145 57.061 L714.883 57.061 L709.373 72.576 L700.745 72.576 L723.835 12.096 Z\" fill=\"#000000\" fill-rule=\"evenodd\" fill-opacity=\"1\" /><path clip-path=\"url(#clip290)\" d=\"M 0 0 M792.984 44.2197 Q795.617 45.1109 798.088 48.0275 Q800.6 50.9442 803.111 56.0483 L811.416 72.576 L802.625 72.576 L794.888 57.061 Q791.89 50.9847 789.055 48.9997 Q786.259 47.0148 781.398 47.0148 L772.486 47.0148 L772.486 72.576 L764.304 72.576 L764.304 12.096 L782.776 12.096 Q793.146 12.096 798.25 16.4305 Q803.354 20.7649 803.354 29.5149 Q803.354 35.2267 800.681 38.994 Q798.048 42.7613 792.984 44.2197 M772.486 18.8205 L772.486 40.2903 L782.776 40.2903 Q788.69 40.2903 791.688 37.5762 Q794.726 34.8216 794.726 29.5149 Q794.726 24.2082 791.688 21.5346 Q788.69 18.8205 782.776 18.8205 L772.486 18.8205 Z\" fill=\"#000000\" fill-rule=\"evenodd\" fill-opacity=\"1\" /><path clip-path=\"url(#clip290)\" d=\"M 0 0 M855.813 14.0809 L855.813 22.0612 Q851.155 19.8332 847.023 18.7395 Q842.891 17.6457 839.043 17.6457 Q832.359 17.6457 828.713 20.2383 Q825.108 22.8309 825.108 27.611 Q825.108 31.6214 827.498 33.6873 Q829.928 35.7128 836.653 36.9686 L841.595 37.9813 Q850.75 39.7232 855.084 44.1387 Q859.459 48.5136 859.459 55.8863 Q859.459 64.6767 853.545 69.2137 Q847.671 73.7508 836.288 73.7508 Q831.994 73.7508 827.133 72.7785 Q822.312 71.8063 817.127 69.9024 L817.127 61.4765 Q822.11 64.2716 826.89 65.6895 Q831.67 67.1073 836.288 67.1073 Q843.296 67.1073 847.104 64.3527 Q850.912 61.598 850.912 56.4939 Q850.912 52.0379 848.157 49.5264 Q845.443 47.0148 839.205 45.759 L834.222 44.7868 Q825.067 42.9639 820.976 39.075 Q816.884 35.1862 816.884 28.2591 Q816.884 20.2383 822.515 15.6203 Q828.186 11.0023 838.111 11.0023 Q842.364 11.0023 846.78 11.7719 Q851.195 12.5416 855.813 14.0809 Z\" fill=\"#000000\" fill-rule=\"evenodd\" fill-opacity=\"1\" /><path clip-path=\"url(#clip290)\" d=\"M 0 0 M889.355 20.1573 L878.255 50.2555 L900.495 50.2555 L889.355 20.1573 M884.737 12.096 L894.013 12.096 L917.063 72.576 L908.556 72.576 L903.047 57.061 L875.784 57.061 L870.275 72.576 L861.647 72.576 L884.737 12.096 Z\" fill=\"#000000\" fill-rule=\"evenodd\" fill-opacity=\"1\" /><path clip-path=\"url(#clip290)\" d=\"M 0 0 M950.645 12.096 L958.868 12.096 L958.868 48.8377 Q958.868 58.5599 962.393 62.8538 Q965.917 67.1073 973.816 67.1073 Q981.675 67.1073 985.199 62.8538 Q988.724 58.5599 988.724 48.8377 L988.724 12.096 L996.947 12.096 L996.947 49.8504 Q996.947 61.6791 991.073 67.7149 Q985.24 73.7508 973.816 73.7508 Q962.352 73.7508 956.478 67.7149 Q950.645 61.6791 950.645 49.8504 L950.645 12.096 Z\" fill=\"#000000\" fill-rule=\"evenodd\" fill-opacity=\"1\" /><path clip-path=\"url(#clip290)\" d=\"M 0 0 M1042.48 45.1919 L1042.48 72.576 L1035.03 72.576 L1035.03 45.4349 Q1035.03 38.994 1032.51 35.7938 Q1030 32.5936 1024.98 32.5936 Q1018.94 32.5936 1015.46 36.4419 Q1011.98 40.2903 1011.98 46.9338 L1011.98 72.576 L1004.48 72.576 L1004.48 27.2059 L1011.98 27.2059 L1011.98 34.2544 Q1014.65 30.163 1018.25 28.1376 Q1021.9 26.1121 1026.64 26.1121 Q1034.46 26.1121 1038.47 30.9732 Q1042.48 35.7938 1042.48 45.1919 Z\" fill=\"#000000\" fill-rule=\"evenodd\" fill-opacity=\"1\" /><path clip-path=\"url(#clip290)\" d=\"M 0 0 M1050.3 27.2059 L1057.75 27.2059 L1057.75 72.576 L1050.3 72.576 L1050.3 27.2059 M1050.3 9.54393 L1057.75 9.54393 L1057.75 18.9825 L1050.3 18.9825 L1050.3 9.54393 Z\" fill=\"#000000\" fill-rule=\"evenodd\" fill-opacity=\"1\" /><path clip-path=\"url(#clip290)\" d=\"M 0 0 M1088.54 9.54393 L1088.54 15.7418 L1081.41 15.7418 Q1077.4 15.7418 1075.82 17.3622 Q1074.28 18.9825 1074.28 23.1955 L1074.28 27.2059 L1086.55 27.2059 L1086.55 32.9987 L1074.28 32.9987 L1074.28 72.576 L1066.78 72.576 L1066.78 32.9987 L1059.65 32.9987 L1059.65 27.2059 L1066.78 27.2059 L1066.78 24.0462 Q1066.78 16.471 1070.31 13.0277 Q1073.83 9.54393 1081.49 9.54393 L1088.54 9.54393 Z\" fill=\"#000000\" fill-rule=\"evenodd\" fill-opacity=\"1\" /><path clip-path=\"url(#clip290)\" d=\"M 0 0 M1113.94 32.4315 Q1107.94 32.4315 1104.46 37.1306 Q1100.97 41.7891 1100.97 49.9314 Q1100.97 58.0738 1104.42 62.7728 Q1107.9 67.4314 1113.94 67.4314 Q1119.89 67.4314 1123.38 62.7323 Q1126.86 58.0333 1126.86 49.9314 Q1126.86 41.8701 1123.38 37.1711 Q1119.89 32.4315 1113.94 32.4315 M1113.94 26.1121 Q1123.66 26.1121 1129.21 32.4315 Q1134.76 38.7509 1134.76 49.9314 Q1134.76 61.0714 1129.21 67.4314 Q1123.66 73.7508 1113.94 73.7508 Q1104.17 73.7508 1098.62 67.4314 Q1093.12 61.0714 1093.12 49.9314 Q1093.12 38.7509 1098.62 32.4315 Q1104.17 26.1121 1113.94 26.1121 Z\" fill=\"#000000\" fill-rule=\"evenodd\" fill-opacity=\"1\" /><path clip-path=\"url(#clip290)\" d=\"M 0 0 M1168.87 34.1734 Q1167.61 33.4443 1166.11 33.1202 Q1164.65 32.7556 1162.87 32.7556 Q1156.55 32.7556 1153.15 36.8875 Q1149.79 40.9789 1149.79 48.6757 L1149.79 72.576 L1142.29 72.576 L1142.29 27.2059 L1149.79 27.2059 L1149.79 34.2544 Q1152.14 30.1225 1155.9 28.1376 Q1159.67 26.1121 1165.06 26.1121 Q1165.83 26.1121 1166.76 26.2337 Q1167.69 26.3147 1168.83 26.5172 L1168.87 34.1734 Z\" fill=\"#000000\" fill-rule=\"evenodd\" fill-opacity=\"1\" /><path clip-path=\"url(#clip290)\" d=\"M 0 0 M1210.55 35.9153 Q1213.35 30.8922 1217.24 28.5022 Q1221.12 26.1121 1226.39 26.1121 Q1233.48 26.1121 1237.33 31.0947 Q1241.18 36.0368 1241.18 45.1919 L1241.18 72.576 L1233.68 72.576 L1233.68 45.4349 Q1233.68 38.913 1231.37 35.7533 Q1229.06 32.5936 1224.32 32.5936 Q1218.53 32.5936 1215.17 36.4419 Q1211.81 40.2903 1211.81 46.9338 L1211.81 72.576 L1204.31 72.576 L1204.31 45.4349 Q1204.31 38.8725 1202 35.7533 Q1199.69 32.5936 1194.87 32.5936 Q1189.16 32.5936 1185.8 36.4824 Q1182.44 40.3308 1182.44 46.9338 L1182.44 72.576 L1174.94 72.576 L1174.94 27.2059 L1182.44 27.2059 L1182.44 34.2544 Q1184.99 30.082 1188.55 28.0971 Q1192.12 26.1121 1197.02 26.1121 Q1201.96 26.1121 1205.41 28.6237 Q1208.89 31.1352 1210.55 35.9153 Z\" fill=\"#000000\" fill-rule=\"evenodd\" fill-opacity=\"1\" /><path clip-path=\"url(#clip290)\" d=\"M 0 0 M1275.69 12.096 L1313.93 12.096 L1313.93 18.9825 L1283.87 18.9825 L1283.87 36.8875 L1312.67 36.8875 L1312.67 43.7741 L1283.87 43.7741 L1283.87 65.6895 L1314.66 65.6895 L1314.66 72.576 L1275.69 72.576 L1275.69 12.096 Z\" fill=\"#000000\" fill-rule=\"evenodd\" fill-opacity=\"1\" /><path clip-path=\"url(#clip290)\" d=\"M 0 0 M1348.77 34.1734 Q1347.51 33.4443 1346.01 33.1202 Q1344.56 32.7556 1342.77 32.7556 Q1336.45 32.7556 1333.05 36.8875 Q1329.69 40.9789 1329.69 48.6757 L1329.69 72.576 L1322.19 72.576 L1322.19 27.2059 L1329.69 27.2059 L1329.69 34.2544 Q1332.04 30.1225 1335.81 28.1376 Q1339.57 26.1121 1344.96 26.1121 Q1345.73 26.1121 1346.66 26.2337 Q1347.59 26.3147 1348.73 26.5172 L1348.77 34.1734 Z\" fill=\"#000000\" fill-rule=\"evenodd\" fill-opacity=\"1\" /><path clip-path=\"url(#clip290)\" d=\"M 0 0 M1381.42 34.1734 Q1380.16 33.4443 1378.66 33.1202 Q1377.21 32.7556 1375.42 32.7556 Q1369.1 32.7556 1365.7 36.8875 Q1362.34 40.9789 1362.34 48.6757 L1362.34 72.576 L1354.84 72.576 L1354.84 27.2059 L1362.34 27.2059 L1362.34 34.2544 Q1364.69 30.1225 1368.46 28.1376 Q1372.22 26.1121 1377.61 26.1121 Q1378.38 26.1121 1379.31 26.2337 Q1380.24 26.3147 1381.38 26.5172 L1381.42 34.1734 Z\" fill=\"#000000\" fill-rule=\"evenodd\" fill-opacity=\"1\" /><path clip-path=\"url(#clip290)\" d=\"M 0 0 M1404.99 32.4315 Q1399 32.4315 1395.52 37.1306 Q1392.03 41.7891 1392.03 49.9314 Q1392.03 58.0738 1395.47 62.7728 Q1398.96 67.4314 1404.99 67.4314 Q1410.95 67.4314 1414.43 62.7323 Q1417.92 58.0333 1417.92 49.9314 Q1417.92 41.8701 1414.43 37.1711 Q1410.95 32.4315 1404.99 32.4315 M1404.99 26.1121 Q1414.72 26.1121 1420.27 32.4315 Q1425.82 38.7509 1425.82 49.9314 Q1425.82 61.0714 1420.27 67.4314 Q1414.72 73.7508 1404.99 73.7508 Q1395.23 73.7508 1389.68 67.4314 Q1384.17 61.0714 1384.17 49.9314 Q1384.17 38.7509 1389.68 32.4315 Q1395.23 26.1121 1404.99 26.1121 Z\" fill=\"#000000\" fill-rule=\"evenodd\" fill-opacity=\"1\" /><path clip-path=\"url(#clip290)\" d=\"M 0 0 M1459.92 34.1734 Q1458.67 33.4443 1457.17 33.1202 Q1455.71 32.7556 1453.93 32.7556 Q1447.61 32.7556 1444.21 36.8875 Q1440.85 40.9789 1440.85 48.6757 L1440.85 72.576 L1433.35 72.576 L1433.35 27.2059 L1440.85 27.2059 L1440.85 34.2544 Q1443.19 30.1225 1446.96 28.1376 Q1450.73 26.1121 1456.12 26.1121 Q1456.89 26.1121 1457.82 26.2337 Q1458.75 26.3147 1459.88 26.5172 L1459.92 34.1734 Z\" fill=\"#000000\" fill-rule=\"evenodd\" fill-opacity=\"1\" /><path clip-path=\"url(#clip290)\" d=\"M 0 0 M1511.7 32.4315 Q1505.7 32.4315 1502.22 37.1306 Q1498.73 41.7891 1498.73 49.9314 Q1498.73 58.0738 1502.18 62.7728 Q1505.66 67.4314 1511.7 67.4314 Q1517.65 67.4314 1521.13 62.7323 Q1524.62 58.0333 1524.62 49.9314 Q1524.62 41.8701 1521.13 37.1711 Q1517.65 32.4315 1511.7 32.4315 M1511.7 26.1121 Q1521.42 26.1121 1526.97 32.4315 Q1532.52 38.7509 1532.52 49.9314 Q1532.52 61.0714 1526.97 67.4314 Q1521.42 73.7508 1511.7 73.7508 Q1501.93 73.7508 1496.38 67.4314 Q1490.87 61.0714 1490.87 49.9314 Q1490.87 38.7509 1496.38 32.4315 Q1501.93 26.1121 1511.7 26.1121 Z\" fill=\"#000000\" fill-rule=\"evenodd\" fill-opacity=\"1\" /><path clip-path=\"url(#clip290)\" d=\"M 0 0 M1578.05 45.1919 L1578.05 72.576 L1570.6 72.576 L1570.6 45.4349 Q1570.6 38.994 1568.08 35.7938 Q1565.57 32.5936 1560.55 32.5936 Q1554.51 32.5936 1551.03 36.4419 Q1547.55 40.2903 1547.55 46.9338 L1547.55 72.576 L1540.05 72.576 L1540.05 27.2059 L1547.55 27.2059 L1547.55 34.2544 Q1550.22 30.163 1553.82 28.1376 Q1557.47 26.1121 1562.21 26.1121 Q1570.03 26.1121 1574.04 30.9732 Q1578.05 35.7938 1578.05 45.1919 Z\" fill=\"#000000\" fill-rule=\"evenodd\" fill-opacity=\"1\" /><path clip-path=\"url(#clip290)\" d=\"M 0 0 M1620.75 18.8205 L1620.75 65.8515 L1630.63 65.8515 Q1643.15 65.8515 1648.94 60.1802 Q1654.77 54.509 1654.77 42.2752 Q1654.77 30.1225 1648.94 24.4918 Q1643.15 18.8205 1630.63 18.8205 L1620.75 18.8205 M1612.56 12.096 L1629.37 12.096 Q1646.96 12.096 1655.18 19.4281 Q1663.4 26.7198 1663.4 42.2752 Q1663.4 57.9117 1655.14 65.2439 Q1646.87 72.576 1629.37 72.576 L1612.56 72.576 L1612.56 12.096 Z\" fill=\"#000000\" fill-rule=\"evenodd\" fill-opacity=\"1\" /><path clip-path=\"url(#clip290)\" d=\"M 0 0 M1697.51 34.1734 Q1696.25 33.4443 1694.76 33.1202 Q1693.3 32.7556 1691.52 32.7556 Q1685.2 32.7556 1681.79 36.8875 Q1678.43 40.9789 1678.43 48.6757 L1678.43 72.576 L1670.94 72.576 L1670.94 27.2059 L1678.43 27.2059 L1678.43 34.2544 Q1680.78 30.1225 1684.55 28.1376 Q1688.31 26.1121 1693.7 26.1121 Q1694.47 26.1121 1695.4 26.2337 Q1696.34 26.3147 1697.47 26.5172 L1697.51 34.1734 Z\" fill=\"#000000\" fill-rule=\"evenodd\" fill-opacity=\"1\" /><path clip-path=\"url(#clip290)\" d=\"M 0 0 M1705.33 27.2059 L1712.78 27.2059 L1712.78 72.576 L1705.33 72.576 L1705.33 27.2059 M1705.33 9.54393 L1712.78 9.54393 L1712.78 18.9825 L1705.33 18.9825 L1705.33 9.54393 Z\" fill=\"#000000\" fill-rule=\"evenodd\" fill-opacity=\"1\" /><path clip-path=\"url(#clip290)\" d=\"M 0 0 M1743.57 9.54393 L1743.57 15.7418 L1736.44 15.7418 Q1732.43 15.7418 1730.85 17.3622 Q1729.31 18.9825 1729.31 23.1955 L1729.31 27.2059 L1741.58 27.2059 L1741.58 32.9987 L1729.31 32.9987 L1729.31 72.576 L1721.82 72.576 L1721.82 32.9987 L1714.69 32.9987 L1714.69 27.2059 L1721.82 27.2059 L1721.82 24.0462 Q1721.82 16.471 1725.34 13.0277 Q1728.86 9.54393 1736.52 9.54393 L1743.57 9.54393 Z\" fill=\"#000000\" fill-rule=\"evenodd\" fill-opacity=\"1\" /><path clip-path=\"url(#clip290)\" d=\"M 0 0 M1757.3 14.324 L1757.3 27.2059 L1772.65 27.2059 L1772.65 32.9987 L1757.3 32.9987 L1757.3 57.6282 Q1757.3 63.1779 1758.8 64.7578 Q1760.34 66.3376 1765 66.3376 L1772.65 66.3376 L1772.65 72.576 L1765 72.576 Q1756.37 72.576 1753.09 69.3758 Q1749.81 66.1351 1749.81 57.6282 L1749.81 32.9987 L1744.34 32.9987 L1744.34 27.2059 L1749.81 27.2059 L1749.81 14.324 L1757.3 14.324 Z\" fill=\"#000000\" fill-rule=\"evenodd\" fill-opacity=\"1\" /><path clip-path=\"url(#clip290)\" d=\"M 0 0 M1819.28 48.0275 L1819.28 51.6733 L1785.01 51.6733 Q1785.5 59.3701 1789.63 63.421 Q1793.8 67.4314 1801.21 67.4314 Q1805.51 67.4314 1809.52 66.3781 Q1813.57 65.3249 1817.54 63.2184 L1817.54 70.267 Q1813.53 71.9684 1809.32 72.8596 Q1805.1 73.7508 1800.77 73.7508 Q1789.91 73.7508 1783.55 67.4314 Q1777.23 61.1119 1777.23 50.3365 Q1777.23 39.1965 1783.23 32.6746 Q1789.26 26.1121 1799.47 26.1121 Q1808.63 26.1121 1813.93 32.0264 Q1819.28 37.9003 1819.28 48.0275 M1811.83 45.84 Q1811.75 39.7232 1808.38 36.0774 Q1805.06 32.4315 1799.55 32.4315 Q1793.31 32.4315 1789.55 35.9558 Q1785.82 39.4801 1785.25 45.8805 L1811.83 45.84 Z\" fill=\"#000000\" fill-rule=\"evenodd\" fill-opacity=\"1\" /><path clip-path=\"url(#clip290)\" d=\"M 0 0 M1853.39 34.1734 Q1852.13 33.4443 1850.63 33.1202 Q1849.18 32.7556 1847.39 32.7556 Q1841.07 32.7556 1837.67 36.8875 Q1834.31 40.9789 1834.31 48.6757 L1834.31 72.576 L1826.82 72.576 L1826.82 27.2059 L1834.31 27.2059 L1834.31 34.2544 Q1836.66 30.1225 1840.43 28.1376 Q1844.19 26.1121 1849.58 26.1121 Q1850.35 26.1121 1851.28 26.2337 Q1852.21 26.3147 1853.35 26.5172 L1853.39 34.1734 Z\" fill=\"#000000\" fill-rule=\"evenodd\" fill-opacity=\"1\" /><polyline clip-path=\"url(#clip292)\" style=\"stroke:#009af9; stroke-width:4; stroke-opacity:1; fill:none\" points=\"\n",
       "  175.59,1334.37 186.212,1269.35 196.834,1200.32 207.455,1090.63 218.077,1085.33 228.699,1009.6 239.321,979.613 249.943,937.328 260.565,851.638 271.187,817.938 \n",
       "  281.809,732.509 292.43,628.673 303.052,665.316 313.674,643.964 324.296,704.214 334.918,725.755 345.54,656.958 356.162,612.06 366.784,613.223 377.405,592.299 \n",
       "  388.027,527.874 398.649,450.861 409.271,432.567 419.893,498.227 430.515,500.019 441.137,514.092 451.759,470.174 462.38,443.557 473.002,454.075 483.624,481.425 \n",
       "  494.246,504.659 504.868,461.94 515.49,468.552 526.112,418.203 536.734,400.012 547.355,357.641 557.977,296.681 568.599,273.603 579.221,373.219 589.843,304.392 \n",
       "  600.465,397.31 611.087,434.137 621.709,423.967 632.33,432.419 642.952,458.273 653.574,434.629 664.196,354.015 674.818,263.11 685.44,254.944 696.062,313.433 \n",
       "  706.684,234.334 717.306,296.781 727.927,346.103 738.549,307.898 749.171,365.052 759.793,367.886 770.415,422.472 781.037,380.588 791.659,351.822 802.281,428.133 \n",
       "  812.902,486.742 823.524,582.804 834.146,603.897 844.768,622.93 855.39,529.069 866.012,509.121 876.634,602.194 887.256,605.373 897.877,544.078 908.499,575.075 \n",
       "  919.121,543.554 929.743,520.187 940.365,568.531 950.987,575.71 961.609,520.437 972.231,521.143 982.852,603.668 993.474,595.442 1004.1,672.251 1014.72,619.191 \n",
       "  1025.34,530.759 1035.96,596.425 1046.58,689.195 1057.21,655.17 1067.83,666.438 1078.45,613.97 1089.07,567.768 1099.69,619.402 1110.31,700.877 1120.94,657.607 \n",
       "  1131.56,690.117 1142.18,642.618 1152.8,557.262 1163.42,626.057 1174.05,735.215 1184.67,752.235 1195.29,795.485 1205.91,829.018 1216.53,847.998 1227.16,896.508 \n",
       "  1237.78,927.798 1248.4,925.258 1259.02,844.151 1269.64,775.204 1280.26,781.122 1290.89,837.566 1301.51,778.483 1312.13,782.138 1322.75,731.696 1333.37,723.631 \n",
       "  1344,799.775 1354.62,775.848 1365.24,762.724 1375.86,784.066 1386.48,754.075 1397.11,681.267 1407.73,696.577 1418.35,653.312 1428.97,565.733 1439.59,553.083 \n",
       "  1450.22,503.144 1460.84,467.324 1471.46,499.688 1482.08,457.957 1492.7,410.985 1503.32,447.129 1513.95,399.052 1524.57,352.796 1535.19,390.797 1545.81,309.677 \n",
       "  1556.43,257.934 1567.06,241.08 1577.68,341.744 1588.3,323.664 1598.92,314.933 1609.54,247.25 1620.17,255.802 1630.79,242.323 1641.41,182.096 1652.03,201.831 \n",
       "  1662.65,230.619 1673.27,223.922 1683.9,202.043 1694.52,250.342 1705.14,269.539 1715.76,310.344 1726.38,278.834 1737.01,276.194 1747.63,312.123 1758.25,365.772 \n",
       "  1768.87,363.19 1779.49,398.482 1790.12,371.662 1800.74,368.025 1811.36,329.331 1821.98,241.427 1832.6,294.739 1843.22,347.098 1853.85,342.226 1864.47,424.816 \n",
       "  1875.09,469.924 1885.71,474.161 1896.33,518.774 1906.96,482.638 1917.58,581.906 1928.2,612.89 1938.82,567.964 1949.44,657.391 1960.07,577.241 1970.69,577.577 \n",
       "  1981.31,542.986 1991.93,391.817 2002.55,450.992 2013.17,446.59 2023.8,470.131 2034.42,462.373 2045.04,498.771 2055.66,523.256 2066.28,488.807 2076.91,477.56 \n",
       "  2087.53,418.949 2098.15,401.475 2108.77,391.698 2119.39,332.606 2130.02,316.967 2140.64,323.417 2151.26,299.254 2161.88,285.868 2172.5,253.144 2183.12,321.518 \n",
       "  2193.75,325.551 2204.37,335.971 2214.99,315.199 2225.61,400.305 2236.23,387.227 2246.86,373.802 2257.48,246.672 2268.1,183.618 2278.72,162.047 2289.34,187.819 \n",
       "  \n",
       "  \"/>\n",
       "<polyline clip-path=\"url(#clip292)\" style=\"stroke:#e26f46; stroke-width:4; stroke-opacity:1; fill:none\" points=\"\n",
       "  175.59,1325.83 186.212,1319.96 196.834,1191.67 207.455,1128.64 218.077,1068.36 228.699,942.014 239.321,918.891 249.943,895.493 260.565,860.629 271.187,858.706 \n",
       "  281.809,904.589 292.43,896.909 303.052,915.872 313.674,951.327 324.296,978.456 334.918,1059.8 345.54,1074.08 356.162,1085.45 366.784,1052.85 377.405,998.802 \n",
       "  388.027,942.108 398.649,899.709 409.271,777.945 419.893,705.731 430.515,732.805 441.137,791.909 451.759,704.921 462.38,654.082 473.002,674.466 483.624,657.08 \n",
       "  494.246,755.099 504.868,742.048 515.49,762.078 526.112,779.051 536.734,743.505 547.355,793.441 557.977,830.35 568.599,825.526 579.221,863.949 589.843,944.784 \n",
       "  600.465,883.727 611.087,870.205 621.709,843.651 632.33,824.264 642.952,814.646 653.574,716.442 664.196,774.85 674.818,863.621 685.44,1008.1 696.062,982.862 \n",
       "  706.684,971.749 717.306,1130.45 727.927,1176.96 738.549,1075.7 749.171,1123.84 759.793,1241.67 770.415,1181.99 781.037,1118.41 791.659,1110.73 802.281,1252.13 \n",
       "  812.902,1269.16 823.524,1305.11 834.146,1267.24 844.768,1273.51 855.39,1314.12 866.012,1192.39 876.634,1131.78 887.256,1198.9 897.877,1248.22 908.499,1258.11 \n",
       "  919.121,1209.21 929.743,1227.82 940.365,1297.5 950.987,1258.48 961.609,1239.82 972.231,1239.6 982.852,1280.89 993.474,1267.09 1004.1,1294.08 1014.72,1280.47 \n",
       "  1025.34,1329.81 1035.96,1399.94 1046.58,1377.87 1057.21,1322.68 1067.83,1283.39 1078.45,1285.33 1089.07,1217.49 1099.69,1220.99 1110.31,1232.86 1120.94,1395.05 \n",
       "  1131.56,1267.25 1142.18,1327.81 1152.8,1362.59 1163.42,1302.78 1174.05,1326.59 1184.67,1285.62 1195.29,1250.95 1205.91,1223.29 1216.53,1267.13 1227.16,1225.8 \n",
       "  1237.78,1258.75 1248.4,1261.6 1259.02,1291.54 1269.64,1233.61 1280.26,1180.04 1290.89,1273.14 1301.51,1288.09 1312.13,1255.8 1322.75,1281.88 1333.37,1206.4 \n",
       "  1344,1231.4 1354.62,1216.28 1365.24,1177.72 1375.86,1168.61 1386.48,1213.61 1397.11,1212.89 1407.73,1241.81 1418.35,1225.19 1428.97,1230.97 1439.59,1224.44 \n",
       "  1450.22,1241.29 1460.84,1310.69 1471.46,1361.5 1482.08,1368.83 1492.7,1357.55 1503.32,1297.2 1513.95,1327.94 1524.57,1441.02 1535.19,1375.86 1545.81,1388.38 \n",
       "  1556.43,1340.96 1567.06,1326.84 1577.68,1357.31 1588.3,1388.48 1598.92,1346.27 1609.54,1411.73 1620.17,1340.18 1630.79,1307.08 1641.41,1326.5 1652.03,1345.06 \n",
       "  1662.65,1253.48 1673.27,1266.26 1683.9,1378.66 1694.52,1277.39 1705.14,1255.13 1715.76,1338.49 1726.38,1308.06 1737.01,1365.08 1747.63,1323.13 1758.25,1383.13 \n",
       "  1768.87,1347.13 1779.49,1316.61 1790.12,1352.97 1800.74,1361.75 1811.36,1311.11 1821.98,1262.72 1832.6,1331.32 1843.22,1307.42 1853.85,1318.34 1864.47,1285.82 \n",
       "  1875.09,1291.91 1885.71,1348.88 1896.33,1328.39 1906.96,1325.54 1917.58,1346.46 1928.2,1321.82 1938.82,1344.78 1949.44,1353.67 1960.07,1359.94 1970.69,1438.08 \n",
       "  1981.31,1349.64 1991.93,1378.21 2002.55,1380.2 2013.17,1433.81 2023.8,1373.77 2034.42,1401.77 2045.04,1293.88 2055.66,1301.93 2066.28,1282.47 2076.91,1332.88 \n",
       "  2087.53,1326.17 2098.15,1382.32 2108.77,1411.55 2119.39,1409.46 2130.02,1373.6 2140.64,1371.57 2151.26,1384.44 2161.88,1365.27 2172.5,1368.8 2183.12,1405.07 \n",
       "  2193.75,1358.19 2204.37,1368.44 2214.99,1311.34 2225.61,1323.21 2236.23,1285.07 2246.86,1367.18 2257.48,1354.77 2268.1,1297.91 2278.72,1282.39 2289.34,1351.16 \n",
       "  \n",
       "  \"/>\n",
       "<polyline clip-path=\"url(#clip292)\" style=\"stroke:#3da44d; stroke-width:4; stroke-opacity:1; fill:none\" points=\"\n",
       "  175.59,1334 186.212,1264.41 196.834,1195.69 207.455,1090.05 218.077,1083.19 228.699,1005.28 239.321,981.849 249.943,936.816 260.565,865.292 271.187,840.179 \n",
       "  281.809,770.762 292.43,682.279 303.052,728.735 313.674,730.604 324.296,794.97 334.918,802.164 345.54,750.84 356.162,696.028 366.784,714.278 377.405,665.89 \n",
       "  388.027,613.285 398.649,562.779 409.271,553.947 419.893,595.406 430.515,583.318 441.137,641.389 451.759,573.537 462.38,556.136 473.002,542.725 483.624,603.489 \n",
       "  494.246,642.121 504.868,607.783 515.49,592.133 526.112,553.599 536.734,534.981 547.355,481.659 557.977,430.906 568.599,389.277 579.221,459.383 589.843,373.235 \n",
       "  600.465,472.133 611.087,506.171 621.709,538.648 632.33,567.09 642.952,559.271 653.574,549.528 664.196,503.547 674.818,455.843 685.44,463.823 696.062,541.501 \n",
       "  706.684,463.749 717.306,535.316 727.927,572.284 738.549,544.915 749.171,571.381 759.793,572.383 770.415,606.139 781.037,595.712 791.659,574.665 802.281,650.405 \n",
       "  812.902,709.658 823.524,793.049 834.146,796.653 844.768,807.642 855.39,754.113 866.012,724.042 876.634,801.699 887.256,789.235 897.877,772.189 908.499,791.286 \n",
       "  919.121,727.546 929.743,704.508 940.365,770.145 950.987,751.901 961.609,701.528 972.231,720.135 982.852,787.964 993.474,758.987 1004.1,811.901 1014.72,746.284 \n",
       "  1025.34,680.413 1035.96,719.796 1046.58,810.514 1057.21,793.725 1067.83,800.805 1078.45,801.308 1089.07,756.396 1099.69,797.447 1110.31,879.664 1120.94,808.478 \n",
       "  1131.56,819.913 1142.18,785.63 1152.8,705.319 1163.42,773.182 1174.05,873.839 1184.67,908.316 1195.29,912.834 1205.91,918.435 1216.53,925.162 1227.16,934.222 \n",
       "  1237.78,927.187 1248.4,901.197 1259.02,822.589 1269.64,777.838 1280.26,808.396 1290.89,858.45 1301.51,816.582 1312.13,805.605 1322.75,738.737 1333.37,746.841 \n",
       "  1344,790.15 1354.62,773.21 1365.24,765.035 1375.86,764.898 1386.48,753.579 1397.11,681.919 1407.73,735.326 1418.35,716.152 1428.97,623.283 1439.59,599.004 \n",
       "  1450.22,561.795 1460.84,504.737 1471.46,514.527 1482.08,519.959 1492.7,515.582 1503.32,571.921 1513.95,566.505 1524.57,574.58 1535.19,618.925 1545.81,547.307 \n",
       "  1556.43,513.286 1567.06,514.007 1577.68,581.367 1588.3,553.267 1598.92,585.237 1609.54,515.079 1620.17,534.597 1630.79,526.157 1641.41,499.856 1652.03,518.574 \n",
       "  1662.65,557.373 1673.27,568.325 1683.9,566.296 1694.52,609.727 1705.14,627.774 1715.76,620.935 1726.38,619.252 1737.01,612.028 1747.63,683.505 1758.25,714.91 \n",
       "  1768.87,680.553 1779.49,704.298 1790.12,640.929 1800.74,701.009 1811.36,706.034 1821.98,617.109 1832.6,692 1843.22,699.145 1853.85,678.939 1864.47,735.209 \n",
       "  1875.09,751.015 1885.71,770.866 1896.33,801.643 1906.96,787.227 1917.58,852.85 1928.2,897.042 1938.82,874.154 1949.44,919.321 1960.07,852.938 1970.69,814.353 \n",
       "  1981.31,721.037 1991.93,619.061 2002.55,714.229 2013.17,708.147 2023.8,767.569 2034.42,786.252 2045.04,792.472 2055.66,792.561 2066.28,725.482 2076.91,695.788 \n",
       "  2087.53,674.308 2098.15,646.77 2108.77,620.947 2119.39,564.762 2130.02,570.212 2140.64,559.037 2151.26,516.591 2161.88,474.922 2172.5,491.89 2183.12,550.544 \n",
       "  2193.75,533.607 2204.37,594.561 2214.99,602.824 2225.61,678.751 2236.23,650.912 2246.86,609.295 2257.48,542.387 2268.1,485.836 2278.72,476.097 2289.34,507.44 \n",
       "  \n",
       "  \"/>\n",
       "<polyline clip-path=\"url(#clip292)\" style=\"stroke:#c271d2; stroke-width:4; stroke-opacity:1; fill:none\" points=\"\n",
       "  175.59,1333.03 186.212,1291.34 196.834,1148.74 207.455,1083.03 218.077,1080 228.699,1102.17 239.321,1115.17 249.943,1002.11 260.565,918.985 271.187,929.884 \n",
       "  281.809,912.586 292.43,862.288 303.052,905.982 313.674,907.676 324.296,934.382 334.918,911.282 345.54,900.962 356.162,920.23 366.784,823.983 377.405,852.553 \n",
       "  388.027,893.008 398.649,835.867 409.271,806.395 419.893,797.182 430.515,826.535 441.137,879.232 451.759,819.196 462.38,882.925 473.002,843.427 483.624,882.398 \n",
       "  494.246,874.68 504.868,864.005 515.49,797.176 526.112,855.927 536.734,829.188 547.355,869.255 557.977,908.384 568.599,918.382 579.221,915.316 589.843,914.178 \n",
       "  600.465,968.356 611.087,996.87 621.709,994.056 632.33,1100.01 642.952,1102.28 653.574,1148.78 664.196,1196.15 674.818,1127.24 685.44,1085.44 696.062,1136.94 \n",
       "  706.684,1152.27 717.306,1143.95 727.927,1141.28 738.549,1111.64 749.171,1155.37 759.793,1119.21 770.415,1219.76 781.037,1197.71 791.659,1234.83 802.281,1216.34 \n",
       "  812.902,1191.28 823.524,1146.4 834.146,1201.36 844.768,1170.44 855.39,1169.56 866.012,1179.61 876.634,1130.98 887.256,1165.59 897.877,1256 908.499,1261.17 \n",
       "  919.121,1191.86 929.743,1217.72 940.365,1231.01 950.987,1249.19 961.609,1234.24 972.231,1208.75 982.852,1210.59 993.474,1243.05 1004.1,1226.5 1014.72,1356.28 \n",
       "  1025.34,1328.3 1035.96,1349.04 1046.58,1335.19 1057.21,1296.64 1067.83,1353.2 1078.45,1322.34 1089.07,1388.63 1099.69,1392.28 1110.31,1320.34 1120.94,1345.38 \n",
       "  1131.56,1283.03 1142.18,1293.79 1152.8,1367.1 1163.42,1383.7 1174.05,1397.93 1184.67,1382.41 1195.29,1410.72 1205.91,1356.87 1216.53,1306.28 1227.16,1367.72 \n",
       "  1237.78,1389.03 1248.4,1384.74 1259.02,1289.51 1269.64,1413.12 1280.26,1365.08 1290.89,1340.05 1301.51,1328.54 1312.13,1332.86 1322.75,1306.25 1333.37,1396.41 \n",
       "  1344,1394.65 1354.62,1371.03 1365.24,1354.24 1375.86,1351.99 1386.48,1286.78 1397.11,1305.19 1407.73,1359 1418.35,1379.6 1428.97,1324.38 1439.59,1301.53 \n",
       "  1450.22,1403.55 1460.84,1387.33 1471.46,1402.61 1482.08,1390.09 1492.7,1395.9 1503.32,1364.88 1513.95,1360.1 1524.57,1377.54 1535.19,1386.09 1545.81,1399.35 \n",
       "  1556.43,1363.09 1567.06,1351.36 1577.68,1384.94 1588.3,1379.28 1598.92,1338.75 1609.54,1411.79 1620.17,1401.45 1630.79,1397.42 1641.41,1406.54 1652.03,1332.04 \n",
       "  1662.65,1375.67 1673.27,1275.51 1683.9,1317.27 1694.52,1340.82 1705.14,1387.1 1715.76,1339.75 1726.38,1371.15 1737.01,1326.93 1747.63,1348.98 1758.25,1257.84 \n",
       "  1768.87,1282.32 1779.49,1366.87 1790.12,1330.47 1800.74,1288.81 1811.36,1300.3 1821.98,1247.62 1832.6,1177.58 1843.22,1160.91 1853.85,1182.83 1864.47,1195.69 \n",
       "  1875.09,1277.44 1885.71,1231.79 1896.33,1216.07 1906.96,1233.38 1917.58,1405 1928.2,1403.68 1938.82,1328 1949.44,1312.24 1960.07,1293.86 1970.69,1379.01 \n",
       "  1981.31,1374.71 1991.93,1363.66 2002.55,1328.47 2013.17,1263.2 2023.8,1330.87 2034.42,1311.11 2045.04,1328.43 2055.66,1294.15 2066.28,1349.74 2076.91,1380.6 \n",
       "  2087.53,1373.14 2098.15,1348.48 2108.77,1369.24 2119.39,1366.97 2130.02,1318.27 2140.64,1345.86 2151.26,1366.39 2161.88,1447.87 2172.5,1387.11 2183.12,1356.58 \n",
       "  2193.75,1363.23 2204.37,1391.33 2214.99,1400.79 2225.61,1382.74 2236.23,1346.32 2246.86,1384.12 2257.48,1284.75 2268.1,1308.82 2278.72,1386.18 2289.34,1381.56 \n",
       "  \n",
       "  \"/>\n",
       "<path clip-path=\"url(#clip290)\" d=\"\n",
       "M1179.28 471.305 L2278.07 471.305 L2278.07 168.905 L1179.28 168.905  Z\n",
       "  \" fill=\"#ffffff\" fill-rule=\"evenodd\" fill-opacity=\"1\"/>\n",
       "<polyline clip-path=\"url(#clip290)\" style=\"stroke:#000000; stroke-width:4; stroke-opacity:1; fill:none\" points=\"\n",
       "  1179.28,471.305 2278.07,471.305 2278.07,168.905 1179.28,168.905 1179.28,471.305 \n",
       "  \"/>\n",
       "<polyline clip-path=\"url(#clip290)\" style=\"stroke:#009af9; stroke-width:4; stroke-opacity:1; fill:none\" points=\"\n",
       "  1204.18,229.385 1353.55,229.385 \n",
       "  \"/>\n",
       "<path clip-path=\"url(#clip290)\" d=\"M 0 0 M1415.04 224.674 L1415.04 210.646 L1419.3 210.646 L1419.3 246.665 L1415.04 246.665 L1415.04 242.776 Q1413.7 245.091 1411.64 246.225 Q1409.6 247.336 1406.73 247.336 Q1402.03 247.336 1399.07 243.586 Q1396.13 239.836 1396.13 233.725 Q1396.13 227.614 1399.07 223.864 Q1402.03 220.114 1406.73 220.114 Q1409.6 220.114 1411.64 221.248 Q1413.7 222.359 1415.04 224.674 M1400.53 233.725 Q1400.53 238.424 1402.45 241.109 Q1404.39 243.771 1407.77 243.771 Q1411.15 243.771 1413.1 241.109 Q1415.04 238.424 1415.04 233.725 Q1415.04 229.026 1413.1 226.364 Q1411.15 223.679 1407.77 223.679 Q1404.39 223.679 1402.45 226.364 Q1400.53 229.026 1400.53 233.725 Z\" fill=\"#000000\" fill-rule=\"evenodd\" fill-opacity=\"1\" /><path clip-path=\"url(#clip290)\" d=\"M 0 0 M1445.95 232.637 L1445.95 234.72 L1426.36 234.72 Q1426.64 239.118 1429 241.433 Q1431.39 243.725 1435.62 243.725 Q1438.08 243.725 1440.37 243.123 Q1442.68 242.521 1444.95 241.317 L1444.95 245.345 Q1442.66 246.317 1440.25 246.827 Q1437.84 247.336 1435.37 247.336 Q1429.16 247.336 1425.53 243.725 Q1421.92 240.114 1421.92 233.956 Q1421.92 227.591 1425.34 223.864 Q1428.79 220.114 1434.63 220.114 Q1439.86 220.114 1442.89 223.493 Q1445.95 226.85 1445.95 232.637 M1441.69 231.387 Q1441.64 227.892 1439.72 225.808 Q1437.82 223.725 1434.67 223.725 Q1431.11 223.725 1428.95 225.739 Q1426.83 227.753 1426.5 231.41 L1441.69 231.387 Z\" fill=\"#000000\" fill-rule=\"evenodd\" fill-opacity=\"1\" /><path clip-path=\"url(#clip290)\" d=\"M 0 0 M1470.6 225.716 Q1472.2 222.845 1474.42 221.48 Q1476.64 220.114 1479.65 220.114 Q1483.7 220.114 1485.9 222.961 Q1488.1 225.785 1488.1 231.017 L1488.1 246.665 L1483.82 246.665 L1483.82 231.155 Q1483.82 227.429 1482.5 225.623 Q1481.18 223.818 1478.47 223.818 Q1475.16 223.818 1473.24 226.017 Q1471.32 228.216 1471.32 232.012 L1471.32 246.665 L1467.03 246.665 L1467.03 231.155 Q1467.03 227.405 1465.71 225.623 Q1464.39 223.818 1461.64 223.818 Q1458.38 223.818 1456.45 226.04 Q1454.53 228.239 1454.53 232.012 L1454.53 246.665 L1450.25 246.665 L1450.25 220.739 L1454.53 220.739 L1454.53 224.767 Q1455.99 222.382 1458.03 221.248 Q1460.07 220.114 1462.87 220.114 Q1465.69 220.114 1467.66 221.549 Q1469.65 222.984 1470.6 225.716 Z\" fill=\"#000000\" fill-rule=\"evenodd\" fill-opacity=\"1\" /><path clip-path=\"url(#clip290)\" d=\"M 0 0 M1502.61 223.725 Q1499.19 223.725 1497.2 226.41 Q1495.2 229.072 1495.2 233.725 Q1495.2 238.378 1497.17 241.063 Q1499.16 243.725 1502.61 243.725 Q1506.01 243.725 1508.01 241.04 Q1510 238.355 1510 233.725 Q1510 229.118 1508.01 226.433 Q1506.01 223.725 1502.61 223.725 M1502.61 220.114 Q1508.17 220.114 1511.34 223.725 Q1514.51 227.336 1514.51 233.725 Q1514.51 240.091 1511.34 243.725 Q1508.17 247.336 1502.61 247.336 Q1497.03 247.336 1493.86 243.725 Q1490.71 240.091 1490.71 233.725 Q1490.71 227.336 1493.86 223.725 Q1497.03 220.114 1502.61 220.114 Z\" fill=\"#000000\" fill-rule=\"evenodd\" fill-opacity=\"1\" /><path clip-path=\"url(#clip290)\" d=\"M 0 0 M1540.53 231.017 L1540.53 246.665 L1536.27 246.665 L1536.27 231.155 Q1536.27 227.475 1534.83 225.646 Q1533.4 223.818 1530.53 223.818 Q1527.08 223.818 1525.09 226.017 Q1523.1 228.216 1523.1 232.012 L1523.1 246.665 L1518.82 246.665 L1518.82 220.739 L1523.1 220.739 L1523.1 224.767 Q1524.63 222.429 1526.69 221.271 Q1528.77 220.114 1531.48 220.114 Q1535.95 220.114 1538.24 222.892 Q1540.53 225.646 1540.53 231.017 Z\" fill=\"#000000\" fill-rule=\"evenodd\" fill-opacity=\"1\" /><path clip-path=\"url(#clip290)\" d=\"M 0 0 M1564.69 254.535 L1564.69 257.845 L1540.07 257.845 L1540.07 254.535 L1564.69 254.535 Z\" fill=\"#000000\" fill-rule=\"evenodd\" fill-opacity=\"1\" /><path clip-path=\"url(#clip290)\" d=\"M 0 0 M1579.21 223.725 Q1575.78 223.725 1573.79 226.41 Q1571.8 229.072 1571.8 233.725 Q1571.8 238.378 1573.77 241.063 Q1575.76 243.725 1579.21 243.725 Q1582.61 243.725 1584.6 241.04 Q1586.59 238.355 1586.59 233.725 Q1586.59 229.118 1584.6 226.433 Q1582.61 223.725 1579.21 223.725 M1579.21 220.114 Q1584.76 220.114 1587.94 223.725 Q1591.11 227.336 1591.11 233.725 Q1591.11 240.091 1587.94 243.725 Q1584.76 247.336 1579.21 247.336 Q1573.63 247.336 1570.46 243.725 Q1567.31 240.091 1567.31 233.725 Q1567.31 227.336 1570.46 223.725 Q1573.63 220.114 1579.21 220.114 Z\" fill=\"#000000\" fill-rule=\"evenodd\" fill-opacity=\"1\" /><path clip-path=\"url(#clip290)\" d=\"M 0 0 M1599.69 242.776 L1599.69 256.526 L1595.41 256.526 L1595.41 220.739 L1599.69 220.739 L1599.69 224.674 Q1601.04 222.359 1603.07 221.248 Q1605.13 220.114 1607.98 220.114 Q1612.7 220.114 1615.64 223.864 Q1618.61 227.614 1618.61 233.725 Q1618.61 239.836 1615.64 243.586 Q1612.7 247.336 1607.98 247.336 Q1605.13 247.336 1603.07 246.225 Q1601.04 245.091 1599.69 242.776 M1614.19 233.725 Q1614.19 229.026 1612.24 226.364 Q1610.32 223.679 1606.94 223.679 Q1603.56 223.679 1601.62 226.364 Q1599.69 229.026 1599.69 233.725 Q1599.69 238.424 1601.62 241.109 Q1603.56 243.771 1606.94 243.771 Q1610.32 243.771 1612.24 241.109 Q1614.19 238.424 1614.19 233.725 Z\" fill=\"#000000\" fill-rule=\"evenodd\" fill-opacity=\"1\" /><path clip-path=\"url(#clip290)\" d=\"M 0 0 M1627.29 213.378 L1627.29 220.739 L1636.06 220.739 L1636.06 224.049 L1627.29 224.049 L1627.29 238.123 Q1627.29 241.294 1628.14 242.197 Q1629.02 243.1 1631.69 243.1 L1636.06 243.1 L1636.06 246.665 L1631.69 246.665 Q1626.75 246.665 1624.88 244.836 Q1623 242.984 1623 238.123 L1623 224.049 L1619.88 224.049 L1619.88 220.739 L1623 220.739 L1623 213.378 L1627.29 213.378 Z\" fill=\"#000000\" fill-rule=\"evenodd\" fill-opacity=\"1\" /><path clip-path=\"url(#clip290)\" d=\"M 0 0 M1641.62 240.785 L1646.5 240.785 L1646.5 246.665 L1641.62 246.665 L1641.62 240.785 M1641.62 222.151 L1646.5 222.151 L1646.5 228.03 L1641.62 228.03 L1641.62 222.151 Z\" fill=\"#000000\" fill-rule=\"evenodd\" fill-opacity=\"1\" /><path clip-path=\"url(#clip290)\" d=\"M 0 0 M1662.7 216.711 L1656.36 233.91 L1669.07 233.91 L1662.7 216.711 M1660.06 212.105 L1665.37 212.105 L1678.54 246.665 L1673.68 246.665 L1670.53 237.799 L1654.95 237.799 L1651.8 246.665 L1646.87 246.665 L1660.06 212.105 Z\" fill=\"#000000\" fill-rule=\"evenodd\" fill-opacity=\"1\" /><path clip-path=\"url(#clip290)\" d=\"M 0 0 M1682.56 236.433 L1682.56 220.739 L1686.82 220.739 L1686.82 236.271 Q1686.82 239.952 1688.26 241.804 Q1689.69 243.632 1692.56 243.632 Q1696.01 243.632 1698 241.433 Q1700.02 239.234 1700.02 235.438 L1700.02 220.739 L1704.28 220.739 L1704.28 246.665 L1700.02 246.665 L1700.02 242.683 Q1698.47 245.044 1696.41 246.202 Q1694.37 247.336 1691.66 247.336 Q1687.19 247.336 1684.88 244.558 Q1682.56 241.78 1682.56 236.433 M1693.28 220.114 L1693.28 220.114 Z\" fill=\"#000000\" fill-rule=\"evenodd\" fill-opacity=\"1\" /><path clip-path=\"url(#clip290)\" d=\"M 0 0 M1712.96 213.378 L1712.96 220.739 L1721.73 220.739 L1721.73 224.049 L1712.96 224.049 L1712.96 238.123 Q1712.96 241.294 1713.81 242.197 Q1714.69 243.1 1717.36 243.1 L1721.73 243.1 L1721.73 246.665 L1717.36 246.665 Q1712.43 246.665 1710.55 244.836 Q1708.68 242.984 1708.68 238.123 L1708.68 224.049 L1705.55 224.049 L1705.55 220.739 L1708.68 220.739 L1708.68 213.378 L1712.96 213.378 Z\" fill=\"#000000\" fill-rule=\"evenodd\" fill-opacity=\"1\" /><path clip-path=\"url(#clip290)\" d=\"M 0 0 M1736.24 223.725 Q1732.82 223.725 1730.83 226.41 Q1728.84 229.072 1728.84 233.725 Q1728.84 238.378 1730.81 241.063 Q1732.8 243.725 1736.24 243.725 Q1739.65 243.725 1741.64 241.04 Q1743.63 238.355 1743.63 233.725 Q1743.63 229.118 1741.64 226.433 Q1739.65 223.725 1736.24 223.725 M1736.24 220.114 Q1741.8 220.114 1744.97 223.725 Q1748.14 227.336 1748.14 233.725 Q1748.14 240.091 1744.97 243.725 Q1741.8 247.336 1736.24 247.336 Q1730.67 247.336 1727.49 243.725 Q1724.35 240.091 1724.35 233.725 Q1724.35 227.336 1727.49 223.725 Q1730.67 220.114 1736.24 220.114 Z\" fill=\"#000000\" fill-rule=\"evenodd\" fill-opacity=\"1\" /><path clip-path=\"url(#clip290)\" d=\"M 0 0 M1784.74 224.674 L1784.74 210.646 L1789 210.646 L1789 246.665 L1784.74 246.665 L1784.74 242.776 Q1783.4 245.091 1781.34 246.225 Q1779.3 247.336 1776.43 247.336 Q1771.73 247.336 1768.77 243.586 Q1765.83 239.836 1765.83 233.725 Q1765.83 227.614 1768.77 223.864 Q1771.73 220.114 1776.43 220.114 Q1779.3 220.114 1781.34 221.248 Q1783.4 222.359 1784.74 224.674 M1770.23 233.725 Q1770.23 238.424 1772.15 241.109 Q1774.09 243.771 1777.47 243.771 Q1780.85 243.771 1782.8 241.109 Q1784.74 238.424 1784.74 233.725 Q1784.74 229.026 1782.8 226.364 Q1780.85 223.679 1777.47 223.679 Q1774.09 223.679 1772.15 226.364 Q1770.23 229.026 1770.23 233.725 Z\" fill=\"#000000\" fill-rule=\"evenodd\" fill-opacity=\"1\" /><path clip-path=\"url(#clip290)\" d=\"M 0 0 M1815.64 232.637 L1815.64 234.72 L1796.06 234.72 Q1796.34 239.118 1798.7 241.433 Q1801.08 243.725 1805.32 243.725 Q1807.77 243.725 1810.06 243.123 Q1812.38 242.521 1814.65 241.317 L1814.65 245.345 Q1812.36 246.317 1809.95 246.827 Q1807.54 247.336 1805.06 247.336 Q1798.86 247.336 1795.23 243.725 Q1791.61 240.114 1791.61 233.956 Q1791.61 227.591 1795.04 223.864 Q1798.49 220.114 1804.32 220.114 Q1809.55 220.114 1812.59 223.493 Q1815.64 226.85 1815.64 232.637 M1811.38 231.387 Q1811.34 227.892 1809.42 225.808 Q1807.52 223.725 1804.37 223.725 Q1800.8 223.725 1798.65 225.739 Q1796.52 227.753 1796.2 231.41 L1811.38 231.387 Z\" fill=\"#000000\" fill-rule=\"evenodd\" fill-opacity=\"1\" /><path clip-path=\"url(#clip290)\" d=\"M 0 0 M1840.3 225.716 Q1841.89 222.845 1844.11 221.48 Q1846.34 220.114 1849.35 220.114 Q1853.4 220.114 1855.6 222.961 Q1857.8 225.785 1857.8 231.017 L1857.8 246.665 L1853.51 246.665 L1853.51 231.155 Q1853.51 227.429 1852.19 225.623 Q1850.87 223.818 1848.17 223.818 Q1844.86 223.818 1842.93 226.017 Q1841.01 228.216 1841.01 232.012 L1841.01 246.665 L1836.73 246.665 L1836.73 231.155 Q1836.73 227.405 1835.41 225.623 Q1834.09 223.818 1831.34 223.818 Q1828.07 223.818 1826.15 226.04 Q1824.23 228.239 1824.23 232.012 L1824.23 246.665 L1819.95 246.665 L1819.95 220.739 L1824.23 220.739 L1824.23 224.767 Q1825.69 222.382 1827.73 221.248 Q1829.76 220.114 1832.56 220.114 Q1835.39 220.114 1837.36 221.549 Q1839.35 222.984 1840.3 225.716 Z\" fill=\"#000000\" fill-rule=\"evenodd\" fill-opacity=\"1\" /><path clip-path=\"url(#clip290)\" d=\"M 0 0 M1872.31 223.725 Q1868.88 223.725 1866.89 226.41 Q1864.9 229.072 1864.9 233.725 Q1864.9 238.378 1866.87 241.063 Q1868.86 243.725 1872.31 243.725 Q1875.71 243.725 1877.7 241.04 Q1879.69 238.355 1879.69 233.725 Q1879.69 229.118 1877.7 226.433 Q1875.71 223.725 1872.31 223.725 M1872.31 220.114 Q1877.86 220.114 1881.04 223.725 Q1884.21 227.336 1884.21 233.725 Q1884.21 240.091 1881.04 243.725 Q1877.86 247.336 1872.31 247.336 Q1866.73 247.336 1863.56 243.725 Q1860.41 240.091 1860.41 233.725 Q1860.41 227.336 1863.56 223.725 Q1866.73 220.114 1872.31 220.114 Z\" fill=\"#000000\" fill-rule=\"evenodd\" fill-opacity=\"1\" /><path clip-path=\"url(#clip290)\" d=\"M 0 0 M1910.23 231.017 L1910.23 246.665 L1905.97 246.665 L1905.97 231.155 Q1905.97 227.475 1904.53 225.646 Q1903.1 223.818 1900.23 223.818 Q1896.78 223.818 1894.79 226.017 Q1892.79 228.216 1892.79 232.012 L1892.79 246.665 L1888.51 246.665 L1888.51 220.739 L1892.79 220.739 L1892.79 224.767 Q1894.32 222.429 1896.38 221.271 Q1898.47 220.114 1901.17 220.114 Q1905.64 220.114 1907.93 222.892 Q1910.23 225.646 1910.23 231.017 Z\" fill=\"#000000\" fill-rule=\"evenodd\" fill-opacity=\"1\" /><path clip-path=\"url(#clip290)\" d=\"M 0 0 M1934.39 254.535 L1934.39 257.845 L1909.76 257.845 L1909.76 254.535 L1934.39 254.535 Z\" fill=\"#000000\" fill-rule=\"evenodd\" fill-opacity=\"1\" /><path clip-path=\"url(#clip290)\" d=\"M 0 0 M1938.86 210.646 L1943.12 210.646 L1943.12 246.665 L1938.86 246.665 L1938.86 210.646 Z\" fill=\"#000000\" fill-rule=\"evenodd\" fill-opacity=\"1\" /><path clip-path=\"url(#clip290)\" d=\"M 0 0 M1969.76 232.637 L1969.76 234.72 L1950.18 234.72 Q1950.46 239.118 1952.82 241.433 Q1955.2 243.725 1959.44 243.725 Q1961.89 243.725 1964.18 243.123 Q1966.5 242.521 1968.77 241.317 L1968.77 245.345 Q1966.48 246.317 1964.07 246.827 Q1961.66 247.336 1959.18 247.336 Q1952.98 247.336 1949.35 243.725 Q1945.73 240.114 1945.73 233.956 Q1945.73 227.591 1949.16 223.864 Q1952.61 220.114 1958.44 220.114 Q1963.67 220.114 1966.71 223.493 Q1969.76 226.85 1969.76 232.637 M1965.5 231.387 Q1965.46 227.892 1963.54 225.808 Q1961.64 223.725 1958.49 223.725 Q1954.92 223.725 1952.77 225.739 Q1950.64 227.753 1950.32 231.41 L1965.5 231.387 Z\" fill=\"#000000\" fill-rule=\"evenodd\" fill-opacity=\"1\" /><path clip-path=\"url(#clip290)\" d=\"M 0 0 M1986.01 233.632 Q1980.85 233.632 1978.86 234.813 Q1976.87 235.993 1976.87 238.841 Q1976.87 241.109 1978.35 242.452 Q1979.85 243.771 1982.42 243.771 Q1985.97 243.771 1988.1 241.271 Q1990.25 238.748 1990.25 234.581 L1990.25 233.632 L1986.01 233.632 M1994.51 231.873 L1994.51 246.665 L1990.25 246.665 L1990.25 242.729 Q1988.79 245.091 1986.61 246.225 Q1984.44 247.336 1981.29 247.336 Q1977.31 247.336 1974.95 245.114 Q1972.61 242.868 1972.61 239.118 Q1972.61 234.743 1975.53 232.521 Q1978.47 230.299 1984.28 230.299 L1990.25 230.299 L1990.25 229.882 Q1990.25 226.943 1988.3 225.345 Q1986.38 223.725 1982.89 223.725 Q1980.66 223.725 1978.56 224.257 Q1976.45 224.79 1974.51 225.855 L1974.51 221.919 Q1976.85 221.017 1979.04 220.577 Q1981.24 220.114 1983.33 220.114 Q1988.95 220.114 1991.73 223.031 Q1994.51 225.947 1994.51 231.873 Z\" fill=\"#000000\" fill-rule=\"evenodd\" fill-opacity=\"1\" /><path clip-path=\"url(#clip290)\" d=\"M 0 0 M2014 224.72 Q2013.28 224.304 2012.42 224.118 Q2011.59 223.91 2010.57 223.91 Q2006.96 223.91 2005.02 226.271 Q2003.1 228.609 2003.1 233.007 L2003.1 246.665 L1998.81 246.665 L1998.81 220.739 L2003.1 220.739 L2003.1 224.767 Q2004.44 222.406 2006.59 221.271 Q2008.74 220.114 2011.82 220.114 Q2012.26 220.114 2012.79 220.183 Q2013.33 220.23 2013.97 220.345 L2014 224.72 Z\" fill=\"#000000\" fill-rule=\"evenodd\" fill-opacity=\"1\" /><path clip-path=\"url(#clip290)\" d=\"M 0 0 M2039.18 231.017 L2039.18 246.665 L2034.92 246.665 L2034.92 231.155 Q2034.92 227.475 2033.49 225.646 Q2032.05 223.818 2029.18 223.818 Q2025.73 223.818 2023.74 226.017 Q2021.75 228.216 2021.75 232.012 L2021.75 246.665 L2017.47 246.665 L2017.47 220.739 L2021.75 220.739 L2021.75 224.767 Q2023.28 222.429 2025.34 221.271 Q2027.42 220.114 2030.13 220.114 Q2034.6 220.114 2036.89 222.892 Q2039.18 225.646 2039.18 231.017 Z\" fill=\"#000000\" fill-rule=\"evenodd\" fill-opacity=\"1\" /><path clip-path=\"url(#clip290)\" d=\"M 0 0 M2065.83 232.637 L2065.83 234.72 L2046.24 234.72 Q2046.52 239.118 2048.88 241.433 Q2051.27 243.725 2055.5 243.725 Q2057.96 243.725 2060.25 243.123 Q2062.56 242.521 2064.83 241.317 L2064.83 245.345 Q2062.54 246.317 2060.13 246.827 Q2057.72 247.336 2055.25 247.336 Q2049.04 247.336 2045.41 243.725 Q2041.8 240.114 2041.8 233.956 Q2041.8 227.591 2045.22 223.864 Q2048.67 220.114 2054.51 220.114 Q2059.74 220.114 2062.77 223.493 Q2065.83 226.85 2065.83 232.637 M2061.57 231.387 Q2061.52 227.892 2059.6 225.808 Q2057.7 223.725 2054.55 223.725 Q2050.99 223.725 2048.84 225.739 Q2046.71 227.753 2046.38 231.41 L2061.57 231.387 Z\" fill=\"#000000\" fill-rule=\"evenodd\" fill-opacity=\"1\" /><path clip-path=\"url(#clip290)\" d=\"M 0 0 M2085.32 224.72 Q2084.6 224.304 2083.74 224.118 Q2082.91 223.91 2081.89 223.91 Q2078.28 223.91 2076.34 226.271 Q2074.41 228.609 2074.41 233.007 L2074.41 246.665 L2070.13 246.665 L2070.13 220.739 L2074.41 220.739 L2074.41 224.767 Q2075.76 222.406 2077.91 221.271 Q2080.06 220.114 2083.14 220.114 Q2083.58 220.114 2084.11 220.183 Q2084.65 220.23 2085.29 220.345 L2085.32 224.72 Z\" fill=\"#000000\" fill-rule=\"evenodd\" fill-opacity=\"1\" /><path clip-path=\"url(#clip290)\" d=\"M 0 0 M2090.04 240.785 L2094.92 240.785 L2094.92 246.665 L2090.04 246.665 L2090.04 240.785 M2090.04 222.151 L2094.92 222.151 L2094.92 228.03 L2090.04 228.03 L2090.04 222.151 Z\" fill=\"#000000\" fill-rule=\"evenodd\" fill-opacity=\"1\" /><path clip-path=\"url(#clip290)\" d=\"M 0 0 M2113.6 215.276 Q2108.51 215.276 2105.5 219.072 Q2102.52 222.868 2102.52 229.419 Q2102.52 235.947 2105.5 239.743 Q2108.51 243.54 2113.6 243.54 Q2118.7 243.54 2121.66 239.743 Q2124.65 235.947 2124.65 229.419 Q2124.65 222.868 2121.66 219.072 Q2118.7 215.276 2113.6 215.276 M2120.15 246.04 L2126.31 252.776 L2120.66 252.776 L2115.55 247.243 Q2114.78 247.29 2114.37 247.313 Q2113.97 247.336 2113.6 247.336 Q2106.31 247.336 2101.94 242.475 Q2097.59 237.591 2097.59 229.419 Q2097.59 221.225 2101.94 216.364 Q2106.31 211.48 2113.6 211.48 Q2120.87 211.48 2125.22 216.364 Q2129.58 221.225 2129.58 229.419 Q2129.58 235.438 2127.15 239.72 Q2124.74 244.003 2120.15 246.04 Z\" fill=\"#000000\" fill-rule=\"evenodd\" fill-opacity=\"1\" /><polyline clip-path=\"url(#clip290)\" style=\"stroke:#e26f46; stroke-width:4; stroke-opacity:1; fill:none\" points=\"\n",
       "  1204.18,289.865 1353.55,289.865 \n",
       "  \"/>\n",
       "<path clip-path=\"url(#clip290)\" d=\"M 0 0 M1415.04 285.154 L1415.04 271.126 L1419.3 271.126 L1419.3 307.145 L1415.04 307.145 L1415.04 303.256 Q1413.7 305.571 1411.64 306.705 Q1409.6 307.816 1406.73 307.816 Q1402.03 307.816 1399.07 304.066 Q1396.13 300.316 1396.13 294.205 Q1396.13 288.094 1399.07 284.344 Q1402.03 280.594 1406.73 280.594 Q1409.6 280.594 1411.64 281.728 Q1413.7 282.839 1415.04 285.154 M1400.53 294.205 Q1400.53 298.904 1402.45 301.589 Q1404.39 304.251 1407.77 304.251 Q1411.15 304.251 1413.1 301.589 Q1415.04 298.904 1415.04 294.205 Q1415.04 289.506 1413.1 286.844 Q1411.15 284.159 1407.77 284.159 Q1404.39 284.159 1402.45 286.844 Q1400.53 289.506 1400.53 294.205 Z\" fill=\"#000000\" fill-rule=\"evenodd\" fill-opacity=\"1\" /><path clip-path=\"url(#clip290)\" d=\"M 0 0 M1445.95 293.117 L1445.95 295.2 L1426.36 295.2 Q1426.64 299.598 1429 301.913 Q1431.39 304.205 1435.62 304.205 Q1438.08 304.205 1440.37 303.603 Q1442.68 303.001 1444.95 301.797 L1444.95 305.825 Q1442.66 306.797 1440.25 307.307 Q1437.84 307.816 1435.37 307.816 Q1429.16 307.816 1425.53 304.205 Q1421.92 300.594 1421.92 294.436 Q1421.92 288.071 1425.34 284.344 Q1428.79 280.594 1434.63 280.594 Q1439.86 280.594 1442.89 283.973 Q1445.95 287.33 1445.95 293.117 M1441.69 291.867 Q1441.64 288.372 1439.72 286.288 Q1437.82 284.205 1434.67 284.205 Q1431.11 284.205 1428.95 286.219 Q1426.83 288.233 1426.5 291.89 L1441.69 291.867 Z\" fill=\"#000000\" fill-rule=\"evenodd\" fill-opacity=\"1\" /><path clip-path=\"url(#clip290)\" d=\"M 0 0 M1470.6 286.196 Q1472.2 283.325 1474.42 281.96 Q1476.64 280.594 1479.65 280.594 Q1483.7 280.594 1485.9 283.441 Q1488.1 286.265 1488.1 291.497 L1488.1 307.145 L1483.82 307.145 L1483.82 291.635 Q1483.82 287.909 1482.5 286.103 Q1481.18 284.298 1478.47 284.298 Q1475.16 284.298 1473.24 286.497 Q1471.32 288.696 1471.32 292.492 L1471.32 307.145 L1467.03 307.145 L1467.03 291.635 Q1467.03 287.885 1465.71 286.103 Q1464.39 284.298 1461.64 284.298 Q1458.38 284.298 1456.45 286.52 Q1454.53 288.719 1454.53 292.492 L1454.53 307.145 L1450.25 307.145 L1450.25 281.219 L1454.53 281.219 L1454.53 285.247 Q1455.99 282.862 1458.03 281.728 Q1460.07 280.594 1462.87 280.594 Q1465.69 280.594 1467.66 282.029 Q1469.65 283.464 1470.6 286.196 Z\" fill=\"#000000\" fill-rule=\"evenodd\" fill-opacity=\"1\" /><path clip-path=\"url(#clip290)\" d=\"M 0 0 M1502.61 284.205 Q1499.19 284.205 1497.2 286.89 Q1495.2 289.552 1495.2 294.205 Q1495.2 298.858 1497.17 301.543 Q1499.16 304.205 1502.61 304.205 Q1506.01 304.205 1508.01 301.52 Q1510 298.835 1510 294.205 Q1510 289.598 1508.01 286.913 Q1506.01 284.205 1502.61 284.205 M1502.61 280.594 Q1508.17 280.594 1511.34 284.205 Q1514.51 287.816 1514.51 294.205 Q1514.51 300.571 1511.34 304.205 Q1508.17 307.816 1502.61 307.816 Q1497.03 307.816 1493.86 304.205 Q1490.71 300.571 1490.71 294.205 Q1490.71 287.816 1493.86 284.205 Q1497.03 280.594 1502.61 280.594 Z\" fill=\"#000000\" fill-rule=\"evenodd\" fill-opacity=\"1\" /><path clip-path=\"url(#clip290)\" d=\"M 0 0 M1540.53 291.497 L1540.53 307.145 L1536.27 307.145 L1536.27 291.635 Q1536.27 287.955 1534.83 286.126 Q1533.4 284.298 1530.53 284.298 Q1527.08 284.298 1525.09 286.497 Q1523.1 288.696 1523.1 292.492 L1523.1 307.145 L1518.82 307.145 L1518.82 281.219 L1523.1 281.219 L1523.1 285.247 Q1524.63 282.909 1526.69 281.751 Q1528.77 280.594 1531.48 280.594 Q1535.95 280.594 1538.24 283.372 Q1540.53 286.126 1540.53 291.497 Z\" fill=\"#000000\" fill-rule=\"evenodd\" fill-opacity=\"1\" /><path clip-path=\"url(#clip290)\" d=\"M 0 0 M1564.69 315.015 L1564.69 318.325 L1540.07 318.325 L1540.07 315.015 L1564.69 315.015 Z\" fill=\"#000000\" fill-rule=\"evenodd\" fill-opacity=\"1\" /><path clip-path=\"url(#clip290)\" d=\"M 0 0 M1579.21 284.205 Q1575.78 284.205 1573.79 286.89 Q1571.8 289.552 1571.8 294.205 Q1571.8 298.858 1573.77 301.543 Q1575.76 304.205 1579.21 304.205 Q1582.61 304.205 1584.6 301.52 Q1586.59 298.835 1586.59 294.205 Q1586.59 289.598 1584.6 286.913 Q1582.61 284.205 1579.21 284.205 M1579.21 280.594 Q1584.76 280.594 1587.94 284.205 Q1591.11 287.816 1591.11 294.205 Q1591.11 300.571 1587.94 304.205 Q1584.76 307.816 1579.21 307.816 Q1573.63 307.816 1570.46 304.205 Q1567.31 300.571 1567.31 294.205 Q1567.31 287.816 1570.46 284.205 Q1573.63 280.594 1579.21 280.594 Z\" fill=\"#000000\" fill-rule=\"evenodd\" fill-opacity=\"1\" /><path clip-path=\"url(#clip290)\" d=\"M 0 0 M1599.69 303.256 L1599.69 317.006 L1595.41 317.006 L1595.41 281.219 L1599.69 281.219 L1599.69 285.154 Q1601.04 282.839 1603.07 281.728 Q1605.13 280.594 1607.98 280.594 Q1612.7 280.594 1615.64 284.344 Q1618.61 288.094 1618.61 294.205 Q1618.61 300.316 1615.64 304.066 Q1612.7 307.816 1607.98 307.816 Q1605.13 307.816 1603.07 306.705 Q1601.04 305.571 1599.69 303.256 M1614.19 294.205 Q1614.19 289.506 1612.24 286.844 Q1610.32 284.159 1606.94 284.159 Q1603.56 284.159 1601.62 286.844 Q1599.69 289.506 1599.69 294.205 Q1599.69 298.904 1601.62 301.589 Q1603.56 304.251 1606.94 304.251 Q1610.32 304.251 1612.24 301.589 Q1614.19 298.904 1614.19 294.205 Z\" fill=\"#000000\" fill-rule=\"evenodd\" fill-opacity=\"1\" /><path clip-path=\"url(#clip290)\" d=\"M 0 0 M1627.29 273.858 L1627.29 281.219 L1636.06 281.219 L1636.06 284.529 L1627.29 284.529 L1627.29 298.603 Q1627.29 301.774 1628.14 302.677 Q1629.02 303.58 1631.69 303.58 L1636.06 303.58 L1636.06 307.145 L1631.69 307.145 Q1626.75 307.145 1624.88 305.316 Q1623 303.464 1623 298.603 L1623 284.529 L1619.88 284.529 L1619.88 281.219 L1623 281.219 L1623 273.858 L1627.29 273.858 Z\" fill=\"#000000\" fill-rule=\"evenodd\" fill-opacity=\"1\" /><path clip-path=\"url(#clip290)\" d=\"M 0 0 M1641.62 301.265 L1646.5 301.265 L1646.5 307.145 L1641.62 307.145 L1641.62 301.265 M1641.62 282.631 L1646.5 282.631 L1646.5 288.51 L1641.62 288.51 L1641.62 282.631 Z\" fill=\"#000000\" fill-rule=\"evenodd\" fill-opacity=\"1\" /><path clip-path=\"url(#clip290)\" d=\"M 0 0 M1662.7 277.191 L1656.36 294.39 L1669.07 294.39 L1662.7 277.191 M1660.06 272.585 L1665.37 272.585 L1678.54 307.145 L1673.68 307.145 L1670.53 298.279 L1654.95 298.279 L1651.8 307.145 L1646.87 307.145 L1660.06 272.585 Z\" fill=\"#000000\" fill-rule=\"evenodd\" fill-opacity=\"1\" /><path clip-path=\"url(#clip290)\" d=\"M 0 0 M1682.56 296.913 L1682.56 281.219 L1686.82 281.219 L1686.82 296.751 Q1686.82 300.432 1688.26 302.284 Q1689.69 304.112 1692.56 304.112 Q1696.01 304.112 1698 301.913 Q1700.02 299.714 1700.02 295.918 L1700.02 281.219 L1704.28 281.219 L1704.28 307.145 L1700.02 307.145 L1700.02 303.163 Q1698.47 305.524 1696.41 306.682 Q1694.37 307.816 1691.66 307.816 Q1687.19 307.816 1684.88 305.038 Q1682.56 302.26 1682.56 296.913 M1693.28 280.594 L1693.28 280.594 Z\" fill=\"#000000\" fill-rule=\"evenodd\" fill-opacity=\"1\" /><path clip-path=\"url(#clip290)\" d=\"M 0 0 M1712.96 273.858 L1712.96 281.219 L1721.73 281.219 L1721.73 284.529 L1712.96 284.529 L1712.96 298.603 Q1712.96 301.774 1713.81 302.677 Q1714.69 303.58 1717.36 303.58 L1721.73 303.58 L1721.73 307.145 L1717.36 307.145 Q1712.43 307.145 1710.55 305.316 Q1708.68 303.464 1708.68 298.603 L1708.68 284.529 L1705.55 284.529 L1705.55 281.219 L1708.68 281.219 L1708.68 273.858 L1712.96 273.858 Z\" fill=\"#000000\" fill-rule=\"evenodd\" fill-opacity=\"1\" /><path clip-path=\"url(#clip290)\" d=\"M 0 0 M1736.24 284.205 Q1732.82 284.205 1730.83 286.89 Q1728.84 289.552 1728.84 294.205 Q1728.84 298.858 1730.81 301.543 Q1732.8 304.205 1736.24 304.205 Q1739.65 304.205 1741.64 301.52 Q1743.63 298.835 1743.63 294.205 Q1743.63 289.598 1741.64 286.913 Q1739.65 284.205 1736.24 284.205 M1736.24 280.594 Q1741.8 280.594 1744.97 284.205 Q1748.14 287.816 1748.14 294.205 Q1748.14 300.571 1744.97 304.205 Q1741.8 307.816 1736.24 307.816 Q1730.67 307.816 1727.49 304.205 Q1724.35 300.571 1724.35 294.205 Q1724.35 287.816 1727.49 284.205 Q1730.67 280.594 1736.24 280.594 Z\" fill=\"#000000\" fill-rule=\"evenodd\" fill-opacity=\"1\" /><path clip-path=\"url(#clip290)\" d=\"M 0 0 M1784.74 285.154 L1784.74 271.126 L1789 271.126 L1789 307.145 L1784.74 307.145 L1784.74 303.256 Q1783.4 305.571 1781.34 306.705 Q1779.3 307.816 1776.43 307.816 Q1771.73 307.816 1768.77 304.066 Q1765.83 300.316 1765.83 294.205 Q1765.83 288.094 1768.77 284.344 Q1771.73 280.594 1776.43 280.594 Q1779.3 280.594 1781.34 281.728 Q1783.4 282.839 1784.74 285.154 M1770.23 294.205 Q1770.23 298.904 1772.15 301.589 Q1774.09 304.251 1777.47 304.251 Q1780.85 304.251 1782.8 301.589 Q1784.74 298.904 1784.74 294.205 Q1784.74 289.506 1782.8 286.844 Q1780.85 284.159 1777.47 284.159 Q1774.09 284.159 1772.15 286.844 Q1770.23 289.506 1770.23 294.205 Z\" fill=\"#000000\" fill-rule=\"evenodd\" fill-opacity=\"1\" /><path clip-path=\"url(#clip290)\" d=\"M 0 0 M1815.64 293.117 L1815.64 295.2 L1796.06 295.2 Q1796.34 299.598 1798.7 301.913 Q1801.08 304.205 1805.32 304.205 Q1807.77 304.205 1810.06 303.603 Q1812.38 303.001 1814.65 301.797 L1814.65 305.825 Q1812.36 306.797 1809.95 307.307 Q1807.54 307.816 1805.06 307.816 Q1798.86 307.816 1795.23 304.205 Q1791.61 300.594 1791.61 294.436 Q1791.61 288.071 1795.04 284.344 Q1798.49 280.594 1804.32 280.594 Q1809.55 280.594 1812.59 283.973 Q1815.64 287.33 1815.64 293.117 M1811.38 291.867 Q1811.34 288.372 1809.42 286.288 Q1807.52 284.205 1804.37 284.205 Q1800.8 284.205 1798.65 286.219 Q1796.52 288.233 1796.2 291.89 L1811.38 291.867 Z\" fill=\"#000000\" fill-rule=\"evenodd\" fill-opacity=\"1\" /><path clip-path=\"url(#clip290)\" d=\"M 0 0 M1840.3 286.196 Q1841.89 283.325 1844.11 281.96 Q1846.34 280.594 1849.35 280.594 Q1853.4 280.594 1855.6 283.441 Q1857.8 286.265 1857.8 291.497 L1857.8 307.145 L1853.51 307.145 L1853.51 291.635 Q1853.51 287.909 1852.19 286.103 Q1850.87 284.298 1848.17 284.298 Q1844.86 284.298 1842.93 286.497 Q1841.01 288.696 1841.01 292.492 L1841.01 307.145 L1836.73 307.145 L1836.73 291.635 Q1836.73 287.885 1835.41 286.103 Q1834.09 284.298 1831.34 284.298 Q1828.07 284.298 1826.15 286.52 Q1824.23 288.719 1824.23 292.492 L1824.23 307.145 L1819.95 307.145 L1819.95 281.219 L1824.23 281.219 L1824.23 285.247 Q1825.69 282.862 1827.73 281.728 Q1829.76 280.594 1832.56 280.594 Q1835.39 280.594 1837.36 282.029 Q1839.35 283.464 1840.3 286.196 Z\" fill=\"#000000\" fill-rule=\"evenodd\" fill-opacity=\"1\" /><path clip-path=\"url(#clip290)\" d=\"M 0 0 M1872.31 284.205 Q1868.88 284.205 1866.89 286.89 Q1864.9 289.552 1864.9 294.205 Q1864.9 298.858 1866.87 301.543 Q1868.86 304.205 1872.31 304.205 Q1875.71 304.205 1877.7 301.52 Q1879.69 298.835 1879.69 294.205 Q1879.69 289.598 1877.7 286.913 Q1875.71 284.205 1872.31 284.205 M1872.31 280.594 Q1877.86 280.594 1881.04 284.205 Q1884.21 287.816 1884.21 294.205 Q1884.21 300.571 1881.04 304.205 Q1877.86 307.816 1872.31 307.816 Q1866.73 307.816 1863.56 304.205 Q1860.41 300.571 1860.41 294.205 Q1860.41 287.816 1863.56 284.205 Q1866.73 280.594 1872.31 280.594 Z\" fill=\"#000000\" fill-rule=\"evenodd\" fill-opacity=\"1\" /><path clip-path=\"url(#clip290)\" d=\"M 0 0 M1910.23 291.497 L1910.23 307.145 L1905.97 307.145 L1905.97 291.635 Q1905.97 287.955 1904.53 286.126 Q1903.1 284.298 1900.23 284.298 Q1896.78 284.298 1894.79 286.497 Q1892.79 288.696 1892.79 292.492 L1892.79 307.145 L1888.51 307.145 L1888.51 281.219 L1892.79 281.219 L1892.79 285.247 Q1894.32 282.909 1896.38 281.751 Q1898.47 280.594 1901.17 280.594 Q1905.64 280.594 1907.93 283.372 Q1910.23 286.126 1910.23 291.497 Z\" fill=\"#000000\" fill-rule=\"evenodd\" fill-opacity=\"1\" /><path clip-path=\"url(#clip290)\" d=\"M 0 0 M1934.39 315.015 L1934.39 318.325 L1909.76 318.325 L1909.76 315.015 L1934.39 315.015 Z\" fill=\"#000000\" fill-rule=\"evenodd\" fill-opacity=\"1\" /><path clip-path=\"url(#clip290)\" d=\"M 0 0 M1938.86 271.126 L1943.12 271.126 L1943.12 307.145 L1938.86 307.145 L1938.86 271.126 Z\" fill=\"#000000\" fill-rule=\"evenodd\" fill-opacity=\"1\" /><path clip-path=\"url(#clip290)\" d=\"M 0 0 M1969.76 293.117 L1969.76 295.2 L1950.18 295.2 Q1950.46 299.598 1952.82 301.913 Q1955.2 304.205 1959.44 304.205 Q1961.89 304.205 1964.18 303.603 Q1966.5 303.001 1968.77 301.797 L1968.77 305.825 Q1966.48 306.797 1964.07 307.307 Q1961.66 307.816 1959.18 307.816 Q1952.98 307.816 1949.35 304.205 Q1945.73 300.594 1945.73 294.436 Q1945.73 288.071 1949.16 284.344 Q1952.61 280.594 1958.44 280.594 Q1963.67 280.594 1966.71 283.973 Q1969.76 287.33 1969.76 293.117 M1965.5 291.867 Q1965.46 288.372 1963.54 286.288 Q1961.64 284.205 1958.49 284.205 Q1954.92 284.205 1952.77 286.219 Q1950.64 288.233 1950.32 291.89 L1965.5 291.867 Z\" fill=\"#000000\" fill-rule=\"evenodd\" fill-opacity=\"1\" /><path clip-path=\"url(#clip290)\" d=\"M 0 0 M1986.01 294.112 Q1980.85 294.112 1978.86 295.293 Q1976.87 296.473 1976.87 299.321 Q1976.87 301.589 1978.35 302.932 Q1979.85 304.251 1982.42 304.251 Q1985.97 304.251 1988.1 301.751 Q1990.25 299.228 1990.25 295.061 L1990.25 294.112 L1986.01 294.112 M1994.51 292.353 L1994.51 307.145 L1990.25 307.145 L1990.25 303.209 Q1988.79 305.571 1986.61 306.705 Q1984.44 307.816 1981.29 307.816 Q1977.31 307.816 1974.95 305.594 Q1972.61 303.348 1972.61 299.598 Q1972.61 295.223 1975.53 293.001 Q1978.47 290.779 1984.28 290.779 L1990.25 290.779 L1990.25 290.362 Q1990.25 287.423 1988.3 285.825 Q1986.38 284.205 1982.89 284.205 Q1980.66 284.205 1978.56 284.737 Q1976.45 285.27 1974.51 286.335 L1974.51 282.399 Q1976.85 281.497 1979.04 281.057 Q1981.24 280.594 1983.33 280.594 Q1988.95 280.594 1991.73 283.511 Q1994.51 286.427 1994.51 292.353 Z\" fill=\"#000000\" fill-rule=\"evenodd\" fill-opacity=\"1\" /><path clip-path=\"url(#clip290)\" d=\"M 0 0 M2014 285.2 Q2013.28 284.784 2012.42 284.598 Q2011.59 284.39 2010.57 284.39 Q2006.96 284.39 2005.02 286.751 Q2003.1 289.089 2003.1 293.487 L2003.1 307.145 L1998.81 307.145 L1998.81 281.219 L2003.1 281.219 L2003.1 285.247 Q2004.44 282.886 2006.59 281.751 Q2008.74 280.594 2011.82 280.594 Q2012.26 280.594 2012.79 280.663 Q2013.33 280.71 2013.97 280.825 L2014 285.2 Z\" fill=\"#000000\" fill-rule=\"evenodd\" fill-opacity=\"1\" /><path clip-path=\"url(#clip290)\" d=\"M 0 0 M2039.18 291.497 L2039.18 307.145 L2034.92 307.145 L2034.92 291.635 Q2034.92 287.955 2033.49 286.126 Q2032.05 284.298 2029.18 284.298 Q2025.73 284.298 2023.74 286.497 Q2021.75 288.696 2021.75 292.492 L2021.75 307.145 L2017.47 307.145 L2017.47 281.219 L2021.75 281.219 L2021.75 285.247 Q2023.28 282.909 2025.34 281.751 Q2027.42 280.594 2030.13 280.594 Q2034.6 280.594 2036.89 283.372 Q2039.18 286.126 2039.18 291.497 Z\" fill=\"#000000\" fill-rule=\"evenodd\" fill-opacity=\"1\" /><path clip-path=\"url(#clip290)\" d=\"M 0 0 M2065.83 293.117 L2065.83 295.2 L2046.24 295.2 Q2046.52 299.598 2048.88 301.913 Q2051.27 304.205 2055.5 304.205 Q2057.96 304.205 2060.25 303.603 Q2062.56 303.001 2064.83 301.797 L2064.83 305.825 Q2062.54 306.797 2060.13 307.307 Q2057.72 307.816 2055.25 307.816 Q2049.04 307.816 2045.41 304.205 Q2041.8 300.594 2041.8 294.436 Q2041.8 288.071 2045.22 284.344 Q2048.67 280.594 2054.51 280.594 Q2059.74 280.594 2062.77 283.973 Q2065.83 287.33 2065.83 293.117 M2061.57 291.867 Q2061.52 288.372 2059.6 286.288 Q2057.7 284.205 2054.55 284.205 Q2050.99 284.205 2048.84 286.219 Q2046.71 288.233 2046.38 291.89 L2061.57 291.867 Z\" fill=\"#000000\" fill-rule=\"evenodd\" fill-opacity=\"1\" /><path clip-path=\"url(#clip290)\" d=\"M 0 0 M2085.32 285.2 Q2084.6 284.784 2083.74 284.598 Q2082.91 284.39 2081.89 284.39 Q2078.28 284.39 2076.34 286.751 Q2074.41 289.089 2074.41 293.487 L2074.41 307.145 L2070.13 307.145 L2070.13 281.219 L2074.41 281.219 L2074.41 285.247 Q2075.76 282.886 2077.91 281.751 Q2080.06 280.594 2083.14 280.594 Q2083.58 280.594 2084.11 280.663 Q2084.65 280.71 2085.29 280.825 L2085.32 285.2 Z\" fill=\"#000000\" fill-rule=\"evenodd\" fill-opacity=\"1\" /><path clip-path=\"url(#clip290)\" d=\"M 0 0 M2090.04 301.265 L2094.92 301.265 L2094.92 307.145 L2090.04 307.145 L2090.04 301.265 M2090.04 282.631 L2094.92 282.631 L2094.92 288.51 L2090.04 288.51 L2090.04 282.631 Z\" fill=\"#000000\" fill-rule=\"evenodd\" fill-opacity=\"1\" /><path clip-path=\"url(#clip290)\" d=\"M 0 0 M2120.29 273.719 L2120.29 278.279 Q2117.63 277.006 2115.27 276.381 Q2112.91 275.756 2110.71 275.756 Q2106.89 275.756 2104.81 277.237 Q2102.75 278.719 2102.75 281.45 Q2102.75 283.742 2104.11 284.923 Q2105.5 286.08 2109.34 286.798 L2112.17 287.376 Q2117.4 288.372 2119.88 290.895 Q2122.38 293.395 2122.38 297.608 Q2122.38 302.631 2119 305.223 Q2115.64 307.816 2109.14 307.816 Q2106.68 307.816 2103.9 307.26 Q2101.15 306.705 2098.19 305.617 L2098.19 300.802 Q2101.03 302.399 2103.77 303.209 Q2106.5 304.02 2109.14 304.02 Q2113.14 304.02 2115.32 302.446 Q2117.49 300.872 2117.49 297.955 Q2117.49 295.409 2115.92 293.973 Q2114.37 292.538 2110.8 291.821 L2107.96 291.265 Q2102.72 290.223 2100.39 288.001 Q2098.05 285.779 2098.05 281.821 Q2098.05 277.237 2101.27 274.599 Q2104.51 271.96 2110.18 271.96 Q2112.61 271.96 2115.13 272.399 Q2117.65 272.839 2120.29 273.719 Z\" fill=\"#000000\" fill-rule=\"evenodd\" fill-opacity=\"1\" /><path clip-path=\"url(#clip290)\" d=\"M 0 0 M2143.42 290.941 Q2144.92 291.45 2146.34 293.117 Q2147.77 294.784 2149.21 297.7 L2153.95 307.145 L2148.93 307.145 L2144.51 298.279 Q2142.79 294.807 2141.17 293.673 Q2139.58 292.538 2136.8 292.538 L2131.71 292.538 L2131.71 307.145 L2127.03 307.145 L2127.03 272.585 L2137.59 272.585 Q2143.51 272.585 2146.43 275.061 Q2149.34 277.538 2149.34 282.538 Q2149.34 285.802 2147.82 287.955 Q2146.31 290.108 2143.42 290.941 M2131.71 276.427 L2131.71 288.696 L2137.59 288.696 Q2140.96 288.696 2142.68 287.145 Q2144.41 285.571 2144.41 282.538 Q2144.41 279.506 2142.68 277.978 Q2140.96 276.427 2137.59 276.427 L2131.71 276.427 Z\" fill=\"#000000\" fill-rule=\"evenodd\" fill-opacity=\"1\" /><polyline clip-path=\"url(#clip290)\" style=\"stroke:#3da44d; stroke-width:4; stroke-opacity:1; fill:none\" points=\"\n",
       "  1204.18,350.345 1353.55,350.345 \n",
       "  \"/>\n",
       "<path clip-path=\"url(#clip290)\" d=\"M 0 0 M1415.04 345.634 L1415.04 331.606 L1419.3 331.606 L1419.3 367.625 L1415.04 367.625 L1415.04 363.736 Q1413.7 366.051 1411.64 367.185 Q1409.6 368.296 1406.73 368.296 Q1402.03 368.296 1399.07 364.546 Q1396.13 360.796 1396.13 354.685 Q1396.13 348.574 1399.07 344.824 Q1402.03 341.074 1406.73 341.074 Q1409.6 341.074 1411.64 342.208 Q1413.7 343.319 1415.04 345.634 M1400.53 354.685 Q1400.53 359.384 1402.45 362.069 Q1404.39 364.731 1407.77 364.731 Q1411.15 364.731 1413.1 362.069 Q1415.04 359.384 1415.04 354.685 Q1415.04 349.986 1413.1 347.324 Q1411.15 344.639 1407.77 344.639 Q1404.39 344.639 1402.45 347.324 Q1400.53 349.986 1400.53 354.685 Z\" fill=\"#000000\" fill-rule=\"evenodd\" fill-opacity=\"1\" /><path clip-path=\"url(#clip290)\" d=\"M 0 0 M1445.95 353.597 L1445.95 355.68 L1426.36 355.68 Q1426.64 360.078 1429 362.393 Q1431.39 364.685 1435.62 364.685 Q1438.08 364.685 1440.37 364.083 Q1442.68 363.481 1444.95 362.277 L1444.95 366.305 Q1442.66 367.277 1440.25 367.787 Q1437.84 368.296 1435.37 368.296 Q1429.16 368.296 1425.53 364.685 Q1421.92 361.074 1421.92 354.916 Q1421.92 348.551 1425.34 344.824 Q1428.79 341.074 1434.63 341.074 Q1439.86 341.074 1442.89 344.453 Q1445.95 347.81 1445.95 353.597 M1441.69 352.347 Q1441.64 348.852 1439.72 346.768 Q1437.82 344.685 1434.67 344.685 Q1431.11 344.685 1428.95 346.699 Q1426.83 348.713 1426.5 352.37 L1441.69 352.347 Z\" fill=\"#000000\" fill-rule=\"evenodd\" fill-opacity=\"1\" /><path clip-path=\"url(#clip290)\" d=\"M 0 0 M1470.6 346.676 Q1472.2 343.805 1474.42 342.44 Q1476.64 341.074 1479.65 341.074 Q1483.7 341.074 1485.9 343.921 Q1488.1 346.745 1488.1 351.977 L1488.1 367.625 L1483.82 367.625 L1483.82 352.115 Q1483.82 348.389 1482.5 346.583 Q1481.18 344.778 1478.47 344.778 Q1475.16 344.778 1473.24 346.977 Q1471.32 349.176 1471.32 352.972 L1471.32 367.625 L1467.03 367.625 L1467.03 352.115 Q1467.03 348.365 1465.71 346.583 Q1464.39 344.778 1461.64 344.778 Q1458.38 344.778 1456.45 347 Q1454.53 349.199 1454.53 352.972 L1454.53 367.625 L1450.25 367.625 L1450.25 341.699 L1454.53 341.699 L1454.53 345.727 Q1455.99 343.342 1458.03 342.208 Q1460.07 341.074 1462.87 341.074 Q1465.69 341.074 1467.66 342.509 Q1469.65 343.944 1470.6 346.676 Z\" fill=\"#000000\" fill-rule=\"evenodd\" fill-opacity=\"1\" /><path clip-path=\"url(#clip290)\" d=\"M 0 0 M1502.61 344.685 Q1499.19 344.685 1497.2 347.37 Q1495.2 350.032 1495.2 354.685 Q1495.2 359.338 1497.17 362.023 Q1499.16 364.685 1502.61 364.685 Q1506.01 364.685 1508.01 362 Q1510 359.315 1510 354.685 Q1510 350.078 1508.01 347.393 Q1506.01 344.685 1502.61 344.685 M1502.61 341.074 Q1508.17 341.074 1511.34 344.685 Q1514.51 348.296 1514.51 354.685 Q1514.51 361.051 1511.34 364.685 Q1508.17 368.296 1502.61 368.296 Q1497.03 368.296 1493.86 364.685 Q1490.71 361.051 1490.71 354.685 Q1490.71 348.296 1493.86 344.685 Q1497.03 341.074 1502.61 341.074 Z\" fill=\"#000000\" fill-rule=\"evenodd\" fill-opacity=\"1\" /><path clip-path=\"url(#clip290)\" d=\"M 0 0 M1540.53 351.977 L1540.53 367.625 L1536.27 367.625 L1536.27 352.115 Q1536.27 348.435 1534.83 346.606 Q1533.4 344.778 1530.53 344.778 Q1527.08 344.778 1525.09 346.977 Q1523.1 349.176 1523.1 352.972 L1523.1 367.625 L1518.82 367.625 L1518.82 341.699 L1523.1 341.699 L1523.1 345.727 Q1524.63 343.389 1526.69 342.231 Q1528.77 341.074 1531.48 341.074 Q1535.95 341.074 1538.24 343.852 Q1540.53 346.606 1540.53 351.977 Z\" fill=\"#000000\" fill-rule=\"evenodd\" fill-opacity=\"1\" /><path clip-path=\"url(#clip290)\" d=\"M 0 0 M1564.69 375.495 L1564.69 378.805 L1540.07 378.805 L1540.07 375.495 L1564.69 375.495 Z\" fill=\"#000000\" fill-rule=\"evenodd\" fill-opacity=\"1\" /><path clip-path=\"url(#clip290)\" d=\"M 0 0 M1579.21 344.685 Q1575.78 344.685 1573.79 347.37 Q1571.8 350.032 1571.8 354.685 Q1571.8 359.338 1573.77 362.023 Q1575.76 364.685 1579.21 364.685 Q1582.61 364.685 1584.6 362 Q1586.59 359.315 1586.59 354.685 Q1586.59 350.078 1584.6 347.393 Q1582.61 344.685 1579.21 344.685 M1579.21 341.074 Q1584.76 341.074 1587.94 344.685 Q1591.11 348.296 1591.11 354.685 Q1591.11 361.051 1587.94 364.685 Q1584.76 368.296 1579.21 368.296 Q1573.63 368.296 1570.46 364.685 Q1567.31 361.051 1567.31 354.685 Q1567.31 348.296 1570.46 344.685 Q1573.63 341.074 1579.21 341.074 Z\" fill=\"#000000\" fill-rule=\"evenodd\" fill-opacity=\"1\" /><path clip-path=\"url(#clip290)\" d=\"M 0 0 M1599.69 363.736 L1599.69 377.486 L1595.41 377.486 L1595.41 341.699 L1599.69 341.699 L1599.69 345.634 Q1601.04 343.319 1603.07 342.208 Q1605.13 341.074 1607.98 341.074 Q1612.7 341.074 1615.64 344.824 Q1618.61 348.574 1618.61 354.685 Q1618.61 360.796 1615.64 364.546 Q1612.7 368.296 1607.98 368.296 Q1605.13 368.296 1603.07 367.185 Q1601.04 366.051 1599.69 363.736 M1614.19 354.685 Q1614.19 349.986 1612.24 347.324 Q1610.32 344.639 1606.94 344.639 Q1603.56 344.639 1601.62 347.324 Q1599.69 349.986 1599.69 354.685 Q1599.69 359.384 1601.62 362.069 Q1603.56 364.731 1606.94 364.731 Q1610.32 364.731 1612.24 362.069 Q1614.19 359.384 1614.19 354.685 Z\" fill=\"#000000\" fill-rule=\"evenodd\" fill-opacity=\"1\" /><path clip-path=\"url(#clip290)\" d=\"M 0 0 M1627.29 334.338 L1627.29 341.699 L1636.06 341.699 L1636.06 345.009 L1627.29 345.009 L1627.29 359.083 Q1627.29 362.254 1628.14 363.157 Q1629.02 364.06 1631.69 364.06 L1636.06 364.06 L1636.06 367.625 L1631.69 367.625 Q1626.75 367.625 1624.88 365.796 Q1623 363.944 1623 359.083 L1623 345.009 L1619.88 345.009 L1619.88 341.699 L1623 341.699 L1623 334.338 L1627.29 334.338 Z\" fill=\"#000000\" fill-rule=\"evenodd\" fill-opacity=\"1\" /><path clip-path=\"url(#clip290)\" d=\"M 0 0 M1641.62 361.745 L1646.5 361.745 L1646.5 367.625 L1641.62 367.625 L1641.62 361.745 M1641.62 343.111 L1646.5 343.111 L1646.5 348.99 L1641.62 348.99 L1641.62 343.111 Z\" fill=\"#000000\" fill-rule=\"evenodd\" fill-opacity=\"1\" /><path clip-path=\"url(#clip290)\" d=\"M 0 0 M1655.83 336.907 L1655.83 363.782 L1661.48 363.782 Q1668.63 363.782 1671.94 360.541 Q1675.27 357.301 1675.27 350.31 Q1675.27 343.366 1671.94 340.148 Q1668.63 336.907 1661.48 336.907 L1655.83 336.907 M1651.15 333.065 L1660.76 333.065 Q1670.81 333.065 1675.5 337.254 Q1680.2 341.421 1680.2 350.31 Q1680.2 359.245 1675.48 363.435 Q1670.76 367.625 1660.76 367.625 L1651.15 367.625 L1651.15 333.065 Z\" fill=\"#000000\" fill-rule=\"evenodd\" fill-opacity=\"1\" /><path clip-path=\"url(#clip290)\" d=\"M 0 0 M1706.85 353.597 L1706.85 355.68 L1687.26 355.68 Q1687.54 360.078 1689.9 362.393 Q1692.29 364.685 1696.52 364.685 Q1698.98 364.685 1701.27 364.083 Q1703.58 363.481 1705.85 362.277 L1705.85 366.305 Q1703.56 367.277 1701.15 367.787 Q1698.75 368.296 1696.27 368.296 Q1690.06 368.296 1686.43 364.685 Q1682.82 361.074 1682.82 354.916 Q1682.82 348.551 1686.25 344.824 Q1689.69 341.074 1695.53 341.074 Q1700.76 341.074 1703.79 344.453 Q1706.85 347.81 1706.85 353.597 M1702.59 352.347 Q1702.54 348.852 1700.62 346.768 Q1698.72 344.685 1695.57 344.685 Q1692.01 344.685 1689.86 346.699 Q1687.73 348.713 1687.4 352.37 L1702.59 352.347 Z\" fill=\"#000000\" fill-rule=\"evenodd\" fill-opacity=\"1\" /><path clip-path=\"url(#clip290)\" d=\"M 0 0 M1727.84 342.463 L1727.84 346.491 Q1726.04 345.565 1724.09 345.102 Q1722.15 344.639 1720.06 344.639 Q1716.89 344.639 1715.3 345.611 Q1713.72 346.583 1713.72 348.528 Q1713.72 350.009 1714.86 350.865 Q1715.99 351.699 1719.42 352.463 L1720.87 352.787 Q1725.41 353.759 1727.31 355.541 Q1729.23 357.301 1729.23 360.472 Q1729.23 364.083 1726.36 366.189 Q1723.51 368.296 1718.51 368.296 Q1716.43 368.296 1714.16 367.879 Q1711.92 367.486 1709.42 366.676 L1709.42 362.277 Q1711.78 363.504 1714.07 364.129 Q1716.36 364.731 1718.61 364.731 Q1721.62 364.731 1723.24 363.713 Q1724.86 362.671 1724.86 360.796 Q1724.86 359.06 1723.68 358.134 Q1722.52 357.208 1718.56 356.352 L1717.08 356.004 Q1713.12 355.171 1711.36 353.458 Q1709.6 351.722 1709.6 348.713 Q1709.6 345.055 1712.19 343.065 Q1714.79 341.074 1719.56 341.074 Q1721.92 341.074 1724 341.421 Q1726.08 341.768 1727.84 342.463 Z\" fill=\"#000000\" fill-rule=\"evenodd\" fill-opacity=\"1\" /><path clip-path=\"url(#clip290)\" d=\"M 0 0 M1752.36 342.694 L1752.36 346.676 Q1750.55 345.68 1748.72 345.194 Q1746.92 344.685 1745.06 344.685 Q1740.92 344.685 1738.63 347.324 Q1736.34 349.94 1736.34 354.685 Q1736.34 359.43 1738.63 362.069 Q1740.92 364.685 1745.06 364.685 Q1746.92 364.685 1748.72 364.199 Q1750.55 363.689 1752.36 362.694 L1752.36 366.629 Q1750.57 367.463 1748.65 367.879 Q1746.75 368.296 1744.6 368.296 Q1738.74 368.296 1735.3 364.615 Q1731.85 360.935 1731.85 354.685 Q1731.85 348.342 1735.32 344.708 Q1738.81 341.074 1744.88 341.074 Q1746.85 341.074 1748.72 341.491 Q1750.6 341.884 1752.36 342.694 Z\" fill=\"#000000\" fill-rule=\"evenodd\" fill-opacity=\"1\" /><path clip-path=\"url(#clip290)\" d=\"M 0 0 M1779 353.597 L1779 355.68 L1759.42 355.68 Q1759.69 360.078 1762.05 362.393 Q1764.44 364.685 1768.68 364.685 Q1771.13 364.685 1773.42 364.083 Q1775.74 363.481 1778 362.277 L1778 366.305 Q1775.71 367.277 1773.3 367.787 Q1770.9 368.296 1768.42 368.296 Q1762.22 368.296 1758.58 364.685 Q1754.97 361.074 1754.97 354.916 Q1754.97 348.551 1758.4 344.824 Q1761.85 341.074 1767.68 341.074 Q1772.91 341.074 1775.94 344.453 Q1779 347.81 1779 353.597 M1774.74 352.347 Q1774.69 348.852 1772.77 346.768 Q1770.87 344.685 1767.73 344.685 Q1764.16 344.685 1762.01 346.699 Q1759.88 348.713 1759.55 352.37 L1774.74 352.347 Z\" fill=\"#000000\" fill-rule=\"evenodd\" fill-opacity=\"1\" /><path clip-path=\"url(#clip290)\" d=\"M 0 0 M1805.02 351.977 L1805.02 367.625 L1800.76 367.625 L1800.76 352.115 Q1800.76 348.435 1799.32 346.606 Q1797.89 344.778 1795.02 344.778 Q1791.57 344.778 1789.58 346.977 Q1787.59 349.176 1787.59 352.972 L1787.59 367.625 L1783.3 367.625 L1783.3 341.699 L1787.59 341.699 L1787.59 345.727 Q1789.11 343.389 1791.18 342.231 Q1793.26 341.074 1795.97 341.074 Q1800.43 341.074 1802.73 343.852 Q1805.02 346.606 1805.02 351.977 Z\" fill=\"#000000\" fill-rule=\"evenodd\" fill-opacity=\"1\" /><path clip-path=\"url(#clip290)\" d=\"M 0 0 M1813.7 334.338 L1813.7 341.699 L1822.47 341.699 L1822.47 345.009 L1813.7 345.009 L1813.7 359.083 Q1813.7 362.254 1814.55 363.157 Q1815.43 364.06 1818.1 364.06 L1822.47 364.06 L1822.47 367.625 L1818.1 367.625 Q1813.17 367.625 1811.29 365.796 Q1809.42 363.944 1809.42 359.083 L1809.42 345.009 L1806.29 345.009 L1806.29 341.699 L1809.42 341.699 L1809.42 334.338 L1813.7 334.338 Z\" fill=\"#000000\" fill-rule=\"evenodd\" fill-opacity=\"1\" /><path clip-path=\"url(#clip290)\" d=\"M 0 0 M1859.07 345.634 L1859.07 331.606 L1863.33 331.606 L1863.33 367.625 L1859.07 367.625 L1859.07 363.736 Q1857.73 366.051 1855.67 367.185 Q1853.63 368.296 1850.76 368.296 Q1846.06 368.296 1843.1 364.546 Q1840.16 360.796 1840.16 354.685 Q1840.16 348.574 1843.1 344.824 Q1846.06 341.074 1850.76 341.074 Q1853.63 341.074 1855.67 342.208 Q1857.73 343.319 1859.07 345.634 M1844.55 354.685 Q1844.55 359.384 1846.48 362.069 Q1848.42 364.731 1851.8 364.731 Q1855.18 364.731 1857.12 362.069 Q1859.07 359.384 1859.07 354.685 Q1859.07 349.986 1857.12 347.324 Q1855.18 344.639 1851.8 344.639 Q1848.42 344.639 1846.48 347.324 Q1844.55 349.986 1844.55 354.685 Z\" fill=\"#000000\" fill-rule=\"evenodd\" fill-opacity=\"1\" /><path clip-path=\"url(#clip290)\" d=\"M 0 0 M1889.97 353.597 L1889.97 355.68 L1870.39 355.68 Q1870.67 360.078 1873.03 362.393 Q1875.41 364.685 1879.65 364.685 Q1882.1 364.685 1884.39 364.083 Q1886.71 363.481 1888.98 362.277 L1888.98 366.305 Q1886.68 367.277 1884.28 367.787 Q1881.87 368.296 1879.39 368.296 Q1873.19 368.296 1869.55 364.685 Q1865.94 361.074 1865.94 354.916 Q1865.94 348.551 1869.37 344.824 Q1872.82 341.074 1878.65 341.074 Q1883.88 341.074 1886.92 344.453 Q1889.97 347.81 1889.97 353.597 M1885.71 352.347 Q1885.67 348.852 1883.74 346.768 Q1881.85 344.685 1878.7 344.685 Q1875.13 344.685 1872.98 346.699 Q1870.85 348.713 1870.53 352.37 L1885.71 352.347 Z\" fill=\"#000000\" fill-rule=\"evenodd\" fill-opacity=\"1\" /><path clip-path=\"url(#clip290)\" d=\"M 0 0 M1914.62 346.676 Q1916.22 343.805 1918.44 342.44 Q1920.67 341.074 1923.67 341.074 Q1927.73 341.074 1929.92 343.921 Q1932.12 346.745 1932.12 351.977 L1932.12 367.625 L1927.84 367.625 L1927.84 352.115 Q1927.84 348.389 1926.52 346.583 Q1925.2 344.778 1922.49 344.778 Q1919.18 344.778 1917.26 346.977 Q1915.34 349.176 1915.34 352.972 L1915.34 367.625 L1911.06 367.625 L1911.06 352.115 Q1911.06 348.365 1909.74 346.583 Q1908.42 344.778 1905.67 344.778 Q1902.4 344.778 1900.48 347 Q1898.56 349.199 1898.56 352.972 L1898.56 367.625 L1894.28 367.625 L1894.28 341.699 L1898.56 341.699 L1898.56 345.727 Q1900.02 343.342 1902.05 342.208 Q1904.09 341.074 1906.89 341.074 Q1909.72 341.074 1911.68 342.509 Q1913.67 343.944 1914.62 346.676 Z\" fill=\"#000000\" fill-rule=\"evenodd\" fill-opacity=\"1\" /><path clip-path=\"url(#clip290)\" d=\"M 0 0 M1946.64 344.685 Q1943.21 344.685 1941.22 347.37 Q1939.23 350.032 1939.23 354.685 Q1939.23 359.338 1941.2 362.023 Q1943.19 364.685 1946.64 364.685 Q1950.04 364.685 1952.03 362 Q1954.02 359.315 1954.02 354.685 Q1954.02 350.078 1952.03 347.393 Q1950.04 344.685 1946.64 344.685 M1946.64 341.074 Q1952.19 341.074 1955.36 344.685 Q1958.54 348.296 1958.54 354.685 Q1958.54 361.051 1955.36 364.685 Q1952.19 368.296 1946.64 368.296 Q1941.06 368.296 1937.89 364.685 Q1934.74 361.051 1934.74 354.685 Q1934.74 348.296 1937.89 344.685 Q1941.06 341.074 1946.64 341.074 Z\" fill=\"#000000\" fill-rule=\"evenodd\" fill-opacity=\"1\" /><path clip-path=\"url(#clip290)\" d=\"M 0 0 M1984.55 351.977 L1984.55 367.625 L1980.29 367.625 L1980.29 352.115 Q1980.29 348.435 1978.86 346.606 Q1977.42 344.778 1974.55 344.778 Q1971.1 344.778 1969.11 346.977 Q1967.12 349.176 1967.12 352.972 L1967.12 367.625 L1962.84 367.625 L1962.84 341.699 L1967.12 341.699 L1967.12 345.727 Q1968.65 343.389 1970.71 342.231 Q1972.79 341.074 1975.5 341.074 Q1979.97 341.074 1982.26 343.852 Q1984.55 346.606 1984.55 351.977 Z\" fill=\"#000000\" fill-rule=\"evenodd\" fill-opacity=\"1\" /><path clip-path=\"url(#clip290)\" d=\"M 0 0 M2008.72 375.495 L2008.72 378.805 L1984.09 378.805 L1984.09 375.495 L2008.72 375.495 Z\" fill=\"#000000\" fill-rule=\"evenodd\" fill-opacity=\"1\" /><path clip-path=\"url(#clip290)\" d=\"M 0 0 M2013.19 331.606 L2017.45 331.606 L2017.45 367.625 L2013.19 367.625 L2013.19 331.606 Z\" fill=\"#000000\" fill-rule=\"evenodd\" fill-opacity=\"1\" /><path clip-path=\"url(#clip290)\" d=\"M 0 0 M2044.09 353.597 L2044.09 355.68 L2024.51 355.68 Q2024.79 360.078 2027.15 362.393 Q2029.53 364.685 2033.77 364.685 Q2036.22 364.685 2038.51 364.083 Q2040.83 363.481 2043.1 362.277 L2043.1 366.305 Q2040.8 367.277 2038.4 367.787 Q2035.99 368.296 2033.51 368.296 Q2027.31 368.296 2023.67 364.685 Q2020.06 361.074 2020.06 354.916 Q2020.06 348.551 2023.49 344.824 Q2026.94 341.074 2032.77 341.074 Q2038 341.074 2041.03 344.453 Q2044.09 347.81 2044.09 353.597 M2039.83 352.347 Q2039.78 348.852 2037.86 346.768 Q2035.97 344.685 2032.82 344.685 Q2029.25 344.685 2027.1 346.699 Q2024.97 348.713 2024.65 352.37 L2039.83 352.347 Z\" fill=\"#000000\" fill-rule=\"evenodd\" fill-opacity=\"1\" /><path clip-path=\"url(#clip290)\" d=\"M 0 0 M2060.34 354.592 Q2055.18 354.592 2053.19 355.773 Q2051.2 356.953 2051.2 359.801 Q2051.2 362.069 2052.68 363.412 Q2054.18 364.731 2056.75 364.731 Q2060.29 364.731 2062.42 362.231 Q2064.58 359.708 2064.58 355.541 L2064.58 354.592 L2060.34 354.592 M2068.84 352.833 L2068.84 367.625 L2064.58 367.625 L2064.58 363.689 Q2063.12 366.051 2060.94 367.185 Q2058.77 368.296 2055.62 368.296 Q2051.64 368.296 2049.28 366.074 Q2046.94 363.828 2046.94 360.078 Q2046.94 355.703 2049.85 353.481 Q2052.79 351.259 2058.6 351.259 L2064.58 351.259 L2064.58 350.842 Q2064.58 347.903 2062.63 346.305 Q2060.71 344.685 2057.22 344.685 Q2054.99 344.685 2052.89 345.217 Q2050.78 345.75 2048.84 346.815 L2048.84 342.879 Q2051.17 341.977 2053.37 341.537 Q2055.57 341.074 2057.66 341.074 Q2063.28 341.074 2066.06 343.991 Q2068.84 346.907 2068.84 352.833 Z\" fill=\"#000000\" fill-rule=\"evenodd\" fill-opacity=\"1\" /><path clip-path=\"url(#clip290)\" d=\"M 0 0 M2088.33 345.68 Q2087.61 345.264 2086.75 345.078 Q2085.92 344.87 2084.9 344.87 Q2081.29 344.87 2079.34 347.231 Q2077.42 349.569 2077.42 353.967 L2077.42 367.625 L2073.14 367.625 L2073.14 341.699 L2077.42 341.699 L2077.42 345.727 Q2078.77 343.366 2080.92 342.231 Q2083.07 341.074 2086.15 341.074 Q2086.59 341.074 2087.12 341.143 Q2087.66 341.19 2088.3 341.305 L2088.33 345.68 Z\" fill=\"#000000\" fill-rule=\"evenodd\" fill-opacity=\"1\" /><path clip-path=\"url(#clip290)\" d=\"M 0 0 M2113.51 351.977 L2113.51 367.625 L2109.25 367.625 L2109.25 352.115 Q2109.25 348.435 2107.82 346.606 Q2106.38 344.778 2103.51 344.778 Q2100.06 344.778 2098.07 346.977 Q2096.08 349.176 2096.08 352.972 L2096.08 367.625 L2091.8 367.625 L2091.8 341.699 L2096.08 341.699 L2096.08 345.727 Q2097.61 343.389 2099.67 342.231 Q2101.75 341.074 2104.46 341.074 Q2108.93 341.074 2111.22 343.852 Q2113.51 346.606 2113.51 351.977 Z\" fill=\"#000000\" fill-rule=\"evenodd\" fill-opacity=\"1\" /><path clip-path=\"url(#clip290)\" d=\"M 0 0 M2140.15 353.597 L2140.15 355.68 L2120.57 355.68 Q2120.85 360.078 2123.21 362.393 Q2125.59 364.685 2129.83 364.685 Q2132.28 364.685 2134.58 364.083 Q2136.89 363.481 2139.16 362.277 L2139.16 366.305 Q2136.87 367.277 2134.46 367.787 Q2132.05 368.296 2129.58 368.296 Q2123.37 368.296 2119.74 364.685 Q2116.13 361.074 2116.13 354.916 Q2116.13 348.551 2119.55 344.824 Q2123 341.074 2128.84 341.074 Q2134.07 341.074 2137.1 344.453 Q2140.15 347.81 2140.15 353.597 M2135.9 352.347 Q2135.85 348.852 2133.93 346.768 Q2132.03 344.685 2128.88 344.685 Q2125.32 344.685 2123.16 346.699 Q2121.03 348.713 2120.71 352.37 L2135.9 352.347 Z\" fill=\"#000000\" fill-rule=\"evenodd\" fill-opacity=\"1\" /><path clip-path=\"url(#clip290)\" d=\"M 0 0 M2159.65 345.68 Q2158.93 345.264 2158.07 345.078 Q2157.24 344.87 2156.22 344.87 Q2152.61 344.87 2150.66 347.231 Q2148.74 349.569 2148.74 353.967 L2148.74 367.625 L2144.46 367.625 L2144.46 341.699 L2148.74 341.699 L2148.74 345.727 Q2150.09 343.366 2152.24 342.231 Q2154.39 341.074 2157.47 341.074 Q2157.91 341.074 2158.44 341.143 Q2158.97 341.19 2159.62 341.305 L2159.65 345.68 Z\" fill=\"#000000\" fill-rule=\"evenodd\" fill-opacity=\"1\" /><path clip-path=\"url(#clip290)\" d=\"M 0 0 M2164.37 361.745 L2169.25 361.745 L2169.25 367.625 L2164.37 367.625 L2164.37 361.745 M2164.37 343.111 L2169.25 343.111 L2169.25 348.99 L2164.37 348.99 L2164.37 343.111 Z\" fill=\"#000000\" fill-rule=\"evenodd\" fill-opacity=\"1\" /><path clip-path=\"url(#clip290)\" d=\"M 0 0 M2187.93 336.236 Q2182.84 336.236 2179.83 340.032 Q2176.84 343.828 2176.84 350.379 Q2176.84 356.907 2179.83 360.703 Q2182.84 364.5 2187.93 364.5 Q2193.02 364.5 2195.99 360.703 Q2198.97 356.907 2198.97 350.379 Q2198.97 343.828 2195.99 340.032 Q2193.02 336.236 2187.93 336.236 M2194.48 367 L2200.64 373.736 L2194.99 373.736 L2189.88 368.203 Q2189.11 368.25 2188.7 368.273 Q2188.3 368.296 2187.93 368.296 Q2180.64 368.296 2176.27 363.435 Q2171.91 358.551 2171.91 350.379 Q2171.91 342.185 2176.27 337.324 Q2180.64 332.44 2187.93 332.44 Q2195.2 332.44 2199.55 337.324 Q2203.9 342.185 2203.9 350.379 Q2203.9 356.398 2201.47 360.68 Q2199.07 364.963 2194.48 367 Z\" fill=\"#000000\" fill-rule=\"evenodd\" fill-opacity=\"1\" /><polyline clip-path=\"url(#clip290)\" style=\"stroke:#c271d2; stroke-width:4; stroke-opacity:1; fill:none\" points=\"\n",
       "  1204.18,410.825 1353.55,410.825 \n",
       "  \"/>\n",
       "<path clip-path=\"url(#clip290)\" d=\"M 0 0 M1415.04 406.114 L1415.04 392.086 L1419.3 392.086 L1419.3 428.105 L1415.04 428.105 L1415.04 424.216 Q1413.7 426.531 1411.64 427.665 Q1409.6 428.776 1406.73 428.776 Q1402.03 428.776 1399.07 425.026 Q1396.13 421.276 1396.13 415.165 Q1396.13 409.054 1399.07 405.304 Q1402.03 401.554 1406.73 401.554 Q1409.6 401.554 1411.64 402.688 Q1413.7 403.799 1415.04 406.114 M1400.53 415.165 Q1400.53 419.864 1402.45 422.549 Q1404.39 425.211 1407.77 425.211 Q1411.15 425.211 1413.1 422.549 Q1415.04 419.864 1415.04 415.165 Q1415.04 410.466 1413.1 407.804 Q1411.15 405.119 1407.77 405.119 Q1404.39 405.119 1402.45 407.804 Q1400.53 410.466 1400.53 415.165 Z\" fill=\"#000000\" fill-rule=\"evenodd\" fill-opacity=\"1\" /><path clip-path=\"url(#clip290)\" d=\"M 0 0 M1445.95 414.077 L1445.95 416.16 L1426.36 416.16 Q1426.64 420.558 1429 422.873 Q1431.39 425.165 1435.62 425.165 Q1438.08 425.165 1440.37 424.563 Q1442.68 423.961 1444.95 422.757 L1444.95 426.785 Q1442.66 427.757 1440.25 428.267 Q1437.84 428.776 1435.37 428.776 Q1429.16 428.776 1425.53 425.165 Q1421.92 421.554 1421.92 415.396 Q1421.92 409.031 1425.34 405.304 Q1428.79 401.554 1434.63 401.554 Q1439.86 401.554 1442.89 404.933 Q1445.95 408.29 1445.95 414.077 M1441.69 412.827 Q1441.64 409.332 1439.72 407.248 Q1437.82 405.165 1434.67 405.165 Q1431.11 405.165 1428.95 407.179 Q1426.83 409.193 1426.5 412.85 L1441.69 412.827 Z\" fill=\"#000000\" fill-rule=\"evenodd\" fill-opacity=\"1\" /><path clip-path=\"url(#clip290)\" d=\"M 0 0 M1470.6 407.156 Q1472.2 404.285 1474.42 402.92 Q1476.64 401.554 1479.65 401.554 Q1483.7 401.554 1485.9 404.401 Q1488.1 407.225 1488.1 412.457 L1488.1 428.105 L1483.82 428.105 L1483.82 412.595 Q1483.82 408.869 1482.5 407.063 Q1481.18 405.258 1478.47 405.258 Q1475.16 405.258 1473.24 407.457 Q1471.32 409.656 1471.32 413.452 L1471.32 428.105 L1467.03 428.105 L1467.03 412.595 Q1467.03 408.845 1465.71 407.063 Q1464.39 405.258 1461.64 405.258 Q1458.38 405.258 1456.45 407.48 Q1454.53 409.679 1454.53 413.452 L1454.53 428.105 L1450.25 428.105 L1450.25 402.179 L1454.53 402.179 L1454.53 406.207 Q1455.99 403.822 1458.03 402.688 Q1460.07 401.554 1462.87 401.554 Q1465.69 401.554 1467.66 402.989 Q1469.65 404.424 1470.6 407.156 Z\" fill=\"#000000\" fill-rule=\"evenodd\" fill-opacity=\"1\" /><path clip-path=\"url(#clip290)\" d=\"M 0 0 M1502.61 405.165 Q1499.19 405.165 1497.2 407.85 Q1495.2 410.512 1495.2 415.165 Q1495.2 419.818 1497.17 422.503 Q1499.16 425.165 1502.61 425.165 Q1506.01 425.165 1508.01 422.48 Q1510 419.795 1510 415.165 Q1510 410.558 1508.01 407.873 Q1506.01 405.165 1502.61 405.165 M1502.61 401.554 Q1508.17 401.554 1511.34 405.165 Q1514.51 408.776 1514.51 415.165 Q1514.51 421.531 1511.34 425.165 Q1508.17 428.776 1502.61 428.776 Q1497.03 428.776 1493.86 425.165 Q1490.71 421.531 1490.71 415.165 Q1490.71 408.776 1493.86 405.165 Q1497.03 401.554 1502.61 401.554 Z\" fill=\"#000000\" fill-rule=\"evenodd\" fill-opacity=\"1\" /><path clip-path=\"url(#clip290)\" d=\"M 0 0 M1540.53 412.457 L1540.53 428.105 L1536.27 428.105 L1536.27 412.595 Q1536.27 408.915 1534.83 407.086 Q1533.4 405.258 1530.53 405.258 Q1527.08 405.258 1525.09 407.457 Q1523.1 409.656 1523.1 413.452 L1523.1 428.105 L1518.82 428.105 L1518.82 402.179 L1523.1 402.179 L1523.1 406.207 Q1524.63 403.869 1526.69 402.711 Q1528.77 401.554 1531.48 401.554 Q1535.95 401.554 1538.24 404.332 Q1540.53 407.086 1540.53 412.457 Z\" fill=\"#000000\" fill-rule=\"evenodd\" fill-opacity=\"1\" /><path clip-path=\"url(#clip290)\" d=\"M 0 0 M1564.69 435.975 L1564.69 439.285 L1540.07 439.285 L1540.07 435.975 L1564.69 435.975 Z\" fill=\"#000000\" fill-rule=\"evenodd\" fill-opacity=\"1\" /><path clip-path=\"url(#clip290)\" d=\"M 0 0 M1579.21 405.165 Q1575.78 405.165 1573.79 407.85 Q1571.8 410.512 1571.8 415.165 Q1571.8 419.818 1573.77 422.503 Q1575.76 425.165 1579.21 425.165 Q1582.61 425.165 1584.6 422.48 Q1586.59 419.795 1586.59 415.165 Q1586.59 410.558 1584.6 407.873 Q1582.61 405.165 1579.21 405.165 M1579.21 401.554 Q1584.76 401.554 1587.94 405.165 Q1591.11 408.776 1591.11 415.165 Q1591.11 421.531 1587.94 425.165 Q1584.76 428.776 1579.21 428.776 Q1573.63 428.776 1570.46 425.165 Q1567.31 421.531 1567.31 415.165 Q1567.31 408.776 1570.46 405.165 Q1573.63 401.554 1579.21 401.554 Z\" fill=\"#000000\" fill-rule=\"evenodd\" fill-opacity=\"1\" /><path clip-path=\"url(#clip290)\" d=\"M 0 0 M1599.69 424.216 L1599.69 437.966 L1595.41 437.966 L1595.41 402.179 L1599.69 402.179 L1599.69 406.114 Q1601.04 403.799 1603.07 402.688 Q1605.13 401.554 1607.98 401.554 Q1612.7 401.554 1615.64 405.304 Q1618.61 409.054 1618.61 415.165 Q1618.61 421.276 1615.64 425.026 Q1612.7 428.776 1607.98 428.776 Q1605.13 428.776 1603.07 427.665 Q1601.04 426.531 1599.69 424.216 M1614.19 415.165 Q1614.19 410.466 1612.24 407.804 Q1610.32 405.119 1606.94 405.119 Q1603.56 405.119 1601.62 407.804 Q1599.69 410.466 1599.69 415.165 Q1599.69 419.864 1601.62 422.549 Q1603.56 425.211 1606.94 425.211 Q1610.32 425.211 1612.24 422.549 Q1614.19 419.864 1614.19 415.165 Z\" fill=\"#000000\" fill-rule=\"evenodd\" fill-opacity=\"1\" /><path clip-path=\"url(#clip290)\" d=\"M 0 0 M1627.29 394.818 L1627.29 402.179 L1636.06 402.179 L1636.06 405.489 L1627.29 405.489 L1627.29 419.563 Q1627.29 422.734 1628.14 423.637 Q1629.02 424.54 1631.69 424.54 L1636.06 424.54 L1636.06 428.105 L1631.69 428.105 Q1626.75 428.105 1624.88 426.276 Q1623 424.424 1623 419.563 L1623 405.489 L1619.88 405.489 L1619.88 402.179 L1623 402.179 L1623 394.818 L1627.29 394.818 Z\" fill=\"#000000\" fill-rule=\"evenodd\" fill-opacity=\"1\" /><path clip-path=\"url(#clip290)\" d=\"M 0 0 M1641.62 422.225 L1646.5 422.225 L1646.5 428.105 L1641.62 428.105 L1641.62 422.225 M1641.62 403.591 L1646.5 403.591 L1646.5 409.47 L1641.62 409.47 L1641.62 403.591 Z\" fill=\"#000000\" fill-rule=\"evenodd\" fill-opacity=\"1\" /><path clip-path=\"url(#clip290)\" d=\"M 0 0 M1655.83 397.387 L1655.83 424.262 L1661.48 424.262 Q1668.63 424.262 1671.94 421.021 Q1675.27 417.781 1675.27 410.79 Q1675.27 403.846 1671.94 400.628 Q1668.63 397.387 1661.48 397.387 L1655.83 397.387 M1651.15 393.545 L1660.76 393.545 Q1670.81 393.545 1675.5 397.734 Q1680.2 401.901 1680.2 410.79 Q1680.2 419.725 1675.48 423.915 Q1670.76 428.105 1660.76 428.105 L1651.15 428.105 L1651.15 393.545 Z\" fill=\"#000000\" fill-rule=\"evenodd\" fill-opacity=\"1\" /><path clip-path=\"url(#clip290)\" d=\"M 0 0 M1706.85 414.077 L1706.85 416.16 L1687.26 416.16 Q1687.54 420.558 1689.9 422.873 Q1692.29 425.165 1696.52 425.165 Q1698.98 425.165 1701.27 424.563 Q1703.58 423.961 1705.85 422.757 L1705.85 426.785 Q1703.56 427.757 1701.15 428.267 Q1698.75 428.776 1696.27 428.776 Q1690.06 428.776 1686.43 425.165 Q1682.82 421.554 1682.82 415.396 Q1682.82 409.031 1686.25 405.304 Q1689.69 401.554 1695.53 401.554 Q1700.76 401.554 1703.79 404.933 Q1706.85 408.29 1706.85 414.077 M1702.59 412.827 Q1702.54 409.332 1700.62 407.248 Q1698.72 405.165 1695.57 405.165 Q1692.01 405.165 1689.86 407.179 Q1687.73 409.193 1687.4 412.85 L1702.59 412.827 Z\" fill=\"#000000\" fill-rule=\"evenodd\" fill-opacity=\"1\" /><path clip-path=\"url(#clip290)\" d=\"M 0 0 M1727.84 402.943 L1727.84 406.971 Q1726.04 406.045 1724.09 405.582 Q1722.15 405.119 1720.06 405.119 Q1716.89 405.119 1715.3 406.091 Q1713.72 407.063 1713.72 409.008 Q1713.72 410.489 1714.86 411.345 Q1715.99 412.179 1719.42 412.943 L1720.87 413.267 Q1725.41 414.239 1727.31 416.021 Q1729.23 417.781 1729.23 420.952 Q1729.23 424.563 1726.36 426.669 Q1723.51 428.776 1718.51 428.776 Q1716.43 428.776 1714.16 428.359 Q1711.92 427.966 1709.42 427.156 L1709.42 422.757 Q1711.78 423.984 1714.07 424.609 Q1716.36 425.211 1718.61 425.211 Q1721.62 425.211 1723.24 424.193 Q1724.86 423.151 1724.86 421.276 Q1724.86 419.54 1723.68 418.614 Q1722.52 417.688 1718.56 416.832 L1717.08 416.484 Q1713.12 415.651 1711.36 413.938 Q1709.6 412.202 1709.6 409.193 Q1709.6 405.535 1712.19 403.545 Q1714.79 401.554 1719.56 401.554 Q1721.92 401.554 1724 401.901 Q1726.08 402.248 1727.84 402.943 Z\" fill=\"#000000\" fill-rule=\"evenodd\" fill-opacity=\"1\" /><path clip-path=\"url(#clip290)\" d=\"M 0 0 M1752.36 403.174 L1752.36 407.156 Q1750.55 406.16 1748.72 405.674 Q1746.92 405.165 1745.06 405.165 Q1740.92 405.165 1738.63 407.804 Q1736.34 410.42 1736.34 415.165 Q1736.34 419.91 1738.63 422.549 Q1740.92 425.165 1745.06 425.165 Q1746.92 425.165 1748.72 424.679 Q1750.55 424.169 1752.36 423.174 L1752.36 427.109 Q1750.57 427.943 1748.65 428.359 Q1746.75 428.776 1744.6 428.776 Q1738.74 428.776 1735.3 425.095 Q1731.85 421.415 1731.85 415.165 Q1731.85 408.822 1735.32 405.188 Q1738.81 401.554 1744.88 401.554 Q1746.85 401.554 1748.72 401.971 Q1750.6 402.364 1752.36 403.174 Z\" fill=\"#000000\" fill-rule=\"evenodd\" fill-opacity=\"1\" /><path clip-path=\"url(#clip290)\" d=\"M 0 0 M1779 414.077 L1779 416.16 L1759.42 416.16 Q1759.69 420.558 1762.05 422.873 Q1764.44 425.165 1768.68 425.165 Q1771.13 425.165 1773.42 424.563 Q1775.74 423.961 1778 422.757 L1778 426.785 Q1775.71 427.757 1773.3 428.267 Q1770.9 428.776 1768.42 428.776 Q1762.22 428.776 1758.58 425.165 Q1754.97 421.554 1754.97 415.396 Q1754.97 409.031 1758.4 405.304 Q1761.85 401.554 1767.68 401.554 Q1772.91 401.554 1775.94 404.933 Q1779 408.29 1779 414.077 M1774.74 412.827 Q1774.69 409.332 1772.77 407.248 Q1770.87 405.165 1767.73 405.165 Q1764.16 405.165 1762.01 407.179 Q1759.88 409.193 1759.55 412.85 L1774.74 412.827 Z\" fill=\"#000000\" fill-rule=\"evenodd\" fill-opacity=\"1\" /><path clip-path=\"url(#clip290)\" d=\"M 0 0 M1805.02 412.457 L1805.02 428.105 L1800.76 428.105 L1800.76 412.595 Q1800.76 408.915 1799.32 407.086 Q1797.89 405.258 1795.02 405.258 Q1791.57 405.258 1789.58 407.457 Q1787.59 409.656 1787.59 413.452 L1787.59 428.105 L1783.3 428.105 L1783.3 402.179 L1787.59 402.179 L1787.59 406.207 Q1789.11 403.869 1791.18 402.711 Q1793.26 401.554 1795.97 401.554 Q1800.43 401.554 1802.73 404.332 Q1805.02 407.086 1805.02 412.457 Z\" fill=\"#000000\" fill-rule=\"evenodd\" fill-opacity=\"1\" /><path clip-path=\"url(#clip290)\" d=\"M 0 0 M1813.7 394.818 L1813.7 402.179 L1822.47 402.179 L1822.47 405.489 L1813.7 405.489 L1813.7 419.563 Q1813.7 422.734 1814.55 423.637 Q1815.43 424.54 1818.1 424.54 L1822.47 424.54 L1822.47 428.105 L1818.1 428.105 Q1813.17 428.105 1811.29 426.276 Q1809.42 424.424 1809.42 419.563 L1809.42 405.489 L1806.29 405.489 L1806.29 402.179 L1809.42 402.179 L1809.42 394.818 L1813.7 394.818 Z\" fill=\"#000000\" fill-rule=\"evenodd\" fill-opacity=\"1\" /><path clip-path=\"url(#clip290)\" d=\"M 0 0 M1859.07 406.114 L1859.07 392.086 L1863.33 392.086 L1863.33 428.105 L1859.07 428.105 L1859.07 424.216 Q1857.73 426.531 1855.67 427.665 Q1853.63 428.776 1850.76 428.776 Q1846.06 428.776 1843.1 425.026 Q1840.16 421.276 1840.16 415.165 Q1840.16 409.054 1843.1 405.304 Q1846.06 401.554 1850.76 401.554 Q1853.63 401.554 1855.67 402.688 Q1857.73 403.799 1859.07 406.114 M1844.55 415.165 Q1844.55 419.864 1846.48 422.549 Q1848.42 425.211 1851.8 425.211 Q1855.18 425.211 1857.12 422.549 Q1859.07 419.864 1859.07 415.165 Q1859.07 410.466 1857.12 407.804 Q1855.18 405.119 1851.8 405.119 Q1848.42 405.119 1846.48 407.804 Q1844.55 410.466 1844.55 415.165 Z\" fill=\"#000000\" fill-rule=\"evenodd\" fill-opacity=\"1\" /><path clip-path=\"url(#clip290)\" d=\"M 0 0 M1889.97 414.077 L1889.97 416.16 L1870.39 416.16 Q1870.67 420.558 1873.03 422.873 Q1875.41 425.165 1879.65 425.165 Q1882.1 425.165 1884.39 424.563 Q1886.71 423.961 1888.98 422.757 L1888.98 426.785 Q1886.68 427.757 1884.28 428.267 Q1881.87 428.776 1879.39 428.776 Q1873.19 428.776 1869.55 425.165 Q1865.94 421.554 1865.94 415.396 Q1865.94 409.031 1869.37 405.304 Q1872.82 401.554 1878.65 401.554 Q1883.88 401.554 1886.92 404.933 Q1889.97 408.29 1889.97 414.077 M1885.71 412.827 Q1885.67 409.332 1883.74 407.248 Q1881.85 405.165 1878.7 405.165 Q1875.13 405.165 1872.98 407.179 Q1870.85 409.193 1870.53 412.85 L1885.71 412.827 Z\" fill=\"#000000\" fill-rule=\"evenodd\" fill-opacity=\"1\" /><path clip-path=\"url(#clip290)\" d=\"M 0 0 M1914.62 407.156 Q1916.22 404.285 1918.44 402.92 Q1920.67 401.554 1923.67 401.554 Q1927.73 401.554 1929.92 404.401 Q1932.12 407.225 1932.12 412.457 L1932.12 428.105 L1927.84 428.105 L1927.84 412.595 Q1927.84 408.869 1926.52 407.063 Q1925.2 405.258 1922.49 405.258 Q1919.18 405.258 1917.26 407.457 Q1915.34 409.656 1915.34 413.452 L1915.34 428.105 L1911.06 428.105 L1911.06 412.595 Q1911.06 408.845 1909.74 407.063 Q1908.42 405.258 1905.67 405.258 Q1902.4 405.258 1900.48 407.48 Q1898.56 409.679 1898.56 413.452 L1898.56 428.105 L1894.28 428.105 L1894.28 402.179 L1898.56 402.179 L1898.56 406.207 Q1900.02 403.822 1902.05 402.688 Q1904.09 401.554 1906.89 401.554 Q1909.72 401.554 1911.68 402.989 Q1913.67 404.424 1914.62 407.156 Z\" fill=\"#000000\" fill-rule=\"evenodd\" fill-opacity=\"1\" /><path clip-path=\"url(#clip290)\" d=\"M 0 0 M1946.64 405.165 Q1943.21 405.165 1941.22 407.85 Q1939.23 410.512 1939.23 415.165 Q1939.23 419.818 1941.2 422.503 Q1943.19 425.165 1946.64 425.165 Q1950.04 425.165 1952.03 422.48 Q1954.02 419.795 1954.02 415.165 Q1954.02 410.558 1952.03 407.873 Q1950.04 405.165 1946.64 405.165 M1946.64 401.554 Q1952.19 401.554 1955.36 405.165 Q1958.54 408.776 1958.54 415.165 Q1958.54 421.531 1955.36 425.165 Q1952.19 428.776 1946.64 428.776 Q1941.06 428.776 1937.89 425.165 Q1934.74 421.531 1934.74 415.165 Q1934.74 408.776 1937.89 405.165 Q1941.06 401.554 1946.64 401.554 Z\" fill=\"#000000\" fill-rule=\"evenodd\" fill-opacity=\"1\" /><path clip-path=\"url(#clip290)\" d=\"M 0 0 M1984.55 412.457 L1984.55 428.105 L1980.29 428.105 L1980.29 412.595 Q1980.29 408.915 1978.86 407.086 Q1977.42 405.258 1974.55 405.258 Q1971.1 405.258 1969.11 407.457 Q1967.12 409.656 1967.12 413.452 L1967.12 428.105 L1962.84 428.105 L1962.84 402.179 L1967.12 402.179 L1967.12 406.207 Q1968.65 403.869 1970.71 402.711 Q1972.79 401.554 1975.5 401.554 Q1979.97 401.554 1982.26 404.332 Q1984.55 407.086 1984.55 412.457 Z\" fill=\"#000000\" fill-rule=\"evenodd\" fill-opacity=\"1\" /><path clip-path=\"url(#clip290)\" d=\"M 0 0 M2008.72 435.975 L2008.72 439.285 L1984.09 439.285 L1984.09 435.975 L2008.72 435.975 Z\" fill=\"#000000\" fill-rule=\"evenodd\" fill-opacity=\"1\" /><path clip-path=\"url(#clip290)\" d=\"M 0 0 M2013.19 392.086 L2017.45 392.086 L2017.45 428.105 L2013.19 428.105 L2013.19 392.086 Z\" fill=\"#000000\" fill-rule=\"evenodd\" fill-opacity=\"1\" /><path clip-path=\"url(#clip290)\" d=\"M 0 0 M2044.09 414.077 L2044.09 416.16 L2024.51 416.16 Q2024.79 420.558 2027.15 422.873 Q2029.53 425.165 2033.77 425.165 Q2036.22 425.165 2038.51 424.563 Q2040.83 423.961 2043.1 422.757 L2043.1 426.785 Q2040.8 427.757 2038.4 428.267 Q2035.99 428.776 2033.51 428.776 Q2027.31 428.776 2023.67 425.165 Q2020.06 421.554 2020.06 415.396 Q2020.06 409.031 2023.49 405.304 Q2026.94 401.554 2032.77 401.554 Q2038 401.554 2041.03 404.933 Q2044.09 408.29 2044.09 414.077 M2039.83 412.827 Q2039.78 409.332 2037.86 407.248 Q2035.97 405.165 2032.82 405.165 Q2029.25 405.165 2027.1 407.179 Q2024.97 409.193 2024.65 412.85 L2039.83 412.827 Z\" fill=\"#000000\" fill-rule=\"evenodd\" fill-opacity=\"1\" /><path clip-path=\"url(#clip290)\" d=\"M 0 0 M2060.34 415.072 Q2055.18 415.072 2053.19 416.253 Q2051.2 417.433 2051.2 420.281 Q2051.2 422.549 2052.68 423.892 Q2054.18 425.211 2056.75 425.211 Q2060.29 425.211 2062.42 422.711 Q2064.58 420.188 2064.58 416.021 L2064.58 415.072 L2060.34 415.072 M2068.84 413.313 L2068.84 428.105 L2064.58 428.105 L2064.58 424.169 Q2063.12 426.531 2060.94 427.665 Q2058.77 428.776 2055.62 428.776 Q2051.64 428.776 2049.28 426.554 Q2046.94 424.308 2046.94 420.558 Q2046.94 416.183 2049.85 413.961 Q2052.79 411.739 2058.6 411.739 L2064.58 411.739 L2064.58 411.322 Q2064.58 408.383 2062.63 406.785 Q2060.71 405.165 2057.22 405.165 Q2054.99 405.165 2052.89 405.697 Q2050.78 406.23 2048.84 407.295 L2048.84 403.359 Q2051.17 402.457 2053.37 402.017 Q2055.57 401.554 2057.66 401.554 Q2063.28 401.554 2066.06 404.471 Q2068.84 407.387 2068.84 413.313 Z\" fill=\"#000000\" fill-rule=\"evenodd\" fill-opacity=\"1\" /><path clip-path=\"url(#clip290)\" d=\"M 0 0 M2088.33 406.16 Q2087.61 405.744 2086.75 405.558 Q2085.92 405.35 2084.9 405.35 Q2081.29 405.35 2079.34 407.711 Q2077.42 410.049 2077.42 414.447 L2077.42 428.105 L2073.14 428.105 L2073.14 402.179 L2077.42 402.179 L2077.42 406.207 Q2078.77 403.846 2080.92 402.711 Q2083.07 401.554 2086.15 401.554 Q2086.59 401.554 2087.12 401.623 Q2087.66 401.67 2088.3 401.785 L2088.33 406.16 Z\" fill=\"#000000\" fill-rule=\"evenodd\" fill-opacity=\"1\" /><path clip-path=\"url(#clip290)\" d=\"M 0 0 M2113.51 412.457 L2113.51 428.105 L2109.25 428.105 L2109.25 412.595 Q2109.25 408.915 2107.82 407.086 Q2106.38 405.258 2103.51 405.258 Q2100.06 405.258 2098.07 407.457 Q2096.08 409.656 2096.08 413.452 L2096.08 428.105 L2091.8 428.105 L2091.8 402.179 L2096.08 402.179 L2096.08 406.207 Q2097.61 403.869 2099.67 402.711 Q2101.75 401.554 2104.46 401.554 Q2108.93 401.554 2111.22 404.332 Q2113.51 407.086 2113.51 412.457 Z\" fill=\"#000000\" fill-rule=\"evenodd\" fill-opacity=\"1\" /><path clip-path=\"url(#clip290)\" d=\"M 0 0 M2140.15 414.077 L2140.15 416.16 L2120.57 416.16 Q2120.85 420.558 2123.21 422.873 Q2125.59 425.165 2129.83 425.165 Q2132.28 425.165 2134.58 424.563 Q2136.89 423.961 2139.16 422.757 L2139.16 426.785 Q2136.87 427.757 2134.46 428.267 Q2132.05 428.776 2129.58 428.776 Q2123.37 428.776 2119.74 425.165 Q2116.13 421.554 2116.13 415.396 Q2116.13 409.031 2119.55 405.304 Q2123 401.554 2128.84 401.554 Q2134.07 401.554 2137.1 404.933 Q2140.15 408.29 2140.15 414.077 M2135.9 412.827 Q2135.85 409.332 2133.93 407.248 Q2132.03 405.165 2128.88 405.165 Q2125.32 405.165 2123.16 407.179 Q2121.03 409.193 2120.71 412.85 L2135.9 412.827 Z\" fill=\"#000000\" fill-rule=\"evenodd\" fill-opacity=\"1\" /><path clip-path=\"url(#clip290)\" d=\"M 0 0 M2159.65 406.16 Q2158.93 405.744 2158.07 405.558 Q2157.24 405.35 2156.22 405.35 Q2152.61 405.35 2150.66 407.711 Q2148.74 410.049 2148.74 414.447 L2148.74 428.105 L2144.46 428.105 L2144.46 402.179 L2148.74 402.179 L2148.74 406.207 Q2150.09 403.846 2152.24 402.711 Q2154.39 401.554 2157.47 401.554 Q2157.91 401.554 2158.44 401.623 Q2158.97 401.67 2159.62 401.785 L2159.65 406.16 Z\" fill=\"#000000\" fill-rule=\"evenodd\" fill-opacity=\"1\" /><path clip-path=\"url(#clip290)\" d=\"M 0 0 M2164.37 422.225 L2169.25 422.225 L2169.25 428.105 L2164.37 428.105 L2164.37 422.225 M2164.37 403.591 L2169.25 403.591 L2169.25 409.47 L2164.37 409.47 L2164.37 403.591 Z\" fill=\"#000000\" fill-rule=\"evenodd\" fill-opacity=\"1\" /><path clip-path=\"url(#clip290)\" d=\"M 0 0 M2194.62 394.679 L2194.62 399.239 Q2191.96 397.966 2189.6 397.341 Q2187.24 396.716 2185.04 396.716 Q2181.22 396.716 2179.14 398.197 Q2177.08 399.679 2177.08 402.41 Q2177.08 404.702 2178.44 405.883 Q2179.83 407.04 2183.67 407.758 L2186.5 408.336 Q2191.73 409.332 2194.21 411.855 Q2196.71 414.355 2196.71 418.568 Q2196.71 423.591 2193.33 426.183 Q2189.97 428.776 2183.46 428.776 Q2181.01 428.776 2178.23 428.22 Q2175.48 427.665 2172.52 426.577 L2172.52 421.762 Q2175.36 423.359 2178.09 424.169 Q2180.83 424.98 2183.46 424.98 Q2187.47 424.98 2189.65 423.406 Q2191.82 421.832 2191.82 418.915 Q2191.82 416.369 2190.25 414.933 Q2188.7 413.498 2185.13 412.781 L2182.28 412.225 Q2177.05 411.183 2174.71 408.961 Q2172.38 406.739 2172.38 402.781 Q2172.38 398.197 2175.59 395.559 Q2178.84 392.92 2184.51 392.92 Q2186.94 392.92 2189.46 393.359 Q2191.98 393.799 2194.62 394.679 Z\" fill=\"#000000\" fill-rule=\"evenodd\" fill-opacity=\"1\" /><path clip-path=\"url(#clip290)\" d=\"M 0 0 M2217.75 411.901 Q2219.25 412.41 2220.66 414.077 Q2222.1 415.744 2223.53 418.66 L2228.28 428.105 L2223.26 428.105 L2218.83 419.239 Q2217.12 415.767 2215.5 414.633 Q2213.9 413.498 2211.13 413.498 L2206.03 413.498 L2206.03 428.105 L2201.36 428.105 L2201.36 393.545 L2211.91 393.545 Q2217.84 393.545 2220.76 396.021 Q2223.67 398.498 2223.67 403.498 Q2223.67 406.762 2222.15 408.915 Q2220.64 411.068 2217.75 411.901 M2206.03 397.387 L2206.03 409.656 L2211.91 409.656 Q2215.29 409.656 2217.01 408.105 Q2218.74 406.531 2218.74 403.498 Q2218.74 400.466 2217.01 398.938 Q2215.29 397.387 2211.91 397.387 L2206.03 397.387 Z\" fill=\"#000000\" fill-rule=\"evenodd\" fill-opacity=\"1\" /></svg>\n"
      ]
     },
     "metadata": {},
     "output_type": "display_data"
    }
   ],
   "source": [
    "p = plot(title=\"ESARSA Uniform Error on Drifter\")\n",
    "for (ind,gvf_data) in enumerate(data_per_gvf)\n",
    "    plot!(p, gvf_data[3,:], label=labels[ind])\n",
    "end\n",
    "display(p)\n",
    "savefig(\"./plots/TTMazeDrifterESARSA.png\")"
   ]
  },
  {
   "cell_type": "code",
   "execution_count": 386,
   "metadata": {},
   "outputs": [
    {
     "data": {
      "text/plain": [
       "2-element Array{Array{Any,1},1}:\n",
       " [[1362, 98, 96, 224, 111, 173, 473, 294, 854, 88  …  2000, 2000, 2000, 2000, 2000, 2000, 2000, 2000, 2000, 948], [2000, 2000, 2000, 2000, 2000, 2000, 2000, 2000, 2000, 2000  …  2000, 2000, 2000, 2000, 2000, 2000, 2000, 2000, 2000, 1986], [2000, 2000, 8, 2000, 2000, 2000, 2000, 2000, 2000, 2000  …  2000, 2000, 5, 2000, 2000, 2000, 2000, 2000, 2000, 1980], [2000, 2000, 1468, 2000, 2000, 2000, 2000, 2000, 2000, 2000  …  2000, 2000, 2000, 13, 2000, 2000, 2000, 2000, 2000, 496], [2000, 2000, 2000, 2000, 2000, 2000, 2000, 2000, 15, 2000  …  2000, 2000, 2000, 2000, 2000, 2000, 2000, 2000, 2000, 1970], [2000, 2000, 2000, 2000, 2000, 2000, 2000, 2000, 2000, 2000  …  2000, 2000, 2000, 2000, 2000, 2000, 2000, 2000, 2000, 1996], [2000, 2000, 2000, 2000, 2000, 2000, 2000, 2000, 2000, 2000  …  2000, 5, 2000, 2000, 2000, 2000, 2000, 2000, 2000, 1987], [1378, 119, 105, 111, 83, 101, 201, 112, 196, 95  …  2000, 2000, 2000, 2000, 2000, 2000, 2000, 2000, 2000, 1774], [2000, 2000, 2000, 2000, 2000, 2000, 2000, 2000, 2000, 2000  …  6, 2000, 2000, 2000, 2000, 2000, 2000, 24, 2000, 1959], [2000, 2000, 5, 2000, 2000, 2000, 2000, 12, 2000, 2000  …  2000, 2000, 2000, 2000, 2000, 2000, 2000, 2000, 2000, 1968]  …  [2000, 922, 109, 310, 104, 189, 190, 933, 2000, 2000  …  2000, 2000, 2000, 30, 2000, 4, 2000, 2000, 2000, 1136], [2000, 2000, 2000, 2000, 2000, 2000, 2000, 2000, 2000, 2000  …  2000, 2000, 2000, 2000, 2000, 2000, 2000, 2000, 2000, 1991], [2000, 2000, 2000, 2000, 2000, 2000, 2000, 2000, 2000, 2000  …  2000, 6, 2000, 11, 2000, 2000, 2000, 2000, 2000, 1983], [2000, 2000, 2000, 2000, 2000, 2000, 2000, 2000, 2000, 2000  …  2000, 2000, 2000, 14, 2000, 2000, 2000, 2000, 2000, 1986], [2000, 2000, 1234, 595, 519, 2000, 2000, 2000, 2000, 2000  …  2000, 2000, 2000, 2000, 2000, 2000, 2000, 2000, 2000, 1626], [2000, 2000, 2000, 2000, 2000, 2000, 2000, 2000, 4, 2000  …  2000, 2000, 2000, 2000, 2000, 2000, 2000, 2000, 2000, 1996], [2000, 2000, 2000, 2000, 2000, 2000, 2000, 2000, 2000, 11  …  2000, 6, 2000, 2000, 2000, 2000, 2000, 2000, 2000, 1978], [2000, 2000, 2000, 2000, 2000, 2000, 2000, 2000, 2000, 2000  …  2000, 2000, 2000, 2000, 2000, 2000, 2000, 2000, 2000, 1983], [2000, 2000, 2000, 2000, 2000, 2000, 2000, 2000, 2000, 2000  …  2000, 2000, 2000, 2000, 2000, 2000, 2000, 2000, 2000, 1963], [2000, 2000, 2000, 2000, 2000, 2000, 2000, 4, 2000, 2000  …  2000, 2000, 2000, 2000, 11, 2000, 2000, 2000, 2000, 1978]]\n",
       " [[1814, 1780, 326, 97, 16, 668, 467, 87, 16, 200  …  105, 86, 77, 101, 92, 89, 352, 94, 85, 85], [1202, 919, 1645, 94, 194, 8, 84, 13, 115, 84  …  108, 98, 111, 253, 26, 116, 22, 27, 223, 94], [2000, 105, 820, 106, 40, 18, 189, 419, 272, 197  …  106, 93, 19, 16, 89, 91, 84, 74, 122, 147], [1211, 5, 501, 320, 545, 279, 320, 16, 402, 99  …  130, 87, 88, 92, 105, 95, 87, 105, 88, 30], [1608, 683, 1213, 80, 175, 248, 475, 632, 80, 158  …  176, 213, 106, 86, 87, 86, 21, 101, 97, 8], [2000, 868, 109, 119, 675, 674, 344, 127, 94, 85  …  95, 14, 102, 118, 108, 108, 89, 79, 92, 21], [2000, 1646, 103, 7, 84, 84, 191, 88, 79, 118  …  154, 76, 107, 19, 84, 100, 109, 74, 5, 105], [1530, 886, 662, 280, 704, 287, 254, 139, 124, 336  …  166, 73, 79, 91, 18, 84, 99, 77, 87, 82], [1686, 1134, 761, 85, 82, 902, 98, 90, 103, 98  …  223, 105, 129, 89, 102, 27, 107, 105, 108, 101], [1320, 92, 1056, 384, 295, 285, 86, 211, 98, 741  …  116, 94, 90, 97, 102, 92, 86, 80, 81, 88]  …  [1637, 857, 928, 94, 123, 6, 103, 499, 288, 246  …  97, 86, 99, 87, 7, 216, 183, 180, 199, 49], [738, 1928, 113, 88, 94, 1134, 226, 96, 88, 113  …  12, 189, 94, 170, 124, 183, 89, 99, 19, 58], [683, 28, 1554, 110, 37, 479, 105, 664, 101, 102  …  91, 108, 95, 95, 91, 87, 103, 86, 88, 67], [1200, 1246, 409, 695, 165, 98, 277, 93, 15, 207  …  122, 88, 80, 153, 106, 113, 89, 170, 77, 109], [2000, 231, 17, 440, 112, 121, 123, 126, 115, 832  …  94, 166, 16, 90, 74, 85, 83, 145, 84, 59], [2000, 109, 392, 425, 81, 19, 299, 356, 85, 26  …  87, 213, 23, 89, 96, 98, 84, 89, 6, 59], [1990, 2000, 544, 111, 93, 95, 110, 8, 29, 43  …  104, 108, 113, 97, 100, 104, 10, 104, 98, 16], [1832, 649, 138, 935, 111, 89, 151, 103, 571, 106  …  106, 173, 119, 132, 98, 170, 97, 80, 121, 78], [2000, 112, 398, 824, 352, 97, 111, 348, 196, 327  …  107, 88, 80, 96, 93, 183, 110, 126, 94, 83], [785, 826, 938, 93, 88, 109, 98, 12, 338, 429  …  76, 77, 107, 92, 71, 97, 91, 33, 76, 23]]"
      ]
     },
     "execution_count": 386,
     "metadata": {},
     "output_type": "execute_result"
    }
   ],
   "source": [
    "episode_lengths = [load_results(ic,:episode_length, return_type=\"array\") for ic in best_per_algo_ics]\n"
   ]
  },
  {
   "cell_type": "code",
   "execution_count": 387,
   "metadata": {},
   "outputs": [
    {
     "data": {
      "text/plain": [
       "average_first_n (generic function with 1 method)"
      ]
     },
     "execution_count": 387,
     "metadata": {},
     "output_type": "execute_result"
    }
   ],
   "source": [
    "function average_first_n(arr_of_arr,n)\n",
    "    ave = zeros(n)\n",
    "    for arr in arr_of_arr\n",
    "        ave += arr[1:n]\n",
    "    end\n",
    "    ave /= length(arr_of_arr)\n",
    "end"
   ]
  },
  {
   "cell_type": "code",
   "execution_count": 388,
   "metadata": {},
   "outputs": [
    {
     "data": {
      "text/plain": [
       "2-element Array{Array{Float64,1},1}:\n",
       " [1876.1666666666667, 1647.8, 1508.3333333333333, 1729.2666666666667, 1627.5333333333333, 1686.7, 1744.8333333333333, 1589.8333333333333, 1731.4333333333334, 1743.4666666666667  …  1760.1333333333334, 1804.0, 2000.0, 1800.5333333333333, 1800.8666666666666, 1867.2, 1933.6333333333334, 1867.3333333333333, 1933.7666666666667, 2000.0]\n",
       " [1540.9666666666667, 840.1, 497.03333333333336, 286.76666666666665, 296.6333333333333, 247.46666666666667, 200.16666666666666, 216.46666666666667, 172.8, 220.76666666666668  …  104.8, 97.86666666666666, 110.63333333333334, 92.63333333333334, 122.36666666666666, 97.63333333333334, 102.6, 100.96666666666667, 96.5, 101.96666666666667]"
      ]
     },
     "execution_count": 388,
     "metadata": {},
     "output_type": "execute_result"
    }
   ],
   "source": [
    "init_episode_lengths = [average_first_n(episode_lengths[i],50) for i in 1:length(episode_lengths)]"
   ]
  },
  {
   "cell_type": "code",
   "execution_count": 389,
   "metadata": {},
   "outputs": [
    {
     "data": {
      "image/svg+xml": [
       "<?xml version=\"1.0\" encoding=\"utf-8\"?>\n",
       "<svg xmlns=\"http://www.w3.org/2000/svg\" xmlns:xlink=\"http://www.w3.org/1999/xlink\" width=\"600\" height=\"400\" viewBox=\"0 0 2400 1600\">\n",
       "<defs>\n",
       "  <clipPath id=\"clip720\">\n",
       "    <rect x=\"0\" y=\"0\" width=\"2400\" height=\"1600\"/>\n",
       "  </clipPath>\n",
       "</defs>\n",
       "<path clip-path=\"url(#clip720)\" d=\"\n",
       "M0 1600 L2400 1600 L2400 0 L0 0  Z\n",
       "  \" fill=\"#ffffff\" fill-rule=\"evenodd\" fill-opacity=\"1\"/>\n",
       "<defs>\n",
       "  <clipPath id=\"clip721\">\n",
       "    <rect x=\"480\" y=\"0\" width=\"1681\" height=\"1600\"/>\n",
       "  </clipPath>\n",
       "</defs>\n",
       "<path clip-path=\"url(#clip720)\" d=\"\n",
       "M253.246 1423.18 L2352.76 1423.18 L2352.76 123.472 L253.246 123.472  Z\n",
       "  \" fill=\"#ffffff\" fill-rule=\"evenodd\" fill-opacity=\"1\"/>\n",
       "<defs>\n",
       "  <clipPath id=\"clip722\">\n",
       "    <rect x=\"253\" y=\"123\" width=\"2101\" height=\"1301\"/>\n",
       "  </clipPath>\n",
       "</defs>\n",
       "<polyline clip-path=\"url(#clip722)\" style=\"stroke:#000000; stroke-width:2; stroke-opacity:0.1; fill:none\" points=\"\n",
       "  272.244,1423.18 272.244,123.472 \n",
       "  \"/>\n",
       "<polyline clip-path=\"url(#clip722)\" style=\"stroke:#000000; stroke-width:2; stroke-opacity:0.1; fill:none\" points=\"\n",
       "  676.462,1423.18 676.462,123.472 \n",
       "  \"/>\n",
       "<polyline clip-path=\"url(#clip722)\" style=\"stroke:#000000; stroke-width:2; stroke-opacity:0.1; fill:none\" points=\"\n",
       "  1080.68,1423.18 1080.68,123.472 \n",
       "  \"/>\n",
       "<polyline clip-path=\"url(#clip722)\" style=\"stroke:#000000; stroke-width:2; stroke-opacity:0.1; fill:none\" points=\"\n",
       "  1484.9,1423.18 1484.9,123.472 \n",
       "  \"/>\n",
       "<polyline clip-path=\"url(#clip722)\" style=\"stroke:#000000; stroke-width:2; stroke-opacity:0.1; fill:none\" points=\"\n",
       "  1889.12,1423.18 1889.12,123.472 \n",
       "  \"/>\n",
       "<polyline clip-path=\"url(#clip722)\" style=\"stroke:#000000; stroke-width:2; stroke-opacity:0.1; fill:none\" points=\"\n",
       "  2293.34,1423.18 2293.34,123.472 \n",
       "  \"/>\n",
       "<polyline clip-path=\"url(#clip720)\" style=\"stroke:#000000; stroke-width:4; stroke-opacity:1; fill:none\" points=\"\n",
       "  253.246,1423.18 2352.76,1423.18 \n",
       "  \"/>\n",
       "<polyline clip-path=\"url(#clip720)\" style=\"stroke:#000000; stroke-width:4; stroke-opacity:1; fill:none\" points=\"\n",
       "  272.244,1423.18 272.244,1407.58 \n",
       "  \"/>\n",
       "<polyline clip-path=\"url(#clip720)\" style=\"stroke:#000000; stroke-width:4; stroke-opacity:1; fill:none\" points=\"\n",
       "  676.462,1423.18 676.462,1407.58 \n",
       "  \"/>\n",
       "<polyline clip-path=\"url(#clip720)\" style=\"stroke:#000000; stroke-width:4; stroke-opacity:1; fill:none\" points=\"\n",
       "  1080.68,1423.18 1080.68,1407.58 \n",
       "  \"/>\n",
       "<polyline clip-path=\"url(#clip720)\" style=\"stroke:#000000; stroke-width:4; stroke-opacity:1; fill:none\" points=\"\n",
       "  1484.9,1423.18 1484.9,1407.58 \n",
       "  \"/>\n",
       "<polyline clip-path=\"url(#clip720)\" style=\"stroke:#000000; stroke-width:4; stroke-opacity:1; fill:none\" points=\"\n",
       "  1889.12,1423.18 1889.12,1407.58 \n",
       "  \"/>\n",
       "<polyline clip-path=\"url(#clip720)\" style=\"stroke:#000000; stroke-width:4; stroke-opacity:1; fill:none\" points=\"\n",
       "  2293.34,1423.18 2293.34,1407.58 \n",
       "  \"/>\n",
       "<path clip-path=\"url(#clip720)\" d=\"M 0 0 M272.244 1452.37 Q268.633 1452.37 266.804 1455.94 Q264.999 1459.48 264.999 1466.61 Q264.999 1473.71 266.804 1477.28 Q268.633 1480.82 272.244 1480.82 Q275.878 1480.82 277.684 1477.28 Q279.512 1473.71 279.512 1466.61 Q279.512 1459.48 277.684 1455.94 Q275.878 1452.37 272.244 1452.37 M272.244 1448.67 Q278.054 1448.67 281.11 1453.27 Q284.188 1457.86 284.188 1466.61 Q284.188 1475.33 281.11 1479.94 Q278.054 1484.52 272.244 1484.52 Q266.434 1484.52 263.355 1479.94 Q260.3 1475.33 260.3 1466.61 Q260.3 1457.86 263.355 1453.27 Q266.434 1448.67 272.244 1448.67 Z\" fill=\"#000000\" fill-rule=\"evenodd\" fill-opacity=\"1\" /><path clip-path=\"url(#clip720)\" d=\"M 0 0 M653.337 1479.92 L660.976 1479.92 L660.976 1453.55 L652.666 1455.22 L652.666 1450.96 L660.93 1449.29 L665.606 1449.29 L665.606 1479.92 L673.245 1479.92 L673.245 1483.85 L653.337 1483.85 L653.337 1479.92 Z\" fill=\"#000000\" fill-rule=\"evenodd\" fill-opacity=\"1\" /><path clip-path=\"url(#clip720)\" d=\"M 0 0 M688.314 1452.37 Q684.703 1452.37 682.874 1455.94 Q681.069 1459.48 681.069 1466.61 Q681.069 1473.71 682.874 1477.28 Q684.703 1480.82 688.314 1480.82 Q691.948 1480.82 693.754 1477.28 Q695.583 1473.71 695.583 1466.61 Q695.583 1459.48 693.754 1455.94 Q691.948 1452.37 688.314 1452.37 M688.314 1448.67 Q694.124 1448.67 697.18 1453.27 Q700.259 1457.86 700.259 1466.61 Q700.259 1475.33 697.18 1479.94 Q694.124 1484.52 688.314 1484.52 Q682.504 1484.52 679.425 1479.94 Q676.37 1475.33 676.37 1466.61 Q676.37 1457.86 679.425 1453.27 Q682.504 1448.67 688.314 1448.67 Z\" fill=\"#000000\" fill-rule=\"evenodd\" fill-opacity=\"1\" /><path clip-path=\"url(#clip720)\" d=\"M 0 0 M1061.83 1479.92 L1078.15 1479.92 L1078.15 1483.85 L1056.2 1483.85 L1056.2 1479.92 Q1058.86 1477.16 1063.45 1472.53 Q1068.05 1467.88 1069.23 1466.54 Q1071.48 1464.01 1072.36 1462.28 Q1073.26 1460.52 1073.26 1458.83 Q1073.26 1456.07 1071.32 1454.34 Q1069.4 1452.6 1066.29 1452.6 Q1064.1 1452.6 1061.64 1453.37 Q1059.21 1454.13 1056.43 1455.68 L1056.43 1450.96 Q1059.26 1449.82 1061.71 1449.25 Q1064.16 1448.67 1066.2 1448.67 Q1071.57 1448.67 1074.77 1451.35 Q1077.96 1454.04 1077.96 1458.53 Q1077.96 1460.66 1077.15 1462.58 Q1076.36 1464.48 1074.26 1467.07 Q1073.68 1467.74 1070.58 1470.96 Q1067.47 1474.15 1061.83 1479.92 Z\" fill=\"#000000\" fill-rule=\"evenodd\" fill-opacity=\"1\" /><path clip-path=\"url(#clip720)\" d=\"M 0 0 M1093.22 1452.37 Q1089.6 1452.37 1087.78 1455.94 Q1085.97 1459.48 1085.97 1466.61 Q1085.97 1473.71 1087.78 1477.28 Q1089.6 1480.82 1093.22 1480.82 Q1096.85 1480.82 1098.66 1477.28 Q1100.48 1473.71 1100.48 1466.61 Q1100.48 1459.48 1098.66 1455.94 Q1096.85 1452.37 1093.22 1452.37 M1093.22 1448.67 Q1099.03 1448.67 1102.08 1453.27 Q1105.16 1457.86 1105.16 1466.61 Q1105.16 1475.33 1102.08 1479.94 Q1099.03 1484.52 1093.22 1484.52 Q1087.41 1484.52 1084.33 1479.94 Q1081.27 1475.33 1081.27 1466.61 Q1081.27 1457.86 1084.33 1453.27 Q1087.41 1448.67 1093.22 1448.67 Z\" fill=\"#000000\" fill-rule=\"evenodd\" fill-opacity=\"1\" /><path clip-path=\"url(#clip720)\" d=\"M 0 0 M1475.64 1465.22 Q1479 1465.94 1480.87 1468.2 Q1482.77 1470.47 1482.77 1473.81 Q1482.77 1478.92 1479.25 1481.72 Q1475.73 1484.52 1469.25 1484.52 Q1467.08 1484.52 1464.76 1484.08 Q1462.47 1483.67 1460.01 1482.81 L1460.01 1478.3 Q1461.96 1479.43 1464.27 1480.01 Q1466.59 1480.59 1469.11 1480.59 Q1473.51 1480.59 1475.8 1478.85 Q1478.12 1477.12 1478.12 1473.81 Q1478.12 1470.75 1475.96 1469.04 Q1473.83 1467.3 1470.01 1467.3 L1465.99 1467.3 L1465.99 1463.46 L1470.2 1463.46 Q1473.65 1463.46 1475.48 1462.09 Q1477.31 1460.7 1477.31 1458.11 Q1477.31 1455.45 1475.41 1454.04 Q1473.53 1452.6 1470.01 1452.6 Q1468.09 1452.6 1465.89 1453.02 Q1463.7 1453.44 1461.06 1454.31 L1461.06 1450.15 Q1463.72 1449.41 1466.03 1449.04 Q1468.37 1448.67 1470.43 1448.67 Q1475.76 1448.67 1478.86 1451.1 Q1481.96 1453.5 1481.96 1457.63 Q1481.96 1460.5 1480.32 1462.49 Q1478.67 1464.45 1475.64 1465.22 Z\" fill=\"#000000\" fill-rule=\"evenodd\" fill-opacity=\"1\" /><path clip-path=\"url(#clip720)\" d=\"M 0 0 M1497.84 1452.37 Q1494.23 1452.37 1492.4 1455.94 Q1490.59 1459.48 1490.59 1466.61 Q1490.59 1473.71 1492.4 1477.28 Q1494.23 1480.82 1497.84 1480.82 Q1501.47 1480.82 1503.28 1477.28 Q1505.11 1473.71 1505.11 1466.61 Q1505.11 1459.48 1503.28 1455.94 Q1501.47 1452.37 1497.84 1452.37 M1497.84 1448.67 Q1503.65 1448.67 1506.7 1453.27 Q1509.78 1457.86 1509.78 1466.61 Q1509.78 1475.33 1506.7 1479.94 Q1503.65 1484.52 1497.84 1484.52 Q1492.03 1484.52 1488.95 1479.94 Q1485.89 1475.33 1485.89 1466.61 Q1485.89 1457.86 1488.95 1453.27 Q1492.03 1448.67 1497.84 1448.67 Z\" fill=\"#000000\" fill-rule=\"evenodd\" fill-opacity=\"1\" /><path clip-path=\"url(#clip720)\" d=\"M 0 0 M1878.62 1453.37 L1866.81 1471.81 L1878.62 1471.81 L1878.62 1453.37 M1877.39 1449.29 L1883.27 1449.29 L1883.27 1471.81 L1888.2 1471.81 L1888.2 1475.7 L1883.27 1475.7 L1883.27 1483.85 L1878.62 1483.85 L1878.62 1475.7 L1863.02 1475.7 L1863.02 1471.19 L1877.39 1449.29 Z\" fill=\"#000000\" fill-rule=\"evenodd\" fill-opacity=\"1\" /><path clip-path=\"url(#clip720)\" d=\"M 0 0 M1903.27 1452.37 Q1899.66 1452.37 1897.83 1455.94 Q1896.03 1459.48 1896.03 1466.61 Q1896.03 1473.71 1897.83 1477.28 Q1899.66 1480.82 1903.27 1480.82 Q1906.91 1480.82 1908.71 1477.28 Q1910.54 1473.71 1910.54 1466.61 Q1910.54 1459.48 1908.71 1455.94 Q1906.91 1452.37 1903.27 1452.37 M1903.27 1448.67 Q1909.08 1448.67 1912.14 1453.27 Q1915.22 1457.86 1915.22 1466.61 Q1915.22 1475.33 1912.14 1479.94 Q1909.08 1484.52 1903.27 1484.52 Q1897.46 1484.52 1894.38 1479.94 Q1891.33 1475.33 1891.33 1466.61 Q1891.33 1457.86 1894.38 1453.27 Q1897.46 1448.67 1903.27 1448.67 Z\" fill=\"#000000\" fill-rule=\"evenodd\" fill-opacity=\"1\" /><path clip-path=\"url(#clip720)\" d=\"M 0 0 M2270.11 1449.29 L2288.46 1449.29 L2288.46 1453.23 L2274.39 1453.23 L2274.39 1461.7 Q2275.41 1461.35 2276.43 1461.19 Q2277.44 1461 2278.46 1461 Q2284.25 1461 2287.63 1464.18 Q2291.01 1467.35 2291.01 1472.76 Q2291.01 1478.34 2287.54 1481.44 Q2284.07 1484.52 2277.75 1484.52 Q2275.57 1484.52 2273.3 1484.15 Q2271.06 1483.78 2268.65 1483.04 L2268.65 1478.34 Q2270.73 1479.48 2272.95 1480.03 Q2275.18 1480.59 2277.65 1480.59 Q2281.66 1480.59 2284 1478.48 Q2286.33 1476.38 2286.33 1472.76 Q2286.33 1469.15 2284 1467.05 Q2281.66 1464.94 2277.65 1464.94 Q2275.78 1464.94 2273.9 1465.36 Q2272.05 1465.77 2270.11 1466.65 L2270.11 1449.29 Z\" fill=\"#000000\" fill-rule=\"evenodd\" fill-opacity=\"1\" /><path clip-path=\"url(#clip720)\" d=\"M 0 0 M2306.08 1452.37 Q2302.47 1452.37 2300.64 1455.94 Q2298.83 1459.48 2298.83 1466.61 Q2298.83 1473.71 2300.64 1477.28 Q2302.47 1480.82 2306.08 1480.82 Q2309.71 1480.82 2311.52 1477.28 Q2313.35 1473.71 2313.35 1466.61 Q2313.35 1459.48 2311.52 1455.94 Q2309.71 1452.37 2306.08 1452.37 M2306.08 1448.67 Q2311.89 1448.67 2314.94 1453.27 Q2318.02 1457.86 2318.02 1466.61 Q2318.02 1475.33 2314.94 1479.94 Q2311.89 1484.52 2306.08 1484.52 Q2300.27 1484.52 2297.19 1479.94 Q2294.13 1475.33 2294.13 1466.61 Q2294.13 1457.86 2297.19 1453.27 Q2300.27 1448.67 2306.08 1448.67 Z\" fill=\"#000000\" fill-rule=\"evenodd\" fill-opacity=\"1\" /><path clip-path=\"url(#clip720)\" d=\"M 0 0 M1044.74 1520.52 L1072.05 1520.52 L1072.05 1525.93 L1051.17 1525.93 L1051.17 1539.94 L1070.02 1539.94 L1070.02 1545.35 L1051.17 1545.35 L1051.17 1568.04 L1044.74 1568.04 L1044.74 1520.52 Z\" fill=\"#000000\" fill-rule=\"evenodd\" fill-opacity=\"1\" /><path clip-path=\"url(#clip720)\" d=\"M 0 0 M1073.45 1532.4 L1079.31 1532.4 L1079.31 1568.04 L1073.45 1568.04 L1073.45 1532.4 M1073.45 1518.52 L1079.31 1518.52 L1079.31 1525.93 L1073.45 1525.93 L1073.45 1518.52 Z\" fill=\"#000000\" fill-rule=\"evenodd\" fill-opacity=\"1\" /><path clip-path=\"url(#clip720)\" d=\"M 0 0 M1106.11 1537.87 Q1105.12 1537.3 1103.95 1537.04 Q1102.8 1536.76 1101.4 1536.76 Q1096.43 1536.76 1093.76 1540 Q1091.12 1543.22 1091.12 1549.27 L1091.12 1568.04 L1085.23 1568.04 L1085.23 1532.4 L1091.12 1532.4 L1091.12 1537.93 Q1092.96 1534.69 1095.92 1533.13 Q1098.88 1531.54 1103.12 1531.54 Q1103.72 1531.54 1104.45 1531.63 Q1105.19 1531.7 1106.08 1531.85 L1106.11 1537.87 Z\" fill=\"#000000\" fill-rule=\"evenodd\" fill-opacity=\"1\" /><path clip-path=\"url(#clip720)\" d=\"M 0 0 M1134.98 1533.45 L1134.98 1538.98 Q1132.5 1537.71 1129.82 1537.07 Q1127.15 1536.44 1124.28 1536.44 Q1119.92 1536.44 1117.73 1537.77 Q1115.56 1539.11 1115.56 1541.79 Q1115.56 1543.82 1117.12 1545 Q1118.68 1546.15 1123.39 1547.2 L1125.4 1547.64 Q1131.64 1548.98 1134.25 1551.43 Q1136.89 1553.85 1136.89 1558.21 Q1136.89 1563.17 1132.94 1566.07 Q1129.03 1568.97 1122.15 1568.97 Q1119.29 1568.97 1116.17 1568.39 Q1113.08 1567.85 1109.64 1566.74 L1109.64 1560.69 Q1112.89 1562.38 1116.04 1563.24 Q1119.19 1564.07 1122.28 1564.07 Q1126.42 1564.07 1128.64 1562.66 Q1130.87 1561.23 1130.87 1558.65 Q1130.87 1556.27 1129.25 1554.99 Q1127.66 1553.72 1122.21 1552.54 L1120.18 1552.07 Q1114.74 1550.92 1112.32 1548.56 Q1109.9 1546.18 1109.9 1542.04 Q1109.9 1537.01 1113.46 1534.27 Q1117.03 1531.54 1123.58 1531.54 Q1126.83 1531.54 1129.69 1532.01 Q1132.56 1532.49 1134.98 1533.45 Z\" fill=\"#000000\" fill-rule=\"evenodd\" fill-opacity=\"1\" /><path clip-path=\"url(#clip720)\" d=\"M 0 0 M1148.82 1522.27 L1148.82 1532.4 L1160.89 1532.4 L1160.89 1536.95 L1148.82 1536.95 L1148.82 1556.3 Q1148.82 1560.66 1150 1561.9 Q1151.21 1563.14 1154.87 1563.14 L1160.89 1563.14 L1160.89 1568.04 L1154.87 1568.04 Q1148.09 1568.04 1145.51 1565.53 Q1142.94 1562.98 1142.94 1556.3 L1142.94 1536.95 L1138.64 1536.95 L1138.64 1532.4 L1142.94 1532.4 L1142.94 1522.27 L1148.82 1522.27 Z\" fill=\"#000000\" fill-rule=\"evenodd\" fill-opacity=\"1\" /><path clip-path=\"url(#clip720)\" d=\"M 0 0 M1188 1520.52 L1196.66 1520.52 L1217.73 1560.28 L1217.73 1520.52 L1223.97 1520.52 L1223.97 1568.04 L1215.31 1568.04 L1194.24 1528.29 L1194.24 1568.04 L1188 1568.04 L1188 1520.52 Z\" fill=\"#000000\" fill-rule=\"evenodd\" fill-opacity=\"1\" /><path clip-path=\"url(#clip720)\" d=\"M 0 0 M1235.91 1522.27 L1235.91 1532.4 L1247.97 1532.4 L1247.97 1536.95 L1235.91 1536.95 L1235.91 1556.3 Q1235.91 1560.66 1237.08 1561.9 Q1238.29 1563.14 1241.95 1563.14 L1247.97 1563.14 L1247.97 1568.04 L1241.95 1568.04 Q1235.17 1568.04 1232.6 1565.53 Q1230.02 1562.98 1230.02 1556.3 L1230.02 1536.95 L1225.72 1536.95 L1225.72 1532.4 L1230.02 1532.4 L1230.02 1522.27 L1235.91 1522.27 Z\" fill=\"#000000\" fill-rule=\"evenodd\" fill-opacity=\"1\" /><path clip-path=\"url(#clip720)\" d=\"M 0 0 M1283.74 1546.53 L1283.74 1568.04 L1277.89 1568.04 L1277.89 1546.72 Q1277.89 1541.66 1275.91 1539.14 Q1273.94 1536.63 1269.99 1536.63 Q1265.25 1536.63 1262.51 1539.65 Q1259.78 1542.68 1259.78 1547.9 L1259.78 1568.04 L1253.89 1568.04 L1253.89 1518.52 L1259.78 1518.52 L1259.78 1537.93 Q1261.88 1534.72 1264.71 1533.13 Q1267.58 1531.54 1271.3 1531.54 Q1277.44 1531.54 1280.59 1535.36 Q1283.74 1539.14 1283.74 1546.53 Z\" fill=\"#000000\" fill-rule=\"evenodd\" fill-opacity=\"1\" /><path clip-path=\"url(#clip720)\" d=\"M 0 0 M1310.86 1520.52 L1340.91 1520.52 L1340.91 1525.93 L1317.29 1525.93 L1317.29 1540 L1339.92 1540 L1339.92 1545.41 L1317.29 1545.41 L1317.29 1562.63 L1341.48 1562.63 L1341.48 1568.04 L1310.86 1568.04 L1310.86 1520.52 Z\" fill=\"#000000\" fill-rule=\"evenodd\" fill-opacity=\"1\" /><path clip-path=\"url(#clip720)\" d=\"M 0 0 M1353.29 1562.7 L1353.29 1581.6 L1347.4 1581.6 L1347.4 1532.4 L1353.29 1532.4 L1353.29 1537.81 Q1355.14 1534.62 1357.94 1533.1 Q1360.77 1531.54 1364.68 1531.54 Q1371.18 1531.54 1375.22 1536.69 Q1379.29 1541.85 1379.29 1550.25 Q1379.29 1558.65 1375.22 1563.81 Q1371.18 1568.97 1364.68 1568.97 Q1360.77 1568.97 1357.94 1567.44 Q1355.14 1565.88 1353.29 1562.7 M1373.21 1550.25 Q1373.21 1543.79 1370.54 1540.13 Q1367.9 1536.44 1363.25 1536.44 Q1358.61 1536.44 1355.93 1540.13 Q1353.29 1543.79 1353.29 1550.25 Q1353.29 1556.71 1355.93 1560.4 Q1358.61 1564.07 1363.25 1564.07 Q1367.9 1564.07 1370.54 1560.4 Q1373.21 1556.71 1373.21 1550.25 Z\" fill=\"#000000\" fill-rule=\"evenodd\" fill-opacity=\"1\" /><path clip-path=\"url(#clip720)\" d=\"M 0 0 M1385.44 1532.4 L1391.29 1532.4 L1391.29 1568.04 L1385.44 1568.04 L1385.44 1532.4 M1385.44 1518.52 L1391.29 1518.52 L1391.29 1525.93 L1385.44 1525.93 L1385.44 1518.52 Z\" fill=\"#000000\" fill-rule=\"evenodd\" fill-opacity=\"1\" /><path clip-path=\"url(#clip720)\" d=\"M 0 0 M1420.16 1533.45 L1420.16 1538.98 Q1417.68 1537.71 1415.01 1537.07 Q1412.33 1536.44 1409.47 1536.44 Q1405.11 1536.44 1402.91 1537.77 Q1400.75 1539.11 1400.75 1541.79 Q1400.75 1543.82 1402.31 1545 Q1403.87 1546.15 1408.58 1547.2 L1410.58 1547.64 Q1416.82 1548.98 1419.43 1551.43 Q1422.07 1553.85 1422.07 1558.21 Q1422.07 1563.17 1418.12 1566.07 Q1414.21 1568.97 1407.33 1568.97 Q1404.47 1568.97 1401.35 1568.39 Q1398.26 1567.85 1394.83 1566.74 L1394.83 1560.69 Q1398.07 1562.38 1401.22 1563.24 Q1404.37 1564.07 1407.46 1564.07 Q1411.6 1564.07 1413.83 1562.66 Q1416.06 1561.23 1416.06 1558.65 Q1416.06 1556.27 1414.43 1554.99 Q1412.84 1553.72 1407.4 1552.54 L1405.36 1552.07 Q1399.92 1550.92 1397.5 1548.56 Q1395.08 1546.18 1395.08 1542.04 Q1395.08 1537.01 1398.65 1534.27 Q1402.21 1531.54 1408.77 1531.54 Q1412.01 1531.54 1414.88 1532.01 Q1417.74 1532.49 1420.16 1533.45 Z\" fill=\"#000000\" fill-rule=\"evenodd\" fill-opacity=\"1\" /><path clip-path=\"url(#clip720)\" d=\"M 0 0 M1442.03 1536.5 Q1437.32 1536.5 1434.58 1540.19 Q1431.84 1543.85 1431.84 1550.25 Q1431.84 1556.65 1434.55 1560.34 Q1437.29 1564 1442.03 1564 Q1446.71 1564 1449.44 1560.31 Q1452.18 1556.62 1452.18 1550.25 Q1452.18 1543.92 1449.44 1540.23 Q1446.71 1536.5 1442.03 1536.5 M1442.03 1531.54 Q1449.67 1531.54 1454.03 1536.5 Q1458.39 1541.47 1458.39 1550.25 Q1458.39 1559 1454.03 1564 Q1449.67 1568.97 1442.03 1568.97 Q1434.36 1568.97 1430 1564 Q1425.67 1559 1425.67 1550.25 Q1425.67 1541.47 1430 1536.5 Q1434.36 1531.54 1442.03 1531.54 Z\" fill=\"#000000\" fill-rule=\"evenodd\" fill-opacity=\"1\" /><path clip-path=\"url(#clip720)\" d=\"M 0 0 M1487.99 1537.81 L1487.99 1518.52 L1493.84 1518.52 L1493.84 1568.04 L1487.99 1568.04 L1487.99 1562.7 Q1486.14 1565.88 1483.31 1567.44 Q1480.51 1568.97 1476.56 1568.97 Q1470.1 1568.97 1466.03 1563.81 Q1461.98 1558.65 1461.98 1550.25 Q1461.98 1541.85 1466.03 1536.69 Q1470.1 1531.54 1476.56 1531.54 Q1480.51 1531.54 1483.31 1533.1 Q1486.14 1534.62 1487.99 1537.81 M1468.03 1550.25 Q1468.03 1556.71 1470.67 1560.4 Q1473.35 1564.07 1477.99 1564.07 Q1482.64 1564.07 1485.31 1560.4 Q1487.99 1556.71 1487.99 1550.25 Q1487.99 1543.79 1485.31 1540.13 Q1482.64 1536.44 1477.99 1536.44 Q1473.35 1536.44 1470.67 1540.13 Q1468.03 1543.79 1468.03 1550.25 Z\" fill=\"#000000\" fill-rule=\"evenodd\" fill-opacity=\"1\" /><path clip-path=\"url(#clip720)\" d=\"M 0 0 M1530.48 1548.76 L1530.48 1551.62 L1503.55 1551.62 Q1503.93 1557.67 1507.18 1560.85 Q1510.46 1564 1516.28 1564 Q1519.66 1564 1522.81 1563.17 Q1525.99 1562.35 1529.11 1560.69 L1529.11 1566.23 Q1525.96 1567.57 1522.65 1568.27 Q1519.34 1568.97 1515.93 1568.97 Q1507.4 1568.97 1502.41 1564 Q1497.44 1559.04 1497.44 1550.57 Q1497.44 1541.82 1502.15 1536.69 Q1506.89 1531.54 1514.92 1531.54 Q1522.11 1531.54 1526.28 1536.18 Q1530.48 1540.8 1530.48 1548.76 M1524.62 1547.04 Q1524.56 1542.23 1521.92 1539.37 Q1519.31 1536.5 1514.98 1536.5 Q1510.08 1536.5 1507.12 1539.27 Q1504.19 1542.04 1503.74 1547.07 L1524.62 1547.04 Z\" fill=\"#000000\" fill-rule=\"evenodd\" fill-opacity=\"1\" /><path clip-path=\"url(#clip720)\" d=\"M 0 0 M1559.35 1533.45 L1559.35 1538.98 Q1556.87 1537.71 1554.19 1537.07 Q1551.52 1536.44 1548.65 1536.44 Q1544.29 1536.44 1542.1 1537.77 Q1539.93 1539.11 1539.93 1541.79 Q1539.93 1543.82 1541.49 1545 Q1543.05 1546.15 1547.76 1547.2 L1549.77 1547.64 Q1556.01 1548.98 1558.62 1551.43 Q1561.26 1553.85 1561.26 1558.21 Q1561.26 1563.17 1557.31 1566.07 Q1553.4 1568.97 1546.52 1568.97 Q1543.66 1568.97 1540.54 1568.39 Q1537.45 1567.85 1534.01 1566.74 L1534.01 1560.69 Q1537.26 1562.38 1540.41 1563.24 Q1543.56 1564.07 1546.65 1564.07 Q1550.79 1564.07 1553.01 1562.66 Q1555.24 1561.23 1555.24 1558.65 Q1555.24 1556.27 1553.62 1554.99 Q1552.03 1553.72 1546.58 1552.54 L1544.55 1552.07 Q1539.1 1550.92 1536.69 1548.56 Q1534.27 1546.18 1534.27 1542.04 Q1534.27 1537.01 1537.83 1534.27 Q1541.4 1531.54 1547.95 1531.54 Q1551.2 1531.54 1554.06 1532.01 Q1556.93 1532.49 1559.35 1533.45 Z\" fill=\"#000000\" fill-rule=\"evenodd\" fill-opacity=\"1\" /><polyline clip-path=\"url(#clip722)\" style=\"stroke:#000000; stroke-width:2; stroke-opacity:0.1; fill:none\" points=\"\n",
       "  253.246,1122.42 2352.76,1122.42 \n",
       "  \"/>\n",
       "<polyline clip-path=\"url(#clip722)\" style=\"stroke:#000000; stroke-width:2; stroke-opacity:0.1; fill:none\" points=\"\n",
       "  253.246,801.699 2352.76,801.699 \n",
       "  \"/>\n",
       "<polyline clip-path=\"url(#clip722)\" style=\"stroke:#000000; stroke-width:2; stroke-opacity:0.1; fill:none\" points=\"\n",
       "  253.246,480.978 2352.76,480.978 \n",
       "  \"/>\n",
       "<polyline clip-path=\"url(#clip722)\" style=\"stroke:#000000; stroke-width:2; stroke-opacity:0.1; fill:none\" points=\"\n",
       "  253.246,160.256 2352.76,160.256 \n",
       "  \"/>\n",
       "<polyline clip-path=\"url(#clip720)\" style=\"stroke:#000000; stroke-width:4; stroke-opacity:1; fill:none\" points=\"\n",
       "  253.246,1423.18 253.246,123.472 \n",
       "  \"/>\n",
       "<polyline clip-path=\"url(#clip720)\" style=\"stroke:#000000; stroke-width:4; stroke-opacity:1; fill:none\" points=\"\n",
       "  253.246,1122.42 278.44,1122.42 \n",
       "  \"/>\n",
       "<polyline clip-path=\"url(#clip720)\" style=\"stroke:#000000; stroke-width:4; stroke-opacity:1; fill:none\" points=\"\n",
       "  253.246,801.699 278.44,801.699 \n",
       "  \"/>\n",
       "<polyline clip-path=\"url(#clip720)\" style=\"stroke:#000000; stroke-width:4; stroke-opacity:1; fill:none\" points=\"\n",
       "  253.246,480.978 278.44,480.978 \n",
       "  \"/>\n",
       "<polyline clip-path=\"url(#clip720)\" style=\"stroke:#000000; stroke-width:4; stroke-opacity:1; fill:none\" points=\"\n",
       "  253.246,160.256 278.44,160.256 \n",
       "  \"/>\n",
       "<path clip-path=\"url(#clip720)\" d=\"M 0 0 M142.316 1105.14 L160.672 1105.14 L160.672 1109.08 L146.598 1109.08 L146.598 1117.55 Q147.616 1117.2 148.635 1117.04 Q149.653 1116.85 150.672 1116.85 Q156.459 1116.85 159.839 1120.02 Q163.218 1123.2 163.218 1128.61 Q163.218 1134.19 159.746 1137.29 Q156.274 1140.37 149.954 1140.37 Q147.778 1140.37 145.51 1140 Q143.265 1139.63 140.857 1138.89 L140.857 1134.19 Q142.941 1135.33 145.163 1135.88 Q147.385 1136.44 149.862 1136.44 Q153.866 1136.44 156.204 1134.33 Q158.542 1132.22 158.542 1128.61 Q158.542 1125 156.204 1122.9 Q153.866 1120.79 149.862 1120.79 Q147.987 1120.79 146.112 1121.21 Q144.26 1121.62 142.316 1122.5 L142.316 1105.14 Z\" fill=\"#000000\" fill-rule=\"evenodd\" fill-opacity=\"1\" /><path clip-path=\"url(#clip720)\" d=\"M 0 0 M178.288 1108.22 Q174.677 1108.22 172.848 1111.78 Q171.042 1115.33 171.042 1122.46 Q171.042 1129.56 172.848 1133.13 Q174.677 1136.67 178.288 1136.67 Q181.922 1136.67 183.727 1133.13 Q185.556 1129.56 185.556 1122.46 Q185.556 1115.33 183.727 1111.78 Q181.922 1108.22 178.288 1108.22 M178.288 1104.52 Q184.098 1104.52 187.153 1109.12 Q190.232 1113.71 190.232 1122.46 Q190.232 1131.18 187.153 1135.79 Q184.098 1140.37 178.288 1140.37 Q172.477 1140.37 169.399 1135.79 Q166.343 1131.18 166.343 1122.46 Q166.343 1113.71 169.399 1109.12 Q172.477 1104.52 178.288 1104.52 Z\" fill=\"#000000\" fill-rule=\"evenodd\" fill-opacity=\"1\" /><path clip-path=\"url(#clip720)\" d=\"M 0 0 M205.301 1108.22 Q201.69 1108.22 199.862 1111.78 Q198.056 1115.33 198.056 1122.46 Q198.056 1129.56 199.862 1133.13 Q201.69 1136.67 205.301 1136.67 Q208.936 1136.67 210.741 1133.13 Q212.57 1129.56 212.57 1122.46 Q212.57 1115.33 210.741 1111.78 Q208.936 1108.22 205.301 1108.22 M205.301 1104.52 Q211.111 1104.52 214.167 1109.12 Q217.246 1113.71 217.246 1122.46 Q217.246 1131.18 214.167 1135.79 Q211.111 1140.37 205.301 1140.37 Q199.491 1140.37 196.412 1135.79 Q193.357 1131.18 193.357 1122.46 Q193.357 1113.71 196.412 1109.12 Q199.491 1104.52 205.301 1104.52 Z\" fill=\"#000000\" fill-rule=\"evenodd\" fill-opacity=\"1\" /><path clip-path=\"url(#clip720)\" d=\"M 0 0 M116.297 815.044 L123.936 815.044 L123.936 788.678 L115.626 790.345 L115.626 786.086 L123.89 784.419 L128.566 784.419 L128.566 815.044 L136.204 815.044 L136.204 818.979 L116.297 818.979 L116.297 815.044 Z\" fill=\"#000000\" fill-rule=\"evenodd\" fill-opacity=\"1\" /><path clip-path=\"url(#clip720)\" d=\"M 0 0 M151.274 787.498 Q147.663 787.498 145.834 791.063 Q144.029 794.604 144.029 801.734 Q144.029 808.84 145.834 812.405 Q147.663 815.947 151.274 815.947 Q154.908 815.947 156.714 812.405 Q158.542 808.84 158.542 801.734 Q158.542 794.604 156.714 791.063 Q154.908 787.498 151.274 787.498 M151.274 783.794 Q157.084 783.794 160.14 788.401 Q163.218 792.984 163.218 801.734 Q163.218 810.461 160.14 815.067 Q157.084 819.65 151.274 819.65 Q145.464 819.65 142.385 815.067 Q139.329 810.461 139.329 801.734 Q139.329 792.984 142.385 788.401 Q145.464 783.794 151.274 783.794 Z\" fill=\"#000000\" fill-rule=\"evenodd\" fill-opacity=\"1\" /><path clip-path=\"url(#clip720)\" d=\"M 0 0 M178.288 787.498 Q174.677 787.498 172.848 791.063 Q171.042 794.604 171.042 801.734 Q171.042 808.84 172.848 812.405 Q174.677 815.947 178.288 815.947 Q181.922 815.947 183.727 812.405 Q185.556 808.84 185.556 801.734 Q185.556 794.604 183.727 791.063 Q181.922 787.498 178.288 787.498 M178.288 783.794 Q184.098 783.794 187.153 788.401 Q190.232 792.984 190.232 801.734 Q190.232 810.461 187.153 815.067 Q184.098 819.65 178.288 819.65 Q172.477 819.65 169.399 815.067 Q166.343 810.461 166.343 801.734 Q166.343 792.984 169.399 788.401 Q172.477 783.794 178.288 783.794 Z\" fill=\"#000000\" fill-rule=\"evenodd\" fill-opacity=\"1\" /><path clip-path=\"url(#clip720)\" d=\"M 0 0 M205.301 787.498 Q201.69 787.498 199.862 791.063 Q198.056 794.604 198.056 801.734 Q198.056 808.84 199.862 812.405 Q201.69 815.947 205.301 815.947 Q208.936 815.947 210.741 812.405 Q212.57 808.84 212.57 801.734 Q212.57 794.604 210.741 791.063 Q208.936 787.498 205.301 787.498 M205.301 783.794 Q211.111 783.794 214.167 788.401 Q217.246 792.984 217.246 801.734 Q217.246 810.461 214.167 815.067 Q211.111 819.65 205.301 819.65 Q199.491 819.65 196.412 815.067 Q193.357 810.461 193.357 801.734 Q193.357 792.984 196.412 788.401 Q199.491 783.794 205.301 783.794 Z\" fill=\"#000000\" fill-rule=\"evenodd\" fill-opacity=\"1\" /><path clip-path=\"url(#clip720)\" d=\"M 0 0 M117.293 494.323 L124.931 494.323 L124.931 467.957 L116.621 469.624 L116.621 465.364 L124.885 463.698 L129.561 463.698 L129.561 494.323 L137.2 494.323 L137.2 498.258 L117.293 498.258 L117.293 494.323 Z\" fill=\"#000000\" fill-rule=\"evenodd\" fill-opacity=\"1\" /><path clip-path=\"url(#clip720)\" d=\"M 0 0 M142.316 463.698 L160.672 463.698 L160.672 467.633 L146.598 467.633 L146.598 476.105 Q147.616 475.758 148.635 475.596 Q149.653 475.411 150.672 475.411 Q156.459 475.411 159.839 478.582 Q163.218 481.753 163.218 487.17 Q163.218 492.748 159.746 495.85 Q156.274 498.929 149.954 498.929 Q147.778 498.929 145.51 498.559 Q143.265 498.188 140.857 497.448 L140.857 492.748 Q142.941 493.883 145.163 494.438 Q147.385 494.994 149.862 494.994 Q153.866 494.994 156.204 492.887 Q158.542 490.781 158.542 487.17 Q158.542 483.559 156.204 481.452 Q153.866 479.346 149.862 479.346 Q147.987 479.346 146.112 479.762 Q144.26 480.179 142.316 481.059 L142.316 463.698 Z\" fill=\"#000000\" fill-rule=\"evenodd\" fill-opacity=\"1\" /><path clip-path=\"url(#clip720)\" d=\"M 0 0 M178.288 466.776 Q174.677 466.776 172.848 470.341 Q171.042 473.883 171.042 481.012 Q171.042 488.119 172.848 491.684 Q174.677 495.225 178.288 495.225 Q181.922 495.225 183.727 491.684 Q185.556 488.119 185.556 481.012 Q185.556 473.883 183.727 470.341 Q181.922 466.776 178.288 466.776 M178.288 463.073 Q184.098 463.073 187.153 467.679 Q190.232 472.262 190.232 481.012 Q190.232 489.739 187.153 494.346 Q184.098 498.929 178.288 498.929 Q172.477 498.929 169.399 494.346 Q166.343 489.739 166.343 481.012 Q166.343 472.262 169.399 467.679 Q172.477 463.073 178.288 463.073 Z\" fill=\"#000000\" fill-rule=\"evenodd\" fill-opacity=\"1\" /><path clip-path=\"url(#clip720)\" d=\"M 0 0 M205.301 466.776 Q201.69 466.776 199.862 470.341 Q198.056 473.883 198.056 481.012 Q198.056 488.119 199.862 491.684 Q201.69 495.225 205.301 495.225 Q208.936 495.225 210.741 491.684 Q212.57 488.119 212.57 481.012 Q212.57 473.883 210.741 470.341 Q208.936 466.776 205.301 466.776 M205.301 463.073 Q211.111 463.073 214.167 467.679 Q217.246 472.262 217.246 481.012 Q217.246 489.739 214.167 494.346 Q211.111 498.929 205.301 498.929 Q199.491 498.929 196.412 494.346 Q193.357 489.739 193.357 481.012 Q193.357 472.262 196.412 467.679 Q199.491 463.073 205.301 463.073 Z\" fill=\"#000000\" fill-rule=\"evenodd\" fill-opacity=\"1\" /><path clip-path=\"url(#clip720)\" d=\"M 0 0 M119.885 173.601 L136.204 173.601 L136.204 177.536 L114.26 177.536 L114.26 173.601 Q116.922 170.847 121.505 166.217 Q126.112 161.564 127.292 160.222 Q129.538 157.698 130.417 155.962 Q131.32 154.203 131.32 152.513 Q131.32 149.759 129.376 148.023 Q127.455 146.286 124.353 146.286 Q122.154 146.286 119.7 147.05 Q117.269 147.814 114.492 149.365 L114.492 144.643 Q117.316 143.509 119.769 142.93 Q122.223 142.351 124.26 142.351 Q129.63 142.351 132.825 145.036 Q136.019 147.722 136.019 152.212 Q136.019 154.342 135.209 156.263 Q134.422 158.161 132.316 160.754 Q131.737 161.425 128.635 164.643 Q125.533 167.837 119.885 173.601 Z\" fill=\"#000000\" fill-rule=\"evenodd\" fill-opacity=\"1\" /><path clip-path=\"url(#clip720)\" d=\"M 0 0 M151.274 146.055 Q147.663 146.055 145.834 149.62 Q144.029 153.161 144.029 160.291 Q144.029 167.397 145.834 170.962 Q147.663 174.504 151.274 174.504 Q154.908 174.504 156.714 170.962 Q158.542 167.397 158.542 160.291 Q158.542 153.161 156.714 149.62 Q154.908 146.055 151.274 146.055 M151.274 142.351 Q157.084 142.351 160.14 146.958 Q163.218 151.541 163.218 160.291 Q163.218 169.018 160.14 173.624 Q157.084 178.208 151.274 178.208 Q145.464 178.208 142.385 173.624 Q139.329 169.018 139.329 160.291 Q139.329 151.541 142.385 146.958 Q145.464 142.351 151.274 142.351 Z\" fill=\"#000000\" fill-rule=\"evenodd\" fill-opacity=\"1\" /><path clip-path=\"url(#clip720)\" d=\"M 0 0 M178.288 146.055 Q174.677 146.055 172.848 149.62 Q171.042 153.161 171.042 160.291 Q171.042 167.397 172.848 170.962 Q174.677 174.504 178.288 174.504 Q181.922 174.504 183.727 170.962 Q185.556 167.397 185.556 160.291 Q185.556 153.161 183.727 149.62 Q181.922 146.055 178.288 146.055 M178.288 142.351 Q184.098 142.351 187.153 146.958 Q190.232 151.541 190.232 160.291 Q190.232 169.018 187.153 173.624 Q184.098 178.208 178.288 178.208 Q172.477 178.208 169.399 173.624 Q166.343 169.018 166.343 160.291 Q166.343 151.541 169.399 146.958 Q172.477 142.351 178.288 142.351 Z\" fill=\"#000000\" fill-rule=\"evenodd\" fill-opacity=\"1\" /><path clip-path=\"url(#clip720)\" d=\"M 0 0 M205.301 146.055 Q201.69 146.055 199.862 149.62 Q198.056 153.161 198.056 160.291 Q198.056 167.397 199.862 170.962 Q201.69 174.504 205.301 174.504 Q208.936 174.504 210.741 170.962 Q212.57 167.397 212.57 160.291 Q212.57 153.161 210.741 149.62 Q208.936 146.055 205.301 146.055 M205.301 142.351 Q211.111 142.351 214.167 146.958 Q217.246 151.541 217.246 160.291 Q217.246 169.018 214.167 173.624 Q211.111 178.208 205.301 178.208 Q199.491 178.208 196.412 173.624 Q193.357 169.018 193.357 160.291 Q193.357 151.541 196.412 146.958 Q199.491 142.351 205.301 142.351 Z\" fill=\"#000000\" fill-rule=\"evenodd\" fill-opacity=\"1\" /><path clip-path=\"url(#clip720)\" d=\"M 0 0 M16.4842 994.725 L16.4842 964.679 L21.895 964.679 L21.895 988.296 L35.9632 988.296 L35.9632 965.666 L41.3741 965.666 L41.3741 988.296 L58.5933 988.296 L58.5933 964.106 L64.0042 964.106 L64.0042 994.725 L16.4842 994.725 Z\" fill=\"#000000\" fill-rule=\"evenodd\" fill-opacity=\"1\" /><path clip-path=\"url(#clip720)\" d=\"M 0 0 M58.657 952.298 L77.5631 952.298 L77.5631 958.186 L28.3562 958.186 L28.3562 952.298 L33.7671 952.298 Q30.5842 950.452 29.0564 947.651 Q27.4968 944.818 27.4968 940.903 Q27.4968 934.41 32.6531 930.368 Q37.8093 926.294 46.212 926.294 Q54.6147 926.294 59.771 930.368 Q64.9272 934.41 64.9272 940.903 Q64.9272 944.818 63.3994 947.651 Q61.8398 950.452 58.657 952.298 M46.212 932.373 Q39.7508 932.373 36.0905 935.047 Q32.3984 937.689 32.3984 942.335 Q32.3984 946.982 36.0905 949.656 Q39.7508 952.298 46.212 952.298 Q52.6732 952.298 56.3653 949.656 Q60.0256 946.982 60.0256 942.335 Q60.0256 937.689 56.3653 935.047 Q52.6732 932.373 46.212 932.373 Z\" fill=\"#000000\" fill-rule=\"evenodd\" fill-opacity=\"1\" /><path clip-path=\"url(#clip720)\" d=\"M 0 0 M28.3562 920.151 L28.3562 914.295 L64.0042 914.295 L64.0042 920.151 L28.3562 920.151 M14.479 920.151 L14.479 914.295 L21.895 914.295 L21.895 920.151 L14.479 920.151 Z\" fill=\"#000000\" fill-rule=\"evenodd\" fill-opacity=\"1\" /><path clip-path=\"url(#clip720)\" d=\"M 0 0 M29.4065 885.426 L34.9447 885.426 Q33.6716 887.909 33.035 890.582 Q32.3984 893.256 32.3984 896.12 Q32.3984 900.481 33.7352 902.677 Q35.072 904.841 37.7456 904.841 Q39.7826 904.841 40.9603 903.282 Q42.1061 901.722 43.1565 897.012 L43.6021 895.006 Q44.9389 888.768 47.3897 886.158 Q49.8086 883.516 54.1691 883.516 Q59.1344 883.516 62.0308 887.463 Q64.9272 891.378 64.9272 898.253 Q64.9272 901.118 64.3543 904.237 Q63.8132 907.324 62.6992 910.762 L56.6518 910.762 Q58.3387 907.515 59.198 904.364 Q60.0256 901.213 60.0256 898.126 Q60.0256 893.988 58.6251 891.76 Q57.1929 889.532 54.6147 889.532 Q52.2276 889.532 50.9545 891.155 Q49.6813 892.747 48.5037 898.189 L48.0262 900.226 Q46.8804 905.669 44.5251 908.088 Q42.138 910.507 38.0002 910.507 Q32.9713 910.507 30.2341 906.942 Q27.4968 903.377 27.4968 896.821 Q27.4968 893.574 27.9743 890.71 Q28.4517 887.845 29.4065 885.426 Z\" fill=\"#000000\" fill-rule=\"evenodd\" fill-opacity=\"1\" /><path clip-path=\"url(#clip720)\" d=\"M 0 0 M32.4621 863.56 Q32.4621 868.27 36.1542 871.008 Q39.8145 873.745 46.212 873.745 Q52.6095 873.745 56.3017 871.04 Q59.9619 868.302 59.9619 863.56 Q59.9619 858.881 56.2698 856.144 Q52.5777 853.407 46.212 853.407 Q39.8781 853.407 36.186 856.144 Q32.4621 858.881 32.4621 863.56 M27.4968 863.56 Q27.4968 855.921 32.4621 851.561 Q37.4273 847.2 46.212 847.2 Q54.9649 847.2 59.9619 851.561 Q64.9272 855.921 64.9272 863.56 Q64.9272 871.231 59.9619 875.591 Q54.9649 879.92 46.212 879.92 Q37.4273 879.92 32.4621 875.591 Q27.4968 871.231 27.4968 863.56 Z\" fill=\"#000000\" fill-rule=\"evenodd\" fill-opacity=\"1\" /><path clip-path=\"url(#clip720)\" d=\"M 0 0 M33.7671 817.599 L14.479 817.599 L14.479 811.743 L64.0042 811.743 L64.0042 817.599 L58.657 817.599 Q61.8398 819.446 63.3994 822.278 Q64.9272 825.079 64.9272 829.026 Q64.9272 835.487 59.771 839.561 Q54.6147 843.603 46.212 843.603 Q37.8093 843.603 32.6531 839.561 Q27.4968 835.487 27.4968 829.026 Q27.4968 825.079 29.0564 822.278 Q30.5842 819.446 33.7671 817.599 M46.212 837.556 Q52.6732 837.556 56.3653 834.914 Q60.0256 832.241 60.0256 827.594 Q60.0256 822.947 56.3653 820.273 Q52.6732 817.599 46.212 817.599 Q39.7508 817.599 36.0905 820.273 Q32.3984 822.947 32.3984 827.594 Q32.3984 832.241 36.0905 834.914 Q39.7508 837.556 46.212 837.556 Z\" fill=\"#000000\" fill-rule=\"evenodd\" fill-opacity=\"1\" /><path clip-path=\"url(#clip720)\" d=\"M 0 0 M44.7161 775.108 L47.5806 775.108 L47.5806 802.035 Q53.6281 801.653 56.8109 798.407 Q59.9619 795.129 59.9619 789.304 Q59.9619 785.93 59.1344 782.779 Q58.3069 779.596 56.6518 776.477 L62.1899 776.477 Q63.5267 779.628 64.227 782.938 Q64.9272 786.248 64.9272 789.654 Q64.9272 798.184 59.9619 803.181 Q54.9967 808.146 46.5303 808.146 Q37.7774 808.146 32.6531 803.436 Q27.4968 798.693 27.4968 790.673 Q27.4968 783.479 32.1438 779.31 Q36.7589 775.108 44.7161 775.108 M42.9973 780.965 Q38.1912 781.028 35.3266 783.67 Q32.4621 786.28 32.4621 790.609 Q32.4621 795.51 35.2312 798.471 Q38.0002 801.399 43.0292 801.844 L42.9973 780.965 Z\" fill=\"#000000\" fill-rule=\"evenodd\" fill-opacity=\"1\" /><path clip-path=\"url(#clip720)\" d=\"M 0 0 M16.4842 747.99 L16.4842 741.561 L58.5933 741.561 L58.5933 718.422 L64.0042 718.422 L64.0042 747.99 L16.4842 747.99 Z\" fill=\"#000000\" fill-rule=\"evenodd\" fill-opacity=\"1\" /><path clip-path=\"url(#clip720)\" d=\"M 0 0 M44.7161 682.933 L47.5806 682.933 L47.5806 709.86 Q53.6281 709.478 56.8109 706.231 Q59.9619 702.953 59.9619 697.128 Q59.9619 693.755 59.1344 690.604 Q58.3069 687.421 56.6518 684.302 L62.1899 684.302 Q63.5267 687.453 64.227 690.763 Q64.9272 694.073 64.9272 697.479 Q64.9272 706.009 59.9619 711.006 Q54.9967 715.971 46.5303 715.971 Q37.7774 715.971 32.6531 711.26 Q27.4968 706.518 27.4968 698.497 Q27.4968 691.304 32.1438 687.134 Q36.7589 682.933 44.7161 682.933 M42.9973 688.789 Q38.1912 688.853 35.3266 691.495 Q32.4621 694.105 32.4621 698.433 Q32.4621 703.335 35.2312 706.295 Q38.0002 709.223 43.0292 709.669 L42.9973 688.789 Z\" fill=\"#000000\" fill-rule=\"evenodd\" fill-opacity=\"1\" /><path clip-path=\"url(#clip720)\" d=\"M 0 0 M42.4881 647.158 L64.0042 647.158 L64.0042 653.014 L42.679 653.014 Q37.6183 653.014 35.1038 654.987 Q32.5894 656.961 32.5894 660.908 Q32.5894 665.65 35.6131 668.387 Q38.6368 671.125 43.8567 671.125 L64.0042 671.125 L64.0042 677.013 L28.3562 677.013 L28.3562 671.125 L33.8944 671.125 Q30.6797 669.024 29.0883 666.191 Q27.4968 663.327 27.4968 659.603 Q27.4968 653.46 31.3163 650.309 Q35.1038 647.158 42.4881 647.158 Z\" fill=\"#000000\" fill-rule=\"evenodd\" fill-opacity=\"1\" /><path clip-path=\"url(#clip720)\" d=\"M 0 0 M45.7664 617.557 Q39.4007 617.557 35.8996 620.199 Q32.3984 622.809 32.3984 627.551 Q32.3984 632.262 35.8996 634.904 Q39.4007 637.514 45.7664 637.514 Q52.1003 637.514 55.6014 634.904 Q59.1026 632.262 59.1026 627.551 Q59.1026 622.809 55.6014 620.199 Q52.1003 617.557 45.7664 617.557 M59.58 611.701 Q68.683 611.701 73.1071 615.743 Q77.5631 619.785 77.5631 628.124 Q77.5631 631.212 77.0857 633.949 Q76.6401 636.686 75.6852 639.264 L69.9879 639.264 Q71.3884 636.686 72.0568 634.172 Q72.7252 631.657 72.7252 629.047 Q72.7252 623.286 69.7015 620.422 Q66.7096 617.557 60.6303 617.557 L57.7339 617.557 Q60.885 619.371 62.4446 622.204 Q64.0042 625.037 64.0042 628.984 Q64.0042 635.54 59.0071 639.551 Q54.01 643.561 45.7664 643.561 Q37.491 643.561 32.4939 639.551 Q27.4968 635.54 27.4968 628.984 Q27.4968 625.037 29.0564 622.204 Q30.616 619.371 33.7671 617.557 L28.3562 617.557 L28.3562 611.701 L59.58 611.701 Z\" fill=\"#000000\" fill-rule=\"evenodd\" fill-opacity=\"1\" /><path clip-path=\"url(#clip720)\" d=\"M 0 0 M18.2347 599.765 L28.3562 599.765 L28.3562 587.702 L32.9077 587.702 L32.9077 599.765 L52.2594 599.765 Q56.6199 599.765 57.8613 598.587 Q59.1026 597.378 59.1026 593.718 L59.1026 587.702 L64.0042 587.702 L64.0042 593.718 Q64.0042 600.497 61.4897 603.075 Q58.9434 605.653 52.2594 605.653 L32.9077 605.653 L32.9077 609.95 L28.3562 609.95 L28.3562 605.653 L18.2347 605.653 L18.2347 599.765 Z\" fill=\"#000000\" fill-rule=\"evenodd\" fill-opacity=\"1\" /><path clip-path=\"url(#clip720)\" d=\"M 0 0 M42.4881 551.927 L64.0042 551.927 L64.0042 557.783 L42.679 557.783 Q37.6183 557.783 35.1038 559.757 Q32.5894 561.73 32.5894 565.677 Q32.5894 570.419 35.6131 573.156 Q38.6368 575.894 43.8567 575.894 L64.0042 575.894 L64.0042 581.782 L14.479 581.782 L14.479 575.894 L33.8944 575.894 Q30.6797 573.793 29.0883 570.96 Q27.4968 568.096 27.4968 564.372 Q27.4968 558.229 31.3163 555.078 Q35.1038 551.927 42.4881 551.927 Z\" fill=\"#000000\" fill-rule=\"evenodd\" fill-opacity=\"1\" /><path clip-path=\"url(#clip720)\" d=\"M 0 0 M867.873 12.096 L906.113 12.096 L906.113 18.9825 L876.056 18.9825 L876.056 36.8875 L904.858 36.8875 L904.858 43.7741 L876.056 43.7741 L876.056 65.6895 L906.843 65.6895 L906.843 72.576 L867.873 72.576 L867.873 12.096 Z\" fill=\"#000000\" fill-rule=\"evenodd\" fill-opacity=\"1\" /><path clip-path=\"url(#clip720)\" d=\"M 0 0 M952.375 27.2059 L935.969 49.2833 L953.225 72.576 L944.435 72.576 L931.229 54.752 L918.023 72.576 L909.233 72.576 L926.854 48.8377 L910.732 27.2059 L919.522 27.2059 L931.553 43.369 L943.584 27.2059 L952.375 27.2059 Z\" fill=\"#000000\" fill-rule=\"evenodd\" fill-opacity=\"1\" /><path clip-path=\"url(#clip720)\" d=\"M 0 0 M968.254 65.7705 L968.254 89.8329 L960.76 89.8329 L960.76 27.2059 L968.254 27.2059 L968.254 34.0924 Q970.604 30.0415 974.169 28.0971 Q977.774 26.1121 982.757 26.1121 Q991.02 26.1121 996.165 32.6746 Q1001.35 39.2371 1001.35 49.9314 Q1001.35 60.6258 996.165 67.1883 Q991.02 73.7508 982.757 73.7508 Q977.774 73.7508 974.169 71.8063 Q970.604 69.8214 968.254 65.7705 M993.613 49.9314 Q993.613 41.7081 990.21 37.0496 Q986.848 32.3505 980.934 32.3505 Q975.019 32.3505 971.617 37.0496 Q968.254 41.7081 968.254 49.9314 Q968.254 58.1548 971.617 62.8538 Q975.019 67.5124 980.934 67.5124 Q986.848 67.5124 990.21 62.8538 Q993.613 58.1548 993.613 49.9314 Z\" fill=\"#000000\" fill-rule=\"evenodd\" fill-opacity=\"1\" /><path clip-path=\"url(#clip720)\" d=\"M 0 0 M1009.17 9.54393 L1016.62 9.54393 L1016.62 72.576 L1009.17 72.576 L1009.17 9.54393 Z\" fill=\"#000000\" fill-rule=\"evenodd\" fill-opacity=\"1\" /><path clip-path=\"url(#clip720)\" d=\"M 0 0 M1042.02 32.4315 Q1036.03 32.4315 1032.54 37.1306 Q1029.06 41.7891 1029.06 49.9314 Q1029.06 58.0738 1032.5 62.7728 Q1035.99 67.4314 1042.02 67.4314 Q1047.98 67.4314 1051.46 62.7323 Q1054.94 58.0333 1054.94 49.9314 Q1054.94 41.8701 1051.46 37.1711 Q1047.98 32.4315 1042.02 32.4315 M1042.02 26.1121 Q1051.74 26.1121 1057.29 32.4315 Q1062.84 38.7509 1062.84 49.9314 Q1062.84 61.0714 1057.29 67.4314 Q1051.74 73.7508 1042.02 73.7508 Q1032.26 73.7508 1026.71 67.4314 Q1021.2 61.0714 1021.2 49.9314 Q1021.2 38.7509 1026.71 32.4315 Q1032.26 26.1121 1042.02 26.1121 Z\" fill=\"#000000\" fill-rule=\"evenodd\" fill-opacity=\"1\" /><path clip-path=\"url(#clip720)\" d=\"M 0 0 M1096.95 34.1734 Q1095.7 33.4443 1094.2 33.1202 Q1092.74 32.7556 1090.96 32.7556 Q1084.64 32.7556 1081.23 36.8875 Q1077.87 40.9789 1077.87 48.6757 L1077.87 72.576 L1070.38 72.576 L1070.38 27.2059 L1077.87 27.2059 L1077.87 34.2544 Q1080.22 30.1225 1083.99 28.1376 Q1087.76 26.1121 1093.14 26.1121 Q1093.91 26.1121 1094.85 26.2337 Q1095.78 26.3147 1096.91 26.5172 L1096.95 34.1734 Z\" fill=\"#000000\" fill-rule=\"evenodd\" fill-opacity=\"1\" /><path clip-path=\"url(#clip720)\" d=\"M 0 0 M1104.77 27.2059 L1112.22 27.2059 L1112.22 72.576 L1104.77 72.576 L1104.77 27.2059 M1104.77 9.54393 L1112.22 9.54393 L1112.22 18.9825 L1104.77 18.9825 L1104.77 9.54393 Z\" fill=\"#000000\" fill-rule=\"evenodd\" fill-opacity=\"1\" /><path clip-path=\"url(#clip720)\" d=\"M 0 0 M1157.76 45.1919 L1157.76 72.576 L1150.3 72.576 L1150.3 45.4349 Q1150.3 38.994 1147.79 35.7938 Q1145.28 32.5936 1140.26 32.5936 Q1134.22 32.5936 1130.74 36.4419 Q1127.25 40.2903 1127.25 46.9338 L1127.25 72.576 L1119.76 72.576 L1119.76 27.2059 L1127.25 27.2059 L1127.25 34.2544 Q1129.93 30.163 1133.53 28.1376 Q1137.18 26.1121 1141.92 26.1121 Q1149.73 26.1121 1153.75 30.9732 Q1157.76 35.7938 1157.76 45.1919 Z\" fill=\"#000000\" fill-rule=\"evenodd\" fill-opacity=\"1\" /><path clip-path=\"url(#clip720)\" d=\"M 0 0 M1195.43 49.3643 Q1195.43 41.2625 1192.07 36.8065 Q1188.75 32.3505 1182.71 32.3505 Q1176.71 32.3505 1173.35 36.8065 Q1170.03 41.2625 1170.03 49.3643 Q1170.03 57.4256 1173.35 61.8816 Q1176.71 66.3376 1182.71 66.3376 Q1188.75 66.3376 1192.07 61.8816 Q1195.43 57.4256 1195.43 49.3643 M1202.88 66.9452 Q1202.88 78.5308 1197.74 84.1616 Q1192.59 89.8329 1181.98 89.8329 Q1178.05 89.8329 1174.57 89.2252 Q1171.08 88.6581 1167.8 87.4428 L1167.8 80.1917 Q1171.08 81.9741 1174.28 82.8248 Q1177.48 83.6755 1180.81 83.6755 Q1188.14 83.6755 1191.78 79.8271 Q1195.43 76.0193 1195.43 68.282 L1195.43 64.5957 Q1193.12 68.6061 1189.51 70.5911 Q1185.91 72.576 1180.89 72.576 Q1172.54 72.576 1167.44 66.2161 Q1162.33 59.8562 1162.33 49.3643 Q1162.33 38.832 1167.44 32.472 Q1172.54 26.1121 1180.89 26.1121 Q1185.91 26.1121 1189.51 28.0971 Q1193.12 30.082 1195.43 34.0924 L1195.43 27.2059 L1202.88 27.2059 L1202.88 66.9452 Z\" fill=\"#000000\" fill-rule=\"evenodd\" fill-opacity=\"1\" /><path clip-path=\"url(#clip720)\" d=\"M 0 0 M1245.58 18.8205 L1245.58 41.5461 L1255.87 41.5461 Q1261.58 41.5461 1264.7 38.5889 Q1267.82 35.6318 1267.82 30.163 Q1267.82 24.7348 1264.7 21.7777 Q1261.58 18.8205 1255.87 18.8205 L1245.58 18.8205 M1237.4 12.096 L1255.87 12.096 Q1266.04 12.096 1271.22 16.714 Q1276.45 21.2916 1276.45 30.163 Q1276.45 39.1155 1271.22 43.6931 Q1266.04 48.2706 1255.87 48.2706 L1245.58 48.2706 L1245.58 72.576 L1237.4 72.576 L1237.4 12.096 Z\" fill=\"#000000\" fill-rule=\"evenodd\" fill-opacity=\"1\" /><path clip-path=\"url(#clip720)\" d=\"M 0 0 M1298.89 32.4315 Q1292.89 32.4315 1289.41 37.1306 Q1285.93 41.7891 1285.93 49.9314 Q1285.93 58.0738 1289.37 62.7728 Q1292.85 67.4314 1298.89 67.4314 Q1304.84 67.4314 1308.33 62.7323 Q1311.81 58.0333 1311.81 49.9314 Q1311.81 41.8701 1308.33 37.1711 Q1304.84 32.4315 1298.89 32.4315 M1298.89 26.1121 Q1308.61 26.1121 1314.16 32.4315 Q1319.71 38.7509 1319.71 49.9314 Q1319.71 61.0714 1314.16 67.4314 Q1308.61 73.7508 1298.89 73.7508 Q1289.13 73.7508 1283.58 67.4314 Q1278.07 61.0714 1278.07 49.9314 Q1278.07 38.7509 1283.58 32.4315 Q1289.13 26.1121 1298.89 26.1121 Z\" fill=\"#000000\" fill-rule=\"evenodd\" fill-opacity=\"1\" /><path clip-path=\"url(#clip720)\" d=\"M 0 0 M1356.45 28.5427 L1356.45 35.5912 Q1353.29 33.9709 1349.89 33.1607 Q1346.49 32.3505 1342.84 32.3505 Q1337.29 32.3505 1334.5 34.0519 Q1331.74 35.7533 1331.74 39.156 Q1331.74 41.7486 1333.73 43.2475 Q1335.71 44.7058 1341.71 46.0426 L1344.26 46.6097 Q1352.2 48.3111 1355.52 51.4303 Q1358.88 54.509 1358.88 60.0587 Q1358.88 66.3781 1353.86 70.0644 Q1348.88 73.7508 1340.13 73.7508 Q1336.48 73.7508 1332.51 73.0216 Q1328.58 72.3329 1324.21 70.9151 L1324.21 63.2184 Q1328.34 65.3654 1332.35 66.4591 Q1336.36 67.5124 1340.29 67.5124 Q1345.56 67.5124 1348.39 65.73 Q1351.23 63.9071 1351.23 60.6258 Q1351.23 57.5877 1349.16 55.9673 Q1347.14 54.3469 1340.21 52.8481 L1337.62 52.2405 Q1330.69 50.7821 1327.61 47.7845 Q1324.53 44.7463 1324.53 39.4801 Q1324.53 33.0797 1329.07 29.5959 Q1333.61 26.1121 1341.95 26.1121 Q1346.08 26.1121 1349.73 26.7198 Q1353.37 27.3274 1356.45 28.5427 Z\" fill=\"#000000\" fill-rule=\"evenodd\" fill-opacity=\"1\" /><path clip-path=\"url(#clip720)\" d=\"M 0 0 M1366.7 27.2059 L1374.15 27.2059 L1374.15 72.576 L1366.7 72.576 L1366.7 27.2059 M1366.7 9.54393 L1374.15 9.54393 L1374.15 18.9825 L1366.7 18.9825 L1366.7 9.54393 Z\" fill=\"#000000\" fill-rule=\"evenodd\" fill-opacity=\"1\" /><path clip-path=\"url(#clip720)\" d=\"M 0 0 M1389.35 14.324 L1389.35 27.2059 L1404.7 27.2059 L1404.7 32.9987 L1389.35 32.9987 L1389.35 57.6282 Q1389.35 63.1779 1390.84 64.7578 Q1392.38 66.3376 1397.04 66.3376 L1404.7 66.3376 L1404.7 72.576 L1397.04 72.576 Q1388.41 72.576 1385.13 69.3758 Q1381.85 66.1351 1381.85 57.6282 L1381.85 32.9987 L1376.38 32.9987 L1376.38 27.2059 L1381.85 27.2059 L1381.85 14.324 L1389.35 14.324 Z\" fill=\"#000000\" fill-rule=\"evenodd\" fill-opacity=\"1\" /><path clip-path=\"url(#clip720)\" d=\"M 0 0 M1412.52 27.2059 L1419.97 27.2059 L1419.97 72.576 L1412.52 72.576 L1412.52 27.2059 M1412.52 9.54393 L1419.97 9.54393 L1419.97 18.9825 L1412.52 18.9825 L1412.52 9.54393 Z\" fill=\"#000000\" fill-rule=\"evenodd\" fill-opacity=\"1\" /><path clip-path=\"url(#clip720)\" d=\"M 0 0 M1445.37 32.4315 Q1439.37 32.4315 1435.89 37.1306 Q1432.41 41.7891 1432.41 49.9314 Q1432.41 58.0738 1435.85 62.7728 Q1439.33 67.4314 1445.37 67.4314 Q1451.32 67.4314 1454.81 62.7323 Q1458.29 58.0333 1458.29 49.9314 Q1458.29 41.8701 1454.81 37.1711 Q1451.32 32.4315 1445.37 32.4315 M1445.37 26.1121 Q1455.09 26.1121 1460.64 32.4315 Q1466.19 38.7509 1466.19 49.9314 Q1466.19 61.0714 1460.64 67.4314 Q1455.09 73.7508 1445.37 73.7508 Q1435.61 73.7508 1430.06 67.4314 Q1424.55 61.0714 1424.55 49.9314 Q1424.55 38.7509 1430.06 32.4315 Q1435.61 26.1121 1445.37 26.1121 Z\" fill=\"#000000\" fill-rule=\"evenodd\" fill-opacity=\"1\" /><path clip-path=\"url(#clip720)\" d=\"M 0 0 M1511.72 45.1919 L1511.72 72.576 L1504.27 72.576 L1504.27 45.4349 Q1504.27 38.994 1501.76 35.7938 Q1499.25 32.5936 1494.22 32.5936 Q1488.19 32.5936 1484.7 36.4419 Q1481.22 40.2903 1481.22 46.9338 L1481.22 72.576 L1473.73 72.576 L1473.73 27.2059 L1481.22 27.2059 L1481.22 34.2544 Q1483.89 30.163 1487.5 28.1376 Q1491.15 26.1121 1495.88 26.1121 Q1503.7 26.1121 1507.71 30.9732 Q1511.72 35.7938 1511.72 45.1919 Z\" fill=\"#000000\" fill-rule=\"evenodd\" fill-opacity=\"1\" /><path clip-path=\"url(#clip720)\" d=\"M 0 0 M1558.27 40.0472 Q1554.58 43.3285 1552.84 46.6097 Q1551.14 49.8504 1551.14 53.4152 Q1551.14 59.3295 1555.43 63.2589 Q1559.73 67.1883 1566.21 67.1883 Q1570.06 67.1883 1573.42 65.9325 Q1576.78 64.6362 1579.74 62.0436 L1558.27 40.0472 M1563.98 35.5102 L1584.56 56.5749 Q1586.95 52.9696 1588.29 48.8782 Q1589.62 44.7463 1589.87 40.1283 L1597.4 40.1283 Q1596.91 45.4755 1594.81 50.7011 Q1592.7 55.9268 1588.93 61.0309 L1600.24 72.576 L1590.03 72.576 L1584.23 66.6212 Q1580.02 70.2265 1575.4 72.0089 Q1570.79 73.7508 1565.48 73.7508 Q1555.72 73.7508 1549.52 68.201 Q1543.32 62.6108 1543.32 53.9013 Q1543.32 48.7162 1546.03 44.1792 Q1548.75 39.6016 1554.18 35.5912 Q1552.23 33.0392 1551.22 30.5276 Q1550.21 27.9755 1550.21 25.545 Q1550.21 18.9825 1554.7 15.0127 Q1559.2 11.0023 1566.65 11.0023 Q1570.02 11.0023 1573.34 11.7314 Q1576.7 12.4606 1580.14 13.9189 L1580.14 21.2916 Q1576.62 19.3876 1573.42 18.4154 Q1570.22 17.4027 1567.46 17.4027 Q1563.21 17.4027 1560.54 19.6712 Q1557.9 21.8992 1557.9 25.464 Q1557.9 27.5299 1559.08 29.6364 Q1560.29 31.7024 1563.98 35.5102 Z\" fill=\"#000000\" fill-rule=\"evenodd\" fill-opacity=\"1\" /><path clip-path=\"url(#clip720)\" d=\"M 0 0 M1650.35 72.576 L1627.26 12.096 L1635.8 12.096 L1654.96 63.0159 L1674.16 12.096 L1682.67 12.096 L1659.62 72.576 L1650.35 72.576 Z\" fill=\"#000000\" fill-rule=\"evenodd\" fill-opacity=\"1\" /><path clip-path=\"url(#clip720)\" d=\"M 0 0 M1722.86 48.0275 L1722.86 51.6733 L1688.59 51.6733 Q1689.07 59.3701 1693.2 63.421 Q1697.38 67.4314 1704.79 67.4314 Q1709.08 67.4314 1713.09 66.3781 Q1717.15 65.3249 1721.11 63.2184 L1721.11 70.267 Q1717.1 71.9684 1712.89 72.8596 Q1708.68 73.7508 1704.34 73.7508 Q1693.49 73.7508 1687.13 67.4314 Q1680.81 61.1119 1680.81 50.3365 Q1680.81 39.1965 1686.8 32.6746 Q1692.84 26.1121 1703.05 26.1121 Q1712.2 26.1121 1717.51 32.0264 Q1722.86 37.9003 1722.86 48.0275 M1715.4 45.84 Q1715.32 39.7232 1711.96 36.0774 Q1708.64 32.4315 1703.13 32.4315 Q1696.89 32.4315 1693.12 35.9558 Q1689.4 39.4801 1688.83 45.8805 L1715.4 45.84 Z\" fill=\"#000000\" fill-rule=\"evenodd\" fill-opacity=\"1\" /><path clip-path=\"url(#clip720)\" d=\"M 0 0 M1730.68 9.54393 L1738.13 9.54393 L1738.13 72.576 L1730.68 72.576 L1730.68 9.54393 Z\" fill=\"#000000\" fill-rule=\"evenodd\" fill-opacity=\"1\" /><polyline clip-path=\"url(#clip722)\" style=\"stroke:#009af9; stroke-width:4; stroke-opacity:1; fill:none\" points=\"\n",
       "  312.666,239.688 353.088,386.172 393.509,475.632 433.931,333.916 474.353,399.172 514.775,361.22 555.197,323.931 595.619,423.355 636.041,332.526 676.462,324.808 \n",
       "  716.884,402.615 757.306,278.431 797.728,236.331 838.15,283.349 878.572,324.273 918.993,321.579 959.415,352.646 999.837,284.098 1040.26,325.813 1080.68,242.062 \n",
       "  1121.1,327.138 1161.52,243.195 1201.95,364.962 1242.37,328.464 1282.79,286.407 1323.21,325.107 1363.63,284.204 1404.06,241.655 1444.48,283.649 1484.9,283.52 \n",
       "  1525.32,326.561 1565.74,326.39 1606.16,320.852 1646.59,326.198 1687.01,236.738 1727.43,370.949 1767.85,284.333 1808.27,327.823 1848.7,194.167 1889.12,234.343 \n",
       "  1929.54,314.117 1969.96,285.979 2010.38,160.256 2050.8,288.203 2091.23,287.989 2131.65,245.44 2172.07,202.827 2212.49,245.354 2252.91,202.741 2293.34,160.256 \n",
       "  \n",
       "  \"/>\n",
       "<polyline clip-path=\"url(#clip722)\" style=\"stroke:#e26f46; stroke-width:4; stroke-opacity:1; fill:none\" points=\"\n",
       "  312.666,454.7 353.088,904.266 393.509,1124.32 433.931,1259.2 474.353,1252.87 514.775,1284.41 555.197,1314.75 595.619,1304.29 636.041,1332.3 676.462,1301.53 \n",
       "  716.884,1303.86 757.306,1336.41 797.728,1356.53 838.15,1329.56 878.572,1329.67 918.993,1351.69 959.415,1366.9 999.837,1376.84 1040.26,1362.13 1080.68,1365.89 \n",
       "  1121.1,1364.91 1161.52,1358 1201.95,1377.5 1242.37,1372.93 1282.79,1356.53 1323.21,1379.47 1363.63,1386.4 1404.06,1382.16 1444.48,1383.38 1484.9,1376.41 \n",
       "  1525.32,1381.63 1565.74,1373.31 1606.16,1371.71 1646.59,1366.34 1687.01,1369.12 1727.43,1367.82 1767.85,1364.69 1808.27,1369.93 1848.7,1371 1889.12,1385.48 \n",
       "  1929.54,1375.92 1969.96,1380.37 2010.38,1372.18 2050.8,1383.72 2091.23,1364.65 2131.65,1380.52 2172.07,1377.33 2212.49,1378.38 2252.91,1381.24 2293.34,1377.74 \n",
       "  \n",
       "  \"/>\n",
       "<path clip-path=\"url(#clip720)\" d=\"\n",
       "M323.229 833.806 L1130.83 833.806 L1130.83 652.366 L323.229 652.366  Z\n",
       "  \" fill=\"#ffffff\" fill-rule=\"evenodd\" fill-opacity=\"1\"/>\n",
       "<polyline clip-path=\"url(#clip720)\" style=\"stroke:#000000; stroke-width:4; stroke-opacity:1; fill:none\" points=\"\n",
       "  323.229,833.806 1130.83,833.806 1130.83,652.366 323.229,652.366 323.229,833.806 \n",
       "  \"/>\n",
       "<polyline clip-path=\"url(#clip720)\" style=\"stroke:#009af9; stroke-width:4; stroke-opacity:1; fill:none\" points=\"\n",
       "  346.557,712.846 486.525,712.846 \n",
       "  \"/>\n",
       "<path clip-path=\"url(#clip720)\" d=\"M 0 0 M528.95 719.895 L528.95 704.2 L533.209 704.2 L533.209 719.733 Q533.209 723.413 534.644 725.265 Q536.079 727.094 538.95 727.094 Q542.399 727.094 544.389 724.895 Q546.403 722.695 546.403 718.899 L546.403 704.2 L550.662 704.2 L550.662 730.126 L546.403 730.126 L546.403 726.145 Q544.852 728.506 542.792 729.663 Q540.755 730.797 538.047 730.797 Q533.579 730.797 531.264 728.02 Q528.95 725.242 528.95 719.895 M539.667 703.575 L539.667 703.575 Z\" fill=\"#000000\" fill-rule=\"evenodd\" fill-opacity=\"1\" /><path clip-path=\"url(#clip720)\" d=\"M 0 0 M571.658 704.964 L571.658 708.992 Q569.852 708.066 567.908 707.603 Q565.963 707.14 563.88 707.14 Q560.709 707.14 559.112 708.112 Q557.537 709.084 557.537 711.029 Q557.537 712.51 558.672 713.367 Q559.806 714.2 563.232 714.964 L564.69 715.288 Q569.227 716.26 571.125 718.043 Q573.047 719.802 573.047 722.973 Q573.047 726.584 570.176 728.691 Q567.329 730.797 562.329 730.797 Q560.246 730.797 557.977 730.381 Q555.732 729.987 553.232 729.177 L553.232 724.779 Q555.593 726.006 557.885 726.631 Q560.176 727.232 562.422 727.232 Q565.431 727.232 567.051 726.214 Q568.672 725.172 568.672 723.297 Q568.672 721.561 567.491 720.635 Q566.334 719.709 562.375 718.853 L560.894 718.506 Q556.936 717.672 555.176 715.959 Q553.417 714.223 553.417 711.214 Q553.417 707.557 556.01 705.566 Q558.602 703.575 563.371 703.575 Q565.732 703.575 567.815 703.922 Q569.898 704.27 571.658 704.964 Z\" fill=\"#000000\" fill-rule=\"evenodd\" fill-opacity=\"1\" /><path clip-path=\"url(#clip720)\" d=\"M 0 0 M599.69 716.098 L599.69 718.182 L580.107 718.182 Q580.385 722.58 582.746 724.895 Q585.13 727.186 589.366 727.186 Q591.82 727.186 594.111 726.584 Q596.426 725.982 598.695 724.779 L598.695 728.807 Q596.403 729.779 593.996 730.288 Q591.588 730.797 589.111 730.797 Q582.908 730.797 579.273 727.186 Q575.662 723.575 575.662 717.418 Q575.662 711.052 579.088 707.325 Q582.537 703.575 588.371 703.575 Q593.602 703.575 596.634 706.955 Q599.69 710.311 599.69 716.098 M595.431 714.848 Q595.384 711.353 593.463 709.27 Q591.565 707.186 588.417 707.186 Q584.852 707.186 582.699 709.2 Q580.57 711.214 580.246 714.871 L595.431 714.848 Z\" fill=\"#000000\" fill-rule=\"evenodd\" fill-opacity=\"1\" /><path clip-path=\"url(#clip720)\" d=\"M 0 0 M623.857 737.996 L623.857 741.306 L599.227 741.306 L599.227 737.996 L623.857 737.996 Z\" fill=\"#000000\" fill-rule=\"evenodd\" fill-opacity=\"1\" /><path clip-path=\"url(#clip720)\" d=\"M 0 0 M650.5 716.098 L650.5 718.182 L630.917 718.182 Q631.194 722.58 633.556 724.895 Q635.94 727.186 640.176 727.186 Q642.63 727.186 644.921 726.584 Q647.236 725.982 649.505 724.779 L649.505 728.807 Q647.213 729.779 644.805 730.288 Q642.398 730.797 639.921 730.797 Q633.718 730.797 630.083 727.186 Q626.472 723.575 626.472 717.418 Q626.472 711.052 629.898 707.325 Q633.347 703.575 639.181 703.575 Q644.412 703.575 647.444 706.955 Q650.5 710.311 650.5 716.098 M646.241 714.848 Q646.194 711.353 644.273 709.27 Q642.375 707.186 639.227 707.186 Q635.662 707.186 633.509 709.2 Q631.38 711.214 631.056 714.871 L646.241 714.848 Z\" fill=\"#000000\" fill-rule=\"evenodd\" fill-opacity=\"1\" /><path clip-path=\"url(#clip720)\" d=\"M 0 0 M675.685 704.2 L666.31 716.816 L676.171 730.126 L671.148 730.126 L663.602 719.941 L656.055 730.126 L651.032 730.126 L661.102 716.561 L651.889 704.2 L656.912 704.2 L663.787 713.436 L670.662 704.2 L675.685 704.2 Z\" fill=\"#000000\" fill-rule=\"evenodd\" fill-opacity=\"1\" /><path clip-path=\"url(#clip720)\" d=\"M 0 0 M684.852 696.839 L684.852 704.2 L693.625 704.2 L693.625 707.51 L684.852 707.51 L684.852 721.584 Q684.852 724.756 685.708 725.658 Q686.588 726.561 689.25 726.561 L693.625 726.561 L693.625 730.126 L689.25 730.126 Q684.319 730.126 682.444 728.297 Q680.569 726.445 680.569 721.584 L680.569 707.51 L677.444 707.51 L677.444 704.2 L680.569 704.2 L680.569 696.839 L684.852 696.839 Z\" fill=\"#000000\" fill-rule=\"evenodd\" fill-opacity=\"1\" /><path clip-path=\"url(#clip720)\" d=\"M 0 0 M720.268 716.098 L720.268 718.182 L700.685 718.182 Q700.963 722.58 703.324 724.895 Q705.708 727.186 709.944 727.186 Q712.398 727.186 714.689 726.584 Q717.004 725.982 719.273 724.779 L719.273 728.807 Q716.981 729.779 714.574 730.288 Q712.166 730.797 709.689 730.797 Q703.486 730.797 699.851 727.186 Q696.24 723.575 696.24 717.418 Q696.24 711.052 699.666 707.325 Q703.115 703.575 708.949 703.575 Q714.18 703.575 717.213 706.955 Q720.268 710.311 720.268 716.098 M716.009 714.848 Q715.963 711.353 714.041 709.27 Q712.143 707.186 708.995 707.186 Q705.43 707.186 703.277 709.2 Q701.148 711.214 700.824 714.871 L716.009 714.848 Z\" fill=\"#000000\" fill-rule=\"evenodd\" fill-opacity=\"1\" /><path clip-path=\"url(#clip720)\" d=\"M 0 0 M739.759 708.182 Q739.041 707.765 738.185 707.58 Q737.351 707.371 736.333 707.371 Q732.722 707.371 730.777 709.733 Q728.856 712.071 728.856 716.469 L728.856 730.126 L724.574 730.126 L724.574 704.2 L728.856 704.2 L728.856 708.228 Q730.199 705.867 732.351 704.733 Q734.504 703.575 737.583 703.575 Q738.023 703.575 738.555 703.645 Q739.087 703.691 739.736 703.807 L739.759 708.182 Z\" fill=\"#000000\" fill-rule=\"evenodd\" fill-opacity=\"1\" /><path clip-path=\"url(#clip720)\" d=\"M 0 0 M764.944 714.478 L764.944 730.126 L760.685 730.126 L760.685 714.617 Q760.685 710.936 759.249 709.108 Q757.814 707.279 754.944 707.279 Q751.495 707.279 749.504 709.478 Q747.513 711.677 747.513 715.473 L747.513 730.126 L743.231 730.126 L743.231 704.2 L747.513 704.2 L747.513 708.228 Q749.041 705.89 751.101 704.733 Q753.185 703.575 755.893 703.575 Q760.36 703.575 762.652 706.353 Q764.944 709.108 764.944 714.478 Z\" fill=\"#000000\" fill-rule=\"evenodd\" fill-opacity=\"1\" /><path clip-path=\"url(#clip720)\" d=\"M 0 0 M781.194 717.094 Q776.032 717.094 774.041 718.274 Q772.05 719.455 772.05 722.302 Q772.05 724.57 773.532 725.913 Q775.036 727.232 777.606 727.232 Q781.147 727.232 783.277 724.732 Q785.43 722.209 785.43 718.043 L785.43 717.094 L781.194 717.094 M789.689 715.334 L789.689 730.126 L785.43 730.126 L785.43 726.191 Q783.971 728.552 781.796 729.686 Q779.62 730.797 776.471 730.797 Q772.49 730.797 770.129 728.575 Q767.791 726.33 767.791 722.58 Q767.791 718.205 770.708 715.983 Q773.647 713.76 779.458 713.76 L785.43 713.76 L785.43 713.344 Q785.43 710.404 783.485 708.807 Q781.564 707.186 778.069 707.186 Q775.846 707.186 773.74 707.719 Q771.634 708.251 769.689 709.316 L769.689 705.381 Q772.027 704.478 774.226 704.038 Q776.425 703.575 778.508 703.575 Q784.133 703.575 786.911 706.492 Q789.689 709.409 789.689 715.334 Z\" fill=\"#000000\" fill-rule=\"evenodd\" fill-opacity=\"1\" /><path clip-path=\"url(#clip720)\" d=\"M 0 0 M794.157 694.108 L798.416 694.108 L798.416 730.126 L794.157 730.126 L794.157 694.108 Z\" fill=\"#000000\" fill-rule=\"evenodd\" fill-opacity=\"1\" /><path clip-path=\"url(#clip720)\" d=\"M 0 0 M822.582 737.996 L822.582 741.306 L797.953 741.306 L797.953 737.996 L822.582 737.996 Z\" fill=\"#000000\" fill-rule=\"evenodd\" fill-opacity=\"1\" /><path clip-path=\"url(#clip720)\" d=\"M 0 0 M842.073 708.182 Q841.355 707.765 840.499 707.58 Q839.666 707.371 838.647 707.371 Q835.036 707.371 833.092 709.733 Q831.17 712.071 831.17 716.469 L831.17 730.126 L826.888 730.126 L826.888 704.2 L831.17 704.2 L831.17 708.228 Q832.513 705.867 834.666 704.733 Q836.818 703.575 839.897 703.575 Q840.337 703.575 840.869 703.645 Q841.402 703.691 842.05 703.807 L842.073 708.182 Z\" fill=\"#000000\" fill-rule=\"evenodd\" fill-opacity=\"1\" /><path clip-path=\"url(#clip720)\" d=\"M 0 0 M867.675 716.098 L867.675 718.182 L848.091 718.182 Q848.369 722.58 850.73 724.895 Q853.115 727.186 857.351 727.186 Q859.804 727.186 862.096 726.584 Q864.411 725.982 866.679 724.779 L866.679 728.807 Q864.388 729.779 861.98 730.288 Q859.573 730.797 857.096 730.797 Q850.892 730.797 847.258 727.186 Q843.647 723.575 843.647 717.418 Q843.647 711.052 847.073 707.325 Q850.522 703.575 856.355 703.575 Q861.587 703.575 864.619 706.955 Q867.675 710.311 867.675 716.098 M863.415 714.848 Q863.369 711.353 861.448 709.27 Q859.55 707.186 856.402 707.186 Q852.837 707.186 850.684 709.2 Q848.554 711.214 848.23 714.871 L863.415 714.848 Z\" fill=\"#000000\" fill-rule=\"evenodd\" fill-opacity=\"1\" /><path clip-path=\"url(#clip720)\" d=\"M 0 0 M869.665 704.2 L873.925 704.2 L879.249 724.432 L884.55 704.2 L889.573 704.2 L894.897 724.432 L900.198 704.2 L904.457 704.2 L897.675 730.126 L892.651 730.126 L887.073 708.876 L881.471 730.126 L876.448 730.126 L869.665 704.2 Z\" fill=\"#000000\" fill-rule=\"evenodd\" fill-opacity=\"1\" /><path clip-path=\"url(#clip720)\" d=\"M 0 0 M920.707 717.094 Q915.545 717.094 913.554 718.274 Q911.563 719.455 911.563 722.302 Q911.563 724.57 913.045 725.913 Q914.549 727.232 917.119 727.232 Q920.661 727.232 922.79 724.732 Q924.943 722.209 924.943 718.043 L924.943 717.094 L920.707 717.094 M929.202 715.334 L929.202 730.126 L924.943 730.126 L924.943 726.191 Q923.485 728.552 921.309 729.686 Q919.133 730.797 915.985 730.797 Q912.003 730.797 909.642 728.575 Q907.304 726.33 907.304 722.58 Q907.304 718.205 910.221 715.983 Q913.161 713.76 918.971 713.76 L924.943 713.76 L924.943 713.344 Q924.943 710.404 922.998 708.807 Q921.077 707.186 917.582 707.186 Q915.36 707.186 913.253 707.719 Q911.147 708.251 909.202 709.316 L909.202 705.381 Q911.54 704.478 913.739 704.038 Q915.938 703.575 918.022 703.575 Q923.647 703.575 926.424 706.492 Q929.202 709.409 929.202 715.334 Z\" fill=\"#000000\" fill-rule=\"evenodd\" fill-opacity=\"1\" /><path clip-path=\"url(#clip720)\" d=\"M 0 0 M948.693 708.182 Q947.975 707.765 947.119 707.58 Q946.285 707.371 945.267 707.371 Q941.656 707.371 939.711 709.733 Q937.79 712.071 937.79 716.469 L937.79 730.126 L933.508 730.126 L933.508 704.2 L937.79 704.2 L937.79 708.228 Q939.133 705.867 941.285 704.733 Q943.438 703.575 946.517 703.575 Q946.957 703.575 947.489 703.645 Q948.021 703.691 948.67 703.807 L948.693 708.182 Z\" fill=\"#000000\" fill-rule=\"evenodd\" fill-opacity=\"1\" /><path clip-path=\"url(#clip720)\" d=\"M 0 0 M969.387 708.135 L969.387 694.108 L973.646 694.108 L973.646 730.126 L969.387 730.126 L969.387 726.237 Q968.045 728.552 965.984 729.686 Q963.947 730.797 961.077 730.797 Q956.378 730.797 953.415 727.047 Q950.475 723.297 950.475 717.186 Q950.475 711.075 953.415 707.325 Q956.378 703.575 961.077 703.575 Q963.947 703.575 965.984 704.709 Q968.045 705.821 969.387 708.135 M954.873 717.186 Q954.873 721.885 956.795 724.57 Q958.739 727.232 962.119 727.232 Q965.498 727.232 967.443 724.57 Q969.387 721.885 969.387 717.186 Q969.387 712.487 967.443 709.825 Q965.498 707.14 962.119 707.14 Q958.739 707.14 956.795 709.825 Q954.873 712.487 954.873 717.186 Z\" fill=\"#000000\" fill-rule=\"evenodd\" fill-opacity=\"1\" /><path clip-path=\"url(#clip720)\" d=\"M 0 0 M979.202 724.246 L984.086 724.246 L984.086 730.126 L979.202 730.126 L979.202 724.246 M979.202 705.612 L984.086 705.612 L984.086 711.492 L979.202 711.492 L979.202 705.612 Z\" fill=\"#000000\" fill-rule=\"evenodd\" fill-opacity=\"1\" /><path clip-path=\"url(#clip720)\" d=\"M 0 0 M1001.68 694.108 L1001.68 697.649 L997.605 697.649 Q995.313 697.649 994.41 698.575 Q993.53 699.501 993.53 701.909 L993.53 704.2 L1000.54 704.2 L1000.54 707.51 L993.53 707.51 L993.53 730.126 L989.248 730.126 L989.248 707.51 L985.174 707.51 L985.174 704.2 L989.248 704.2 L989.248 702.395 Q989.248 698.066 991.262 696.098 Q993.276 694.108 997.651 694.108 L1001.68 694.108 Z\" fill=\"#000000\" fill-rule=\"evenodd\" fill-opacity=\"1\" /><path clip-path=\"url(#clip720)\" d=\"M 0 0 M1017.93 717.094 Q1012.77 717.094 1010.78 718.274 Q1008.79 719.455 1008.79 722.302 Q1008.79 724.57 1010.27 725.913 Q1011.77 727.232 1014.34 727.232 Q1017.88 727.232 1020.01 724.732 Q1022.16 722.209 1022.16 718.043 L1022.16 717.094 L1017.93 717.094 M1026.42 715.334 L1026.42 730.126 L1022.16 730.126 L1022.16 726.191 Q1020.71 728.552 1018.53 729.686 Q1016.35 730.797 1013.21 730.797 Q1009.22 730.797 1006.86 728.575 Q1004.53 726.33 1004.53 722.58 Q1004.53 718.205 1007.44 715.983 Q1010.38 713.76 1016.19 713.76 L1022.16 713.76 L1022.16 713.344 Q1022.16 710.404 1020.22 708.807 Q1018.3 707.186 1014.8 707.186 Q1012.58 707.186 1010.47 707.719 Q1008.37 708.251 1006.42 709.316 L1006.42 705.381 Q1008.76 704.478 1010.96 704.038 Q1013.16 703.575 1015.24 703.575 Q1020.87 703.575 1023.65 706.492 Q1026.42 709.409 1026.42 715.334 Z\" fill=\"#000000\" fill-rule=\"evenodd\" fill-opacity=\"1\" /><path clip-path=\"url(#clip720)\" d=\"M 0 0 M1030.89 694.108 L1035.15 694.108 L1035.15 730.126 L1030.89 730.126 L1030.89 694.108 Z\" fill=\"#000000\" fill-rule=\"evenodd\" fill-opacity=\"1\" /><path clip-path=\"url(#clip720)\" d=\"M 0 0 M1056.15 704.964 L1056.15 708.992 Q1054.34 708.066 1052.4 707.603 Q1050.45 707.14 1048.37 707.14 Q1045.2 707.14 1043.6 708.112 Q1042.03 709.084 1042.03 711.029 Q1042.03 712.51 1043.16 713.367 Q1044.29 714.2 1047.72 714.964 L1049.18 715.288 Q1053.72 716.26 1055.61 718.043 Q1057.53 719.802 1057.53 722.973 Q1057.53 726.584 1054.66 728.691 Q1051.82 730.797 1046.82 730.797 Q1044.73 730.797 1042.47 730.381 Q1040.22 729.987 1037.72 729.177 L1037.72 724.779 Q1040.08 726.006 1042.37 726.631 Q1044.66 727.232 1046.91 727.232 Q1049.92 727.232 1051.54 726.214 Q1053.16 725.172 1053.16 723.297 Q1053.16 721.561 1051.98 720.635 Q1050.82 719.709 1046.86 718.853 L1045.38 718.506 Q1041.42 717.672 1039.66 715.959 Q1037.91 714.223 1037.91 711.214 Q1037.91 707.557 1040.5 705.566 Q1043.09 703.575 1047.86 703.575 Q1050.22 703.575 1052.3 703.922 Q1054.39 704.27 1056.15 704.964 Z\" fill=\"#000000\" fill-rule=\"evenodd\" fill-opacity=\"1\" /><path clip-path=\"url(#clip720)\" d=\"M 0 0 M1084.18 716.098 L1084.18 718.182 L1064.59 718.182 Q1064.87 722.58 1067.23 724.895 Q1069.62 727.186 1073.85 727.186 Q1076.31 727.186 1078.6 726.584 Q1080.91 725.982 1083.18 724.779 L1083.18 728.807 Q1080.89 729.779 1078.48 730.288 Q1076.08 730.797 1073.6 730.797 Q1067.4 730.797 1063.76 727.186 Q1060.15 723.575 1060.15 717.418 Q1060.15 711.052 1063.58 707.325 Q1067.03 703.575 1072.86 703.575 Q1078.09 703.575 1081.12 706.955 Q1084.18 710.311 1084.18 716.098 M1079.92 714.848 Q1079.87 711.353 1077.95 709.27 Q1076.05 707.186 1072.91 707.186 Q1069.34 707.186 1067.19 709.2 Q1065.06 711.214 1064.73 714.871 L1079.92 714.848 Z\" fill=\"#000000\" fill-rule=\"evenodd\" fill-opacity=\"1\" /><polyline clip-path=\"url(#clip720)\" style=\"stroke:#e26f46; stroke-width:4; stroke-opacity:1; fill:none\" points=\"\n",
       "  346.557,773.326 486.525,773.326 \n",
       "  \"/>\n",
       "<path clip-path=\"url(#clip720)\" d=\"M 0 0 M528.95 780.375 L528.95 764.68 L533.209 764.68 L533.209 780.213 Q533.209 783.893 534.644 785.745 Q536.079 787.574 538.95 787.574 Q542.399 787.574 544.389 785.375 Q546.403 783.175 546.403 779.379 L546.403 764.68 L550.662 764.68 L550.662 790.606 L546.403 790.606 L546.403 786.625 Q544.852 788.986 542.792 790.143 Q540.755 791.277 538.047 791.277 Q533.579 791.277 531.264 788.5 Q528.95 785.722 528.95 780.375 M539.667 764.055 L539.667 764.055 Z\" fill=\"#000000\" fill-rule=\"evenodd\" fill-opacity=\"1\" /><path clip-path=\"url(#clip720)\" d=\"M 0 0 M571.658 765.444 L571.658 769.472 Q569.852 768.546 567.908 768.083 Q565.963 767.62 563.88 767.62 Q560.709 767.62 559.112 768.592 Q557.537 769.564 557.537 771.509 Q557.537 772.99 558.672 773.847 Q559.806 774.68 563.232 775.444 L564.69 775.768 Q569.227 776.74 571.125 778.523 Q573.047 780.282 573.047 783.453 Q573.047 787.064 570.176 789.171 Q567.329 791.277 562.329 791.277 Q560.246 791.277 557.977 790.861 Q555.732 790.467 553.232 789.657 L553.232 785.259 Q555.593 786.486 557.885 787.111 Q560.176 787.712 562.422 787.712 Q565.431 787.712 567.051 786.694 Q568.672 785.652 568.672 783.777 Q568.672 782.041 567.491 781.115 Q566.334 780.189 562.375 779.333 L560.894 778.986 Q556.936 778.152 555.176 776.439 Q553.417 774.703 553.417 771.694 Q553.417 768.037 556.01 766.046 Q558.602 764.055 563.371 764.055 Q565.732 764.055 567.815 764.402 Q569.898 764.75 571.658 765.444 Z\" fill=\"#000000\" fill-rule=\"evenodd\" fill-opacity=\"1\" /><path clip-path=\"url(#clip720)\" d=\"M 0 0 M599.69 776.578 L599.69 778.662 L580.107 778.662 Q580.385 783.06 582.746 785.375 Q585.13 787.666 589.366 787.666 Q591.82 787.666 594.111 787.064 Q596.426 786.462 598.695 785.259 L598.695 789.287 Q596.403 790.259 593.996 790.768 Q591.588 791.277 589.111 791.277 Q582.908 791.277 579.273 787.666 Q575.662 784.055 575.662 777.898 Q575.662 771.532 579.088 767.805 Q582.537 764.055 588.371 764.055 Q593.602 764.055 596.634 767.435 Q599.69 770.791 599.69 776.578 M595.431 775.328 Q595.384 771.833 593.463 769.75 Q591.565 767.666 588.417 767.666 Q584.852 767.666 582.699 769.68 Q580.57 771.694 580.246 775.351 L595.431 775.328 Z\" fill=\"#000000\" fill-rule=\"evenodd\" fill-opacity=\"1\" /><path clip-path=\"url(#clip720)\" d=\"M 0 0 M623.857 798.476 L623.857 801.786 L599.227 801.786 L599.227 798.476 L623.857 798.476 Z\" fill=\"#000000\" fill-rule=\"evenodd\" fill-opacity=\"1\" /><path clip-path=\"url(#clip720)\" d=\"M 0 0 M650.5 776.578 L650.5 778.662 L630.917 778.662 Q631.194 783.06 633.556 785.375 Q635.94 787.666 640.176 787.666 Q642.63 787.666 644.921 787.064 Q647.236 786.462 649.505 785.259 L649.505 789.287 Q647.213 790.259 644.805 790.768 Q642.398 791.277 639.921 791.277 Q633.718 791.277 630.083 787.666 Q626.472 784.055 626.472 777.898 Q626.472 771.532 629.898 767.805 Q633.347 764.055 639.181 764.055 Q644.412 764.055 647.444 767.435 Q650.5 770.791 650.5 776.578 M646.241 775.328 Q646.194 771.833 644.273 769.75 Q642.375 767.666 639.227 767.666 Q635.662 767.666 633.509 769.68 Q631.38 771.694 631.056 775.351 L646.241 775.328 Z\" fill=\"#000000\" fill-rule=\"evenodd\" fill-opacity=\"1\" /><path clip-path=\"url(#clip720)\" d=\"M 0 0 M675.685 764.68 L666.31 777.296 L676.171 790.606 L671.148 790.606 L663.602 780.421 L656.055 790.606 L651.032 790.606 L661.102 777.041 L651.889 764.68 L656.912 764.68 L663.787 773.916 L670.662 764.68 L675.685 764.68 Z\" fill=\"#000000\" fill-rule=\"evenodd\" fill-opacity=\"1\" /><path clip-path=\"url(#clip720)\" d=\"M 0 0 M684.852 757.319 L684.852 764.68 L693.625 764.68 L693.625 767.99 L684.852 767.99 L684.852 782.064 Q684.852 785.236 685.708 786.138 Q686.588 787.041 689.25 787.041 L693.625 787.041 L693.625 790.606 L689.25 790.606 Q684.319 790.606 682.444 788.777 Q680.569 786.925 680.569 782.064 L680.569 767.99 L677.444 767.99 L677.444 764.68 L680.569 764.68 L680.569 757.319 L684.852 757.319 Z\" fill=\"#000000\" fill-rule=\"evenodd\" fill-opacity=\"1\" /><path clip-path=\"url(#clip720)\" d=\"M 0 0 M720.268 776.578 L720.268 778.662 L700.685 778.662 Q700.963 783.06 703.324 785.375 Q705.708 787.666 709.944 787.666 Q712.398 787.666 714.689 787.064 Q717.004 786.462 719.273 785.259 L719.273 789.287 Q716.981 790.259 714.574 790.768 Q712.166 791.277 709.689 791.277 Q703.486 791.277 699.851 787.666 Q696.24 784.055 696.24 777.898 Q696.24 771.532 699.666 767.805 Q703.115 764.055 708.949 764.055 Q714.18 764.055 717.213 767.435 Q720.268 770.791 720.268 776.578 M716.009 775.328 Q715.963 771.833 714.041 769.75 Q712.143 767.666 708.995 767.666 Q705.43 767.666 703.277 769.68 Q701.148 771.694 700.824 775.351 L716.009 775.328 Z\" fill=\"#000000\" fill-rule=\"evenodd\" fill-opacity=\"1\" /><path clip-path=\"url(#clip720)\" d=\"M 0 0 M739.759 768.662 Q739.041 768.245 738.185 768.06 Q737.351 767.851 736.333 767.851 Q732.722 767.851 730.777 770.213 Q728.856 772.551 728.856 776.949 L728.856 790.606 L724.574 790.606 L724.574 764.68 L728.856 764.68 L728.856 768.708 Q730.199 766.347 732.351 765.213 Q734.504 764.055 737.583 764.055 Q738.023 764.055 738.555 764.125 Q739.087 764.171 739.736 764.287 L739.759 768.662 Z\" fill=\"#000000\" fill-rule=\"evenodd\" fill-opacity=\"1\" /><path clip-path=\"url(#clip720)\" d=\"M 0 0 M764.944 774.958 L764.944 790.606 L760.685 790.606 L760.685 775.097 Q760.685 771.416 759.249 769.588 Q757.814 767.759 754.944 767.759 Q751.495 767.759 749.504 769.958 Q747.513 772.157 747.513 775.953 L747.513 790.606 L743.231 790.606 L743.231 764.68 L747.513 764.68 L747.513 768.708 Q749.041 766.37 751.101 765.213 Q753.185 764.055 755.893 764.055 Q760.36 764.055 762.652 766.833 Q764.944 769.588 764.944 774.958 Z\" fill=\"#000000\" fill-rule=\"evenodd\" fill-opacity=\"1\" /><path clip-path=\"url(#clip720)\" d=\"M 0 0 M781.194 777.574 Q776.032 777.574 774.041 778.754 Q772.05 779.935 772.05 782.782 Q772.05 785.05 773.532 786.393 Q775.036 787.712 777.606 787.712 Q781.147 787.712 783.277 785.212 Q785.43 782.689 785.43 778.523 L785.43 777.574 L781.194 777.574 M789.689 775.814 L789.689 790.606 L785.43 790.606 L785.43 786.671 Q783.971 789.032 781.796 790.166 Q779.62 791.277 776.471 791.277 Q772.49 791.277 770.129 789.055 Q767.791 786.81 767.791 783.06 Q767.791 778.685 770.708 776.463 Q773.647 774.24 779.458 774.24 L785.43 774.24 L785.43 773.824 Q785.43 770.884 783.485 769.287 Q781.564 767.666 778.069 767.666 Q775.846 767.666 773.74 768.199 Q771.634 768.731 769.689 769.796 L769.689 765.861 Q772.027 764.958 774.226 764.518 Q776.425 764.055 778.508 764.055 Q784.133 764.055 786.911 766.972 Q789.689 769.889 789.689 775.814 Z\" fill=\"#000000\" fill-rule=\"evenodd\" fill-opacity=\"1\" /><path clip-path=\"url(#clip720)\" d=\"M 0 0 M794.157 754.588 L798.416 754.588 L798.416 790.606 L794.157 790.606 L794.157 754.588 Z\" fill=\"#000000\" fill-rule=\"evenodd\" fill-opacity=\"1\" /><path clip-path=\"url(#clip720)\" d=\"M 0 0 M822.582 798.476 L822.582 801.786 L797.953 801.786 L797.953 798.476 L822.582 798.476 Z\" fill=\"#000000\" fill-rule=\"evenodd\" fill-opacity=\"1\" /><path clip-path=\"url(#clip720)\" d=\"M 0 0 M842.073 768.662 Q841.355 768.245 840.499 768.06 Q839.666 767.851 838.647 767.851 Q835.036 767.851 833.092 770.213 Q831.17 772.551 831.17 776.949 L831.17 790.606 L826.888 790.606 L826.888 764.68 L831.17 764.68 L831.17 768.708 Q832.513 766.347 834.666 765.213 Q836.818 764.055 839.897 764.055 Q840.337 764.055 840.869 764.125 Q841.402 764.171 842.05 764.287 L842.073 768.662 Z\" fill=\"#000000\" fill-rule=\"evenodd\" fill-opacity=\"1\" /><path clip-path=\"url(#clip720)\" d=\"M 0 0 M867.675 776.578 L867.675 778.662 L848.091 778.662 Q848.369 783.06 850.73 785.375 Q853.115 787.666 857.351 787.666 Q859.804 787.666 862.096 787.064 Q864.411 786.462 866.679 785.259 L866.679 789.287 Q864.388 790.259 861.98 790.768 Q859.573 791.277 857.096 791.277 Q850.892 791.277 847.258 787.666 Q843.647 784.055 843.647 777.898 Q843.647 771.532 847.073 767.805 Q850.522 764.055 856.355 764.055 Q861.587 764.055 864.619 767.435 Q867.675 770.791 867.675 776.578 M863.415 775.328 Q863.369 771.833 861.448 769.75 Q859.55 767.666 856.402 767.666 Q852.837 767.666 850.684 769.68 Q848.554 771.694 848.23 775.351 L863.415 775.328 Z\" fill=\"#000000\" fill-rule=\"evenodd\" fill-opacity=\"1\" /><path clip-path=\"url(#clip720)\" d=\"M 0 0 M869.665 764.68 L873.925 764.68 L879.249 784.912 L884.55 764.68 L889.573 764.68 L894.897 784.912 L900.198 764.68 L904.457 764.68 L897.675 790.606 L892.651 790.606 L887.073 769.356 L881.471 790.606 L876.448 790.606 L869.665 764.68 Z\" fill=\"#000000\" fill-rule=\"evenodd\" fill-opacity=\"1\" /><path clip-path=\"url(#clip720)\" d=\"M 0 0 M920.707 777.574 Q915.545 777.574 913.554 778.754 Q911.563 779.935 911.563 782.782 Q911.563 785.05 913.045 786.393 Q914.549 787.712 917.119 787.712 Q920.661 787.712 922.79 785.212 Q924.943 782.689 924.943 778.523 L924.943 777.574 L920.707 777.574 M929.202 775.814 L929.202 790.606 L924.943 790.606 L924.943 786.671 Q923.485 789.032 921.309 790.166 Q919.133 791.277 915.985 791.277 Q912.003 791.277 909.642 789.055 Q907.304 786.81 907.304 783.06 Q907.304 778.685 910.221 776.463 Q913.161 774.24 918.971 774.24 L924.943 774.24 L924.943 773.824 Q924.943 770.884 922.998 769.287 Q921.077 767.666 917.582 767.666 Q915.36 767.666 913.253 768.199 Q911.147 768.731 909.202 769.796 L909.202 765.861 Q911.54 764.958 913.739 764.518 Q915.938 764.055 918.022 764.055 Q923.647 764.055 926.424 766.972 Q929.202 769.889 929.202 775.814 Z\" fill=\"#000000\" fill-rule=\"evenodd\" fill-opacity=\"1\" /><path clip-path=\"url(#clip720)\" d=\"M 0 0 M948.693 768.662 Q947.975 768.245 947.119 768.06 Q946.285 767.851 945.267 767.851 Q941.656 767.851 939.711 770.213 Q937.79 772.551 937.79 776.949 L937.79 790.606 L933.508 790.606 L933.508 764.68 L937.79 764.68 L937.79 768.708 Q939.133 766.347 941.285 765.213 Q943.438 764.055 946.517 764.055 Q946.957 764.055 947.489 764.125 Q948.021 764.171 948.67 764.287 L948.693 768.662 Z\" fill=\"#000000\" fill-rule=\"evenodd\" fill-opacity=\"1\" /><path clip-path=\"url(#clip720)\" d=\"M 0 0 M969.387 768.615 L969.387 754.588 L973.646 754.588 L973.646 790.606 L969.387 790.606 L969.387 786.717 Q968.045 789.032 965.984 790.166 Q963.947 791.277 961.077 791.277 Q956.378 791.277 953.415 787.527 Q950.475 783.777 950.475 777.666 Q950.475 771.555 953.415 767.805 Q956.378 764.055 961.077 764.055 Q963.947 764.055 965.984 765.189 Q968.045 766.301 969.387 768.615 M954.873 777.666 Q954.873 782.365 956.795 785.05 Q958.739 787.712 962.119 787.712 Q965.498 787.712 967.443 785.05 Q969.387 782.365 969.387 777.666 Q969.387 772.967 967.443 770.305 Q965.498 767.62 962.119 767.62 Q958.739 767.62 956.795 770.305 Q954.873 772.967 954.873 777.666 Z\" fill=\"#000000\" fill-rule=\"evenodd\" fill-opacity=\"1\" /><path clip-path=\"url(#clip720)\" d=\"M 0 0 M979.202 784.726 L984.086 784.726 L984.086 790.606 L979.202 790.606 L979.202 784.726 M979.202 766.092 L984.086 766.092 L984.086 771.972 L979.202 771.972 L979.202 766.092 Z\" fill=\"#000000\" fill-rule=\"evenodd\" fill-opacity=\"1\" /><path clip-path=\"url(#clip720)\" d=\"M 0 0 M992.767 757.319 L992.767 764.68 L1001.54 764.68 L1001.54 767.99 L992.767 767.99 L992.767 782.064 Q992.767 785.236 993.623 786.138 Q994.503 787.041 997.165 787.041 L1001.54 787.041 L1001.54 790.606 L997.165 790.606 Q992.234 790.606 990.359 788.777 Q988.484 786.925 988.484 782.064 L988.484 767.99 L985.359 767.99 L985.359 764.68 L988.484 764.68 L988.484 757.319 L992.767 757.319 Z\" fill=\"#000000\" fill-rule=\"evenodd\" fill-opacity=\"1\" /><path clip-path=\"url(#clip720)\" d=\"M 0 0 M1021.03 768.662 Q1020.31 768.245 1019.46 768.06 Q1018.62 767.851 1017.6 767.851 Q1013.99 767.851 1012.05 770.213 Q1010.13 772.551 1010.13 776.949 L1010.13 790.606 L1005.85 790.606 L1005.85 764.68 L1010.13 764.68 L1010.13 768.708 Q1011.47 766.347 1013.62 765.213 Q1015.78 764.055 1018.85 764.055 Q1019.29 764.055 1019.83 764.125 Q1020.36 764.171 1021.01 764.287 L1021.03 768.662 Z\" fill=\"#000000\" fill-rule=\"evenodd\" fill-opacity=\"1\" /><path clip-path=\"url(#clip720)\" d=\"M 0 0 M1025.06 780.375 L1025.06 764.68 L1029.32 764.68 L1029.32 780.213 Q1029.32 783.893 1030.75 785.745 Q1032.19 787.574 1035.06 787.574 Q1038.51 787.574 1040.5 785.375 Q1042.51 783.175 1042.51 779.379 L1042.51 764.68 L1046.77 764.68 L1046.77 790.606 L1042.51 790.606 L1042.51 786.625 Q1040.96 788.986 1038.9 790.143 Q1036.86 791.277 1034.16 791.277 Q1029.69 791.277 1027.37 788.5 Q1025.06 785.722 1025.06 780.375 M1035.78 764.055 L1035.78 764.055 Z\" fill=\"#000000\" fill-rule=\"evenodd\" fill-opacity=\"1\" /><path clip-path=\"url(#clip720)\" d=\"M 0 0 M1073.41 776.578 L1073.41 778.662 L1053.83 778.662 Q1054.11 783.06 1056.47 785.375 Q1058.85 787.666 1063.09 787.666 Q1065.54 787.666 1067.84 787.064 Q1070.15 786.462 1072.42 785.259 L1072.42 789.287 Q1070.13 790.259 1067.72 790.768 Q1065.31 791.277 1062.84 791.277 Q1056.63 791.277 1053 787.666 Q1049.39 784.055 1049.39 777.898 Q1049.39 771.532 1052.81 767.805 Q1056.26 764.055 1062.09 764.055 Q1067.33 764.055 1070.36 767.435 Q1073.41 770.791 1073.41 776.578 M1069.16 775.328 Q1069.11 771.833 1067.19 769.75 Q1065.29 767.666 1062.14 767.666 Q1058.58 767.666 1056.42 769.68 Q1054.29 771.694 1053.97 775.351 L1069.16 775.328 Z\" fill=\"#000000\" fill-rule=\"evenodd\" fill-opacity=\"1\" /></svg>\n"
      ]
     },
     "metadata": {},
     "output_type": "display_data"
    }
   ],
   "source": [
    "p = plot(ylabel=\"Episode Length\",xlabel=\"First Nth Episodes\", title = \"Exploring Position & Vel\")\n",
    "# plot!(p,init_episode_lengths,ylabel=\"Episode Length\",xlabel=\"First Nth Episodes\", title = \"Exploring Position\")\n",
    "for (ind,ep_length) in enumerate(init_episode_lengths)\n",
    "    plot!(p, ep_length, label = labels[ind], legend=:left)\n",
    "end\n",
    "display(p)\n"
   ]
  },
  {
   "cell_type": "code",
   "execution_count": 390,
   "metadata": {},
   "outputs": [],
   "source": [
    "savefig(\"./plots/MCEpisodeLengthVel.png\")"
   ]
  },
  {
   "cell_type": "code",
   "execution_count": 391,
   "metadata": {},
   "outputs": [
    {
     "data": {
      "text/plain": [
       "Dict{String,Array} with 5 entries:\n",
       "  \"demon_alpha_init\"    => [0.015625, 0.03125, 0.0625, 0.125]\n",
       "  \"behaviour_alpha\"     => [0.03125, 0.0625]\n",
       "  \"runs\"                => [1, 2, 3, 4, 5, 6, 7, 8, 9, 10  …  21, 22, 23, 24, 2…\n",
       "  \"demon_alpha\"         => [0.03125, 0.0625, 0.125]\n",
       "  \"use_external_reward\" => Bool[0, 1]"
      ]
     },
     "execution_count": 391,
     "metadata": {},
     "output_type": "execute_result"
    }
   ],
   "source": [
    "diff(ic)\n"
   ]
  },
  {
   "cell_type": "code",
   "execution_count": 392,
   "metadata": {},
   "outputs": [
    {
     "data": {
      "text/plain": [
       "sensitivity (generic function with 1 method)"
      ]
     },
     "execution_count": 392,
     "metadata": {},
     "output_type": "execute_result"
    }
   ],
   "source": [
    "function sensitivity(ic,sensitive_param; metric_key=:mc_error)\n",
    "    param_vals = diff(ic)[sensitive_param]\n",
    "    vals = zeros(length(param_vals))\n",
    "    for (i,param_val) in enumerate(param_vals)\n",
    "        p_ic = search(ic, Dict(sensitive_param => param_val))\n",
    "#         tmp = load_results(ic, metric_key; return_type = \"tensor\")\n",
    "        vals[i] = mean(load_results(p_ic, metric_key; return_type = \"tensor\"))\n",
    "    end\n",
    "    return vals\n",
    "end\n"
   ]
  },
  {
   "cell_type": "code",
   "execution_count": 397,
   "metadata": {},
   "outputs": [
    {
     "name": "stdout",
     "output_type": "stream",
     "text": [
      "[\"use_external_reward\", \"behaviour_alpha\", \"demon_alpha\"]\n"
     ]
    },
    {
     "data": {
      "text/plain": [
       "12-element Array{Any,1}:\n",
       " Dict{Any,Any}(\"behaviour_alpha\" => 0.03125,\"use_external_reward\" => false,\"demon_alpha\" => 0.03125)\n",
       " Dict{Any,Any}(\"behaviour_alpha\" => 0.03125,\"use_external_reward\" => false,\"demon_alpha\" => 0.0625)\n",
       " Dict{Any,Any}(\"behaviour_alpha\" => 0.03125,\"use_external_reward\" => false,\"demon_alpha\" => 0.125)\n",
       " Dict{Any,Any}(\"behaviour_alpha\" => 0.0625,\"use_external_reward\" => false,\"demon_alpha\" => 0.03125)\n",
       " Dict{Any,Any}(\"behaviour_alpha\" => 0.0625,\"use_external_reward\" => false,\"demon_alpha\" => 0.0625)\n",
       " Dict{Any,Any}(\"behaviour_alpha\" => 0.0625,\"use_external_reward\" => false,\"demon_alpha\" => 0.125)\n",
       " Dict{Any,Any}(\"behaviour_alpha\" => 0.03125,\"use_external_reward\" => true,\"demon_alpha\" => 0.03125)\n",
       " Dict{Any,Any}(\"behaviour_alpha\" => 0.03125,\"use_external_reward\" => true,\"demon_alpha\" => 0.0625)\n",
       " Dict{Any,Any}(\"behaviour_alpha\" => 0.03125,\"use_external_reward\" => true,\"demon_alpha\" => 0.125)\n",
       " Dict{Any,Any}(\"behaviour_alpha\" => 0.0625,\"use_external_reward\" => true,\"demon_alpha\" => 0.03125)\n",
       " Dict{Any,Any}(\"behaviour_alpha\" => 0.0625,\"use_external_reward\" => true,\"demon_alpha\" => 0.0625)\n",
       " Dict{Any,Any}(\"behaviour_alpha\" => 0.0625,\"use_external_reward\" => true,\"demon_alpha\" => 0.125)"
      ]
     },
     "execution_count": 397,
     "metadata": {},
     "output_type": "execute_result"
    }
   ],
   "source": [
    "# search(ic,Dict(\"demon_alpha_init\" => 0.125))\n",
    "sweep_params = [\"use_external_reward\", \"behaviour_alpha\",\"demon_alpha\"]\n",
    "divisors = split_algo(ic, sweep_params)\n",
    "sensitivity(ic,\"demon_alpha_init\")\n",
    "divisors"
   ]
  },
  {
   "cell_type": "code",
   "execution_count": 419,
   "metadata": {},
   "outputs": [],
   "source": [
    "ps = []\n",
    "for i in 7:12\n",
    "    y = sensitivity(search(ic,divisors[i]), \"demon_alpha_init\")\n",
    "    x = diff(ic)[\"demon_alpha_init\"]\n",
    "    p = scatter(x,y, ylims=(0.15,0.225), legend=false)\n",
    "    push!(ps,p)\n",
    "end\n",
    "# println(ps)\n",
    "plot(ps...,layout=(2,3), size = (1000,600))\n",
    "savefig(\"./plots/MCSensitivtyExtrinsic\")\n"
   ]
  },
  {
   "cell_type": "code",
   "execution_count": null,
   "metadata": {},
   "outputs": [],
   "source": []
  },
  {
   "cell_type": "code",
   "execution_count": 175,
   "metadata": {},
   "outputs": [
    {
     "ename": "LoadError",
     "evalue": "\u001b[91mUndefVarError: plot_gvfn_stepsize_sense not defined\u001b[39m",
     "output_type": "error",
     "traceback": [
      "\u001b[91mUndefVarError: plot_gvfn_stepsize_sense not defined\u001b[39m",
      "",
      "Stacktrace:",
      " [1] top-level scope at In[175]:1",
      " [2] include_string(::Function, ::Module, ::String, ::String) at ./loading.jl:1091"
     ]
    }
   ],
   "source": [
    "plot_gvfn_stepsize_sense(ic_gvfn_adam, \"end\", ylim=(0.0, 0.4))"
   ]
  },
  {
   "cell_type": "code",
   "execution_count": 176,
   "metadata": {},
   "outputs": [
    {
     "ename": "LoadError",
     "evalue": "\u001b[91mSystemError: unable to read directory ../MountainCar/compassworld_rnn/data: No such file or directory\u001b[39m",
     "output_type": "error",
     "traceback": [
      "\u001b[91mSystemError: unable to read directory ../MountainCar/compassworld_rnn/data: No such file or directory\u001b[39m",
      "",
      "Stacktrace:",
      " [1] readdir(::String; join::Bool, sort::Bool) at ./file.jl:810",
      " [2] readdir at ./file.jl:805 [inlined]",
      " [3] ItemCollection(::String; settings_file::String, data_folder::String) at /home/matthewmcleod/.julia/packages/Reproduce/TxAhT/src/search.jl:75",
      " [4] ItemCollection(::String) at /home/matthewmcleod/.julia/packages/Reproduce/TxAhT/src/search.jl:74",
      " [5] top-level scope at In[176]:1",
      " [6] include_string(::Function, ::Module, ::String, ::String) at ./loading.jl:1091"
     ]
    }
   ],
   "source": [
    "ic_rnn = ItemCollection(joinpath(data_home, \"compassworld_rnn/data\"));"
   ]
  },
  {
   "cell_type": "code",
   "execution_count": 177,
   "metadata": {},
   "outputs": [
    {
     "data": {
      "text/plain": [
       "10-element Array{Float64,1}:\n",
       " 6.766394845988643e-6\n",
       " 1.5224388403474448e-5\n",
       " 3.425487390781751e-5\n",
       " 7.707346629258939e-5\n",
       " 0.00017341529915832613\n",
       " 0.0003901844231062338\n",
       " 0.0008779149519890261\n",
       " 0.0019753086419753087\n",
       " 0.0044444444444444444\n",
       " 0.01"
      ]
     },
     "execution_count": 177,
     "metadata": {},
     "output_type": "execute_result"
    }
   ],
   "source": [
    "0.01*1.5.^(-18:2:1)"
   ]
  },
  {
   "cell_type": "code",
   "execution_count": 178,
   "metadata": {},
   "outputs": [
    {
     "ename": "LoadError",
     "evalue": "\u001b[91mUndefVarError: ic_rnn_adam not defined\u001b[39m",
     "output_type": "error",
     "traceback": [
      "\u001b[91mUndefVarError: ic_rnn_adam not defined\u001b[39m",
      "",
      "Stacktrace:",
      " [1] top-level scope at In[178]:1",
      " [2] include_string(::Function, ::Module, ::String, ::String) at ./loading.jl:1091"
     ]
    }
   ],
   "source": [
    "diff(ic_rnn_adam)[\"alpha\"]"
   ]
  },
  {
   "cell_type": "code",
   "execution_count": 179,
   "metadata": {},
   "outputs": [
    {
     "ename": "LoadError",
     "evalue": "\u001b[91mUndefVarError: plot_rnn_stepsize_sens not defined\u001b[39m",
     "output_type": "error",
     "traceback": [
      "\u001b[91mUndefVarError: plot_rnn_stepsize_sens not defined\u001b[39m",
      "",
      "Stacktrace:",
      " [1] top-level scope at In[179]:1",
      " [2] include_string(::Function, ::Module, ::String, ::String) at ./loading.jl:1091"
     ]
    }
   ],
   "source": [
    "plot_rnn_stepsize_sens(ic_rnn, 35, \"end\"; ylims=(0.0,0.3))"
   ]
  },
  {
   "cell_type": "code",
   "execution_count": 180,
   "metadata": {},
   "outputs": [
    {
     "ename": "LoadError",
     "evalue": "\u001b[91mUndefVarError: plot_rnn_stepsize_sens not defined\u001b[39m",
     "output_type": "error",
     "traceback": [
      "\u001b[91mUndefVarError: plot_rnn_stepsize_sens not defined\u001b[39m",
      "",
      "Stacktrace:",
      " [1] top-level scope at In[180]:1",
      " [2] include_string(::Function, ::Module, ::String, ::String) at ./loading.jl:1091"
     ]
    }
   ],
   "source": [
    "plot_rnn_stepsize_sens(ic_rnn, 40, \"end\"; ylims=(0.0,0.3), legend=false)"
   ]
  },
  {
   "cell_type": "code",
   "execution_count": 181,
   "metadata": {},
   "outputs": [
    {
     "ename": "LoadError",
     "evalue": "\u001b[91mUndefVarError: plot_rnn_stepsize_sens not defined\u001b[39m",
     "output_type": "error",
     "traceback": [
      "\u001b[91mUndefVarError: plot_rnn_stepsize_sens not defined\u001b[39m",
      "",
      "Stacktrace:",
      " [1] top-level scope at In[181]:1",
      " [2] include_string(::Function, ::Module, ::String, ::String) at ./loading.jl:1091"
     ]
    }
   ],
   "source": [
    "plot_rnn_stepsize_sens(ic_rnn, 110, \"end\"; ylims=(0.0,0.3))"
   ]
  },
  {
   "cell_type": "code",
   "execution_count": 182,
   "metadata": {},
   "outputs": [
    {
     "ename": "LoadError",
     "evalue": "\u001b[91mSystemError: unable to read directory ../MountainCar/compassworld_rnn_adam/data: No such file or directory\u001b[39m",
     "output_type": "error",
     "traceback": [
      "\u001b[91mSystemError: unable to read directory ../MountainCar/compassworld_rnn_adam/data: No such file or directory\u001b[39m",
      "",
      "Stacktrace:",
      " [1] readdir(::String; join::Bool, sort::Bool) at ./file.jl:810",
      " [2] readdir at ./file.jl:805 [inlined]",
      " [3] ItemCollection(::String; settings_file::String, data_folder::String) at /home/matthewmcleod/.julia/packages/Reproduce/TxAhT/src/search.jl:75",
      " [4] ItemCollection(::String) at /home/matthewmcleod/.julia/packages/Reproduce/TxAhT/src/search.jl:74",
      " [5] top-level scope at In[182]:1",
      " [6] include_string(::Function, ::Module, ::String, ::String) at ./loading.jl:1091"
     ]
    }
   ],
   "source": [
    "ic_rnn_adam = ItemCollection(joinpath(data_home, \"compassworld_rnn_adam/data\"));"
   ]
  },
  {
   "cell_type": "code",
   "execution_count": 183,
   "metadata": {},
   "outputs": [
    {
     "ename": "LoadError",
     "evalue": "\u001b[91mUndefVarError: plot_rnn_stepsize_sens not defined\u001b[39m",
     "output_type": "error",
     "traceback": [
      "\u001b[91mUndefVarError: plot_rnn_stepsize_sens not defined\u001b[39m",
      "",
      "Stacktrace:",
      " [1] top-level scope at In[183]:1",
      " [2] include_string(::Function, ::Module, ::String, ::String) at ./loading.jl:1091"
     ]
    }
   ],
   "source": [
    "plot_rnn_stepsize_sens(ic_rnn_adam, 35, \"end\")"
   ]
  },
  {
   "cell_type": "code",
   "execution_count": 184,
   "metadata": {},
   "outputs": [
    {
     "ename": "LoadError",
     "evalue": "\u001b[91mUndefVarError: plot_rnn_stepsize_sens not defined\u001b[39m",
     "output_type": "error",
     "traceback": [
      "\u001b[91mUndefVarError: plot_rnn_stepsize_sens not defined\u001b[39m",
      "",
      "Stacktrace:",
      " [1] top-level scope at In[184]:1",
      " [2] include_string(::Function, ::Module, ::String, ::String) at ./loading.jl:1091"
     ]
    }
   ],
   "source": [
    "plot_rnn_stepsize_sens(ic_rnn_adam, 40, \"end\")"
   ]
  },
  {
   "cell_type": "code",
   "execution_count": 185,
   "metadata": {},
   "outputs": [
    {
     "ename": "LoadError",
     "evalue": "\u001b[91mUndefVarError: plot_rnn_stepsize_sens not defined\u001b[39m",
     "output_type": "error",
     "traceback": [
      "\u001b[91mUndefVarError: plot_rnn_stepsize_sens not defined\u001b[39m",
      "",
      "Stacktrace:",
      " [1] top-level scope at In[185]:1",
      " [2] include_string(::Function, ::Module, ::String, ::String) at ./loading.jl:1091"
     ]
    }
   ],
   "source": [
    "plot_rnn_stepsize_sens(ic_rnn_adam, 110, \"end\")"
   ]
  },
  {
   "cell_type": "code",
   "execution_count": 186,
   "metadata": {},
   "outputs": [
    {
     "ename": "LoadError",
     "evalue": "\u001b[91mUndefVarError: plot_rnn_stepsize_sens not defined\u001b[39m",
     "output_type": "error",
     "traceback": [
      "\u001b[91mUndefVarError: plot_rnn_stepsize_sens not defined\u001b[39m",
      "",
      "Stacktrace:",
      " [1] top-level scope at In[186]:1",
      " [2] include_string(::Function, ::Module, ::String, ::String) at ./loading.jl:1091"
     ]
    }
   ],
   "source": [
    "plot_rnn_stepsize_sens(ic_rnn_adam, 5, \"end\")"
   ]
  },
  {
   "cell_type": "markdown",
   "metadata": {},
   "source": [
    "## RNN Aux Tasks"
   ]
  },
  {
   "cell_type": "code",
   "execution_count": 187,
   "metadata": {},
   "outputs": [
    {
     "ename": "LoadError",
     "evalue": "\u001b[91mSystemError: unable to read directory ../MountainCar/compassworld_rnn_aux_task/data: No such file or directory\u001b[39m",
     "output_type": "error",
     "traceback": [
      "\u001b[91mSystemError: unable to read directory ../MountainCar/compassworld_rnn_aux_task/data: No such file or directory\u001b[39m",
      "",
      "Stacktrace:",
      " [1] readdir(::String; join::Bool, sort::Bool) at ./file.jl:810",
      " [2] readdir at ./file.jl:805 [inlined]",
      " [3] ItemCollection(::String; settings_file::String, data_folder::String) at /home/matthewmcleod/.julia/packages/Reproduce/TxAhT/src/search.jl:75",
      " [4] ItemCollection(::String) at /home/matthewmcleod/.julia/packages/Reproduce/TxAhT/src/search.jl:74",
      " [5] top-level scope at In[187]:1",
      " [6] include_string(::Function, ::Module, ::String, ::String) at ./loading.jl:1091"
     ]
    }
   ],
   "source": [
    "ic_rnn_at = ItemCollection(joinpath(data_home, \"compassworld_rnn_aux_task/data\"));\n",
    "diff(ic_rnn_at)"
   ]
  },
  {
   "cell_type": "code",
   "execution_count": 188,
   "metadata": {},
   "outputs": [
    {
     "ename": "LoadError",
     "evalue": "\u001b[91mUndefVarError: plot_rnn_at_stepsize_sens not defined\u001b[39m",
     "output_type": "error",
     "traceback": [
      "\u001b[91mUndefVarError: plot_rnn_at_stepsize_sens not defined\u001b[39m",
      "",
      "Stacktrace:",
      " [1] top-level scope at In[188]:1",
      " [2] include_string(::Function, ::Module, ::String, ::String) at ./loading.jl:1091"
     ]
    }
   ],
   "source": [
    "plot_rnn_at_stepsize_sens(ic_rnn_at, \"end\"; ylims=(0.0, 0.5))"
   ]
  },
  {
   "cell_type": "code",
   "execution_count": 189,
   "metadata": {},
   "outputs": [
    {
     "ename": "LoadError",
     "evalue": "\u001b[91mUndefVarError: plot_rnn_at_stepsize_sens not defined\u001b[39m",
     "output_type": "error",
     "traceback": [
      "\u001b[91mUndefVarError: plot_rnn_at_stepsize_sens not defined\u001b[39m",
      "",
      "Stacktrace:",
      " [1] top-level scope at In[189]:1",
      " [2] include_string(::Function, ::Module, ::String, ::String) at ./loading.jl:1091"
     ]
    }
   ],
   "source": [
    "plot_rnn_at_stepsize_sens(ic_rnn_at, \"all\"; ylims=(0.0, 0.5))"
   ]
  },
  {
   "cell_type": "code",
   "execution_count": 190,
   "metadata": {},
   "outputs": [
    {
     "ename": "LoadError",
     "evalue": "\u001b[91mSystemError: unable to read directory ../MountainCar/compassworld_rnn_aux_task_adam/data: No such file or directory\u001b[39m",
     "output_type": "error",
     "traceback": [
      "\u001b[91mSystemError: unable to read directory ../MountainCar/compassworld_rnn_aux_task_adam/data: No such file or directory\u001b[39m",
      "",
      "Stacktrace:",
      " [1] readdir(::String; join::Bool, sort::Bool) at ./file.jl:810",
      " [2] readdir at ./file.jl:805 [inlined]",
      " [3] ItemCollection(::String; settings_file::String, data_folder::String) at /home/matthewmcleod/.julia/packages/Reproduce/TxAhT/src/search.jl:75",
      " [4] ItemCollection(::String) at /home/matthewmcleod/.julia/packages/Reproduce/TxAhT/src/search.jl:74",
      " [5] top-level scope at In[190]:1",
      " [6] include_string(::Function, ::Module, ::String, ::String) at ./loading.jl:1091"
     ]
    }
   ],
   "source": [
    "ic_rnn_at_adam = ItemCollection(joinpath(data_home, \"compassworld_rnn_aux_task_adam/data\"));\n",
    "diff(ic_rnn_at_adam)"
   ]
  },
  {
   "cell_type": "code",
   "execution_count": 191,
   "metadata": {},
   "outputs": [
    {
     "ename": "LoadError",
     "evalue": "\u001b[91mUndefVarError: plot_rnn_at_stepsize_sens not defined\u001b[39m",
     "output_type": "error",
     "traceback": [
      "\u001b[91mUndefVarError: plot_rnn_at_stepsize_sens not defined\u001b[39m",
      "",
      "Stacktrace:",
      " [1] top-level scope at In[191]:1",
      " [2] include_string(::Function, ::Module, ::String, ::String) at ./loading.jl:1091"
     ]
    }
   ],
   "source": [
    "plot_rnn_at_stepsize_sens(ic_rnn_at_adam, \"end\"; ylims=(0.0, 0.5))"
   ]
  },
  {
   "cell_type": "code",
   "execution_count": 192,
   "metadata": {},
   "outputs": [
    {
     "ename": "LoadError",
     "evalue": "\u001b[91mUndefVarError: plot_rnn_at_stepsize_sens not defined\u001b[39m",
     "output_type": "error",
     "traceback": [
      "\u001b[91mUndefVarError: plot_rnn_at_stepsize_sens not defined\u001b[39m",
      "",
      "Stacktrace:",
      " [1] top-level scope at In[192]:1",
      " [2] include_string(::Function, ::Module, ::String, ::String) at ./loading.jl:1091"
     ]
    }
   ],
   "source": [
    "plot_rnn_at_stepsize_sens(ic_rnn_at_adam, \"all\"; ylims=(0.0, 0.5))"
   ]
  },
  {
   "cell_type": "markdown",
   "metadata": {},
   "source": [
    "# Final Params"
   ]
  },
  {
   "cell_type": "code",
   "execution_count": 193,
   "metadata": {},
   "outputs": [
    {
     "data": {
      "text/plain": [
       "get_final_rnn_at_params (generic function with 1 method)"
      ]
     },
     "execution_count": 193,
     "metadata": {},
     "output_type": "execute_result"
    }
   ],
   "source": [
    "function get_final_gvfn_params(ic, res_key)\n",
    "\n",
    "    get_best_func = (i2c)->get_best_setting(i2c, \"alpha\", (d)->d[\"results\"][res_key])\n",
    "    sub_ic = ic\n",
    "    arg_list = Dict{String, Any}[]\n",
    "    @showprogress for horde ∈ diff(sub_ic)[\"gvfn-horde\"]\n",
    "        sub_sub_ic = search(sub_ic, Dict(\"gvfn-horde\"=>horde))\n",
    "        for τ ∈ diff(sub_sub_ic)[\"truncation\"]\n",
    "            sub_sub_sub_ic = search(sub_sub_ic, Dict(\"truncation\"=>τ))\n",
    "            prm, _ = get_best_func(sub_sub_sub_ic)\n",
    "            push!(arg_list, Dict(\"gvfn-horde\"=>horde, \"truncation\"=>τ, \"alpha\"=>prm))\n",
    "        end\n",
    "\n",
    "    end\n",
    "    arg_list\n",
    "end\n",
    "\n",
    "function get_final_rnn_params(ic, res_key)\n",
    "\n",
    "    get_best_func = (i2c)->get_best_setting(i2c, \"alpha\", (d)->d[\"results\"][res_key])\n",
    "    sub_ic = ic\n",
    "    arg_list = Dict{String, Any}[]\n",
    "    for cell ∈ diff(sub_ic)[\"cell\"]\n",
    "        sub_sub_ic = search(sub_ic, Dict(\"cell\"=>cell))\n",
    "        for τ ∈ diff(sub_sub_ic)[\"truncation\"]\n",
    "            sub_sub_sub_ic = search(sub_sub_ic, Dict(\"truncation\"=>τ))\n",
    "            prm, (μ, σ) = get_best_func(sub_sub_sub_ic)\n",
    "#             println(μ)\n",
    "            push!(arg_list, Dict(\"cell\"=>cell, \"truncation\"=>τ, \"alpha\"=>prm)) #itm.parsed_args\n",
    "        end\n",
    "    end\n",
    "    arg_list\n",
    "end\n",
    "\n",
    "function get_final_rnn_at_params(ic, res_key)\n",
    "\n",
    "    get_best_func = (i2c)->get_best_setting(i2c, \"alpha\", (d)->d[\"results\"][res_key])\n",
    "    sub_ic = ic\n",
    "    arg_list = Dict{String, Any}[]\n",
    "    for (horde, cell) ∈ Iterators.product(diff(sub_ic)[\"at-horde\"], diff(sub_ic)[\"cell\"])\n",
    "        sub_sub_ic = search(sub_ic, Dict(\"cell\"=>cell, \"at-horde\"=>horde))\n",
    "        for τ ∈ diff(sub_sub_ic)[\"truncation\"]\n",
    "            sub_sub_sub_ic = search(sub_sub_ic, Dict(\"truncation\"=>τ))\n",
    "            prm, (μ, σ) = get_best_func(sub_sub_sub_ic)\n",
    "#             println(μ)\n",
    "            push!(arg_list, Dict(\"cell\"=>cell, \"at-horde\"=>horde, \"truncation\"=>τ, \"alpha\"=>prm)) #itm.parsed_args\n",
    "        end\n",
    "    end\n",
    "    arg_list\n",
    "end\n"
   ]
  },
  {
   "cell_type": "markdown",
   "metadata": {},
   "source": [
    "## GVFN"
   ]
  },
  {
   "cell_type": "code",
   "execution_count": 194,
   "metadata": {},
   "outputs": [
    {
     "ename": "LoadError",
     "evalue": "\u001b[91mSystemError: unable to read directory ../MountainCar/compassworld_gvfn/data: No such file or directory\u001b[39m",
     "output_type": "error",
     "traceback": [
      "\u001b[91mSystemError: unable to read directory ../MountainCar/compassworld_gvfn/data: No such file or directory\u001b[39m",
      "",
      "Stacktrace:",
      " [1] readdir(::String; join::Bool, sort::Bool) at ./file.jl:810",
      " [2] readdir at ./file.jl:805 [inlined]",
      " [3] ItemCollection(::String; settings_file::String, data_folder::String) at /home/matthewmcleod/.julia/packages/Reproduce/TxAhT/src/search.jl:75",
      " [4] ItemCollection(::String) at /home/matthewmcleod/.julia/packages/Reproduce/TxAhT/src/search.jl:74",
      " [5] top-level scope at In[194]:1",
      " [6] include_string(::Function, ::Module, ::String, ::String) at ./loading.jl:1091"
     ]
    }
   ],
   "source": [
    "ic_gvfn = ItemCollection(joinpath(data_home, \"compassworld_gvfn/data\"));\n",
    "ic_gvfn_rmsprop = ItemCollection(joinpath(data_home, \"compassworld_gvfn_rmsprop/data\"));\n",
    "ic_gvfn_adam = ItemCollection(joinpath(data_home, \"compassworld_gvfn_adam/data\"));"
   ]
  },
  {
   "cell_type": "code",
   "execution_count": 195,
   "metadata": {},
   "outputs": [
    {
     "ename": "LoadError",
     "evalue": "\u001b[91mUndefVarError: ic_gvfn not defined\u001b[39m",
     "output_type": "error",
     "traceback": [
      "\u001b[91mUndefVarError: ic_gvfn not defined\u001b[39m",
      "",
      "Stacktrace:",
      " [1] top-level scope at In[195]:1",
      " [2] include_string(::Function, ::Module, ::String, ::String) at ./loading.jl:1091"
     ]
    }
   ],
   "source": [
    "diff(ic_gvfn)\n",
    "ic_gvfn.items[1].parsed_args"
   ]
  },
  {
   "cell_type": "code",
   "execution_count": 196,
   "metadata": {},
   "outputs": [
    {
     "ename": "LoadError",
     "evalue": "\u001b[91mUndefVarError: ic_gvfn not defined\u001b[39m",
     "output_type": "error",
     "traceback": [
      "\u001b[91mUndefVarError: ic_gvfn not defined\u001b[39m",
      "",
      "Stacktrace:",
      " [1] top-level scope at In[196]:1",
      " [2] include_string(::Function, ::Module, ::String, ::String) at ./loading.jl:1091"
     ]
    }
   ],
   "source": [
    "args_list = get_final_gvfn_params(ic_gvfn, \"end\")\n",
    "@save \"../final_run_params/compassworld/compassworld_gvfn_descent.jld2\" args_list"
   ]
  },
  {
   "cell_type": "code",
   "execution_count": 197,
   "metadata": {},
   "outputs": [
    {
     "ename": "LoadError",
     "evalue": "\u001b[91mUndefVarError: ic_gvfn_rmsprop not defined\u001b[39m",
     "output_type": "error",
     "traceback": [
      "\u001b[91mUndefVarError: ic_gvfn_rmsprop not defined\u001b[39m",
      "",
      "Stacktrace:",
      " [1] top-level scope at In[197]:1",
      " [2] include_string(::Function, ::Module, ::String, ::String) at ./loading.jl:1091"
     ]
    }
   ],
   "source": [
    "args_list = get_final_gvfn_params(ic_gvfn_rmsprop, \"end\")\n",
    "@save \"../final_run_params/compassworld/compassworld_gvfn_rmsprop.jld2\" args_list"
   ]
  },
  {
   "cell_type": "code",
   "execution_count": 198,
   "metadata": {},
   "outputs": [
    {
     "ename": "LoadError",
     "evalue": "\u001b[91mUndefVarError: ic_gvfn_adam not defined\u001b[39m",
     "output_type": "error",
     "traceback": [
      "\u001b[91mUndefVarError: ic_gvfn_adam not defined\u001b[39m",
      "",
      "Stacktrace:",
      " [1] top-level scope at In[198]:1",
      " [2] include_string(::Function, ::Module, ::String, ::String) at ./loading.jl:1091"
     ]
    }
   ],
   "source": [
    "args_list = get_final_gvfn_params(ic_gvfn_adam, \"end\")\n",
    "@save \"../final_run_params/compassworld/compassworld_gvfn_adam.jld2\" args_list"
   ]
  },
  {
   "cell_type": "code",
   "execution_count": 199,
   "metadata": {},
   "outputs": [
    {
     "ename": "LoadError",
     "evalue": "\u001b[91mUndefVarError: ic_gvfn not defined\u001b[39m",
     "output_type": "error",
     "traceback": [
      "\u001b[91mUndefVarError: ic_gvfn not defined\u001b[39m",
      "",
      "Stacktrace:",
      " [1] top-level scope at In[199]:1",
      " [2] include_string(::Function, ::Module, ::String, ::String) at ./loading.jl:1091"
     ]
    }
   ],
   "source": [
    "args_list = get_final_gvfn_params(ic_gvfn, \"all\")\n",
    "@save \"../final_run_params/compassworld/compassworld_gvfn_descent_all.jld2\" args_list"
   ]
  },
  {
   "cell_type": "code",
   "execution_count": 200,
   "metadata": {},
   "outputs": [
    {
     "ename": "LoadError",
     "evalue": "\u001b[91mUndefVarError: ic_gvfn_rmsprop not defined\u001b[39m",
     "output_type": "error",
     "traceback": [
      "\u001b[91mUndefVarError: ic_gvfn_rmsprop not defined\u001b[39m",
      "",
      "Stacktrace:",
      " [1] top-level scope at In[200]:1",
      " [2] include_string(::Function, ::Module, ::String, ::String) at ./loading.jl:1091"
     ]
    }
   ],
   "source": [
    "args_list = get_final_gvfn_params(ic_gvfn_rmsprop, \"all\")\n",
    "@save \"../final_run_params/compassworld/compassworld_gvfn_rmsprop_all.jld2\" args_list"
   ]
  },
  {
   "cell_type": "code",
   "execution_count": 201,
   "metadata": {},
   "outputs": [
    {
     "ename": "LoadError",
     "evalue": "\u001b[91mUndefVarError: ic_gvfn_adam not defined\u001b[39m",
     "output_type": "error",
     "traceback": [
      "\u001b[91mUndefVarError: ic_gvfn_adam not defined\u001b[39m",
      "",
      "Stacktrace:",
      " [1] top-level scope at In[201]:1",
      " [2] include_string(::Function, ::Module, ::String, ::String) at ./loading.jl:1091"
     ]
    }
   ],
   "source": [
    "args_list = get_final_gvfn_params(ic_gvfn_adam, \"all\")\n",
    "@save \"../final_run_params/compassworld/compassworld_gvfn_adam_all.jld2\" args_list"
   ]
  },
  {
   "cell_type": "markdown",
   "metadata": {},
   "source": [
    "## RNN"
   ]
  },
  {
   "cell_type": "code",
   "execution_count": 202,
   "metadata": {},
   "outputs": [
    {
     "ename": "LoadError",
     "evalue": "\u001b[91mSystemError: unable to read directory ../MountainCar/compassworld_rnn/data: No such file or directory\u001b[39m",
     "output_type": "error",
     "traceback": [
      "\u001b[91mSystemError: unable to read directory ../MountainCar/compassworld_rnn/data: No such file or directory\u001b[39m",
      "",
      "Stacktrace:",
      " [1] readdir(::String; join::Bool, sort::Bool) at ./file.jl:810",
      " [2] readdir at ./file.jl:805 [inlined]",
      " [3] ItemCollection(::String; settings_file::String, data_folder::String) at /home/matthewmcleod/.julia/packages/Reproduce/TxAhT/src/search.jl:75",
      " [4] ItemCollection(::String) at /home/matthewmcleod/.julia/packages/Reproduce/TxAhT/src/search.jl:74",
      " [5] top-level scope at In[202]:1",
      " [6] include_string(::Function, ::Module, ::String, ::String) at ./loading.jl:1091"
     ]
    }
   ],
   "source": [
    "ic_rnn = ItemCollection(joinpath(data_home, \"compassworld_rnn/data\"));\n",
    "ic_rnn_rmsprop = ItemCollection(joinpath(data_home, \"compassworld_rnn_rmsprop/data\"));\n",
    "ic_rnn_adam = ItemCollection(joinpath(data_home, \"compassworld_rnn_adam/data\"));"
   ]
  },
  {
   "cell_type": "code",
   "execution_count": 203,
   "metadata": {},
   "outputs": [
    {
     "ename": "LoadError",
     "evalue": "\u001b[91mUndefVarError: ic_rnn not defined\u001b[39m",
     "output_type": "error",
     "traceback": [
      "\u001b[91mUndefVarError: ic_rnn not defined\u001b[39m",
      "",
      "Stacktrace:",
      " [1] top-level scope at In[203]:1",
      " [2] include_string(::Function, ::Module, ::String, ::String) at ./loading.jl:1091"
     ]
    }
   ],
   "source": [
    "diff(ic_rnn)"
   ]
  },
  {
   "cell_type": "code",
   "execution_count": 204,
   "metadata": {},
   "outputs": [
    {
     "ename": "LoadError",
     "evalue": "\u001b[91mUndefVarError: ic_rnn not defined\u001b[39m",
     "output_type": "error",
     "traceback": [
      "\u001b[91mUndefVarError: ic_rnn not defined\u001b[39m",
      "",
      "Stacktrace:",
      " [1] top-level scope at In[204]:1",
      " [2] include_string(::Function, ::Module, ::String, ::String) at ./loading.jl:1091"
     ]
    }
   ],
   "source": [
    "ic_rnn_40 = search(ic_rnn, Dict(\"hidden\"=>40))\n",
    "args_list = get_final_rnn_params(ic_rnn_40, \"end\")\n",
    "@save \"../final_run_params/compassworld/compassworld_rnn_40.jld2\" args_list\n"
   ]
  },
  {
   "cell_type": "code",
   "execution_count": 205,
   "metadata": {},
   "outputs": [
    {
     "ename": "LoadError",
     "evalue": "\u001b[91mUndefVarError: ic_rnn_adam not defined\u001b[39m",
     "output_type": "error",
     "traceback": [
      "\u001b[91mUndefVarError: ic_rnn_adam not defined\u001b[39m",
      "",
      "Stacktrace:",
      " [1] top-level scope at In[205]:1",
      " [2] include_string(::Function, ::Module, ::String, ::String) at ./loading.jl:1091"
     ]
    }
   ],
   "source": [
    "ic_rnn_adam_40 = search(ic_rnn_adam, Dict(\"hidden\"=>40))\n",
    "args_list = get_final_rnn_params(ic_rnn_adam_40, \"end\")\n",
    "@save \"../final_run_params/compassworld/compassworld_rnn_adam_40.jld2\" args_list\n"
   ]
  },
  {
   "cell_type": "code",
   "execution_count": 206,
   "metadata": {},
   "outputs": [
    {
     "ename": "LoadError",
     "evalue": "\u001b[91mUndefVarError: ic_rnn not defined\u001b[39m",
     "output_type": "error",
     "traceback": [
      "\u001b[91mUndefVarError: ic_rnn not defined\u001b[39m",
      "",
      "Stacktrace:",
      " [1] top-level scope at In[206]:1",
      " [2] include_string(::Function, ::Module, ::String, ::String) at ./loading.jl:1091"
     ]
    }
   ],
   "source": [
    "ic_rnn_5 = search(ic_rnn, Dict(\"hidden\"=>5))\n",
    "args_list = get_final_rnn_params(ic_rnn_5, \"end\")\n",
    "@save \"../final_run_params/compassworld/compassworld_rnn_5.jld2\" args_list\n"
   ]
  },
  {
   "cell_type": "code",
   "execution_count": 207,
   "metadata": {},
   "outputs": [
    {
     "ename": "LoadError",
     "evalue": "\u001b[91mUndefVarError: ic_rnn_adam not defined\u001b[39m",
     "output_type": "error",
     "traceback": [
      "\u001b[91mUndefVarError: ic_rnn_adam not defined\u001b[39m",
      "",
      "Stacktrace:",
      " [1] top-level scope at In[207]:1",
      " [2] include_string(::Function, ::Module, ::String, ::String) at ./loading.jl:1091"
     ]
    }
   ],
   "source": [
    "ic_rnn_adam_5 = search(ic_rnn_adam, Dict(\"hidden\"=>5))\n",
    "args_list = get_final_rnn_params(ic_rnn_adam_5, \"end\")\n",
    "@save \"../final_run_params/compassworld/compassworld_rnn_adam_5.jld2\" args_list\n"
   ]
  },
  {
   "cell_type": "code",
   "execution_count": 208,
   "metadata": {},
   "outputs": [
    {
     "ename": "LoadError",
     "evalue": "\u001b[91mUndefVarError: ic_rnn not defined\u001b[39m",
     "output_type": "error",
     "traceback": [
      "\u001b[91mUndefVarError: ic_rnn not defined\u001b[39m",
      "",
      "Stacktrace:",
      " [1] top-level scope at In[208]:1",
      " [2] include_string(::Function, ::Module, ::String, ::String) at ./loading.jl:1091"
     ]
    }
   ],
   "source": [
    "ic_rnn_40 = search(ic_rnn, Dict(\"hidden\"=>40))\n",
    "args_list = get_final_rnn_params(ic_rnn_40, \"all\")\n",
    "@save \"../final_run_params/compassworld/compassworld_rnn_40_all.jld2\" args_list\n"
   ]
  },
  {
   "cell_type": "code",
   "execution_count": 209,
   "metadata": {},
   "outputs": [
    {
     "ename": "LoadError",
     "evalue": "\u001b[91mUndefVarError: ic_rnn_adam not defined\u001b[39m",
     "output_type": "error",
     "traceback": [
      "\u001b[91mUndefVarError: ic_rnn_adam not defined\u001b[39m",
      "",
      "Stacktrace:",
      " [1] top-level scope at In[209]:1",
      " [2] include_string(::Function, ::Module, ::String, ::String) at ./loading.jl:1091"
     ]
    }
   ],
   "source": [
    "ic_rnn_adam_40 = search(ic_rnn_adam, Dict(\"hidden\"=>40))\n",
    "args_list = get_final_rnn_params(ic_rnn_adam_40, \"all\")\n",
    "@save \"../final_run_params/compassworld/compassworld_rnn_adam_40_all.jld2\" args_list\n"
   ]
  },
  {
   "cell_type": "code",
   "execution_count": 210,
   "metadata": {},
   "outputs": [
    {
     "ename": "LoadError",
     "evalue": "\u001b[91mUndefVarError: ic_rnn not defined\u001b[39m",
     "output_type": "error",
     "traceback": [
      "\u001b[91mUndefVarError: ic_rnn not defined\u001b[39m",
      "",
      "Stacktrace:",
      " [1] top-level scope at In[210]:1",
      " [2] include_string(::Function, ::Module, ::String, ::String) at ./loading.jl:1091"
     ]
    }
   ],
   "source": [
    "ic_rnn_5 = search(ic_rnn, Dict(\"hidden\"=>5))\n",
    "args_list = get_final_rnn_params(ic_rnn_5, \"all\")\n",
    "@save \"../final_run_params/compassworld/compassworld_rnn_5_all.jld2\" args_list\n"
   ]
  },
  {
   "cell_type": "code",
   "execution_count": 211,
   "metadata": {},
   "outputs": [
    {
     "ename": "LoadError",
     "evalue": "\u001b[91mUndefVarError: ic_rnn_adam not defined\u001b[39m",
     "output_type": "error",
     "traceback": [
      "\u001b[91mUndefVarError: ic_rnn_adam not defined\u001b[39m",
      "",
      "Stacktrace:",
      " [1] top-level scope at In[211]:1",
      " [2] include_string(::Function, ::Module, ::String, ::String) at ./loading.jl:1091"
     ]
    }
   ],
   "source": [
    "ic_rnn_adam_5 = search(ic_rnn_adam, Dict(\"hidden\"=>5))\n",
    "args_list = get_final_rnn_params(ic_rnn_adam_5, \"all\")\n",
    "@save \"../final_run_params/compassworld/compassworld_rnn_adam_5_all.jld2\" args_list\n"
   ]
  },
  {
   "cell_type": "markdown",
   "metadata": {},
   "source": [
    "### AT RNNs"
   ]
  },
  {
   "cell_type": "code",
   "execution_count": 212,
   "metadata": {},
   "outputs": [
    {
     "ename": "LoadError",
     "evalue": "\u001b[91mSystemError: unable to read directory ../MountainCar/compassworld_rnn_aux_task/data: No such file or directory\u001b[39m",
     "output_type": "error",
     "traceback": [
      "\u001b[91mSystemError: unable to read directory ../MountainCar/compassworld_rnn_aux_task/data: No such file or directory\u001b[39m",
      "",
      "Stacktrace:",
      " [1] readdir(::String; join::Bool, sort::Bool) at ./file.jl:810",
      " [2] readdir at ./file.jl:805 [inlined]",
      " [3] ItemCollection(::String; settings_file::String, data_folder::String) at /home/matthewmcleod/.julia/packages/Reproduce/TxAhT/src/search.jl:75",
      " [4] ItemCollection(::String) at /home/matthewmcleod/.julia/packages/Reproduce/TxAhT/src/search.jl:74",
      " [5] top-level scope at In[212]:1",
      " [6] include_string(::Function, ::Module, ::String, ::String) at ./loading.jl:1091"
     ]
    }
   ],
   "source": [
    "ic_rnn_at = ItemCollection(joinpath(data_home, \"compassworld_rnn_aux_task/data\"));\n",
    "# ic_rnn_rmsprop = ItemCollection(joinpath(data_home, \"compassworld_rnn_rmsprop/data\"));\n",
    "ic_rnn_at_adam = ItemCollection(joinpath(data_home, \"compassworld_rnn_aux_task_adam/data\"));"
   ]
  },
  {
   "cell_type": "code",
   "execution_count": 213,
   "metadata": {},
   "outputs": [
    {
     "ename": "LoadError",
     "evalue": "\u001b[91mUndefVarError: ic_rnn_at not defined\u001b[39m",
     "output_type": "error",
     "traceback": [
      "\u001b[91mUndefVarError: ic_rnn_at not defined\u001b[39m",
      "",
      "Stacktrace:",
      " [1] top-level scope at In[213]:1",
      " [2] include_string(::Function, ::Module, ::String, ::String) at ./loading.jl:1091"
     ]
    }
   ],
   "source": [
    "args_list = get_final_rnn_at_params(ic_rnn_at, \"end\")\n",
    "@save \"../final_run_params/compassworld/compassworld_rnn_aux_task.jld2\" args_list"
   ]
  },
  {
   "cell_type": "code",
   "execution_count": 214,
   "metadata": {},
   "outputs": [
    {
     "ename": "LoadError",
     "evalue": "\u001b[91mUndefVarError: ic_rnn_at_adam not defined\u001b[39m",
     "output_type": "error",
     "traceback": [
      "\u001b[91mUndefVarError: ic_rnn_at_adam not defined\u001b[39m",
      "",
      "Stacktrace:",
      " [1] top-level scope at In[214]:1",
      " [2] include_string(::Function, ::Module, ::String, ::String) at ./loading.jl:1091"
     ]
    }
   ],
   "source": [
    "args_list = get_final_rnn_at_params(ic_rnn_at_adam, \"end\")\n",
    "@save \"../final_run_params/compassworld/compassworld_rnn_aux_task_adam.jld2\" args_list"
   ]
  },
  {
   "cell_type": "markdown",
   "metadata": {},
   "source": [
    "# Forecast Networks"
   ]
  },
  {
   "cell_type": "code",
   "execution_count": 215,
   "metadata": {},
   "outputs": [
    {
     "ename": "LoadError",
     "evalue": "\u001b[91mSystemError: unable to read directory ../MountainCar/compassworld_forecast/data: No such file or directory\u001b[39m",
     "output_type": "error",
     "traceback": [
      "\u001b[91mSystemError: unable to read directory ../MountainCar/compassworld_forecast/data: No such file or directory\u001b[39m",
      "",
      "Stacktrace:",
      " [1] readdir(::String; join::Bool, sort::Bool) at ./file.jl:810",
      " [2] readdir at ./file.jl:805 [inlined]",
      " [3] ItemCollection(::String; settings_file::String, data_folder::String) at /home/matthewmcleod/.julia/packages/Reproduce/TxAhT/src/search.jl:75",
      " [4] ItemCollection(::String) at /home/matthewmcleod/.julia/packages/Reproduce/TxAhT/src/search.jl:74",
      " [5] top-level scope at In[215]:1",
      " [6] include_string(::Function, ::Module, ::String, ::String) at ./loading.jl:1091"
     ]
    }
   ],
   "source": [
    "ic_forecast = ItemCollection(joinpath(data_home, \"compassworld_forecast/data\"));\n",
    "ic_forecast_rmsprop = ItemCollection(joinpath(data_home, \"compassworld_forecast_rmsprop/data\"));\n",
    "ic_forecast_adam = ItemCollection(joinpath(data_home, \"compassworld_forecast_adam/data\"));"
   ]
  },
  {
   "cell_type": "code",
   "execution_count": 216,
   "metadata": {},
   "outputs": [
    {
     "ename": "LoadError",
     "evalue": "\u001b[91mUndefVarError: ic_forecast_adam not defined\u001b[39m",
     "output_type": "error",
     "traceback": [
      "\u001b[91mUndefVarError: ic_forecast_adam not defined\u001b[39m",
      "",
      "Stacktrace:",
      " [1] top-level scope at In[216]:1",
      " [2] include_string(::Function, ::Module, ::String, ::String) at ./loading.jl:1091"
     ]
    }
   ],
   "source": [
    "diff(ic_forecast_adam)"
   ]
  },
  {
   "cell_type": "code",
   "execution_count": 217,
   "metadata": {},
   "outputs": [
    {
     "ename": "LoadError",
     "evalue": "\u001b[91mUndefVarError: ic_forecast not defined\u001b[39m",
     "output_type": "error",
     "traceback": [
      "\u001b[91mUndefVarError: ic_forecast not defined\u001b[39m",
      "",
      "Stacktrace:",
      " [1] top-level scope at In[217]:1",
      " [2] include_string(::Function, ::Module, ::String, ::String) at ./loading.jl:1091"
     ]
    }
   ],
   "source": [
    "ic_forecast_8 = search(ic_forecast, Dict(\"klength\"=>8))\n",
    "args_list = get_final_rnn_params(ic_forecast_8, \"end\")\n",
    "@save \"../final_run_params/compassworld/compassworld_forecast_8.jld2\" args_list"
   ]
  },
  {
   "cell_type": "code",
   "execution_count": 218,
   "metadata": {},
   "outputs": [
    {
     "ename": "LoadError",
     "evalue": "\u001b[91mUndefVarError: ic_forecast_rmsprop not defined\u001b[39m",
     "output_type": "error",
     "traceback": [
      "\u001b[91mUndefVarError: ic_forecast_rmsprop not defined\u001b[39m",
      "",
      "Stacktrace:",
      " [1] top-level scope at In[218]:1",
      " [2] include_string(::Function, ::Module, ::String, ::String) at ./loading.jl:1091"
     ]
    }
   ],
   "source": [
    "ic_forecast_rmsprop_8 = search(ic_forecast_rmsprop, Dict(\"klength\"=>8))\n",
    "args_list = get_final_rnn_params(ic_forecast_rmsprop_8, \"end\")\n",
    "@save \"../final_run_params/compassworld/compassworld_forecast_rmsprop_8.jld2\" args_list"
   ]
  },
  {
   "cell_type": "code",
   "execution_count": 219,
   "metadata": {},
   "outputs": [
    {
     "ename": "LoadError",
     "evalue": "\u001b[91mUndefVarError: ic_forecast_adam not defined\u001b[39m",
     "output_type": "error",
     "traceback": [
      "\u001b[91mUndefVarError: ic_forecast_adam not defined\u001b[39m",
      "",
      "Stacktrace:",
      " [1] top-level scope at In[219]:1",
      " [2] include_string(::Function, ::Module, ::String, ::String) at ./loading.jl:1091"
     ]
    }
   ],
   "source": [
    "ic_forecast_adam_8 = search(ic_forecast_adam, Dict(\"klength\"=>8))\n",
    "args_list = get_final_rnn_params(ic_forecast_adam_8, \"end\")\n",
    "@save \"../final_run_params/compassworld/compassworld_forecast_adam_8.jld2\" args_list"
   ]
  },
  {
   "cell_type": "code",
   "execution_count": 220,
   "metadata": {},
   "outputs": [
    {
     "ename": "LoadError",
     "evalue": "\u001b[91mUndefVarError: ic_forecast not defined\u001b[39m",
     "output_type": "error",
     "traceback": [
      "\u001b[91mUndefVarError: ic_forecast not defined\u001b[39m",
      "",
      "Stacktrace:",
      " [1] top-level scope at In[220]:1",
      " [2] include_string(::Function, ::Module, ::String, ::String) at ./loading.jl:1091"
     ]
    }
   ],
   "source": [
    "ic_forecast_8 = search(ic_forecast, Dict(\"klength\"=>8))\n",
    "args_list = get_final_rnn_params(ic_forecast_8, \"all\")\n",
    "@save \"../final_run_params/compassworld/compassworld_forecast_8_all.jld2\" args_list"
   ]
  },
  {
   "cell_type": "code",
   "execution_count": 221,
   "metadata": {},
   "outputs": [
    {
     "ename": "LoadError",
     "evalue": "\u001b[91mUndefVarError: ic_forecast_rmsprop not defined\u001b[39m",
     "output_type": "error",
     "traceback": [
      "\u001b[91mUndefVarError: ic_forecast_rmsprop not defined\u001b[39m",
      "",
      "Stacktrace:",
      " [1] top-level scope at In[221]:1",
      " [2] include_string(::Function, ::Module, ::String, ::String) at ./loading.jl:1091"
     ]
    }
   ],
   "source": [
    "ic_forecast_rmsprop_8 = search(ic_forecast_rmsprop, Dict(\"klength\"=>8))\n",
    "args_list = get_final_rnn_params(ic_forecast_rmsprop_8, \"all\")\n",
    "@save \"../final_run_params/compassworld/compassworld_forecast_rmsprop_8_all.jld2\" args_list"
   ]
  },
  {
   "cell_type": "code",
   "execution_count": 222,
   "metadata": {},
   "outputs": [
    {
     "ename": "LoadError",
     "evalue": "\u001b[91mUndefVarError: ic_forecast_adam not defined\u001b[39m",
     "output_type": "error",
     "traceback": [
      "\u001b[91mUndefVarError: ic_forecast_adam not defined\u001b[39m",
      "",
      "Stacktrace:",
      " [1] top-level scope at In[222]:1",
      " [2] include_string(::Function, ::Module, ::String, ::String) at ./loading.jl:1091"
     ]
    }
   ],
   "source": [
    "ic_forecast_adam_8 = search(ic_forecast_adam, Dict(\"klength\"=>8))\n",
    "args_list = get_final_rnn_params(ic_forecast_adam_8, \"all\")\n",
    "@save \"../final_run_params/compassworld/compassworld_forecast_adam_8_all.jld2\" args_list"
   ]
  },
  {
   "cell_type": "code",
   "execution_count": null,
   "metadata": {},
   "outputs": [],
   "source": []
  }
 ],
 "metadata": {
  "kernelspec": {
   "display_name": "Julia 1.5.3",
   "language": "julia",
   "name": "julia-1.5"
  },
  "language_info": {
   "file_extension": ".jl",
   "mimetype": "application/julia",
   "name": "julia",
   "version": "1.5.3"
  }
 },
 "nbformat": 4,
 "nbformat_minor": 4
}
