{
 "cells": [
  {
   "cell_type": "code",
   "execution_count": null,
   "metadata": {},
   "outputs": [],
   "source": [
    "using Plots; gr()\n",
    "using Reproduce\n",
    "using FileIO\n",
    "using Statistics\n",
    "using ProgressMeter\n",
    "using JLD2\n",
    "# data_home = \"../data/experiment_2/Experiment2\"\n",
    "# data_home = \"../Experiment2_ESarsa_NoExploration\"\n",
    "# data_home = \"../Experiment2_NoExploringStarts\"\n",
    "# data_home = \"../Experiment2_Non_Introspective\"\n",
    "# data_home = \"../data/Experiment2_Introspective_And_Nonintrospective\"\n",
    "# data_home = \"../data/Experiment2_Introspective\"\n",
    "# data_home = \"../data/Revised_Experiment2\"\n",
    "# data_home = \"../data/OneDTMaze_Revised_RoundRobin\"\n",
    "# data_home = \"../OneDTMaze_ESARSA_Control_No_Penalty\"\n",
    "# data_home = \"../data/OneDTMaze_GPI_Control_Part_1\"\n",
    "# data_home = \"../data/OneDTMaze_Control_Part_1_Maze_Rep\"\n",
    "data_home = \"../OneDTMaze_GPI_Leave\""
   ]
  },
  {
   "cell_type": "code",
   "execution_count": null,
   "metadata": {},
   "outputs": [],
   "source": [
    "include(\"./plot_utils.jl\")\n",
    "GPU = GeneralPlotUtils"
   ]
  },
  {
   "cell_type": "code",
   "execution_count": null,
   "metadata": {},
   "outputs": [],
   "source": [
    "# experiment_folders = [\"../data/Experiment1 (copy)\"]\n",
    "# experiment_folders = [\"../Experiment1\"]\n",
    "# experiment_folders = [\"../data/Experiment1Final\"]\n",
    "experiment_folders = [data_home]\n",
    "folder_name = \"onedtmaze_simplified\""
   ]
  },
  {
   "cell_type": "code",
   "execution_count": null,
   "metadata": {},
   "outputs": [],
   "source": [
    "data_key = :oned_tmaze_start_error"
   ]
  },
  {
   "cell_type": "code",
   "execution_count": null,
   "metadata": {},
   "outputs": [],
   "source": [
    "ic = ItemCollection(joinpath(experiment_folders[1], \"data\"));\n",
    "# ic = search(ic, Dict(\"env_step_penalty\" => -0.01))\n",
    "diff(ic)"
   ]
  },
  {
   "cell_type": "code",
   "execution_count": null,
   "metadata": {},
   "outputs": [],
   "source": [
    "# length(search(ic, Dict(\"demon_learner\" => \"LSTD\")))\n",
    "# ic = search(ic, Dict(\"num_tilings\"=>2))"
   ]
  },
  {
   "cell_type": "code",
   "execution_count": null,
   "metadata": {},
   "outputs": [],
   "source": [
    "# algo_divisor_keys = [\"behaviour_learner\",\"behaviour_update\",\"demon_learner\", \"demon_opt\", \"demon_update\", \"demon_alpha_init\"]\n",
    "# algo_divisor_keys = [\"behaviour_learner\", \"behaviour_update\", \"demon_learner\", \"demon_opt\"]\n",
    "# algo_divisor_keys = [\"behaviour_learner\",\"behaviour_reward_projector\", \"demon_learner\",\"num_tiles\", \"exploration_param\", \"exploring_starts\"]\n",
    "# algo_divisor_keys = [\"behaviour_learner\",\"demon_learner\", \"demon_opt\"]\n",
    "# algo_divisor_keys = [\"demon_learner\", \"demon_update\", \"demon_opt\",\"demon_rep\"]\n",
    "algo_divisor_keys = [\"behaviour_w_init\"]\n",
    "# algo_divisor_keys = [\"demon_learner\"]\n",
    "# algo_divisor_keys = [\"behaviour_eta\"]\n",
    "# algo_divisor_keys = []\n",
    "# sweep_params = [\"demon_eta\"]\n",
    "# sweep_params = [\"demon_eta\", \"behaviour_eta\", \"exploration_param\"]\n",
    "sweep_params = []\n",
    "\n",
    "algo_specs_full = GPU.split_algo(ic, algo_divisor_keys)\n",
    "# algo_specs_full = ic"
   ]
  },
  {
   "cell_type": "code",
   "execution_count": null,
   "metadata": {},
   "outputs": [],
   "source": [
    "all_algos_ics = [search(ic,algo_spec) for algo_spec in algo_specs_full]\n",
    "# all_algos_ics = [search(ic,algo_specs_full)]\n",
    "length.(all_algos_ics)\n"
   ]
  },
  {
   "cell_type": "code",
   "execution_count": null,
   "metadata": {},
   "outputs": [],
   "source": [
    "valid_algos_ind = findall(a -> length(a) != 0, all_algos_ics)\n",
    "\n",
    "algo_specs = algo_specs_full[valid_algos_ind]\n",
    "algo_ics = all_algos_ics[valid_algos_ind]"
   ]
  },
  {
   "cell_type": "code",
   "execution_count": null,
   "metadata": {},
   "outputs": [],
   "source": [
    "algo_specs"
   ]
  },
  {
   "cell_type": "code",
   "execution_count": null,
   "metadata": {},
   "outputs": [],
   "source": [
    "algo_ics[1].items"
   ]
  },
  {
   "cell_type": "code",
   "execution_count": null,
   "metadata": {},
   "outputs": [],
   "source": [
    "best_per_algo_ics = []\n",
    "include(\"./plot_utils.jl\")\n",
    "GPU = GeneralPlotUtils\n",
    "for (i,algo_ic) in enumerate(algo_ics)\n",
    "    println(i)\n",
    "    push!(best_per_algo_ics, GPU.get_best(algo_ic,sweep_params, data_key))\n",
    "#     push!(best_per_algo_ics, GPU.get_best_final_perf(algo_ic,sweep_params, data_key, 0.1))\n",
    "\n",
    "end"
   ]
  },
  {
   "cell_type": "code",
   "execution_count": null,
   "metadata": {},
   "outputs": [],
   "source": [
    "length.(best_per_algo_ics)"
   ]
  },
  {
   "cell_type": "code",
   "execution_count": null,
   "metadata": {},
   "outputs": [],
   "source": [
    "data = [GPU.smooth(GPU.get_stats(GPU.load_results(ic,data_key))[1],10) for ic in best_per_algo_ics]\n",
    "std = [GPU.smooth(GPU.get_stats(GPU.load_results(ic,data_key))[2],10) for ic in best_per_algo_ics]\n",
    "\n",
    "size(GPU.load_results(best_per_algo_ics[1], data_key))\n",
    "# GVF x timesteps x num_runs\n",
    "# tst = GPU.load_results(best_per_algo_ics[1], data_key)\n",
    "# size(tst)\n",
    "# std(sum(tst,dims=1)[1,:,:], dims =2)\n",
    "# methods(std)\n",
    "# std(tst,dims=3)\n",
    "# GPU.get_stats(GPU.load_results(best_per_algo_ics[1],data_key))[2]"
   ]
  },
  {
   "cell_type": "code",
   "execution_count": null,
   "metadata": {},
   "outputs": [],
   "source": [
    "algo_specs\n",
    "[GPU.print_params(algo, algo_divisor_keys, sweep_params) for algo in best_per_algo_ics]"
   ]
  },
  {
   "cell_type": "code",
   "execution_count": null,
   "metadata": {},
   "outputs": [],
   "source": [
    "label_keys = cat(algo_divisor_keys,sweep_params, dims = 1)\n",
    "labels = [GPU.get_label(algo, label_keys) for algo in best_per_algo_ics]\n",
    "labels = cat(labels..., dims=2)"
   ]
  },
  {
   "cell_type": "code",
   "execution_count": null,
   "metadata": {},
   "outputs": [],
   "source": [
    "# labels = [GPU.get_label(algo, label_keys) for algo in best_per_algo_ics]\n",
    "ylabel = \"RMSE\"\n",
    "# title = \"SR Demons & Step Size Adaptation vs More Naive Approaches\"\n",
    "title = \"ESARSA: Criteria - Last 10%\"\n",
    "step_increment=100\n",
    "num_samples = length(data[1])\n",
    "xticks=collect(step_increment:step_increment:num_samples*step_increment)\n",
    "num_runs = 15\n",
    "plot(xticks, data, ylabel=ylabel, palette=:tab10, label= labels, grid=true, ribbon = std/sqrt(num_runs), legend=:topright, title=title)"
   ]
  },
  {
   "cell_type": "code",
   "execution_count": null,
   "metadata": {},
   "outputs": [],
   "source": [
    "savefig(\"./plots/$(folder_name)/RMSE.png\")"
   ]
  },
  {
   "cell_type": "code",
   "execution_count": null,
   "metadata": {},
   "outputs": [],
   "source": [
    "data_per_gvf = [GPU.get_stats(GPU.load_results(ic,data_key), per_gvf = true)[1] for ic in best_per_algo_ics]\n",
    "std_per_gvf = [GPU.get_stats(GPU.load_results(ic,data_key), per_gvf = true)[2] for ic in best_per_algo_ics]"
   ]
  },
  {
   "cell_type": "code",
   "execution_count": null,
   "metadata": {},
   "outputs": [],
   "source": [
    "std_per_gvf[1][1,:]"
   ]
  },
  {
   "cell_type": "code",
   "execution_count": null,
   "metadata": {},
   "outputs": [],
   "source": [
    "num_gvfs = 4\n",
    "ps = []\n",
    "gvf_labels = [\"Distractor\" \"Constant\" \"Drifter\" \"Constant\"]\n",
    "for gvf_ind in 1:num_gvfs\n",
    "    p = plot()\n",
    "    for algo_ind in 1:length(data_per_gvf)\n",
    "        smooth_gvf = GPU.smooth(data_per_gvf[algo_ind][gvf_ind,:],5)\n",
    "        plot!(p,smooth_gvf, palette=:tab10, ribbon = std_per_gvf[algo_ind][gvf_ind,:] / sqrt(15), size = (500,500),label = labels[algo_ind])\n",
    "        plot!(xlabel=\"Steps\", ylabel = \"RMSE\",  title = gvf_labels[gvf_ind])\n",
    "    end\n",
    "    push!(ps,p)\n",
    "end\n",
    "plot(ps..., layout=(2,2), size = (1200,1200))\n",
    "        "
   ]
  },
  {
   "cell_type": "code",
   "execution_count": null,
   "metadata": {},
   "outputs": [],
   "source": [
    "savefig(\"./plots/$(folder_name)/RMSE_per_Demon.png\")"
   ]
  },
  {
   "cell_type": "code",
   "execution_count": null,
   "metadata": {},
   "outputs": [],
   "source": [
    "epag = [GPU.load_results(ic,data_key) for ic in best_per_algo_ics]\n",
    "epag[1]\n",
    "for (algo_ind,tmp) in enumerate(epag)\n",
    "    num_runs = size(tmp)[3]\n",
    "    ps = []\n",
    "    for gvf_ind in 1:num_gvfs\n",
    "        p = plot()\n",
    "        for i in 1:num_runs\n",
    "            plot!(tmp[gvf_ind,:,i],linealpha=0.3,label=\"\",color=:black)\n",
    "        end\n",
    "        plot!(data_per_gvf[algo_ind][gvf_ind,:], label = labels[algo_ind])\n",
    "        title!(gvf_labels[gvf_ind])\n",
    "        push!(ps,p)\n",
    "    end\n",
    "    plot(ps...)\n",
    "#     savefig(\"./plots/onedtmaze_roundrobin/rmse_per_run_$(labels[algo_ind]).png\")\n",
    "end\n",
    "\n",
    "    "
   ]
  },
  {
   "cell_type": "code",
   "execution_count": null,
   "metadata": {},
   "outputs": [],
   "source": [
    "ps = []\n",
    "inds_to_care = [1:4,5:8,9:13,14:18]\n",
    "for inds in inds_to_care\n",
    "    ylabel = \"RMSE\"\n",
    "    title = \"\"\n",
    "    step_increment=100\n",
    "    num_samples = length(data[1])\n",
    "    xticks=collect(step_increment:step_increment:num_samples*step_increment)\n",
    "    num_runs = 50\n",
    "    ribbon_std_err = std[inds] / sqrt(num_runs)\n",
    "    p = plot(xticks, data[inds], ylabel=ylabel, palette=:tab10, label= labels[:,inds], grid=true, ribbon = ribbon_std_err, legend=:topright, title=title)\n",
    "    push!(ps,p)\n",
    "end\n",
    "plot(ps..., size = (800,800))"
   ]
  },
  {
   "cell_type": "code",
   "execution_count": null,
   "metadata": {},
   "outputs": [],
   "source": [
    "savefig(\"./plots/experiment_2_revised/introspective_metastepsize_longer.png\")"
   ]
  },
  {
   "cell_type": "code",
   "execution_count": null,
   "metadata": {},
   "outputs": [],
   "source": [
    "#Replicating plot from Experiment 1.\n",
    "# inds_to_replicate = [1,3,4,8]\n",
    "inds_to_replicate = [6,8]\n",
    "label_subset = labels[:,inds_to_replicate]\n",
    "data_subset = data[inds_to_replicate]\n",
    "@show length(std)\n",
    "label_subset"
   ]
  },
  {
   "cell_type": "code",
   "execution_count": null,
   "metadata": {},
   "outputs": [],
   "source": [
    "# title = \"High vs Low Alpha Init\"\n",
    "title = \"SR Learners\"\n",
    "ylabel = \"RMSE\"\n",
    "step_increment=100\n",
    "num_samples = length(data[1])\n",
    "xticks=collect(step_increment:step_increment:num_samples*step_increment)\n",
    "plot(xticks, data_subset,ylabel= ylabel, label= label_subset, ribbon = std[inds_to_replicate]/sqrt(30), legend=:topright, title=title, ylims=(0,8))"
   ]
  },
  {
   "cell_type": "code",
   "execution_count": null,
   "metadata": {},
   "outputs": [],
   "source": [
    "savefig(\"./plots/onedtmaze_roundrobin/SR_learners.png\")"
   ]
  },
  {
   "cell_type": "code",
   "execution_count": null,
   "metadata": {},
   "outputs": [],
   "source": [
    "for e in diff(ic)[\"exploration_param\"]\n",
    "    @show e\n",
    "end"
   ]
  },
  {
   "cell_type": "code",
   "execution_count": null,
   "metadata": {},
   "outputs": [],
   "source": [
    "inds_to_replicate = [5,6,7]\n",
    "label_subset = labels[:,inds_to_replicate]\n",
    "data_subset = data[inds_to_replicate]"
   ]
  },
  {
   "cell_type": "code",
   "execution_count": null,
   "metadata": {},
   "outputs": [],
   "source": [
    "title = \"Behaviour Learned vs Round Robin\"\n",
    "ylabel = \"RMSE\"\n",
    "step_increment=100\n",
    "num_samples = length(data[1])\n",
    "xticks=collect(step_increment:step_increment:num_samples*step_increment)\n",
    "p1 = plot(xticks, data_subset,ylabel= ylabel, label= label_subset, ribbon = std[inds_to_replicate]/sqrt(30), legend=:topright, title=title, ylims=(0,4))\n",
    "\n",
    "start_pos = 150\n",
    "new_x_ticks = collect(step_increment * start_pos:step_increment:num_samples*step_increment)\n",
    "data_subset_cut = [s[start_pos:end] for s in data_subset]\n",
    "std_subset_cut = [s[start_pos:end] for s in std[inds_to_replicate]/sqrt(30)]\n",
    "p2 = plot(new_x_ticks,data_subset_cut, ribbon = std_subset_cut, title=\"Cut at $(step_increment * start_pos)\")\n",
    "\n",
    "plot(p1,p2, layout = (2,1), figsize=(20,20))\n"
   ]
  },
  {
   "cell_type": "code",
   "execution_count": null,
   "metadata": {},
   "outputs": [],
   "source": [
    "savefig(\"./plots/experiment2/learned_vs_round_robin.png\")"
   ]
  },
  {
   "cell_type": "code",
   "execution_count": null,
   "metadata": {},
   "outputs": [],
   "source": [
    "episode_lengths = [GPU.load_results(ic,:episode_length, return_type = \"array\") for ic in best_per_algo_ics]\n",
    "visit_orders = [GPU.load_results(ic,:visit_order, return_type = \"array\") for ic in best_per_algo_ics]"
   ]
  },
  {
   "cell_type": "code",
   "execution_count": null,
   "metadata": {},
   "outputs": [],
   "source": [
    "length(visit_orders[1][7])\n",
    "# length(episode_lengths[1][7])"
   ]
  },
  {
   "cell_type": "code",
   "execution_count": null,
   "metadata": {},
   "outputs": [],
   "source": [
    "ps = []\n",
    "for ind in 1:length(episode_lengths)\n",
    "    num_episodes = [length(e) for e in episode_lengths[ind]]\n",
    "#     bins = (1:10,11:100,101:300,301:1000,1001:10000)\n",
    "#     bins = 1:10:100\n",
    "#     @show sum(num_episodes), labels[ind]\n",
    "#     p = histogram(num_episodes; bins)\n",
    "    p = histogram(num_episodes; nbins=15, xlim=(0,3000))\n",
    "#     p = histogram(num_episodes; nbins=15)\n",
    "\n",
    "    title!(labels[ind])\n",
    "    push!(ps,p)\n",
    "    xlabel!(\"Number of Episodes\")\n",
    "    ylabel!(\"Number of runs\")\n",
    "end\n",
    "\n",
    "plot(ps..., size = (1000,1000))"
   ]
  },
  {
   "cell_type": "code",
   "execution_count": null,
   "metadata": {},
   "outputs": [],
   "source": [
    "savefig(\"./plots/$(folder_name)/RunSuccessRate_ALL.png\")"
   ]
  },
  {
   "cell_type": "code",
   "execution_count": null,
   "metadata": {},
   "outputs": [],
   "source": [
    "data_per_run = [GPU.load_results(ic,data_key) for ic in best_per_algo_ics]\n",
    "data_per_run[1]"
   ]
  },
  {
   "cell_type": "code",
   "execution_count": null,
   "metadata": {},
   "outputs": [],
   "source": [
    "for ind in 1:length(data_per_run)\n",
    "    ps = []\n",
    "    d = data_per_run[ind]\n",
    "    for gvf_i in 1:4\n",
    "        p = plot(d[gvf_i,:,:], linecolor=:blue, linealpha=0.3, label = \"\")\n",
    "        plot!(mean(d[gvf_i,:,:], dims = 2), linewidth=5, label = \"\")\n",
    "        title!(string(gvf_labels[gvf_i], \" \", labels[ind]))\n",
    "        push!(ps,p)\n",
    "    end\n",
    "    full_p = plot(ps..., size = (800,800))\n",
    "    display(full_p)\n",
    "#     savefig(\"./plots/onedtmaze_revised/RMSE_per_run_$(labels[ind])_esarsa.png\")\n",
    "end\n"
   ]
  },
  {
   "cell_type": "code",
   "execution_count": null,
   "metadata": {},
   "outputs": [],
   "source": [
    "maximum([e[end-1] for e in episode_lengths[2]])"
   ]
  },
  {
   "cell_type": "code",
   "execution_count": null,
   "metadata": {},
   "outputs": [],
   "source": [
    "max_lengths = [GPU.get_min_length(arrs)-1 for arrs in episode_lengths]\n"
   ]
  },
  {
   "cell_type": "code",
   "execution_count": null,
   "metadata": {},
   "outputs": [],
   "source": [
    "p = plot(xlabel = \"Episode Count\", ylabel = \"Step Length\")\n",
    "for (ind,episode_lengths) in enumerate(episode_lengths)\n",
    "    l = hcat([epi[1:max_lengths[ind]] for epi in episode_lengths]...)\n",
    "    plot!(p,mean(l,dims=2), label = labels[ind],yaxis=:log)\n",
    "end\n",
    "title!(\"Step Length for Best Performing Algos Last 10 %\")\n",
    "# p = plot(mean(episode_lengths,dims=2), xlabel=\"Episode Count\", ylabel=\"Step Length\", hline=5.5)\n",
    "display(p)\n",
    "# savefig(\"./plots/no_reward/step_length.png\")"
   ]
  },
  {
   "cell_type": "code",
   "execution_count": null,
   "metadata": {},
   "outputs": [],
   "source": [
    "ps = []\n",
    "for (algo_ind,algo) in enumerate(episode_lengths)\n",
    "    p = plot()\n",
    "    num_runs = length(algo)\n",
    "    num_steps = cumsum(algo[1])[end]\n",
    "    d = zeros(num_runs, num_steps)\n",
    "    for (i,run) in enumerate(algo)\n",
    "        cur_index = 1\n",
    "        for (ep_num,ep) in enumerate(run)\n",
    "            d[i,cur_index:cur_index + ep-1] .= ep\n",
    "            cur_index += ep\n",
    "        end            \n",
    "#             @show d[i,:]\n",
    "            plot!(d[i,:],color=:black, linealpha=0.4, label=\"\")\n",
    "    end\n",
    "    plot!(mean(d,dims=1)', label = labels[algo_ind], yaxis=:log, size=(1000,1000), legend=:bottomleft)\n",
    "    xlabel!(\"Step\")\n",
    "    ylabel!(\"Ave Ep Length at Step\")\n",
    "    push!(ps, p)\n",
    "    \n",
    "end\n",
    "\n",
    "plot(ps...)\n",
    "        "
   ]
  },
  {
   "cell_type": "code",
   "execution_count": null,
   "metadata": {},
   "outputs": [],
   "source": [
    "savefig(\"./plots/$(folder_name)/ep_length_per_step.png\")"
   ]
  },
  {
   "cell_type": "code",
   "execution_count": null,
   "metadata": {},
   "outputs": [],
   "source": []
  },
  {
   "cell_type": "code",
   "execution_count": null,
   "metadata": {},
   "outputs": [],
   "source": [
    "# include(\"./plot_utils.jl\")\n",
    "# GPU = GeneralPlotUtils\n",
    "gvf_labels = [\"Distractor\" \"Constant\" \"Drifter\" \"Constant\"]"
   ]
  },
  {
   "cell_type": "code",
   "execution_count": null,
   "metadata": {},
   "outputs": [],
   "source": [
    "ps = []\n",
    "for i in 1:length(visit_orders)\n",
    "    @show max_lengths[i]\n",
    "    @show length(visit_orders[i])\n",
    "    visit_perc = GPU.goal_visits_per_episode(visit_orders[i], max_lengths[i])\n",
    "    @show size(visit_perc)\n",
    "#     @show size(GPU.smooth(visit_perc, 5))\n",
    "#     if size(visit_perc)[2] != 0\n",
    "#         smooth_visit_perc = GPU.smooth(visit_perc, 5)\n",
    "#     end\n",
    "    tmp = [GPU.smooth(visit_perc[i,:],20) for i in 1:4] \n",
    "    p = plot(tmp, labels = gvf_labels, xlabel=\"Episode Count\", ylabel=\"Fraction of Goal Visits\", ylim=(0.0,1.0), title = string(labels[i], \" Last 10%\"), xaxis=:log, size = (800,1200), legend=:topleft)\n",
    "    push!(ps,p)\n",
    "end\n",
    "println()\n",
    "@show length(visit_orders)\n",
    "# plot(ps..., layout = (1,3))\n",
    "# display(plot(ps...,layout = (2,1)))\n",
    "# display(plot(ps...))\n",
    "display(plot(ps..., layout=(1,2)))\n",
    "savefig(\"./plots/$(folder_name)/goal_visits.png\")"
   ]
  },
  {
   "cell_type": "code",
   "execution_count": null,
   "metadata": {},
   "outputs": [],
   "source": [
    "tmp_lengths = [length.(visits) for visits in visit_orders]\n",
    "med_visit_order_lengths = Int.(floor.([median(l) for l in tmp_lengths]))\n",
    "med_visit_mask = [tmp_lengths[i] .> med_visit_order_lengths[i] for i in 1:length(visit_orders)]\n",
    "med_visit_order_lengths"
   ]
  },
  {
   "cell_type": "code",
   "execution_count": null,
   "metadata": {},
   "outputs": [],
   "source": [
    "\n",
    "ps = []\n",
    "for i in 1:length(visit_orders)\n",
    "    visit_perc = GPU.goal_visits_per_episode(visit_orders[i][med_visit_mask[i]], med_visit_order_lengths[i])\n",
    "    tmp = [GPU.smooth(visit_perc[i,:],100) for i in 1:4] \n",
    "    p = plot(tmp, labels = gvf_labels, xlabel=\"Episode Count\", ylabel=\"Fraction of Goal Visits\", ylim=(0.0,1.0), title = string(\"MEDIAN\",labels[i], \" Last 10%\"), size = (800,1200), legend=:topleft)\n",
    "    push!(ps,p)\n",
    "end\n",
    "println()\n",
    "@show length(visit_orders)\n",
    "display(plot(ps..., layout=(3,2)))\n",
    "savefig(\"./plots/$(folder_name)/goal_visits_MEDIAN.png\")"
   ]
  },
  {
   "cell_type": "code",
   "execution_count": null,
   "metadata": {},
   "outputs": [],
   "source": [
    "tmpind = 13\n",
    "for i in 1:length(visit_orders[tmpind])\n",
    "    println(i)\n",
    "    histogram(visit_orders[tmpind][i], title=string(labels[tmpind], \" seed $(i)\", \" Last visit: $(visit_orders[tmpind][i][end])\"), yaxis=:log)\n",
    "    savefig(\"./plots/no_reward/goal_visitations_seed_$(i).png\")\n",
    "end"
   ]
  },
  {
   "cell_type": "code",
   "execution_count": null,
   "metadata": {},
   "outputs": [],
   "source": [
    "@show length(visit_orders)"
   ]
  },
  {
   "cell_type": "code",
   "execution_count": null,
   "metadata": {},
   "outputs": [],
   "source": [
    "irs = [GPU.load_results(ic,:intrinsic_reward) for ic in best_per_algo_ics]\n",
    "\n",
    "@show \"here\"\n",
    "p = plot()\n",
    "for (i,ir) in enumerate(irs)\n",
    "    @show size(ir)\n",
    "    l = mean(ir[:,1,:], dims=2)\n",
    "    l = GPU.smooth(l,200)\n",
    "    plot!(l,label=labels[i], palette=:tab10, ylim=(0,0.15))\n",
    "end\n",
    "title!(\"Intrinsic Reward\")\n",
    "xlabel!(\"Steps (per 100)\")\n",
    "ylabel!(\"Intrinsic Reward\")\n",
    "display(p)\n",
    "    "
   ]
  },
  {
   "cell_type": "code",
   "execution_count": null,
   "metadata": {},
   "outputs": [],
   "source": [
    "savefig(\"./plots/$(folder_name)/intrinsic_reward.png\")"
   ]
  },
  {
   "cell_type": "code",
   "execution_count": null,
   "metadata": {},
   "outputs": [],
   "source": [
    "num_gvfs = 4\n",
    "ps = []\n",
    "for i in 1:length(visit_orders)\n",
    "    visitation = zeros(num_gvfs, num_gvfs)\n",
    "    for run in 1:length(visit_orders[i])\n",
    "        if length(visit_orders[i][run]) != 0\n",
    "            first_visit = visit_orders[i][run][1]\n",
    "#         @show first_visit\n",
    "            goals = unique(visit_orders[i][run])\n",
    "#         @show goals\n",
    "            visitation[first_visit,goals] .+= 1\n",
    "        end\n",
    "    end\n",
    "    @show maximum(visitation,dims=2)\n",
    "    visitation = visitation ./ vec(maximum(visitation,dims=2))\n",
    "    push!(ps, heatmap(visitation, title = labels[i], size = (1000,1300), c = :grayC))\n",
    "\n",
    "end\n",
    "plot(ps..., layout=(2,2))"
   ]
  },
  {
   "cell_type": "code",
   "execution_count": null,
   "metadata": {},
   "outputs": [],
   "source": [
    "data_per_gvf = [GPU.get_stats(GPU.load_results(ic,data_key), per_gvf=true)[1] for ic in best_per_algo_ics]\n",
    "std_per_gvf = [GPU.get_stats(GPU.load_results(ic,data_key), per_gvf=true)[2] for ic in best_per_algo_ics]"
   ]
  },
  {
   "cell_type": "code",
   "execution_count": null,
   "metadata": {},
   "outputs": [],
   "source": [
    "GPU.get_stats(GPU.load_results(best_per_algo_ics[1],data_key), per_gvf=true)[2]"
   ]
  },
  {
   "cell_type": "code",
   "execution_count": null,
   "metadata": {},
   "outputs": [],
   "source": [
    "data[1] .== data[3]"
   ]
  },
  {
   "cell_type": "code",
   "execution_count": null,
   "metadata": {},
   "outputs": [],
   "source": []
  },
  {
   "cell_type": "code",
   "execution_count": null,
   "metadata": {},
   "outputs": [],
   "source": [
    "inds_to_replicate"
   ]
  },
  {
   "cell_type": "code",
   "execution_count": null,
   "metadata": {},
   "outputs": [],
   "source": [
    "ps = []\n",
    "for ind in inds_to_replicate\n",
    "    label_subset = labels[:,ind]\n",
    "    data_subset = data_per_gvf[ind]\n",
    "    std_subset = std_per_gvf[ind]\n",
    "    @show size(std_subset)\n",
    "    xticks=collect(step_increment:step_increment:num_samples*step_increment)\n",
    "    p = plot(xticks,data_subset',label= [\"Distractor\" \"Const\" \"Drifter\" \"Const\"], ribbon = (std_subset/sqrt(100))', legend=:bottomleft, title=labels[ind], ylims=(0,1.25))\n",
    "    push!(ps,p)\n",
    "end"
   ]
  },
  {
   "cell_type": "code",
   "execution_count": null,
   "metadata": {},
   "outputs": [],
   "source": [
    "plot(ps..., layout=(2,2))"
   ]
  },
  {
   "cell_type": "code",
   "execution_count": null,
   "metadata": {},
   "outputs": [],
   "source": [
    "savefig(\"./plots/TabTMazeRoundRobin_per_gvf.png\")"
   ]
  },
  {
   "cell_type": "code",
   "execution_count": null,
   "metadata": {},
   "outputs": [],
   "source": [
    "# GPU.load_results(ic,:max_behaviour_q)\n",
    "max_qs = [GPU.load_results(ic,:max_behaviour_q, return_type=\"array\") for ic in best_per_algo_ics]\n",
    "\n",
    "ps = []\n",
    "for i in 1:length(best_per_algo_ics)\n",
    "    p = plot()\n",
    "    tmp = mean(cat([q for q in max_qs[i]]..., dims = 2), dims =2)\n",
    "    @show minimum(tmp)\n",
    "    plot!(tmp, size = (500,500), title=labels[i], label=\"\")\n",
    "    ylabel!(\" Max Q value\")\n",
    "    xlabel!(\"steps\")\n",
    "    push!(ps, p)\n",
    "end\n",
    "plot(ps..., size = (1000,1000), layout = (1,2))"
   ]
  },
  {
   "cell_type": "code",
   "execution_count": null,
   "metadata": {},
   "outputs": [],
   "source": [
    "savefig(\"./plots/$(folder_name)/max_q.png\")"
   ]
  },
  {
   "cell_type": "code",
   "execution_count": null,
   "metadata": {},
   "outputs": [],
   "source": [
    "max_qs = [GPU.load_results(ic,:max_behaviour_q, return_type=\"array\") for ic in best_per_algo_ics]\n",
    "\n",
    "ps = []\n",
    "for i in 1:length(best_per_algo_ics)\n",
    "    p = plot()\n",
    "    tmp = mean(cat([q for q in max_qs[i]]..., dims = 2), dims =2)\n",
    "    @show minimum(tmp)\n",
    "    plot!(tmp, size = (500,500), title=labels[i], label=\"\", ylim=(-0.1,0.1))\n",
    "    ylabel!(\" Max Q value\")\n",
    "    xlabel!(\"steps\")\n",
    "    push!(ps, p)\n",
    "end\n",
    "plot(ps..., size = (1000,1000), layout = (3,2))"
   ]
  },
  {
   "cell_type": "code",
   "execution_count": null,
   "metadata": {},
   "outputs": [],
   "source": [
    "savefig(\"./plots/$(folder_name)/enhance_Enhance_ENHANCE.png\")"
   ]
  },
  {
   "cell_type": "code",
   "execution_count": null,
   "metadata": {},
   "outputs": [],
   "source": []
  }
 ],
 "metadata": {
  "kernelspec": {
   "display_name": "Julia 1.5.3",
   "language": "julia",
   "name": "julia-1.5"
  },
  "language_info": {
   "file_extension": ".jl",
   "mimetype": "application/julia",
   "name": "julia",
   "version": "1.5.3"
  }
 },
 "nbformat": 4,
 "nbformat_minor": 2
}
