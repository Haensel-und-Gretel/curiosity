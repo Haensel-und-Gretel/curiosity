{
 "cells": [
  {
   "cell_type": "code",
   "execution_count": 337,
   "metadata": {},
   "outputs": [
    {
     "data": {
      "text/plain": [
       "\"../MountainCarAlphaInitSweep\""
      ]
     },
     "execution_count": 337,
     "metadata": {},
     "output_type": "execute_result"
    }
   ],
   "source": [
    "using Plots; gr()\n",
    "using Reproduce\n",
    "using FileIO\n",
    "using Statistics\n",
    "using ProgressMeter\n",
    "using JLD2\n",
    "data_home = \"../MountainCarAlphaInitSweep\""
   ]
  },
  {
   "cell_type": "code",
   "execution_count": 338,
   "metadata": {},
   "outputs": [
    {
     "data": {
      "text/plain": [
       "\"/home/matthewmcleod/Documents/Masters/curiosity/plotting\""
      ]
     },
     "execution_count": 338,
     "metadata": {},
     "output_type": "execute_result"
    }
   ],
   "source": [
    "pwd()"
   ]
  },
  {
   "cell_type": "markdown",
   "metadata": {},
   "source": [
    "# Plotting"
   ]
  },
  {
   "cell_type": "code",
   "execution_count": 339,
   "metadata": {},
   "outputs": [],
   "source": [
    "ic = ItemCollection(joinpath(data_home, \"data\"));"
   ]
  },
  {
   "cell_type": "code",
   "execution_count": 340,
   "metadata": {},
   "outputs": [
    {
     "data": {
      "text/plain": [
       "Dict{String,Array} with 5 entries:\n",
       "  \"demon_alpha_init\"    => [0.015625, 0.03125, 0.0625, 0.125]\n",
       "  \"behaviour_alpha\"     => [0.03125, 0.0625]\n",
       "  \"runs\"                => [1, 2, 3, 4, 5, 6, 7, 8, 9, 10  …  21, 22, 23, 24, 2…\n",
       "  \"demon_alpha\"         => [0.03125, 0.0625, 0.125]\n",
       "  \"use_external_reward\" => Bool[0, 1]"
      ]
     },
     "execution_count": 340,
     "metadata": {},
     "output_type": "execute_result"
    }
   ],
   "source": [
    "swept_params = diff(ic)"
   ]
  },
  {
   "cell_type": "code",
   "execution_count": 341,
   "metadata": {},
   "outputs": [
    {
     "data": {
      "text/plain": [
       "load_results (generic function with 1 method)"
      ]
     },
     "execution_count": 341,
     "metadata": {},
     "output_type": "execute_result"
    }
   ],
   "source": [
    "function load_results(ic, logger_key; return_type = \"tensor\")\n",
    "    num_results = length(ic)\n",
    "    results = []\n",
    "    for itm in ic.items\n",
    "        data = FileIO.load(joinpath(itm.folder_str, \"results.jld2\"))[\"results\"]\n",
    "        push!(results,data[logger_key])\n",
    "    end\n",
    "    \n",
    "    if return_type == \"tensor\"\n",
    "        return cat(results..., dims = 3)\n",
    "    elseif return_type == \"array\"\n",
    "        return results\n",
    "    end\n",
    "end"
   ]
  },
  {
   "cell_type": "code",
   "execution_count": 342,
   "metadata": {},
   "outputs": [
    {
     "data": {
      "text/plain": [
       "split_algo (generic function with 1 method)"
      ]
     },
     "execution_count": 342,
     "metadata": {},
     "output_type": "execute_result"
    }
   ],
   "source": [
    "# After implementing, I think I saw there is a Iterators.product that does this?\n",
    "function combine(dict_arr, key, vals)\n",
    "    new_dict_arr = []\n",
    "    for dict in dict_arr\n",
    "        for val in vals\n",
    "            new_dict = deepcopy(Dict(dict))\n",
    "            new_dict[key] = val\n",
    "            push!(new_dict_arr, new_dict)\n",
    "        end\n",
    "    end\n",
    "    return new_dict_arr\n",
    "end\n",
    "\n",
    "function split_algo(algo_ic, swept_params)\n",
    "    println(swept_params)\n",
    "    dicts = [Dict()]\n",
    "    for k in swept_params\n",
    "        list_of_params = diff(algo_ic)[k]\n",
    "        dicts = combine(dicts, k, list_of_params)\n",
    "    end\n",
    "    return dicts\n",
    "end"
   ]
  },
  {
   "cell_type": "code",
   "execution_count": 344,
   "metadata": {},
   "outputs": [
    {
     "name": "stdout",
     "output_type": "stream",
     "text": [
      "[\"use_external_reward\"]\n"
     ]
    },
    {
     "data": {
      "text/plain": [
       "2-element Array{Any,1}:\n",
       " Dict{Any,Any}(\"use_external_reward\" => false)\n",
       " Dict{Any,Any}(\"use_external_reward\" => true)"
      ]
     },
     "execution_count": 344,
     "metadata": {},
     "output_type": "execute_result"
    }
   ],
   "source": [
    "algo_divisor_keys = [\"use_external_reward\"]\n",
    "# algo_divisor_keys = [\"use_external_reward\",\"demon_learner\"]\n",
    "algo_divisors = split_algo(ic, algo_divisor_keys)"
   ]
  },
  {
   "cell_type": "code",
   "execution_count": 345,
   "metadata": {},
   "outputs": [
    {
     "name": "stdout",
     "output_type": "stream",
     "text": [
      "[\"behaviour_alpha\", \"demon_alpha\"]\n"
     ]
    },
    {
     "data": {
      "text/plain": [
       "6-element Array{Any,1}:\n",
       " Dict{Any,Any}(\"behaviour_alpha\" => 0.03125,\"demon_alpha\" => 0.03125)\n",
       " Dict{Any,Any}(\"behaviour_alpha\" => 0.03125,\"demon_alpha\" => 0.0625)\n",
       " Dict{Any,Any}(\"behaviour_alpha\" => 0.03125,\"demon_alpha\" => 0.125)\n",
       " Dict{Any,Any}(\"behaviour_alpha\" => 0.0625,\"demon_alpha\" => 0.03125)\n",
       " Dict{Any,Any}(\"behaviour_alpha\" => 0.0625,\"demon_alpha\" => 0.0625)\n",
       " Dict{Any,Any}(\"behaviour_alpha\" => 0.0625,\"demon_alpha\" => 0.125)"
      ]
     },
     "execution_count": 345,
     "metadata": {},
     "output_type": "execute_result"
    }
   ],
   "source": [
    "sweep_keys = [\"behaviour_alpha\",\"demon_alpha\"]\n",
    "sweep_divisors = split_algo(ic,sweep_keys)"
   ]
  },
  {
   "cell_type": "code",
   "execution_count": 346,
   "metadata": {},
   "outputs": [
    {
     "data": {
      "text/plain": [
       "get_best (generic function with 1 method)"
      ]
     },
     "execution_count": 346,
     "metadata": {},
     "output_type": "execute_result"
    }
   ],
   "source": [
    "function get_best(ic, sweep_params, metric)\n",
    "    splits = split_algo(ic,sweep_params)\n",
    "    errors = ones(length(splits)) * Inf\n",
    "    for (ind, split) in enumerate(splits)\n",
    "        res = load_results(search(ic, split), metric)\n",
    "        error = mean(res)\n",
    "        errors[ind] = error\n",
    "    end\n",
    "    low_err, low_err_ind = findmin(errors)\n",
    "    \n",
    "    return search(ic, splits[low_err_ind])\n",
    "end"
   ]
  },
  {
   "cell_type": "code",
   "execution_count": 347,
   "metadata": {},
   "outputs": [
    {
     "data": {
      "text/plain": [
       "get_stats (generic function with 1 method)"
      ]
     },
     "execution_count": 347,
     "metadata": {},
     "output_type": "execute_result"
    }
   ],
   "source": [
    "function get_stats(data;per_gvf=false)\n",
    "    mean_per_gvf, std_per_gvf = mean(data,dims=3)[:,:,1], std(data,dims=3)[:,:,1]\n",
    "    return a,b = if per_gvf == true\n",
    "        mean_per_gvf, std_per_gvf\n",
    "    else\n",
    "        mean(mean_per_gvf,dims=1)[1,:], mean(std_per_gvf,dims=1)[1,:]\n",
    "    end\n",
    "end"
   ]
  },
  {
   "cell_type": "code",
   "execution_count": 375,
   "metadata": {
    "scrolled": true
   },
   "outputs": [
    {
     "name": "stdout",
     "output_type": "stream",
     "text": [
      "[\"behaviour_alpha\", \"demon_alpha\", \"demon_alpha_init\"]\n",
      "[\"behaviour_alpha\", \"demon_alpha\", \"demon_alpha_init\"]\n"
     ]
    },
    {
     "data": {
      "text/plain": [
       "2-element Array{ItemCollection,1}:\n",
       " ItemCollection(Reproduce.Item[Reproduce.Item(\"../MountainCarAlphaInitSweep/data/RP_0_0x113026feee729f3b\", Dict{String,Any}(\"steps\" => 100000,\"demon_alpha\" => 0.0625,\"use_external_reward\" => false,\"_GIT_INFO\" => \"0\",\"save_keys\" => [\"demon_learner\", \"runs\", \"demon_alpha\", \"behaviour_alpha\", \"use_external_reward\", \"demon_alpha_init\"],\"numtilings\" => 8,\"demon_learner\" => \"TBAuto\",\"behaviour_alpha\" => 0.0625,\"numtiles\" => 8,\"exploring_starts\" => true…), [\"demon_learner\", \"logger_keys\", \"behaviour_gamma\", \"steps\", \"behaviour_learner\", \"behaviour_alpha\", \"numtiles\", \"behaviour_trace\", \"save_dir\", \"demon_alpha\", \"use_external_reward\", \"demon_alpha_init\", \"exploring_starts\", \"lambda\", \"save_keys\", \"runs\", \"seed\", \"numtilings\", \"intrinsic_reward\", \"demon_policy_type\"]), Reproduce.Item(\"../MountainCarAlphaInitSweep/data/RP_0_0x119015a68ccfee4a\", Dict{String,Any}(\"steps\" => 100000,\"demon_alpha\" => 0.0625,\"use_external_reward\" => false,\"_GIT_INFO\" => \"0\",\"save_keys\" => [\"demon_learner\", \"runs\", \"demon_alpha\", \"behaviour_alpha\", \"use_external_reward\", \"demon_alpha_init\"],\"numtilings\" => 8,\"demon_learner\" => \"TBAuto\",\"behaviour_alpha\" => 0.0625,\"numtiles\" => 8,\"exploring_starts\" => true…), [\"demon_learner\", \"logger_keys\", \"behaviour_gamma\", \"steps\", \"behaviour_learner\", \"behaviour_alpha\", \"numtiles\", \"behaviour_trace\", \"save_dir\", \"demon_alpha\", \"use_external_reward\", \"demon_alpha_init\", \"exploring_starts\", \"lambda\", \"save_keys\", \"runs\", \"seed\", \"numtilings\", \"intrinsic_reward\", \"demon_policy_type\"]), Reproduce.Item(\"../MountainCarAlphaInitSweep/data/RP_0_0x23dff5e5c2bf9017\", Dict{String,Any}(\"steps\" => 100000,\"demon_alpha\" => 0.0625,\"use_external_reward\" => false,\"_GIT_INFO\" => \"0\",\"save_keys\" => [\"demon_learner\", \"runs\", \"demon_alpha\", \"behaviour_alpha\", \"use_external_reward\", \"demon_alpha_init\"],\"numtilings\" => 8,\"demon_learner\" => \"TBAuto\",\"behaviour_alpha\" => 0.0625,\"numtiles\" => 8,\"exploring_starts\" => true…), [\"demon_learner\", \"logger_keys\", \"behaviour_gamma\", \"steps\", \"behaviour_learner\", \"behaviour_alpha\", \"numtiles\", \"behaviour_trace\", \"save_dir\", \"demon_alpha\", \"use_external_reward\", \"demon_alpha_init\", \"exploring_starts\", \"lambda\", \"save_keys\", \"runs\", \"seed\", \"numtilings\", \"intrinsic_reward\", \"demon_policy_type\"]), Reproduce.Item(\"../MountainCarAlphaInitSweep/data/RP_0_0x4900f4f75b0bba9c\", Dict{String,Any}(\"steps\" => 100000,\"demon_alpha\" => 0.0625,\"use_external_reward\" => false,\"_GIT_INFO\" => \"0\",\"save_keys\" => [\"demon_learner\", \"runs\", \"demon_alpha\", \"behaviour_alpha\", \"use_external_reward\", \"demon_alpha_init\"],\"numtilings\" => 8,\"demon_learner\" => \"TBAuto\",\"behaviour_alpha\" => 0.0625,\"numtiles\" => 8,\"exploring_starts\" => true…), [\"demon_learner\", \"logger_keys\", \"behaviour_gamma\", \"steps\", \"behaviour_learner\", \"behaviour_alpha\", \"numtiles\", \"behaviour_trace\", \"save_dir\", \"demon_alpha\", \"use_external_reward\", \"demon_alpha_init\", \"exploring_starts\", \"lambda\", \"save_keys\", \"runs\", \"seed\", \"numtilings\", \"intrinsic_reward\", \"demon_policy_type\"]), Reproduce.Item(\"../MountainCarAlphaInitSweep/data/RP_0_0x49656048dcb1042\", Dict{String,Any}(\"steps\" => 100000,\"demon_alpha\" => 0.0625,\"use_external_reward\" => false,\"_GIT_INFO\" => \"0\",\"save_keys\" => [\"demon_learner\", \"runs\", \"demon_alpha\", \"behaviour_alpha\", \"use_external_reward\", \"demon_alpha_init\"],\"numtilings\" => 8,\"demon_learner\" => \"TBAuto\",\"behaviour_alpha\" => 0.0625,\"numtiles\" => 8,\"exploring_starts\" => true…), [\"demon_learner\", \"logger_keys\", \"behaviour_gamma\", \"steps\", \"behaviour_learner\", \"behaviour_alpha\", \"numtiles\", \"behaviour_trace\", \"save_dir\", \"demon_alpha\", \"use_external_reward\", \"demon_alpha_init\", \"exploring_starts\", \"lambda\", \"save_keys\", \"runs\", \"seed\", \"numtilings\", \"intrinsic_reward\", \"demon_policy_type\"]), Reproduce.Item(\"../MountainCarAlphaInitSweep/data/RP_0_0x4a0eff38fcca63d0\", Dict{String,Any}(\"steps\" => 100000,\"demon_alpha\" => 0.0625,\"use_external_reward\" => false,\"_GIT_INFO\" => \"0\",\"save_keys\" => [\"demon_learner\", \"runs\", \"demon_alpha\", \"behaviour_alpha\", \"use_external_reward\", \"demon_alpha_init\"],\"numtilings\" => 8,\"demon_learner\" => \"TBAuto\",\"behaviour_alpha\" => 0.0625,\"numtiles\" => 8,\"exploring_starts\" => true…), [\"demon_learner\", \"logger_keys\", \"behaviour_gamma\", \"steps\", \"behaviour_learner\", \"behaviour_alpha\", \"numtiles\", \"behaviour_trace\", \"save_dir\", \"demon_alpha\", \"use_external_reward\", \"demon_alpha_init\", \"exploring_starts\", \"lambda\", \"save_keys\", \"runs\", \"seed\", \"numtilings\", \"intrinsic_reward\", \"demon_policy_type\"]), Reproduce.Item(\"../MountainCarAlphaInitSweep/data/RP_0_0x4f97ff8fe43c323a\", Dict{String,Any}(\"steps\" => 100000,\"demon_alpha\" => 0.0625,\"use_external_reward\" => false,\"_GIT_INFO\" => \"0\",\"save_keys\" => [\"demon_learner\", \"runs\", \"demon_alpha\", \"behaviour_alpha\", \"use_external_reward\", \"demon_alpha_init\"],\"numtilings\" => 8,\"demon_learner\" => \"TBAuto\",\"behaviour_alpha\" => 0.0625,\"numtiles\" => 8,\"exploring_starts\" => true…), [\"demon_learner\", \"logger_keys\", \"behaviour_gamma\", \"steps\", \"behaviour_learner\", \"behaviour_alpha\", \"numtiles\", \"behaviour_trace\", \"save_dir\", \"demon_alpha\", \"use_external_reward\", \"demon_alpha_init\", \"exploring_starts\", \"lambda\", \"save_keys\", \"runs\", \"seed\", \"numtilings\", \"intrinsic_reward\", \"demon_policy_type\"]), Reproduce.Item(\"../MountainCarAlphaInitSweep/data/RP_0_0x5af482ddb01bf53f\", Dict{String,Any}(\"steps\" => 100000,\"demon_alpha\" => 0.0625,\"use_external_reward\" => false,\"_GIT_INFO\" => \"0\",\"save_keys\" => [\"demon_learner\", \"runs\", \"demon_alpha\", \"behaviour_alpha\", \"use_external_reward\", \"demon_alpha_init\"],\"numtilings\" => 8,\"demon_learner\" => \"TBAuto\",\"behaviour_alpha\" => 0.0625,\"numtiles\" => 8,\"exploring_starts\" => true…), [\"demon_learner\", \"logger_keys\", \"behaviour_gamma\", \"steps\", \"behaviour_learner\", \"behaviour_alpha\", \"numtiles\", \"behaviour_trace\", \"save_dir\", \"demon_alpha\", \"use_external_reward\", \"demon_alpha_init\", \"exploring_starts\", \"lambda\", \"save_keys\", \"runs\", \"seed\", \"numtilings\", \"intrinsic_reward\", \"demon_policy_type\"]), Reproduce.Item(\"../MountainCarAlphaInitSweep/data/RP_0_0x5b5f5eaf2e452d97\", Dict{String,Any}(\"steps\" => 100000,\"demon_alpha\" => 0.0625,\"use_external_reward\" => false,\"_GIT_INFO\" => \"0\",\"save_keys\" => [\"demon_learner\", \"runs\", \"demon_alpha\", \"behaviour_alpha\", \"use_external_reward\", \"demon_alpha_init\"],\"numtilings\" => 8,\"demon_learner\" => \"TBAuto\",\"behaviour_alpha\" => 0.0625,\"numtiles\" => 8,\"exploring_starts\" => true…), [\"demon_learner\", \"logger_keys\", \"behaviour_gamma\", \"steps\", \"behaviour_learner\", \"behaviour_alpha\", \"numtiles\", \"behaviour_trace\", \"save_dir\", \"demon_alpha\", \"use_external_reward\", \"demon_alpha_init\", \"exploring_starts\", \"lambda\", \"save_keys\", \"runs\", \"seed\", \"numtilings\", \"intrinsic_reward\", \"demon_policy_type\"]), Reproduce.Item(\"../MountainCarAlphaInitSweep/data/RP_0_0x6ab0e979df9d5d6b\", Dict{String,Any}(\"steps\" => 100000,\"demon_alpha\" => 0.0625,\"use_external_reward\" => false,\"_GIT_INFO\" => \"0\",\"save_keys\" => [\"demon_learner\", \"runs\", \"demon_alpha\", \"behaviour_alpha\", \"use_external_reward\", \"demon_alpha_init\"],\"numtilings\" => 8,\"demon_learner\" => \"TBAuto\",\"behaviour_alpha\" => 0.0625,\"numtiles\" => 8,\"exploring_starts\" => true…), [\"demon_learner\", \"logger_keys\", \"behaviour_gamma\", \"steps\", \"behaviour_learner\", \"behaviour_alpha\", \"numtiles\", \"behaviour_trace\", \"save_dir\", \"demon_alpha\", \"use_external_reward\", \"demon_alpha_init\", \"exploring_starts\", \"lambda\", \"save_keys\", \"runs\", \"seed\", \"numtilings\", \"intrinsic_reward\", \"demon_policy_type\"])  …  Reproduce.Item(\"../MountainCarAlphaInitSweep/data/RP_0_0xa2a3a352f4f03570\", Dict{String,Any}(\"steps\" => 100000,\"demon_alpha\" => 0.0625,\"use_external_reward\" => false,\"_GIT_INFO\" => \"0\",\"save_keys\" => [\"demon_learner\", \"runs\", \"demon_alpha\", \"behaviour_alpha\", \"use_external_reward\", \"demon_alpha_init\"],\"numtilings\" => 8,\"demon_learner\" => \"TBAuto\",\"behaviour_alpha\" => 0.0625,\"numtiles\" => 8,\"exploring_starts\" => true…), [\"demon_learner\", \"logger_keys\", \"behaviour_gamma\", \"steps\", \"behaviour_learner\", \"behaviour_alpha\", \"numtiles\", \"behaviour_trace\", \"save_dir\", \"demon_alpha\", \"use_external_reward\", \"demon_alpha_init\", \"exploring_starts\", \"lambda\", \"save_keys\", \"runs\", \"seed\", \"numtilings\", \"intrinsic_reward\", \"demon_policy_type\"]), Reproduce.Item(\"../MountainCarAlphaInitSweep/data/RP_0_0xaaa4daa7a7282ed4\", Dict{String,Any}(\"steps\" => 100000,\"demon_alpha\" => 0.0625,\"use_external_reward\" => false,\"_GIT_INFO\" => \"0\",\"save_keys\" => [\"demon_learner\", \"runs\", \"demon_alpha\", \"behaviour_alpha\", \"use_external_reward\", \"demon_alpha_init\"],\"numtilings\" => 8,\"demon_learner\" => \"TBAuto\",\"behaviour_alpha\" => 0.0625,\"numtiles\" => 8,\"exploring_starts\" => true…), [\"demon_learner\", \"logger_keys\", \"behaviour_gamma\", \"steps\", \"behaviour_learner\", \"behaviour_alpha\", \"numtiles\", \"behaviour_trace\", \"save_dir\", \"demon_alpha\", \"use_external_reward\", \"demon_alpha_init\", \"exploring_starts\", \"lambda\", \"save_keys\", \"runs\", \"seed\", \"numtilings\", \"intrinsic_reward\", \"demon_policy_type\"]), Reproduce.Item(\"../MountainCarAlphaInitSweep/data/RP_0_0xaea0a7d756b6490f\", Dict{String,Any}(\"steps\" => 100000,\"demon_alpha\" => 0.0625,\"use_external_reward\" => false,\"_GIT_INFO\" => \"0\",\"save_keys\" => [\"demon_learner\", \"runs\", \"demon_alpha\", \"behaviour_alpha\", \"use_external_reward\", \"demon_alpha_init\"],\"numtilings\" => 8,\"demon_learner\" => \"TBAuto\",\"behaviour_alpha\" => 0.0625,\"numtiles\" => 8,\"exploring_starts\" => true…), [\"demon_learner\", \"logger_keys\", \"behaviour_gamma\", \"steps\", \"behaviour_learner\", \"behaviour_alpha\", \"numtiles\", \"behaviour_trace\", \"save_dir\", \"demon_alpha\", \"use_external_reward\", \"demon_alpha_init\", \"exploring_starts\", \"lambda\", \"save_keys\", \"runs\", \"seed\", \"numtilings\", \"intrinsic_reward\", \"demon_policy_type\"]), Reproduce.Item(\"../MountainCarAlphaInitSweep/data/RP_0_0xb6e8869d5cf35de2\", Dict{String,Any}(\"steps\" => 100000,\"demon_alpha\" => 0.0625,\"use_external_reward\" => false,\"_GIT_INFO\" => \"0\",\"save_keys\" => [\"demon_learner\", \"runs\", \"demon_alpha\", \"behaviour_alpha\", \"use_external_reward\", \"demon_alpha_init\"],\"numtilings\" => 8,\"demon_learner\" => \"TBAuto\",\"behaviour_alpha\" => 0.0625,\"numtiles\" => 8,\"exploring_starts\" => true…), [\"demon_learner\", \"logger_keys\", \"behaviour_gamma\", \"steps\", \"behaviour_learner\", \"behaviour_alpha\", \"numtiles\", \"behaviour_trace\", \"save_dir\", \"demon_alpha\", \"use_external_reward\", \"demon_alpha_init\", \"exploring_starts\", \"lambda\", \"save_keys\", \"runs\", \"seed\", \"numtilings\", \"intrinsic_reward\", \"demon_policy_type\"]), Reproduce.Item(\"../MountainCarAlphaInitSweep/data/RP_0_0xb926e560bd24b71f\", Dict{String,Any}(\"steps\" => 100000,\"demon_alpha\" => 0.0625,\"use_external_reward\" => false,\"_GIT_INFO\" => \"0\",\"save_keys\" => [\"demon_learner\", \"runs\", \"demon_alpha\", \"behaviour_alpha\", \"use_external_reward\", \"demon_alpha_init\"],\"numtilings\" => 8,\"demon_learner\" => \"TBAuto\",\"behaviour_alpha\" => 0.0625,\"numtiles\" => 8,\"exploring_starts\" => true…), [\"demon_learner\", \"logger_keys\", \"behaviour_gamma\", \"steps\", \"behaviour_learner\", \"behaviour_alpha\", \"numtiles\", \"behaviour_trace\", \"save_dir\", \"demon_alpha\", \"use_external_reward\", \"demon_alpha_init\", \"exploring_starts\", \"lambda\", \"save_keys\", \"runs\", \"seed\", \"numtilings\", \"intrinsic_reward\", \"demon_policy_type\"]), Reproduce.Item(\"../MountainCarAlphaInitSweep/data/RP_0_0xcd9d1fad2af45282\", Dict{String,Any}(\"steps\" => 100000,\"demon_alpha\" => 0.0625,\"use_external_reward\" => false,\"_GIT_INFO\" => \"0\",\"save_keys\" => [\"demon_learner\", \"runs\", \"demon_alpha\", \"behaviour_alpha\", \"use_external_reward\", \"demon_alpha_init\"],\"numtilings\" => 8,\"demon_learner\" => \"TBAuto\",\"behaviour_alpha\" => 0.0625,\"numtiles\" => 8,\"exploring_starts\" => true…), [\"demon_learner\", \"logger_keys\", \"behaviour_gamma\", \"steps\", \"behaviour_learner\", \"behaviour_alpha\", \"numtiles\", \"behaviour_trace\", \"save_dir\", \"demon_alpha\", \"use_external_reward\", \"demon_alpha_init\", \"exploring_starts\", \"lambda\", \"save_keys\", \"runs\", \"seed\", \"numtilings\", \"intrinsic_reward\", \"demon_policy_type\"]), Reproduce.Item(\"../MountainCarAlphaInitSweep/data/RP_0_0xe05ae58ec14d089f\", Dict{String,Any}(\"steps\" => 100000,\"demon_alpha\" => 0.0625,\"use_external_reward\" => false,\"_GIT_INFO\" => \"0\",\"save_keys\" => [\"demon_learner\", \"runs\", \"demon_alpha\", \"behaviour_alpha\", \"use_external_reward\", \"demon_alpha_init\"],\"numtilings\" => 8,\"demon_learner\" => \"TBAuto\",\"behaviour_alpha\" => 0.0625,\"numtiles\" => 8,\"exploring_starts\" => true…), [\"demon_learner\", \"logger_keys\", \"behaviour_gamma\", \"steps\", \"behaviour_learner\", \"behaviour_alpha\", \"numtiles\", \"behaviour_trace\", \"save_dir\", \"demon_alpha\", \"use_external_reward\", \"demon_alpha_init\", \"exploring_starts\", \"lambda\", \"save_keys\", \"runs\", \"seed\", \"numtilings\", \"intrinsic_reward\", \"demon_policy_type\"]), Reproduce.Item(\"../MountainCarAlphaInitSweep/data/RP_0_0xe163d558c39e54b8\", Dict{String,Any}(\"steps\" => 100000,\"demon_alpha\" => 0.0625,\"use_external_reward\" => false,\"_GIT_INFO\" => \"0\",\"save_keys\" => [\"demon_learner\", \"runs\", \"demon_alpha\", \"behaviour_alpha\", \"use_external_reward\", \"demon_alpha_init\"],\"numtilings\" => 8,\"demon_learner\" => \"TBAuto\",\"behaviour_alpha\" => 0.0625,\"numtiles\" => 8,\"exploring_starts\" => true…), [\"demon_learner\", \"logger_keys\", \"behaviour_gamma\", \"steps\", \"behaviour_learner\", \"behaviour_alpha\", \"numtiles\", \"behaviour_trace\", \"save_dir\", \"demon_alpha\", \"use_external_reward\", \"demon_alpha_init\", \"exploring_starts\", \"lambda\", \"save_keys\", \"runs\", \"seed\", \"numtilings\", \"intrinsic_reward\", \"demon_policy_type\"]), Reproduce.Item(\"../MountainCarAlphaInitSweep/data/RP_0_0xed0281c536004c17\", Dict{String,Any}(\"steps\" => 100000,\"demon_alpha\" => 0.0625,\"use_external_reward\" => false,\"_GIT_INFO\" => \"0\",\"save_keys\" => [\"demon_learner\", \"runs\", \"demon_alpha\", \"behaviour_alpha\", \"use_external_reward\", \"demon_alpha_init\"],\"numtilings\" => 8,\"demon_learner\" => \"TBAuto\",\"behaviour_alpha\" => 0.0625,\"numtiles\" => 8,\"exploring_starts\" => true…), [\"demon_learner\", \"logger_keys\", \"behaviour_gamma\", \"steps\", \"behaviour_learner\", \"behaviour_alpha\", \"numtiles\", \"behaviour_trace\", \"save_dir\", \"demon_alpha\", \"use_external_reward\", \"demon_alpha_init\", \"exploring_starts\", \"lambda\", \"save_keys\", \"runs\", \"seed\", \"numtilings\", \"intrinsic_reward\", \"demon_policy_type\"]), Reproduce.Item(\"../MountainCarAlphaInitSweep/data/RP_0_0xf25862383ace4287\", Dict{String,Any}(\"steps\" => 100000,\"demon_alpha\" => 0.0625,\"use_external_reward\" => false,\"_GIT_INFO\" => \"0\",\"save_keys\" => [\"demon_learner\", \"runs\", \"demon_alpha\", \"behaviour_alpha\", \"use_external_reward\", \"demon_alpha_init\"],\"numtilings\" => 8,\"demon_learner\" => \"TBAuto\",\"behaviour_alpha\" => 0.0625,\"numtiles\" => 8,\"exploring_starts\" => true…), [\"demon_learner\", \"logger_keys\", \"behaviour_gamma\", \"steps\", \"behaviour_learner\", \"behaviour_alpha\", \"numtiles\", \"behaviour_trace\", \"save_dir\", \"demon_alpha\", \"use_external_reward\", \"demon_alpha_init\", \"exploring_starts\", \"lambda\", \"save_keys\", \"runs\", \"seed\", \"numtilings\", \"intrinsic_reward\", \"demon_policy_type\"])], 0x0000000000000000)\n",
       " ItemCollection(Reproduce.Item[Reproduce.Item(\"../MountainCarAlphaInitSweep/data/RP_0_0x1477f007eb8ede4c\", Dict{String,Any}(\"steps\" => 100000,\"demon_alpha\" => 0.125,\"use_external_reward\" => true,\"_GIT_INFO\" => \"0\",\"save_keys\" => [\"demon_learner\", \"runs\", \"demon_alpha\", \"behaviour_alpha\", \"use_external_reward\", \"demon_alpha_init\"],\"numtilings\" => 8,\"demon_learner\" => \"TBAuto\",\"behaviour_alpha\" => 0.0625,\"numtiles\" => 8,\"exploring_starts\" => true…), [\"demon_learner\", \"logger_keys\", \"behaviour_gamma\", \"steps\", \"behaviour_learner\", \"behaviour_alpha\", \"numtiles\", \"behaviour_trace\", \"save_dir\", \"demon_alpha\", \"use_external_reward\", \"demon_alpha_init\", \"exploring_starts\", \"lambda\", \"save_keys\", \"runs\", \"seed\", \"numtilings\", \"intrinsic_reward\", \"demon_policy_type\"]), Reproduce.Item(\"../MountainCarAlphaInitSweep/data/RP_0_0x1590ccc3599964f4\", Dict{String,Any}(\"steps\" => 100000,\"demon_alpha\" => 0.125,\"use_external_reward\" => true,\"_GIT_INFO\" => \"0\",\"save_keys\" => [\"demon_learner\", \"runs\", \"demon_alpha\", \"behaviour_alpha\", \"use_external_reward\", \"demon_alpha_init\"],\"numtilings\" => 8,\"demon_learner\" => \"TBAuto\",\"behaviour_alpha\" => 0.0625,\"numtiles\" => 8,\"exploring_starts\" => true…), [\"demon_learner\", \"logger_keys\", \"behaviour_gamma\", \"steps\", \"behaviour_learner\", \"behaviour_alpha\", \"numtiles\", \"behaviour_trace\", \"save_dir\", \"demon_alpha\", \"use_external_reward\", \"demon_alpha_init\", \"exploring_starts\", \"lambda\", \"save_keys\", \"runs\", \"seed\", \"numtilings\", \"intrinsic_reward\", \"demon_policy_type\"]), Reproduce.Item(\"../MountainCarAlphaInitSweep/data/RP_0_0x21f7edccaae7882d\", Dict{String,Any}(\"steps\" => 100000,\"demon_alpha\" => 0.125,\"use_external_reward\" => true,\"_GIT_INFO\" => \"0\",\"save_keys\" => [\"demon_learner\", \"runs\", \"demon_alpha\", \"behaviour_alpha\", \"use_external_reward\", \"demon_alpha_init\"],\"numtilings\" => 8,\"demon_learner\" => \"TBAuto\",\"behaviour_alpha\" => 0.0625,\"numtiles\" => 8,\"exploring_starts\" => true…), [\"demon_learner\", \"logger_keys\", \"behaviour_gamma\", \"steps\", \"behaviour_learner\", \"behaviour_alpha\", \"numtiles\", \"behaviour_trace\", \"save_dir\", \"demon_alpha\", \"use_external_reward\", \"demon_alpha_init\", \"exploring_starts\", \"lambda\", \"save_keys\", \"runs\", \"seed\", \"numtilings\", \"intrinsic_reward\", \"demon_policy_type\"]), Reproduce.Item(\"../MountainCarAlphaInitSweep/data/RP_0_0x226ef11063c6a858\", Dict{String,Any}(\"steps\" => 100000,\"demon_alpha\" => 0.125,\"use_external_reward\" => true,\"_GIT_INFO\" => \"0\",\"save_keys\" => [\"demon_learner\", \"runs\", \"demon_alpha\", \"behaviour_alpha\", \"use_external_reward\", \"demon_alpha_init\"],\"numtilings\" => 8,\"demon_learner\" => \"TBAuto\",\"behaviour_alpha\" => 0.0625,\"numtiles\" => 8,\"exploring_starts\" => true…), [\"demon_learner\", \"logger_keys\", \"behaviour_gamma\", \"steps\", \"behaviour_learner\", \"behaviour_alpha\", \"numtiles\", \"behaviour_trace\", \"save_dir\", \"demon_alpha\", \"use_external_reward\", \"demon_alpha_init\", \"exploring_starts\", \"lambda\", \"save_keys\", \"runs\", \"seed\", \"numtilings\", \"intrinsic_reward\", \"demon_policy_type\"]), Reproduce.Item(\"../MountainCarAlphaInitSweep/data/RP_0_0x24b36d0706abfd3f\", Dict{String,Any}(\"steps\" => 100000,\"demon_alpha\" => 0.125,\"use_external_reward\" => true,\"_GIT_INFO\" => \"0\",\"save_keys\" => [\"demon_learner\", \"runs\", \"demon_alpha\", \"behaviour_alpha\", \"use_external_reward\", \"demon_alpha_init\"],\"numtilings\" => 8,\"demon_learner\" => \"TBAuto\",\"behaviour_alpha\" => 0.0625,\"numtiles\" => 8,\"exploring_starts\" => true…), [\"demon_learner\", \"logger_keys\", \"behaviour_gamma\", \"steps\", \"behaviour_learner\", \"behaviour_alpha\", \"numtiles\", \"behaviour_trace\", \"save_dir\", \"demon_alpha\", \"use_external_reward\", \"demon_alpha_init\", \"exploring_starts\", \"lambda\", \"save_keys\", \"runs\", \"seed\", \"numtilings\", \"intrinsic_reward\", \"demon_policy_type\"]), Reproduce.Item(\"../MountainCarAlphaInitSweep/data/RP_0_0x32e2fb8e6534a800\", Dict{String,Any}(\"steps\" => 100000,\"demon_alpha\" => 0.125,\"use_external_reward\" => true,\"_GIT_INFO\" => \"0\",\"save_keys\" => [\"demon_learner\", \"runs\", \"demon_alpha\", \"behaviour_alpha\", \"use_external_reward\", \"demon_alpha_init\"],\"numtilings\" => 8,\"demon_learner\" => \"TBAuto\",\"behaviour_alpha\" => 0.0625,\"numtiles\" => 8,\"exploring_starts\" => true…), [\"demon_learner\", \"logger_keys\", \"behaviour_gamma\", \"steps\", \"behaviour_learner\", \"behaviour_alpha\", \"numtiles\", \"behaviour_trace\", \"save_dir\", \"demon_alpha\", \"use_external_reward\", \"demon_alpha_init\", \"exploring_starts\", \"lambda\", \"save_keys\", \"runs\", \"seed\", \"numtilings\", \"intrinsic_reward\", \"demon_policy_type\"]), Reproduce.Item(\"../MountainCarAlphaInitSweep/data/RP_0_0x3cf1da56be67efee\", Dict{String,Any}(\"steps\" => 100000,\"demon_alpha\" => 0.125,\"use_external_reward\" => true,\"_GIT_INFO\" => \"0\",\"save_keys\" => [\"demon_learner\", \"runs\", \"demon_alpha\", \"behaviour_alpha\", \"use_external_reward\", \"demon_alpha_init\"],\"numtilings\" => 8,\"demon_learner\" => \"TBAuto\",\"behaviour_alpha\" => 0.0625,\"numtiles\" => 8,\"exploring_starts\" => true…), [\"demon_learner\", \"logger_keys\", \"behaviour_gamma\", \"steps\", \"behaviour_learner\", \"behaviour_alpha\", \"numtiles\", \"behaviour_trace\", \"save_dir\", \"demon_alpha\", \"use_external_reward\", \"demon_alpha_init\", \"exploring_starts\", \"lambda\", \"save_keys\", \"runs\", \"seed\", \"numtilings\", \"intrinsic_reward\", \"demon_policy_type\"]), Reproduce.Item(\"../MountainCarAlphaInitSweep/data/RP_0_0x4a24e368d31c71ec\", Dict{String,Any}(\"steps\" => 100000,\"demon_alpha\" => 0.125,\"use_external_reward\" => true,\"_GIT_INFO\" => \"0\",\"save_keys\" => [\"demon_learner\", \"runs\", \"demon_alpha\", \"behaviour_alpha\", \"use_external_reward\", \"demon_alpha_init\"],\"numtilings\" => 8,\"demon_learner\" => \"TBAuto\",\"behaviour_alpha\" => 0.0625,\"numtiles\" => 8,\"exploring_starts\" => true…), [\"demon_learner\", \"logger_keys\", \"behaviour_gamma\", \"steps\", \"behaviour_learner\", \"behaviour_alpha\", \"numtiles\", \"behaviour_trace\", \"save_dir\", \"demon_alpha\", \"use_external_reward\", \"demon_alpha_init\", \"exploring_starts\", \"lambda\", \"save_keys\", \"runs\", \"seed\", \"numtilings\", \"intrinsic_reward\", \"demon_policy_type\"]), Reproduce.Item(\"../MountainCarAlphaInitSweep/data/RP_0_0x53751dd7cec86c5\", Dict{String,Any}(\"steps\" => 100000,\"demon_alpha\" => 0.125,\"use_external_reward\" => true,\"_GIT_INFO\" => \"0\",\"save_keys\" => [\"demon_learner\", \"runs\", \"demon_alpha\", \"behaviour_alpha\", \"use_external_reward\", \"demon_alpha_init\"],\"numtilings\" => 8,\"demon_learner\" => \"TBAuto\",\"behaviour_alpha\" => 0.0625,\"numtiles\" => 8,\"exploring_starts\" => true…), [\"demon_learner\", \"logger_keys\", \"behaviour_gamma\", \"steps\", \"behaviour_learner\", \"behaviour_alpha\", \"numtiles\", \"behaviour_trace\", \"save_dir\", \"demon_alpha\", \"use_external_reward\", \"demon_alpha_init\", \"exploring_starts\", \"lambda\", \"save_keys\", \"runs\", \"seed\", \"numtilings\", \"intrinsic_reward\", \"demon_policy_type\"]), Reproduce.Item(\"../MountainCarAlphaInitSweep/data/RP_0_0x565ce366b2ecc6f1\", Dict{String,Any}(\"steps\" => 100000,\"demon_alpha\" => 0.125,\"use_external_reward\" => true,\"_GIT_INFO\" => \"0\",\"save_keys\" => [\"demon_learner\", \"runs\", \"demon_alpha\", \"behaviour_alpha\", \"use_external_reward\", \"demon_alpha_init\"],\"numtilings\" => 8,\"demon_learner\" => \"TBAuto\",\"behaviour_alpha\" => 0.0625,\"numtiles\" => 8,\"exploring_starts\" => true…), [\"demon_learner\", \"logger_keys\", \"behaviour_gamma\", \"steps\", \"behaviour_learner\", \"behaviour_alpha\", \"numtiles\", \"behaviour_trace\", \"save_dir\", \"demon_alpha\", \"use_external_reward\", \"demon_alpha_init\", \"exploring_starts\", \"lambda\", \"save_keys\", \"runs\", \"seed\", \"numtilings\", \"intrinsic_reward\", \"demon_policy_type\"])  …  Reproduce.Item(\"../MountainCarAlphaInitSweep/data/RP_0_0xb7e336eda0d5348e\", Dict{String,Any}(\"steps\" => 100000,\"demon_alpha\" => 0.125,\"use_external_reward\" => true,\"_GIT_INFO\" => \"0\",\"save_keys\" => [\"demon_learner\", \"runs\", \"demon_alpha\", \"behaviour_alpha\", \"use_external_reward\", \"demon_alpha_init\"],\"numtilings\" => 8,\"demon_learner\" => \"TBAuto\",\"behaviour_alpha\" => 0.0625,\"numtiles\" => 8,\"exploring_starts\" => true…), [\"demon_learner\", \"logger_keys\", \"behaviour_gamma\", \"steps\", \"behaviour_learner\", \"behaviour_alpha\", \"numtiles\", \"behaviour_trace\", \"save_dir\", \"demon_alpha\", \"use_external_reward\", \"demon_alpha_init\", \"exploring_starts\", \"lambda\", \"save_keys\", \"runs\", \"seed\", \"numtilings\", \"intrinsic_reward\", \"demon_policy_type\"]), Reproduce.Item(\"../MountainCarAlphaInitSweep/data/RP_0_0xc870b81b7d89cb11\", Dict{String,Any}(\"steps\" => 100000,\"demon_alpha\" => 0.125,\"use_external_reward\" => true,\"_GIT_INFO\" => \"0\",\"save_keys\" => [\"demon_learner\", \"runs\", \"demon_alpha\", \"behaviour_alpha\", \"use_external_reward\", \"demon_alpha_init\"],\"numtilings\" => 8,\"demon_learner\" => \"TBAuto\",\"behaviour_alpha\" => 0.0625,\"numtiles\" => 8,\"exploring_starts\" => true…), [\"demon_learner\", \"logger_keys\", \"behaviour_gamma\", \"steps\", \"behaviour_learner\", \"behaviour_alpha\", \"numtiles\", \"behaviour_trace\", \"save_dir\", \"demon_alpha\", \"use_external_reward\", \"demon_alpha_init\", \"exploring_starts\", \"lambda\", \"save_keys\", \"runs\", \"seed\", \"numtilings\", \"intrinsic_reward\", \"demon_policy_type\"]), Reproduce.Item(\"../MountainCarAlphaInitSweep/data/RP_0_0xcabffdceb28dcf63\", Dict{String,Any}(\"steps\" => 100000,\"demon_alpha\" => 0.125,\"use_external_reward\" => true,\"_GIT_INFO\" => \"0\",\"save_keys\" => [\"demon_learner\", \"runs\", \"demon_alpha\", \"behaviour_alpha\", \"use_external_reward\", \"demon_alpha_init\"],\"numtilings\" => 8,\"demon_learner\" => \"TBAuto\",\"behaviour_alpha\" => 0.0625,\"numtiles\" => 8,\"exploring_starts\" => true…), [\"demon_learner\", \"logger_keys\", \"behaviour_gamma\", \"steps\", \"behaviour_learner\", \"behaviour_alpha\", \"numtiles\", \"behaviour_trace\", \"save_dir\", \"demon_alpha\", \"use_external_reward\", \"demon_alpha_init\", \"exploring_starts\", \"lambda\", \"save_keys\", \"runs\", \"seed\", \"numtilings\", \"intrinsic_reward\", \"demon_policy_type\"]), Reproduce.Item(\"../MountainCarAlphaInitSweep/data/RP_0_0xd79bcb0ea1ab9e3f\", Dict{String,Any}(\"steps\" => 100000,\"demon_alpha\" => 0.125,\"use_external_reward\" => true,\"_GIT_INFO\" => \"0\",\"save_keys\" => [\"demon_learner\", \"runs\", \"demon_alpha\", \"behaviour_alpha\", \"use_external_reward\", \"demon_alpha_init\"],\"numtilings\" => 8,\"demon_learner\" => \"TBAuto\",\"behaviour_alpha\" => 0.0625,\"numtiles\" => 8,\"exploring_starts\" => true…), [\"demon_learner\", \"logger_keys\", \"behaviour_gamma\", \"steps\", \"behaviour_learner\", \"behaviour_alpha\", \"numtiles\", \"behaviour_trace\", \"save_dir\", \"demon_alpha\", \"use_external_reward\", \"demon_alpha_init\", \"exploring_starts\", \"lambda\", \"save_keys\", \"runs\", \"seed\", \"numtilings\", \"intrinsic_reward\", \"demon_policy_type\"]), Reproduce.Item(\"../MountainCarAlphaInitSweep/data/RP_0_0xe59fd32b5e044f61\", Dict{String,Any}(\"steps\" => 100000,\"demon_alpha\" => 0.125,\"use_external_reward\" => true,\"_GIT_INFO\" => \"0\",\"save_keys\" => [\"demon_learner\", \"runs\", \"demon_alpha\", \"behaviour_alpha\", \"use_external_reward\", \"demon_alpha_init\"],\"numtilings\" => 8,\"demon_learner\" => \"TBAuto\",\"behaviour_alpha\" => 0.0625,\"numtiles\" => 8,\"exploring_starts\" => true…), [\"demon_learner\", \"logger_keys\", \"behaviour_gamma\", \"steps\", \"behaviour_learner\", \"behaviour_alpha\", \"numtiles\", \"behaviour_trace\", \"save_dir\", \"demon_alpha\", \"use_external_reward\", \"demon_alpha_init\", \"exploring_starts\", \"lambda\", \"save_keys\", \"runs\", \"seed\", \"numtilings\", \"intrinsic_reward\", \"demon_policy_type\"]), Reproduce.Item(\"../MountainCarAlphaInitSweep/data/RP_0_0xe5a64cc7808fdfe9\", Dict{String,Any}(\"steps\" => 100000,\"demon_alpha\" => 0.125,\"use_external_reward\" => true,\"_GIT_INFO\" => \"0\",\"save_keys\" => [\"demon_learner\", \"runs\", \"demon_alpha\", \"behaviour_alpha\", \"use_external_reward\", \"demon_alpha_init\"],\"numtilings\" => 8,\"demon_learner\" => \"TBAuto\",\"behaviour_alpha\" => 0.0625,\"numtiles\" => 8,\"exploring_starts\" => true…), [\"demon_learner\", \"logger_keys\", \"behaviour_gamma\", \"steps\", \"behaviour_learner\", \"behaviour_alpha\", \"numtiles\", \"behaviour_trace\", \"save_dir\", \"demon_alpha\", \"use_external_reward\", \"demon_alpha_init\", \"exploring_starts\", \"lambda\", \"save_keys\", \"runs\", \"seed\", \"numtilings\", \"intrinsic_reward\", \"demon_policy_type\"]), Reproduce.Item(\"../MountainCarAlphaInitSweep/data/RP_0_0xe74a6936c95d1c92\", Dict{String,Any}(\"steps\" => 100000,\"demon_alpha\" => 0.125,\"use_external_reward\" => true,\"_GIT_INFO\" => \"0\",\"save_keys\" => [\"demon_learner\", \"runs\", \"demon_alpha\", \"behaviour_alpha\", \"use_external_reward\", \"demon_alpha_init\"],\"numtilings\" => 8,\"demon_learner\" => \"TBAuto\",\"behaviour_alpha\" => 0.0625,\"numtiles\" => 8,\"exploring_starts\" => true…), [\"demon_learner\", \"logger_keys\", \"behaviour_gamma\", \"steps\", \"behaviour_learner\", \"behaviour_alpha\", \"numtiles\", \"behaviour_trace\", \"save_dir\", \"demon_alpha\", \"use_external_reward\", \"demon_alpha_init\", \"exploring_starts\", \"lambda\", \"save_keys\", \"runs\", \"seed\", \"numtilings\", \"intrinsic_reward\", \"demon_policy_type\"]), Reproduce.Item(\"../MountainCarAlphaInitSweep/data/RP_0_0xeec1e3940aa5d8c3\", Dict{String,Any}(\"steps\" => 100000,\"demon_alpha\" => 0.125,\"use_external_reward\" => true,\"_GIT_INFO\" => \"0\",\"save_keys\" => [\"demon_learner\", \"runs\", \"demon_alpha\", \"behaviour_alpha\", \"use_external_reward\", \"demon_alpha_init\"],\"numtilings\" => 8,\"demon_learner\" => \"TBAuto\",\"behaviour_alpha\" => 0.0625,\"numtiles\" => 8,\"exploring_starts\" => true…), [\"demon_learner\", \"logger_keys\", \"behaviour_gamma\", \"steps\", \"behaviour_learner\", \"behaviour_alpha\", \"numtiles\", \"behaviour_trace\", \"save_dir\", \"demon_alpha\", \"use_external_reward\", \"demon_alpha_init\", \"exploring_starts\", \"lambda\", \"save_keys\", \"runs\", \"seed\", \"numtilings\", \"intrinsic_reward\", \"demon_policy_type\"]), Reproduce.Item(\"../MountainCarAlphaInitSweep/data/RP_0_0xf3e136aece7024af\", Dict{String,Any}(\"steps\" => 100000,\"demon_alpha\" => 0.125,\"use_external_reward\" => true,\"_GIT_INFO\" => \"0\",\"save_keys\" => [\"demon_learner\", \"runs\", \"demon_alpha\", \"behaviour_alpha\", \"use_external_reward\", \"demon_alpha_init\"],\"numtilings\" => 8,\"demon_learner\" => \"TBAuto\",\"behaviour_alpha\" => 0.0625,\"numtiles\" => 8,\"exploring_starts\" => true…), [\"demon_learner\", \"logger_keys\", \"behaviour_gamma\", \"steps\", \"behaviour_learner\", \"behaviour_alpha\", \"numtiles\", \"behaviour_trace\", \"save_dir\", \"demon_alpha\", \"use_external_reward\", \"demon_alpha_init\", \"exploring_starts\", \"lambda\", \"save_keys\", \"runs\", \"seed\", \"numtilings\", \"intrinsic_reward\", \"demon_policy_type\"]), Reproduce.Item(\"../MountainCarAlphaInitSweep/data/RP_0_0xf632799e2f6cfa5\", Dict{String,Any}(\"steps\" => 100000,\"demon_alpha\" => 0.125,\"use_external_reward\" => true,\"_GIT_INFO\" => \"0\",\"save_keys\" => [\"demon_learner\", \"runs\", \"demon_alpha\", \"behaviour_alpha\", \"use_external_reward\", \"demon_alpha_init\"],\"numtilings\" => 8,\"demon_learner\" => \"TBAuto\",\"behaviour_alpha\" => 0.0625,\"numtiles\" => 8,\"exploring_starts\" => true…), [\"demon_learner\", \"logger_keys\", \"behaviour_gamma\", \"steps\", \"behaviour_learner\", \"behaviour_alpha\", \"numtiles\", \"behaviour_trace\", \"save_dir\", \"demon_alpha\", \"use_external_reward\", \"demon_alpha_init\", \"exploring_starts\", \"lambda\", \"save_keys\", \"runs\", \"seed\", \"numtilings\", \"intrinsic_reward\", \"demon_policy_type\"])], 0x0000000000000000)"
      ]
     },
     "execution_count": 375,
     "metadata": {},
     "output_type": "execute_result"
    }
   ],
   "source": [
    "algos_ics = [search(ic,algo_divisor) for algo_divisor in algo_divisors]\n",
    "sweep_params = [\"behaviour_alpha\",\"demon_alpha\", \"demon_alpha_init\"]\n",
    "best_per_algo_ics = [get_best(algo_ic,sweep_params, :mc_error) for algo_ic in algos_ics]"
   ]
  },
  {
   "cell_type": "code",
   "execution_count": 377,
   "metadata": {},
   "outputs": [
    {
     "name": "stdout",
     "output_type": "stream",
     "text": [
      "For IC: \n",
      "behaviour_alpha  0.0625\n",
      "demon_alpha  0.0625\n",
      "demon_alpha_init  0.015625\n",
      "use_external_reward  false\n",
      "\n",
      "For IC: \n",
      "behaviour_alpha  0.0625\n",
      "demon_alpha  0.125\n",
      "demon_alpha_init  0.125\n",
      "use_external_reward  true\n",
      "\n"
     ]
    },
    {
     "data": {
      "text/plain": [
       "2-element Array{Nothing,1}:\n",
       " nothing\n",
       " nothing"
      ]
     },
     "execution_count": 377,
     "metadata": {},
     "output_type": "execute_result"
    }
   ],
   "source": [
    "function print_params(ic, algo_params, sweep_params)\n",
    "    println(\"For IC: \")\n",
    "    for p in algo_params\n",
    "        println(p,\"  \", ic[1].parsed_args[p])\n",
    "    end\n",
    "    for p in sweep_params\n",
    "        println(p,\"  \", ic[1].parsed_args[p])\n",
    "    end\n",
    "    println()\n",
    "end\n",
    "\n",
    "\n",
    "[print_params(best_per_algo_ics[i], sweep_params, algo_divisor_keys) for i in 1:length(best_per_algo_ics)]"
   ]
  },
  {
   "cell_type": "code",
   "execution_count": 379,
   "metadata": {},
   "outputs": [
    {
     "name": "stdout",
     "output_type": "stream",
     "text": [
      "[\" behaviour_alpha:0.0625 demon_alpha:0.0625 demon_alpha_init:0.015625\", \" behaviour_alpha:0.0625 demon_alpha:0.125 demon_alpha_init:0.125\"]\n"
     ]
    }
   ],
   "source": [
    "\n",
    "\n",
    "data = [smooth(get_stats(load_results(ic,:mc_error))[1],5) for ic in best_per_algo_ics]\n",
    "data_std = [smooth(get_stats(load_results(ic,:mc_error))[2],5) for ic in best_per_algo_ics]\n",
    "function get_label(ic, label_keys)\n",
    "    label_str = \"\"\n",
    "    for k in label_keys\n",
    "        label_str = string(label_str, \" \",k,\":\", ic.items[1].parsed_args[k])\n",
    "    end\n",
    "    return label_str\n",
    "end\n",
    "labels = [get_label(ic, algo_divisor_keys) for ic in best_per_algo_ics]\n",
    "\n",
    "println([get_label(ic, sweep_params) for ic in best_per_algo_ics])\n"
   ]
  },
  {
   "cell_type": "code",
   "execution_count": 380,
   "metadata": {},
   "outputs": [
    {
     "data": {
      "text/plain": [
       "plot_mc_errors (generic function with 3 methods)"
      ]
     },
     "execution_count": 380,
     "metadata": {},
     "output_type": "execute_result"
    }
   ],
   "source": [
    "function plot_mc_errors(errors,labels; step_increment = 50, data_std = nothing, title = \"\")\n",
    "    num_samples = length(errors[1])\n",
    "    xticks=collect(step_increment:step_increment:num_samples*step_increment)\n",
    "    p = plot(xlabel=\"Steps\", ylabel=\"MSE\", title=title)\n",
    "    for (ind,err) in enumerate(errors)\n",
    "        if isnothing(data_std)\n",
    "            plot!(p,xticks,err,label=labels[ind])\n",
    "        else\n",
    "            plot!(p,xticks,err,label=labels[ind],ribbon=data_std)\n",
    "        end\n",
    "    end\n",
    "    display(p)\n",
    "end\n"
   ]
  },
  {
   "cell_type": "code",
   "execution_count": 381,
   "metadata": {},
   "outputs": [
    {
     "data": {
      "text/plain": [
       "smooth (generic function with 1 method)"
      ]
     },
     "execution_count": 381,
     "metadata": {},
     "output_type": "execute_result"
    }
   ],
   "source": [
    "function smooth(data, k)\n",
    "    smoothed_data = zeros(size(data))\n",
    "    for i = 1:size(data, 1)\n",
    "        if i < k\n",
    "            smoothed_data[i] = mean(data[1:i])\n",
    "        else\n",
    "            smoothed_data[i] = mean(data[i - k + 1:i])\n",
    "        end\n",
    "    end\n",
    "    return smoothed_data\n",
    "end"
   ]
  },
  {
   "cell_type": "code",
   "execution_count": 420,
   "metadata": {},
   "outputs": [
    {
     "data": {
      "image/svg+xml": [
       "<?xml version=\"1.0\" encoding=\"utf-8\"?>\n",
       "<svg xmlns=\"http://www.w3.org/2000/svg\" xmlns:xlink=\"http://www.w3.org/1999/xlink\" width=\"600\" height=\"400\" viewBox=\"0 0 2400 1600\">\n",
       "<defs>\n",
       "  <clipPath id=\"clip410\">\n",
       "    <rect x=\"0\" y=\"0\" width=\"2400\" height=\"1600\"/>\n",
       "  </clipPath>\n",
       "</defs>\n",
       "<path clip-path=\"url(#clip410)\" d=\"\n",
       "M0 1600 L2400 1600 L2400 0 L0 0  Z\n",
       "  \" fill=\"#ffffff\" fill-rule=\"evenodd\" fill-opacity=\"1\"/>\n",
       "<defs>\n",
       "  <clipPath id=\"clip411\">\n",
       "    <rect x=\"480\" y=\"0\" width=\"1681\" height=\"1600\"/>\n",
       "  </clipPath>\n",
       "</defs>\n",
       "<path clip-path=\"url(#clip410)\" d=\"\n",
       "M174.214 1486.45 L2352.76 1486.45 L2352.76 47.2441 L174.214 47.2441  Z\n",
       "  \" fill=\"#ffffff\" fill-rule=\"evenodd\" fill-opacity=\"1\"/>\n",
       "<defs>\n",
       "  <clipPath id=\"clip412\">\n",
       "    <rect x=\"174\" y=\"47\" width=\"2180\" height=\"1440\"/>\n",
       "  </clipPath>\n",
       "</defs>\n",
       "<polyline clip-path=\"url(#clip412)\" style=\"stroke:#000000; stroke-width:2; stroke-opacity:0.1; fill:none\" points=\"\n",
       "  234.843,1486.45 234.843,47.2441 \n",
       "  \"/>\n",
       "<polyline clip-path=\"url(#clip412)\" style=\"stroke:#000000; stroke-width:2; stroke-opacity:0.1; fill:none\" points=\"\n",
       "  748.907,1486.45 748.907,47.2441 \n",
       "  \"/>\n",
       "<polyline clip-path=\"url(#clip412)\" style=\"stroke:#000000; stroke-width:2; stroke-opacity:0.1; fill:none\" points=\"\n",
       "  1262.97,1486.45 1262.97,47.2441 \n",
       "  \"/>\n",
       "<polyline clip-path=\"url(#clip412)\" style=\"stroke:#000000; stroke-width:2; stroke-opacity:0.1; fill:none\" points=\"\n",
       "  1777.03,1486.45 1777.03,47.2441 \n",
       "  \"/>\n",
       "<polyline clip-path=\"url(#clip412)\" style=\"stroke:#000000; stroke-width:2; stroke-opacity:0.1; fill:none\" points=\"\n",
       "  2291.1,1486.45 2291.1,47.2441 \n",
       "  \"/>\n",
       "<polyline clip-path=\"url(#clip410)\" style=\"stroke:#000000; stroke-width:4; stroke-opacity:1; fill:none\" points=\"\n",
       "  174.214,1486.45 2352.76,1486.45 \n",
       "  \"/>\n",
       "<polyline clip-path=\"url(#clip410)\" style=\"stroke:#000000; stroke-width:4; stroke-opacity:1; fill:none\" points=\"\n",
       "  234.843,1486.45 234.843,1469.18 \n",
       "  \"/>\n",
       "<polyline clip-path=\"url(#clip410)\" style=\"stroke:#000000; stroke-width:4; stroke-opacity:1; fill:none\" points=\"\n",
       "  748.907,1486.45 748.907,1469.18 \n",
       "  \"/>\n",
       "<polyline clip-path=\"url(#clip410)\" style=\"stroke:#000000; stroke-width:4; stroke-opacity:1; fill:none\" points=\"\n",
       "  1262.97,1486.45 1262.97,1469.18 \n",
       "  \"/>\n",
       "<polyline clip-path=\"url(#clip410)\" style=\"stroke:#000000; stroke-width:4; stroke-opacity:1; fill:none\" points=\"\n",
       "  1777.03,1486.45 1777.03,1469.18 \n",
       "  \"/>\n",
       "<polyline clip-path=\"url(#clip410)\" style=\"stroke:#000000; stroke-width:4; stroke-opacity:1; fill:none\" points=\"\n",
       "  2291.1,1486.45 2291.1,1469.18 \n",
       "  \"/>\n",
       "<path clip-path=\"url(#clip410)\" d=\"M 0 0 M234.843 1515.64 Q231.232 1515.64 229.403 1519.2 Q227.597 1522.75 227.597 1529.87 Q227.597 1536.98 229.403 1540.55 Q231.232 1544.09 234.843 1544.09 Q238.477 1544.09 240.282 1540.55 Q242.111 1536.98 242.111 1529.87 Q242.111 1522.75 240.282 1519.2 Q238.477 1515.64 234.843 1515.64 M234.843 1511.93 Q240.653 1511.93 243.708 1516.54 Q246.787 1521.12 246.787 1529.87 Q246.787 1538.6 243.708 1543.21 Q240.653 1547.79 234.843 1547.79 Q229.032 1547.79 225.954 1543.21 Q222.898 1538.6 222.898 1529.87 Q222.898 1521.12 225.954 1516.54 Q229.032 1511.93 234.843 1511.93 Z\" fill=\"#000000\" fill-rule=\"evenodd\" fill-opacity=\"1\" /><path clip-path=\"url(#clip410)\" d=\"M 0 0 M712.171 1512.56 L730.527 1512.56 L730.527 1516.5 L716.453 1516.5 L716.453 1524.97 Q717.472 1524.62 718.49 1524.46 Q719.509 1524.27 720.527 1524.27 Q726.314 1524.27 729.694 1527.44 Q733.073 1530.62 733.073 1536.03 Q733.073 1541.61 729.601 1544.71 Q726.129 1547.79 719.81 1547.79 Q717.634 1547.79 715.365 1547.42 Q713.12 1547.05 710.712 1546.31 L710.712 1541.61 Q712.796 1542.74 715.018 1543.3 Q717.24 1543.86 719.717 1543.86 Q723.722 1543.86 726.06 1541.75 Q728.398 1539.64 728.398 1536.03 Q728.398 1532.42 726.06 1530.31 Q723.722 1528.21 719.717 1528.21 Q717.842 1528.21 715.967 1528.62 Q714.115 1529.04 712.171 1529.92 L712.171 1512.56 Z\" fill=\"#000000\" fill-rule=\"evenodd\" fill-opacity=\"1\" /><path clip-path=\"url(#clip410)\" d=\"M 0 0 M748.143 1515.64 Q744.532 1515.64 742.703 1519.2 Q740.897 1522.75 740.897 1529.87 Q740.897 1536.98 742.703 1540.55 Q744.532 1544.09 748.143 1544.09 Q751.777 1544.09 753.583 1540.55 Q755.411 1536.98 755.411 1529.87 Q755.411 1522.75 753.583 1519.2 Q751.777 1515.64 748.143 1515.64 M748.143 1511.93 Q753.953 1511.93 757.009 1516.54 Q760.087 1521.12 760.087 1529.87 Q760.087 1538.6 757.009 1543.21 Q753.953 1547.79 748.143 1547.79 Q742.333 1547.79 739.254 1543.21 Q736.198 1538.6 736.198 1529.87 Q736.198 1521.12 739.254 1516.54 Q742.333 1511.93 748.143 1511.93 Z\" fill=\"#000000\" fill-rule=\"evenodd\" fill-opacity=\"1\" /><path clip-path=\"url(#clip410)\" d=\"M 0 0 M775.157 1515.64 Q771.545 1515.64 769.717 1519.2 Q767.911 1522.75 767.911 1529.87 Q767.911 1536.98 769.717 1540.55 Q771.545 1544.09 775.157 1544.09 Q778.791 1544.09 780.596 1540.55 Q782.425 1536.98 782.425 1529.87 Q782.425 1522.75 780.596 1519.2 Q778.791 1515.64 775.157 1515.64 M775.157 1511.93 Q780.967 1511.93 784.022 1516.54 Q787.101 1521.12 787.101 1529.87 Q787.101 1538.6 784.022 1543.21 Q780.967 1547.79 775.157 1547.79 Q769.346 1547.79 766.268 1543.21 Q763.212 1538.6 763.212 1529.87 Q763.212 1521.12 766.268 1516.54 Q769.346 1511.93 775.157 1511.93 Z\" fill=\"#000000\" fill-rule=\"evenodd\" fill-opacity=\"1\" /><path clip-path=\"url(#clip410)\" d=\"M 0 0 M1212.83 1543.18 L1220.47 1543.18 L1220.47 1516.82 L1212.16 1518.49 L1212.16 1514.23 L1220.42 1512.56 L1225.1 1512.56 L1225.1 1543.18 L1232.74 1543.18 L1232.74 1547.12 L1212.83 1547.12 L1212.83 1543.18 Z\" fill=\"#000000\" fill-rule=\"evenodd\" fill-opacity=\"1\" /><path clip-path=\"url(#clip410)\" d=\"M 0 0 M1247.81 1515.64 Q1244.2 1515.64 1242.37 1519.2 Q1240.56 1522.75 1240.56 1529.87 Q1240.56 1536.98 1242.37 1540.55 Q1244.2 1544.09 1247.81 1544.09 Q1251.44 1544.09 1253.25 1540.55 Q1255.08 1536.98 1255.08 1529.87 Q1255.08 1522.75 1253.25 1519.2 Q1251.44 1515.64 1247.81 1515.64 M1247.81 1511.93 Q1253.62 1511.93 1256.67 1516.54 Q1259.75 1521.12 1259.75 1529.87 Q1259.75 1538.6 1256.67 1543.21 Q1253.62 1547.79 1247.81 1547.79 Q1242 1547.79 1238.92 1543.21 Q1235.86 1538.6 1235.86 1529.87 Q1235.86 1521.12 1238.92 1516.54 Q1242 1511.93 1247.81 1511.93 Z\" fill=\"#000000\" fill-rule=\"evenodd\" fill-opacity=\"1\" /><path clip-path=\"url(#clip410)\" d=\"M 0 0 M1274.82 1515.64 Q1271.21 1515.64 1269.38 1519.2 Q1267.58 1522.75 1267.58 1529.87 Q1267.58 1536.98 1269.38 1540.55 Q1271.21 1544.09 1274.82 1544.09 Q1278.46 1544.09 1280.26 1540.55 Q1282.09 1536.98 1282.09 1529.87 Q1282.09 1522.75 1280.26 1519.2 Q1278.46 1515.64 1274.82 1515.64 M1274.82 1511.93 Q1280.63 1511.93 1283.69 1516.54 Q1286.77 1521.12 1286.77 1529.87 Q1286.77 1538.6 1283.69 1543.21 Q1280.63 1547.79 1274.82 1547.79 Q1269.01 1547.79 1265.93 1543.21 Q1262.88 1538.6 1262.88 1529.87 Q1262.88 1521.12 1265.93 1516.54 Q1269.01 1511.93 1274.82 1511.93 Z\" fill=\"#000000\" fill-rule=\"evenodd\" fill-opacity=\"1\" /><path clip-path=\"url(#clip410)\" d=\"M 0 0 M1301.84 1515.64 Q1298.23 1515.64 1296.4 1519.2 Q1294.59 1522.75 1294.59 1529.87 Q1294.59 1536.98 1296.4 1540.55 Q1298.23 1544.09 1301.84 1544.09 Q1305.47 1544.09 1307.28 1540.55 Q1309.1 1536.98 1309.1 1529.87 Q1309.1 1522.75 1307.28 1519.2 Q1305.47 1515.64 1301.84 1515.64 M1301.84 1511.93 Q1307.65 1511.93 1310.7 1516.54 Q1313.78 1521.12 1313.78 1529.87 Q1313.78 1538.6 1310.7 1543.21 Q1307.65 1547.79 1301.84 1547.79 Q1296.03 1547.79 1292.95 1543.21 Q1289.89 1538.6 1289.89 1529.87 Q1289.89 1521.12 1292.95 1516.54 Q1296.03 1511.93 1301.84 1511.93 Z\" fill=\"#000000\" fill-rule=\"evenodd\" fill-opacity=\"1\" /><path clip-path=\"url(#clip410)\" d=\"M 0 0 M1727.39 1543.18 L1735.03 1543.18 L1735.03 1516.82 L1726.72 1518.49 L1726.72 1514.23 L1734.99 1512.56 L1739.66 1512.56 L1739.66 1543.18 L1747.3 1543.18 L1747.3 1547.12 L1727.39 1547.12 L1727.39 1543.18 Z\" fill=\"#000000\" fill-rule=\"evenodd\" fill-opacity=\"1\" /><path clip-path=\"url(#clip410)\" d=\"M 0 0 M1752.42 1512.56 L1770.77 1512.56 L1770.77 1516.5 L1756.7 1516.5 L1756.7 1524.97 Q1757.72 1524.62 1758.74 1524.46 Q1759.75 1524.27 1760.77 1524.27 Q1766.56 1524.27 1769.94 1527.44 Q1773.32 1530.62 1773.32 1536.03 Q1773.32 1541.61 1769.85 1544.71 Q1766.38 1547.79 1760.06 1547.79 Q1757.88 1547.79 1755.61 1547.42 Q1753.37 1547.05 1750.96 1546.31 L1750.96 1541.61 Q1753.04 1542.74 1755.26 1543.3 Q1757.49 1543.86 1759.96 1543.86 Q1763.97 1543.86 1766.31 1541.75 Q1768.64 1539.64 1768.64 1536.03 Q1768.64 1532.42 1766.31 1530.31 Q1763.97 1528.21 1759.96 1528.21 Q1758.09 1528.21 1756.21 1528.62 Q1754.36 1529.04 1752.42 1529.92 L1752.42 1512.56 Z\" fill=\"#000000\" fill-rule=\"evenodd\" fill-opacity=\"1\" /><path clip-path=\"url(#clip410)\" d=\"M 0 0 M1788.39 1515.64 Q1784.78 1515.64 1782.95 1519.2 Q1781.14 1522.75 1781.14 1529.87 Q1781.14 1536.98 1782.95 1540.55 Q1784.78 1544.09 1788.39 1544.09 Q1792.02 1544.09 1793.83 1540.55 Q1795.66 1536.98 1795.66 1529.87 Q1795.66 1522.75 1793.83 1519.2 Q1792.02 1515.64 1788.39 1515.64 M1788.39 1511.93 Q1794.2 1511.93 1797.25 1516.54 Q1800.33 1521.12 1800.33 1529.87 Q1800.33 1538.6 1797.25 1543.21 Q1794.2 1547.79 1788.39 1547.79 Q1782.58 1547.79 1779.5 1543.21 Q1776.44 1538.6 1776.44 1529.87 Q1776.44 1521.12 1779.5 1516.54 Q1782.58 1511.93 1788.39 1511.93 Z\" fill=\"#000000\" fill-rule=\"evenodd\" fill-opacity=\"1\" /><path clip-path=\"url(#clip410)\" d=\"M 0 0 M1815.4 1515.64 Q1811.79 1515.64 1809.96 1519.2 Q1808.16 1522.75 1808.16 1529.87 Q1808.16 1536.98 1809.96 1540.55 Q1811.79 1544.09 1815.4 1544.09 Q1819.04 1544.09 1820.84 1540.55 Q1822.67 1536.98 1822.67 1529.87 Q1822.67 1522.75 1820.84 1519.2 Q1819.04 1515.64 1815.4 1515.64 M1815.4 1511.93 Q1821.21 1511.93 1824.27 1516.54 Q1827.35 1521.12 1827.35 1529.87 Q1827.35 1538.6 1824.27 1543.21 Q1821.21 1547.79 1815.4 1547.79 Q1809.59 1547.79 1806.51 1543.21 Q1803.46 1538.6 1803.46 1529.87 Q1803.46 1521.12 1806.51 1516.54 Q1809.59 1511.93 1815.4 1511.93 Z\" fill=\"#000000\" fill-rule=\"evenodd\" fill-opacity=\"1\" /><path clip-path=\"url(#clip410)\" d=\"M 0 0 M2245.23 1543.18 L2261.55 1543.18 L2261.55 1547.12 L2239.61 1547.12 L2239.61 1543.18 Q2242.27 1540.43 2246.85 1535.8 Q2251.46 1531.15 2252.64 1529.81 Q2254.88 1527.28 2255.76 1525.55 Q2256.67 1523.79 2256.67 1522.1 Q2256.67 1519.34 2254.72 1517.61 Q2252.8 1515.87 2249.7 1515.87 Q2247.5 1515.87 2245.05 1516.63 Q2242.62 1517.4 2239.84 1518.95 L2239.84 1514.23 Q2242.66 1513.09 2245.12 1512.51 Q2247.57 1511.93 2249.61 1511.93 Q2254.98 1511.93 2258.17 1514.62 Q2261.37 1517.31 2261.37 1521.8 Q2261.37 1523.93 2260.56 1525.85 Q2259.77 1527.74 2257.66 1530.34 Q2257.08 1531.01 2253.98 1534.23 Q2250.88 1537.42 2245.23 1543.18 Z\" fill=\"#000000\" fill-rule=\"evenodd\" fill-opacity=\"1\" /><path clip-path=\"url(#clip410)\" d=\"M 0 0 M2276.62 1515.64 Q2273.01 1515.64 2271.18 1519.2 Q2269.37 1522.75 2269.37 1529.87 Q2269.37 1536.98 2271.18 1540.55 Q2273.01 1544.09 2276.62 1544.09 Q2280.25 1544.09 2282.06 1540.55 Q2283.89 1536.98 2283.89 1529.87 Q2283.89 1522.75 2282.06 1519.2 Q2280.25 1515.64 2276.62 1515.64 M2276.62 1511.93 Q2282.43 1511.93 2285.49 1516.54 Q2288.56 1521.12 2288.56 1529.87 Q2288.56 1538.6 2285.49 1543.21 Q2282.43 1547.79 2276.62 1547.79 Q2270.81 1547.79 2267.73 1543.21 Q2264.68 1538.6 2264.68 1529.87 Q2264.68 1521.12 2267.73 1516.54 Q2270.81 1511.93 2276.62 1511.93 Z\" fill=\"#000000\" fill-rule=\"evenodd\" fill-opacity=\"1\" /><path clip-path=\"url(#clip410)\" d=\"M 0 0 M2303.63 1515.64 Q2300.02 1515.64 2298.19 1519.2 Q2296.39 1522.75 2296.39 1529.87 Q2296.39 1536.98 2298.19 1540.55 Q2300.02 1544.09 2303.63 1544.09 Q2307.27 1544.09 2309.07 1540.55 Q2310.9 1536.98 2310.9 1529.87 Q2310.9 1522.75 2309.07 1519.2 Q2307.27 1515.64 2303.63 1515.64 M2303.63 1511.93 Q2309.44 1511.93 2312.5 1516.54 Q2315.58 1521.12 2315.58 1529.87 Q2315.58 1538.6 2312.5 1543.21 Q2309.44 1547.79 2303.63 1547.79 Q2297.82 1547.79 2294.74 1543.21 Q2291.69 1538.6 2291.69 1529.87 Q2291.69 1521.12 2294.74 1516.54 Q2297.82 1511.93 2303.63 1511.93 Z\" fill=\"#000000\" fill-rule=\"evenodd\" fill-opacity=\"1\" /><path clip-path=\"url(#clip410)\" d=\"M 0 0 M2330.65 1515.64 Q2327.04 1515.64 2325.21 1519.2 Q2323.4 1522.75 2323.4 1529.87 Q2323.4 1536.98 2325.21 1540.55 Q2327.04 1544.09 2330.65 1544.09 Q2334.28 1544.09 2336.09 1540.55 Q2337.92 1536.98 2337.92 1529.87 Q2337.92 1522.75 2336.09 1519.2 Q2334.28 1515.64 2330.65 1515.64 M2330.65 1511.93 Q2336.46 1511.93 2339.51 1516.54 Q2342.59 1521.12 2342.59 1529.87 Q2342.59 1538.6 2339.51 1543.21 Q2336.46 1547.79 2330.65 1547.79 Q2324.84 1547.79 2321.76 1543.21 Q2318.7 1538.6 2318.7 1529.87 Q2318.7 1521.12 2321.76 1516.54 Q2324.84 1511.93 2330.65 1511.93 Z\" fill=\"#000000\" fill-rule=\"evenodd\" fill-opacity=\"1\" /><polyline clip-path=\"url(#clip412)\" style=\"stroke:#000000; stroke-width:2; stroke-opacity:0.1; fill:none\" points=\"\n",
       "  174.214,1292.33 2352.76,1292.33 \n",
       "  \"/>\n",
       "<polyline clip-path=\"url(#clip412)\" style=\"stroke:#000000; stroke-width:2; stroke-opacity:0.1; fill:none\" points=\"\n",
       "  174.214,951.128 2352.76,951.128 \n",
       "  \"/>\n",
       "<polyline clip-path=\"url(#clip412)\" style=\"stroke:#000000; stroke-width:2; stroke-opacity:0.1; fill:none\" points=\"\n",
       "  174.214,609.929 2352.76,609.929 \n",
       "  \"/>\n",
       "<polyline clip-path=\"url(#clip412)\" style=\"stroke:#000000; stroke-width:2; stroke-opacity:0.1; fill:none\" points=\"\n",
       "  174.214,268.73 2352.76,268.73 \n",
       "  \"/>\n",
       "<polyline clip-path=\"url(#clip410)\" style=\"stroke:#000000; stroke-width:4; stroke-opacity:1; fill:none\" points=\"\n",
       "  174.214,1486.45 174.214,47.2441 \n",
       "  \"/>\n",
       "<polyline clip-path=\"url(#clip410)\" style=\"stroke:#000000; stroke-width:4; stroke-opacity:1; fill:none\" points=\"\n",
       "  174.214,1292.33 200.356,1292.33 \n",
       "  \"/>\n",
       "<polyline clip-path=\"url(#clip410)\" style=\"stroke:#000000; stroke-width:4; stroke-opacity:1; fill:none\" points=\"\n",
       "  174.214,951.128 200.356,951.128 \n",
       "  \"/>\n",
       "<polyline clip-path=\"url(#clip410)\" style=\"stroke:#000000; stroke-width:4; stroke-opacity:1; fill:none\" points=\"\n",
       "  174.214,609.929 200.356,609.929 \n",
       "  \"/>\n",
       "<polyline clip-path=\"url(#clip410)\" style=\"stroke:#000000; stroke-width:4; stroke-opacity:1; fill:none\" points=\"\n",
       "  174.214,268.73 200.356,268.73 \n",
       "  \"/>\n",
       "<path clip-path=\"url(#clip410)\" d=\"M 0 0 M64.5106 1278.13 Q60.8995 1278.13 59.0708 1281.69 Q57.2652 1285.23 57.2652 1292.36 Q57.2652 1299.47 59.0708 1303.03 Q60.8995 1306.57 64.5106 1306.57 Q68.1448 1306.57 69.9504 1303.03 Q71.7791 1299.47 71.7791 1292.36 Q71.7791 1285.23 69.9504 1281.69 Q68.1448 1278.13 64.5106 1278.13 M64.5106 1274.42 Q70.3207 1274.42 73.3763 1279.03 Q76.455 1283.61 76.455 1292.36 Q76.455 1301.09 73.3763 1305.69 Q70.3207 1310.28 64.5106 1310.28 Q58.7004 1310.28 55.6217 1305.69 Q52.5662 1301.09 52.5662 1292.36 Q52.5662 1283.61 55.6217 1279.03 Q58.7004 1274.42 64.5106 1274.42 Z\" fill=\"#000000\" fill-rule=\"evenodd\" fill-opacity=\"1\" /><path clip-path=\"url(#clip410)\" d=\"M 0 0 M81.5244 1303.73 L86.4086 1303.73 L86.4086 1309.61 L81.5244 1309.61 L81.5244 1303.73 Z\" fill=\"#000000\" fill-rule=\"evenodd\" fill-opacity=\"1\" /><path clip-path=\"url(#clip410)\" d=\"M 0 0 M92.2882 1305.67 L99.927 1305.67 L99.927 1279.31 L91.6169 1280.97 L91.6169 1276.71 L99.8808 1275.05 L104.557 1275.05 L104.557 1305.67 L112.196 1305.67 L112.196 1309.61 L92.2882 1309.61 L92.2882 1305.67 Z\" fill=\"#000000\" fill-rule=\"evenodd\" fill-opacity=\"1\" /><path clip-path=\"url(#clip410)\" d=\"M 0 0 M117.311 1275.05 L135.668 1275.05 L135.668 1278.98 L121.594 1278.98 L121.594 1287.45 Q122.612 1287.11 123.631 1286.94 Q124.649 1286.76 125.668 1286.76 Q131.455 1286.76 134.834 1289.93 Q138.214 1293.1 138.214 1298.52 Q138.214 1304.1 134.742 1307.2 Q131.269 1310.28 124.95 1310.28 Q122.774 1310.28 120.506 1309.91 Q118.26 1309.54 115.853 1308.8 L115.853 1304.1 Q117.936 1305.23 120.158 1305.79 Q122.381 1306.34 124.857 1306.34 Q128.862 1306.34 131.2 1304.24 Q133.538 1302.13 133.538 1298.52 Q133.538 1294.91 131.2 1292.8 Q128.862 1290.69 124.857 1290.69 Q122.982 1290.69 121.107 1291.11 Q119.256 1291.53 117.311 1292.41 L117.311 1275.05 Z\" fill=\"#000000\" fill-rule=\"evenodd\" fill-opacity=\"1\" /><path clip-path=\"url(#clip410)\" d=\"M 0 0 M63.8856 936.927 Q60.2745 936.927 58.4458 940.491 Q56.6402 944.033 56.6402 951.163 Q56.6402 958.269 58.4458 961.834 Q60.2745 965.376 63.8856 965.376 Q67.5198 965.376 69.3254 961.834 Q71.1541 958.269 71.1541 951.163 Q71.1541 944.033 69.3254 940.491 Q67.5198 936.927 63.8856 936.927 M63.8856 933.223 Q69.6957 933.223 72.7513 937.829 Q75.83 942.413 75.83 951.163 Q75.83 959.89 72.7513 964.496 Q69.6957 969.079 63.8856 969.079 Q58.0754 969.079 54.9967 964.496 Q51.9412 959.89 51.9412 951.163 Q51.9412 942.413 54.9967 937.829 Q58.0754 933.223 63.8856 933.223 Z\" fill=\"#000000\" fill-rule=\"evenodd\" fill-opacity=\"1\" /><path clip-path=\"url(#clip410)\" d=\"M 0 0 M80.8994 962.528 L85.7836 962.528 L85.7836 968.408 L80.8994 968.408 L80.8994 962.528 Z\" fill=\"#000000\" fill-rule=\"evenodd\" fill-opacity=\"1\" /><path clip-path=\"url(#clip410)\" d=\"M 0 0 M94.8808 964.473 L111.2 964.473 L111.2 968.408 L89.2558 968.408 L89.2558 964.473 Q91.9178 961.718 96.5011 957.089 Q101.108 952.436 102.288 951.093 Q104.534 948.57 105.413 946.834 Q106.316 945.075 106.316 943.385 Q106.316 940.63 104.371 938.894 Q102.45 937.158 99.3483 937.158 Q97.1493 937.158 94.6956 937.922 Q92.2651 938.686 89.4873 940.237 L89.4873 935.515 Q92.3113 934.38 94.765 933.802 Q97.2187 933.223 99.2558 933.223 Q104.626 933.223 107.821 935.908 Q111.015 938.593 111.015 943.084 Q111.015 945.214 110.205 947.135 Q109.418 949.033 107.311 951.626 Q106.733 952.297 103.631 955.515 Q100.529 958.709 94.8808 964.473 Z\" fill=\"#000000\" fill-rule=\"evenodd\" fill-opacity=\"1\" /><path clip-path=\"url(#clip410)\" d=\"M 0 0 M126.27 936.927 Q122.658 936.927 120.83 940.491 Q119.024 944.033 119.024 951.163 Q119.024 958.269 120.83 961.834 Q122.658 965.376 126.27 965.376 Q129.904 965.376 131.709 961.834 Q133.538 958.269 133.538 951.163 Q133.538 944.033 131.709 940.491 Q129.904 936.927 126.27 936.927 M126.27 933.223 Q132.08 933.223 135.135 937.829 Q138.214 942.413 138.214 951.163 Q138.214 959.89 135.135 964.496 Q132.08 969.079 126.27 969.079 Q120.459 969.079 117.381 964.496 Q114.325 959.89 114.325 951.163 Q114.325 942.413 117.381 937.829 Q120.459 933.223 126.27 933.223 Z\" fill=\"#000000\" fill-rule=\"evenodd\" fill-opacity=\"1\" /><path clip-path=\"url(#clip410)\" d=\"M 0 0 M64.8809 595.728 Q61.2698 595.728 59.4412 599.293 Q57.6356 602.834 57.6356 609.964 Q57.6356 617.07 59.4412 620.635 Q61.2698 624.177 64.8809 624.177 Q68.5152 624.177 70.3207 620.635 Q72.1494 617.07 72.1494 609.964 Q72.1494 602.834 70.3207 599.293 Q68.5152 595.728 64.8809 595.728 M64.8809 592.024 Q70.6911 592.024 73.7466 596.631 Q76.8253 601.214 76.8253 609.964 Q76.8253 618.691 73.7466 623.297 Q70.6911 627.88 64.8809 627.88 Q59.0708 627.88 55.9921 623.297 Q52.9366 618.691 52.9366 609.964 Q52.9366 601.214 55.9921 596.631 Q59.0708 592.024 64.8809 592.024 Z\" fill=\"#000000\" fill-rule=\"evenodd\" fill-opacity=\"1\" /><path clip-path=\"url(#clip410)\" d=\"M 0 0 M81.8947 621.33 L86.779 621.33 L86.779 627.209 L81.8947 627.209 L81.8947 621.33 Z\" fill=\"#000000\" fill-rule=\"evenodd\" fill-opacity=\"1\" /><path clip-path=\"url(#clip410)\" d=\"M 0 0 M95.8761 623.274 L112.196 623.274 L112.196 627.209 L90.2512 627.209 L90.2512 623.274 Q92.9132 620.519 97.4965 615.89 Q102.103 611.237 103.284 609.894 Q105.529 607.371 106.408 605.635 Q107.311 603.876 107.311 602.186 Q107.311 599.432 105.367 597.695 Q103.446 595.959 100.344 595.959 Q98.1447 595.959 95.691 596.723 Q93.2604 597.487 90.4827 599.038 L90.4827 594.316 Q93.3067 593.182 95.7604 592.603 Q98.2141 592.024 100.251 592.024 Q105.621 592.024 108.816 594.709 Q112.01 597.394 112.01 601.885 Q112.01 604.015 111.2 605.936 Q110.413 607.834 108.307 610.427 Q107.728 611.098 104.626 614.316 Q101.524 617.51 95.8761 623.274 Z\" fill=\"#000000\" fill-rule=\"evenodd\" fill-opacity=\"1\" /><path clip-path=\"url(#clip410)\" d=\"M 0 0 M117.311 592.649 L135.668 592.649 L135.668 596.584 L121.594 596.584 L121.594 605.056 Q122.612 604.709 123.631 604.547 Q124.649 604.362 125.668 604.362 Q131.455 604.362 134.834 607.533 Q138.214 610.705 138.214 616.121 Q138.214 621.7 134.742 624.802 Q131.269 627.88 124.95 627.88 Q122.774 627.88 120.506 627.51 Q118.26 627.14 115.853 626.399 L115.853 621.7 Q117.936 622.834 120.158 623.39 Q122.381 623.945 124.857 623.945 Q128.862 623.945 131.2 621.839 Q133.538 619.732 133.538 616.121 Q133.538 612.51 131.2 610.404 Q128.862 608.297 124.857 608.297 Q122.982 608.297 121.107 608.714 Q119.256 609.131 117.311 610.01 L117.311 592.649 Z\" fill=\"#000000\" fill-rule=\"evenodd\" fill-opacity=\"1\" /><path clip-path=\"url(#clip410)\" d=\"M 0 0 M62.9365 254.529 Q59.3254 254.529 57.4967 258.094 Q55.6912 261.635 55.6912 268.765 Q55.6912 275.871 57.4967 279.436 Q59.3254 282.978 62.9365 282.978 Q66.5707 282.978 68.3763 279.436 Q70.205 275.871 70.205 268.765 Q70.205 261.635 68.3763 258.094 Q66.5707 254.529 62.9365 254.529 M62.9365 250.825 Q68.7467 250.825 71.8022 255.432 Q74.8809 260.015 74.8809 268.765 Q74.8809 277.492 71.8022 282.098 Q68.7467 286.682 62.9365 286.682 Q57.1264 286.682 54.0477 282.098 Q50.9921 277.492 50.9921 268.765 Q50.9921 260.015 54.0477 255.432 Q57.1264 250.825 62.9365 250.825 Z\" fill=\"#000000\" fill-rule=\"evenodd\" fill-opacity=\"1\" /><path clip-path=\"url(#clip410)\" d=\"M 0 0 M79.9503 280.131 L84.8345 280.131 L84.8345 286.01 L79.9503 286.01 L79.9503 280.131 Z\" fill=\"#000000\" fill-rule=\"evenodd\" fill-opacity=\"1\" /><path clip-path=\"url(#clip410)\" d=\"M 0 0 M104.071 267.376 Q107.427 268.094 109.302 270.362 Q111.2 272.631 111.2 275.964 Q111.2 281.08 107.682 283.881 Q104.163 286.682 97.6817 286.682 Q95.5058 286.682 93.191 286.242 Q90.8993 285.825 88.4456 284.969 L88.4456 280.455 Q90.3901 281.589 92.7049 282.168 Q95.0197 282.746 97.5428 282.746 Q101.941 282.746 104.233 281.01 Q106.547 279.274 106.547 275.964 Q106.547 272.909 104.395 271.196 Q102.265 269.459 98.4456 269.459 L94.4178 269.459 L94.4178 265.617 L98.6308 265.617 Q102.08 265.617 103.909 264.251 Q105.737 262.862 105.737 260.27 Q105.737 257.608 103.839 256.196 Q101.964 254.76 98.4456 254.76 Q96.5243 254.76 94.3252 255.177 Q92.1262 255.594 89.4873 256.473 L89.4873 252.307 Q92.1493 251.566 94.4641 251.196 Q96.8021 250.825 98.8622 250.825 Q104.186 250.825 107.288 253.256 Q110.39 255.663 110.39 259.784 Q110.39 262.654 108.746 264.645 Q107.103 266.612 104.071 267.376 Z\" fill=\"#000000\" fill-rule=\"evenodd\" fill-opacity=\"1\" /><path clip-path=\"url(#clip410)\" d=\"M 0 0 M126.27 254.529 Q122.658 254.529 120.83 258.094 Q119.024 261.635 119.024 268.765 Q119.024 275.871 120.83 279.436 Q122.658 282.978 126.27 282.978 Q129.904 282.978 131.709 279.436 Q133.538 275.871 133.538 268.765 Q133.538 261.635 131.709 258.094 Q129.904 254.529 126.27 254.529 M126.27 250.825 Q132.08 250.825 135.135 255.432 Q138.214 260.015 138.214 268.765 Q138.214 277.492 135.135 282.098 Q132.08 286.682 126.27 286.682 Q120.459 286.682 117.381 282.098 Q114.325 277.492 114.325 268.765 Q114.325 260.015 117.381 255.432 Q120.459 250.825 126.27 250.825 Z\" fill=\"#000000\" fill-rule=\"evenodd\" fill-opacity=\"1\" /><polyline clip-path=\"url(#clip412)\" style=\"stroke:#009af9; stroke-width:4; stroke-opacity:1; fill:none\" points=\"\n",
       "  235.871,87.9763 236.899,87.9763 237.927,87.9763 238.955,87.9763 239.983,87.9763 241.011,87.9763 242.039,87.9763 243.068,87.9763 244.096,87.9763 245.124,87.9763 \n",
       "  246.152,87.9763 247.18,87.9763 248.208,87.9763 249.236,87.9763 250.265,87.9763 251.293,87.9763 252.321,87.9763 253.349,87.9763 254.377,87.9763 255.405,87.9763 \n",
       "  256.433,87.9763 257.461,87.9763 258.49,87.9763 259.518,87.9763 260.546,87.9763 261.574,87.9763 262.602,87.9763 263.63,87.9763 264.658,87.9763 265.686,87.9764 \n",
       "  266.715,87.9764 267.743,87.9766 268.771,87.9766 269.799,87.9766 270.827,87.9766 271.855,87.9766 272.883,87.9766 273.911,87.9767 274.94,87.9767 275.968,87.9767 \n",
       "  276.996,87.9767 278.024,87.9767 279.052,87.9769 280.08,87.9769 281.108,87.9769 282.137,87.977 283.165,87.977 284.193,87.977 285.221,87.977 286.249,87.9771 \n",
       "  287.277,87.9771 288.305,87.9773 289.333,87.9774 290.362,87.9775 291.39,87.9776 292.418,87.9776 293.446,87.9776 294.474,87.9776 295.502,87.9776 296.53,87.9778 \n",
       "  297.558,87.978 298.587,87.978 299.615,87.9782 300.643,87.9783 301.671,87.9783 302.699,87.9775 303.727,87.9775 304.755,87.9773 305.783,87.9775 306.812,87.9769 \n",
       "  307.84,87.978 308.868,87.9785 309.896,87.9797 310.924,87.98 311.952,87.9805 312.98,87.9851 314.008,87.9857 315.037,87.9858 316.065,87.985 317.093,87.9856 \n",
       "  318.121,87.9876 319.149,87.99 320.177,87.9901 321.205,87.9917 322.234,87.9919 323.262,87.9961 324.29,87.997 325.318,87.9971 326.346,88 327.374,88.0001 \n",
       "  328.402,88.0005 329.43,88.0027 330.459,88.0062 331.487,88.0074 332.515,88.008 333.543,88.0078 334.571,88.0105 335.599,88.013 336.627,88.0135 337.655,88.0137 \n",
       "  338.684,88.014 339.712,88.0151 340.74,88.0157 341.768,88.0199 342.796,88.0237 343.824,88.0239 344.852,88.025 345.88,88.0264 346.909,88.0273 347.937,88.0278 \n",
       "  348.965,88.0319 349.993,88.0325 351.021,88.033 352.049,88.036 353.077,88.0367 354.105,88.0368 355.134,88.0405 356.162,88.0474 357.19,88.0502 358.218,88.0552 \n",
       "  359.246,88.0593 360.274,88.065 361.302,88.065 362.331,88.07 363.359,88.0706 364.387,88.0787 365.415,88.0792 366.443,88.0848 367.471,88.0844 368.499,88.0966 \n",
       "  369.527,88.1102 370.556,88.1117 371.584,88.1306 372.612,88.1382 373.64,88.1454 374.668,88.1465 375.696,88.1519 376.724,88.1553 377.752,88.1662 378.781,88.1696 \n",
       "  379.809,88.1883 380.837,88.1909 381.865,88.1982 382.893,88.2041 383.921,88.2136 384.949,88.2383 385.977,88.2453 387.006,88.2575 388.034,88.2666 389.062,88.274 \n",
       "  390.09,88.276 391.118,88.2985 392.146,88.2993 393.174,88.3206 394.202,88.3247 395.231,88.334 396.259,88.3416 397.287,88.3561 398.315,88.3593 399.343,88.3708 \n",
       "  400.371,88.3715 401.399,88.3799 402.428,88.3848 403.456,88.4036 404.484,88.4057 405.512,88.4257 406.54,88.4345 407.568,88.4607 408.596,88.4671 409.624,88.4758 \n",
       "  410.653,88.484 411.681,88.6057 412.709,88.6123 413.737,88.6309 414.765,88.6748 415.793,88.6918 416.821,88.701 417.849,88.7178 418.878,88.7428 419.906,88.7509 \n",
       "  420.934,88.7581 421.962,88.7829 422.99,88.8046 424.018,88.8938 425.046,88.9075 426.074,89.0147 427.103,89.0247 428.131,89.0989 429.159,89.1283 430.187,89.1898 \n",
       "  431.215,89.1949 432.243,89.2203 433.271,89.2433 434.299,89.2662 435.328,89.3181 436.356,89.3376 437.384,89.3426 438.412,89.3639 439.44,89.4453 440.468,89.4644 \n",
       "  441.496,89.5304 442.525,89.5448 443.553,89.636 444.581,89.6927 445.609,89.7479 446.637,89.7932 447.665,89.8461 448.693,89.9442 449.721,89.9933 450.75,90.0436 \n",
       "  451.778,90.0922 452.806,90.1854 453.834,90.1918 454.862,90.2532 455.89,90.2617 456.918,90.3373 457.946,90.4089 458.975,90.5112 460.003,90.5536 461.031,90.6638 \n",
       "  462.059,90.7537 463.087,90.8335 464.115,90.8843 465.143,91.0147 466.171,91.0556 467.2,91.1808 468.228,91.2574 469.256,91.4018 470.284,91.448 471.312,91.5624 \n",
       "  472.34,91.6294 473.368,91.7165 474.396,91.8046 475.425,91.9177 476.453,91.9591 477.481,92.2584 478.509,92.2541 479.537,92.3533 480.565,92.452 481.593,92.7116 \n",
       "  482.622,92.7201 483.65,92.8669 484.678,92.8776 485.706,93.0243 486.734,93.0372 487.762,93.2407 488.79,93.2988 489.818,93.4925 490.847,93.5527 491.875,93.6813 \n",
       "  492.903,93.7673 493.931,93.8915 494.959,94.0235 495.987,94.2259 497.015,94.2682 498.043,94.4111 499.072,94.5936 500.1,94.6997 501.128,94.7591 502.156,94.8591 \n",
       "  503.184,94.9165 504.212,94.9934 505.24,95.0453 506.268,95.3824 507.297,95.5105 508.325,95.9935 509.353,96.0953 510.381,96.6364 511.409,96.9707 512.437,97.2216 \n",
       "  513.465,97.4491 514.493,97.619 515.522,97.7028 516.55,97.9211 517.578,98.0833 518.606,98.2666 519.634,98.4917 520.662,98.9021 521.69,99.0027 522.719,99.1997 \n",
       "  523.747,99.2315 524.775,99.3446 525.803,99.5091 526.831,99.6821 527.859,99.8831 528.887,100.069 529.915,100.346 530.944,100.446 531.972,100.681 533,100.818 \n",
       "  534.028,101.062 535.056,101.283 536.084,101.623 537.112,101.715 538.14,101.939 539.169,102.25 540.197,102.924 541.225,103.015 542.253,103.502 543.281,103.784 \n",
       "  544.309,103.934 545.337,104.111 546.365,104.356 547.394,104.564 548.422,104.852 549.45,105 550.478,105.287 551.506,105.457 552.534,105.682 553.562,105.761 \n",
       "  554.59,106.125 555.619,106.185 556.647,107.028 557.675,107.181 558.703,107.905 559.731,108.185 560.759,108.568 561.787,108.945 562.816,109.192 563.844,109.805 \n",
       "  564.872,110.017 565.9,110.332 566.928,110.45 567.956,110.949 568.984,111.306 570.012,111.669 571.041,111.904 572.069,112.952 573.097,113.05 574.125,113.835 \n",
       "  575.153,113.988 576.181,114.288 577.209,114.779 578.237,115.542 579.266,115.852 580.294,116.399 581.322,117.048 582.35,117.708 583.378,117.917 584.406,118.73 \n",
       "  585.434,118.871 586.462,119.639 587.491,119.973 588.519,120.854 589.547,121.579 590.575,121.794 591.603,122.878 592.631,123.307 593.659,123.622 594.687,124.003 \n",
       "  595.716,125.108 596.744,125.42 597.772,126.424 598.8,126.5 599.828,127.129 600.856,127.173 601.884,127.618 602.913,128.017 603.941,128.41 604.969,129.282 \n",
       "  605.997,129.344 607.025,129.849 608.053,130.753 609.081,131.558 610.109,131.722 611.138,132.286 612.166,132.705 613.194,133.377 614.222,133.449 615.25,133.806 \n",
       "  616.278,134.115 617.306,135.543 618.334,135.888 619.363,136.179 620.391,137.428 621.419,137.58 622.447,138.036 623.475,138.584 624.503,139.638 625.531,140.152 \n",
       "  626.559,140.835 627.588,141.311 628.616,141.642 629.644,142.239 630.672,142.328 631.7,143.168 632.728,143.274 633.756,143.533 634.784,144.766 635.813,145.175 \n",
       "  636.841,145.527 637.869,146.128 638.897,147.6 639.925,148.002 640.953,148.689 641.981,149.157 643.01,150.362 644.038,150.939 645.066,152.227 646.094,152.455 \n",
       "  647.122,152.583 648.15,152.83 649.178,153.928 650.206,154.366 651.235,155.12 652.263,155.457 653.291,156.415 654.319,157.306 655.347,157.453 656.375,158.071 \n",
       "  657.403,158.441 658.431,158.646 659.46,159.173 660.488,159.646 661.516,160.636 662.544,162.839 663.572,163.19 664.6,164.209 665.628,164.666 666.656,165.986 \n",
       "  667.685,166.335 668.713,167.413 669.741,168.563 670.769,170.293 671.797,171.354 672.825,172.465 673.853,173.296 674.881,174.749 675.91,175.947 676.938,176.514 \n",
       "  677.966,177.062 678.994,177.986 680.022,178.327 681.05,179.898 682.078,180.105 683.107,181.878 684.135,182.267 685.163,183.005 686.191,183.43 687.219,183.998 \n",
       "  688.247,184.304 689.275,185.52 690.303,185.972 691.332,186.582 692.36,187.283 693.388,188.901 694.416,189.713 695.444,191.328 696.472,191.817 697.5,194.273 \n",
       "  698.528,195.511 699.557,197.379 700.585,198.08 701.613,199.329 702.641,200.596 703.669,202.033 704.697,203.766 705.725,204.59 706.753,205.638 707.782,206.967 \n",
       "  708.81,208.871 709.838,210.414 710.866,213.622 711.894,214.723 712.922,215.893 713.95,217.304 714.978,219.047 716.007,220.885 717.035,221.898 718.063,223.142 \n",
       "  719.091,223.926 720.119,225.162 721.147,225.699 722.175,226.64 723.204,228.016 724.232,229.299 725.26,230.284 726.288,231.725 727.316,232.313 728.344,232.92 \n",
       "  729.372,233.081 730.4,233.854 731.429,235.3 732.457,236.937 733.485,237.227 734.513,238.878 735.541,240.068 736.569,242.115 737.597,242.822 738.625,244.434 \n",
       "  739.654,244.889 740.682,246.534 741.71,247.551 742.738,248.279 743.766,249.413 744.794,249.968 745.822,251.369 746.85,252.724 747.879,253.631 748.907,254.831 \n",
       "  749.935,255.908 750.963,257.361 751.991,258.53 753.019,259.493 754.047,260.485 755.075,262.185 756.104,262.962 757.132,264.029 758.16,264.813 759.188,266.455 \n",
       "  760.216,267.563 761.244,268.546 762.272,269.005 763.301,270.414 764.329,271.097 765.357,272.669 766.385,273.639 767.413,275.458 768.441,277.138 769.469,278.376 \n",
       "  770.497,279.091 771.526,280.707 772.554,282.364 773.582,283.488 774.61,284.728 775.638,286.77 776.666,287.273 777.694,288.995 778.722,289.138 779.751,292.063 \n",
       "  780.779,292.836 781.807,294.609 782.835,295.271 783.863,296.646 784.891,298.078 785.919,299.162 786.947,301.594 787.976,302.742 789.004,304.43 790.032,305.434 \n",
       "  791.06,307.509 792.088,308.63 793.116,311.172 794.144,311.999 795.172,313.251 796.201,313.881 797.229,316.19 798.257,317.061 799.285,318.346 800.313,318.722 \n",
       "  801.341,319.548 802.369,320.852 803.398,322.509 804.426,323.468 805.454,324.299 806.482,325.274 807.51,327.822 808.538,328.511 809.566,330.735 810.594,333.2 \n",
       "  811.623,334.071 812.651,335.539 813.679,337.329 814.707,339.886 815.735,340.684 816.763,343.222 817.791,343.869 818.819,347.652 819.848,349.216 820.876,350.742 \n",
       "  821.904,352.16 822.932,353.284 823.96,354.825 824.988,356.882 826.016,358.086 827.044,359.501 828.073,361.528 829.101,362.768 830.129,364.602 831.157,364.829 \n",
       "  832.185,367.378 833.213,367.999 834.241,370.432 835.269,370.589 836.298,373.315 837.326,374.26 838.354,376.808 839.382,377.507 840.41,378.837 841.438,380.278 \n",
       "  842.466,382.983 843.495,384.912 844.523,386.443 845.551,388.345 846.579,389.065 847.607,391.218 848.635,393.304 849.663,394.698 850.691,396.042 851.72,397.141 \n",
       "  852.748,399.109 853.776,401.65 854.804,403.333 855.832,404.265 856.86,405.445 857.888,407.238 858.916,408.862 859.945,410.371 860.973,411.509 862.001,414.3 \n",
       "  863.029,414.543 864.057,416.637 865.085,417.091 866.113,418.313 867.141,419.773 868.17,421.141 869.198,422.931 870.226,424.285 871.254,425.56 872.282,427.994 \n",
       "  873.31,430.245 874.338,431.451 875.366,434.181 876.395,435.888 877.423,437.897 878.451,439.044 879.479,440.8 880.507,443.158 881.535,444.847 882.563,446.321 \n",
       "  883.592,448.912 884.62,449.921 885.648,451.148 886.676,453.188 887.704,454.579 888.732,456.936 889.76,458.297 890.788,459.225 891.817,460.458 892.845,461.122 \n",
       "  893.873,462.241 894.901,463.671 895.929,466.137 896.957,467.418 897.985,469.165 899.013,470.63 900.042,472.103 901.07,473.915 902.098,476.003 903.126,477.596 \n",
       "  904.154,478.345 905.182,480.44 906.21,482.017 907.238,483.759 908.267,484.943 909.295,486.329 910.323,488.1 911.351,489.869 912.379,492.535 913.407,493.724 \n",
       "  914.435,496.793 915.463,497.606 916.492,498.844 917.52,500.568 918.548,503.125 919.576,505.214 920.604,506.41 921.632,508.174 922.66,509.163 923.689,511.036 \n",
       "  924.717,511.815 925.745,513.446 926.773,514.763 927.801,516.415 928.829,517.805 929.857,521.253 930.885,522.859 931.914,524.598 932.942,526.49 933.97,527.961 \n",
       "  934.998,528.735 936.026,531.514 937.054,532.212 938.082,534.198 939.11,534.62 940.139,536.674 941.167,537.62 942.195,539.657 943.223,541.126 944.251,542.244 \n",
       "  945.279,543.816 946.307,546.326 947.335,547.147 948.364,548.172 949.392,549.876 950.42,552.143 951.448,553.165 952.476,553.952 953.504,555.269 954.532,555.97 \n",
       "  955.56,557.465 956.589,559.102 957.617,560.888 958.645,562.529 959.673,563.771 960.701,564.834 961.729,566.055 962.757,568.21 963.786,569.343 964.814,570.431 \n",
       "  965.842,571.799 966.87,572.712 967.898,575.047 968.926,576.506 969.954,578.609 970.982,579.391 972.011,581.423 973.039,582.397 974.067,584.286 975.095,584.992 \n",
       "  976.123,586.407 977.151,587.265 978.179,588.214 979.207,589.683 980.236,590.683 981.264,593.114 982.292,594.096 983.32,595.93 984.348,597.374 985.376,600.676 \n",
       "  986.404,601.724 987.432,603.96 988.461,605.569 989.489,607.061 990.517,608.976 991.545,609.468 992.573,611.261 993.601,612.142 994.629,613.25 995.657,614.53 \n",
       "  996.686,615.906 997.714,616.462 998.742,617.762 999.77,618.793 1000.8,619.997 1001.83,621.193 1002.85,622.126 1003.88,623.112 1004.91,623.896 1005.94,624.962 \n",
       "  1006.97,625.858 1008,627.766 1009.02,629.74 1010.05,630.421 1011.08,631.65 1012.11,632.84 1013.14,633.955 1014.16,634.68 1015.19,637.72 1016.22,639.454 \n",
       "  1017.25,640.61 1018.28,642.246 1019.3,643.771 1020.33,645.177 1021.36,646.054 1022.39,647.239 1023.42,648.306 1024.45,651.339 1025.47,652.56 1026.5,655.148 \n",
       "  1027.53,655.625 1028.56,658.992 1029.59,660.111 1030.61,662.37 1031.64,664.088 1032.67,664.965 1033.7,666.001 1034.73,667.12 1035.75,668.464 1036.78,670.268 \n",
       "  1037.81,671.309 1038.84,672.987 1039.87,673.707 1040.9,675.948 1041.92,676.844 1042.95,678.529 1043.98,679.49 1045.01,680.153 1046.04,681.742 1047.06,682.834 \n",
       "  1048.09,684.071 1049.12,686.239 1050.15,687.258 1051.18,688.651 1052.2,689.299 1053.23,690.376 1054.26,691.369 1055.29,692.332 1056.32,693.897 1057.35,695.162 \n",
       "  1058.37,695.462 1059.4,696.164 1060.43,697.968 1061.46,700.805 1062.49,702.273 1063.51,705.123 1064.54,705.744 1065.57,706.726 1066.6,707.716 1067.63,709.914 \n",
       "  1068.65,710.208 1069.68,712.479 1070.71,713.052 1071.74,714.692 1072.77,715.718 1073.8,716.694 1074.82,717.474 1075.85,718.606 1076.88,719.266 1077.91,720.007 \n",
       "  1078.94,721.449 1079.96,723.172 1080.99,724.421 1082.02,725.517 1083.05,726.452 1084.08,728.377 1085.1,729.508 1086.13,731.988 1087.16,733.75 1088.19,735.148 \n",
       "  1089.22,736.099 1090.25,737.137 1091.27,738.283 1092.3,739.306 1093.33,740.686 1094.36,742.606 1095.39,743.638 1096.41,744.421 1097.44,745.702 1098.47,747.102 \n",
       "  1099.5,748.317 1100.53,749.654 1101.55,750.977 1102.58,752.061 1103.61,752.257 1104.64,753.927 1105.67,754.329 1106.7,756.208 1107.72,757.615 1108.75,759.575 \n",
       "  1109.78,760.129 1110.81,761.137 1111.84,763.406 1112.86,766.115 1113.89,767.171 1114.92,769.692 1115.95,771.071 1116.98,772.411 1118,773.644 1119.03,774.85 \n",
       "  1120.06,775.879 1121.09,777.269 1122.12,778.255 1123.15,779.501 1124.17,781.162 1125.2,782.794 1126.23,784.18 1127.26,785.436 1128.29,788.127 1129.31,788.974 \n",
       "  1130.34,789.882 1131.37,792.396 1132.4,794.223 1133.43,795.096 1134.45,795.867 1135.48,797.708 1136.51,799.086 1137.54,799.52 1138.57,800.298 1139.6,801.523 \n",
       "  1140.62,803.19 1141.65,804.422 1142.68,805.651 1143.71,806.953 1144.74,808.185 1145.76,810.002 1146.79,811.204 1147.82,812.207 1148.85,812.884 1149.88,815.567 \n",
       "  1150.9,816.911 1151.93,818.544 1152.96,821.29 1153.99,822.552 1155.02,825.317 1156.05,825.922 1157.07,828.594 1158.1,830.921 1159.13,833.64 1160.16,835.666 \n",
       "  1161.19,838.584 1162.21,839.539 1163.24,841.056 1164.27,843.573 1165.3,845.908 1166.33,847.124 1167.35,849.282 1168.38,851.877 1169.41,854.071 1170.44,855.502 \n",
       "  1171.47,856.401 1172.5,858.805 1173.52,860.799 1174.55,862.516 1175.58,863.485 1176.61,865.056 1177.64,866.633 1178.66,867.222 1179.69,867.937 1180.72,870.243 \n",
       "  1181.75,872.387 1182.78,874.796 1183.8,875.612 1184.83,877.357 1185.86,878.353 1186.89,879.664 1187.92,880.028 1188.95,880.669 1189.97,881.071 1191,881.741 \n",
       "  1192.03,881.8 1193.06,884.161 1194.09,885.437 1195.11,887.898 1196.14,888.684 1197.17,890.174 1198.2,891.305 1199.23,892.914 1200.26,895.88 1201.28,897.111 \n",
       "  1202.31,899.095 1203.34,899.724 1204.37,902.359 1205.4,902.813 1206.42,903.747 1207.45,904.225 1208.48,906.095 1209.51,906.52 1210.54,908.741 1211.56,909.035 \n",
       "  1212.59,910.721 1213.62,912.242 1214.65,913.608 1215.68,914.101 1216.71,915.621 1217.73,916.298 1218.76,916.946 1219.79,917.647 1220.82,919.126 1221.85,919.217 \n",
       "  1222.87,920.696 1223.9,922.257 1224.93,922.751 1225.96,923.815 1226.99,924.237 1228.01,927.343 1229.04,928.264 1230.07,929.451 1231.1,929.551 1232.13,930.722 \n",
       "  1233.16,931.424 1234.18,932.191 1235.21,933.046 1236.24,934.495 1237.27,935.453 1238.3,937.202 1239.32,938.096 1240.35,940.074 1241.38,940.774 1242.41,942.097 \n",
       "  1243.44,942.806 1244.46,943.993 1245.49,944.492 1246.52,946.263 1247.55,946.802 1248.58,947.936 1249.61,948.648 1250.63,948.665 1251.66,949.082 1252.69,949.625 \n",
       "  1253.72,949.831 1254.75,950.336 1255.77,950.464 1256.8,951.85 1257.83,952.292 1258.86,953.21 1259.89,953.514 1260.91,954.977 1261.94,955.974 1262.97,956.437 \n",
       "  1264,956.673 1265.03,957.664 1266.06,959.663 1267.08,960.963 1268.11,963.163 1269.14,963.542 1270.17,965.223 1271.2,965.346 1272.22,966.616 1273.25,967.574 \n",
       "  1274.28,968.131 1275.31,969.669 1276.34,970.726 1277.36,971 1278.39,971.637 1279.42,973.277 1280.45,974.498 1281.48,975.05 1282.51,977.657 1283.53,977.739 \n",
       "  1284.56,978.853 1285.59,979.052 1286.62,980.096 1287.65,980.411 1288.67,982.151 1289.7,982.748 1290.73,983.684 1291.76,983.995 1292.79,984.696 1293.81,985.401 \n",
       "  1294.84,985.958 1295.87,986.018 1296.9,987.049 1297.93,987.219 1298.96,987.998 1299.98,988.717 1301.01,989.824 1302.04,990.45 1303.07,991.494 1304.1,991.871 \n",
       "  1305.12,992.975 1306.15,993.992 1307.18,994.682 1308.21,995.667 1309.24,995.708 1310.26,996.462 1311.29,996.747 1312.32,997.252 1313.35,997.438 1314.38,998.222 \n",
       "  1315.41,998.504 1316.43,999.245 1317.46,999.353 1318.49,1000.38 1319.52,1000.98 1320.55,1002.14 1321.57,1002.69 1322.6,1003.52 1323.63,1003.98 1324.66,1004.95 \n",
       "  1325.69,1005.48 1326.71,1005.85 1327.74,1006.22 1328.77,1006.05 1329.8,1006.48 1330.83,1006.59 1331.86,1007.57 1332.88,1007.79 1333.91,1008.27 1334.94,1008.58 \n",
       "  1335.97,1009.69 1337,1009.82 1338.02,1009.81 1339.05,1010.61 1340.08,1010.83 1341.11,1011.95 1342.14,1012.19 1343.16,1013.08 1344.19,1013.76 1345.22,1014.99 \n",
       "  1346.25,1015.27 1347.28,1016.2 1348.31,1018.48 1349.33,1019.37 1350.36,1020.51 1351.39,1022.78 1352.42,1022.84 1353.45,1024.5 1354.47,1024.71 1355.5,1025.76 \n",
       "  1356.53,1026.04 1357.56,1027.73 1358.59,1027.89 1359.61,1028.41 1360.64,1029.13 1361.67,1029.61 1362.7,1030.57 1363.73,1031.45 1364.76,1031.96 1365.78,1032.63 \n",
       "  1366.81,1033.6 1367.84,1033.96 1368.87,1034.3 1369.9,1034.6 1370.92,1035.73 1371.95,1036.08 1372.98,1036.59 1374.01,1036.55 1375.04,1037.02 1376.06,1037.4 \n",
       "  1377.09,1037.38 1378.12,1037.61 1379.15,1037.9 1380.18,1038.37 1381.21,1038.92 1382.23,1039.29 1383.26,1039.23 1384.29,1040.2 1385.32,1041.22 1386.35,1041.47 \n",
       "  1387.37,1042.51 1388.4,1043.03 1389.43,1043.14 1390.46,1043.68 1391.49,1044.29 1392.51,1045.11 1393.54,1045.24 1394.57,1046.23 1395.6,1046 1396.63,1046.32 \n",
       "  1397.66,1046.3 1398.68,1046.57 1399.71,1047.06 1400.74,1047.3 1401.77,1047.82 1402.8,1048.45 1403.82,1049.04 1404.85,1049.33 1405.88,1049.42 1406.91,1049.51 \n",
       "  1407.94,1050.45 1408.97,1050.81 1409.99,1052.33 1411.02,1052.36 1412.05,1052.83 1413.08,1053.03 1414.11,1053.17 1415.13,1053.7 1416.16,1054.12 1417.19,1055.24 \n",
       "  1418.22,1055.37 1419.25,1056.37 1420.27,1056.66 1421.3,1057.29 1422.33,1057.36 1423.36,1058.41 1424.39,1058.9 1425.42,1059.57 1426.44,1059.79 1427.47,1061.1 \n",
       "  1428.5,1061.89 1429.53,1062.95 1430.56,1063.42 1431.58,1064.15 1432.61,1065.46 1433.64,1066.34 1434.67,1066.68 1435.7,1067.23 1436.72,1067.93 1437.75,1068.54 \n",
       "  1438.78,1069.26 1439.81,1069.48 1440.84,1069.97 1441.87,1070.39 1442.89,1070.48 1443.92,1070.61 1444.95,1070.73 1445.98,1071.23 1447.01,1071.64 1448.03,1071.82 \n",
       "  1449.06,1072.67 1450.09,1072.92 1451.12,1073.5 1452.15,1074.03 1453.17,1074.84 1454.2,1075.25 1455.23,1075.29 1456.26,1076.1 1457.29,1075.84 1458.32,1075.97 \n",
       "  1459.34,1076.23 1460.37,1076.6 1461.4,1077.08 1462.43,1077.12 1463.46,1077.5 1464.48,1077.34 1465.51,1078.12 1466.54,1077.97 1467.57,1078.1 1468.6,1078.28 \n",
       "  1469.62,1080.87 1470.65,1081.83 1471.68,1081.96 1472.71,1081.92 1473.74,1081.75 1474.77,1082.55 1475.79,1083.18 1476.82,1083.35 1477.85,1083.82 1478.88,1084.16 \n",
       "  1479.91,1084.83 1480.93,1084.27 1481.96,1084.68 1482.99,1084.76 1484.02,1085.22 1485.05,1085.23 1486.07,1085.54 1487.1,1085.74 1488.13,1085.86 1489.16,1086.17 \n",
       "  1490.19,1085.87 1491.22,1086.85 1492.24,1087.09 1493.27,1087.29 1494.3,1087.65 1495.33,1087.78 1496.36,1088.46 1497.38,1088.63 1498.41,1089.07 1499.44,1089.17 \n",
       "  1500.47,1089.53 1501.5,1090.22 1502.52,1090.32 1503.55,1090.95 1504.58,1090.97 1505.61,1091.19 1506.64,1091.26 1507.67,1092.1 1508.69,1092.49 1509.72,1093 \n",
       "  1510.75,1092.97 1511.78,1093.82 1512.81,1093.69 1513.83,1093.94 1514.86,1093.98 1515.89,1094.14 1516.92,1094.35 1517.95,1094.76 1518.97,1094.8 1520,1094.95 \n",
       "  1521.03,1095.28 1522.06,1095.38 1523.09,1095.84 1524.12,1095.89 1525.14,1096.83 1526.17,1097.91 1527.2,1098.1 1528.23,1098.45 1529.26,1098.74 1530.28,1098.71 \n",
       "  1531.31,1098.39 1532.34,1098.44 1533.37,1098.72 1534.4,1099.1 1535.42,1099.22 1536.45,1099.19 1537.48,1099.22 1538.51,1099.38 1539.54,1099.49 1540.57,1099.61 \n",
       "  1541.59,1099.2 1542.62,1099.64 1543.65,1099.36 1544.68,1099.35 1545.71,1099.51 1546.73,1099.71 1547.76,1099.46 1548.79,1099.79 1549.82,1099.84 1550.85,1099.94 \n",
       "  1551.87,1100.59 1552.9,1100.61 1553.93,1100.84 1554.96,1100.83 1555.99,1101.03 1557.02,1101.35 1558.04,1101.79 1559.07,1102.09 1560.1,1102.13 1561.13,1102.24 \n",
       "  1562.16,1102.09 1563.18,1101.79 1564.21,1102.4 1565.24,1102.23 1566.27,1102.72 1567.3,1102.7 1568.32,1102.98 1569.35,1102.76 1570.38,1103.14 1571.41,1103.17 \n",
       "  1572.44,1103.69 1573.47,1103.95 1574.49,1104 1575.52,1104.11 1576.55,1103.97 1577.58,1103.83 1578.61,1103.83 1579.63,1103.79 1580.66,1103.67 1581.69,1103.88 \n",
       "  1582.72,1103.73 1583.75,1103.72 1584.77,1103.85 1585.8,1103.85 1586.83,1103.82 1587.86,1103.78 1588.89,1103.52 1589.92,1103.5 1590.94,1103.3 1591.97,1103.48 \n",
       "  1593,1104.1 1594.03,1104.02 1595.06,1104.13 1596.08,1104 1597.11,1104.1 1598.14,1104.13 1599.17,1104.05 1600.2,1103.96 1601.23,1104.45 1602.25,1104.46 \n",
       "  1603.28,1104.57 1604.31,1104.4 1605.34,1104.38 1606.37,1104.56 1607.39,1104.12 1608.42,1104.18 1609.45,1104.32 1610.48,1104.18 1611.51,1104.18 1612.53,1103.94 \n",
       "  1613.56,1104.22 1614.59,1103.61 1615.62,1103.51 1616.65,1103.71 1617.68,1103.61 1618.7,1103.3 1619.73,1103.44 1620.76,1103.19 1621.79,1103.21 1622.82,1103.12 \n",
       "  1623.84,1103.53 1624.87,1103.78 1625.9,1103.75 1626.93,1103.66 1627.96,1103.48 1628.98,1103.31 1630.01,1103.2 1631.04,1103.4 1632.07,1103.04 1633.1,1102.82 \n",
       "  1634.13,1103.02 1635.15,1102.92 1636.18,1102.63 1637.21,1102.43 1638.24,1102.26 1639.27,1102.33 1640.29,1102.25 1641.32,1102.09 1642.35,1102.14 1643.38,1101.95 \n",
       "  1644.41,1102.06 1645.43,1102.06 1646.46,1101.91 1647.49,1101.72 1648.52,1101.66 1649.55,1101.21 1650.58,1100.95 1651.6,1100.81 1652.63,1100.85 1653.66,1100.62 \n",
       "  1654.69,1100.5 1655.72,1099.98 1656.74,1100.03 1657.77,1099.55 1658.8,1099.43 1659.83,1099.43 1660.86,1099.44 1661.88,1099.28 1662.91,1099.07 1663.94,1098.82 \n",
       "  1664.97,1098.73 1666,1098.63 1667.03,1098.42 1668.05,1098.45 1669.08,1098.16 1670.11,1097.79 1671.14,1097.32 1672.17,1096.57 1673.19,1096.16 1674.22,1096.07 \n",
       "  1675.25,1096.6 1676.28,1096.73 1677.31,1096.31 1678.33,1096.14 1679.36,1095.76 1680.39,1095.77 1681.42,1095.3 1682.45,1095.47 1683.48,1095.1 1684.5,1094.82 \n",
       "  1685.53,1094.7 1686.56,1095 1687.59,1094.5 1688.62,1094.09 1689.64,1094.06 1690.67,1094.05 1691.7,1093.94 1692.73,1093.67 1693.76,1093.45 1694.78,1093.07 \n",
       "  1695.81,1093 1696.84,1092.92 1697.87,1092.77 1698.9,1092.55 1699.93,1092.26 1700.95,1092.14 1701.98,1091.97 1703.01,1091.97 1704.04,1091.92 1705.07,1091.97 \n",
       "  1706.09,1091.75 1707.12,1091.26 1708.15,1090.91 1709.18,1091.03 1710.21,1090.6 1711.23,1090.27 1712.26,1090.14 1713.29,1090.27 1714.32,1089.72 1715.35,1089.7 \n",
       "  1716.38,1090.79 1717.4,1090.89 1718.43,1090.72 1719.46,1090.51 1720.49,1090.15 1721.52,1090.35 1722.54,1090.24 1723.57,1089.94 1724.6,1089.61 1725.63,1089.23 \n",
       "  1726.66,1089.17 1727.68,1088.84 1728.71,1088.79 1729.74,1088.53 1730.77,1088.66 1731.8,1088.36 1732.83,1088.32 1733.85,1087.97 1734.88,1087.83 1735.91,1087.56 \n",
       "  1736.94,1087.51 1737.97,1087.2 1738.99,1087.03 1740.02,1086.94 1741.05,1086.57 1742.08,1086.37 1743.11,1085.92 1744.13,1085.68 1745.16,1085.26 1746.19,1085 \n",
       "  1747.22,1084.63 1748.25,1084.91 1749.28,1084.91 1750.3,1085.12 1751.33,1085.07 1752.36,1084.66 1753.39,1084.24 1754.42,1083.99 1755.44,1083.91 1756.47,1083.59 \n",
       "  1757.5,1083.79 1758.53,1083.6 1759.56,1083.6 1760.58,1083.51 1761.61,1082.99 1762.64,1082.54 1763.67,1082.32 1764.7,1082.3 1765.73,1082.02 1766.75,1081.56 \n",
       "  1767.78,1081.32 1768.81,1081.07 1769.84,1080.88 1770.87,1080.52 1771.89,1080.23 1772.92,1080.32 1773.95,1080.3 1774.98,1080.51 1776.01,1080.15 1777.03,1080.11 \n",
       "  1778.06,1079.63 1779.09,1079.55 1780.12,1079.79 1781.15,1079.67 1782.18,1079.63 1783.2,1079.53 1784.23,1079.53 1785.26,1079.17 1786.29,1079.08 1787.32,1078.6 \n",
       "  1788.34,1078.61 1789.37,1078.35 1790.4,1078.62 1791.43,1078.89 1792.46,1079 1793.48,1078.92 1794.51,1078.73 1795.54,1078.5 1796.57,1078.56 1797.6,1078.25 \n",
       "  1798.63,1078.48 1799.65,1078.91 1800.68,1078.89 1801.71,1078.6 1802.74,1078.49 1803.77,1078.42 1804.79,1078.36 1805.82,1077.99 1806.85,1077.88 1807.88,1077.72 \n",
       "  1808.91,1077.79 1809.94,1077.61 1810.96,1077.65 1811.99,1077.57 1813.02,1077.08 1814.05,1077.19 1815.08,1076.76 1816.1,1076.5 1817.13,1076.5 1818.16,1076.43 \n",
       "  1819.19,1076.3 1820.22,1076.15 1821.24,1076.03 1822.27,1076.19 1823.3,1076.18 1824.33,1076.48 1825.36,1076.38 1826.39,1075.62 1827.41,1075.66 1828.44,1075.47 \n",
       "  1829.47,1075.39 1830.5,1074.67 1831.53,1074.66 1832.55,1074.32 1833.58,1074.42 1834.61,1074.09 1835.64,1074.08 1836.67,1073.94 1837.69,1073.82 1838.72,1073.21 \n",
       "  1839.75,1073.24 1840.78,1073.27 1841.81,1073.3 1842.84,1073.06 1843.86,1073.04 1844.89,1073 1845.92,1073.01 1846.95,1072.99 1847.98,1072.84 1849,1073.01 \n",
       "  1850.03,1072.73 1851.06,1072.53 1852.09,1072.42 1853.12,1072.36 1854.14,1072.11 1855.17,1072.02 1856.2,1071.58 1857.23,1071.33 1858.26,1070.83 1859.29,1070.54 \n",
       "  1860.31,1070.03 1861.34,1069.81 1862.37,1069.47 1863.4,1069.1 1864.43,1068.72 1865.45,1068.59 1866.48,1068.5 1867.51,1068.38 1868.54,1068.24 1869.57,1068.02 \n",
       "  1870.59,1067.79 1871.62,1067.54 1872.65,1067.57 1873.68,1067.63 1874.71,1067.38 1875.74,1067.17 1876.76,1066.83 1877.79,1066.7 1878.82,1066.39 1879.85,1066.02 \n",
       "  1880.88,1065.6 1881.9,1066.37 1882.93,1066.47 1883.96,1066.29 1884.99,1066.14 1886.02,1065.7 1887.04,1065.37 1888.07,1065.12 1889.1,1064.89 1890.13,1064.98 \n",
       "  1891.16,1064.93 1892.19,1065 1893.21,1064.7 1894.24,1064.47 1895.27,1063.92 1896.3,1064.16 1897.33,1063.24 1898.35,1063.36 1899.38,1063.37 1900.41,1063.42 \n",
       "  1901.44,1063.31 1902.47,1063.53 1903.49,1063.48 1904.52,1063.81 1905.55,1063.08 1906.58,1063.16 1907.61,1062.9 1908.64,1062.52 1909.66,1062.52 1910.69,1062.44 \n",
       "  1911.72,1062.54 1912.75,1062.53 1913.78,1062.47 1914.8,1062.27 1915.83,1062.36 1916.86,1062.37 1917.89,1062.09 1918.92,1062.05 1919.94,1062.16 1920.97,1061.96 \n",
       "  1922,1063.16 1923.03,1063.3 1924.06,1063.01 1925.09,1062.59 1926.11,1062.22 1927.14,1062.09 1928.17,1061.86 1929.2,1061.97 1930.23,1061.7 1931.25,1061.42 \n",
       "  1932.28,1061.36 1933.31,1061.18 1934.34,1061.04 1935.37,1060.69 1936.39,1060.51 1937.42,1060.63 1938.45,1060.48 1939.48,1060.27 1940.51,1060.36 1941.54,1060.35 \n",
       "  1942.56,1060.2 1943.59,1060.56 1944.62,1060.33 1945.65,1060.47 1946.68,1060.81 1947.7,1060.63 1948.73,1060.59 1949.76,1060.34 1950.79,1060.43 1951.82,1060.18 \n",
       "  1952.84,1060.41 1953.87,1060.33 1954.9,1060.25 1955.93,1060.29 1956.96,1060.22 1957.99,1059.97 1959.01,1059.97 1960.04,1060.04 1961.07,1059.86 1962.1,1059.5 \n",
       "  1963.13,1059.73 1964.15,1059.57 1965.18,1059.72 1966.21,1059.94 1967.24,1059.49 1968.27,1059.87 1969.29,1060.39 1970.32,1060.92 1971.35,1061.13 1972.38,1061.2 \n",
       "  1973.41,1061.53 1974.44,1061.5 1975.46,1061.02 1976.49,1061.21 1977.52,1061.01 1978.55,1061.14 1979.58,1060.93 1980.6,1060.91 1981.63,1060.72 1982.66,1060.81 \n",
       "  1983.69,1060.81 1984.72,1060.93 1985.74,1060.73 1986.77,1060.74 1987.8,1060.36 1988.83,1060.49 1989.86,1060.02 1990.89,1060.04 1991.91,1059.78 1992.94,1059.64 \n",
       "  1993.97,1059.88 1995,1059.8 1996.03,1059.5 1997.05,1059.56 1998.08,1059.27 1999.11,1059.24 2000.14,1059.31 2001.17,1059.24 2002.2,1059.41 2003.22,1059.15 \n",
       "  2004.25,1059.57 2005.28,1059.8 2006.31,1059.53 2007.34,1059.52 2008.36,1059.38 2009.39,1059.2 2010.42,1058.89 2011.45,1058.68 2012.48,1058.47 2013.5,1058.34 \n",
       "  2014.53,1058.53 2015.56,1058.31 2016.59,1058.32 2017.62,1058.12 2018.65,1057.64 2019.67,1057.69 2020.7,1057.67 2021.73,1057.56 2022.76,1057.26 2023.79,1057.26 \n",
       "  2024.81,1057.32 2025.84,1057.31 2026.87,1057.17 2027.9,1056.71 2028.93,1056.7 2029.95,1056.22 2030.98,1056.33 2032.01,1055.77 2033.04,1055.57 2034.07,1055.25 \n",
       "  2035.1,1055.4 2036.12,1055.25 2037.15,1055.06 2038.18,1055.05 2039.21,1055.03 2040.24,1054.74 2041.26,1054.61 2042.29,1054.37 2043.32,1054.29 2044.35,1054.12 \n",
       "  2045.38,1055.13 2046.4,1055.22 2047.43,1054.73 2048.46,1055 2049.49,1054.84 2050.52,1055.04 2051.55,1054.63 2052.57,1054.79 2053.6,1054.46 2054.63,1054.37 \n",
       "  2055.66,1054.13 2056.69,1054.21 2057.71,1054.19 2058.74,1054.3 2059.77,1053.75 2060.8,1053.72 2061.83,1053.73 2062.85,1053.68 2063.88,1053.52 2064.91,1053.37 \n",
       "  2065.94,1052.93 2066.97,1052.88 2068,1052.88 2069.02,1052.83 2070.05,1052.66 2071.08,1052.67 2072.11,1052.41 2073.14,1052.19 2074.16,1052.06 2075.19,1051.8 \n",
       "  2076.22,1052.03 2077.25,1051.68 2078.28,1051.66 2079.3,1051.44 2080.33,1051.51 2081.36,1051.38 2082.39,1051.24 2083.42,1051.4 2084.45,1051.55 2085.47,1051.3 \n",
       "  2086.5,1051.81 2087.53,1051.69 2088.56,1051.1 2089.59,1050.82 2090.61,1051 2091.64,1050.9 2092.67,1050.74 2093.7,1050.56 2094.73,1050.47 2095.75,1050.2 \n",
       "  2096.78,1049.9 2097.81,1049.75 2098.84,1050.11 2099.87,1049.74 2100.9,1050.25 2101.92,1050.02 2102.95,1050.4 2103.98,1050 2105.01,1050.1 2106.04,1050.17 \n",
       "  2107.06,1050.05 2108.09,1049.88 2109.12,1049.59 2110.15,1049.41 2111.18,1049.18 2112.2,1049.09 2113.23,1048.96 2114.26,1048.71 2115.29,1048.58 2116.32,1048.5 \n",
       "  2117.35,1048.4 2118.37,1048.14 2119.4,1048.52 2120.43,1048.46 2121.46,1048.76 2122.49,1048.39 2123.51,1048.54 2124.54,1048.56 2125.57,1048.87 2126.6,1048.55 \n",
       "  2127.63,1049.04 2128.65,1049.12 2129.68,1048.63 2130.71,1048.38 2131.74,1048.83 2132.77,1048.86 2133.8,1048.79 2134.82,1048.92 2135.85,1048.55 2136.88,1048.72 \n",
       "  2137.91,1048.11 2138.94,1048.08 2139.96,1047.69 2140.99,1047.51 2142.02,1047.19 2143.05,1047.51 2144.08,1047.34 2145.1,1048.01 2146.13,1047.76 2147.16,1047.69 \n",
       "  2148.19,1047.63 2149.22,1047.49 2150.25,1047.44 2151.27,1047.61 2152.3,1047.29 2153.33,1047.08 2154.36,1047.01 2155.39,1046.91 2156.41,1046.73 2157.44,1046.36 \n",
       "  2158.47,1046.11 2159.5,1045.86 2160.53,1045.71 2161.55,1045.8 2162.58,1045.8 2163.61,1045.93 2164.64,1045.96 2165.67,1045.95 2166.7,1046.08 2167.72,1046.23 \n",
       "  2168.75,1046.81 2169.78,1046.66 2170.81,1046.79 2171.84,1046.73 2172.86,1046.88 2173.89,1046.86 2174.92,1046.9 2175.95,1047.17 2176.98,1046.94 2178,1046.91 \n",
       "  2179.03,1046.5 2180.06,1046.49 2181.09,1046.4 2182.12,1046.22 2183.15,1046.02 2184.17,1045.81 2185.2,1045.7 2186.23,1045.07 2187.26,1045.15 2188.29,1044.96 \n",
       "  2189.31,1045.1 2190.34,1045.17 2191.37,1044.94 2192.4,1044.54 2193.43,1044.52 2194.46,1044.41 2195.48,1044.38 2196.51,1044.32 2197.54,1044.2 2198.57,1043.88 \n",
       "  2199.6,1043.96 2200.62,1044.09 2201.65,1044.12 2202.68,1044.34 2203.71,1044.37 2204.74,1044.39 2205.76,1043.98 2206.79,1043.79 2207.82,1043.71 2208.85,1043.48 \n",
       "  2209.88,1043.38 2210.91,1043.68 2211.93,1042.81 2212.96,1042.91 2213.99,1042.23 2215.02,1042.19 2216.05,1041.99 2217.07,1041.99 2218.1,1042.24 2219.13,1042.06 \n",
       "  2220.16,1041.88 2221.19,1041.76 2222.21,1041.7 2223.24,1041.2 2224.27,1041.13 2225.3,1040.82 2226.33,1040.77 2227.36,1040.85 2228.38,1040.52 2229.41,1040.16 \n",
       "  2230.44,1039.65 2231.47,1039.47 2232.5,1039.42 2233.52,1039.24 2234.55,1038.97 2235.58,1038.4 2236.61,1037.72 2237.64,1037.43 2238.66,1037.11 2239.69,1037.04 \n",
       "  2240.72,1036.79 2241.75,1037.08 2242.78,1037.1 2243.81,1036.97 2244.83,1037.08 2245.86,1036.35 2246.89,1036.61 2247.92,1036.37 2248.95,1036.03 2249.97,1035.49 \n",
       "  2251,1036.54 2252.03,1036.49 2253.06,1036.09 2254.09,1035.85 2255.11,1035.18 2256.14,1035.35 2257.17,1034.75 2258.2,1034.63 2259.23,1033.78 2260.26,1033.75 \n",
       "  2261.28,1033.72 2262.31,1033.61 2263.34,1033.35 2264.37,1032.99 2265.4,1032.6 2266.42,1032.49 2267.45,1032.51 2268.48,1032.05 2269.51,1031.7 2270.54,1031.31 \n",
       "  2271.56,1031.49 2272.59,1031.23 2273.62,1031.26 2274.65,1031.4 2275.68,1031.31 2276.71,1031.46 2277.73,1031.31 2278.76,1030.71 2279.79,1030.33 2280.82,1030.27 \n",
       "  2281.85,1030.25 2282.87,1029.5 2283.9,1029.33 2284.93,1029.43 2285.96,1029.45 2286.99,1029.27 2288.01,1029.24 2289.04,1029.15 2290.07,1029.14 2291.1,1029 \n",
       "  \n",
       "  \"/>\n",
       "<polyline clip-path=\"url(#clip412)\" style=\"stroke:#e26f46; stroke-width:4; stroke-opacity:1; fill:none\" points=\"\n",
       "  235.871,1438.63 236.899,1438.63 237.927,1439.11 238.955,1439.11 239.983,1439.11 241.011,1439.11 242.039,1439.11 243.068,1439.11 244.096,1439.11 245.124,1439.11 \n",
       "  246.152,1439.11 247.18,1439.11 248.208,1439.11 249.236,1439.11 250.265,1439.11 251.293,1439.11 252.321,1439.11 253.349,1439.11 254.377,1439.11 255.405,1439.11 \n",
       "  256.433,1439.11 257.461,1439.11 258.49,1439.11 259.518,1439.11 260.546,1439.11 261.574,1439.11 262.602,1439.11 263.63,1439.11 264.658,1439.29 265.686,1439.29 \n",
       "  266.715,1439.29 267.743,1439.29 268.771,1439.29 269.799,1439.29 270.827,1439.29 271.855,1439.29 272.883,1439.29 273.911,1439.63 274.94,1439.63 275.968,1439.63 \n",
       "  276.996,1439.63 278.024,1439.85 279.052,1439.85 280.08,1439.85 281.108,1439.84 282.137,1439.84 283.165,1439.85 284.193,1439.85 285.221,1439.85 286.249,1440.44 \n",
       "  287.277,1440.44 288.305,1440.46 289.333,1440.46 290.362,1440.46 291.39,1440.47 292.418,1440.47 293.446,1440.47 294.474,1440.47 295.502,1440.94 296.53,1440.94 \n",
       "  297.558,1441.17 298.587,1441.17 299.615,1441.17 300.643,1441.17 301.671,1441.17 302.699,1441.17 303.727,1441.2 304.755,1441.19 305.783,1441.24 306.812,1441.43 \n",
       "  307.84,1441.43 308.868,1441.43 309.896,1441.43 310.924,1441.42 311.952,1441.42 312.98,1441.41 314.008,1441.51 315.037,1441.51 316.065,1441.51 317.093,1441.51 \n",
       "  318.121,1441.5 319.149,1441.5 320.177,1441.5 321.205,1441.5 322.234,1441.43 323.262,1441.43 324.29,1441.42 325.318,1441.42 326.346,1441.42 327.374,1441.42 \n",
       "  328.402,1441.42 329.43,1441.42 330.459,1441.42 331.487,1441.42 332.515,1441.92 333.543,1442.12 334.571,1442.09 335.599,1442.09 336.627,1442.04 337.655,1442.04 \n",
       "  338.684,1442.04 339.712,1442.02 340.74,1442.02 341.768,1442.02 342.796,1442.02 343.824,1442.02 344.852,1441.99 345.88,1441.99 346.909,1441.97 347.937,1441.97 \n",
       "  348.965,1441.97 349.993,1441.98 351.021,1441.98 352.049,1441.98 353.077,1442 354.105,1442 355.134,1442 356.162,1442 357.19,1442 358.218,1442.01 \n",
       "  359.246,1442.01 360.274,1442 361.302,1442.01 362.331,1442.07 363.359,1442.07 364.387,1442.06 365.415,1442.07 366.443,1442.05 367.471,1442.05 368.499,1442.05 \n",
       "  369.527,1442.05 370.556,1442.05 371.584,1442.06 372.612,1442.06 373.64,1442.05 374.668,1442.05 375.696,1442.08 376.724,1442.15 377.752,1442.15 378.781,1442.15 \n",
       "  379.809,1442.15 380.837,1442.15 381.865,1442.16 382.893,1442.16 383.921,1442.16 384.949,1442.16 385.977,1442.16 387.006,1442.16 388.034,1442.17 389.062,1442.17 \n",
       "  390.09,1442.27 391.118,1442.44 392.146,1442.44 393.174,1442.44 394.202,1442.43 395.231,1442.41 396.259,1442.4 397.287,1442.4 398.315,1442.52 399.343,1442.51 \n",
       "  400.371,1443.15 401.399,1443.15 402.428,1443.13 403.456,1443.12 404.484,1443.12 405.512,1443.12 406.54,1443.12 407.568,1443.13 408.596,1443.13 409.624,1443.14 \n",
       "  410.653,1443.14 411.681,1443.14 412.709,1443.14 413.737,1443.13 414.765,1443.13 415.793,1443.13 416.821,1443.1 417.849,1443.1 418.878,1443.11 419.906,1443.03 \n",
       "  420.934,1442.96 421.962,1442.96 422.99,1442.98 424.018,1442.98 425.046,1442.94 426.074,1442.94 427.103,1442.96 428.131,1442.96 429.159,1442.96 430.187,1442.96 \n",
       "  431.215,1442.97 432.243,1442.98 433.271,1442.98 434.299,1443 435.328,1443 436.356,1443.01 437.384,1443 438.412,1443 439.44,1443 440.468,1443 \n",
       "  441.496,1443.02 442.525,1443.01 443.553,1443.01 444.581,1443.02 445.609,1443.03 446.637,1443.03 447.665,1443.03 448.693,1443.03 449.721,1442.99 450.75,1442.99 \n",
       "  451.778,1442.99 452.806,1442.95 453.834,1442.95 454.862,1442.97 455.89,1442.97 456.918,1443.05 457.946,1443.05 458.975,1443.05 460.003,1443.05 461.031,1443.05 \n",
       "  462.059,1443.04 463.087,1443.04 464.115,1443.04 465.143,1443.05 466.171,1443.05 467.2,1443.06 468.228,1443.03 469.256,1443.03 470.284,1443.03 471.312,1443.02 \n",
       "  472.34,1443.02 473.368,1443.03 474.396,1443.02 475.425,1443.03 476.453,1443.01 477.481,1443 478.509,1443 479.537,1443.01 480.565,1443.01 481.593,1443.01 \n",
       "  482.622,1443.01 483.65,1443.02 484.678,1443.03 485.706,1443.22 486.734,1443.22 487.762,1443.22 488.79,1443.22 489.818,1443.22 490.847,1443.19 491.875,1443.2 \n",
       "  492.903,1443.2 493.931,1443.2 494.959,1443.21 495.987,1443.32 497.015,1443.31 498.043,1443.32 499.072,1443.31 500.1,1443.31 501.128,1443.31 502.156,1443.31 \n",
       "  503.184,1443.32 504.212,1443.32 505.24,1443.33 506.268,1443.33 507.297,1443.65 508.325,1443.65 509.353,1443.65 510.381,1443.66 511.409,1443.65 512.437,1443.74 \n",
       "  513.465,1443.74 514.493,1443.73 515.522,1443.74 516.55,1443.89 517.578,1443.9 518.606,1443.91 519.634,1443.91 520.662,1443.91 521.69,1443.91 522.719,1443.9 \n",
       "  523.747,1443.9 524.775,1443.91 525.803,1443.9 526.831,1443.9 527.859,1443.9 528.887,1443.9 529.915,1443.9 530.944,1443.89 531.972,1443.89 533,1443.88 \n",
       "  534.028,1443.88 535.056,1443.86 536.084,1443.86 537.112,1443.86 538.14,1444.08 539.169,1444.08 540.197,1444.08 541.225,1444.08 542.253,1444.08 543.281,1444.07 \n",
       "  544.309,1444.08 545.337,1444.08 546.365,1444.08 547.394,1444.08 548.422,1444.08 549.45,1444.08 550.478,1444.08 551.506,1444.08 552.534,1444.08 553.562,1444.21 \n",
       "  554.59,1444.21 555.619,1444.21 556.647,1444.2 557.675,1444.2 558.703,1444.19 559.731,1444.19 560.759,1444.19 561.787,1444.19 562.816,1444.19 563.844,1444.19 \n",
       "  564.872,1444.18 565.9,1444.18 566.928,1444.18 567.956,1444.17 568.984,1444.17 570.012,1444.17 571.041,1444.17 572.069,1444.17 573.097,1444.17 574.125,1444.16 \n",
       "  575.153,1444.18 576.181,1444.17 577.209,1444.18 578.237,1444.12 579.266,1444.13 580.294,1444.13 581.322,1444.13 582.35,1444.12 583.378,1444.19 584.406,1444.2 \n",
       "  585.434,1444.2 586.462,1444.2 587.491,1444.19 588.519,1444.19 589.547,1444.19 590.575,1444.2 591.603,1444.2 592.631,1444.19 593.659,1444.19 594.687,1444.18 \n",
       "  595.716,1444.18 596.744,1444.18 597.772,1444.18 598.8,1444.18 599.828,1444.19 600.856,1444.19 601.884,1444.19 602.913,1444.18 603.941,1444.18 604.969,1444.18 \n",
       "  605.997,1444.38 607.025,1444.38 608.053,1444.38 609.081,1444.37 610.109,1444.38 611.138,1444.37 612.166,1444.38 613.194,1444.38 614.222,1444.38 615.25,1444.38 \n",
       "  616.278,1444.38 617.306,1444.39 618.334,1444.39 619.363,1444.39 620.391,1444.39 621.419,1444.39 622.447,1444.4 623.475,1444.4 624.503,1444.39 625.531,1444.39 \n",
       "  626.559,1444.33 627.588,1444.33 628.616,1444.33 629.644,1444.33 630.672,1444.33 631.7,1444.3 632.728,1444.3 633.756,1444.3 634.784,1444.29 635.813,1444.29 \n",
       "  636.841,1444.3 637.869,1444.29 638.897,1444.3 639.925,1444.29 640.953,1444.29 641.981,1444.29 643.01,1444.3 644.038,1444.3 645.066,1444.31 646.094,1444.31 \n",
       "  647.122,1444.31 648.15,1444.31 649.178,1444.3 650.206,1444.31 651.235,1444.31 652.263,1444.31 653.291,1444.3 654.319,1444.3 655.347,1444.3 656.375,1444.3 \n",
       "  657.403,1444.3 658.431,1444.3 659.46,1444.29 660.488,1444.29 661.516,1444.29 662.544,1444.29 663.572,1444.27 664.6,1444.28 665.628,1444.27 666.656,1444.27 \n",
       "  667.685,1444.27 668.713,1444.27 669.741,1444.28 670.769,1444.28 671.797,1444.29 672.825,1444.29 673.853,1444.29 674.881,1444.29 675.91,1444.29 676.938,1444.29 \n",
       "  677.966,1444.32 678.994,1444.32 680.022,1444.32 681.05,1444.33 682.078,1444.33 683.107,1444.33 684.135,1444.32 685.163,1444.32 686.191,1444.32 687.219,1444.32 \n",
       "  688.247,1444.32 689.275,1444.32 690.303,1444.31 691.332,1444.32 692.36,1444.33 693.388,1444.33 694.416,1444.33 695.444,1444.33 696.472,1444.33 697.5,1444.33 \n",
       "  698.528,1444.34 699.557,1444.34 700.585,1444.34 701.613,1444.34 702.641,1444.33 703.669,1444.32 704.697,1444.32 705.725,1444.32 706.753,1444.32 707.782,1444.32 \n",
       "  708.81,1444.32 709.838,1444.32 710.866,1444.33 711.894,1444.33 712.922,1444.33 713.95,1444.33 714.978,1444.33 716.007,1444.33 717.035,1444.33 718.063,1444.33 \n",
       "  719.091,1444.33 720.119,1444.33 721.147,1444.33 722.175,1444.33 723.204,1444.33 724.232,1444.33 725.26,1444.34 726.288,1444.34 727.316,1444.34 728.344,1444.37 \n",
       "  729.372,1444.36 730.4,1444.36 731.429,1444.36 732.457,1444.36 733.485,1444.36 734.513,1444.36 735.541,1444.36 736.569,1444.36 737.597,1444.36 738.625,1444.36 \n",
       "  739.654,1444.37 740.682,1444.37 741.71,1444.37 742.738,1444.37 743.766,1444.37 744.794,1444.37 745.822,1444.37 746.85,1444.37 747.879,1444.37 748.907,1444.38 \n",
       "  749.935,1444.37 750.963,1444.37 751.991,1444.37 753.019,1444.37 754.047,1444.38 755.075,1444.38 756.104,1444.38 757.132,1444.38 758.16,1444.38 759.188,1444.38 \n",
       "  760.216,1444.38 761.244,1444.38 762.272,1444.38 763.301,1444.38 764.329,1444.38 765.357,1444.38 766.385,1444.38 767.413,1444.38 768.441,1444.39 769.469,1444.39 \n",
       "  770.497,1444.39 771.526,1444.39 772.554,1444.39 773.582,1444.39 774.61,1444.4 775.638,1444.4 776.666,1444.4 777.694,1444.39 778.722,1444.39 779.751,1444.39 \n",
       "  780.779,1444.38 781.807,1444.38 782.835,1444.39 783.863,1444.39 784.891,1444.38 785.919,1444.38 786.947,1444.38 787.976,1444.38 789.004,1444.37 790.032,1444.37 \n",
       "  791.06,1444.37 792.088,1444.37 793.116,1444.37 794.144,1444.37 795.172,1444.37 796.201,1444.37 797.229,1444.36 798.257,1444.36 799.285,1444.36 800.313,1444.37 \n",
       "  801.341,1444.36 802.369,1444.36 803.398,1444.37 804.426,1444.36 805.454,1444.36 806.482,1444.36 807.51,1444.35 808.538,1444.36 809.566,1444.36 810.594,1444.36 \n",
       "  811.623,1444.36 812.651,1444.36 813.679,1444.36 814.707,1444.36 815.735,1444.36 816.763,1444.36 817.791,1444.36 818.819,1444.36 819.848,1444.36 820.876,1444.36 \n",
       "  821.904,1444.36 822.932,1444.36 823.96,1444.36 824.988,1444.36 826.016,1444.36 827.044,1444.36 828.073,1444.36 829.101,1444.37 830.129,1444.37 831.157,1444.36 \n",
       "  832.185,1444.36 833.213,1444.37 834.241,1444.37 835.269,1444.37 836.298,1444.37 837.326,1444.37 838.354,1444.37 839.382,1444.37 840.41,1444.37 841.438,1444.37 \n",
       "  842.466,1444.38 843.495,1444.38 844.523,1444.38 845.551,1444.38 846.579,1444.38 847.607,1444.38 848.635,1444.38 849.663,1444.38 850.691,1444.38 851.72,1444.38 \n",
       "  852.748,1444.38 853.776,1444.38 854.804,1444.37 855.832,1444.37 856.86,1444.37 857.888,1444.37 858.916,1444.37 859.945,1444.37 860.973,1444.37 862.001,1444.38 \n",
       "  863.029,1444.38 864.057,1444.36 865.085,1444.35 866.113,1444.35 867.141,1444.35 868.17,1444.35 869.198,1444.35 870.226,1444.35 871.254,1444.35 872.282,1444.35 \n",
       "  873.31,1444.36 874.338,1444.35 875.366,1444.35 876.395,1444.35 877.423,1444.35 878.451,1444.35 879.479,1444.35 880.507,1444.35 881.535,1444.35 882.563,1444.35 \n",
       "  883.592,1444.35 884.62,1444.34 885.648,1444.34 886.676,1444.34 887.704,1444.34 888.732,1444.34 889.76,1444.34 890.788,1444.33 891.817,1444.33 892.845,1444.33 \n",
       "  893.873,1444.72 894.901,1444.72 895.929,1444.72 896.957,1444.72 897.985,1444.72 899.013,1444.72 900.042,1444.72 901.07,1444.72 902.098,1444.72 903.126,1444.72 \n",
       "  904.154,1444.72 905.182,1444.71 906.21,1444.71 907.238,1444.71 908.267,1444.71 909.295,1444.7 910.323,1444.71 911.351,1444.71 912.379,1444.72 913.407,1444.72 \n",
       "  914.435,1444.72 915.463,1444.72 916.492,1444.72 917.52,1444.72 918.548,1444.72 919.576,1444.72 920.604,1444.72 921.632,1444.72 922.66,1444.72 923.689,1444.71 \n",
       "  924.717,1444.71 925.745,1444.7 926.773,1444.7 927.801,1444.7 928.829,1444.7 929.857,1444.7 930.885,1444.7 931.914,1444.7 932.942,1444.69 933.97,1444.69 \n",
       "  934.998,1444.69 936.026,1444.69 937.054,1444.69 938.082,1444.69 939.11,1444.69 940.139,1444.69 941.167,1444.69 942.195,1444.69 943.223,1444.69 944.251,1444.69 \n",
       "  945.279,1444.69 946.307,1444.69 947.335,1444.69 948.364,1444.68 949.392,1444.68 950.42,1444.68 951.448,1444.68 952.476,1444.68 953.504,1444.68 954.532,1444.68 \n",
       "  955.56,1444.68 956.589,1444.68 957.617,1444.67 958.645,1444.67 959.673,1444.66 960.701,1444.66 961.729,1444.66 962.757,1444.66 963.786,1444.66 964.814,1444.66 \n",
       "  965.842,1444.66 966.87,1444.66 967.898,1444.66 968.926,1444.66 969.954,1444.66 970.982,1444.66 972.011,1444.65 973.039,1444.65 974.067,1444.65 975.095,1444.65 \n",
       "  976.123,1444.69 977.151,1444.66 978.179,1444.66 979.207,1444.66 980.236,1444.66 981.264,1444.66 982.292,1444.65 983.32,1444.66 984.348,1444.65 985.376,1444.65 \n",
       "  986.404,1444.65 987.432,1444.65 988.461,1444.65 989.489,1444.65 990.517,1444.64 991.545,1444.64 992.573,1444.65 993.601,1444.65 994.629,1444.65 995.657,1444.65 \n",
       "  996.686,1444.65 997.714,1444.65 998.742,1444.65 999.77,1444.65 1000.8,1444.65 1001.83,1444.65 1002.85,1444.65 1003.88,1444.66 1004.91,1444.66 1005.94,1444.65 \n",
       "  1006.97,1444.66 1008,1444.65 1009.02,1444.65 1010.05,1444.65 1011.08,1444.66 1012.11,1444.66 1013.14,1444.66 1014.16,1444.66 1015.19,1444.66 1016.22,1444.66 \n",
       "  1017.25,1444.66 1018.28,1444.66 1019.3,1444.66 1020.33,1444.66 1021.36,1444.66 1022.39,1444.66 1023.42,1444.66 1024.45,1444.66 1025.47,1444.66 1026.5,1444.67 \n",
       "  1027.53,1444.67 1028.56,1444.67 1029.59,1444.67 1030.61,1444.67 1031.64,1444.67 1032.67,1444.67 1033.7,1444.67 1034.73,1444.68 1035.75,1444.68 1036.78,1444.68 \n",
       "  1037.81,1444.68 1038.84,1444.68 1039.87,1444.68 1040.9,1444.69 1041.92,1444.69 1042.95,1444.69 1043.98,1444.69 1045.01,1444.69 1046.04,1444.69 1047.06,1444.69 \n",
       "  1048.09,1444.69 1049.12,1444.69 1050.15,1444.7 1051.18,1444.7 1052.2,1444.7 1053.23,1444.7 1054.26,1444.7 1055.29,1444.7 1056.32,1444.7 1057.35,1444.7 \n",
       "  1058.37,1444.68 1059.4,1444.68 1060.43,1444.68 1061.46,1444.67 1062.49,1444.67 1063.51,1444.68 1064.54,1444.68 1065.57,1444.68 1066.6,1444.68 1067.63,1444.67 \n",
       "  1068.65,1444.67 1069.68,1444.67 1070.71,1444.67 1071.74,1444.67 1072.77,1444.67 1073.8,1444.67 1074.82,1444.66 1075.85,1444.66 1076.88,1444.66 1077.91,1444.66 \n",
       "  1078.94,1444.66 1079.96,1444.65 1080.99,1444.65 1082.02,1444.65 1083.05,1444.65 1084.08,1444.64 1085.1,1444.64 1086.13,1444.65 1087.16,1444.65 1088.19,1444.65 \n",
       "  1089.22,1444.65 1090.25,1444.65 1091.27,1444.64 1092.3,1444.64 1093.33,1444.64 1094.36,1444.64 1095.39,1444.65 1096.41,1444.65 1097.44,1444.65 1098.47,1444.65 \n",
       "  1099.5,1444.66 1100.53,1444.66 1101.55,1444.66 1102.58,1444.67 1103.61,1444.67 1104.64,1444.67 1105.67,1444.67 1106.7,1444.68 1107.72,1444.68 1108.75,1444.68 \n",
       "  1109.78,1444.68 1110.81,1444.68 1111.84,1444.68 1112.86,1444.68 1113.89,1444.69 1114.92,1444.69 1115.95,1444.69 1116.98,1444.69 1118,1444.7 1119.03,1444.69 \n",
       "  1120.06,1444.69 1121.09,1444.69 1122.12,1444.69 1123.15,1444.69 1124.17,1444.7 1125.2,1444.7 1126.23,1444.69 1127.26,1444.69 1128.29,1444.69 1129.31,1444.69 \n",
       "  1130.34,1444.69 1131.37,1444.68 1132.4,1444.69 1133.43,1444.69 1134.45,1444.69 1135.48,1444.68 1136.51,1444.68 1137.54,1444.68 1138.57,1444.69 1139.6,1444.68 \n",
       "  1140.62,1444.68 1141.65,1444.68 1142.68,1444.67 1143.71,1444.67 1144.74,1444.67 1145.76,1444.67 1146.79,1444.67 1147.82,1444.68 1148.85,1444.67 1149.88,1444.67 \n",
       "  1150.9,1444.67 1151.93,1444.67 1152.96,1444.67 1153.99,1444.67 1155.02,1444.67 1156.05,1444.67 1157.07,1444.67 1158.1,1444.67 1159.13,1444.67 1160.16,1444.67 \n",
       "  1161.19,1444.67 1162.21,1444.67 1163.24,1444.67 1164.27,1444.67 1165.3,1444.67 1166.33,1444.68 1167.35,1444.67 1168.38,1444.68 1169.41,1444.68 1170.44,1444.68 \n",
       "  1171.47,1444.68 1172.5,1444.68 1173.52,1444.69 1174.55,1444.68 1175.58,1444.68 1176.61,1444.69 1177.64,1444.69 1178.66,1444.69 1179.69,1444.69 1180.72,1444.69 \n",
       "  1181.75,1444.69 1182.78,1444.69 1183.8,1444.69 1184.83,1444.7 1185.86,1444.7 1186.89,1444.7 1187.92,1444.7 1188.95,1444.7 1189.97,1444.7 1191,1444.7 \n",
       "  1192.03,1444.7 1193.06,1444.7 1194.09,1444.7 1195.11,1444.7 1196.14,1444.7 1197.17,1444.7 1198.2,1444.7 1199.23,1444.7 1200.26,1444.69 1201.28,1444.69 \n",
       "  1202.31,1444.69 1203.34,1444.69 1204.37,1444.69 1205.4,1444.69 1206.42,1444.69 1207.45,1444.69 1208.48,1444.69 1209.51,1444.69 1210.54,1444.69 1211.56,1444.69 \n",
       "  1212.59,1444.69 1213.62,1444.69 1214.65,1444.69 1215.68,1444.69 1216.71,1444.7 1217.73,1444.69 1218.76,1444.69 1219.79,1444.69 1220.82,1444.69 1221.85,1444.69 \n",
       "  1222.87,1444.69 1223.9,1444.69 1224.93,1444.69 1225.96,1444.69 1226.99,1444.69 1228.01,1444.69 1229.04,1444.7 1230.07,1444.69 1231.1,1444.69 1232.13,1444.69 \n",
       "  1233.16,1444.69 1234.18,1444.69 1235.21,1444.69 1236.24,1444.69 1237.27,1444.7 1238.3,1444.7 1239.32,1444.7 1240.35,1444.7 1241.38,1444.7 1242.41,1444.7 \n",
       "  1243.44,1444.69 1244.46,1444.7 1245.49,1444.7 1246.52,1444.7 1247.55,1444.7 1248.58,1444.7 1249.61,1444.69 1250.63,1444.69 1251.66,1444.69 1252.69,1444.69 \n",
       "  1253.72,1444.69 1254.75,1444.69 1255.77,1444.69 1256.8,1444.69 1257.83,1444.69 1258.86,1444.69 1259.89,1444.69 1260.91,1444.69 1261.94,1444.69 1262.97,1444.69 \n",
       "  1264,1444.69 1265.03,1444.69 1266.06,1444.69 1267.08,1444.69 1268.11,1444.69 1269.14,1444.7 1270.17,1444.69 1271.2,1444.69 1272.22,1444.69 1273.25,1444.69 \n",
       "  1274.28,1444.69 1275.31,1444.69 1276.34,1444.7 1277.36,1444.7 1278.39,1444.7 1279.42,1444.7 1280.45,1444.69 1281.48,1444.69 1282.51,1444.7 1283.53,1444.7 \n",
       "  1284.56,1444.71 1285.59,1444.71 1286.62,1444.7 1287.65,1444.7 1288.67,1444.7 1289.7,1444.7 1290.73,1444.7 1291.76,1444.69 1292.79,1444.69 1293.81,1444.69 \n",
       "  1294.84,1444.69 1295.87,1444.69 1296.9,1444.69 1297.93,1444.69 1298.96,1444.69 1299.98,1444.69 1301.01,1444.69 1302.04,1444.69 1303.07,1444.69 1304.1,1444.69 \n",
       "  1305.12,1444.68 1306.15,1444.68 1307.18,1444.68 1308.21,1444.67 1309.24,1444.67 1310.26,1444.67 1311.29,1444.67 1312.32,1444.67 1313.35,1444.67 1314.38,1444.67 \n",
       "  1315.41,1444.67 1316.43,1444.67 1317.46,1444.67 1318.49,1444.66 1319.52,1444.66 1320.55,1444.66 1321.57,1444.65 1322.6,1444.65 1323.63,1444.65 1324.66,1444.65 \n",
       "  1325.69,1444.65 1326.71,1444.65 1327.74,1444.65 1328.77,1444.65 1329.8,1444.65 1330.83,1444.65 1331.86,1444.65 1332.88,1444.65 1333.91,1444.65 1334.94,1444.65 \n",
       "  1335.97,1444.65 1337,1444.65 1338.02,1444.65 1339.05,1444.65 1340.08,1444.65 1341.11,1444.65 1342.14,1444.65 1343.16,1444.64 1344.19,1444.65 1345.22,1444.64 \n",
       "  1346.25,1444.64 1347.28,1444.64 1348.31,1444.64 1349.33,1444.65 1350.36,1444.65 1351.39,1444.66 1352.42,1444.66 1353.45,1444.67 1354.47,1444.67 1355.5,1444.67 \n",
       "  1356.53,1444.67 1357.56,1444.67 1358.59,1444.67 1359.61,1444.67 1360.64,1444.67 1361.67,1444.67 1362.7,1444.67 1363.73,1444.67 1364.76,1444.67 1365.78,1444.67 \n",
       "  1366.81,1444.67 1367.84,1444.66 1368.87,1444.66 1369.9,1444.66 1370.92,1444.66 1371.95,1444.66 1372.98,1444.66 1374.01,1444.66 1375.04,1444.66 1376.06,1444.66 \n",
       "  1377.09,1444.66 1378.12,1444.66 1379.15,1444.66 1380.18,1444.66 1381.21,1444.67 1382.23,1444.68 1383.26,1444.67 1384.29,1444.67 1385.32,1444.67 1386.35,1444.67 \n",
       "  1387.37,1444.66 1388.4,1444.67 1389.43,1444.66 1390.46,1444.66 1391.49,1444.66 1392.51,1444.67 1393.54,1444.67 1394.57,1444.67 1395.6,1444.66 1396.63,1444.67 \n",
       "  1397.66,1444.66 1398.68,1444.67 1399.71,1444.67 1400.74,1444.67 1401.77,1444.66 1402.8,1444.67 1403.82,1444.67 1404.85,1444.67 1405.88,1444.67 1406.91,1444.67 \n",
       "  1407.94,1444.67 1408.97,1444.67 1409.99,1444.67 1411.02,1444.67 1412.05,1444.67 1413.08,1444.67 1414.11,1444.67 1415.13,1444.67 1416.16,1444.67 1417.19,1444.68 \n",
       "  1418.22,1444.68 1419.25,1444.67 1420.27,1444.68 1421.3,1444.68 1422.33,1444.68 1423.36,1444.68 1424.39,1444.68 1425.42,1444.68 1426.44,1444.68 1427.47,1444.68 \n",
       "  1428.5,1444.68 1429.53,1444.67 1430.56,1444.68 1431.58,1444.68 1432.61,1444.67 1433.64,1444.67 1434.67,1444.67 1435.7,1444.67 1436.72,1444.67 1437.75,1444.67 \n",
       "  1438.78,1444.67 1439.81,1444.68 1440.84,1444.68 1441.87,1444.68 1442.89,1444.68 1443.92,1444.68 1444.95,1444.68 1445.98,1444.68 1447.01,1444.68 1448.03,1444.68 \n",
       "  1449.06,1444.68 1450.09,1444.68 1451.12,1444.68 1452.15,1444.68 1453.17,1444.68 1454.2,1444.68 1455.23,1444.68 1456.26,1444.68 1457.29,1444.68 1458.32,1444.67 \n",
       "  1459.34,1444.67 1460.37,1444.67 1461.4,1444.67 1462.43,1444.67 1463.46,1444.68 1464.48,1444.68 1465.51,1444.68 1466.54,1444.68 1467.57,1444.68 1468.6,1444.68 \n",
       "  1469.62,1444.68 1470.65,1444.68 1471.68,1444.68 1472.71,1444.68 1473.74,1444.68 1474.77,1444.69 1475.79,1444.68 1476.82,1444.68 1477.85,1444.68 1478.88,1444.68 \n",
       "  1479.91,1444.69 1480.93,1444.69 1481.96,1444.7 1482.99,1444.7 1484.02,1444.7 1485.05,1444.7 1486.07,1444.7 1487.1,1444.7 1488.13,1444.7 1489.16,1444.7 \n",
       "  1490.19,1444.7 1491.22,1444.7 1492.24,1444.7 1493.27,1444.7 1494.3,1444.7 1495.33,1444.7 1496.36,1444.7 1497.38,1444.7 1498.41,1444.7 1499.44,1444.7 \n",
       "  1500.47,1444.69 1501.5,1444.69 1502.52,1444.69 1503.55,1444.69 1504.58,1444.69 1505.61,1444.69 1506.64,1444.69 1507.67,1444.7 1508.69,1444.7 1509.72,1444.71 \n",
       "  1510.75,1444.73 1511.78,1444.71 1512.81,1444.71 1513.83,1444.71 1514.86,1444.71 1515.89,1444.71 1516.92,1444.71 1517.95,1444.71 1518.97,1444.71 1520,1444.71 \n",
       "  1521.03,1444.71 1522.06,1444.71 1523.09,1444.71 1524.12,1444.71 1525.14,1444.72 1526.17,1444.71 1527.2,1444.71 1528.23,1444.71 1529.26,1444.71 1530.28,1444.71 \n",
       "  1531.31,1444.71 1532.34,1444.71 1533.37,1444.71 1534.4,1444.71 1535.42,1444.71 1536.45,1444.71 1537.48,1444.71 1538.51,1444.71 1539.54,1444.7 1540.57,1444.71 \n",
       "  1541.59,1444.71 1542.62,1444.71 1543.65,1444.71 1544.68,1444.72 1545.71,1444.72 1546.73,1444.71 1547.76,1444.72 1548.79,1444.71 1549.82,1444.71 1550.85,1444.71 \n",
       "  1551.87,1444.76 1552.9,1444.76 1553.93,1444.76 1554.96,1444.76 1555.99,1444.76 1557.02,1444.75 1558.04,1444.74 1559.07,1444.75 1560.1,1444.74 1561.13,1444.74 \n",
       "  1562.16,1444.74 1563.18,1444.74 1564.21,1444.74 1565.24,1444.74 1566.27,1444.74 1567.3,1444.74 1568.32,1444.74 1569.35,1444.74 1570.38,1444.74 1571.41,1444.74 \n",
       "  1572.44,1444.74 1573.47,1444.74 1574.49,1444.74 1575.52,1444.74 1576.55,1444.74 1577.58,1444.74 1578.61,1444.74 1579.63,1444.74 1580.66,1444.74 1581.69,1444.74 \n",
       "  1582.72,1444.74 1583.75,1444.73 1584.77,1444.73 1585.8,1444.72 1586.83,1444.72 1587.86,1444.72 1588.89,1444.72 1589.92,1444.72 1590.94,1444.71 1591.97,1444.71 \n",
       "  1593,1444.71 1594.03,1444.71 1595.06,1444.71 1596.08,1444.71 1597.11,1444.71 1598.14,1444.71 1599.17,1444.7 1600.2,1444.71 1601.23,1444.71 1602.25,1444.71 \n",
       "  1603.28,1444.71 1604.31,1444.71 1605.34,1444.72 1606.37,1444.72 1607.39,1444.72 1608.42,1444.72 1609.45,1444.72 1610.48,1444.72 1611.51,1444.72 1612.53,1444.73 \n",
       "  1613.56,1444.73 1614.59,1444.73 1615.62,1444.74 1616.65,1444.74 1617.68,1444.74 1618.7,1444.73 1619.73,1444.73 1620.76,1444.73 1621.79,1444.73 1622.82,1444.73 \n",
       "  1623.84,1444.73 1624.87,1444.73 1625.9,1444.73 1626.93,1444.73 1627.96,1444.73 1628.98,1444.73 1630.01,1444.73 1631.04,1444.73 1632.07,1444.73 1633.1,1444.73 \n",
       "  1634.13,1444.73 1635.15,1444.74 1636.18,1444.74 1637.21,1444.74 1638.24,1444.74 1639.27,1444.74 1640.29,1444.74 1641.32,1444.74 1642.35,1444.74 1643.38,1444.74 \n",
       "  1644.41,1444.73 1645.43,1444.73 1646.46,1444.73 1647.49,1444.73 1648.52,1444.73 1649.55,1444.73 1650.58,1444.73 1651.6,1444.73 1652.63,1444.73 1653.66,1444.72 \n",
       "  1654.69,1444.72 1655.72,1444.72 1656.74,1444.72 1657.77,1444.72 1658.8,1444.72 1659.83,1444.72 1660.86,1444.72 1661.88,1444.72 1662.91,1444.72 1663.94,1444.72 \n",
       "  1664.97,1444.72 1666,1444.72 1667.03,1444.72 1668.05,1444.72 1669.08,1444.73 1670.11,1444.73 1671.14,1444.73 1672.17,1444.73 1673.19,1444.73 1674.22,1444.73 \n",
       "  1675.25,1444.72 1676.28,1444.72 1677.31,1444.72 1678.33,1444.76 1679.36,1444.89 1680.39,1444.89 1681.42,1444.9 1682.45,1444.9 1683.48,1444.89 1684.5,1444.89 \n",
       "  1685.53,1444.89 1686.56,1444.89 1687.59,1444.88 1688.62,1444.88 1689.64,1444.88 1690.67,1444.88 1691.7,1444.88 1692.73,1444.88 1693.76,1444.89 1694.78,1444.88 \n",
       "  1695.81,1444.89 1696.84,1444.89 1697.87,1444.89 1698.9,1444.89 1699.93,1444.88 1700.95,1444.88 1701.98,1444.88 1703.01,1444.88 1704.04,1444.88 1705.07,1444.88 \n",
       "  1706.09,1444.88 1707.12,1444.88 1708.15,1444.89 1709.18,1444.89 1710.21,1444.89 1711.23,1444.89 1712.26,1444.89 1713.29,1444.89 1714.32,1444.89 1715.35,1444.89 \n",
       "  1716.38,1444.89 1717.4,1444.89 1718.43,1444.89 1719.46,1444.89 1720.49,1444.91 1721.52,1444.91 1722.54,1444.91 1723.57,1444.91 1724.6,1444.92 1725.63,1444.92 \n",
       "  1726.66,1444.92 1727.68,1444.92 1728.71,1444.92 1729.74,1444.92 1730.77,1444.92 1731.8,1444.92 1732.83,1444.92 1733.85,1444.92 1734.88,1444.92 1735.91,1444.92 \n",
       "  1736.94,1444.92 1737.97,1444.92 1738.99,1444.92 1740.02,1444.92 1741.05,1444.92 1742.08,1444.92 1743.11,1444.92 1744.13,1444.92 1745.16,1444.92 1746.19,1444.92 \n",
       "  1747.22,1444.92 1748.25,1444.92 1749.28,1444.92 1750.3,1444.92 1751.33,1444.92 1752.36,1444.92 1753.39,1444.92 1754.42,1444.92 1755.44,1444.93 1756.47,1444.93 \n",
       "  1757.5,1444.93 1758.53,1444.93 1759.56,1444.93 1760.58,1444.93 1761.61,1445.31 1762.64,1445.31 1763.67,1445.31 1764.7,1445.31 1765.73,1445.31 1766.75,1445.31 \n",
       "  1767.78,1445.31 1768.81,1445.31 1769.84,1445.31 1770.87,1445.31 1771.89,1445.31 1772.92,1445.31 1773.95,1445.31 1774.98,1445.31 1776.01,1445.31 1777.03,1445.31 \n",
       "  1778.06,1445.31 1779.09,1445.31 1780.12,1445.31 1781.15,1445.31 1782.18,1445.31 1783.2,1445.31 1784.23,1445.31 1785.26,1445.31 1786.29,1445.31 1787.32,1445.31 \n",
       "  1788.34,1445.31 1789.37,1445.31 1790.4,1445.31 1791.43,1445.32 1792.46,1445.31 1793.48,1445.31 1794.51,1445.31 1795.54,1445.31 1796.57,1445.32 1797.6,1445.32 \n",
       "  1798.63,1445.31 1799.65,1445.31 1800.68,1445.31 1801.71,1445.31 1802.74,1445.31 1803.77,1445.31 1804.79,1445.31 1805.82,1445.31 1806.85,1445.31 1807.88,1445.31 \n",
       "  1808.91,1445.31 1809.94,1445.31 1810.96,1445.31 1811.99,1445.31 1813.02,1445.31 1814.05,1445.31 1815.08,1445.31 1816.1,1445.31 1817.13,1445.31 1818.16,1445.31 \n",
       "  1819.19,1445.31 1820.22,1445.31 1821.24,1445.31 1822.27,1445.31 1823.3,1445.31 1824.33,1445.31 1825.36,1445.31 1826.39,1445.31 1827.41,1445.31 1828.44,1445.31 \n",
       "  1829.47,1445.31 1830.5,1445.31 1831.53,1445.31 1832.55,1445.3 1833.58,1445.3 1834.61,1445.3 1835.64,1445.3 1836.67,1445.3 1837.69,1445.3 1838.72,1445.3 \n",
       "  1839.75,1445.3 1840.78,1445.3 1841.81,1445.3 1842.84,1445.3 1843.86,1445.3 1844.89,1445.3 1845.92,1445.31 1846.95,1445.31 1847.98,1445.31 1849,1445.31 \n",
       "  1850.03,1445.31 1851.06,1445.31 1852.09,1445.32 1853.12,1445.31 1854.14,1445.32 1855.17,1445.32 1856.2,1445.33 1857.23,1445.33 1858.26,1445.33 1859.29,1445.33 \n",
       "  1860.31,1445.32 1861.34,1445.32 1862.37,1445.33 1863.4,1445.33 1864.43,1445.33 1865.45,1445.33 1866.48,1445.32 1867.51,1445.32 1868.54,1445.32 1869.57,1445.32 \n",
       "  1870.59,1445.33 1871.62,1445.33 1872.65,1445.33 1873.68,1445.33 1874.71,1445.33 1875.74,1445.33 1876.76,1445.33 1877.79,1445.33 1878.82,1445.33 1879.85,1445.33 \n",
       "  1880.88,1445.34 1881.9,1445.34 1882.93,1445.34 1883.96,1445.34 1884.99,1445.34 1886.02,1445.34 1887.04,1445.34 1888.07,1445.34 1889.1,1445.34 1890.13,1445.34 \n",
       "  1891.16,1445.34 1892.19,1445.34 1893.21,1445.34 1894.24,1445.35 1895.27,1445.35 1896.3,1445.36 1897.33,1445.35 1898.35,1445.35 1899.38,1445.36 1900.41,1445.36 \n",
       "  1901.44,1445.37 1902.47,1445.37 1903.49,1445.37 1904.52,1445.37 1905.55,1445.37 1906.58,1445.37 1907.61,1445.37 1908.64,1445.37 1909.66,1445.37 1910.69,1445.37 \n",
       "  1911.72,1445.38 1912.75,1445.37 1913.78,1445.38 1914.8,1445.38 1915.83,1445.38 1916.86,1445.38 1917.89,1445.38 1918.92,1445.38 1919.94,1445.38 1920.97,1445.38 \n",
       "  1922,1445.4 1923.03,1445.4 1924.06,1445.4 1925.09,1445.4 1926.11,1445.4 1927.14,1445.4 1928.17,1445.4 1929.2,1445.4 1930.23,1445.4 1931.25,1445.4 \n",
       "  1932.28,1445.4 1933.31,1445.4 1934.34,1445.4 1935.37,1445.4 1936.39,1445.4 1937.42,1445.4 1938.45,1445.41 1939.48,1445.41 1940.51,1445.41 1941.54,1445.41 \n",
       "  1942.56,1445.41 1943.59,1445.41 1944.62,1445.41 1945.65,1445.41 1946.68,1445.41 1947.7,1445.41 1948.73,1445.41 1949.76,1445.41 1950.79,1445.41 1951.82,1445.41 \n",
       "  1952.84,1445.41 1953.87,1445.41 1954.9,1445.41 1955.93,1445.41 1956.96,1445.41 1957.99,1445.41 1959.01,1445.42 1960.04,1445.42 1961.07,1445.42 1962.1,1445.42 \n",
       "  1963.13,1445.42 1964.15,1445.42 1965.18,1445.42 1966.21,1445.42 1967.24,1445.43 1968.27,1445.43 1969.29,1445.43 1970.32,1445.43 1971.35,1445.43 1972.38,1445.43 \n",
       "  1973.41,1445.43 1974.44,1445.43 1975.46,1445.44 1976.49,1445.44 1977.52,1445.44 1978.55,1445.44 1979.58,1445.44 1980.6,1445.44 1981.63,1445.44 1982.66,1445.44 \n",
       "  1983.69,1445.44 1984.72,1445.44 1985.74,1445.44 1986.77,1445.44 1987.8,1445.44 1988.83,1445.44 1989.86,1445.45 1990.89,1445.45 1991.91,1445.45 1992.94,1445.45 \n",
       "  1993.97,1445.45 1995,1445.45 1996.03,1445.46 1997.05,1445.45 1998.08,1445.46 1999.11,1445.46 2000.14,1445.46 2001.17,1445.46 2002.2,1445.46 2003.22,1445.46 \n",
       "  2004.25,1445.45 2005.28,1445.46 2006.31,1445.45 2007.34,1445.45 2008.36,1445.45 2009.39,1445.45 2010.42,1445.46 2011.45,1445.45 2012.48,1445.45 2013.5,1445.45 \n",
       "  2014.53,1445.46 2015.56,1445.45 2016.59,1445.46 2017.62,1445.46 2018.65,1445.46 2019.67,1445.46 2020.7,1445.46 2021.73,1445.46 2022.76,1445.46 2023.79,1445.46 \n",
       "  2024.81,1445.46 2025.84,1445.45 2026.87,1445.46 2027.9,1445.46 2028.93,1445.46 2029.95,1445.46 2030.98,1445.46 2032.01,1445.46 2033.04,1445.46 2034.07,1445.46 \n",
       "  2035.1,1445.46 2036.12,1445.46 2037.15,1445.46 2038.18,1445.46 2039.21,1445.46 2040.24,1445.46 2041.26,1445.46 2042.29,1445.47 2043.32,1445.47 2044.35,1445.48 \n",
       "  2045.38,1445.48 2046.4,1445.49 2047.43,1445.49 2048.46,1445.49 2049.49,1445.5 2050.52,1445.49 2051.55,1445.5 2052.57,1445.5 2053.6,1445.5 2054.63,1445.5 \n",
       "  2055.66,1445.5 2056.69,1445.5 2057.71,1445.51 2058.74,1445.51 2059.77,1445.51 2060.8,1445.51 2061.83,1445.51 2062.85,1445.51 2063.88,1445.51 2064.91,1445.51 \n",
       "  2065.94,1445.51 2066.97,1445.51 2068,1445.51 2069.02,1445.51 2070.05,1445.5 2071.08,1445.5 2072.11,1445.5 2073.14,1445.5 2074.16,1445.5 2075.19,1445.5 \n",
       "  2076.22,1445.5 2077.25,1445.5 2078.28,1445.5 2079.3,1445.49 2080.33,1445.5 2081.36,1445.5 2082.39,1445.5 2083.42,1445.5 2084.45,1445.5 2085.47,1445.5 \n",
       "  2086.5,1445.5 2087.53,1445.51 2088.56,1445.51 2089.59,1445.51 2090.61,1445.51 2091.64,1445.5 2092.67,1445.51 2093.7,1445.5 2094.73,1445.49 2095.75,1445.49 \n",
       "  2096.78,1445.5 2097.81,1445.5 2098.84,1445.5 2099.87,1445.5 2100.9,1445.5 2101.92,1445.5 2102.95,1445.52 2103.98,1445.65 2105.01,1445.65 2106.04,1445.65 \n",
       "  2107.06,1445.66 2108.09,1445.65 2109.12,1445.65 2110.15,1445.65 2111.18,1445.66 2112.2,1445.66 2113.23,1445.65 2114.26,1445.66 2115.29,1445.67 2116.32,1445.67 \n",
       "  2117.35,1445.68 2118.37,1445.68 2119.4,1445.68 2120.43,1445.68 2121.46,1445.68 2122.49,1445.68 2123.51,1445.68 2124.54,1445.69 2125.57,1445.69 2126.6,1445.68 \n",
       "  2127.63,1445.68 2128.65,1445.68 2129.68,1445.68 2130.71,1445.69 2131.74,1445.69 2132.77,1445.69 2133.8,1445.69 2134.82,1445.69 2135.85,1445.69 2136.88,1445.69 \n",
       "  2137.91,1445.69 2138.94,1445.69 2139.96,1445.7 2140.99,1445.7 2142.02,1445.7 2143.05,1445.69 2144.08,1445.69 2145.1,1445.69 2146.13,1445.69 2147.16,1445.69 \n",
       "  2148.19,1445.69 2149.22,1445.68 2150.25,1445.68 2151.27,1445.68 2152.3,1445.68 2153.33,1445.68 2154.36,1445.68 2155.39,1445.68 2156.41,1445.68 2157.44,1445.68 \n",
       "  2158.47,1445.68 2159.5,1445.68 2160.53,1445.68 2161.55,1445.68 2162.58,1445.68 2163.61,1445.68 2164.64,1445.68 2165.67,1445.68 2166.7,1445.67 2167.72,1445.67 \n",
       "  2168.75,1445.67 2169.78,1445.67 2170.81,1445.67 2171.84,1445.68 2172.86,1445.67 2173.89,1445.68 2174.92,1445.68 2175.95,1445.68 2176.98,1445.68 2178,1445.68 \n",
       "  2179.03,1445.68 2180.06,1445.68 2181.09,1445.68 2182.12,1445.68 2183.15,1445.68 2184.17,1445.68 2185.2,1445.67 2186.23,1445.67 2187.26,1445.67 2188.29,1445.67 \n",
       "  2189.31,1445.67 2190.34,1445.67 2191.37,1445.68 2192.4,1445.68 2193.43,1445.68 2194.46,1445.68 2195.48,1445.68 2196.51,1445.68 2197.54,1445.68 2198.57,1445.68 \n",
       "  2199.6,1445.68 2200.62,1445.67 2201.65,1445.67 2202.68,1445.67 2203.71,1445.67 2204.74,1445.67 2205.76,1445.72 2206.79,1445.72 2207.82,1445.71 2208.85,1445.71 \n",
       "  2209.88,1445.71 2210.91,1445.71 2211.93,1445.69 2212.96,1445.69 2213.99,1445.68 2215.02,1445.68 2216.05,1445.68 2217.07,1445.67 2218.1,1445.67 2219.13,1445.68 \n",
       "  2220.16,1445.67 2221.19,1445.68 2222.21,1445.67 2223.24,1445.67 2224.27,1445.67 2225.3,1445.67 2226.33,1445.67 2227.36,1445.67 2228.38,1445.67 2229.41,1445.67 \n",
       "  2230.44,1445.67 2231.47,1445.67 2232.5,1445.67 2233.52,1445.67 2234.55,1445.67 2235.58,1445.67 2236.61,1445.67 2237.64,1445.67 2238.66,1445.67 2239.69,1445.68 \n",
       "  2240.72,1445.67 2241.75,1445.68 2242.78,1445.67 2243.81,1445.67 2244.83,1445.67 2245.86,1445.67 2246.89,1445.67 2247.92,1445.67 2248.95,1445.66 2249.97,1445.66 \n",
       "  2251,1445.66 2252.03,1445.66 2253.06,1445.66 2254.09,1445.66 2255.11,1445.66 2256.14,1445.66 2257.17,1445.66 2258.2,1445.66 2259.23,1445.65 2260.26,1445.65 \n",
       "  2261.28,1445.65 2262.31,1445.65 2263.34,1445.65 2264.37,1445.65 2265.4,1445.64 2266.42,1445.64 2267.45,1445.64 2268.48,1445.64 2269.51,1445.63 2270.54,1445.64 \n",
       "  2271.56,1445.65 2272.59,1445.65 2273.62,1445.65 2274.65,1445.65 2275.68,1445.65 2276.71,1445.65 2277.73,1445.65 2278.76,1445.65 2279.79,1445.64 2280.82,1445.64 \n",
       "  2281.85,1445.64 2282.87,1445.64 2283.9,1445.64 2284.93,1445.64 2285.96,1445.64 2286.99,1445.64 2288.01,1445.64 2289.04,1445.64 2290.07,1445.64 2291.1,1445.64 \n",
       "  \n",
       "  \"/>\n",
       "<path clip-path=\"url(#clip410)\" d=\"\n",
       "M1987.06 276.658 L2280.14 276.658 L2280.14 95.2176 L1987.06 95.2176  Z\n",
       "  \" fill=\"#ffffff\" fill-rule=\"evenodd\" fill-opacity=\"1\"/>\n",
       "<polyline clip-path=\"url(#clip410)\" style=\"stroke:#000000; stroke-width:4; stroke-opacity:1; fill:none\" points=\"\n",
       "  1987.06,276.658 2280.14,276.658 2280.14,95.2176 1987.06,95.2176 1987.06,276.658 \n",
       "  \"/>\n",
       "<polyline clip-path=\"url(#clip410)\" style=\"stroke:#009af9; stroke-width:4; stroke-opacity:1; fill:none\" points=\"\n",
       "  2011.27,155.698 2156.5,155.698 \n",
       "  \"/>\n",
       "<path clip-path=\"url(#clip410)\" d=\"M 0 0 M2194.55 175.385 Q2192.74 180.015 2191.03 181.427 Q2189.32 182.839 2186.45 182.839 L2183.05 182.839 L2183.05 179.274 L2185.55 179.274 Q2187.3 179.274 2188.28 178.44 Q2189.25 177.607 2190.43 174.505 L2191.19 172.561 L2180.71 147.052 L2185.22 147.052 L2193.32 167.329 L2201.43 147.052 L2205.94 147.052 L2194.55 175.385 Z\" fill=\"#000000\" fill-rule=\"evenodd\" fill-opacity=\"1\" /><path clip-path=\"url(#clip410)\" d=\"M 0 0 M2211.82 169.042 L2219.46 169.042 L2219.46 142.677 L2211.15 144.343 L2211.15 140.084 L2219.41 138.418 L2224.09 138.418 L2224.09 169.042 L2231.73 169.042 L2231.73 172.978 L2211.82 172.978 L2211.82 169.042 Z\" fill=\"#000000\" fill-rule=\"evenodd\" fill-opacity=\"1\" /><polyline clip-path=\"url(#clip410)\" style=\"stroke:#e26f46; stroke-width:4; stroke-opacity:1; fill:none\" points=\"\n",
       "  2011.27,216.178 2156.5,216.178 \n",
       "  \"/>\n",
       "<path clip-path=\"url(#clip410)\" d=\"M 0 0 M2194.55 235.865 Q2192.74 240.495 2191.03 241.907 Q2189.32 243.319 2186.45 243.319 L2183.05 243.319 L2183.05 239.754 L2185.55 239.754 Q2187.3 239.754 2188.28 238.92 Q2189.25 238.087 2190.43 234.985 L2191.19 233.041 L2180.71 207.532 L2185.22 207.532 L2193.32 227.809 L2201.43 207.532 L2205.94 207.532 L2194.55 235.865 Z\" fill=\"#000000\" fill-rule=\"evenodd\" fill-opacity=\"1\" /><path clip-path=\"url(#clip410)\" d=\"M 0 0 M2215.04 229.522 L2231.36 229.522 L2231.36 233.458 L2209.41 233.458 L2209.41 229.522 Q2212.07 226.768 2216.66 222.138 Q2221.26 217.485 2222.44 216.143 Q2224.69 213.62 2225.57 211.884 Q2226.47 210.124 2226.47 208.435 Q2226.47 205.68 2224.53 203.944 Q2222.61 202.208 2219.5 202.208 Q2217.3 202.208 2214.85 202.972 Q2212.42 203.735 2209.64 205.286 L2209.64 200.564 Q2212.47 199.43 2214.92 198.851 Q2217.37 198.273 2219.41 198.273 Q2224.78 198.273 2227.98 200.958 Q2231.17 203.643 2231.17 208.134 Q2231.17 210.263 2230.36 212.185 Q2229.57 214.083 2227.47 216.675 Q2226.89 217.347 2223.79 220.564 Q2220.68 223.759 2215.04 229.522 Z\" fill=\"#000000\" fill-rule=\"evenodd\" fill-opacity=\"1\" /></svg>\n"
      ]
     },
     "execution_count": 420,
     "metadata": {},
     "output_type": "execute_result"
    }
   ],
   "source": [
    "tmp = get_stats(load_results(best_per_algo_ics[1],:mc_error), per_gvf=true)[1]\n",
    "# length(tmp[1])\n",
    "# plot_mc_errors(tmp, [\"D1\" \"D2\"],step_increment = 50,data_std=data_std, title=\"Exploring Position & Velocity\")\n",
    "plot(tmp')\n"
   ]
  },
  {
   "cell_type": "code",
   "execution_count": 383,
   "metadata": {},
   "outputs": [
    {
     "data": {
      "image/svg+xml": [
       "<?xml version=\"1.0\" encoding=\"utf-8\"?>\n",
       "<svg xmlns=\"http://www.w3.org/2000/svg\" xmlns:xlink=\"http://www.w3.org/1999/xlink\" width=\"600\" height=\"400\" viewBox=\"0 0 2400 1600\">\n",
       "<defs>\n",
       "  <clipPath id=\"clip670\">\n",
       "    <rect x=\"0\" y=\"0\" width=\"2400\" height=\"1600\"/>\n",
       "  </clipPath>\n",
       "</defs>\n",
       "<path clip-path=\"url(#clip670)\" d=\"\n",
       "M0 1600 L2400 1600 L2400 0 L0 0  Z\n",
       "  \" fill=\"#ffffff\" fill-rule=\"evenodd\" fill-opacity=\"1\"/>\n",
       "<defs>\n",
       "  <clipPath id=\"clip671\">\n",
       "    <rect x=\"480\" y=\"0\" width=\"1681\" height=\"1600\"/>\n",
       "  </clipPath>\n",
       "</defs>\n",
       "<path clip-path=\"url(#clip670)\" d=\"\n",
       "M263.547 1410.9 L2352.76 1410.9 L2352.76 123.472 L263.547 123.472  Z\n",
       "  \" fill=\"#ffffff\" fill-rule=\"evenodd\" fill-opacity=\"1\"/>\n",
       "<defs>\n",
       "  <clipPath id=\"clip672\">\n",
       "    <rect x=\"263\" y=\"123\" width=\"2090\" height=\"1288\"/>\n",
       "  </clipPath>\n",
       "</defs>\n",
       "<polyline clip-path=\"url(#clip672)\" style=\"stroke:#000000; stroke-width:2; stroke-opacity:0.1; fill:none\" points=\"\n",
       "  321.689,1410.9 321.689,123.472 \n",
       "  \"/>\n",
       "<polyline clip-path=\"url(#clip672)\" style=\"stroke:#000000; stroke-width:2; stroke-opacity:0.1; fill:none\" points=\"\n",
       "  814.674,1410.9 814.674,123.472 \n",
       "  \"/>\n",
       "<polyline clip-path=\"url(#clip672)\" style=\"stroke:#000000; stroke-width:2; stroke-opacity:0.1; fill:none\" points=\"\n",
       "  1307.66,1410.9 1307.66,123.472 \n",
       "  \"/>\n",
       "<polyline clip-path=\"url(#clip672)\" style=\"stroke:#000000; stroke-width:2; stroke-opacity:0.1; fill:none\" points=\"\n",
       "  1800.64,1410.9 1800.64,123.472 \n",
       "  \"/>\n",
       "<polyline clip-path=\"url(#clip672)\" style=\"stroke:#000000; stroke-width:2; stroke-opacity:0.1; fill:none\" points=\"\n",
       "  2293.63,1410.9 2293.63,123.472 \n",
       "  \"/>\n",
       "<polyline clip-path=\"url(#clip670)\" style=\"stroke:#000000; stroke-width:4; stroke-opacity:1; fill:none\" points=\"\n",
       "  263.547,1410.9 2352.76,1410.9 \n",
       "  \"/>\n",
       "<polyline clip-path=\"url(#clip670)\" style=\"stroke:#000000; stroke-width:4; stroke-opacity:1; fill:none\" points=\"\n",
       "  321.689,1410.9 321.689,1395.45 \n",
       "  \"/>\n",
       "<polyline clip-path=\"url(#clip670)\" style=\"stroke:#000000; stroke-width:4; stroke-opacity:1; fill:none\" points=\"\n",
       "  814.674,1410.9 814.674,1395.45 \n",
       "  \"/>\n",
       "<polyline clip-path=\"url(#clip670)\" style=\"stroke:#000000; stroke-width:4; stroke-opacity:1; fill:none\" points=\"\n",
       "  1307.66,1410.9 1307.66,1395.45 \n",
       "  \"/>\n",
       "<polyline clip-path=\"url(#clip670)\" style=\"stroke:#000000; stroke-width:4; stroke-opacity:1; fill:none\" points=\"\n",
       "  1800.64,1410.9 1800.64,1395.45 \n",
       "  \"/>\n",
       "<polyline clip-path=\"url(#clip670)\" style=\"stroke:#000000; stroke-width:4; stroke-opacity:1; fill:none\" points=\"\n",
       "  2293.63,1410.9 2293.63,1395.45 \n",
       "  \"/>\n",
       "<path clip-path=\"url(#clip670)\" d=\"M 0 0 M321.689 1440.09 Q318.078 1440.09 316.249 1443.65 Q314.444 1447.19 314.444 1454.32 Q314.444 1461.43 316.249 1464.99 Q318.078 1468.54 321.689 1468.54 Q325.323 1468.54 327.129 1464.99 Q328.958 1461.43 328.958 1454.32 Q328.958 1447.19 327.129 1443.65 Q325.323 1440.09 321.689 1440.09 M321.689 1436.38 Q327.499 1436.38 330.555 1440.99 Q333.634 1445.57 333.634 1454.32 Q333.634 1463.05 330.555 1467.66 Q327.499 1472.24 321.689 1472.24 Q315.879 1472.24 312.8 1467.66 Q309.745 1463.05 309.745 1454.32 Q309.745 1445.57 312.8 1440.99 Q315.879 1436.38 321.689 1436.38 Z\" fill=\"#000000\" fill-rule=\"evenodd\" fill-opacity=\"1\" /><path clip-path=\"url(#clip670)\" d=\"M 0 0 M738.088 1489.17 L754.408 1489.17 L754.408 1493.1 L732.464 1493.1 L732.464 1489.17 Q735.126 1486.41 739.709 1481.78 Q744.315 1477.13 745.496 1475.79 Q747.741 1473.27 748.621 1471.53 Q749.524 1469.77 749.524 1468.08 Q749.524 1465.33 747.579 1463.59 Q745.658 1461.85 742.556 1461.85 Q740.357 1461.85 737.903 1462.62 Q735.473 1463.38 732.695 1464.93 L732.695 1460.21 Q735.519 1459.08 737.973 1458.5 Q740.426 1457.92 742.463 1457.92 Q747.834 1457.92 751.028 1460.6 Q754.223 1463.29 754.223 1467.78 Q754.223 1469.91 753.412 1471.83 Q752.625 1473.73 750.519 1476.32 Q749.94 1476.99 746.838 1480.21 Q743.737 1483.4 738.088 1489.17 Z\" fill=\"#000000\" fill-rule=\"evenodd\" fill-opacity=\"1\" /><path clip-path=\"url(#clip670)\" d=\"M 0 0 M759.477 1487.22 L764.361 1487.22 L764.361 1493.1 L759.477 1493.1 L759.477 1487.22 Z\" fill=\"#000000\" fill-rule=\"evenodd\" fill-opacity=\"1\" /><path clip-path=\"url(#clip670)\" d=\"M 0 0 M769.477 1458.54 L787.834 1458.54 L787.834 1462.48 L773.76 1462.48 L773.76 1470.95 Q774.778 1470.6 775.797 1470.44 Q776.815 1470.26 777.834 1470.26 Q783.621 1470.26 787 1473.43 Q790.38 1476.6 790.38 1482.02 Q790.38 1487.59 786.908 1490.7 Q783.435 1493.78 777.116 1493.78 Q774.94 1493.78 772.672 1493.4 Q770.426 1493.03 768.019 1492.29 L768.019 1487.59 Q770.102 1488.73 772.324 1489.28 Q774.547 1489.84 777.023 1489.84 Q781.028 1489.84 783.366 1487.73 Q785.704 1485.63 785.704 1482.02 Q785.704 1478.4 783.366 1476.3 Q781.028 1474.19 777.023 1474.19 Q775.148 1474.19 773.273 1474.61 Q771.422 1475.03 769.477 1475.9 L769.477 1458.54 Z\" fill=\"#000000\" fill-rule=\"evenodd\" fill-opacity=\"1\" /><path clip-path=\"url(#clip670)\" d=\"M 0 0 M823.62 1467.64 L813.042 1478.27 L823.62 1488.84 L820.866 1491.65 L810.241 1481.02 L799.616 1491.65 L796.884 1488.84 L807.44 1478.27 L796.884 1467.64 L799.616 1464.84 L810.241 1475.47 L820.866 1464.84 L823.62 1467.64 Z\" fill=\"#000000\" fill-rule=\"evenodd\" fill-opacity=\"1\" /><path clip-path=\"url(#clip670)\" d=\"M 0 0 M829.5 1489.17 L837.139 1489.17 L837.139 1462.8 L828.829 1464.47 L828.829 1460.21 L837.093 1458.54 L841.768 1458.54 L841.768 1489.17 L849.407 1489.17 L849.407 1493.1 L829.5 1493.1 L829.5 1489.17 Z\" fill=\"#000000\" fill-rule=\"evenodd\" fill-opacity=\"1\" /><path clip-path=\"url(#clip670)\" d=\"M 0 0 M864.477 1461.62 Q860.866 1461.62 859.037 1465.19 Q857.231 1468.73 857.231 1475.86 Q857.231 1482.97 859.037 1486.53 Q860.866 1490.07 864.477 1490.07 Q868.111 1490.07 869.916 1486.53 Q871.745 1482.97 871.745 1475.86 Q871.745 1468.73 869.916 1465.19 Q868.111 1461.62 864.477 1461.62 M864.477 1457.92 Q870.287 1457.92 873.342 1462.53 Q876.421 1467.11 876.421 1475.86 Q876.421 1484.59 873.342 1489.19 Q870.287 1493.78 864.477 1493.78 Q858.667 1493.78 855.588 1489.19 Q852.532 1484.59 852.532 1475.86 Q852.532 1467.11 855.588 1462.53 Q858.667 1457.92 864.477 1457.92 Z\" fill=\"#000000\" fill-rule=\"evenodd\" fill-opacity=\"1\" /><path clip-path=\"url(#clip670)\" d=\"M 0 0 M889.098 1440.92 L879.506 1455.91 L889.098 1455.91 L889.098 1440.92 M888.101 1437.61 L892.878 1437.61 L892.878 1455.91 L896.884 1455.91 L896.884 1459.07 L892.878 1459.07 L892.878 1465.69 L889.098 1465.69 L889.098 1459.07 L876.421 1459.07 L876.421 1455.41 L888.101 1437.61 Z\" fill=\"#000000\" fill-rule=\"evenodd\" fill-opacity=\"1\" /><path clip-path=\"url(#clip670)\" d=\"M 0 0 M1226.2 1458.54 L1244.56 1458.54 L1244.56 1462.48 L1230.48 1462.48 L1230.48 1470.95 Q1231.5 1470.6 1232.52 1470.44 Q1233.54 1470.26 1234.56 1470.26 Q1240.34 1470.26 1243.72 1473.43 Q1247.1 1476.6 1247.1 1482.02 Q1247.1 1487.59 1243.63 1490.7 Q1240.16 1493.78 1233.84 1493.78 Q1231.66 1493.78 1229.39 1493.4 Q1227.15 1493.03 1224.74 1492.29 L1224.74 1487.59 Q1226.83 1488.73 1229.05 1489.28 Q1231.27 1489.84 1233.75 1489.84 Q1237.75 1489.84 1240.09 1487.73 Q1242.43 1485.63 1242.43 1482.02 Q1242.43 1478.4 1240.09 1476.3 Q1237.75 1474.19 1233.75 1474.19 Q1231.87 1474.19 1230 1474.61 Q1228.14 1475.03 1226.2 1475.9 L1226.2 1458.54 Z\" fill=\"#000000\" fill-rule=\"evenodd\" fill-opacity=\"1\" /><path clip-path=\"url(#clip670)\" d=\"M 0 0 M1252.17 1487.22 L1257.06 1487.22 L1257.06 1493.1 L1252.17 1493.1 L1252.17 1487.22 Z\" fill=\"#000000\" fill-rule=\"evenodd\" fill-opacity=\"1\" /><path clip-path=\"url(#clip670)\" d=\"M 0 0 M1272.13 1461.62 Q1268.51 1461.62 1266.69 1465.19 Q1264.88 1468.73 1264.88 1475.86 Q1264.88 1482.97 1266.69 1486.53 Q1268.51 1490.07 1272.13 1490.07 Q1275.76 1490.07 1277.57 1486.53 Q1279.39 1482.97 1279.39 1475.86 Q1279.39 1468.73 1277.57 1465.19 Q1275.76 1461.62 1272.13 1461.62 M1272.13 1457.92 Q1277.94 1457.92 1280.99 1462.53 Q1284.07 1467.11 1284.07 1475.86 Q1284.07 1484.59 1280.99 1489.19 Q1277.94 1493.78 1272.13 1493.78 Q1266.32 1493.78 1263.24 1489.19 Q1260.18 1484.59 1260.18 1475.86 Q1260.18 1467.11 1263.24 1462.53 Q1266.32 1457.92 1272.13 1457.92 Z\" fill=\"#000000\" fill-rule=\"evenodd\" fill-opacity=\"1\" /><path clip-path=\"url(#clip670)\" d=\"M 0 0 M1317.31 1467.64 L1306.73 1478.27 L1317.31 1488.84 L1314.56 1491.65 L1303.93 1481.02 L1293.31 1491.65 L1290.58 1488.84 L1301.13 1478.27 L1290.58 1467.64 L1293.31 1464.84 L1303.93 1475.47 L1314.56 1464.84 L1317.31 1467.64 Z\" fill=\"#000000\" fill-rule=\"evenodd\" fill-opacity=\"1\" /><path clip-path=\"url(#clip670)\" d=\"M 0 0 M1323.19 1489.17 L1330.83 1489.17 L1330.83 1462.8 L1322.52 1464.47 L1322.52 1460.21 L1330.78 1458.54 L1335.46 1458.54 L1335.46 1489.17 L1343.1 1489.17 L1343.1 1493.1 L1323.19 1493.1 L1323.19 1489.17 Z\" fill=\"#000000\" fill-rule=\"evenodd\" fill-opacity=\"1\" /><path clip-path=\"url(#clip670)\" d=\"M 0 0 M1358.17 1461.62 Q1354.56 1461.62 1352.73 1465.19 Q1350.92 1468.73 1350.92 1475.86 Q1350.92 1482.97 1352.73 1486.53 Q1354.56 1490.07 1358.17 1490.07 Q1361.8 1490.07 1363.61 1486.53 Q1365.44 1482.97 1365.44 1475.86 Q1365.44 1468.73 1363.61 1465.19 Q1361.8 1461.62 1358.17 1461.62 M1358.17 1457.92 Q1363.98 1457.92 1367.03 1462.53 Q1370.11 1467.11 1370.11 1475.86 Q1370.11 1484.59 1367.03 1489.19 Q1363.98 1493.78 1358.17 1493.78 Q1352.36 1493.78 1349.28 1489.19 Q1346.22 1484.59 1346.22 1475.86 Q1346.22 1467.11 1349.28 1462.53 Q1352.36 1457.92 1358.17 1457.92 Z\" fill=\"#000000\" fill-rule=\"evenodd\" fill-opacity=\"1\" /><path clip-path=\"url(#clip670)\" d=\"M 0 0 M1382.79 1440.92 L1373.2 1455.91 L1382.79 1455.91 L1382.79 1440.92 M1381.79 1437.61 L1386.57 1437.61 L1386.57 1455.91 L1390.57 1455.91 L1390.57 1459.07 L1386.57 1459.07 L1386.57 1465.69 L1382.79 1465.69 L1382.79 1459.07 L1370.11 1459.07 L1370.11 1455.41 L1381.79 1437.61 Z\" fill=\"#000000\" fill-rule=\"evenodd\" fill-opacity=\"1\" /><path clip-path=\"url(#clip670)\" d=\"M 0 0 M1718.29 1458.54 L1740.52 1458.54 L1740.52 1460.53 L1727.97 1493.1 L1723.09 1493.1 L1734.89 1462.48 L1718.29 1462.48 L1718.29 1458.54 Z\" fill=\"#000000\" fill-rule=\"evenodd\" fill-opacity=\"1\" /><path clip-path=\"url(#clip670)\" d=\"M 0 0 M1745.59 1487.22 L1750.47 1487.22 L1750.47 1493.1 L1745.59 1493.1 L1745.59 1487.22 Z\" fill=\"#000000\" fill-rule=\"evenodd\" fill-opacity=\"1\" /><path clip-path=\"url(#clip670)\" d=\"M 0 0 M1755.59 1458.54 L1773.94 1458.54 L1773.94 1462.48 L1759.87 1462.48 L1759.87 1470.95 Q1760.89 1470.6 1761.9 1470.44 Q1762.92 1470.26 1763.94 1470.26 Q1769.73 1470.26 1773.11 1473.43 Q1776.49 1476.6 1776.49 1482.02 Q1776.49 1487.59 1773.02 1490.7 Q1769.54 1493.78 1763.22 1493.78 Q1761.05 1493.78 1758.78 1493.4 Q1756.53 1493.03 1754.13 1492.29 L1754.13 1487.59 Q1756.21 1488.73 1758.43 1489.28 Q1760.65 1489.84 1763.13 1489.84 Q1767.14 1489.84 1769.47 1487.73 Q1771.81 1485.63 1771.81 1482.02 Q1771.81 1478.4 1769.47 1476.3 Q1767.14 1474.19 1763.13 1474.19 Q1761.26 1474.19 1759.38 1474.61 Q1757.53 1475.03 1755.59 1475.9 L1755.59 1458.54 Z\" fill=\"#000000\" fill-rule=\"evenodd\" fill-opacity=\"1\" /><path clip-path=\"url(#clip670)\" d=\"M 0 0 M1809.73 1467.64 L1799.15 1478.27 L1809.73 1488.84 L1806.97 1491.65 L1796.35 1481.02 L1785.72 1491.65 L1782.99 1488.84 L1793.55 1478.27 L1782.99 1467.64 L1785.72 1464.84 L1796.35 1475.47 L1806.97 1464.84 L1809.73 1467.64 Z\" fill=\"#000000\" fill-rule=\"evenodd\" fill-opacity=\"1\" /><path clip-path=\"url(#clip670)\" d=\"M 0 0 M1815.61 1489.17 L1823.25 1489.17 L1823.25 1462.8 L1814.94 1464.47 L1814.94 1460.21 L1823.2 1458.54 L1827.88 1458.54 L1827.88 1489.17 L1835.52 1489.17 L1835.52 1493.1 L1815.61 1493.1 L1815.61 1489.17 Z\" fill=\"#000000\" fill-rule=\"evenodd\" fill-opacity=\"1\" /><path clip-path=\"url(#clip670)\" d=\"M 0 0 M1850.58 1461.62 Q1846.97 1461.62 1845.14 1465.19 Q1843.34 1468.73 1843.34 1475.86 Q1843.34 1482.97 1845.14 1486.53 Q1846.97 1490.07 1850.58 1490.07 Q1854.22 1490.07 1856.02 1486.53 Q1857.85 1482.97 1857.85 1475.86 Q1857.85 1468.73 1856.02 1465.19 Q1854.22 1461.62 1850.58 1461.62 M1850.58 1457.92 Q1856.39 1457.92 1859.45 1462.53 Q1862.53 1467.11 1862.53 1475.86 Q1862.53 1484.59 1859.45 1489.19 Q1856.39 1493.78 1850.58 1493.78 Q1844.77 1493.78 1841.7 1489.19 Q1838.64 1484.59 1838.64 1475.86 Q1838.64 1467.11 1841.7 1462.53 Q1844.77 1457.92 1850.58 1457.92 Z\" fill=\"#000000\" fill-rule=\"evenodd\" fill-opacity=\"1\" /><path clip-path=\"url(#clip670)\" d=\"M 0 0 M1875.21 1440.92 L1865.61 1455.91 L1875.21 1455.91 L1875.21 1440.92 M1874.21 1437.61 L1878.99 1437.61 L1878.99 1455.91 L1882.99 1455.91 L1882.99 1459.07 L1878.99 1459.07 L1878.99 1465.69 L1875.21 1465.69 L1875.21 1459.07 L1862.53 1459.07 L1862.53 1455.41 L1874.21 1437.61 Z\" fill=\"#000000\" fill-rule=\"evenodd\" fill-opacity=\"1\" /><path clip-path=\"url(#clip670)\" d=\"M 0 0 M2213.42 1489.17 L2221.06 1489.17 L2221.06 1462.8 L2212.75 1464.47 L2212.75 1460.21 L2221.01 1458.54 L2225.69 1458.54 L2225.69 1489.17 L2233.33 1489.17 L2233.33 1493.1 L2213.42 1493.1 L2213.42 1489.17 Z\" fill=\"#000000\" fill-rule=\"evenodd\" fill-opacity=\"1\" /><path clip-path=\"url(#clip670)\" d=\"M 0 0 M2238.4 1487.22 L2243.28 1487.22 L2243.28 1493.1 L2238.4 1493.1 L2238.4 1487.22 Z\" fill=\"#000000\" fill-rule=\"evenodd\" fill-opacity=\"1\" /><path clip-path=\"url(#clip670)\" d=\"M 0 0 M2258.35 1461.62 Q2254.74 1461.62 2252.91 1465.19 Q2251.11 1468.73 2251.11 1475.86 Q2251.11 1482.97 2252.91 1486.53 Q2254.74 1490.07 2258.35 1490.07 Q2261.99 1490.07 2263.79 1486.53 Q2265.62 1482.97 2265.62 1475.86 Q2265.62 1468.73 2263.79 1465.19 Q2261.99 1461.62 2258.35 1461.62 M2258.35 1457.92 Q2264.16 1457.92 2267.22 1462.53 Q2270.3 1467.11 2270.3 1475.86 Q2270.3 1484.59 2267.22 1489.19 Q2264.16 1493.78 2258.35 1493.78 Q2252.54 1493.78 2249.46 1489.19 Q2246.41 1484.59 2246.41 1475.86 Q2246.41 1467.11 2249.46 1462.53 Q2252.54 1457.92 2258.35 1457.92 Z\" fill=\"#000000\" fill-rule=\"evenodd\" fill-opacity=\"1\" /><path clip-path=\"url(#clip670)\" d=\"M 0 0 M2303.54 1467.64 L2292.96 1478.27 L2303.54 1488.84 L2300.78 1491.65 L2290.16 1481.02 L2279.53 1491.65 L2276.8 1488.84 L2287.36 1478.27 L2276.8 1467.64 L2279.53 1464.84 L2290.16 1475.47 L2300.78 1464.84 L2303.54 1467.64 Z\" fill=\"#000000\" fill-rule=\"evenodd\" fill-opacity=\"1\" /><path clip-path=\"url(#clip670)\" d=\"M 0 0 M2309.42 1489.17 L2317.05 1489.17 L2317.05 1462.8 L2308.74 1464.47 L2308.74 1460.21 L2317.01 1458.54 L2321.68 1458.54 L2321.68 1489.17 L2329.32 1489.17 L2329.32 1493.1 L2309.42 1493.1 L2309.42 1489.17 Z\" fill=\"#000000\" fill-rule=\"evenodd\" fill-opacity=\"1\" /><path clip-path=\"url(#clip670)\" d=\"M 0 0 M2344.39 1461.62 Q2340.78 1461.62 2338.95 1465.19 Q2337.15 1468.73 2337.15 1475.86 Q2337.15 1482.97 2338.95 1486.53 Q2340.78 1490.07 2344.39 1490.07 Q2348.03 1490.07 2349.83 1486.53 Q2351.66 1482.97 2351.66 1475.86 Q2351.66 1468.73 2349.83 1465.19 Q2348.03 1461.62 2344.39 1461.62 M2344.39 1457.92 Q2350.2 1457.92 2353.26 1462.53 Q2356.34 1467.11 2356.34 1475.86 Q2356.34 1484.59 2353.26 1489.19 Q2350.2 1493.78 2344.39 1493.78 Q2338.58 1493.78 2335.5 1489.19 Q2332.45 1484.59 2332.45 1475.86 Q2332.45 1467.11 2335.5 1462.53 Q2338.58 1457.92 2344.39 1457.92 Z\" fill=\"#000000\" fill-rule=\"evenodd\" fill-opacity=\"1\" /><path clip-path=\"url(#clip670)\" d=\"M 0 0 M2357.52 1437.61 L2372.44 1437.61 L2372.44 1440.81 L2361 1440.81 L2361 1447.69 Q2361.83 1447.41 2362.66 1447.28 Q2363.48 1447.13 2364.31 1447.13 Q2369.01 1447.13 2371.76 1449.71 Q2374.51 1452.28 2374.51 1456.68 Q2374.51 1461.22 2371.68 1463.74 Q2368.86 1466.24 2363.73 1466.24 Q2361.96 1466.24 2360.12 1465.94 Q2358.29 1465.64 2356.34 1465.04 L2356.34 1461.22 Q2358.03 1462.14 2359.84 1462.59 Q2361.64 1463.04 2363.65 1463.04 Q2366.91 1463.04 2368.81 1461.33 Q2370.71 1459.62 2370.71 1456.68 Q2370.71 1453.75 2368.81 1452.04 Q2366.91 1450.33 2363.65 1450.33 Q2362.13 1450.33 2360.61 1450.67 Q2359.1 1451 2357.52 1451.72 L2357.52 1437.61 Z\" fill=\"#000000\" fill-rule=\"evenodd\" fill-opacity=\"1\" /><path clip-path=\"url(#clip670)\" d=\"M 0 0 M1257.4 1528.23 L1257.4 1534.5 Q1253.74 1532.74 1250.49 1531.89 Q1247.25 1531.03 1244.22 1531.03 Q1238.97 1531.03 1236.11 1533.06 Q1233.27 1535.1 1233.27 1538.86 Q1233.27 1542.01 1235.15 1543.63 Q1237.06 1545.22 1242.35 1546.21 L1246.23 1547 Q1253.42 1548.37 1256.83 1551.84 Q1260.27 1555.28 1260.27 1561.07 Q1260.27 1567.98 1255.62 1571.54 Q1251 1575.11 1242.06 1575.11 Q1238.69 1575.11 1234.87 1574.34 Q1231.08 1573.58 1227 1572.08 L1227 1565.46 Q1230.92 1567.66 1234.68 1568.77 Q1238.43 1569.89 1242.06 1569.89 Q1247.57 1569.89 1250.56 1567.72 Q1253.55 1565.56 1253.55 1561.55 Q1253.55 1558.05 1251.39 1556.08 Q1249.25 1554.1 1244.35 1553.11 L1240.44 1552.35 Q1233.24 1550.92 1230.03 1547.86 Q1226.81 1544.81 1226.81 1539.37 Q1226.81 1533.06 1231.24 1529.43 Q1235.69 1525.81 1243.49 1525.81 Q1246.83 1525.81 1250.3 1526.41 Q1253.77 1527.02 1257.4 1528.23 Z\" fill=\"#000000\" fill-rule=\"evenodd\" fill-opacity=\"1\" /><path clip-path=\"url(#clip670)\" d=\"M 0 0 M1272.2 1528.42 L1272.2 1538.54 L1284.26 1538.54 L1284.26 1543.09 L1272.2 1543.09 L1272.2 1562.44 Q1272.2 1566.8 1273.38 1568.04 Q1274.59 1569.28 1278.25 1569.28 L1284.26 1569.28 L1284.26 1574.19 L1278.25 1574.19 Q1271.47 1574.19 1268.89 1571.67 Q1266.31 1569.12 1266.31 1562.44 L1266.31 1543.09 L1262.02 1543.09 L1262.02 1538.54 L1266.31 1538.54 L1266.31 1528.42 L1272.2 1528.42 Z\" fill=\"#000000\" fill-rule=\"evenodd\" fill-opacity=\"1\" /><path clip-path=\"url(#clip670)\" d=\"M 0 0 M1320.9 1554.9 L1320.9 1557.76 L1293.97 1557.76 Q1294.35 1563.81 1297.6 1566.99 Q1300.88 1570.14 1306.7 1570.14 Q1310.08 1570.14 1313.23 1569.32 Q1316.41 1568.49 1319.53 1566.83 L1319.53 1572.37 Q1316.38 1573.71 1313.07 1574.41 Q1309.76 1575.11 1306.35 1575.11 Q1297.82 1575.11 1292.83 1570.14 Q1287.86 1565.18 1287.86 1556.71 Q1287.86 1547.96 1292.57 1542.83 Q1297.31 1537.68 1305.33 1537.68 Q1312.53 1537.68 1316.7 1542.33 Q1320.9 1546.94 1320.9 1554.9 M1315.04 1553.18 Q1314.98 1548.37 1312.34 1545.51 Q1309.73 1542.64 1305.4 1542.64 Q1300.5 1542.64 1297.54 1545.41 Q1294.61 1548.18 1294.16 1553.21 L1315.04 1553.18 Z\" fill=\"#000000\" fill-rule=\"evenodd\" fill-opacity=\"1\" /><path clip-path=\"url(#clip670)\" d=\"M 0 0 M1332.71 1568.84 L1332.71 1587.74 L1326.82 1587.74 L1326.82 1538.54 L1332.71 1538.54 L1332.71 1543.95 Q1334.55 1540.77 1337.35 1539.24 Q1340.19 1537.68 1344.1 1537.68 Q1350.59 1537.68 1354.64 1542.83 Q1358.71 1547.99 1358.71 1556.39 Q1358.71 1564.8 1354.64 1569.95 Q1350.59 1575.11 1344.1 1575.11 Q1340.19 1575.11 1337.35 1573.58 Q1334.55 1572.02 1332.71 1568.84 M1352.63 1556.39 Q1352.63 1549.93 1349.96 1546.27 Q1347.32 1542.58 1342.67 1542.58 Q1338.02 1542.58 1335.35 1546.27 Q1332.71 1549.93 1332.71 1556.39 Q1332.71 1562.85 1335.35 1566.55 Q1338.02 1570.21 1342.67 1570.21 Q1347.32 1570.21 1349.96 1566.55 Q1352.63 1562.85 1352.63 1556.39 Z\" fill=\"#000000\" fill-rule=\"evenodd\" fill-opacity=\"1\" /><path clip-path=\"url(#clip670)\" d=\"M 0 0 M1387.58 1539.59 L1387.58 1545.13 Q1385.1 1543.85 1382.42 1543.22 Q1379.75 1542.58 1376.88 1542.58 Q1372.52 1542.58 1370.33 1543.92 Q1368.16 1545.25 1368.16 1547.93 Q1368.16 1549.96 1369.72 1551.14 Q1371.28 1552.29 1375.99 1553.34 L1378 1553.78 Q1384.24 1555.12 1386.85 1557.57 Q1389.49 1559.99 1389.49 1564.35 Q1389.49 1569.32 1385.54 1572.21 Q1381.63 1575.11 1374.75 1575.11 Q1371.89 1575.11 1368.77 1574.54 Q1365.68 1573.99 1362.24 1572.88 L1362.24 1566.83 Q1365.49 1568.52 1368.64 1569.38 Q1371.79 1570.21 1374.88 1570.21 Q1379.02 1570.21 1381.25 1568.81 Q1383.47 1567.37 1383.47 1564.8 Q1383.47 1562.41 1381.85 1561.14 Q1380.26 1559.86 1374.82 1558.68 L1372.78 1558.21 Q1367.34 1557.06 1364.92 1554.71 Q1362.5 1552.32 1362.5 1548.18 Q1362.5 1543.15 1366.06 1540.42 Q1369.63 1537.68 1376.18 1537.68 Q1379.43 1537.68 1382.3 1538.16 Q1385.16 1538.63 1387.58 1539.59 Z\" fill=\"#000000\" fill-rule=\"evenodd\" fill-opacity=\"1\" /><polyline clip-path=\"url(#clip672)\" style=\"stroke:#000000; stroke-width:2; stroke-opacity:0.1; fill:none\" points=\"\n",
       "  263.547,1182.52 2352.76,1182.52 \n",
       "  \"/>\n",
       "<polyline clip-path=\"url(#clip672)\" style=\"stroke:#000000; stroke-width:2; stroke-opacity:0.1; fill:none\" points=\"\n",
       "  263.547,899.332 2352.76,899.332 \n",
       "  \"/>\n",
       "<polyline clip-path=\"url(#clip672)\" style=\"stroke:#000000; stroke-width:2; stroke-opacity:0.1; fill:none\" points=\"\n",
       "  263.547,616.148 2352.76,616.148 \n",
       "  \"/>\n",
       "<polyline clip-path=\"url(#clip672)\" style=\"stroke:#000000; stroke-width:2; stroke-opacity:0.1; fill:none\" points=\"\n",
       "  263.547,332.964 2352.76,332.964 \n",
       "  \"/>\n",
       "<polyline clip-path=\"url(#clip670)\" style=\"stroke:#000000; stroke-width:4; stroke-opacity:1; fill:none\" points=\"\n",
       "  263.547,1410.9 263.547,123.472 \n",
       "  \"/>\n",
       "<polyline clip-path=\"url(#clip670)\" style=\"stroke:#000000; stroke-width:4; stroke-opacity:1; fill:none\" points=\"\n",
       "  263.547,1182.52 288.617,1182.52 \n",
       "  \"/>\n",
       "<polyline clip-path=\"url(#clip670)\" style=\"stroke:#000000; stroke-width:4; stroke-opacity:1; fill:none\" points=\"\n",
       "  263.547,899.332 288.617,899.332 \n",
       "  \"/>\n",
       "<polyline clip-path=\"url(#clip670)\" style=\"stroke:#000000; stroke-width:4; stroke-opacity:1; fill:none\" points=\"\n",
       "  263.547,616.148 288.617,616.148 \n",
       "  \"/>\n",
       "<polyline clip-path=\"url(#clip670)\" style=\"stroke:#000000; stroke-width:4; stroke-opacity:1; fill:none\" points=\"\n",
       "  263.547,332.964 288.617,332.964 \n",
       "  \"/>\n",
       "<path clip-path=\"url(#clip670)\" d=\"M 0 0 M126.83 1168.31 Q123.218 1168.31 121.39 1171.88 Q119.584 1175.42 119.584 1182.55 Q119.584 1189.66 121.39 1193.22 Q123.218 1196.76 126.83 1196.76 Q130.464 1196.76 132.269 1193.22 Q134.098 1189.66 134.098 1182.55 Q134.098 1175.42 132.269 1171.88 Q130.464 1168.31 126.83 1168.31 M126.83 1164.61 Q132.64 1164.61 135.695 1169.22 Q138.774 1173.8 138.774 1182.55 Q138.774 1191.28 135.695 1195.88 Q132.64 1200.47 126.83 1200.47 Q121.019 1200.47 117.941 1195.88 Q114.885 1191.28 114.885 1182.55 Q114.885 1173.8 117.941 1169.22 Q121.019 1164.61 126.83 1164.61 Z\" fill=\"#000000\" fill-rule=\"evenodd\" fill-opacity=\"1\" /><path clip-path=\"url(#clip670)\" d=\"M 0 0 M143.843 1193.92 L148.728 1193.92 L148.728 1199.8 L143.843 1199.8 L143.843 1193.92 Z\" fill=\"#000000\" fill-rule=\"evenodd\" fill-opacity=\"1\" /><path clip-path=\"url(#clip670)\" d=\"M 0 0 M154.607 1195.86 L162.246 1195.86 L162.246 1169.49 L153.936 1171.16 L153.936 1166.9 L162.2 1165.24 L166.876 1165.24 L166.876 1195.86 L174.514 1195.86 L174.514 1199.8 L154.607 1199.8 L154.607 1195.86 Z\" fill=\"#000000\" fill-rule=\"evenodd\" fill-opacity=\"1\" /><path clip-path=\"url(#clip670)\" d=\"M 0 0 M179.63 1165.24 L197.987 1165.24 L197.987 1169.17 L183.913 1169.17 L183.913 1177.64 Q184.931 1177.3 185.95 1177.13 Q186.968 1176.95 187.987 1176.95 Q193.774 1176.95 197.153 1180.12 Q200.533 1183.29 200.533 1188.71 Q200.533 1194.29 197.061 1197.39 Q193.588 1200.47 187.269 1200.47 Q185.093 1200.47 182.825 1200.1 Q180.579 1199.73 178.172 1198.99 L178.172 1194.29 Q180.255 1195.42 182.477 1195.98 Q184.7 1196.53 187.176 1196.53 Q191.181 1196.53 193.519 1194.43 Q195.857 1192.32 195.857 1188.71 Q195.857 1185.1 193.519 1182.99 Q191.181 1180.88 187.176 1180.88 Q185.301 1180.88 183.426 1181.3 Q181.575 1181.72 179.63 1182.6 L179.63 1165.24 Z\" fill=\"#000000\" fill-rule=\"evenodd\" fill-opacity=\"1\" /><path clip-path=\"url(#clip670)\" d=\"M 0 0 M215.602 1168.31 Q211.991 1168.31 210.162 1171.88 Q208.357 1175.42 208.357 1182.55 Q208.357 1189.66 210.162 1193.22 Q211.991 1196.76 215.602 1196.76 Q219.236 1196.76 221.042 1193.22 Q222.871 1189.66 222.871 1182.55 Q222.871 1175.42 221.042 1171.88 Q219.236 1168.31 215.602 1168.31 M215.602 1164.61 Q221.412 1164.61 224.468 1169.22 Q227.547 1173.8 227.547 1182.55 Q227.547 1191.28 224.468 1195.88 Q221.412 1200.47 215.602 1200.47 Q209.792 1200.47 206.713 1195.88 Q203.658 1191.28 203.658 1182.55 Q203.658 1173.8 206.713 1169.22 Q209.792 1164.61 215.602 1164.61 Z\" fill=\"#000000\" fill-rule=\"evenodd\" fill-opacity=\"1\" /><path clip-path=\"url(#clip670)\" d=\"M 0 0 M127.732 885.13 Q124.121 885.13 122.293 888.695 Q120.487 892.237 120.487 899.366 Q120.487 906.473 122.293 910.038 Q124.121 913.579 127.732 913.579 Q131.367 913.579 133.172 910.038 Q135.001 906.473 135.001 899.366 Q135.001 892.237 133.172 888.695 Q131.367 885.13 127.732 885.13 M127.732 881.427 Q133.542 881.427 136.598 886.033 Q139.677 890.617 139.677 899.366 Q139.677 908.093 136.598 912.7 Q133.542 917.283 127.732 917.283 Q121.922 917.283 118.843 912.7 Q115.788 908.093 115.788 899.366 Q115.788 890.617 118.843 886.033 Q121.922 881.427 127.732 881.427 Z\" fill=\"#000000\" fill-rule=\"evenodd\" fill-opacity=\"1\" /><path clip-path=\"url(#clip670)\" d=\"M 0 0 M144.746 910.732 L149.63 910.732 L149.63 916.612 L144.746 916.612 L144.746 910.732 Z\" fill=\"#000000\" fill-rule=\"evenodd\" fill-opacity=\"1\" /><path clip-path=\"url(#clip670)\" d=\"M 0 0 M155.51 912.677 L163.149 912.677 L163.149 886.311 L154.839 887.978 L154.839 883.718 L163.102 882.052 L167.778 882.052 L167.778 912.677 L175.417 912.677 L175.417 916.612 L155.51 916.612 L155.51 912.677 Z\" fill=\"#000000\" fill-rule=\"evenodd\" fill-opacity=\"1\" /><path clip-path=\"url(#clip670)\" d=\"M 0 0 M179.306 882.052 L201.528 882.052 L201.528 884.042 L188.982 916.612 L184.098 916.612 L195.903 885.987 L179.306 885.987 L179.306 882.052 Z\" fill=\"#000000\" fill-rule=\"evenodd\" fill-opacity=\"1\" /><path clip-path=\"url(#clip670)\" d=\"M 0 0 M206.644 882.052 L225 882.052 L225 885.987 L210.926 885.987 L210.926 894.459 Q211.945 894.112 212.963 893.95 Q213.982 893.765 215 893.765 Q220.787 893.765 224.167 896.936 Q227.547 900.107 227.547 905.524 Q227.547 911.103 224.074 914.204 Q220.602 917.283 214.283 917.283 Q212.107 917.283 209.838 916.913 Q207.593 916.542 205.186 915.802 L205.186 911.103 Q207.269 912.237 209.491 912.792 Q211.713 913.348 214.19 913.348 Q218.195 913.348 220.533 911.241 Q222.871 909.135 222.871 905.524 Q222.871 901.913 220.533 899.806 Q218.195 897.7 214.19 897.7 Q212.315 897.7 210.44 898.116 Q208.588 898.533 206.644 899.413 L206.644 882.052 Z\" fill=\"#000000\" fill-rule=\"evenodd\" fill-opacity=\"1\" /><path clip-path=\"url(#clip670)\" d=\"M 0 0 M126.205 601.946 Q122.593 601.946 120.765 605.511 Q118.959 609.053 118.959 616.183 Q118.959 623.289 120.765 626.854 Q122.593 630.395 126.205 630.395 Q129.839 630.395 131.644 626.854 Q133.473 623.289 133.473 616.183 Q133.473 609.053 131.644 605.511 Q129.839 601.946 126.205 601.946 M126.205 598.243 Q132.015 598.243 135.07 602.849 Q138.149 607.433 138.149 616.183 Q138.149 624.909 135.07 629.516 Q132.015 634.099 126.205 634.099 Q120.394 634.099 117.316 629.516 Q114.26 624.909 114.26 616.183 Q114.26 607.433 117.316 602.849 Q120.394 598.243 126.205 598.243 Z\" fill=\"#000000\" fill-rule=\"evenodd\" fill-opacity=\"1\" /><path clip-path=\"url(#clip670)\" d=\"M 0 0 M143.218 627.548 L148.103 627.548 L148.103 633.428 L143.218 633.428 L143.218 627.548 Z\" fill=\"#000000\" fill-rule=\"evenodd\" fill-opacity=\"1\" /><path clip-path=\"url(#clip670)\" d=\"M 0 0 M157.2 629.493 L173.519 629.493 L173.519 633.428 L151.575 633.428 L151.575 629.493 Q154.237 626.738 158.82 622.108 Q163.427 617.456 164.607 616.113 Q166.852 613.59 167.732 611.854 Q168.635 610.095 168.635 608.405 Q168.635 605.65 166.69 603.914 Q164.769 602.178 161.667 602.178 Q159.468 602.178 157.015 602.942 Q154.584 603.706 151.806 605.257 L151.806 600.534 Q154.63 599.4 157.084 598.822 Q159.538 598.243 161.575 598.243 Q166.945 598.243 170.139 600.928 Q173.334 603.613 173.334 608.104 Q173.334 610.233 172.524 612.155 Q171.737 614.053 169.63 616.645 Q169.052 617.317 165.95 620.534 Q162.848 623.729 157.2 629.493 Z\" fill=\"#000000\" fill-rule=\"evenodd\" fill-opacity=\"1\" /><path clip-path=\"url(#clip670)\" d=\"M 0 0 M188.588 601.946 Q184.977 601.946 183.149 605.511 Q181.343 609.053 181.343 616.183 Q181.343 623.289 183.149 626.854 Q184.977 630.395 188.588 630.395 Q192.223 630.395 194.028 626.854 Q195.857 623.289 195.857 616.183 Q195.857 609.053 194.028 605.511 Q192.223 601.946 188.588 601.946 M188.588 598.243 Q194.399 598.243 197.454 602.849 Q200.533 607.433 200.533 616.183 Q200.533 624.909 197.454 629.516 Q194.399 634.099 188.588 634.099 Q182.778 634.099 179.7 629.516 Q176.644 624.909 176.644 616.183 Q176.644 607.433 179.7 602.849 Q182.778 598.243 188.588 598.243 Z\" fill=\"#000000\" fill-rule=\"evenodd\" fill-opacity=\"1\" /><path clip-path=\"url(#clip670)\" d=\"M 0 0 M215.602 601.946 Q211.991 601.946 210.162 605.511 Q208.357 609.053 208.357 616.183 Q208.357 623.289 210.162 626.854 Q211.991 630.395 215.602 630.395 Q219.236 630.395 221.042 626.854 Q222.871 623.289 222.871 616.183 Q222.871 609.053 221.042 605.511 Q219.236 601.946 215.602 601.946 M215.602 598.243 Q221.412 598.243 224.468 602.849 Q227.547 607.433 227.547 616.183 Q227.547 624.909 224.468 629.516 Q221.412 634.099 215.602 634.099 Q209.792 634.099 206.713 629.516 Q203.658 624.909 203.658 616.183 Q203.658 607.433 206.713 602.849 Q209.792 598.243 215.602 598.243 Z\" fill=\"#000000\" fill-rule=\"evenodd\" fill-opacity=\"1\" /><path clip-path=\"url(#clip670)\" d=\"M 0 0 M128.797 318.763 Q125.186 318.763 123.357 322.327 Q121.552 325.869 121.552 332.999 Q121.552 340.105 123.357 343.67 Q125.186 347.211 128.797 347.211 Q132.431 347.211 134.237 343.67 Q136.066 340.105 136.066 332.999 Q136.066 325.869 134.237 322.327 Q132.431 318.763 128.797 318.763 M128.797 315.059 Q134.607 315.059 137.663 319.665 Q140.741 324.249 140.741 332.999 Q140.741 341.725 137.663 346.332 Q134.607 350.915 128.797 350.915 Q122.987 350.915 119.908 346.332 Q116.853 341.725 116.853 332.999 Q116.853 324.249 119.908 319.665 Q122.987 315.059 128.797 315.059 Z\" fill=\"#000000\" fill-rule=\"evenodd\" fill-opacity=\"1\" /><path clip-path=\"url(#clip670)\" d=\"M 0 0 M145.811 344.364 L150.695 344.364 L150.695 350.244 L145.811 350.244 L145.811 344.364 Z\" fill=\"#000000\" fill-rule=\"evenodd\" fill-opacity=\"1\" /><path clip-path=\"url(#clip670)\" d=\"M 0 0 M159.792 346.309 L176.112 346.309 L176.112 350.244 L154.167 350.244 L154.167 346.309 Q156.829 343.554 161.413 338.924 Q166.019 334.272 167.2 332.929 Q169.445 330.406 170.325 328.67 Q171.227 326.911 171.227 325.221 Q171.227 322.466 169.283 320.73 Q167.362 318.994 164.26 318.994 Q162.061 318.994 159.607 319.758 Q157.177 320.522 154.399 322.073 L154.399 317.35 Q157.223 316.216 159.677 315.638 Q162.13 315.059 164.167 315.059 Q169.538 315.059 172.732 317.744 Q175.926 320.429 175.926 324.92 Q175.926 327.05 175.116 328.971 Q174.329 330.869 172.223 333.462 Q171.644 334.133 168.542 337.35 Q165.44 340.545 159.792 346.309 Z\" fill=\"#000000\" fill-rule=\"evenodd\" fill-opacity=\"1\" /><path clip-path=\"url(#clip670)\" d=\"M 0 0 M185.209 346.309 L201.528 346.309 L201.528 350.244 L179.584 350.244 L179.584 346.309 Q182.246 343.554 186.829 338.924 Q191.436 334.272 192.616 332.929 Q194.862 330.406 195.741 328.67 Q196.644 326.911 196.644 325.221 Q196.644 322.466 194.7 320.73 Q192.778 318.994 189.676 318.994 Q187.477 318.994 185.024 319.758 Q182.593 320.522 179.815 322.073 L179.815 317.35 Q182.639 316.216 185.093 315.638 Q187.547 315.059 189.584 315.059 Q194.954 315.059 198.149 317.744 Q201.343 320.429 201.343 324.92 Q201.343 327.05 200.533 328.971 Q199.746 330.869 197.639 333.462 Q197.061 334.133 193.959 337.35 Q190.857 340.545 185.209 346.309 Z\" fill=\"#000000\" fill-rule=\"evenodd\" fill-opacity=\"1\" /><path clip-path=\"url(#clip670)\" d=\"M 0 0 M206.644 315.684 L225 315.684 L225 319.619 L210.926 319.619 L210.926 328.091 Q211.945 327.744 212.963 327.582 Q213.982 327.397 215 327.397 Q220.787 327.397 224.167 330.568 Q227.547 333.739 227.547 339.156 Q227.547 344.735 224.074 347.836 Q220.602 350.915 214.283 350.915 Q212.107 350.915 209.838 350.545 Q207.593 350.174 205.186 349.434 L205.186 344.735 Q207.269 345.869 209.491 346.424 Q211.713 346.98 214.19 346.98 Q218.195 346.98 220.533 344.873 Q222.871 342.767 222.871 339.156 Q222.871 335.545 220.533 333.438 Q218.195 331.332 214.19 331.332 Q212.315 331.332 210.44 331.749 Q208.588 332.165 206.644 333.045 L206.644 315.684 Z\" fill=\"#000000\" fill-rule=\"evenodd\" fill-opacity=\"1\" /><path clip-path=\"url(#clip670)\" d=\"M 0 0 M16.4842 826.306 L16.4842 816.725 L48.8219 804.599 L16.4842 792.408 L16.4842 782.828 L64.0042 782.828 L64.0042 789.098 L22.277 789.098 L54.8694 801.352 L54.8694 807.814 L22.277 820.067 L64.0042 820.067 L64.0042 826.306 L16.4842 826.306 Z\" fill=\"#000000\" fill-rule=\"evenodd\" fill-opacity=\"1\" /><path clip-path=\"url(#clip670)\" d=\"M 0 0 M18.0438 747.944 L24.314 747.944 Q22.5634 751.604 21.704 754.851 Q20.8447 758.097 20.8447 761.121 Q20.8447 766.373 22.8817 769.237 Q24.9187 772.07 28.6745 772.07 Q31.8255 772.07 33.4488 770.192 Q35.0402 768.282 36.0269 762.999 L36.8226 759.116 Q38.1912 751.923 41.6605 748.517 Q45.098 745.079 50.8908 745.079 Q57.7976 745.079 61.3624 749.726 Q64.9272 754.342 64.9272 763.285 Q64.9272 766.659 64.1633 770.479 Q63.3994 774.266 61.9035 778.34 L55.2831 778.34 Q57.4793 774.425 58.5933 770.67 Q59.7073 766.914 59.7073 763.285 Q59.7073 757.779 57.543 754.787 Q55.3786 751.795 51.3682 751.795 Q47.8671 751.795 45.8937 753.96 Q43.9204 756.092 42.9337 760.994 L42.1698 764.909 Q40.7375 772.102 37.682 775.317 Q34.6264 778.531 29.1837 778.531 Q22.8817 778.531 19.2532 774.107 Q15.6248 769.651 15.6248 761.853 Q15.6248 758.511 16.2295 755.042 Q16.8343 751.572 18.0438 747.944 Z\" fill=\"#000000\" fill-rule=\"evenodd\" fill-opacity=\"1\" /><path clip-path=\"url(#clip670)\" d=\"M 0 0 M16.4842 738.682 L16.4842 708.636 L21.895 708.636 L21.895 732.253 L35.9632 732.253 L35.9632 709.622 L41.3741 709.622 L41.3741 732.253 L58.5933 732.253 L58.5933 708.063 L64.0042 708.063 L64.0042 738.682 L16.4842 738.682 Z\" fill=\"#000000\" fill-rule=\"evenodd\" fill-opacity=\"1\" /><path clip-path=\"url(#clip670)\" d=\"M 0 0 M783.458 12.096 L821.698 12.096 L821.698 18.9825 L791.641 18.9825 L791.641 36.8875 L820.443 36.8875 L820.443 43.7741 L791.641 43.7741 L791.641 65.6895 L822.428 65.6895 L822.428 72.576 L783.458 72.576 L783.458 12.096 Z\" fill=\"#000000\" fill-rule=\"evenodd\" fill-opacity=\"1\" /><path clip-path=\"url(#clip670)\" d=\"M 0 0 M867.96 27.2059 L851.554 49.2833 L868.81 72.576 L860.02 72.576 L846.814 54.752 L833.608 72.576 L824.818 72.576 L842.439 48.8377 L826.316 27.2059 L835.107 27.2059 L847.138 43.369 L859.169 27.2059 L867.96 27.2059 Z\" fill=\"#000000\" fill-rule=\"evenodd\" fill-opacity=\"1\" /><path clip-path=\"url(#clip670)\" d=\"M 0 0 M883.839 65.7705 L883.839 89.8329 L876.345 89.8329 L876.345 27.2059 L883.839 27.2059 L883.839 34.0924 Q886.189 30.0415 889.754 28.0971 Q893.359 26.1121 898.342 26.1121 Q906.605 26.1121 911.75 32.6746 Q916.935 39.2371 916.935 49.9314 Q916.935 60.6258 911.75 67.1883 Q906.605 73.7508 898.342 73.7508 Q893.359 73.7508 889.754 71.8063 Q886.189 69.8214 883.839 65.7705 M909.198 49.9314 Q909.198 41.7081 905.795 37.0496 Q902.433 32.3505 896.519 32.3505 Q890.604 32.3505 887.202 37.0496 Q883.839 41.7081 883.839 49.9314 Q883.839 58.1548 887.202 62.8538 Q890.604 67.5124 896.519 67.5124 Q902.433 67.5124 905.795 62.8538 Q909.198 58.1548 909.198 49.9314 Z\" fill=\"#000000\" fill-rule=\"evenodd\" fill-opacity=\"1\" /><path clip-path=\"url(#clip670)\" d=\"M 0 0 M924.753 9.54393 L932.207 9.54393 L932.207 72.576 L924.753 72.576 L924.753 9.54393 Z\" fill=\"#000000\" fill-rule=\"evenodd\" fill-opacity=\"1\" /><path clip-path=\"url(#clip670)\" d=\"M 0 0 M957.606 32.4315 Q951.611 32.4315 948.127 37.1306 Q944.643 41.7891 944.643 49.9314 Q944.643 58.0738 948.087 62.7728 Q951.57 67.4314 957.606 67.4314 Q963.561 67.4314 967.045 62.7323 Q970.529 58.0333 970.529 49.9314 Q970.529 41.8701 967.045 37.1711 Q963.561 32.4315 957.606 32.4315 M957.606 26.1121 Q967.328 26.1121 972.878 32.4315 Q978.428 38.7509 978.428 49.9314 Q978.428 61.0714 972.878 67.4314 Q967.328 73.7508 957.606 73.7508 Q947.844 73.7508 942.294 67.4314 Q936.785 61.0714 936.785 49.9314 Q936.785 38.7509 942.294 32.4315 Q947.844 26.1121 957.606 26.1121 Z\" fill=\"#000000\" fill-rule=\"evenodd\" fill-opacity=\"1\" /><path clip-path=\"url(#clip670)\" d=\"M 0 0 M1012.54 34.1734 Q1011.28 33.4443 1009.78 33.1202 Q1008.32 32.7556 1006.54 32.7556 Q1000.22 32.7556 996.819 36.8875 Q993.457 40.9789 993.457 48.6757 L993.457 72.576 L985.963 72.576 L985.963 27.2059 L993.457 27.2059 L993.457 34.2544 Q995.806 30.1225 999.574 28.1376 Q1003.34 26.1121 1008.73 26.1121 Q1009.5 26.1121 1010.43 26.2337 Q1011.36 26.3147 1012.5 26.5172 L1012.54 34.1734 Z\" fill=\"#000000\" fill-rule=\"evenodd\" fill-opacity=\"1\" /><path clip-path=\"url(#clip670)\" d=\"M 0 0 M1020.35 27.2059 L1027.81 27.2059 L1027.81 72.576 L1020.35 72.576 L1020.35 27.2059 M1020.35 9.54393 L1027.81 9.54393 L1027.81 18.9825 L1020.35 18.9825 L1020.35 9.54393 Z\" fill=\"#000000\" fill-rule=\"evenodd\" fill-opacity=\"1\" /><path clip-path=\"url(#clip670)\" d=\"M 0 0 M1073.34 45.1919 L1073.34 72.576 L1065.89 72.576 L1065.89 45.4349 Q1065.89 38.994 1063.38 35.7938 Q1060.86 32.5936 1055.84 32.5936 Q1049.8 32.5936 1046.32 36.4419 Q1042.84 40.2903 1042.84 46.9338 L1042.84 72.576 L1035.34 72.576 L1035.34 27.2059 L1042.84 27.2059 L1042.84 34.2544 Q1045.51 30.163 1049.12 28.1376 Q1052.76 26.1121 1057.5 26.1121 Q1065.32 26.1121 1069.33 30.9732 Q1073.34 35.7938 1073.34 45.1919 Z\" fill=\"#000000\" fill-rule=\"evenodd\" fill-opacity=\"1\" /><path clip-path=\"url(#clip670)\" d=\"M 0 0 M1111.01 49.3643 Q1111.01 41.2625 1107.65 36.8065 Q1104.33 32.3505 1098.29 32.3505 Q1092.3 32.3505 1088.94 36.8065 Q1085.61 41.2625 1085.61 49.3643 Q1085.61 57.4256 1088.94 61.8816 Q1092.3 66.3376 1098.29 66.3376 Q1104.33 66.3376 1107.65 61.8816 Q1111.01 57.4256 1111.01 49.3643 M1118.47 66.9452 Q1118.47 78.5308 1113.32 84.1616 Q1108.18 89.8329 1097.56 89.8329 Q1093.64 89.8329 1090.15 89.2252 Q1086.67 88.6581 1083.39 87.4428 L1083.39 80.1917 Q1086.67 81.9741 1089.87 82.8248 Q1093.07 83.6755 1096.39 83.6755 Q1103.72 83.6755 1107.37 79.8271 Q1111.01 76.0193 1111.01 68.282 L1111.01 64.5957 Q1108.7 68.6061 1105.1 70.5911 Q1101.49 72.576 1096.47 72.576 Q1088.13 72.576 1083.02 66.2161 Q1077.92 59.8562 1077.92 49.3643 Q1077.92 38.832 1083.02 32.472 Q1088.13 26.1121 1096.47 26.1121 Q1101.49 26.1121 1105.1 28.0971 Q1108.7 30.082 1111.01 34.0924 L1111.01 27.2059 L1118.47 27.2059 L1118.47 66.9452 Z\" fill=\"#000000\" fill-rule=\"evenodd\" fill-opacity=\"1\" /><path clip-path=\"url(#clip670)\" d=\"M 0 0 M1161.16 18.8205 L1161.16 41.5461 L1171.45 41.5461 Q1177.17 41.5461 1180.28 38.5889 Q1183.4 35.6318 1183.4 30.163 Q1183.4 24.7348 1180.28 21.7777 Q1177.17 18.8205 1171.45 18.8205 L1161.16 18.8205 M1152.98 12.096 L1171.45 12.096 Q1181.62 12.096 1186.81 16.714 Q1192.03 21.2916 1192.03 30.163 Q1192.03 39.1155 1186.81 43.6931 Q1181.62 48.2706 1171.45 48.2706 L1161.16 48.2706 L1161.16 72.576 L1152.98 72.576 L1152.98 12.096 Z\" fill=\"#000000\" fill-rule=\"evenodd\" fill-opacity=\"1\" /><path clip-path=\"url(#clip670)\" d=\"M 0 0 M1214.47 32.4315 Q1208.48 32.4315 1204.99 37.1306 Q1201.51 41.7891 1201.51 49.9314 Q1201.51 58.0738 1204.95 62.7728 Q1208.44 67.4314 1214.47 67.4314 Q1220.43 67.4314 1223.91 62.7323 Q1227.4 58.0333 1227.4 49.9314 Q1227.4 41.8701 1223.91 37.1711 Q1220.43 32.4315 1214.47 32.4315 M1214.47 26.1121 Q1224.2 26.1121 1229.75 32.4315 Q1235.3 38.7509 1235.3 49.9314 Q1235.3 61.0714 1229.75 67.4314 Q1224.2 73.7508 1214.47 73.7508 Q1204.71 73.7508 1199.16 67.4314 Q1193.65 61.0714 1193.65 49.9314 Q1193.65 38.7509 1199.16 32.4315 Q1204.71 26.1121 1214.47 26.1121 Z\" fill=\"#000000\" fill-rule=\"evenodd\" fill-opacity=\"1\" /><path clip-path=\"url(#clip670)\" d=\"M 0 0 M1272.04 28.5427 L1272.04 35.5912 Q1268.88 33.9709 1265.47 33.1607 Q1262.07 32.3505 1258.43 32.3505 Q1252.88 32.3505 1250.08 34.0519 Q1247.33 35.7533 1247.33 39.156 Q1247.33 41.7486 1249.31 43.2475 Q1251.3 44.7058 1257.29 46.0426 L1259.84 46.6097 Q1267.78 48.3111 1271.11 51.4303 Q1274.47 54.509 1274.47 60.0587 Q1274.47 66.3781 1269.44 70.0644 Q1264.46 73.7508 1255.71 73.7508 Q1252.07 73.7508 1248.1 73.0216 Q1244.17 72.3329 1239.79 70.9151 L1239.79 63.2184 Q1243.92 65.3654 1247.93 66.4591 Q1251.94 67.5124 1255.87 67.5124 Q1261.14 67.5124 1263.98 65.73 Q1266.81 63.9071 1266.81 60.6258 Q1266.81 57.5877 1264.75 55.9673 Q1262.72 54.3469 1255.79 52.8481 L1253.2 52.2405 Q1246.27 50.7821 1243.19 47.7845 Q1240.12 44.7463 1240.12 39.4801 Q1240.12 33.0797 1244.65 29.5959 Q1249.19 26.1121 1257.54 26.1121 Q1261.67 26.1121 1265.31 26.7198 Q1268.96 27.3274 1272.04 28.5427 Z\" fill=\"#000000\" fill-rule=\"evenodd\" fill-opacity=\"1\" /><path clip-path=\"url(#clip670)\" d=\"M 0 0 M1282.29 27.2059 L1289.74 27.2059 L1289.74 72.576 L1282.29 72.576 L1282.29 27.2059 M1282.29 9.54393 L1289.74 9.54393 L1289.74 18.9825 L1282.29 18.9825 L1282.29 9.54393 Z\" fill=\"#000000\" fill-rule=\"evenodd\" fill-opacity=\"1\" /><path clip-path=\"url(#clip670)\" d=\"M 0 0 M1304.93 14.324 L1304.93 27.2059 L1320.28 27.2059 L1320.28 32.9987 L1304.93 32.9987 L1304.93 57.6282 Q1304.93 63.1779 1306.43 64.7578 Q1307.97 66.3376 1312.63 66.3376 L1320.28 66.3376 L1320.28 72.576 L1312.63 72.576 Q1304 72.576 1300.72 69.3758 Q1297.44 66.1351 1297.44 57.6282 L1297.44 32.9987 L1291.97 32.9987 L1291.97 27.2059 L1297.44 27.2059 L1297.44 14.324 L1304.93 14.324 Z\" fill=\"#000000\" fill-rule=\"evenodd\" fill-opacity=\"1\" /><path clip-path=\"url(#clip670)\" d=\"M 0 0 M1328.1 27.2059 L1335.56 27.2059 L1335.56 72.576 L1328.1 72.576 L1328.1 27.2059 M1328.1 9.54393 L1335.56 9.54393 L1335.56 18.9825 L1328.1 18.9825 L1328.1 9.54393 Z\" fill=\"#000000\" fill-rule=\"evenodd\" fill-opacity=\"1\" /><path clip-path=\"url(#clip670)\" d=\"M 0 0 M1360.95 32.4315 Q1354.96 32.4315 1351.48 37.1306 Q1347.99 41.7891 1347.99 49.9314 Q1347.99 58.0738 1351.44 62.7728 Q1354.92 67.4314 1360.95 67.4314 Q1366.91 67.4314 1370.39 62.7323 Q1373.88 58.0333 1373.88 49.9314 Q1373.88 41.8701 1370.39 37.1711 Q1366.91 32.4315 1360.95 32.4315 M1360.95 26.1121 Q1370.68 26.1121 1376.23 32.4315 Q1381.78 38.7509 1381.78 49.9314 Q1381.78 61.0714 1376.23 67.4314 Q1370.68 73.7508 1360.95 73.7508 Q1351.19 73.7508 1345.64 67.4314 Q1340.13 61.0714 1340.13 49.9314 Q1340.13 38.7509 1345.64 32.4315 Q1351.19 26.1121 1360.95 26.1121 Z\" fill=\"#000000\" fill-rule=\"evenodd\" fill-opacity=\"1\" /><path clip-path=\"url(#clip670)\" d=\"M 0 0 M1427.31 45.1919 L1427.31 72.576 L1419.85 72.576 L1419.85 45.4349 Q1419.85 38.994 1417.34 35.7938 Q1414.83 32.5936 1409.81 32.5936 Q1403.77 32.5936 1400.29 36.4419 Q1396.81 40.2903 1396.81 46.9338 L1396.81 72.576 L1389.31 72.576 L1389.31 27.2059 L1396.81 27.2059 L1396.81 34.2544 Q1399.48 30.163 1403.08 28.1376 Q1406.73 26.1121 1411.47 26.1121 Q1419.29 26.1121 1423.3 30.9732 Q1427.31 35.7938 1427.31 45.1919 Z\" fill=\"#000000\" fill-rule=\"evenodd\" fill-opacity=\"1\" /><path clip-path=\"url(#clip670)\" d=\"M 0 0 M1473.85 40.0472 Q1470.17 43.3285 1468.43 46.6097 Q1466.72 49.8504 1466.72 53.4152 Q1466.72 59.3295 1471.02 63.2589 Q1475.31 67.1883 1481.79 67.1883 Q1485.64 67.1883 1489 65.9325 Q1492.37 64.6362 1495.32 62.0436 L1473.85 40.0472 M1479.57 35.5102 L1500.14 56.5749 Q1502.53 52.9696 1503.87 48.8782 Q1505.21 44.7463 1505.45 40.1283 L1512.99 40.1283 Q1512.5 45.4755 1510.39 50.7011 Q1508.29 55.9268 1504.52 61.0309 L1515.82 72.576 L1505.61 72.576 L1499.82 66.6212 Q1495.61 70.2265 1490.99 72.0089 Q1486.37 73.7508 1481.06 73.7508 Q1471.3 73.7508 1465.1 68.201 Q1458.91 62.6108 1458.91 53.9013 Q1458.91 48.7162 1461.62 44.1792 Q1464.33 39.6016 1469.76 35.5912 Q1467.82 33.0392 1466.8 30.5276 Q1465.79 27.9755 1465.79 25.545 Q1465.79 18.9825 1470.29 15.0127 Q1474.79 11.0023 1482.24 11.0023 Q1485.6 11.0023 1488.92 11.7314 Q1492.29 12.4606 1495.73 13.9189 L1495.73 21.2916 Q1492.2 19.3876 1489 18.4154 Q1485.8 17.4027 1483.05 17.4027 Q1478.8 17.4027 1476.12 19.6712 Q1473.49 21.8992 1473.49 25.464 Q1473.49 27.5299 1474.66 29.6364 Q1475.88 31.7024 1479.57 35.5102 Z\" fill=\"#000000\" fill-rule=\"evenodd\" fill-opacity=\"1\" /><path clip-path=\"url(#clip670)\" d=\"M 0 0 M1565.93 72.576 L1542.84 12.096 L1551.39 12.096 L1570.55 63.0159 L1589.75 12.096 L1598.26 12.096 L1575.21 72.576 L1565.93 72.576 Z\" fill=\"#000000\" fill-rule=\"evenodd\" fill-opacity=\"1\" /><path clip-path=\"url(#clip670)\" d=\"M 0 0 M1638.44 48.0275 L1638.44 51.6733 L1604.17 51.6733 Q1604.66 59.3701 1608.79 63.421 Q1612.96 67.4314 1620.37 67.4314 Q1624.67 67.4314 1628.68 66.3781 Q1632.73 65.3249 1636.7 63.2184 L1636.7 70.267 Q1632.69 71.9684 1628.48 72.8596 Q1624.26 73.7508 1619.93 73.7508 Q1609.07 73.7508 1602.71 67.4314 Q1596.39 61.1119 1596.39 50.3365 Q1596.39 39.1965 1602.39 32.6746 Q1608.42 26.1121 1618.63 26.1121 Q1627.79 26.1121 1633.09 32.0264 Q1638.44 37.9003 1638.44 48.0275 M1630.99 45.84 Q1630.91 39.7232 1627.54 36.0774 Q1624.22 32.4315 1618.71 32.4315 Q1612.48 32.4315 1608.71 35.9558 Q1604.98 39.4801 1604.41 45.8805 L1630.99 45.84 Z\" fill=\"#000000\" fill-rule=\"evenodd\" fill-opacity=\"1\" /><path clip-path=\"url(#clip670)\" d=\"M 0 0 M1646.26 9.54393 L1653.71 9.54393 L1653.71 72.576 L1646.26 72.576 L1646.26 9.54393 Z\" fill=\"#000000\" fill-rule=\"evenodd\" fill-opacity=\"1\" /><path clip-path=\"url(#clip670)\" d=\"M 0 0 M1679.11 32.4315 Q1673.12 32.4315 1669.63 37.1306 Q1666.15 41.7891 1666.15 49.9314 Q1666.15 58.0738 1669.59 62.7728 Q1673.08 67.4314 1679.11 67.4314 Q1685.07 67.4314 1688.55 62.7323 Q1692.04 58.0333 1692.04 49.9314 Q1692.04 41.8701 1688.55 37.1711 Q1685.07 32.4315 1679.11 32.4315 M1679.11 26.1121 Q1688.83 26.1121 1694.38 32.4315 Q1699.93 38.7509 1699.93 49.9314 Q1699.93 61.0714 1694.38 67.4314 Q1688.83 73.7508 1679.11 73.7508 Q1669.35 73.7508 1663.8 67.4314 Q1658.29 61.0714 1658.29 49.9314 Q1658.29 38.7509 1663.8 32.4315 Q1669.35 26.1121 1679.11 26.1121 Z\" fill=\"#000000\" fill-rule=\"evenodd\" fill-opacity=\"1\" /><path clip-path=\"url(#clip670)\" d=\"M 0 0 M1740.4 28.9478 L1740.4 35.9153 Q1737.24 34.1734 1734.04 33.3227 Q1730.88 32.4315 1727.64 32.4315 Q1720.39 32.4315 1716.38 37.0496 Q1712.37 41.6271 1712.37 49.9314 Q1712.37 58.2358 1716.38 62.8538 Q1720.39 67.4314 1727.64 67.4314 Q1730.88 67.4314 1734.04 66.5807 Q1737.24 65.6895 1740.4 63.9476 L1740.4 70.8341 Q1737.28 72.2924 1733.92 73.0216 Q1730.6 73.7508 1726.83 73.7508 Q1716.58 73.7508 1710.55 67.3098 Q1704.51 60.8689 1704.51 49.9314 Q1704.51 38.832 1710.59 32.472 Q1716.71 26.1121 1727.32 26.1121 Q1730.76 26.1121 1734.04 26.8413 Q1737.32 27.5299 1740.4 28.9478 Z\" fill=\"#000000\" fill-rule=\"evenodd\" fill-opacity=\"1\" /><path clip-path=\"url(#clip670)\" d=\"M 0 0 M1748.22 27.2059 L1755.67 27.2059 L1755.67 72.576 L1748.22 72.576 L1748.22 27.2059 M1748.22 9.54393 L1755.67 9.54393 L1755.67 18.9825 L1748.22 18.9825 L1748.22 9.54393 Z\" fill=\"#000000\" fill-rule=\"evenodd\" fill-opacity=\"1\" /><path clip-path=\"url(#clip670)\" d=\"M 0 0 M1770.87 14.324 L1770.87 27.2059 L1786.22 27.2059 L1786.22 32.9987 L1770.87 32.9987 L1770.87 57.6282 Q1770.87 63.1779 1772.36 64.7578 Q1773.9 66.3376 1778.56 66.3376 L1786.22 66.3376 L1786.22 72.576 L1778.56 72.576 Q1769.93 72.576 1766.65 69.3758 Q1763.37 66.1351 1763.37 57.6282 L1763.37 32.9987 L1757.9 32.9987 L1757.9 27.2059 L1763.37 27.2059 L1763.37 14.324 L1770.87 14.324 Z\" fill=\"#000000\" fill-rule=\"evenodd\" fill-opacity=\"1\" /><path clip-path=\"url(#clip670)\" d=\"M 0 0 M1812.91 76.7889 Q1809.75 84.8907 1806.76 87.3618 Q1803.76 89.8329 1798.74 89.8329 L1792.78 89.8329 L1792.78 83.5945 L1797.16 83.5945 Q1800.23 83.5945 1801.94 82.1361 Q1803.64 80.6778 1805.7 75.2496 L1807.04 71.8468 L1788.69 27.2059 L1796.59 27.2059 L1810.77 62.6918 L1824.95 27.2059 L1832.84 27.2059 L1812.91 76.7889 Z\" fill=\"#000000\" fill-rule=\"evenodd\" fill-opacity=\"1\" /><path clip-path=\"url(#clip672)\" d=\"\n",
       "M322.675 304.368 L323.661 304.368 L324.647 305.241 L325.633 305.677 L326.619 305.939 L327.605 306.462 L328.591 306.986 L329.577 306.986 L330.563 306.986 L331.549 306.986 \n",
       "  L332.535 306.986 L333.521 306.986 L334.507 306.986 L335.493 306.986 L336.479 306.986 L337.465 306.986 L338.451 306.986 L339.437 306.986 L340.423 306.986 L341.409 306.986 \n",
       "  L342.395 306.986 L343.381 306.986 L344.366 306.986 L345.352 306.986 L346.338 306.986 L347.324 306.986 L348.31 306.986 L349.296 306.986 L350.282 307.038 L351.268 307.09 \n",
       "  L352.254 307.142 L353.24 307.194 L354.226 307.246 L355.212 307.247 L356.198 307.248 L357.184 307.248 L358.17 307.249 L359.156 307.388 L360.142 307.526 L361.128 307.665 \n",
       "  L362.114 307.803 L363.1 308.001 L364.086 308.061 L365.072 308.121 L366.058 308.179 L367.044 308.237 L368.03 308.24 L369.016 308.242 L370.002 308.244 L370.988 308.531 \n",
       "  L371.974 308.817 L372.96 309.115 L373.946 309.411 L374.932 309.706 L375.917 309.731 L376.903 309.756 L377.889 309.768 L378.875 309.782 L379.861 309.951 L380.847 310.108 \n",
       "  L381.833 310.409 L382.819 310.71 L383.805 311.011 L384.791 311.157 L385.777 311.304 L386.763 311.305 L387.749 311.329 L388.735 311.344 L389.721 311.389 L390.707 311.498 \n",
       "  L391.693 311.607 L392.679 311.694 L393.665 311.79 L394.651 311.847 L395.637 311.841 L396.623 311.837 L397.609 311.907 L398.595 311.975 L399.581 312.049 L400.567 312.124 \n",
       "  L401.553 312.194 L402.539 312.19 L403.525 312.188 L404.511 312.187 L405.497 312.13 L406.483 312.079 L407.468 312.024 L408.454 311.968 L409.44 311.913 L410.426 311.914 \n",
       "  L411.412 311.913 L412.398 311.919 L413.384 311.927 L414.37 311.934 L415.356 312.21 L416.342 312.626 L417.328 313.027 L418.314 313.429 L419.3 313.808 L420.286 313.919 \n",
       "  L421.272 313.888 L422.258 313.863 L423.244 313.836 L424.23 313.835 L425.216 313.835 L426.202 313.834 L427.188 313.831 L428.174 313.826 L429.16 313.811 L430.146 313.796 \n",
       "  L431.132 313.781 L432.118 313.777 L433.104 313.775 L434.09 313.78 L435.076 313.791 L436.062 313.797 L437.048 313.805 L438.034 313.82 L439.02 313.833 L440.005 313.85 \n",
       "  L440.991 313.873 L441.977 313.897 L442.963 313.913 L443.949 313.979 L444.935 314.033 L445.921 314.085 L446.907 314.139 L447.893 314.19 L448.879 314.194 L449.865 314.206 \n",
       "  L450.851 314.222 L451.837 314.233 L452.823 314.262 L453.809 314.293 L454.795 314.324 L455.781 314.349 L456.767 314.384 L457.753 314.425 L458.739 314.463 L459.725 314.498 \n",
       "  L460.711 314.549 L461.697 314.59 L462.683 314.613 L463.669 314.636 L464.655 314.662 L465.641 314.693 L466.627 314.725 L467.613 314.762 L468.599 314.803 L469.585 314.848 \n",
       "  L470.571 314.91 L471.556 315.051 L472.542 315.181 L473.528 315.313 L474.514 315.437 L475.5 315.518 L476.486 315.517 L477.472 315.52 L478.458 315.57 L479.444 315.621 \n",
       "  L480.43 315.85 L481.416 316.081 L482.402 316.305 L483.388 316.481 L484.374 316.655 L485.36 316.664 L486.346 316.674 L487.332 316.705 L488.318 316.73 L489.304 316.764 \n",
       "  L490.29 316.792 L491.276 316.879 L492.262 316.949 L493.248 317.025 L494.234 317.113 L495.22 317.208 L496.206 317.233 L497.192 317.266 L498.178 317.307 L499.164 317.294 \n",
       "  L500.15 317.245 L501.136 317.213 L502.122 317.197 L503.107 317.219 L504.093 317.266 L505.079 317.4 L506.065 317.54 L507.051 317.706 L508.037 317.84 L509.023 318.019 \n",
       "  L510.009 318.141 L510.995 318.261 L511.981 318.35 L512.967 318.426 L513.953 318.505 L514.939 318.591 L515.925 318.661 L516.911 318.721 L517.897 318.825 L518.883 318.894 \n",
       "  L519.869 318.999 L520.855 319.108 L521.841 319.249 L522.827 319.362 L523.813 319.509 L524.799 319.622 L525.785 319.775 L526.771 319.927 L527.757 320.068 L528.743 320.186 \n",
       "  L529.729 320.332 L530.715 320.44 L531.701 320.515 L532.687 320.617 L533.673 320.705 L534.659 320.856 L535.644 321.036 L536.63 321.282 L537.616 321.497 L538.602 321.768 \n",
       "  L539.588 321.964 L540.574 322.174 L541.56 322.333 L542.546 322.547 L543.532 322.718 L544.518 322.933 L545.504 323.117 L546.49 323.367 L547.476 323.564 L548.462 323.792 \n",
       "  L549.448 323.974 L550.434 324.172 L551.42 324.319 L552.406 324.521 L553.392 324.677 L554.378 325.003 L555.364 325.299 L556.35 325.607 L557.336 325.879 L558.322 326.316 \n",
       "  L559.308 326.557 L560.294 326.871 L561.28 327.147 L562.266 327.534 L563.252 327.761 L564.238 328.052 L565.224 328.281 L566.21 328.586 L567.195 328.755 L568.181 329.027 \n",
       "  L569.167 329.254 L570.153 329.509 L571.139 329.737 L572.125 330.12 L573.111 330.403 L574.097 330.743 L575.083 331.115 L576.069 331.461 L577.055 331.651 L578.041 331.861 \n",
       "  L579.027 332.015 L580.013 332.113 L580.999 332.199 L581.985 332.392 L582.971 332.788 L583.957 333.344 L584.943 333.95 L585.929 334.74 L586.915 335.536 L587.901 336.249 \n",
       "  L588.887 336.873 L589.873 337.495 L590.859 337.944 L591.845 338.435 L592.831 338.858 L593.817 339.239 L594.803 339.656 L595.789 340.192 L596.775 340.611 L597.761 340.977 \n",
       "  L598.746 341.297 L599.732 341.563 L600.718 341.76 L601.704 341.972 L602.69 342.28 L603.676 342.638 L604.662 343.106 L605.648 343.511 L606.634 343.976 L607.62 344.337 \n",
       "  L608.606 344.786 L609.592 345.122 L610.578 345.657 L611.564 346.088 L612.55 346.765 L613.536 347.385 L614.522 348.16 L615.508 348.742 L616.494 349.513 L617.48 350.13 \n",
       "  L618.466 350.722 L619.452 351.174 L620.438 351.679 L621.424 352.063 L622.41 352.419 L623.396 352.775 L624.382 353.206 L625.368 353.641 L626.354 354.061 L627.34 354.516 \n",
       "  L628.326 355.029 L629.312 355.414 L630.298 355.989 L631.283 356.546 L632.269 357.27 L633.255 357.982 L634.241 358.832 L635.227 359.564 L636.213 360.314 L637.199 361.098 \n",
       "  L638.185 361.832 L639.171 362.545 L640.157 363.132 L641.143 363.838 L642.129 364.423 L643.115 365.078 L644.101 365.675 L645.087 366.756 L646.073 367.674 L647.059 368.653 \n",
       "  L648.045 369.548 L649.031 370.477 L650.017 371.086 L651.003 371.818 L651.989 372.399 L652.975 373.094 L653.961 373.939 L654.947 374.789 L655.933 375.605 L656.919 376.693 \n",
       "  L657.905 377.655 L658.891 378.685 L659.877 379.673 L660.863 380.967 L661.849 382.243 L662.834 383.539 L663.82 385.009 L664.806 386.452 L665.792 387.561 L666.778 388.417 \n",
       "  L667.764 389.74 L668.75 390.656 L669.736 391.871 L670.722 393.002 L671.708 394.212 L672.694 394.907 L673.68 395.725 L674.666 396.214 L675.652 396.89 L676.638 397.715 \n",
       "  L677.624 398.571 L678.61 399.388 L679.596 400.476 L680.582 401.617 L681.568 402.448 L682.554 403.407 L683.54 404.328 L684.526 405.134 L685.512 405.726 L686.498 406.421 \n",
       "  L687.484 407.053 L688.47 408.197 L689.456 409.222 L690.442 410.337 L691.428 411.693 L692.414 412.983 L693.4 413.764 L694.385 414.602 L695.371 415.732 L696.357 416.673 \n",
       "  L697.343 417.744 L698.329 418.907 L699.315 420.01 L700.301 420.929 L701.287 421.699 L702.273 422.604 L703.259 423.321 L704.245 423.964 L705.231 425.038 L706.217 426.171 \n",
       "  L707.203 427.172 L708.189 428.287 L709.175 430.163 L710.161 431.478 L711.147 433.011 L712.133 434.504 L713.119 436.306 L714.105 437.439 L715.091 439 L716.077 440.304 \n",
       "  L717.063 441.501 L718.049 442.266 L719.035 443.213 L720.021 443.698 L721.007 444.319 L721.993 444.963 L722.979 445.846 L723.965 446.791 L724.951 447.702 L725.937 448.642 \n",
       "  L726.922 449.608 L727.908 450.349 L728.894 450.808 L729.88 451.354 L730.866 451.952 L731.852 453.363 L732.838 454.801 L733.824 456.479 L734.81 458.121 L735.796 460.002 \n",
       "  L736.782 461.127 L737.768 462.588 L738.754 464.03 L739.74 466.233 L740.726 468.23 L741.712 470.583 L742.698 472.783 L743.684 475.308 L744.67 477.343 L745.656 479.335 \n",
       "  L746.642 481.013 L747.628 482.741 L748.614 483.872 L749.6 485.2 L750.586 486.303 L751.572 487.825 L752.558 489.123 L753.544 490.637 L754.53 491.724 L755.516 492.911 \n",
       "  L756.502 493.561 L757.488 494.466 L758.473 495.271 L759.459 496.126 L760.445 497.119 L761.431 498.74 L762.417 500.293 L763.403 502.518 L764.389 504.697 L765.375 507.667 \n",
       "  L766.361 510.241 L767.347 513.311 L768.333 515.743 L769.319 518.459 L770.305 520.405 L771.291 522.486 L772.277 524.75 L773.263 526.932 L774.249 529.059 L775.235 531.148 \n",
       "  L776.221 533.49 L777.207 535.126 L778.193 538.21 L779.179 541.195 L780.165 544.404 L781.151 547.355 L782.137 550.326 L783.123 552.367 L784.109 554.395 L785.095 556.334 \n",
       "  L786.081 557.998 L787.067 559.846 L788.053 561.144 L789.039 562.396 L790.024 563.64 L791.01 565.088 L791.996 566.458 L792.982 568.206 L793.968 569.854 L794.954 571.295 \n",
       "  L795.94 572.427 L796.926 573.435 L797.912 574.243 L798.898 575.456 L799.884 576.555 L800.87 578.16 L801.856 579.845 L802.842 581.905 L803.828 583.721 L804.814 585.962 \n",
       "  L805.8 587.817 L806.786 589.718 L807.772 591.356 L808.758 592.858 L809.744 594.281 L810.73 595.665 L811.716 597.219 L812.702 598.94 L813.688 600.691 L814.674 602.537 \n",
       "  L815.66 604.455 L816.646 606.441 L817.632 608.181 L818.618 610.052 L819.604 611.67 L820.59 613.642 L821.576 615.271 L822.561 616.993 L823.547 618.637 L824.533 620.387 \n",
       "  L825.519 621.876 L826.505 623.498 L827.491 624.82 L828.477 626.228 L829.463 627.49 L830.449 628.757 L831.435 629.992 L832.421 631.575 L833.407 633.191 L834.393 634.815 \n",
       "  L835.379 636.291 L836.365 637.937 L837.351 639.601 L838.337 641.238 L839.323 642.933 L840.309 645.057 L841.295 646.845 L842.281 648.77 L843.267 650.43 L844.253 652.658 \n",
       "  L845.239 654.541 L846.225 656.624 L847.211 658.299 L848.197 660.222 L849.183 661.788 L850.169 663.387 L851.155 665.201 L852.141 667.142 L853.127 669.266 L854.112 671.107 \n",
       "  L855.098 673.223 L856.084 674.93 L857.07 677.139 L858.056 679.084 L859.042 681.139 L860.028 682.81 L861.014 685.051 L862 686.662 L862.986 688.393 L863.972 689.902 \n",
       "  L864.958 691.462 L865.944 692.561 L866.93 693.831 L867.916 695.034 L868.902 696.335 L869.888 697.716 L870.874 699.326 L871.86 700.683 L872.846 702.342 L873.832 704.58 \n",
       "  L874.818 706.71 L875.804 708.669 L876.79 710.921 L877.776 713.233 L878.762 714.829 L879.748 717.04 L880.734 718.954 L881.72 721.665 L882.706 724.274 L883.692 727.204 \n",
       "  L884.678 729.79 L885.663 732.57 L886.649 734.758 L887.635 736.923 L888.621 739.125 L889.607 741.161 L890.593 743.661 L891.579 745.775 L892.565 747.913 L893.551 749.689 \n",
       "  L894.537 751.859 L895.523 753.436 L896.509 755.484 L897.495 757.075 L898.481 759.394 L899.467 761.405 L900.453 764.031 L901.439 766.225 L902.425 768.754 L903.411 770.903 \n",
       "  L904.397 773.373 L905.383 775.672 L906.369 778.053 L907.355 780.437 L908.341 782.622 L909.327 784.775 L910.313 786.87 L911.299 788.982 L912.285 791.079 L913.271 793.197 \n",
       "  L914.257 795.162 L915.243 797.331 L916.229 799.512 L917.215 801.631 L918.2 803.69 L919.186 805.689 L920.172 807.183 L921.158 808.613 L922.144 809.854 L923.13 811.607 \n",
       "  L924.116 812.985 L925.102 814.561 L926.088 815.863 L927.074 817.243 L928.06 818.037 L929.046 819.095 L930.032 820.156 L931.018 821.496 L932.004 822.966 L932.99 824.851 \n",
       "  L933.976 826.806 L934.962 828.727 L935.948 830.939 L936.934 833.334 L937.92 835.609 L938.906 837.737 L939.892 839.749 L940.878 841.83 L941.864 843.712 L942.85 845.489 \n",
       "  L943.836 847.44 L944.822 849.249 L945.808 850.625 L946.794 852.005 L947.78 853.459 L948.766 855.09 L949.751 856.793 L950.737 858.504 L951.723 860.168 L952.709 861.563 \n",
       "  L953.695 862.594 L954.681 863.624 L955.667 864.796 L956.653 865.893 L957.639 867.31 L958.625 868.881 L959.611 870.41 L960.597 871.777 L961.583 873.323 L962.569 874.756 \n",
       "  L963.555 875.92 L964.541 877.344 L965.527 878.799 L966.513 880.275 L967.499 881.59 L968.485 883.145 L969.471 884.673 L970.457 886.301 L971.443 888.064 L972.429 889.964 \n",
       "  L973.415 892.199 L974.401 894.172 L975.387 896.073 L976.373 897.536 L977.359 899.352 L978.345 900.827 L979.331 902.424 L980.317 904.082 L981.302 905.957 L982.288 907.508 \n",
       "  L983.274 908.94 L984.26 910.35 L985.246 911.742 L986.232 912.985 L987.218 914.236 L988.204 915.949 L989.19 917.774 L990.176 919.557 L991.162 921.557 L992.148 923.56 \n",
       "  L993.134 925.017 L994.12 926.567 L995.106 928.043 L996.092 929.349 L997.078 930.44 L998.064 931.775 L999.05 932.75 L1000.04 933.889 L1001.02 935.071 L1002.01 936.432 \n",
       "  L1002.99 937.684 L1003.98 939.375 L1004.97 940.846 L1005.95 942.366 L1006.94 943.944 L1007.92 945.755 L1008.91 947.215 L1009.9 948.739 L1010.88 950.153 L1011.87 951.341 \n",
       "  L1012.85 952.295 L1013.84 953.469 L1014.83 954.606 L1015.81 955.906 L1016.8 957.243 L1017.78 958.467 L1018.77 959.512 L1019.76 960.756 L1020.74 961.832 L1021.73 962.947 \n",
       "  L1022.71 964.101 L1023.7 965.155 L1024.69 966.367 L1025.67 967.702 L1026.66 969.1 L1027.64 970.47 L1028.63 972.076 L1029.61 973.387 L1030.6 974.72 L1031.59 975.891 \n",
       "  L1032.57 977.293 L1033.56 978.461 L1034.54 979.454 L1035.53 980.357 L1036.52 981.291 L1037.5 982.369 L1038.49 983.386 L1039.47 984.667 L1040.46 985.917 L1041.45 987.728 \n",
       "  L1042.43 989.154 L1043.42 990.957 L1044.4 992.557 L1045.39 994.25 L1046.38 995.548 L1047.36 996.687 L1048.35 997.61 L1049.33 998.528 L1050.32 999.349 L1051.31 1000.12 \n",
       "  L1052.29 1001.01 L1053.28 1001.79 L1054.26 1002.62 L1055.25 1003.46 L1056.24 1004.31 L1057.22 1005.17 L1058.21 1006.13 L1059.19 1007.03 L1060.18 1007.84 L1061.17 1008.47 \n",
       "  L1062.15 1009.19 L1063.14 1009.89 L1064.12 1010.91 L1065.11 1011.92 L1066.1 1013.14 L1067.08 1014.19 L1068.07 1015.26 L1069.05 1015.97 L1070.04 1017.04 L1071.03 1017.93 \n",
       "  L1072.01 1018.93 L1073 1019.85 L1073.98 1021.01 L1074.97 1021.75 L1075.96 1022.6 L1076.94 1023.44 L1077.93 1024.28 L1078.91 1025.11 L1079.9 1026.04 L1080.89 1027.18 \n",
       "  L1081.87 1028.24 L1082.86 1029.68 L1083.84 1030.93 L1084.83 1032.16 L1085.82 1033.2 L1086.8 1034.34 L1087.79 1035.13 L1088.77 1035.82 L1089.76 1036.58 L1090.75 1037.09 \n",
       "  L1091.73 1037.63 L1092.72 1038.03 L1093.7 1038.56 L1094.69 1038.92 L1095.67 1039.35 L1096.66 1039.69 L1097.65 1040.11 L1098.63 1040.47 L1099.62 1041.01 L1100.6 1041.72 \n",
       "  L1101.59 1042.45 L1102.58 1043.38 L1103.56 1044.35 L1104.55 1045.28 L1105.53 1046.06 L1106.52 1046.91 L1107.51 1047.57 L1108.49 1048.25 L1109.48 1048.81 L1110.46 1049.41 \n",
       "  L1111.45 1049.82 L1112.44 1050.17 L1113.42 1050.46 L1114.41 1051.12 L1115.39 1051.78 L1116.38 1052.74 L1117.37 1053.82 L1118.35 1054.91 L1119.34 1055.75 L1120.32 1056.87 \n",
       "  L1121.31 1057.73 L1122.3 1058.87 L1123.28 1059.97 L1124.27 1061.15 L1125.25 1061.9 L1126.24 1062.82 L1127.23 1063.34 L1128.21 1064.05 L1129.2 1064.56 L1130.18 1065.29 \n",
       "  L1131.17 1066.04 L1132.16 1066.81 L1133.14 1067.51 L1134.13 1068.22 L1135.11 1069.01 L1136.1 1069.69 L1137.09 1070.5 L1138.07 1071.28 L1139.06 1072.33 L1140.04 1073.24 \n",
       "  L1141.03 1074.18 L1142.02 1075.08 L1143 1076 L1143.99 1076.89 L1144.97 1077.78 L1145.96 1078.93 L1146.95 1079.94 L1147.93 1080.94 L1148.92 1081.74 L1149.9 1082.62 \n",
       "  L1150.89 1083.28 L1151.88 1084 L1152.86 1084.74 L1153.85 1085.59 L1154.83 1086.3 L1155.82 1087.03 L1156.8 1087.68 L1157.79 1088.26 L1158.78 1088.83 L1159.76 1089.53 \n",
       "  L1160.75 1090.15 L1161.73 1090.87 L1162.72 1091.69 L1163.71 1092.48 L1164.69 1093.29 L1165.68 1094.07 L1166.66 1094.98 L1167.65 1095.79 L1168.64 1096.72 L1169.62 1097.44 \n",
       "  L1170.61 1098.29 L1171.59 1098.91 L1172.58 1099.6 L1173.57 1100.08 L1174.55 1100.73 L1175.54 1101.23 L1176.52 1101.85 L1177.51 1102.33 L1178.5 1102.93 L1179.48 1103.39 \n",
       "  L1180.47 1103.83 L1181.45 1104.3 L1182.44 1105 L1183.43 1105.75 L1184.41 1106.57 L1185.4 1107.47 L1186.38 1108.37 L1187.37 1109.04 L1188.36 1109.55 L1189.34 1110.19 \n",
       "  L1190.33 1110.88 L1191.31 1111.46 L1192.3 1112.35 L1193.29 1113.32 L1194.27 1114.24 L1195.26 1115.05 L1196.24 1116.13 L1197.23 1116.92 L1198.22 1117.69 L1199.2 1118.38 \n",
       "  L1200.19 1119.17 L1201.17 1119.83 L1202.16 1120.61 L1203.15 1121.49 L1204.13 1122.66 L1205.12 1123.71 L1206.1 1124.89 L1207.09 1126.13 L1208.08 1127.44 L1209.06 1128.56 \n",
       "  L1210.05 1130.04 L1211.03 1131.34 L1212.02 1132.55 L1213.01 1133.74 L1213.99 1135.09 L1214.98 1136.04 L1215.96 1137.17 L1216.95 1138.39 L1217.94 1139.7 L1218.92 1140.6 \n",
       "  L1219.91 1141.64 L1220.89 1142.51 L1221.88 1143.42 L1222.86 1144.16 L1223.85 1145.12 L1224.84 1146.07 L1225.82 1146.95 L1226.81 1147.63 L1227.79 1148.21 L1228.78 1148.87 \n",
       "  L1229.77 1149.68 L1230.75 1150.61 L1231.74 1151.53 L1232.72 1152.44 L1233.71 1153.31 L1234.7 1154.08 L1235.68 1154.73 L1236.67 1155.42 L1237.65 1156.14 L1238.64 1156.74 \n",
       "  L1239.63 1157.12 L1240.61 1157.53 L1241.6 1157.91 L1242.58 1158.47 L1243.57 1159.1 L1244.56 1159.99 L1245.54 1160.95 L1246.53 1162.11 L1247.51 1163.31 L1248.5 1164.5 \n",
       "  L1249.49 1165.83 L1250.47 1167.02 L1251.46 1168.25 L1252.44 1169.11 L1253.43 1169.96 L1254.42 1170.48 L1255.4 1171.1 L1256.39 1171.45 L1257.37 1172.09 L1258.36 1172.6 \n",
       "  L1259.35 1173.35 L1260.33 1174.11 L1261.32 1174.89 L1262.3 1175.51 L1263.29 1176.21 L1264.28 1176.71 L1265.26 1177.1 L1266.25 1177.48 L1267.23 1178.03 L1268.22 1178.51 \n",
       "  L1269.21 1179.21 L1270.19 1180.16 L1271.18 1181.04 L1272.16 1181.78 L1273.15 1182.49 L1274.14 1183.21 L1275.12 1183.73 L1276.11 1184.4 L1277.09 1184.94 L1278.08 1185.61 \n",
       "  L1279.07 1186.13 L1280.05 1186.52 L1281.04 1187 L1282.02 1187.56 L1283.01 1188.13 L1284 1188.59 L1284.98 1189.16 L1285.97 1189.56 L1286.95 1190.12 L1287.94 1190.63 \n",
       "  L1288.92 1191.2 L1289.91 1191.76 L1290.9 1192.31 L1291.88 1192.77 L1292.87 1193.24 L1293.85 1193.68 L1294.84 1194.16 L1295.83 1194.63 L1296.81 1194.93 L1297.8 1195.27 \n",
       "  L1298.78 1195.56 L1299.77 1195.85 L1300.76 1196.1 L1301.74 1196.61 L1302.73 1196.96 L1303.71 1197.42 L1304.7 1197.75 L1305.69 1198.22 L1306.67 1198.53 L1307.66 1198.91 \n",
       "  L1308.64 1199.19 L1309.63 1199.61 L1310.62 1199.77 L1311.6 1199.92 L1312.59 1200.21 L1313.57 1200.47 L1314.56 1200.88 L1315.55 1201.29 L1316.53 1201.8 L1317.52 1202.11 \n",
       "  L1318.5 1202.52 L1319.49 1202.55 L1320.48 1202.82 L1321.46 1203 L1322.45 1203.22 L1323.43 1203.41 L1324.42 1203.86 L1325.41 1204.19 L1326.39 1204.8 L1327.38 1205.37 \n",
       "  L1328.36 1206.06 L1329.35 1206.58 L1330.34 1207.22 L1331.32 1207.6 L1332.31 1208.09 L1333.29 1208.5 L1334.28 1209.02 L1335.27 1209.44 L1336.25 1209.87 L1337.24 1210.24 \n",
       "  L1338.22 1210.63 L1339.21 1210.93 L1340.2 1211.44 L1341.18 1211.9 L1342.17 1212.41 L1343.15 1213.01 L1344.14 1213.76 L1345.13 1214.35 L1346.11 1215.05 L1347.1 1215.62 \n",
       "  L1348.08 1216.09 L1349.07 1216.51 L1350.05 1216.9 L1351.04 1217.31 L1352.03 1217.73 L1353.01 1218.16 L1354 1218.47 L1354.98 1218.84 L1355.97 1219.09 L1356.96 1219.53 \n",
       "  L1357.94 1219.89 L1358.93 1220.44 L1359.91 1220.87 L1360.9 1221.34 L1361.89 1221.74 L1362.87 1222.27 L1363.86 1222.74 L1364.84 1223.35 L1365.83 1223.98 L1366.82 1224.41 \n",
       "  L1367.8 1224.79 L1368.79 1225.15 L1369.77 1225.45 L1370.76 1225.71 L1371.75 1226.09 L1372.73 1226.41 L1373.72 1226.71 L1374.7 1227.06 L1375.69 1227.44 L1376.68 1227.81 \n",
       "  L1377.66 1228.22 L1378.65 1228.53 L1379.63 1228.76 L1380.62 1229.01 L1381.61 1229.18 L1382.59 1229.49 L1383.58 1229.83 L1384.56 1230.3 L1385.55 1230.63 L1386.54 1231.21 \n",
       "  L1387.52 1231.6 L1388.51 1232.04 L1389.49 1232.42 L1390.48 1232.88 L1391.47 1233.09 L1392.45 1233.44 L1393.44 1233.66 L1394.42 1233.91 L1395.41 1234.19 L1396.4 1234.58 \n",
       "  L1397.38 1234.86 L1398.37 1235.48 L1399.35 1236.01 L1400.34 1236.62 L1401.33 1237.35 L1402.31 1238.23 L1403.3 1239.13 L1404.28 1240.2 L1405.27 1241.23 L1406.26 1242.11 \n",
       "  L1407.24 1243.14 L1408.23 1243.89 L1409.21 1244.5 L1410.2 1245.08 L1411.19 1245.76 L1412.17 1246.25 L1413.16 1246.72 L1414.14 1247.13 L1415.13 1247.55 L1416.11 1247.82 \n",
       "  L1417.1 1247.94 L1418.09 1248.05 L1419.07 1248.16 L1420.06 1248.32 L1421.04 1248.75 L1422.03 1249.3 L1423.02 1249.82 L1424 1250.68 L1424.99 1251.51 L1425.97 1252.2 \n",
       "  L1426.96 1253.11 L1427.95 1254.15 L1428.93 1254.85 L1429.92 1255.62 L1430.9 1256.27 L1431.89 1256.73 L1432.88 1257.11 L1433.86 1257.71 L1434.85 1258.17 L1435.83 1258.7 \n",
       "  L1436.82 1259.1 L1437.81 1259.58 L1438.79 1259.92 L1439.78 1260.38 L1440.76 1260.81 L1441.75 1261.35 L1442.74 1261.85 L1443.72 1262.31 L1444.71 1262.69 L1445.69 1263.01 \n",
       "  L1446.68 1263.39 L1447.67 1263.7 L1448.65 1264.2 L1449.64 1264.69 L1450.62 1265.38 L1451.61 1265.97 L1452.6 1266.55 L1453.58 1267.01 L1454.57 1267.58 L1455.55 1268.13 \n",
       "  L1456.54 1268.66 L1457.53 1269.36 L1458.51 1270 L1459.5 1270.61 L1460.48 1271.07 L1461.47 1271.7 L1462.46 1272.26 L1463.44 1272.94 L1464.43 1273.53 L1465.41 1274.34 \n",
       "  L1466.4 1275.1 L1467.39 1275.98 L1468.37 1276.99 L1469.36 1278.2 L1470.34 1279.33 L1471.33 1280.5 L1472.32 1281.53 L1473.3 1282.37 L1474.29 1283.17 L1475.27 1283.95 \n",
       "  L1476.26 1284.69 L1477.24 1285.42 L1478.23 1286.11 L1479.22 1286.7 L1480.2 1287.22 L1481.19 1287.7 L1482.17 1288.25 L1483.16 1288.85 L1484.15 1289.54 L1485.13 1290.24 \n",
       "  L1486.12 1291.05 L1487.1 1291.69 L1488.09 1292.41 L1489.08 1293.09 L1490.06 1293.83 L1491.05 1294.44 L1492.03 1295.19 L1493.02 1295.94 L1494.01 1296.64 L1494.99 1297.2 \n",
       "  L1495.98 1297.73 L1496.96 1298.16 L1497.95 1298.49 L1498.94 1298.83 L1499.92 1299.24 L1500.91 1299.61 L1501.89 1300.09 L1502.88 1300.5 L1503.87 1300.87 L1504.85 1301.26 \n",
       "  L1505.84 1302 L1506.82 1302.76 L1507.81 1303.57 L1508.8 1304.39 L1509.78 1305.07 L1510.77 1305.65 L1511.75 1306.22 L1512.74 1306.79 L1513.73 1307.49 L1514.71 1308.32 \n",
       "  L1515.7 1309.06 L1516.68 1309.67 L1517.67 1310.26 L1518.66 1310.75 L1519.64 1311.23 L1520.63 1311.66 L1521.61 1312.13 L1522.6 1312.52 L1523.59 1312.94 L1524.57 1313.34 \n",
       "  L1525.56 1313.65 L1526.54 1314 L1527.53 1314.38 L1528.52 1314.73 L1529.5 1315.07 L1530.49 1315.4 L1531.47 1315.76 L1532.46 1316.08 L1533.45 1316.5 L1534.43 1316.83 \n",
       "  L1535.42 1317.33 L1536.4 1317.84 L1537.39 1318.37 L1538.38 1318.93 L1539.36 1319.53 L1540.35 1320.02 L1541.33 1320.38 L1542.32 1320.95 L1543.3 1321.47 L1544.29 1322.05 \n",
       "  L1545.28 1322.54 L1546.26 1323.3 L1547.25 1323.84 L1548.23 1324.37 L1549.22 1324.78 L1550.21 1325.34 L1551.19 1325.64 L1552.18 1326.05 L1553.16 1326.38 L1554.15 1326.78 \n",
       "  L1555.14 1327.18 L1556.12 1327.72 L1557.11 1328.2 L1558.09 1328.72 L1559.08 1329.4 L1560.07 1330.37 L1561.05 1331.25 L1562.04 1332.22 L1563.02 1333.21 L1564.01 1333.97 \n",
       "  L1565 1334.39 L1565.98 1334.75 L1566.97 1335.05 L1567.95 1335.34 L1568.94 1335.73 L1569.93 1336.02 L1570.91 1336.33 L1571.9 1336.58 L1572.88 1336.85 L1573.87 1337.05 \n",
       "  L1574.86 1337.36 L1575.84 1337.73 L1576.83 1338.1 L1577.81 1338.4 L1578.8 1338.73 L1579.79 1339.12 L1580.77 1339.44 L1581.76 1339.85 L1582.74 1340.22 L1583.73 1340.63 \n",
       "  L1584.72 1340.83 L1585.7 1341.05 L1586.69 1341.32 L1587.67 1341.61 L1588.66 1341.9 L1589.65 1342.33 L1590.63 1342.85 L1591.62 1343.27 L1592.6 1343.69 L1593.59 1344.06 \n",
       "  L1594.58 1344.43 L1595.56 1344.65 L1596.55 1345.02 L1597.53 1345.44 L1598.52 1345.95 L1599.51 1346.45 L1600.49 1347.02 L1601.48 1347.41 L1602.46 1347.83 L1603.45 1348.19 \n",
       "  L1604.43 1348.63 L1605.42 1349.09 L1606.41 1349.56 L1607.39 1349.95 L1608.38 1350.28 L1609.36 1350.45 L1610.35 1350.56 L1611.34 1350.64 L1612.32 1350.72 L1613.31 1350.85 \n",
       "  L1614.29 1350.99 L1615.28 1351.15 L1616.27 1351.32 L1617.25 1351.48 L1618.24 1351.61 L1619.22 1351.77 L1620.21 1351.85 L1621.2 1351.94 L1622.18 1351.98 L1623.17 1352.02 \n",
       "  L1624.15 1352.12 L1625.14 1352.34 L1626.13 1352.55 L1627.11 1352.81 L1628.1 1353.06 L1629.08 1353.22 L1630.07 1353.31 L1631.06 1353.38 L1632.04 1353.57 L1633.03 1353.73 \n",
       "  L1634.01 1353.98 L1635 1354.26 L1635.99 1354.58 L1636.97 1354.76 L1637.96 1354.94 L1638.94 1355.06 L1639.93 1355.21 L1640.92 1355.38 L1641.9 1355.56 L1642.89 1355.8 \n",
       "  L1643.87 1356.08 L1644.86 1356.3 L1645.85 1356.49 L1646.83 1356.71 L1647.82 1356.88 L1648.8 1356.97 L1649.79 1357.13 L1650.78 1357.27 L1651.76 1357.39 L1652.75 1357.48 \n",
       "  L1653.73 1357.79 L1654.72 1358.09 L1655.71 1358.43 L1656.69 1358.78 L1657.68 1359.2 L1658.66 1359.47 L1659.65 1359.68 L1660.64 1359.93 L1661.62 1360.16 L1662.61 1360.37 \n",
       "  L1663.59 1360.62 L1664.58 1360.92 L1665.57 1361.14 L1666.55 1361.31 L1667.54 1361.44 L1668.52 1361.55 L1669.51 1361.69 L1670.49 1361.84 L1671.48 1362.07 L1672.47 1362.29 \n",
       "  L1673.45 1362.49 L1674.44 1362.66 L1675.42 1362.81 L1676.41 1362.91 L1677.4 1363.06 L1678.38 1363.08 L1679.37 1363.07 L1680.35 1363.01 L1681.34 1363.03 L1682.33 1362.96 \n",
       "  L1683.31 1362.98 L1684.3 1362.91 L1685.28 1362.88 L1686.27 1362.87 L1687.26 1362.9 L1688.24 1362.95 L1689.23 1363.04 L1690.21 1363.15 L1691.2 1363.19 L1692.19 1363.25 \n",
       "  L1693.17 1363.26 L1694.16 1363.32 L1695.14 1363.36 L1696.13 1363.43 L1697.12 1363.49 L1698.1 1363.55 L1699.09 1363.59 L1700.07 1363.63 L1701.06 1363.55 L1702.05 1363.47 \n",
       "  L1703.03 1363.45 L1704.02 1363.48 L1705 1363.46 L1705.99 1363.55 L1706.98 1363.57 L1707.96 1363.59 L1708.95 1363.56 L1709.93 1363.71 L1710.92 1363.84 L1711.91 1364.04 \n",
       "  L1712.89 1364.16 L1713.88 1364.41 L1714.86 1364.46 L1715.85 1364.51 L1716.84 1364.55 L1717.82 1364.63 L1718.81 1364.58 L1719.79 1364.62 L1720.78 1364.66 L1721.77 1364.69 \n",
       "  L1722.75 1364.75 L1723.74 1364.83 L1724.72 1364.86 L1725.71 1364.89 L1726.7 1364.88 L1727.68 1364.84 L1728.67 1364.81 L1729.65 1364.8 L1730.64 1364.81 L1731.62 1364.89 \n",
       "  L1732.61 1364.99 L1733.6 1365 L1734.58 1365.06 L1735.57 1365.15 L1736.55 1365.15 L1737.54 1365.14 L1738.53 1365.12 L1739.51 1365.14 L1740.5 1365 L1741.48 1365.04 \n",
       "  L1742.47 1365.28 L1743.46 1365.6 L1744.44 1365.87 L1745.43 1366.23 L1746.41 1366.48 L1747.4 1366.61 L1748.39 1366.71 L1749.37 1366.78 L1750.36 1366.86 L1751.34 1366.91 \n",
       "  L1752.33 1366.86 L1753.32 1366.84 L1754.3 1366.83 L1755.29 1366.89 L1756.27 1367.01 L1757.26 1367.15 L1758.25 1367.29 L1759.23 1367.41 L1760.22 1367.48 L1761.2 1367.54 \n",
       "  L1762.19 1367.59 L1763.18 1367.54 L1764.16 1367.53 L1765.15 1367.48 L1766.13 1367.39 L1767.12 1367.25 L1768.11 1367.16 L1769.09 1366.98 L1770.08 1366.84 L1771.06 1366.76 \n",
       "  L1772.05 1366.68 L1773.04 1366.76 L1774.02 1366.92 L1775.01 1367.14 L1775.99 1367.36 L1776.98 1367.65 L1777.97 1367.74 L1778.95 1367.82 L1779.94 1367.84 L1780.92 1367.83 \n",
       "  L1781.91 1367.87 L1782.9 1367.95 L1783.88 1368.09 L1784.87 1368.19 L1785.85 1368.42 L1786.84 1368.56 L1787.83 1368.71 L1788.81 1368.84 L1789.8 1369.02 L1790.78 1369.03 \n",
       "  L1791.77 1369.13 L1792.76 1369.22 L1793.74 1369.35 L1794.73 1369.39 L1795.71 1369.49 L1796.7 1369.58 L1797.68 1369.71 L1798.67 1369.86 L1799.66 1370.06 L1800.64 1370.26 \n",
       "  L1801.63 1370.43 L1802.61 1370.68 L1803.6 1370.89 L1804.59 1371.12 L1805.57 1371.31 L1806.56 1371.55 L1807.54 1371.72 L1808.53 1371.77 L1809.52 1371.83 L1810.5 1371.86 \n",
       "  L1811.49 1371.88 L1812.47 1371.86 L1813.46 1371.98 L1814.45 1372.14 L1815.43 1372.39 L1816.42 1372.64 L1817.4 1372.87 L1818.39 1373.04 L1819.38 1373.18 L1820.36 1373.32 \n",
       "  L1821.35 1373.45 L1822.33 1373.71 L1823.32 1373.96 L1824.31 1374.18 L1825.29 1374.34 L1826.28 1374.45 L1827.26 1374.46 L1828.25 1374.41 L1829.24 1374.37 L1830.22 1374.32 \n",
       "  L1831.21 1374.25 L1832.19 1374.15 L1833.18 1374.11 L1834.17 1374.04 L1835.15 1373.95 L1836.14 1373.91 L1837.12 1373.86 L1838.11 1373.79 L1839.1 1373.79 L1840.08 1373.8 \n",
       "  L1841.07 1373.84 L1842.05 1373.88 L1843.04 1373.9 L1844.03 1373.9 L1845.01 1373.89 L1846 1373.88 L1846.98 1373.9 L1847.97 1373.84 L1848.96 1373.74 L1849.94 1373.66 \n",
       "  L1850.93 1373.5 L1851.91 1373.33 L1852.9 1373.26 L1853.89 1373.19 L1854.87 1373.11 L1855.86 1372.97 L1856.84 1372.87 L1857.83 1372.79 L1858.81 1372.77 L1859.8 1372.77 \n",
       "  L1860.79 1372.85 L1861.77 1372.94 L1862.76 1373.04 L1863.74 1373.09 L1864.73 1373.13 L1865.72 1373.18 L1866.7 1373.25 L1867.69 1373.26 L1868.67 1373.32 L1869.66 1373.39 \n",
       "  L1870.65 1373.44 L1871.63 1373.48 L1872.62 1373.54 L1873.6 1373.61 L1874.59 1373.64 L1875.58 1373.69 L1876.56 1373.74 L1877.55 1373.7 L1878.53 1373.64 L1879.52 1373.55 \n",
       "  L1880.51 1373.44 L1881.49 1373.3 L1882.48 1373.23 L1883.46 1373.1 L1884.45 1373 L1885.44 1372.91 L1886.42 1372.83 L1887.41 1372.71 L1888.39 1372.6 L1889.38 1372.49 \n",
       "  L1890.37 1372.38 L1891.35 1372.34 L1892.34 1372.34 L1893.32 1372.52 L1894.31 1372.7 L1895.3 1372.89 L1896.28 1372.98 L1897.27 1373.06 L1898.25 1372.98 L1899.24 1372.92 \n",
       "  L1900.23 1372.76 L1901.21 1372.59 L1902.2 1372.47 L1903.18 1372.33 L1904.17 1372.19 L1905.16 1372.07 L1906.14 1371.94 L1907.13 1371.82 L1908.11 1371.7 L1909.1 1371.62 \n",
       "  L1910.09 1371.65 L1911.07 1371.79 L1912.06 1371.84 L1913.04 1371.91 L1914.03 1371.84 L1915.02 1371.76 L1916 1371.53 L1916.99 1371.34 L1917.97 1371.24 L1918.96 1371.18 \n",
       "  L1919.95 1371.1 L1920.93 1371.15 L1921.92 1371.25 L1922.9 1371.32 L1923.89 1371.43 L1924.87 1371.54 L1925.86 1371.66 L1926.85 1371.71 L1927.83 1371.69 L1928.82 1371.63 \n",
       "  L1929.8 1371.6 L1930.79 1371.56 L1931.78 1371.55 L1932.76 1371.54 L1933.75 1371.57 L1934.73 1371.52 L1935.72 1371.42 L1936.71 1371.28 L1937.69 1371.2 L1938.68 1371.09 \n",
       "  L1939.66 1371.22 L1940.65 1371.4 L1941.64 1371.56 L1942.62 1371.66 L1943.61 1371.81 L1944.59 1371.75 L1945.58 1371.72 L1946.57 1371.76 L1947.55 1371.82 L1948.54 1371.82 \n",
       "  L1949.52 1371.83 L1950.51 1371.71 L1951.5 1371.57 L1952.48 1371.38 L1953.47 1371.23 L1954.45 1371.13 L1955.44 1371.11 L1956.43 1371.07 L1957.41 1371.07 L1958.4 1371.06 \n",
       "  L1959.38 1370.99 L1960.37 1370.97 L1961.36 1370.94 L1962.34 1370.93 L1963.33 1370.94 L1964.31 1371 L1965.3 1370.98 L1966.29 1370.99 L1967.27 1371.02 L1968.26 1371.01 \n",
       "  L1969.24 1371.03 L1970.23 1371.08 L1971.22 1371.17 L1972.2 1371.21 L1973.19 1371.28 L1974.17 1371.26 L1975.16 1371.26 L1976.15 1371.22 L1977.13 1371.18 L1978.12 1371.04 \n",
       "  L1979.1 1371.02 L1980.09 1371 L1981.08 1371.03 L1982.06 1371.08 L1983.05 1371.17 L1984.03 1371.34 L1985.02 1371.62 L1986 1371.98 L1986.99 1372.41 L1987.98 1372.87 \n",
       "  L1988.96 1373.35 L1989.95 1373.69 L1990.93 1373.82 L1991.92 1373.89 L1992.91 1373.92 L1993.89 1373.85 L1994.88 1373.74 L1995.86 1373.74 L1996.85 1373.65 L1997.84 1373.62 \n",
       "  L1998.82 1373.56 L1999.81 1373.59 L2000.79 1373.63 L2001.78 1373.73 L2002.77 1373.79 L2003.75 1373.78 L2004.74 1373.68 L2005.72 1373.56 L2006.71 1373.43 L2007.7 1373.33 \n",
       "  L2008.68 1373.4 L2009.67 1373.47 L2010.65 1373.56 L2011.64 1373.65 L2012.63 1373.72 L2013.61 1373.63 L2014.6 1373.6 L2015.58 1373.5 L2016.57 1373.44 L2017.56 1373.38 \n",
       "  L2018.54 1373.44 L2019.53 1373.42 L2020.51 1373.42 L2021.5 1373.41 L2022.49 1373.43 L2023.47 1373.37 L2024.46 1373.32 L2025.44 1373.31 L2026.43 1373.25 L2027.42 1373.18 \n",
       "  L2028.4 1373.09 L2029.39 1372.98 L2030.37 1372.92 L2031.36 1372.88 L2032.35 1372.8 L2033.33 1372.75 L2034.32 1372.79 L2035.3 1372.86 L2036.29 1372.88 L2037.28 1372.97 \n",
       "  L2038.26 1373.09 L2039.25 1373.19 L2040.23 1373.22 L2041.22 1373.29 L2042.21 1373.34 L2043.19 1373.24 L2044.18 1373.14 L2045.16 1373.03 L2046.15 1372.89 L2047.14 1372.73 \n",
       "  L2048.12 1372.71 L2049.11 1372.64 L2050.09 1372.57 L2051.08 1372.57 L2052.06 1372.62 L2053.05 1372.69 L2054.04 1372.78 L2055.02 1372.86 L2056.01 1372.87 L2056.99 1372.84 \n",
       "  L2057.98 1372.77 L2058.97 1372.75 L2059.95 1372.6 L2060.94 1372.56 L2061.92 1372.54 L2062.91 1372.51 L2063.9 1372.38 L2064.88 1372.43 L2065.87 1372.3 L2066.85 1372.12 \n",
       "  L2067.84 1371.92 L2068.83 1371.77 L2069.81 1371.57 L2070.8 1371.54 L2071.78 1371.39 L2072.77 1371.3 L2073.76 1371.21 L2074.74 1371.2 L2075.73 1371.09 L2076.71 1371.09 \n",
       "  L2077.7 1371.03 L2078.69 1370.99 L2079.67 1370.87 L2080.66 1370.8 L2081.64 1370.77 L2082.63 1370.78 L2083.62 1370.76 L2084.6 1370.7 L2085.59 1370.67 L2086.57 1370.63 \n",
       "  L2087.56 1370.61 L2088.55 1370.51 L2089.53 1370.46 L2090.52 1370.31 L2091.5 1370.14 L2092.49 1369.98 L2093.48 1369.89 L2094.46 1369.81 L2095.45 1369.83 L2096.43 1369.8 \n",
       "  L2097.42 1369.85 L2098.41 1369.9 L2099.39 1369.9 L2100.38 1369.8 L2101.36 1369.79 L2102.35 1369.65 L2103.34 1369.54 L2104.32 1369.43 L2105.31 1369.42 L2106.29 1369.37 \n",
       "  L2107.28 1369.29 L2108.27 1369.19 L2109.25 1369.24 L2110.24 1369.19 L2111.22 1369.23 L2112.21 1369.28 L2113.19 1369.49 L2114.18 1369.62 L2115.17 1369.85 L2116.15 1370.01 \n",
       "  L2117.14 1370.16 L2118.12 1370.18 L2119.11 1370.05 L2120.1 1369.9 L2121.08 1369.68 L2122.07 1369.45 L2123.05 1369.17 L2124.04 1368.93 L2125.03 1368.64 L2126.01 1368.4 \n",
       "  L2127 1368.2 L2127.98 1368.02 L2128.97 1368.02 L2129.96 1368.11 L2130.94 1368.2 L2131.93 1368.21 L2132.91 1368.28 L2133.9 1368.23 L2134.89 1368.24 L2135.87 1368.28 \n",
       "  L2136.86 1368.58 L2137.84 1368.88 L2138.83 1369.07 L2139.82 1369.12 L2140.8 1369.24 L2141.79 1369.2 L2142.77 1369.12 L2143.76 1369.15 L2144.75 1369.19 L2145.73 1369.2 \n",
       "  L2146.72 1369.06 L2147.7 1368.94 L2148.69 1368.73 L2149.68 1368.58 L2150.66 1368.3 L2151.65 1368.19 L2152.63 1368.04 L2153.62 1368.12 L2154.61 1368.23 L2155.59 1368.42 \n",
       "  L2156.58 1368.55 L2157.56 1368.73 L2158.55 1368.74 L2159.54 1368.74 L2160.52 1368.7 L2161.51 1368.64 L2162.49 1368.57 L2163.48 1368.47 L2164.47 1368.37 L2165.45 1368.23 \n",
       "  L2166.44 1368.12 L2167.42 1367.98 L2168.41 1367.83 L2169.4 1367.73 L2170.38 1367.66 L2171.37 1367.67 L2172.35 1367.72 L2173.34 1367.78 L2174.33 1367.79 L2175.31 1367.82 \n",
       "  L2176.3 1367.89 L2177.28 1367.94 L2178.27 1368.06 L2179.25 1368.17 L2180.24 1368.33 L2181.23 1368.39 L2182.21 1368.51 L2183.2 1368.63 L2184.18 1368.72 L2185.17 1368.77 \n",
       "  L2186.16 1368.81 L2187.14 1368.79 L2188.13 1368.72 L2189.11 1368.63 L2190.1 1368.55 L2191.09 1368.44 L2192.07 1368.33 L2193.06 1368.13 L2194.04 1368.02 L2195.03 1367.87 \n",
       "  L2196.02 1367.77 L2197 1367.67 L2197.99 1367.61 L2198.97 1367.48 L2199.96 1367.38 L2200.95 1367.26 L2201.93 1367.16 L2202.92 1367.13 L2203.9 1367.09 L2204.89 1367.1 \n",
       "  L2205.88 1367.12 L2206.86 1367.1 L2207.85 1367.1 L2208.83 1367.18 L2209.82 1367.22 L2210.81 1367.27 L2211.79 1367.4 L2212.78 1367.49 L2213.76 1367.52 L2214.75 1367.53 \n",
       "  L2215.74 1367.5 L2216.72 1367.48 L2217.71 1367.4 L2218.69 1367.35 L2219.68 1367.23 L2220.67 1367.13 L2221.65 1366.99 L2222.64 1366.91 L2223.62 1366.91 L2224.61 1366.93 \n",
       "  L2225.6 1367.07 L2226.58 1367.15 L2227.57 1367.31 L2228.55 1367.29 L2229.54 1367.28 L2230.53 1367.17 L2231.51 1367.11 L2232.5 1367.02 L2233.48 1366.94 L2234.47 1366.86 \n",
       "  L2235.46 1366.73 L2236.44 1366.62 L2237.43 1366.49 L2238.41 1366.36 L2239.4 1366.3 L2240.39 1366.24 L2241.37 1366.05 L2242.36 1365.83 L2243.34 1365.6 L2244.33 1365.43 \n",
       "  L2245.31 1365.23 L2246.3 1365.27 L2247.29 1365.3 L2248.27 1365.39 L2249.26 1365.5 L2250.24 1365.57 L2251.23 1365.62 L2252.22 1365.64 L2253.2 1365.53 L2254.19 1365.25 \n",
       "  L2255.17 1365.27 L2256.16 1365.17 L2257.15 1365.1 L2258.13 1365.13 L2259.12 1365.18 L2260.1 1365.04 L2261.09 1364.84 L2262.08 1364.63 L2263.06 1364.25 L2264.05 1363.94 \n",
       "  L2265.03 1363.61 L2266.02 1363.34 L2267.01 1363.03 L2267.99 1362.8 L2268.98 1362.44 L2269.96 1362.07 L2270.95 1361.71 L2271.94 1361.35 L2272.92 1361.05 L2273.91 1360.82 \n",
       "  L2274.89 1360.65 L2275.88 1360.44 L2276.87 1360.3 L2277.85 1360.2 L2278.84 1360.13 L2279.82 1360.02 L2280.81 1359.93 L2281.8 1359.75 L2282.78 1359.48 L2283.77 1359.23 \n",
       "  L2284.75 1358.99 L2285.74 1358.72 L2286.73 1358.54 L2287.71 1358.42 L2288.7 1358.3 L2289.68 1358.15 L2290.67 1358.08 L2291.66 1357.96 L2292.64 1357.84 L2293.63 1357.69 \n",
       "  L2293.63 824.992 L2292.64 824.987 L2291.66 824.966 L2290.67 824.902 L2289.68 824.918 L2288.7 825.096 L2287.71 825.25 L2286.73 825.436 L2285.74 825.716 L2284.75 826.053 \n",
       "  L2283.77 826.21 L2282.78 826.314 L2281.8 826.396 L2280.81 826.4 L2279.82 826.276 L2278.84 826.177 L2277.85 826.111 L2276.87 826.102 L2275.88 826.218 L2274.89 826.432 \n",
       "  L2273.91 826.593 L2272.92 826.793 L2271.94 826.923 L2270.95 826.993 L2269.96 827.003 L2268.98 827.052 L2267.99 827.074 L2267.01 827.109 L2266.02 827.22 L2265.03 827.338 \n",
       "  L2264.05 827.546 L2263.06 827.714 L2262.08 828.023 L2261.09 828.303 L2260.1 828.673 L2259.12 828.93 L2258.13 829.092 L2257.15 829.187 L2256.16 829.206 L2255.17 829.15 \n",
       "  L2254.19 829.115 L2253.2 829.354 L2252.22 829.562 L2251.23 829.822 L2250.24 830.031 L2249.26 830.258 L2248.27 830.35 L2247.29 830.493 L2246.3 830.629 L2245.31 830.877 \n",
       "  L2244.33 831.209 L2243.34 831.684 L2242.36 832.157 L2241.37 832.593 L2240.39 832.986 L2239.4 833.338 L2238.41 833.676 L2237.43 833.976 L2236.44 834.318 L2235.46 834.633 \n",
       "  L2234.47 834.894 L2233.48 835.136 L2232.5 835.29 L2231.51 835.482 L2230.53 835.755 L2229.54 836 L2228.55 836.297 L2227.57 836.622 L2226.58 836.883 L2225.6 837.04 \n",
       "  L2224.61 837.281 L2223.62 837.361 L2222.64 837.589 L2221.65 837.789 L2220.67 838.215 L2219.68 838.518 L2218.69 838.83 L2217.71 839.05 L2216.72 839.299 L2215.74 839.386 \n",
       "  L2214.75 839.681 L2213.76 839.971 L2212.78 840.198 L2211.79 840.375 L2210.81 840.532 L2209.82 840.443 L2208.83 840.315 L2207.85 840.352 L2206.86 840.423 L2205.88 840.496 \n",
       "  L2204.89 840.672 L2203.9 840.899 L2202.92 840.973 L2201.93 841.144 L2200.95 841.311 L2199.96 841.413 L2198.97 841.459 L2197.99 841.531 L2197 841.51 L2196.02 841.59 \n",
       "  L2195.03 841.729 L2194.04 841.933 L2193.06 842.171 L2192.07 842.416 L2191.09 842.563 L2190.1 842.682 L2189.11 842.898 L2188.13 843.052 L2187.14 843.236 L2186.16 843.358 \n",
       "  L2185.17 843.515 L2184.18 843.554 L2183.2 843.58 L2182.21 843.569 L2181.23 843.6 L2180.24 843.647 L2179.25 843.582 L2178.27 843.478 L2177.28 843.325 L2176.3 843.146 \n",
       "  L2175.31 842.921 L2174.33 842.812 L2173.34 842.733 L2172.35 842.715 L2171.37 842.73 L2170.38 842.793 L2169.4 842.917 L2168.41 843.121 L2167.42 843.374 L2166.44 843.61 \n",
       "  L2165.45 843.826 L2164.47 844.003 L2163.48 844.198 L2162.49 844.274 L2161.51 844.366 L2160.52 844.486 L2159.54 844.584 L2158.55 844.632 L2157.56 844.839 L2156.58 844.975 \n",
       "  L2155.59 845.066 L2154.61 845.09 L2153.62 845.113 L2152.63 845.094 L2151.65 845.19 L2150.66 845.28 L2149.68 845.503 L2148.69 845.699 L2147.7 845.899 L2146.72 846.014 \n",
       "  L2145.73 846.117 L2144.75 846.167 L2143.76 846.145 L2142.77 846.074 L2141.79 846.103 L2140.8 846.12 L2139.82 846.137 L2138.83 846.354 L2137.84 846.524 L2136.86 846.625 \n",
       "  L2135.87 846.709 L2134.89 846.82 L2133.9 846.685 L2132.91 846.628 L2131.93 846.558 L2130.94 846.575 L2129.96 846.58 L2128.97 846.702 L2127.98 846.765 L2127 846.845 \n",
       "  L2126.01 846.868 L2125.03 846.849 L2124.04 846.827 L2123.05 846.882 L2122.07 846.903 L2121.08 846.995 L2120.1 847.103 L2119.11 847.176 L2118.12 847.182 L2117.14 847.335 \n",
       "  L2116.15 847.421 L2115.17 847.557 L2114.18 847.616 L2113.19 847.73 L2112.21 847.718 L2111.22 847.727 L2110.24 847.746 L2109.25 847.945 L2108.27 848.138 L2107.28 848.372 \n",
       "  L2106.29 848.631 L2105.31 848.84 L2104.32 848.954 L2103.34 849.026 L2102.35 849.232 L2101.36 849.395 L2100.38 849.487 L2099.39 849.622 L2098.41 849.718 L2097.42 849.61 \n",
       "  L2096.43 849.526 L2095.45 849.556 L2094.46 849.544 L2093.48 849.548 L2092.49 849.602 L2091.5 849.659 L2090.52 849.591 L2089.53 849.646 L2088.55 849.77 L2087.56 849.919 \n",
       "  L2086.57 850.111 L2085.59 850.357 L2084.6 850.581 L2083.62 850.761 L2082.63 850.897 L2081.64 850.996 L2080.66 851.199 L2079.67 851.358 L2078.69 851.505 L2077.7 851.746 \n",
       "  L2076.71 851.945 L2075.73 852.073 L2074.74 852.227 L2073.76 852.386 L2072.77 852.453 L2071.78 852.499 L2070.8 852.55 L2069.81 852.565 L2068.83 852.562 L2067.84 852.546 \n",
       "  L2066.85 852.649 L2065.87 852.628 L2064.88 852.668 L2063.9 852.702 L2062.91 852.757 L2061.92 852.753 L2060.94 852.498 L2059.95 852.216 L2058.97 851.937 L2057.98 851.708 \n",
       "  L2056.99 851.495 L2056.01 851.764 L2055.02 852.024 L2054.04 852.333 L2053.05 852.628 L2052.06 852.913 L2051.08 853.038 L2050.09 853.211 L2049.11 853.379 L2048.12 853.666 \n",
       "  L2047.14 853.913 L2046.15 854.239 L2045.16 854.474 L2044.18 854.83 L2043.19 855.059 L2042.21 855.324 L2041.22 855.556 L2040.23 855.814 L2039.25 855.973 L2038.26 856.188 \n",
       "  L2037.28 856.43 L2036.29 856.653 L2035.3 856.947 L2034.32 857.272 L2033.33 857.527 L2032.35 857.753 L2031.36 857.901 L2030.37 857.982 L2029.39 858.035 L2028.4 858.122 \n",
       "  L2027.42 858.257 L2026.43 858.534 L2025.44 858.822 L2024.46 859.088 L2023.47 859.34 L2022.49 859.402 L2021.5 859.339 L2020.51 859.292 L2019.53 859.197 L2018.54 859.023 \n",
       "  L2017.56 858.973 L2016.57 858.951 L2015.58 858.946 L2014.6 858.932 L2013.61 859.069 L2012.63 859.187 L2011.64 859.374 L2010.65 859.544 L2009.67 859.811 L2008.68 859.952 \n",
       "  L2007.7 860.214 L2006.71 860.351 L2005.72 860.537 L2004.74 860.639 L2003.75 860.834 L2002.77 860.938 L2001.78 861.145 L2000.79 861.236 L1999.81 861.341 L1998.82 861.371 \n",
       "  L1997.84 861.423 L1996.85 861.457 L1995.86 861.524 L1994.88 861.565 L1993.89 861.64 L1992.91 861.695 L1991.92 861.785 L1990.93 861.831 L1989.95 861.917 L1988.96 861.893 \n",
       "  L1987.98 861.815 L1986.99 861.713 L1986 861.742 L1985.02 861.697 L1984.03 861.71 L1983.05 861.821 L1982.06 861.918 L1981.08 861.936 L1980.09 862.073 L1979.1 862.181 \n",
       "  L1978.12 862.24 L1977.13 862.343 L1976.15 862.439 L1975.16 862.467 L1974.17 862.582 L1973.19 862.71 L1972.2 862.765 L1971.22 862.861 L1970.23 862.981 L1969.24 863.11 \n",
       "  L1968.26 863.208 L1967.27 863.404 L1966.29 863.454 L1965.3 863.451 L1964.31 863.428 L1963.33 863.339 L1962.34 863.194 L1961.36 863.153 L1960.37 863.105 L1959.38 863.053 \n",
       "  L1958.4 863.119 L1957.41 863.162 L1956.43 863.27 L1955.44 863.478 L1954.45 863.694 L1953.47 863.834 L1952.48 863.989 L1951.5 864.127 L1950.51 864.298 L1949.52 864.407 \n",
       "  L1948.54 864.655 L1947.55 864.926 L1946.57 865.279 L1945.58 865.665 L1944.59 866.109 L1943.61 866.401 L1942.62 866.461 L1941.64 866.408 L1940.65 866.244 L1939.66 866.02 \n",
       "  L1938.68 865.878 L1937.69 865.897 L1936.71 865.856 L1935.72 865.858 L1934.73 865.897 L1933.75 865.911 L1932.76 865.959 L1931.78 866.038 L1930.79 866.041 L1929.8 866.126 \n",
       "  L1928.82 866.293 L1927.83 866.44 L1926.85 866.853 L1925.86 867.215 L1924.87 867.549 L1923.89 867.707 L1922.9 867.929 L1921.92 867.851 L1920.93 867.9 L1919.95 867.852 \n",
       "  L1918.96 868.048 L1917.97 868.153 L1916.99 868.408 L1916 868.668 L1915.02 869.011 L1914.03 869.182 L1913.04 869.471 L1912.06 869.675 L1911.07 869.86 L1910.09 870.121 \n",
       "  L1909.1 870.411 L1908.11 870.711 L1907.13 871.052 L1906.14 871.382 L1905.16 871.583 L1904.17 871.438 L1903.18 871.25 L1902.2 871.141 L1901.21 871.087 L1900.23 871.07 \n",
       "  L1899.24 871.429 L1898.25 871.822 L1897.27 872.153 L1896.28 872.524 L1895.3 872.846 L1894.31 873.233 L1893.32 873.633 L1892.34 874.017 L1891.35 874.287 L1890.37 874.557 \n",
       "  L1889.38 874.712 L1888.39 874.84 L1887.41 875.011 L1886.42 875.249 L1885.44 875.61 L1884.45 875.997 L1883.46 876.504 L1882.48 876.956 L1881.49 877.496 L1880.51 877.946 \n",
       "  L1879.52 878.494 L1878.53 878.923 L1877.55 879.364 L1876.56 879.687 L1875.58 880.048 L1874.59 880.332 L1873.6 880.662 L1872.62 880.886 L1871.63 881.129 L1870.65 881.32 \n",
       "  L1869.66 881.465 L1868.67 881.542 L1867.69 881.671 L1866.7 881.787 L1865.72 881.935 L1864.73 882.063 L1863.74 882.156 L1862.76 882.459 L1861.77 882.777 L1860.79 883.129 \n",
       "  L1859.8 883.492 L1858.81 883.896 L1857.83 884.035 L1856.84 884.203 L1855.86 884.297 L1854.87 884.601 L1853.89 884.871 L1852.9 885.251 L1851.91 885.5 L1850.93 885.89 \n",
       "  L1849.94 886.098 L1848.96 886.252 L1847.97 886.326 L1846.98 886.41 L1846 886.354 L1845.01 886.279 L1844.03 886.353 L1843.04 886.458 L1842.05 886.629 L1841.07 886.867 \n",
       "  L1840.08 887.201 L1839.1 887.435 L1838.11 887.784 L1837.12 888.102 L1836.14 888.331 L1835.15 888.491 L1834.17 888.62 L1833.18 888.653 L1832.19 888.718 L1831.21 888.867 \n",
       "  L1830.22 889.011 L1829.24 889.215 L1828.25 889.415 L1827.26 889.666 L1826.28 889.862 L1825.29 889.982 L1824.31 890.071 L1823.32 890.276 L1822.33 890.393 L1821.35 890.594 \n",
       "  L1820.36 890.881 L1819.38 891.265 L1818.39 891.511 L1817.4 891.728 L1816.42 891.835 L1815.43 891.979 L1814.45 892.088 L1813.46 892.317 L1812.47 892.622 L1811.49 892.984 \n",
       "  L1810.5 893.313 L1809.52 893.69 L1808.53 893.94 L1807.54 894.202 L1806.56 894.371 L1805.57 894.644 L1804.59 894.992 L1803.6 895.385 L1802.61 895.829 L1801.63 896.332 \n",
       "  L1800.64 896.731 L1799.66 896.969 L1798.67 897.291 L1797.68 897.565 L1796.7 897.947 L1795.71 898.37 L1794.73 898.916 L1793.74 899.454 L1792.76 900.049 L1791.77 900.563 \n",
       "  L1790.78 901.062 L1789.8 901.552 L1788.81 902.096 L1787.83 902.53 L1786.84 902.978 L1785.85 903.403 L1784.87 903.71 L1783.88 903.949 L1782.9 904.209 L1781.91 904.508 \n",
       "  L1780.92 904.834 L1779.94 905.311 L1778.95 905.726 L1777.97 906.113 L1776.98 906.422 L1775.99 906.699 L1775.01 906.896 L1774.02 907.163 L1773.04 907.575 L1772.05 907.992 \n",
       "  L1771.06 908.497 L1770.08 908.937 L1769.09 909.356 L1768.11 909.619 L1767.12 909.951 L1766.13 910.189 L1765.15 910.433 L1764.16 910.676 L1763.18 910.978 L1762.19 911.3 \n",
       "  L1761.2 911.632 L1760.22 912.048 L1759.23 912.351 L1758.25 912.744 L1757.26 913.057 L1756.27 913.469 L1755.29 913.778 L1754.3 914.196 L1753.32 914.573 L1752.33 915.009 \n",
       "  L1751.34 915.353 L1750.36 915.706 L1749.37 916.074 L1748.39 916.399 L1747.4 916.711 L1746.41 916.97 L1745.43 917.07 L1744.44 917.164 L1743.46 917.28 L1742.47 917.354 \n",
       "  L1741.48 917.418 L1740.5 917.748 L1739.51 918.046 L1738.53 918.279 L1737.54 918.63 L1736.55 919.111 L1735.57 919.564 L1734.58 919.946 L1733.6 920.355 L1732.61 920.609 \n",
       "  L1731.62 920.833 L1730.64 921.011 L1729.65 921.231 L1728.67 921.49 L1727.68 921.771 L1726.7 922.018 L1725.71 922.279 L1724.72 922.614 L1723.74 922.94 L1722.75 923.359 \n",
       "  L1721.77 923.764 L1720.78 924.127 L1719.79 924.375 L1718.81 924.685 L1717.82 924.995 L1716.84 925.293 L1715.85 925.586 L1714.86 925.971 L1713.88 926.351 L1712.89 926.706 \n",
       "  L1711.91 927.179 L1710.92 927.688 L1709.93 928.123 L1708.95 928.486 L1707.96 928.871 L1706.98 929.114 L1705.99 929.184 L1705 929.263 L1704.02 929.334 L1703.03 929.565 \n",
       "  L1702.05 929.942 L1701.06 930.556 L1700.07 931.235 L1699.09 931.887 L1698.1 932.364 L1697.12 932.729 L1696.13 933.009 L1695.14 933.286 L1694.16 933.613 L1693.17 933.941 \n",
       "  L1692.19 934.189 L1691.2 934.444 L1690.21 934.65 L1689.23 935.007 L1688.24 935.27 L1687.26 935.681 L1686.27 936.1 L1685.28 936.521 L1684.3 936.761 L1683.31 937.015 \n",
       "  L1682.33 937.269 L1681.34 937.553 L1680.35 937.856 L1679.37 938.163 L1678.38 938.525 L1677.4 938.824 L1676.41 939.074 L1675.42 939.318 L1674.44 939.529 L1673.45 939.769 \n",
       "  L1672.47 940.062 L1671.48 940.384 L1670.49 940.7 L1669.51 941.037 L1668.52 941.399 L1667.54 941.731 L1666.55 942.04 L1665.57 942.414 L1664.58 942.895 L1663.59 943.28 \n",
       "  L1662.61 943.631 L1661.62 944.06 L1660.64 944.496 L1659.65 944.866 L1658.66 945.256 L1657.68 945.602 L1656.69 945.903 L1655.71 946.105 L1654.72 946.257 L1653.73 946.453 \n",
       "  L1652.75 946.681 L1651.76 946.941 L1650.78 947.234 L1649.79 947.474 L1648.8 947.69 L1647.82 948.081 L1646.83 948.363 L1645.85 948.727 L1644.86 949.14 L1643.87 949.592 \n",
       "  L1642.89 949.852 L1641.9 950.154 L1640.92 950.46 L1639.93 950.684 L1638.94 950.865 L1637.96 951.112 L1636.97 951.403 L1635.99 951.541 L1635 951.722 L1634.01 951.882 \n",
       "  L1633.03 951.986 L1632.04 952.024 L1631.06 952.067 L1630.07 952.193 L1629.08 952.272 L1628.1 952.425 L1627.11 952.47 L1626.13 952.488 L1625.14 952.498 L1624.15 952.553 \n",
       "  L1623.17 952.556 L1622.18 952.71 L1621.2 952.943 L1620.21 953.145 L1619.22 953.298 L1618.24 953.443 L1617.25 953.604 L1616.27 953.706 L1615.28 953.859 L1614.29 954.063 \n",
       "  L1613.31 954.238 L1612.32 954.397 L1611.34 954.623 L1610.35 954.775 L1609.36 954.918 L1608.38 955.045 L1607.39 955.107 L1606.41 955.181 L1605.42 955.237 L1604.43 955.372 \n",
       "  L1603.45 955.483 L1602.46 955.692 L1601.48 955.811 L1600.49 956.081 L1599.51 956.252 L1598.52 956.552 L1597.53 956.906 L1596.55 957.293 L1595.56 957.566 L1594.58 957.788 \n",
       "  L1593.59 957.918 L1592.6 957.891 L1591.62 957.881 L1590.63 957.886 L1589.65 958.018 L1588.66 958.201 L1587.67 958.114 L1586.69 958.058 L1585.7 957.965 L1584.72 957.788 \n",
       "  L1583.73 957.687 L1582.74 957.955 L1581.76 958.164 L1580.77 958.427 L1579.79 958.81 L1578.8 959.025 L1577.81 959.391 L1576.83 959.733 L1575.84 960.107 L1574.86 960.334 \n",
       "  L1573.87 960.634 L1572.88 960.703 L1571.9 960.851 L1570.91 960.876 L1569.93 960.931 L1568.94 960.955 L1567.95 961.178 L1566.97 961.356 L1565.98 961.561 L1565 961.819 \n",
       "  L1564.01 962.079 L1563.02 962.215 L1562.04 962.258 L1561.05 962.352 L1560.07 962.328 L1559.08 962.425 L1558.09 962.476 L1557.11 962.634 L1556.12 962.755 L1555.14 962.957 \n",
       "  L1554.15 962.981 L1553.16 963.061 L1552.18 963.106 L1551.19 963.156 L1550.21 963.283 L1549.22 963.461 L1548.23 963.55 L1547.25 963.595 L1546.26 963.607 L1545.28 963.506 \n",
       "  L1544.29 963.393 L1543.3 963.3 L1542.32 963.299 L1541.33 963.278 L1540.35 963.287 L1539.36 963.23 L1538.38 963.234 L1537.39 963.171 L1536.4 963.143 L1535.42 963.066 \n",
       "  L1534.43 962.991 L1533.45 962.821 L1532.46 962.649 L1531.47 962.466 L1530.49 962.289 L1529.5 961.98 L1528.52 961.83 L1527.53 961.705 L1526.54 961.635 L1525.56 961.548 \n",
       "  L1524.57 961.649 L1523.59 961.729 L1522.6 961.78 L1521.61 961.825 L1520.63 961.867 L1519.64 962.161 L1518.66 962.289 L1517.67 962.454 L1516.68 962.604 L1515.7 962.847 \n",
       "  L1514.71 962.833 L1513.73 962.86 L1512.74 962.927 L1511.75 963.039 L1510.77 963.153 L1509.78 963.177 L1508.8 962.705 L1507.81 962.249 L1506.82 961.733 L1505.84 961.266 \n",
       "  L1504.85 960.833 L1503.87 960.964 L1502.88 961.009 L1501.89 961.125 L1500.91 961.095 L1499.92 961.092 L1498.94 960.992 L1497.95 960.908 L1496.96 960.912 L1495.98 960.914 \n",
       "  L1494.99 961.117 L1494.01 961.305 L1493.02 961.413 L1492.03 961.296 L1491.05 961.261 L1490.06 961.008 L1489.08 960.746 L1488.09 960.631 L1487.1 960.6 L1486.12 960.514 \n",
       "  L1485.13 960.634 L1484.15 960.887 L1483.16 961.167 L1482.17 961.343 L1481.19 961.486 L1480.2 961.511 L1479.22 961.385 L1478.23 961.158 L1477.24 960.938 L1476.26 960.734 \n",
       "  L1475.27 960.515 L1474.29 960.27 L1473.3 959.813 L1472.32 959.397 L1471.33 959.185 L1470.34 958.876 L1469.36 958.564 L1468.37 958.329 L1467.39 958.061 L1466.4 957.596 \n",
       "  L1465.41 957.2 L1464.43 956.769 L1463.44 956.518 L1462.46 956.239 L1461.47 955.955 L1460.48 955.573 L1459.5 955.333 L1458.51 954.891 L1457.53 954.545 L1456.54 954.183 \n",
       "  L1455.55 953.938 L1454.57 953.687 L1453.58 953.667 L1452.6 953.669 L1451.61 953.469 L1450.62 953.203 L1449.64 952.785 L1448.65 952.304 L1447.67 951.806 L1446.68 951.528 \n",
       "  L1445.69 951.241 L1444.71 950.997 L1443.72 950.673 L1442.74 950.386 L1441.75 950.064 L1440.76 949.885 L1439.78 949.817 L1438.79 949.85 L1437.81 949.913 L1436.82 949.95 \n",
       "  L1435.83 949.948 L1434.85 949.811 L1433.86 949.497 L1432.88 949.074 L1431.89 948.723 L1430.9 948.318 L1429.92 948.034 L1428.93 947.98 L1427.95 947.708 L1426.96 947.498 \n",
       "  L1425.97 947.339 L1424.99 947.181 L1424 947.07 L1423.02 947.158 L1422.03 947.132 L1421.04 947.049 L1420.06 946.97 L1419.07 946.682 L1418.09 946.347 L1417.1 946.115 \n",
       "  L1416.11 945.801 L1415.13 945.518 L1414.14 945.136 L1413.16 944.797 L1412.17 944.394 L1411.19 944.06 L1410.2 943.713 L1409.21 943.416 L1408.23 943.084 L1407.24 942.709 \n",
       "  L1406.26 942.413 L1405.27 942.139 L1404.28 941.989 L1403.3 941.88 L1402.31 941.834 L1401.33 941.525 L1400.34 941.137 L1399.35 940.524 L1398.37 939.924 L1397.38 938.917 \n",
       "  L1396.4 938.117 L1395.41 936.752 L1394.42 935.247 L1393.44 933.493 L1392.45 931.499 L1391.47 929.35 L1390.48 927.737 L1389.49 926.33 L1388.51 924.922 L1387.52 924.036 \n",
       "  L1386.54 923.321 L1385.55 922.526 L1384.56 921.807 L1383.58 921.196 L1382.59 920.75 L1381.61 920.309 L1380.62 919.733 L1379.63 919.201 L1378.65 918.76 L1377.66 918.331 \n",
       "  L1376.68 917.705 L1375.69 917.38 L1374.7 917.025 L1373.72 916.847 L1372.73 916.584 L1371.75 916.527 L1370.76 916.396 L1369.77 915.969 L1368.79 915.375 L1367.8 914.689 \n",
       "  L1366.82 913.963 L1365.83 913.08 L1364.84 912.513 L1363.86 911.748 L1362.87 911.084 L1361.89 910.403 L1360.9 909.897 L1359.91 909.387 L1358.93 909.121 L1357.94 908.847 \n",
       "  L1356.96 908.531 L1355.97 908.135 L1354.98 907.8 L1354 907.316 L1353.01 906.721 L1352.03 905.987 L1351.04 905.145 L1350.05 904.169 L1349.07 903.165 L1348.08 902.204 \n",
       "  L1347.1 901.27 L1346.11 900.552 L1345.13 899.836 L1344.14 899.292 L1343.15 898.782 L1342.17 898.465 L1341.18 898.115 L1340.2 897.741 L1339.21 897.231 L1338.22 896.755 \n",
       "  L1337.24 896.087 L1336.25 895.379 L1335.27 894.388 L1334.28 893.512 L1333.29 892.5 L1332.31 891.619 L1331.32 890.65 L1330.34 890.116 L1329.35 889.077 L1328.36 888.077 \n",
       "  L1327.38 886.914 L1326.39 885.456 L1325.41 883.854 L1324.42 882.748 L1323.43 881.599 L1322.45 880.078 L1321.46 878.951 L1320.48 877.665 L1319.49 876.153 L1318.5 874.71 \n",
       "  L1317.52 873.595 L1316.53 872.438 L1315.55 871.069 L1314.56 869.6 L1313.57 867.501 L1312.59 865.471 L1311.6 863.535 L1310.62 862.026 L1309.63 860.635 L1308.64 859.668 \n",
       "  L1307.66 858.804 L1306.67 857.805 L1305.69 856.742 L1304.7 855.721 L1303.71 854.995 L1302.73 854.33 L1301.74 853.804 L1300.76 853.395 L1299.77 853.04 L1298.78 852.775 \n",
       "  L1297.8 852.437 L1296.81 851.84 L1295.83 851.2 L1294.84 850.292 L1293.85 849.227 L1292.87 847.958 L1291.88 846.868 L1290.9 845.503 L1289.91 844.588 L1288.92 843.189 \n",
       "  L1287.94 841.906 L1286.95 840.206 L1285.97 838.681 L1284.98 836.746 L1284 835.36 L1283.01 833.894 L1282.02 832.893 L1281.04 831.813 L1280.05 831.097 L1279.07 830.191 \n",
       "  L1278.08 829.356 L1277.09 827.874 L1276.11 826.502 L1275.12 824.953 L1274.14 823.474 L1273.15 821.986 L1272.16 821.029 L1271.18 820.216 L1270.19 819.395 L1269.21 818.585 \n",
       "  L1268.22 817.821 L1267.23 817.114 L1266.25 815.992 L1265.26 815.039 L1264.28 813.858 L1263.29 812.512 L1262.3 811.024 L1261.32 809.859 L1260.33 808.286 L1259.35 807.004 \n",
       "  L1258.36 805.602 L1257.37 804.36 L1256.39 803.029 L1255.4 801.998 L1254.42 800.504 L1253.43 799.326 L1252.44 797.971 L1251.46 796.529 L1250.47 794.619 L1249.49 793.021 \n",
       "  L1248.5 791.388 L1247.51 789.78 L1246.53 788.332 L1245.54 787.019 L1244.56 785.608 L1243.57 783.709 L1242.58 782.043 L1241.6 780.337 L1240.61 779.127 L1239.63 778.173 \n",
       "  L1238.64 777.839 L1237.65 777.32 L1236.67 776.805 L1235.68 775.813 L1234.7 774.722 L1233.71 773.075 L1232.72 771.243 L1231.74 769.026 L1230.75 767.155 L1229.77 765.373 \n",
       "  L1228.78 763.753 L1227.79 762.159 L1226.81 760.944 L1225.82 759.488 L1224.84 757.772 L1223.85 755.845 L1222.86 754.155 L1221.88 752.091 L1220.89 750.035 L1219.91 747.742 \n",
       "  L1218.92 745.694 L1217.94 743.408 L1216.95 741.237 L1215.96 738.858 L1214.98 736.75 L1213.99 734.868 L1213.01 732.814 L1212.02 730.706 L1211.03 728.549 L1210.05 726.214 \n",
       "  L1209.06 723.492 L1208.08 721.178 L1207.09 718.81 L1206.1 716.849 L1205.12 714.691 L1204.13 712.758 L1203.15 710.682 L1202.16 708.353 L1201.17 706.126 L1200.19 704.347 \n",
       "  L1199.2 702.841 L1198.22 701.087 L1197.23 699.881 L1196.24 698.498 L1195.26 697.328 L1194.27 695.877 L1193.29 694.589 L1192.3 693.354 L1191.31 692.215 L1190.33 691.025 \n",
       "  L1189.34 689.892 L1188.36 688.656 L1187.37 687.442 L1186.38 686.362 L1185.4 685.041 L1184.41 683.338 L1183.43 681.871 L1182.44 680.306 L1181.45 678.087 L1180.47 675.834 \n",
       "  L1179.48 673.929 L1178.5 671.79 L1177.51 669.534 L1176.52 667.632 L1175.54 665.954 L1174.55 664.159 L1173.57 662.707 L1172.58 661.242 L1171.59 659.995 L1170.61 658.556 \n",
       "  L1169.62 657.351 L1168.64 655.524 L1167.65 653.942 L1166.66 651.764 L1165.68 649.365 L1164.69 646.97 L1163.71 645.256 L1162.72 643.221 L1161.73 641.649 L1160.75 640.109 \n",
       "  L1159.76 638.67 L1158.78 636.94 L1157.79 635.662 L1156.8 634.503 L1155.82 633.596 L1154.83 632.457 L1153.85 631.452 L1152.86 630.183 L1151.88 628.748 L1150.89 627.464 \n",
       "  L1149.9 626.22 L1148.92 624.96 L1147.93 623.638 L1146.95 622.601 L1145.96 621.448 L1144.97 620.442 L1143.99 619.494 L1143 618.538 L1142.02 617.369 L1141.03 615.741 \n",
       "  L1140.04 614.115 L1139.06 612.135 L1138.07 610.456 L1137.09 608.725 L1136.1 607.438 L1135.11 605.82 L1134.13 604.472 L1133.14 603.108 L1132.16 601.889 L1131.17 600.769 \n",
       "  L1130.18 599.942 L1129.2 599.248 L1128.21 598.252 L1127.23 597.117 L1126.24 595.99 L1125.25 594.748 L1124.27 593.578 L1123.28 592.448 L1122.3 591.446 L1121.31 590.353 \n",
       "  L1120.32 589.523 L1119.34 588.108 L1118.35 586.65 L1117.37 584.834 L1116.38 582.73 L1115.39 580.49 L1114.41 578.791 L1113.42 577.168 L1112.44 575.592 L1111.45 574.36 \n",
       "  L1110.46 573.088 L1109.48 571.74 L1108.49 570.556 L1107.51 569.554 L1106.52 568.505 L1105.53 567.263 L1104.55 565.897 L1103.56 564.529 L1102.58 563.138 L1101.59 561.817 \n",
       "  L1100.6 560.706 L1099.62 559.434 L1098.63 558.046 L1097.65 556.263 L1096.66 554.523 L1095.67 552.465 L1094.69 550.717 L1093.7 548.589 L1092.72 546.922 L1091.73 544.999 \n",
       "  L1090.75 543.43 L1089.76 541.88 L1088.77 540.62 L1087.79 538.982 L1086.8 537.447 L1085.82 535.478 L1084.83 533.558 L1083.84 531.524 L1082.86 529.864 L1081.87 527.751 \n",
       "  L1080.89 526.027 L1079.9 524.141 L1078.91 522.614 L1077.93 520.939 L1076.94 519.765 L1075.96 518.404 L1074.97 517.064 L1073.98 515.322 L1073 513.464 L1072.01 511.639 \n",
       "  L1071.03 510.051 L1070.04 508.348 L1069.05 506.998 L1068.07 506.062 L1067.08 505.084 L1066.1 503.813 L1065.11 502.811 L1064.12 501.659 L1063.14 500.478 L1062.15 499.303 \n",
       "  L1061.17 498.47 L1060.18 497.452 L1059.19 496.566 L1058.21 495.692 L1057.22 494.77 L1056.24 493.877 L1055.25 492.911 L1054.26 491.911 L1053.28 490.871 L1052.29 489.926 \n",
       "  L1051.31 488.672 L1050.32 487.597 L1049.33 486.362 L1048.35 485.096 L1047.36 483.594 L1046.38 482.164 L1045.39 480.709 L1044.4 479.188 L1043.42 477.591 L1042.43 476.122 \n",
       "  L1041.45 474.693 L1040.46 473.19 L1039.47 471.889 L1038.49 470.608 L1037.5 469.358 L1036.52 468.222 L1035.53 467.264 L1034.54 466.375 L1033.56 465.436 L1032.57 464.664 \n",
       "  L1031.59 463.724 L1030.6 462.776 L1029.61 461.527 L1028.63 460.398 L1027.64 459.112 L1026.66 457.962 L1025.67 456.646 L1024.69 455.603 L1023.7 454.546 L1022.71 453.391 \n",
       "  L1021.73 452.234 L1020.74 451.139 L1019.76 449.957 L1018.77 448.774 L1017.78 447.517 L1016.8 446.3 L1015.81 445.055 L1014.83 443.948 L1013.84 442.787 L1012.85 441.991 \n",
       "  L1011.87 441.178 L1010.88 440.342 L1009.9 439.401 L1008.91 438.667 L1007.92 437.86 L1006.94 436.911 L1005.95 435.961 L1004.97 435.143 L1003.98 434.13 L1002.99 432.932 \n",
       "  L1002.01 431.812 L1001.02 430.64 L1000.04 429.522 L999.05 428.187 L998.064 427.134 L997.078 425.834 L996.092 424.715 L995.106 423.464 L994.12 422.415 L993.134 421.093 \n",
       "  L992.148 420.069 L991.162 418.704 L990.176 417.361 L989.19 415.88 L988.204 414.581 L987.218 413.165 L986.232 412.172 L985.246 411.013 L984.26 410.223 L983.274 409.304 \n",
       "  L982.288 408.548 L981.302 407.477 L980.317 406.499 L979.331 405.06 L978.345 403.734 L977.359 402.413 L976.373 401.108 L975.387 399.902 L974.401 398.823 L973.415 397.637 \n",
       "  L972.429 396.393 L971.443 395.374 L970.457 394.221 L969.471 393.24 L968.485 392.224 L967.499 391.134 L966.513 390.013 L965.527 388.918 L964.541 387.687 L963.555 386.345 \n",
       "  L962.569 384.949 L961.583 383.584 L960.597 382.281 L959.611 381.066 L958.625 379.797 L957.639 378.584 L956.653 377.202 L955.667 375.859 L954.681 374.607 L953.695 373.726 \n",
       "  L952.709 372.868 L951.723 372.094 L950.737 371.346 L949.751 370.379 L948.766 369.304 L947.78 368.274 L946.794 366.991 L945.808 365.606 L944.822 364.331 L943.836 363.114 \n",
       "  L942.85 361.79 L941.864 360.77 L940.878 359.678 L939.892 358.78 L938.906 357.689 L937.92 356.898 L936.934 355.884 L935.948 354.848 L934.962 353.774 L933.976 352.866 \n",
       "  L932.99 351.797 L932.004 350.955 L931.018 350.019 L930.032 348.973 L929.046 347.947 L928.06 346.823 L927.074 345.808 L926.088 344.936 L925.102 344.013 L924.116 343.013 \n",
       "  L923.13 341.964 L922.144 340.775 L921.158 339.612 L920.172 338.705 L919.186 337.807 L918.2 337.109 L917.215 336.414 L916.229 335.805 L915.243 335.122 L914.257 334.523 \n",
       "  L913.271 333.869 L912.285 333.307 L911.299 332.849 L910.313 332.22 L909.327 331.529 L908.341 330.947 L907.355 330.212 L906.369 329.436 L905.383 328.846 L904.397 328.451 \n",
       "  L903.411 328.02 L902.425 327.857 L901.439 327.648 L900.453 327.492 L899.467 327.194 L898.481 326.918 L897.495 326.418 L896.509 326.021 L895.523 325.523 L894.537 324.948 \n",
       "  L893.551 324.501 L892.565 324.035 L891.579 323.607 L890.593 323.082 L889.607 322.847 L888.621 322.448 L887.635 322.213 L886.649 321.833 L885.663 321.639 L884.678 321.291 \n",
       "  L883.692 320.909 L882.706 320.499 L881.72 320.011 L880.734 319.295 L879.748 318.445 L878.762 317.619 L877.776 316.733 L876.79 316.006 L875.804 315.328 L874.818 314.723 \n",
       "  L873.832 313.931 L872.846 313.213 L871.86 312.461 L870.874 311.83 L869.888 311.128 L868.902 310.611 L867.916 310.064 L866.93 309.564 L865.944 309.022 L864.958 308.573 \n",
       "  L863.972 308.255 L862.986 307.949 L862 307.58 L861.014 307.241 L860.028 306.974 L859.042 306.528 L858.056 305.988 L857.07 305.419 L856.084 304.831 L855.098 304.206 \n",
       "  L854.112 303.555 L853.127 302.957 L852.141 302.501 L851.155 301.965 L850.169 301.46 L849.183 300.96 L848.197 300.531 L847.211 299.963 L846.225 299.556 L845.239 299.208 \n",
       "  L844.253 299.083 L843.267 298.879 L842.281 298.664 L841.295 298.388 L840.309 297.996 L839.323 297.569 L838.337 297.152 L837.351 296.679 L836.365 296.046 L835.379 295.341 \n",
       "  L834.393 294.682 L833.407 293.887 L832.421 293.269 L831.435 292.709 L830.449 292.254 L829.463 291.826 L828.477 291.545 L827.491 291.092 L826.505 290.761 L825.519 290.529 \n",
       "  L824.533 290.231 L823.547 289.999 L822.561 289.875 L821.576 289.77 L820.59 289.537 L819.604 289.425 L818.618 289.165 L817.632 289.089 L816.646 288.903 L815.66 288.9 \n",
       "  L814.674 288.845 L813.688 288.892 L812.702 288.865 L811.716 288.868 L810.73 288.815 L809.744 288.513 L808.758 288.279 L807.772 287.964 L806.786 287.793 L805.8 287.545 \n",
       "  L804.814 287.401 L803.828 287.249 L802.842 287.112 L801.856 286.91 L800.87 286.531 L799.884 286.213 L798.898 285.884 L797.912 285.557 L796.926 285.169 L795.94 284.984 \n",
       "  L794.954 284.85 L793.968 284.653 L792.982 284.413 L791.996 284.159 L791.01 283.828 L790.024 283.493 L789.039 283.119 L788.053 282.797 L787.067 282.498 L786.081 282.315 \n",
       "  L785.095 281.779 L784.109 281.31 L783.123 280.953 L782.137 280.581 L781.151 280.684 L780.165 280.832 L779.179 281.076 L778.193 281.044 L777.207 281.128 L776.221 280.556 \n",
       "  L775.235 280.627 L774.249 280.604 L773.263 280.642 L772.277 280.669 L771.291 280.818 L770.305 280.741 L769.319 280.588 L768.333 280.807 L767.347 280.994 L766.361 281.516 \n",
       "  L765.375 281.892 L764.389 282.539 L763.403 282.976 L762.417 283.418 L761.431 283.575 L760.445 283.666 L759.459 283.566 L758.473 283.375 L757.488 283.197 L756.502 283.024 \n",
       "  L755.516 282.873 L754.53 282.769 L753.544 282.685 L752.558 282.647 L751.572 282.524 L750.586 282.445 L749.6 282.346 L748.614 282.348 L747.628 282.279 L746.642 282.438 \n",
       "  L745.656 282.579 L744.67 282.855 L743.684 283.012 L742.698 283.481 L741.712 283.723 L740.726 284.034 L739.74 284.243 L738.754 284.573 L737.768 284.569 L736.782 284.628 \n",
       "  L735.796 284.599 L734.81 284.711 L733.824 284.693 L732.838 284.704 L731.852 284.642 L730.866 284.597 L729.88 284.348 L728.894 284.17 L727.908 284.011 L726.922 284.011 \n",
       "  L725.937 283.99 L724.951 283.953 L723.965 283.84 L722.979 283.666 L721.993 283.362 L721.007 283.051 L720.021 282.789 L719.035 282.564 L718.049 282.518 L717.063 282.462 \n",
       "  L716.077 282.516 L715.091 282.563 L714.105 282.717 L713.119 282.74 L712.133 283.133 L711.147 283.422 L710.161 283.788 L709.175 284.029 L708.189 284.554 L707.203 284.724 \n",
       "  L706.217 284.944 L705.231 285.145 L704.245 285.392 L703.259 285.42 L702.273 285.495 L701.287 285.634 L700.301 285.699 L699.315 285.774 L698.329 285.886 L697.343 285.986 \n",
       "  L696.357 285.999 L695.371 286.037 L694.385 286.019 L693.4 285.957 L692.414 285.905 L691.428 286.041 L690.442 286.189 L689.456 286.394 L688.47 286.581 L687.484 286.779 \n",
       "  L686.498 286.802 L685.512 286.806 L684.526 286.77 L683.54 286.705 L682.554 286.678 L681.568 286.661 L680.582 286.617 L679.596 286.65 L678.61 286.764 L677.624 286.778 \n",
       "  L676.638 286.85 L675.652 286.963 L674.666 287.005 L673.68 286.965 L672.694 287.052 L671.708 287.059 L670.722 287.229 L669.736 287.405 L668.75 287.588 L667.764 287.665 \n",
       "  L666.778 287.892 L665.792 287.946 L664.806 288.136 L663.82 288.473 L662.834 288.869 L661.849 289.194 L660.863 289.528 L659.877 289.848 L658.891 290.061 L657.905 290.209 \n",
       "  L656.919 290.328 L655.933 290.438 L654.947 290.44 L653.961 290.336 L652.975 290.278 L651.989 290.189 L651.003 290.112 L650.017 290.034 L649.031 290.034 L648.045 290.17 \n",
       "  L647.059 290.292 L646.073 290.433 L645.087 290.652 L644.101 290.906 L643.115 290.984 L642.129 291.095 L641.143 291.189 L640.157 291.319 L639.171 291.409 L638.185 291.54 \n",
       "  L637.199 291.67 L636.213 291.824 L635.227 291.91 L634.241 292.009 L633.255 292.073 L632.269 292.107 L631.283 292.126 L630.298 292.146 L629.312 292.159 L628.326 292.205 \n",
       "  L627.34 292.302 L626.354 292.411 L625.368 292.46 L624.382 292.528 L623.396 292.568 L622.41 292.568 L621.424 292.567 L620.438 292.597 L619.452 292.658 L618.466 292.716 \n",
       "  L617.48 292.75 L616.494 292.757 L615.508 292.861 L614.522 292.906 L613.536 293.062 L612.55 293.222 L611.564 293.461 L610.578 293.561 L609.592 293.716 L608.606 293.754 \n",
       "  L607.62 293.879 L606.634 293.936 L605.648 294.073 L604.662 294.173 L603.676 294.311 L602.69 294.392 L601.704 294.472 L600.718 294.462 L599.732 294.46 L598.746 294.444 \n",
       "  L597.761 294.447 L596.775 294.443 L595.789 294.495 L594.803 294.574 L593.817 294.644 L592.831 294.696 L591.845 294.778 L590.859 294.873 L589.873 294.943 L588.887 295.032 \n",
       "  L587.901 295.143 L586.915 295.257 L585.929 295.42 L584.943 295.573 L583.957 295.703 L582.971 295.793 L581.985 295.862 L580.999 295.842 L580.013 295.808 L579.027 295.772 \n",
       "  L578.041 295.757 L577.055 295.77 L576.069 295.784 L575.083 295.871 L574.097 295.972 L573.111 296.061 L572.125 296.114 L571.139 296.232 L570.153 296.288 L569.167 296.351 \n",
       "  L568.181 296.41 L567.195 296.474 L566.21 296.476 L565.224 296.513 L564.238 296.532 L563.252 296.58 L562.266 296.63 L561.28 296.757 L560.294 296.854 L559.308 296.96 \n",
       "  L558.322 297.043 L557.336 297.228 L556.35 297.33 L555.364 297.46 L554.378 297.585 L553.392 297.712 L552.406 297.742 L551.42 297.786 L550.434 297.803 L549.448 297.85 \n",
       "  L548.462 297.893 L547.476 297.962 L546.49 298.022 L545.504 298.104 L544.518 298.152 L543.532 298.221 L542.546 298.263 L541.56 298.325 L540.574 298.363 L539.588 298.435 \n",
       "  L538.602 298.495 L537.616 298.605 L536.63 298.692 L535.644 298.798 L534.659 298.87 L533.673 298.918 L532.687 298.94 L531.701 298.962 L530.715 298.981 L529.729 299.003 \n",
       "  L528.743 299.064 L527.757 299.099 L526.771 299.151 L525.785 299.194 L524.799 299.241 L523.813 299.262 L522.827 299.303 L521.841 299.326 L520.855 299.373 L519.869 299.411 \n",
       "  L518.883 299.449 L517.897 299.47 L516.911 299.516 L515.925 299.531 L514.939 299.554 L513.953 299.58 L512.967 299.604 L511.981 299.623 L510.995 299.655 L510.009 299.703 \n",
       "  L509.023 299.756 L508.037 299.833 L507.051 299.895 L506.065 299.971 L505.079 300.03 L504.093 300.086 L503.107 300.111 L502.122 300.124 L501.136 300.118 L500.15 300.106 \n",
       "  L499.164 300.093 L498.178 300.089 L497.192 300.102 L496.206 300.113 L495.22 300.121 L494.234 300.148 L493.248 300.172 L492.262 300.192 L491.276 300.209 L490.29 300.23 \n",
       "  L489.304 300.233 L488.318 300.238 L487.332 300.239 L486.346 300.244 L485.36 300.245 L484.374 300.246 L483.388 300.207 L482.402 300.168 L481.416 300.139 L480.43 300.111 \n",
       "  L479.444 300.084 L478.458 300.093 L477.472 300.103 L476.486 300.102 L475.5 300.101 L474.514 300.115 L473.528 300.136 L472.542 300.161 L471.556 300.185 L470.571 300.214 \n",
       "  L469.585 300.226 L468.599 300.246 L467.613 300.262 L466.627 300.278 L465.641 300.289 L464.655 300.301 L463.669 300.31 L462.683 300.318 L461.697 300.325 L460.711 300.328 \n",
       "  L459.725 300.332 L458.739 300.327 L457.753 300.326 L456.767 300.327 L455.781 300.341 L454.795 300.353 L453.809 300.367 L452.823 300.379 L451.837 300.39 L450.851 300.397 \n",
       "  L449.865 300.406 L448.879 300.414 L447.893 300.42 L446.907 300.45 L445.921 300.476 L444.935 300.504 L443.949 300.532 L442.963 300.567 L441.977 300.576 L440.991 300.59 \n",
       "  L440.005 300.602 L439.02 300.612 L438.034 300.613 L437.048 300.616 L436.062 300.614 L435.076 300.611 L434.09 300.609 L433.104 300.61 L432.118 300.608 L431.132 300.607 \n",
       "  L430.146 300.606 L429.16 300.606 L428.174 300.605 L427.188 300.608 L426.202 300.61 L425.216 300.612 L424.23 300.614 L423.244 300.617 L422.258 300.611 L421.272 300.608 \n",
       "  L420.286 300.603 L419.3 300.671 L418.314 300.844 L417.328 301.022 L416.342 301.2 L415.356 301.381 L414.37 301.489 L413.384 301.493 L412.398 301.496 L411.412 301.498 \n",
       "  L410.426 301.497 L409.44 301.498 L408.454 301.468 L407.468 301.438 L406.483 301.408 L405.497 301.379 L404.511 301.347 L403.525 301.346 L402.539 301.344 L401.553 301.342 \n",
       "  L400.567 301.382 L399.581 301.424 L398.595 301.466 L397.609 301.505 L396.623 301.545 L395.637 301.544 L394.651 301.541 L393.665 301.54 L392.679 301.554 L391.693 301.565 \n",
       "  L390.707 301.587 L389.721 301.609 L388.735 301.63 L387.749 301.639 L386.763 301.651 L385.777 301.652 L384.791 301.722 L383.805 301.792 L382.819 301.863 L381.833 301.934 \n",
       "  L380.847 302.005 L379.861 302.008 L378.875 302.017 L377.889 302.025 L376.903 302.031 L375.917 302.045 L374.932 302.059 L373.946 302.153 L372.96 302.247 L371.974 302.343 \n",
       "  L370.988 302.432 L370.002 302.521 L369.016 302.522 L368.03 302.523 L367.044 302.524 L366.058 302.511 L365.072 302.498 L364.086 302.486 L363.1 302.474 L362.114 302.488 \n",
       "  L361.128 302.514 L360.142 302.541 L359.156 302.567 L358.17 302.593 L357.184 302.592 L356.198 302.591 L355.212 302.591 L354.226 302.59 L353.24 302.584 L352.254 302.577 \n",
       "  L351.268 302.571 L350.282 302.565 L349.296 302.558 L348.31 302.558 L347.324 302.558 L346.338 302.558 L345.352 302.558 L344.366 302.558 L343.381 302.558 L342.395 302.558 \n",
       "  L341.409 302.558 L340.423 302.558 L339.437 302.558 L338.451 302.558 L337.465 302.558 L336.479 302.558 L335.493 302.558 L334.507 302.558 L333.521 302.558 L332.535 302.558 \n",
       "  L331.549 302.558 L330.563 302.558 L329.577 302.558 L328.591 302.558 L327.605 302.92 L326.619 303.282 L325.633 303.463 L324.647 303.765 L323.661 304.368 L322.675 304.368 \n",
       "   Z\n",
       "  \" fill=\"#009af9\" fill-rule=\"evenodd\" fill-opacity=\"0.5\"/>\n",
       "<polyline clip-path=\"url(#clip672)\" style=\"stroke:#009af9; stroke-width:4; stroke-opacity:1; fill:none\" points=\"\n",
       "  322.675,304.368 323.661,304.368 324.647,304.503 325.633,304.57 326.619,304.611 327.605,304.691 328.591,304.772 329.577,304.772 330.563,304.772 331.549,304.772 \n",
       "  332.535,304.772 333.521,304.772 334.507,304.772 335.493,304.772 336.479,304.772 337.465,304.772 338.451,304.772 339.437,304.772 340.423,304.772 341.409,304.772 \n",
       "  342.395,304.772 343.381,304.772 344.366,304.772 345.352,304.772 346.338,304.772 347.324,304.772 348.31,304.772 349.296,304.772 350.282,304.801 351.268,304.831 \n",
       "  352.254,304.86 353.24,304.889 354.226,304.918 355.212,304.919 356.198,304.919 357.184,304.92 358.17,304.921 359.156,304.977 360.142,305.033 361.128,305.089 \n",
       "  362.114,305.145 363.1,305.237 364.086,305.273 365.072,305.309 366.058,305.345 367.044,305.381 368.03,305.381 369.016,305.382 370.002,305.382 370.988,305.481 \n",
       "  371.974,305.58 372.96,305.681 373.946,305.782 374.932,305.882 375.917,305.888 376.903,305.894 377.889,305.896 378.875,305.899 379.861,305.98 380.847,306.057 \n",
       "  381.833,306.172 382.819,306.286 383.805,306.401 384.791,306.44 385.777,306.478 386.763,306.478 387.749,306.484 388.735,306.487 389.721,306.499 390.707,306.542 \n",
       "  391.693,306.586 392.679,306.624 393.665,306.665 394.651,306.694 395.637,306.693 396.623,306.691 397.609,306.706 398.595,306.72 399.581,306.737 400.567,306.753 \n",
       "  401.553,306.768 402.539,306.767 403.525,306.767 404.511,306.767 405.497,306.755 406.483,306.744 407.468,306.731 408.454,306.718 409.44,306.706 410.426,306.706 \n",
       "  411.412,306.706 412.398,306.707 413.384,306.71 414.37,306.712 415.356,306.795 416.342,306.913 417.328,307.025 418.314,307.137 419.3,307.24 420.286,307.261 \n",
       "  421.272,307.248 422.258,307.237 423.244,307.226 424.23,307.225 425.216,307.224 426.202,307.222 427.188,307.219 428.174,307.215 429.16,307.208 430.146,307.201 \n",
       "  431.132,307.194 432.118,307.193 433.104,307.192 434.09,307.195 435.076,307.201 436.062,307.206 437.048,307.211 438.034,307.217 439.02,307.223 440.005,307.226 \n",
       "  440.991,307.232 441.977,307.236 442.963,307.24 443.949,307.256 444.935,307.268 445.921,307.281 446.907,307.294 447.893,307.305 448.879,307.304 449.865,307.306 \n",
       "  450.851,307.309 451.837,307.311 452.823,307.32 453.809,307.33 454.795,307.339 455.781,307.345 456.767,307.356 457.753,307.375 458.739,307.395 459.725,307.415 \n",
       "  460.711,307.439 461.697,307.457 462.683,307.466 463.669,307.473 464.655,307.482 465.641,307.491 466.627,307.501 467.613,307.512 468.599,307.524 469.585,307.537 \n",
       "  470.571,307.562 471.556,307.618 472.542,307.671 473.528,307.724 474.514,307.776 475.5,307.809 476.486,307.809 477.472,307.811 478.458,307.831 479.444,307.852 \n",
       "  480.43,307.98 481.416,308.11 482.402,308.236 483.388,308.344 484.374,308.451 485.36,308.455 486.346,308.459 487.332,308.472 488.318,308.484 489.304,308.498 \n",
       "  490.29,308.511 491.276,308.544 492.262,308.571 493.248,308.599 494.234,308.631 495.22,308.664 496.206,308.673 497.192,308.684 498.178,308.698 499.164,308.693 \n",
       "  500.15,308.675 501.136,308.666 502.122,308.66 503.107,308.665 504.093,308.676 505.079,308.715 506.065,308.755 507.051,308.801 508.037,308.836 509.023,308.887 \n",
       "  510.009,308.922 510.995,308.958 511.981,308.986 512.967,309.015 513.953,309.042 514.939,309.073 515.925,309.096 516.911,309.118 517.897,309.147 518.883,309.171 \n",
       "  519.869,309.205 520.855,309.241 521.841,309.288 522.827,309.333 523.813,309.386 524.799,309.432 525.785,309.484 526.771,309.539 527.757,309.583 528.743,309.625 \n",
       "  529.729,309.667 530.715,309.711 531.701,309.739 532.687,309.779 533.673,309.811 534.659,309.863 535.644,309.917 536.63,309.987 537.616,310.051 538.602,310.132 \n",
       "  539.588,310.199 540.574,310.269 541.56,310.329 542.546,310.405 543.532,310.469 544.518,310.542 545.504,310.611 546.49,310.694 547.476,310.763 548.462,310.843 \n",
       "  549.448,310.912 550.434,310.987 551.42,311.053 552.406,311.131 553.392,311.195 554.378,311.294 555.364,311.38 556.35,311.468 557.336,311.554 558.322,311.679 \n",
       "  559.308,311.759 560.294,311.862 561.28,311.952 562.266,312.082 563.252,312.171 564.238,312.292 565.224,312.397 566.21,312.531 567.195,312.615 568.181,312.719 \n",
       "  569.167,312.802 570.153,312.899 571.139,312.985 572.125,313.117 573.111,313.232 574.097,313.358 575.083,313.493 576.069,313.623 577.055,313.71 578.041,313.809 \n",
       "  579.027,313.893 580.013,313.961 580.999,314.02 581.985,314.127 582.971,314.29 583.957,314.523 584.943,314.761 585.929,315.08 586.915,315.397 587.901,315.696 \n",
       "  588.887,315.952 589.873,316.219 590.859,316.409 591.845,316.606 592.831,316.777 593.817,316.941 594.803,317.115 595.789,317.343 596.775,317.527 597.761,317.712 \n",
       "  598.746,317.87 599.732,318.011 600.718,318.111 601.704,318.222 602.69,318.336 603.676,318.475 604.662,318.639 605.648,318.792 606.634,318.956 607.62,319.108 \n",
       "  608.606,319.27 609.592,319.419 610.578,319.609 611.564,319.775 612.55,319.994 613.536,320.224 614.522,320.533 615.508,320.802 616.494,321.135 617.48,321.44 \n",
       "  618.466,321.719 619.452,321.916 620.438,322.138 621.424,322.315 622.41,322.494 623.396,322.671 624.382,322.867 625.368,323.051 626.354,323.236 627.34,323.409 \n",
       "  628.326,323.617 629.312,323.787 630.298,324.067 631.283,324.336 632.269,324.688 633.255,325.027 634.241,325.42 635.227,325.737 636.213,326.069 637.199,326.384 \n",
       "  638.185,326.686 639.171,326.977 640.157,327.226 641.143,327.513 642.129,327.759 643.115,328.031 644.101,328.291 645.087,328.704 646.073,329.053 647.059,329.473 \n",
       "  648.045,329.859 649.031,330.256 650.017,330.56 651.003,330.965 651.989,331.294 652.975,331.686 653.961,332.137 654.947,332.615 655.933,333.022 656.919,333.511 \n",
       "  657.905,333.932 658.891,334.373 659.877,334.76 660.863,335.247 661.849,335.719 662.834,336.204 663.82,336.741 664.806,337.294 665.792,337.753 666.778,338.154 \n",
       "  667.764,338.702 668.75,339.122 669.736,339.638 670.722,340.116 671.708,340.636 672.694,340.979 673.68,341.345 674.666,341.61 675.652,341.927 676.638,342.283 \n",
       "  677.624,342.674 678.61,343.076 679.596,343.563 680.582,344.117 681.568,344.555 682.554,345.043 683.54,345.517 684.526,345.952 685.512,346.266 686.498,346.611 \n",
       "  687.484,346.916 688.47,347.389 689.456,347.808 690.442,348.263 691.428,348.867 692.414,349.444 693.4,349.86 694.385,350.31 695.371,350.884 696.357,351.336 \n",
       "  697.343,351.865 698.329,352.396 699.315,352.892 700.301,353.314 701.287,353.666 702.273,354.05 703.259,354.37 704.245,354.678 705.231,355.092 706.217,355.558 \n",
       "  707.203,355.948 708.189,356.421 709.175,357.096 710.161,357.633 711.147,358.216 712.133,358.819 713.119,359.523 714.105,360.078 715.091,360.781 716.077,361.41 \n",
       "  717.063,361.981 718.049,362.392 719.035,362.888 720.021,363.244 721.007,363.685 721.993,364.162 722.979,364.756 723.965,365.316 724.951,365.827 725.937,366.316 \n",
       "  726.922,366.81 727.908,367.18 728.894,367.489 729.88,367.851 730.866,368.275 731.852,369.003 732.838,369.753 733.824,370.586 734.81,371.416 735.796,372.301 \n",
       "  736.782,372.878 737.768,373.578 738.754,374.302 739.74,375.238 740.726,376.132 741.712,377.153 742.698,378.132 743.684,379.16 744.67,380.099 745.656,380.957 \n",
       "  746.642,381.726 747.628,382.51 748.614,383.11 749.6,383.773 750.586,384.374 751.572,385.174 752.558,385.885 753.544,386.661 754.53,387.247 755.516,387.892 \n",
       "  756.502,388.293 757.488,388.832 758.473,389.323 759.459,389.846 760.445,390.392 761.431,391.158 762.417,391.856 763.403,392.747 764.389,393.618 765.375,394.779 \n",
       "  766.361,395.878 767.347,397.152 768.333,398.275 769.319,399.523 770.305,400.573 771.291,401.652 772.277,402.71 773.263,403.787 774.249,404.832 775.235,405.888 \n",
       "  776.221,407.023 777.207,408.127 778.193,409.627 779.179,411.136 780.165,412.618 781.151,414.019 782.137,415.454 783.123,416.66 784.109,417.852 785.095,419.057 \n",
       "  786.081,420.156 787.067,421.172 788.053,421.971 789.039,422.758 790.024,423.566 791.01,424.458 791.996,425.308 792.982,426.31 793.968,427.253 794.954,428.073 \n",
       "  795.94,428.706 796.926,429.302 797.912,429.9 798.898,430.67 799.884,431.384 800.87,432.346 801.856,433.378 802.842,434.508 803.828,435.485 804.814,436.681 \n",
       "  805.8,437.681 806.786,438.756 807.772,439.66 808.758,440.568 809.744,441.397 810.73,442.24 811.716,443.043 812.702,443.902 813.688,444.791 814.674,445.691 \n",
       "  815.66,446.677 816.646,447.672 817.632,448.635 818.618,449.608 819.604,450.547 820.59,451.59 821.576,452.52 822.561,453.434 823.547,454.318 824.533,455.309 \n",
       "  825.519,456.202 826.505,457.13 827.491,457.956 828.477,458.887 829.463,459.658 830.449,460.505 831.435,461.351 832.421,462.422 833.407,463.539 834.393,464.748 \n",
       "  835.379,465.816 836.365,466.992 837.351,468.14 838.337,469.195 839.323,470.251 840.309,471.526 841.295,472.617 842.281,473.717 843.267,474.654 844.253,475.87 \n",
       "  845.239,476.874 846.225,478.09 847.211,479.131 848.197,480.376 849.183,481.374 850.169,482.424 851.155,483.583 852.141,484.822 853.127,486.111 854.112,487.331 \n",
       "  855.098,488.714 856.084,489.88 857.07,491.279 858.056,492.536 859.042,493.833 860.028,494.892 861.014,496.146 862,497.121 862.986,498.171 863.972,499.078 \n",
       "  864.958,500.018 865.944,500.792 866.93,501.697 867.916,502.549 868.902,503.473 869.888,504.422 870.874,505.578 871.86,506.572 872.846,507.778 873.832,509.256 \n",
       "  874.818,510.717 875.804,511.999 876.79,513.463 877.776,514.983 878.762,516.224 879.748,517.743 880.734,519.125 881.72,520.838 882.706,522.386 883.692,524.056 \n",
       "  884.678,525.541 885.663,527.104 886.649,528.295 887.635,529.568 888.621,530.786 889.607,532.004 890.593,533.372 891.579,534.691 892.565,535.974 893.551,537.095 \n",
       "  894.537,538.403 895.523,539.479 896.509,540.752 897.495,541.746 898.481,543.156 899.467,544.299 900.453,545.762 901.439,546.936 902.425,548.306 903.411,549.462 \n",
       "  904.397,550.912 905.383,552.259 906.369,553.744 907.355,555.324 908.341,556.785 909.327,558.152 910.313,559.545 911.299,560.915 912.285,562.193 913.271,563.533 \n",
       "  914.257,564.842 915.243,566.227 916.229,567.659 917.215,569.022 918.2,570.399 919.186,571.748 920.172,572.944 921.158,574.112 922.144,575.314 923.13,576.785 \n",
       "  924.116,577.999 925.102,579.287 926.088,580.399 927.074,581.526 928.06,582.43 929.046,583.521 930.032,584.565 931.018,585.758 932.004,586.96 932.99,588.324 \n",
       "  933.976,589.836 934.962,591.251 935.948,592.894 936.934,594.609 937.92,596.253 938.906,597.713 939.892,599.264 940.878,600.754 941.864,602.241 942.85,603.639 \n",
       "  943.836,605.277 944.822,606.79 945.808,608.115 946.794,609.498 947.78,610.867 948.766,612.197 949.751,613.586 950.737,614.925 951.723,616.131 952.709,617.216 \n",
       "  953.695,618.16 954.681,619.116 955.667,620.327 956.653,621.547 957.639,622.947 958.625,624.339 959.611,625.738 960.597,627.029 961.583,628.454 962.569,629.853 \n",
       "  963.555,631.133 964.541,632.515 965.527,633.858 966.513,635.144 967.499,636.362 968.485,637.685 969.471,638.957 970.457,640.261 971.443,641.719 972.429,643.179 \n",
       "  973.415,644.918 974.401,646.497 975.387,647.988 976.373,649.322 977.359,650.883 978.345,652.281 979.331,653.742 980.317,655.291 981.302,656.717 982.288,658.028 \n",
       "  983.274,659.122 984.26,660.287 985.246,661.377 986.232,662.579 987.218,663.7 988.204,665.265 989.19,666.827 990.176,668.459 991.162,670.13 992.148,671.815 \n",
       "  993.134,673.055 994.12,674.491 995.106,675.753 996.092,677.032 997.078,678.137 998.064,679.454 999.05,680.469 1000.04,681.705 1001.02,682.856 1002.01,684.122 \n",
       "  1002.99,685.308 1003.98,686.752 1004.97,687.995 1005.95,689.163 1006.94,690.428 1007.92,691.807 1008.91,692.941 1009.9,694.07 1010.88,695.247 1011.87,696.26 \n",
       "  1012.85,697.143 1013.84,698.128 1014.83,699.277 1015.81,700.48 1016.8,701.771 1017.78,702.992 1018.77,704.143 1019.76,705.357 1020.74,706.486 1021.73,707.591 \n",
       "  1022.71,708.746 1023.7,709.85 1024.69,710.985 1025.67,712.174 1026.66,713.531 1027.64,714.791 1028.63,716.237 1029.61,717.457 1030.6,718.748 1031.59,719.807 \n",
       "  1032.57,720.978 1033.56,721.948 1034.54,722.914 1035.53,723.811 1036.52,724.756 1037.5,725.864 1038.49,726.997 1039.47,728.278 1040.46,729.553 1041.45,731.211 \n",
       "  1042.43,732.638 1043.42,734.274 1044.4,735.872 1045.39,737.48 1046.38,738.856 1047.36,740.14 1048.35,741.353 1049.33,742.445 1050.32,743.473 1051.31,744.397 \n",
       "  1052.29,745.467 1053.28,746.331 1054.26,747.264 1055.25,748.185 1056.24,749.093 1057.22,749.971 1058.21,750.911 1059.19,751.8 1060.18,752.648 1061.17,753.472 \n",
       "  1062.15,754.246 1063.14,755.183 1064.12,756.283 1065.11,757.365 1066.1,758.476 1067.08,759.635 1068.07,760.663 1069.05,761.483 1070.04,762.695 1071.03,763.991 \n",
       "  1072.01,765.282 1073,766.659 1073.98,768.169 1074.97,769.406 1075.96,770.501 1076.94,771.602 1077.93,772.608 1078.91,773.864 1079.9,775.09 1080.89,776.602 \n",
       "  1081.87,777.995 1082.86,779.77 1083.84,781.228 1084.83,782.857 1085.82,784.342 1086.8,785.892 1087.79,787.055 1088.77,788.22 1089.76,789.232 1090.75,790.26 \n",
       "  1091.73,791.316 1092.72,792.478 1093.7,793.572 1094.69,794.817 1095.67,795.909 1096.66,797.108 1097.65,798.188 1098.63,799.259 1099.62,800.221 1100.6,801.215 \n",
       "  1101.59,802.135 1102.58,803.257 1103.56,804.438 1104.55,805.587 1105.53,806.661 1106.52,807.709 1107.51,808.562 1108.49,809.405 1109.48,810.276 1110.46,811.249 \n",
       "  1111.45,812.091 1112.44,812.883 1113.42,813.815 1114.41,814.957 1115.39,816.133 1116.38,817.736 1117.37,819.327 1118.35,820.781 1119.34,821.929 1120.32,823.198 \n",
       "  1121.31,824.041 1122.3,825.158 1123.28,826.206 1124.27,827.363 1125.25,828.326 1126.24,829.403 1127.23,830.229 1128.21,831.149 1129.2,831.906 1130.18,832.616 \n",
       "  1131.17,833.403 1132.16,834.348 1133.14,835.311 1134.13,836.347 1135.11,837.414 1136.1,838.562 1137.09,839.612 1138.07,840.867 1139.06,842.234 1140.04,843.677 \n",
       "  1141.03,844.959 1142.02,846.226 1143,847.271 1143.99,848.193 1144.97,849.111 1145.96,850.191 1146.95,851.27 1147.93,852.29 1148.92,853.353 1149.9,854.42 \n",
       "  1150.89,855.371 1151.88,856.372 1152.86,857.462 1153.85,858.52 1154.83,859.378 1155.82,860.312 1156.8,861.09 1157.79,861.96 1158.78,862.884 1159.76,864.1 \n",
       "  1160.75,865.13 1161.73,866.261 1162.72,867.457 1163.71,868.868 1164.69,870.131 1165.68,871.72 1166.66,873.371 1167.65,874.868 1168.64,876.121 1169.62,877.396 \n",
       "  1170.61,878.424 1171.59,879.453 1172.58,880.423 1173.57,881.395 1174.55,882.443 1175.54,883.592 1176.52,884.739 1177.51,885.93 1178.5,887.362 1179.48,888.657 \n",
       "  1180.47,889.833 1181.45,891.196 1182.44,892.654 1183.43,893.811 1184.41,894.955 1185.4,896.253 1186.38,897.363 1187.37,898.242 1188.36,899.104 1189.34,900.041 \n",
       "  1190.33,900.95 1191.31,901.835 1192.3,902.851 1193.29,903.954 1194.27,905.058 1195.26,906.188 1196.24,907.313 1197.23,908.402 1198.22,909.387 1199.2,910.612 \n",
       "  1200.19,911.758 1201.17,912.977 1202.16,914.483 1203.15,916.088 1204.13,917.706 1205.12,919.203 1206.1,920.871 1207.09,922.47 1208.08,924.311 1209.06,926.028 \n",
       "  1210.05,928.129 1211.03,929.945 1212.02,931.628 1213.01,933.277 1213.99,934.978 1214.98,936.396 1215.96,938.014 1216.95,939.812 1217.94,941.555 1218.92,943.149 \n",
       "  1219.91,944.689 1220.89,946.271 1221.88,947.754 1222.86,949.156 1223.85,950.481 1224.84,951.92 1225.82,953.22 1226.81,954.286 1227.79,955.186 1228.78,956.31 \n",
       "  1229.77,957.527 1230.75,958.883 1231.74,960.277 1232.72,961.843 1233.71,963.19 1234.7,964.4 1235.68,965.27 1236.67,966.11 1237.65,966.728 1238.64,967.29 \n",
       "  1239.63,967.645 1240.61,968.33 1241.6,969.122 1242.58,970.254 1243.57,971.407 1244.56,972.797 1245.54,973.983 1246.53,975.223 1247.51,976.547 1248.5,977.944 \n",
       "  1249.49,979.423 1250.47,980.82 1251.46,982.388 1252.44,983.539 1253.43,984.641 1254.42,985.493 1255.4,986.55 1256.39,987.24 1257.37,988.223 1258.36,989.1 \n",
       "  1259.35,990.177 1260.33,991.197 1261.32,992.374 1262.3,993.265 1263.29,994.36 1264.28,995.286 1265.26,996.068 1266.25,996.738 1267.23,997.571 1268.22,998.168 \n",
       "  1269.21,998.897 1270.19,999.779 1271.18,1000.63 1272.16,1001.41 1273.15,1002.24 1274.14,1003.34 1275.12,1004.34 1276.11,1005.45 1277.09,1006.4 1278.08,1007.48 \n",
       "  1279.07,1008.16 1280.05,1008.81 1281.04,1009.41 1282.02,1010.23 1283.01,1011.01 1284,1011.97 1284.98,1012.95 1285.97,1014.12 1286.95,1015.16 1287.94,1016.27 \n",
       "  1288.92,1017.2 1289.91,1018.17 1290.9,1018.91 1291.88,1019.82 1292.87,1020.6 1293.85,1021.45 1294.84,1022.22 1295.83,1022.92 1296.81,1023.38 1297.8,1023.85 \n",
       "  1298.78,1024.17 1299.77,1024.45 1300.76,1024.75 1301.74,1025.2 1302.73,1025.65 1303.71,1026.21 1304.7,1026.73 1305.69,1027.48 1306.67,1028.17 1307.66,1028.86 \n",
       "  1308.64,1029.43 1309.63,1030.12 1310.62,1030.9 1311.6,1031.73 1312.59,1032.84 1313.57,1033.98 1314.56,1035.24 1315.55,1036.18 1316.53,1037.12 1317.52,1037.85 \n",
       "  1318.5,1038.61 1319.49,1039.35 1320.48,1040.24 1321.46,1040.97 1322.45,1041.65 1323.43,1042.5 1324.42,1043.31 1325.41,1044.02 1326.39,1045.13 1327.38,1046.14 \n",
       "  1328.36,1047.07 1329.35,1047.83 1330.34,1048.67 1331.32,1049.12 1332.31,1049.85 1333.29,1050.5 1334.28,1051.27 1335.27,1051.91 1336.25,1052.62 1337.24,1053.16 \n",
       "  1338.22,1053.69 1339.21,1054.08 1340.2,1054.59 1341.18,1055.01 1342.17,1055.44 1343.15,1055.9 1344.14,1056.53 1345.13,1057.09 1346.11,1057.8 1347.1,1058.44 \n",
       "  1348.08,1059.15 1349.07,1059.84 1350.05,1060.54 1351.04,1061.23 1352.03,1061.86 1353.01,1062.44 1354,1062.89 1354.98,1063.32 1355.97,1063.61 1356.96,1064.03 \n",
       "  1357.94,1064.37 1358.93,1064.78 1359.91,1065.13 1360.9,1065.62 1361.89,1066.07 1362.87,1066.68 1363.86,1067.24 1364.84,1067.93 1365.83,1068.53 1366.82,1069.19 \n",
       "  1367.8,1069.74 1368.79,1070.26 1369.77,1070.71 1370.76,1071.06 1371.75,1071.31 1372.73,1071.49 1373.72,1071.78 1374.7,1072.04 1375.69,1072.41 1376.68,1072.76 \n",
       "  1377.66,1073.27 1378.65,1073.65 1379.63,1073.98 1380.62,1074.37 1381.61,1074.74 1382.59,1075.12 1383.58,1075.51 1384.56,1076.06 1385.55,1076.58 1386.54,1077.27 \n",
       "  1387.52,1077.82 1388.51,1078.48 1389.49,1079.37 1390.48,1080.31 1391.47,1081.22 1392.45,1082.47 1393.44,1083.58 1394.42,1084.58 1395.41,1085.47 1396.4,1086.35 \n",
       "  1397.38,1086.89 1398.37,1087.7 1399.35,1088.26 1400.34,1088.88 1401.33,1089.44 1402.31,1090.03 1403.3,1090.5 1404.28,1091.09 1405.27,1091.68 1406.26,1092.26 \n",
       "  1407.24,1092.92 1408.23,1093.49 1409.21,1093.96 1410.2,1094.39 1411.19,1094.91 1412.17,1095.32 1413.16,1095.76 1414.14,1096.13 1415.13,1096.54 1416.11,1096.81 \n",
       "  1417.1,1097.03 1418.09,1097.2 1419.07,1097.42 1420.06,1097.64 1421.04,1097.9 1422.03,1098.22 1423.02,1098.49 1424,1098.87 1424.99,1099.35 1425.97,1099.77 \n",
       "  1426.96,1100.3 1427.95,1100.93 1428.93,1101.42 1429.92,1101.83 1430.9,1102.29 1431.89,1102.73 1432.88,1103.09 1433.86,1103.61 1434.85,1103.99 1435.83,1104.33 \n",
       "  1436.82,1104.52 1437.81,1104.75 1438.79,1104.88 1439.78,1105.1 1440.76,1105.35 1441.75,1105.71 1442.74,1106.12 1443.72,1106.49 1444.71,1106.85 1445.69,1107.13 \n",
       "  1446.68,1107.46 1447.67,1107.75 1448.65,1108.25 1449.64,1108.74 1450.62,1109.29 1451.61,1109.72 1452.6,1110.11 1453.58,1110.34 1454.57,1110.63 1455.55,1111.03 \n",
       "  1456.54,1111.42 1457.53,1111.95 1458.51,1112.44 1459.5,1112.97 1460.48,1113.32 1461.47,1113.83 1462.46,1114.25 1463.44,1114.73 1464.43,1115.15 1465.41,1115.77 \n",
       "  1466.4,1116.35 1467.39,1117.02 1468.37,1117.66 1469.36,1118.38 1470.34,1119.1 1471.33,1119.84 1472.32,1120.46 1473.3,1121.09 1474.29,1121.72 1475.27,1122.23 \n",
       "  1476.26,1122.71 1477.24,1123.18 1478.23,1123.63 1479.22,1124.04 1480.2,1124.37 1481.19,1124.59 1482.17,1124.8 1483.16,1125.01 1484.15,1125.22 1485.13,1125.44 \n",
       "  1486.12,1125.78 1487.1,1126.15 1488.09,1126.52 1489.08,1126.92 1490.06,1127.42 1491.05,1127.85 1492.03,1128.24 1493.02,1128.67 1494.01,1128.97 1494.99,1129.16 \n",
       "  1495.98,1129.32 1496.96,1129.54 1497.95,1129.7 1498.94,1129.91 1499.92,1130.17 1500.91,1130.35 1501.89,1130.61 1502.88,1130.75 1503.87,1130.92 1504.85,1131.05 \n",
       "  1505.84,1131.63 1506.82,1132.25 1507.81,1132.91 1508.8,1133.55 1509.78,1134.12 1510.77,1134.4 1511.75,1134.63 1512.74,1134.86 1513.73,1135.18 1514.71,1135.58 \n",
       "  1515.7,1135.96 1516.68,1136.14 1517.67,1136.36 1518.66,1136.52 1519.64,1136.7 1520.63,1136.76 1521.61,1136.98 1522.6,1137.15 1523.59,1137.34 1524.57,1137.49 \n",
       "  1525.56,1137.6 1526.54,1137.82 1527.53,1138.04 1528.52,1138.28 1529.5,1138.53 1530.49,1138.84 1531.47,1139.11 1532.46,1139.37 1533.45,1139.66 1534.43,1139.91 \n",
       "  1535.42,1140.2 1536.4,1140.49 1537.39,1140.77 1538.38,1141.08 1539.36,1141.38 1540.35,1141.66 1541.33,1141.83 1542.32,1142.13 1543.3,1142.38 1544.29,1142.72 \n",
       "  1545.28,1143.02 1546.26,1143.45 1547.25,1143.72 1548.23,1143.96 1549.22,1144.12 1550.21,1144.31 1551.19,1144.4 1552.18,1144.58 1553.16,1144.72 1554.15,1144.88 \n",
       "  1555.14,1145.07 1556.12,1145.24 1557.11,1145.42 1558.09,1145.6 1559.08,1145.91 1560.07,1146.35 1561.05,1146.8 1562.04,1147.24 1563.02,1147.71 1564.01,1148.02 \n",
       "  1565,1148.1 1565.98,1148.16 1566.97,1148.2 1567.95,1148.26 1568.94,1148.34 1569.93,1148.48 1570.91,1148.6 1571.9,1148.71 1572.88,1148.78 1573.87,1148.84 \n",
       "  1574.86,1148.85 1575.84,1148.92 1576.83,1148.92 1577.81,1148.89 1578.8,1148.88 1579.79,1148.97 1580.77,1148.94 1581.76,1149.01 1582.74,1149.09 1583.73,1149.16 \n",
       "  1584.72,1149.31 1585.7,1149.51 1586.69,1149.69 1587.67,1149.86 1588.66,1150.05 1589.65,1150.18 1590.63,1150.37 1591.62,1150.58 1592.6,1150.79 1593.59,1150.99 \n",
       "  1594.58,1151.11 1595.56,1151.11 1596.55,1151.16 1597.53,1151.17 1598.52,1151.25 1599.51,1151.35 1600.49,1151.55 1601.48,1151.61 1602.46,1151.76 1603.45,1151.84 \n",
       "  1604.43,1152 1605.42,1152.16 1606.41,1152.37 1607.39,1152.53 1608.38,1152.66 1609.36,1152.69 1610.35,1152.67 1611.34,1152.63 1612.32,1152.56 1613.31,1152.54 \n",
       "  1614.29,1152.52 1615.28,1152.5 1616.27,1152.51 1617.25,1152.54 1618.24,1152.53 1619.22,1152.53 1620.21,1152.5 1621.2,1152.44 1622.18,1152.34 1623.17,1152.29 \n",
       "  1624.15,1152.34 1625.14,1152.42 1626.13,1152.52 1627.11,1152.64 1628.1,1152.74 1629.08,1152.75 1630.07,1152.75 1631.06,1152.72 1632.04,1152.8 1633.03,1152.86 \n",
       "  1634.01,1152.93 1635,1152.99 1635.99,1153.06 1636.97,1153.08 1637.96,1153.03 1638.94,1152.96 1639.93,1152.95 1640.92,1152.92 1641.9,1152.86 1642.89,1152.83 \n",
       "  1643.87,1152.84 1644.86,1152.72 1645.85,1152.61 1646.83,1152.53 1647.82,1152.48 1648.8,1152.33 1649.79,1152.3 1650.78,1152.25 1651.76,1152.17 1652.75,1152.08 \n",
       "  1653.73,1152.12 1654.72,1152.17 1655.71,1152.27 1656.69,1152.34 1657.68,1152.4 1658.66,1152.36 1659.65,1152.27 1660.64,1152.21 1661.62,1152.11 1662.61,1152 \n",
       "  1663.59,1151.95 1664.58,1151.91 1665.57,1151.78 1666.55,1151.68 1667.54,1151.59 1668.52,1151.47 1669.51,1151.36 1670.49,1151.27 1671.48,1151.23 1672.47,1151.17 \n",
       "  1673.45,1151.13 1674.44,1151.1 1675.42,1151.06 1676.41,1150.99 1677.4,1150.94 1678.38,1150.8 1679.37,1150.62 1680.35,1150.43 1681.34,1150.29 1682.33,1150.12 \n",
       "  1683.31,1150 1684.3,1149.83 1685.28,1149.7 1686.27,1149.49 1687.26,1149.29 1688.24,1149.11 1689.23,1149.02 1690.21,1148.9 1691.2,1148.82 1692.19,1148.72 \n",
       "  1693.17,1148.6 1694.16,1148.47 1695.14,1148.32 1696.13,1148.22 1697.12,1148.11 1698.1,1147.96 1699.09,1147.74 1700.07,1147.43 1701.06,1147.05 1702.05,1146.71 \n",
       "  1703.03,1146.51 1704.02,1146.41 1705,1146.36 1705.99,1146.36 1706.98,1146.34 1707.96,1146.23 1708.95,1146.02 1709.93,1145.91 1710.92,1145.77 1711.91,1145.61 \n",
       "  1712.89,1145.43 1713.88,1145.38 1714.86,1145.22 1715.85,1145.05 1716.84,1144.92 1717.82,1144.81 1718.81,1144.63 1719.79,1144.5 1720.78,1144.39 1721.77,1144.23 \n",
       "  1722.75,1144.05 1723.74,1143.88 1724.72,1143.74 1725.71,1143.59 1726.7,1143.45 1727.68,1143.31 1728.67,1143.15 1729.65,1143.01 1730.64,1142.91 1731.62,1142.86 \n",
       "  1732.61,1142.8 1733.6,1142.68 1734.58,1142.5 1735.57,1142.36 1736.55,1142.13 1737.54,1141.89 1738.53,1141.7 1739.51,1141.59 1740.5,1141.38 1741.48,1141.23 \n",
       "  1742.47,1141.32 1743.46,1141.44 1744.44,1141.52 1745.43,1141.65 1746.41,1141.73 1747.4,1141.66 1748.39,1141.55 1749.37,1141.43 1750.36,1141.28 1751.34,1141.13 \n",
       "  1752.33,1140.94 1753.32,1140.7 1754.3,1140.52 1755.29,1140.34 1756.27,1140.24 1757.26,1140.11 1758.25,1140.02 1759.23,1139.88 1760.22,1139.77 1761.2,1139.58 \n",
       "  1762.19,1139.44 1763.18,1139.26 1764.16,1139.1 1765.15,1138.96 1766.13,1138.79 1767.12,1138.6 1768.11,1138.39 1769.09,1138.17 1770.08,1137.89 1771.06,1137.63 \n",
       "  1772.05,1137.34 1773.04,1137.17 1774.02,1137.04 1775.01,1137.02 1775.99,1137.03 1776.98,1137.04 1777.97,1136.93 1778.95,1136.77 1779.94,1136.58 1780.92,1136.33 \n",
       "  1781.91,1136.19 1782.9,1136.08 1783.88,1136.02 1784.87,1135.95 1785.85,1135.91 1786.84,1135.77 1787.83,1135.62 1788.81,1135.47 1789.8,1135.28 1790.78,1135.05 \n",
       "  1791.77,1134.84 1792.76,1134.64 1793.74,1134.4 1794.73,1134.15 1795.71,1133.93 1796.7,1133.76 1797.68,1133.64 1798.67,1133.57 1799.66,1133.51 1800.64,1133.49 \n",
       "  1801.63,1133.38 1802.61,1133.26 1803.6,1133.14 1804.59,1133.06 1805.57,1132.98 1806.56,1132.96 1807.54,1132.96 1808.53,1132.86 1809.52,1132.76 1810.5,1132.59 \n",
       "  1811.49,1132.43 1812.47,1132.24 1813.46,1132.15 1814.45,1132.12 1815.43,1132.18 1816.42,1132.24 1817.4,1132.3 1818.39,1132.28 1819.38,1132.22 1820.36,1132.1 \n",
       "  1821.35,1132.02 1822.33,1132.05 1823.32,1132.12 1824.31,1132.12 1825.29,1132.16 1826.28,1132.15 1827.26,1132.06 1828.25,1131.91 1829.24,1131.79 1830.22,1131.67 \n",
       "  1831.21,1131.56 1832.19,1131.44 1833.18,1131.38 1834.17,1131.33 1835.15,1131.22 1836.14,1131.12 1837.12,1130.98 1838.11,1130.79 1839.1,1130.61 1840.08,1130.5 \n",
       "  1841.07,1130.35 1842.05,1130.25 1843.04,1130.18 1844.03,1130.13 1845.01,1130.09 1846,1130.12 1846.98,1130.15 1847.97,1130.08 1848.96,1130 1849.94,1129.88 \n",
       "  1850.93,1129.7 1851.91,1129.41 1852.9,1129.25 1853.89,1129.03 1854.87,1128.85 1855.86,1128.64 1856.84,1128.54 1857.83,1128.41 1858.81,1128.33 1859.8,1128.13 \n",
       "  1860.79,1127.99 1861.77,1127.86 1862.76,1127.75 1863.74,1127.62 1864.73,1127.6 1865.72,1127.56 1866.7,1127.52 1867.69,1127.47 1868.67,1127.43 1869.66,1127.43 \n",
       "  1870.65,1127.38 1871.63,1127.3 1872.62,1127.21 1873.6,1127.13 1874.59,1126.99 1875.58,1126.87 1876.56,1126.71 1877.55,1126.53 1878.53,1126.28 1879.52,1126.02 \n",
       "  1880.51,1125.69 1881.49,1125.4 1882.48,1125.09 1883.46,1124.8 1884.45,1124.5 1885.44,1124.26 1886.42,1124.04 1887.41,1123.86 1888.39,1123.72 1889.38,1123.6 \n",
       "  1890.37,1123.47 1891.35,1123.31 1892.34,1123.18 1893.32,1123.08 1894.31,1122.97 1895.3,1122.87 1896.28,1122.75 1897.27,1122.6 1898.25,1122.4 1899.24,1122.17 \n",
       "  1900.23,1121.91 1901.21,1121.84 1902.2,1121.8 1903.18,1121.79 1904.17,1121.81 1905.16,1121.83 1906.14,1121.66 1907.13,1121.44 1908.11,1121.21 1909.1,1121.01 \n",
       "  1910.09,1120.89 1911.07,1120.83 1912.06,1120.76 1913.04,1120.69 1914.03,1120.51 1915.02,1120.39 1916,1120.1 1916.99,1119.88 1917.97,1119.69 1918.96,1119.61 \n",
       "  1919.95,1119.48 1920.93,1119.53 1921.92,1119.55 1922.9,1119.63 1923.89,1119.57 1924.87,1119.55 1925.86,1119.44 1926.85,1119.28 1927.83,1119.07 1928.82,1118.96 \n",
       "  1929.8,1118.86 1930.79,1118.8 1931.78,1118.79 1932.76,1118.75 1933.75,1118.74 1934.73,1118.71 1935.72,1118.64 1936.71,1118.57 1937.69,1118.55 1938.68,1118.48 \n",
       "  1939.66,1118.62 1940.65,1118.82 1941.64,1118.99 1942.62,1119.06 1943.61,1119.11 1944.59,1118.93 1945.58,1118.69 1946.57,1118.52 1947.55,1118.37 1948.54,1118.24 \n",
       "  1949.52,1118.12 1950.51,1118 1951.5,1117.85 1952.48,1117.68 1953.47,1117.53 1954.45,1117.41 1955.44,1117.3 1956.43,1117.17 1957.41,1117.12 1958.4,1117.09 \n",
       "  1959.38,1117.02 1960.37,1117.04 1961.36,1117.05 1962.34,1117.06 1963.33,1117.14 1964.31,1117.21 1965.3,1117.22 1966.29,1117.22 1967.27,1117.21 1968.26,1117.11 \n",
       "  1969.24,1117.07 1970.23,1117.03 1971.22,1117.01 1972.2,1116.99 1973.19,1116.99 1974.17,1116.92 1975.16,1116.86 1976.15,1116.83 1977.13,1116.76 1978.12,1116.64 \n",
       "  1979.1,1116.6 1980.09,1116.54 1981.08,1116.48 1982.06,1116.5 1983.05,1116.5 1984.03,1116.52 1985.02,1116.66 1986,1116.86 1986.99,1117.06 1987.98,1117.34 \n",
       "  1988.96,1117.62 1989.95,1117.8 1990.93,1117.82 1991.92,1117.84 1992.91,1117.81 1993.89,1117.74 1994.88,1117.65 1995.86,1117.63 1996.85,1117.55 1997.84,1117.52 \n",
       "  1998.82,1117.46 1999.81,1117.46 2000.79,1117.43 2001.78,1117.44 2002.77,1117.36 2003.75,1117.31 2004.74,1117.16 2005.72,1117.05 2006.71,1116.89 2007.7,1116.77 \n",
       "  2008.68,1116.67 2009.67,1116.64 2010.65,1116.55 2011.64,1116.51 2012.63,1116.45 2013.61,1116.35 2014.6,1116.27 2015.58,1116.22 2016.57,1116.2 2017.56,1116.18 \n",
       "  2018.54,1116.23 2019.53,1116.31 2020.51,1116.36 2021.5,1116.38 2022.49,1116.42 2023.47,1116.36 2024.46,1116.21 2025.44,1116.06 2026.43,1115.89 2027.42,1115.72 \n",
       "  2028.4,1115.61 2029.39,1115.51 2030.37,1115.45 2031.36,1115.39 2032.35,1115.28 2033.33,1115.14 2034.32,1115.03 2035.3,1114.91 2036.29,1114.76 2037.28,1114.7 \n",
       "  2038.26,1114.64 2039.25,1114.58 2040.23,1114.52 2041.22,1114.42 2042.21,1114.33 2043.19,1114.15 2044.18,1113.99 2045.16,1113.75 2046.15,1113.56 2047.14,1113.32 \n",
       "  2048.12,1113.19 2049.11,1113.01 2050.09,1112.89 2051.08,1112.8 2052.06,1112.77 2053.05,1112.66 2054.04,1112.55 2055.02,1112.44 2056.01,1112.32 2056.99,1112.17 \n",
       "  2057.98,1112.24 2058.97,1112.34 2059.95,1112.41 2060.94,1112.53 2061.92,1112.65 2062.91,1112.64 2063.9,1112.54 2064.88,1112.55 2065.87,1112.46 2066.85,1112.39 \n",
       "  2067.84,1112.23 2068.83,1112.16 2069.81,1112.07 2070.8,1112.04 2071.78,1111.94 2072.77,1111.88 2073.76,1111.8 2074.74,1111.71 2075.73,1111.58 2076.71,1111.52 \n",
       "  2077.7,1111.39 2078.69,1111.25 2079.67,1111.11 2080.66,1111 2081.64,1110.88 2082.63,1110.84 2083.62,1110.76 2084.6,1110.64 2085.59,1110.51 2086.57,1110.37 \n",
       "  2087.56,1110.26 2088.55,1110.14 2089.53,1110.05 2090.52,1109.95 2091.5,1109.9 2092.49,1109.79 2093.48,1109.72 2094.46,1109.68 2095.45,1109.7 2096.43,1109.66 \n",
       "  2097.42,1109.73 2098.41,1109.81 2099.39,1109.76 2100.38,1109.64 2101.36,1109.59 2102.35,1109.44 2103.34,1109.28 2104.32,1109.19 2105.31,1109.13 2106.29,1109 \n",
       "  2107.28,1108.83 2108.27,1108.67 2109.25,1108.59 2110.24,1108.47 2111.22,1108.48 2112.21,1108.5 2113.19,1108.61 2114.18,1108.62 2115.17,1108.7 2116.15,1108.72 \n",
       "  2117.14,1108.75 2118.12,1108.68 2119.11,1108.62 2120.1,1108.5 2121.08,1108.34 2122.07,1108.18 2123.05,1108.03 2124.04,1107.88 2125.03,1107.74 2126.01,1107.63 \n",
       "  2127,1107.52 2127.98,1107.39 2128.97,1107.36 2129.96,1107.34 2130.94,1107.39 2131.93,1107.39 2132.91,1107.45 2133.9,1107.46 2134.89,1107.53 2135.87,1107.5 \n",
       "  2136.86,1107.6 2137.84,1107.7 2138.83,1107.71 2139.82,1107.63 2140.8,1107.68 2141.79,1107.65 2142.77,1107.6 2143.76,1107.65 2144.75,1107.68 2145.73,1107.66 \n",
       "  2146.72,1107.53 2147.7,1107.42 2148.69,1107.21 2149.68,1107.04 2150.66,1106.79 2151.65,1106.69 2152.63,1106.56 2153.62,1106.62 2154.61,1106.66 2155.59,1106.74 \n",
       "  2156.58,1106.76 2157.56,1106.78 2158.55,1106.69 2159.54,1106.66 2160.52,1106.59 2161.51,1106.5 2162.49,1106.42 2163.48,1106.33 2164.47,1106.18 2165.45,1106.03 \n",
       "  2166.44,1105.87 2167.42,1105.68 2168.41,1105.48 2169.4,1105.32 2170.38,1105.23 2171.37,1105.2 2172.35,1105.22 2173.34,1105.26 2174.33,1105.3 2175.31,1105.37 \n",
       "  2176.3,1105.52 2177.28,1105.63 2178.27,1105.77 2179.25,1105.88 2180.24,1105.99 2181.23,1106 2182.21,1106.04 2183.2,1106.1 2184.18,1106.14 2185.17,1106.14 \n",
       "  2186.16,1106.08 2187.14,1106.01 2188.13,1105.88 2189.11,1105.76 2190.1,1105.62 2191.09,1105.5 2192.07,1105.37 2193.06,1105.15 2194.04,1104.97 2195.03,1104.8 \n",
       "  2196.02,1104.68 2197,1104.59 2197.99,1104.57 2198.97,1104.47 2199.96,1104.4 2200.95,1104.28 2201.93,1104.15 2202.92,1104.05 2203.9,1103.99 2204.89,1103.89 \n",
       "  2205.88,1103.81 2206.86,1103.76 2207.85,1103.73 2208.83,1103.75 2209.82,1103.83 2210.81,1103.9 2211.79,1103.89 2212.78,1103.84 2213.76,1103.74 2214.75,1103.6 \n",
       "  2215.74,1103.44 2216.72,1103.39 2217.71,1103.22 2218.69,1103.09 2219.68,1102.87 2220.67,1102.67 2221.65,1102.39 2222.64,1102.25 2223.62,1102.14 2224.61,1102.11 \n",
       "  2225.6,1102.05 2226.58,1102.02 2227.57,1101.97 2228.55,1101.79 2229.54,1101.64 2230.53,1101.46 2231.51,1101.3 2232.5,1101.15 2233.48,1101.04 2234.47,1100.88 \n",
       "  2235.46,1100.68 2236.44,1100.47 2237.43,1100.23 2238.41,1100.02 2239.4,1099.82 2240.39,1099.61 2241.37,1099.32 2242.36,1098.99 2243.34,1098.64 2244.33,1098.32 \n",
       "  2245.31,1098.06 2246.3,1097.95 2247.29,1097.9 2248.27,1097.87 2249.26,1097.88 2250.24,1097.8 2251.23,1097.72 2252.22,1097.6 2253.2,1097.44 2254.19,1097.18 \n",
       "  2255.17,1097.21 2256.16,1097.19 2257.15,1097.14 2258.13,1097.11 2259.12,1097.06 2260.1,1096.86 2261.09,1096.57 2262.08,1096.33 2263.06,1095.98 2264.05,1095.75 \n",
       "  2265.03,1095.47 2266.02,1095.28 2267.01,1095.07 2267.99,1094.94 2268.98,1094.74 2269.96,1094.54 2270.95,1094.35 2271.94,1094.14 2272.92,1093.92 2273.91,1093.7 \n",
       "  2274.89,1093.54 2275.88,1093.33 2276.87,1093.2 2277.85,1093.15 2278.84,1093.15 2279.82,1093.15 2280.81,1093.16 2281.8,1093.07 2282.78,1092.89 2283.77,1092.72 \n",
       "  2284.75,1092.52 2285.74,1092.22 2286.73,1091.99 2287.71,1091.84 2288.7,1091.7 2289.68,1091.54 2290.67,1091.49 2291.66,1091.46 2292.64,1091.42 2293.63,1091.34 \n",
       "  \n",
       "  \"/>\n",
       "<path clip-path=\"url(#clip672)\" d=\"\n",
       "M322.675 304.368 L323.661 304.368 L324.647 305.106 L325.633 305.475 L326.619 305.696 L327.605 306.139 L328.591 306.582 L329.577 306.582 L330.563 306.582 L331.549 306.582 \n",
       "  L332.535 306.582 L333.521 306.582 L334.507 306.582 L335.493 306.585 L336.479 306.59 L337.465 306.594 L338.451 306.596 L339.437 306.597 L340.423 306.596 L341.409 306.593 \n",
       "  L342.395 306.589 L343.381 306.589 L344.366 306.594 L345.352 306.6 L346.338 306.784 L347.324 306.966 L348.31 307.15 L349.296 307.327 L350.282 307.527 L351.268 307.545 \n",
       "  L352.254 307.632 L353.24 307.743 L354.226 307.875 L355.212 307.984 L356.198 308.107 L357.184 308.161 L358.17 308.23 L359.156 308.361 L360.142 308.493 L361.128 308.615 \n",
       "  L362.114 308.757 L363.1 308.889 L364.086 309.247 L365.072 309.612 L366.058 310.046 L367.044 310.47 L368.03 310.869 L369.016 311.005 L370.002 311.165 L370.988 311.462 \n",
       "  L371.974 311.809 L372.96 312.193 L373.946 312.53 L374.932 312.841 L375.917 312.959 L376.903 313.015 L377.889 313.037 L378.875 313.101 L379.861 313.236 L380.847 313.415 \n",
       "  L381.833 313.712 L382.819 314.086 L383.805 314.42 L384.791 314.752 L385.777 315.163 L386.763 315.464 L387.749 315.828 L388.735 316.21 L389.721 316.538 L390.707 316.763 \n",
       "  L391.693 316.982 L392.679 317.139 L393.665 317.279 L394.651 317.469 L395.637 317.702 L396.623 318.032 L397.609 318.347 L398.595 318.66 L399.581 318.916 L400.567 319.106 \n",
       "  L401.553 319.289 L402.539 319.415 L403.525 319.533 L404.511 319.65 L405.497 319.742 L406.483 319.752 L407.468 319.786 L408.454 319.827 L409.44 319.859 L410.426 319.901 \n",
       "  L411.412 320.061 L412.398 320.186 L413.384 320.312 L414.37 320.472 L415.356 320.848 L416.342 321.213 L417.328 321.663 L418.314 322.214 L419.3 322.707 L420.286 323.021 \n",
       "  L421.272 323.267 L422.258 323.426 L423.244 323.496 L424.23 323.585 L425.216 323.652 L426.202 323.705 L427.188 323.803 L428.174 323.972 L429.16 324.138 L430.146 324.303 \n",
       "  L431.132 324.544 L432.118 324.745 L433.104 324.821 L434.09 324.899 L435.076 324.973 L436.062 324.931 L437.048 325.042 L438.034 325.204 L439.02 325.368 L440.005 325.585 \n",
       "  L440.991 325.828 L441.977 325.989 L442.963 326.144 L443.949 326.35 L444.935 326.558 L445.921 326.746 L446.907 326.985 L447.893 327.252 L448.879 327.482 L449.865 327.674 \n",
       "  L450.851 327.882 L451.837 327.989 L452.823 328.075 L453.809 328.147 L454.795 328.211 L455.781 328.257 L456.767 328.351 L457.753 328.483 L458.739 328.618 L459.725 328.725 \n",
       "  L460.711 328.844 L461.697 328.953 L462.683 329.052 L463.669 329.148 L464.655 329.254 L465.641 329.365 L466.627 329.421 L467.613 329.485 L468.599 329.548 L469.585 329.634 \n",
       "  L470.571 329.793 L471.556 330.006 L472.542 330.185 L473.528 330.384 L474.514 330.57 L475.5 330.647 L476.486 330.722 L477.472 330.782 L478.458 330.855 L479.444 330.94 \n",
       "  L480.43 331.111 L481.416 331.233 L482.402 331.348 L483.388 331.477 L484.374 331.594 L485.36 331.693 L486.346 331.832 L487.332 331.986 L488.318 332.116 L489.304 332.255 \n",
       "  L490.29 332.358 L491.276 332.488 L492.262 332.607 L493.248 332.705 L494.234 332.809 L495.22 332.904 L496.206 332.924 L497.192 332.945 L498.178 332.973 L499.164 332.968 \n",
       "  L500.15 332.935 L501.136 332.92 L502.122 332.929 L503.107 332.968 L504.093 333.05 L505.079 333.215 L506.065 333.378 L507.051 333.549 L508.037 333.698 L509.023 333.858 \n",
       "  L510.009 333.952 L510.995 334.043 L511.981 334.115 L512.967 334.311 L513.953 334.532 L514.939 334.763 L515.925 335.014 L516.911 335.32 L517.897 335.595 L518.883 335.814 \n",
       "  L519.869 336.109 L520.855 336.453 L521.841 336.804 L522.827 337.08 L523.813 337.381 L524.799 337.609 L525.785 337.807 L526.771 337.992 L527.757 338.231 L528.743 338.483 \n",
       "  L529.729 338.907 L530.715 339.302 L531.701 339.689 L532.687 340.03 L533.673 340.338 L534.659 340.542 L535.644 340.816 L536.63 341.09 L537.616 341.353 L538.602 341.705 \n",
       "  L539.588 342.131 L540.574 342.51 L541.56 342.931 L542.546 343.396 L543.532 343.773 L544.518 344.049 L545.504 344.361 L546.49 344.683 L547.476 344.939 L548.462 345.225 \n",
       "  L549.448 345.52 L550.434 345.825 L551.42 346.049 L552.406 346.324 L553.392 346.569 L554.378 346.904 L555.364 347.221 L556.35 347.57 L557.336 347.944 L558.322 348.48 \n",
       "  L559.308 348.872 L560.294 349.258 L561.28 349.611 L562.266 349.962 L563.252 350.149 L564.238 350.385 L565.224 350.585 L566.21 350.808 L567.195 350.952 L568.181 351.177 \n",
       "  L569.167 351.343 L570.153 351.516 L571.139 351.68 L572.125 351.966 L573.111 352.163 L574.097 352.412 L575.083 352.689 L576.069 352.94 L577.055 353.136 L578.041 353.459 \n",
       "  L579.027 353.751 L580.013 354.015 L580.999 354.317 L581.985 354.656 L582.971 355.043 L583.957 355.519 L584.943 356.03 L585.929 356.647 L586.915 357.22 L587.901 357.71 \n",
       "  L588.887 358.171 L589.873 358.648 L590.859 358.98 L591.845 359.376 L592.831 359.755 L593.817 360.094 L594.803 360.414 L595.789 360.836 L596.775 361.31 L597.761 361.721 \n",
       "  L598.746 362.107 L599.732 362.507 L600.718 362.864 L601.704 363.088 L602.69 363.421 L603.676 363.773 L604.662 364.155 L605.648 364.484 L606.634 364.886 L607.62 365.167 \n",
       "  L608.606 365.533 L609.592 365.806 L610.578 366.228 L611.564 366.54 L612.55 367.045 L613.536 367.475 L614.522 367.979 L615.508 368.406 L616.494 368.959 L617.48 369.379 \n",
       "  L618.466 369.821 L619.452 370.323 L620.438 370.774 L621.424 371.151 L622.41 371.502 L623.396 371.841 L624.382 372.139 L625.368 372.466 L626.354 372.825 L627.34 373.241 \n",
       "  L628.326 373.692 L629.312 374.081 L630.298 374.553 L631.283 375.02 L632.269 375.58 L633.255 376.152 L634.241 376.792 L635.227 377.378 L636.213 377.908 L637.199 378.474 \n",
       "  L638.185 378.979 L639.171 379.478 L640.157 379.894 L641.143 380.408 L642.129 380.868 L643.115 381.415 L644.101 381.929 L645.087 382.799 L646.073 383.586 L647.059 384.384 \n",
       "  L648.045 385.115 L649.031 385.881 L650.017 386.424 L651.003 387.009 L651.989 387.515 L652.975 388.019 L653.961 388.584 L654.947 389.11 L655.933 389.616 L656.919 390.335 \n",
       "  L657.905 391.011 L658.891 391.748 L659.877 392.511 L660.863 393.494 L661.849 394.442 L662.834 395.403 L663.82 396.491 L664.806 397.524 L665.792 398.307 L666.778 398.924 \n",
       "  L667.764 399.911 L668.75 400.603 L669.736 401.496 L670.722 402.358 L671.708 403.221 L672.694 403.746 L673.68 404.373 L674.666 404.794 L675.652 405.445 L676.638 406.211 \n",
       "  L677.624 406.936 L678.61 407.614 L679.596 408.486 L680.582 409.251 L681.568 409.794 L682.554 410.405 L683.54 410.984 L684.526 411.513 L685.512 411.954 L686.498 412.468 \n",
       "  L687.484 412.972 L688.47 413.804 L689.456 414.544 L690.442 415.343 L691.428 416.272 L692.414 417.149 L693.4 417.669 L694.385 418.162 L695.371 418.795 L696.357 419.318 \n",
       "  L697.343 419.892 L698.329 420.583 L699.315 421.275 L700.301 421.872 L701.287 422.409 L702.273 423.064 L703.259 423.613 L704.245 424.134 L705.231 424.994 L706.217 425.937 \n",
       "  L707.203 426.801 L708.189 427.655 L709.175 429.009 L710.161 429.924 L711.147 430.923 L712.133 431.893 L713.119 433.075 L714.105 433.77 L715.091 434.79 L716.077 435.641 \n",
       "  L717.063 436.447 L718.049 436.981 L719.035 437.615 L720.021 437.929 L721.007 438.308 L721.993 438.702 L722.979 439.209 L723.965 439.823 L724.951 440.391 L725.937 441.019 \n",
       "  L726.922 441.622 L727.908 442.154 L728.894 442.443 L729.88 442.798 L730.866 443.122 L731.852 443.962 L732.838 444.79 L733.824 445.754 L734.81 446.653 L735.796 447.74 \n",
       "  L736.782 448.456 L737.768 449.38 L738.754 450.284 L739.74 451.762 L740.726 453.043 L741.712 454.489 L742.698 455.896 L743.684 457.574 L744.67 458.826 L745.656 460.151 \n",
       "  L746.642 461.271 L747.628 462.346 L748.614 463.002 L749.6 463.765 L750.586 464.383 L751.572 465.232 L752.558 465.977 L753.544 466.886 L754.53 467.661 L755.516 468.519 \n",
       "  L756.502 469.06 L757.488 469.704 L758.473 470.277 L759.459 470.852 L760.445 471.475 L761.431 472.472 L762.417 473.485 L763.403 475.02 L764.389 476.472 L765.375 478.432 \n",
       "  L766.361 480.045 L767.347 481.987 L768.333 483.413 L769.319 485.046 L770.305 486.092 L771.291 487.329 L772.277 488.756 L773.263 490.102 L774.249 491.382 L775.235 492.602 \n",
       "  L776.221 493.938 L777.207 494.678 L778.193 496.433 L779.179 498.09 L780.165 500.045 L781.151 501.81 L782.137 503.437 L783.123 504.382 L784.109 505.349 L785.095 506.198 \n",
       "  L786.081 506.91 L787.067 507.962 L788.053 508.66 L789.039 509.295 L790.024 509.974 L791.01 510.734 L791.996 511.418 L792.982 512.35 L793.968 513.26 L794.954 513.99 \n",
       "  L795.94 514.634 L796.926 515.216 L797.912 515.585 L798.898 516.189 L799.884 516.749 L800.87 517.596 L801.856 518.475 L802.842 519.658 L803.828 520.732 L804.814 522.045 \n",
       "  L805.8 523.137 L806.786 524.155 L807.772 525.067 L808.758 525.858 L809.744 526.636 L810.73 527.328 L811.716 528.262 L812.702 529.286 L813.688 530.319 L814.674 531.428 \n",
       "  L815.66 532.559 L816.646 533.762 L817.632 534.768 L818.618 535.901 L819.604 536.831 L820.59 537.986 L821.576 538.883 L822.561 539.904 L823.547 540.867 L824.533 541.805 \n",
       "  L825.519 542.619 L826.505 543.537 L827.491 544.241 L828.477 544.936 L829.463 545.663 L830.449 546.281 L831.435 546.842 L832.421 547.508 L833.407 548.106 L834.393 548.625 \n",
       "  L835.379 549.122 L836.365 549.709 L837.351 550.352 L838.337 551.132 L839.323 551.964 L840.309 553.053 L841.295 554.007 L842.281 555.141 L843.267 556.146 L844.253 557.467 \n",
       "  L845.239 558.666 L846.225 559.824 L847.211 560.696 L848.197 561.594 L849.183 562.362 L850.169 563.112 L851.155 563.955 L852.141 564.847 L853.127 565.866 L854.112 566.624 \n",
       "  L855.098 567.459 L856.084 568.11 L857.07 569.02 L858.056 569.854 L859.042 570.776 L860.028 571.553 L861.014 572.7 L862 573.531 L862.986 574.374 L863.972 575.163 \n",
       "  L864.958 576.008 L865.944 576.591 L866.93 577.202 L867.916 577.804 L868.902 578.431 L869.888 579.079 L870.874 579.756 L871.86 580.326 L872.846 580.957 L873.832 581.895 \n",
       "  L874.818 582.73 L875.804 583.538 L876.79 584.508 L877.776 585.499 L878.762 586.056 L879.748 586.951 L880.734 587.688 L881.72 588.864 L882.706 590.122 L883.692 591.55 \n",
       "  L884.678 592.806 L885.663 594.175 L886.649 595.309 L887.635 596.381 L888.621 597.548 L889.607 598.557 L890.593 599.89 L891.579 600.863 L892.565 601.845 L893.551 602.629 \n",
       "  L894.537 603.724 L895.523 604.507 L896.509 605.588 L897.495 606.49 L898.481 607.725 L899.467 608.81 L900.453 610.176 L901.439 611.417 L902.425 612.857 L903.411 614.16 \n",
       "  L904.397 615.509 L905.383 616.768 L906.369 617.968 L907.355 619.042 L908.341 620.002 L909.327 621.034 L910.313 621.998 L911.299 623.051 L912.285 624.142 L913.271 625.209 \n",
       "  L914.257 626.131 L915.243 627.144 L916.229 628.065 L917.215 629.002 L918.2 629.932 L919.186 630.824 L920.172 631.358 L921.158 631.867 L922.144 632.168 L923.13 632.61 \n",
       "  L924.116 632.967 L925.102 633.456 L926.088 633.87 L927.074 634.336 L928.06 634.482 L929.046 634.716 L930.032 635.016 L931.018 635.469 L932.004 636.042 L932.99 636.841 \n",
       "  L933.976 637.557 L934.962 638.325 L935.948 639.06 L936.934 639.944 L937.92 640.816 L938.906 641.723 L939.892 642.437 L940.878 643.278 L941.864 643.87 L942.85 644.399 \n",
       "  L943.836 644.864 L944.822 645.298 L945.808 645.496 L946.794 645.668 L947.78 645.939 L948.766 646.411 L949.751 646.869 L950.737 647.422 L951.723 648.099 L952.709 648.603 \n",
       "  L953.695 648.899 L954.681 649.236 L955.667 649.435 L956.653 649.531 L957.639 649.793 L958.625 650.217 L959.611 650.576 L960.597 650.892 L961.583 651.237 L962.569 651.519 \n",
       "  L963.555 651.615 L964.541 651.882 L965.527 652.204 L966.513 652.594 L967.499 652.874 L968.485 653.32 L969.471 653.748 L970.457 654.25 L971.443 654.78 L972.429 655.497 \n",
       "  L973.415 656.262 L974.401 656.958 L975.387 657.677 L976.373 658.127 L977.359 658.631 L978.345 658.995 L979.331 659.452 L980.317 659.881 L981.302 660.614 L982.288 661.14 \n",
       "  L983.274 661.73 L984.26 662.193 L985.246 662.685 L986.232 662.908 L987.218 663.298 L988.204 663.728 L989.19 664.356 L990.176 664.946 L991.162 665.715 L992.148 666.403 \n",
       "  L993.134 666.98 L994.12 667.355 L995.106 667.826 L996.092 668.094 L997.078 668.291 L998.064 668.497 L999.05 668.649 L1000.04 668.743 L1001.02 668.96 L1002.01 669.277 \n",
       "  L1002.99 669.618 L1003.98 670.181 L1004.97 670.727 L1005.95 671.434 L1006.94 672.088 L1007.92 672.816 L1008.91 673.406 L1009.9 673.999 L1010.88 674.464 L1011.87 674.873 \n",
       "  L1012.85 675.255 L1013.84 675.774 L1014.83 676.137 L1015.81 676.542 L1016.8 676.9 L1017.78 677.161 L1018.77 677.286 L1019.76 677.573 L1020.74 677.771 L1021.73 678.026 \n",
       "  L1022.71 678.309 L1023.7 678.597 L1024.69 678.976 L1025.67 679.591 L1026.66 680.115 L1027.64 680.705 L1028.63 681.315 L1029.61 681.825 L1030.6 682.137 L1031.59 682.51 \n",
       "  L1032.57 683.009 L1033.56 683.527 L1034.54 683.997 L1035.53 684.478 L1036.52 685.038 L1037.5 685.467 L1038.49 685.78 L1039.47 686.081 L1040.46 686.333 L1041.45 686.629 \n",
       "  L1042.43 686.901 L1043.42 687.335 L1044.4 687.683 L1045.39 688.102 L1046.38 688.398 L1047.36 688.565 L1048.35 688.584 L1049.33 688.652 L1050.32 688.746 L1051.31 689.009 \n",
       "  L1052.29 689.214 L1053.28 689.529 L1054.26 689.814 L1055.25 690.092 L1056.24 690.321 L1057.22 690.64 L1058.21 690.965 L1059.19 691.29 L1060.18 691.594 L1061.17 691.679 \n",
       "  L1062.15 691.904 L1063.14 691.949 L1064.12 692.141 L1065.11 692.272 L1066.1 692.696 L1067.08 692.897 L1068.07 693.295 L1069.05 693.533 L1070.04 693.848 L1071.03 693.797 \n",
       "  L1072.01 693.838 L1073 693.664 L1073.98 693.678 L1074.97 693.503 L1075.96 693.629 L1076.94 693.682 L1077.93 693.885 L1078.91 693.765 L1079.9 693.823 L1080.89 693.792 \n",
       "  L1081.87 693.864 L1082.86 693.897 L1083.84 694.079 L1084.83 693.986 L1085.82 693.802 L1086.8 693.712 L1087.79 693.687 L1088.77 693.545 L1089.76 693.662 L1090.75 693.553 \n",
       "  L1091.73 693.359 L1092.72 692.92 L1093.7 692.673 L1094.69 692.091 L1095.67 691.787 L1096.66 691.372 L1097.65 691.236 L1098.63 691.051 L1099.62 691.12 L1100.6 691.298 \n",
       "  L1101.59 691.498 L1102.58 691.63 L1103.56 691.743 L1104.55 691.827 L1105.53 691.859 L1106.52 691.915 L1107.51 691.912 L1108.49 691.966 L1109.48 691.947 L1110.46 692.001 \n",
       "  L1111.45 692.033 L1112.44 692.133 L1113.42 691.994 L1114.41 692.026 L1115.39 691.818 L1116.38 691.543 L1117.37 691.361 L1118.35 691.388 L1119.34 691.446 L1120.32 691.693 \n",
       "  L1121.31 692.085 L1122.3 692.547 L1123.28 693.032 L1124.27 693.465 L1125.25 693.656 L1126.24 693.846 L1127.23 693.805 L1128.21 693.866 L1129.2 693.991 L1130.18 694.372 \n",
       "  L1131.17 694.738 L1132.16 694.943 L1133.14 694.986 L1134.13 694.871 L1135.11 694.825 L1136.1 694.526 L1137.09 694.561 L1138.07 694.391 L1139.06 694.421 L1140.04 694.3 \n",
       "  L1141.03 694.393 L1142.02 694.438 L1143 694.711 L1143.99 695.09 L1144.97 695.466 L1145.96 695.991 L1146.95 696.31 L1147.93 696.773 L1148.92 696.965 L1149.9 697.146 \n",
       "  L1150.89 697.214 L1151.88 697.326 L1152.86 697.336 L1153.85 697.417 L1154.83 697.523 L1155.82 697.619 L1156.8 697.813 L1157.79 697.807 L1158.78 697.749 L1159.76 697.542 \n",
       "  L1160.75 697.448 L1161.73 697.324 L1162.72 697.274 L1163.71 697.09 L1164.69 697.22 L1165.68 697.022 L1166.66 696.866 L1167.65 696.746 L1168.64 697.018 L1169.62 696.943 \n",
       "  L1170.61 697.166 L1171.59 697.304 L1172.58 697.533 L1173.57 697.466 L1174.55 697.463 L1175.54 697.263 L1176.52 697.165 L1177.51 696.985 L1178.5 696.626 L1179.48 696.329 \n",
       "  L1180.47 696.125 L1181.45 695.696 L1182.44 695.297 L1183.43 695.296 L1184.41 695.351 L1185.4 695.325 L1186.38 695.52 L1187.37 695.823 L1188.36 695.933 L1189.34 696.094 \n",
       "  L1190.33 696.239 L1191.31 696.27 L1192.3 696.463 L1193.29 696.685 L1194.27 696.866 L1195.26 696.96 L1196.24 697.318 L1197.23 697.356 L1198.22 697.457 L1199.2 697.251 \n",
       "  L1200.19 697.293 L1201.17 697.242 L1202.16 697.031 L1203.15 696.768 L1204.13 696.74 L1205.12 696.661 L1206.1 696.481 L1207.09 696.472 L1208.08 696.461 L1209.06 696.533 \n",
       "  L1210.05 696.553 L1211.03 696.572 L1212.02 696.796 L1213.01 697.014 L1213.99 697.207 L1214.98 697.308 L1215.96 697.426 L1216.95 697.264 L1217.94 697.265 L1218.92 697.045 \n",
       "  L1219.91 697.005 L1220.89 696.772 L1221.88 696.659 L1222.86 696.394 L1223.85 696.341 L1224.84 696.132 L1225.82 695.967 L1226.81 695.883 L1227.79 695.848 L1228.78 695.71 \n",
       "  L1229.77 695.705 L1230.75 695.692 L1231.74 695.584 L1232.72 695.252 L1233.71 695.068 L1234.7 694.896 L1235.68 694.925 L1236.67 695.11 L1237.65 695.709 L1238.64 696.24 \n",
       "  L1239.63 696.737 L1240.61 696.898 L1241.6 696.863 L1242.58 696.576 L1243.57 696.332 L1244.56 696.134 L1245.54 696.272 L1246.53 696.497 L1247.51 696.608 L1248.5 696.654 \n",
       "  L1249.49 696.694 L1250.47 696.657 L1251.46 696.504 L1252.44 696.506 L1253.43 696.633 L1254.42 696.836 L1255.4 696.951 L1256.39 697.152 L1257.37 697.288 L1258.36 697.421 \n",
       "  L1259.35 697.515 L1260.33 697.7 L1261.32 697.736 L1262.3 697.965 L1263.29 697.931 L1264.28 697.808 L1265.26 697.687 L1266.25 697.748 L1267.23 697.895 L1268.22 698.343 \n",
       "  L1269.21 698.916 L1270.19 699.599 L1271.18 700.225 L1272.16 700.581 L1273.15 700.77 L1274.14 700.677 L1275.12 700.438 L1276.11 700.22 L1277.09 700.035 L1278.08 699.942 \n",
       "  L1279.07 700.079 L1280.05 700.238 L1281.04 700.547 L1282.02 700.765 L1283.01 701.055 L1284 701.068 L1284.98 701.133 L1285.97 700.924 L1286.95 700.963 L1287.94 700.791 \n",
       "  L1288.92 700.837 L1289.91 700.872 L1290.9 701.011 L1291.88 700.868 L1292.87 701.007 L1293.85 701.102 L1294.84 701.254 L1295.83 701.579 L1296.81 701.885 L1297.8 702.074 \n",
       "  L1298.78 702.379 L1299.77 702.728 L1300.76 702.944 L1301.74 703.549 L1302.73 703.989 L1303.71 704.437 L1304.7 704.739 L1305.69 704.997 L1306.67 704.965 L1307.66 705.173 \n",
       "  L1308.64 705.347 L1309.63 705.594 L1310.62 705.455 L1311.6 705.307 L1312.59 704.931 L1313.57 704.561 L1314.56 704.189 L1315.55 704.198 L1316.53 704.217 L1317.52 704.416 \n",
       "  L1318.5 704.554 L1319.49 704.336 L1320.48 704.256 L1321.46 704.207 L1322.45 704.174 L1323.43 703.988 L1324.42 704.105 L1325.41 704.217 L1326.39 704.433 L1327.38 704.609 \n",
       "  L1328.36 705.165 L1329.35 705.919 L1330.34 706.584 L1331.32 707.177 L1332.31 707.597 L1333.29 707.842 L1334.28 707.895 L1335.27 707.962 L1336.25 707.95 L1337.24 708.066 \n",
       "  L1338.22 708.36 L1339.21 708.672 L1340.2 709.133 L1341.18 709.645 L1342.17 710.114 L1343.15 710.467 L1344.14 710.839 L1345.13 711.013 L1346.11 711.36 L1347.1 711.63 \n",
       "  L1348.08 711.915 L1349.07 712.164 L1350.05 712.483 L1351.04 712.625 L1352.03 713.069 L1353.01 713.425 L1354 713.775 L1354.98 714.423 L1355.97 715.168 L1356.96 715.809 \n",
       "  L1357.94 716.436 L1358.93 717.203 L1359.91 717.804 L1360.9 718.264 L1361.89 718.714 L1362.87 719.194 L1363.86 719.622 L1364.84 719.89 L1365.83 720.201 L1366.82 720.326 \n",
       "  L1367.8 720.409 L1368.79 720.599 L1369.77 720.886 L1370.76 721.331 L1371.75 721.893 L1372.73 722.559 L1373.72 723.217 L1374.7 723.975 L1375.69 724.663 L1376.68 725.334 \n",
       "  L1377.66 725.981 L1378.65 726.642 L1379.63 727.195 L1380.62 727.861 L1381.61 728.462 L1382.59 729.063 L1383.58 729.514 L1384.56 729.929 L1385.55 730.036 L1386.54 730.338 \n",
       "  L1387.52 730.499 L1388.51 730.602 L1389.49 730.37 L1390.48 730.136 L1391.47 729.57 L1392.45 728.961 L1393.44 728.43 L1394.42 728.164 L1395.41 728.119 L1396.4 728.307 \n",
       "  L1397.38 728.615 L1398.37 729.046 L1399.35 729.508 L1400.34 729.935 L1401.33 730.543 L1402.31 731.237 L1403.3 732.297 L1404.28 733.435 L1405.27 734.5 L1406.26 735.396 \n",
       "  L1407.24 736.439 L1408.23 736.974 L1409.21 737.512 L1410.2 738.066 L1411.19 738.595 L1412.17 739.027 L1413.16 739.508 L1414.14 740.07 L1415.13 740.596 L1416.11 741.181 \n",
       "  L1417.1 741.581 L1418.09 741.95 L1419.07 742.115 L1420.06 742.296 L1421.04 742.668 L1422.03 743.163 L1423.02 743.747 L1424 744.568 L1424.99 745.506 L1425.97 746.331 \n",
       "  L1426.96 747.199 L1427.95 748.033 L1428.93 748.686 L1429.92 749.325 L1430.9 749.789 L1431.89 750.117 L1432.88 750.48 L1433.86 750.956 L1434.85 751.511 L1435.83 752.313 \n",
       "  L1436.82 753.135 L1437.81 753.94 L1438.79 754.598 L1439.78 755.257 L1440.76 755.721 L1441.75 756.226 L1442.74 756.793 L1443.72 757.528 L1444.71 758.176 L1445.69 758.871 \n",
       "  L1446.68 759.673 L1447.67 760.537 L1448.65 761.29 L1449.64 762.007 L1450.62 762.908 L1451.61 763.82 L1452.6 764.841 L1453.58 765.899 L1454.57 767.063 L1455.55 768.17 \n",
       "  L1456.54 769.148 L1457.53 769.859 L1458.51 770.661 L1459.5 771.335 L1460.48 772.003 L1461.47 772.703 L1462.46 773.567 L1463.44 774.49 L1464.43 775.425 L1465.41 776.295 \n",
       "  L1466.4 777.242 L1467.39 778.05 L1468.37 778.913 L1469.36 780 L1470.34 781.005 L1471.33 781.978 L1472.32 783.048 L1473.3 783.887 L1474.29 784.609 L1475.27 785.452 \n",
       "  L1476.26 786.296 L1477.24 787.181 L1478.23 788.064 L1479.22 788.879 L1480.2 789.832 L1481.19 790.839 L1482.17 791.824 L1483.16 793.047 L1484.15 794.264 L1485.13 795.415 \n",
       "  L1486.12 796.762 L1487.1 797.963 L1488.09 799.156 L1489.08 800.441 L1490.06 801.572 L1491.05 802.381 L1492.03 803.279 L1493.02 804.141 L1494.01 805.043 L1494.99 806.012 \n",
       "  L1495.98 806.95 L1496.96 807.736 L1497.95 808.311 L1498.94 808.857 L1499.92 809.454 L1500.91 810.189 L1501.89 811 L1502.88 811.927 L1503.87 812.752 L1504.85 813.554 \n",
       "  L1505.84 814.13 L1506.82 814.68 L1507.81 815.164 L1508.8 815.824 L1509.78 816.378 L1510.77 817.319 L1511.75 818.361 L1512.74 819.489 L1513.73 820.485 L1514.71 821.58 \n",
       "  L1515.7 822.553 L1516.68 823.518 L1517.67 824.447 L1518.66 825.296 L1519.64 825.99 L1520.63 826.668 L1521.61 827.273 L1522.6 827.733 L1523.59 828.2 L1524.57 828.931 \n",
       "  L1525.56 829.629 L1526.54 830.347 L1527.53 831.103 L1528.52 831.832 L1529.5 832.436 L1530.49 832.87 L1531.47 833.349 L1532.46 833.861 L1533.45 834.451 L1534.43 835.014 \n",
       "  L1535.42 835.877 L1536.4 836.639 L1537.39 837.488 L1538.38 838.317 L1539.36 839.123 L1540.35 839.745 L1541.33 840.494 L1542.32 841.227 L1543.3 842.031 L1544.29 842.755 \n",
       "  L1545.28 843.509 L1546.26 844.216 L1547.25 845.113 L1548.23 845.97 L1549.22 846.955 L1550.21 847.955 L1551.19 848.823 L1552.18 849.595 L1553.16 850.339 L1554.15 850.975 \n",
       "  L1555.14 851.544 L1556.12 852.27 L1557.11 852.833 L1558.09 853.526 L1559.08 854.53 L1560.07 855.684 L1561.05 856.917 L1562.04 858.227 L1563.02 859.522 L1564.01 860.582 \n",
       "  L1565 861.611 L1565.98 862.456 L1566.97 863.271 L1567.95 863.912 L1568.94 864.552 L1569.93 865.119 L1570.91 865.805 L1571.9 866.476 L1572.88 867.465 L1573.87 868.401 \n",
       "  L1574.86 869.432 L1575.84 870.37 L1576.83 871.409 L1577.81 872.414 L1578.8 873.358 L1579.79 874.192 L1580.77 875.031 L1581.76 876.203 L1582.74 877.043 L1583.73 877.96 \n",
       "  L1584.72 878.729 L1585.7 879.425 L1586.69 879.885 L1587.67 880.399 L1588.66 880.939 L1589.65 881.557 L1590.63 882.324 L1591.62 882.903 L1592.6 883.557 L1593.59 884.1 \n",
       "  L1594.58 884.734 L1595.56 885.283 L1596.55 885.911 L1597.53 886.556 L1598.52 887.272 L1599.51 888.045 L1600.49 888.86 L1601.48 889.721 L1602.46 890.659 L1603.45 891.622 \n",
       "  L1604.43 892.466 L1605.42 893.296 L1606.41 894.109 L1607.39 894.745 L1608.38 895.456 L1609.36 896.282 L1610.35 897.1 L1611.34 897.827 L1612.32 898.579 L1613.31 899.386 \n",
       "  L1614.29 900.139 L1615.28 900.879 L1616.27 901.545 L1617.25 902.163 L1618.24 902.704 L1619.22 903.28 L1620.21 903.888 L1621.2 904.608 L1622.18 905.549 L1623.17 906.375 \n",
       "  L1624.15 907.065 L1625.14 907.82 L1626.13 908.483 L1627.11 908.998 L1628.1 909.629 L1629.08 910.302 L1630.07 910.841 L1631.06 911.423 L1632.04 912.077 L1633.03 912.616 \n",
       "  L1634.01 913.237 L1635 913.947 L1635.99 914.603 L1636.97 915.175 L1637.96 915.794 L1638.94 916.456 L1639.93 917.071 L1640.92 917.923 L1641.9 918.833 L1642.89 919.765 \n",
       "  L1643.87 920.568 L1644.86 921.583 L1645.85 922.398 L1646.83 923.122 L1647.82 923.89 L1648.8 924.794 L1649.79 925.466 L1650.78 926.166 L1651.76 926.927 L1652.75 927.695 \n",
       "  L1653.73 928.434 L1654.72 929.257 L1655.71 930.026 L1656.69 930.816 L1657.68 931.592 L1658.66 932.365 L1659.65 933.015 L1660.64 933.846 L1661.62 934.886 L1662.61 935.929 \n",
       "  L1663.59 936.988 L1664.58 938.076 L1665.57 939.038 L1666.55 939.695 L1667.54 940.353 L1668.52 940.975 L1669.51 941.672 L1670.49 942.299 L1671.48 943.067 L1672.47 943.828 \n",
       "  L1673.45 944.5 L1674.44 945.21 L1675.42 945.895 L1676.41 946.47 L1677.4 947.058 L1678.38 947.569 L1679.37 947.983 L1680.35 948.462 L1681.34 949.047 L1682.33 949.595 \n",
       "  L1683.31 950.172 L1684.3 950.695 L1685.28 951.244 L1686.27 951.814 L1687.26 952.51 L1688.24 953.219 L1689.23 954.032 L1690.21 954.82 L1691.2 955.446 L1692.19 955.879 \n",
       "  L1693.17 956.366 L1694.16 956.954 L1695.14 957.605 L1696.13 958.33 L1697.12 959.267 L1698.1 960.157 L1699.09 961.08 L1700.07 962.273 L1701.06 963.432 L1702.05 964.375 \n",
       "  L1703.03 965.358 L1704.02 966.182 L1705 966.656 L1705.99 967.179 L1706.98 967.708 L1707.96 968.294 L1708.95 968.968 L1709.93 969.769 L1710.92 970.635 L1711.91 971.557 \n",
       "  L1712.89 972.4 L1713.88 973.142 L1714.86 973.694 L1715.85 974.144 L1716.84 974.565 L1717.82 974.936 L1718.81 975.353 L1719.79 975.892 L1720.78 976.441 L1721.77 977.016 \n",
       "  L1722.75 977.712 L1723.74 978.324 L1724.72 978.938 L1725.71 979.533 L1726.7 980.076 L1727.68 980.586 L1728.67 981.172 L1729.65 981.708 L1730.64 982.385 L1731.62 983.136 \n",
       "  L1732.61 983.97 L1733.6 984.727 L1734.58 985.51 L1735.57 986.26 L1736.55 986.928 L1737.54 987.62 L1738.53 988.267 L1739.51 988.936 L1740.5 989.526 L1741.48 990.266 \n",
       "  L1742.47 990.828 L1743.46 991.429 L1744.44 992.039 L1745.43 992.729 L1746.41 993.395 L1747.4 994.145 L1748.39 994.856 L1749.37 995.581 L1750.36 996.203 L1751.34 996.724 \n",
       "  L1752.33 997.191 L1753.32 997.825 L1754.3 998.384 L1755.29 999.032 L1756.27 999.809 L1757.26 1000.61 L1758.25 1001.44 L1759.23 1002.25 L1760.22 1003.07 L1761.2 1003.9 \n",
       "  L1762.19 1004.79 L1763.18 1005.56 L1764.16 1006.39 L1765.15 1007.09 L1766.13 1007.66 L1767.12 1008.19 L1768.11 1008.83 L1769.09 1009.46 L1770.08 1010.19 L1771.06 1011.06 \n",
       "  L1772.05 1011.86 L1773.04 1012.63 L1774.02 1013.34 L1775.01 1013.96 L1775.99 1014.48 L1776.98 1015.11 L1777.97 1015.78 L1778.95 1016.53 L1779.94 1017.37 L1780.92 1018.19 \n",
       "  L1781.91 1018.93 L1782.9 1019.5 L1783.88 1020.23 L1784.87 1020.84 L1785.85 1021.6 L1786.84 1022.48 L1787.83 1023.45 L1788.81 1024.24 L1789.8 1025.14 L1790.78 1025.96 \n",
       "  L1791.77 1026.85 L1792.76 1027.73 L1793.74 1028.63 L1794.73 1029.47 L1795.71 1030.35 L1796.7 1031.04 L1797.68 1031.77 L1798.67 1032.48 L1799.66 1033.32 L1800.64 1034.06 \n",
       "  L1801.63 1034.91 L1802.61 1035.74 L1803.6 1036.73 L1804.59 1037.61 L1805.57 1038.53 L1806.56 1039.46 L1807.54 1040.37 L1808.53 1041 L1809.52 1041.62 L1810.5 1042.32 \n",
       "  L1811.49 1042.9 L1812.47 1043.41 L1813.46 1044.1 L1814.45 1044.75 L1815.43 1045.31 L1816.42 1045.97 L1817.4 1046.69 L1818.39 1047.34 L1819.38 1048.19 L1820.36 1049.09 \n",
       "  L1821.35 1049.84 L1822.33 1050.5 L1823.32 1051.15 L1824.31 1051.64 L1825.29 1052.21 L1826.28 1052.74 L1827.26 1053.45 L1828.25 1054.1 L1829.24 1054.7 L1830.22 1055.08 \n",
       "  L1831.21 1055.57 L1832.19 1055.87 L1833.18 1056.23 L1834.17 1056.7 L1835.15 1057.24 L1836.14 1057.84 L1837.12 1058.45 L1838.11 1059.11 L1839.1 1059.89 L1840.08 1060.6 \n",
       "  L1841.07 1061.42 L1842.05 1062.24 L1843.04 1062.93 L1844.03 1063.4 L1845.01 1063.91 L1846 1064.31 L1846.98 1064.94 L1847.97 1065.79 L1848.96 1066.59 L1849.94 1067.5 \n",
       "  L1850.93 1068.3 L1851.91 1068.99 L1852.9 1069.44 L1853.89 1070.01 L1854.87 1070.4 L1855.86 1070.76 L1856.84 1071.29 L1857.83 1071.95 L1858.81 1072.65 L1859.8 1073.57 \n",
       "  L1860.79 1074.55 L1861.77 1075.17 L1862.76 1075.9 L1863.74 1076.59 L1864.73 1077.07 L1865.72 1077.57 L1866.7 1078.14 L1867.69 1078.6 L1868.67 1079.08 L1869.66 1079.51 \n",
       "  L1870.65 1080.01 L1871.63 1080.55 L1872.62 1081.02 L1873.6 1081.55 L1874.59 1082.14 L1875.58 1082.69 L1876.56 1083.25 L1877.55 1083.76 L1878.53 1084.33 L1879.52 1084.89 \n",
       "  L1880.51 1085.49 L1881.49 1086 L1882.48 1086.59 L1883.46 1087.03 L1884.45 1087.52 L1885.44 1088.07 L1886.42 1088.73 L1887.41 1089.59 L1888.39 1090.42 L1889.38 1091.19 \n",
       "  L1890.37 1092.14 L1891.35 1093.02 L1892.34 1093.74 L1893.32 1094.62 L1894.31 1095.61 L1895.3 1096.37 L1896.28 1097.16 L1897.27 1097.85 L1898.25 1098.43 L1899.24 1099 \n",
       "  L1900.23 1099.45 L1901.21 1099.71 L1902.2 1100.09 L1903.18 1100.41 L1904.17 1100.72 L1905.16 1101.09 L1906.14 1101.69 L1907.13 1102.25 L1908.11 1103.02 L1909.1 1103.84 \n",
       "  L1910.09 1104.72 L1911.07 1105.48 L1912.06 1106.29 L1913.04 1107.09 L1914.03 1107.99 L1915.02 1108.85 L1916 1109.95 L1916.99 1111.02 L1917.97 1112.06 L1918.96 1112.91 \n",
       "  L1919.95 1113.89 L1920.93 1114.53 L1921.92 1115.29 L1922.9 1115.88 L1923.89 1116.53 L1924.87 1117.08 L1925.86 1117.8 L1926.85 1118.39 L1927.83 1118.98 L1928.82 1119.47 \n",
       "  L1929.8 1119.98 L1930.79 1120.44 L1931.78 1120.91 L1932.76 1121.46 L1933.75 1121.93 L1934.73 1122.3 L1935.72 1122.75 L1936.71 1123.16 L1937.69 1123.61 L1938.68 1124.17 \n",
       "  L1939.66 1124.85 L1940.65 1125.43 L1941.64 1126.08 L1942.62 1126.68 L1943.61 1127.35 L1944.59 1128.11 L1945.58 1128.91 L1946.57 1129.62 L1947.55 1130.34 L1948.54 1130.96 \n",
       "  L1949.52 1131.45 L1950.51 1132.14 L1951.5 1132.87 L1952.48 1133.53 L1953.47 1134.32 L1954.45 1135.09 L1955.44 1135.65 L1956.43 1136.38 L1957.41 1137.17 L1958.4 1137.81 \n",
       "  L1959.38 1138.42 L1960.37 1139.19 L1961.36 1139.78 L1962.34 1140.3 L1963.33 1140.85 L1964.31 1141.46 L1965.3 1141.93 L1966.29 1142.44 L1967.27 1143.1 L1968.26 1143.74 \n",
       "  L1969.24 1144.39 L1970.23 1144.98 L1971.22 1145.56 L1972.2 1145.97 L1973.19 1146.37 L1974.17 1146.84 L1975.16 1147.3 L1976.15 1147.76 L1977.13 1148.25 L1978.12 1148.67 \n",
       "  L1979.1 1148.96 L1980.09 1149.29 L1981.08 1149.66 L1982.06 1149.98 L1983.05 1150.48 L1984.03 1151.17 L1985.02 1151.9 L1986 1152.64 L1986.99 1153.55 L1987.98 1154.3 \n",
       "  L1988.96 1154.92 L1989.95 1155.43 L1990.93 1155.92 L1991.92 1156.34 L1992.91 1156.8 L1993.89 1157.45 L1994.88 1158.1 L1995.86 1158.89 L1996.85 1159.59 L1997.84 1160.3 \n",
       "  L1998.82 1160.94 L1999.81 1161.61 L2000.79 1162.17 L2001.78 1162.68 L2002.77 1163.32 L2003.75 1163.76 L2004.74 1164.25 L2005.72 1164.72 L2006.71 1165.36 L2007.7 1165.89 \n",
       "  L2008.68 1166.53 L2009.67 1167.06 L2010.65 1167.63 L2011.64 1168.02 L2012.63 1168.42 L2013.61 1168.76 L2014.6 1169.29 L2015.58 1169.79 L2016.57 1170.32 L2017.56 1170.82 \n",
       "  L2018.54 1171.27 L2019.53 1171.58 L2020.51 1171.92 L2021.5 1172.3 L2022.49 1172.74 L2023.47 1173.23 L2024.46 1173.68 L2025.44 1174.11 L2026.43 1174.56 L2027.42 1174.93 \n",
       "  L2028.4 1175.36 L2029.39 1175.77 L2030.37 1176.26 L2031.36 1176.86 L2032.35 1177.56 L2033.33 1178.12 L2034.32 1179.08 L2035.3 1180.06 L2036.29 1181.03 L2037.28 1182.09 \n",
       "  L2038.26 1183.23 L2039.25 1184.03 L2040.23 1184.78 L2041.22 1185.49 L2042.21 1186.07 L2043.19 1186.56 L2044.18 1187.05 L2045.16 1187.6 L2046.15 1188.07 L2047.14 1188.57 \n",
       "  L2048.12 1189.09 L2049.11 1189.7 L2050.09 1190.18 L2051.08 1190.65 L2052.06 1191.11 L2053.05 1191.75 L2054.04 1192.5 L2055.02 1193.27 L2056.01 1194.07 L2056.99 1194.89 \n",
       "  L2057.98 1195.47 L2058.97 1195.87 L2059.95 1196.19 L2060.94 1196.43 L2061.92 1196.73 L2062.91 1197.09 L2063.9 1197.52 L2064.88 1198.08 L2065.87 1198.54 L2066.85 1198.94 \n",
       "  L2067.84 1199.28 L2068.83 1199.56 L2069.81 1199.75 L2070.8 1200.09 L2071.78 1200.41 L2072.77 1200.8 L2073.76 1201.18 L2074.74 1201.66 L2075.73 1202.18 L2076.71 1202.73 \n",
       "  L2077.7 1203.41 L2078.69 1204.07 L2079.67 1204.6 L2080.66 1205.05 L2081.64 1205.56 L2082.63 1206.03 L2083.62 1206.5 L2084.6 1207.09 L2085.59 1207.72 L2086.57 1208.4 \n",
       "  L2087.56 1208.94 L2088.55 1209.5 L2089.53 1210.03 L2090.52 1210.5 L2091.5 1210.81 L2092.49 1211.17 L2093.48 1211.73 L2094.46 1212.38 L2095.45 1213.25 L2096.43 1214.02 \n",
       "  L2097.42 1214.78 L2098.41 1215.37 L2099.39 1215.86 L2100.38 1216.12 L2101.36 1216.5 L2102.35 1216.93 L2103.34 1217.43 L2104.32 1218.12 L2105.31 1218.87 L2106.29 1219.63 \n",
       "  L2107.28 1220.4 L2108.27 1221.12 L2109.25 1221.64 L2110.24 1222.2 L2111.22 1222.58 L2112.21 1222.96 L2113.19 1223.33 L2114.18 1223.84 L2115.17 1224.37 L2116.15 1225.04 \n",
       "  L2117.14 1225.62 L2118.12 1226.26 L2119.11 1226.61 L2120.1 1227.04 L2121.08 1227.37 L2122.07 1227.67 L2123.05 1227.79 L2124.04 1228.1 L2125.03 1228.26 L2126.01 1228.48 \n",
       "  L2127 1228.8 L2127.98 1229.24 L2128.97 1229.69 L2129.96 1230.19 L2130.94 1230.66 L2131.93 1231.14 L2132.91 1231.52 L2133.9 1231.82 L2134.89 1232.09 L2135.87 1232.6 \n",
       "  L2136.86 1233.33 L2137.84 1234.12 L2138.83 1235 L2139.82 1235.79 L2140.8 1236.43 L2141.79 1236.78 L2142.77 1237.11 L2143.76 1237.59 L2144.75 1238.13 L2145.73 1238.79 \n",
       "  L2146.72 1239.48 L2147.7 1240.22 L2148.69 1240.66 L2149.68 1241.16 L2150.66 1241.47 L2151.65 1241.91 L2152.63 1242.27 L2153.62 1242.88 L2154.61 1243.49 L2155.59 1244.16 \n",
       "  L2156.58 1244.74 L2157.56 1245.61 L2158.55 1246.32 L2159.54 1246.93 L2160.52 1247.55 L2161.51 1248.13 L2162.49 1248.51 L2163.48 1248.99 L2164.47 1249.75 L2165.45 1250.44 \n",
       "  L2166.44 1251.26 L2167.42 1252.04 L2168.41 1252.65 L2169.4 1253.06 L2170.38 1253.47 L2171.37 1253.79 L2172.35 1254.05 L2173.34 1254.47 L2174.33 1254.8 L2175.31 1255.21 \n",
       "  L2176.3 1255.64 L2177.28 1256.38 L2178.27 1257.04 L2179.25 1257.75 L2180.24 1258.38 L2181.23 1258.95 L2182.21 1259.37 L2183.2 1259.7 L2184.18 1260.03 L2185.17 1260.36 \n",
       "  L2186.16 1261.09 L2187.14 1261.76 L2188.13 1262.5 L2189.11 1263.29 L2190.1 1264.11 L2191.09 1264.61 L2192.07 1265.13 L2193.06 1265.61 L2194.04 1266.15 L2195.03 1266.72 \n",
       "  L2196.02 1267.19 L2197 1267.58 L2197.99 1268.02 L2198.97 1268.42 L2199.96 1268.85 L2200.95 1269.28 L2201.93 1269.85 L2202.92 1270.41 L2203.9 1270.92 L2204.89 1271.62 \n",
       "  L2205.88 1272.23 L2206.86 1272.73 L2207.85 1273.22 L2208.83 1273.82 L2209.82 1274.23 L2210.81 1274.76 L2211.79 1275.36 L2212.78 1275.98 L2213.76 1276.51 L2214.75 1276.97 \n",
       "  L2215.74 1277.44 L2216.72 1277.95 L2217.71 1278.48 L2218.69 1279.07 L2219.68 1279.7 L2220.67 1280.26 L2221.65 1280.74 L2222.64 1281.13 L2223.62 1281.68 L2224.61 1282.16 \n",
       "  L2225.6 1282.83 L2226.58 1283.45 L2227.57 1284.22 L2228.55 1284.79 L2229.54 1285.33 L2230.53 1285.75 L2231.51 1286.22 L2232.5 1286.68 L2233.48 1287.09 L2234.47 1287.64 \n",
       "  L2235.46 1288.15 L2236.44 1288.69 L2237.43 1289.15 L2238.41 1289.62 L2239.4 1290.05 L2240.39 1290.53 L2241.37 1290.88 L2242.36 1291.41 L2243.34 1291.97 L2244.33 1292.61 \n",
       "  L2245.31 1293.24 L2246.3 1293.99 L2247.29 1294.5 L2248.27 1295.03 L2249.26 1295.45 L2250.24 1295.9 L2251.23 1296.31 L2252.22 1296.79 L2253.2 1297.14 L2254.19 1297.5 \n",
       "  L2255.17 1297.81 L2256.16 1298.12 L2257.15 1298.46 L2258.13 1298.97 L2259.12 1299.47 L2260.1 1300.02 L2261.09 1300.51 L2262.08 1300.92 L2263.06 1301.17 L2264.05 1301.55 \n",
       "  L2265.03 1301.88 L2266.02 1302.24 L2267.01 1302.57 L2267.99 1303.11 L2268.98 1303.36 L2269.96 1303.6 L2270.95 1303.91 L2271.94 1304.3 L2272.92 1304.6 L2273.91 1305.01 \n",
       "  L2274.89 1305.44 L2275.88 1305.78 L2276.87 1306.07 L2277.85 1306.27 L2278.84 1306.55 L2279.82 1306.77 L2280.81 1306.99 L2281.8 1307.22 L2282.78 1307.6 L2283.77 1307.95 \n",
       "  L2284.75 1308.25 L2285.74 1308.68 L2286.73 1309.1 L2287.71 1309.41 L2288.7 1309.71 L2289.68 1310.03 L2290.67 1310.35 L2291.66 1310.65 L2292.64 1311.04 L2293.63 1311.43 \n",
       "  L2293.63 778.733 L2292.64 778.181 L2291.66 777.66 L2290.67 777.172 L2289.68 776.793 L2288.7 776.504 L2287.71 776.238 L2286.73 775.995 L2285.74 775.676 L2284.75 775.313 \n",
       "  L2283.77 774.926 L2282.78 774.438 L2281.8 773.862 L2280.81 773.464 L2279.82 773.02 L2278.84 772.589 L2277.85 772.188 L2276.87 771.876 L2275.88 771.552 L2274.89 771.223 \n",
       "  L2273.91 770.783 L2272.92 770.351 L2271.94 769.874 L2270.95 769.191 L2269.96 768.533 L2268.98 767.975 L2267.99 767.384 L2267.01 766.655 L2266.02 766.117 L2265.03 765.615 \n",
       "  L2264.05 765.147 L2263.06 764.63 L2262.08 764.309 L2261.09 763.972 L2260.1 763.653 L2259.12 763.216 L2258.13 762.935 L2257.15 762.546 L2256.16 762.15 L2255.17 761.683 \n",
       "  L2254.19 761.371 L2253.2 760.956 L2252.22 760.712 L2251.23 760.512 L2250.24 760.357 L2249.26 760.207 L2248.27 759.984 L2247.29 759.693 L2246.3 759.349 L2245.31 758.887 \n",
       "  L2244.33 758.384 L2243.34 758.052 L2242.36 757.739 L2241.37 757.421 L2240.39 757.271 L2239.4 757.088 L2238.41 756.938 L2237.43 756.635 L2236.44 756.391 L2235.46 756.052 \n",
       "  L2234.47 755.676 L2233.48 755.283 L2232.5 754.951 L2231.51 754.589 L2230.53 754.335 L2229.54 754.055 L2228.55 753.796 L2227.57 753.536 L2226.58 753.182 L2225.6 752.799 \n",
       "  L2224.61 752.504 L2223.62 752.127 L2222.64 751.81 L2221.65 751.546 L2220.67 751.34 L2219.68 750.992 L2218.69 750.557 L2217.71 750.133 L2216.72 749.768 L2215.74 749.332 \n",
       "  L2214.75 749.127 L2213.76 748.965 L2212.78 748.692 L2211.79 748.333 L2210.81 748.027 L2209.82 747.455 L2208.83 746.955 L2207.85 746.469 L2206.86 746.057 L2205.88 745.598 \n",
       "  L2204.89 745.191 L2203.9 744.729 L2202.92 744.258 L2201.93 743.83 L2200.95 743.33 L2199.96 742.878 L2198.97 742.398 L2197.99 741.951 L2197 741.422 L2196.02 741.01 \n",
       "  L2195.03 740.584 L2194.04 740.072 L2193.06 739.645 L2192.07 739.216 L2191.09 738.73 L2190.1 738.239 L2189.11 737.562 L2188.13 736.84 L2187.14 736.204 L2186.16 735.644 \n",
       "  L2185.17 735.107 L2184.18 734.863 L2183.2 734.653 L2182.21 734.427 L2181.23 734.158 L2180.24 733.697 L2179.25 733.159 L2178.27 732.46 L2177.28 731.767 L2176.3 730.901 \n",
       "  L2175.31 730.306 L2174.33 729.816 L2173.34 729.429 L2172.35 729.05 L2171.37 728.852 L2170.38 728.603 L2169.4 728.252 L2168.41 727.944 L2167.42 727.439 L2166.44 726.75 \n",
       "  L2165.45 726.03 L2164.47 725.39 L2163.48 724.723 L2162.49 724.211 L2161.51 723.859 L2160.52 723.34 L2159.54 722.776 L2158.55 722.212 L2157.56 721.723 L2156.58 721.164 \n",
       "  L2155.59 720.804 L2154.61 720.347 L2153.62 719.866 L2152.63 719.333 L2151.65 718.911 L2150.66 718.458 L2149.68 718.079 L2148.69 717.636 L2147.7 717.182 L2146.72 716.438 \n",
       "  L2145.73 715.71 L2144.75 715.109 L2143.76 714.58 L2142.77 714.056 L2141.79 713.682 L2140.8 713.311 L2139.82 712.806 L2138.83 712.283 L2137.84 711.77 L2136.86 711.379 \n",
       "  L2135.87 711.025 L2134.89 710.667 L2133.9 710.273 L2132.91 709.874 L2131.93 709.487 L2130.94 709.034 L2129.96 708.664 L2128.97 708.363 L2127.98 707.991 L2127 707.445 \n",
       "  L2126.01 706.946 L2125.03 706.472 L2124.04 705.99 L2123.05 705.507 L2122.07 705.121 L2121.08 704.689 L2120.1 704.247 L2119.11 703.735 L2118.12 703.254 L2117.14 702.801 \n",
       "  L2116.15 702.448 L2115.17 702.08 L2114.18 701.839 L2113.19 701.574 L2112.21 701.4 L2111.22 701.081 L2110.24 700.751 L2109.25 700.348 L2108.27 700.068 L2107.28 699.476 \n",
       "  L2106.29 698.894 L2105.31 698.281 L2104.32 697.648 L2103.34 696.911 L2102.35 696.506 L2101.36 696.1 L2100.38 695.809 L2099.39 695.577 L2098.41 695.186 L2097.42 694.538 \n",
       "  L2096.43 693.752 L2095.45 692.971 L2094.46 692.116 L2093.48 691.389 L2092.49 690.789 L2091.5 690.326 L2090.52 689.787 L2089.53 689.216 L2088.55 688.756 L2087.56 688.255 \n",
       "  L2086.57 687.881 L2085.59 687.402 L2084.6 686.971 L2083.62 686.505 L2082.63 686.147 L2081.64 685.794 L2080.66 685.445 L2079.67 685.084 L2078.69 684.587 L2077.7 684.13 \n",
       "  L2076.71 683.585 L2075.73 683.159 L2074.74 682.692 L2073.76 682.357 L2072.77 681.958 L2071.78 681.525 L2070.8 681.102 L2069.81 680.741 L2068.83 680.357 L2067.84 679.906 \n",
       "  L2066.85 679.463 L2065.87 678.87 L2064.88 678.314 L2063.9 677.84 L2062.91 677.334 L2061.92 676.935 L2060.94 676.373 L2059.95 675.809 L2058.97 675.056 L2057.98 674.409 \n",
       "  L2056.99 673.541 L2056.01 672.966 L2055.02 672.44 L2054.04 672.059 L2053.05 671.686 L2052.06 671.4 L2051.08 671.118 L2050.09 670.821 L2049.11 670.448 L2048.12 670.052 \n",
       "  L2047.14 669.746 L2046.15 669.423 L2045.16 669.043 L2044.18 668.741 L2043.19 668.383 L2042.21 668.054 L2041.22 667.754 L2040.23 667.379 L2039.25 666.818 L2038.26 666.326 \n",
       "  L2037.28 665.551 L2036.29 664.807 L2035.3 664.143 L2034.32 663.562 L2033.33 662.896 L2032.35 662.511 L2031.36 661.88 L2030.37 661.328 L2029.39 660.821 L2028.4 660.396 \n",
       "  L2027.42 660.008 L2026.43 659.844 L2025.44 659.622 L2024.46 659.447 L2023.47 659.199 L2022.49 658.714 L2021.5 658.23 L2020.51 657.791 L2019.53 657.355 L2018.54 656.852 \n",
       "  L2017.56 656.41 L2016.57 655.83 L2015.58 655.236 L2014.6 654.619 L2013.61 654.205 L2012.63 653.887 L2011.64 653.744 L2010.65 653.623 L2009.67 653.404 L2008.68 653.084 \n",
       "  L2007.7 652.767 L2006.71 652.281 L2005.72 651.697 L2004.74 651.212 L2003.75 650.813 L2002.77 650.471 L2001.78 650.093 L2000.79 649.772 L1999.81 649.368 L1998.82 648.75 \n",
       "  L1997.84 648.104 L1996.85 647.402 L1995.86 646.673 L1994.88 645.929 L1993.89 645.239 L1992.91 644.578 L1991.92 644.241 L1990.93 643.937 L1989.95 643.653 L1988.96 643.463 \n",
       "  L1987.98 643.237 L1986.99 642.851 L1986 642.399 L1985.02 641.972 L1984.03 641.539 L1983.05 641.125 L1982.06 640.82 L1981.08 640.559 L1980.09 640.364 L1979.1 640.118 \n",
       "  L1978.12 639.868 L1977.13 639.422 L1976.15 638.977 L1975.16 638.512 L1974.17 638.157 L1973.19 637.795 L1972.2 637.516 L1971.22 637.252 L1970.23 636.883 L1969.24 636.465 \n",
       "  L1968.26 635.942 L1967.27 635.478 L1966.29 634.907 L1965.3 634.396 L1964.31 633.888 L1963.33 633.25 L1962.34 632.557 L1961.36 631.993 L1960.37 631.332 L1959.38 630.481 \n",
       "  L1958.4 629.869 L1957.41 629.261 L1956.43 628.577 L1955.44 628.018 L1954.45 627.656 L1953.47 626.924 L1952.48 626.147 L1951.5 625.421 L1950.51 624.732 L1949.52 624.034 \n",
       "  L1948.54 623.796 L1947.55 623.444 L1946.57 623.136 L1945.58 622.859 L1944.59 622.463 L1943.61 621.938 L1942.62 621.474 L1941.64 620.926 L1940.65 620.271 L1939.66 619.654 \n",
       "  L1938.68 618.958 L1937.69 618.303 L1936.71 617.732 L1935.72 617.191 L1934.73 616.677 L1933.75 616.28 L1932.76 615.88 L1931.78 615.4 L1930.79 614.924 L1929.8 614.512 \n",
       "  L1928.82 614.128 L1927.83 613.729 L1926.85 613.532 L1925.86 613.353 L1924.87 613.086 L1923.89 612.807 L1922.9 612.489 L1921.92 611.896 L1920.93 611.277 L1919.95 610.641 \n",
       "  L1918.96 609.774 L1917.97 608.978 L1916.99 608.084 L1916 607.097 L1915.02 606.094 L1914.03 605.325 L1913.04 604.657 L1912.06 604.128 L1911.07 603.552 L1910.09 603.185 \n",
       "  L1909.1 602.635 L1908.11 602.026 L1907.13 601.48 L1906.14 601.131 L1905.16 600.604 L1904.17 599.972 L1903.18 599.325 L1902.2 598.759 L1901.21 598.207 L1900.23 597.755 \n",
       "  L1899.24 597.51 L1898.25 597.28 L1897.27 596.95 L1896.28 596.706 L1895.3 596.331 L1894.31 596.14 L1893.32 595.738 L1892.34 595.421 L1891.35 594.967 L1890.37 594.314 \n",
       "  L1889.38 593.408 L1888.39 592.663 L1887.41 591.894 L1886.42 591.141 L1885.44 590.766 L1884.45 590.516 L1883.46 590.435 L1882.48 590.322 L1881.49 590.197 L1880.51 589.997 \n",
       "  L1879.52 589.838 L1878.53 589.615 L1877.55 589.42 L1876.56 589.202 L1875.58 589.051 L1874.59 588.835 L1873.6 588.604 L1872.62 588.369 L1871.63 588.195 L1870.65 587.886 \n",
       "  L1869.66 587.59 L1868.67 587.305 L1867.69 587.01 L1866.7 586.678 L1865.72 586.318 L1864.73 585.998 L1863.74 585.647 L1862.76 585.318 L1861.77 585.012 L1860.79 584.825 \n",
       "  L1859.8 584.291 L1858.81 583.773 L1857.83 583.193 L1856.84 582.63 L1855.86 582.082 L1854.87 581.896 L1853.89 581.696 L1852.9 581.429 L1851.91 581.16 L1850.93 580.685 \n",
       "  L1849.94 579.943 L1848.96 579.097 L1847.97 578.278 L1846.98 577.454 L1846 576.784 L1845.01 576.3 L1844.03 575.851 L1843.04 575.494 L1842.05 574.993 L1841.07 574.444 \n",
       "  L1840.08 573.993 L1839.1 573.534 L1838.11 573.099 L1837.12 572.688 L1836.14 572.258 L1835.15 571.78 L1834.17 571.284 L1833.18 570.777 L1832.19 570.435 L1831.21 570.178 \n",
       "  L1830.22 569.769 L1829.24 569.544 L1828.25 569.108 L1827.26 568.656 L1826.28 568.161 L1825.29 567.849 L1824.31 567.539 L1823.32 567.468 L1822.33 567.174 L1821.35 566.981 \n",
       "  L1820.36 566.658 L1819.38 566.273 L1818.39 565.809 L1817.4 565.552 L1816.42 565.166 L1815.43 564.897 L1814.45 564.693 L1813.46 564.435 L1812.47 564.179 L1811.49 563.996 \n",
       "  L1810.5 563.77 L1809.52 563.482 L1808.53 563.166 L1807.54 562.857 L1806.56 562.275 L1805.57 561.863 L1804.59 561.481 L1803.6 561.232 L1802.61 560.886 L1801.63 560.815 \n",
       "  L1800.64 560.531 L1799.66 560.233 L1798.67 559.917 L1797.68 559.626 L1796.7 559.406 L1795.71 559.229 L1794.73 559.002 L1793.74 558.731 L1792.76 558.555 L1791.77 558.285 \n",
       "  L1790.78 557.985 L1789.8 557.679 L1788.81 557.495 L1787.83 557.264 L1786.84 556.9 L1785.85 556.579 L1784.87 556.355 L1783.88 556.096 L1782.9 555.753 L1781.91 555.57 \n",
       "  L1780.92 555.199 L1779.94 554.837 L1778.95 554.438 L1777.97 554.157 L1776.98 553.88 L1775.99 553.822 L1775.01 553.719 L1774.02 553.581 L1773.04 553.437 L1772.05 553.165 \n",
       "  L1771.06 552.799 L1770.08 552.291 L1769.09 551.835 L1768.11 551.283 L1767.12 550.886 L1766.13 550.453 L1765.15 550.047 L1764.16 549.534 L1763.18 549.002 L1762.19 548.501 \n",
       "  L1761.2 547.992 L1760.22 547.634 L1759.23 547.184 L1758.25 546.895 L1757.26 546.514 L1756.27 546.268 L1755.29 545.919 L1754.3 545.746 L1753.32 545.562 L1752.33 545.336 \n",
       "  L1751.34 545.166 L1750.36 545.047 L1749.37 544.872 L1748.39 544.545 L1747.4 544.251 L1746.41 543.881 L1745.43 543.572 L1744.44 543.337 L1743.46 543.107 L1742.47 542.905 \n",
       "  L1741.48 542.645 L1740.5 542.27 L1739.51 541.838 L1738.53 541.425 L1737.54 541.109 L1736.55 540.889 L1735.57 540.672 L1734.58 540.394 L1733.6 540.078 L1732.61 539.593 \n",
       "  L1731.62 539.08 L1730.64 538.589 L1729.65 538.141 L1728.67 537.856 L1727.68 537.515 L1726.7 537.211 L1725.71 536.919 L1724.72 536.695 L1723.74 536.435 L1722.75 536.322 \n",
       "  L1721.77 536.09 L1720.78 535.912 L1719.79 535.649 L1718.81 535.454 L1717.82 535.306 L1716.84 535.31 L1715.85 535.22 L1714.86 535.2 L1713.88 535.079 L1712.89 534.947 \n",
       "  L1711.91 534.695 L1710.92 534.481 L1709.93 534.186 L1708.95 533.894 L1707.96 533.573 L1706.98 533.256 L1705.99 532.818 L1705 532.454 L1704.02 532.035 L1703.03 531.475 \n",
       "  L1702.05 530.847 L1701.06 530.437 L1700.07 529.876 L1699.09 529.373 L1698.1 528.971 L1697.12 528.505 L1696.13 527.911 L1695.14 527.534 L1694.16 527.251 L1693.17 527.047 \n",
       "  L1692.19 526.823 L1691.2 526.698 L1690.21 526.324 L1689.23 525.999 L1688.24 525.536 L1687.26 525.294 L1686.27 525.038 L1685.28 524.88 L1684.3 524.551 L1683.31 524.21 \n",
       "  L1682.33 523.903 L1681.34 523.575 L1680.35 523.305 L1679.37 523.074 L1678.38 523.012 L1677.4 522.82 L1676.41 522.63 L1675.42 522.402 L1674.44 522.076 L1673.45 521.782 \n",
       "  L1672.47 521.603 L1671.48 521.384 L1670.49 521.155 L1669.51 521.023 L1668.52 520.827 L1667.54 520.643 L1666.55 520.421 L1665.57 520.308 L1664.58 520.054 L1663.59 519.644 \n",
       "  L1662.61 519.189 L1661.62 518.784 L1660.64 518.411 L1659.65 518.205 L1658.66 518.146 L1657.68 517.994 L1656.69 517.942 L1655.71 517.703 L1654.72 517.422 L1653.73 517.1 \n",
       "  L1652.75 516.891 L1651.76 516.479 L1650.78 516.135 L1649.79 515.807 L1648.8 515.513 L1647.82 515.088 L1646.83 514.778 L1645.85 514.633 L1644.86 514.427 L1643.87 514.08 \n",
       "  L1642.89 513.817 L1641.9 513.43 L1640.92 513.008 L1639.93 512.54 L1638.94 512.264 L1637.96 511.968 L1636.97 511.821 L1635.99 511.563 L1635 511.41 L1634.01 511.138 \n",
       "  L1633.03 510.874 L1632.04 510.531 L1631.06 510.112 L1630.07 509.727 L1629.08 509.356 L1628.1 508.996 L1627.11 508.662 L1626.13 508.417 L1625.14 507.98 L1624.15 507.498 \n",
       "  L1623.17 506.915 L1622.18 506.281 L1621.2 505.616 L1620.21 505.182 L1619.22 504.81 L1618.24 504.536 L1617.25 504.292 L1616.27 503.936 L1615.28 503.589 L1614.29 503.218 \n",
       "  L1613.31 502.777 L1612.32 502.257 L1611.34 501.81 L1610.35 501.317 L1609.36 500.746 L1608.38 500.221 L1607.39 499.899 L1606.41 499.731 L1605.42 499.443 L1604.43 499.203 \n",
       "  L1603.45 498.911 L1602.46 498.517 L1601.48 498.122 L1600.49 497.922 L1599.51 497.842 L1598.52 497.873 L1597.53 498.023 L1596.55 498.183 L1595.56 498.2 L1594.58 498.093 \n",
       "  L1593.59 497.96 L1592.6 497.762 L1591.62 497.511 L1590.63 497.356 L1589.65 497.241 L1588.66 497.241 L1587.67 496.903 L1586.69 496.622 L1585.7 496.341 L1584.72 495.684 \n",
       "  L1583.73 495.021 L1582.74 494.781 L1581.76 494.518 L1580.77 494.013 L1579.79 493.883 L1578.8 493.649 L1577.81 493.406 L1576.83 493.044 L1575.84 492.75 L1574.86 492.409 \n",
       "  L1573.87 491.981 L1572.88 491.315 L1571.9 490.752 L1570.91 490.348 L1569.93 490.029 L1568.94 489.773 L1567.95 489.745 L1566.97 489.577 L1565.98 489.263 L1565 489.042 \n",
       "  L1564.01 488.696 L1563.02 488.527 L1562.04 488.267 L1561.05 488.015 L1560.07 487.64 L1559.08 487.556 L1558.09 487.281 L1557.11 487.265 L1556.12 487.304 L1555.14 487.322 \n",
       "  L1554.15 487.179 L1553.16 487.025 L1552.18 486.655 L1551.19 486.339 L1550.21 485.899 L1549.22 485.638 L1548.23 485.153 L1547.25 484.871 L1546.26 484.526 L1545.28 484.473 \n",
       "  L1544.29 484.095 L1543.3 483.866 L1542.32 483.572 L1541.33 483.39 L1540.35 483.009 L1539.36 482.823 L1538.38 482.623 L1537.39 482.29 L1536.4 481.946 L1535.42 481.608 \n",
       "  L1534.43 481.174 L1533.45 480.773 L1532.46 480.429 L1531.47 480.06 L1530.49 479.762 L1529.5 479.344 L1528.52 478.93 L1527.53 478.431 L1526.54 477.984 L1525.56 477.526 \n",
       "  L1524.57 477.24 L1523.59 476.988 L1522.6 476.988 L1521.61 476.973 L1520.63 476.875 L1519.64 476.921 L1518.66 476.838 L1517.67 476.636 L1516.68 476.45 L1515.7 476.336 \n",
       "  L1514.71 476.096 L1513.73 475.854 L1512.74 475.622 L1511.75 475.183 L1510.77 474.818 L1509.78 474.486 L1508.8 474.143 L1507.81 473.842 L1506.82 473.653 L1505.84 473.398 \n",
       "  L1504.85 473.128 L1503.87 472.847 L1502.88 472.438 L1501.89 472.039 L1500.91 471.676 L1499.92 471.307 L1498.94 471.02 L1497.95 470.729 L1496.96 470.484 L1495.98 470.135 \n",
       "  L1494.99 469.926 L1494.01 469.705 L1493.02 469.619 L1492.03 469.385 L1491.05 469.202 L1490.06 468.746 L1489.08 468.095 L1488.09 467.374 L1487.1 466.873 L1486.12 466.229 \n",
       "  L1485.13 465.807 L1484.15 465.607 L1483.16 465.365 L1482.17 464.914 L1481.19 464.628 L1480.2 464.121 L1479.22 463.564 L1478.23 463.111 L1477.24 462.7 L1476.26 462.335 \n",
       "  L1475.27 462.021 L1474.29 461.709 L1473.3 461.329 L1472.32 460.919 L1471.33 460.663 L1470.34 460.55 L1469.36 460.367 L1468.37 460.252 L1467.39 460.134 L1466.4 459.739 \n",
       "  L1465.41 459.157 L1464.43 458.668 L1463.44 458.065 L1462.46 457.55 L1461.47 456.961 L1460.48 456.505 L1459.5 456.061 L1458.51 455.554 L1457.53 455.043 L1456.54 454.671 \n",
       "  L1455.55 453.978 L1454.57 453.168 L1453.58 452.553 L1452.6 451.955 L1451.61 451.319 L1450.62 450.734 L1449.64 450.101 L1448.65 449.397 L1447.67 448.645 L1446.68 447.81 \n",
       "  L1445.69 447.099 L1444.71 446.477 L1443.72 445.886 L1442.74 445.332 L1441.75 444.942 L1440.76 444.792 L1439.78 444.691 L1438.79 444.531 L1437.81 444.275 L1436.82 443.986 \n",
       "  L1435.83 443.557 L1434.85 443.152 L1433.86 442.739 L1432.88 442.445 L1431.89 442.112 L1430.9 441.84 L1429.92 441.741 L1428.93 441.812 L1427.95 441.587 L1426.96 441.593 \n",
       "  L1425.97 441.468 L1424.99 441.174 L1424 440.959 L1423.02 441.085 L1422.03 440.992 L1421.04 440.97 L1420.06 440.949 L1419.07 440.638 L1418.09 440.25 L1417.1 439.756 \n",
       "  L1416.11 439.16 L1415.13 438.562 L1414.14 438.078 L1413.16 437.587 L1412.17 437.173 L1411.19 436.895 L1410.2 436.702 L1409.21 436.429 L1408.23 436.172 L1407.24 436.011 \n",
       "  L1406.26 435.698 L1405.27 435.412 L1404.28 435.227 L1403.3 435.052 L1402.31 434.841 L1401.33 434.717 L1400.34 434.452 L1399.35 434.027 L1398.37 433.491 L1397.38 432.673 \n",
       "  L1396.4 431.847 L1395.41 430.681 L1394.42 429.496 L1393.44 428.261 L1392.45 427.016 L1391.47 425.825 L1390.48 424.997 L1389.49 424.28 L1388.51 423.487 L1387.52 422.939 \n",
       "  L1386.54 422.448 L1385.55 421.935 L1384.56 421.432 L1383.58 420.88 L1382.59 420.326 L1381.61 419.592 L1380.62 418.586 L1379.63 417.632 L1378.65 416.869 L1377.66 416.094 \n",
       "  L1376.68 415.227 L1375.69 414.601 L1374.7 413.941 L1373.72 413.349 L1372.73 412.738 L1371.75 412.328 L1370.76 412.012 L1369.77 411.4 L1368.79 410.82 L1367.8 410.306 \n",
       "  L1366.82 409.879 L1365.83 409.302 L1364.84 409.05 L1363.86 408.631 L1362.87 408.01 L1361.89 407.373 L1360.9 406.824 L1359.91 406.317 L1358.93 405.882 L1357.94 405.396 \n",
       "  L1356.96 404.812 L1355.97 404.213 L1354.98 403.384 L1354 402.619 L1353.01 401.991 L1352.03 401.323 L1351.04 400.462 L1350.05 399.749 L1349.07 398.821 L1348.08 398.028 \n",
       "  L1347.1 397.282 L1346.11 396.861 L1345.13 396.501 L1344.14 396.368 L1343.15 396.239 L1342.17 396.168 L1341.18 395.859 L1340.2 395.438 L1339.21 394.97 L1338.22 394.482 \n",
       "  L1337.24 393.917 L1336.25 393.461 L1335.27 392.912 L1334.28 392.384 L1333.29 391.841 L1332.31 391.125 L1331.32 390.23 L1330.34 389.481 L1329.35 388.418 L1328.36 387.179 \n",
       "  L1327.38 386.152 L1326.39 385.089 L1325.41 383.881 L1324.42 382.991 L1323.43 382.179 L1322.45 381.033 L1321.46 380.163 L1320.48 379.096 L1319.49 377.941 L1318.5 376.748 \n",
       "  L1317.52 375.901 L1316.53 374.853 L1315.55 373.972 L1314.56 372.913 L1313.57 371.597 L1312.59 370.188 L1311.6 368.924 L1310.62 367.71 L1309.63 366.622 L1308.64 365.821 \n",
       "  L1307.66 365.068 L1306.67 364.24 L1305.69 363.514 L1304.7 362.712 L1303.71 362.013 L1302.73 361.355 L1301.74 360.747 L1300.76 360.243 L1299.77 359.914 L1298.78 359.595 \n",
       "  L1297.8 359.242 L1296.81 358.797 L1295.83 358.146 L1294.84 357.389 L1293.85 356.653 L1292.87 355.724 L1291.88 354.966 L1290.9 354.201 L1289.91 353.699 L1288.92 352.824 \n",
       "  L1287.94 352.072 L1286.95 351.048 L1285.97 350.045 L1284.98 348.717 L1284 347.841 L1283.01 346.816 L1282.02 346.096 L1281.04 345.36 L1280.05 344.812 L1279.07 344.144 \n",
       "  L1278.08 343.693 L1277.09 342.974 L1276.11 342.319 L1275.12 341.663 L1274.14 340.939 L1273.15 340.263 L1272.16 339.828 L1271.18 339.405 L1270.19 338.832 L1269.21 338.291 \n",
       "  L1268.22 337.649 L1267.23 336.979 L1266.25 336.255 L1265.26 335.63 L1264.28 334.951 L1263.29 334.236 L1262.3 333.483 L1261.32 332.705 L1260.33 331.876 L1259.35 331.168 \n",
       "  L1258.36 330.425 L1257.37 329.561 L1256.39 328.73 L1255.4 327.847 L1254.42 326.859 L1253.43 326.003 L1252.44 325.369 L1251.46 324.787 L1250.47 324.254 L1249.49 323.888 \n",
       "  L1248.5 323.542 L1247.51 323.074 L1246.53 322.716 L1245.54 322.344 L1244.56 321.755 L1243.57 320.936 L1242.58 320.153 L1241.6 319.294 L1240.61 318.491 L1239.63 317.793 \n",
       "  L1238.64 317.336 L1237.65 316.892 L1236.67 316.498 L1235.68 316.012 L1234.7 315.54 L1233.71 314.839 L1232.72 314.052 L1231.74 313.082 L1230.75 312.235 L1229.77 311.397 \n",
       "  L1228.78 310.596 L1227.79 309.794 L1226.81 309.199 L1225.82 308.504 L1224.84 307.838 L1223.85 307.067 L1222.86 306.392 L1221.88 305.333 L1220.89 304.3 L1219.91 303.109 \n",
       "  L1218.92 302.135 L1217.94 300.969 L1216.95 300.114 L1215.96 299.114 L1214.98 298.016 L1213.99 296.989 L1213.01 296.089 L1212.02 294.952 L1211.03 293.78 L1210.05 292.724 \n",
       "  L1209.06 291.461 L1208.08 290.195 L1207.09 289.152 L1206.1 288.437 L1205.12 287.638 L1204.13 286.842 L1203.15 285.957 L1202.16 284.771 L1201.17 283.54 L1200.19 282.47 \n",
       "  L1199.2 281.709 L1198.22 280.857 L1197.23 280.314 L1196.24 279.689 L1195.26 279.24 L1194.27 278.505 L1193.29 277.956 L1192.3 277.468 L1191.31 277.029 L1190.33 276.389 \n",
       "  L1189.34 275.795 L1188.36 275.037 L1187.37 274.223 L1186.38 273.517 L1185.4 272.901 L1184.41 272.117 L1183.43 271.416 L1182.44 270.601 L1181.45 269.478 L1180.47 268.128 \n",
       "  L1179.48 266.872 L1178.5 265.482 L1177.51 264.192 L1176.52 262.951 L1175.54 261.987 L1174.55 260.895 L1173.57 260.091 L1172.58 259.17 L1171.59 258.387 L1170.61 257.43 \n",
       "  L1169.62 256.853 L1168.64 255.825 L1167.65 254.893 L1166.66 253.653 L1165.68 252.313 L1164.69 250.898 L1163.71 249.866 L1162.72 248.803 L1161.73 248.1 L1160.75 247.406 \n",
       "  L1159.76 246.681 L1158.78 245.861 L1157.79 245.211 L1156.8 244.639 L1155.82 244.188 L1154.83 243.68 L1153.85 243.28 L1152.86 242.778 L1151.88 242.078 L1150.89 241.4 \n",
       "  L1149.9 240.747 L1148.92 240.181 L1147.93 239.47 L1146.95 238.972 L1145.96 238.505 L1144.97 238.127 L1143.99 237.691 L1143 237.246 L1142.02 236.724 L1141.03 235.956 \n",
       "  L1140.04 235.176 L1139.06 234.224 L1138.07 233.568 L1137.09 232.787 L1136.1 232.279 L1135.11 231.637 L1134.13 231.122 L1133.14 230.579 L1132.16 230.026 L1131.17 229.469 \n",
       "  L1130.18 229.024 L1129.2 228.676 L1128.21 228.072 L1127.23 227.581 L1126.24 227.02 L1125.25 226.499 L1124.27 225.895 L1123.28 225.515 L1122.3 225.125 L1121.31 224.708 \n",
       "  L1120.32 224.344 L1119.34 223.803 L1118.35 223.125 L1117.37 222.376 L1116.38 221.529 L1115.39 220.532 L1114.41 219.695 L1113.42 218.7 L1112.44 217.55 L1111.45 216.571 \n",
       "  L1110.46 215.678 L1109.48 214.875 L1108.49 214.268 L1107.51 213.897 L1106.52 213.507 L1105.53 213.062 L1104.55 212.447 L1103.56 211.926 L1102.58 211.393 L1101.59 210.861 \n",
       "  L1100.6 210.28 L1099.62 209.546 L1098.63 208.625 L1097.65 207.385 L1096.66 206.202 L1095.67 204.898 L1094.69 203.892 L1093.7 202.707 L1092.72 201.808 L1091.73 200.725 \n",
       "  L1090.75 199.892 L1089.76 198.957 L1088.77 198.344 L1087.79 197.541 L1086.8 196.822 L1085.82 196.076 L1084.83 195.387 L1083.84 194.671 L1082.86 194.083 L1081.87 193.376 \n",
       "  L1080.89 192.642 L1079.9 191.925 L1078.91 191.266 L1077.93 190.547 L1076.94 190.009 L1075.96 189.435 L1074.97 188.819 L1073.98 187.986 L1073 187.274 L1072.01 186.552 \n",
       "  L1071.03 185.916 L1070.04 185.153 L1069.05 184.562 L1068.07 184.093 L1067.08 183.796 L1066.1 183.37 L1065.11 183.165 L1064.12 182.894 L1063.14 182.54 L1062.15 182.017 \n",
       "  L1061.17 181.675 L1060.18 181.203 L1059.19 180.824 L1058.21 180.528 L1057.22 180.239 L1056.24 179.89 L1055.25 179.546 L1054.26 179.107 L1053.28 178.609 L1052.29 178.131 \n",
       "  L1051.31 177.56 L1050.32 176.994 L1049.33 176.486 L1048.35 176.07 L1047.36 175.473 L1046.38 175.014 L1045.39 174.561 L1044.4 174.314 L1043.42 173.968 L1042.43 173.869 \n",
       "  L1041.45 173.595 L1040.46 173.606 L1039.47 173.303 L1038.49 173.003 L1037.5 172.457 L1036.52 171.969 L1035.53 171.384 L1034.54 170.918 L1033.56 170.502 L1032.57 170.38 \n",
       "  L1031.59 170.343 L1030.6 170.193 L1029.61 169.964 L1028.63 169.637 L1027.64 169.348 L1026.66 168.977 L1025.67 168.535 L1024.69 168.212 L1023.7 167.988 L1022.71 167.598 \n",
       "  L1021.73 167.312 L1020.74 167.077 L1019.76 166.775 L1018.77 166.547 L1017.78 166.211 L1016.8 165.957 L1015.81 165.691 L1014.83 165.479 L1013.84 165.092 L1012.85 164.952 \n",
       "  L1011.87 164.71 L1010.88 164.653 L1009.9 164.662 L1008.91 164.858 L1007.92 164.921 L1006.94 165.054 L1005.95 165.028 L1004.97 165.024 L1003.98 164.936 L1002.99 164.867 \n",
       "  L1002.01 164.657 L1001.02 164.53 L1000.04 164.376 L999.05 164.086 L998.064 163.856 L997.078 163.685 L996.092 163.46 L995.106 163.248 L994.12 163.203 L993.134 163.056 \n",
       "  L992.148 162.912 L991.162 162.862 L990.176 162.75 L989.19 162.462 L988.204 162.36 L987.218 162.227 L986.232 162.095 L985.246 161.956 L984.26 162.066 L983.274 162.094 \n",
       "  L982.288 162.18 L981.302 162.134 L980.317 162.298 L979.331 162.088 L978.345 161.902 L977.359 161.691 L976.373 161.699 L975.387 161.506 L974.401 161.609 L973.415 161.701 \n",
       "  L972.429 161.926 L971.443 162.09 L970.457 162.171 L969.471 162.315 L968.485 162.399 L967.499 162.418 L966.513 162.333 L965.527 162.323 L964.541 162.225 L963.555 162.04 \n",
       "  L962.569 161.712 L961.583 161.498 L960.597 161.397 L959.611 161.232 L958.625 161.133 L957.639 161.066 L956.653 160.84 L955.667 160.498 L954.681 160.22 L953.695 160.031 \n",
       "  L952.709 159.909 L951.723 160.026 L950.737 160.264 L949.751 160.455 L948.766 160.626 L947.78 160.754 L946.794 160.654 L945.808 160.477 L944.822 160.38 L943.836 160.538 \n",
       "  L942.85 160.7 L941.864 160.927 L940.878 161.126 L939.892 161.469 L938.906 161.675 L937.92 162.105 L936.934 162.494 L935.948 162.969 L934.962 163.372 L933.976 163.618 \n",
       "  L932.99 163.787 L932.004 164.031 L931.018 163.992 L930.032 163.833 L929.046 163.568 L928.06 163.268 L927.074 162.902 L926.088 162.943 L925.102 162.907 L924.116 162.996 \n",
       "  L923.13 162.967 L922.144 163.088 L921.158 162.866 L920.172 162.88 L919.186 162.942 L918.2 163.352 L917.215 163.785 L916.229 164.358 L915.243 164.935 L914.257 165.492 \n",
       "  L913.271 165.882 L912.285 166.37 L911.299 166.918 L910.313 167.348 L909.327 167.788 L908.341 168.327 L907.355 168.816 L906.369 169.351 L905.383 169.942 L904.397 170.587 \n",
       "  L903.411 171.277 L902.425 171.961 L901.439 172.84 L900.453 173.637 L899.467 174.599 L898.481 175.249 L897.495 175.833 L896.509 176.125 L895.523 176.594 L894.537 176.813 \n",
       "  L893.551 177.441 L892.565 177.967 L891.579 178.696 L890.593 179.311 L889.607 180.242 L888.621 180.871 L887.635 181.671 L886.649 182.384 L885.663 183.244 L884.678 184.308 \n",
       "  L883.692 185.255 L882.706 186.346 L881.72 187.21 L880.734 188.029 L879.748 188.356 L878.762 188.846 L877.776 188.999 L876.79 189.593 L875.804 190.197 L874.818 190.742 \n",
       "  L873.832 191.246 L872.846 191.829 L871.86 192.104 L870.874 192.259 L869.888 192.492 L868.902 192.707 L867.916 192.834 L866.93 192.935 L865.944 193.052 L864.958 193.12 \n",
       "  L863.972 193.516 L862.986 193.931 L862 194.448 L861.014 194.89 L860.028 195.717 L859.042 196.165 L858.056 196.758 L857.07 197.3 L856.084 198.011 L855.098 198.442 \n",
       "  L854.112 199.072 L853.127 199.558 L852.141 200.207 L851.155 200.719 L850.169 201.185 L849.183 201.534 L848.197 201.902 L847.211 202.361 L846.225 202.755 L845.239 203.334 \n",
       "  L844.253 203.893 L843.267 204.596 L842.281 205.035 L841.295 205.55 L840.309 205.992 L839.323 206.601 L838.337 207.045 L837.351 207.429 L836.365 207.818 L835.379 208.172 \n",
       "  L834.393 208.491 L833.407 208.803 L832.421 209.202 L831.435 209.559 L830.449 209.778 L829.463 209.999 L828.477 210.252 L827.491 210.512 L826.505 210.801 L825.519 211.272 \n",
       "  L824.533 211.648 L823.547 212.229 L822.561 212.786 L821.576 213.382 L820.59 213.881 L819.604 214.586 L818.618 215.014 L817.632 215.675 L816.646 216.225 L815.66 217.004 \n",
       "  L814.674 217.736 L813.688 218.52 L812.702 219.211 L811.716 219.912 L810.73 220.478 L809.744 220.868 L808.758 221.279 L807.772 221.674 L806.786 222.23 L805.8 222.865 \n",
       "  L804.814 223.485 L803.828 224.26 L802.842 224.866 L801.856 225.541 L800.87 225.968 L799.884 226.407 L798.898 226.616 L797.912 226.898 L796.926 226.949 L795.94 227.19 \n",
       "  L794.954 227.544 L793.968 228.059 L792.982 228.557 L791.996 229.119 L791.01 229.474 L790.024 229.826 L789.039 230.018 L788.053 230.313 L787.067 230.613 L786.081 231.227 \n",
       "  L785.095 231.642 L784.109 232.264 L783.123 232.968 L782.137 233.691 L781.151 235.138 L780.165 236.473 L779.179 237.972 L778.193 239.267 L777.207 240.68 L776.221 241.004 \n",
       "  L775.235 242.081 L774.249 242.927 L773.263 243.813 L772.277 244.675 L771.291 245.66 L770.305 246.427 L769.319 247.174 L768.333 248.476 L767.347 249.67 L766.361 251.32 \n",
       "  L765.375 252.657 L764.389 254.315 L763.403 255.477 L762.417 256.61 L761.431 257.307 L760.445 258.022 L759.459 258.292 L758.473 258.381 L757.488 258.436 L756.502 258.523 \n",
       "  L755.516 258.481 L754.53 258.705 L753.544 258.934 L752.558 259.501 L751.572 259.931 L750.586 260.525 L749.6 260.911 L748.614 261.478 L747.628 261.884 L746.642 262.697 \n",
       "  L745.656 263.395 L744.67 264.338 L743.684 265.278 L742.698 266.593 L741.712 267.63 L740.726 268.848 L739.74 269.773 L738.754 270.827 L737.768 271.362 L736.782 271.957 \n",
       "  L735.796 272.337 L734.81 273.243 L733.824 273.969 L732.838 274.693 L731.852 275.241 L730.866 275.768 L729.88 275.792 L728.894 275.805 L727.908 275.816 L726.922 276.025 \n",
       "  L725.937 276.366 L724.951 276.642 L723.965 276.872 L722.979 277.029 L721.993 277.101 L721.007 277.04 L720.021 277.02 L719.035 276.966 L718.049 277.233 L717.063 277.409 \n",
       "  L716.077 277.852 L715.091 278.352 L714.105 279.048 L713.119 279.509 L712.133 280.523 L711.147 281.335 L710.161 282.234 L709.175 282.874 L708.189 283.921 L707.203 284.353 \n",
       "  L706.217 284.71 L705.231 285.101 L704.245 285.563 L703.259 285.712 L702.273 285.955 L701.287 286.344 L700.301 286.642 L699.315 287.04 L698.329 287.562 L697.343 288.135 \n",
       "  L696.357 288.645 L695.371 289.1 L694.385 289.579 L693.4 289.863 L692.414 290.071 L691.428 290.621 L690.442 291.195 L689.456 291.716 L688.47 292.188 L687.484 292.698 \n",
       "  L686.498 292.85 L685.512 293.034 L684.526 293.149 L683.54 293.36 L682.554 293.675 L681.568 294.006 L680.582 294.251 L679.596 294.661 L678.61 294.99 L677.624 295.143 \n",
       "  L676.638 295.346 L675.652 295.518 L674.666 295.585 L673.68 295.612 L672.694 295.891 L671.708 296.068 L670.722 296.584 L669.736 297.03 L668.75 297.534 L667.764 297.836 \n",
       "  L666.778 298.4 L665.792 298.691 L664.806 299.208 L663.82 299.955 L662.834 300.733 L661.849 301.393 L660.863 302.054 L659.877 302.686 L658.891 303.124 L657.905 303.565 \n",
       "  L656.919 303.969 L655.933 304.448 L654.947 304.762 L653.961 304.98 L652.975 305.204 L651.989 305.305 L651.003 305.304 L650.017 305.371 L649.031 305.438 L648.045 305.737 \n",
       "  L647.059 306.023 L646.073 306.344 L645.087 306.694 L644.101 307.159 L643.115 307.32 L642.129 307.54 L641.143 307.76 L640.157 308.081 L639.171 308.342 L638.185 308.687 \n",
       "  L637.199 309.046 L636.213 309.417 L635.227 309.724 L634.241 309.97 L633.255 310.243 L632.269 310.416 L631.283 310.601 L630.298 310.71 L629.312 310.826 L628.326 310.869 \n",
       "  L627.34 311.027 L626.354 311.176 L625.368 311.286 L624.382 311.461 L623.396 311.634 L622.41 311.65 L621.424 311.655 L620.438 311.692 L619.452 311.808 L618.466 311.814 \n",
       "  L617.48 311.999 L616.494 312.202 L615.508 312.525 L614.522 312.725 L613.536 313.152 L612.55 313.502 L611.564 313.912 L610.578 314.131 L609.592 314.401 L608.606 314.501 \n",
       "  L607.62 314.71 L606.634 314.846 L605.648 315.047 L604.662 315.223 L603.676 315.447 L602.69 315.533 L601.704 315.587 L600.718 315.566 L599.732 315.404 L598.746 315.253 \n",
       "  L597.761 315.191 L596.775 315.142 L595.789 315.139 L594.803 315.331 L593.817 315.499 L592.831 315.593 L591.845 315.72 L590.859 315.91 L589.873 316.096 L588.887 316.33 \n",
       "  L587.901 316.603 L586.915 316.942 L585.929 317.327 L584.943 317.653 L583.957 317.877 L582.971 318.047 L581.985 318.126 L580.999 317.96 L580.013 317.71 L579.027 317.508 \n",
       "  L578.041 317.355 L577.055 317.254 L576.069 317.263 L575.083 317.445 L574.097 317.642 L573.111 317.821 L572.125 317.959 L571.139 318.174 L570.153 318.295 L569.167 318.439 \n",
       "  L568.181 318.561 L567.195 318.671 L566.21 318.698 L565.224 318.818 L564.238 318.866 L563.252 318.968 L562.266 319.057 L561.28 319.222 L560.294 319.241 L559.308 319.275 \n",
       "  L558.322 319.207 L557.336 319.293 L556.35 319.293 L555.364 319.381 L554.378 319.486 L553.392 319.605 L552.406 319.545 L551.42 319.516 L550.434 319.457 L549.448 319.396 \n",
       "  L548.462 319.326 L547.476 319.337 L546.49 319.339 L545.504 319.349 L544.518 319.269 L543.532 319.276 L542.546 319.112 L541.56 318.924 L540.574 318.699 L539.588 318.601 \n",
       "  L538.602 318.433 L537.616 318.461 L536.63 318.5 L535.644 318.578 L534.659 318.556 L533.673 318.551 L532.687 318.353 L531.701 318.136 L530.715 317.843 L529.729 317.579 \n",
       "  L528.743 317.361 L527.757 317.263 L526.771 317.216 L525.785 317.226 L524.799 317.229 L523.813 317.135 L522.827 317.021 L521.841 316.881 L520.855 316.718 L519.869 316.52 \n",
       "  L518.883 316.37 L517.897 316.24 L516.911 316.115 L515.925 315.884 L514.939 315.726 L513.953 315.607 L512.967 315.49 L511.981 315.388 L510.995 315.437 L510.009 315.514 \n",
       "  L509.023 315.595 L508.037 315.692 L507.051 315.738 L506.065 315.808 L505.079 315.845 L504.093 315.87 L503.107 315.86 L502.122 315.857 L501.136 315.825 L500.15 315.796 \n",
       "  L499.164 315.767 L498.178 315.754 L497.192 315.782 L496.206 315.803 L495.22 315.817 L494.234 315.844 L493.248 315.852 L492.262 315.85 L491.276 315.818 L490.29 315.797 \n",
       "  L489.304 315.724 L488.318 315.624 L487.332 315.52 L486.346 315.401 L485.36 315.274 L484.374 315.185 L483.388 315.204 L482.402 315.211 L481.416 315.29 L480.43 315.371 \n",
       "  L479.444 315.403 L478.458 315.378 L477.472 315.365 L476.486 315.307 L475.5 315.231 L474.514 315.248 L473.528 315.208 L472.542 315.166 L471.556 315.14 L470.571 315.097 \n",
       "  L469.585 315.012 L468.599 314.992 L467.613 314.984 L466.627 314.973 L465.641 314.962 L464.655 314.893 L463.669 314.821 L462.683 314.757 L461.697 314.688 L460.711 314.623 \n",
       "  L459.725 314.559 L458.739 314.482 L457.753 314.384 L456.767 314.294 L455.781 314.249 L454.795 314.24 L453.809 314.221 L452.823 314.192 L451.837 314.147 L450.851 314.057 \n",
       "  L449.865 313.874 L448.879 313.701 L447.893 313.481 L446.907 313.297 L445.921 313.137 L444.935 313.029 L443.949 312.904 L442.963 312.798 L441.977 312.669 L440.991 312.546 \n",
       "  L440.005 312.337 L439.02 312.147 L438.034 311.998 L437.048 311.852 L436.062 311.748 L435.076 311.794 L434.09 311.728 L433.104 311.655 L432.118 311.576 L431.132 311.37 \n",
       "  L430.146 311.114 L429.16 310.933 L428.174 310.751 L427.188 310.58 L426.202 310.481 L425.216 310.43 L424.23 310.364 L423.244 310.276 L422.258 310.174 L421.272 309.988 \n",
       "  L420.286 309.706 L419.3 309.569 L418.314 309.629 L417.328 309.657 L416.342 309.787 L415.356 310.019 L414.37 310.028 L413.384 309.878 L412.398 309.764 L411.412 309.645 \n",
       "  L410.426 309.483 L409.44 309.444 L408.454 309.328 L407.468 309.2 L406.483 309.081 L405.497 308.991 L404.511 308.81 L403.525 308.691 L402.539 308.568 L401.553 308.438 \n",
       "  L400.567 308.364 L399.581 308.29 L398.595 308.151 L397.609 307.945 L396.623 307.74 L395.637 307.404 L394.651 307.163 L393.665 307.029 L392.679 306.999 L391.693 306.939 \n",
       "  L390.707 306.852 L389.721 306.758 L388.735 306.496 L387.749 306.138 L386.763 305.81 L385.777 305.512 L384.791 305.318 L383.805 305.202 L382.819 305.239 L381.833 305.237 \n",
       "  L380.847 305.312 L379.861 305.292 L378.875 305.336 L377.889 305.294 L376.903 305.29 L375.917 305.273 L374.932 305.193 L373.946 305.272 L372.96 305.326 L371.974 305.335 \n",
       "  L370.988 305.363 L370.002 305.442 L369.016 305.285 L368.03 305.152 L367.044 304.757 L366.058 304.378 L365.072 303.99 L364.086 303.672 L363.1 303.362 L362.114 303.442 \n",
       "  L361.128 303.465 L360.142 303.508 L359.156 303.541 L358.17 303.574 L357.184 303.504 L356.198 303.45 L355.212 303.328 L354.226 303.219 L353.24 303.133 L352.254 303.068 \n",
       "  L351.268 303.026 L350.282 303.053 L349.296 302.899 L348.31 302.722 L347.324 302.538 L346.338 302.356 L345.352 302.172 L344.366 302.166 L343.381 302.161 L342.395 302.162 \n",
       "  L341.409 302.165 L340.423 302.168 L339.437 302.169 L338.451 302.168 L337.465 302.167 L336.479 302.162 L335.493 302.157 L334.507 302.155 L333.521 302.154 L332.535 302.154 \n",
       "  L331.549 302.154 L330.563 302.154 L329.577 302.154 L328.591 302.154 L327.605 302.597 L326.619 303.04 L325.633 303.261 L324.647 303.63 L323.661 304.368 L322.675 304.368 \n",
       "   Z\n",
       "  \" fill=\"#e26f46\" fill-rule=\"evenodd\" fill-opacity=\"0.5\"/>\n",
       "<polyline clip-path=\"url(#clip672)\" style=\"stroke:#e26f46; stroke-width:4; stroke-opacity:1; fill:none\" points=\"\n",
       "  322.675,304.368 323.661,304.368 324.647,304.368 325.633,304.368 326.619,304.368 327.605,304.368 328.591,304.368 329.577,304.368 330.563,304.368 331.549,304.368 \n",
       "  332.535,304.368 333.521,304.368 334.507,304.369 335.493,304.371 336.479,304.376 337.465,304.381 338.451,304.382 339.437,304.383 340.423,304.382 341.409,304.379 \n",
       "  342.395,304.376 343.381,304.375 344.366,304.38 345.352,304.386 346.338,304.57 347.324,304.752 348.31,304.936 349.296,305.113 350.282,305.29 351.268,305.285 \n",
       "  352.254,305.35 353.24,305.438 354.226,305.547 355.212,305.656 356.198,305.779 357.184,305.832 358.17,305.902 359.156,305.951 360.142,306 361.128,306.04 \n",
       "  362.114,306.1 363.1,306.126 364.086,306.459 365.072,306.801 366.058,307.212 367.044,307.614 368.03,308.011 369.016,308.145 370.002,308.303 370.988,308.412 \n",
       "  371.974,308.572 372.96,308.759 373.946,308.901 374.932,309.017 375.917,309.116 376.903,309.153 377.889,309.165 378.875,309.218 379.861,309.264 380.847,309.363 \n",
       "  381.833,309.475 382.819,309.663 383.805,309.811 384.791,310.035 385.777,310.338 386.763,310.637 387.749,310.983 388.735,311.353 389.721,311.648 390.707,311.808 \n",
       "  391.693,311.96 392.679,312.069 393.665,312.154 394.651,312.316 395.637,312.553 396.623,312.886 397.609,313.146 398.595,313.406 399.581,313.603 400.567,313.735 \n",
       "  401.553,313.863 402.539,313.992 403.525,314.112 404.511,314.23 405.497,314.367 406.483,314.417 407.468,314.493 408.454,314.578 409.44,314.652 410.426,314.692 \n",
       "  411.412,314.853 412.398,314.975 413.384,315.095 414.37,315.25 415.356,315.433 416.342,315.5 417.328,315.66 418.314,315.921 419.3,316.138 420.286,316.364 \n",
       "  421.272,316.627 422.258,316.8 423.244,316.886 424.23,316.974 425.216,317.041 426.202,317.093 427.188,317.191 428.174,317.361 429.16,317.536 430.146,317.709 \n",
       "  431.132,317.957 432.118,318.16 433.104,318.238 434.09,318.314 435.076,318.383 436.062,318.339 437.048,318.447 438.034,318.601 439.02,318.758 440.005,318.961 \n",
       "  440.991,319.187 441.977,319.329 442.963,319.471 443.949,319.627 444.935,319.794 445.921,319.942 446.907,320.141 447.893,320.367 448.879,320.591 449.865,320.774 \n",
       "  450.851,320.97 451.837,321.068 452.823,321.133 453.809,321.184 454.795,321.226 455.781,321.253 456.767,321.323 457.753,321.434 458.739,321.55 459.725,321.642 \n",
       "  460.711,321.734 461.697,321.821 462.683,321.905 463.669,321.984 464.655,322.074 465.641,322.164 466.627,322.197 467.613,322.234 468.599,322.27 469.585,322.323 \n",
       "  470.571,322.445 471.556,322.573 472.542,322.676 473.528,322.796 474.514,322.909 475.5,322.939 476.486,323.015 477.472,323.073 478.458,323.117 479.444,323.171 \n",
       "  480.43,323.241 481.416,323.261 482.402,323.279 483.388,323.341 484.374,323.389 485.36,323.483 486.346,323.617 487.332,323.753 488.318,323.87 489.304,323.99 \n",
       "  490.29,324.077 491.276,324.153 492.262,324.228 493.248,324.278 494.234,324.326 495.22,324.361 496.206,324.363 497.192,324.364 498.178,324.363 499.164,324.367 \n",
       "  500.15,324.366 501.136,324.372 502.122,324.393 503.107,324.414 504.093,324.46 505.079,324.53 506.065,324.593 507.051,324.644 508.037,324.695 509.023,324.727 \n",
       "  510.009,324.733 510.995,324.74 511.981,324.751 512.967,324.9 513.953,325.069 514.939,325.244 515.925,325.449 516.911,325.718 517.897,325.918 518.883,326.092 \n",
       "  519.869,326.314 520.855,326.585 521.841,326.842 522.827,327.05 523.813,327.258 524.799,327.419 525.785,327.516 526.771,327.604 527.757,327.747 528.743,327.922 \n",
       "  529.729,328.243 530.715,328.573 531.701,328.913 532.687,329.192 533.673,329.444 534.659,329.549 535.644,329.697 536.63,329.795 537.616,329.907 538.602,330.069 \n",
       "  539.588,330.366 540.574,330.605 541.56,330.928 542.546,331.254 543.532,331.524 544.518,331.659 545.504,331.855 546.49,332.011 547.476,332.138 548.462,332.275 \n",
       "  549.448,332.458 550.434,332.641 551.42,332.783 552.406,332.935 553.392,333.087 554.378,333.195 555.364,333.301 556.35,333.431 557.336,333.618 558.322,333.844 \n",
       "  559.308,334.073 560.294,334.249 561.28,334.417 562.266,334.51 563.252,334.559 564.238,334.625 565.224,334.701 566.21,334.753 567.195,334.812 568.181,334.869 \n",
       "  569.167,334.891 570.153,334.906 571.139,334.927 572.125,334.963 573.111,334.992 574.097,335.027 575.083,335.067 576.069,335.101 577.055,335.195 578.041,335.407 \n",
       "  579.027,335.63 580.013,335.863 580.999,336.139 581.985,336.391 582.971,336.545 583.957,336.698 584.943,336.842 585.929,336.987 586.915,337.081 587.901,337.157 \n",
       "  588.887,337.251 589.873,337.372 590.859,337.445 591.845,337.548 592.831,337.674 593.817,337.796 594.803,337.872 595.789,337.988 596.775,338.226 597.761,338.456 \n",
       "  598.746,338.68 599.732,338.956 600.718,339.215 601.704,339.337 602.69,339.477 603.676,339.61 604.662,339.689 605.648,339.765 606.634,339.866 607.62,339.938 \n",
       "  608.606,340.017 609.592,340.104 610.578,340.179 611.564,340.226 612.55,340.274 613.536,340.314 614.522,340.352 615.508,340.466 616.494,340.58 617.48,340.689 \n",
       "  618.466,340.817 619.452,341.066 620.438,341.233 621.424,341.403 622.41,341.576 623.396,341.737 624.382,341.8 625.368,341.876 626.354,342.001 627.34,342.134 \n",
       "  628.326,342.28 629.312,342.454 630.298,342.631 631.283,342.81 632.269,342.998 633.255,343.197 634.241,343.381 635.227,343.551 636.213,343.663 637.199,343.76 \n",
       "  638.185,343.833 639.171,343.91 640.157,343.987 641.143,344.084 642.129,344.204 643.115,344.368 644.101,344.544 645.087,344.746 646.073,344.965 647.059,345.203 \n",
       "  648.045,345.426 649.031,345.659 650.017,345.897 651.003,346.157 651.989,346.41 652.975,346.611 653.961,346.782 654.947,346.936 655.933,347.032 656.919,347.152 \n",
       "  657.905,347.288 658.891,347.436 659.877,347.598 660.863,347.774 661.849,347.918 662.834,348.068 663.82,348.223 664.806,348.366 665.792,348.499 666.778,348.662 \n",
       "  667.764,348.874 668.75,349.068 669.736,349.263 670.722,349.471 671.708,349.645 672.694,349.818 673.68,349.993 674.666,350.189 675.652,350.482 676.638,350.779 \n",
       "  677.624,351.039 678.61,351.302 679.596,351.574 680.582,351.751 681.568,351.9 682.554,352.04 683.54,352.172 684.526,352.331 685.512,352.494 686.498,352.659 \n",
       "  687.484,352.835 688.47,352.996 689.456,353.13 690.442,353.269 691.428,353.446 692.414,353.61 693.4,353.766 694.385,353.87 695.371,353.948 696.357,353.982 \n",
       "  697.343,354.014 698.329,354.072 699.315,354.157 700.301,354.257 701.287,354.377 702.273,354.51 703.259,354.662 704.245,354.849 705.231,355.048 706.217,355.324 \n",
       "  707.203,355.577 708.189,355.788 709.175,355.942 710.161,356.079 711.147,356.129 712.133,356.208 713.119,356.292 714.105,356.409 715.091,356.571 716.077,356.747 \n",
       "  717.063,356.928 718.049,357.107 719.035,357.291 720.021,357.475 721.007,357.674 721.993,357.901 722.979,358.119 723.965,358.347 724.951,358.516 725.937,358.692 \n",
       "  726.922,358.824 727.908,358.985 728.894,359.124 729.88,359.295 730.866,359.445 731.852,359.602 732.838,359.742 733.824,359.862 734.81,359.948 735.796,360.038 \n",
       "  736.782,360.206 737.768,360.371 738.754,360.556 739.74,360.768 740.726,360.946 741.712,361.059 742.698,361.244 743.684,361.426 744.67,361.582 745.656,361.773 \n",
       "  746.642,361.984 747.628,362.115 748.614,362.24 749.6,362.338 750.586,362.454 751.572,362.582 752.558,362.739 753.544,362.91 754.53,363.183 755.516,363.5 \n",
       "  756.502,363.791 757.488,364.07 758.473,364.329 759.459,364.572 760.445,364.749 761.431,364.889 762.417,365.048 763.403,365.248 764.389,365.394 765.375,365.545 \n",
       "  766.361,365.682 767.347,365.828 768.333,365.945 769.319,366.11 770.305,366.259 771.291,366.494 772.277,366.715 773.263,366.958 774.249,367.154 775.235,367.341 \n",
       "  776.221,367.471 777.207,367.679 778.193,367.85 779.179,368.031 780.165,368.259 781.151,368.474 782.137,368.564 783.123,368.675 784.109,368.806 785.095,368.92 \n",
       "  786.081,369.069 787.067,369.288 788.053,369.486 789.039,369.656 790.024,369.9 791.01,370.104 791.996,370.269 792.982,370.453 793.968,370.66 794.954,370.767 \n",
       "  795.94,370.912 796.926,371.083 797.912,371.242 798.898,371.403 799.884,371.578 800.87,371.782 801.856,372.008 802.842,372.262 803.828,372.496 804.814,372.765 \n",
       "  805.8,373.001 806.786,373.192 807.772,373.371 808.758,373.568 809.744,373.752 810.73,373.903 811.716,374.087 812.702,374.249 813.688,374.419 814.674,374.582 \n",
       "  815.66,374.782 816.646,374.994 817.632,375.222 818.618,375.457 819.604,375.708 820.59,375.933 821.576,376.133 822.561,376.345 823.547,376.548 824.533,376.726 \n",
       "  825.519,376.945 826.505,377.169 827.491,377.377 828.477,377.594 829.463,377.831 830.449,378.03 831.435,378.2 832.421,378.355 833.407,378.454 834.393,378.558 \n",
       "  835.379,378.647 836.365,378.763 837.351,378.891 838.337,379.088 839.323,379.282 840.309,379.522 841.295,379.778 842.281,380.088 843.267,380.371 844.253,380.68 \n",
       "  845.239,381 846.225,381.29 847.211,381.528 848.197,381.748 849.183,381.948 850.169,382.149 851.155,382.337 852.141,382.527 853.127,382.712 854.112,382.848 \n",
       "  855.098,382.95 856.084,383.061 857.07,383.16 858.056,383.306 859.042,383.471 860.028,383.635 861.014,383.795 862,383.989 862.986,384.153 863.972,384.34 \n",
       "  864.958,384.564 865.944,384.821 866.93,385.069 867.916,385.319 868.902,385.569 869.888,385.786 870.874,386.007 871.86,386.215 872.846,386.393 873.832,386.57 \n",
       "  874.818,386.736 875.804,386.867 876.79,387.051 877.776,387.249 878.762,387.451 879.748,387.654 880.734,387.859 881.72,388.037 882.706,388.234 883.692,388.403 \n",
       "  884.678,388.557 885.663,388.709 886.649,388.846 887.635,389.026 888.621,389.209 889.607,389.4 890.593,389.601 891.579,389.78 892.565,389.906 893.551,390.035 \n",
       "  894.537,390.268 895.523,390.55 896.509,390.857 897.495,391.162 898.481,391.487 899.467,391.705 900.453,391.906 901.439,392.128 902.425,392.409 903.411,392.719 \n",
       "  904.397,393.048 905.383,393.355 906.369,393.659 907.355,393.929 908.341,394.164 909.327,394.411 910.313,394.673 911.299,394.985 912.285,395.256 913.271,395.546 \n",
       "  914.257,395.811 915.243,396.039 916.229,396.211 917.215,396.393 918.2,396.642 919.186,396.883 920.172,397.119 921.158,397.367 922.144,397.628 923.13,397.789 \n",
       "  924.116,397.981 925.102,398.182 926.088,398.406 927.074,398.619 928.06,398.875 929.046,399.142 930.032,399.424 931.018,399.73 932.004,400.036 932.99,400.314 \n",
       "  933.976,400.588 934.962,400.849 935.948,401.014 936.934,401.219 937.92,401.46 938.906,401.699 939.892,401.953 940.878,402.202 941.864,402.399 942.85,402.549 \n",
       "  943.836,402.701 944.822,402.839 945.808,402.987 946.794,403.161 947.78,403.347 948.766,403.518 949.751,403.662 950.737,403.843 951.723,404.063 952.709,404.256 \n",
       "  953.695,404.465 954.681,404.728 955.667,404.966 956.653,405.185 957.639,405.43 958.625,405.675 959.611,405.904 960.597,406.145 961.583,406.368 962.569,406.616 \n",
       "  963.555,406.827 964.541,407.053 965.527,407.263 966.513,407.464 967.499,407.646 968.485,407.859 969.471,408.031 970.457,408.211 971.443,408.435 972.429,408.711 \n",
       "  973.415,408.981 974.401,409.283 975.387,409.591 976.373,409.913 977.359,410.161 978.345,410.449 979.331,410.77 980.317,411.09 981.302,411.374 982.288,411.66 \n",
       "  983.274,411.912 984.26,412.129 985.246,412.32 986.232,412.501 987.218,412.763 988.204,413.044 989.19,413.409 990.176,413.848 991.162,414.289 992.148,414.657 \n",
       "  993.134,415.018 994.12,415.279 995.106,415.537 996.092,415.777 997.078,415.988 998.064,416.177 999.05,416.368 1000.04,416.56 1001.02,416.745 1002.01,416.967 \n",
       "  1002.99,417.242 1003.98,417.558 1004.97,417.876 1005.95,418.231 1006.94,418.571 1007.92,418.869 1008.91,419.132 1009.9,419.331 1010.88,419.559 1011.87,419.792 \n",
       "  1012.85,420.103 1013.84,420.433 1014.83,420.808 1015.81,421.117 1016.8,421.428 1017.78,421.686 1018.77,421.916 1019.76,422.174 1020.74,422.424 1021.73,422.669 \n",
       "  1022.71,422.953 1023.7,423.292 1024.69,423.594 1025.67,424.063 1026.66,424.546 1027.64,425.026 1028.63,425.476 1029.61,425.895 1030.6,426.165 1031.59,426.427 \n",
       "  1032.57,426.694 1033.56,427.015 1034.54,427.457 1035.53,427.931 1036.52,428.504 1037.5,428.962 1038.49,429.391 1039.47,429.692 1040.46,429.969 1041.45,430.112 \n",
       "  1042.43,430.385 1043.42,430.651 1044.4,430.999 1045.39,431.331 1046.38,431.706 1047.36,432.019 1048.35,432.327 1049.33,432.569 1050.32,432.87 1051.31,433.284 \n",
       "  1052.29,433.672 1053.28,434.069 1054.26,434.461 1055.25,434.819 1056.24,435.106 1057.22,435.44 1058.21,435.747 1059.19,436.057 1060.18,436.398 1061.17,436.677 \n",
       "  1062.15,436.96 1063.14,437.244 1064.12,437.517 1065.11,437.719 1066.1,438.033 1067.08,438.347 1068.07,438.694 1069.05,439.048 1070.04,439.5 1071.03,439.857 \n",
       "  1072.01,440.195 1073,440.469 1073.98,440.832 1074.97,441.161 1075.96,441.532 1076.94,441.845 1077.93,442.216 1078.91,442.515 1079.9,442.874 1080.89,443.217 \n",
       "  1081.87,443.62 1082.86,443.99 1083.84,444.375 1084.83,444.687 1085.82,444.939 1086.8,445.267 1087.79,445.614 1088.77,445.944 1089.76,446.309 1090.75,446.723 \n",
       "  1091.73,447.042 1092.72,447.364 1093.7,447.69 1094.69,447.991 1095.67,448.343 1096.66,448.787 1097.65,449.31 1098.63,449.838 1099.62,450.333 1100.6,450.789 \n",
       "  1101.59,451.179 1102.58,451.511 1103.56,451.834 1104.55,452.137 1105.53,452.461 1106.52,452.711 1107.51,452.904 1108.49,453.117 1109.48,453.411 1110.46,453.84 \n",
       "  1111.45,454.302 1112.44,454.842 1113.42,455.347 1114.41,455.86 1115.39,456.175 1116.38,456.536 1117.37,456.868 1118.35,457.257 1119.34,457.624 1120.32,458.018 \n",
       "  1121.31,458.397 1122.3,458.836 1123.28,459.274 1124.27,459.68 1125.25,460.078 1126.24,460.433 1127.23,460.693 1128.21,460.969 1129.2,461.333 1130.18,461.698 \n",
       "  1131.17,462.103 1132.16,462.484 1133.14,462.782 1134.13,462.997 1135.11,463.231 1136.1,463.403 1137.09,463.674 1138.07,463.979 1139.06,464.323 1140.04,464.738 \n",
       "  1141.03,465.174 1142.02,465.581 1143,465.978 1143.99,466.39 1144.97,466.797 1145.96,467.248 1146.95,467.641 1147.93,468.122 1148.92,468.573 1149.9,468.947 \n",
       "  1150.89,469.307 1151.88,469.702 1152.86,470.057 1153.85,470.349 1154.83,470.602 1155.82,470.904 1156.8,471.226 1157.79,471.509 1158.78,471.805 1159.76,472.112 \n",
       "  1160.75,472.427 1161.73,472.712 1162.72,473.038 1163.71,473.478 1164.69,474.059 1165.68,474.667 1166.66,475.26 1167.65,475.82 1168.64,476.421 1169.62,476.898 \n",
       "  1170.61,477.298 1171.59,477.846 1172.58,478.352 1173.57,478.779 1174.55,479.179 1175.54,479.625 1176.52,480.058 1177.51,480.589 1178.5,481.054 1179.48,481.6 \n",
       "  1180.47,482.126 1181.45,482.587 1182.44,482.949 1183.43,483.356 1184.41,483.734 1185.4,484.113 1186.38,484.519 1187.37,485.023 1188.36,485.485 1189.34,485.944 \n",
       "  1190.33,486.314 1191.31,486.649 1192.3,486.965 1193.29,487.321 1194.27,487.686 1195.26,488.1 1196.24,488.503 1197.23,488.835 1198.22,489.157 1199.2,489.48 \n",
       "  1200.19,489.881 1201.17,490.391 1202.16,490.901 1203.15,491.363 1204.13,491.791 1205.12,492.15 1206.1,492.459 1207.09,492.812 1208.08,493.328 1209.06,493.997 \n",
       "  1210.05,494.639 1211.03,495.176 1212.02,495.874 1213.01,496.551 1213.99,497.098 1214.98,497.662 1215.96,498.27 1216.95,498.689 1217.94,499.117 1218.92,499.59 \n",
       "  1219.91,500.057 1220.89,500.536 1221.88,500.996 1222.86,501.393 1223.85,501.704 1224.84,501.985 1225.82,502.236 1226.81,502.541 1227.79,502.821 1228.78,503.153 \n",
       "  1229.77,503.551 1230.75,503.963 1231.74,504.333 1232.72,504.652 1233.71,504.954 1234.7,505.218 1235.68,505.468 1236.67,505.804 1237.65,506.301 1238.64,506.788 \n",
       "  1239.63,507.265 1240.61,507.695 1241.6,508.079 1242.58,508.364 1243.57,508.634 1244.56,508.945 1245.54,509.308 1246.53,509.606 1247.51,509.841 1248.5,510.098 \n",
       "  1249.49,510.291 1250.47,510.456 1251.46,510.645 1252.44,510.937 1253.43,511.318 1254.42,511.848 1255.4,512.399 1256.39,512.941 1257.37,513.425 1258.36,513.923 \n",
       "  1259.35,514.342 1260.33,514.788 1261.32,515.22 1262.3,515.724 1263.29,516.083 1264.28,516.379 1265.26,516.659 1266.25,517.001 1267.23,517.437 1268.22,517.996 \n",
       "  1269.21,518.603 1270.19,519.215 1271.18,519.815 1272.16,520.204 1273.15,520.516 1274.14,520.808 1275.12,521.05 1276.11,521.269 1277.09,521.504 1278.08,521.817 \n",
       "  1279.07,522.111 1280.05,522.525 1281.04,522.953 1282.02,523.431 1283.01,523.935 1284,524.454 1284.98,524.925 1285.97,525.485 1286.95,526.005 1287.94,526.431 \n",
       "  1288.92,526.831 1289.91,527.285 1290.9,527.606 1291.88,527.917 1292.87,528.366 1293.85,528.877 1294.84,529.322 1295.83,529.862 1296.81,530.341 1297.8,530.658 \n",
       "  1298.78,530.987 1299.77,531.321 1300.76,531.593 1301.74,532.148 1302.73,532.672 1303.71,533.225 1304.7,533.726 1305.69,534.255 1306.67,534.603 1307.66,535.121 \n",
       "  1308.64,535.584 1309.63,536.108 1310.62,536.583 1311.6,537.116 1312.59,537.559 1313.57,538.079 1314.56,538.551 1315.55,539.085 1316.53,539.535 1317.52,540.159 \n",
       "  1318.5,540.651 1319.49,541.139 1320.48,541.676 1321.46,542.185 1322.45,542.603 1323.43,543.084 1324.42,543.548 1325.41,544.049 1326.39,544.761 1327.38,545.381 \n",
       "  1328.36,546.172 1329.35,547.169 1330.34,548.032 1331.32,548.704 1332.31,549.361 1333.29,549.841 1334.28,550.14 1335.27,550.437 1336.25,550.706 1337.24,550.992 \n",
       "  1338.22,551.421 1339.21,551.821 1340.2,552.285 1341.18,552.752 1342.17,553.141 1343.15,553.353 1344.14,553.603 1345.13,553.757 1346.11,554.11 1347.1,554.456 \n",
       "  1348.08,554.972 1349.07,555.493 1350.05,556.116 1351.04,556.544 1352.03,557.196 1353.01,557.708 1354,558.197 1354.98,558.903 1355.97,559.69 1356.96,560.31 \n",
       "  1357.94,560.916 1358.93,561.543 1359.91,562.06 1360.9,562.544 1361.89,563.044 1362.87,563.602 1363.86,564.127 1364.84,564.47 1365.83,564.751 1366.82,565.103 \n",
       "  1367.8,565.358 1368.79,565.709 1369.77,566.143 1370.76,566.671 1371.75,567.111 1372.73,567.649 1373.72,568.283 1374.7,568.958 1375.69,569.632 1376.68,570.28 \n",
       "  1377.66,571.038 1378.65,571.756 1379.63,572.413 1380.62,573.224 1381.61,574.027 1382.59,574.695 1383.58,575.197 1384.56,575.68 1385.55,575.986 1386.54,576.393 \n",
       "  1387.52,576.719 1388.51,577.045 1389.49,577.325 1390.48,577.567 1391.47,577.698 1392.45,577.988 1393.44,578.345 1394.42,578.83 1395.41,579.4 1396.4,580.077 \n",
       "  1397.38,580.644 1398.37,581.268 1399.35,581.767 1400.34,582.194 1401.33,582.63 1402.31,583.039 1403.3,583.674 1404.28,584.331 1405.27,584.956 1406.26,585.547 \n",
       "  1407.24,586.225 1408.23,586.573 1409.21,586.97 1410.2,587.384 1411.19,587.745 1412.17,588.1 1413.16,588.547 1414.14,589.074 1415.13,589.579 1416.11,590.17 \n",
       "  1417.1,590.669 1418.09,591.1 1419.07,591.377 1420.06,591.623 1421.04,591.819 1422.03,592.078 1423.02,592.416 1424,592.764 1424.99,593.34 1425.97,593.899 \n",
       "  1426.96,594.396 1427.95,594.81 1428.93,595.249 1429.92,595.533 1430.9,595.815 1431.89,596.115 1432.88,596.462 1433.86,596.848 1434.85,597.331 1435.83,597.935 \n",
       "  1436.82,598.561 1437.81,599.107 1438.79,599.565 1439.78,599.974 1440.76,600.256 1441.75,600.584 1442.74,601.062 1443.72,601.707 1444.71,602.326 1445.69,602.985 \n",
       "  1446.68,603.741 1447.67,604.591 1448.65,605.343 1449.64,606.054 1450.62,606.821 1451.61,607.57 1452.6,608.398 1453.58,609.226 1454.57,610.115 1455.55,611.074 \n",
       "  1456.54,611.909 1457.53,612.451 1458.51,613.108 1459.5,613.698 1460.48,614.254 1461.47,614.832 1462.46,615.559 1463.44,616.277 1464.43,617.047 1465.41,617.726 \n",
       "  1466.4,618.49 1467.39,619.092 1468.37,619.582 1469.36,620.184 1470.34,620.778 1471.33,621.321 1472.32,621.984 1473.3,622.608 1474.29,623.159 1475.27,623.737 \n",
       "  1476.26,624.316 1477.24,624.941 1478.23,625.587 1479.22,626.221 1480.2,626.976 1481.19,627.733 1482.17,628.369 1483.16,629.206 1484.15,629.936 1485.13,630.611 \n",
       "  1486.12,631.495 1487.1,632.418 1488.09,633.265 1489.08,634.268 1490.06,635.159 1491.05,635.792 1492.03,636.332 1493.02,636.88 1494.01,637.374 1494.99,637.969 \n",
       "  1495.98,638.543 1496.96,639.11 1497.95,639.52 1498.94,639.938 1499.92,640.38 1500.91,640.933 1501.89,641.52 1502.88,642.182 1503.87,642.799 1504.85,643.341 \n",
       "  1505.84,643.764 1506.82,644.167 1507.81,644.503 1508.8,644.983 1509.78,645.432 1510.77,646.068 1511.75,646.772 1512.74,647.556 1513.73,648.169 1514.71,648.838 \n",
       "  1515.7,649.444 1516.68,649.984 1517.67,650.541 1518.66,651.067 1519.64,651.456 1520.63,651.771 1521.61,652.123 1522.6,652.361 1523.59,652.594 1524.57,653.085 \n",
       "  1525.56,653.578 1526.54,654.166 1527.53,654.767 1528.52,655.381 1529.5,655.89 1530.49,656.316 1531.47,656.704 1532.46,657.145 1533.45,657.612 1534.43,658.094 \n",
       "  1535.42,658.743 1536.4,659.293 1537.39,659.889 1538.38,660.47 1539.36,660.973 1540.35,661.377 1541.33,661.942 1542.32,662.4 1543.3,662.948 1544.29,663.425 \n",
       "  1545.28,663.991 1546.26,664.371 1547.25,664.992 1548.23,665.562 1549.22,666.297 1550.21,666.927 1551.19,667.581 1552.18,668.125 1553.16,668.682 1554.15,669.077 \n",
       "  1555.14,669.433 1556.12,669.787 1557.11,670.049 1558.09,670.404 1559.08,671.043 1560.07,671.662 1561.05,672.466 1562.04,673.247 1563.02,674.024 1564.01,674.639 \n",
       "  1565,675.327 1565.98,675.86 1566.97,676.424 1567.95,676.829 1568.94,677.162 1569.93,677.574 1570.91,678.076 1571.9,678.614 1572.88,679.39 1573.87,680.191 \n",
       "  1574.86,680.92 1575.84,681.56 1576.83,682.226 1577.81,682.91 1578.8,683.504 1579.79,684.037 1580.77,684.522 1581.76,685.36 1582.74,685.912 1583.73,686.491 \n",
       "  1584.72,687.207 1585.7,687.883 1586.69,688.253 1587.67,688.651 1588.66,689.09 1589.65,689.399 1590.63,689.84 1591.62,690.207 1592.6,690.66 1593.59,691.03 \n",
       "  1594.58,691.414 1595.56,691.741 1596.55,692.047 1597.53,692.29 1598.52,692.572 1599.51,692.944 1600.49,693.391 1601.48,693.922 1602.46,694.588 1603.45,695.267 \n",
       "  1604.43,695.835 1605.42,696.369 1606.41,696.92 1607.39,697.322 1608.38,697.839 1609.36,698.514 1610.35,699.209 1611.34,699.818 1612.32,700.418 1613.31,701.082 \n",
       "  1614.29,701.679 1615.28,702.234 1616.27,702.741 1617.25,703.227 1618.24,703.62 1619.22,704.045 1620.21,704.535 1621.2,705.112 1622.18,705.915 1623.17,706.645 \n",
       "  1624.15,707.282 1625.14,707.9 1626.13,708.45 1627.11,708.83 1628.1,709.312 1629.08,709.829 1630.07,710.284 1631.06,710.768 1632.04,711.304 1633.03,711.745 \n",
       "  1634.01,712.187 1635,712.678 1635.99,713.083 1636.97,713.498 1637.96,713.881 1638.94,714.36 1639.93,714.805 1640.92,715.465 1641.9,716.131 1642.89,716.791 \n",
       "  1643.87,717.324 1644.86,718.005 1645.85,718.516 1646.83,718.95 1647.82,719.489 1648.8,720.154 1649.79,720.636 1650.78,721.15 1651.76,721.703 1652.75,722.293 \n",
       "  1653.73,722.767 1654.72,723.34 1655.71,723.865 1656.69,724.379 1657.68,724.793 1658.66,725.256 1659.65,725.61 1660.64,726.128 1661.62,726.835 1662.61,727.559 \n",
       "  1663.59,728.316 1664.58,729.065 1665.57,729.673 1666.55,730.058 1667.54,730.498 1668.52,730.901 1669.51,731.347 1670.49,731.727 1671.48,732.226 1672.47,732.715 \n",
       "  1673.45,733.141 1674.44,733.643 1675.42,734.149 1676.41,734.55 1677.4,734.939 1678.38,735.29 1679.37,735.528 1680.35,735.884 1681.34,736.311 1682.33,736.749 \n",
       "  1683.31,737.191 1684.3,737.623 1685.28,738.062 1686.27,738.426 1687.26,738.902 1688.24,739.378 1689.23,740.016 1690.21,740.572 1691.2,741.072 1692.19,741.351 \n",
       "  1693.17,741.706 1694.16,742.103 1695.14,742.57 1696.13,743.12 1697.12,743.886 1698.1,744.564 1699.09,745.226 1700.07,746.075 1701.06,746.935 1702.05,747.611 \n",
       "  1703.03,748.417 1704.02,749.108 1705,749.555 1705.99,749.998 1706.98,750.482 1707.96,750.933 1708.95,751.431 1709.93,751.978 1710.92,752.558 1711.91,753.126 \n",
       "  1712.89,753.673 1713.88,754.111 1714.86,754.447 1715.85,754.682 1716.84,754.937 1717.82,755.121 1718.81,755.404 1719.79,755.771 1720.78,756.176 1721.77,756.553 \n",
       "  1722.75,757.017 1723.74,757.379 1724.72,757.817 1725.71,758.226 1726.7,758.644 1727.68,759.051 1728.67,759.514 1729.65,759.924 1730.64,760.487 1731.62,761.108 \n",
       "  1732.61,761.781 1733.6,762.403 1734.58,762.952 1735.57,763.466 1736.55,763.908 1737.54,764.365 1738.53,764.846 1739.51,765.387 1740.5,765.898 1741.48,766.456 \n",
       "  1742.47,766.866 1743.46,767.268 1744.44,767.688 1745.43,768.151 1746.41,768.638 1747.4,769.198 1748.39,769.7 1749.37,770.227 1750.36,770.625 1751.34,770.945 \n",
       "  1752.33,771.263 1753.32,771.693 1754.3,772.065 1755.29,772.475 1756.27,773.038 1757.26,773.562 1758.25,774.169 1759.23,774.715 1760.22,775.352 1761.2,775.945 \n",
       "  1762.19,776.645 1763.18,777.283 1764.16,777.963 1765.15,778.57 1766.13,779.056 1767.12,779.538 1768.11,780.055 1769.09,780.646 1770.08,781.242 1771.06,781.928 \n",
       "  1772.05,782.511 1773.04,783.031 1774.02,783.46 1775.01,783.841 1775.99,784.153 1776.98,784.494 1777.97,784.969 1778.95,785.485 1779.94,786.101 1780.92,786.696 \n",
       "  1781.91,787.249 1782.9,787.626 1783.88,788.165 1784.87,788.596 1785.85,789.09 1786.84,789.692 1787.83,790.355 1788.81,790.868 1789.8,791.412 1790.78,791.971 \n",
       "  1791.77,792.566 1792.76,793.143 1793.74,793.678 1794.73,794.238 1795.71,794.789 1796.7,795.223 1797.68,795.697 1798.67,796.2 1799.66,796.778 1800.64,797.294 \n",
       "  1801.63,797.863 1802.61,798.313 1803.6,798.982 1804.59,799.546 1805.57,800.197 1806.56,800.865 1807.54,801.614 1808.53,802.082 1809.52,802.55 1810.5,803.044 \n",
       "  1811.49,803.446 1812.47,803.796 1813.46,804.266 1814.45,804.721 1815.43,805.102 1816.42,805.567 1817.4,806.121 1818.39,806.576 1819.38,807.231 1820.36,807.875 \n",
       "  1821.35,808.411 1822.33,808.835 1823.32,809.311 1824.31,809.591 1825.29,810.03 1826.28,810.452 1827.26,811.053 1828.25,811.606 1829.24,812.122 1830.22,812.423 \n",
       "  1831.21,812.872 1832.19,813.153 1833.18,813.504 1834.17,813.994 1835.15,814.511 1836.14,815.05 1837.12,815.567 1838.11,816.103 1839.1,816.71 1840.08,817.295 \n",
       "  1841.07,817.932 1842.05,818.618 1843.04,819.214 1844.03,819.625 1845.01,820.107 1846,820.545 1846.98,821.198 1847.97,822.035 1848.96,822.841 1849.94,823.722 \n",
       "  1850.93,824.492 1851.91,825.073 1852.9,825.432 1853.89,825.853 1854.87,826.148 1855.86,826.42 1856.84,826.962 1857.83,827.573 1858.81,828.209 1859.8,828.931 \n",
       "  1860.79,829.688 1861.77,830.093 1862.76,830.61 1863.74,831.116 1864.73,831.533 1865.72,831.941 1866.7,832.408 1867.69,832.804 1868.67,833.193 1869.66,833.552 \n",
       "  1870.65,833.949 1871.63,834.37 1872.62,834.696 1873.6,835.076 1874.59,835.489 1875.58,835.871 1876.56,836.227 1877.55,836.589 1878.53,836.973 1879.52,837.366 \n",
       "  1880.51,837.745 1881.49,838.1 1882.48,838.457 1883.46,838.734 1884.45,839.019 1885.44,839.417 1886.42,839.934 1887.41,840.744 1888.39,841.541 1889.38,842.297 \n",
       "  1890.37,843.227 1891.35,843.992 1892.34,844.581 1893.32,845.181 1894.31,845.876 1895.3,846.351 1896.28,846.932 1897.27,847.401 1898.25,847.856 1899.24,848.254 \n",
       "  1900.23,848.601 1901.21,848.96 1902.2,849.423 1903.18,849.865 1904.17,850.346 1905.16,850.849 1906.14,851.411 1907.13,851.866 1908.11,852.521 1909.1,853.238 \n",
       "  1910.09,853.951 1911.07,854.517 1912.06,855.21 1913.04,855.874 1914.03,856.656 1915.02,857.47 1916,858.526 1916.99,859.551 1917.97,860.519 1918.96,861.34 \n",
       "  1919.95,862.264 1920.93,862.904 1921.92,863.595 1922.9,864.186 1923.89,864.67 1924.87,865.082 1925.86,865.578 1926.85,865.96 1927.83,866.356 1928.82,866.797 \n",
       "  1929.8,867.246 1930.79,867.683 1931.78,868.154 1932.76,868.672 1933.75,869.108 1934.73,869.491 1935.72,869.971 1936.71,870.444 1937.69,870.955 1938.68,871.564 \n",
       "  1939.66,872.253 1940.65,872.85 1941.64,873.505 1942.62,874.075 1943.61,874.644 1944.59,875.285 1945.58,875.885 1946.57,876.376 1947.55,876.891 1948.54,877.379 \n",
       "  1949.52,877.743 1950.51,878.437 1951.5,879.144 1952.48,879.84 1953.47,880.623 1954.45,881.375 1955.44,881.836 1956.43,882.476 1957.41,883.216 1958.4,883.842 \n",
       "  1959.38,884.449 1960.37,885.263 1961.36,885.886 1962.34,886.427 1963.33,887.052 1964.31,887.672 1965.3,888.163 1966.29,888.673 1967.27,889.287 1968.26,889.843 \n",
       "  1969.24,890.428 1970.23,890.931 1971.22,891.405 1972.2,891.741 1973.19,892.08 1974.17,892.497 1975.16,892.908 1976.15,893.367 1977.13,893.838 1978.12,894.27 \n",
       "  1979.1,894.539 1980.09,894.827 1981.08,895.107 1982.06,895.4 1983.05,895.801 1984.03,896.352 1985.02,896.936 1986,897.518 1986.99,898.198 1987.98,898.767 \n",
       "  1988.96,899.19 1989.95,899.541 1990.93,899.93 1991.92,900.292 1992.91,900.69 1993.89,901.344 1994.88,902.017 1995.86,902.783 1996.85,903.497 1997.84,904.201 \n",
       "  1998.82,904.843 1999.81,905.491 2000.79,905.969 2001.78,906.385 2002.77,906.895 2003.75,907.289 2004.74,907.732 2005.72,908.206 2006.71,908.819 2007.7,909.327 \n",
       "  2008.68,909.805 2009.67,910.231 2010.65,910.629 2011.64,910.884 2012.63,911.151 2013.61,911.484 2014.6,911.952 2015.58,912.513 2016.57,913.077 2017.56,913.614 \n",
       "  2018.54,914.059 2019.53,914.469 2020.51,914.857 2021.5,915.267 2022.49,915.727 2023.47,916.214 2024.46,916.565 2025.44,916.865 2026.43,917.2 2027.42,917.468 \n",
       "  2028.4,917.879 2029.39,918.294 2030.37,918.796 2031.36,919.372 2032.35,920.036 2033.33,920.509 2034.32,921.323 2035.3,922.102 2036.29,922.919 2037.28,923.822 \n",
       "  2038.26,924.778 2039.25,925.425 2040.23,926.08 2041.22,926.621 2042.21,927.06 2043.19,927.472 2044.18,927.897 2045.16,928.323 2046.15,928.748 2047.14,929.157 \n",
       "  2048.12,929.573 2049.11,930.076 2050.09,930.499 2051.08,930.884 2052.06,931.255 2053.05,931.716 2054.04,932.281 2055.02,932.857 2056.01,933.518 2056.99,934.216 \n",
       "  2057.98,934.94 2058.97,935.462 2059.95,935.998 2060.94,936.402 2061.92,936.831 2062.91,937.212 2063.9,937.678 2064.88,938.196 2065.87,938.705 2066.85,939.199 \n",
       "  2067.84,939.594 2068.83,939.96 2069.81,940.243 2070.8,940.595 2071.78,940.968 2072.77,941.38 2073.76,941.769 2074.74,942.177 2075.73,942.669 2076.71,943.159 \n",
       "  2077.7,943.772 2078.69,944.327 2079.67,944.84 2080.66,945.245 2081.64,945.679 2082.63,946.088 2083.62,946.503 2084.6,947.031 2085.59,947.558 2086.57,948.139 \n",
       "  2087.56,948.599 2088.55,949.128 2089.53,949.623 2090.52,950.144 2091.5,950.567 2092.49,950.98 2093.48,951.56 2094.46,952.249 2095.45,953.11 2096.43,953.887 \n",
       "  2097.42,954.661 2098.41,955.277 2099.39,955.717 2100.38,955.963 2101.36,956.299 2102.35,956.716 2103.34,957.168 2104.32,957.886 2105.31,958.573 2106.29,959.261 \n",
       "  2107.28,959.936 2108.27,960.595 2109.25,960.994 2110.24,961.473 2111.22,961.83 2112.21,962.18 2113.19,962.453 2114.18,962.839 2115.17,963.226 2116.15,963.742 \n",
       "  2117.14,964.212 2118.12,964.755 2119.11,965.174 2120.1,965.645 2121.08,966.031 2122.07,966.396 2123.05,966.65 2124.04,967.043 2125.03,967.367 2126.01,967.711 \n",
       "  2127,968.123 2127.98,968.617 2128.97,969.024 2129.96,969.427 2130.94,969.846 2131.93,970.316 2132.91,970.698 2133.9,971.048 2134.89,971.376 2135.87,971.812 \n",
       "  2136.86,972.357 2137.84,972.947 2138.83,973.64 2139.82,974.3 2140.8,974.871 2141.79,975.231 2142.77,975.581 2143.76,976.084 2144.75,976.619 2145.73,977.252 \n",
       "  2146.72,977.959 2147.7,978.701 2148.69,979.151 2149.68,979.617 2150.66,979.966 2151.65,980.408 2152.63,980.804 2153.62,981.372 2154.61,981.917 2155.59,982.481 \n",
       "  2156.58,982.95 2157.56,983.667 2158.55,984.267 2159.54,984.852 2160.52,985.448 2161.51,985.995 2162.49,986.359 2163.48,986.858 2164.47,987.572 2165.45,988.234 \n",
       "  2166.44,989.006 2167.42,989.74 2168.41,990.299 2169.4,990.656 2170.38,991.038 2171.37,991.321 2172.35,991.552 2173.34,991.951 2174.33,992.306 2175.31,992.757 \n",
       "  2176.3,993.272 2177.28,994.074 2178.27,994.751 2179.25,995.455 2180.24,996.037 2181.23,996.555 2182.21,996.896 2183.2,997.176 2184.18,997.447 2185.17,997.735 \n",
       "  2186.16,998.368 2187.14,998.981 2188.13,999.672 2189.11,1000.43 2190.1,1001.17 2191.09,1001.67 2192.07,1002.17 2193.06,1002.63 2194.04,1003.11 2195.03,1003.65 \n",
       "  2196.02,1004.1 2197,1004.5 2197.99,1004.99 2198.97,1005.41 2199.96,1005.86 2200.95,1006.3 2201.93,1006.84 2202.92,1007.33 2203.9,1007.82 2204.89,1008.4 \n",
       "  2205.88,1008.91 2206.86,1009.4 2207.85,1009.84 2208.83,1010.39 2209.82,1010.84 2210.81,1011.4 2211.79,1011.85 2212.78,1012.34 2213.76,1012.74 2214.75,1013.05 \n",
       "  2215.74,1013.39 2216.72,1013.86 2217.71,1014.31 2218.69,1014.82 2219.68,1015.35 2220.67,1015.8 2221.65,1016.14 2222.64,1016.47 2223.62,1016.9 2224.61,1017.33 \n",
       "  2225.6,1017.81 2226.58,1018.31 2227.57,1018.88 2228.55,1019.29 2229.54,1019.69 2230.53,1020.04 2231.51,1020.4 2232.5,1020.81 2233.48,1021.19 2234.47,1021.66 \n",
       "  2235.46,1022.1 2236.44,1022.54 2237.43,1022.89 2238.41,1023.28 2239.4,1023.57 2240.39,1023.9 2241.37,1024.15 2242.36,1024.57 2243.34,1025.01 2244.33,1025.5 \n",
       "  2245.31,1026.07 2246.3,1026.67 2247.29,1027.1 2248.27,1027.51 2249.26,1027.83 2250.24,1028.13 2251.23,1028.41 2252.22,1028.75 2253.2,1029.05 2254.19,1029.44 \n",
       "  2255.17,1029.74 2256.16,1030.13 2257.15,1030.5 2258.13,1030.95 2259.12,1031.34 2260.1,1031.84 2261.09,1032.24 2262.08,1032.61 2263.06,1032.9 2264.05,1033.35 \n",
       "  2265.03,1033.75 2266.02,1034.18 2267.01,1034.61 2267.99,1035.25 2268.98,1035.67 2269.96,1036.07 2270.95,1036.55 2271.94,1037.09 2272.92,1037.48 2273.91,1037.89 \n",
       "  2274.89,1038.33 2275.88,1038.66 2276.87,1038.98 2277.85,1039.23 2278.84,1039.57 2279.82,1039.89 2280.81,1040.23 2281.8,1040.54 2282.78,1041.02 2283.77,1041.44 \n",
       "  2284.75,1041.78 2285.74,1042.18 2286.73,1042.55 2287.71,1042.82 2288.7,1043.11 2289.68,1043.41 2290.67,1043.76 2291.66,1044.16 2292.64,1044.61 2293.63,1045.08 \n",
       "  \n",
       "  \"/>\n",
       "<path clip-path=\"url(#clip670)\" d=\"\n",
       "M1476.66 347.826 L2283.12 347.826 L2283.12 166.386 L1476.66 166.386  Z\n",
       "  \" fill=\"#ffffff\" fill-rule=\"evenodd\" fill-opacity=\"1\"/>\n",
       "<polyline clip-path=\"url(#clip670)\" style=\"stroke:#000000; stroke-width:4; stroke-opacity:1; fill:none\" points=\"\n",
       "  1476.66,347.826 2283.12,347.826 2283.12,166.386 1476.66,166.386 1476.66,347.826 \n",
       "  \"/>\n",
       "<polyline clip-path=\"url(#clip670)\" style=\"stroke:#009af9; stroke-width:4; stroke-opacity:1; fill:none\" points=\"\n",
       "  1499.87,226.866 1639.15,226.866 \n",
       "  \"/>\n",
       "<path clip-path=\"url(#clip670)\" d=\"M 0 0 M1681.46 233.915 L1681.46 218.22 L1685.72 218.22 L1685.72 233.753 Q1685.72 237.433 1687.15 239.285 Q1688.59 241.114 1691.46 241.114 Q1694.91 241.114 1696.9 238.915 Q1698.91 236.716 1698.91 232.919 L1698.91 218.22 L1703.17 218.22 L1703.17 244.146 L1698.91 244.146 L1698.91 240.165 Q1697.36 242.526 1695.3 243.683 Q1693.27 244.818 1690.56 244.818 Q1686.09 244.818 1683.78 242.04 Q1681.46 239.262 1681.46 233.915 M1692.18 217.595 L1692.18 217.595 Z\" fill=\"#000000\" fill-rule=\"evenodd\" fill-opacity=\"1\" /><path clip-path=\"url(#clip670)\" d=\"M 0 0 M1724.17 218.984 L1724.17 223.012 Q1722.36 222.086 1720.42 221.623 Q1718.47 221.16 1716.39 221.16 Q1713.22 221.16 1711.62 222.133 Q1710.05 223.105 1710.05 225.049 Q1710.05 226.531 1711.18 227.387 Q1712.32 228.22 1715.74 228.984 L1717.2 229.308 Q1721.74 230.281 1723.64 232.063 Q1725.56 233.822 1725.56 236.994 Q1725.56 240.605 1722.69 242.711 Q1719.84 244.818 1714.84 244.818 Q1712.76 244.818 1710.49 244.401 Q1708.24 244.007 1705.74 243.197 L1705.74 238.799 Q1708.1 240.026 1710.4 240.651 Q1712.69 241.253 1714.93 241.253 Q1717.94 241.253 1719.56 240.234 Q1721.18 239.193 1721.18 237.318 Q1721.18 235.582 1720 234.656 Q1718.84 233.73 1714.89 232.873 L1713.4 232.526 Q1709.45 231.693 1707.69 229.98 Q1705.93 228.244 1705.93 225.234 Q1705.93 221.577 1708.52 219.586 Q1711.11 217.595 1715.88 217.595 Q1718.24 217.595 1720.33 217.943 Q1722.41 218.29 1724.17 218.984 Z\" fill=\"#000000\" fill-rule=\"evenodd\" fill-opacity=\"1\" /><path clip-path=\"url(#clip670)\" d=\"M 0 0 M1752.2 230.119 L1752.2 232.202 L1732.62 232.202 Q1732.9 236.6 1735.26 238.915 Q1737.64 241.206 1741.88 241.206 Q1744.33 241.206 1746.62 240.605 Q1748.94 240.003 1751.21 238.799 L1751.21 242.827 Q1748.91 243.799 1746.51 244.308 Q1744.1 244.818 1741.62 244.818 Q1735.42 244.818 1731.78 241.206 Q1728.17 237.595 1728.17 231.438 Q1728.17 225.072 1731.6 221.345 Q1735.05 217.595 1740.88 217.595 Q1746.11 217.595 1749.15 220.975 Q1752.2 224.332 1752.2 230.119 M1747.94 228.869 Q1747.9 225.373 1745.97 223.29 Q1744.08 221.207 1740.93 221.207 Q1737.36 221.207 1735.21 223.22 Q1733.08 225.234 1732.76 228.892 L1747.94 228.869 Z\" fill=\"#000000\" fill-rule=\"evenodd\" fill-opacity=\"1\" /><path clip-path=\"url(#clip670)\" d=\"M 0 0 M1776.37 252.017 L1776.37 255.327 L1751.74 255.327 L1751.74 252.017 L1776.37 252.017 Z\" fill=\"#000000\" fill-rule=\"evenodd\" fill-opacity=\"1\" /><path clip-path=\"url(#clip670)\" d=\"M 0 0 M1803.01 230.119 L1803.01 232.202 L1783.43 232.202 Q1783.71 236.6 1786.07 238.915 Q1788.45 241.206 1792.69 241.206 Q1795.14 241.206 1797.43 240.605 Q1799.75 240.003 1802.02 238.799 L1802.02 242.827 Q1799.72 243.799 1797.32 244.308 Q1794.91 244.818 1792.43 244.818 Q1786.23 244.818 1782.59 241.206 Q1778.98 237.595 1778.98 231.438 Q1778.98 225.072 1782.41 221.345 Q1785.86 217.595 1791.69 217.595 Q1796.92 217.595 1799.95 220.975 Q1803.01 224.332 1803.01 230.119 M1798.75 228.869 Q1798.7 225.373 1796.78 223.29 Q1794.89 221.207 1791.74 221.207 Q1788.17 221.207 1786.02 223.22 Q1783.89 225.234 1783.57 228.892 L1798.75 228.869 Z\" fill=\"#000000\" fill-rule=\"evenodd\" fill-opacity=\"1\" /><path clip-path=\"url(#clip670)\" d=\"M 0 0 M1828.2 218.22 L1818.82 230.836 L1828.68 244.146 L1823.66 244.146 L1816.11 233.961 L1808.57 244.146 L1803.54 244.146 L1813.61 230.582 L1804.4 218.22 L1809.42 218.22 L1816.3 227.457 L1823.17 218.22 L1828.2 218.22 Z\" fill=\"#000000\" fill-rule=\"evenodd\" fill-opacity=\"1\" /><path clip-path=\"url(#clip670)\" d=\"M 0 0 M1837.36 210.859 L1837.36 218.22 L1846.14 218.22 L1846.14 221.531 L1837.36 221.531 L1837.36 235.605 Q1837.36 238.776 1838.22 239.679 Q1839.1 240.581 1841.76 240.581 L1846.14 240.581 L1846.14 244.146 L1841.76 244.146 Q1836.83 244.146 1834.95 242.318 Q1833.08 240.466 1833.08 235.605 L1833.08 221.531 L1829.95 221.531 L1829.95 218.22 L1833.08 218.22 L1833.08 210.859 L1837.36 210.859 Z\" fill=\"#000000\" fill-rule=\"evenodd\" fill-opacity=\"1\" /><path clip-path=\"url(#clip670)\" d=\"M 0 0 M1872.78 230.119 L1872.78 232.202 L1853.2 232.202 Q1853.47 236.6 1855.83 238.915 Q1858.22 241.206 1862.45 241.206 Q1864.91 241.206 1867.2 240.605 Q1869.51 240.003 1871.78 238.799 L1871.78 242.827 Q1869.49 243.799 1867.08 244.308 Q1864.68 244.818 1862.2 244.818 Q1856 244.818 1852.36 241.206 Q1848.75 237.595 1848.75 231.438 Q1848.75 225.072 1852.18 221.345 Q1855.63 217.595 1861.46 217.595 Q1866.69 217.595 1869.72 220.975 Q1872.78 224.332 1872.78 230.119 M1868.52 228.869 Q1868.47 225.373 1866.55 223.29 Q1864.65 221.207 1861.51 221.207 Q1857.94 221.207 1855.79 223.22 Q1853.66 225.234 1853.33 228.892 L1868.52 228.869 Z\" fill=\"#000000\" fill-rule=\"evenodd\" fill-opacity=\"1\" /><path clip-path=\"url(#clip670)\" d=\"M 0 0 M1892.27 222.202 Q1891.55 221.785 1890.7 221.6 Q1889.86 221.392 1888.84 221.392 Q1885.23 221.392 1883.29 223.753 Q1881.37 226.091 1881.37 230.489 L1881.37 244.146 L1877.08 244.146 L1877.08 218.22 L1881.37 218.22 L1881.37 222.248 Q1882.71 219.887 1884.86 218.753 Q1887.01 217.595 1890.09 217.595 Q1890.53 217.595 1891.07 217.665 Q1891.6 217.711 1892.25 217.827 L1892.27 222.202 Z\" fill=\"#000000\" fill-rule=\"evenodd\" fill-opacity=\"1\" /><path clip-path=\"url(#clip670)\" d=\"M 0 0 M1917.45 228.498 L1917.45 244.146 L1913.2 244.146 L1913.2 228.637 Q1913.2 224.957 1911.76 223.128 Q1910.32 221.299 1907.45 221.299 Q1904.01 221.299 1902.01 223.498 Q1900.02 225.697 1900.02 229.494 L1900.02 244.146 L1895.74 244.146 L1895.74 218.22 L1900.02 218.22 L1900.02 222.248 Q1901.55 219.91 1903.61 218.753 Q1905.7 217.595 1908.4 217.595 Q1912.87 217.595 1915.16 220.373 Q1917.45 223.128 1917.45 228.498 Z\" fill=\"#000000\" fill-rule=\"evenodd\" fill-opacity=\"1\" /><path clip-path=\"url(#clip670)\" d=\"M 0 0 M1933.7 231.114 Q1928.54 231.114 1926.55 232.294 Q1924.56 233.475 1924.56 236.322 Q1924.56 238.591 1926.04 239.933 Q1927.55 241.253 1930.12 241.253 Q1933.66 241.253 1935.79 238.753 Q1937.94 236.23 1937.94 232.063 L1937.94 231.114 L1933.7 231.114 M1942.2 229.355 L1942.2 244.146 L1937.94 244.146 L1937.94 240.211 Q1936.48 242.572 1934.31 243.706 Q1932.13 244.818 1928.98 244.818 Q1925 244.818 1922.64 242.595 Q1920.3 240.35 1920.3 236.6 Q1920.3 232.225 1923.22 230.003 Q1926.16 227.781 1931.97 227.781 L1937.94 227.781 L1937.94 227.364 Q1937.94 224.424 1936 222.827 Q1934.07 221.207 1930.58 221.207 Q1928.36 221.207 1926.25 221.739 Q1924.14 222.271 1922.2 223.336 L1922.2 219.401 Q1924.54 218.498 1926.74 218.058 Q1928.94 217.595 1931.02 217.595 Q1936.64 217.595 1939.42 220.512 Q1942.2 223.429 1942.2 229.355 Z\" fill=\"#000000\" fill-rule=\"evenodd\" fill-opacity=\"1\" /><path clip-path=\"url(#clip670)\" d=\"M 0 0 M1946.67 208.128 L1950.93 208.128 L1950.93 244.146 L1946.67 244.146 L1946.67 208.128 Z\" fill=\"#000000\" fill-rule=\"evenodd\" fill-opacity=\"1\" /><path clip-path=\"url(#clip670)\" d=\"M 0 0 M1975.09 252.017 L1975.09 255.327 L1950.46 255.327 L1950.46 252.017 L1975.09 252.017 Z\" fill=\"#000000\" fill-rule=\"evenodd\" fill-opacity=\"1\" /><path clip-path=\"url(#clip670)\" d=\"M 0 0 M1994.58 222.202 Q1993.87 221.785 1993.01 221.6 Q1992.18 221.392 1991.16 221.392 Q1987.55 221.392 1985.6 223.753 Q1983.68 226.091 1983.68 230.489 L1983.68 244.146 L1979.4 244.146 L1979.4 218.22 L1983.68 218.22 L1983.68 222.248 Q1985.02 219.887 1987.18 218.753 Q1989.33 217.595 1992.41 217.595 Q1992.85 217.595 1993.38 217.665 Q1993.91 217.711 1994.56 217.827 L1994.58 222.202 Z\" fill=\"#000000\" fill-rule=\"evenodd\" fill-opacity=\"1\" /><path clip-path=\"url(#clip670)\" d=\"M 0 0 M2020.19 230.119 L2020.19 232.202 L2000.6 232.202 Q2000.88 236.6 2003.24 238.915 Q2005.63 241.206 2009.86 241.206 Q2012.31 241.206 2014.61 240.605 Q2016.92 240.003 2019.19 238.799 L2019.19 242.827 Q2016.9 243.799 2014.49 244.308 Q2012.08 244.818 2009.61 244.818 Q2003.4 244.818 1999.77 241.206 Q1996.16 237.595 1996.16 231.438 Q1996.16 225.072 1999.58 221.345 Q2003.03 217.595 2008.87 217.595 Q2014.1 217.595 2017.13 220.975 Q2020.19 224.332 2020.19 230.119 M2015.93 228.869 Q2015.88 225.373 2013.96 223.29 Q2012.06 221.207 2008.91 221.207 Q2005.35 221.207 2003.19 223.22 Q2001.06 225.234 2000.74 228.892 L2015.93 228.869 Z\" fill=\"#000000\" fill-rule=\"evenodd\" fill-opacity=\"1\" /><path clip-path=\"url(#clip670)\" d=\"M 0 0 M2022.18 218.22 L2026.44 218.22 L2031.76 238.452 L2037.06 218.22 L2042.08 218.22 L2047.41 238.452 L2052.71 218.22 L2056.97 218.22 L2050.19 244.146 L2045.16 244.146 L2039.58 222.896 L2033.98 244.146 L2028.96 244.146 L2022.18 218.22 Z\" fill=\"#000000\" fill-rule=\"evenodd\" fill-opacity=\"1\" /><path clip-path=\"url(#clip670)\" d=\"M 0 0 M2073.22 231.114 Q2068.06 231.114 2066.06 232.294 Q2064.07 233.475 2064.07 236.322 Q2064.07 238.591 2065.56 239.933 Q2067.06 241.253 2069.63 241.253 Q2073.17 241.253 2075.3 238.753 Q2077.45 236.23 2077.45 232.063 L2077.45 231.114 L2073.22 231.114 M2081.71 229.355 L2081.71 244.146 L2077.45 244.146 L2077.45 240.211 Q2076 242.572 2073.82 243.706 Q2071.64 244.818 2068.5 244.818 Q2064.51 244.818 2062.15 242.595 Q2059.81 240.35 2059.81 236.6 Q2059.81 232.225 2062.73 230.003 Q2065.67 227.781 2071.48 227.781 L2077.45 227.781 L2077.45 227.364 Q2077.45 224.424 2075.51 222.827 Q2073.59 221.207 2070.09 221.207 Q2067.87 221.207 2065.76 221.739 Q2063.66 222.271 2061.71 223.336 L2061.71 219.401 Q2064.05 218.498 2066.25 218.058 Q2068.45 217.595 2070.53 217.595 Q2076.16 217.595 2078.93 220.512 Q2081.71 223.429 2081.71 229.355 Z\" fill=\"#000000\" fill-rule=\"evenodd\" fill-opacity=\"1\" /><path clip-path=\"url(#clip670)\" d=\"M 0 0 M2101.2 222.202 Q2100.49 221.785 2099.63 221.6 Q2098.8 221.392 2097.78 221.392 Q2094.17 221.392 2092.22 223.753 Q2090.3 226.091 2090.3 230.489 L2090.3 244.146 L2086.02 244.146 L2086.02 218.22 L2090.3 218.22 L2090.3 222.248 Q2091.64 219.887 2093.8 218.753 Q2095.95 217.595 2099.03 217.595 Q2099.47 217.595 2100 217.665 Q2100.53 217.711 2101.18 217.827 L2101.2 222.202 Z\" fill=\"#000000\" fill-rule=\"evenodd\" fill-opacity=\"1\" /><path clip-path=\"url(#clip670)\" d=\"M 0 0 M2121.9 222.156 L2121.9 208.128 L2126.16 208.128 L2126.16 244.146 L2121.9 244.146 L2121.9 240.257 Q2120.56 242.572 2118.49 243.706 Q2116.46 244.818 2113.59 244.818 Q2108.89 244.818 2105.93 241.068 Q2102.99 237.318 2102.99 231.207 Q2102.99 225.095 2105.93 221.345 Q2108.89 217.595 2113.59 217.595 Q2116.46 217.595 2118.49 218.73 Q2120.56 219.841 2121.9 222.156 M2107.38 231.207 Q2107.38 235.906 2109.31 238.591 Q2111.25 241.253 2114.63 241.253 Q2118.01 241.253 2119.95 238.591 Q2121.9 235.906 2121.9 231.207 Q2121.9 226.507 2119.95 223.845 Q2118.01 221.16 2114.63 221.16 Q2111.25 221.16 2109.31 223.845 Q2107.38 226.507 2107.38 231.207 Z\" fill=\"#000000\" fill-rule=\"evenodd\" fill-opacity=\"1\" /><path clip-path=\"url(#clip670)\" d=\"M 0 0 M2131.71 238.267 L2136.6 238.267 L2136.6 244.146 L2131.71 244.146 L2131.71 238.267 M2131.71 219.633 L2136.6 219.633 L2136.6 225.512 L2131.71 225.512 L2131.71 219.633 Z\" fill=\"#000000\" fill-rule=\"evenodd\" fill-opacity=\"1\" /><path clip-path=\"url(#clip670)\" d=\"M 0 0 M2154.19 208.128 L2154.19 211.67 L2150.12 211.67 Q2147.82 211.67 2146.92 212.596 Q2146.04 213.521 2146.04 215.929 L2146.04 218.22 L2153.05 218.22 L2153.05 221.531 L2146.04 221.531 L2146.04 244.146 L2141.76 244.146 L2141.76 221.531 L2137.68 221.531 L2137.68 218.22 L2141.76 218.22 L2141.76 216.415 Q2141.76 212.086 2143.77 210.119 Q2145.79 208.128 2150.16 208.128 L2154.19 208.128 Z\" fill=\"#000000\" fill-rule=\"evenodd\" fill-opacity=\"1\" /><path clip-path=\"url(#clip670)\" d=\"M 0 0 M2170.44 231.114 Q2165.28 231.114 2163.29 232.294 Q2161.3 233.475 2161.3 236.322 Q2161.3 238.591 2162.78 239.933 Q2164.28 241.253 2166.85 241.253 Q2170.39 241.253 2172.52 238.753 Q2174.68 236.23 2174.68 232.063 L2174.68 231.114 L2170.44 231.114 M2178.93 229.355 L2178.93 244.146 L2174.68 244.146 L2174.68 240.211 Q2173.22 242.572 2171.04 243.706 Q2168.87 244.818 2165.72 244.818 Q2161.74 244.818 2159.37 242.595 Q2157.04 240.35 2157.04 236.6 Q2157.04 232.225 2159.95 230.003 Q2162.89 227.781 2168.7 227.781 L2174.68 227.781 L2174.68 227.364 Q2174.68 224.424 2172.73 222.827 Q2170.81 221.207 2167.31 221.207 Q2165.09 221.207 2162.99 221.739 Q2160.88 222.271 2158.93 223.336 L2158.93 219.401 Q2161.27 218.498 2163.47 218.058 Q2165.67 217.595 2167.75 217.595 Q2173.38 217.595 2176.16 220.512 Q2178.93 223.429 2178.93 229.355 Z\" fill=\"#000000\" fill-rule=\"evenodd\" fill-opacity=\"1\" /><path clip-path=\"url(#clip670)\" d=\"M 0 0 M2183.4 208.128 L2187.66 208.128 L2187.66 244.146 L2183.4 244.146 L2183.4 208.128 Z\" fill=\"#000000\" fill-rule=\"evenodd\" fill-opacity=\"1\" /><path clip-path=\"url(#clip670)\" d=\"M 0 0 M2208.66 218.984 L2208.66 223.012 Q2206.85 222.086 2204.91 221.623 Q2202.96 221.16 2200.88 221.16 Q2197.71 221.16 2196.11 222.133 Q2194.54 223.105 2194.54 225.049 Q2194.54 226.531 2195.67 227.387 Q2196.8 228.22 2200.23 228.984 L2201.69 229.308 Q2206.23 230.281 2208.12 232.063 Q2210.05 233.822 2210.05 236.994 Q2210.05 240.605 2207.17 242.711 Q2204.33 244.818 2199.33 244.818 Q2197.24 244.818 2194.98 244.401 Q2192.73 244.007 2190.23 243.197 L2190.23 238.799 Q2192.59 240.026 2194.88 240.651 Q2197.18 241.253 2199.42 241.253 Q2202.43 241.253 2204.05 240.234 Q2205.67 239.193 2205.67 237.318 Q2205.67 235.582 2204.49 234.656 Q2203.33 233.73 2199.37 232.873 L2197.89 232.526 Q2193.93 231.693 2192.18 229.98 Q2190.42 228.244 2190.42 225.234 Q2190.42 221.577 2193.01 219.586 Q2195.6 217.595 2200.37 217.595 Q2202.73 217.595 2204.81 217.943 Q2206.9 218.29 2208.66 218.984 Z\" fill=\"#000000\" fill-rule=\"evenodd\" fill-opacity=\"1\" /><path clip-path=\"url(#clip670)\" d=\"M 0 0 M2236.69 230.119 L2236.69 232.202 L2217.11 232.202 Q2217.38 236.6 2219.74 238.915 Q2222.13 241.206 2226.36 241.206 Q2228.82 241.206 2231.11 240.605 Q2233.42 240.003 2235.69 238.799 L2235.69 242.827 Q2233.4 243.799 2230.99 244.308 Q2228.59 244.818 2226.11 244.818 Q2219.91 244.818 2216.27 241.206 Q2212.66 237.595 2212.66 231.438 Q2212.66 225.072 2216.09 221.345 Q2219.54 217.595 2225.37 217.595 Q2230.6 217.595 2233.63 220.975 Q2236.69 224.332 2236.69 230.119 M2232.43 228.869 Q2232.38 225.373 2230.46 223.29 Q2228.56 221.207 2225.42 221.207 Q2221.85 221.207 2219.7 223.22 Q2217.57 225.234 2217.24 228.892 L2232.43 228.869 Z\" fill=\"#000000\" fill-rule=\"evenodd\" fill-opacity=\"1\" /><polyline clip-path=\"url(#clip670)\" style=\"stroke:#e26f46; stroke-width:4; stroke-opacity:1; fill:none\" points=\"\n",
       "  1499.87,287.346 1639.15,287.346 \n",
       "  \"/>\n",
       "<path clip-path=\"url(#clip670)\" d=\"M 0 0 M1681.46 294.395 L1681.46 278.7 L1685.72 278.7 L1685.72 294.233 Q1685.72 297.913 1687.15 299.765 Q1688.59 301.594 1691.46 301.594 Q1694.91 301.594 1696.9 299.395 Q1698.91 297.196 1698.91 293.399 L1698.91 278.7 L1703.17 278.7 L1703.17 304.626 L1698.91 304.626 L1698.91 300.645 Q1697.36 303.006 1695.3 304.163 Q1693.27 305.298 1690.56 305.298 Q1686.09 305.298 1683.78 302.52 Q1681.46 299.742 1681.46 294.395 M1692.18 278.075 L1692.18 278.075 Z\" fill=\"#000000\" fill-rule=\"evenodd\" fill-opacity=\"1\" /><path clip-path=\"url(#clip670)\" d=\"M 0 0 M1724.17 279.464 L1724.17 283.492 Q1722.36 282.566 1720.42 282.103 Q1718.47 281.64 1716.39 281.64 Q1713.22 281.64 1711.62 282.613 Q1710.05 283.585 1710.05 285.529 Q1710.05 287.011 1711.18 287.867 Q1712.32 288.7 1715.74 289.464 L1717.2 289.788 Q1721.74 290.761 1723.64 292.543 Q1725.56 294.302 1725.56 297.474 Q1725.56 301.085 1722.69 303.191 Q1719.84 305.298 1714.84 305.298 Q1712.76 305.298 1710.49 304.881 Q1708.24 304.487 1705.74 303.677 L1705.74 299.279 Q1708.1 300.506 1710.4 301.131 Q1712.69 301.733 1714.93 301.733 Q1717.94 301.733 1719.56 300.714 Q1721.18 299.673 1721.18 297.798 Q1721.18 296.062 1720 295.136 Q1718.84 294.21 1714.89 293.353 L1713.4 293.006 Q1709.45 292.173 1707.69 290.46 Q1705.93 288.724 1705.93 285.714 Q1705.93 282.057 1708.52 280.066 Q1711.11 278.075 1715.88 278.075 Q1718.24 278.075 1720.33 278.423 Q1722.41 278.77 1724.17 279.464 Z\" fill=\"#000000\" fill-rule=\"evenodd\" fill-opacity=\"1\" /><path clip-path=\"url(#clip670)\" d=\"M 0 0 M1752.2 290.599 L1752.2 292.682 L1732.62 292.682 Q1732.9 297.08 1735.26 299.395 Q1737.64 301.686 1741.88 301.686 Q1744.33 301.686 1746.62 301.085 Q1748.94 300.483 1751.21 299.279 L1751.21 303.307 Q1748.91 304.279 1746.51 304.788 Q1744.1 305.298 1741.62 305.298 Q1735.42 305.298 1731.78 301.686 Q1728.17 298.075 1728.17 291.918 Q1728.17 285.552 1731.6 281.825 Q1735.05 278.075 1740.88 278.075 Q1746.11 278.075 1749.15 281.455 Q1752.2 284.812 1752.2 290.599 M1747.94 289.349 Q1747.9 285.853 1745.97 283.77 Q1744.08 281.687 1740.93 281.687 Q1737.36 281.687 1735.21 283.7 Q1733.08 285.714 1732.76 289.372 L1747.94 289.349 Z\" fill=\"#000000\" fill-rule=\"evenodd\" fill-opacity=\"1\" /><path clip-path=\"url(#clip670)\" d=\"M 0 0 M1776.37 312.497 L1776.37 315.807 L1751.74 315.807 L1751.74 312.497 L1776.37 312.497 Z\" fill=\"#000000\" fill-rule=\"evenodd\" fill-opacity=\"1\" /><path clip-path=\"url(#clip670)\" d=\"M 0 0 M1803.01 290.599 L1803.01 292.682 L1783.43 292.682 Q1783.71 297.08 1786.07 299.395 Q1788.45 301.686 1792.69 301.686 Q1795.14 301.686 1797.43 301.085 Q1799.75 300.483 1802.02 299.279 L1802.02 303.307 Q1799.72 304.279 1797.32 304.788 Q1794.91 305.298 1792.43 305.298 Q1786.23 305.298 1782.59 301.686 Q1778.98 298.075 1778.98 291.918 Q1778.98 285.552 1782.41 281.825 Q1785.86 278.075 1791.69 278.075 Q1796.92 278.075 1799.95 281.455 Q1803.01 284.812 1803.01 290.599 M1798.75 289.349 Q1798.7 285.853 1796.78 283.77 Q1794.89 281.687 1791.74 281.687 Q1788.17 281.687 1786.02 283.7 Q1783.89 285.714 1783.57 289.372 L1798.75 289.349 Z\" fill=\"#000000\" fill-rule=\"evenodd\" fill-opacity=\"1\" /><path clip-path=\"url(#clip670)\" d=\"M 0 0 M1828.2 278.7 L1818.82 291.316 L1828.68 304.626 L1823.66 304.626 L1816.11 294.441 L1808.57 304.626 L1803.54 304.626 L1813.61 291.062 L1804.4 278.7 L1809.42 278.7 L1816.3 287.937 L1823.17 278.7 L1828.2 278.7 Z\" fill=\"#000000\" fill-rule=\"evenodd\" fill-opacity=\"1\" /><path clip-path=\"url(#clip670)\" d=\"M 0 0 M1837.36 271.339 L1837.36 278.7 L1846.14 278.7 L1846.14 282.011 L1837.36 282.011 L1837.36 296.085 Q1837.36 299.256 1838.22 300.159 Q1839.1 301.061 1841.76 301.061 L1846.14 301.061 L1846.14 304.626 L1841.76 304.626 Q1836.83 304.626 1834.95 302.798 Q1833.08 300.946 1833.08 296.085 L1833.08 282.011 L1829.95 282.011 L1829.95 278.7 L1833.08 278.7 L1833.08 271.339 L1837.36 271.339 Z\" fill=\"#000000\" fill-rule=\"evenodd\" fill-opacity=\"1\" /><path clip-path=\"url(#clip670)\" d=\"M 0 0 M1872.78 290.599 L1872.78 292.682 L1853.2 292.682 Q1853.47 297.08 1855.83 299.395 Q1858.22 301.686 1862.45 301.686 Q1864.91 301.686 1867.2 301.085 Q1869.51 300.483 1871.78 299.279 L1871.78 303.307 Q1869.49 304.279 1867.08 304.788 Q1864.68 305.298 1862.2 305.298 Q1856 305.298 1852.36 301.686 Q1848.75 298.075 1848.75 291.918 Q1848.75 285.552 1852.18 281.825 Q1855.63 278.075 1861.46 278.075 Q1866.69 278.075 1869.72 281.455 Q1872.78 284.812 1872.78 290.599 M1868.52 289.349 Q1868.47 285.853 1866.55 283.77 Q1864.65 281.687 1861.51 281.687 Q1857.94 281.687 1855.79 283.7 Q1853.66 285.714 1853.33 289.372 L1868.52 289.349 Z\" fill=\"#000000\" fill-rule=\"evenodd\" fill-opacity=\"1\" /><path clip-path=\"url(#clip670)\" d=\"M 0 0 M1892.27 282.682 Q1891.55 282.265 1890.7 282.08 Q1889.86 281.872 1888.84 281.872 Q1885.23 281.872 1883.29 284.233 Q1881.37 286.571 1881.37 290.969 L1881.37 304.626 L1877.08 304.626 L1877.08 278.7 L1881.37 278.7 L1881.37 282.728 Q1882.71 280.367 1884.86 279.233 Q1887.01 278.075 1890.09 278.075 Q1890.53 278.075 1891.07 278.145 Q1891.6 278.191 1892.25 278.307 L1892.27 282.682 Z\" fill=\"#000000\" fill-rule=\"evenodd\" fill-opacity=\"1\" /><path clip-path=\"url(#clip670)\" d=\"M 0 0 M1917.45 288.978 L1917.45 304.626 L1913.2 304.626 L1913.2 289.117 Q1913.2 285.437 1911.76 283.608 Q1910.32 281.779 1907.45 281.779 Q1904.01 281.779 1902.01 283.978 Q1900.02 286.177 1900.02 289.974 L1900.02 304.626 L1895.74 304.626 L1895.74 278.7 L1900.02 278.7 L1900.02 282.728 Q1901.55 280.39 1903.61 279.233 Q1905.7 278.075 1908.4 278.075 Q1912.87 278.075 1915.16 280.853 Q1917.45 283.608 1917.45 288.978 Z\" fill=\"#000000\" fill-rule=\"evenodd\" fill-opacity=\"1\" /><path clip-path=\"url(#clip670)\" d=\"M 0 0 M1933.7 291.594 Q1928.54 291.594 1926.55 292.774 Q1924.56 293.955 1924.56 296.802 Q1924.56 299.071 1926.04 300.413 Q1927.55 301.733 1930.12 301.733 Q1933.66 301.733 1935.79 299.233 Q1937.94 296.71 1937.94 292.543 L1937.94 291.594 L1933.7 291.594 M1942.2 289.835 L1942.2 304.626 L1937.94 304.626 L1937.94 300.691 Q1936.48 303.052 1934.31 304.186 Q1932.13 305.298 1928.98 305.298 Q1925 305.298 1922.64 303.075 Q1920.3 300.83 1920.3 297.08 Q1920.3 292.705 1923.22 290.483 Q1926.16 288.261 1931.97 288.261 L1937.94 288.261 L1937.94 287.844 Q1937.94 284.904 1936 283.307 Q1934.07 281.687 1930.58 281.687 Q1928.36 281.687 1926.25 282.219 Q1924.14 282.751 1922.2 283.816 L1922.2 279.881 Q1924.54 278.978 1926.74 278.538 Q1928.94 278.075 1931.02 278.075 Q1936.64 278.075 1939.42 280.992 Q1942.2 283.909 1942.2 289.835 Z\" fill=\"#000000\" fill-rule=\"evenodd\" fill-opacity=\"1\" /><path clip-path=\"url(#clip670)\" d=\"M 0 0 M1946.67 268.608 L1950.93 268.608 L1950.93 304.626 L1946.67 304.626 L1946.67 268.608 Z\" fill=\"#000000\" fill-rule=\"evenodd\" fill-opacity=\"1\" /><path clip-path=\"url(#clip670)\" d=\"M 0 0 M1975.09 312.497 L1975.09 315.807 L1950.46 315.807 L1950.46 312.497 L1975.09 312.497 Z\" fill=\"#000000\" fill-rule=\"evenodd\" fill-opacity=\"1\" /><path clip-path=\"url(#clip670)\" d=\"M 0 0 M1994.58 282.682 Q1993.87 282.265 1993.01 282.08 Q1992.18 281.872 1991.16 281.872 Q1987.55 281.872 1985.6 284.233 Q1983.68 286.571 1983.68 290.969 L1983.68 304.626 L1979.4 304.626 L1979.4 278.7 L1983.68 278.7 L1983.68 282.728 Q1985.02 280.367 1987.18 279.233 Q1989.33 278.075 1992.41 278.075 Q1992.85 278.075 1993.38 278.145 Q1993.91 278.191 1994.56 278.307 L1994.58 282.682 Z\" fill=\"#000000\" fill-rule=\"evenodd\" fill-opacity=\"1\" /><path clip-path=\"url(#clip670)\" d=\"M 0 0 M2020.19 290.599 L2020.19 292.682 L2000.6 292.682 Q2000.88 297.08 2003.24 299.395 Q2005.63 301.686 2009.86 301.686 Q2012.31 301.686 2014.61 301.085 Q2016.92 300.483 2019.19 299.279 L2019.19 303.307 Q2016.9 304.279 2014.49 304.788 Q2012.08 305.298 2009.61 305.298 Q2003.4 305.298 1999.77 301.686 Q1996.16 298.075 1996.16 291.918 Q1996.16 285.552 1999.58 281.825 Q2003.03 278.075 2008.87 278.075 Q2014.1 278.075 2017.13 281.455 Q2020.19 284.812 2020.19 290.599 M2015.93 289.349 Q2015.88 285.853 2013.96 283.77 Q2012.06 281.687 2008.91 281.687 Q2005.35 281.687 2003.19 283.7 Q2001.06 285.714 2000.74 289.372 L2015.93 289.349 Z\" fill=\"#000000\" fill-rule=\"evenodd\" fill-opacity=\"1\" /><path clip-path=\"url(#clip670)\" d=\"M 0 0 M2022.18 278.7 L2026.44 278.7 L2031.76 298.932 L2037.06 278.7 L2042.08 278.7 L2047.41 298.932 L2052.71 278.7 L2056.97 278.7 L2050.19 304.626 L2045.16 304.626 L2039.58 283.376 L2033.98 304.626 L2028.96 304.626 L2022.18 278.7 Z\" fill=\"#000000\" fill-rule=\"evenodd\" fill-opacity=\"1\" /><path clip-path=\"url(#clip670)\" d=\"M 0 0 M2073.22 291.594 Q2068.06 291.594 2066.06 292.774 Q2064.07 293.955 2064.07 296.802 Q2064.07 299.071 2065.56 300.413 Q2067.06 301.733 2069.63 301.733 Q2073.17 301.733 2075.3 299.233 Q2077.45 296.71 2077.45 292.543 L2077.45 291.594 L2073.22 291.594 M2081.71 289.835 L2081.71 304.626 L2077.45 304.626 L2077.45 300.691 Q2076 303.052 2073.82 304.186 Q2071.64 305.298 2068.5 305.298 Q2064.51 305.298 2062.15 303.075 Q2059.81 300.83 2059.81 297.08 Q2059.81 292.705 2062.73 290.483 Q2065.67 288.261 2071.48 288.261 L2077.45 288.261 L2077.45 287.844 Q2077.45 284.904 2075.51 283.307 Q2073.59 281.687 2070.09 281.687 Q2067.87 281.687 2065.76 282.219 Q2063.66 282.751 2061.71 283.816 L2061.71 279.881 Q2064.05 278.978 2066.25 278.538 Q2068.45 278.075 2070.53 278.075 Q2076.16 278.075 2078.93 280.992 Q2081.71 283.909 2081.71 289.835 Z\" fill=\"#000000\" fill-rule=\"evenodd\" fill-opacity=\"1\" /><path clip-path=\"url(#clip670)\" d=\"M 0 0 M2101.2 282.682 Q2100.49 282.265 2099.63 282.08 Q2098.8 281.872 2097.78 281.872 Q2094.17 281.872 2092.22 284.233 Q2090.3 286.571 2090.3 290.969 L2090.3 304.626 L2086.02 304.626 L2086.02 278.7 L2090.3 278.7 L2090.3 282.728 Q2091.64 280.367 2093.8 279.233 Q2095.95 278.075 2099.03 278.075 Q2099.47 278.075 2100 278.145 Q2100.53 278.191 2101.18 278.307 L2101.2 282.682 Z\" fill=\"#000000\" fill-rule=\"evenodd\" fill-opacity=\"1\" /><path clip-path=\"url(#clip670)\" d=\"M 0 0 M2121.9 282.636 L2121.9 268.608 L2126.16 268.608 L2126.16 304.626 L2121.9 304.626 L2121.9 300.737 Q2120.56 303.052 2118.49 304.186 Q2116.46 305.298 2113.59 305.298 Q2108.89 305.298 2105.93 301.548 Q2102.99 297.798 2102.99 291.687 Q2102.99 285.575 2105.93 281.825 Q2108.89 278.075 2113.59 278.075 Q2116.46 278.075 2118.49 279.21 Q2120.56 280.321 2121.9 282.636 M2107.38 291.687 Q2107.38 296.386 2109.31 299.071 Q2111.25 301.733 2114.63 301.733 Q2118.01 301.733 2119.95 299.071 Q2121.9 296.386 2121.9 291.687 Q2121.9 286.987 2119.95 284.325 Q2118.01 281.64 2114.63 281.64 Q2111.25 281.64 2109.31 284.325 Q2107.38 286.987 2107.38 291.687 Z\" fill=\"#000000\" fill-rule=\"evenodd\" fill-opacity=\"1\" /><path clip-path=\"url(#clip670)\" d=\"M 0 0 M2131.71 298.747 L2136.6 298.747 L2136.6 304.626 L2131.71 304.626 L2131.71 298.747 M2131.71 280.113 L2136.6 280.113 L2136.6 285.992 L2131.71 285.992 L2131.71 280.113 Z\" fill=\"#000000\" fill-rule=\"evenodd\" fill-opacity=\"1\" /><path clip-path=\"url(#clip670)\" d=\"M 0 0 M2145.28 271.339 L2145.28 278.7 L2154.05 278.7 L2154.05 282.011 L2145.28 282.011 L2145.28 296.085 Q2145.28 299.256 2146.13 300.159 Q2147.01 301.061 2149.68 301.061 L2154.05 301.061 L2154.05 304.626 L2149.68 304.626 Q2144.74 304.626 2142.87 302.798 Q2140.99 300.946 2140.99 296.085 L2140.99 282.011 L2137.87 282.011 L2137.87 278.7 L2140.99 278.7 L2140.99 271.339 L2145.28 271.339 Z\" fill=\"#000000\" fill-rule=\"evenodd\" fill-opacity=\"1\" /><path clip-path=\"url(#clip670)\" d=\"M 0 0 M2173.54 282.682 Q2172.82 282.265 2171.97 282.08 Q2171.13 281.872 2170.12 281.872 Q2166.5 281.872 2164.56 284.233 Q2162.64 286.571 2162.64 290.969 L2162.64 304.626 L2158.36 304.626 L2158.36 278.7 L2162.64 278.7 L2162.64 282.728 Q2163.98 280.367 2166.13 279.233 Q2168.29 278.075 2171.36 278.075 Q2171.8 278.075 2172.34 278.145 Q2172.87 278.191 2173.52 278.307 L2173.54 282.682 Z\" fill=\"#000000\" fill-rule=\"evenodd\" fill-opacity=\"1\" /><path clip-path=\"url(#clip670)\" d=\"M 0 0 M2177.57 294.395 L2177.57 278.7 L2181.83 278.7 L2181.83 294.233 Q2181.83 297.913 2183.26 299.765 Q2184.7 301.594 2187.57 301.594 Q2191.02 301.594 2193.01 299.395 Q2195.02 297.196 2195.02 293.399 L2195.02 278.7 L2199.28 278.7 L2199.28 304.626 L2195.02 304.626 L2195.02 300.645 Q2193.47 303.006 2191.41 304.163 Q2189.37 305.298 2186.67 305.298 Q2182.2 305.298 2179.88 302.52 Q2177.57 299.742 2177.57 294.395 M2188.29 278.075 L2188.29 278.075 Z\" fill=\"#000000\" fill-rule=\"evenodd\" fill-opacity=\"1\" /><path clip-path=\"url(#clip670)\" d=\"M 0 0 M2225.92 290.599 L2225.92 292.682 L2206.34 292.682 Q2206.62 297.08 2208.98 299.395 Q2211.36 301.686 2215.6 301.686 Q2218.05 301.686 2220.35 301.085 Q2222.66 300.483 2224.93 299.279 L2224.93 303.307 Q2222.64 304.279 2220.23 304.788 Q2217.82 305.298 2215.35 305.298 Q2209.14 305.298 2205.51 301.686 Q2201.9 298.075 2201.9 291.918 Q2201.9 285.552 2205.32 281.825 Q2208.77 278.075 2214.61 278.075 Q2219.84 278.075 2222.87 281.455 Q2225.92 284.812 2225.92 290.599 M2221.67 289.349 Q2221.62 285.853 2219.7 283.77 Q2217.8 281.687 2214.65 281.687 Q2211.09 281.687 2208.93 283.7 Q2206.8 285.714 2206.48 289.372 L2221.67 289.349 Z\" fill=\"#000000\" fill-rule=\"evenodd\" fill-opacity=\"1\" /></svg>\n"
      ]
     },
     "metadata": {},
     "output_type": "display_data"
    }
   ],
   "source": [
    "plot_mc_errors(data, labels,step_increment = 50,data_std=data_std, title=\"Exploring Position & Velocity\")\n"
   ]
  },
  {
   "cell_type": "code",
   "execution_count": 384,
   "metadata": {},
   "outputs": [],
   "source": [
    "savefig(\"./plots/MountainCarMSEVel.png\")"
   ]
  },
  {
   "cell_type": "code",
   "execution_count": 385,
   "metadata": {},
   "outputs": [
    {
     "ename": "LoadError",
     "evalue": "\u001b[91mBoundsError: attempt to access 2-element Array{Array{Float64,2},1} at index [4]\u001b[39m",
     "output_type": "error",
     "traceback": [
      "\u001b[91mBoundsError: attempt to access 2-element Array{Array{Float64,2},1} at index [4]\u001b[39m",
      "",
      "Stacktrace:",
      " [1] getindex(::Array{Array{Float64,2},1}, ::Int64) at ./array.jl:809",
      " [2] top-level scope at In[385]:3",
      " [3] include_string(::Function, ::Module, ::String, ::String) at ./loading.jl:1091"
     ]
    }
   ],
   "source": [
    "data_per_gvf = [smooth(get_stats(load_results(ic,:mc_error), per_gvf=true)[1],5) for ic in best_per_algo_ics]\n",
    "\n",
    "data_per_gvf[4]\n",
    "# plot_mc_errors(data_per_gvf[3], [\"D1\", \"D2\"])"
   ]
  },
  {
   "cell_type": "code",
   "execution_count": 386,
   "metadata": {},
   "outputs": [
    {
     "data": {
      "text/plain": [
       "2-element Array{Array{Any,1},1}:\n",
       " [[1362, 98, 96, 224, 111, 173, 473, 294, 854, 88  …  2000, 2000, 2000, 2000, 2000, 2000, 2000, 2000, 2000, 948], [2000, 2000, 2000, 2000, 2000, 2000, 2000, 2000, 2000, 2000  …  2000, 2000, 2000, 2000, 2000, 2000, 2000, 2000, 2000, 1986], [2000, 2000, 8, 2000, 2000, 2000, 2000, 2000, 2000, 2000  …  2000, 2000, 5, 2000, 2000, 2000, 2000, 2000, 2000, 1980], [2000, 2000, 1468, 2000, 2000, 2000, 2000, 2000, 2000, 2000  …  2000, 2000, 2000, 13, 2000, 2000, 2000, 2000, 2000, 496], [2000, 2000, 2000, 2000, 2000, 2000, 2000, 2000, 15, 2000  …  2000, 2000, 2000, 2000, 2000, 2000, 2000, 2000, 2000, 1970], [2000, 2000, 2000, 2000, 2000, 2000, 2000, 2000, 2000, 2000  …  2000, 2000, 2000, 2000, 2000, 2000, 2000, 2000, 2000, 1996], [2000, 2000, 2000, 2000, 2000, 2000, 2000, 2000, 2000, 2000  …  2000, 5, 2000, 2000, 2000, 2000, 2000, 2000, 2000, 1987], [1378, 119, 105, 111, 83, 101, 201, 112, 196, 95  …  2000, 2000, 2000, 2000, 2000, 2000, 2000, 2000, 2000, 1774], [2000, 2000, 2000, 2000, 2000, 2000, 2000, 2000, 2000, 2000  …  6, 2000, 2000, 2000, 2000, 2000, 2000, 24, 2000, 1959], [2000, 2000, 5, 2000, 2000, 2000, 2000, 12, 2000, 2000  …  2000, 2000, 2000, 2000, 2000, 2000, 2000, 2000, 2000, 1968]  …  [2000, 922, 109, 310, 104, 189, 190, 933, 2000, 2000  …  2000, 2000, 2000, 30, 2000, 4, 2000, 2000, 2000, 1136], [2000, 2000, 2000, 2000, 2000, 2000, 2000, 2000, 2000, 2000  …  2000, 2000, 2000, 2000, 2000, 2000, 2000, 2000, 2000, 1991], [2000, 2000, 2000, 2000, 2000, 2000, 2000, 2000, 2000, 2000  …  2000, 6, 2000, 11, 2000, 2000, 2000, 2000, 2000, 1983], [2000, 2000, 2000, 2000, 2000, 2000, 2000, 2000, 2000, 2000  …  2000, 2000, 2000, 14, 2000, 2000, 2000, 2000, 2000, 1986], [2000, 2000, 1234, 595, 519, 2000, 2000, 2000, 2000, 2000  …  2000, 2000, 2000, 2000, 2000, 2000, 2000, 2000, 2000, 1626], [2000, 2000, 2000, 2000, 2000, 2000, 2000, 2000, 4, 2000  …  2000, 2000, 2000, 2000, 2000, 2000, 2000, 2000, 2000, 1996], [2000, 2000, 2000, 2000, 2000, 2000, 2000, 2000, 2000, 11  …  2000, 6, 2000, 2000, 2000, 2000, 2000, 2000, 2000, 1978], [2000, 2000, 2000, 2000, 2000, 2000, 2000, 2000, 2000, 2000  …  2000, 2000, 2000, 2000, 2000, 2000, 2000, 2000, 2000, 1983], [2000, 2000, 2000, 2000, 2000, 2000, 2000, 2000, 2000, 2000  …  2000, 2000, 2000, 2000, 2000, 2000, 2000, 2000, 2000, 1963], [2000, 2000, 2000, 2000, 2000, 2000, 2000, 4, 2000, 2000  …  2000, 2000, 2000, 2000, 11, 2000, 2000, 2000, 2000, 1978]]\n",
       " [[1814, 1780, 326, 97, 16, 668, 467, 87, 16, 200  …  105, 86, 77, 101, 92, 89, 352, 94, 85, 85], [1202, 919, 1645, 94, 194, 8, 84, 13, 115, 84  …  108, 98, 111, 253, 26, 116, 22, 27, 223, 94], [2000, 105, 820, 106, 40, 18, 189, 419, 272, 197  …  106, 93, 19, 16, 89, 91, 84, 74, 122, 147], [1211, 5, 501, 320, 545, 279, 320, 16, 402, 99  …  130, 87, 88, 92, 105, 95, 87, 105, 88, 30], [1608, 683, 1213, 80, 175, 248, 475, 632, 80, 158  …  176, 213, 106, 86, 87, 86, 21, 101, 97, 8], [2000, 868, 109, 119, 675, 674, 344, 127, 94, 85  …  95, 14, 102, 118, 108, 108, 89, 79, 92, 21], [2000, 1646, 103, 7, 84, 84, 191, 88, 79, 118  …  154, 76, 107, 19, 84, 100, 109, 74, 5, 105], [1530, 886, 662, 280, 704, 287, 254, 139, 124, 336  …  166, 73, 79, 91, 18, 84, 99, 77, 87, 82], [1686, 1134, 761, 85, 82, 902, 98, 90, 103, 98  …  223, 105, 129, 89, 102, 27, 107, 105, 108, 101], [1320, 92, 1056, 384, 295, 285, 86, 211, 98, 741  …  116, 94, 90, 97, 102, 92, 86, 80, 81, 88]  …  [1637, 857, 928, 94, 123, 6, 103, 499, 288, 246  …  97, 86, 99, 87, 7, 216, 183, 180, 199, 49], [738, 1928, 113, 88, 94, 1134, 226, 96, 88, 113  …  12, 189, 94, 170, 124, 183, 89, 99, 19, 58], [683, 28, 1554, 110, 37, 479, 105, 664, 101, 102  …  91, 108, 95, 95, 91, 87, 103, 86, 88, 67], [1200, 1246, 409, 695, 165, 98, 277, 93, 15, 207  …  122, 88, 80, 153, 106, 113, 89, 170, 77, 109], [2000, 231, 17, 440, 112, 121, 123, 126, 115, 832  …  94, 166, 16, 90, 74, 85, 83, 145, 84, 59], [2000, 109, 392, 425, 81, 19, 299, 356, 85, 26  …  87, 213, 23, 89, 96, 98, 84, 89, 6, 59], [1990, 2000, 544, 111, 93, 95, 110, 8, 29, 43  …  104, 108, 113, 97, 100, 104, 10, 104, 98, 16], [1832, 649, 138, 935, 111, 89, 151, 103, 571, 106  …  106, 173, 119, 132, 98, 170, 97, 80, 121, 78], [2000, 112, 398, 824, 352, 97, 111, 348, 196, 327  …  107, 88, 80, 96, 93, 183, 110, 126, 94, 83], [785, 826, 938, 93, 88, 109, 98, 12, 338, 429  …  76, 77, 107, 92, 71, 97, 91, 33, 76, 23]]"
      ]
     },
     "execution_count": 386,
     "metadata": {},
     "output_type": "execute_result"
    }
   ],
   "source": [
    "episode_lengths = [load_results(ic,:episode_length, return_type=\"array\") for ic in best_per_algo_ics]\n"
   ]
  },
  {
   "cell_type": "code",
   "execution_count": 387,
   "metadata": {},
   "outputs": [
    {
     "data": {
      "text/plain": [
       "average_first_n (generic function with 1 method)"
      ]
     },
     "execution_count": 387,
     "metadata": {},
     "output_type": "execute_result"
    }
   ],
   "source": [
    "function average_first_n(arr_of_arr,n)\n",
    "    ave = zeros(n)\n",
    "    for arr in arr_of_arr\n",
    "        ave += arr[1:n]\n",
    "    end\n",
    "    ave /= length(arr_of_arr)\n",
    "end"
   ]
  },
  {
   "cell_type": "code",
   "execution_count": 388,
   "metadata": {},
   "outputs": [
    {
     "data": {
      "text/plain": [
       "2-element Array{Array{Float64,1},1}:\n",
       " [1876.1666666666667, 1647.8, 1508.3333333333333, 1729.2666666666667, 1627.5333333333333, 1686.7, 1744.8333333333333, 1589.8333333333333, 1731.4333333333334, 1743.4666666666667  …  1760.1333333333334, 1804.0, 2000.0, 1800.5333333333333, 1800.8666666666666, 1867.2, 1933.6333333333334, 1867.3333333333333, 1933.7666666666667, 2000.0]\n",
       " [1540.9666666666667, 840.1, 497.03333333333336, 286.76666666666665, 296.6333333333333, 247.46666666666667, 200.16666666666666, 216.46666666666667, 172.8, 220.76666666666668  …  104.8, 97.86666666666666, 110.63333333333334, 92.63333333333334, 122.36666666666666, 97.63333333333334, 102.6, 100.96666666666667, 96.5, 101.96666666666667]"
      ]
     },
     "execution_count": 388,
     "metadata": {},
     "output_type": "execute_result"
    }
   ],
   "source": [
    "init_episode_lengths = [average_first_n(episode_lengths[i],50) for i in 1:length(episode_lengths)]"
   ]
  },
  {
   "cell_type": "code",
   "execution_count": 389,
   "metadata": {},
   "outputs": [
    {
     "data": {
      "image/svg+xml": [
       "<?xml version=\"1.0\" encoding=\"utf-8\"?>\n",
       "<svg xmlns=\"http://www.w3.org/2000/svg\" xmlns:xlink=\"http://www.w3.org/1999/xlink\" width=\"600\" height=\"400\" viewBox=\"0 0 2400 1600\">\n",
       "<defs>\n",
       "  <clipPath id=\"clip720\">\n",
       "    <rect x=\"0\" y=\"0\" width=\"2400\" height=\"1600\"/>\n",
       "  </clipPath>\n",
       "</defs>\n",
       "<path clip-path=\"url(#clip720)\" d=\"\n",
       "M0 1600 L2400 1600 L2400 0 L0 0  Z\n",
       "  \" fill=\"#ffffff\" fill-rule=\"evenodd\" fill-opacity=\"1\"/>\n",
       "<defs>\n",
       "  <clipPath id=\"clip721\">\n",
       "    <rect x=\"480\" y=\"0\" width=\"1681\" height=\"1600\"/>\n",
       "  </clipPath>\n",
       "</defs>\n",
       "<path clip-path=\"url(#clip720)\" d=\"\n",
       "M253.246 1423.18 L2352.76 1423.18 L2352.76 123.472 L253.246 123.472  Z\n",
       "  \" fill=\"#ffffff\" fill-rule=\"evenodd\" fill-opacity=\"1\"/>\n",
       "<defs>\n",
       "  <clipPath id=\"clip722\">\n",
       "    <rect x=\"253\" y=\"123\" width=\"2101\" height=\"1301\"/>\n",
       "  </clipPath>\n",
       "</defs>\n",
       "<polyline clip-path=\"url(#clip722)\" style=\"stroke:#000000; stroke-width:2; stroke-opacity:0.1; fill:none\" points=\"\n",
       "  272.244,1423.18 272.244,123.472 \n",
       "  \"/>\n",
       "<polyline clip-path=\"url(#clip722)\" style=\"stroke:#000000; stroke-width:2; stroke-opacity:0.1; fill:none\" points=\"\n",
       "  676.462,1423.18 676.462,123.472 \n",
       "  \"/>\n",
       "<polyline clip-path=\"url(#clip722)\" style=\"stroke:#000000; stroke-width:2; stroke-opacity:0.1; fill:none\" points=\"\n",
       "  1080.68,1423.18 1080.68,123.472 \n",
       "  \"/>\n",
       "<polyline clip-path=\"url(#clip722)\" style=\"stroke:#000000; stroke-width:2; stroke-opacity:0.1; fill:none\" points=\"\n",
       "  1484.9,1423.18 1484.9,123.472 \n",
       "  \"/>\n",
       "<polyline clip-path=\"url(#clip722)\" style=\"stroke:#000000; stroke-width:2; stroke-opacity:0.1; fill:none\" points=\"\n",
       "  1889.12,1423.18 1889.12,123.472 \n",
       "  \"/>\n",
       "<polyline clip-path=\"url(#clip722)\" style=\"stroke:#000000; stroke-width:2; stroke-opacity:0.1; fill:none\" points=\"\n",
       "  2293.34,1423.18 2293.34,123.472 \n",
       "  \"/>\n",
       "<polyline clip-path=\"url(#clip720)\" style=\"stroke:#000000; stroke-width:4; stroke-opacity:1; fill:none\" points=\"\n",
       "  253.246,1423.18 2352.76,1423.18 \n",
       "  \"/>\n",
       "<polyline clip-path=\"url(#clip720)\" style=\"stroke:#000000; stroke-width:4; stroke-opacity:1; fill:none\" points=\"\n",
       "  272.244,1423.18 272.244,1407.58 \n",
       "  \"/>\n",
       "<polyline clip-path=\"url(#clip720)\" style=\"stroke:#000000; stroke-width:4; stroke-opacity:1; fill:none\" points=\"\n",
       "  676.462,1423.18 676.462,1407.58 \n",
       "  \"/>\n",
       "<polyline clip-path=\"url(#clip720)\" style=\"stroke:#000000; stroke-width:4; stroke-opacity:1; fill:none\" points=\"\n",
       "  1080.68,1423.18 1080.68,1407.58 \n",
       "  \"/>\n",
       "<polyline clip-path=\"url(#clip720)\" style=\"stroke:#000000; stroke-width:4; stroke-opacity:1; fill:none\" points=\"\n",
       "  1484.9,1423.18 1484.9,1407.58 \n",
       "  \"/>\n",
       "<polyline clip-path=\"url(#clip720)\" style=\"stroke:#000000; stroke-width:4; stroke-opacity:1; fill:none\" points=\"\n",
       "  1889.12,1423.18 1889.12,1407.58 \n",
       "  \"/>\n",
       "<polyline clip-path=\"url(#clip720)\" style=\"stroke:#000000; stroke-width:4; stroke-opacity:1; fill:none\" points=\"\n",
       "  2293.34,1423.18 2293.34,1407.58 \n",
       "  \"/>\n",
       "<path clip-path=\"url(#clip720)\" d=\"M 0 0 M272.244 1452.37 Q268.633 1452.37 266.804 1455.94 Q264.999 1459.48 264.999 1466.61 Q264.999 1473.71 266.804 1477.28 Q268.633 1480.82 272.244 1480.82 Q275.878 1480.82 277.684 1477.28 Q279.512 1473.71 279.512 1466.61 Q279.512 1459.48 277.684 1455.94 Q275.878 1452.37 272.244 1452.37 M272.244 1448.67 Q278.054 1448.67 281.11 1453.27 Q284.188 1457.86 284.188 1466.61 Q284.188 1475.33 281.11 1479.94 Q278.054 1484.52 272.244 1484.52 Q266.434 1484.52 263.355 1479.94 Q260.3 1475.33 260.3 1466.61 Q260.3 1457.86 263.355 1453.27 Q266.434 1448.67 272.244 1448.67 Z\" fill=\"#000000\" fill-rule=\"evenodd\" fill-opacity=\"1\" /><path clip-path=\"url(#clip720)\" d=\"M 0 0 M653.337 1479.92 L660.976 1479.92 L660.976 1453.55 L652.666 1455.22 L652.666 1450.96 L660.93 1449.29 L665.606 1449.29 L665.606 1479.92 L673.245 1479.92 L673.245 1483.85 L653.337 1483.85 L653.337 1479.92 Z\" fill=\"#000000\" fill-rule=\"evenodd\" fill-opacity=\"1\" /><path clip-path=\"url(#clip720)\" d=\"M 0 0 M688.314 1452.37 Q684.703 1452.37 682.874 1455.94 Q681.069 1459.48 681.069 1466.61 Q681.069 1473.71 682.874 1477.28 Q684.703 1480.82 688.314 1480.82 Q691.948 1480.82 693.754 1477.28 Q695.583 1473.71 695.583 1466.61 Q695.583 1459.48 693.754 1455.94 Q691.948 1452.37 688.314 1452.37 M688.314 1448.67 Q694.124 1448.67 697.18 1453.27 Q700.259 1457.86 700.259 1466.61 Q700.259 1475.33 697.18 1479.94 Q694.124 1484.52 688.314 1484.52 Q682.504 1484.52 679.425 1479.94 Q676.37 1475.33 676.37 1466.61 Q676.37 1457.86 679.425 1453.27 Q682.504 1448.67 688.314 1448.67 Z\" fill=\"#000000\" fill-rule=\"evenodd\" fill-opacity=\"1\" /><path clip-path=\"url(#clip720)\" d=\"M 0 0 M1061.83 1479.92 L1078.15 1479.92 L1078.15 1483.85 L1056.2 1483.85 L1056.2 1479.92 Q1058.86 1477.16 1063.45 1472.53 Q1068.05 1467.88 1069.23 1466.54 Q1071.48 1464.01 1072.36 1462.28 Q1073.26 1460.52 1073.26 1458.83 Q1073.26 1456.07 1071.32 1454.34 Q1069.4 1452.6 1066.29 1452.6 Q1064.1 1452.6 1061.64 1453.37 Q1059.21 1454.13 1056.43 1455.68 L1056.43 1450.96 Q1059.26 1449.82 1061.71 1449.25 Q1064.16 1448.67 1066.2 1448.67 Q1071.57 1448.67 1074.77 1451.35 Q1077.96 1454.04 1077.96 1458.53 Q1077.96 1460.66 1077.15 1462.58 Q1076.36 1464.48 1074.26 1467.07 Q1073.68 1467.74 1070.58 1470.96 Q1067.47 1474.15 1061.83 1479.92 Z\" fill=\"#000000\" fill-rule=\"evenodd\" fill-opacity=\"1\" /><path clip-path=\"url(#clip720)\" d=\"M 0 0 M1093.22 1452.37 Q1089.6 1452.37 1087.78 1455.94 Q1085.97 1459.48 1085.97 1466.61 Q1085.97 1473.71 1087.78 1477.28 Q1089.6 1480.82 1093.22 1480.82 Q1096.85 1480.82 1098.66 1477.28 Q1100.48 1473.71 1100.48 1466.61 Q1100.48 1459.48 1098.66 1455.94 Q1096.85 1452.37 1093.22 1452.37 M1093.22 1448.67 Q1099.03 1448.67 1102.08 1453.27 Q1105.16 1457.86 1105.16 1466.61 Q1105.16 1475.33 1102.08 1479.94 Q1099.03 1484.52 1093.22 1484.52 Q1087.41 1484.52 1084.33 1479.94 Q1081.27 1475.33 1081.27 1466.61 Q1081.27 1457.86 1084.33 1453.27 Q1087.41 1448.67 1093.22 1448.67 Z\" fill=\"#000000\" fill-rule=\"evenodd\" fill-opacity=\"1\" /><path clip-path=\"url(#clip720)\" d=\"M 0 0 M1475.64 1465.22 Q1479 1465.94 1480.87 1468.2 Q1482.77 1470.47 1482.77 1473.81 Q1482.77 1478.92 1479.25 1481.72 Q1475.73 1484.52 1469.25 1484.52 Q1467.08 1484.52 1464.76 1484.08 Q1462.47 1483.67 1460.01 1482.81 L1460.01 1478.3 Q1461.96 1479.43 1464.27 1480.01 Q1466.59 1480.59 1469.11 1480.59 Q1473.51 1480.59 1475.8 1478.85 Q1478.12 1477.12 1478.12 1473.81 Q1478.12 1470.75 1475.96 1469.04 Q1473.83 1467.3 1470.01 1467.3 L1465.99 1467.3 L1465.99 1463.46 L1470.2 1463.46 Q1473.65 1463.46 1475.48 1462.09 Q1477.31 1460.7 1477.31 1458.11 Q1477.31 1455.45 1475.41 1454.04 Q1473.53 1452.6 1470.01 1452.6 Q1468.09 1452.6 1465.89 1453.02 Q1463.7 1453.44 1461.06 1454.31 L1461.06 1450.15 Q1463.72 1449.41 1466.03 1449.04 Q1468.37 1448.67 1470.43 1448.67 Q1475.76 1448.67 1478.86 1451.1 Q1481.96 1453.5 1481.96 1457.63 Q1481.96 1460.5 1480.32 1462.49 Q1478.67 1464.45 1475.64 1465.22 Z\" fill=\"#000000\" fill-rule=\"evenodd\" fill-opacity=\"1\" /><path clip-path=\"url(#clip720)\" d=\"M 0 0 M1497.84 1452.37 Q1494.23 1452.37 1492.4 1455.94 Q1490.59 1459.48 1490.59 1466.61 Q1490.59 1473.71 1492.4 1477.28 Q1494.23 1480.82 1497.84 1480.82 Q1501.47 1480.82 1503.28 1477.28 Q1505.11 1473.71 1505.11 1466.61 Q1505.11 1459.48 1503.28 1455.94 Q1501.47 1452.37 1497.84 1452.37 M1497.84 1448.67 Q1503.65 1448.67 1506.7 1453.27 Q1509.78 1457.86 1509.78 1466.61 Q1509.78 1475.33 1506.7 1479.94 Q1503.65 1484.52 1497.84 1484.52 Q1492.03 1484.52 1488.95 1479.94 Q1485.89 1475.33 1485.89 1466.61 Q1485.89 1457.86 1488.95 1453.27 Q1492.03 1448.67 1497.84 1448.67 Z\" fill=\"#000000\" fill-rule=\"evenodd\" fill-opacity=\"1\" /><path clip-path=\"url(#clip720)\" d=\"M 0 0 M1878.62 1453.37 L1866.81 1471.81 L1878.62 1471.81 L1878.62 1453.37 M1877.39 1449.29 L1883.27 1449.29 L1883.27 1471.81 L1888.2 1471.81 L1888.2 1475.7 L1883.27 1475.7 L1883.27 1483.85 L1878.62 1483.85 L1878.62 1475.7 L1863.02 1475.7 L1863.02 1471.19 L1877.39 1449.29 Z\" fill=\"#000000\" fill-rule=\"evenodd\" fill-opacity=\"1\" /><path clip-path=\"url(#clip720)\" d=\"M 0 0 M1903.27 1452.37 Q1899.66 1452.37 1897.83 1455.94 Q1896.03 1459.48 1896.03 1466.61 Q1896.03 1473.71 1897.83 1477.28 Q1899.66 1480.82 1903.27 1480.82 Q1906.91 1480.82 1908.71 1477.28 Q1910.54 1473.71 1910.54 1466.61 Q1910.54 1459.48 1908.71 1455.94 Q1906.91 1452.37 1903.27 1452.37 M1903.27 1448.67 Q1909.08 1448.67 1912.14 1453.27 Q1915.22 1457.86 1915.22 1466.61 Q1915.22 1475.33 1912.14 1479.94 Q1909.08 1484.52 1903.27 1484.52 Q1897.46 1484.52 1894.38 1479.94 Q1891.33 1475.33 1891.33 1466.61 Q1891.33 1457.86 1894.38 1453.27 Q1897.46 1448.67 1903.27 1448.67 Z\" fill=\"#000000\" fill-rule=\"evenodd\" fill-opacity=\"1\" /><path clip-path=\"url(#clip720)\" d=\"M 0 0 M2270.11 1449.29 L2288.46 1449.29 L2288.46 1453.23 L2274.39 1453.23 L2274.39 1461.7 Q2275.41 1461.35 2276.43 1461.19 Q2277.44 1461 2278.46 1461 Q2284.25 1461 2287.63 1464.18 Q2291.01 1467.35 2291.01 1472.76 Q2291.01 1478.34 2287.54 1481.44 Q2284.07 1484.52 2277.75 1484.52 Q2275.57 1484.52 2273.3 1484.15 Q2271.06 1483.78 2268.65 1483.04 L2268.65 1478.34 Q2270.73 1479.48 2272.95 1480.03 Q2275.18 1480.59 2277.65 1480.59 Q2281.66 1480.59 2284 1478.48 Q2286.33 1476.38 2286.33 1472.76 Q2286.33 1469.15 2284 1467.05 Q2281.66 1464.94 2277.65 1464.94 Q2275.78 1464.94 2273.9 1465.36 Q2272.05 1465.77 2270.11 1466.65 L2270.11 1449.29 Z\" fill=\"#000000\" fill-rule=\"evenodd\" fill-opacity=\"1\" /><path clip-path=\"url(#clip720)\" d=\"M 0 0 M2306.08 1452.37 Q2302.47 1452.37 2300.64 1455.94 Q2298.83 1459.48 2298.83 1466.61 Q2298.83 1473.71 2300.64 1477.28 Q2302.47 1480.82 2306.08 1480.82 Q2309.71 1480.82 2311.52 1477.28 Q2313.35 1473.71 2313.35 1466.61 Q2313.35 1459.48 2311.52 1455.94 Q2309.71 1452.37 2306.08 1452.37 M2306.08 1448.67 Q2311.89 1448.67 2314.94 1453.27 Q2318.02 1457.86 2318.02 1466.61 Q2318.02 1475.33 2314.94 1479.94 Q2311.89 1484.52 2306.08 1484.52 Q2300.27 1484.52 2297.19 1479.94 Q2294.13 1475.33 2294.13 1466.61 Q2294.13 1457.86 2297.19 1453.27 Q2300.27 1448.67 2306.08 1448.67 Z\" fill=\"#000000\" fill-rule=\"evenodd\" fill-opacity=\"1\" /><path clip-path=\"url(#clip720)\" d=\"M 0 0 M1044.74 1520.52 L1072.05 1520.52 L1072.05 1525.93 L1051.17 1525.93 L1051.17 1539.94 L1070.02 1539.94 L1070.02 1545.35 L1051.17 1545.35 L1051.17 1568.04 L1044.74 1568.04 L1044.74 1520.52 Z\" fill=\"#000000\" fill-rule=\"evenodd\" fill-opacity=\"1\" /><path clip-path=\"url(#clip720)\" d=\"M 0 0 M1073.45 1532.4 L1079.31 1532.4 L1079.31 1568.04 L1073.45 1568.04 L1073.45 1532.4 M1073.45 1518.52 L1079.31 1518.52 L1079.31 1525.93 L1073.45 1525.93 L1073.45 1518.52 Z\" fill=\"#000000\" fill-rule=\"evenodd\" fill-opacity=\"1\" /><path clip-path=\"url(#clip720)\" d=\"M 0 0 M1106.11 1537.87 Q1105.12 1537.3 1103.95 1537.04 Q1102.8 1536.76 1101.4 1536.76 Q1096.43 1536.76 1093.76 1540 Q1091.12 1543.22 1091.12 1549.27 L1091.12 1568.04 L1085.23 1568.04 L1085.23 1532.4 L1091.12 1532.4 L1091.12 1537.93 Q1092.96 1534.69 1095.92 1533.13 Q1098.88 1531.54 1103.12 1531.54 Q1103.72 1531.54 1104.45 1531.63 Q1105.19 1531.7 1106.08 1531.85 L1106.11 1537.87 Z\" fill=\"#000000\" fill-rule=\"evenodd\" fill-opacity=\"1\" /><path clip-path=\"url(#clip720)\" d=\"M 0 0 M1134.98 1533.45 L1134.98 1538.98 Q1132.5 1537.71 1129.82 1537.07 Q1127.15 1536.44 1124.28 1536.44 Q1119.92 1536.44 1117.73 1537.77 Q1115.56 1539.11 1115.56 1541.79 Q1115.56 1543.82 1117.12 1545 Q1118.68 1546.15 1123.39 1547.2 L1125.4 1547.64 Q1131.64 1548.98 1134.25 1551.43 Q1136.89 1553.85 1136.89 1558.21 Q1136.89 1563.17 1132.94 1566.07 Q1129.03 1568.97 1122.15 1568.97 Q1119.29 1568.97 1116.17 1568.39 Q1113.08 1567.85 1109.64 1566.74 L1109.64 1560.69 Q1112.89 1562.38 1116.04 1563.24 Q1119.19 1564.07 1122.28 1564.07 Q1126.42 1564.07 1128.64 1562.66 Q1130.87 1561.23 1130.87 1558.65 Q1130.87 1556.27 1129.25 1554.99 Q1127.66 1553.72 1122.21 1552.54 L1120.18 1552.07 Q1114.74 1550.92 1112.32 1548.56 Q1109.9 1546.18 1109.9 1542.04 Q1109.9 1537.01 1113.46 1534.27 Q1117.03 1531.54 1123.58 1531.54 Q1126.83 1531.54 1129.69 1532.01 Q1132.56 1532.49 1134.98 1533.45 Z\" fill=\"#000000\" fill-rule=\"evenodd\" fill-opacity=\"1\" /><path clip-path=\"url(#clip720)\" d=\"M 0 0 M1148.82 1522.27 L1148.82 1532.4 L1160.89 1532.4 L1160.89 1536.95 L1148.82 1536.95 L1148.82 1556.3 Q1148.82 1560.66 1150 1561.9 Q1151.21 1563.14 1154.87 1563.14 L1160.89 1563.14 L1160.89 1568.04 L1154.87 1568.04 Q1148.09 1568.04 1145.51 1565.53 Q1142.94 1562.98 1142.94 1556.3 L1142.94 1536.95 L1138.64 1536.95 L1138.64 1532.4 L1142.94 1532.4 L1142.94 1522.27 L1148.82 1522.27 Z\" fill=\"#000000\" fill-rule=\"evenodd\" fill-opacity=\"1\" /><path clip-path=\"url(#clip720)\" d=\"M 0 0 M1188 1520.52 L1196.66 1520.52 L1217.73 1560.28 L1217.73 1520.52 L1223.97 1520.52 L1223.97 1568.04 L1215.31 1568.04 L1194.24 1528.29 L1194.24 1568.04 L1188 1568.04 L1188 1520.52 Z\" fill=\"#000000\" fill-rule=\"evenodd\" fill-opacity=\"1\" /><path clip-path=\"url(#clip720)\" d=\"M 0 0 M1235.91 1522.27 L1235.91 1532.4 L1247.97 1532.4 L1247.97 1536.95 L1235.91 1536.95 L1235.91 1556.3 Q1235.91 1560.66 1237.08 1561.9 Q1238.29 1563.14 1241.95 1563.14 L1247.97 1563.14 L1247.97 1568.04 L1241.95 1568.04 Q1235.17 1568.04 1232.6 1565.53 Q1230.02 1562.98 1230.02 1556.3 L1230.02 1536.95 L1225.72 1536.95 L1225.72 1532.4 L1230.02 1532.4 L1230.02 1522.27 L1235.91 1522.27 Z\" fill=\"#000000\" fill-rule=\"evenodd\" fill-opacity=\"1\" /><path clip-path=\"url(#clip720)\" d=\"M 0 0 M1283.74 1546.53 L1283.74 1568.04 L1277.89 1568.04 L1277.89 1546.72 Q1277.89 1541.66 1275.91 1539.14 Q1273.94 1536.63 1269.99 1536.63 Q1265.25 1536.63 1262.51 1539.65 Q1259.78 1542.68 1259.78 1547.9 L1259.78 1568.04 L1253.89 1568.04 L1253.89 1518.52 L1259.78 1518.52 L1259.78 1537.93 Q1261.88 1534.72 1264.71 1533.13 Q1267.58 1531.54 1271.3 1531.54 Q1277.44 1531.54 1280.59 1535.36 Q1283.74 1539.14 1283.74 1546.53 Z\" fill=\"#000000\" fill-rule=\"evenodd\" fill-opacity=\"1\" /><path clip-path=\"url(#clip720)\" d=\"M 0 0 M1310.86 1520.52 L1340.91 1520.52 L1340.91 1525.93 L1317.29 1525.93 L1317.29 1540 L1339.92 1540 L1339.92 1545.41 L1317.29 1545.41 L1317.29 1562.63 L1341.48 1562.63 L1341.48 1568.04 L1310.86 1568.04 L1310.86 1520.52 Z\" fill=\"#000000\" fill-rule=\"evenodd\" fill-opacity=\"1\" /><path clip-path=\"url(#clip720)\" d=\"M 0 0 M1353.29 1562.7 L1353.29 1581.6 L1347.4 1581.6 L1347.4 1532.4 L1353.29 1532.4 L1353.29 1537.81 Q1355.14 1534.62 1357.94 1533.1 Q1360.77 1531.54 1364.68 1531.54 Q1371.18 1531.54 1375.22 1536.69 Q1379.29 1541.85 1379.29 1550.25 Q1379.29 1558.65 1375.22 1563.81 Q1371.18 1568.97 1364.68 1568.97 Q1360.77 1568.97 1357.94 1567.44 Q1355.14 1565.88 1353.29 1562.7 M1373.21 1550.25 Q1373.21 1543.79 1370.54 1540.13 Q1367.9 1536.44 1363.25 1536.44 Q1358.61 1536.44 1355.93 1540.13 Q1353.29 1543.79 1353.29 1550.25 Q1353.29 1556.71 1355.93 1560.4 Q1358.61 1564.07 1363.25 1564.07 Q1367.9 1564.07 1370.54 1560.4 Q1373.21 1556.71 1373.21 1550.25 Z\" fill=\"#000000\" fill-rule=\"evenodd\" fill-opacity=\"1\" /><path clip-path=\"url(#clip720)\" d=\"M 0 0 M1385.44 1532.4 L1391.29 1532.4 L1391.29 1568.04 L1385.44 1568.04 L1385.44 1532.4 M1385.44 1518.52 L1391.29 1518.52 L1391.29 1525.93 L1385.44 1525.93 L1385.44 1518.52 Z\" fill=\"#000000\" fill-rule=\"evenodd\" fill-opacity=\"1\" /><path clip-path=\"url(#clip720)\" d=\"M 0 0 M1420.16 1533.45 L1420.16 1538.98 Q1417.68 1537.71 1415.01 1537.07 Q1412.33 1536.44 1409.47 1536.44 Q1405.11 1536.44 1402.91 1537.77 Q1400.75 1539.11 1400.75 1541.79 Q1400.75 1543.82 1402.31 1545 Q1403.87 1546.15 1408.58 1547.2 L1410.58 1547.64 Q1416.82 1548.98 1419.43 1551.43 Q1422.07 1553.85 1422.07 1558.21 Q1422.07 1563.17 1418.12 1566.07 Q1414.21 1568.97 1407.33 1568.97 Q1404.47 1568.97 1401.35 1568.39 Q1398.26 1567.85 1394.83 1566.74 L1394.83 1560.69 Q1398.07 1562.38 1401.22 1563.24 Q1404.37 1564.07 1407.46 1564.07 Q1411.6 1564.07 1413.83 1562.66 Q1416.06 1561.23 1416.06 1558.65 Q1416.06 1556.27 1414.43 1554.99 Q1412.84 1553.72 1407.4 1552.54 L1405.36 1552.07 Q1399.92 1550.92 1397.5 1548.56 Q1395.08 1546.18 1395.08 1542.04 Q1395.08 1537.01 1398.65 1534.27 Q1402.21 1531.54 1408.77 1531.54 Q1412.01 1531.54 1414.88 1532.01 Q1417.74 1532.49 1420.16 1533.45 Z\" fill=\"#000000\" fill-rule=\"evenodd\" fill-opacity=\"1\" /><path clip-path=\"url(#clip720)\" d=\"M 0 0 M1442.03 1536.5 Q1437.32 1536.5 1434.58 1540.19 Q1431.84 1543.85 1431.84 1550.25 Q1431.84 1556.65 1434.55 1560.34 Q1437.29 1564 1442.03 1564 Q1446.71 1564 1449.44 1560.31 Q1452.18 1556.62 1452.18 1550.25 Q1452.18 1543.92 1449.44 1540.23 Q1446.71 1536.5 1442.03 1536.5 M1442.03 1531.54 Q1449.67 1531.54 1454.03 1536.5 Q1458.39 1541.47 1458.39 1550.25 Q1458.39 1559 1454.03 1564 Q1449.67 1568.97 1442.03 1568.97 Q1434.36 1568.97 1430 1564 Q1425.67 1559 1425.67 1550.25 Q1425.67 1541.47 1430 1536.5 Q1434.36 1531.54 1442.03 1531.54 Z\" fill=\"#000000\" fill-rule=\"evenodd\" fill-opacity=\"1\" /><path clip-path=\"url(#clip720)\" d=\"M 0 0 M1487.99 1537.81 L1487.99 1518.52 L1493.84 1518.52 L1493.84 1568.04 L1487.99 1568.04 L1487.99 1562.7 Q1486.14 1565.88 1483.31 1567.44 Q1480.51 1568.97 1476.56 1568.97 Q1470.1 1568.97 1466.03 1563.81 Q1461.98 1558.65 1461.98 1550.25 Q1461.98 1541.85 1466.03 1536.69 Q1470.1 1531.54 1476.56 1531.54 Q1480.51 1531.54 1483.31 1533.1 Q1486.14 1534.62 1487.99 1537.81 M1468.03 1550.25 Q1468.03 1556.71 1470.67 1560.4 Q1473.35 1564.07 1477.99 1564.07 Q1482.64 1564.07 1485.31 1560.4 Q1487.99 1556.71 1487.99 1550.25 Q1487.99 1543.79 1485.31 1540.13 Q1482.64 1536.44 1477.99 1536.44 Q1473.35 1536.44 1470.67 1540.13 Q1468.03 1543.79 1468.03 1550.25 Z\" fill=\"#000000\" fill-rule=\"evenodd\" fill-opacity=\"1\" /><path clip-path=\"url(#clip720)\" d=\"M 0 0 M1530.48 1548.76 L1530.48 1551.62 L1503.55 1551.62 Q1503.93 1557.67 1507.18 1560.85 Q1510.46 1564 1516.28 1564 Q1519.66 1564 1522.81 1563.17 Q1525.99 1562.35 1529.11 1560.69 L1529.11 1566.23 Q1525.96 1567.57 1522.65 1568.27 Q1519.34 1568.97 1515.93 1568.97 Q1507.4 1568.97 1502.41 1564 Q1497.44 1559.04 1497.44 1550.57 Q1497.44 1541.82 1502.15 1536.69 Q1506.89 1531.54 1514.92 1531.54 Q1522.11 1531.54 1526.28 1536.18 Q1530.48 1540.8 1530.48 1548.76 M1524.62 1547.04 Q1524.56 1542.23 1521.92 1539.37 Q1519.31 1536.5 1514.98 1536.5 Q1510.08 1536.5 1507.12 1539.27 Q1504.19 1542.04 1503.74 1547.07 L1524.62 1547.04 Z\" fill=\"#000000\" fill-rule=\"evenodd\" fill-opacity=\"1\" /><path clip-path=\"url(#clip720)\" d=\"M 0 0 M1559.35 1533.45 L1559.35 1538.98 Q1556.87 1537.71 1554.19 1537.07 Q1551.52 1536.44 1548.65 1536.44 Q1544.29 1536.44 1542.1 1537.77 Q1539.93 1539.11 1539.93 1541.79 Q1539.93 1543.82 1541.49 1545 Q1543.05 1546.15 1547.76 1547.2 L1549.77 1547.64 Q1556.01 1548.98 1558.62 1551.43 Q1561.26 1553.85 1561.26 1558.21 Q1561.26 1563.17 1557.31 1566.07 Q1553.4 1568.97 1546.52 1568.97 Q1543.66 1568.97 1540.54 1568.39 Q1537.45 1567.85 1534.01 1566.74 L1534.01 1560.69 Q1537.26 1562.38 1540.41 1563.24 Q1543.56 1564.07 1546.65 1564.07 Q1550.79 1564.07 1553.01 1562.66 Q1555.24 1561.23 1555.24 1558.65 Q1555.24 1556.27 1553.62 1554.99 Q1552.03 1553.72 1546.58 1552.54 L1544.55 1552.07 Q1539.1 1550.92 1536.69 1548.56 Q1534.27 1546.18 1534.27 1542.04 Q1534.27 1537.01 1537.83 1534.27 Q1541.4 1531.54 1547.95 1531.54 Q1551.2 1531.54 1554.06 1532.01 Q1556.93 1532.49 1559.35 1533.45 Z\" fill=\"#000000\" fill-rule=\"evenodd\" fill-opacity=\"1\" /><polyline clip-path=\"url(#clip722)\" style=\"stroke:#000000; stroke-width:2; stroke-opacity:0.1; fill:none\" points=\"\n",
       "  253.246,1122.42 2352.76,1122.42 \n",
       "  \"/>\n",
       "<polyline clip-path=\"url(#clip722)\" style=\"stroke:#000000; stroke-width:2; stroke-opacity:0.1; fill:none\" points=\"\n",
       "  253.246,801.699 2352.76,801.699 \n",
       "  \"/>\n",
       "<polyline clip-path=\"url(#clip722)\" style=\"stroke:#000000; stroke-width:2; stroke-opacity:0.1; fill:none\" points=\"\n",
       "  253.246,480.978 2352.76,480.978 \n",
       "  \"/>\n",
       "<polyline clip-path=\"url(#clip722)\" style=\"stroke:#000000; stroke-width:2; stroke-opacity:0.1; fill:none\" points=\"\n",
       "  253.246,160.256 2352.76,160.256 \n",
       "  \"/>\n",
       "<polyline clip-path=\"url(#clip720)\" style=\"stroke:#000000; stroke-width:4; stroke-opacity:1; fill:none\" points=\"\n",
       "  253.246,1423.18 253.246,123.472 \n",
       "  \"/>\n",
       "<polyline clip-path=\"url(#clip720)\" style=\"stroke:#000000; stroke-width:4; stroke-opacity:1; fill:none\" points=\"\n",
       "  253.246,1122.42 278.44,1122.42 \n",
       "  \"/>\n",
       "<polyline clip-path=\"url(#clip720)\" style=\"stroke:#000000; stroke-width:4; stroke-opacity:1; fill:none\" points=\"\n",
       "  253.246,801.699 278.44,801.699 \n",
       "  \"/>\n",
       "<polyline clip-path=\"url(#clip720)\" style=\"stroke:#000000; stroke-width:4; stroke-opacity:1; fill:none\" points=\"\n",
       "  253.246,480.978 278.44,480.978 \n",
       "  \"/>\n",
       "<polyline clip-path=\"url(#clip720)\" style=\"stroke:#000000; stroke-width:4; stroke-opacity:1; fill:none\" points=\"\n",
       "  253.246,160.256 278.44,160.256 \n",
       "  \"/>\n",
       "<path clip-path=\"url(#clip720)\" d=\"M 0 0 M142.316 1105.14 L160.672 1105.14 L160.672 1109.08 L146.598 1109.08 L146.598 1117.55 Q147.616 1117.2 148.635 1117.04 Q149.653 1116.85 150.672 1116.85 Q156.459 1116.85 159.839 1120.02 Q163.218 1123.2 163.218 1128.61 Q163.218 1134.19 159.746 1137.29 Q156.274 1140.37 149.954 1140.37 Q147.778 1140.37 145.51 1140 Q143.265 1139.63 140.857 1138.89 L140.857 1134.19 Q142.941 1135.33 145.163 1135.88 Q147.385 1136.44 149.862 1136.44 Q153.866 1136.44 156.204 1134.33 Q158.542 1132.22 158.542 1128.61 Q158.542 1125 156.204 1122.9 Q153.866 1120.79 149.862 1120.79 Q147.987 1120.79 146.112 1121.21 Q144.26 1121.62 142.316 1122.5 L142.316 1105.14 Z\" fill=\"#000000\" fill-rule=\"evenodd\" fill-opacity=\"1\" /><path clip-path=\"url(#clip720)\" d=\"M 0 0 M178.288 1108.22 Q174.677 1108.22 172.848 1111.78 Q171.042 1115.33 171.042 1122.46 Q171.042 1129.56 172.848 1133.13 Q174.677 1136.67 178.288 1136.67 Q181.922 1136.67 183.727 1133.13 Q185.556 1129.56 185.556 1122.46 Q185.556 1115.33 183.727 1111.78 Q181.922 1108.22 178.288 1108.22 M178.288 1104.52 Q184.098 1104.52 187.153 1109.12 Q190.232 1113.71 190.232 1122.46 Q190.232 1131.18 187.153 1135.79 Q184.098 1140.37 178.288 1140.37 Q172.477 1140.37 169.399 1135.79 Q166.343 1131.18 166.343 1122.46 Q166.343 1113.71 169.399 1109.12 Q172.477 1104.52 178.288 1104.52 Z\" fill=\"#000000\" fill-rule=\"evenodd\" fill-opacity=\"1\" /><path clip-path=\"url(#clip720)\" d=\"M 0 0 M205.301 1108.22 Q201.69 1108.22 199.862 1111.78 Q198.056 1115.33 198.056 1122.46 Q198.056 1129.56 199.862 1133.13 Q201.69 1136.67 205.301 1136.67 Q208.936 1136.67 210.741 1133.13 Q212.57 1129.56 212.57 1122.46 Q212.57 1115.33 210.741 1111.78 Q208.936 1108.22 205.301 1108.22 M205.301 1104.52 Q211.111 1104.52 214.167 1109.12 Q217.246 1113.71 217.246 1122.46 Q217.246 1131.18 214.167 1135.79 Q211.111 1140.37 205.301 1140.37 Q199.491 1140.37 196.412 1135.79 Q193.357 1131.18 193.357 1122.46 Q193.357 1113.71 196.412 1109.12 Q199.491 1104.52 205.301 1104.52 Z\" fill=\"#000000\" fill-rule=\"evenodd\" fill-opacity=\"1\" /><path clip-path=\"url(#clip720)\" d=\"M 0 0 M116.297 815.044 L123.936 815.044 L123.936 788.678 L115.626 790.345 L115.626 786.086 L123.89 784.419 L128.566 784.419 L128.566 815.044 L136.204 815.044 L136.204 818.979 L116.297 818.979 L116.297 815.044 Z\" fill=\"#000000\" fill-rule=\"evenodd\" fill-opacity=\"1\" /><path clip-path=\"url(#clip720)\" d=\"M 0 0 M151.274 787.498 Q147.663 787.498 145.834 791.063 Q144.029 794.604 144.029 801.734 Q144.029 808.84 145.834 812.405 Q147.663 815.947 151.274 815.947 Q154.908 815.947 156.714 812.405 Q158.542 808.84 158.542 801.734 Q158.542 794.604 156.714 791.063 Q154.908 787.498 151.274 787.498 M151.274 783.794 Q157.084 783.794 160.14 788.401 Q163.218 792.984 163.218 801.734 Q163.218 810.461 160.14 815.067 Q157.084 819.65 151.274 819.65 Q145.464 819.65 142.385 815.067 Q139.329 810.461 139.329 801.734 Q139.329 792.984 142.385 788.401 Q145.464 783.794 151.274 783.794 Z\" fill=\"#000000\" fill-rule=\"evenodd\" fill-opacity=\"1\" /><path clip-path=\"url(#clip720)\" d=\"M 0 0 M178.288 787.498 Q174.677 787.498 172.848 791.063 Q171.042 794.604 171.042 801.734 Q171.042 808.84 172.848 812.405 Q174.677 815.947 178.288 815.947 Q181.922 815.947 183.727 812.405 Q185.556 808.84 185.556 801.734 Q185.556 794.604 183.727 791.063 Q181.922 787.498 178.288 787.498 M178.288 783.794 Q184.098 783.794 187.153 788.401 Q190.232 792.984 190.232 801.734 Q190.232 810.461 187.153 815.067 Q184.098 819.65 178.288 819.65 Q172.477 819.65 169.399 815.067 Q166.343 810.461 166.343 801.734 Q166.343 792.984 169.399 788.401 Q172.477 783.794 178.288 783.794 Z\" fill=\"#000000\" fill-rule=\"evenodd\" fill-opacity=\"1\" /><path clip-path=\"url(#clip720)\" d=\"M 0 0 M205.301 787.498 Q201.69 787.498 199.862 791.063 Q198.056 794.604 198.056 801.734 Q198.056 808.84 199.862 812.405 Q201.69 815.947 205.301 815.947 Q208.936 815.947 210.741 812.405 Q212.57 808.84 212.57 801.734 Q212.57 794.604 210.741 791.063 Q208.936 787.498 205.301 787.498 M205.301 783.794 Q211.111 783.794 214.167 788.401 Q217.246 792.984 217.246 801.734 Q217.246 810.461 214.167 815.067 Q211.111 819.65 205.301 819.65 Q199.491 819.65 196.412 815.067 Q193.357 810.461 193.357 801.734 Q193.357 792.984 196.412 788.401 Q199.491 783.794 205.301 783.794 Z\" fill=\"#000000\" fill-rule=\"evenodd\" fill-opacity=\"1\" /><path clip-path=\"url(#clip720)\" d=\"M 0 0 M117.293 494.323 L124.931 494.323 L124.931 467.957 L116.621 469.624 L116.621 465.364 L124.885 463.698 L129.561 463.698 L129.561 494.323 L137.2 494.323 L137.2 498.258 L117.293 498.258 L117.293 494.323 Z\" fill=\"#000000\" fill-rule=\"evenodd\" fill-opacity=\"1\" /><path clip-path=\"url(#clip720)\" d=\"M 0 0 M142.316 463.698 L160.672 463.698 L160.672 467.633 L146.598 467.633 L146.598 476.105 Q147.616 475.758 148.635 475.596 Q149.653 475.411 150.672 475.411 Q156.459 475.411 159.839 478.582 Q163.218 481.753 163.218 487.17 Q163.218 492.748 159.746 495.85 Q156.274 498.929 149.954 498.929 Q147.778 498.929 145.51 498.559 Q143.265 498.188 140.857 497.448 L140.857 492.748 Q142.941 493.883 145.163 494.438 Q147.385 494.994 149.862 494.994 Q153.866 494.994 156.204 492.887 Q158.542 490.781 158.542 487.17 Q158.542 483.559 156.204 481.452 Q153.866 479.346 149.862 479.346 Q147.987 479.346 146.112 479.762 Q144.26 480.179 142.316 481.059 L142.316 463.698 Z\" fill=\"#000000\" fill-rule=\"evenodd\" fill-opacity=\"1\" /><path clip-path=\"url(#clip720)\" d=\"M 0 0 M178.288 466.776 Q174.677 466.776 172.848 470.341 Q171.042 473.883 171.042 481.012 Q171.042 488.119 172.848 491.684 Q174.677 495.225 178.288 495.225 Q181.922 495.225 183.727 491.684 Q185.556 488.119 185.556 481.012 Q185.556 473.883 183.727 470.341 Q181.922 466.776 178.288 466.776 M178.288 463.073 Q184.098 463.073 187.153 467.679 Q190.232 472.262 190.232 481.012 Q190.232 489.739 187.153 494.346 Q184.098 498.929 178.288 498.929 Q172.477 498.929 169.399 494.346 Q166.343 489.739 166.343 481.012 Q166.343 472.262 169.399 467.679 Q172.477 463.073 178.288 463.073 Z\" fill=\"#000000\" fill-rule=\"evenodd\" fill-opacity=\"1\" /><path clip-path=\"url(#clip720)\" d=\"M 0 0 M205.301 466.776 Q201.69 466.776 199.862 470.341 Q198.056 473.883 198.056 481.012 Q198.056 488.119 199.862 491.684 Q201.69 495.225 205.301 495.225 Q208.936 495.225 210.741 491.684 Q212.57 488.119 212.57 481.012 Q212.57 473.883 210.741 470.341 Q208.936 466.776 205.301 466.776 M205.301 463.073 Q211.111 463.073 214.167 467.679 Q217.246 472.262 217.246 481.012 Q217.246 489.739 214.167 494.346 Q211.111 498.929 205.301 498.929 Q199.491 498.929 196.412 494.346 Q193.357 489.739 193.357 481.012 Q193.357 472.262 196.412 467.679 Q199.491 463.073 205.301 463.073 Z\" fill=\"#000000\" fill-rule=\"evenodd\" fill-opacity=\"1\" /><path clip-path=\"url(#clip720)\" d=\"M 0 0 M119.885 173.601 L136.204 173.601 L136.204 177.536 L114.26 177.536 L114.26 173.601 Q116.922 170.847 121.505 166.217 Q126.112 161.564 127.292 160.222 Q129.538 157.698 130.417 155.962 Q131.32 154.203 131.32 152.513 Q131.32 149.759 129.376 148.023 Q127.455 146.286 124.353 146.286 Q122.154 146.286 119.7 147.05 Q117.269 147.814 114.492 149.365 L114.492 144.643 Q117.316 143.509 119.769 142.93 Q122.223 142.351 124.26 142.351 Q129.63 142.351 132.825 145.036 Q136.019 147.722 136.019 152.212 Q136.019 154.342 135.209 156.263 Q134.422 158.161 132.316 160.754 Q131.737 161.425 128.635 164.643 Q125.533 167.837 119.885 173.601 Z\" fill=\"#000000\" fill-rule=\"evenodd\" fill-opacity=\"1\" /><path clip-path=\"url(#clip720)\" d=\"M 0 0 M151.274 146.055 Q147.663 146.055 145.834 149.62 Q144.029 153.161 144.029 160.291 Q144.029 167.397 145.834 170.962 Q147.663 174.504 151.274 174.504 Q154.908 174.504 156.714 170.962 Q158.542 167.397 158.542 160.291 Q158.542 153.161 156.714 149.62 Q154.908 146.055 151.274 146.055 M151.274 142.351 Q157.084 142.351 160.14 146.958 Q163.218 151.541 163.218 160.291 Q163.218 169.018 160.14 173.624 Q157.084 178.208 151.274 178.208 Q145.464 178.208 142.385 173.624 Q139.329 169.018 139.329 160.291 Q139.329 151.541 142.385 146.958 Q145.464 142.351 151.274 142.351 Z\" fill=\"#000000\" fill-rule=\"evenodd\" fill-opacity=\"1\" /><path clip-path=\"url(#clip720)\" d=\"M 0 0 M178.288 146.055 Q174.677 146.055 172.848 149.62 Q171.042 153.161 171.042 160.291 Q171.042 167.397 172.848 170.962 Q174.677 174.504 178.288 174.504 Q181.922 174.504 183.727 170.962 Q185.556 167.397 185.556 160.291 Q185.556 153.161 183.727 149.62 Q181.922 146.055 178.288 146.055 M178.288 142.351 Q184.098 142.351 187.153 146.958 Q190.232 151.541 190.232 160.291 Q190.232 169.018 187.153 173.624 Q184.098 178.208 178.288 178.208 Q172.477 178.208 169.399 173.624 Q166.343 169.018 166.343 160.291 Q166.343 151.541 169.399 146.958 Q172.477 142.351 178.288 142.351 Z\" fill=\"#000000\" fill-rule=\"evenodd\" fill-opacity=\"1\" /><path clip-path=\"url(#clip720)\" d=\"M 0 0 M205.301 146.055 Q201.69 146.055 199.862 149.62 Q198.056 153.161 198.056 160.291 Q198.056 167.397 199.862 170.962 Q201.69 174.504 205.301 174.504 Q208.936 174.504 210.741 170.962 Q212.57 167.397 212.57 160.291 Q212.57 153.161 210.741 149.62 Q208.936 146.055 205.301 146.055 M205.301 142.351 Q211.111 142.351 214.167 146.958 Q217.246 151.541 217.246 160.291 Q217.246 169.018 214.167 173.624 Q211.111 178.208 205.301 178.208 Q199.491 178.208 196.412 173.624 Q193.357 169.018 193.357 160.291 Q193.357 151.541 196.412 146.958 Q199.491 142.351 205.301 142.351 Z\" fill=\"#000000\" fill-rule=\"evenodd\" fill-opacity=\"1\" /><path clip-path=\"url(#clip720)\" d=\"M 0 0 M16.4842 994.725 L16.4842 964.679 L21.895 964.679 L21.895 988.296 L35.9632 988.296 L35.9632 965.666 L41.3741 965.666 L41.3741 988.296 L58.5933 988.296 L58.5933 964.106 L64.0042 964.106 L64.0042 994.725 L16.4842 994.725 Z\" fill=\"#000000\" fill-rule=\"evenodd\" fill-opacity=\"1\" /><path clip-path=\"url(#clip720)\" d=\"M 0 0 M58.657 952.298 L77.5631 952.298 L77.5631 958.186 L28.3562 958.186 L28.3562 952.298 L33.7671 952.298 Q30.5842 950.452 29.0564 947.651 Q27.4968 944.818 27.4968 940.903 Q27.4968 934.41 32.6531 930.368 Q37.8093 926.294 46.212 926.294 Q54.6147 926.294 59.771 930.368 Q64.9272 934.41 64.9272 940.903 Q64.9272 944.818 63.3994 947.651 Q61.8398 950.452 58.657 952.298 M46.212 932.373 Q39.7508 932.373 36.0905 935.047 Q32.3984 937.689 32.3984 942.335 Q32.3984 946.982 36.0905 949.656 Q39.7508 952.298 46.212 952.298 Q52.6732 952.298 56.3653 949.656 Q60.0256 946.982 60.0256 942.335 Q60.0256 937.689 56.3653 935.047 Q52.6732 932.373 46.212 932.373 Z\" fill=\"#000000\" fill-rule=\"evenodd\" fill-opacity=\"1\" /><path clip-path=\"url(#clip720)\" d=\"M 0 0 M28.3562 920.151 L28.3562 914.295 L64.0042 914.295 L64.0042 920.151 L28.3562 920.151 M14.479 920.151 L14.479 914.295 L21.895 914.295 L21.895 920.151 L14.479 920.151 Z\" fill=\"#000000\" fill-rule=\"evenodd\" fill-opacity=\"1\" /><path clip-path=\"url(#clip720)\" d=\"M 0 0 M29.4065 885.426 L34.9447 885.426 Q33.6716 887.909 33.035 890.582 Q32.3984 893.256 32.3984 896.12 Q32.3984 900.481 33.7352 902.677 Q35.072 904.841 37.7456 904.841 Q39.7826 904.841 40.9603 903.282 Q42.1061 901.722 43.1565 897.012 L43.6021 895.006 Q44.9389 888.768 47.3897 886.158 Q49.8086 883.516 54.1691 883.516 Q59.1344 883.516 62.0308 887.463 Q64.9272 891.378 64.9272 898.253 Q64.9272 901.118 64.3543 904.237 Q63.8132 907.324 62.6992 910.762 L56.6518 910.762 Q58.3387 907.515 59.198 904.364 Q60.0256 901.213 60.0256 898.126 Q60.0256 893.988 58.6251 891.76 Q57.1929 889.532 54.6147 889.532 Q52.2276 889.532 50.9545 891.155 Q49.6813 892.747 48.5037 898.189 L48.0262 900.226 Q46.8804 905.669 44.5251 908.088 Q42.138 910.507 38.0002 910.507 Q32.9713 910.507 30.2341 906.942 Q27.4968 903.377 27.4968 896.821 Q27.4968 893.574 27.9743 890.71 Q28.4517 887.845 29.4065 885.426 Z\" fill=\"#000000\" fill-rule=\"evenodd\" fill-opacity=\"1\" /><path clip-path=\"url(#clip720)\" d=\"M 0 0 M32.4621 863.56 Q32.4621 868.27 36.1542 871.008 Q39.8145 873.745 46.212 873.745 Q52.6095 873.745 56.3017 871.04 Q59.9619 868.302 59.9619 863.56 Q59.9619 858.881 56.2698 856.144 Q52.5777 853.407 46.212 853.407 Q39.8781 853.407 36.186 856.144 Q32.4621 858.881 32.4621 863.56 M27.4968 863.56 Q27.4968 855.921 32.4621 851.561 Q37.4273 847.2 46.212 847.2 Q54.9649 847.2 59.9619 851.561 Q64.9272 855.921 64.9272 863.56 Q64.9272 871.231 59.9619 875.591 Q54.9649 879.92 46.212 879.92 Q37.4273 879.92 32.4621 875.591 Q27.4968 871.231 27.4968 863.56 Z\" fill=\"#000000\" fill-rule=\"evenodd\" fill-opacity=\"1\" /><path clip-path=\"url(#clip720)\" d=\"M 0 0 M33.7671 817.599 L14.479 817.599 L14.479 811.743 L64.0042 811.743 L64.0042 817.599 L58.657 817.599 Q61.8398 819.446 63.3994 822.278 Q64.9272 825.079 64.9272 829.026 Q64.9272 835.487 59.771 839.561 Q54.6147 843.603 46.212 843.603 Q37.8093 843.603 32.6531 839.561 Q27.4968 835.487 27.4968 829.026 Q27.4968 825.079 29.0564 822.278 Q30.5842 819.446 33.7671 817.599 M46.212 837.556 Q52.6732 837.556 56.3653 834.914 Q60.0256 832.241 60.0256 827.594 Q60.0256 822.947 56.3653 820.273 Q52.6732 817.599 46.212 817.599 Q39.7508 817.599 36.0905 820.273 Q32.3984 822.947 32.3984 827.594 Q32.3984 832.241 36.0905 834.914 Q39.7508 837.556 46.212 837.556 Z\" fill=\"#000000\" fill-rule=\"evenodd\" fill-opacity=\"1\" /><path clip-path=\"url(#clip720)\" d=\"M 0 0 M44.7161 775.108 L47.5806 775.108 L47.5806 802.035 Q53.6281 801.653 56.8109 798.407 Q59.9619 795.129 59.9619 789.304 Q59.9619 785.93 59.1344 782.779 Q58.3069 779.596 56.6518 776.477 L62.1899 776.477 Q63.5267 779.628 64.227 782.938 Q64.9272 786.248 64.9272 789.654 Q64.9272 798.184 59.9619 803.181 Q54.9967 808.146 46.5303 808.146 Q37.7774 808.146 32.6531 803.436 Q27.4968 798.693 27.4968 790.673 Q27.4968 783.479 32.1438 779.31 Q36.7589 775.108 44.7161 775.108 M42.9973 780.965 Q38.1912 781.028 35.3266 783.67 Q32.4621 786.28 32.4621 790.609 Q32.4621 795.51 35.2312 798.471 Q38.0002 801.399 43.0292 801.844 L42.9973 780.965 Z\" fill=\"#000000\" fill-rule=\"evenodd\" fill-opacity=\"1\" /><path clip-path=\"url(#clip720)\" d=\"M 0 0 M16.4842 747.99 L16.4842 741.561 L58.5933 741.561 L58.5933 718.422 L64.0042 718.422 L64.0042 747.99 L16.4842 747.99 Z\" fill=\"#000000\" fill-rule=\"evenodd\" fill-opacity=\"1\" /><path clip-path=\"url(#clip720)\" d=\"M 0 0 M44.7161 682.933 L47.5806 682.933 L47.5806 709.86 Q53.6281 709.478 56.8109 706.231 Q59.9619 702.953 59.9619 697.128 Q59.9619 693.755 59.1344 690.604 Q58.3069 687.421 56.6518 684.302 L62.1899 684.302 Q63.5267 687.453 64.227 690.763 Q64.9272 694.073 64.9272 697.479 Q64.9272 706.009 59.9619 711.006 Q54.9967 715.971 46.5303 715.971 Q37.7774 715.971 32.6531 711.26 Q27.4968 706.518 27.4968 698.497 Q27.4968 691.304 32.1438 687.134 Q36.7589 682.933 44.7161 682.933 M42.9973 688.789 Q38.1912 688.853 35.3266 691.495 Q32.4621 694.105 32.4621 698.433 Q32.4621 703.335 35.2312 706.295 Q38.0002 709.223 43.0292 709.669 L42.9973 688.789 Z\" fill=\"#000000\" fill-rule=\"evenodd\" fill-opacity=\"1\" /><path clip-path=\"url(#clip720)\" d=\"M 0 0 M42.4881 647.158 L64.0042 647.158 L64.0042 653.014 L42.679 653.014 Q37.6183 653.014 35.1038 654.987 Q32.5894 656.961 32.5894 660.908 Q32.5894 665.65 35.6131 668.387 Q38.6368 671.125 43.8567 671.125 L64.0042 671.125 L64.0042 677.013 L28.3562 677.013 L28.3562 671.125 L33.8944 671.125 Q30.6797 669.024 29.0883 666.191 Q27.4968 663.327 27.4968 659.603 Q27.4968 653.46 31.3163 650.309 Q35.1038 647.158 42.4881 647.158 Z\" fill=\"#000000\" fill-rule=\"evenodd\" fill-opacity=\"1\" /><path clip-path=\"url(#clip720)\" d=\"M 0 0 M45.7664 617.557 Q39.4007 617.557 35.8996 620.199 Q32.3984 622.809 32.3984 627.551 Q32.3984 632.262 35.8996 634.904 Q39.4007 637.514 45.7664 637.514 Q52.1003 637.514 55.6014 634.904 Q59.1026 632.262 59.1026 627.551 Q59.1026 622.809 55.6014 620.199 Q52.1003 617.557 45.7664 617.557 M59.58 611.701 Q68.683 611.701 73.1071 615.743 Q77.5631 619.785 77.5631 628.124 Q77.5631 631.212 77.0857 633.949 Q76.6401 636.686 75.6852 639.264 L69.9879 639.264 Q71.3884 636.686 72.0568 634.172 Q72.7252 631.657 72.7252 629.047 Q72.7252 623.286 69.7015 620.422 Q66.7096 617.557 60.6303 617.557 L57.7339 617.557 Q60.885 619.371 62.4446 622.204 Q64.0042 625.037 64.0042 628.984 Q64.0042 635.54 59.0071 639.551 Q54.01 643.561 45.7664 643.561 Q37.491 643.561 32.4939 639.551 Q27.4968 635.54 27.4968 628.984 Q27.4968 625.037 29.0564 622.204 Q30.616 619.371 33.7671 617.557 L28.3562 617.557 L28.3562 611.701 L59.58 611.701 Z\" fill=\"#000000\" fill-rule=\"evenodd\" fill-opacity=\"1\" /><path clip-path=\"url(#clip720)\" d=\"M 0 0 M18.2347 599.765 L28.3562 599.765 L28.3562 587.702 L32.9077 587.702 L32.9077 599.765 L52.2594 599.765 Q56.6199 599.765 57.8613 598.587 Q59.1026 597.378 59.1026 593.718 L59.1026 587.702 L64.0042 587.702 L64.0042 593.718 Q64.0042 600.497 61.4897 603.075 Q58.9434 605.653 52.2594 605.653 L32.9077 605.653 L32.9077 609.95 L28.3562 609.95 L28.3562 605.653 L18.2347 605.653 L18.2347 599.765 Z\" fill=\"#000000\" fill-rule=\"evenodd\" fill-opacity=\"1\" /><path clip-path=\"url(#clip720)\" d=\"M 0 0 M42.4881 551.927 L64.0042 551.927 L64.0042 557.783 L42.679 557.783 Q37.6183 557.783 35.1038 559.757 Q32.5894 561.73 32.5894 565.677 Q32.5894 570.419 35.6131 573.156 Q38.6368 575.894 43.8567 575.894 L64.0042 575.894 L64.0042 581.782 L14.479 581.782 L14.479 575.894 L33.8944 575.894 Q30.6797 573.793 29.0883 570.96 Q27.4968 568.096 27.4968 564.372 Q27.4968 558.229 31.3163 555.078 Q35.1038 551.927 42.4881 551.927 Z\" fill=\"#000000\" fill-rule=\"evenodd\" fill-opacity=\"1\" /><path clip-path=\"url(#clip720)\" d=\"M 0 0 M867.873 12.096 L906.113 12.096 L906.113 18.9825 L876.056 18.9825 L876.056 36.8875 L904.858 36.8875 L904.858 43.7741 L876.056 43.7741 L876.056 65.6895 L906.843 65.6895 L906.843 72.576 L867.873 72.576 L867.873 12.096 Z\" fill=\"#000000\" fill-rule=\"evenodd\" fill-opacity=\"1\" /><path clip-path=\"url(#clip720)\" d=\"M 0 0 M952.375 27.2059 L935.969 49.2833 L953.225 72.576 L944.435 72.576 L931.229 54.752 L918.023 72.576 L909.233 72.576 L926.854 48.8377 L910.732 27.2059 L919.522 27.2059 L931.553 43.369 L943.584 27.2059 L952.375 27.2059 Z\" fill=\"#000000\" fill-rule=\"evenodd\" fill-opacity=\"1\" /><path clip-path=\"url(#clip720)\" d=\"M 0 0 M968.254 65.7705 L968.254 89.8329 L960.76 89.8329 L960.76 27.2059 L968.254 27.2059 L968.254 34.0924 Q970.604 30.0415 974.169 28.0971 Q977.774 26.1121 982.757 26.1121 Q991.02 26.1121 996.165 32.6746 Q1001.35 39.2371 1001.35 49.9314 Q1001.35 60.6258 996.165 67.1883 Q991.02 73.7508 982.757 73.7508 Q977.774 73.7508 974.169 71.8063 Q970.604 69.8214 968.254 65.7705 M993.613 49.9314 Q993.613 41.7081 990.21 37.0496 Q986.848 32.3505 980.934 32.3505 Q975.019 32.3505 971.617 37.0496 Q968.254 41.7081 968.254 49.9314 Q968.254 58.1548 971.617 62.8538 Q975.019 67.5124 980.934 67.5124 Q986.848 67.5124 990.21 62.8538 Q993.613 58.1548 993.613 49.9314 Z\" fill=\"#000000\" fill-rule=\"evenodd\" fill-opacity=\"1\" /><path clip-path=\"url(#clip720)\" d=\"M 0 0 M1009.17 9.54393 L1016.62 9.54393 L1016.62 72.576 L1009.17 72.576 L1009.17 9.54393 Z\" fill=\"#000000\" fill-rule=\"evenodd\" fill-opacity=\"1\" /><path clip-path=\"url(#clip720)\" d=\"M 0 0 M1042.02 32.4315 Q1036.03 32.4315 1032.54 37.1306 Q1029.06 41.7891 1029.06 49.9314 Q1029.06 58.0738 1032.5 62.7728 Q1035.99 67.4314 1042.02 67.4314 Q1047.98 67.4314 1051.46 62.7323 Q1054.94 58.0333 1054.94 49.9314 Q1054.94 41.8701 1051.46 37.1711 Q1047.98 32.4315 1042.02 32.4315 M1042.02 26.1121 Q1051.74 26.1121 1057.29 32.4315 Q1062.84 38.7509 1062.84 49.9314 Q1062.84 61.0714 1057.29 67.4314 Q1051.74 73.7508 1042.02 73.7508 Q1032.26 73.7508 1026.71 67.4314 Q1021.2 61.0714 1021.2 49.9314 Q1021.2 38.7509 1026.71 32.4315 Q1032.26 26.1121 1042.02 26.1121 Z\" fill=\"#000000\" fill-rule=\"evenodd\" fill-opacity=\"1\" /><path clip-path=\"url(#clip720)\" d=\"M 0 0 M1096.95 34.1734 Q1095.7 33.4443 1094.2 33.1202 Q1092.74 32.7556 1090.96 32.7556 Q1084.64 32.7556 1081.23 36.8875 Q1077.87 40.9789 1077.87 48.6757 L1077.87 72.576 L1070.38 72.576 L1070.38 27.2059 L1077.87 27.2059 L1077.87 34.2544 Q1080.22 30.1225 1083.99 28.1376 Q1087.76 26.1121 1093.14 26.1121 Q1093.91 26.1121 1094.85 26.2337 Q1095.78 26.3147 1096.91 26.5172 L1096.95 34.1734 Z\" fill=\"#000000\" fill-rule=\"evenodd\" fill-opacity=\"1\" /><path clip-path=\"url(#clip720)\" d=\"M 0 0 M1104.77 27.2059 L1112.22 27.2059 L1112.22 72.576 L1104.77 72.576 L1104.77 27.2059 M1104.77 9.54393 L1112.22 9.54393 L1112.22 18.9825 L1104.77 18.9825 L1104.77 9.54393 Z\" fill=\"#000000\" fill-rule=\"evenodd\" fill-opacity=\"1\" /><path clip-path=\"url(#clip720)\" d=\"M 0 0 M1157.76 45.1919 L1157.76 72.576 L1150.3 72.576 L1150.3 45.4349 Q1150.3 38.994 1147.79 35.7938 Q1145.28 32.5936 1140.26 32.5936 Q1134.22 32.5936 1130.74 36.4419 Q1127.25 40.2903 1127.25 46.9338 L1127.25 72.576 L1119.76 72.576 L1119.76 27.2059 L1127.25 27.2059 L1127.25 34.2544 Q1129.93 30.163 1133.53 28.1376 Q1137.18 26.1121 1141.92 26.1121 Q1149.73 26.1121 1153.75 30.9732 Q1157.76 35.7938 1157.76 45.1919 Z\" fill=\"#000000\" fill-rule=\"evenodd\" fill-opacity=\"1\" /><path clip-path=\"url(#clip720)\" d=\"M 0 0 M1195.43 49.3643 Q1195.43 41.2625 1192.07 36.8065 Q1188.75 32.3505 1182.71 32.3505 Q1176.71 32.3505 1173.35 36.8065 Q1170.03 41.2625 1170.03 49.3643 Q1170.03 57.4256 1173.35 61.8816 Q1176.71 66.3376 1182.71 66.3376 Q1188.75 66.3376 1192.07 61.8816 Q1195.43 57.4256 1195.43 49.3643 M1202.88 66.9452 Q1202.88 78.5308 1197.74 84.1616 Q1192.59 89.8329 1181.98 89.8329 Q1178.05 89.8329 1174.57 89.2252 Q1171.08 88.6581 1167.8 87.4428 L1167.8 80.1917 Q1171.08 81.9741 1174.28 82.8248 Q1177.48 83.6755 1180.81 83.6755 Q1188.14 83.6755 1191.78 79.8271 Q1195.43 76.0193 1195.43 68.282 L1195.43 64.5957 Q1193.12 68.6061 1189.51 70.5911 Q1185.91 72.576 1180.89 72.576 Q1172.54 72.576 1167.44 66.2161 Q1162.33 59.8562 1162.33 49.3643 Q1162.33 38.832 1167.44 32.472 Q1172.54 26.1121 1180.89 26.1121 Q1185.91 26.1121 1189.51 28.0971 Q1193.12 30.082 1195.43 34.0924 L1195.43 27.2059 L1202.88 27.2059 L1202.88 66.9452 Z\" fill=\"#000000\" fill-rule=\"evenodd\" fill-opacity=\"1\" /><path clip-path=\"url(#clip720)\" d=\"M 0 0 M1245.58 18.8205 L1245.58 41.5461 L1255.87 41.5461 Q1261.58 41.5461 1264.7 38.5889 Q1267.82 35.6318 1267.82 30.163 Q1267.82 24.7348 1264.7 21.7777 Q1261.58 18.8205 1255.87 18.8205 L1245.58 18.8205 M1237.4 12.096 L1255.87 12.096 Q1266.04 12.096 1271.22 16.714 Q1276.45 21.2916 1276.45 30.163 Q1276.45 39.1155 1271.22 43.6931 Q1266.04 48.2706 1255.87 48.2706 L1245.58 48.2706 L1245.58 72.576 L1237.4 72.576 L1237.4 12.096 Z\" fill=\"#000000\" fill-rule=\"evenodd\" fill-opacity=\"1\" /><path clip-path=\"url(#clip720)\" d=\"M 0 0 M1298.89 32.4315 Q1292.89 32.4315 1289.41 37.1306 Q1285.93 41.7891 1285.93 49.9314 Q1285.93 58.0738 1289.37 62.7728 Q1292.85 67.4314 1298.89 67.4314 Q1304.84 67.4314 1308.33 62.7323 Q1311.81 58.0333 1311.81 49.9314 Q1311.81 41.8701 1308.33 37.1711 Q1304.84 32.4315 1298.89 32.4315 M1298.89 26.1121 Q1308.61 26.1121 1314.16 32.4315 Q1319.71 38.7509 1319.71 49.9314 Q1319.71 61.0714 1314.16 67.4314 Q1308.61 73.7508 1298.89 73.7508 Q1289.13 73.7508 1283.58 67.4314 Q1278.07 61.0714 1278.07 49.9314 Q1278.07 38.7509 1283.58 32.4315 Q1289.13 26.1121 1298.89 26.1121 Z\" fill=\"#000000\" fill-rule=\"evenodd\" fill-opacity=\"1\" /><path clip-path=\"url(#clip720)\" d=\"M 0 0 M1356.45 28.5427 L1356.45 35.5912 Q1353.29 33.9709 1349.89 33.1607 Q1346.49 32.3505 1342.84 32.3505 Q1337.29 32.3505 1334.5 34.0519 Q1331.74 35.7533 1331.74 39.156 Q1331.74 41.7486 1333.73 43.2475 Q1335.71 44.7058 1341.71 46.0426 L1344.26 46.6097 Q1352.2 48.3111 1355.52 51.4303 Q1358.88 54.509 1358.88 60.0587 Q1358.88 66.3781 1353.86 70.0644 Q1348.88 73.7508 1340.13 73.7508 Q1336.48 73.7508 1332.51 73.0216 Q1328.58 72.3329 1324.21 70.9151 L1324.21 63.2184 Q1328.34 65.3654 1332.35 66.4591 Q1336.36 67.5124 1340.29 67.5124 Q1345.56 67.5124 1348.39 65.73 Q1351.23 63.9071 1351.23 60.6258 Q1351.23 57.5877 1349.16 55.9673 Q1347.14 54.3469 1340.21 52.8481 L1337.62 52.2405 Q1330.69 50.7821 1327.61 47.7845 Q1324.53 44.7463 1324.53 39.4801 Q1324.53 33.0797 1329.07 29.5959 Q1333.61 26.1121 1341.95 26.1121 Q1346.08 26.1121 1349.73 26.7198 Q1353.37 27.3274 1356.45 28.5427 Z\" fill=\"#000000\" fill-rule=\"evenodd\" fill-opacity=\"1\" /><path clip-path=\"url(#clip720)\" d=\"M 0 0 M1366.7 27.2059 L1374.15 27.2059 L1374.15 72.576 L1366.7 72.576 L1366.7 27.2059 M1366.7 9.54393 L1374.15 9.54393 L1374.15 18.9825 L1366.7 18.9825 L1366.7 9.54393 Z\" fill=\"#000000\" fill-rule=\"evenodd\" fill-opacity=\"1\" /><path clip-path=\"url(#clip720)\" d=\"M 0 0 M1389.35 14.324 L1389.35 27.2059 L1404.7 27.2059 L1404.7 32.9987 L1389.35 32.9987 L1389.35 57.6282 Q1389.35 63.1779 1390.84 64.7578 Q1392.38 66.3376 1397.04 66.3376 L1404.7 66.3376 L1404.7 72.576 L1397.04 72.576 Q1388.41 72.576 1385.13 69.3758 Q1381.85 66.1351 1381.85 57.6282 L1381.85 32.9987 L1376.38 32.9987 L1376.38 27.2059 L1381.85 27.2059 L1381.85 14.324 L1389.35 14.324 Z\" fill=\"#000000\" fill-rule=\"evenodd\" fill-opacity=\"1\" /><path clip-path=\"url(#clip720)\" d=\"M 0 0 M1412.52 27.2059 L1419.97 27.2059 L1419.97 72.576 L1412.52 72.576 L1412.52 27.2059 M1412.52 9.54393 L1419.97 9.54393 L1419.97 18.9825 L1412.52 18.9825 L1412.52 9.54393 Z\" fill=\"#000000\" fill-rule=\"evenodd\" fill-opacity=\"1\" /><path clip-path=\"url(#clip720)\" d=\"M 0 0 M1445.37 32.4315 Q1439.37 32.4315 1435.89 37.1306 Q1432.41 41.7891 1432.41 49.9314 Q1432.41 58.0738 1435.85 62.7728 Q1439.33 67.4314 1445.37 67.4314 Q1451.32 67.4314 1454.81 62.7323 Q1458.29 58.0333 1458.29 49.9314 Q1458.29 41.8701 1454.81 37.1711 Q1451.32 32.4315 1445.37 32.4315 M1445.37 26.1121 Q1455.09 26.1121 1460.64 32.4315 Q1466.19 38.7509 1466.19 49.9314 Q1466.19 61.0714 1460.64 67.4314 Q1455.09 73.7508 1445.37 73.7508 Q1435.61 73.7508 1430.06 67.4314 Q1424.55 61.0714 1424.55 49.9314 Q1424.55 38.7509 1430.06 32.4315 Q1435.61 26.1121 1445.37 26.1121 Z\" fill=\"#000000\" fill-rule=\"evenodd\" fill-opacity=\"1\" /><path clip-path=\"url(#clip720)\" d=\"M 0 0 M1511.72 45.1919 L1511.72 72.576 L1504.27 72.576 L1504.27 45.4349 Q1504.27 38.994 1501.76 35.7938 Q1499.25 32.5936 1494.22 32.5936 Q1488.19 32.5936 1484.7 36.4419 Q1481.22 40.2903 1481.22 46.9338 L1481.22 72.576 L1473.73 72.576 L1473.73 27.2059 L1481.22 27.2059 L1481.22 34.2544 Q1483.89 30.163 1487.5 28.1376 Q1491.15 26.1121 1495.88 26.1121 Q1503.7 26.1121 1507.71 30.9732 Q1511.72 35.7938 1511.72 45.1919 Z\" fill=\"#000000\" fill-rule=\"evenodd\" fill-opacity=\"1\" /><path clip-path=\"url(#clip720)\" d=\"M 0 0 M1558.27 40.0472 Q1554.58 43.3285 1552.84 46.6097 Q1551.14 49.8504 1551.14 53.4152 Q1551.14 59.3295 1555.43 63.2589 Q1559.73 67.1883 1566.21 67.1883 Q1570.06 67.1883 1573.42 65.9325 Q1576.78 64.6362 1579.74 62.0436 L1558.27 40.0472 M1563.98 35.5102 L1584.56 56.5749 Q1586.95 52.9696 1588.29 48.8782 Q1589.62 44.7463 1589.87 40.1283 L1597.4 40.1283 Q1596.91 45.4755 1594.81 50.7011 Q1592.7 55.9268 1588.93 61.0309 L1600.24 72.576 L1590.03 72.576 L1584.23 66.6212 Q1580.02 70.2265 1575.4 72.0089 Q1570.79 73.7508 1565.48 73.7508 Q1555.72 73.7508 1549.52 68.201 Q1543.32 62.6108 1543.32 53.9013 Q1543.32 48.7162 1546.03 44.1792 Q1548.75 39.6016 1554.18 35.5912 Q1552.23 33.0392 1551.22 30.5276 Q1550.21 27.9755 1550.21 25.545 Q1550.21 18.9825 1554.7 15.0127 Q1559.2 11.0023 1566.65 11.0023 Q1570.02 11.0023 1573.34 11.7314 Q1576.7 12.4606 1580.14 13.9189 L1580.14 21.2916 Q1576.62 19.3876 1573.42 18.4154 Q1570.22 17.4027 1567.46 17.4027 Q1563.21 17.4027 1560.54 19.6712 Q1557.9 21.8992 1557.9 25.464 Q1557.9 27.5299 1559.08 29.6364 Q1560.29 31.7024 1563.98 35.5102 Z\" fill=\"#000000\" fill-rule=\"evenodd\" fill-opacity=\"1\" /><path clip-path=\"url(#clip720)\" d=\"M 0 0 M1650.35 72.576 L1627.26 12.096 L1635.8 12.096 L1654.96 63.0159 L1674.16 12.096 L1682.67 12.096 L1659.62 72.576 L1650.35 72.576 Z\" fill=\"#000000\" fill-rule=\"evenodd\" fill-opacity=\"1\" /><path clip-path=\"url(#clip720)\" d=\"M 0 0 M1722.86 48.0275 L1722.86 51.6733 L1688.59 51.6733 Q1689.07 59.3701 1693.2 63.421 Q1697.38 67.4314 1704.79 67.4314 Q1709.08 67.4314 1713.09 66.3781 Q1717.15 65.3249 1721.11 63.2184 L1721.11 70.267 Q1717.1 71.9684 1712.89 72.8596 Q1708.68 73.7508 1704.34 73.7508 Q1693.49 73.7508 1687.13 67.4314 Q1680.81 61.1119 1680.81 50.3365 Q1680.81 39.1965 1686.8 32.6746 Q1692.84 26.1121 1703.05 26.1121 Q1712.2 26.1121 1717.51 32.0264 Q1722.86 37.9003 1722.86 48.0275 M1715.4 45.84 Q1715.32 39.7232 1711.96 36.0774 Q1708.64 32.4315 1703.13 32.4315 Q1696.89 32.4315 1693.12 35.9558 Q1689.4 39.4801 1688.83 45.8805 L1715.4 45.84 Z\" fill=\"#000000\" fill-rule=\"evenodd\" fill-opacity=\"1\" /><path clip-path=\"url(#clip720)\" d=\"M 0 0 M1730.68 9.54393 L1738.13 9.54393 L1738.13 72.576 L1730.68 72.576 L1730.68 9.54393 Z\" fill=\"#000000\" fill-rule=\"evenodd\" fill-opacity=\"1\" /><polyline clip-path=\"url(#clip722)\" style=\"stroke:#009af9; stroke-width:4; stroke-opacity:1; fill:none\" points=\"\n",
       "  312.666,239.688 353.088,386.172 393.509,475.632 433.931,333.916 474.353,399.172 514.775,361.22 555.197,323.931 595.619,423.355 636.041,332.526 676.462,324.808 \n",
       "  716.884,402.615 757.306,278.431 797.728,236.331 838.15,283.349 878.572,324.273 918.993,321.579 959.415,352.646 999.837,284.098 1040.26,325.813 1080.68,242.062 \n",
       "  1121.1,327.138 1161.52,243.195 1201.95,364.962 1242.37,328.464 1282.79,286.407 1323.21,325.107 1363.63,284.204 1404.06,241.655 1444.48,283.649 1484.9,283.52 \n",
       "  1525.32,326.561 1565.74,326.39 1606.16,320.852 1646.59,326.198 1687.01,236.738 1727.43,370.949 1767.85,284.333 1808.27,327.823 1848.7,194.167 1889.12,234.343 \n",
       "  1929.54,314.117 1969.96,285.979 2010.38,160.256 2050.8,288.203 2091.23,287.989 2131.65,245.44 2172.07,202.827 2212.49,245.354 2252.91,202.741 2293.34,160.256 \n",
       "  \n",
       "  \"/>\n",
       "<polyline clip-path=\"url(#clip722)\" style=\"stroke:#e26f46; stroke-width:4; stroke-opacity:1; fill:none\" points=\"\n",
       "  312.666,454.7 353.088,904.266 393.509,1124.32 433.931,1259.2 474.353,1252.87 514.775,1284.41 555.197,1314.75 595.619,1304.29 636.041,1332.3 676.462,1301.53 \n",
       "  716.884,1303.86 757.306,1336.41 797.728,1356.53 838.15,1329.56 878.572,1329.67 918.993,1351.69 959.415,1366.9 999.837,1376.84 1040.26,1362.13 1080.68,1365.89 \n",
       "  1121.1,1364.91 1161.52,1358 1201.95,1377.5 1242.37,1372.93 1282.79,1356.53 1323.21,1379.47 1363.63,1386.4 1404.06,1382.16 1444.48,1383.38 1484.9,1376.41 \n",
       "  1525.32,1381.63 1565.74,1373.31 1606.16,1371.71 1646.59,1366.34 1687.01,1369.12 1727.43,1367.82 1767.85,1364.69 1808.27,1369.93 1848.7,1371 1889.12,1385.48 \n",
       "  1929.54,1375.92 1969.96,1380.37 2010.38,1372.18 2050.8,1383.72 2091.23,1364.65 2131.65,1380.52 2172.07,1377.33 2212.49,1378.38 2252.91,1381.24 2293.34,1377.74 \n",
       "  \n",
       "  \"/>\n",
       "<path clip-path=\"url(#clip720)\" d=\"\n",
       "M323.229 833.806 L1130.83 833.806 L1130.83 652.366 L323.229 652.366  Z\n",
       "  \" fill=\"#ffffff\" fill-rule=\"evenodd\" fill-opacity=\"1\"/>\n",
       "<polyline clip-path=\"url(#clip720)\" style=\"stroke:#000000; stroke-width:4; stroke-opacity:1; fill:none\" points=\"\n",
       "  323.229,833.806 1130.83,833.806 1130.83,652.366 323.229,652.366 323.229,833.806 \n",
       "  \"/>\n",
       "<polyline clip-path=\"url(#clip720)\" style=\"stroke:#009af9; stroke-width:4; stroke-opacity:1; fill:none\" points=\"\n",
       "  346.557,712.846 486.525,712.846 \n",
       "  \"/>\n",
       "<path clip-path=\"url(#clip720)\" d=\"M 0 0 M528.95 719.895 L528.95 704.2 L533.209 704.2 L533.209 719.733 Q533.209 723.413 534.644 725.265 Q536.079 727.094 538.95 727.094 Q542.399 727.094 544.389 724.895 Q546.403 722.695 546.403 718.899 L546.403 704.2 L550.662 704.2 L550.662 730.126 L546.403 730.126 L546.403 726.145 Q544.852 728.506 542.792 729.663 Q540.755 730.797 538.047 730.797 Q533.579 730.797 531.264 728.02 Q528.95 725.242 528.95 719.895 M539.667 703.575 L539.667 703.575 Z\" fill=\"#000000\" fill-rule=\"evenodd\" fill-opacity=\"1\" /><path clip-path=\"url(#clip720)\" d=\"M 0 0 M571.658 704.964 L571.658 708.992 Q569.852 708.066 567.908 707.603 Q565.963 707.14 563.88 707.14 Q560.709 707.14 559.112 708.112 Q557.537 709.084 557.537 711.029 Q557.537 712.51 558.672 713.367 Q559.806 714.2 563.232 714.964 L564.69 715.288 Q569.227 716.26 571.125 718.043 Q573.047 719.802 573.047 722.973 Q573.047 726.584 570.176 728.691 Q567.329 730.797 562.329 730.797 Q560.246 730.797 557.977 730.381 Q555.732 729.987 553.232 729.177 L553.232 724.779 Q555.593 726.006 557.885 726.631 Q560.176 727.232 562.422 727.232 Q565.431 727.232 567.051 726.214 Q568.672 725.172 568.672 723.297 Q568.672 721.561 567.491 720.635 Q566.334 719.709 562.375 718.853 L560.894 718.506 Q556.936 717.672 555.176 715.959 Q553.417 714.223 553.417 711.214 Q553.417 707.557 556.01 705.566 Q558.602 703.575 563.371 703.575 Q565.732 703.575 567.815 703.922 Q569.898 704.27 571.658 704.964 Z\" fill=\"#000000\" fill-rule=\"evenodd\" fill-opacity=\"1\" /><path clip-path=\"url(#clip720)\" d=\"M 0 0 M599.69 716.098 L599.69 718.182 L580.107 718.182 Q580.385 722.58 582.746 724.895 Q585.13 727.186 589.366 727.186 Q591.82 727.186 594.111 726.584 Q596.426 725.982 598.695 724.779 L598.695 728.807 Q596.403 729.779 593.996 730.288 Q591.588 730.797 589.111 730.797 Q582.908 730.797 579.273 727.186 Q575.662 723.575 575.662 717.418 Q575.662 711.052 579.088 707.325 Q582.537 703.575 588.371 703.575 Q593.602 703.575 596.634 706.955 Q599.69 710.311 599.69 716.098 M595.431 714.848 Q595.384 711.353 593.463 709.27 Q591.565 707.186 588.417 707.186 Q584.852 707.186 582.699 709.2 Q580.57 711.214 580.246 714.871 L595.431 714.848 Z\" fill=\"#000000\" fill-rule=\"evenodd\" fill-opacity=\"1\" /><path clip-path=\"url(#clip720)\" d=\"M 0 0 M623.857 737.996 L623.857 741.306 L599.227 741.306 L599.227 737.996 L623.857 737.996 Z\" fill=\"#000000\" fill-rule=\"evenodd\" fill-opacity=\"1\" /><path clip-path=\"url(#clip720)\" d=\"M 0 0 M650.5 716.098 L650.5 718.182 L630.917 718.182 Q631.194 722.58 633.556 724.895 Q635.94 727.186 640.176 727.186 Q642.63 727.186 644.921 726.584 Q647.236 725.982 649.505 724.779 L649.505 728.807 Q647.213 729.779 644.805 730.288 Q642.398 730.797 639.921 730.797 Q633.718 730.797 630.083 727.186 Q626.472 723.575 626.472 717.418 Q626.472 711.052 629.898 707.325 Q633.347 703.575 639.181 703.575 Q644.412 703.575 647.444 706.955 Q650.5 710.311 650.5 716.098 M646.241 714.848 Q646.194 711.353 644.273 709.27 Q642.375 707.186 639.227 707.186 Q635.662 707.186 633.509 709.2 Q631.38 711.214 631.056 714.871 L646.241 714.848 Z\" fill=\"#000000\" fill-rule=\"evenodd\" fill-opacity=\"1\" /><path clip-path=\"url(#clip720)\" d=\"M 0 0 M675.685 704.2 L666.31 716.816 L676.171 730.126 L671.148 730.126 L663.602 719.941 L656.055 730.126 L651.032 730.126 L661.102 716.561 L651.889 704.2 L656.912 704.2 L663.787 713.436 L670.662 704.2 L675.685 704.2 Z\" fill=\"#000000\" fill-rule=\"evenodd\" fill-opacity=\"1\" /><path clip-path=\"url(#clip720)\" d=\"M 0 0 M684.852 696.839 L684.852 704.2 L693.625 704.2 L693.625 707.51 L684.852 707.51 L684.852 721.584 Q684.852 724.756 685.708 725.658 Q686.588 726.561 689.25 726.561 L693.625 726.561 L693.625 730.126 L689.25 730.126 Q684.319 730.126 682.444 728.297 Q680.569 726.445 680.569 721.584 L680.569 707.51 L677.444 707.51 L677.444 704.2 L680.569 704.2 L680.569 696.839 L684.852 696.839 Z\" fill=\"#000000\" fill-rule=\"evenodd\" fill-opacity=\"1\" /><path clip-path=\"url(#clip720)\" d=\"M 0 0 M720.268 716.098 L720.268 718.182 L700.685 718.182 Q700.963 722.58 703.324 724.895 Q705.708 727.186 709.944 727.186 Q712.398 727.186 714.689 726.584 Q717.004 725.982 719.273 724.779 L719.273 728.807 Q716.981 729.779 714.574 730.288 Q712.166 730.797 709.689 730.797 Q703.486 730.797 699.851 727.186 Q696.24 723.575 696.24 717.418 Q696.24 711.052 699.666 707.325 Q703.115 703.575 708.949 703.575 Q714.18 703.575 717.213 706.955 Q720.268 710.311 720.268 716.098 M716.009 714.848 Q715.963 711.353 714.041 709.27 Q712.143 707.186 708.995 707.186 Q705.43 707.186 703.277 709.2 Q701.148 711.214 700.824 714.871 L716.009 714.848 Z\" fill=\"#000000\" fill-rule=\"evenodd\" fill-opacity=\"1\" /><path clip-path=\"url(#clip720)\" d=\"M 0 0 M739.759 708.182 Q739.041 707.765 738.185 707.58 Q737.351 707.371 736.333 707.371 Q732.722 707.371 730.777 709.733 Q728.856 712.071 728.856 716.469 L728.856 730.126 L724.574 730.126 L724.574 704.2 L728.856 704.2 L728.856 708.228 Q730.199 705.867 732.351 704.733 Q734.504 703.575 737.583 703.575 Q738.023 703.575 738.555 703.645 Q739.087 703.691 739.736 703.807 L739.759 708.182 Z\" fill=\"#000000\" fill-rule=\"evenodd\" fill-opacity=\"1\" /><path clip-path=\"url(#clip720)\" d=\"M 0 0 M764.944 714.478 L764.944 730.126 L760.685 730.126 L760.685 714.617 Q760.685 710.936 759.249 709.108 Q757.814 707.279 754.944 707.279 Q751.495 707.279 749.504 709.478 Q747.513 711.677 747.513 715.473 L747.513 730.126 L743.231 730.126 L743.231 704.2 L747.513 704.2 L747.513 708.228 Q749.041 705.89 751.101 704.733 Q753.185 703.575 755.893 703.575 Q760.36 703.575 762.652 706.353 Q764.944 709.108 764.944 714.478 Z\" fill=\"#000000\" fill-rule=\"evenodd\" fill-opacity=\"1\" /><path clip-path=\"url(#clip720)\" d=\"M 0 0 M781.194 717.094 Q776.032 717.094 774.041 718.274 Q772.05 719.455 772.05 722.302 Q772.05 724.57 773.532 725.913 Q775.036 727.232 777.606 727.232 Q781.147 727.232 783.277 724.732 Q785.43 722.209 785.43 718.043 L785.43 717.094 L781.194 717.094 M789.689 715.334 L789.689 730.126 L785.43 730.126 L785.43 726.191 Q783.971 728.552 781.796 729.686 Q779.62 730.797 776.471 730.797 Q772.49 730.797 770.129 728.575 Q767.791 726.33 767.791 722.58 Q767.791 718.205 770.708 715.983 Q773.647 713.76 779.458 713.76 L785.43 713.76 L785.43 713.344 Q785.43 710.404 783.485 708.807 Q781.564 707.186 778.069 707.186 Q775.846 707.186 773.74 707.719 Q771.634 708.251 769.689 709.316 L769.689 705.381 Q772.027 704.478 774.226 704.038 Q776.425 703.575 778.508 703.575 Q784.133 703.575 786.911 706.492 Q789.689 709.409 789.689 715.334 Z\" fill=\"#000000\" fill-rule=\"evenodd\" fill-opacity=\"1\" /><path clip-path=\"url(#clip720)\" d=\"M 0 0 M794.157 694.108 L798.416 694.108 L798.416 730.126 L794.157 730.126 L794.157 694.108 Z\" fill=\"#000000\" fill-rule=\"evenodd\" fill-opacity=\"1\" /><path clip-path=\"url(#clip720)\" d=\"M 0 0 M822.582 737.996 L822.582 741.306 L797.953 741.306 L797.953 737.996 L822.582 737.996 Z\" fill=\"#000000\" fill-rule=\"evenodd\" fill-opacity=\"1\" /><path clip-path=\"url(#clip720)\" d=\"M 0 0 M842.073 708.182 Q841.355 707.765 840.499 707.58 Q839.666 707.371 838.647 707.371 Q835.036 707.371 833.092 709.733 Q831.17 712.071 831.17 716.469 L831.17 730.126 L826.888 730.126 L826.888 704.2 L831.17 704.2 L831.17 708.228 Q832.513 705.867 834.666 704.733 Q836.818 703.575 839.897 703.575 Q840.337 703.575 840.869 703.645 Q841.402 703.691 842.05 703.807 L842.073 708.182 Z\" fill=\"#000000\" fill-rule=\"evenodd\" fill-opacity=\"1\" /><path clip-path=\"url(#clip720)\" d=\"M 0 0 M867.675 716.098 L867.675 718.182 L848.091 718.182 Q848.369 722.58 850.73 724.895 Q853.115 727.186 857.351 727.186 Q859.804 727.186 862.096 726.584 Q864.411 725.982 866.679 724.779 L866.679 728.807 Q864.388 729.779 861.98 730.288 Q859.573 730.797 857.096 730.797 Q850.892 730.797 847.258 727.186 Q843.647 723.575 843.647 717.418 Q843.647 711.052 847.073 707.325 Q850.522 703.575 856.355 703.575 Q861.587 703.575 864.619 706.955 Q867.675 710.311 867.675 716.098 M863.415 714.848 Q863.369 711.353 861.448 709.27 Q859.55 707.186 856.402 707.186 Q852.837 707.186 850.684 709.2 Q848.554 711.214 848.23 714.871 L863.415 714.848 Z\" fill=\"#000000\" fill-rule=\"evenodd\" fill-opacity=\"1\" /><path clip-path=\"url(#clip720)\" d=\"M 0 0 M869.665 704.2 L873.925 704.2 L879.249 724.432 L884.55 704.2 L889.573 704.2 L894.897 724.432 L900.198 704.2 L904.457 704.2 L897.675 730.126 L892.651 730.126 L887.073 708.876 L881.471 730.126 L876.448 730.126 L869.665 704.2 Z\" fill=\"#000000\" fill-rule=\"evenodd\" fill-opacity=\"1\" /><path clip-path=\"url(#clip720)\" d=\"M 0 0 M920.707 717.094 Q915.545 717.094 913.554 718.274 Q911.563 719.455 911.563 722.302 Q911.563 724.57 913.045 725.913 Q914.549 727.232 917.119 727.232 Q920.661 727.232 922.79 724.732 Q924.943 722.209 924.943 718.043 L924.943 717.094 L920.707 717.094 M929.202 715.334 L929.202 730.126 L924.943 730.126 L924.943 726.191 Q923.485 728.552 921.309 729.686 Q919.133 730.797 915.985 730.797 Q912.003 730.797 909.642 728.575 Q907.304 726.33 907.304 722.58 Q907.304 718.205 910.221 715.983 Q913.161 713.76 918.971 713.76 L924.943 713.76 L924.943 713.344 Q924.943 710.404 922.998 708.807 Q921.077 707.186 917.582 707.186 Q915.36 707.186 913.253 707.719 Q911.147 708.251 909.202 709.316 L909.202 705.381 Q911.54 704.478 913.739 704.038 Q915.938 703.575 918.022 703.575 Q923.647 703.575 926.424 706.492 Q929.202 709.409 929.202 715.334 Z\" fill=\"#000000\" fill-rule=\"evenodd\" fill-opacity=\"1\" /><path clip-path=\"url(#clip720)\" d=\"M 0 0 M948.693 708.182 Q947.975 707.765 947.119 707.58 Q946.285 707.371 945.267 707.371 Q941.656 707.371 939.711 709.733 Q937.79 712.071 937.79 716.469 L937.79 730.126 L933.508 730.126 L933.508 704.2 L937.79 704.2 L937.79 708.228 Q939.133 705.867 941.285 704.733 Q943.438 703.575 946.517 703.575 Q946.957 703.575 947.489 703.645 Q948.021 703.691 948.67 703.807 L948.693 708.182 Z\" fill=\"#000000\" fill-rule=\"evenodd\" fill-opacity=\"1\" /><path clip-path=\"url(#clip720)\" d=\"M 0 0 M969.387 708.135 L969.387 694.108 L973.646 694.108 L973.646 730.126 L969.387 730.126 L969.387 726.237 Q968.045 728.552 965.984 729.686 Q963.947 730.797 961.077 730.797 Q956.378 730.797 953.415 727.047 Q950.475 723.297 950.475 717.186 Q950.475 711.075 953.415 707.325 Q956.378 703.575 961.077 703.575 Q963.947 703.575 965.984 704.709 Q968.045 705.821 969.387 708.135 M954.873 717.186 Q954.873 721.885 956.795 724.57 Q958.739 727.232 962.119 727.232 Q965.498 727.232 967.443 724.57 Q969.387 721.885 969.387 717.186 Q969.387 712.487 967.443 709.825 Q965.498 707.14 962.119 707.14 Q958.739 707.14 956.795 709.825 Q954.873 712.487 954.873 717.186 Z\" fill=\"#000000\" fill-rule=\"evenodd\" fill-opacity=\"1\" /><path clip-path=\"url(#clip720)\" d=\"M 0 0 M979.202 724.246 L984.086 724.246 L984.086 730.126 L979.202 730.126 L979.202 724.246 M979.202 705.612 L984.086 705.612 L984.086 711.492 L979.202 711.492 L979.202 705.612 Z\" fill=\"#000000\" fill-rule=\"evenodd\" fill-opacity=\"1\" /><path clip-path=\"url(#clip720)\" d=\"M 0 0 M1001.68 694.108 L1001.68 697.649 L997.605 697.649 Q995.313 697.649 994.41 698.575 Q993.53 699.501 993.53 701.909 L993.53 704.2 L1000.54 704.2 L1000.54 707.51 L993.53 707.51 L993.53 730.126 L989.248 730.126 L989.248 707.51 L985.174 707.51 L985.174 704.2 L989.248 704.2 L989.248 702.395 Q989.248 698.066 991.262 696.098 Q993.276 694.108 997.651 694.108 L1001.68 694.108 Z\" fill=\"#000000\" fill-rule=\"evenodd\" fill-opacity=\"1\" /><path clip-path=\"url(#clip720)\" d=\"M 0 0 M1017.93 717.094 Q1012.77 717.094 1010.78 718.274 Q1008.79 719.455 1008.79 722.302 Q1008.79 724.57 1010.27 725.913 Q1011.77 727.232 1014.34 727.232 Q1017.88 727.232 1020.01 724.732 Q1022.16 722.209 1022.16 718.043 L1022.16 717.094 L1017.93 717.094 M1026.42 715.334 L1026.42 730.126 L1022.16 730.126 L1022.16 726.191 Q1020.71 728.552 1018.53 729.686 Q1016.35 730.797 1013.21 730.797 Q1009.22 730.797 1006.86 728.575 Q1004.53 726.33 1004.53 722.58 Q1004.53 718.205 1007.44 715.983 Q1010.38 713.76 1016.19 713.76 L1022.16 713.76 L1022.16 713.344 Q1022.16 710.404 1020.22 708.807 Q1018.3 707.186 1014.8 707.186 Q1012.58 707.186 1010.47 707.719 Q1008.37 708.251 1006.42 709.316 L1006.42 705.381 Q1008.76 704.478 1010.96 704.038 Q1013.16 703.575 1015.24 703.575 Q1020.87 703.575 1023.65 706.492 Q1026.42 709.409 1026.42 715.334 Z\" fill=\"#000000\" fill-rule=\"evenodd\" fill-opacity=\"1\" /><path clip-path=\"url(#clip720)\" d=\"M 0 0 M1030.89 694.108 L1035.15 694.108 L1035.15 730.126 L1030.89 730.126 L1030.89 694.108 Z\" fill=\"#000000\" fill-rule=\"evenodd\" fill-opacity=\"1\" /><path clip-path=\"url(#clip720)\" d=\"M 0 0 M1056.15 704.964 L1056.15 708.992 Q1054.34 708.066 1052.4 707.603 Q1050.45 707.14 1048.37 707.14 Q1045.2 707.14 1043.6 708.112 Q1042.03 709.084 1042.03 711.029 Q1042.03 712.51 1043.16 713.367 Q1044.29 714.2 1047.72 714.964 L1049.18 715.288 Q1053.72 716.26 1055.61 718.043 Q1057.53 719.802 1057.53 722.973 Q1057.53 726.584 1054.66 728.691 Q1051.82 730.797 1046.82 730.797 Q1044.73 730.797 1042.47 730.381 Q1040.22 729.987 1037.72 729.177 L1037.72 724.779 Q1040.08 726.006 1042.37 726.631 Q1044.66 727.232 1046.91 727.232 Q1049.92 727.232 1051.54 726.214 Q1053.16 725.172 1053.16 723.297 Q1053.16 721.561 1051.98 720.635 Q1050.82 719.709 1046.86 718.853 L1045.38 718.506 Q1041.42 717.672 1039.66 715.959 Q1037.91 714.223 1037.91 711.214 Q1037.91 707.557 1040.5 705.566 Q1043.09 703.575 1047.86 703.575 Q1050.22 703.575 1052.3 703.922 Q1054.39 704.27 1056.15 704.964 Z\" fill=\"#000000\" fill-rule=\"evenodd\" fill-opacity=\"1\" /><path clip-path=\"url(#clip720)\" d=\"M 0 0 M1084.18 716.098 L1084.18 718.182 L1064.59 718.182 Q1064.87 722.58 1067.23 724.895 Q1069.62 727.186 1073.85 727.186 Q1076.31 727.186 1078.6 726.584 Q1080.91 725.982 1083.18 724.779 L1083.18 728.807 Q1080.89 729.779 1078.48 730.288 Q1076.08 730.797 1073.6 730.797 Q1067.4 730.797 1063.76 727.186 Q1060.15 723.575 1060.15 717.418 Q1060.15 711.052 1063.58 707.325 Q1067.03 703.575 1072.86 703.575 Q1078.09 703.575 1081.12 706.955 Q1084.18 710.311 1084.18 716.098 M1079.92 714.848 Q1079.87 711.353 1077.95 709.27 Q1076.05 707.186 1072.91 707.186 Q1069.34 707.186 1067.19 709.2 Q1065.06 711.214 1064.73 714.871 L1079.92 714.848 Z\" fill=\"#000000\" fill-rule=\"evenodd\" fill-opacity=\"1\" /><polyline clip-path=\"url(#clip720)\" style=\"stroke:#e26f46; stroke-width:4; stroke-opacity:1; fill:none\" points=\"\n",
       "  346.557,773.326 486.525,773.326 \n",
       "  \"/>\n",
       "<path clip-path=\"url(#clip720)\" d=\"M 0 0 M528.95 780.375 L528.95 764.68 L533.209 764.68 L533.209 780.213 Q533.209 783.893 534.644 785.745 Q536.079 787.574 538.95 787.574 Q542.399 787.574 544.389 785.375 Q546.403 783.175 546.403 779.379 L546.403 764.68 L550.662 764.68 L550.662 790.606 L546.403 790.606 L546.403 786.625 Q544.852 788.986 542.792 790.143 Q540.755 791.277 538.047 791.277 Q533.579 791.277 531.264 788.5 Q528.95 785.722 528.95 780.375 M539.667 764.055 L539.667 764.055 Z\" fill=\"#000000\" fill-rule=\"evenodd\" fill-opacity=\"1\" /><path clip-path=\"url(#clip720)\" d=\"M 0 0 M571.658 765.444 L571.658 769.472 Q569.852 768.546 567.908 768.083 Q565.963 767.62 563.88 767.62 Q560.709 767.62 559.112 768.592 Q557.537 769.564 557.537 771.509 Q557.537 772.99 558.672 773.847 Q559.806 774.68 563.232 775.444 L564.69 775.768 Q569.227 776.74 571.125 778.523 Q573.047 780.282 573.047 783.453 Q573.047 787.064 570.176 789.171 Q567.329 791.277 562.329 791.277 Q560.246 791.277 557.977 790.861 Q555.732 790.467 553.232 789.657 L553.232 785.259 Q555.593 786.486 557.885 787.111 Q560.176 787.712 562.422 787.712 Q565.431 787.712 567.051 786.694 Q568.672 785.652 568.672 783.777 Q568.672 782.041 567.491 781.115 Q566.334 780.189 562.375 779.333 L560.894 778.986 Q556.936 778.152 555.176 776.439 Q553.417 774.703 553.417 771.694 Q553.417 768.037 556.01 766.046 Q558.602 764.055 563.371 764.055 Q565.732 764.055 567.815 764.402 Q569.898 764.75 571.658 765.444 Z\" fill=\"#000000\" fill-rule=\"evenodd\" fill-opacity=\"1\" /><path clip-path=\"url(#clip720)\" d=\"M 0 0 M599.69 776.578 L599.69 778.662 L580.107 778.662 Q580.385 783.06 582.746 785.375 Q585.13 787.666 589.366 787.666 Q591.82 787.666 594.111 787.064 Q596.426 786.462 598.695 785.259 L598.695 789.287 Q596.403 790.259 593.996 790.768 Q591.588 791.277 589.111 791.277 Q582.908 791.277 579.273 787.666 Q575.662 784.055 575.662 777.898 Q575.662 771.532 579.088 767.805 Q582.537 764.055 588.371 764.055 Q593.602 764.055 596.634 767.435 Q599.69 770.791 599.69 776.578 M595.431 775.328 Q595.384 771.833 593.463 769.75 Q591.565 767.666 588.417 767.666 Q584.852 767.666 582.699 769.68 Q580.57 771.694 580.246 775.351 L595.431 775.328 Z\" fill=\"#000000\" fill-rule=\"evenodd\" fill-opacity=\"1\" /><path clip-path=\"url(#clip720)\" d=\"M 0 0 M623.857 798.476 L623.857 801.786 L599.227 801.786 L599.227 798.476 L623.857 798.476 Z\" fill=\"#000000\" fill-rule=\"evenodd\" fill-opacity=\"1\" /><path clip-path=\"url(#clip720)\" d=\"M 0 0 M650.5 776.578 L650.5 778.662 L630.917 778.662 Q631.194 783.06 633.556 785.375 Q635.94 787.666 640.176 787.666 Q642.63 787.666 644.921 787.064 Q647.236 786.462 649.505 785.259 L649.505 789.287 Q647.213 790.259 644.805 790.768 Q642.398 791.277 639.921 791.277 Q633.718 791.277 630.083 787.666 Q626.472 784.055 626.472 777.898 Q626.472 771.532 629.898 767.805 Q633.347 764.055 639.181 764.055 Q644.412 764.055 647.444 767.435 Q650.5 770.791 650.5 776.578 M646.241 775.328 Q646.194 771.833 644.273 769.75 Q642.375 767.666 639.227 767.666 Q635.662 767.666 633.509 769.68 Q631.38 771.694 631.056 775.351 L646.241 775.328 Z\" fill=\"#000000\" fill-rule=\"evenodd\" fill-opacity=\"1\" /><path clip-path=\"url(#clip720)\" d=\"M 0 0 M675.685 764.68 L666.31 777.296 L676.171 790.606 L671.148 790.606 L663.602 780.421 L656.055 790.606 L651.032 790.606 L661.102 777.041 L651.889 764.68 L656.912 764.68 L663.787 773.916 L670.662 764.68 L675.685 764.68 Z\" fill=\"#000000\" fill-rule=\"evenodd\" fill-opacity=\"1\" /><path clip-path=\"url(#clip720)\" d=\"M 0 0 M684.852 757.319 L684.852 764.68 L693.625 764.68 L693.625 767.99 L684.852 767.99 L684.852 782.064 Q684.852 785.236 685.708 786.138 Q686.588 787.041 689.25 787.041 L693.625 787.041 L693.625 790.606 L689.25 790.606 Q684.319 790.606 682.444 788.777 Q680.569 786.925 680.569 782.064 L680.569 767.99 L677.444 767.99 L677.444 764.68 L680.569 764.68 L680.569 757.319 L684.852 757.319 Z\" fill=\"#000000\" fill-rule=\"evenodd\" fill-opacity=\"1\" /><path clip-path=\"url(#clip720)\" d=\"M 0 0 M720.268 776.578 L720.268 778.662 L700.685 778.662 Q700.963 783.06 703.324 785.375 Q705.708 787.666 709.944 787.666 Q712.398 787.666 714.689 787.064 Q717.004 786.462 719.273 785.259 L719.273 789.287 Q716.981 790.259 714.574 790.768 Q712.166 791.277 709.689 791.277 Q703.486 791.277 699.851 787.666 Q696.24 784.055 696.24 777.898 Q696.24 771.532 699.666 767.805 Q703.115 764.055 708.949 764.055 Q714.18 764.055 717.213 767.435 Q720.268 770.791 720.268 776.578 M716.009 775.328 Q715.963 771.833 714.041 769.75 Q712.143 767.666 708.995 767.666 Q705.43 767.666 703.277 769.68 Q701.148 771.694 700.824 775.351 L716.009 775.328 Z\" fill=\"#000000\" fill-rule=\"evenodd\" fill-opacity=\"1\" /><path clip-path=\"url(#clip720)\" d=\"M 0 0 M739.759 768.662 Q739.041 768.245 738.185 768.06 Q737.351 767.851 736.333 767.851 Q732.722 767.851 730.777 770.213 Q728.856 772.551 728.856 776.949 L728.856 790.606 L724.574 790.606 L724.574 764.68 L728.856 764.68 L728.856 768.708 Q730.199 766.347 732.351 765.213 Q734.504 764.055 737.583 764.055 Q738.023 764.055 738.555 764.125 Q739.087 764.171 739.736 764.287 L739.759 768.662 Z\" fill=\"#000000\" fill-rule=\"evenodd\" fill-opacity=\"1\" /><path clip-path=\"url(#clip720)\" d=\"M 0 0 M764.944 774.958 L764.944 790.606 L760.685 790.606 L760.685 775.097 Q760.685 771.416 759.249 769.588 Q757.814 767.759 754.944 767.759 Q751.495 767.759 749.504 769.958 Q747.513 772.157 747.513 775.953 L747.513 790.606 L743.231 790.606 L743.231 764.68 L747.513 764.68 L747.513 768.708 Q749.041 766.37 751.101 765.213 Q753.185 764.055 755.893 764.055 Q760.36 764.055 762.652 766.833 Q764.944 769.588 764.944 774.958 Z\" fill=\"#000000\" fill-rule=\"evenodd\" fill-opacity=\"1\" /><path clip-path=\"url(#clip720)\" d=\"M 0 0 M781.194 777.574 Q776.032 777.574 774.041 778.754 Q772.05 779.935 772.05 782.782 Q772.05 785.05 773.532 786.393 Q775.036 787.712 777.606 787.712 Q781.147 787.712 783.277 785.212 Q785.43 782.689 785.43 778.523 L785.43 777.574 L781.194 777.574 M789.689 775.814 L789.689 790.606 L785.43 790.606 L785.43 786.671 Q783.971 789.032 781.796 790.166 Q779.62 791.277 776.471 791.277 Q772.49 791.277 770.129 789.055 Q767.791 786.81 767.791 783.06 Q767.791 778.685 770.708 776.463 Q773.647 774.24 779.458 774.24 L785.43 774.24 L785.43 773.824 Q785.43 770.884 783.485 769.287 Q781.564 767.666 778.069 767.666 Q775.846 767.666 773.74 768.199 Q771.634 768.731 769.689 769.796 L769.689 765.861 Q772.027 764.958 774.226 764.518 Q776.425 764.055 778.508 764.055 Q784.133 764.055 786.911 766.972 Q789.689 769.889 789.689 775.814 Z\" fill=\"#000000\" fill-rule=\"evenodd\" fill-opacity=\"1\" /><path clip-path=\"url(#clip720)\" d=\"M 0 0 M794.157 754.588 L798.416 754.588 L798.416 790.606 L794.157 790.606 L794.157 754.588 Z\" fill=\"#000000\" fill-rule=\"evenodd\" fill-opacity=\"1\" /><path clip-path=\"url(#clip720)\" d=\"M 0 0 M822.582 798.476 L822.582 801.786 L797.953 801.786 L797.953 798.476 L822.582 798.476 Z\" fill=\"#000000\" fill-rule=\"evenodd\" fill-opacity=\"1\" /><path clip-path=\"url(#clip720)\" d=\"M 0 0 M842.073 768.662 Q841.355 768.245 840.499 768.06 Q839.666 767.851 838.647 767.851 Q835.036 767.851 833.092 770.213 Q831.17 772.551 831.17 776.949 L831.17 790.606 L826.888 790.606 L826.888 764.68 L831.17 764.68 L831.17 768.708 Q832.513 766.347 834.666 765.213 Q836.818 764.055 839.897 764.055 Q840.337 764.055 840.869 764.125 Q841.402 764.171 842.05 764.287 L842.073 768.662 Z\" fill=\"#000000\" fill-rule=\"evenodd\" fill-opacity=\"1\" /><path clip-path=\"url(#clip720)\" d=\"M 0 0 M867.675 776.578 L867.675 778.662 L848.091 778.662 Q848.369 783.06 850.73 785.375 Q853.115 787.666 857.351 787.666 Q859.804 787.666 862.096 787.064 Q864.411 786.462 866.679 785.259 L866.679 789.287 Q864.388 790.259 861.98 790.768 Q859.573 791.277 857.096 791.277 Q850.892 791.277 847.258 787.666 Q843.647 784.055 843.647 777.898 Q843.647 771.532 847.073 767.805 Q850.522 764.055 856.355 764.055 Q861.587 764.055 864.619 767.435 Q867.675 770.791 867.675 776.578 M863.415 775.328 Q863.369 771.833 861.448 769.75 Q859.55 767.666 856.402 767.666 Q852.837 767.666 850.684 769.68 Q848.554 771.694 848.23 775.351 L863.415 775.328 Z\" fill=\"#000000\" fill-rule=\"evenodd\" fill-opacity=\"1\" /><path clip-path=\"url(#clip720)\" d=\"M 0 0 M869.665 764.68 L873.925 764.68 L879.249 784.912 L884.55 764.68 L889.573 764.68 L894.897 784.912 L900.198 764.68 L904.457 764.68 L897.675 790.606 L892.651 790.606 L887.073 769.356 L881.471 790.606 L876.448 790.606 L869.665 764.68 Z\" fill=\"#000000\" fill-rule=\"evenodd\" fill-opacity=\"1\" /><path clip-path=\"url(#clip720)\" d=\"M 0 0 M920.707 777.574 Q915.545 777.574 913.554 778.754 Q911.563 779.935 911.563 782.782 Q911.563 785.05 913.045 786.393 Q914.549 787.712 917.119 787.712 Q920.661 787.712 922.79 785.212 Q924.943 782.689 924.943 778.523 L924.943 777.574 L920.707 777.574 M929.202 775.814 L929.202 790.606 L924.943 790.606 L924.943 786.671 Q923.485 789.032 921.309 790.166 Q919.133 791.277 915.985 791.277 Q912.003 791.277 909.642 789.055 Q907.304 786.81 907.304 783.06 Q907.304 778.685 910.221 776.463 Q913.161 774.24 918.971 774.24 L924.943 774.24 L924.943 773.824 Q924.943 770.884 922.998 769.287 Q921.077 767.666 917.582 767.666 Q915.36 767.666 913.253 768.199 Q911.147 768.731 909.202 769.796 L909.202 765.861 Q911.54 764.958 913.739 764.518 Q915.938 764.055 918.022 764.055 Q923.647 764.055 926.424 766.972 Q929.202 769.889 929.202 775.814 Z\" fill=\"#000000\" fill-rule=\"evenodd\" fill-opacity=\"1\" /><path clip-path=\"url(#clip720)\" d=\"M 0 0 M948.693 768.662 Q947.975 768.245 947.119 768.06 Q946.285 767.851 945.267 767.851 Q941.656 767.851 939.711 770.213 Q937.79 772.551 937.79 776.949 L937.79 790.606 L933.508 790.606 L933.508 764.68 L937.79 764.68 L937.79 768.708 Q939.133 766.347 941.285 765.213 Q943.438 764.055 946.517 764.055 Q946.957 764.055 947.489 764.125 Q948.021 764.171 948.67 764.287 L948.693 768.662 Z\" fill=\"#000000\" fill-rule=\"evenodd\" fill-opacity=\"1\" /><path clip-path=\"url(#clip720)\" d=\"M 0 0 M969.387 768.615 L969.387 754.588 L973.646 754.588 L973.646 790.606 L969.387 790.606 L969.387 786.717 Q968.045 789.032 965.984 790.166 Q963.947 791.277 961.077 791.277 Q956.378 791.277 953.415 787.527 Q950.475 783.777 950.475 777.666 Q950.475 771.555 953.415 767.805 Q956.378 764.055 961.077 764.055 Q963.947 764.055 965.984 765.189 Q968.045 766.301 969.387 768.615 M954.873 777.666 Q954.873 782.365 956.795 785.05 Q958.739 787.712 962.119 787.712 Q965.498 787.712 967.443 785.05 Q969.387 782.365 969.387 777.666 Q969.387 772.967 967.443 770.305 Q965.498 767.62 962.119 767.62 Q958.739 767.62 956.795 770.305 Q954.873 772.967 954.873 777.666 Z\" fill=\"#000000\" fill-rule=\"evenodd\" fill-opacity=\"1\" /><path clip-path=\"url(#clip720)\" d=\"M 0 0 M979.202 784.726 L984.086 784.726 L984.086 790.606 L979.202 790.606 L979.202 784.726 M979.202 766.092 L984.086 766.092 L984.086 771.972 L979.202 771.972 L979.202 766.092 Z\" fill=\"#000000\" fill-rule=\"evenodd\" fill-opacity=\"1\" /><path clip-path=\"url(#clip720)\" d=\"M 0 0 M992.767 757.319 L992.767 764.68 L1001.54 764.68 L1001.54 767.99 L992.767 767.99 L992.767 782.064 Q992.767 785.236 993.623 786.138 Q994.503 787.041 997.165 787.041 L1001.54 787.041 L1001.54 790.606 L997.165 790.606 Q992.234 790.606 990.359 788.777 Q988.484 786.925 988.484 782.064 L988.484 767.99 L985.359 767.99 L985.359 764.68 L988.484 764.68 L988.484 757.319 L992.767 757.319 Z\" fill=\"#000000\" fill-rule=\"evenodd\" fill-opacity=\"1\" /><path clip-path=\"url(#clip720)\" d=\"M 0 0 M1021.03 768.662 Q1020.31 768.245 1019.46 768.06 Q1018.62 767.851 1017.6 767.851 Q1013.99 767.851 1012.05 770.213 Q1010.13 772.551 1010.13 776.949 L1010.13 790.606 L1005.85 790.606 L1005.85 764.68 L1010.13 764.68 L1010.13 768.708 Q1011.47 766.347 1013.62 765.213 Q1015.78 764.055 1018.85 764.055 Q1019.29 764.055 1019.83 764.125 Q1020.36 764.171 1021.01 764.287 L1021.03 768.662 Z\" fill=\"#000000\" fill-rule=\"evenodd\" fill-opacity=\"1\" /><path clip-path=\"url(#clip720)\" d=\"M 0 0 M1025.06 780.375 L1025.06 764.68 L1029.32 764.68 L1029.32 780.213 Q1029.32 783.893 1030.75 785.745 Q1032.19 787.574 1035.06 787.574 Q1038.51 787.574 1040.5 785.375 Q1042.51 783.175 1042.51 779.379 L1042.51 764.68 L1046.77 764.68 L1046.77 790.606 L1042.51 790.606 L1042.51 786.625 Q1040.96 788.986 1038.9 790.143 Q1036.86 791.277 1034.16 791.277 Q1029.69 791.277 1027.37 788.5 Q1025.06 785.722 1025.06 780.375 M1035.78 764.055 L1035.78 764.055 Z\" fill=\"#000000\" fill-rule=\"evenodd\" fill-opacity=\"1\" /><path clip-path=\"url(#clip720)\" d=\"M 0 0 M1073.41 776.578 L1073.41 778.662 L1053.83 778.662 Q1054.11 783.06 1056.47 785.375 Q1058.85 787.666 1063.09 787.666 Q1065.54 787.666 1067.84 787.064 Q1070.15 786.462 1072.42 785.259 L1072.42 789.287 Q1070.13 790.259 1067.72 790.768 Q1065.31 791.277 1062.84 791.277 Q1056.63 791.277 1053 787.666 Q1049.39 784.055 1049.39 777.898 Q1049.39 771.532 1052.81 767.805 Q1056.26 764.055 1062.09 764.055 Q1067.33 764.055 1070.36 767.435 Q1073.41 770.791 1073.41 776.578 M1069.16 775.328 Q1069.11 771.833 1067.19 769.75 Q1065.29 767.666 1062.14 767.666 Q1058.58 767.666 1056.42 769.68 Q1054.29 771.694 1053.97 775.351 L1069.16 775.328 Z\" fill=\"#000000\" fill-rule=\"evenodd\" fill-opacity=\"1\" /></svg>\n"
      ]
     },
     "metadata": {},
     "output_type": "display_data"
    }
   ],
   "source": [
    "p = plot(ylabel=\"Episode Length\",xlabel=\"First Nth Episodes\", title = \"Exploring Position & Vel\")\n",
    "# plot!(p,init_episode_lengths,ylabel=\"Episode Length\",xlabel=\"First Nth Episodes\", title = \"Exploring Position\")\n",
    "for (ind,ep_length) in enumerate(init_episode_lengths)\n",
    "    plot!(p, ep_length, label = labels[ind], legend=:left)\n",
    "end\n",
    "display(p)\n"
   ]
  },
  {
   "cell_type": "code",
   "execution_count": 390,
   "metadata": {},
   "outputs": [],
   "source": [
    "savefig(\"./plots/MCEpisodeLengthVel.png\")"
   ]
  },
  {
   "cell_type": "code",
   "execution_count": 391,
   "metadata": {},
   "outputs": [
    {
     "data": {
      "text/plain": [
       "Dict{String,Array} with 5 entries:\n",
       "  \"demon_alpha_init\"    => [0.015625, 0.03125, 0.0625, 0.125]\n",
       "  \"behaviour_alpha\"     => [0.03125, 0.0625]\n",
       "  \"runs\"                => [1, 2, 3, 4, 5, 6, 7, 8, 9, 10  …  21, 22, 23, 24, 2…\n",
       "  \"demon_alpha\"         => [0.03125, 0.0625, 0.125]\n",
       "  \"use_external_reward\" => Bool[0, 1]"
      ]
     },
     "execution_count": 391,
     "metadata": {},
     "output_type": "execute_result"
    }
   ],
   "source": [
    "diff(ic)\n"
   ]
  },
  {
   "cell_type": "code",
   "execution_count": 392,
   "metadata": {},
   "outputs": [
    {
     "data": {
      "text/plain": [
       "sensitivity (generic function with 1 method)"
      ]
     },
     "execution_count": 392,
     "metadata": {},
     "output_type": "execute_result"
    }
   ],
   "source": [
    "function sensitivity(ic,sensitive_param; metric_key=:mc_error)\n",
    "    param_vals = diff(ic)[sensitive_param]\n",
    "    vals = zeros(length(param_vals))\n",
    "    for (i,param_val) in enumerate(param_vals)\n",
    "        p_ic = search(ic, Dict(sensitive_param => param_val))\n",
    "#         tmp = load_results(ic, metric_key; return_type = \"tensor\")\n",
    "        vals[i] = mean(load_results(p_ic, metric_key; return_type = \"tensor\"))\n",
    "    end\n",
    "    return vals\n",
    "end\n"
   ]
  },
  {
   "cell_type": "code",
   "execution_count": 397,
   "metadata": {},
   "outputs": [
    {
     "name": "stdout",
     "output_type": "stream",
     "text": [
      "[\"use_external_reward\", \"behaviour_alpha\", \"demon_alpha\"]\n"
     ]
    },
    {
     "data": {
      "text/plain": [
       "12-element Array{Any,1}:\n",
       " Dict{Any,Any}(\"behaviour_alpha\" => 0.03125,\"use_external_reward\" => false,\"demon_alpha\" => 0.03125)\n",
       " Dict{Any,Any}(\"behaviour_alpha\" => 0.03125,\"use_external_reward\" => false,\"demon_alpha\" => 0.0625)\n",
       " Dict{Any,Any}(\"behaviour_alpha\" => 0.03125,\"use_external_reward\" => false,\"demon_alpha\" => 0.125)\n",
       " Dict{Any,Any}(\"behaviour_alpha\" => 0.0625,\"use_external_reward\" => false,\"demon_alpha\" => 0.03125)\n",
       " Dict{Any,Any}(\"behaviour_alpha\" => 0.0625,\"use_external_reward\" => false,\"demon_alpha\" => 0.0625)\n",
       " Dict{Any,Any}(\"behaviour_alpha\" => 0.0625,\"use_external_reward\" => false,\"demon_alpha\" => 0.125)\n",
       " Dict{Any,Any}(\"behaviour_alpha\" => 0.03125,\"use_external_reward\" => true,\"demon_alpha\" => 0.03125)\n",
       " Dict{Any,Any}(\"behaviour_alpha\" => 0.03125,\"use_external_reward\" => true,\"demon_alpha\" => 0.0625)\n",
       " Dict{Any,Any}(\"behaviour_alpha\" => 0.03125,\"use_external_reward\" => true,\"demon_alpha\" => 0.125)\n",
       " Dict{Any,Any}(\"behaviour_alpha\" => 0.0625,\"use_external_reward\" => true,\"demon_alpha\" => 0.03125)\n",
       " Dict{Any,Any}(\"behaviour_alpha\" => 0.0625,\"use_external_reward\" => true,\"demon_alpha\" => 0.0625)\n",
       " Dict{Any,Any}(\"behaviour_alpha\" => 0.0625,\"use_external_reward\" => true,\"demon_alpha\" => 0.125)"
      ]
     },
     "execution_count": 397,
     "metadata": {},
     "output_type": "execute_result"
    }
   ],
   "source": [
    "# search(ic,Dict(\"demon_alpha_init\" => 0.125))\n",
    "sweep_params = [\"use_external_reward\", \"behaviour_alpha\",\"demon_alpha\"]\n",
    "divisors = split_algo(ic, sweep_params)\n",
    "sensitivity(ic,\"demon_alpha_init\")\n",
    "divisors"
   ]
  },
  {
   "cell_type": "code",
   "execution_count": 419,
   "metadata": {},
   "outputs": [],
   "source": [
    "ps = []\n",
    "for i in 7:12\n",
    "    y = sensitivity(search(ic,divisors[i]), \"demon_alpha_init\")\n",
    "    x = diff(ic)[\"demon_alpha_init\"]\n",
    "    p = scatter(x,y, ylims=(0.15,0.225), legend=false)\n",
    "    push!(ps,p)\n",
    "end\n",
    "# println(ps)\n",
    "plot(ps...,layout=(2,3), size = (1000,600))\n",
    "savefig(\"./plots/MCSensitivtyExtrinsic\")\n"
   ]
  },
  {
   "cell_type": "code",
   "execution_count": null,
   "metadata": {},
   "outputs": [],
   "source": []
  },
  {
   "cell_type": "code",
   "execution_count": 175,
   "metadata": {},
   "outputs": [
    {
     "ename": "LoadError",
     "evalue": "\u001b[91mUndefVarError: plot_gvfn_stepsize_sense not defined\u001b[39m",
     "output_type": "error",
     "traceback": [
      "\u001b[91mUndefVarError: plot_gvfn_stepsize_sense not defined\u001b[39m",
      "",
      "Stacktrace:",
      " [1] top-level scope at In[175]:1",
      " [2] include_string(::Function, ::Module, ::String, ::String) at ./loading.jl:1091"
     ]
    }
   ],
   "source": [
    "plot_gvfn_stepsize_sense(ic_gvfn_adam, \"end\", ylim=(0.0, 0.4))"
   ]
  },
  {
   "cell_type": "code",
   "execution_count": 176,
   "metadata": {},
   "outputs": [
    {
     "ename": "LoadError",
     "evalue": "\u001b[91mSystemError: unable to read directory ../MountainCar/compassworld_rnn/data: No such file or directory\u001b[39m",
     "output_type": "error",
     "traceback": [
      "\u001b[91mSystemError: unable to read directory ../MountainCar/compassworld_rnn/data: No such file or directory\u001b[39m",
      "",
      "Stacktrace:",
      " [1] readdir(::String; join::Bool, sort::Bool) at ./file.jl:810",
      " [2] readdir at ./file.jl:805 [inlined]",
      " [3] ItemCollection(::String; settings_file::String, data_folder::String) at /home/matthewmcleod/.julia/packages/Reproduce/TxAhT/src/search.jl:75",
      " [4] ItemCollection(::String) at /home/matthewmcleod/.julia/packages/Reproduce/TxAhT/src/search.jl:74",
      " [5] top-level scope at In[176]:1",
      " [6] include_string(::Function, ::Module, ::String, ::String) at ./loading.jl:1091"
     ]
    }
   ],
   "source": [
    "ic_rnn = ItemCollection(joinpath(data_home, \"compassworld_rnn/data\"));"
   ]
  },
  {
   "cell_type": "code",
   "execution_count": 177,
   "metadata": {},
   "outputs": [
    {
     "data": {
      "text/plain": [
       "10-element Array{Float64,1}:\n",
       " 6.766394845988643e-6\n",
       " 1.5224388403474448e-5\n",
       " 3.425487390781751e-5\n",
       " 7.707346629258939e-5\n",
       " 0.00017341529915832613\n",
       " 0.0003901844231062338\n",
       " 0.0008779149519890261\n",
       " 0.0019753086419753087\n",
       " 0.0044444444444444444\n",
       " 0.01"
      ]
     },
     "execution_count": 177,
     "metadata": {},
     "output_type": "execute_result"
    }
   ],
   "source": [
    "0.01*1.5.^(-18:2:1)"
   ]
  },
  {
   "cell_type": "code",
   "execution_count": 178,
   "metadata": {},
   "outputs": [
    {
     "ename": "LoadError",
     "evalue": "\u001b[91mUndefVarError: ic_rnn_adam not defined\u001b[39m",
     "output_type": "error",
     "traceback": [
      "\u001b[91mUndefVarError: ic_rnn_adam not defined\u001b[39m",
      "",
      "Stacktrace:",
      " [1] top-level scope at In[178]:1",
      " [2] include_string(::Function, ::Module, ::String, ::String) at ./loading.jl:1091"
     ]
    }
   ],
   "source": [
    "diff(ic_rnn_adam)[\"alpha\"]"
   ]
  },
  {
   "cell_type": "code",
   "execution_count": 179,
   "metadata": {},
   "outputs": [
    {
     "ename": "LoadError",
     "evalue": "\u001b[91mUndefVarError: plot_rnn_stepsize_sens not defined\u001b[39m",
     "output_type": "error",
     "traceback": [
      "\u001b[91mUndefVarError: plot_rnn_stepsize_sens not defined\u001b[39m",
      "",
      "Stacktrace:",
      " [1] top-level scope at In[179]:1",
      " [2] include_string(::Function, ::Module, ::String, ::String) at ./loading.jl:1091"
     ]
    }
   ],
   "source": [
    "plot_rnn_stepsize_sens(ic_rnn, 35, \"end\"; ylims=(0.0,0.3))"
   ]
  },
  {
   "cell_type": "code",
   "execution_count": 180,
   "metadata": {},
   "outputs": [
    {
     "ename": "LoadError",
     "evalue": "\u001b[91mUndefVarError: plot_rnn_stepsize_sens not defined\u001b[39m",
     "output_type": "error",
     "traceback": [
      "\u001b[91mUndefVarError: plot_rnn_stepsize_sens not defined\u001b[39m",
      "",
      "Stacktrace:",
      " [1] top-level scope at In[180]:1",
      " [2] include_string(::Function, ::Module, ::String, ::String) at ./loading.jl:1091"
     ]
    }
   ],
   "source": [
    "plot_rnn_stepsize_sens(ic_rnn, 40, \"end\"; ylims=(0.0,0.3), legend=false)"
   ]
  },
  {
   "cell_type": "code",
   "execution_count": 181,
   "metadata": {},
   "outputs": [
    {
     "ename": "LoadError",
     "evalue": "\u001b[91mUndefVarError: plot_rnn_stepsize_sens not defined\u001b[39m",
     "output_type": "error",
     "traceback": [
      "\u001b[91mUndefVarError: plot_rnn_stepsize_sens not defined\u001b[39m",
      "",
      "Stacktrace:",
      " [1] top-level scope at In[181]:1",
      " [2] include_string(::Function, ::Module, ::String, ::String) at ./loading.jl:1091"
     ]
    }
   ],
   "source": [
    "plot_rnn_stepsize_sens(ic_rnn, 110, \"end\"; ylims=(0.0,0.3))"
   ]
  },
  {
   "cell_type": "code",
   "execution_count": 182,
   "metadata": {},
   "outputs": [
    {
     "ename": "LoadError",
     "evalue": "\u001b[91mSystemError: unable to read directory ../MountainCar/compassworld_rnn_adam/data: No such file or directory\u001b[39m",
     "output_type": "error",
     "traceback": [
      "\u001b[91mSystemError: unable to read directory ../MountainCar/compassworld_rnn_adam/data: No such file or directory\u001b[39m",
      "",
      "Stacktrace:",
      " [1] readdir(::String; join::Bool, sort::Bool) at ./file.jl:810",
      " [2] readdir at ./file.jl:805 [inlined]",
      " [3] ItemCollection(::String; settings_file::String, data_folder::String) at /home/matthewmcleod/.julia/packages/Reproduce/TxAhT/src/search.jl:75",
      " [4] ItemCollection(::String) at /home/matthewmcleod/.julia/packages/Reproduce/TxAhT/src/search.jl:74",
      " [5] top-level scope at In[182]:1",
      " [6] include_string(::Function, ::Module, ::String, ::String) at ./loading.jl:1091"
     ]
    }
   ],
   "source": [
    "ic_rnn_adam = ItemCollection(joinpath(data_home, \"compassworld_rnn_adam/data\"));"
   ]
  },
  {
   "cell_type": "code",
   "execution_count": 183,
   "metadata": {},
   "outputs": [
    {
     "ename": "LoadError",
     "evalue": "\u001b[91mUndefVarError: plot_rnn_stepsize_sens not defined\u001b[39m",
     "output_type": "error",
     "traceback": [
      "\u001b[91mUndefVarError: plot_rnn_stepsize_sens not defined\u001b[39m",
      "",
      "Stacktrace:",
      " [1] top-level scope at In[183]:1",
      " [2] include_string(::Function, ::Module, ::String, ::String) at ./loading.jl:1091"
     ]
    }
   ],
   "source": [
    "plot_rnn_stepsize_sens(ic_rnn_adam, 35, \"end\")"
   ]
  },
  {
   "cell_type": "code",
   "execution_count": 184,
   "metadata": {},
   "outputs": [
    {
     "ename": "LoadError",
     "evalue": "\u001b[91mUndefVarError: plot_rnn_stepsize_sens not defined\u001b[39m",
     "output_type": "error",
     "traceback": [
      "\u001b[91mUndefVarError: plot_rnn_stepsize_sens not defined\u001b[39m",
      "",
      "Stacktrace:",
      " [1] top-level scope at In[184]:1",
      " [2] include_string(::Function, ::Module, ::String, ::String) at ./loading.jl:1091"
     ]
    }
   ],
   "source": [
    "plot_rnn_stepsize_sens(ic_rnn_adam, 40, \"end\")"
   ]
  },
  {
   "cell_type": "code",
   "execution_count": 185,
   "metadata": {},
   "outputs": [
    {
     "ename": "LoadError",
     "evalue": "\u001b[91mUndefVarError: plot_rnn_stepsize_sens not defined\u001b[39m",
     "output_type": "error",
     "traceback": [
      "\u001b[91mUndefVarError: plot_rnn_stepsize_sens not defined\u001b[39m",
      "",
      "Stacktrace:",
      " [1] top-level scope at In[185]:1",
      " [2] include_string(::Function, ::Module, ::String, ::String) at ./loading.jl:1091"
     ]
    }
   ],
   "source": [
    "plot_rnn_stepsize_sens(ic_rnn_adam, 110, \"end\")"
   ]
  },
  {
   "cell_type": "code",
   "execution_count": 186,
   "metadata": {},
   "outputs": [
    {
     "ename": "LoadError",
     "evalue": "\u001b[91mUndefVarError: plot_rnn_stepsize_sens not defined\u001b[39m",
     "output_type": "error",
     "traceback": [
      "\u001b[91mUndefVarError: plot_rnn_stepsize_sens not defined\u001b[39m",
      "",
      "Stacktrace:",
      " [1] top-level scope at In[186]:1",
      " [2] include_string(::Function, ::Module, ::String, ::String) at ./loading.jl:1091"
     ]
    }
   ],
   "source": [
    "plot_rnn_stepsize_sens(ic_rnn_adam, 5, \"end\")"
   ]
  },
  {
   "cell_type": "markdown",
   "metadata": {},
   "source": [
    "## RNN Aux Tasks"
   ]
  },
  {
   "cell_type": "code",
   "execution_count": 187,
   "metadata": {},
   "outputs": [
    {
     "ename": "LoadError",
     "evalue": "\u001b[91mSystemError: unable to read directory ../MountainCar/compassworld_rnn_aux_task/data: No such file or directory\u001b[39m",
     "output_type": "error",
     "traceback": [
      "\u001b[91mSystemError: unable to read directory ../MountainCar/compassworld_rnn_aux_task/data: No such file or directory\u001b[39m",
      "",
      "Stacktrace:",
      " [1] readdir(::String; join::Bool, sort::Bool) at ./file.jl:810",
      " [2] readdir at ./file.jl:805 [inlined]",
      " [3] ItemCollection(::String; settings_file::String, data_folder::String) at /home/matthewmcleod/.julia/packages/Reproduce/TxAhT/src/search.jl:75",
      " [4] ItemCollection(::String) at /home/matthewmcleod/.julia/packages/Reproduce/TxAhT/src/search.jl:74",
      " [5] top-level scope at In[187]:1",
      " [6] include_string(::Function, ::Module, ::String, ::String) at ./loading.jl:1091"
     ]
    }
   ],
   "source": [
    "ic_rnn_at = ItemCollection(joinpath(data_home, \"compassworld_rnn_aux_task/data\"));\n",
    "diff(ic_rnn_at)"
   ]
  },
  {
   "cell_type": "code",
   "execution_count": 188,
   "metadata": {},
   "outputs": [
    {
     "ename": "LoadError",
     "evalue": "\u001b[91mUndefVarError: plot_rnn_at_stepsize_sens not defined\u001b[39m",
     "output_type": "error",
     "traceback": [
      "\u001b[91mUndefVarError: plot_rnn_at_stepsize_sens not defined\u001b[39m",
      "",
      "Stacktrace:",
      " [1] top-level scope at In[188]:1",
      " [2] include_string(::Function, ::Module, ::String, ::String) at ./loading.jl:1091"
     ]
    }
   ],
   "source": [
    "plot_rnn_at_stepsize_sens(ic_rnn_at, \"end\"; ylims=(0.0, 0.5))"
   ]
  },
  {
   "cell_type": "code",
   "execution_count": 189,
   "metadata": {},
   "outputs": [
    {
     "ename": "LoadError",
     "evalue": "\u001b[91mUndefVarError: plot_rnn_at_stepsize_sens not defined\u001b[39m",
     "output_type": "error",
     "traceback": [
      "\u001b[91mUndefVarError: plot_rnn_at_stepsize_sens not defined\u001b[39m",
      "",
      "Stacktrace:",
      " [1] top-level scope at In[189]:1",
      " [2] include_string(::Function, ::Module, ::String, ::String) at ./loading.jl:1091"
     ]
    }
   ],
   "source": [
    "plot_rnn_at_stepsize_sens(ic_rnn_at, \"all\"; ylims=(0.0, 0.5))"
   ]
  },
  {
   "cell_type": "code",
   "execution_count": 190,
   "metadata": {},
   "outputs": [
    {
     "ename": "LoadError",
     "evalue": "\u001b[91mSystemError: unable to read directory ../MountainCar/compassworld_rnn_aux_task_adam/data: No such file or directory\u001b[39m",
     "output_type": "error",
     "traceback": [
      "\u001b[91mSystemError: unable to read directory ../MountainCar/compassworld_rnn_aux_task_adam/data: No such file or directory\u001b[39m",
      "",
      "Stacktrace:",
      " [1] readdir(::String; join::Bool, sort::Bool) at ./file.jl:810",
      " [2] readdir at ./file.jl:805 [inlined]",
      " [3] ItemCollection(::String; settings_file::String, data_folder::String) at /home/matthewmcleod/.julia/packages/Reproduce/TxAhT/src/search.jl:75",
      " [4] ItemCollection(::String) at /home/matthewmcleod/.julia/packages/Reproduce/TxAhT/src/search.jl:74",
      " [5] top-level scope at In[190]:1",
      " [6] include_string(::Function, ::Module, ::String, ::String) at ./loading.jl:1091"
     ]
    }
   ],
   "source": [
    "ic_rnn_at_adam = ItemCollection(joinpath(data_home, \"compassworld_rnn_aux_task_adam/data\"));\n",
    "diff(ic_rnn_at_adam)"
   ]
  },
  {
   "cell_type": "code",
   "execution_count": 191,
   "metadata": {},
   "outputs": [
    {
     "ename": "LoadError",
     "evalue": "\u001b[91mUndefVarError: plot_rnn_at_stepsize_sens not defined\u001b[39m",
     "output_type": "error",
     "traceback": [
      "\u001b[91mUndefVarError: plot_rnn_at_stepsize_sens not defined\u001b[39m",
      "",
      "Stacktrace:",
      " [1] top-level scope at In[191]:1",
      " [2] include_string(::Function, ::Module, ::String, ::String) at ./loading.jl:1091"
     ]
    }
   ],
   "source": [
    "plot_rnn_at_stepsize_sens(ic_rnn_at_adam, \"end\"; ylims=(0.0, 0.5))"
   ]
  },
  {
   "cell_type": "code",
   "execution_count": 192,
   "metadata": {},
   "outputs": [
    {
     "ename": "LoadError",
     "evalue": "\u001b[91mUndefVarError: plot_rnn_at_stepsize_sens not defined\u001b[39m",
     "output_type": "error",
     "traceback": [
      "\u001b[91mUndefVarError: plot_rnn_at_stepsize_sens not defined\u001b[39m",
      "",
      "Stacktrace:",
      " [1] top-level scope at In[192]:1",
      " [2] include_string(::Function, ::Module, ::String, ::String) at ./loading.jl:1091"
     ]
    }
   ],
   "source": [
    "plot_rnn_at_stepsize_sens(ic_rnn_at_adam, \"all\"; ylims=(0.0, 0.5))"
   ]
  },
  {
   "cell_type": "markdown",
   "metadata": {},
   "source": [
    "# Final Params"
   ]
  },
  {
   "cell_type": "code",
   "execution_count": 193,
   "metadata": {},
   "outputs": [
    {
     "data": {
      "text/plain": [
       "get_final_rnn_at_params (generic function with 1 method)"
      ]
     },
     "execution_count": 193,
     "metadata": {},
     "output_type": "execute_result"
    }
   ],
   "source": [
    "function get_final_gvfn_params(ic, res_key)\n",
    "\n",
    "    get_best_func = (i2c)->get_best_setting(i2c, \"alpha\", (d)->d[\"results\"][res_key])\n",
    "    sub_ic = ic\n",
    "    arg_list = Dict{String, Any}[]\n",
    "    @showprogress for horde ∈ diff(sub_ic)[\"gvfn-horde\"]\n",
    "        sub_sub_ic = search(sub_ic, Dict(\"gvfn-horde\"=>horde))\n",
    "        for τ ∈ diff(sub_sub_ic)[\"truncation\"]\n",
    "            sub_sub_sub_ic = search(sub_sub_ic, Dict(\"truncation\"=>τ))\n",
    "            prm, _ = get_best_func(sub_sub_sub_ic)\n",
    "            push!(arg_list, Dict(\"gvfn-horde\"=>horde, \"truncation\"=>τ, \"alpha\"=>prm))\n",
    "        end\n",
    "\n",
    "    end\n",
    "    arg_list\n",
    "end\n",
    "\n",
    "function get_final_rnn_params(ic, res_key)\n",
    "\n",
    "    get_best_func = (i2c)->get_best_setting(i2c, \"alpha\", (d)->d[\"results\"][res_key])\n",
    "    sub_ic = ic\n",
    "    arg_list = Dict{String, Any}[]\n",
    "    for cell ∈ diff(sub_ic)[\"cell\"]\n",
    "        sub_sub_ic = search(sub_ic, Dict(\"cell\"=>cell))\n",
    "        for τ ∈ diff(sub_sub_ic)[\"truncation\"]\n",
    "            sub_sub_sub_ic = search(sub_sub_ic, Dict(\"truncation\"=>τ))\n",
    "            prm, (μ, σ) = get_best_func(sub_sub_sub_ic)\n",
    "#             println(μ)\n",
    "            push!(arg_list, Dict(\"cell\"=>cell, \"truncation\"=>τ, \"alpha\"=>prm)) #itm.parsed_args\n",
    "        end\n",
    "    end\n",
    "    arg_list\n",
    "end\n",
    "\n",
    "function get_final_rnn_at_params(ic, res_key)\n",
    "\n",
    "    get_best_func = (i2c)->get_best_setting(i2c, \"alpha\", (d)->d[\"results\"][res_key])\n",
    "    sub_ic = ic\n",
    "    arg_list = Dict{String, Any}[]\n",
    "    for (horde, cell) ∈ Iterators.product(diff(sub_ic)[\"at-horde\"], diff(sub_ic)[\"cell\"])\n",
    "        sub_sub_ic = search(sub_ic, Dict(\"cell\"=>cell, \"at-horde\"=>horde))\n",
    "        for τ ∈ diff(sub_sub_ic)[\"truncation\"]\n",
    "            sub_sub_sub_ic = search(sub_sub_ic, Dict(\"truncation\"=>τ))\n",
    "            prm, (μ, σ) = get_best_func(sub_sub_sub_ic)\n",
    "#             println(μ)\n",
    "            push!(arg_list, Dict(\"cell\"=>cell, \"at-horde\"=>horde, \"truncation\"=>τ, \"alpha\"=>prm)) #itm.parsed_args\n",
    "        end\n",
    "    end\n",
    "    arg_list\n",
    "end\n"
   ]
  },
  {
   "cell_type": "markdown",
   "metadata": {},
   "source": [
    "## GVFN"
   ]
  },
  {
   "cell_type": "code",
   "execution_count": 194,
   "metadata": {},
   "outputs": [
    {
     "ename": "LoadError",
     "evalue": "\u001b[91mSystemError: unable to read directory ../MountainCar/compassworld_gvfn/data: No such file or directory\u001b[39m",
     "output_type": "error",
     "traceback": [
      "\u001b[91mSystemError: unable to read directory ../MountainCar/compassworld_gvfn/data: No such file or directory\u001b[39m",
      "",
      "Stacktrace:",
      " [1] readdir(::String; join::Bool, sort::Bool) at ./file.jl:810",
      " [2] readdir at ./file.jl:805 [inlined]",
      " [3] ItemCollection(::String; settings_file::String, data_folder::String) at /home/matthewmcleod/.julia/packages/Reproduce/TxAhT/src/search.jl:75",
      " [4] ItemCollection(::String) at /home/matthewmcleod/.julia/packages/Reproduce/TxAhT/src/search.jl:74",
      " [5] top-level scope at In[194]:1",
      " [6] include_string(::Function, ::Module, ::String, ::String) at ./loading.jl:1091"
     ]
    }
   ],
   "source": [
    "ic_gvfn = ItemCollection(joinpath(data_home, \"compassworld_gvfn/data\"));\n",
    "ic_gvfn_rmsprop = ItemCollection(joinpath(data_home, \"compassworld_gvfn_rmsprop/data\"));\n",
    "ic_gvfn_adam = ItemCollection(joinpath(data_home, \"compassworld_gvfn_adam/data\"));"
   ]
  },
  {
   "cell_type": "code",
   "execution_count": 195,
   "metadata": {},
   "outputs": [
    {
     "ename": "LoadError",
     "evalue": "\u001b[91mUndefVarError: ic_gvfn not defined\u001b[39m",
     "output_type": "error",
     "traceback": [
      "\u001b[91mUndefVarError: ic_gvfn not defined\u001b[39m",
      "",
      "Stacktrace:",
      " [1] top-level scope at In[195]:1",
      " [2] include_string(::Function, ::Module, ::String, ::String) at ./loading.jl:1091"
     ]
    }
   ],
   "source": [
    "diff(ic_gvfn)\n",
    "ic_gvfn.items[1].parsed_args"
   ]
  },
  {
   "cell_type": "code",
   "execution_count": 196,
   "metadata": {},
   "outputs": [
    {
     "ename": "LoadError",
     "evalue": "\u001b[91mUndefVarError: ic_gvfn not defined\u001b[39m",
     "output_type": "error",
     "traceback": [
      "\u001b[91mUndefVarError: ic_gvfn not defined\u001b[39m",
      "",
      "Stacktrace:",
      " [1] top-level scope at In[196]:1",
      " [2] include_string(::Function, ::Module, ::String, ::String) at ./loading.jl:1091"
     ]
    }
   ],
   "source": [
    "args_list = get_final_gvfn_params(ic_gvfn, \"end\")\n",
    "@save \"../final_run_params/compassworld/compassworld_gvfn_descent.jld2\" args_list"
   ]
  },
  {
   "cell_type": "code",
   "execution_count": 197,
   "metadata": {},
   "outputs": [
    {
     "ename": "LoadError",
     "evalue": "\u001b[91mUndefVarError: ic_gvfn_rmsprop not defined\u001b[39m",
     "output_type": "error",
     "traceback": [
      "\u001b[91mUndefVarError: ic_gvfn_rmsprop not defined\u001b[39m",
      "",
      "Stacktrace:",
      " [1] top-level scope at In[197]:1",
      " [2] include_string(::Function, ::Module, ::String, ::String) at ./loading.jl:1091"
     ]
    }
   ],
   "source": [
    "args_list = get_final_gvfn_params(ic_gvfn_rmsprop, \"end\")\n",
    "@save \"../final_run_params/compassworld/compassworld_gvfn_rmsprop.jld2\" args_list"
   ]
  },
  {
   "cell_type": "code",
   "execution_count": 198,
   "metadata": {},
   "outputs": [
    {
     "ename": "LoadError",
     "evalue": "\u001b[91mUndefVarError: ic_gvfn_adam not defined\u001b[39m",
     "output_type": "error",
     "traceback": [
      "\u001b[91mUndefVarError: ic_gvfn_adam not defined\u001b[39m",
      "",
      "Stacktrace:",
      " [1] top-level scope at In[198]:1",
      " [2] include_string(::Function, ::Module, ::String, ::String) at ./loading.jl:1091"
     ]
    }
   ],
   "source": [
    "args_list = get_final_gvfn_params(ic_gvfn_adam, \"end\")\n",
    "@save \"../final_run_params/compassworld/compassworld_gvfn_adam.jld2\" args_list"
   ]
  },
  {
   "cell_type": "code",
   "execution_count": 199,
   "metadata": {},
   "outputs": [
    {
     "ename": "LoadError",
     "evalue": "\u001b[91mUndefVarError: ic_gvfn not defined\u001b[39m",
     "output_type": "error",
     "traceback": [
      "\u001b[91mUndefVarError: ic_gvfn not defined\u001b[39m",
      "",
      "Stacktrace:",
      " [1] top-level scope at In[199]:1",
      " [2] include_string(::Function, ::Module, ::String, ::String) at ./loading.jl:1091"
     ]
    }
   ],
   "source": [
    "args_list = get_final_gvfn_params(ic_gvfn, \"all\")\n",
    "@save \"../final_run_params/compassworld/compassworld_gvfn_descent_all.jld2\" args_list"
   ]
  },
  {
   "cell_type": "code",
   "execution_count": 200,
   "metadata": {},
   "outputs": [
    {
     "ename": "LoadError",
     "evalue": "\u001b[91mUndefVarError: ic_gvfn_rmsprop not defined\u001b[39m",
     "output_type": "error",
     "traceback": [
      "\u001b[91mUndefVarError: ic_gvfn_rmsprop not defined\u001b[39m",
      "",
      "Stacktrace:",
      " [1] top-level scope at In[200]:1",
      " [2] include_string(::Function, ::Module, ::String, ::String) at ./loading.jl:1091"
     ]
    }
   ],
   "source": [
    "args_list = get_final_gvfn_params(ic_gvfn_rmsprop, \"all\")\n",
    "@save \"../final_run_params/compassworld/compassworld_gvfn_rmsprop_all.jld2\" args_list"
   ]
  },
  {
   "cell_type": "code",
   "execution_count": 201,
   "metadata": {},
   "outputs": [
    {
     "ename": "LoadError",
     "evalue": "\u001b[91mUndefVarError: ic_gvfn_adam not defined\u001b[39m",
     "output_type": "error",
     "traceback": [
      "\u001b[91mUndefVarError: ic_gvfn_adam not defined\u001b[39m",
      "",
      "Stacktrace:",
      " [1] top-level scope at In[201]:1",
      " [2] include_string(::Function, ::Module, ::String, ::String) at ./loading.jl:1091"
     ]
    }
   ],
   "source": [
    "args_list = get_final_gvfn_params(ic_gvfn_adam, \"all\")\n",
    "@save \"../final_run_params/compassworld/compassworld_gvfn_adam_all.jld2\" args_list"
   ]
  },
  {
   "cell_type": "markdown",
   "metadata": {},
   "source": [
    "## RNN"
   ]
  },
  {
   "cell_type": "code",
   "execution_count": 202,
   "metadata": {},
   "outputs": [
    {
     "ename": "LoadError",
     "evalue": "\u001b[91mSystemError: unable to read directory ../MountainCar/compassworld_rnn/data: No such file or directory\u001b[39m",
     "output_type": "error",
     "traceback": [
      "\u001b[91mSystemError: unable to read directory ../MountainCar/compassworld_rnn/data: No such file or directory\u001b[39m",
      "",
      "Stacktrace:",
      " [1] readdir(::String; join::Bool, sort::Bool) at ./file.jl:810",
      " [2] readdir at ./file.jl:805 [inlined]",
      " [3] ItemCollection(::String; settings_file::String, data_folder::String) at /home/matthewmcleod/.julia/packages/Reproduce/TxAhT/src/search.jl:75",
      " [4] ItemCollection(::String) at /home/matthewmcleod/.julia/packages/Reproduce/TxAhT/src/search.jl:74",
      " [5] top-level scope at In[202]:1",
      " [6] include_string(::Function, ::Module, ::String, ::String) at ./loading.jl:1091"
     ]
    }
   ],
   "source": [
    "ic_rnn = ItemCollection(joinpath(data_home, \"compassworld_rnn/data\"));\n",
    "ic_rnn_rmsprop = ItemCollection(joinpath(data_home, \"compassworld_rnn_rmsprop/data\"));\n",
    "ic_rnn_adam = ItemCollection(joinpath(data_home, \"compassworld_rnn_adam/data\"));"
   ]
  },
  {
   "cell_type": "code",
   "execution_count": 203,
   "metadata": {},
   "outputs": [
    {
     "ename": "LoadError",
     "evalue": "\u001b[91mUndefVarError: ic_rnn not defined\u001b[39m",
     "output_type": "error",
     "traceback": [
      "\u001b[91mUndefVarError: ic_rnn not defined\u001b[39m",
      "",
      "Stacktrace:",
      " [1] top-level scope at In[203]:1",
      " [2] include_string(::Function, ::Module, ::String, ::String) at ./loading.jl:1091"
     ]
    }
   ],
   "source": [
    "diff(ic_rnn)"
   ]
  },
  {
   "cell_type": "code",
   "execution_count": 204,
   "metadata": {},
   "outputs": [
    {
     "ename": "LoadError",
     "evalue": "\u001b[91mUndefVarError: ic_rnn not defined\u001b[39m",
     "output_type": "error",
     "traceback": [
      "\u001b[91mUndefVarError: ic_rnn not defined\u001b[39m",
      "",
      "Stacktrace:",
      " [1] top-level scope at In[204]:1",
      " [2] include_string(::Function, ::Module, ::String, ::String) at ./loading.jl:1091"
     ]
    }
   ],
   "source": [
    "ic_rnn_40 = search(ic_rnn, Dict(\"hidden\"=>40))\n",
    "args_list = get_final_rnn_params(ic_rnn_40, \"end\")\n",
    "@save \"../final_run_params/compassworld/compassworld_rnn_40.jld2\" args_list\n"
   ]
  },
  {
   "cell_type": "code",
   "execution_count": 205,
   "metadata": {},
   "outputs": [
    {
     "ename": "LoadError",
     "evalue": "\u001b[91mUndefVarError: ic_rnn_adam not defined\u001b[39m",
     "output_type": "error",
     "traceback": [
      "\u001b[91mUndefVarError: ic_rnn_adam not defined\u001b[39m",
      "",
      "Stacktrace:",
      " [1] top-level scope at In[205]:1",
      " [2] include_string(::Function, ::Module, ::String, ::String) at ./loading.jl:1091"
     ]
    }
   ],
   "source": [
    "ic_rnn_adam_40 = search(ic_rnn_adam, Dict(\"hidden\"=>40))\n",
    "args_list = get_final_rnn_params(ic_rnn_adam_40, \"end\")\n",
    "@save \"../final_run_params/compassworld/compassworld_rnn_adam_40.jld2\" args_list\n"
   ]
  },
  {
   "cell_type": "code",
   "execution_count": 206,
   "metadata": {},
   "outputs": [
    {
     "ename": "LoadError",
     "evalue": "\u001b[91mUndefVarError: ic_rnn not defined\u001b[39m",
     "output_type": "error",
     "traceback": [
      "\u001b[91mUndefVarError: ic_rnn not defined\u001b[39m",
      "",
      "Stacktrace:",
      " [1] top-level scope at In[206]:1",
      " [2] include_string(::Function, ::Module, ::String, ::String) at ./loading.jl:1091"
     ]
    }
   ],
   "source": [
    "ic_rnn_5 = search(ic_rnn, Dict(\"hidden\"=>5))\n",
    "args_list = get_final_rnn_params(ic_rnn_5, \"end\")\n",
    "@save \"../final_run_params/compassworld/compassworld_rnn_5.jld2\" args_list\n"
   ]
  },
  {
   "cell_type": "code",
   "execution_count": 207,
   "metadata": {},
   "outputs": [
    {
     "ename": "LoadError",
     "evalue": "\u001b[91mUndefVarError: ic_rnn_adam not defined\u001b[39m",
     "output_type": "error",
     "traceback": [
      "\u001b[91mUndefVarError: ic_rnn_adam not defined\u001b[39m",
      "",
      "Stacktrace:",
      " [1] top-level scope at In[207]:1",
      " [2] include_string(::Function, ::Module, ::String, ::String) at ./loading.jl:1091"
     ]
    }
   ],
   "source": [
    "ic_rnn_adam_5 = search(ic_rnn_adam, Dict(\"hidden\"=>5))\n",
    "args_list = get_final_rnn_params(ic_rnn_adam_5, \"end\")\n",
    "@save \"../final_run_params/compassworld/compassworld_rnn_adam_5.jld2\" args_list\n"
   ]
  },
  {
   "cell_type": "code",
   "execution_count": 208,
   "metadata": {},
   "outputs": [
    {
     "ename": "LoadError",
     "evalue": "\u001b[91mUndefVarError: ic_rnn not defined\u001b[39m",
     "output_type": "error",
     "traceback": [
      "\u001b[91mUndefVarError: ic_rnn not defined\u001b[39m",
      "",
      "Stacktrace:",
      " [1] top-level scope at In[208]:1",
      " [2] include_string(::Function, ::Module, ::String, ::String) at ./loading.jl:1091"
     ]
    }
   ],
   "source": [
    "ic_rnn_40 = search(ic_rnn, Dict(\"hidden\"=>40))\n",
    "args_list = get_final_rnn_params(ic_rnn_40, \"all\")\n",
    "@save \"../final_run_params/compassworld/compassworld_rnn_40_all.jld2\" args_list\n"
   ]
  },
  {
   "cell_type": "code",
   "execution_count": 209,
   "metadata": {},
   "outputs": [
    {
     "ename": "LoadError",
     "evalue": "\u001b[91mUndefVarError: ic_rnn_adam not defined\u001b[39m",
     "output_type": "error",
     "traceback": [
      "\u001b[91mUndefVarError: ic_rnn_adam not defined\u001b[39m",
      "",
      "Stacktrace:",
      " [1] top-level scope at In[209]:1",
      " [2] include_string(::Function, ::Module, ::String, ::String) at ./loading.jl:1091"
     ]
    }
   ],
   "source": [
    "ic_rnn_adam_40 = search(ic_rnn_adam, Dict(\"hidden\"=>40))\n",
    "args_list = get_final_rnn_params(ic_rnn_adam_40, \"all\")\n",
    "@save \"../final_run_params/compassworld/compassworld_rnn_adam_40_all.jld2\" args_list\n"
   ]
  },
  {
   "cell_type": "code",
   "execution_count": 210,
   "metadata": {},
   "outputs": [
    {
     "ename": "LoadError",
     "evalue": "\u001b[91mUndefVarError: ic_rnn not defined\u001b[39m",
     "output_type": "error",
     "traceback": [
      "\u001b[91mUndefVarError: ic_rnn not defined\u001b[39m",
      "",
      "Stacktrace:",
      " [1] top-level scope at In[210]:1",
      " [2] include_string(::Function, ::Module, ::String, ::String) at ./loading.jl:1091"
     ]
    }
   ],
   "source": [
    "ic_rnn_5 = search(ic_rnn, Dict(\"hidden\"=>5))\n",
    "args_list = get_final_rnn_params(ic_rnn_5, \"all\")\n",
    "@save \"../final_run_params/compassworld/compassworld_rnn_5_all.jld2\" args_list\n"
   ]
  },
  {
   "cell_type": "code",
   "execution_count": 211,
   "metadata": {},
   "outputs": [
    {
     "ename": "LoadError",
     "evalue": "\u001b[91mUndefVarError: ic_rnn_adam not defined\u001b[39m",
     "output_type": "error",
     "traceback": [
      "\u001b[91mUndefVarError: ic_rnn_adam not defined\u001b[39m",
      "",
      "Stacktrace:",
      " [1] top-level scope at In[211]:1",
      " [2] include_string(::Function, ::Module, ::String, ::String) at ./loading.jl:1091"
     ]
    }
   ],
   "source": [
    "ic_rnn_adam_5 = search(ic_rnn_adam, Dict(\"hidden\"=>5))\n",
    "args_list = get_final_rnn_params(ic_rnn_adam_5, \"all\")\n",
    "@save \"../final_run_params/compassworld/compassworld_rnn_adam_5_all.jld2\" args_list\n"
   ]
  },
  {
   "cell_type": "markdown",
   "metadata": {},
   "source": [
    "### AT RNNs"
   ]
  },
  {
   "cell_type": "code",
   "execution_count": 212,
   "metadata": {},
   "outputs": [
    {
     "ename": "LoadError",
     "evalue": "\u001b[91mSystemError: unable to read directory ../MountainCar/compassworld_rnn_aux_task/data: No such file or directory\u001b[39m",
     "output_type": "error",
     "traceback": [
      "\u001b[91mSystemError: unable to read directory ../MountainCar/compassworld_rnn_aux_task/data: No such file or directory\u001b[39m",
      "",
      "Stacktrace:",
      " [1] readdir(::String; join::Bool, sort::Bool) at ./file.jl:810",
      " [2] readdir at ./file.jl:805 [inlined]",
      " [3] ItemCollection(::String; settings_file::String, data_folder::String) at /home/matthewmcleod/.julia/packages/Reproduce/TxAhT/src/search.jl:75",
      " [4] ItemCollection(::String) at /home/matthewmcleod/.julia/packages/Reproduce/TxAhT/src/search.jl:74",
      " [5] top-level scope at In[212]:1",
      " [6] include_string(::Function, ::Module, ::String, ::String) at ./loading.jl:1091"
     ]
    }
   ],
   "source": [
    "ic_rnn_at = ItemCollection(joinpath(data_home, \"compassworld_rnn_aux_task/data\"));\n",
    "# ic_rnn_rmsprop = ItemCollection(joinpath(data_home, \"compassworld_rnn_rmsprop/data\"));\n",
    "ic_rnn_at_adam = ItemCollection(joinpath(data_home, \"compassworld_rnn_aux_task_adam/data\"));"
   ]
  },
  {
   "cell_type": "code",
   "execution_count": 213,
   "metadata": {},
   "outputs": [
    {
     "ename": "LoadError",
     "evalue": "\u001b[91mUndefVarError: ic_rnn_at not defined\u001b[39m",
     "output_type": "error",
     "traceback": [
      "\u001b[91mUndefVarError: ic_rnn_at not defined\u001b[39m",
      "",
      "Stacktrace:",
      " [1] top-level scope at In[213]:1",
      " [2] include_string(::Function, ::Module, ::String, ::String) at ./loading.jl:1091"
     ]
    }
   ],
   "source": [
    "args_list = get_final_rnn_at_params(ic_rnn_at, \"end\")\n",
    "@save \"../final_run_params/compassworld/compassworld_rnn_aux_task.jld2\" args_list"
   ]
  },
  {
   "cell_type": "code",
   "execution_count": 214,
   "metadata": {},
   "outputs": [
    {
     "ename": "LoadError",
     "evalue": "\u001b[91mUndefVarError: ic_rnn_at_adam not defined\u001b[39m",
     "output_type": "error",
     "traceback": [
      "\u001b[91mUndefVarError: ic_rnn_at_adam not defined\u001b[39m",
      "",
      "Stacktrace:",
      " [1] top-level scope at In[214]:1",
      " [2] include_string(::Function, ::Module, ::String, ::String) at ./loading.jl:1091"
     ]
    }
   ],
   "source": [
    "args_list = get_final_rnn_at_params(ic_rnn_at_adam, \"end\")\n",
    "@save \"../final_run_params/compassworld/compassworld_rnn_aux_task_adam.jld2\" args_list"
   ]
  },
  {
   "cell_type": "markdown",
   "metadata": {},
   "source": [
    "# Forecast Networks"
   ]
  },
  {
   "cell_type": "code",
   "execution_count": 215,
   "metadata": {},
   "outputs": [
    {
     "ename": "LoadError",
     "evalue": "\u001b[91mSystemError: unable to read directory ../MountainCar/compassworld_forecast/data: No such file or directory\u001b[39m",
     "output_type": "error",
     "traceback": [
      "\u001b[91mSystemError: unable to read directory ../MountainCar/compassworld_forecast/data: No such file or directory\u001b[39m",
      "",
      "Stacktrace:",
      " [1] readdir(::String; join::Bool, sort::Bool) at ./file.jl:810",
      " [2] readdir at ./file.jl:805 [inlined]",
      " [3] ItemCollection(::String; settings_file::String, data_folder::String) at /home/matthewmcleod/.julia/packages/Reproduce/TxAhT/src/search.jl:75",
      " [4] ItemCollection(::String) at /home/matthewmcleod/.julia/packages/Reproduce/TxAhT/src/search.jl:74",
      " [5] top-level scope at In[215]:1",
      " [6] include_string(::Function, ::Module, ::String, ::String) at ./loading.jl:1091"
     ]
    }
   ],
   "source": [
    "ic_forecast = ItemCollection(joinpath(data_home, \"compassworld_forecast/data\"));\n",
    "ic_forecast_rmsprop = ItemCollection(joinpath(data_home, \"compassworld_forecast_rmsprop/data\"));\n",
    "ic_forecast_adam = ItemCollection(joinpath(data_home, \"compassworld_forecast_adam/data\"));"
   ]
  },
  {
   "cell_type": "code",
   "execution_count": 216,
   "metadata": {},
   "outputs": [
    {
     "ename": "LoadError",
     "evalue": "\u001b[91mUndefVarError: ic_forecast_adam not defined\u001b[39m",
     "output_type": "error",
     "traceback": [
      "\u001b[91mUndefVarError: ic_forecast_adam not defined\u001b[39m",
      "",
      "Stacktrace:",
      " [1] top-level scope at In[216]:1",
      " [2] include_string(::Function, ::Module, ::String, ::String) at ./loading.jl:1091"
     ]
    }
   ],
   "source": [
    "diff(ic_forecast_adam)"
   ]
  },
  {
   "cell_type": "code",
   "execution_count": 217,
   "metadata": {},
   "outputs": [
    {
     "ename": "LoadError",
     "evalue": "\u001b[91mUndefVarError: ic_forecast not defined\u001b[39m",
     "output_type": "error",
     "traceback": [
      "\u001b[91mUndefVarError: ic_forecast not defined\u001b[39m",
      "",
      "Stacktrace:",
      " [1] top-level scope at In[217]:1",
      " [2] include_string(::Function, ::Module, ::String, ::String) at ./loading.jl:1091"
     ]
    }
   ],
   "source": [
    "ic_forecast_8 = search(ic_forecast, Dict(\"klength\"=>8))\n",
    "args_list = get_final_rnn_params(ic_forecast_8, \"end\")\n",
    "@save \"../final_run_params/compassworld/compassworld_forecast_8.jld2\" args_list"
   ]
  },
  {
   "cell_type": "code",
   "execution_count": 218,
   "metadata": {},
   "outputs": [
    {
     "ename": "LoadError",
     "evalue": "\u001b[91mUndefVarError: ic_forecast_rmsprop not defined\u001b[39m",
     "output_type": "error",
     "traceback": [
      "\u001b[91mUndefVarError: ic_forecast_rmsprop not defined\u001b[39m",
      "",
      "Stacktrace:",
      " [1] top-level scope at In[218]:1",
      " [2] include_string(::Function, ::Module, ::String, ::String) at ./loading.jl:1091"
     ]
    }
   ],
   "source": [
    "ic_forecast_rmsprop_8 = search(ic_forecast_rmsprop, Dict(\"klength\"=>8))\n",
    "args_list = get_final_rnn_params(ic_forecast_rmsprop_8, \"end\")\n",
    "@save \"../final_run_params/compassworld/compassworld_forecast_rmsprop_8.jld2\" args_list"
   ]
  },
  {
   "cell_type": "code",
   "execution_count": 219,
   "metadata": {},
   "outputs": [
    {
     "ename": "LoadError",
     "evalue": "\u001b[91mUndefVarError: ic_forecast_adam not defined\u001b[39m",
     "output_type": "error",
     "traceback": [
      "\u001b[91mUndefVarError: ic_forecast_adam not defined\u001b[39m",
      "",
      "Stacktrace:",
      " [1] top-level scope at In[219]:1",
      " [2] include_string(::Function, ::Module, ::String, ::String) at ./loading.jl:1091"
     ]
    }
   ],
   "source": [
    "ic_forecast_adam_8 = search(ic_forecast_adam, Dict(\"klength\"=>8))\n",
    "args_list = get_final_rnn_params(ic_forecast_adam_8, \"end\")\n",
    "@save \"../final_run_params/compassworld/compassworld_forecast_adam_8.jld2\" args_list"
   ]
  },
  {
   "cell_type": "code",
   "execution_count": 220,
   "metadata": {},
   "outputs": [
    {
     "ename": "LoadError",
     "evalue": "\u001b[91mUndefVarError: ic_forecast not defined\u001b[39m",
     "output_type": "error",
     "traceback": [
      "\u001b[91mUndefVarError: ic_forecast not defined\u001b[39m",
      "",
      "Stacktrace:",
      " [1] top-level scope at In[220]:1",
      " [2] include_string(::Function, ::Module, ::String, ::String) at ./loading.jl:1091"
     ]
    }
   ],
   "source": [
    "ic_forecast_8 = search(ic_forecast, Dict(\"klength\"=>8))\n",
    "args_list = get_final_rnn_params(ic_forecast_8, \"all\")\n",
    "@save \"../final_run_params/compassworld/compassworld_forecast_8_all.jld2\" args_list"
   ]
  },
  {
   "cell_type": "code",
   "execution_count": 221,
   "metadata": {},
   "outputs": [
    {
     "ename": "LoadError",
     "evalue": "\u001b[91mUndefVarError: ic_forecast_rmsprop not defined\u001b[39m",
     "output_type": "error",
     "traceback": [
      "\u001b[91mUndefVarError: ic_forecast_rmsprop not defined\u001b[39m",
      "",
      "Stacktrace:",
      " [1] top-level scope at In[221]:1",
      " [2] include_string(::Function, ::Module, ::String, ::String) at ./loading.jl:1091"
     ]
    }
   ],
   "source": [
    "ic_forecast_rmsprop_8 = search(ic_forecast_rmsprop, Dict(\"klength\"=>8))\n",
    "args_list = get_final_rnn_params(ic_forecast_rmsprop_8, \"all\")\n",
    "@save \"../final_run_params/compassworld/compassworld_forecast_rmsprop_8_all.jld2\" args_list"
   ]
  },
  {
   "cell_type": "code",
   "execution_count": 222,
   "metadata": {},
   "outputs": [
    {
     "ename": "LoadError",
     "evalue": "\u001b[91mUndefVarError: ic_forecast_adam not defined\u001b[39m",
     "output_type": "error",
     "traceback": [
      "\u001b[91mUndefVarError: ic_forecast_adam not defined\u001b[39m",
      "",
      "Stacktrace:",
      " [1] top-level scope at In[222]:1",
      " [2] include_string(::Function, ::Module, ::String, ::String) at ./loading.jl:1091"
     ]
    }
   ],
   "source": [
    "ic_forecast_adam_8 = search(ic_forecast_adam, Dict(\"klength\"=>8))\n",
    "args_list = get_final_rnn_params(ic_forecast_adam_8, \"all\")\n",
    "@save \"../final_run_params/compassworld/compassworld_forecast_adam_8_all.jld2\" args_list"
   ]
  },
  {
   "cell_type": "code",
   "execution_count": null,
   "metadata": {},
   "outputs": [],
   "source": []
  }
 ],
 "metadata": {
  "kernelspec": {
   "display_name": "Julia 1.5.3",
   "language": "julia",
   "name": "julia-1.5"
  },
  "language_info": {
   "file_extension": ".jl",
   "mimetype": "application/julia",
   "name": "julia",
   "version": "1.5.3"
  }
 },
 "nbformat": 4,
 "nbformat_minor": 4
}
