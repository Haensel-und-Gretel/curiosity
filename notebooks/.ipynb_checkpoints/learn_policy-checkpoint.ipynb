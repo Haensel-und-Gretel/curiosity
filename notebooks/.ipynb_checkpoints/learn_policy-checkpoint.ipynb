{
 "cells": [
  {
   "cell_type": "code",
   "execution_count": 18,
   "metadata": {},
   "outputs": [
    {
     "data": {
      "text/plain": [
       "Curiosity.MountainCarUtils"
      ]
     },
     "execution_count": 18,
     "metadata": {},
     "output_type": "execute_result"
    }
   ],
   "source": [
    "using Curiosity, Statistics, Plots, FileIO, BSON\n",
    "using Random, StatsBase, RollingFunctions\n",
    "using GVFHordes\n",
    "\n",
    "const MCU = Curiosity.MountainCarUtils"
   ]
  },
  {
   "cell_type": "code",
   "execution_count": 19,
   "metadata": {},
   "outputs": [],
   "source": [
    "# Cumulant\n",
    "struct Reward end\n",
    "\n",
    "(c::Reward)(;kwargs...) = kwargs[:r]\n",
    "\n",
    "struct ConstantDiscount{F}\n",
    "    val::F\n",
    "end\n",
    "   \n",
    "(d::ConstantDiscount)(;kwargs...) = d.val"
   ]
  },
  {
   "cell_type": "code",
   "execution_count": 20,
   "metadata": {},
   "outputs": [
    {
     "data": {
      "text/plain": [
       "construct_env (generic function with 1 method)"
      ]
     },
     "execution_count": 20,
     "metadata": {},
     "output_type": "execute_result"
    }
   ],
   "source": [
    "# Environment \n",
    "function construct_env()\n",
    "    normalized = true\n",
    "    env = MountainCar(0.0, 0.0, normalized)\n",
    "end\n"
   ]
  },
  {
   "cell_type": "code",
   "execution_count": 21,
   "metadata": {},
   "outputs": [
    {
     "data": {
      "text/plain": [
       "construct_agent (generic function with 1 method)"
      ]
     },
     "execution_count": 21,
     "metadata": {},
     "output_type": "execute_result"
    }
   ],
   "source": [
    "# Agent\n",
    "function construct_agent(numtilings, numtiles, lu_str, α, λ, ϵ, γ)\n",
    "    obs_size = 2\n",
    "    fc = Curiosity.SparseTileCoder(numtilings, numtiles, obs_size)\n",
    "    feature_size = size(fc)\n",
    "\n",
    "    lu = if lu_str == \"ESARSA\"\n",
    "        ESARSA(lambda=λ, opt=Curiosity.Descent(α))\n",
    "    elseif lu_str == \"SARSA\"\n",
    "        SARSA(lambda=λ, opt=Curiosity.Descent(α))\n",
    "    elseif lu_str == \"TB\"\n",
    "        TB(lambda=λ, opt=Curiosity.Descent(α))\n",
    "    else\n",
    "        throw(ArgumentError(\"$(lu_str) Not a valid behaviour learning update\"))\n",
    "    end\n",
    "#     (update, num_features, num_actions, num_demons, w_init)\n",
    "    learner = LinearQLearner(lu, feature_size, 3, 1,0)\n",
    "    exploration = EpsilonGreedy(ϵ)\n",
    "    cumulant = Reward()\n",
    "    discount = ConstantDiscount(γ)\n",
    "    \n",
    "    b_gvf = make_behaviour_gvf(learner, discount, fc, exploration)\n",
    "    b_demons = Horde([b_gvf])\n",
    "\n",
    "    Curiosity.PolicyLearner(learner, \n",
    "                            fc, \n",
    "                            exploration, \n",
    "                            discount, \n",
    "                            cumulant, \n",
    "                            zeros(2), \n",
    "                            0,\n",
    "                            b_demons)\n",
    "end"
   ]
  },
  {
   "cell_type": "code",
   "execution_count": null,
   "metadata": {},
   "outputs": [],
   "source": []
  },
  {
   "cell_type": "code",
   "execution_count": 22,
   "metadata": {},
   "outputs": [
    {
     "data": {
      "text/plain": [
       "make_behaviour_gvf (generic function with 1 method)"
      ]
     },
     "execution_count": 22,
     "metadata": {},
     "output_type": "execute_result"
    }
   ],
   "source": [
    "function make_behaviour_gvf(behaviour_learner, γ, fc, exploration_strategy)\n",
    "    function b_π(state_constructor, learner, exploration_strategy; kwargs...)\n",
    "        s = state_constructor(kwargs[:state_t])\n",
    "        preds = learner(s)\n",
    "        return exploration_strategy(preds)[kwargs[:action_t]]\n",
    "    end\n",
    "    GVF_policy = GVFParamFuncs.FunctionalPolicy((;kwargs...) -> b_π(fc, behaviour_learner, exploration_strategy; kwargs...))\n",
    "    BehaviourGVF = GVF(GVFParamFuncs.RewardCumulant(), GVFParamFuncs.ConstantDiscount(γ), GVF_policy)\n",
    "end"
   ]
  },
  {
   "cell_type": "code",
   "execution_count": 23,
   "metadata": {},
   "outputs": [
    {
     "ename": "LoadError",
     "evalue": "MethodError: no method matching GVF(::GVFHordes.GVFParamFuncs.RewardCumulant, ::ConstantDiscount{Float64}, ::GVFHordes.GVFParamFuncs.FunctionalPolicy{var\"#22#26\"{var\"#22#23#27\"{QLearner{Matrix{Float64}, TB{Flux.Optimise.Descent, AccumulatingTraces}}, TileCoder{SparseArrays.SparseVector{Int64, Ti} where Ti<:Integer}, EpsilonGreedy}}})\n\u001b[0mClosest candidates are:\n\u001b[0m  GVF(::C, \u001b[91m::D\u001b[39m, ::P) where {C<:GVFHordes.GVFParamFuncs.AbstractCumulant, D<:GVFHordes.GVFParamFuncs.AbstractDiscount, P<:GVFHordes.GVFParamFuncs.AbstractPolicy} at /home/matthewmcleod/Documents/Masters/curiosity/src/GVFHordes/src/GVFHordes.jl:70",
     "output_type": "error",
     "traceback": [
      "MethodError: no method matching GVF(::GVFHordes.GVFParamFuncs.RewardCumulant, ::ConstantDiscount{Float64}, ::GVFHordes.GVFParamFuncs.FunctionalPolicy{var\"#22#26\"{var\"#22#23#27\"{QLearner{Matrix{Float64}, TB{Flux.Optimise.Descent, AccumulatingTraces}}, TileCoder{SparseArrays.SparseVector{Int64, Ti} where Ti<:Integer}, EpsilonGreedy}}})\n\u001b[0mClosest candidates are:\n\u001b[0m  GVF(::C, \u001b[91m::D\u001b[39m, ::P) where {C<:GVFHordes.GVFParamFuncs.AbstractCumulant, D<:GVFHordes.GVFParamFuncs.AbstractDiscount, P<:GVFHordes.GVFParamFuncs.AbstractPolicy} at /home/matthewmcleod/Documents/Masters/curiosity/src/GVFHordes/src/GVFHordes.jl:70",
      "",
      "Stacktrace:",
      " [1] make_behaviour_gvf(behaviour_learner::QLearner{Matrix{Float64}, TB{Flux.Optimise.Descent, AccumulatingTraces}}, γ::ConstantDiscount{Float64}, fc::TileCoder{SparseArrays.SparseVector{Int64, Ti} where Ti<:Integer}, exploration_strategy::EpsilonGreedy)",
      "   @ Main ./In[22]:8",
      " [2] construct_agent(numtilings::Int64, numtiles::Int64, lu_str::String, α::Float64, λ::Float64, ϵ::Float64, γ::Float64)",
      "   @ Main ./In[21]:22",
      " [3] top-level scope",
      "   @ In[23]:26",
      " [4] eval",
      "   @ ./boot.jl:360 [inlined]",
      " [5] include_string(mapexpr::typeof(REPL.softscope), mod::Module, code::String, filename::String)",
      "   @ Base ./loading.jl:1094"
     ]
    }
   ],
   "source": [
    "# Learn the policy\n",
    "seed = 1029\n",
    "Random.seed!(seed)\n",
    "numtilings, numtiles = 8, 8\n",
    "lu_str = \"TB\"\n",
    "α = 0.1/numtilings\n",
    "λ = 0.9\n",
    "ϵ = 0.1\n",
    "γ = 0.99\n",
    "\n",
    "info = Dict(\n",
    "    \"seed\"=>seed,\n",
    "    \"numtilings\"=>numtilings,\n",
    "    \"numtiles\"=>numtiles,\n",
    "    \"lu\"=>\"lu_str\",\n",
    "    \"α\"=>α,\n",
    "    \"λ\"=>λ,\n",
    "    \"ϵ\"=>ϵ,\n",
    "    \"γ\"=>γ,\n",
    "    \"rew\"=>\"Env\"\n",
    ")\n",
    "\n",
    "\n",
    "env = construct_env()\n",
    "\n",
    "agent = construct_agent(numtilings, numtiles, lu_str, α, λ, ϵ, γ)\n",
    "\n",
    "steps = Int[]\n",
    "ret = Float64[]\n",
    "max_num_steps = 100000\n",
    "eps = 0\n",
    "while sum(steps) < max_num_steps\n",
    "    is_terminal = false\n",
    "\n",
    "    max_episode_steps = min(max_num_steps - sum(steps), 1000)\n",
    "    s = start!(env)\n",
    "    a = start!(agent, s)\n",
    "    stp = 0\n",
    "    a = 0\n",
    "    tr = 0.0\n",
    "    while !is_terminal && stp <= max_episode_steps\n",
    "        s, r, is_terminal = MinimalRLCore.step!(env, a)\n",
    "        println(s)\n",
    "        println(\"ERE\")\n",
    "        a = MinimalRLCore.step!(agent, s, r, is_terminal)\n",
    "        tr += r\n",
    "        stp += 1\n",
    "    end\n",
    "\n",
    "    push!(steps, stp)\n",
    "    push!(ret, tr)\n",
    "    \n",
    "    eps += 1\n",
    "end\n",
    "    \n",
    "Curiosity.save(agent, \"policy.bson\", info)"
   ]
  },
  {
   "cell_type": "code",
   "execution_count": 7,
   "metadata": {},
   "outputs": [
    {
     "ename": "LoadError",
     "evalue": "UndefVarError: ret not defined",
     "output_type": "error",
     "traceback": [
      "UndefVarError: ret not defined",
      "",
      "Stacktrace:",
      " [1] top-level scope",
      "   @ In[7]:1",
      " [2] eval",
      "   @ ./boot.jl:360 [inlined]",
      " [3] include_string(mapexpr::typeof(REPL.softscope), mod::Module, code::String, filename::String)",
      "   @ Base ./loading.jl:1094"
     ]
    }
   ],
   "source": [
    "plot(rollmean(ret, 100))"
   ]
  },
  {
   "cell_type": "code",
   "execution_count": 34,
   "metadata": {},
   "outputs": [],
   "source": [
    "# Save the policy"
   ]
  },
  {
   "cell_type": "code",
   "execution_count": 7,
   "metadata": {},
   "outputs": [],
   "source": []
  },
  {
   "cell_type": "code",
   "execution_count": null,
   "metadata": {},
   "outputs": [],
   "source": []
  }
 ],
 "metadata": {
  "kernelspec": {
   "display_name": "Julia 1.6.1",
   "language": "julia",
   "name": "julia-1.6"
  },
  "language_info": {
   "file_extension": ".jl",
   "mimetype": "application/julia",
   "name": "julia",
   "version": "1.6.1"
  }
 },
 "nbformat": 4,
 "nbformat_minor": 4
}
