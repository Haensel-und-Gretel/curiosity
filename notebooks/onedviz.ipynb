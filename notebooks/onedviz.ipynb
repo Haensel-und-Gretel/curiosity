{
 "cells": [
  {
   "cell_type": "code",
   "execution_count": 1,
   "metadata": {},
   "outputs": [
    {
     "name": "stderr",
     "output_type": "stream",
     "text": [
      "┌ Info: Precompiling Curiosity [2bc19b19-6d1e-4a51-84eb-b280a1d09685]\n",
      "└ @ Base loading.jl:1278\n",
      "WARNING: using StatsBase.predict in module Curiosity conflicts with an existing identifier.\n",
      "WARNING: using FileIO.save in module Curiosity conflicts with an existing identifier.\n"
     ]
    }
   ],
   "source": [
    "using Curiosity, Plots, PlutoUI, Statistics, Random"
   ]
  },
  {
   "cell_type": "code",
   "execution_count": 2,
   "metadata": {},
   "outputs": [
    {
     "data": {
      "text/plain": [
       "Main.OneDTmazeExperiment"
      ]
     },
     "execution_count": 2,
     "metadata": {},
     "output_type": "execute_result"
    }
   ],
   "source": [
    "include(\"../experiments/1d-tmaze.jl\")"
   ]
  },
  {
   "cell_type": "code",
   "execution_count": 3,
   "metadata": {},
   "outputs": [
    {
     "data": {
      "text/plain": [
       "Curiosity.OneDTMazeUtils"
      ]
     },
     "execution_count": 3,
     "metadata": {},
     "output_type": "execute_result"
    }
   ],
   "source": [
    "ODTMU = Curiosity.OneDTMazeUtils"
   ]
  },
  {
   "cell_type": "code",
   "execution_count": 4,
   "metadata": {},
   "outputs": [
    {
     "data": {
      "text/plain": [
       "default_args (generic function with 1 method)"
      ]
     },
     "execution_count": 4,
     "metadata": {},
     "output_type": "execute_result"
    }
   ],
   "source": [
    "default_args(ϵ) =\n",
    "Dict(\n",
    "\t\"logger_interval\" => 100,\n",
    "\n",
    "\t# Behaviour Items\n",
    "\t# \"behaviour_eta\" => 0.1/8,\n",
    "\t\"behaviour_gamma\" => 0.9,\n",
    "\t\"behaviour_learner\" => \"RoundRobin\",\n",
    "\t\"behaviour_update\" => \"ESARSA\",\n",
    "\t\"behaviour_reward_projector\" => \"base\",\n",
    "\t\"behaviour_rp_tilings\" => 1,\n",
    "\t\"behaviour_rp_tiles\" => 16,\n",
    "\t\"behaviour_trace\" => \"AccumulatingTraces\",\n",
    "\t\"behaviour_opt\" => \"Descent\",\n",
    "\t\"behaviour_lambda\" => 0.9,\n",
    "\t\"exploration_param\" => ϵ,\n",
    "\t\"exploration_strategy\" => \"epsilon_greedy\",\n",
    "\t\"ϵ_range\" => (0.4,0.1),\n",
    "\t\"decay_period\" => 5000,\n",
    "\t\"warmup_steps\" => 1000,\n",
    "\t\"behaviour_w_init\" => 10,\n",
    "\n",
    "\t# Demon Attributes\n",
    "\t\"demon_alpha_init\" => 0.1,\n",
    "\t# \"demon_eta\" => 0.1/8,\n",
    "\t\"demon_discounts\" => 0.9,\n",
    "\t\"demon_learner\" => \"Q\",\n",
    "\t\"demon_update\" => \"TB\",\n",
    "\t\"demon_policy_type\" => \"greedy_to_cumulant\",\n",
    "\t\"demon_opt\" => \"Auto\",\n",
    "\t\"demon_lambda\" => 0.9,\n",
    "\t\"demon_trace\"=> \"AccumulatingTraces\",\n",
    "\t\"demon_beta_m\" => 0.99,\n",
    "\t\"demon_beta_v\" => 0.99,\n",
    "\n",
    "\t#shared\n",
    "\t\"num_tiles\" => 2,\n",
    "\t\"num_tilings\" =>8,\n",
    "\t\"demon_rep\" => \"ideal_martha\",\n",
    "\t# \"demon_rep\" => \"tilecoding\",\n",
    "\t\"demon_num_tiles\" => 6,\n",
    "\t\"demon_num_tilings\" => 1,\n",
    "\t\"eta\" => 0.05,\n",
    "\n",
    "\t# Environment Config\n",
    "\t\"constant_target\"=> [-10.0,10.0],\n",
    "\t\"cumulant_schedule\" => \"DrifterDistractor\",\n",
    "\t\"distractor\" => (1.0, 5.0),\n",
    "\t\"drifter\" => (1.0, sqrt(0.01)),\n",
    "\t\"exploring_starts\"=>\"beg\",\n",
    "\t\"env_step_penalty\" => -0.005,\n",
    "\n",
    "\n",
    "\t# Agent and Logger\n",
    "\t\"horde_type\" => \"regular\",\n",
    "\t\"intrinsic_reward\" => \"weight_change\",\n",
    "\t# \"logger_keys\" => [LoggerKey.TTMAZE_ERROR],\n",
    "\t\"save_dir\" => \"OneDTMazeExperiment\",\n",
    "\t\"seed\" => 1,\n",
    "\t\"steps\" => 100,\n",
    "\t\"use_external_reward\" => true,\n",
    "\n",
    "\t\"logger_keys\" => [LoggerKey.ONEDTMAZEERROR, LoggerKey.ONED_GOAL_VISITATION, LoggerKey.EPISODE_LENGTH, LoggerKey.INTRINSIC_REWARD]\n",
    ")"
   ]
  },
  {
   "cell_type": "code",
   "execution_count": 7,
   "metadata": {},
   "outputs": [
    {
     "data": {
      "text/plain": [
       "OneDTMaze([0.0, 0.0], Curiosity.TMazeCumulantSchedules.Constant(1.0, 1.0, 1.0, 1.0), \"beg\", -0.05, 0.0)"
      ]
     },
     "execution_count": 7,
     "metadata": {},
     "output_type": "execute_result"
    }
   ],
   "source": [
    "env = OneDTMaze(Curiosity.TMazeCumulantSchedules.Constant(1), \"beg\",-0.05)\n",
    "\n",
    "\n"
   ]
  },
  {
   "cell_type": "code",
   "execution_count": 6,
   "metadata": {},
   "outputs": [
    {
     "ename": "LoadError",
     "evalue": "\u001b[91mcannot assign a value to variable Curiosity.OneDTMaze from module Main\u001b[39m",
     "output_type": "error",
     "traceback": [
      "\u001b[91mcannot assign a value to variable Curiosity.OneDTMaze from module Main\u001b[39m",
      "",
      "Stacktrace:",
      " [1] top-level scope at /home/matthewmcleod/.julia/packages/RecipesBase/92zOw/src/RecipesBase.jl:355",
      " [2] top-level scope at In[6]:2",
      " [3] include_string(::Function, ::Module, ::String, ::String) at ./loading.jl:1091"
     ]
    }
   ],
   "source": [
    "begin \n",
    "\t@userplot OneDTMaze\n",
    "\t@recipe function f(env::OneDTMaze)\n",
    "\t\tp = scatter(env.pos[1:1],env.pos[2:2])\n",
    "\t\tplot!([0.5,0.5],[0.0,0.8], label=\"\", color=:black)\n",
    "\t\tplot!([0.0,0.0],[0.6,1.0], label=\"\", color=:black)\n",
    "\t\tplot!([1.0,1.0],[0.6,1.0], label=\"\", color=:black)\n",
    "\t\tplot!([0.0,1.0],[0.8,0.8], label=\"\", color=:black)\n",
    "\t\treturn p\n",
    "\tend\n",
    "end\n",
    "\n",
    "begin\n",
    "\tstart!(env)\n",
    "\tplot(env)\n",
    "end"
   ]
  },
  {
   "cell_type": "code",
   "execution_count": null,
   "metadata": {},
   "outputs": [],
   "source": []
  }
 ],
 "metadata": {
  "kernelspec": {
   "display_name": "Julia 1.5.3",
   "language": "julia",
   "name": "julia-1.5"
  },
  "language_info": {
   "file_extension": ".jl",
   "mimetype": "application/julia",
   "name": "julia",
   "version": "1.5.3"
  }
 },
 "nbformat": 4,
 "nbformat_minor": 2
}
